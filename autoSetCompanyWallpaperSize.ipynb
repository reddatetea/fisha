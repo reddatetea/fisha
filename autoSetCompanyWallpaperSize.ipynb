{
 "cells": [
  {
   "cell_type": "code",
   "execution_count": 1,
   "id": "183963a8",
   "metadata": {},
   "outputs": [],
   "source": [
    "import os\n",
    "import easygui\n",
    "from PIL import Image\n",
    "from PIL import ImageColor\n",
    "from PIL import ImageFont\n",
    "from PIL import ImageDraw\n",
    "from PIL import ImageFilter\n",
    "from PIL import ImageEnhance"
   ]
  },
  {
   "cell_type": "code",
   "execution_count": 21,
   "id": "1da0d8e4",
   "metadata": {},
   "outputs": [],
   "source": [
    "def picDaoxiao(newPath,picture,newwidth=1440, newheight=1080):\n",
    "    #print('正在进行图片大小处理，请稍等')\n",
    "    ArwenIm = Image.open(picture)  # 打开文件，生成图片对象\n",
    "    width, height = ArwenIm.size  # 获得图片的宽和高\n",
    "    newsize = (int(newwidth),int(newheight))\n",
    "    sveltIm = ArwenIm.resize(newsize)  #元组输入\n",
    "    qian, hou = os.path.splitext(picture)\n",
    "    newname = '%s_%s&%s%s'%(qian, newwidth, newheight, hou)\n",
    "    newname = os.path.join(newPath,newname)\n",
    "    sveltIm.save(newname)\n",
    "    os.startfile(newname)"
   ]
  },
  {
   "cell_type": "code",
   "execution_count": 22,
   "id": "67d6dfd8",
   "metadata": {},
   "outputs": [
    {
     "name": "stdout",
     "output_type": "stream",
     "text": [
      "正在进行图片大小处理，请稍等\n"
     ]
    }
   ],
   "source": [
    "in_picture = easygui.enterbox(msg = '请输入图片文件的完整路径',title = '图片')\n",
    "in_picture = in_picture[1:-1]\n",
    "path,picture = os.path.split(in_picture)\n",
    "os.chdir(path)\n",
    "newPath = r'F:\\a00nutstore\\companyWallpaper'\n",
    "new_picture = picDaoxiao(newPath,picture)"
   ]
  },
  {
   "cell_type": "code",
   "execution_count": null,
   "id": "19f57959",
   "metadata": {},
   "outputs": [],
   "source": []
  }
 ],
 "metadata": {
  "kernelspec": {
   "display_name": "Python 3 (ipykernel)",
   "language": "python",
   "name": "python3"
  },
  "language_info": {
   "codemirror_mode": {
    "name": "ipython",
    "version": 3
   },
   "file_extension": ".py",
   "mimetype": "text/x-python",
   "name": "python",
   "nbconvert_exporter": "python",
   "pygments_lexer": "ipython3",
   "version": "3.8.3"
  }
 },
 "nbformat": 4,
 "nbformat_minor": 5
}
