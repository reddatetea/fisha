{
 "cells": [
  {
   "cell_type": "code",
   "execution_count": null,
   "metadata": {},
   "outputs": [],
   "source": [
    "import pandas as pd\n",
    "import os\n",
    "import xlsxlsx\n",
    "import excelmessage06\n",
    "import openpyxl\n",
    "import easygui\n",
    "\n",
    "\n",
    "def delchongfu(fname,in_subject,sheetname):\n",
    "    path,excelname = os.path.split(fname)\n",
    "    os.chdir(path)\n",
    "    wb = openpyxl.load_workbook(fname)\n",
    "    ws = wb['%s'%sheetname]\n",
    "    wb.close()\n",
    "\n",
    "    # 读取Excel中Sheet1中的数据\n",
    "    data = pd.DataFrame(pd.read_excel(excelname, sheetname))\n",
    "\n",
    "    # 查看读取数据内容\n",
    "    print(data)\n",
    "\n",
    "    # 查看是否有重复行\n",
    "    re_row = data.duplicated()\n",
    "    print(re_row)\n",
    "\n",
    "    # 查看去除重复行的数据,\n",
    "    no_re_row = data.drop_duplicates(subset=in_subject, keep='first',inplace=True)\n",
    "    #no_re_row = data.drop_duplicates(keep='first')\n",
    "    print(no_re_row)\n",
    "\n",
    "\n",
    "    # 查看基于[科目编码]列去除重复行的数据\n",
    "    #wp = data.drop_duplicates()\n",
    "    # wp = data.drop_duplicates(['科目编码'])\n",
    "    #print(wp)\n",
    "\n",
    "    # 将去除重复行的数据输出到excel表中\n",
    "    duplicated_name = fname[:-5] + '过滤重复行' + '.xlsx'\n",
    "    #inplace=True ***************************************\n",
    "    data.to_excel(\"%s\" % duplicated_name)\n",
    "    #inplace=False,默认，那就是下面的代码！**************\n",
    "    #no_re_row.to_excel(\"%s\" % duplicated_name)\n",
    "    return duplicated_name\n",
    "\n",
    "\n",
    "def main():\n",
    "    print('请选择要删除重复数据的excel文件:')\n",
    "    fname = excelmessage06.excelMessage()\n",
    "    dirname, excelname = os.path.split(fname)\n",
    "    os.chdir(dirname)\n",
    "    wb = openpyxl.load_workbook(fname)\n",
    "    sheetnames = wb.sheetnames\n",
    "    print('请选择工作表')\n",
    "    sheetname = easygui.buttonbox(msg='请选择工作表', title='数据去重工作表', choices=sheetnames)\n",
    "    in_subject = ['公司', '开票日期', '入库单号','品名', '数量(令)', '计算重量','仓库材料']\n",
    "    #in_subject = ['日期', '单据号', '供货单位', '品名', '单位', '入库数量', '入库单价', '入库金额', 'cwName', 'priceName', '期间', '送货日期', '白云期间','令数', '吨数', '令价', '吨价']\n",
    "\n",
    "    delchongfu(fname,in_subject,sheetname)\n",
    "\n",
    "\n",
    "if __name__ == '__main__':\n",
    "    main()"
   ]
  },
  {
   "cell_type": "code",
   "execution_count": null,
   "metadata": {},
   "outputs": [],
   "source": [
    "import pandas as pd\n",
    "import os\n",
    "import xlwings as xw\n",
    "\n",
    "fname = r'f:\\a00nutstore\\fishc\\原材料实时流水账.xlsx'\n",
    "in_subject=['日期', '单据号', '供货单位', '品名', '单位', '入库数量', '入库单价', '入库金额', 'cwName', 'priceName', '期间', '送货日期', '白云期间',\n",
    "                    '令数', '吨数', '令价', '吨价']\n",
    "\n",
    "app = xw.App(visible = False,add_book = False)\n",
    "\n",
    "wb= app.books.open(fname)\n",
    "sheetname = '流水账'\n",
    "ws= wb.sheets[sheetname]\n",
    "\n",
    "data = pd.DataFrame(pd.read_excel(fname, sheetname))\n",
    "data.drop_duplicates(subset=in_subject, keep='first',inplace=True)\n",
    "data = data.set_index('日期')\n",
    "#data.to_excel(fname,sheetname,index=False)\n",
    "ws.clear()\n",
    "ws.range('A1').value = data\n",
    "\n",
    "wb.save()\n",
    "\n",
    "wb.close()\n",
    "app.quit()"
   ]
  },
  {
   "cell_type": "code",
   "execution_count": null,
   "metadata": {},
   "outputs": [],
   "source": [
    ""
   ]
  },
  {
   "cell_type": "code",
   "execution_count": null,
   "metadata": {},
   "outputs": [],
   "source": [
    ""
   ]
  }
 ],
 "metadata": {
  "kernelspec": {
   "display_name": "Python 3",
   "language": "python",
   "name": "python3"
  },
  "language_info": {
   "codemirror_mode": {
    "name": "ipython",
    "version": 3.0
   },
   "file_extension": ".py",
   "mimetype": "text/x-python",
   "name": "python",
   "nbconvert_exporter": "python",
   "pygments_lexer": "ipython3",
   "version": "3.8.3"
  }
 },
 "nbformat": 4,
 "nbformat_minor": 0
}