{
 "cells": [
  {
   "cell_type": "code",
   "execution_count": 1,
   "id": "783ce3e0",
   "metadata": {},
   "outputs": [],
   "source": [
    "import os\n",
    "import pandas as pd\n",
    "import openpyxl"
   ]
  },
  {
   "cell_type": "code",
   "execution_count": 16,
   "id": "17bda5b6",
   "metadata": {},
   "outputs": [],
   "source": [
    "import openpyxl\n",
    "wb = openpyxl.load_workbook(r'F:\\repos\\fish\\Chapter-12-7-1.xlsx')\n",
    "ws0 = wb['业绩表']\n",
    "if \"汇总结果\" not in wb.sheetnames:\n",
    "    ws1 = wb.create_sheet(\"汇总结果\")\n",
    "else :\n",
    "    wb.remove(wb[ \"汇总结果\"])\n",
    "    ws1 = wb.create_sheet(\"汇总结果\")\n",
    "ws1.append(['部门','总业绩','最高业绩','最低业绩','计数'])\n",
    "dic = {}\n",
    "for row in list(ws0.values)[1:]:\n",
    "    if row[0] not in dic:\n",
    "        dic[row[0]]= row[2:]\n",
    "    else :\n",
    "        dic[row[0]]+= row[2:]   #dic[row[0]].extend(row[2:])\n",
    "for key,value in dic.items():\n",
    "    ws1.append([key,sum(value),max(value),min(value),len(value)])\n",
    "wb.save(r'F:\\repos\\fish\\Chapter-12-7-1.xlsx')\n",
    "os.startfile(fname)\n",
    "\n",
    "\n",
    "\n"
   ]
  },
  {
   "cell_type": "code",
   "execution_count": null,
   "id": "8945edbf",
   "metadata": {},
   "outputs": [],
   "source": []
  }
 ],
 "metadata": {
  "kernelspec": {
   "display_name": "Python 3 (ipykernel)",
   "language": "python",
   "name": "python3"
  },
  "language_info": {
   "codemirror_mode": {
    "name": "ipython",
    "version": 3
   },
   "file_extension": ".py",
   "mimetype": "text/x-python",
   "name": "python",
   "nbconvert_exporter": "python",
   "pygments_lexer": "ipython3",
   "version": "3.9.13"
  }
 },
 "nbformat": 4,
 "nbformat_minor": 5
}
