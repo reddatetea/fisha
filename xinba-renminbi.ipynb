{
 "cells": [
  {
   "cell_type": "code",
   "execution_count": 1,
   "id": "72244473-cb9c-417e-ac89-b12920ba8ffc",
   "metadata": {
    "tags": []
   },
   "outputs": [],
   "source": [
    "# https://github.com/Sandwych/rmb_converter\n",
    "from io import StringIO\n",
    "import math\n",
    "\n",
    "_RMB_DIGITS = ['零', '壹', '贰', '叁', '肆', '伍', '陆', '柒', '捌', '玖' ]\n",
    "_SECTION_CHARS = ['', '拾', '佰', '仟', '万' ]\n",
    "\n",
    "def to_rmb_upper(price):\n",
    "    price = round(price, 2)\n",
    "    integer_part = int(price)\n",
    "    wanyi_part = integer_part // 1000000000000\n",
    "    yi_part = integer_part % 1000000000000 // 100000000\n",
    "    wan_part = integer_part % 100000000 // 10000\n",
    "    qian_part = integer_part % 10000\n",
    "    dec_part = int(round(price * 100 % 100))\n",
    "\n",
    "    strio = StringIO()\n",
    "\n",
    "    zero_count = 0\n",
    "    #处理万亿以上的部分\n",
    "    if integer_part >= 1000000000000 and wanyi_part > 0:\n",
    "        zero_count = _parse_integer(strio, wanyi_part, zero_count, True)\n",
    "        strio.write('万')\n",
    "\n",
    "    #处理亿到千亿的部分\n",
    "    if integer_part >= 100000000 and yi_part > 0:\n",
    "        is_first_section = integer_part >= 100000000 and integer_part < 1000000000000 \n",
    "        zero_count = _parse_integer(strio, yi_part, zero_count, is_first_section)\n",
    "        strio.write('亿')\n",
    "\n",
    "    #处理万的部分\n",
    "    if integer_part >= 10000 and wan_part > 0:\n",
    "        is_first_section = integer_part >= 1000 and integer_part < 10000000 \n",
    "        zero_count = _parse_integer(strio, wan_part, zero_count, is_first_section)\n",
    "        strio.write('万')\n",
    "\n",
    "    #处理千及以后的部分\n",
    "    if qian_part > 0:\n",
    "        is_first_section = integer_part < 1000\n",
    "        zero_count = _parse_integer(strio, qian_part, zero_count, is_first_section)\n",
    "    else:\n",
    "        zero_count += 1\n",
    "    if integer_part > 0:\n",
    "        strio.write('元')\n",
    "\n",
    "    #处理小数\n",
    "    if dec_part > 0: \n",
    "        _parse_decimal(strio, integer_part, dec_part, zero_count)\n",
    "    elif dec_part == 0 and integer_part > 0:\n",
    "        strio.write('整')\n",
    "    else:\n",
    "        strio.write('零元整')\n",
    "\n",
    "    return strio.getvalue()\n",
    "\n",
    "def _parse_integer(strio, value, zero_count = 0, is_first_section = False):\n",
    "    assert value > 0 and value <= 9999\n",
    "    ndigits = int(math.floor(math.log10(value))) + 1\n",
    "    if value < 1000 and not is_first_section:\n",
    "        zero_count += 1\n",
    "    for i in range(0, ndigits):\n",
    "        factor = int(pow(10, ndigits - 1 - i))\n",
    "        digit = int(value / factor)\n",
    "        if digit != 0:\n",
    "            if zero_count > 0:\n",
    "                strio.write('零')\n",
    "            strio.write(_RMB_DIGITS[digit])\n",
    "            strio.write(_SECTION_CHARS[ndigits - i - 1])\n",
    "            zero_count = 0\n",
    "        else:\n",
    "            zero_count += 1\n",
    "        value -= value // factor * factor\n",
    "    return zero_count\n",
    "\n",
    "def _parse_decimal(strio, integer_part, value, zero_count):\n",
    "    assert value > 0 and value <= 99\n",
    "    jiao = value // 10\n",
    "    fen = value % 10\n",
    "    if zero_count > 0 and (jiao > 0 or fen > 0) and integer_part > 0:\n",
    "        strio.write('零')\n",
    "    if jiao > 0:\n",
    "        strio.write(_RMB_DIGITS[jiao])\n",
    "        strio.write('角')\n",
    "    if zero_count == 0 and jiao == 0 and fen > 0 and integer_part > 0:\n",
    "        strio.write('零')\n",
    "    if fen > 0:\n",
    "        strio.write(_RMB_DIGITS[fen])\n",
    "        strio.write('分')\n",
    "    else:\n",
    "        strio.write('整')"
   ]
  },
  {
   "cell_type": "code",
   "execution_count": 2,
   "id": "3009779c-a0e7-467b-8906-1dadf62bd08b",
   "metadata": {
    "tags": []
   },
   "outputs": [
    {
     "data": {
      "text/plain": [
       "'壹拾壹元壹角壹分'"
      ]
     },
     "execution_count": 2,
     "metadata": {},
     "output_type": "execute_result"
    }
   ],
   "source": [
    "to_rmb_upper(11.11)"
   ]
  },
  {
   "cell_type": "code",
   "execution_count": 3,
   "id": "7739c4c3-2047-45b8-bea7-5610f2c0b356",
   "metadata": {
    "tags": []
   },
   "outputs": [
    {
     "data": {
      "text/plain": [
       "'零元整'"
      ]
     },
     "execution_count": 3,
     "metadata": {},
     "output_type": "execute_result"
    }
   ],
   "source": [
    "to_rmb_upper(0.001)"
   ]
  },
  {
   "cell_type": "code",
   "execution_count": 4,
   "id": "2703e1d2-dcde-4aca-bb41-98749519a38b",
   "metadata": {
    "tags": []
   },
   "outputs": [
    {
     "data": {
      "text/plain": [
       "'壹分'"
      ]
     },
     "execution_count": 4,
     "metadata": {},
     "output_type": "execute_result"
    }
   ],
   "source": [
    "to_rmb_upper(0.01)"
   ]
  },
  {
   "cell_type": "code",
   "execution_count": 5,
   "id": "8ed15e5e-1554-448e-9ee2-1f1a41843201",
   "metadata": {
    "tags": []
   },
   "outputs": [
    {
     "data": {
      "text/plain": [
       "'壹万零壹元整'"
      ]
     },
     "execution_count": 5,
     "metadata": {},
     "output_type": "execute_result"
    }
   ],
   "source": [
    "to_rmb_upper(10001)"
   ]
  },
  {
   "cell_type": "code",
   "execution_count": 6,
   "id": "227a0655-3673-4bd4-8f26-75022fafed2f",
   "metadata": {
    "tags": []
   },
   "outputs": [
    {
     "data": {
      "text/plain": [
       "'玖拾玖元玖角玖分'"
      ]
     },
     "execution_count": 6,
     "metadata": {},
     "output_type": "execute_result"
    }
   ],
   "source": [
    "to_rmb_upper(99.99)"
   ]
  },
  {
   "cell_type": "code",
   "execution_count": 7,
   "id": "7675be05",
   "metadata": {},
   "outputs": [
    {
     "data": {
      "text/plain": [
       "'伍仟伍佰伍拾捌万捌仟捌佰捌拾伍亿伍仟伍佰伍拾伍万伍仟陆佰元整'"
      ]
     },
     "execution_count": 7,
     "metadata": {},
     "output_type": "execute_result"
    }
   ],
   "source": [
    "to_rmb_upper(5558888555555599.99)"
   ]
  },
  {
   "cell_type": "code",
   "execution_count": null,
   "id": "435cde80",
   "metadata": {},
   "outputs": [],
   "source": []
  }
 ],
 "metadata": {
  "kernelspec": {
   "display_name": "Python 3 (ipykernel)",
   "language": "python",
   "name": "python3"
  },
  "language_info": {
   "codemirror_mode": {
    "name": "ipython",
    "version": 3
   },
   "file_extension": ".py",
   "mimetype": "text/x-python",
   "name": "python",
   "nbconvert_exporter": "python",
   "pygments_lexer": "ipython3",
   "version": "3.9.13"
  }
 },
 "nbformat": 4,
 "nbformat_minor": 5
}
