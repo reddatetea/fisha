{
 "cells": [
  {
   "cell_type": "code",
   "execution_count": 1,
   "id": "c85d79d1-f46d-4001-af90-e94625297c37",
   "metadata": {},
   "outputs": [
    {
     "name": "stdout",
     "output_type": "stream",
     "text": [
      "函数 example_function 于 Sat Jan 20 14:09:50 2024 开始执行...\n",
      "函数执行结束！\n",
      "函数 example_function 于 Sat Jan 20 14:09:52 2024 执行完毕！\n"
     ]
    },
    {
     "data": {
      "text/plain": [
       "'\\n函数 example_function 于 Mon Jan  8 20:01:00 2024 开始执行...\\n函数执行结束！\\n函数 example_function 于 Mon Jan  8 20:01:02 2024 执行完毕！\\n'"
      ]
     },
     "execution_count": 1,
     "metadata": {},
     "output_type": "execute_result"
    }
   ],
   "source": [
    "from datetime import datetime\n",
    "import time\n",
    "\n",
    "def log_execution_time(func):\n",
    "    def wrapper(*args, **kwargs):\n",
    "        start_time = datetime.now()\n",
    "        print(f\"函数 {func.__name__} 于 {start_time.ctime()} 开始执行...\")\n",
    "\n",
    "        result = func(*args, **kwargs)\n",
    "\n",
    "        end_time = datetime.now()\n",
    "        print(f\"函数 {func.__name__} 于 {end_time.ctime()} 执行完毕！\")\n",
    "        return result\n",
    "\n",
    "    return wrapper\n",
    "\n",
    "# 示例用法\n",
    "@log_execution_time\n",
    "def example_function():\n",
    "    # 模拟一些耗时操作\n",
    "    time.sleep(2)\n",
    "    print('函数执行结束！')\n",
    "\n",
    "# 调用被装饰的函数\n",
    "example_function()\n",
    "'''\n",
    "函数 example_function 于 Mon Jan  8 20:01:00 2024 开始执行...\n",
    "函数执行结束！\n",
    "函数 example_function 于 Mon Jan  8 20:01:02 2024 执行完毕！\n",
    "'''"
   ]
  },
  {
   "cell_type": "code",
   "execution_count": null,
   "id": "39b64f33-cfd3-45e0-9eb5-38df9664581c",
   "metadata": {},
   "outputs": [],
   "source": []
  }
 ],
 "metadata": {
  "kernelspec": {
   "display_name": "Python 3 (ipykernel)",
   "language": "python",
   "name": "python3"
  },
  "language_info": {
   "codemirror_mode": {
    "name": "ipython",
    "version": 3
   },
   "file_extension": ".py",
   "mimetype": "text/x-python",
   "name": "python",
   "nbconvert_exporter": "python",
   "pygments_lexer": "ipython3",
   "version": "3.11.5"
  }
 },
 "nbformat": 4,
 "nbformat_minor": 5
}
