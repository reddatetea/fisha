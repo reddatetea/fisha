{
 "cells": [
  {
   "cell_type": "code",
   "execution_count": 9,
   "id": "8ced91d8",
   "metadata": {},
   "outputs": [],
   "source": [
    "'''\n",
    " <Python全案例学习与实践>\n",
    " 方法的属性化演示\n",
    " 本例改编自网络上的一份资料\n",
    " 沈红卫\n",
    " 绍兴文理学院 机械与电气工程学院\n",
    " 2018年4月23日\n",
    " 核心提示：\n",
    " @property对应的是getter方法（如width方法）——读方法\n",
    " 那么@width.setter对应的是setter方法——写方法\n",
    " 如果只有读方法，那么方法就变成了只读属性\n",
    "'''\n",
    "#1 定义类Screen\n",
    "#11 它有两个由方法转化而成的属性width、heigth\n",
    "#12 它还有一个只读属性resolution（也是由方法转化而成的）\n",
    "class Screen(object):\n",
    "    @property\n",
    "    def width(self):         #getter方法\n",
    "      return self.__width\n",
    "\n",
    "    @width.setter\n",
    "    def width(self, valuer):     #setter方法\n",
    "      if not isinstance(valuer, int):  #判断设置值是否为整型\n",
    "          raise ValueError('宽度必须是整数')\n",
    "      if valuer < 0 :\n",
    "          raise ValueError('宽度不能小于0')\n",
    "      self.__width=valuer\n",
    "\n",
    "    @property\n",
    "    def height(self) :\n",
    "      return self.__height\n",
    "    @height.setter\n",
    "    def height(self, number):\n",
    "        if not isinstance(number,int):\n",
    "            raise ValueError('高度必须是整数')\n",
    "        if number < 0 :\n",
    "            raise ValueError('宽度不能小于0')        \n",
    "            \n",
    "        self.__height = number\n",
    "\n",
    "    @property\n",
    "    def resolution(self):      #getter方法\n",
    "        return self.__width * self.__height        #书中self._width * self._height单下划线有误\n",
    "\n"
   ]
  },
  {
   "cell_type": "code",
   "execution_count": 10,
   "id": "3fa5a46c",
   "metadata": {},
   "outputs": [
    {
     "name": "stdout",
     "output_type": "stream",
     "text": [
      "当前设置：1024*768\n",
      "786432\n"
     ]
    }
   ],
   "source": [
    "#2 类的使用举例\n",
    "if __name__=='__main__':\n",
    "    s=Screen()         #创建实例\n",
    "    s.width=1024      #属性化设置宽度\n",
    "    s.height=768       #属性化设置高度\n",
    "    print('当前设置：{}*{}'.format(s.width, s.height)) #读\n",
    "    print(s.resolution) #显示屏幕分辨率（通过只读方法）"
   ]
  },
  {
   "cell_type": "code",
   "execution_count": null,
   "id": "e0cf1138",
   "metadata": {},
   "outputs": [],
   "source": []
  }
 ],
 "metadata": {
  "celltoolbar": "原始单元格格式",
  "kernelspec": {
   "display_name": "Python 3 (ipykernel)",
   "language": "python",
   "name": "python3"
  },
  "language_info": {
   "codemirror_mode": {
    "name": "ipython",
    "version": 3
   },
   "file_extension": ".py",
   "mimetype": "text/x-python",
   "name": "python",
   "nbconvert_exporter": "python",
   "pygments_lexer": "ipython3",
   "version": "3.9.13"
  }
 },
 "nbformat": 4,
 "nbformat_minor": 5
}
