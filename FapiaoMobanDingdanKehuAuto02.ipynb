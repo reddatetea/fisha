{
 "cells": [
  {
   "cell_type": "code",
   "execution_count": 1,
   "id": "a6ffe7e6-36a1-4d08-a31b-d19d34ff3e0c",
   "metadata": {},
   "outputs": [],
   "source": [
    "'''\n",
    "tcloud中用销售订单生成税局发票模板\n",
    "1. 分别按每个销售订单汇总，再按存货编码汇总，批量生成发票模板，存于同一文件夹下\n",
    "2. 分别按每个客户汇总，再按存货编码汇总，批量生成发票模板，存于同一文件夹下\n",
    "3. 选择税率\n",
    "全部自动生成\n",
    "\n",
    "\n",
    "'''\n",
    "import os\n",
    "import re\n",
    "import easygui\n",
    "import openpyxl\n",
    "import numpy as np\n",
    "import pandas as pd\n",
    "import shutil"
   ]
  },
  {
   "cell_type": "code",
   "execution_count": 2,
   "id": "e9b9ca65-24cd-4e12-9b65-199d10aa9387",
   "metadata": {},
   "outputs": [],
   "source": [
    "def getPivot(df):\n",
    "    bianba_fenlei = dict(zip(df['存货编码'],df['存货分类']))\n",
    "    bianba_mingchen = dict(zip(df['存货编码'],df['存货名称']))\n",
    "    bianba_daima = dict(zip(df['存货编码'],df['存货代码']))\n",
    "    bianba_hanlian = dict(zip(df['存货编码'],df['件含量']))\n",
    "    pivot = df.pivot_table(index = '存货编码',values = ['数量','数量（件）','含税金额'] ,aggfunc = 'sum')\n",
    "    pivot = pivot.reset_index()\n",
    "    pivot = pivot.assign(fenlei = pivot['存货编码'].map(bianba_fenlei))\n",
    "    pivot = pivot.assign(mingchen = pivot['存货编码'].map(bianba_mingchen))\n",
    "    pivot = pivot.assign(daima = pivot['存货编码'].map(bianba_daima))\n",
    "    pivot = pivot.assign(hanliang = pivot['存货编码'].map(bianba_hanlian))\n",
    "    dic = dict(zip(['fenlei','mingchen','daima','hanliang'],['存货分类','存货名称','存货代码','件含量']))\n",
    "    pivot = pivot.rename(columns =  dic)\n",
    "    guige_qian = []\n",
    "    guige_hou = []\n",
    "    for i in pivot['存货名称'].to_list():\n",
    "        qian0,hou0 = guige(i)\n",
    "        guige_qian.append(qian0)\n",
    "        guige_hou.append(hou0)\n",
    "    pivot = pivot.assign(qian = guige_qian)\n",
    "    pivot = pivot.assign(hou = guige_hou)\n",
    "    return pivot\n",
    "\n",
    "def getFapiaoBen(d,shuilu,shuliang_fangsi):\n",
    "    \n",
    "    d['项目名称'] = d['存货编码'] +  d['hou']\n",
    "    d['项目名称'] = d['项目名称'].str.replace('运费-','运费')\n",
    "    # d['项目名称'] = d['项目名称'].str.split('-').str[0]\n",
    "    d['商品和服务税收分类编码'] = '1060202010000000000'\n",
    "    d['规格型号'] = d['qian']\n",
    "    if shuliang_fangsi == '本数':\n",
    "        d['单位'] = '本'\n",
    "        d['商品数量'] = d['数量']\n",
    "    else :\n",
    "        d['单位'] = '件'\n",
    "        d['商品数量'] = d['数量（件）']\n",
    "        \n",
    "    d['商品单价'] = ''\n",
    "    d['金额'] = d['含税金额']\n",
    "    d['税率'] = shuilu\n",
    "    d['折扣金额'] = ''\n",
    "    d['优惠政策类型'] = ''\n",
    "    d = d[['项目名称',\n",
    "     '商品和服务税收分类编码',\n",
    "     '规格型号',\n",
    "     '单位',\n",
    "     '商品数量',\n",
    "     '商品单价',\n",
    "     '金额',\n",
    "     '税率',\n",
    "     '折扣金额',\n",
    "     '优惠政策类型',]]\n",
    "    return d\n",
    "\n",
    "def getFapiaoMoban(gongsi,shuliang_fangsi):\n",
    "    filename=''.join(['发票模板-',shuliang_fangsi,'-',gongsi,'.xlsx'])\n",
    "    newname = os.path.join(path1,filename)\n",
    "    shutil.copyfile(fname_fapiao, newname)\n",
    "    return newname\n",
    "\n",
    "def getFapiaoMobanDingdanhao(gongsi,shuliang_fangsi,dingdanhao):\n",
    "    filename=''.join(['发票模板-',gongsi,'-',shuliang_fangsi,'-',dingdanhao,'.xlsx'])\n",
    "    newname = os.path.join(path1,filename)\n",
    "    shutil.copyfile(fname_fapiao, newname)\n",
    "    return newname\n",
    "\n",
    "def fengefu(string):\n",
    "    num = len(string.split('-'))\n",
    "    if num  == 3 :\n",
    "        string = '-'.join([string.split('-')[0],string.split('-')[1]])\n",
    "    elif num == 2 :\n",
    "        if len(string.split('-')[0]) <= 4:\n",
    "            string = string\n",
    "        else :\n",
    "            string = string.split('-')[0]\n",
    "    else :\n",
    "        string = string\n",
    "    return string\n",
    "\n",
    "def guige(string):\n",
    "    if ('型' in string) and ('页' in string):\n",
    "        qian0 = string.split('型')[0] + '型'\n",
    "        hou0 =  string.split('型')[1] \n",
    "    elif ('型' in string) or ('页' in string):\n",
    "        if '型' in string :\n",
    "            qian0 = string.split('型')[0] + '型'\n",
    "            hou0 =  string.split('型')[1] \n",
    "        else :\n",
    "            qian0 = string.split('页')[0] + '页'\n",
    "            hou0 =  string.split('页')[1] \n",
    "    else :\n",
    "        qian0 = ''\n",
    "        hou0 = ''\n",
    "    return qian0,hou0    \n",
    "            \n",
    "    \n",
    "    "
   ]
  },
  {
   "cell_type": "code",
   "execution_count": 3,
   "id": "432bc23f-fb7f-4d0b-a263-dfd9cbc759b7",
   "metadata": {},
   "outputs": [],
   "source": [
    "path = r'F:\\a00nutstore\\008\\zw08\\莱新订单20241029'\n",
    "os.chdir(path)\n",
    "#莱新销售订单超5000条，不能一次导出，分三次导出，并分别存于同一文件下，先将它们合并\n",
    "data = []\n",
    "for i in os.listdir(path):\n",
    "    if  os.path.isfile(i):\n",
    "        i = os.path.join(path,i)\n",
    "        df = pd.read_excel(i)\n",
    "        data.append(df)\n",
    "    else :\n",
    "        continue\n",
    "   \n",
    "\n",
    "df_xiaoshou0 = pd.concat(data)\n",
    "df_xiaoshou1 = df_xiaoshou0.loc[df_xiaoshou0['单据执行状态'] != '合计']\n",
    "lst1 = ['单据编号',\n",
    "  '单据日期',\n",
    " '含税总金额',\n",
    " '存货名称',\n",
    " '存货分类',\n",
    " '存货编码',\n",
    "  '存货代码',\n",
    "  '数量',\n",
    "  '件含量',\n",
    " '数量（件）',\n",
    "  '含税单价',\n",
    " '含税金额',\n",
    "        '客户']\n",
    "df_xiaoshou2 = df_xiaoshou1[lst1]\n",
    "df_xiaoshou3 = df_xiaoshou2.copy()\n",
    "s = []\n",
    "for i in df_xiaoshou2['存货编码'].to_list():\n",
    "    j = fengefu(i)\n",
    "    s.append(j)\n",
    "df_xiaoshou3['存货编码'] = s"
   ]
  },
  {
   "cell_type": "code",
   "execution_count": 29,
   "id": "442152d2-6d10-4e28-84ab-0dd116b192ab",
   "metadata": {},
   "outputs": [],
   "source": [
    "#对存货编码进一步处理，账本类变为账本+存货名称按'k'分列后的后面部分\n",
    "def chuliZhangben(str1,str2):\n",
    "    try:\n",
    "        str1 = int(str1)\n",
    "    except:\n",
    "        str1 = str1\n",
    "    if isinstance(str1,int):\n",
    "        if 'K' in str2:\n",
    "            qian,hou = str2.split('K')\n",
    "        elif 'k' in str2:\n",
    "            qian,hou = str2.split('k')\n",
    "        else :\n",
    "            qian = ''\n",
    "            hou = str2\n",
    "            \n",
    "        str1 = str(str1) + hou\n",
    "        str2 = str2\n",
    "    else:\n",
    "        str1 = str1\n",
    "        str2 = str2\n",
    "    newbianma = str1\n",
    "    return newbianma\n",
    "newbianmas = []\n",
    "for index,row in dff.iterrows():\n",
    "    bianma = row['存货编码']\n",
    "    name = row['存货名称']\n",
    "    newbianma = chuliZhangben(bianma,name)\n",
    "    newbianmas.append(newbianma)\n",
    "df_xiaoshou3['存货编码'] = newbianmas"
   ]
  },
  {
   "cell_type": "code",
   "execution_count": null,
   "id": "a2a370c3-b6c3-4b0a-9a4d-d6a8851c1b2d",
   "metadata": {},
   "outputs": [],
   "source": []
  },
  {
   "cell_type": "code",
   "execution_count": 30,
   "id": "09bd583f-676c-4b51-b363-bcbd158cc6df",
   "metadata": {},
   "outputs": [],
   "source": [
    "#选择税率\n",
    "shuilu = easygui.choicebox(msg = '请选择税率',choices = [0.13,0.01,0.02])\n",
    "shuilu  = float(shuilu)\n",
    "#选择数量的开具方式，件数or本数\n",
    "shuliang_fangsi = easygui.choicebox(msg = '请选择数量开具方式',choices = ['件数','本数'])\n",
    "# #选择发票开具方式\n",
    "# fapiao_fangsi = easygui.choicebox(msg = '请选择发票开具方式',choices = ['按客户和存货编码','按销售订单和存货编码','按客户汇总'])"
   ]
  },
  {
   "cell_type": "code",
   "execution_count": 31,
   "id": "df0bcd1c-144f-49b0-9f78-275c734be3d4",
   "metadata": {},
   "outputs": [
    {
     "data": {
      "text/html": [
       "<div>\n",
       "<style scoped>\n",
       "    .dataframe tbody tr th:only-of-type {\n",
       "        vertical-align: middle;\n",
       "    }\n",
       "\n",
       "    .dataframe tbody tr th {\n",
       "        vertical-align: top;\n",
       "    }\n",
       "\n",
       "    .dataframe thead th {\n",
       "        text-align: right;\n",
       "    }\n",
       "</style>\n",
       "<table border=\"1\" class=\"dataframe\">\n",
       "  <thead>\n",
       "    <tr style=\"text-align: right;\">\n",
       "      <th></th>\n",
       "      <th>项目名称</th>\n",
       "      <th>商品和服务税收分类编码</th>\n",
       "      <th>规格型号</th>\n",
       "      <th>单位</th>\n",
       "      <th>商品数量</th>\n",
       "      <th>商品单价</th>\n",
       "      <th>金额</th>\n",
       "      <th>税率</th>\n",
       "      <th>折扣金额</th>\n",
       "      <th>优惠政策类型</th>\n",
       "    </tr>\n",
       "  </thead>\n",
       "  <tbody>\n",
       "  </tbody>\n",
       "</table>\n",
       "</div>"
      ],
      "text/plain": [
       "Empty DataFrame\n",
       "Columns: [项目名称, 商品和服务税收分类编码, 规格型号, 单位, 商品数量, 商品单价, 金额, 税率, 折扣金额, 优惠政策类型]\n",
       "Index: []"
      ]
     },
     "execution_count": 31,
     "metadata": {},
     "output_type": "execute_result"
    }
   ],
   "source": [
    "#读取发票模板\n",
    "fname_fapiao = r\"F:\\repos\\fish\\发票模板.xlsx\"\n",
    "df_fapiao = pd.read_excel(fname_fapiao,header = 2,dtype = {'商品和服务税收分类编码':'str'})\n",
    "df_fapiao"
   ]
  },
  {
   "cell_type": "code",
   "execution_count": 32,
   "id": "2d7deff6-da50-4dc9-a55e-99ef17b2f58f",
   "metadata": {},
   "outputs": [
    {
     "name": "stderr",
     "output_type": "stream",
     "text": [
      "C:\\Users\\redda\\AppData\\Roaming\\Python\\Python311\\site-packages\\openpyxl\\worksheet\\_reader.py:329: UserWarning: Data Validation extension is not supported and will be removed\n",
      "  warn(msg)\n",
      "C:\\Users\\redda\\AppData\\Roaming\\Python\\Python311\\site-packages\\openpyxl\\worksheet\\_reader.py:329: UserWarning: Data Validation extension is not supported and will be removed\n",
      "  warn(msg)\n",
      "C:\\Users\\redda\\AppData\\Roaming\\Python\\Python311\\site-packages\\openpyxl\\worksheet\\_reader.py:329: UserWarning: Data Validation extension is not supported and will be removed\n",
      "  warn(msg)\n",
      "C:\\Users\\redda\\AppData\\Roaming\\Python\\Python311\\site-packages\\openpyxl\\worksheet\\_reader.py:329: UserWarning: Data Validation extension is not supported and will be removed\n",
      "  warn(msg)\n",
      "C:\\Users\\redda\\AppData\\Roaming\\Python\\Python311\\site-packages\\openpyxl\\worksheet\\_reader.py:329: UserWarning: Data Validation extension is not supported and will be removed\n",
      "  warn(msg)\n",
      "C:\\Users\\redda\\AppData\\Roaming\\Python\\Python311\\site-packages\\openpyxl\\worksheet\\_reader.py:329: UserWarning: Data Validation extension is not supported and will be removed\n",
      "  warn(msg)\n",
      "C:\\Users\\redda\\AppData\\Roaming\\Python\\Python311\\site-packages\\openpyxl\\worksheet\\_reader.py:329: UserWarning: Data Validation extension is not supported and will be removed\n",
      "  warn(msg)\n",
      "C:\\Users\\redda\\AppData\\Roaming\\Python\\Python311\\site-packages\\openpyxl\\worksheet\\_reader.py:329: UserWarning: Data Validation extension is not supported and will be removed\n",
      "  warn(msg)\n",
      "C:\\Users\\redda\\AppData\\Roaming\\Python\\Python311\\site-packages\\openpyxl\\worksheet\\_reader.py:329: UserWarning: Data Validation extension is not supported and will be removed\n",
      "  warn(msg)\n",
      "C:\\Users\\redda\\AppData\\Roaming\\Python\\Python311\\site-packages\\openpyxl\\worksheet\\_reader.py:329: UserWarning: Data Validation extension is not supported and will be removed\n",
      "  warn(msg)\n",
      "C:\\Users\\redda\\AppData\\Roaming\\Python\\Python311\\site-packages\\openpyxl\\worksheet\\_reader.py:329: UserWarning: Data Validation extension is not supported and will be removed\n",
      "  warn(msg)\n",
      "C:\\Users\\redda\\AppData\\Roaming\\Python\\Python311\\site-packages\\openpyxl\\worksheet\\_reader.py:329: UserWarning: Data Validation extension is not supported and will be removed\n",
      "  warn(msg)\n",
      "C:\\Users\\redda\\AppData\\Roaming\\Python\\Python311\\site-packages\\openpyxl\\worksheet\\_reader.py:329: UserWarning: Data Validation extension is not supported and will be removed\n",
      "  warn(msg)\n",
      "C:\\Users\\redda\\AppData\\Roaming\\Python\\Python311\\site-packages\\openpyxl\\worksheet\\_reader.py:329: UserWarning: Data Validation extension is not supported and will be removed\n",
      "  warn(msg)\n",
      "C:\\Users\\redda\\AppData\\Roaming\\Python\\Python311\\site-packages\\openpyxl\\worksheet\\_reader.py:329: UserWarning: Data Validation extension is not supported and will be removed\n",
      "  warn(msg)\n",
      "C:\\Users\\redda\\AppData\\Roaming\\Python\\Python311\\site-packages\\openpyxl\\worksheet\\_reader.py:329: UserWarning: Data Validation extension is not supported and will be removed\n",
      "  warn(msg)\n",
      "C:\\Users\\redda\\AppData\\Roaming\\Python\\Python311\\site-packages\\openpyxl\\worksheet\\_reader.py:329: UserWarning: Data Validation extension is not supported and will be removed\n",
      "  warn(msg)\n",
      "C:\\Users\\redda\\AppData\\Roaming\\Python\\Python311\\site-packages\\openpyxl\\worksheet\\_reader.py:329: UserWarning: Data Validation extension is not supported and will be removed\n",
      "  warn(msg)\n",
      "C:\\Users\\redda\\AppData\\Roaming\\Python\\Python311\\site-packages\\openpyxl\\worksheet\\_reader.py:329: UserWarning: Data Validation extension is not supported and will be removed\n",
      "  warn(msg)\n",
      "C:\\Users\\redda\\AppData\\Roaming\\Python\\Python311\\site-packages\\openpyxl\\worksheet\\_reader.py:329: UserWarning: Data Validation extension is not supported and will be removed\n",
      "  warn(msg)\n",
      "C:\\Users\\redda\\AppData\\Roaming\\Python\\Python311\\site-packages\\openpyxl\\worksheet\\_reader.py:329: UserWarning: Data Validation extension is not supported and will be removed\n",
      "  warn(msg)\n",
      "C:\\Users\\redda\\AppData\\Roaming\\Python\\Python311\\site-packages\\openpyxl\\worksheet\\_reader.py:329: UserWarning: Data Validation extension is not supported and will be removed\n",
      "  warn(msg)\n",
      "C:\\Users\\redda\\AppData\\Roaming\\Python\\Python311\\site-packages\\openpyxl\\worksheet\\_reader.py:329: UserWarning: Data Validation extension is not supported and will be removed\n",
      "  warn(msg)\n",
      "C:\\Users\\redda\\AppData\\Roaming\\Python\\Python311\\site-packages\\openpyxl\\worksheet\\_reader.py:329: UserWarning: Data Validation extension is not supported and will be removed\n",
      "  warn(msg)\n",
      "C:\\Users\\redda\\AppData\\Roaming\\Python\\Python311\\site-packages\\openpyxl\\worksheet\\_reader.py:329: UserWarning: Data Validation extension is not supported and will be removed\n",
      "  warn(msg)\n",
      "C:\\Users\\redda\\AppData\\Roaming\\Python\\Python311\\site-packages\\openpyxl\\worksheet\\_reader.py:329: UserWarning: Data Validation extension is not supported and will be removed\n",
      "  warn(msg)\n",
      "C:\\Users\\redda\\AppData\\Roaming\\Python\\Python311\\site-packages\\openpyxl\\worksheet\\_reader.py:329: UserWarning: Data Validation extension is not supported and will be removed\n",
      "  warn(msg)\n",
      "C:\\Users\\redda\\AppData\\Roaming\\Python\\Python311\\site-packages\\openpyxl\\worksheet\\_reader.py:329: UserWarning: Data Validation extension is not supported and will be removed\n",
      "  warn(msg)\n",
      "C:\\Users\\redda\\AppData\\Roaming\\Python\\Python311\\site-packages\\openpyxl\\worksheet\\_reader.py:329: UserWarning: Data Validation extension is not supported and will be removed\n",
      "  warn(msg)\n",
      "C:\\Users\\redda\\AppData\\Roaming\\Python\\Python311\\site-packages\\openpyxl\\worksheet\\_reader.py:329: UserWarning: Data Validation extension is not supported and will be removed\n",
      "  warn(msg)\n",
      "C:\\Users\\redda\\AppData\\Roaming\\Python\\Python311\\site-packages\\openpyxl\\worksheet\\_reader.py:329: UserWarning: Data Validation extension is not supported and will be removed\n",
      "  warn(msg)\n",
      "C:\\Users\\redda\\AppData\\Roaming\\Python\\Python311\\site-packages\\openpyxl\\worksheet\\_reader.py:329: UserWarning: Data Validation extension is not supported and will be removed\n",
      "  warn(msg)\n",
      "C:\\Users\\redda\\AppData\\Roaming\\Python\\Python311\\site-packages\\openpyxl\\worksheet\\_reader.py:329: UserWarning: Data Validation extension is not supported and will be removed\n",
      "  warn(msg)\n",
      "C:\\Users\\redda\\AppData\\Roaming\\Python\\Python311\\site-packages\\openpyxl\\worksheet\\_reader.py:329: UserWarning: Data Validation extension is not supported and will be removed\n",
      "  warn(msg)\n",
      "C:\\Users\\redda\\AppData\\Roaming\\Python\\Python311\\site-packages\\openpyxl\\worksheet\\_reader.py:329: UserWarning: Data Validation extension is not supported and will be removed\n",
      "  warn(msg)\n",
      "C:\\Users\\redda\\AppData\\Roaming\\Python\\Python311\\site-packages\\openpyxl\\worksheet\\_reader.py:329: UserWarning: Data Validation extension is not supported and will be removed\n",
      "  warn(msg)\n",
      "C:\\Users\\redda\\AppData\\Roaming\\Python\\Python311\\site-packages\\openpyxl\\worksheet\\_reader.py:329: UserWarning: Data Validation extension is not supported and will be removed\n",
      "  warn(msg)\n",
      "C:\\Users\\redda\\AppData\\Roaming\\Python\\Python311\\site-packages\\openpyxl\\worksheet\\_reader.py:329: UserWarning: Data Validation extension is not supported and will be removed\n",
      "  warn(msg)\n",
      "C:\\Users\\redda\\AppData\\Roaming\\Python\\Python311\\site-packages\\openpyxl\\worksheet\\_reader.py:329: UserWarning: Data Validation extension is not supported and will be removed\n",
      "  warn(msg)\n",
      "C:\\Users\\redda\\AppData\\Roaming\\Python\\Python311\\site-packages\\openpyxl\\worksheet\\_reader.py:329: UserWarning: Data Validation extension is not supported and will be removed\n",
      "  warn(msg)\n",
      "C:\\Users\\redda\\AppData\\Roaming\\Python\\Python311\\site-packages\\openpyxl\\worksheet\\_reader.py:329: UserWarning: Data Validation extension is not supported and will be removed\n",
      "  warn(msg)\n",
      "C:\\Users\\redda\\AppData\\Roaming\\Python\\Python311\\site-packages\\openpyxl\\worksheet\\_reader.py:329: UserWarning: Data Validation extension is not supported and will be removed\n",
      "  warn(msg)\n",
      "C:\\Users\\redda\\AppData\\Roaming\\Python\\Python311\\site-packages\\openpyxl\\worksheet\\_reader.py:329: UserWarning: Data Validation extension is not supported and will be removed\n",
      "  warn(msg)\n",
      "C:\\Users\\redda\\AppData\\Roaming\\Python\\Python311\\site-packages\\openpyxl\\worksheet\\_reader.py:329: UserWarning: Data Validation extension is not supported and will be removed\n",
      "  warn(msg)\n",
      "C:\\Users\\redda\\AppData\\Roaming\\Python\\Python311\\site-packages\\openpyxl\\worksheet\\_reader.py:329: UserWarning: Data Validation extension is not supported and will be removed\n",
      "  warn(msg)\n",
      "C:\\Users\\redda\\AppData\\Roaming\\Python\\Python311\\site-packages\\openpyxl\\worksheet\\_reader.py:329: UserWarning: Data Validation extension is not supported and will be removed\n",
      "  warn(msg)\n",
      "C:\\Users\\redda\\AppData\\Roaming\\Python\\Python311\\site-packages\\openpyxl\\worksheet\\_reader.py:329: UserWarning: Data Validation extension is not supported and will be removed\n",
      "  warn(msg)\n",
      "C:\\Users\\redda\\AppData\\Roaming\\Python\\Python311\\site-packages\\openpyxl\\worksheet\\_reader.py:329: UserWarning: Data Validation extension is not supported and will be removed\n",
      "  warn(msg)\n",
      "C:\\Users\\redda\\AppData\\Roaming\\Python\\Python311\\site-packages\\openpyxl\\worksheet\\_reader.py:329: UserWarning: Data Validation extension is not supported and will be removed\n",
      "  warn(msg)\n",
      "C:\\Users\\redda\\AppData\\Roaming\\Python\\Python311\\site-packages\\openpyxl\\worksheet\\_reader.py:329: UserWarning: Data Validation extension is not supported and will be removed\n",
      "  warn(msg)\n",
      "C:\\Users\\redda\\AppData\\Roaming\\Python\\Python311\\site-packages\\openpyxl\\worksheet\\_reader.py:329: UserWarning: Data Validation extension is not supported and will be removed\n",
      "  warn(msg)\n",
      "C:\\Users\\redda\\AppData\\Roaming\\Python\\Python311\\site-packages\\openpyxl\\worksheet\\_reader.py:329: UserWarning: Data Validation extension is not supported and will be removed\n",
      "  warn(msg)\n",
      "C:\\Users\\redda\\AppData\\Roaming\\Python\\Python311\\site-packages\\openpyxl\\worksheet\\_reader.py:329: UserWarning: Data Validation extension is not supported and will be removed\n",
      "  warn(msg)\n",
      "C:\\Users\\redda\\AppData\\Roaming\\Python\\Python311\\site-packages\\openpyxl\\worksheet\\_reader.py:329: UserWarning: Data Validation extension is not supported and will be removed\n",
      "  warn(msg)\n",
      "C:\\Users\\redda\\AppData\\Roaming\\Python\\Python311\\site-packages\\openpyxl\\worksheet\\_reader.py:329: UserWarning: Data Validation extension is not supported and will be removed\n",
      "  warn(msg)\n",
      "C:\\Users\\redda\\AppData\\Roaming\\Python\\Python311\\site-packages\\openpyxl\\worksheet\\_reader.py:329: UserWarning: Data Validation extension is not supported and will be removed\n",
      "  warn(msg)\n",
      "C:\\Users\\redda\\AppData\\Roaming\\Python\\Python311\\site-packages\\openpyxl\\worksheet\\_reader.py:329: UserWarning: Data Validation extension is not supported and will be removed\n",
      "  warn(msg)\n",
      "C:\\Users\\redda\\AppData\\Roaming\\Python\\Python311\\site-packages\\openpyxl\\worksheet\\_reader.py:329: UserWarning: Data Validation extension is not supported and will be removed\n",
      "  warn(msg)\n",
      "C:\\Users\\redda\\AppData\\Roaming\\Python\\Python311\\site-packages\\openpyxl\\worksheet\\_reader.py:329: UserWarning: Data Validation extension is not supported and will be removed\n",
      "  warn(msg)\n",
      "C:\\Users\\redda\\AppData\\Roaming\\Python\\Python311\\site-packages\\openpyxl\\worksheet\\_reader.py:329: UserWarning: Data Validation extension is not supported and will be removed\n",
      "  warn(msg)\n",
      "C:\\Users\\redda\\AppData\\Roaming\\Python\\Python311\\site-packages\\openpyxl\\worksheet\\_reader.py:329: UserWarning: Data Validation extension is not supported and will be removed\n",
      "  warn(msg)\n",
      "C:\\Users\\redda\\AppData\\Roaming\\Python\\Python311\\site-packages\\openpyxl\\worksheet\\_reader.py:329: UserWarning: Data Validation extension is not supported and will be removed\n",
      "  warn(msg)\n",
      "C:\\Users\\redda\\AppData\\Roaming\\Python\\Python311\\site-packages\\openpyxl\\worksheet\\_reader.py:329: UserWarning: Data Validation extension is not supported and will be removed\n",
      "  warn(msg)\n",
      "C:\\Users\\redda\\AppData\\Roaming\\Python\\Python311\\site-packages\\openpyxl\\worksheet\\_reader.py:329: UserWarning: Data Validation extension is not supported and will be removed\n",
      "  warn(msg)\n",
      "C:\\Users\\redda\\AppData\\Roaming\\Python\\Python311\\site-packages\\openpyxl\\worksheet\\_reader.py:329: UserWarning: Data Validation extension is not supported and will be removed\n",
      "  warn(msg)\n",
      "C:\\Users\\redda\\AppData\\Roaming\\Python\\Python311\\site-packages\\openpyxl\\worksheet\\_reader.py:329: UserWarning: Data Validation extension is not supported and will be removed\n",
      "  warn(msg)\n",
      "C:\\Users\\redda\\AppData\\Roaming\\Python\\Python311\\site-packages\\openpyxl\\worksheet\\_reader.py:329: UserWarning: Data Validation extension is not supported and will be removed\n",
      "  warn(msg)\n",
      "C:\\Users\\redda\\AppData\\Roaming\\Python\\Python311\\site-packages\\openpyxl\\worksheet\\_reader.py:329: UserWarning: Data Validation extension is not supported and will be removed\n",
      "  warn(msg)\n",
      "C:\\Users\\redda\\AppData\\Roaming\\Python\\Python311\\site-packages\\openpyxl\\worksheet\\_reader.py:329: UserWarning: Data Validation extension is not supported and will be removed\n",
      "  warn(msg)\n",
      "C:\\Users\\redda\\AppData\\Roaming\\Python\\Python311\\site-packages\\openpyxl\\worksheet\\_reader.py:329: UserWarning: Data Validation extension is not supported and will be removed\n",
      "  warn(msg)\n",
      "C:\\Users\\redda\\AppData\\Roaming\\Python\\Python311\\site-packages\\openpyxl\\worksheet\\_reader.py:329: UserWarning: Data Validation extension is not supported and will be removed\n",
      "  warn(msg)\n",
      "C:\\Users\\redda\\AppData\\Roaming\\Python\\Python311\\site-packages\\openpyxl\\worksheet\\_reader.py:329: UserWarning: Data Validation extension is not supported and will be removed\n",
      "  warn(msg)\n",
      "C:\\Users\\redda\\AppData\\Roaming\\Python\\Python311\\site-packages\\openpyxl\\worksheet\\_reader.py:329: UserWarning: Data Validation extension is not supported and will be removed\n",
      "  warn(msg)\n",
      "C:\\Users\\redda\\AppData\\Roaming\\Python\\Python311\\site-packages\\openpyxl\\worksheet\\_reader.py:329: UserWarning: Data Validation extension is not supported and will be removed\n",
      "  warn(msg)\n",
      "C:\\Users\\redda\\AppData\\Roaming\\Python\\Python311\\site-packages\\openpyxl\\worksheet\\_reader.py:329: UserWarning: Data Validation extension is not supported and will be removed\n",
      "  warn(msg)\n",
      "C:\\Users\\redda\\AppData\\Roaming\\Python\\Python311\\site-packages\\openpyxl\\worksheet\\_reader.py:329: UserWarning: Data Validation extension is not supported and will be removed\n",
      "  warn(msg)\n",
      "C:\\Users\\redda\\AppData\\Roaming\\Python\\Python311\\site-packages\\openpyxl\\worksheet\\_reader.py:329: UserWarning: Data Validation extension is not supported and will be removed\n",
      "  warn(msg)\n",
      "C:\\Users\\redda\\AppData\\Roaming\\Python\\Python311\\site-packages\\openpyxl\\worksheet\\_reader.py:329: UserWarning: Data Validation extension is not supported and will be removed\n",
      "  warn(msg)\n",
      "C:\\Users\\redda\\AppData\\Roaming\\Python\\Python311\\site-packages\\openpyxl\\worksheet\\_reader.py:329: UserWarning: Data Validation extension is not supported and will be removed\n",
      "  warn(msg)\n",
      "C:\\Users\\redda\\AppData\\Roaming\\Python\\Python311\\site-packages\\openpyxl\\worksheet\\_reader.py:329: UserWarning: Data Validation extension is not supported and will be removed\n",
      "  warn(msg)\n",
      "C:\\Users\\redda\\AppData\\Roaming\\Python\\Python311\\site-packages\\openpyxl\\worksheet\\_reader.py:329: UserWarning: Data Validation extension is not supported and will be removed\n",
      "  warn(msg)\n",
      "C:\\Users\\redda\\AppData\\Roaming\\Python\\Python311\\site-packages\\openpyxl\\worksheet\\_reader.py:329: UserWarning: Data Validation extension is not supported and will be removed\n",
      "  warn(msg)\n",
      "C:\\Users\\redda\\AppData\\Roaming\\Python\\Python311\\site-packages\\openpyxl\\worksheet\\_reader.py:329: UserWarning: Data Validation extension is not supported and will be removed\n",
      "  warn(msg)\n",
      "C:\\Users\\redda\\AppData\\Roaming\\Python\\Python311\\site-packages\\openpyxl\\worksheet\\_reader.py:329: UserWarning: Data Validation extension is not supported and will be removed\n",
      "  warn(msg)\n",
      "C:\\Users\\redda\\AppData\\Roaming\\Python\\Python311\\site-packages\\openpyxl\\worksheet\\_reader.py:329: UserWarning: Data Validation extension is not supported and will be removed\n",
      "  warn(msg)\n",
      "C:\\Users\\redda\\AppData\\Roaming\\Python\\Python311\\site-packages\\openpyxl\\worksheet\\_reader.py:329: UserWarning: Data Validation extension is not supported and will be removed\n",
      "  warn(msg)\n",
      "C:\\Users\\redda\\AppData\\Roaming\\Python\\Python311\\site-packages\\openpyxl\\worksheet\\_reader.py:329: UserWarning: Data Validation extension is not supported and will be removed\n",
      "  warn(msg)\n",
      "C:\\Users\\redda\\AppData\\Roaming\\Python\\Python311\\site-packages\\openpyxl\\worksheet\\_reader.py:329: UserWarning: Data Validation extension is not supported and will be removed\n",
      "  warn(msg)\n",
      "C:\\Users\\redda\\AppData\\Roaming\\Python\\Python311\\site-packages\\openpyxl\\worksheet\\_reader.py:329: UserWarning: Data Validation extension is not supported and will be removed\n",
      "  warn(msg)\n",
      "C:\\Users\\redda\\AppData\\Roaming\\Python\\Python311\\site-packages\\openpyxl\\worksheet\\_reader.py:329: UserWarning: Data Validation extension is not supported and will be removed\n",
      "  warn(msg)\n",
      "C:\\Users\\redda\\AppData\\Roaming\\Python\\Python311\\site-packages\\openpyxl\\worksheet\\_reader.py:329: UserWarning: Data Validation extension is not supported and will be removed\n",
      "  warn(msg)\n",
      "C:\\Users\\redda\\AppData\\Roaming\\Python\\Python311\\site-packages\\openpyxl\\worksheet\\_reader.py:329: UserWarning: Data Validation extension is not supported and will be removed\n",
      "  warn(msg)\n",
      "C:\\Users\\redda\\AppData\\Roaming\\Python\\Python311\\site-packages\\openpyxl\\worksheet\\_reader.py:329: UserWarning: Data Validation extension is not supported and will be removed\n",
      "  warn(msg)\n",
      "C:\\Users\\redda\\AppData\\Roaming\\Python\\Python311\\site-packages\\openpyxl\\worksheet\\_reader.py:329: UserWarning: Data Validation extension is not supported and will be removed\n",
      "  warn(msg)\n",
      "C:\\Users\\redda\\AppData\\Roaming\\Python\\Python311\\site-packages\\openpyxl\\worksheet\\_reader.py:329: UserWarning: Data Validation extension is not supported and will be removed\n",
      "  warn(msg)\n",
      "C:\\Users\\redda\\AppData\\Roaming\\Python\\Python311\\site-packages\\openpyxl\\worksheet\\_reader.py:329: UserWarning: Data Validation extension is not supported and will be removed\n",
      "  warn(msg)\n",
      "C:\\Users\\redda\\AppData\\Roaming\\Python\\Python311\\site-packages\\openpyxl\\worksheet\\_reader.py:329: UserWarning: Data Validation extension is not supported and will be removed\n",
      "  warn(msg)\n",
      "C:\\Users\\redda\\AppData\\Roaming\\Python\\Python311\\site-packages\\openpyxl\\worksheet\\_reader.py:329: UserWarning: Data Validation extension is not supported and will be removed\n",
      "  warn(msg)\n",
      "C:\\Users\\redda\\AppData\\Roaming\\Python\\Python311\\site-packages\\openpyxl\\worksheet\\_reader.py:329: UserWarning: Data Validation extension is not supported and will be removed\n",
      "  warn(msg)\n",
      "C:\\Users\\redda\\AppData\\Roaming\\Python\\Python311\\site-packages\\openpyxl\\worksheet\\_reader.py:329: UserWarning: Data Validation extension is not supported and will be removed\n",
      "  warn(msg)\n",
      "C:\\Users\\redda\\AppData\\Roaming\\Python\\Python311\\site-packages\\openpyxl\\worksheet\\_reader.py:329: UserWarning: Data Validation extension is not supported and will be removed\n",
      "  warn(msg)\n",
      "C:\\Users\\redda\\AppData\\Roaming\\Python\\Python311\\site-packages\\openpyxl\\worksheet\\_reader.py:329: UserWarning: Data Validation extension is not supported and will be removed\n",
      "  warn(msg)\n",
      "C:\\Users\\redda\\AppData\\Roaming\\Python\\Python311\\site-packages\\openpyxl\\worksheet\\_reader.py:329: UserWarning: Data Validation extension is not supported and will be removed\n",
      "  warn(msg)\n",
      "C:\\Users\\redda\\AppData\\Roaming\\Python\\Python311\\site-packages\\openpyxl\\worksheet\\_reader.py:329: UserWarning: Data Validation extension is not supported and will be removed\n",
      "  warn(msg)\n"
     ]
    },
    {
     "name": "stdout",
     "output_type": "stream",
     "text": [
      "F:\\a00nutstore\\008\\zw08\\莱新订单20241029\\发票模板-按销售订单和存货编码-件数\\发票模板-河南抬头喜办公用品有限公司S-SO-2024-02-1182-件数.xlsx\n"
     ]
    },
    {
     "name": "stderr",
     "output_type": "stream",
     "text": [
      "C:\\Users\\redda\\AppData\\Roaming\\Python\\Python311\\site-packages\\openpyxl\\worksheet\\_reader.py:329: UserWarning: Data Validation extension is not supported and will be removed\n",
      "  warn(msg)\n"
     ]
    },
    {
     "name": "stdout",
     "output_type": "stream",
     "text": [
      "F:\\a00nutstore\\008\\zw08\\莱新订单20241029\\发票模板-按销售订单和存货编码-件数\\发票模板-武汉开先文化用品有限责任公司-SO-2024-02-1184-件数.xlsx\n"
     ]
    },
    {
     "name": "stderr",
     "output_type": "stream",
     "text": [
      "C:\\Users\\redda\\AppData\\Roaming\\Python\\Python311\\site-packages\\openpyxl\\worksheet\\_reader.py:329: UserWarning: Data Validation extension is not supported and will be removed\n",
      "  warn(msg)\n",
      "C:\\Users\\redda\\AppData\\Roaming\\Python\\Python311\\site-packages\\openpyxl\\worksheet\\_reader.py:329: UserWarning: Data Validation extension is not supported and will be removed\n",
      "  warn(msg)\n"
     ]
    },
    {
     "name": "stdout",
     "output_type": "stream",
     "text": [
      "F:\\a00nutstore\\008\\zw08\\莱新订单20241029\\发票模板-按销售订单和存货编码-件数\\发票模板-武汉乐得电子商务有限公司L-SO-2024-02-1185-件数.xlsx\n",
      "F:\\a00nutstore\\008\\zw08\\莱新订单20241029\\发票模板-按销售订单和存货编码-件数\\发票模板-武汉今日成纸业有限公司-SO-2024-02-1186-件数.xlsx\n"
     ]
    },
    {
     "name": "stderr",
     "output_type": "stream",
     "text": [
      "C:\\Users\\redda\\AppData\\Roaming\\Python\\Python311\\site-packages\\openpyxl\\worksheet\\_reader.py:329: UserWarning: Data Validation extension is not supported and will be removed\n",
      "  warn(msg)\n"
     ]
    },
    {
     "name": "stdout",
     "output_type": "stream",
     "text": [
      "F:\\a00nutstore\\008\\zw08\\莱新订单20241029\\发票模板-按销售订单和存货编码-件数\\发票模板-武汉静静舒文体用品有限公司-SO-2024-02-1187-件数.xlsx\n"
     ]
    },
    {
     "name": "stderr",
     "output_type": "stream",
     "text": [
      "C:\\Users\\redda\\AppData\\Roaming\\Python\\Python311\\site-packages\\openpyxl\\worksheet\\_reader.py:329: UserWarning: Data Validation extension is not supported and will be removed\n",
      "  warn(msg)\n",
      "C:\\Users\\redda\\AppData\\Roaming\\Python\\Python311\\site-packages\\openpyxl\\worksheet\\_reader.py:329: UserWarning: Data Validation extension is not supported and will be removed\n",
      "  warn(msg)\n"
     ]
    },
    {
     "name": "stdout",
     "output_type": "stream",
     "text": [
      "F:\\a00nutstore\\008\\zw08\\莱新订单20241029\\发票模板-按销售订单和存货编码-件数\\发票模板-湖北昇耀商贸有限公司-SO-2024-02-1188-件数.xlsx\n",
      "F:\\a00nutstore\\008\\zw08\\莱新订单20241029\\发票模板-按销售订单和存货编码-件数\\发票模板-武汉市众缘商贸有限责任公司-SO-2024-02-1189-件数.xlsx\n"
     ]
    },
    {
     "name": "stderr",
     "output_type": "stream",
     "text": [
      "C:\\Users\\redda\\AppData\\Roaming\\Python\\Python311\\site-packages\\openpyxl\\worksheet\\_reader.py:329: UserWarning: Data Validation extension is not supported and will be removed\n",
      "  warn(msg)\n",
      "C:\\Users\\redda\\AppData\\Roaming\\Python\\Python311\\site-packages\\openpyxl\\worksheet\\_reader.py:329: UserWarning: Data Validation extension is not supported and will be removed\n",
      "  warn(msg)\n"
     ]
    },
    {
     "name": "stdout",
     "output_type": "stream",
     "text": [
      "F:\\a00nutstore\\008\\zw08\\莱新订单20241029\\发票模板-按销售订单和存货编码-件数\\发票模板-武汉乐得电子商务有限公司L-SO-2024-02-1190-件数.xlsx\n",
      "F:\\a00nutstore\\008\\zw08\\莱新订单20241029\\发票模板-按销售订单和存货编码-件数\\发票模板-武汉金宸翰办公用品有限公司-SO-2024-02-1191-件数.xlsx\n",
      "F:\\a00nutstore\\008\\zw08\\莱新订单20241029\\发票模板-按销售订单和存货编码-件数\\发票模板-武汉市齐达利商贸有限公司-SO-2024-02-1192-件数.xlsx\n"
     ]
    },
    {
     "name": "stderr",
     "output_type": "stream",
     "text": [
      "C:\\Users\\redda\\AppData\\Roaming\\Python\\Python311\\site-packages\\openpyxl\\worksheet\\_reader.py:329: UserWarning: Data Validation extension is not supported and will be removed\n",
      "  warn(msg)\n",
      "C:\\Users\\redda\\AppData\\Roaming\\Python\\Python311\\site-packages\\openpyxl\\worksheet\\_reader.py:329: UserWarning: Data Validation extension is not supported and will be removed\n",
      "  warn(msg)\n"
     ]
    },
    {
     "name": "stdout",
     "output_type": "stream",
     "text": [
      "F:\\a00nutstore\\008\\zw08\\莱新订单20241029\\发票模板-按销售订单和存货编码-件数\\发票模板-武汉金宸翰办公用品有限公司1-SO-2024-02-1193-件数.xlsx\n",
      "F:\\a00nutstore\\008\\zw08\\莱新订单20241029\\发票模板-按销售订单和存货编码-件数\\发票模板-湖北昇耀商贸有限公司-SO-2024-02-1194-件数.xlsx\n"
     ]
    },
    {
     "name": "stderr",
     "output_type": "stream",
     "text": [
      "C:\\Users\\redda\\AppData\\Roaming\\Python\\Python311\\site-packages\\openpyxl\\worksheet\\_reader.py:329: UserWarning: Data Validation extension is not supported and will be removed\n",
      "  warn(msg)\n",
      "C:\\Users\\redda\\AppData\\Roaming\\Python\\Python311\\site-packages\\openpyxl\\worksheet\\_reader.py:329: UserWarning: Data Validation extension is not supported and will be removed\n",
      "  warn(msg)\n"
     ]
    },
    {
     "name": "stdout",
     "output_type": "stream",
     "text": [
      "F:\\a00nutstore\\008\\zw08\\莱新订单20241029\\发票模板-按销售订单和存货编码-件数\\发票模板-河南抬头喜办公用品有限公司S-SO-2024-02-1195-件数.xlsx\n"
     ]
    },
    {
     "name": "stderr",
     "output_type": "stream",
     "text": [
      "C:\\Users\\redda\\AppData\\Roaming\\Python\\Python311\\site-packages\\openpyxl\\worksheet\\_reader.py:329: UserWarning: Data Validation extension is not supported and will be removed\n",
      "  warn(msg)\n",
      "C:\\Users\\redda\\AppData\\Roaming\\Python\\Python311\\site-packages\\openpyxl\\worksheet\\_reader.py:329: UserWarning: Data Validation extension is not supported and will be removed\n",
      "  warn(msg)\n"
     ]
    },
    {
     "name": "stdout",
     "output_type": "stream",
     "text": [
      "F:\\a00nutstore\\008\\zw08\\莱新订单20241029\\发票模板-按销售订单和存货编码-件数\\发票模板-龙岩连卫中-SO-2024-02-1199-件数.xlsx\n",
      "F:\\a00nutstore\\008\\zw08\\莱新订单20241029\\发票模板-按销售订单和存货编码-件数\\发票模板-成都乐尚怡智商贸有限公司-SO-2024-02-1200-件数.xlsx\n"
     ]
    },
    {
     "name": "stderr",
     "output_type": "stream",
     "text": [
      "C:\\Users\\redda\\AppData\\Roaming\\Python\\Python311\\site-packages\\openpyxl\\worksheet\\_reader.py:329: UserWarning: Data Validation extension is not supported and will be removed\n",
      "  warn(msg)\n",
      "C:\\Users\\redda\\AppData\\Roaming\\Python\\Python311\\site-packages\\openpyxl\\worksheet\\_reader.py:329: UserWarning: Data Validation extension is not supported and will be removed\n",
      "  warn(msg)\n"
     ]
    },
    {
     "name": "stdout",
     "output_type": "stream",
     "text": [
      "F:\\a00nutstore\\008\\zw08\\莱新订单20241029\\发票模板-按销售订单和存货编码-件数\\发票模板-长沙市雨花区文丰文具商行-SO-2024-02-1201-件数.xlsx\n",
      "F:\\a00nutstore\\008\\zw08\\莱新订单20241029\\发票模板-按销售订单和存货编码-件数\\发票模板-重庆文优文化用品有限公司-SO-2024-02-1202-件数.xlsx\n"
     ]
    },
    {
     "name": "stderr",
     "output_type": "stream",
     "text": [
      "C:\\Users\\redda\\AppData\\Roaming\\Python\\Python311\\site-packages\\openpyxl\\worksheet\\_reader.py:329: UserWarning: Data Validation extension is not supported and will be removed\n",
      "  warn(msg)\n",
      "C:\\Users\\redda\\AppData\\Roaming\\Python\\Python311\\site-packages\\openpyxl\\worksheet\\_reader.py:329: UserWarning: Data Validation extension is not supported and will be removed\n",
      "  warn(msg)\n"
     ]
    },
    {
     "name": "stdout",
     "output_type": "stream",
     "text": [
      "F:\\a00nutstore\\008\\zw08\\莱新订单20241029\\发票模板-按销售订单和存货编码-件数\\发票模板-西安继坤工贸有限公司-SO-2024-02-1203-件数.xlsx\n",
      "F:\\a00nutstore\\008\\zw08\\莱新订单20241029\\发票模板-按销售订单和存货编码-件数\\发票模板-义乌市博迅文体用品有限公司-SO-2024-02-1204-件数.xlsx\n"
     ]
    },
    {
     "name": "stderr",
     "output_type": "stream",
     "text": [
      "C:\\Users\\redda\\AppData\\Roaming\\Python\\Python311\\site-packages\\openpyxl\\worksheet\\_reader.py:329: UserWarning: Data Validation extension is not supported and will be removed\n",
      "  warn(msg)\n"
     ]
    },
    {
     "name": "stdout",
     "output_type": "stream",
     "text": [
      "F:\\a00nutstore\\008\\zw08\\莱新订单20241029\\发票模板-按销售订单和存货编码-件数\\发票模板-阜阳俊武文体商贸有限公司-SO-2024-02-1205-件数.xlsx\n",
      "F:\\a00nutstore\\008\\zw08\\莱新订单20241029\\发票模板-按销售订单和存货编码-件数\\发票模板-武汉嘉迪亚商贸有限公司-SO-2024-02-1206-件数.xlsx\n"
     ]
    },
    {
     "name": "stderr",
     "output_type": "stream",
     "text": [
      "C:\\Users\\redda\\AppData\\Roaming\\Python\\Python311\\site-packages\\openpyxl\\worksheet\\_reader.py:329: UserWarning: Data Validation extension is not supported and will be removed\n",
      "  warn(msg)\n",
      "C:\\Users\\redda\\AppData\\Roaming\\Python\\Python311\\site-packages\\openpyxl\\worksheet\\_reader.py:329: UserWarning: Data Validation extension is not supported and will be removed\n",
      "  warn(msg)\n"
     ]
    },
    {
     "name": "stdout",
     "output_type": "stream",
     "text": [
      "F:\\a00nutstore\\008\\zw08\\莱新订单20241029\\发票模板-按销售订单和存货编码-件数\\发票模板-湖北昇耀商贸有限公司-SO-2024-02-1207-件数.xlsx\n"
     ]
    },
    {
     "name": "stderr",
     "output_type": "stream",
     "text": [
      "C:\\Users\\redda\\AppData\\Roaming\\Python\\Python311\\site-packages\\openpyxl\\worksheet\\_reader.py:329: UserWarning: Data Validation extension is not supported and will be removed\n",
      "  warn(msg)\n"
     ]
    },
    {
     "name": "stdout",
     "output_type": "stream",
     "text": [
      "F:\\a00nutstore\\008\\zw08\\莱新订单20241029\\发票模板-按销售订单和存货编码-件数\\发票模板-武汉今日成纸业有限公司-SO-2024-02-1208-件数.xlsx\n"
     ]
    },
    {
     "name": "stderr",
     "output_type": "stream",
     "text": [
      "C:\\Users\\redda\\AppData\\Roaming\\Python\\Python311\\site-packages\\openpyxl\\worksheet\\_reader.py:329: UserWarning: Data Validation extension is not supported and will be removed\n",
      "  warn(msg)\n"
     ]
    },
    {
     "name": "stdout",
     "output_type": "stream",
     "text": [
      "F:\\a00nutstore\\008\\zw08\\莱新订单20241029\\发票模板-按销售订单和存货编码-件数\\发票模板-大庆市智胜文具办公设备有限公司-SO-2024-02-1209-件数.xlsx\n",
      "F:\\a00nutstore\\008\\zw08\\莱新订单20241029\\发票模板-按销售订单和存货编码-件数\\发票模板-武汉金胜辉商贸有限公司-SO-2024-02-1210-件数.xlsx\n"
     ]
    },
    {
     "name": "stderr",
     "output_type": "stream",
     "text": [
      "C:\\Users\\redda\\AppData\\Roaming\\Python\\Python311\\site-packages\\openpyxl\\worksheet\\_reader.py:329: UserWarning: Data Validation extension is not supported and will be removed\n",
      "  warn(msg)\n",
      "C:\\Users\\redda\\AppData\\Roaming\\Python\\Python311\\site-packages\\openpyxl\\worksheet\\_reader.py:329: UserWarning: Data Validation extension is not supported and will be removed\n",
      "  warn(msg)\n"
     ]
    },
    {
     "name": "stdout",
     "output_type": "stream",
     "text": [
      "F:\\a00nutstore\\008\\zw08\\莱新订单20241029\\发票模板-按销售订单和存货编码-件数\\发票模板-西安华坤集采供应链管理有限公司-SO-2024-02-1211-件数.xlsx\n",
      "F:\\a00nutstore\\008\\zw08\\莱新订单20241029\\发票模板-按销售订单和存货编码-件数\\发票模板-武汉金宸翰办公用品有限公司1-SO-2024-02-1212-件数.xlsx\n"
     ]
    },
    {
     "name": "stderr",
     "output_type": "stream",
     "text": [
      "C:\\Users\\redda\\AppData\\Roaming\\Python\\Python311\\site-packages\\openpyxl\\worksheet\\_reader.py:329: UserWarning: Data Validation extension is not supported and will be removed\n",
      "  warn(msg)\n",
      "C:\\Users\\redda\\AppData\\Roaming\\Python\\Python311\\site-packages\\openpyxl\\worksheet\\_reader.py:329: UserWarning: Data Validation extension is not supported and will be removed\n",
      "  warn(msg)\n"
     ]
    },
    {
     "name": "stdout",
     "output_type": "stream",
     "text": [
      "F:\\a00nutstore\\008\\zw08\\莱新订单20241029\\发票模板-按销售订单和存货编码-件数\\发票模板-武汉开先文化用品有限责任公司-SO-2024-02-1213-件数.xlsx\n"
     ]
    },
    {
     "name": "stderr",
     "output_type": "stream",
     "text": [
      "C:\\Users\\redda\\AppData\\Roaming\\Python\\Python311\\site-packages\\openpyxl\\worksheet\\_reader.py:329: UserWarning: Data Validation extension is not supported and will be removed\n",
      "  warn(msg)\n"
     ]
    },
    {
     "name": "stdout",
     "output_type": "stream",
     "text": [
      "F:\\a00nutstore\\008\\zw08\\莱新订单20241029\\发票模板-按销售订单和存货编码-件数\\发票模板-武汉乐得电子商务有限公司L-SO-2024-02-1214-件数.xlsx\n"
     ]
    },
    {
     "name": "stderr",
     "output_type": "stream",
     "text": [
      "C:\\Users\\redda\\AppData\\Roaming\\Python\\Python311\\site-packages\\openpyxl\\worksheet\\_reader.py:329: UserWarning: Data Validation extension is not supported and will be removed\n",
      "  warn(msg)\n",
      "C:\\Users\\redda\\AppData\\Roaming\\Python\\Python311\\site-packages\\openpyxl\\worksheet\\_reader.py:329: UserWarning: Data Validation extension is not supported and will be removed\n",
      "  warn(msg)\n"
     ]
    },
    {
     "name": "stdout",
     "output_type": "stream",
     "text": [
      "F:\\a00nutstore\\008\\zw08\\莱新订单20241029\\发票模板-按销售订单和存货编码-件数\\发票模板-武汉乐得电子商务有限公司-SO-2024-02-1215-件数.xlsx\n",
      "F:\\a00nutstore\\008\\zw08\\莱新订单20241029\\发票模板-按销售订单和存货编码-件数\\发票模板-武汉金胜辉商贸有限公司-SO-2024-02-1216-件数.xlsx\n"
     ]
    },
    {
     "name": "stderr",
     "output_type": "stream",
     "text": [
      "C:\\Users\\redda\\AppData\\Roaming\\Python\\Python311\\site-packages\\openpyxl\\worksheet\\_reader.py:329: UserWarning: Data Validation extension is not supported and will be removed\n",
      "  warn(msg)\n",
      "C:\\Users\\redda\\AppData\\Roaming\\Python\\Python311\\site-packages\\openpyxl\\worksheet\\_reader.py:329: UserWarning: Data Validation extension is not supported and will be removed\n",
      "  warn(msg)\n"
     ]
    },
    {
     "name": "stdout",
     "output_type": "stream",
     "text": [
      "F:\\a00nutstore\\008\\zw08\\莱新订单20241029\\发票模板-按销售订单和存货编码-件数\\发票模板-武汉市热脉文体用品有限公司-SO-2024-02-1217-件数.xlsx\n",
      "F:\\a00nutstore\\008\\zw08\\莱新订单20241029\\发票模板-按销售订单和存货编码-件数\\发票模板-武汉今日成纸业有限公司-SO-2024-02-1218-件数.xlsx\n"
     ]
    },
    {
     "name": "stderr",
     "output_type": "stream",
     "text": [
      "C:\\Users\\redda\\AppData\\Roaming\\Python\\Python311\\site-packages\\openpyxl\\worksheet\\_reader.py:329: UserWarning: Data Validation extension is not supported and will be removed\n",
      "  warn(msg)\n"
     ]
    },
    {
     "name": "stdout",
     "output_type": "stream",
     "text": [
      "F:\\a00nutstore\\008\\zw08\\莱新订单20241029\\发票模板-按销售订单和存货编码-件数\\发票模板-西安百花工贸有限公司-SO-2024-02-1219-件数.xlsx\n",
      "F:\\a00nutstore\\008\\zw08\\莱新订单20241029\\发票模板-按销售订单和存货编码-件数\\发票模板-武汉市热脉文体用品有限公司-SO-2024-02-1221-件数.xlsx\n"
     ]
    },
    {
     "name": "stderr",
     "output_type": "stream",
     "text": [
      "C:\\Users\\redda\\AppData\\Roaming\\Python\\Python311\\site-packages\\openpyxl\\worksheet\\_reader.py:329: UserWarning: Data Validation extension is not supported and will be removed\n",
      "  warn(msg)\n",
      "C:\\Users\\redda\\AppData\\Roaming\\Python\\Python311\\site-packages\\openpyxl\\worksheet\\_reader.py:329: UserWarning: Data Validation extension is not supported and will be removed\n",
      "  warn(msg)\n"
     ]
    },
    {
     "name": "stdout",
     "output_type": "stream",
     "text": [
      "F:\\a00nutstore\\008\\zw08\\莱新订单20241029\\发票模板-按销售订单和存货编码-件数\\发票模板-武汉金宸翰办公用品有限公司1-SO-2024-02-1222-件数.xlsx\n",
      "F:\\a00nutstore\\008\\zw08\\莱新订单20241029\\发票模板-按销售订单和存货编码-件数\\发票模板-湖北昇耀商贸有限公司-SO-2024-02-1223-件数.xlsx\n"
     ]
    },
    {
     "name": "stderr",
     "output_type": "stream",
     "text": [
      "C:\\Users\\redda\\AppData\\Roaming\\Python\\Python311\\site-packages\\openpyxl\\worksheet\\_reader.py:329: UserWarning: Data Validation extension is not supported and will be removed\n",
      "  warn(msg)\n",
      "C:\\Users\\redda\\AppData\\Roaming\\Python\\Python311\\site-packages\\openpyxl\\worksheet\\_reader.py:329: UserWarning: Data Validation extension is not supported and will be removed\n",
      "  warn(msg)\n"
     ]
    },
    {
     "name": "stdout",
     "output_type": "stream",
     "text": [
      "F:\\a00nutstore\\008\\zw08\\莱新订单20241029\\发票模板-按销售订单和存货编码-件数\\发票模板-江西东优贸易有限公司-SO-2024-02-1224-件数.xlsx\n"
     ]
    },
    {
     "name": "stderr",
     "output_type": "stream",
     "text": [
      "C:\\Users\\redda\\AppData\\Roaming\\Python\\Python311\\site-packages\\openpyxl\\worksheet\\_reader.py:329: UserWarning: Data Validation extension is not supported and will be removed\n",
      "  warn(msg)\n"
     ]
    },
    {
     "name": "stdout",
     "output_type": "stream",
     "text": [
      "F:\\a00nutstore\\008\\zw08\\莱新订单20241029\\发票模板-按销售订单和存货编码-件数\\发票模板-品壹佰河北商贸有限公司-SO-2024-02-1225-件数.xlsx\n"
     ]
    },
    {
     "name": "stderr",
     "output_type": "stream",
     "text": [
      "C:\\Users\\redda\\AppData\\Roaming\\Python\\Python311\\site-packages\\openpyxl\\worksheet\\_reader.py:329: UserWarning: Data Validation extension is not supported and will be removed\n",
      "  warn(msg)\n"
     ]
    },
    {
     "name": "stdout",
     "output_type": "stream",
     "text": [
      "F:\\a00nutstore\\008\\zw08\\莱新订单20241029\\发票模板-按销售订单和存货编码-件数\\发票模板-义乌范光洪-SO-2024-02-1226-件数.xlsx\n"
     ]
    },
    {
     "name": "stderr",
     "output_type": "stream",
     "text": [
      "C:\\Users\\redda\\AppData\\Roaming\\Python\\Python311\\site-packages\\openpyxl\\worksheet\\_reader.py:329: UserWarning: Data Validation extension is not supported and will be removed\n",
      "  warn(msg)\n"
     ]
    },
    {
     "name": "stdout",
     "output_type": "stream",
     "text": [
      "F:\\a00nutstore\\008\\zw08\\莱新订单20241029\\发票模板-按销售订单和存货编码-件数\\发票模板-杭州林道贸易有限公司-SO-2024-02-1227-件数.xlsx\n"
     ]
    },
    {
     "name": "stderr",
     "output_type": "stream",
     "text": [
      "C:\\Users\\redda\\AppData\\Roaming\\Python\\Python311\\site-packages\\openpyxl\\worksheet\\_reader.py:329: UserWarning: Data Validation extension is not supported and will be removed\n",
      "  warn(msg)\n"
     ]
    },
    {
     "name": "stdout",
     "output_type": "stream",
     "text": [
      "F:\\a00nutstore\\008\\zw08\\莱新订单20241029\\发票模板-按销售订单和存货编码-件数\\发票模板-武汉市热脉文体用品有限公司-SO-2024-02-1228-件数.xlsx\n"
     ]
    },
    {
     "name": "stderr",
     "output_type": "stream",
     "text": [
      "C:\\Users\\redda\\AppData\\Roaming\\Python\\Python311\\site-packages\\openpyxl\\worksheet\\_reader.py:329: UserWarning: Data Validation extension is not supported and will be removed\n",
      "  warn(msg)\n"
     ]
    },
    {
     "name": "stdout",
     "output_type": "stream",
     "text": [
      "F:\\a00nutstore\\008\\zw08\\莱新订单20241029\\发票模板-按销售订单和存货编码-件数\\发票模板-河南梓亦桐商贸有限公司-SO-2024-02-1229-件数.xlsx\n",
      "F:\\a00nutstore\\008\\zw08\\莱新订单20241029\\发票模板-按销售订单和存货编码-件数\\发票模板-石家庄本米文具用品销售有限公司-SO-2024-02-1230-件数.xlsx\n"
     ]
    },
    {
     "name": "stderr",
     "output_type": "stream",
     "text": [
      "C:\\Users\\redda\\AppData\\Roaming\\Python\\Python311\\site-packages\\openpyxl\\worksheet\\_reader.py:329: UserWarning: Data Validation extension is not supported and will be removed\n",
      "  warn(msg)\n",
      "C:\\Users\\redda\\AppData\\Roaming\\Python\\Python311\\site-packages\\openpyxl\\worksheet\\_reader.py:329: UserWarning: Data Validation extension is not supported and will be removed\n",
      "  warn(msg)\n"
     ]
    },
    {
     "name": "stdout",
     "output_type": "stream",
     "text": [
      "F:\\a00nutstore\\008\\zw08\\莱新订单20241029\\发票模板-按销售订单和存货编码-件数\\发票模板-武汉金胜辉商贸有限公司-SO-2024-02-1231-件数.xlsx\n"
     ]
    },
    {
     "name": "stderr",
     "output_type": "stream",
     "text": [
      "C:\\Users\\redda\\AppData\\Roaming\\Python\\Python311\\site-packages\\openpyxl\\worksheet\\_reader.py:329: UserWarning: Data Validation extension is not supported and will be removed\n",
      "  warn(msg)\n"
     ]
    },
    {
     "name": "stdout",
     "output_type": "stream",
     "text": [
      "F:\\a00nutstore\\008\\zw08\\莱新订单20241029\\发票模板-按销售订单和存货编码-件数\\发票模板-湖北昇耀商贸有限公司-SO-2024-02-1232-件数.xlsx\n"
     ]
    },
    {
     "name": "stderr",
     "output_type": "stream",
     "text": [
      "C:\\Users\\redda\\AppData\\Roaming\\Python\\Python311\\site-packages\\openpyxl\\worksheet\\_reader.py:329: UserWarning: Data Validation extension is not supported and will be removed\n",
      "  warn(msg)\n"
     ]
    },
    {
     "name": "stdout",
     "output_type": "stream",
     "text": [
      "F:\\a00nutstore\\008\\zw08\\莱新订单20241029\\发票模板-按销售订单和存货编码-件数\\发票模板-武汉中威百联商贸有限公司-SO-2024-02-1233-件数.xlsx\n",
      "F:\\a00nutstore\\008\\zw08\\莱新订单20241029\\发票模板-按销售订单和存货编码-件数\\发票模板-武汉开先文化用品有限责任公司-SO-2024-02-1234-件数.xlsx\n"
     ]
    },
    {
     "name": "stderr",
     "output_type": "stream",
     "text": [
      "C:\\Users\\redda\\AppData\\Roaming\\Python\\Python311\\site-packages\\openpyxl\\worksheet\\_reader.py:329: UserWarning: Data Validation extension is not supported and will be removed\n",
      "  warn(msg)\n",
      "C:\\Users\\redda\\AppData\\Roaming\\Python\\Python311\\site-packages\\openpyxl\\worksheet\\_reader.py:329: UserWarning: Data Validation extension is not supported and will be removed\n",
      "  warn(msg)\n"
     ]
    },
    {
     "name": "stdout",
     "output_type": "stream",
     "text": [
      "F:\\a00nutstore\\008\\zw08\\莱新订单20241029\\发票模板-按销售订单和存货编码-件数\\发票模板-武汉市齐达利商贸有限公司-SO-2024-02-1235-件数.xlsx\n",
      "F:\\a00nutstore\\008\\zw08\\莱新订单20241029\\发票模板-按销售订单和存货编码-件数\\发票模板-武汉乐得电子商务有限公司L-SO-2024-02-1236-件数.xlsx\n"
     ]
    },
    {
     "name": "stderr",
     "output_type": "stream",
     "text": [
      "C:\\Users\\redda\\AppData\\Roaming\\Python\\Python311\\site-packages\\openpyxl\\worksheet\\_reader.py:329: UserWarning: Data Validation extension is not supported and will be removed\n",
      "  warn(msg)\n",
      "C:\\Users\\redda\\AppData\\Roaming\\Python\\Python311\\site-packages\\openpyxl\\worksheet\\_reader.py:329: UserWarning: Data Validation extension is not supported and will be removed\n",
      "  warn(msg)\n"
     ]
    },
    {
     "name": "stdout",
     "output_type": "stream",
     "text": [
      "F:\\a00nutstore\\008\\zw08\\莱新订单20241029\\发票模板-按销售订单和存货编码-件数\\发票模板-武汉金胜辉商贸有限公司-SO-2024-02-1237-件数.xlsx\n",
      "F:\\a00nutstore\\008\\zw08\\莱新订单20241029\\发票模板-按销售订单和存货编码-件数\\发票模板-河南抬头喜办公用品有限公司S-SO-2024-02-1238-件数.xlsx\n"
     ]
    },
    {
     "name": "stderr",
     "output_type": "stream",
     "text": [
      "C:\\Users\\redda\\AppData\\Roaming\\Python\\Python311\\site-packages\\openpyxl\\worksheet\\_reader.py:329: UserWarning: Data Validation extension is not supported and will be removed\n",
      "  warn(msg)\n",
      "C:\\Users\\redda\\AppData\\Roaming\\Python\\Python311\\site-packages\\openpyxl\\worksheet\\_reader.py:329: UserWarning: Data Validation extension is not supported and will be removed\n",
      "  warn(msg)\n"
     ]
    },
    {
     "name": "stdout",
     "output_type": "stream",
     "text": [
      "F:\\a00nutstore\\008\\zw08\\莱新订单20241029\\发票模板-按销售订单和存货编码-件数\\发票模板-山西融和通商贸有限公司-SO-2024-02-1239-件数.xlsx\n",
      "F:\\a00nutstore\\008\\zw08\\莱新订单20241029\\发票模板-按销售订单和存货编码-件数\\发票模板-西安垄裕商贸有限公司-SO-2024-02-1240-件数.xlsx\n"
     ]
    },
    {
     "name": "stderr",
     "output_type": "stream",
     "text": [
      "C:\\Users\\redda\\AppData\\Roaming\\Python\\Python311\\site-packages\\openpyxl\\worksheet\\_reader.py:329: UserWarning: Data Validation extension is not supported and will be removed\n",
      "  warn(msg)\n",
      "C:\\Users\\redda\\AppData\\Roaming\\Python\\Python311\\site-packages\\openpyxl\\worksheet\\_reader.py:329: UserWarning: Data Validation extension is not supported and will be removed\n",
      "  warn(msg)\n",
      "C:\\Users\\redda\\AppData\\Roaming\\Python\\Python311\\site-packages\\openpyxl\\worksheet\\_reader.py:329: UserWarning: Data Validation extension is not supported and will be removed\n",
      "  warn(msg)\n"
     ]
    },
    {
     "name": "stdout",
     "output_type": "stream",
     "text": [
      "F:\\a00nutstore\\008\\zw08\\莱新订单20241029\\发票模板-按销售订单和存货编码-件数\\发票模板-长沙市东麦文化有限公司-SO-2024-02-1241-件数.xlsx\n",
      "F:\\a00nutstore\\008\\zw08\\莱新订单20241029\\发票模板-按销售订单和存货编码-件数\\发票模板-武汉金胜辉商贸有限公司-SO-2024-02-1242-件数.xlsx\n"
     ]
    },
    {
     "name": "stderr",
     "output_type": "stream",
     "text": [
      "C:\\Users\\redda\\AppData\\Roaming\\Python\\Python311\\site-packages\\openpyxl\\worksheet\\_reader.py:329: UserWarning: Data Validation extension is not supported and will be removed\n",
      "  warn(msg)\n",
      "C:\\Users\\redda\\AppData\\Roaming\\Python\\Python311\\site-packages\\openpyxl\\worksheet\\_reader.py:329: UserWarning: Data Validation extension is not supported and will be removed\n",
      "  warn(msg)\n"
     ]
    },
    {
     "name": "stdout",
     "output_type": "stream",
     "text": [
      "F:\\a00nutstore\\008\\zw08\\莱新订单20241029\\发票模板-按销售订单和存货编码-件数\\发票模板-武汉金宸翰办公用品有限公司-SO-2024-02-1243-件数.xlsx\n",
      "F:\\a00nutstore\\008\\zw08\\莱新订单20241029\\发票模板-按销售订单和存货编码-件数\\发票模板-湖北昇耀商贸有限公司-SO-2024-02-1244-件数.xlsx\n"
     ]
    },
    {
     "name": "stderr",
     "output_type": "stream",
     "text": [
      "C:\\Users\\redda\\AppData\\Roaming\\Python\\Python311\\site-packages\\openpyxl\\worksheet\\_reader.py:329: UserWarning: Data Validation extension is not supported and will be removed\n",
      "  warn(msg)\n"
     ]
    },
    {
     "name": "stdout",
     "output_type": "stream",
     "text": [
      "F:\\a00nutstore\\008\\zw08\\莱新订单20241029\\发票模板-按销售订单和存货编码-件数\\发票模板-武汉嘉迪亚商贸有限公司-SO-2024-02-1245-件数.xlsx\n"
     ]
    },
    {
     "name": "stderr",
     "output_type": "stream",
     "text": [
      "C:\\Users\\redda\\AppData\\Roaming\\Python\\Python311\\site-packages\\openpyxl\\worksheet\\_reader.py:329: UserWarning: Data Validation extension is not supported and will be removed\n",
      "  warn(msg)\n"
     ]
    },
    {
     "name": "stdout",
     "output_type": "stream",
     "text": [
      "F:\\a00nutstore\\008\\zw08\\莱新订单20241029\\发票模板-按销售订单和存货编码-件数\\发票模板-云南乐信商贸有限公司-SO-2024-02-1246-件数.xlsx\n"
     ]
    },
    {
     "name": "stderr",
     "output_type": "stream",
     "text": [
      "C:\\Users\\redda\\AppData\\Roaming\\Python\\Python311\\site-packages\\openpyxl\\worksheet\\_reader.py:329: UserWarning: Data Validation extension is not supported and will be removed\n",
      "  warn(msg)\n",
      "C:\\Users\\redda\\AppData\\Roaming\\Python\\Python311\\site-packages\\openpyxl\\worksheet\\_reader.py:329: UserWarning: Data Validation extension is not supported and will be removed\n",
      "  warn(msg)\n"
     ]
    },
    {
     "name": "stdout",
     "output_type": "stream",
     "text": [
      "F:\\a00nutstore\\008\\zw08\\莱新订单20241029\\发票模板-按销售订单和存货编码-件数\\发票模板-贵州三鑫文化用品有限公司-SO-2024-02-1247-件数.xlsx\n",
      "F:\\a00nutstore\\008\\zw08\\莱新订单20241029\\发票模板-按销售订单和存货编码-件数\\发票模板-广西桂林利华电子科技有限公司-SO-2024-02-1248-件数.xlsx\n"
     ]
    },
    {
     "name": "stderr",
     "output_type": "stream",
     "text": [
      "C:\\Users\\redda\\AppData\\Roaming\\Python\\Python311\\site-packages\\openpyxl\\worksheet\\_reader.py:329: UserWarning: Data Validation extension is not supported and will be removed\n",
      "  warn(msg)\n"
     ]
    },
    {
     "name": "stdout",
     "output_type": "stream",
     "text": [
      "F:\\a00nutstore\\008\\zw08\\莱新订单20241029\\发票模板-按销售订单和存货编码-件数\\发票模板-武汉乐得电子商务有限公司L-SO-2024-02-1249-件数.xlsx\n",
      "F:\\a00nutstore\\008\\zw08\\莱新订单20241029\\发票模板-按销售订单和存货编码-件数\\发票模板-武汉市齐达利商贸有限公司-SO-2024-02-1250-件数.xlsx\n"
     ]
    },
    {
     "name": "stderr",
     "output_type": "stream",
     "text": [
      "C:\\Users\\redda\\AppData\\Roaming\\Python\\Python311\\site-packages\\openpyxl\\worksheet\\_reader.py:329: UserWarning: Data Validation extension is not supported and will be removed\n",
      "  warn(msg)\n",
      "C:\\Users\\redda\\AppData\\Roaming\\Python\\Python311\\site-packages\\openpyxl\\worksheet\\_reader.py:329: UserWarning: Data Validation extension is not supported and will be removed\n",
      "  warn(msg)\n"
     ]
    },
    {
     "name": "stdout",
     "output_type": "stream",
     "text": [
      "F:\\a00nutstore\\008\\zw08\\莱新订单20241029\\发票模板-按销售订单和存货编码-件数\\发票模板-武汉金胜辉商贸有限公司-SO-2024-02-1251-件数.xlsx\n"
     ]
    },
    {
     "name": "stderr",
     "output_type": "stream",
     "text": [
      "C:\\Users\\redda\\AppData\\Roaming\\Python\\Python311\\site-packages\\openpyxl\\worksheet\\_reader.py:329: UserWarning: Data Validation extension is not supported and will be removed\n",
      "  warn(msg)\n",
      "C:\\Users\\redda\\AppData\\Roaming\\Python\\Python311\\site-packages\\openpyxl\\worksheet\\_reader.py:329: UserWarning: Data Validation extension is not supported and will be removed\n",
      "  warn(msg)\n"
     ]
    },
    {
     "name": "stdout",
     "output_type": "stream",
     "text": [
      "F:\\a00nutstore\\008\\zw08\\莱新订单20241029\\发票模板-按销售订单和存货编码-件数\\发票模板-武汉乐得电子商务有限公司L-SO-2024-02-1252-件数.xlsx\n",
      "F:\\a00nutstore\\008\\zw08\\莱新订单20241029\\发票模板-按销售订单和存货编码-件数\\发票模板-湖北昇耀商贸有限公司-SO-2024-02-1253-件数.xlsx\n"
     ]
    },
    {
     "name": "stderr",
     "output_type": "stream",
     "text": [
      "C:\\Users\\redda\\AppData\\Roaming\\Python\\Python311\\site-packages\\openpyxl\\worksheet\\_reader.py:329: UserWarning: Data Validation extension is not supported and will be removed\n",
      "  warn(msg)\n",
      "C:\\Users\\redda\\AppData\\Roaming\\Python\\Python311\\site-packages\\openpyxl\\worksheet\\_reader.py:329: UserWarning: Data Validation extension is not supported and will be removed\n",
      "  warn(msg)\n"
     ]
    },
    {
     "name": "stdout",
     "output_type": "stream",
     "text": [
      "F:\\a00nutstore\\008\\zw08\\莱新订单20241029\\发票模板-按销售订单和存货编码-件数\\发票模板-武汉中威百联商贸有限公司-SO-2024-02-1254-件数.xlsx\n",
      "F:\\a00nutstore\\008\\zw08\\莱新订单20241029\\发票模板-按销售订单和存货编码-件数\\发票模板-大庆市智胜文具办公设备有限公司-SO-2024-02-1255-件数.xlsx\n"
     ]
    },
    {
     "name": "stderr",
     "output_type": "stream",
     "text": [
      "C:\\Users\\redda\\AppData\\Roaming\\Python\\Python311\\site-packages\\openpyxl\\worksheet\\_reader.py:329: UserWarning: Data Validation extension is not supported and will be removed\n",
      "  warn(msg)\n",
      "C:\\Users\\redda\\AppData\\Roaming\\Python\\Python311\\site-packages\\openpyxl\\worksheet\\_reader.py:329: UserWarning: Data Validation extension is not supported and will be removed\n",
      "  warn(msg)\n"
     ]
    },
    {
     "name": "stdout",
     "output_type": "stream",
     "text": [
      "F:\\a00nutstore\\008\\zw08\\莱新订单20241029\\发票模板-按销售订单和存货编码-件数\\发票模板-泸州佳之彩商贸有限公司-SO-2024-02-1256-件数.xlsx\n",
      "F:\\a00nutstore\\008\\zw08\\莱新订单20241029\\发票模板-按销售订单和存货编码-件数\\发票模板-临沂博涵文化用品有限公司-SO-2024-02-1257-件数.xlsx\n"
     ]
    },
    {
     "name": "stderr",
     "output_type": "stream",
     "text": [
      "C:\\Users\\redda\\AppData\\Roaming\\Python\\Python311\\site-packages\\openpyxl\\worksheet\\_reader.py:329: UserWarning: Data Validation extension is not supported and will be removed\n",
      "  warn(msg)\n"
     ]
    },
    {
     "name": "stdout",
     "output_type": "stream",
     "text": [
      "F:\\a00nutstore\\008\\zw08\\莱新订单20241029\\发票模板-按销售订单和存货编码-件数\\发票模板-沈阳贾术申-SO-2024-02-1258-件数.xlsx\n"
     ]
    },
    {
     "name": "stderr",
     "output_type": "stream",
     "text": [
      "C:\\Users\\redda\\AppData\\Roaming\\Python\\Python311\\site-packages\\openpyxl\\worksheet\\_reader.py:329: UserWarning: Data Validation extension is not supported and will be removed\n",
      "  warn(msg)\n"
     ]
    },
    {
     "name": "stdout",
     "output_type": "stream",
     "text": [
      "F:\\a00nutstore\\008\\zw08\\莱新订单20241029\\发票模板-按销售订单和存货编码-件数\\发票模板-武汉市热脉文体用品有限公司-SO-2024-02-1260-件数.xlsx\n"
     ]
    },
    {
     "name": "stderr",
     "output_type": "stream",
     "text": [
      "C:\\Users\\redda\\AppData\\Roaming\\Python\\Python311\\site-packages\\openpyxl\\worksheet\\_reader.py:329: UserWarning: Data Validation extension is not supported and will be removed\n",
      "  warn(msg)\n"
     ]
    },
    {
     "name": "stdout",
     "output_type": "stream",
     "text": [
      "F:\\a00nutstore\\008\\zw08\\莱新订单20241029\\发票模板-按销售订单和存货编码-件数\\发票模板-石河子市满天红财会文体用品店-SO-2024-02-1261-件数.xlsx\n"
     ]
    },
    {
     "name": "stderr",
     "output_type": "stream",
     "text": [
      "C:\\Users\\redda\\AppData\\Roaming\\Python\\Python311\\site-packages\\openpyxl\\worksheet\\_reader.py:329: UserWarning: Data Validation extension is not supported and will be removed\n",
      "  warn(msg)\n"
     ]
    },
    {
     "name": "stdout",
     "output_type": "stream",
     "text": [
      "F:\\a00nutstore\\008\\zw08\\莱新订单20241029\\发票模板-按销售订单和存货编码-件数\\发票模板-乌鲁木齐市新创仕业商贸有限公司-SO-2024-02-1262-件数.xlsx\n"
     ]
    },
    {
     "name": "stderr",
     "output_type": "stream",
     "text": [
      "C:\\Users\\redda\\AppData\\Roaming\\Python\\Python311\\site-packages\\openpyxl\\worksheet\\_reader.py:329: UserWarning: Data Validation extension is not supported and will be removed\n",
      "  warn(msg)\n",
      "C:\\Users\\redda\\AppData\\Roaming\\Python\\Python311\\site-packages\\openpyxl\\worksheet\\_reader.py:329: UserWarning: Data Validation extension is not supported and will be removed\n",
      "  warn(msg)\n"
     ]
    },
    {
     "name": "stdout",
     "output_type": "stream",
     "text": [
      "F:\\a00nutstore\\008\\zw08\\莱新订单20241029\\发票模板-按销售订单和存货编码-件数\\发票模板-湖北昇耀商贸有限公司-SO-2024-02-1263-件数.xlsx\n",
      "F:\\a00nutstore\\008\\zw08\\莱新订单20241029\\发票模板-按销售订单和存货编码-件数\\发票模板-武汉今日成纸业有限公司-SO-2024-02-1264-件数.xlsx\n"
     ]
    },
    {
     "name": "stderr",
     "output_type": "stream",
     "text": [
      "C:\\Users\\redda\\AppData\\Roaming\\Python\\Python311\\site-packages\\openpyxl\\worksheet\\_reader.py:329: UserWarning: Data Validation extension is not supported and will be removed\n",
      "  warn(msg)\n",
      "C:\\Users\\redda\\AppData\\Roaming\\Python\\Python311\\site-packages\\openpyxl\\worksheet\\_reader.py:329: UserWarning: Data Validation extension is not supported and will be removed\n",
      "  warn(msg)\n"
     ]
    },
    {
     "name": "stdout",
     "output_type": "stream",
     "text": [
      "F:\\a00nutstore\\008\\zw08\\莱新订单20241029\\发票模板-按销售订单和存货编码-件数\\发票模板-武汉乐得电子商务有限公司L-SO-2024-02-1265-件数.xlsx\n",
      "F:\\a00nutstore\\008\\zw08\\莱新订单20241029\\发票模板-按销售订单和存货编码-件数\\发票模板-河南抬头喜办公用品有限公司S-SO-2024-02-1266-件数.xlsx\n"
     ]
    },
    {
     "name": "stderr",
     "output_type": "stream",
     "text": [
      "C:\\Users\\redda\\AppData\\Roaming\\Python\\Python311\\site-packages\\openpyxl\\worksheet\\_reader.py:329: UserWarning: Data Validation extension is not supported and will be removed\n",
      "  warn(msg)\n",
      "C:\\Users\\redda\\AppData\\Roaming\\Python\\Python311\\site-packages\\openpyxl\\worksheet\\_reader.py:329: UserWarning: Data Validation extension is not supported and will be removed\n",
      "  warn(msg)\n"
     ]
    },
    {
     "name": "stdout",
     "output_type": "stream",
     "text": [
      "F:\\a00nutstore\\008\\zw08\\莱新订单20241029\\发票模板-按销售订单和存货编码-件数\\发票模板-武汉市热脉文体用品有限公司-SO-2024-02-1267-件数.xlsx\n",
      "F:\\a00nutstore\\008\\zw08\\莱新订单20241029\\发票模板-按销售订单和存货编码-件数\\发票模板-湖北昇耀商贸有限公司-SO-2024-02-1268-件数.xlsx\n"
     ]
    },
    {
     "name": "stderr",
     "output_type": "stream",
     "text": [
      "C:\\Users\\redda\\AppData\\Roaming\\Python\\Python311\\site-packages\\openpyxl\\worksheet\\_reader.py:329: UserWarning: Data Validation extension is not supported and will be removed\n",
      "  warn(msg)\n"
     ]
    },
    {
     "name": "stdout",
     "output_type": "stream",
     "text": [
      "F:\\a00nutstore\\008\\zw08\\莱新订单20241029\\发票模板-按销售订单和存货编码-件数\\发票模板-蚌埠瀚博文体用品有限公司-SO-2024-02-1269-件数.xlsx\n"
     ]
    },
    {
     "name": "stderr",
     "output_type": "stream",
     "text": [
      "C:\\Users\\redda\\AppData\\Roaming\\Python\\Python311\\site-packages\\openpyxl\\worksheet\\_reader.py:329: UserWarning: Data Validation extension is not supported and will be removed\n",
      "  warn(msg)\n"
     ]
    },
    {
     "name": "stdout",
     "output_type": "stream",
     "text": [
      "F:\\a00nutstore\\008\\zw08\\莱新订单20241029\\发票模板-按销售订单和存货编码-件数\\发票模板-长沙市东麦文化有限公司-SO-2024-02-1270-件数.xlsx\n"
     ]
    },
    {
     "name": "stderr",
     "output_type": "stream",
     "text": [
      "C:\\Users\\redda\\AppData\\Roaming\\Python\\Python311\\site-packages\\openpyxl\\worksheet\\_reader.py:329: UserWarning: Data Validation extension is not supported and will be removed\n",
      "  warn(msg)\n"
     ]
    },
    {
     "name": "stdout",
     "output_type": "stream",
     "text": [
      "F:\\a00nutstore\\008\\zw08\\莱新订单20241029\\发票模板-按销售订单和存货编码-件数\\发票模板-武汉金宸翰办公用品有限公司-SO-2024-02-1271-件数.xlsx\n"
     ]
    },
    {
     "name": "stderr",
     "output_type": "stream",
     "text": [
      "C:\\Users\\redda\\AppData\\Roaming\\Python\\Python311\\site-packages\\openpyxl\\worksheet\\_reader.py:329: UserWarning: Data Validation extension is not supported and will be removed\n",
      "  warn(msg)\n",
      "C:\\Users\\redda\\AppData\\Roaming\\Python\\Python311\\site-packages\\openpyxl\\worksheet\\_reader.py:329: UserWarning: Data Validation extension is not supported and will be removed\n",
      "  warn(msg)\n"
     ]
    },
    {
     "name": "stdout",
     "output_type": "stream",
     "text": [
      "F:\\a00nutstore\\008\\zw08\\莱新订单20241029\\发票模板-按销售订单和存货编码-件数\\发票模板-长沙屈贾文化用品有限公司-SO-2024-02-1272-件数.xlsx\n",
      "F:\\a00nutstore\\008\\zw08\\莱新订单20241029\\发票模板-按销售订单和存货编码-件数\\发票模板-合肥刘明德-SO-2024-02-1273-件数.xlsx\n"
     ]
    },
    {
     "name": "stderr",
     "output_type": "stream",
     "text": [
      "C:\\Users\\redda\\AppData\\Roaming\\Python\\Python311\\site-packages\\openpyxl\\worksheet\\_reader.py:329: UserWarning: Data Validation extension is not supported and will be removed\n",
      "  warn(msg)\n",
      "C:\\Users\\redda\\AppData\\Roaming\\Python\\Python311\\site-packages\\openpyxl\\worksheet\\_reader.py:329: UserWarning: Data Validation extension is not supported and will be removed\n",
      "  warn(msg)\n"
     ]
    },
    {
     "name": "stdout",
     "output_type": "stream",
     "text": [
      "F:\\a00nutstore\\008\\zw08\\莱新订单20241029\\发票模板-按销售订单和存货编码-件数\\发票模板-龙岩连卫中-SO-2024-02-1274-件数.xlsx\n",
      "F:\\a00nutstore\\008\\zw08\\莱新订单20241029\\发票模板-按销售订单和存货编码-件数\\发票模板-成都乐尚怡智商贸有限公司-SO-2024-02-1275-件数.xlsx\n"
     ]
    },
    {
     "name": "stderr",
     "output_type": "stream",
     "text": [
      "C:\\Users\\redda\\AppData\\Roaming\\Python\\Python311\\site-packages\\openpyxl\\worksheet\\_reader.py:329: UserWarning: Data Validation extension is not supported and will be removed\n",
      "  warn(msg)\n"
     ]
    },
    {
     "name": "stdout",
     "output_type": "stream",
     "text": [
      "F:\\a00nutstore\\008\\zw08\\莱新订单20241029\\发票模板-按销售订单和存货编码-件数\\发票模板-武汉金宸翰办公用品有限公司1-SO-2024-02-1276-件数.xlsx\n"
     ]
    },
    {
     "name": "stderr",
     "output_type": "stream",
     "text": [
      "C:\\Users\\redda\\AppData\\Roaming\\Python\\Python311\\site-packages\\openpyxl\\worksheet\\_reader.py:329: UserWarning: Data Validation extension is not supported and will be removed\n",
      "  warn(msg)\n"
     ]
    },
    {
     "name": "stdout",
     "output_type": "stream",
     "text": [
      "F:\\a00nutstore\\008\\zw08\\莱新订单20241029\\发票模板-按销售订单和存货编码-件数\\发票模板-武汉金胜辉商贸有限公司-SO-2024-02-1277-件数.xlsx\n",
      "F:\\a00nutstore\\008\\zw08\\莱新订单20241029\\发票模板-按销售订单和存货编码-件数\\发票模板-武汉开先文化用品有限责任公司-SO-2024-02-1278-件数.xlsx\n"
     ]
    },
    {
     "name": "stderr",
     "output_type": "stream",
     "text": [
      "C:\\Users\\redda\\AppData\\Roaming\\Python\\Python311\\site-packages\\openpyxl\\worksheet\\_reader.py:329: UserWarning: Data Validation extension is not supported and will be removed\n",
      "  warn(msg)\n",
      "C:\\Users\\redda\\AppData\\Roaming\\Python\\Python311\\site-packages\\openpyxl\\worksheet\\_reader.py:329: UserWarning: Data Validation extension is not supported and will be removed\n",
      "  warn(msg)\n"
     ]
    },
    {
     "name": "stdout",
     "output_type": "stream",
     "text": [
      "F:\\a00nutstore\\008\\zw08\\莱新订单20241029\\发票模板-按销售订单和存货编码-件数\\发票模板-西安博为文教用品有限公司-SO-2024-02-1279-件数.xlsx\n",
      "F:\\a00nutstore\\008\\zw08\\莱新订单20241029\\发票模板-按销售订单和存货编码-件数\\发票模板-大庆市智胜文具办公设备有限公司-SO-2024-02-1280-件数.xlsx\n"
     ]
    },
    {
     "name": "stderr",
     "output_type": "stream",
     "text": [
      "C:\\Users\\redda\\AppData\\Roaming\\Python\\Python311\\site-packages\\openpyxl\\worksheet\\_reader.py:329: UserWarning: Data Validation extension is not supported and will be removed\n",
      "  warn(msg)\n",
      "C:\\Users\\redda\\AppData\\Roaming\\Python\\Python311\\site-packages\\openpyxl\\worksheet\\_reader.py:329: UserWarning: Data Validation extension is not supported and will be removed\n",
      "  warn(msg)\n"
     ]
    },
    {
     "name": "stdout",
     "output_type": "stream",
     "text": [
      "F:\\a00nutstore\\008\\zw08\\莱新订单20241029\\发票模板-按销售订单和存货编码-件数\\发票模板-义乌市博迅文体用品有限公司-SO-2024-02-1281-件数.xlsx\n"
     ]
    },
    {
     "name": "stderr",
     "output_type": "stream",
     "text": [
      "C:\\Users\\redda\\AppData\\Roaming\\Python\\Python311\\site-packages\\openpyxl\\worksheet\\_reader.py:329: UserWarning: Data Validation extension is not supported and will be removed\n",
      "  warn(msg)\n"
     ]
    },
    {
     "name": "stdout",
     "output_type": "stream",
     "text": [
      "F:\\a00nutstore\\008\\zw08\\莱新订单20241029\\发票模板-按销售订单和存货编码-件数\\发票模板-南宁市小木屋文化用品有限公司-SO-2024-02-1282-件数.xlsx\n"
     ]
    },
    {
     "name": "stderr",
     "output_type": "stream",
     "text": [
      "C:\\Users\\redda\\AppData\\Roaming\\Python\\Python311\\site-packages\\openpyxl\\worksheet\\_reader.py:329: UserWarning: Data Validation extension is not supported and will be removed\n",
      "  warn(msg)\n"
     ]
    },
    {
     "name": "stdout",
     "output_type": "stream",
     "text": [
      "F:\\a00nutstore\\008\\zw08\\莱新订单20241029\\发票模板-按销售订单和存货编码-件数\\发票模板-江西东优贸易有限公司-SO-2024-02-1283-件数.xlsx\n"
     ]
    },
    {
     "name": "stderr",
     "output_type": "stream",
     "text": [
      "C:\\Users\\redda\\AppData\\Roaming\\Python\\Python311\\site-packages\\openpyxl\\worksheet\\_reader.py:329: UserWarning: Data Validation extension is not supported and will be removed\n",
      "  warn(msg)\n",
      "C:\\Users\\redda\\AppData\\Roaming\\Python\\Python311\\site-packages\\openpyxl\\worksheet\\_reader.py:329: UserWarning: Data Validation extension is not supported and will be removed\n",
      "  warn(msg)\n"
     ]
    },
    {
     "name": "stdout",
     "output_type": "stream",
     "text": [
      "F:\\a00nutstore\\008\\zw08\\莱新订单20241029\\发票模板-按销售订单和存货编码-件数\\发票模板-沈阳贾术申-SO-2024-02-1284-件数.xlsx\n",
      "F:\\a00nutstore\\008\\zw08\\莱新订单20241029\\发票模板-按销售订单和存货编码-件数\\发票模板-临沂巧纳金纸品有限公司-SO-2024-02-1285-件数.xlsx\n"
     ]
    },
    {
     "name": "stderr",
     "output_type": "stream",
     "text": [
      "C:\\Users\\redda\\AppData\\Roaming\\Python\\Python311\\site-packages\\openpyxl\\worksheet\\_reader.py:329: UserWarning: Data Validation extension is not supported and will be removed\n",
      "  warn(msg)\n"
     ]
    },
    {
     "name": "stdout",
     "output_type": "stream",
     "text": [
      "F:\\a00nutstore\\008\\zw08\\莱新订单20241029\\发票模板-按销售订单和存货编码-件数\\发票模板-江西东优贸易有限公司-SO-2024-02-1286-件数.xlsx\n",
      "F:\\a00nutstore\\008\\zw08\\莱新订单20241029\\发票模板-按销售订单和存货编码-件数\\发票模板-武汉嘉迪亚商贸有限公司-SO-2024-02-1287-件数.xlsx\n"
     ]
    },
    {
     "name": "stderr",
     "output_type": "stream",
     "text": [
      "C:\\Users\\redda\\AppData\\Roaming\\Python\\Python311\\site-packages\\openpyxl\\worksheet\\_reader.py:329: UserWarning: Data Validation extension is not supported and will be removed\n",
      "  warn(msg)\n",
      "C:\\Users\\redda\\AppData\\Roaming\\Python\\Python311\\site-packages\\openpyxl\\worksheet\\_reader.py:329: UserWarning: Data Validation extension is not supported and will be removed\n",
      "  warn(msg)\n",
      "C:\\Users\\redda\\AppData\\Roaming\\Python\\Python311\\site-packages\\openpyxl\\worksheet\\_reader.py:329: UserWarning: Data Validation extension is not supported and will be removed\n",
      "  warn(msg)\n"
     ]
    },
    {
     "name": "stdout",
     "output_type": "stream",
     "text": [
      "F:\\a00nutstore\\008\\zw08\\莱新订单20241029\\发票模板-按销售订单和存货编码-件数\\发票模板-武汉今日成纸业有限公司-SO-2024-02-1288-件数.xlsx\n",
      "F:\\a00nutstore\\008\\zw08\\莱新订单20241029\\发票模板-按销售订单和存货编码-件数\\发票模板-武汉中威百联商贸有限公司-SO-2024-02-1289-件数.xlsx\n"
     ]
    },
    {
     "name": "stderr",
     "output_type": "stream",
     "text": [
      "C:\\Users\\redda\\AppData\\Roaming\\Python\\Python311\\site-packages\\openpyxl\\worksheet\\_reader.py:329: UserWarning: Data Validation extension is not supported and will be removed\n",
      "  warn(msg)\n"
     ]
    },
    {
     "name": "stdout",
     "output_type": "stream",
     "text": [
      "F:\\a00nutstore\\008\\zw08\\莱新订单20241029\\发票模板-按销售订单和存货编码-件数\\发票模板-武汉市齐达利商贸有限公司-SO-2024-02-1290-件数.xlsx\n"
     ]
    },
    {
     "name": "stderr",
     "output_type": "stream",
     "text": [
      "C:\\Users\\redda\\AppData\\Roaming\\Python\\Python311\\site-packages\\openpyxl\\worksheet\\_reader.py:329: UserWarning: Data Validation extension is not supported and will be removed\n",
      "  warn(msg)\n"
     ]
    },
    {
     "name": "stdout",
     "output_type": "stream",
     "text": [
      "F:\\a00nutstore\\008\\zw08\\莱新订单20241029\\发票模板-按销售订单和存货编码-件数\\发票模板-武汉开先文化用品有限责任公司-SO-2024-02-1291-件数.xlsx\n",
      "F:\\a00nutstore\\008\\zw08\\莱新订单20241029\\发票模板-按销售订单和存货编码-件数\\发票模板-武汉金胜辉商贸有限公司-SO-2024-02-1292-件数.xlsx\n"
     ]
    },
    {
     "name": "stderr",
     "output_type": "stream",
     "text": [
      "C:\\Users\\redda\\AppData\\Roaming\\Python\\Python311\\site-packages\\openpyxl\\worksheet\\_reader.py:329: UserWarning: Data Validation extension is not supported and will be removed\n",
      "  warn(msg)\n",
      "C:\\Users\\redda\\AppData\\Roaming\\Python\\Python311\\site-packages\\openpyxl\\worksheet\\_reader.py:329: UserWarning: Data Validation extension is not supported and will be removed\n",
      "  warn(msg)\n",
      "C:\\Users\\redda\\AppData\\Roaming\\Python\\Python311\\site-packages\\openpyxl\\worksheet\\_reader.py:329: UserWarning: Data Validation extension is not supported and will be removed\n",
      "  warn(msg)\n"
     ]
    },
    {
     "name": "stdout",
     "output_type": "stream",
     "text": [
      "F:\\a00nutstore\\008\\zw08\\莱新订单20241029\\发票模板-按销售订单和存货编码-件数\\发票模板-武汉市热脉文体用品有限公司-SO-2024-02-1293-件数.xlsx\n",
      "F:\\a00nutstore\\008\\zw08\\莱新订单20241029\\发票模板-按销售订单和存货编码-件数\\发票模板-义乌范光洪-SO-2024-02-1294-件数.xlsx\n"
     ]
    },
    {
     "name": "stderr",
     "output_type": "stream",
     "text": [
      "C:\\Users\\redda\\AppData\\Roaming\\Python\\Python311\\site-packages\\openpyxl\\worksheet\\_reader.py:329: UserWarning: Data Validation extension is not supported and will be removed\n",
      "  warn(msg)\n"
     ]
    },
    {
     "name": "stdout",
     "output_type": "stream",
     "text": [
      "F:\\a00nutstore\\008\\zw08\\莱新订单20241029\\发票模板-按销售订单和存货编码-件数\\发票模板-桂林竞升文化用品有限公司-SO-2024-02-1295-件数.xlsx\n"
     ]
    },
    {
     "name": "stderr",
     "output_type": "stream",
     "text": [
      "C:\\Users\\redda\\AppData\\Roaming\\Python\\Python311\\site-packages\\openpyxl\\worksheet\\_reader.py:329: UserWarning: Data Validation extension is not supported and will be removed\n",
      "  warn(msg)\n"
     ]
    },
    {
     "name": "stdout",
     "output_type": "stream",
     "text": [
      "F:\\a00nutstore\\008\\zw08\\莱新订单20241029\\发票模板-按销售订单和存货编码-件数\\发票模板-桂林竞升文化用品有限公司-SO-2024-02-1296-件数.xlsx\n"
     ]
    },
    {
     "name": "stderr",
     "output_type": "stream",
     "text": [
      "C:\\Users\\redda\\AppData\\Roaming\\Python\\Python311\\site-packages\\openpyxl\\worksheet\\_reader.py:329: UserWarning: Data Validation extension is not supported and will be removed\n",
      "  warn(msg)\n"
     ]
    },
    {
     "name": "stdout",
     "output_type": "stream",
     "text": [
      "F:\\a00nutstore\\008\\zw08\\莱新订单20241029\\发票模板-按销售订单和存货编码-件数\\发票模板-河南抬头喜办公用品有限公司S-SO-2024-02-1297-件数.xlsx\n"
     ]
    },
    {
     "name": "stderr",
     "output_type": "stream",
     "text": [
      "C:\\Users\\redda\\AppData\\Roaming\\Python\\Python311\\site-packages\\openpyxl\\worksheet\\_reader.py:329: UserWarning: Data Validation extension is not supported and will be removed\n",
      "  warn(msg)\n"
     ]
    },
    {
     "name": "stdout",
     "output_type": "stream",
     "text": [
      "F:\\a00nutstore\\008\\zw08\\莱新订单20241029\\发票模板-按销售订单和存货编码-件数\\发票模板-成都迪欣杨商贸有限公司-SO-2024-02-1298-件数.xlsx\n"
     ]
    },
    {
     "name": "stderr",
     "output_type": "stream",
     "text": [
      "C:\\Users\\redda\\AppData\\Roaming\\Python\\Python311\\site-packages\\openpyxl\\worksheet\\_reader.py:329: UserWarning: Data Validation extension is not supported and will be removed\n",
      "  warn(msg)\n"
     ]
    },
    {
     "name": "stdout",
     "output_type": "stream",
     "text": [
      "F:\\a00nutstore\\008\\zw08\\莱新订单20241029\\发票模板-按销售订单和存货编码-件数\\发票模板-泸州佳之彩商贸有限公司-SO-2024-02-1299-件数.xlsx\n"
     ]
    },
    {
     "name": "stderr",
     "output_type": "stream",
     "text": [
      "C:\\Users\\redda\\AppData\\Roaming\\Python\\Python311\\site-packages\\openpyxl\\worksheet\\_reader.py:329: UserWarning: Data Validation extension is not supported and will be removed\n",
      "  warn(msg)\n"
     ]
    },
    {
     "name": "stdout",
     "output_type": "stream",
     "text": [
      "F:\\a00nutstore\\008\\zw08\\莱新订单20241029\\发票模板-按销售订单和存货编码-件数\\发票模板-昆明许玉娥-SO-2024-02-1300-件数.xlsx\n"
     ]
    },
    {
     "name": "stderr",
     "output_type": "stream",
     "text": [
      "C:\\Users\\redda\\AppData\\Roaming\\Python\\Python311\\site-packages\\openpyxl\\worksheet\\_reader.py:329: UserWarning: Data Validation extension is not supported and will be removed\n",
      "  warn(msg)\n",
      "C:\\Users\\redda\\AppData\\Roaming\\Python\\Python311\\site-packages\\openpyxl\\worksheet\\_reader.py:329: UserWarning: Data Validation extension is not supported and will be removed\n",
      "  warn(msg)\n"
     ]
    },
    {
     "name": "stdout",
     "output_type": "stream",
     "text": [
      "F:\\a00nutstore\\008\\zw08\\莱新订单20241029\\发票模板-按销售订单和存货编码-件数\\发票模板-武汉开先文化用品有限责任公司-SO-2024-02-1301-件数.xlsx\n",
      "F:\\a00nutstore\\008\\zw08\\莱新订单20241029\\发票模板-按销售订单和存货编码-件数\\发票模板-武汉米圣贸易有限公司-SO-2024-02-1302-件数.xlsx\n"
     ]
    },
    {
     "name": "stderr",
     "output_type": "stream",
     "text": [
      "C:\\Users\\redda\\AppData\\Roaming\\Python\\Python311\\site-packages\\openpyxl\\worksheet\\_reader.py:329: UserWarning: Data Validation extension is not supported and will be removed\n",
      "  warn(msg)\n",
      "C:\\Users\\redda\\AppData\\Roaming\\Python\\Python311\\site-packages\\openpyxl\\worksheet\\_reader.py:329: UserWarning: Data Validation extension is not supported and will be removed\n",
      "  warn(msg)\n"
     ]
    },
    {
     "name": "stdout",
     "output_type": "stream",
     "text": [
      "F:\\a00nutstore\\008\\zw08\\莱新订单20241029\\发票模板-按销售订单和存货编码-件数\\发票模板-武汉市众缘商贸有限责任公司-SO-2024-02-1303-件数.xlsx\n",
      "F:\\a00nutstore\\008\\zw08\\莱新订单20241029\\发票模板-按销售订单和存货编码-件数\\发票模板-武汉金宸翰办公用品有限公司-SO-2024-02-1304-件数.xlsx\n",
      "F:\\a00nutstore\\008\\zw08\\莱新订单20241029\\发票模板-按销售订单和存货编码-件数\\发票模板-武汉优聚优品贸易有限公司-SO-2024-02-1305-件数.xlsx\n"
     ]
    },
    {
     "name": "stderr",
     "output_type": "stream",
     "text": [
      "C:\\Users\\redda\\AppData\\Roaming\\Python\\Python311\\site-packages\\openpyxl\\worksheet\\_reader.py:329: UserWarning: Data Validation extension is not supported and will be removed\n",
      "  warn(msg)\n",
      "C:\\Users\\redda\\AppData\\Roaming\\Python\\Python311\\site-packages\\openpyxl\\worksheet\\_reader.py:329: UserWarning: Data Validation extension is not supported and will be removed\n",
      "  warn(msg)\n",
      "C:\\Users\\redda\\AppData\\Roaming\\Python\\Python311\\site-packages\\openpyxl\\worksheet\\_reader.py:329: UserWarning: Data Validation extension is not supported and will be removed\n",
      "  warn(msg)\n"
     ]
    },
    {
     "name": "stdout",
     "output_type": "stream",
     "text": [
      "F:\\a00nutstore\\008\\zw08\\莱新订单20241029\\发票模板-按销售订单和存货编码-件数\\发票模板-武汉市热脉文体用品有限公司-SO-2024-02-1306-件数.xlsx\n",
      "F:\\a00nutstore\\008\\zw08\\莱新订单20241029\\发票模板-按销售订单和存货编码-件数\\发票模板-武汉金胜辉商贸有限公司-SO-2024-02-1307-件数.xlsx\n"
     ]
    },
    {
     "name": "stderr",
     "output_type": "stream",
     "text": [
      "C:\\Users\\redda\\AppData\\Roaming\\Python\\Python311\\site-packages\\openpyxl\\worksheet\\_reader.py:329: UserWarning: Data Validation extension is not supported and will be removed\n",
      "  warn(msg)\n",
      "C:\\Users\\redda\\AppData\\Roaming\\Python\\Python311\\site-packages\\openpyxl\\worksheet\\_reader.py:329: UserWarning: Data Validation extension is not supported and will be removed\n",
      "  warn(msg)\n"
     ]
    },
    {
     "name": "stdout",
     "output_type": "stream",
     "text": [
      "F:\\a00nutstore\\008\\zw08\\莱新订单20241029\\发票模板-按销售订单和存货编码-件数\\发票模板-武汉金宸翰办公用品有限公司1-SO-2024-02-1308-件数.xlsx\n",
      "F:\\a00nutstore\\008\\zw08\\莱新订单20241029\\发票模板-按销售订单和存货编码-件数\\发票模板-湖北昇耀商贸有限公司-SO-2024-02-1309-件数.xlsx\n"
     ]
    },
    {
     "name": "stderr",
     "output_type": "stream",
     "text": [
      "C:\\Users\\redda\\AppData\\Roaming\\Python\\Python311\\site-packages\\openpyxl\\worksheet\\_reader.py:329: UserWarning: Data Validation extension is not supported and will be removed\n",
      "  warn(msg)\n"
     ]
    },
    {
     "name": "stdout",
     "output_type": "stream",
     "text": [
      "F:\\a00nutstore\\008\\zw08\\莱新订单20241029\\发票模板-按销售订单和存货编码-件数\\发票模板-武汉今日成纸业有限公司-SO-2024-02-1310-件数.xlsx\n"
     ]
    },
    {
     "name": "stderr",
     "output_type": "stream",
     "text": [
      "C:\\Users\\redda\\AppData\\Roaming\\Python\\Python311\\site-packages\\openpyxl\\worksheet\\_reader.py:329: UserWarning: Data Validation extension is not supported and will be removed\n",
      "  warn(msg)\n"
     ]
    },
    {
     "name": "stdout",
     "output_type": "stream",
     "text": [
      "F:\\a00nutstore\\008\\zw08\\莱新订单20241029\\发票模板-按销售订单和存货编码-件数\\发票模板-武汉嘉迪亚商贸有限公司-SO-2024-02-1311-件数.xlsx\n"
     ]
    },
    {
     "name": "stderr",
     "output_type": "stream",
     "text": [
      "C:\\Users\\redda\\AppData\\Roaming\\Python\\Python311\\site-packages\\openpyxl\\worksheet\\_reader.py:329: UserWarning: Data Validation extension is not supported and will be removed\n",
      "  warn(msg)\n",
      "C:\\Users\\redda\\AppData\\Roaming\\Python\\Python311\\site-packages\\openpyxl\\worksheet\\_reader.py:329: UserWarning: Data Validation extension is not supported and will be removed\n",
      "  warn(msg)\n"
     ]
    },
    {
     "name": "stdout",
     "output_type": "stream",
     "text": [
      "F:\\a00nutstore\\008\\zw08\\莱新订单20241029\\发票模板-按销售订单和存货编码-件数\\发票模板-汉中圣博商贸有限责任公司-SO-2024-02-1312-件数.xlsx\n",
      "F:\\a00nutstore\\008\\zw08\\莱新订单20241029\\发票模板-按销售订单和存货编码-件数\\发票模板-云南非常文化用品有限公司-SO-2024-02-1313-件数.xlsx\n"
     ]
    },
    {
     "name": "stderr",
     "output_type": "stream",
     "text": [
      "C:\\Users\\redda\\AppData\\Roaming\\Python\\Python311\\site-packages\\openpyxl\\worksheet\\_reader.py:329: UserWarning: Data Validation extension is not supported and will be removed\n",
      "  warn(msg)\n",
      "C:\\Users\\redda\\AppData\\Roaming\\Python\\Python311\\site-packages\\openpyxl\\worksheet\\_reader.py:329: UserWarning: Data Validation extension is not supported and will be removed\n",
      "  warn(msg)\n"
     ]
    },
    {
     "name": "stdout",
     "output_type": "stream",
     "text": [
      "F:\\a00nutstore\\008\\zw08\\莱新订单20241029\\发票模板-按销售订单和存货编码-件数\\发票模板-石家庄本米文具用品销售有限公司-SO-2024-02-1314-件数.xlsx\n",
      "F:\\a00nutstore\\008\\zw08\\莱新订单20241029\\发票模板-按销售订单和存货编码-件数\\发票模板-芜湖迈斯广告传媒有限公司-SO-2024-02-1315-件数.xlsx\n"
     ]
    },
    {
     "name": "stderr",
     "output_type": "stream",
     "text": [
      "C:\\Users\\redda\\AppData\\Roaming\\Python\\Python311\\site-packages\\openpyxl\\worksheet\\_reader.py:329: UserWarning: Data Validation extension is not supported and will be removed\n",
      "  warn(msg)\n"
     ]
    },
    {
     "name": "stdout",
     "output_type": "stream",
     "text": [
      "F:\\a00nutstore\\008\\zw08\\莱新订单20241029\\发票模板-按销售订单和存货编码-件数\\发票模板-湖北昇耀商贸有限公司-SO-2024-02-1316-件数.xlsx\n"
     ]
    },
    {
     "name": "stderr",
     "output_type": "stream",
     "text": [
      "C:\\Users\\redda\\AppData\\Roaming\\Python\\Python311\\site-packages\\openpyxl\\worksheet\\_reader.py:329: UserWarning: Data Validation extension is not supported and will be removed\n",
      "  warn(msg)\n",
      "C:\\Users\\redda\\AppData\\Roaming\\Python\\Python311\\site-packages\\openpyxl\\worksheet\\_reader.py:329: UserWarning: Data Validation extension is not supported and will be removed\n",
      "  warn(msg)\n"
     ]
    },
    {
     "name": "stdout",
     "output_type": "stream",
     "text": [
      "F:\\a00nutstore\\008\\zw08\\莱新订单20241029\\发票模板-按销售订单和存货编码-件数\\发票模板-武汉静静舒文体用品有限公司-SO-2024-02-1317-件数.xlsx\n",
      "F:\\a00nutstore\\008\\zw08\\莱新订单20241029\\发票模板-按销售订单和存货编码-件数\\发票模板-武汉开先文化用品有限责任公司-SO-2024-02-1318-件数.xlsx\n"
     ]
    },
    {
     "name": "stderr",
     "output_type": "stream",
     "text": [
      "C:\\Users\\redda\\AppData\\Roaming\\Python\\Python311\\site-packages\\openpyxl\\worksheet\\_reader.py:329: UserWarning: Data Validation extension is not supported and will be removed\n",
      "  warn(msg)\n",
      "C:\\Users\\redda\\AppData\\Roaming\\Python\\Python311\\site-packages\\openpyxl\\worksheet\\_reader.py:329: UserWarning: Data Validation extension is not supported and will be removed\n",
      "  warn(msg)\n"
     ]
    },
    {
     "name": "stdout",
     "output_type": "stream",
     "text": [
      "F:\\a00nutstore\\008\\zw08\\莱新订单20241029\\发票模板-按销售订单和存货编码-件数\\发票模板-西安垄裕商贸有限公司-SO-2024-02-1319-件数.xlsx\n",
      "F:\\a00nutstore\\008\\zw08\\莱新订单20241029\\发票模板-按销售订单和存货编码-件数\\发票模板-品壹佰河北商贸有限公司-SO-2024-02-1320-件数.xlsx\n"
     ]
    },
    {
     "name": "stderr",
     "output_type": "stream",
     "text": [
      "C:\\Users\\redda\\AppData\\Roaming\\Python\\Python311\\site-packages\\openpyxl\\worksheet\\_reader.py:329: UserWarning: Data Validation extension is not supported and will be removed\n",
      "  warn(msg)\n"
     ]
    },
    {
     "name": "stdout",
     "output_type": "stream",
     "text": [
      "F:\\a00nutstore\\008\\zw08\\莱新订单20241029\\发票模板-按销售订单和存货编码-件数\\发票模板-天津集采科技发展有限公司-SO-2024-02-1321-件数.xlsx\n"
     ]
    },
    {
     "name": "stderr",
     "output_type": "stream",
     "text": [
      "C:\\Users\\redda\\AppData\\Roaming\\Python\\Python311\\site-packages\\openpyxl\\worksheet\\_reader.py:329: UserWarning: Data Validation extension is not supported and will be removed\n",
      "  warn(msg)\n",
      "C:\\Users\\redda\\AppData\\Roaming\\Python\\Python311\\site-packages\\openpyxl\\worksheet\\_reader.py:329: UserWarning: Data Validation extension is not supported and will be removed\n",
      "  warn(msg)\n"
     ]
    },
    {
     "name": "stdout",
     "output_type": "stream",
     "text": [
      "F:\\a00nutstore\\008\\zw08\\莱新订单20241029\\发票模板-按销售订单和存货编码-件数\\发票模板-武汉金胜辉商贸有限公司-SO-2024-02-1322-件数.xlsx\n",
      "F:\\a00nutstore\\008\\zw08\\莱新订单20241029\\发票模板-按销售订单和存货编码-件数\\发票模板-武汉开先文化用品有限责任公司-SO-2024-02-1323-件数.xlsx\n"
     ]
    },
    {
     "name": "stderr",
     "output_type": "stream",
     "text": [
      "C:\\Users\\redda\\AppData\\Roaming\\Python\\Python311\\site-packages\\openpyxl\\worksheet\\_reader.py:329: UserWarning: Data Validation extension is not supported and will be removed\n",
      "  warn(msg)\n"
     ]
    },
    {
     "name": "stdout",
     "output_type": "stream",
     "text": [
      "F:\\a00nutstore\\008\\zw08\\莱新订单20241029\\发票模板-按销售订单和存货编码-件数\\发票模板-武汉金胜辉商贸有限公司-SO-2024-02-1324-件数.xlsx\n",
      "F:\\a00nutstore\\008\\zw08\\莱新订单20241029\\发票模板-按销售订单和存货编码-件数\\发票模板-武汉中威百联商贸有限公司-SO-2024-02-1325-件数.xlsx\n"
     ]
    },
    {
     "name": "stderr",
     "output_type": "stream",
     "text": [
      "C:\\Users\\redda\\AppData\\Roaming\\Python\\Python311\\site-packages\\openpyxl\\worksheet\\_reader.py:329: UserWarning: Data Validation extension is not supported and will be removed\n",
      "  warn(msg)\n",
      "C:\\Users\\redda\\AppData\\Roaming\\Python\\Python311\\site-packages\\openpyxl\\worksheet\\_reader.py:329: UserWarning: Data Validation extension is not supported and will be removed\n",
      "  warn(msg)\n"
     ]
    },
    {
     "name": "stdout",
     "output_type": "stream",
     "text": [
      "F:\\a00nutstore\\008\\zw08\\莱新订单20241029\\发票模板-按销售订单和存货编码-件数\\发票模板-湖北昇耀商贸有限公司-SO-2024-02-1326-件数.xlsx\n"
     ]
    },
    {
     "name": "stderr",
     "output_type": "stream",
     "text": [
      "C:\\Users\\redda\\AppData\\Roaming\\Python\\Python311\\site-packages\\openpyxl\\worksheet\\_reader.py:329: UserWarning: Data Validation extension is not supported and will be removed\n",
      "  warn(msg)\n"
     ]
    },
    {
     "name": "stdout",
     "output_type": "stream",
     "text": [
      "F:\\a00nutstore\\008\\zw08\\莱新订单20241029\\发票模板-按销售订单和存货编码-件数\\发票模板-武汉市众缘商贸有限责任公司-SO-2024-02-1327-件数.xlsx\n"
     ]
    },
    {
     "name": "stderr",
     "output_type": "stream",
     "text": [
      "C:\\Users\\redda\\AppData\\Roaming\\Python\\Python311\\site-packages\\openpyxl\\worksheet\\_reader.py:329: UserWarning: Data Validation extension is not supported and will be removed\n",
      "  warn(msg)\n"
     ]
    },
    {
     "name": "stdout",
     "output_type": "stream",
     "text": [
      "F:\\a00nutstore\\008\\zw08\\莱新订单20241029\\发票模板-按销售订单和存货编码-件数\\发票模板-武汉今日成纸业有限公司-SO-2024-02-1328-件数.xlsx\n"
     ]
    },
    {
     "name": "stderr",
     "output_type": "stream",
     "text": [
      "C:\\Users\\redda\\AppData\\Roaming\\Python\\Python311\\site-packages\\openpyxl\\worksheet\\_reader.py:329: UserWarning: Data Validation extension is not supported and will be removed\n",
      "  warn(msg)\n",
      "C:\\Users\\redda\\AppData\\Roaming\\Python\\Python311\\site-packages\\openpyxl\\worksheet\\_reader.py:329: UserWarning: Data Validation extension is not supported and will be removed\n",
      "  warn(msg)\n"
     ]
    },
    {
     "name": "stdout",
     "output_type": "stream",
     "text": [
      "F:\\a00nutstore\\008\\zw08\\莱新订单20241029\\发票模板-按销售订单和存货编码-件数\\发票模板-河南抬头喜办公用品有限公司S-SO-2024-02-1329-件数.xlsx\n",
      "F:\\a00nutstore\\008\\zw08\\莱新订单20241029\\发票模板-按销售订单和存货编码-件数\\发票模板-武汉市热脉文体用品有限公司-SO-2024-02-1330-件数.xlsx\n"
     ]
    },
    {
     "name": "stderr",
     "output_type": "stream",
     "text": [
      "C:\\Users\\redda\\AppData\\Roaming\\Python\\Python311\\site-packages\\openpyxl\\worksheet\\_reader.py:329: UserWarning: Data Validation extension is not supported and will be removed\n",
      "  warn(msg)\n"
     ]
    },
    {
     "name": "stdout",
     "output_type": "stream",
     "text": [
      "F:\\a00nutstore\\008\\zw08\\莱新订单20241029\\发票模板-按销售订单和存货编码-件数\\发票模板-武汉金宸翰办公用品有限公司-SO-2024-02-1331-件数.xlsx\n"
     ]
    },
    {
     "name": "stderr",
     "output_type": "stream",
     "text": [
      "C:\\Users\\redda\\AppData\\Roaming\\Python\\Python311\\site-packages\\openpyxl\\worksheet\\_reader.py:329: UserWarning: Data Validation extension is not supported and will be removed\n",
      "  warn(msg)\n",
      "C:\\Users\\redda\\AppData\\Roaming\\Python\\Python311\\site-packages\\openpyxl\\worksheet\\_reader.py:329: UserWarning: Data Validation extension is not supported and will be removed\n",
      "  warn(msg)\n"
     ]
    },
    {
     "name": "stdout",
     "output_type": "stream",
     "text": [
      "F:\\a00nutstore\\008\\zw08\\莱新订单20241029\\发票模板-按销售订单和存货编码-件数\\发票模板-武汉市热脉文体用品有限公司-SO-2024-02-1332-件数.xlsx\n",
      "F:\\a00nutstore\\008\\zw08\\莱新订单20241029\\发票模板-按销售订单和存货编码-件数\\发票模板-吉林耐斯商贸有限公司-SO-2024-02-1333-件数.xlsx\n"
     ]
    },
    {
     "name": "stderr",
     "output_type": "stream",
     "text": [
      "C:\\Users\\redda\\AppData\\Roaming\\Python\\Python311\\site-packages\\openpyxl\\worksheet\\_reader.py:329: UserWarning: Data Validation extension is not supported and will be removed\n",
      "  warn(msg)\n",
      "C:\\Users\\redda\\AppData\\Roaming\\Python\\Python311\\site-packages\\openpyxl\\worksheet\\_reader.py:329: UserWarning: Data Validation extension is not supported and will be removed\n",
      "  warn(msg)\n"
     ]
    },
    {
     "name": "stdout",
     "output_type": "stream",
     "text": [
      "F:\\a00nutstore\\008\\zw08\\莱新订单20241029\\发票模板-按销售订单和存货编码-件数\\发票模板-河南梓亦桐商贸有限公司-SO-2024-02-1334-件数.xlsx\n",
      "F:\\a00nutstore\\008\\zw08\\莱新订单20241029\\发票模板-按销售订单和存货编码-件数\\发票模板-合肥徍兴文化用品有限公司-SO-2024-02-1335-件数.xlsx\n",
      "F:\\a00nutstore\\008\\zw08\\莱新订单20241029\\发票模板-按销售订单和存货编码-件数\\发票模板-南宁市小木屋文化用品有限公司-SO-2024-02-1336-件数.xlsx\n"
     ]
    },
    {
     "name": "stderr",
     "output_type": "stream",
     "text": [
      "C:\\Users\\redda\\AppData\\Roaming\\Python\\Python311\\site-packages\\openpyxl\\worksheet\\_reader.py:329: UserWarning: Data Validation extension is not supported and will be removed\n",
      "  warn(msg)\n",
      "C:\\Users\\redda\\AppData\\Roaming\\Python\\Python311\\site-packages\\openpyxl\\worksheet\\_reader.py:329: UserWarning: Data Validation extension is not supported and will be removed\n",
      "  warn(msg)\n",
      "C:\\Users\\redda\\AppData\\Roaming\\Python\\Python311\\site-packages\\openpyxl\\worksheet\\_reader.py:329: UserWarning: Data Validation extension is not supported and will be removed\n",
      "  warn(msg)\n"
     ]
    },
    {
     "name": "stdout",
     "output_type": "stream",
     "text": [
      "F:\\a00nutstore\\008\\zw08\\莱新订单20241029\\发票模板-按销售订单和存货编码-件数\\发票模板-南阳雪枫商贸有限公司-SO-2024-02-1337-件数.xlsx\n",
      "F:\\a00nutstore\\008\\zw08\\莱新订单20241029\\发票模板-按销售订单和存货编码-件数\\发票模板-武汉金胜辉商贸有限公司-SO-2024-02-1338-件数.xlsx\n"
     ]
    },
    {
     "name": "stderr",
     "output_type": "stream",
     "text": [
      "C:\\Users\\redda\\AppData\\Roaming\\Python\\Python311\\site-packages\\openpyxl\\worksheet\\_reader.py:329: UserWarning: Data Validation extension is not supported and will be removed\n",
      "  warn(msg)\n",
      "C:\\Users\\redda\\AppData\\Roaming\\Python\\Python311\\site-packages\\openpyxl\\worksheet\\_reader.py:329: UserWarning: Data Validation extension is not supported and will be removed\n",
      "  warn(msg)\n"
     ]
    },
    {
     "name": "stdout",
     "output_type": "stream",
     "text": [
      "F:\\a00nutstore\\008\\zw08\\莱新订单20241029\\发票模板-按销售订单和存货编码-件数\\发票模板-武汉开先文化用品有限责任公司-SO-2024-02-1339-件数.xlsx\n",
      "F:\\a00nutstore\\008\\zw08\\莱新订单20241029\\发票模板-按销售订单和存货编码-件数\\发票模板-湖北昇耀商贸有限公司-SO-2024-02-1340-件数.xlsx\n"
     ]
    },
    {
     "name": "stderr",
     "output_type": "stream",
     "text": [
      "C:\\Users\\redda\\AppData\\Roaming\\Python\\Python311\\site-packages\\openpyxl\\worksheet\\_reader.py:329: UserWarning: Data Validation extension is not supported and will be removed\n",
      "  warn(msg)\n"
     ]
    },
    {
     "name": "stdout",
     "output_type": "stream",
     "text": [
      "F:\\a00nutstore\\008\\zw08\\莱新订单20241029\\发票模板-按销售订单和存货编码-件数\\发票模板-武汉市热脉文体用品有限公司-SO-2024-02-1341-件数.xlsx\n"
     ]
    },
    {
     "name": "stderr",
     "output_type": "stream",
     "text": [
      "C:\\Users\\redda\\AppData\\Roaming\\Python\\Python311\\site-packages\\openpyxl\\worksheet\\_reader.py:329: UserWarning: Data Validation extension is not supported and will be removed\n",
      "  warn(msg)\n"
     ]
    },
    {
     "name": "stdout",
     "output_type": "stream",
     "text": [
      "F:\\a00nutstore\\008\\zw08\\莱新订单20241029\\发票模板-按销售订单和存货编码-件数\\发票模板-武汉乐得电子商务有限公司L-SO-2024-02-1342-件数.xlsx\n",
      "F:\\a00nutstore\\008\\zw08\\莱新订单20241029\\发票模板-按销售订单和存货编码-件数\\发票模板-武汉米圣贸易有限公司-SO-2024-02-1343-件数.xlsx\n"
     ]
    },
    {
     "name": "stderr",
     "output_type": "stream",
     "text": [
      "C:\\Users\\redda\\AppData\\Roaming\\Python\\Python311\\site-packages\\openpyxl\\worksheet\\_reader.py:329: UserWarning: Data Validation extension is not supported and will be removed\n",
      "  warn(msg)\n",
      "C:\\Users\\redda\\AppData\\Roaming\\Python\\Python311\\site-packages\\openpyxl\\worksheet\\_reader.py:329: UserWarning: Data Validation extension is not supported and will be removed\n",
      "  warn(msg)\n",
      "C:\\Users\\redda\\AppData\\Roaming\\Python\\Python311\\site-packages\\openpyxl\\worksheet\\_reader.py:329: UserWarning: Data Validation extension is not supported and will be removed\n",
      "  warn(msg)\n"
     ]
    },
    {
     "name": "stdout",
     "output_type": "stream",
     "text": [
      "F:\\a00nutstore\\008\\zw08\\莱新订单20241029\\发票模板-按销售订单和存货编码-件数\\发票模板-成都乐尚怡智商贸有限公司-SO-2024-02-1344-件数.xlsx\n",
      "F:\\a00nutstore\\008\\zw08\\莱新订单20241029\\发票模板-按销售订单和存货编码-件数\\发票模板-石家庄本米文具用品销售有限公司-SO-2024-02-1345-件数.xlsx\n"
     ]
    },
    {
     "name": "stderr",
     "output_type": "stream",
     "text": [
      "C:\\Users\\redda\\AppData\\Roaming\\Python\\Python311\\site-packages\\openpyxl\\worksheet\\_reader.py:329: UserWarning: Data Validation extension is not supported and will be removed\n",
      "  warn(msg)\n"
     ]
    },
    {
     "name": "stdout",
     "output_type": "stream",
     "text": [
      "F:\\a00nutstore\\008\\zw08\\莱新订单20241029\\发票模板-按销售订单和存货编码-件数\\发票模板-西安百花工贸有限公司-SO-2024-02-1346-件数.xlsx\n"
     ]
    },
    {
     "name": "stderr",
     "output_type": "stream",
     "text": [
      "C:\\Users\\redda\\AppData\\Roaming\\Python\\Python311\\site-packages\\openpyxl\\worksheet\\_reader.py:329: UserWarning: Data Validation extension is not supported and will be removed\n",
      "  warn(msg)\n"
     ]
    },
    {
     "name": "stdout",
     "output_type": "stream",
     "text": [
      "F:\\a00nutstore\\008\\zw08\\莱新订单20241029\\发票模板-按销售订单和存货编码-件数\\发票模板-成都乐尚怡智商贸有限公司-SO-2024-02-1347-件数.xlsx\n",
      "F:\\a00nutstore\\008\\zw08\\莱新订单20241029\\发票模板-按销售订单和存货编码-件数\\发票模板-河南抬头喜办公用品有限公司S-SO-2024-02-1348-件数.xlsx\n"
     ]
    },
    {
     "name": "stderr",
     "output_type": "stream",
     "text": [
      "C:\\Users\\redda\\AppData\\Roaming\\Python\\Python311\\site-packages\\openpyxl\\worksheet\\_reader.py:329: UserWarning: Data Validation extension is not supported and will be removed\n",
      "  warn(msg)\n",
      "C:\\Users\\redda\\AppData\\Roaming\\Python\\Python311\\site-packages\\openpyxl\\worksheet\\_reader.py:329: UserWarning: Data Validation extension is not supported and will be removed\n",
      "  warn(msg)\n",
      "C:\\Users\\redda\\AppData\\Roaming\\Python\\Python311\\site-packages\\openpyxl\\worksheet\\_reader.py:329: UserWarning: Data Validation extension is not supported and will be removed\n",
      "  warn(msg)\n"
     ]
    },
    {
     "name": "stdout",
     "output_type": "stream",
     "text": [
      "F:\\a00nutstore\\008\\zw08\\莱新订单20241029\\发票模板-按销售订单和存货编码-件数\\发票模板-武汉嘉迪亚商贸有限公司-SO-2024-02-1349-件数.xlsx\n",
      "F:\\a00nutstore\\008\\zw08\\莱新订单20241029\\发票模板-按销售订单和存货编码-件数\\发票模板-武汉米圣贸易有限公司-SO-2024-02-1350-件数.xlsx\n"
     ]
    },
    {
     "name": "stderr",
     "output_type": "stream",
     "text": [
      "C:\\Users\\redda\\AppData\\Roaming\\Python\\Python311\\site-packages\\openpyxl\\worksheet\\_reader.py:329: UserWarning: Data Validation extension is not supported and will be removed\n",
      "  warn(msg)\n"
     ]
    },
    {
     "name": "stdout",
     "output_type": "stream",
     "text": [
      "F:\\a00nutstore\\008\\zw08\\莱新订单20241029\\发票模板-按销售订单和存货编码-件数\\发票模板-湖北昇耀商贸有限公司-SO-2024-02-1351-件数.xlsx\n"
     ]
    },
    {
     "name": "stderr",
     "output_type": "stream",
     "text": [
      "C:\\Users\\redda\\AppData\\Roaming\\Python\\Python311\\site-packages\\openpyxl\\worksheet\\_reader.py:329: UserWarning: Data Validation extension is not supported and will be removed\n",
      "  warn(msg)\n",
      "C:\\Users\\redda\\AppData\\Roaming\\Python\\Python311\\site-packages\\openpyxl\\worksheet\\_reader.py:329: UserWarning: Data Validation extension is not supported and will be removed\n",
      "  warn(msg)\n"
     ]
    },
    {
     "name": "stdout",
     "output_type": "stream",
     "text": [
      "F:\\a00nutstore\\008\\zw08\\莱新订单20241029\\发票模板-按销售订单和存货编码-件数\\发票模板-武汉金胜辉商贸有限公司-SO-2024-02-1352-件数.xlsx\n",
      "F:\\a00nutstore\\008\\zw08\\莱新订单20241029\\发票模板-按销售订单和存货编码-件数\\发票模板-武汉金宸翰办公用品有限公司1-SO-2024-02-1353-件数.xlsx\n",
      "F:\\a00nutstore\\008\\zw08\\莱新订单20241029\\发票模板-按销售订单和存货编码-件数\\发票模板-武汉开先文化用品有限责任公司-SO-2024-02-1354-件数.xlsx\n"
     ]
    },
    {
     "name": "stderr",
     "output_type": "stream",
     "text": [
      "C:\\Users\\redda\\AppData\\Roaming\\Python\\Python311\\site-packages\\openpyxl\\worksheet\\_reader.py:329: UserWarning: Data Validation extension is not supported and will be removed\n",
      "  warn(msg)\n",
      "C:\\Users\\redda\\AppData\\Roaming\\Python\\Python311\\site-packages\\openpyxl\\worksheet\\_reader.py:329: UserWarning: Data Validation extension is not supported and will be removed\n",
      "  warn(msg)\n"
     ]
    },
    {
     "name": "stdout",
     "output_type": "stream",
     "text": [
      "F:\\a00nutstore\\008\\zw08\\莱新订单20241029\\发票模板-按销售订单和存货编码-件数\\发票模板-石家庄本米文具用品销售有限公司-SO-2024-02-1355-件数.xlsx\n",
      "F:\\a00nutstore\\008\\zw08\\莱新订单20241029\\发票模板-按销售订单和存货编码-件数\\发票模板-成都杨玲-SO-2024-02-1356-件数.xlsx\n"
     ]
    },
    {
     "name": "stderr",
     "output_type": "stream",
     "text": [
      "C:\\Users\\redda\\AppData\\Roaming\\Python\\Python311\\site-packages\\openpyxl\\worksheet\\_reader.py:329: UserWarning: Data Validation extension is not supported and will be removed\n",
      "  warn(msg)\n",
      "C:\\Users\\redda\\AppData\\Roaming\\Python\\Python311\\site-packages\\openpyxl\\worksheet\\_reader.py:329: UserWarning: Data Validation extension is not supported and will be removed\n",
      "  warn(msg)\n",
      "C:\\Users\\redda\\AppData\\Roaming\\Python\\Python311\\site-packages\\openpyxl\\worksheet\\_reader.py:329: UserWarning: Data Validation extension is not supported and will be removed\n",
      "  warn(msg)\n"
     ]
    },
    {
     "name": "stdout",
     "output_type": "stream",
     "text": [
      "F:\\a00nutstore\\008\\zw08\\莱新订单20241029\\发票模板-按销售订单和存货编码-件数\\发票模板-白玉县诚信办公用品销售有限公司-SO-2024-02-1357-件数.xlsx\n",
      "F:\\a00nutstore\\008\\zw08\\莱新订单20241029\\发票模板-按销售订单和存货编码-件数\\发票模板-成都杨万平-SO-2024-02-1358-件数.xlsx\n"
     ]
    },
    {
     "name": "stderr",
     "output_type": "stream",
     "text": [
      "C:\\Users\\redda\\AppData\\Roaming\\Python\\Python311\\site-packages\\openpyxl\\worksheet\\_reader.py:329: UserWarning: Data Validation extension is not supported and will be removed\n",
      "  warn(msg)\n"
     ]
    },
    {
     "name": "stdout",
     "output_type": "stream",
     "text": [
      "F:\\a00nutstore\\008\\zw08\\莱新订单20241029\\发票模板-按销售订单和存货编码-件数\\发票模板-临沂巧纳金纸品有限公司-SO-2024-02-1359-件数.xlsx\n"
     ]
    },
    {
     "name": "stderr",
     "output_type": "stream",
     "text": [
      "C:\\Users\\redda\\AppData\\Roaming\\Python\\Python311\\site-packages\\openpyxl\\worksheet\\_reader.py:329: UserWarning: Data Validation extension is not supported and will be removed\n",
      "  warn(msg)\n"
     ]
    },
    {
     "name": "stdout",
     "output_type": "stream",
     "text": [
      "F:\\a00nutstore\\008\\zw08\\莱新订单20241029\\发票模板-按销售订单和存货编码-件数\\发票模板-西安华坤集采供应链管理有限公司-SO-2024-02-1360-件数.xlsx\n"
     ]
    },
    {
     "name": "stderr",
     "output_type": "stream",
     "text": [
      "C:\\Users\\redda\\AppData\\Roaming\\Python\\Python311\\site-packages\\openpyxl\\worksheet\\_reader.py:329: UserWarning: Data Validation extension is not supported and will be removed\n",
      "  warn(msg)\n"
     ]
    },
    {
     "name": "stdout",
     "output_type": "stream",
     "text": [
      "F:\\a00nutstore\\008\\zw08\\莱新订单20241029\\发票模板-按销售订单和存货编码-件数\\发票模板-厦门同心成商贸有限公司-SO-2024-02-1361-件数.xlsx\n"
     ]
    },
    {
     "name": "stderr",
     "output_type": "stream",
     "text": [
      "C:\\Users\\redda\\AppData\\Roaming\\Python\\Python311\\site-packages\\openpyxl\\worksheet\\_reader.py:329: UserWarning: Data Validation extension is not supported and will be removed\n",
      "  warn(msg)\n",
      "C:\\Users\\redda\\AppData\\Roaming\\Python\\Python311\\site-packages\\openpyxl\\worksheet\\_reader.py:329: UserWarning: Data Validation extension is not supported and will be removed\n",
      "  warn(msg)\n"
     ]
    },
    {
     "name": "stdout",
     "output_type": "stream",
     "text": [
      "F:\\a00nutstore\\008\\zw08\\莱新订单20241029\\发票模板-按销售订单和存货编码-件数\\发票模板-义乌市博迅文体用品有限公司-SO-2024-02-1362-件数.xlsx\n",
      "F:\\a00nutstore\\008\\zw08\\莱新订单20241029\\发票模板-按销售订单和存货编码-件数\\发票模板-南京好学爱玩信息科技有限公司-SO-2024-02-1363-件数.xlsx\n"
     ]
    },
    {
     "name": "stderr",
     "output_type": "stream",
     "text": [
      "C:\\Users\\redda\\AppData\\Roaming\\Python\\Python311\\site-packages\\openpyxl\\worksheet\\_reader.py:329: UserWarning: Data Validation extension is not supported and will be removed\n",
      "  warn(msg)\n"
     ]
    },
    {
     "name": "stdout",
     "output_type": "stream",
     "text": [
      "F:\\a00nutstore\\008\\zw08\\莱新订单20241029\\发票模板-按销售订单和存货编码-件数\\发票模板-武汉金胜辉商贸有限公司-SO-2024-02-1364-件数.xlsx\n"
     ]
    },
    {
     "name": "stderr",
     "output_type": "stream",
     "text": [
      "C:\\Users\\redda\\AppData\\Roaming\\Python\\Python311\\site-packages\\openpyxl\\worksheet\\_reader.py:329: UserWarning: Data Validation extension is not supported and will be removed\n",
      "  warn(msg)\n"
     ]
    },
    {
     "name": "stdout",
     "output_type": "stream",
     "text": [
      "F:\\a00nutstore\\008\\zw08\\莱新订单20241029\\发票模板-按销售订单和存货编码-件数\\发票模板-武汉米圣贸易有限公司-SO-2024-02-1365-件数.xlsx\n",
      "F:\\a00nutstore\\008\\zw08\\莱新订单20241029\\发票模板-按销售订单和存货编码-件数\\发票模板-河南抬头喜办公用品有限公司S-SO-2024-02-1366-件数.xlsx\n"
     ]
    },
    {
     "name": "stderr",
     "output_type": "stream",
     "text": [
      "C:\\Users\\redda\\AppData\\Roaming\\Python\\Python311\\site-packages\\openpyxl\\worksheet\\_reader.py:329: UserWarning: Data Validation extension is not supported and will be removed\n",
      "  warn(msg)\n",
      "C:\\Users\\redda\\AppData\\Roaming\\Python\\Python311\\site-packages\\openpyxl\\worksheet\\_reader.py:329: UserWarning: Data Validation extension is not supported and will be removed\n",
      "  warn(msg)\n"
     ]
    },
    {
     "name": "stdout",
     "output_type": "stream",
     "text": [
      "F:\\a00nutstore\\008\\zw08\\莱新订单20241029\\发票模板-按销售订单和存货编码-件数\\发票模板-武汉米圣贸易有限公司-SO-2024-02-1367-件数.xlsx\n",
      "F:\\a00nutstore\\008\\zw08\\莱新订单20241029\\发票模板-按销售订单和存货编码-件数\\发票模板-武汉静静舒文体用品有限公司-SO-2024-02-1368-件数.xlsx\n"
     ]
    },
    {
     "name": "stderr",
     "output_type": "stream",
     "text": [
      "C:\\Users\\redda\\AppData\\Roaming\\Python\\Python311\\site-packages\\openpyxl\\worksheet\\_reader.py:329: UserWarning: Data Validation extension is not supported and will be removed\n",
      "  warn(msg)\n",
      "C:\\Users\\redda\\AppData\\Roaming\\Python\\Python311\\site-packages\\openpyxl\\worksheet\\_reader.py:329: UserWarning: Data Validation extension is not supported and will be removed\n",
      "  warn(msg)\n"
     ]
    },
    {
     "name": "stdout",
     "output_type": "stream",
     "text": [
      "F:\\a00nutstore\\008\\zw08\\莱新订单20241029\\发票模板-按销售订单和存货编码-件数\\发票模板-武汉金宸翰办公用品有限公司-SO-2024-02-1369-件数.xlsx\n",
      "F:\\a00nutstore\\008\\zw08\\莱新订单20241029\\发票模板-按销售订单和存货编码-件数\\发票模板-武汉市热脉文体用品有限公司-SO-2024-02-1370-件数.xlsx\n"
     ]
    },
    {
     "name": "stderr",
     "output_type": "stream",
     "text": [
      "C:\\Users\\redda\\AppData\\Roaming\\Python\\Python311\\site-packages\\openpyxl\\worksheet\\_reader.py:329: UserWarning: Data Validation extension is not supported and will be removed\n",
      "  warn(msg)\n",
      "C:\\Users\\redda\\AppData\\Roaming\\Python\\Python311\\site-packages\\openpyxl\\worksheet\\_reader.py:329: UserWarning: Data Validation extension is not supported and will be removed\n",
      "  warn(msg)\n"
     ]
    },
    {
     "name": "stdout",
     "output_type": "stream",
     "text": [
      "F:\\a00nutstore\\008\\zw08\\莱新订单20241029\\发票模板-按销售订单和存货编码-件数\\发票模板-武汉市齐达利商贸有限公司-SO-2024-02-1371-件数.xlsx\n"
     ]
    },
    {
     "name": "stderr",
     "output_type": "stream",
     "text": [
      "C:\\Users\\redda\\AppData\\Roaming\\Python\\Python311\\site-packages\\openpyxl\\worksheet\\_reader.py:329: UserWarning: Data Validation extension is not supported and will be removed\n",
      "  warn(msg)\n",
      "C:\\Users\\redda\\AppData\\Roaming\\Python\\Python311\\site-packages\\openpyxl\\worksheet\\_reader.py:329: UserWarning: Data Validation extension is not supported and will be removed\n",
      "  warn(msg)\n"
     ]
    },
    {
     "name": "stdout",
     "output_type": "stream",
     "text": [
      "F:\\a00nutstore\\008\\zw08\\莱新订单20241029\\发票模板-按销售订单和存货编码-件数\\发票模板-宁夏嘉佰琪商贸有限公司-SO-2024-02-1372-件数.xlsx\n",
      "F:\\a00nutstore\\008\\zw08\\莱新订单20241029\\发票模板-按销售订单和存货编码-件数\\发票模板-安康市申达文化用品有限公司L-SO-2024-02-1373-件数.xlsx\n"
     ]
    },
    {
     "name": "stderr",
     "output_type": "stream",
     "text": [
      "C:\\Users\\redda\\AppData\\Roaming\\Python\\Python311\\site-packages\\openpyxl\\worksheet\\_reader.py:329: UserWarning: Data Validation extension is not supported and will be removed\n",
      "  warn(msg)\n"
     ]
    },
    {
     "name": "stdout",
     "output_type": "stream",
     "text": [
      "F:\\a00nutstore\\008\\zw08\\莱新订单20241029\\发票模板-按销售订单和存货编码-件数\\发票模板-哈尔滨市嘉亿得商贸有限公司-SO-2024-02-1374-件数.xlsx\n",
      "F:\\a00nutstore\\008\\zw08\\莱新订单20241029\\发票模板-按销售订单和存货编码-件数\\发票模板-成都乐尚怡智商贸有限公司-SO-2024-02-1375-件数.xlsx\n"
     ]
    },
    {
     "name": "stderr",
     "output_type": "stream",
     "text": [
      "C:\\Users\\redda\\AppData\\Roaming\\Python\\Python311\\site-packages\\openpyxl\\worksheet\\_reader.py:329: UserWarning: Data Validation extension is not supported and will be removed\n",
      "  warn(msg)\n",
      "C:\\Users\\redda\\AppData\\Roaming\\Python\\Python311\\site-packages\\openpyxl\\worksheet\\_reader.py:329: UserWarning: Data Validation extension is not supported and will be removed\n",
      "  warn(msg)\n"
     ]
    },
    {
     "name": "stdout",
     "output_type": "stream",
     "text": [
      "F:\\a00nutstore\\008\\zw08\\莱新订单20241029\\发票模板-按销售订单和存货编码-件数\\发票模板-哈尔滨市新天地文化用品有限公司-SO-2024-02-1376-件数.xlsx\n"
     ]
    },
    {
     "name": "stderr",
     "output_type": "stream",
     "text": [
      "C:\\Users\\redda\\AppData\\Roaming\\Python\\Python311\\site-packages\\openpyxl\\worksheet\\_reader.py:329: UserWarning: Data Validation extension is not supported and will be removed\n",
      "  warn(msg)\n",
      "C:\\Users\\redda\\AppData\\Roaming\\Python\\Python311\\site-packages\\openpyxl\\worksheet\\_reader.py:329: UserWarning: Data Validation extension is not supported and will be removed\n",
      "  warn(msg)\n"
     ]
    },
    {
     "name": "stdout",
     "output_type": "stream",
     "text": [
      "F:\\a00nutstore\\008\\zw08\\莱新订单20241029\\发票模板-按销售订单和存货编码-件数\\发票模板-长沙市东麦文化有限公司-SO-2024-02-1377-件数.xlsx\n",
      "F:\\a00nutstore\\008\\zw08\\莱新订单20241029\\发票模板-按销售订单和存货编码-件数\\发票模板-吉首市阳光文体用品有限责任公司-SO-2024-02-1378-件数.xlsx\n",
      "F:\\a00nutstore\\008\\zw08\\莱新订单20241029\\发票模板-按销售订单和存货编码-件数\\发票模板-山西融和通商贸有限公司-SO-2024-02-1379-件数.xlsx\n"
     ]
    },
    {
     "name": "stderr",
     "output_type": "stream",
     "text": [
      "C:\\Users\\redda\\AppData\\Roaming\\Python\\Python311\\site-packages\\openpyxl\\worksheet\\_reader.py:329: UserWarning: Data Validation extension is not supported and will be removed\n",
      "  warn(msg)\n",
      "C:\\Users\\redda\\AppData\\Roaming\\Python\\Python311\\site-packages\\openpyxl\\worksheet\\_reader.py:329: UserWarning: Data Validation extension is not supported and will be removed\n",
      "  warn(msg)\n"
     ]
    },
    {
     "name": "stdout",
     "output_type": "stream",
     "text": [
      "F:\\a00nutstore\\008\\zw08\\莱新订单20241029\\发票模板-按销售订单和存货编码-件数\\发票模板-白玉县诚信办公用品销售有限公司-SO-2024-02-1380-件数.xlsx\n"
     ]
    },
    {
     "name": "stderr",
     "output_type": "stream",
     "text": [
      "C:\\Users\\redda\\AppData\\Roaming\\Python\\Python311\\site-packages\\openpyxl\\worksheet\\_reader.py:329: UserWarning: Data Validation extension is not supported and will be removed\n",
      "  warn(msg)\n"
     ]
    },
    {
     "name": "stdout",
     "output_type": "stream",
     "text": [
      "F:\\a00nutstore\\008\\zw08\\莱新订单20241029\\发票模板-按销售订单和存货编码-件数\\发票模板-成都皓天科技有限公司-SO-2024-02-1381-件数.xlsx\n",
      "F:\\a00nutstore\\008\\zw08\\莱新订单20241029\\发票模板-按销售订单和存货编码-件数\\发票模板-成都市金牛区迪欣印务批发部-SO-2024-02-1382-件数.xlsx\n"
     ]
    },
    {
     "name": "stderr",
     "output_type": "stream",
     "text": [
      "C:\\Users\\redda\\AppData\\Roaming\\Python\\Python311\\site-packages\\openpyxl\\worksheet\\_reader.py:329: UserWarning: Data Validation extension is not supported and will be removed\n",
      "  warn(msg)\n",
      "C:\\Users\\redda\\AppData\\Roaming\\Python\\Python311\\site-packages\\openpyxl\\worksheet\\_reader.py:329: UserWarning: Data Validation extension is not supported and will be removed\n",
      "  warn(msg)\n"
     ]
    },
    {
     "name": "stdout",
     "output_type": "stream",
     "text": [
      "F:\\a00nutstore\\008\\zw08\\莱新订单20241029\\发票模板-按销售订单和存货编码-件数\\发票模板-遵义康兴达商贸有限公司-SO-2024-02-1383-件数.xlsx\n",
      "F:\\a00nutstore\\008\\zw08\\莱新订单20241029\\发票模板-按销售订单和存货编码-件数\\发票模板-邵东金志文-SO-2024-02-1384-件数.xlsx\n"
     ]
    },
    {
     "name": "stderr",
     "output_type": "stream",
     "text": [
      "C:\\Users\\redda\\AppData\\Roaming\\Python\\Python311\\site-packages\\openpyxl\\worksheet\\_reader.py:329: UserWarning: Data Validation extension is not supported and will be removed\n",
      "  warn(msg)\n",
      "C:\\Users\\redda\\AppData\\Roaming\\Python\\Python311\\site-packages\\openpyxl\\worksheet\\_reader.py:329: UserWarning: Data Validation extension is not supported and will be removed\n",
      "  warn(msg)\n"
     ]
    },
    {
     "name": "stdout",
     "output_type": "stream",
     "text": [
      "F:\\a00nutstore\\008\\zw08\\莱新订单20241029\\发票模板-按销售订单和存货编码-件数\\发票模板-龙岩连卫中-SO-2024-02-1385-件数.xlsx\n"
     ]
    },
    {
     "name": "stderr",
     "output_type": "stream",
     "text": [
      "C:\\Users\\redda\\AppData\\Roaming\\Python\\Python311\\site-packages\\openpyxl\\worksheet\\_reader.py:329: UserWarning: Data Validation extension is not supported and will be removed\n",
      "  warn(msg)\n"
     ]
    },
    {
     "name": "stdout",
     "output_type": "stream",
     "text": [
      "F:\\a00nutstore\\008\\zw08\\莱新订单20241029\\发票模板-按销售订单和存货编码-件数\\发票模板-武汉金胜辉商贸有限公司-SO-2024-02-1386-件数.xlsx\n"
     ]
    },
    {
     "name": "stderr",
     "output_type": "stream",
     "text": [
      "C:\\Users\\redda\\AppData\\Roaming\\Python\\Python311\\site-packages\\openpyxl\\worksheet\\_reader.py:329: UserWarning: Data Validation extension is not supported and will be removed\n",
      "  warn(msg)\n",
      "C:\\Users\\redda\\AppData\\Roaming\\Python\\Python311\\site-packages\\openpyxl\\worksheet\\_reader.py:329: UserWarning: Data Validation extension is not supported and will be removed\n",
      "  warn(msg)\n"
     ]
    },
    {
     "name": "stdout",
     "output_type": "stream",
     "text": [
      "F:\\a00nutstore\\008\\zw08\\莱新订单20241029\\发票模板-按销售订单和存货编码-件数\\发票模板-武汉金宸翰办公用品有限公司1-SO-2024-02-1387-件数.xlsx\n",
      "F:\\a00nutstore\\008\\zw08\\莱新订单20241029\\发票模板-按销售订单和存货编码-件数\\发票模板-武汉中威百联商贸有限公司-SO-2024-02-1388-件数.xlsx\n"
     ]
    },
    {
     "name": "stderr",
     "output_type": "stream",
     "text": [
      "C:\\Users\\redda\\AppData\\Roaming\\Python\\Python311\\site-packages\\openpyxl\\worksheet\\_reader.py:329: UserWarning: Data Validation extension is not supported and will be removed\n",
      "  warn(msg)\n",
      "C:\\Users\\redda\\AppData\\Roaming\\Python\\Python311\\site-packages\\openpyxl\\worksheet\\_reader.py:329: UserWarning: Data Validation extension is not supported and will be removed\n",
      "  warn(msg)\n"
     ]
    },
    {
     "name": "stdout",
     "output_type": "stream",
     "text": [
      "F:\\a00nutstore\\008\\zw08\\莱新订单20241029\\发票模板-按销售订单和存货编码-件数\\发票模板-武汉今日成纸业有限公司-SO-2024-02-1389-件数.xlsx\n",
      "F:\\a00nutstore\\008\\zw08\\莱新订单20241029\\发票模板-按销售订单和存货编码-件数\\发票模板-武汉米圣贸易有限公司-SO-2024-02-1390-件数.xlsx\n"
     ]
    },
    {
     "name": "stderr",
     "output_type": "stream",
     "text": [
      "C:\\Users\\redda\\AppData\\Roaming\\Python\\Python311\\site-packages\\openpyxl\\worksheet\\_reader.py:329: UserWarning: Data Validation extension is not supported and will be removed\n",
      "  warn(msg)\n"
     ]
    },
    {
     "name": "stdout",
     "output_type": "stream",
     "text": [
      "F:\\a00nutstore\\008\\zw08\\莱新订单20241029\\发票模板-按销售订单和存货编码-件数\\发票模板-武汉开先文化用品有限责任公司-SO-2024-02-1391-件数.xlsx\n"
     ]
    },
    {
     "name": "stderr",
     "output_type": "stream",
     "text": [
      "C:\\Users\\redda\\AppData\\Roaming\\Python\\Python311\\site-packages\\openpyxl\\worksheet\\_reader.py:329: UserWarning: Data Validation extension is not supported and will be removed\n",
      "  warn(msg)\n",
      "C:\\Users\\redda\\AppData\\Roaming\\Python\\Python311\\site-packages\\openpyxl\\worksheet\\_reader.py:329: UserWarning: Data Validation extension is not supported and will be removed\n",
      "  warn(msg)\n"
     ]
    },
    {
     "name": "stdout",
     "output_type": "stream",
     "text": [
      "F:\\a00nutstore\\008\\zw08\\莱新订单20241029\\发票模板-按销售订单和存货编码-件数\\发票模板-湖北昇耀商贸有限公司-SO-2024-02-1392-件数.xlsx\n",
      "F:\\a00nutstore\\008\\zw08\\莱新订单20241029\\发票模板-按销售订单和存货编码-件数\\发票模板-武汉静静舒文体用品有限公司-SO-2024-02-1393-件数.xlsx\n"
     ]
    },
    {
     "name": "stderr",
     "output_type": "stream",
     "text": [
      "C:\\Users\\redda\\AppData\\Roaming\\Python\\Python311\\site-packages\\openpyxl\\worksheet\\_reader.py:329: UserWarning: Data Validation extension is not supported and will be removed\n",
      "  warn(msg)\n"
     ]
    },
    {
     "name": "stdout",
     "output_type": "stream",
     "text": [
      "F:\\a00nutstore\\008\\zw08\\莱新订单20241029\\发票模板-按销售订单和存货编码-件数\\发票模板-武汉市热脉文体用品有限公司-SO-2024-02-1394-件数.xlsx\n",
      "F:\\a00nutstore\\008\\zw08\\莱新订单20241029\\发票模板-按销售订单和存货编码-件数\\发票模板-龙岩连卫中-SO-2024-02-1395-件数.xlsx\n"
     ]
    },
    {
     "name": "stderr",
     "output_type": "stream",
     "text": [
      "C:\\Users\\redda\\AppData\\Roaming\\Python\\Python311\\site-packages\\openpyxl\\worksheet\\_reader.py:329: UserWarning: Data Validation extension is not supported and will be removed\n",
      "  warn(msg)\n",
      "C:\\Users\\redda\\AppData\\Roaming\\Python\\Python311\\site-packages\\openpyxl\\worksheet\\_reader.py:329: UserWarning: Data Validation extension is not supported and will be removed\n",
      "  warn(msg)\n"
     ]
    },
    {
     "name": "stdout",
     "output_type": "stream",
     "text": [
      "F:\\a00nutstore\\008\\zw08\\莱新订单20241029\\发票模板-按销售订单和存货编码-件数\\发票模板-武汉静静舒文体用品有限公司-SO-2024-02-1397-件数.xlsx\n",
      "F:\\a00nutstore\\008\\zw08\\莱新订单20241029\\发票模板-按销售订单和存货编码-件数\\发票模板-武汉市齐达利商贸有限公司-SO-2024-02-1398-件数.xlsx\n"
     ]
    },
    {
     "name": "stderr",
     "output_type": "stream",
     "text": [
      "C:\\Users\\redda\\AppData\\Roaming\\Python\\Python311\\site-packages\\openpyxl\\worksheet\\_reader.py:329: UserWarning: Data Validation extension is not supported and will be removed\n",
      "  warn(msg)\n",
      "C:\\Users\\redda\\AppData\\Roaming\\Python\\Python311\\site-packages\\openpyxl\\worksheet\\_reader.py:329: UserWarning: Data Validation extension is not supported and will be removed\n",
      "  warn(msg)\n"
     ]
    },
    {
     "name": "stdout",
     "output_type": "stream",
     "text": [
      "F:\\a00nutstore\\008\\zw08\\莱新订单20241029\\发票模板-按销售订单和存货编码-件数\\发票模板-武汉米圣贸易有限公司-SO-2024-02-1399-件数.xlsx\n",
      "F:\\a00nutstore\\008\\zw08\\莱新订单20241029\\发票模板-按销售订单和存货编码-件数\\发票模板-西安华坤集采供应链管理有限公司-SO-2024-02-1400-件数.xlsx\n"
     ]
    },
    {
     "name": "stderr",
     "output_type": "stream",
     "text": [
      "C:\\Users\\redda\\AppData\\Roaming\\Python\\Python311\\site-packages\\openpyxl\\worksheet\\_reader.py:329: UserWarning: Data Validation extension is not supported and will be removed\n",
      "  warn(msg)\n",
      "C:\\Users\\redda\\AppData\\Roaming\\Python\\Python311\\site-packages\\openpyxl\\worksheet\\_reader.py:329: UserWarning: Data Validation extension is not supported and will be removed\n",
      "  warn(msg)\n"
     ]
    },
    {
     "name": "stdout",
     "output_type": "stream",
     "text": [
      "F:\\a00nutstore\\008\\zw08\\莱新订单20241029\\发票模板-按销售订单和存货编码-件数\\发票模板-安康市申达文化用品有限公司L-SO-2024-02-1401-件数.xlsx\n",
      "F:\\a00nutstore\\008\\zw08\\莱新订单20241029\\发票模板-按销售订单和存货编码-件数\\发票模板-兰州艾迪商贸有限公司-SO-2024-02-1402-件数.xlsx\n"
     ]
    },
    {
     "name": "stderr",
     "output_type": "stream",
     "text": [
      "C:\\Users\\redda\\AppData\\Roaming\\Python\\Python311\\site-packages\\openpyxl\\worksheet\\_reader.py:329: UserWarning: Data Validation extension is not supported and will be removed\n",
      "  warn(msg)\n",
      "C:\\Users\\redda\\AppData\\Roaming\\Python\\Python311\\site-packages\\openpyxl\\worksheet\\_reader.py:329: UserWarning: Data Validation extension is not supported and will be removed\n",
      "  warn(msg)\n"
     ]
    },
    {
     "name": "stdout",
     "output_type": "stream",
     "text": [
      "F:\\a00nutstore\\008\\zw08\\莱新订单20241029\\发票模板-按销售订单和存货编码-件数\\发票模板-西安闻达文化用品有限公司-SO-2024-02-1403-件数.xlsx\n",
      "F:\\a00nutstore\\008\\zw08\\莱新订单20241029\\发票模板-按销售订单和存货编码-件数\\发票模板-渝中区齐佳文具经营部-SO-2024-02-1404-件数.xlsx\n"
     ]
    },
    {
     "name": "stderr",
     "output_type": "stream",
     "text": [
      "C:\\Users\\redda\\AppData\\Roaming\\Python\\Python311\\site-packages\\openpyxl\\worksheet\\_reader.py:329: UserWarning: Data Validation extension is not supported and will be removed\n",
      "  warn(msg)\n",
      "C:\\Users\\redda\\AppData\\Roaming\\Python\\Python311\\site-packages\\openpyxl\\worksheet\\_reader.py:329: UserWarning: Data Validation extension is not supported and will be removed\n",
      "  warn(msg)\n"
     ]
    },
    {
     "name": "stdout",
     "output_type": "stream",
     "text": [
      "F:\\a00nutstore\\008\\zw08\\莱新订单20241029\\发票模板-按销售订单和存货编码-件数\\发票模板-石家庄本米文具用品销售有限公司-SO-2024-02-1405-件数.xlsx\n"
     ]
    },
    {
     "name": "stderr",
     "output_type": "stream",
     "text": [
      "C:\\Users\\redda\\AppData\\Roaming\\Python\\Python311\\site-packages\\openpyxl\\worksheet\\_reader.py:329: UserWarning: Data Validation extension is not supported and will be removed\n",
      "  warn(msg)\n"
     ]
    },
    {
     "name": "stdout",
     "output_type": "stream",
     "text": [
      "F:\\a00nutstore\\008\\zw08\\莱新订单20241029\\发票模板-按销售订单和存货编码-件数\\发票模板-遵义龚碧清-SO-2024-02-1406-件数.xlsx\n"
     ]
    },
    {
     "name": "stderr",
     "output_type": "stream",
     "text": [
      "C:\\Users\\redda\\AppData\\Roaming\\Python\\Python311\\site-packages\\openpyxl\\worksheet\\_reader.py:329: UserWarning: Data Validation extension is not supported and will be removed\n",
      "  warn(msg)\n"
     ]
    },
    {
     "name": "stdout",
     "output_type": "stream",
     "text": [
      "F:\\a00nutstore\\008\\zw08\\莱新订单20241029\\发票模板-按销售订单和存货编码-件数\\发票模板-云南非常文化用品有限公司-SO-2024-02-1407-件数.xlsx\n",
      "F:\\a00nutstore\\008\\zw08\\莱新订单20241029\\发票模板-按销售订单和存货编码-件数\\发票模板-品壹佰河北商贸有限公司-SO-2024-02-1408-件数.xlsx\n"
     ]
    },
    {
     "name": "stderr",
     "output_type": "stream",
     "text": [
      "C:\\Users\\redda\\AppData\\Roaming\\Python\\Python311\\site-packages\\openpyxl\\worksheet\\_reader.py:329: UserWarning: Data Validation extension is not supported and will be removed\n",
      "  warn(msg)\n",
      "C:\\Users\\redda\\AppData\\Roaming\\Python\\Python311\\site-packages\\openpyxl\\worksheet\\_reader.py:329: UserWarning: Data Validation extension is not supported and will be removed\n",
      "  warn(msg)\n",
      "C:\\Users\\redda\\AppData\\Roaming\\Python\\Python311\\site-packages\\openpyxl\\worksheet\\_reader.py:329: UserWarning: Data Validation extension is not supported and will be removed\n",
      "  warn(msg)\n"
     ]
    },
    {
     "name": "stdout",
     "output_type": "stream",
     "text": [
      "F:\\a00nutstore\\008\\zw08\\莱新订单20241029\\发票模板-按销售订单和存货编码-件数\\发票模板-南宁市小木屋文化用品有限公司-SO-2024-02-1409-件数.xlsx\n",
      "F:\\a00nutstore\\008\\zw08\\莱新订单20241029\\发票模板-按销售订单和存货编码-件数\\发票模板-广西桂林利华电子科技有限公司-SO-2024-02-1410-件数.xlsx\n"
     ]
    },
    {
     "name": "stderr",
     "output_type": "stream",
     "text": [
      "C:\\Users\\redda\\AppData\\Roaming\\Python\\Python311\\site-packages\\openpyxl\\worksheet\\_reader.py:329: UserWarning: Data Validation extension is not supported and will be removed\n",
      "  warn(msg)\n"
     ]
    },
    {
     "name": "stdout",
     "output_type": "stream",
     "text": [
      "F:\\a00nutstore\\008\\zw08\\莱新订单20241029\\发票模板-按销售订单和存货编码-件数\\发票模板-武汉金胜辉商贸有限公司-SO-2024-02-1411-件数.xlsx\n"
     ]
    },
    {
     "name": "stderr",
     "output_type": "stream",
     "text": [
      "C:\\Users\\redda\\AppData\\Roaming\\Python\\Python311\\site-packages\\openpyxl\\worksheet\\_reader.py:329: UserWarning: Data Validation extension is not supported and will be removed\n",
      "  warn(msg)\n",
      "C:\\Users\\redda\\AppData\\Roaming\\Python\\Python311\\site-packages\\openpyxl\\worksheet\\_reader.py:329: UserWarning: Data Validation extension is not supported and will be removed\n",
      "  warn(msg)\n"
     ]
    },
    {
     "name": "stdout",
     "output_type": "stream",
     "text": [
      "F:\\a00nutstore\\008\\zw08\\莱新订单20241029\\发票模板-按销售订单和存货编码-件数\\发票模板-武汉金宸翰办公用品有限公司1-SO-2024-02-1412-件数.xlsx\n",
      "F:\\a00nutstore\\008\\zw08\\莱新订单20241029\\发票模板-按销售订单和存货编码-件数\\发票模板-武汉米圣贸易有限公司-SO-2024-02-1413-件数.xlsx\n",
      "F:\\a00nutstore\\008\\zw08\\莱新订单20241029\\发票模板-按销售订单和存货编码-件数\\发票模板-武汉开先文化用品有限责任公司-SO-2024-02-1414-件数.xlsx\n"
     ]
    },
    {
     "name": "stderr",
     "output_type": "stream",
     "text": [
      "C:\\Users\\redda\\AppData\\Roaming\\Python\\Python311\\site-packages\\openpyxl\\worksheet\\_reader.py:329: UserWarning: Data Validation extension is not supported and will be removed\n",
      "  warn(msg)\n",
      "C:\\Users\\redda\\AppData\\Roaming\\Python\\Python311\\site-packages\\openpyxl\\worksheet\\_reader.py:329: UserWarning: Data Validation extension is not supported and will be removed\n",
      "  warn(msg)\n"
     ]
    },
    {
     "name": "stdout",
     "output_type": "stream",
     "text": [
      "F:\\a00nutstore\\008\\zw08\\莱新订单20241029\\发票模板-按销售订单和存货编码-件数\\发票模板-武汉市晶艺文化用品有限公司-SO-2024-02-1415-件数.xlsx\n",
      "F:\\a00nutstore\\008\\zw08\\莱新订单20241029\\发票模板-按销售订单和存货编码-件数\\发票模板-武汉市众缘商贸有限责任公司-SO-2024-02-1416-件数.xlsx\n"
     ]
    },
    {
     "name": "stderr",
     "output_type": "stream",
     "text": [
      "C:\\Users\\redda\\AppData\\Roaming\\Python\\Python311\\site-packages\\openpyxl\\worksheet\\_reader.py:329: UserWarning: Data Validation extension is not supported and will be removed\n",
      "  warn(msg)\n",
      "C:\\Users\\redda\\AppData\\Roaming\\Python\\Python311\\site-packages\\openpyxl\\worksheet\\_reader.py:329: UserWarning: Data Validation extension is not supported and will be removed\n",
      "  warn(msg)\n"
     ]
    },
    {
     "name": "stdout",
     "output_type": "stream",
     "text": [
      "F:\\a00nutstore\\008\\zw08\\莱新订单20241029\\发票模板-按销售订单和存货编码-件数\\发票模板-河南抬头喜办公用品有限公司S-SO-2024-02-1417-件数.xlsx\n",
      "F:\\a00nutstore\\008\\zw08\\莱新订单20241029\\发票模板-按销售订单和存货编码-件数\\发票模板-海南新宇晨办公用品有限公司-SO-2024-02-1418-件数.xlsx\n"
     ]
    },
    {
     "name": "stderr",
     "output_type": "stream",
     "text": [
      "C:\\Users\\redda\\AppData\\Roaming\\Python\\Python311\\site-packages\\openpyxl\\worksheet\\_reader.py:329: UserWarning: Data Validation extension is not supported and will be removed\n",
      "  warn(msg)\n",
      "C:\\Users\\redda\\AppData\\Roaming\\Python\\Python311\\site-packages\\openpyxl\\worksheet\\_reader.py:329: UserWarning: Data Validation extension is not supported and will be removed\n",
      "  warn(msg)\n"
     ]
    },
    {
     "name": "stdout",
     "output_type": "stream",
     "text": [
      "F:\\a00nutstore\\008\\zw08\\莱新订单20241029\\发票模板-按销售订单和存货编码-件数\\发票模板-品壹佰河北商贸有限公司-SO-2024-02-1419-件数.xlsx\n"
     ]
    },
    {
     "name": "stderr",
     "output_type": "stream",
     "text": [
      "C:\\Users\\redda\\AppData\\Roaming\\Python\\Python311\\site-packages\\openpyxl\\worksheet\\_reader.py:329: UserWarning: Data Validation extension is not supported and will be removed\n",
      "  warn(msg)\n",
      "C:\\Users\\redda\\AppData\\Roaming\\Python\\Python311\\site-packages\\openpyxl\\worksheet\\_reader.py:329: UserWarning: Data Validation extension is not supported and will be removed\n",
      "  warn(msg)\n"
     ]
    },
    {
     "name": "stdout",
     "output_type": "stream",
     "text": [
      "F:\\a00nutstore\\008\\zw08\\莱新订单20241029\\发票模板-按销售订单和存货编码-件数\\发票模板-江西东优贸易有限公司-SO-2024-02-1421-件数.xlsx\n",
      "F:\\a00nutstore\\008\\zw08\\莱新订单20241029\\发票模板-按销售订单和存货编码-件数\\发票模板-沈阳贾术申-SO-2024-02-1422-件数.xlsx\n"
     ]
    },
    {
     "name": "stderr",
     "output_type": "stream",
     "text": [
      "C:\\Users\\redda\\AppData\\Roaming\\Python\\Python311\\site-packages\\openpyxl\\worksheet\\_reader.py:329: UserWarning: Data Validation extension is not supported and will be removed\n",
      "  warn(msg)\n"
     ]
    },
    {
     "name": "stdout",
     "output_type": "stream",
     "text": [
      "F:\\a00nutstore\\008\\zw08\\莱新订单20241029\\发票模板-按销售订单和存货编码-件数\\发票模板-泸州佳之彩商贸有限公司-SO-2024-02-1423-件数.xlsx\n",
      "F:\\a00nutstore\\008\\zw08\\莱新订单20241029\\发票模板-按销售订单和存货编码-件数\\发票模板-鹤岗市超东选商贸有限公司-SO-2024-02-1424-件数.xlsx\n"
     ]
    },
    {
     "name": "stderr",
     "output_type": "stream",
     "text": [
      "C:\\Users\\redda\\AppData\\Roaming\\Python\\Python311\\site-packages\\openpyxl\\worksheet\\_reader.py:329: UserWarning: Data Validation extension is not supported and will be removed\n",
      "  warn(msg)\n",
      "C:\\Users\\redda\\AppData\\Roaming\\Python\\Python311\\site-packages\\openpyxl\\worksheet\\_reader.py:329: UserWarning: Data Validation extension is not supported and will be removed\n",
      "  warn(msg)\n",
      "C:\\Users\\redda\\AppData\\Roaming\\Python\\Python311\\site-packages\\openpyxl\\worksheet\\_reader.py:329: UserWarning: Data Validation extension is not supported and will be removed\n",
      "  warn(msg)\n"
     ]
    },
    {
     "name": "stdout",
     "output_type": "stream",
     "text": [
      "F:\\a00nutstore\\008\\zw08\\莱新订单20241029\\发票模板-按销售订单和存货编码-件数\\发票模板-武汉市热脉文体用品有限公司-SO-2024-02-1425-件数.xlsx\n",
      "F:\\a00nutstore\\008\\zw08\\莱新订单20241029\\发票模板-按销售订单和存货编码-件数\\发票模板-武汉金宸翰办公用品有限公司-SO-2024-02-1426-件数.xlsx\n",
      "F:\\a00nutstore\\008\\zw08\\莱新订单20241029\\发票模板-按销售订单和存货编码-件数\\发票模板-武汉金胜辉商贸有限公司-SO-2024-02-1427-件数.xlsx\n"
     ]
    },
    {
     "name": "stderr",
     "output_type": "stream",
     "text": [
      "C:\\Users\\redda\\AppData\\Roaming\\Python\\Python311\\site-packages\\openpyxl\\worksheet\\_reader.py:329: UserWarning: Data Validation extension is not supported and will be removed\n",
      "  warn(msg)\n",
      "C:\\Users\\redda\\AppData\\Roaming\\Python\\Python311\\site-packages\\openpyxl\\worksheet\\_reader.py:329: UserWarning: Data Validation extension is not supported and will be removed\n",
      "  warn(msg)\n"
     ]
    },
    {
     "name": "stdout",
     "output_type": "stream",
     "text": [
      "F:\\a00nutstore\\008\\zw08\\莱新订单20241029\\发票模板-按销售订单和存货编码-件数\\发票模板-湖北昇耀商贸有限公司-SO-2024-02-1428-件数.xlsx\n",
      "F:\\a00nutstore\\008\\zw08\\莱新订单20241029\\发票模板-按销售订单和存货编码-件数\\发票模板-长沙市雨花区文丰文具商行-SO-2024-02-1429-件数.xlsx\n"
     ]
    },
    {
     "name": "stderr",
     "output_type": "stream",
     "text": [
      "C:\\Users\\redda\\AppData\\Roaming\\Python\\Python311\\site-packages\\openpyxl\\worksheet\\_reader.py:329: UserWarning: Data Validation extension is not supported and will be removed\n",
      "  warn(msg)\n",
      "C:\\Users\\redda\\AppData\\Roaming\\Python\\Python311\\site-packages\\openpyxl\\worksheet\\_reader.py:329: UserWarning: Data Validation extension is not supported and will be removed\n",
      "  warn(msg)\n"
     ]
    },
    {
     "name": "stdout",
     "output_type": "stream",
     "text": [
      "F:\\a00nutstore\\008\\zw08\\莱新订单20241029\\发票模板-按销售订单和存货编码-件数\\发票模板-成都杨万平-SO-2024-02-1430-件数.xlsx\n",
      "F:\\a00nutstore\\008\\zw08\\莱新订单20241029\\发票模板-按销售订单和存货编码-件数\\发票模板-金牛区昌宏优品商贸部-SO-2024-02-1431-件数.xlsx\n"
     ]
    },
    {
     "name": "stderr",
     "output_type": "stream",
     "text": [
      "C:\\Users\\redda\\AppData\\Roaming\\Python\\Python311\\site-packages\\openpyxl\\worksheet\\_reader.py:329: UserWarning: Data Validation extension is not supported and will be removed\n",
      "  warn(msg)\n",
      "C:\\Users\\redda\\AppData\\Roaming\\Python\\Python311\\site-packages\\openpyxl\\worksheet\\_reader.py:329: UserWarning: Data Validation extension is not supported and will be removed\n",
      "  warn(msg)\n"
     ]
    },
    {
     "name": "stdout",
     "output_type": "stream",
     "text": [
      "F:\\a00nutstore\\008\\zw08\\莱新订单20241029\\发票模板-按销售订单和存货编码-件数\\发票模板-武汉嘉迪亚商贸有限公司-SO-2024-02-1432-件数.xlsx\n"
     ]
    },
    {
     "name": "stderr",
     "output_type": "stream",
     "text": [
      "C:\\Users\\redda\\AppData\\Roaming\\Python\\Python311\\site-packages\\openpyxl\\worksheet\\_reader.py:329: UserWarning: Data Validation extension is not supported and will be removed\n",
      "  warn(msg)\n"
     ]
    },
    {
     "name": "stdout",
     "output_type": "stream",
     "text": [
      "F:\\a00nutstore\\008\\zw08\\莱新订单20241029\\发票模板-按销售订单和存货编码-件数\\发票模板-武汉金胜辉商贸有限公司-SO-2024-02-1433-件数.xlsx\n",
      "F:\\a00nutstore\\008\\zw08\\莱新订单20241029\\发票模板-按销售订单和存货编码-件数\\发票模板-武汉金宸翰办公用品有限公司1-SO-2024-02-1434-件数.xlsx\n"
     ]
    },
    {
     "name": "stderr",
     "output_type": "stream",
     "text": [
      "C:\\Users\\redda\\AppData\\Roaming\\Python\\Python311\\site-packages\\openpyxl\\worksheet\\_reader.py:329: UserWarning: Data Validation extension is not supported and will be removed\n",
      "  warn(msg)\n",
      "C:\\Users\\redda\\AppData\\Roaming\\Python\\Python311\\site-packages\\openpyxl\\worksheet\\_reader.py:329: UserWarning: Data Validation extension is not supported and will be removed\n",
      "  warn(msg)\n"
     ]
    },
    {
     "name": "stdout",
     "output_type": "stream",
     "text": [
      "F:\\a00nutstore\\008\\zw08\\莱新订单20241029\\发票模板-按销售订单和存货编码-件数\\发票模板-湖北昇耀商贸有限公司-SO-2024-02-1435-件数.xlsx\n",
      "F:\\a00nutstore\\008\\zw08\\莱新订单20241029\\发票模板-按销售订单和存货编码-件数\\发票模板-武汉优聚优品贸易有限公司-SO-2024-02-1436-件数.xlsx\n"
     ]
    },
    {
     "name": "stderr",
     "output_type": "stream",
     "text": [
      "C:\\Users\\redda\\AppData\\Roaming\\Python\\Python311\\site-packages\\openpyxl\\worksheet\\_reader.py:329: UserWarning: Data Validation extension is not supported and will be removed\n",
      "  warn(msg)\n",
      "C:\\Users\\redda\\AppData\\Roaming\\Python\\Python311\\site-packages\\openpyxl\\worksheet\\_reader.py:329: UserWarning: Data Validation extension is not supported and will be removed\n",
      "  warn(msg)\n"
     ]
    },
    {
     "name": "stdout",
     "output_type": "stream",
     "text": [
      "F:\\a00nutstore\\008\\zw08\\莱新订单20241029\\发票模板-按销售订单和存货编码-件数\\发票模板-武汉市齐达利商贸有限公司-SO-2024-02-1437-件数.xlsx\n"
     ]
    },
    {
     "name": "stderr",
     "output_type": "stream",
     "text": [
      "C:\\Users\\redda\\AppData\\Roaming\\Python\\Python311\\site-packages\\openpyxl\\worksheet\\_reader.py:329: UserWarning: Data Validation extension is not supported and will be removed\n",
      "  warn(msg)\n"
     ]
    },
    {
     "name": "stdout",
     "output_type": "stream",
     "text": [
      "F:\\a00nutstore\\008\\zw08\\莱新订单20241029\\发票模板-按销售订单和存货编码-件数\\发票模板-昆明八龙商贸有限公司-SO-2024-02-1438-件数.xlsx\n"
     ]
    },
    {
     "name": "stderr",
     "output_type": "stream",
     "text": [
      "C:\\Users\\redda\\AppData\\Roaming\\Python\\Python311\\site-packages\\openpyxl\\worksheet\\_reader.py:329: UserWarning: Data Validation extension is not supported and will be removed\n",
      "  warn(msg)\n",
      "C:\\Users\\redda\\AppData\\Roaming\\Python\\Python311\\site-packages\\openpyxl\\worksheet\\_reader.py:329: UserWarning: Data Validation extension is not supported and will be removed\n",
      "  warn(msg)\n"
     ]
    },
    {
     "name": "stdout",
     "output_type": "stream",
     "text": [
      "F:\\a00nutstore\\008\\zw08\\莱新订单20241029\\发票模板-按销售订单和存货编码-件数\\发票模板-义乌市博迅文体用品有限公司-SO-2024-02-1439-件数.xlsx\n",
      "F:\\a00nutstore\\008\\zw08\\莱新订单20241029\\发票模板-按销售订单和存货编码-件数\\发票模板-杭州科兴文教用品有限公司-SO-2024-02-1440-件数.xlsx\n"
     ]
    },
    {
     "name": "stderr",
     "output_type": "stream",
     "text": [
      "C:\\Users\\redda\\AppData\\Roaming\\Python\\Python311\\site-packages\\openpyxl\\worksheet\\_reader.py:329: UserWarning: Data Validation extension is not supported and will be removed\n",
      "  warn(msg)\n",
      "C:\\Users\\redda\\AppData\\Roaming\\Python\\Python311\\site-packages\\openpyxl\\worksheet\\_reader.py:329: UserWarning: Data Validation extension is not supported and will be removed\n",
      "  warn(msg)\n"
     ]
    },
    {
     "name": "stdout",
     "output_type": "stream",
     "text": [
      "F:\\a00nutstore\\008\\zw08\\莱新订单20241029\\发票模板-按销售订单和存货编码-件数\\发票模板-河南抬头喜办公用品有限公司S-SO-2024-02-1441-件数.xlsx\n",
      "F:\\a00nutstore\\008\\zw08\\莱新订单20241029\\发票模板-按销售订单和存货编码-件数\\发票模板-西安垄裕商贸有限公司-SO-2024-02-1442-件数.xlsx\n"
     ]
    },
    {
     "name": "stderr",
     "output_type": "stream",
     "text": [
      "C:\\Users\\redda\\AppData\\Roaming\\Python\\Python311\\site-packages\\openpyxl\\worksheet\\_reader.py:329: UserWarning: Data Validation extension is not supported and will be removed\n",
      "  warn(msg)\n"
     ]
    },
    {
     "name": "stdout",
     "output_type": "stream",
     "text": [
      "F:\\a00nutstore\\008\\zw08\\莱新订单20241029\\发票模板-按销售订单和存货编码-件数\\发票模板-河南梓亦桐商贸有限公司-SO-2024-02-1443-件数.xlsx\n"
     ]
    },
    {
     "name": "stderr",
     "output_type": "stream",
     "text": [
      "C:\\Users\\redda\\AppData\\Roaming\\Python\\Python311\\site-packages\\openpyxl\\worksheet\\_reader.py:329: UserWarning: Data Validation extension is not supported and will be removed\n",
      "  warn(msg)\n"
     ]
    },
    {
     "name": "stdout",
     "output_type": "stream",
     "text": [
      "F:\\a00nutstore\\008\\zw08\\莱新订单20241029\\发票模板-按销售订单和存货编码-件数\\发票模板-兴义市鸿图锐意办公商贸有限公司-SO-2024-02-1444-件数.xlsx\n",
      "F:\\a00nutstore\\008\\zw08\\莱新订单20241029\\发票模板-按销售订单和存货编码-件数\\发票模板-河南益尔商贸有限公司-SO-2024-02-1445-件数.xlsx\n"
     ]
    },
    {
     "name": "stderr",
     "output_type": "stream",
     "text": [
      "C:\\Users\\redda\\AppData\\Roaming\\Python\\Python311\\site-packages\\openpyxl\\worksheet\\_reader.py:329: UserWarning: Data Validation extension is not supported and will be removed\n",
      "  warn(msg)\n",
      "C:\\Users\\redda\\AppData\\Roaming\\Python\\Python311\\site-packages\\openpyxl\\worksheet\\_reader.py:329: UserWarning: Data Validation extension is not supported and will be removed\n",
      "  warn(msg)\n"
     ]
    },
    {
     "name": "stdout",
     "output_type": "stream",
     "text": [
      "F:\\a00nutstore\\008\\zw08\\莱新订单20241029\\发票模板-按销售订单和存货编码-件数\\发票模板-兴义市鸿图锐意办公商贸有限公司-SO-2024-02-1446-件数.xlsx\n",
      "F:\\a00nutstore\\008\\zw08\\莱新订单20241029\\发票模板-按销售订单和存货编码-件数\\发票模板-武汉开先文化用品有限责任公司-SO-2024-02-1447-件数.xlsx\n"
     ]
    },
    {
     "name": "stderr",
     "output_type": "stream",
     "text": [
      "C:\\Users\\redda\\AppData\\Roaming\\Python\\Python311\\site-packages\\openpyxl\\worksheet\\_reader.py:329: UserWarning: Data Validation extension is not supported and will be removed\n",
      "  warn(msg)\n",
      "C:\\Users\\redda\\AppData\\Roaming\\Python\\Python311\\site-packages\\openpyxl\\worksheet\\_reader.py:329: UserWarning: Data Validation extension is not supported and will be removed\n",
      "  warn(msg)\n",
      "C:\\Users\\redda\\AppData\\Roaming\\Python\\Python311\\site-packages\\openpyxl\\worksheet\\_reader.py:329: UserWarning: Data Validation extension is not supported and will be removed\n",
      "  warn(msg)\n"
     ]
    },
    {
     "name": "stdout",
     "output_type": "stream",
     "text": [
      "F:\\a00nutstore\\008\\zw08\\莱新订单20241029\\发票模板-按销售订单和存货编码-件数\\发票模板-武汉金宸翰办公用品有限公司1-SO-2024-02-1448-件数.xlsx\n",
      "F:\\a00nutstore\\008\\zw08\\莱新订单20241029\\发票模板-按销售订单和存货编码-件数\\发票模板-武汉金宸翰办公用品有限公司1-SO-2024-02-1449-件数.xlsx\n"
     ]
    },
    {
     "name": "stderr",
     "output_type": "stream",
     "text": [
      "C:\\Users\\redda\\AppData\\Roaming\\Python\\Python311\\site-packages\\openpyxl\\worksheet\\_reader.py:329: UserWarning: Data Validation extension is not supported and will be removed\n",
      "  warn(msg)\n",
      "C:\\Users\\redda\\AppData\\Roaming\\Python\\Python311\\site-packages\\openpyxl\\worksheet\\_reader.py:329: UserWarning: Data Validation extension is not supported and will be removed\n",
      "  warn(msg)\n"
     ]
    },
    {
     "name": "stdout",
     "output_type": "stream",
     "text": [
      "F:\\a00nutstore\\008\\zw08\\莱新订单20241029\\发票模板-按销售订单和存货编码-件数\\发票模板-武汉金宸翰办公用品有限公司1-SO-2024-02-1450-件数.xlsx\n",
      "F:\\a00nutstore\\008\\zw08\\莱新订单20241029\\发票模板-按销售订单和存货编码-件数\\发票模板-武汉金胜辉商贸有限公司-SO-2024-02-1451-件数.xlsx\n",
      "F:\\a00nutstore\\008\\zw08\\莱新订单20241029\\发票模板-按销售订单和存货编码-件数\\发票模板-湖北昇耀商贸有限公司-SO-2024-02-1452-件数.xlsx\n"
     ]
    },
    {
     "name": "stderr",
     "output_type": "stream",
     "text": [
      "C:\\Users\\redda\\AppData\\Roaming\\Python\\Python311\\site-packages\\openpyxl\\worksheet\\_reader.py:329: UserWarning: Data Validation extension is not supported and will be removed\n",
      "  warn(msg)\n",
      "C:\\Users\\redda\\AppData\\Roaming\\Python\\Python311\\site-packages\\openpyxl\\worksheet\\_reader.py:329: UserWarning: Data Validation extension is not supported and will be removed\n",
      "  warn(msg)\n"
     ]
    },
    {
     "name": "stdout",
     "output_type": "stream",
     "text": [
      "F:\\a00nutstore\\008\\zw08\\莱新订单20241029\\发票模板-按销售订单和存货编码-件数\\发票模板-武汉今日成纸业有限公司-SO-2024-02-1453-件数.xlsx\n",
      "F:\\a00nutstore\\008\\zw08\\莱新订单20241029\\发票模板-按销售订单和存货编码-件数\\发票模板-武汉米圣贸易有限公司-SO-2024-02-1454-件数.xlsx\n"
     ]
    },
    {
     "name": "stderr",
     "output_type": "stream",
     "text": [
      "C:\\Users\\redda\\AppData\\Roaming\\Python\\Python311\\site-packages\\openpyxl\\worksheet\\_reader.py:329: UserWarning: Data Validation extension is not supported and will be removed\n",
      "  warn(msg)\n",
      "C:\\Users\\redda\\AppData\\Roaming\\Python\\Python311\\site-packages\\openpyxl\\worksheet\\_reader.py:329: UserWarning: Data Validation extension is not supported and will be removed\n",
      "  warn(msg)\n",
      "C:\\Users\\redda\\AppData\\Roaming\\Python\\Python311\\site-packages\\openpyxl\\worksheet\\_reader.py:329: UserWarning: Data Validation extension is not supported and will be removed\n",
      "  warn(msg)\n"
     ]
    },
    {
     "name": "stdout",
     "output_type": "stream",
     "text": [
      "F:\\a00nutstore\\008\\zw08\\莱新订单20241029\\发票模板-按销售订单和存货编码-件数\\发票模板-武汉邦度办公文具有限公司-SO-2024-02-1455-件数.xlsx\n",
      "F:\\a00nutstore\\008\\zw08\\莱新订单20241029\\发票模板-按销售订单和存货编码-件数\\发票模板-江西华兆昌商贸有限公司-SO-2024-02-1456-件数.xlsx\n",
      "F:\\a00nutstore\\008\\zw08\\莱新订单20241029\\发票模板-按销售订单和存货编码-件数\\发票模板-陕西富明文体用品有限公司-SO-2024-02-1457-件数.xlsx\n"
     ]
    },
    {
     "name": "stderr",
     "output_type": "stream",
     "text": [
      "C:\\Users\\redda\\AppData\\Roaming\\Python\\Python311\\site-packages\\openpyxl\\worksheet\\_reader.py:329: UserWarning: Data Validation extension is not supported and will be removed\n",
      "  warn(msg)\n",
      "C:\\Users\\redda\\AppData\\Roaming\\Python\\Python311\\site-packages\\openpyxl\\worksheet\\_reader.py:329: UserWarning: Data Validation extension is not supported and will be removed\n",
      "  warn(msg)\n"
     ]
    },
    {
     "name": "stdout",
     "output_type": "stream",
     "text": [
      "F:\\a00nutstore\\008\\zw08\\莱新订单20241029\\发票模板-按销售订单和存货编码-件数\\发票模板-上海流金岁月商贸有限公司-SO-2024-02-1458-件数.xlsx\n",
      "F:\\a00nutstore\\008\\zw08\\莱新订单20241029\\发票模板-按销售订单和存货编码-件数\\发票模板-武汉金胜辉商贸有限公司-SO-2024-02-1459-件数.xlsx\n"
     ]
    },
    {
     "name": "stderr",
     "output_type": "stream",
     "text": [
      "C:\\Users\\redda\\AppData\\Roaming\\Python\\Python311\\site-packages\\openpyxl\\worksheet\\_reader.py:329: UserWarning: Data Validation extension is not supported and will be removed\n",
      "  warn(msg)\n",
      "C:\\Users\\redda\\AppData\\Roaming\\Python\\Python311\\site-packages\\openpyxl\\worksheet\\_reader.py:329: UserWarning: Data Validation extension is not supported and will be removed\n",
      "  warn(msg)\n"
     ]
    },
    {
     "name": "stdout",
     "output_type": "stream",
     "text": [
      "F:\\a00nutstore\\008\\zw08\\莱新订单20241029\\发票模板-按销售订单和存货编码-件数\\发票模板-武汉金宸翰办公用品有限公司1-SO-2024-02-1460-件数.xlsx\n"
     ]
    },
    {
     "name": "stderr",
     "output_type": "stream",
     "text": [
      "C:\\Users\\redda\\AppData\\Roaming\\Python\\Python311\\site-packages\\openpyxl\\worksheet\\_reader.py:329: UserWarning: Data Validation extension is not supported and will be removed\n",
      "  warn(msg)\n",
      "C:\\Users\\redda\\AppData\\Roaming\\Python\\Python311\\site-packages\\openpyxl\\worksheet\\_reader.py:329: UserWarning: Data Validation extension is not supported and will be removed\n",
      "  warn(msg)\n"
     ]
    },
    {
     "name": "stdout",
     "output_type": "stream",
     "text": [
      "F:\\a00nutstore\\008\\zw08\\莱新订单20241029\\发票模板-按销售订单和存货编码-件数\\发票模板-武汉金宸翰办公用品有限公司1-SO-2024-02-1461-件数.xlsx\n",
      "F:\\a00nutstore\\008\\zw08\\莱新订单20241029\\发票模板-按销售订单和存货编码-件数\\发票模板-武汉金宸翰办公用品有限公司1-SO-2024-02-1462-件数.xlsx\n"
     ]
    },
    {
     "name": "stderr",
     "output_type": "stream",
     "text": [
      "C:\\Users\\redda\\AppData\\Roaming\\Python\\Python311\\site-packages\\openpyxl\\worksheet\\_reader.py:329: UserWarning: Data Validation extension is not supported and will be removed\n",
      "  warn(msg)\n"
     ]
    },
    {
     "name": "stdout",
     "output_type": "stream",
     "text": [
      "F:\\a00nutstore\\008\\zw08\\莱新订单20241029\\发票模板-按销售订单和存货编码-件数\\发票模板-武汉静静舒文体用品有限公司-SO-2024-02-1463-件数.xlsx\n",
      "F:\\a00nutstore\\008\\zw08\\莱新订单20241029\\发票模板-按销售订单和存货编码-件数\\发票模板-湖北昇耀商贸有限公司-SO-2024-02-1464-件数.xlsx\n"
     ]
    },
    {
     "name": "stderr",
     "output_type": "stream",
     "text": [
      "C:\\Users\\redda\\AppData\\Roaming\\Python\\Python311\\site-packages\\openpyxl\\worksheet\\_reader.py:329: UserWarning: Data Validation extension is not supported and will be removed\n",
      "  warn(msg)\n",
      "C:\\Users\\redda\\AppData\\Roaming\\Python\\Python311\\site-packages\\openpyxl\\worksheet\\_reader.py:329: UserWarning: Data Validation extension is not supported and will be removed\n",
      "  warn(msg)\n"
     ]
    },
    {
     "name": "stdout",
     "output_type": "stream",
     "text": [
      "F:\\a00nutstore\\008\\zw08\\莱新订单20241029\\发票模板-按销售订单和存货编码-件数\\发票模板-陕西富明文体用品有限公司-SO-2024-02-1465-件数.xlsx\n",
      "F:\\a00nutstore\\008\\zw08\\莱新订单20241029\\发票模板-按销售订单和存货编码-件数\\发票模板-武汉今日成纸业有限公司-SO-2024-02-1466-件数.xlsx\n"
     ]
    },
    {
     "name": "stderr",
     "output_type": "stream",
     "text": [
      "C:\\Users\\redda\\AppData\\Roaming\\Python\\Python311\\site-packages\\openpyxl\\worksheet\\_reader.py:329: UserWarning: Data Validation extension is not supported and will be removed\n",
      "  warn(msg)\n",
      "C:\\Users\\redda\\AppData\\Roaming\\Python\\Python311\\site-packages\\openpyxl\\worksheet\\_reader.py:329: UserWarning: Data Validation extension is not supported and will be removed\n",
      "  warn(msg)\n"
     ]
    },
    {
     "name": "stdout",
     "output_type": "stream",
     "text": [
      "F:\\a00nutstore\\008\\zw08\\莱新订单20241029\\发票模板-按销售订单和存货编码-件数\\发票模板-西安垄裕商贸有限公司-SO-2024-02-1467-件数.xlsx\n"
     ]
    },
    {
     "name": "stderr",
     "output_type": "stream",
     "text": [
      "C:\\Users\\redda\\AppData\\Roaming\\Python\\Python311\\site-packages\\openpyxl\\worksheet\\_reader.py:329: UserWarning: Data Validation extension is not supported and will be removed\n",
      "  warn(msg)\n"
     ]
    },
    {
     "name": "stdout",
     "output_type": "stream",
     "text": [
      "F:\\a00nutstore\\008\\zw08\\莱新订单20241029\\发票模板-按销售订单和存货编码-件数\\发票模板-武汉金宸翰办公用品有限公司1-SO-2024-02-1469-件数.xlsx\n"
     ]
    },
    {
     "name": "stderr",
     "output_type": "stream",
     "text": [
      "C:\\Users\\redda\\AppData\\Roaming\\Python\\Python311\\site-packages\\openpyxl\\worksheet\\_reader.py:329: UserWarning: Data Validation extension is not supported and will be removed\n",
      "  warn(msg)\n",
      "C:\\Users\\redda\\AppData\\Roaming\\Python\\Python311\\site-packages\\openpyxl\\worksheet\\_reader.py:329: UserWarning: Data Validation extension is not supported and will be removed\n",
      "  warn(msg)\n"
     ]
    },
    {
     "name": "stdout",
     "output_type": "stream",
     "text": [
      "F:\\a00nutstore\\008\\zw08\\莱新订单20241029\\发票模板-按销售订单和存货编码-件数\\发票模板-西藏文领商贸有限公司-SO-2024-02-1470-件数.xlsx\n",
      "F:\\a00nutstore\\008\\zw08\\莱新订单20241029\\发票模板-按销售订单和存货编码-件数\\发票模板-武汉金宸翰办公用品有限公司1-SO-2024-02-1471-件数.xlsx\n"
     ]
    },
    {
     "name": "stderr",
     "output_type": "stream",
     "text": [
      "C:\\Users\\redda\\AppData\\Roaming\\Python\\Python311\\site-packages\\openpyxl\\worksheet\\_reader.py:329: UserWarning: Data Validation extension is not supported and will be removed\n",
      "  warn(msg)\n",
      "C:\\Users\\redda\\AppData\\Roaming\\Python\\Python311\\site-packages\\openpyxl\\worksheet\\_reader.py:329: UserWarning: Data Validation extension is not supported and will be removed\n",
      "  warn(msg)\n",
      "C:\\Users\\redda\\AppData\\Roaming\\Python\\Python311\\site-packages\\openpyxl\\worksheet\\_reader.py:329: UserWarning: Data Validation extension is not supported and will be removed\n",
      "  warn(msg)\n"
     ]
    },
    {
     "name": "stdout",
     "output_type": "stream",
     "text": [
      "F:\\a00nutstore\\008\\zw08\\莱新订单20241029\\发票模板-按销售订单和存货编码-件数\\发票模板-武汉金宸翰办公用品有限公司1-SO-2024-02-1472-件数.xlsx\n",
      "F:\\a00nutstore\\008\\zw08\\莱新订单20241029\\发票模板-按销售订单和存货编码-件数\\发票模板-武汉金宸翰办公用品有限公司1-SO-2024-02-1473-件数.xlsx\n",
      "F:\\a00nutstore\\008\\zw08\\莱新订单20241029\\发票模板-按销售订单和存货编码-件数\\发票模板-武汉金宸翰办公用品有限公司1-SO-2024-02-1474-件数.xlsx\n",
      "F:\\a00nutstore\\008\\zw08\\莱新订单20241029\\发票模板-按销售订单和存货编码-件数\\发票模板-武汉开先文化用品有限责任公司-SO-2024-02-1475-件数.xlsx\n"
     ]
    },
    {
     "name": "stderr",
     "output_type": "stream",
     "text": [
      "C:\\Users\\redda\\AppData\\Roaming\\Python\\Python311\\site-packages\\openpyxl\\worksheet\\_reader.py:329: UserWarning: Data Validation extension is not supported and will be removed\n",
      "  warn(msg)\n",
      "C:\\Users\\redda\\AppData\\Roaming\\Python\\Python311\\site-packages\\openpyxl\\worksheet\\_reader.py:329: UserWarning: Data Validation extension is not supported and will be removed\n",
      "  warn(msg)\n"
     ]
    },
    {
     "name": "stdout",
     "output_type": "stream",
     "text": [
      "F:\\a00nutstore\\008\\zw08\\莱新订单20241029\\发票模板-按销售订单和存货编码-件数\\发票模板-沧州市政腾商贸有限公司-SO-2024-02-1476-件数.xlsx\n",
      "F:\\a00nutstore\\008\\zw08\\莱新订单20241029\\发票模板-按销售订单和存货编码-件数\\发票模板-保定市恒超文化用品有限公司-SO-2024-02-1477-件数.xlsx\n"
     ]
    },
    {
     "name": "stderr",
     "output_type": "stream",
     "text": [
      "C:\\Users\\redda\\AppData\\Roaming\\Python\\Python311\\site-packages\\openpyxl\\worksheet\\_reader.py:329: UserWarning: Data Validation extension is not supported and will be removed\n",
      "  warn(msg)\n",
      "C:\\Users\\redda\\AppData\\Roaming\\Python\\Python311\\site-packages\\openpyxl\\worksheet\\_reader.py:329: UserWarning: Data Validation extension is not supported and will be removed\n",
      "  warn(msg)\n"
     ]
    },
    {
     "name": "stdout",
     "output_type": "stream",
     "text": [
      "F:\\a00nutstore\\008\\zw08\\莱新订单20241029\\发票模板-按销售订单和存货编码-件数\\发票模板-武汉乐得电子商务有限公司-SO-2024-02-1478-件数.xlsx\n"
     ]
    },
    {
     "name": "stderr",
     "output_type": "stream",
     "text": [
      "C:\\Users\\redda\\AppData\\Roaming\\Python\\Python311\\site-packages\\openpyxl\\worksheet\\_reader.py:329: UserWarning: Data Validation extension is not supported and will be removed\n",
      "  warn(msg)\n",
      "C:\\Users\\redda\\AppData\\Roaming\\Python\\Python311\\site-packages\\openpyxl\\worksheet\\_reader.py:329: UserWarning: Data Validation extension is not supported and will be removed\n",
      "  warn(msg)\n"
     ]
    },
    {
     "name": "stdout",
     "output_type": "stream",
     "text": [
      "F:\\a00nutstore\\008\\zw08\\莱新订单20241029\\发票模板-按销售订单和存货编码-件数\\发票模板-武汉金胜辉商贸有限公司-SO-2024-02-1479-件数.xlsx\n",
      "F:\\a00nutstore\\008\\zw08\\莱新订单20241029\\发票模板-按销售订单和存货编码-件数\\发票模板-武汉金胜辉商贸有限公司-SO-2024-02-1480-件数.xlsx\n"
     ]
    },
    {
     "name": "stderr",
     "output_type": "stream",
     "text": [
      "C:\\Users\\redda\\AppData\\Roaming\\Python\\Python311\\site-packages\\openpyxl\\worksheet\\_reader.py:329: UserWarning: Data Validation extension is not supported and will be removed\n",
      "  warn(msg)\n",
      "C:\\Users\\redda\\AppData\\Roaming\\Python\\Python311\\site-packages\\openpyxl\\worksheet\\_reader.py:329: UserWarning: Data Validation extension is not supported and will be removed\n",
      "  warn(msg)\n"
     ]
    },
    {
     "name": "stdout",
     "output_type": "stream",
     "text": [
      "F:\\a00nutstore\\008\\zw08\\莱新订单20241029\\发票模板-按销售订单和存货编码-件数\\发票模板-武汉金胜辉商贸有限公司-SO-2024-02-1481-件数.xlsx\n",
      "F:\\a00nutstore\\008\\zw08\\莱新订单20241029\\发票模板-按销售订单和存货编码-件数\\发票模板-武汉米圣贸易有限公司-SO-2024-02-1482-件数.xlsx\n",
      "F:\\a00nutstore\\008\\zw08\\莱新订单20241029\\发票模板-按销售订单和存货编码-件数\\发票模板-武汉市热脉文体用品有限公司-SO-2024-02-1483-件数.xlsx\n"
     ]
    },
    {
     "name": "stderr",
     "output_type": "stream",
     "text": [
      "C:\\Users\\redda\\AppData\\Roaming\\Python\\Python311\\site-packages\\openpyxl\\worksheet\\_reader.py:329: UserWarning: Data Validation extension is not supported and will be removed\n",
      "  warn(msg)\n",
      "C:\\Users\\redda\\AppData\\Roaming\\Python\\Python311\\site-packages\\openpyxl\\worksheet\\_reader.py:329: UserWarning: Data Validation extension is not supported and will be removed\n",
      "  warn(msg)\n"
     ]
    },
    {
     "name": "stdout",
     "output_type": "stream",
     "text": [
      "F:\\a00nutstore\\008\\zw08\\莱新订单20241029\\发票模板-按销售订单和存货编码-件数\\发票模板-武汉开先文化用品有限责任公司-SO-2024-02-1484-件数.xlsx\n",
      "F:\\a00nutstore\\008\\zw08\\莱新订单20241029\\发票模板-按销售订单和存货编码-件数\\发票模板-武汉嘉迪亚商贸有限公司-SO-2024-02-1485-件数.xlsx\n"
     ]
    },
    {
     "name": "stderr",
     "output_type": "stream",
     "text": [
      "C:\\Users\\redda\\AppData\\Roaming\\Python\\Python311\\site-packages\\openpyxl\\worksheet\\_reader.py:329: UserWarning: Data Validation extension is not supported and will be removed\n",
      "  warn(msg)\n",
      "C:\\Users\\redda\\AppData\\Roaming\\Python\\Python311\\site-packages\\openpyxl\\worksheet\\_reader.py:329: UserWarning: Data Validation extension is not supported and will be removed\n",
      "  warn(msg)\n",
      "C:\\Users\\redda\\AppData\\Roaming\\Python\\Python311\\site-packages\\openpyxl\\worksheet\\_reader.py:329: UserWarning: Data Validation extension is not supported and will be removed\n",
      "  warn(msg)\n"
     ]
    },
    {
     "name": "stdout",
     "output_type": "stream",
     "text": [
      "F:\\a00nutstore\\008\\zw08\\莱新订单20241029\\发票模板-按销售订单和存货编码-件数\\发票模板-湖北昇耀商贸有限公司-SO-2024-02-1486-件数.xlsx\n",
      "F:\\a00nutstore\\008\\zw08\\莱新订单20241029\\发票模板-按销售订单和存货编码-件数\\发票模板-义乌市携诚文体用品有限公司-SO-2024-02-1487-件数.xlsx\n"
     ]
    },
    {
     "name": "stderr",
     "output_type": "stream",
     "text": [
      "C:\\Users\\redda\\AppData\\Roaming\\Python\\Python311\\site-packages\\openpyxl\\worksheet\\_reader.py:329: UserWarning: Data Validation extension is not supported and will be removed\n",
      "  warn(msg)\n"
     ]
    },
    {
     "name": "stdout",
     "output_type": "stream",
     "text": [
      "F:\\a00nutstore\\008\\zw08\\莱新订单20241029\\发票模板-按销售订单和存货编码-件数\\发票模板-昆明文本商贸有限公司-SO-2024-02-1488-件数.xlsx\n"
     ]
    },
    {
     "name": "stderr",
     "output_type": "stream",
     "text": [
      "C:\\Users\\redda\\AppData\\Roaming\\Python\\Python311\\site-packages\\openpyxl\\worksheet\\_reader.py:329: UserWarning: Data Validation extension is not supported and will be removed\n",
      "  warn(msg)\n"
     ]
    },
    {
     "name": "stdout",
     "output_type": "stream",
     "text": [
      "F:\\a00nutstore\\008\\zw08\\莱新订单20241029\\发票模板-按销售订单和存货编码-件数\\发票模板-长沙市东麦文化有限公司-SO-2024-02-1489-件数.xlsx\n",
      "F:\\a00nutstore\\008\\zw08\\莱新订单20241029\\发票模板-按销售订单和存货编码-件数\\发票模板-南宁市小木屋文化用品有限公司-SO-2024-02-1490-件数.xlsx\n"
     ]
    },
    {
     "name": "stderr",
     "output_type": "stream",
     "text": [
      "C:\\Users\\redda\\AppData\\Roaming\\Python\\Python311\\site-packages\\openpyxl\\worksheet\\_reader.py:329: UserWarning: Data Validation extension is not supported and will be removed\n",
      "  warn(msg)\n",
      "C:\\Users\\redda\\AppData\\Roaming\\Python\\Python311\\site-packages\\openpyxl\\worksheet\\_reader.py:329: UserWarning: Data Validation extension is not supported and will be removed\n",
      "  warn(msg)\n"
     ]
    },
    {
     "name": "stdout",
     "output_type": "stream",
     "text": [
      "F:\\a00nutstore\\008\\zw08\\莱新订单20241029\\发票模板-按销售订单和存货编码-件数\\发票模板-河南益尔商贸有限公司-SO-2024-02-1491-件数.xlsx\n",
      "F:\\a00nutstore\\008\\zw08\\莱新订单20241029\\发票模板-按销售订单和存货编码-件数\\发票模板-温州瑞鑫文具-SO-2024-02-1492-件数.xlsx\n"
     ]
    },
    {
     "name": "stderr",
     "output_type": "stream",
     "text": [
      "C:\\Users\\redda\\AppData\\Roaming\\Python\\Python311\\site-packages\\openpyxl\\worksheet\\_reader.py:329: UserWarning: Data Validation extension is not supported and will be removed\n",
      "  warn(msg)\n",
      "C:\\Users\\redda\\AppData\\Roaming\\Python\\Python311\\site-packages\\openpyxl\\worksheet\\_reader.py:329: UserWarning: Data Validation extension is not supported and will be removed\n",
      "  warn(msg)\n",
      "C:\\Users\\redda\\AppData\\Roaming\\Python\\Python311\\site-packages\\openpyxl\\worksheet\\_reader.py:329: UserWarning: Data Validation extension is not supported and will be removed\n",
      "  warn(msg)\n"
     ]
    },
    {
     "name": "stdout",
     "output_type": "stream",
     "text": [
      "F:\\a00nutstore\\008\\zw08\\莱新订单20241029\\发票模板-按销售订单和存货编码-件数\\发票模板-临沂巧纳金纸品有限公司-SO-2024-02-1493-件数.xlsx\n",
      "F:\\a00nutstore\\008\\zw08\\莱新订单20241029\\发票模板-按销售订单和存货编码-件数\\发票模板-西宁宏薇商贸有限公司-SO-2024-02-1494-件数.xlsx\n",
      "F:\\a00nutstore\\008\\zw08\\莱新订单20241029\\发票模板-按销售订单和存货编码-件数\\发票模板-云南乐信商贸有限公司-SO-2024-02-1495-件数.xlsx\n"
     ]
    },
    {
     "name": "stderr",
     "output_type": "stream",
     "text": [
      "C:\\Users\\redda\\AppData\\Roaming\\Python\\Python311\\site-packages\\openpyxl\\worksheet\\_reader.py:329: UserWarning: Data Validation extension is not supported and will be removed\n",
      "  warn(msg)\n",
      "C:\\Users\\redda\\AppData\\Roaming\\Python\\Python311\\site-packages\\openpyxl\\worksheet\\_reader.py:329: UserWarning: Data Validation extension is not supported and will be removed\n",
      "  warn(msg)\n",
      "C:\\Users\\redda\\AppData\\Roaming\\Python\\Python311\\site-packages\\openpyxl\\worksheet\\_reader.py:329: UserWarning: Data Validation extension is not supported and will be removed\n",
      "  warn(msg)\n"
     ]
    },
    {
     "name": "stdout",
     "output_type": "stream",
     "text": [
      "F:\\a00nutstore\\008\\zw08\\莱新订单20241029\\发票模板-按销售订单和存货编码-件数\\发票模板-龙岩连卫中-SO-2024-02-1496-件数.xlsx\n",
      "F:\\a00nutstore\\008\\zw08\\莱新订单20241029\\发票模板-按销售订单和存货编码-件数\\发票模板-厦门同心成商贸有限公司-SO-2024-02-1497-件数.xlsx\n"
     ]
    },
    {
     "name": "stderr",
     "output_type": "stream",
     "text": [
      "C:\\Users\\redda\\AppData\\Roaming\\Python\\Python311\\site-packages\\openpyxl\\worksheet\\_reader.py:329: UserWarning: Data Validation extension is not supported and will be removed\n",
      "  warn(msg)\n"
     ]
    },
    {
     "name": "stdout",
     "output_type": "stream",
     "text": [
      "F:\\a00nutstore\\008\\zw08\\莱新订单20241029\\发票模板-按销售订单和存货编码-件数\\发票模板-苏州工业园区展华商贸有限公司-SO-2024-02-1498-件数.xlsx\n"
     ]
    },
    {
     "name": "stderr",
     "output_type": "stream",
     "text": [
      "C:\\Users\\redda\\AppData\\Roaming\\Python\\Python311\\site-packages\\openpyxl\\worksheet\\_reader.py:329: UserWarning: Data Validation extension is not supported and will be removed\n",
      "  warn(msg)\n",
      "C:\\Users\\redda\\AppData\\Roaming\\Python\\Python311\\site-packages\\openpyxl\\worksheet\\_reader.py:329: UserWarning: Data Validation extension is not supported and will be removed\n",
      "  warn(msg)\n"
     ]
    },
    {
     "name": "stdout",
     "output_type": "stream",
     "text": [
      "F:\\a00nutstore\\008\\zw08\\莱新订单20241029\\发票模板-按销售订单和存货编码-件数\\发票模板-成都杨玲-SO-2024-02-1499-件数.xlsx\n",
      "F:\\a00nutstore\\008\\zw08\\莱新订单20241029\\发票模板-按销售订单和存货编码-件数\\发票模板-成都乐尚怡智商贸有限公司-SO-2024-02-1500-件数.xlsx\n",
      "F:\\a00nutstore\\008\\zw08\\莱新订单20241029\\发票模板-按销售订单和存货编码-件数\\发票模板-伊宁市文轩商贸有限公司-SO-2024-02-1501-件数.xlsx\n"
     ]
    },
    {
     "name": "stderr",
     "output_type": "stream",
     "text": [
      "C:\\Users\\redda\\AppData\\Roaming\\Python\\Python311\\site-packages\\openpyxl\\worksheet\\_reader.py:329: UserWarning: Data Validation extension is not supported and will be removed\n",
      "  warn(msg)\n",
      "C:\\Users\\redda\\AppData\\Roaming\\Python\\Python311\\site-packages\\openpyxl\\worksheet\\_reader.py:329: UserWarning: Data Validation extension is not supported and will be removed\n",
      "  warn(msg)\n",
      "C:\\Users\\redda\\AppData\\Roaming\\Python\\Python311\\site-packages\\openpyxl\\worksheet\\_reader.py:329: UserWarning: Data Validation extension is not supported and will be removed\n",
      "  warn(msg)\n"
     ]
    },
    {
     "name": "stdout",
     "output_type": "stream",
     "text": [
      "F:\\a00nutstore\\008\\zw08\\莱新订单20241029\\发票模板-按销售订单和存货编码-件数\\发票模板-石河子市满天红财会文体用品店-SO-2024-02-1502-件数.xlsx\n",
      "F:\\a00nutstore\\008\\zw08\\莱新订单20241029\\发票模板-按销售订单和存货编码-件数\\发票模板-泸州佳之彩商贸有限公司-SO-2024-02-1503-件数.xlsx\n"
     ]
    },
    {
     "name": "stderr",
     "output_type": "stream",
     "text": [
      "C:\\Users\\redda\\AppData\\Roaming\\Python\\Python311\\site-packages\\openpyxl\\worksheet\\_reader.py:329: UserWarning: Data Validation extension is not supported and will be removed\n",
      "  warn(msg)\n"
     ]
    },
    {
     "name": "stdout",
     "output_type": "stream",
     "text": [
      "F:\\a00nutstore\\008\\zw08\\莱新订单20241029\\发票模板-按销售订单和存货编码-件数\\发票模板-河南抬头喜办公用品有限公司S-SO-2024-02-1504-件数.xlsx\n",
      "F:\\a00nutstore\\008\\zw08\\莱新订单20241029\\发票模板-按销售订单和存货编码-件数\\发票模板-赣州加斯加贸易有限公司-SO-2024-02-1505-件数.xlsx\n"
     ]
    },
    {
     "name": "stderr",
     "output_type": "stream",
     "text": [
      "C:\\Users\\redda\\AppData\\Roaming\\Python\\Python311\\site-packages\\openpyxl\\worksheet\\_reader.py:329: UserWarning: Data Validation extension is not supported and will be removed\n",
      "  warn(msg)\n",
      "C:\\Users\\redda\\AppData\\Roaming\\Python\\Python311\\site-packages\\openpyxl\\worksheet\\_reader.py:329: UserWarning: Data Validation extension is not supported and will be removed\n",
      "  warn(msg)\n"
     ]
    },
    {
     "name": "stdout",
     "output_type": "stream",
     "text": [
      "F:\\a00nutstore\\008\\zw08\\莱新订单20241029\\发票模板-按销售订单和存货编码-件数\\发票模板-武汉金胜辉商贸有限公司-SO-2024-02-1506-件数.xlsx\n"
     ]
    },
    {
     "name": "stderr",
     "output_type": "stream",
     "text": [
      "C:\\Users\\redda\\AppData\\Roaming\\Python\\Python311\\site-packages\\openpyxl\\worksheet\\_reader.py:329: UserWarning: Data Validation extension is not supported and will be removed\n",
      "  warn(msg)\n",
      "C:\\Users\\redda\\AppData\\Roaming\\Python\\Python311\\site-packages\\openpyxl\\worksheet\\_reader.py:329: UserWarning: Data Validation extension is not supported and will be removed\n",
      "  warn(msg)\n"
     ]
    },
    {
     "name": "stdout",
     "output_type": "stream",
     "text": [
      "F:\\a00nutstore\\008\\zw08\\莱新订单20241029\\发票模板-按销售订单和存货编码-件数\\发票模板-武汉金胜辉商贸有限公司-SO-2024-02-1507-件数.xlsx\n",
      "F:\\a00nutstore\\008\\zw08\\莱新订单20241029\\发票模板-按销售订单和存货编码-件数\\发票模板-武汉开先文化用品有限责任公司-SO-2024-02-1508-件数.xlsx\n"
     ]
    },
    {
     "name": "stderr",
     "output_type": "stream",
     "text": [
      "C:\\Users\\redda\\AppData\\Roaming\\Python\\Python311\\site-packages\\openpyxl\\worksheet\\_reader.py:329: UserWarning: Data Validation extension is not supported and will be removed\n",
      "  warn(msg)\n",
      "C:\\Users\\redda\\AppData\\Roaming\\Python\\Python311\\site-packages\\openpyxl\\worksheet\\_reader.py:329: UserWarning: Data Validation extension is not supported and will be removed\n",
      "  warn(msg)\n"
     ]
    },
    {
     "name": "stdout",
     "output_type": "stream",
     "text": [
      "F:\\a00nutstore\\008\\zw08\\莱新订单20241029\\发票模板-按销售订单和存货编码-件数\\发票模板-成都市金牛区迪欣印务批发部-SO-2024-02-1509-件数.xlsx\n",
      "F:\\a00nutstore\\008\\zw08\\莱新订单20241029\\发票模板-按销售订单和存货编码-件数\\发票模板-武汉静静舒文体用品有限公司-SO-2024-02-1510-件数.xlsx\n",
      "F:\\a00nutstore\\008\\zw08\\莱新订单20241029\\发票模板-按销售订单和存货编码-件数\\发票模板-武汉金宸翰办公用品有限公司1-SO-2024-02-1511-件数.xlsx\n"
     ]
    },
    {
     "name": "stderr",
     "output_type": "stream",
     "text": [
      "C:\\Users\\redda\\AppData\\Roaming\\Python\\Python311\\site-packages\\openpyxl\\worksheet\\_reader.py:329: UserWarning: Data Validation extension is not supported and will be removed\n",
      "  warn(msg)\n",
      "C:\\Users\\redda\\AppData\\Roaming\\Python\\Python311\\site-packages\\openpyxl\\worksheet\\_reader.py:329: UserWarning: Data Validation extension is not supported and will be removed\n",
      "  warn(msg)\n"
     ]
    },
    {
     "name": "stdout",
     "output_type": "stream",
     "text": [
      "F:\\a00nutstore\\008\\zw08\\莱新订单20241029\\发票模板-按销售订单和存货编码-件数\\发票模板-临沂李加朋-SO-2024-02-1512-件数.xlsx\n"
     ]
    },
    {
     "name": "stderr",
     "output_type": "stream",
     "text": [
      "C:\\Users\\redda\\AppData\\Roaming\\Python\\Python311\\site-packages\\openpyxl\\worksheet\\_reader.py:329: UserWarning: Data Validation extension is not supported and will be removed\n",
      "  warn(msg)\n"
     ]
    },
    {
     "name": "stdout",
     "output_type": "stream",
     "text": [
      "F:\\a00nutstore\\008\\zw08\\莱新订单20241029\\发票模板-按销售订单和存货编码-件数\\发票模板-邵东金志文-SO-2024-02-1513-件数.xlsx\n"
     ]
    },
    {
     "name": "stderr",
     "output_type": "stream",
     "text": [
      "C:\\Users\\redda\\AppData\\Roaming\\Python\\Python311\\site-packages\\openpyxl\\worksheet\\_reader.py:329: UserWarning: Data Validation extension is not supported and will be removed\n",
      "  warn(msg)\n",
      "C:\\Users\\redda\\AppData\\Roaming\\Python\\Python311\\site-packages\\openpyxl\\worksheet\\_reader.py:329: UserWarning: Data Validation extension is not supported and will be removed\n",
      "  warn(msg)\n"
     ]
    },
    {
     "name": "stdout",
     "output_type": "stream",
     "text": [
      "F:\\a00nutstore\\008\\zw08\\莱新订单20241029\\发票模板-按销售订单和存货编码-件数\\发票模板-青海一诺商贸有限公司-SO-2024-02-1514-件数.xlsx\n",
      "F:\\a00nutstore\\008\\zw08\\莱新订单20241029\\发票模板-按销售订单和存货编码-件数\\发票模板-西安继坤工贸有限公司-SO-2024-02-1515-件数.xlsx\n"
     ]
    },
    {
     "name": "stderr",
     "output_type": "stream",
     "text": [
      "C:\\Users\\redda\\AppData\\Roaming\\Python\\Python311\\site-packages\\openpyxl\\worksheet\\_reader.py:329: UserWarning: Data Validation extension is not supported and will be removed\n",
      "  warn(msg)\n",
      "C:\\Users\\redda\\AppData\\Roaming\\Python\\Python311\\site-packages\\openpyxl\\worksheet\\_reader.py:329: UserWarning: Data Validation extension is not supported and will be removed\n",
      "  warn(msg)\n"
     ]
    },
    {
     "name": "stdout",
     "output_type": "stream",
     "text": [
      "F:\\a00nutstore\\008\\zw08\\莱新订单20241029\\发票模板-按销售订单和存货编码-件数\\发票模板-江西东优贸易有限公司-SO-2024-02-1516-件数.xlsx\n",
      "F:\\a00nutstore\\008\\zw08\\莱新订单20241029\\发票模板-按销售订单和存货编码-件数\\发票模板-石家庄本米文具用品销售有限公司-SO-2024-02-1517-件数.xlsx\n"
     ]
    },
    {
     "name": "stderr",
     "output_type": "stream",
     "text": [
      "C:\\Users\\redda\\AppData\\Roaming\\Python\\Python311\\site-packages\\openpyxl\\worksheet\\_reader.py:329: UserWarning: Data Validation extension is not supported and will be removed\n",
      "  warn(msg)\n",
      "C:\\Users\\redda\\AppData\\Roaming\\Python\\Python311\\site-packages\\openpyxl\\worksheet\\_reader.py:329: UserWarning: Data Validation extension is not supported and will be removed\n",
      "  warn(msg)\n"
     ]
    },
    {
     "name": "stdout",
     "output_type": "stream",
     "text": [
      "F:\\a00nutstore\\008\\zw08\\莱新订单20241029\\发票模板-按销售订单和存货编码-件数\\发票模板-天津市友旺商贸有限公司-SO-2024-02-1518-件数.xlsx\n",
      "F:\\a00nutstore\\008\\zw08\\莱新订单20241029\\发票模板-按销售订单和存货编码-件数\\发票模板-天津集采科技发展有限公司-SO-2024-02-1519-件数.xlsx\n"
     ]
    },
    {
     "name": "stderr",
     "output_type": "stream",
     "text": [
      "C:\\Users\\redda\\AppData\\Roaming\\Python\\Python311\\site-packages\\openpyxl\\worksheet\\_reader.py:329: UserWarning: Data Validation extension is not supported and will be removed\n",
      "  warn(msg)\n"
     ]
    },
    {
     "name": "stdout",
     "output_type": "stream",
     "text": [
      "F:\\a00nutstore\\008\\zw08\\莱新订单20241029\\发票模板-按销售订单和存货编码-件数\\发票模板-义乌范光洪-SO-2024-02-1520-件数.xlsx\n",
      "F:\\a00nutstore\\008\\zw08\\莱新订单20241029\\发票模板-按销售订单和存货编码-件数\\发票模板-湖北昇耀商贸有限公司-SO-2024-02-1521-件数.xlsx\n"
     ]
    },
    {
     "name": "stderr",
     "output_type": "stream",
     "text": [
      "C:\\Users\\redda\\AppData\\Roaming\\Python\\Python311\\site-packages\\openpyxl\\worksheet\\_reader.py:329: UserWarning: Data Validation extension is not supported and will be removed\n",
      "  warn(msg)\n",
      "C:\\Users\\redda\\AppData\\Roaming\\Python\\Python311\\site-packages\\openpyxl\\worksheet\\_reader.py:329: UserWarning: Data Validation extension is not supported and will be removed\n",
      "  warn(msg)\n"
     ]
    },
    {
     "name": "stdout",
     "output_type": "stream",
     "text": [
      "F:\\a00nutstore\\008\\zw08\\莱新订单20241029\\发票模板-按销售订单和存货编码-件数\\发票模板-武汉米圣贸易有限公司-SO-2024-02-1522-件数.xlsx\n",
      "F:\\a00nutstore\\008\\zw08\\莱新订单20241029\\发票模板-按销售订单和存货编码-件数\\发票模板-武汉市热脉文体用品有限公司-SO-2024-02-1523-件数.xlsx\n"
     ]
    },
    {
     "name": "stderr",
     "output_type": "stream",
     "text": [
      "C:\\Users\\redda\\AppData\\Roaming\\Python\\Python311\\site-packages\\openpyxl\\worksheet\\_reader.py:329: UserWarning: Data Validation extension is not supported and will be removed\n",
      "  warn(msg)\n",
      "C:\\Users\\redda\\AppData\\Roaming\\Python\\Python311\\site-packages\\openpyxl\\worksheet\\_reader.py:329: UserWarning: Data Validation extension is not supported and will be removed\n",
      "  warn(msg)\n"
     ]
    },
    {
     "name": "stdout",
     "output_type": "stream",
     "text": [
      "F:\\a00nutstore\\008\\zw08\\莱新订单20241029\\发票模板-按销售订单和存货编码-件数\\发票模板-武汉嘉迪亚商贸有限公司-SO-2024-02-1524-件数.xlsx\n"
     ]
    },
    {
     "name": "stderr",
     "output_type": "stream",
     "text": [
      "C:\\Users\\redda\\AppData\\Roaming\\Python\\Python311\\site-packages\\openpyxl\\worksheet\\_reader.py:329: UserWarning: Data Validation extension is not supported and will be removed\n",
      "  warn(msg)\n",
      "C:\\Users\\redda\\AppData\\Roaming\\Python\\Python311\\site-packages\\openpyxl\\worksheet\\_reader.py:329: UserWarning: Data Validation extension is not supported and will be removed\n",
      "  warn(msg)\n"
     ]
    },
    {
     "name": "stdout",
     "output_type": "stream",
     "text": [
      "F:\\a00nutstore\\008\\zw08\\莱新订单20241029\\发票模板-按销售订单和存货编码-件数\\发票模板-河南抬头喜办公用品有限公司S-SO-2024-02-1525-件数.xlsx\n",
      "F:\\a00nutstore\\008\\zw08\\莱新订单20241029\\发票模板-按销售订单和存货编码-件数\\发票模板-湖北昇耀商贸有限公司-SO-2024-02-1527-件数.xlsx\n"
     ]
    },
    {
     "name": "stderr",
     "output_type": "stream",
     "text": [
      "C:\\Users\\redda\\AppData\\Roaming\\Python\\Python311\\site-packages\\openpyxl\\worksheet\\_reader.py:329: UserWarning: Data Validation extension is not supported and will be removed\n",
      "  warn(msg)\n",
      "C:\\Users\\redda\\AppData\\Roaming\\Python\\Python311\\site-packages\\openpyxl\\worksheet\\_reader.py:329: UserWarning: Data Validation extension is not supported and will be removed\n",
      "  warn(msg)\n"
     ]
    },
    {
     "name": "stdout",
     "output_type": "stream",
     "text": [
      "F:\\a00nutstore\\008\\zw08\\莱新订单20241029\\发票模板-按销售订单和存货编码-件数\\发票模板-武汉米圣贸易有限公司-SO-2024-02-1528-件数.xlsx\n",
      "F:\\a00nutstore\\008\\zw08\\莱新订单20241029\\发票模板-按销售订单和存货编码-件数\\发票模板-武汉今日成纸业有限公司-SO-2024-02-1529-件数.xlsx\n"
     ]
    },
    {
     "name": "stderr",
     "output_type": "stream",
     "text": [
      "C:\\Users\\redda\\AppData\\Roaming\\Python\\Python311\\site-packages\\openpyxl\\worksheet\\_reader.py:329: UserWarning: Data Validation extension is not supported and will be removed\n",
      "  warn(msg)\n"
     ]
    },
    {
     "name": "stdout",
     "output_type": "stream",
     "text": [
      "F:\\a00nutstore\\008\\zw08\\莱新订单20241029\\发票模板-按销售订单和存货编码-件数\\发票模板-武汉市热脉文体用品有限公司-SO-2024-02-1530-件数.xlsx\n"
     ]
    },
    {
     "name": "stderr",
     "output_type": "stream",
     "text": [
      "C:\\Users\\redda\\AppData\\Roaming\\Python\\Python311\\site-packages\\openpyxl\\worksheet\\_reader.py:329: UserWarning: Data Validation extension is not supported and will be removed\n",
      "  warn(msg)\n"
     ]
    },
    {
     "name": "stdout",
     "output_type": "stream",
     "text": [
      "F:\\a00nutstore\\008\\zw08\\莱新订单20241029\\发票模板-按销售订单和存货编码-件数\\发票模板-武汉米圣贸易有限公司-SO-2024-02-1531-件数.xlsx\n",
      "F:\\a00nutstore\\008\\zw08\\莱新订单20241029\\发票模板-按销售订单和存货编码-件数\\发票模板-武汉金胜辉商贸有限公司-SO-2024-02-1532-件数.xlsx\n"
     ]
    },
    {
     "name": "stderr",
     "output_type": "stream",
     "text": [
      "C:\\Users\\redda\\AppData\\Roaming\\Python\\Python311\\site-packages\\openpyxl\\worksheet\\_reader.py:329: UserWarning: Data Validation extension is not supported and will be removed\n",
      "  warn(msg)\n",
      "C:\\Users\\redda\\AppData\\Roaming\\Python\\Python311\\site-packages\\openpyxl\\worksheet\\_reader.py:329: UserWarning: Data Validation extension is not supported and will be removed\n",
      "  warn(msg)\n"
     ]
    },
    {
     "name": "stdout",
     "output_type": "stream",
     "text": [
      "F:\\a00nutstore\\008\\zw08\\莱新订单20241029\\发票模板-按销售订单和存货编码-件数\\发票模板-武汉开先文化用品有限责任公司-SO-2024-02-1533-件数.xlsx\n",
      "F:\\a00nutstore\\008\\zw08\\莱新订单20241029\\发票模板-按销售订单和存货编码-件数\\发票模板-武汉金宸翰办公用品有限公司1-SO-2024-02-1534-件数.xlsx\n"
     ]
    },
    {
     "name": "stderr",
     "output_type": "stream",
     "text": [
      "C:\\Users\\redda\\AppData\\Roaming\\Python\\Python311\\site-packages\\openpyxl\\worksheet\\_reader.py:329: UserWarning: Data Validation extension is not supported and will be removed\n",
      "  warn(msg)\n",
      "C:\\Users\\redda\\AppData\\Roaming\\Python\\Python311\\site-packages\\openpyxl\\worksheet\\_reader.py:329: UserWarning: Data Validation extension is not supported and will be removed\n",
      "  warn(msg)\n"
     ]
    },
    {
     "name": "stdout",
     "output_type": "stream",
     "text": [
      "F:\\a00nutstore\\008\\zw08\\莱新订单20241029\\发票模板-按销售订单和存货编码-件数\\发票模板-武汉市齐达利商贸有限公司-SO-2024-02-1535-件数.xlsx\n"
     ]
    },
    {
     "name": "stderr",
     "output_type": "stream",
     "text": [
      "C:\\Users\\redda\\AppData\\Roaming\\Python\\Python311\\site-packages\\openpyxl\\worksheet\\_reader.py:329: UserWarning: Data Validation extension is not supported and will be removed\n",
      "  warn(msg)\n"
     ]
    },
    {
     "name": "stdout",
     "output_type": "stream",
     "text": [
      "F:\\a00nutstore\\008\\zw08\\莱新订单20241029\\发票模板-按销售订单和存货编码-件数\\发票模板-武汉米圣贸易有限公司-SO-2024-02-1536-件数.xlsx\n",
      "F:\\a00nutstore\\008\\zw08\\莱新订单20241029\\发票模板-按销售订单和存货编码-件数\\发票模板-大庆市智胜文具办公设备有限公司-SO-2024-02-1537-件数.xlsx\n"
     ]
    },
    {
     "name": "stderr",
     "output_type": "stream",
     "text": [
      "C:\\Users\\redda\\AppData\\Roaming\\Python\\Python311\\site-packages\\openpyxl\\worksheet\\_reader.py:329: UserWarning: Data Validation extension is not supported and will be removed\n",
      "  warn(msg)\n",
      "C:\\Users\\redda\\AppData\\Roaming\\Python\\Python311\\site-packages\\openpyxl\\worksheet\\_reader.py:329: UserWarning: Data Validation extension is not supported and will be removed\n",
      "  warn(msg)\n",
      "C:\\Users\\redda\\AppData\\Roaming\\Python\\Python311\\site-packages\\openpyxl\\worksheet\\_reader.py:329: UserWarning: Data Validation extension is not supported and will be removed\n",
      "  warn(msg)\n"
     ]
    },
    {
     "name": "stdout",
     "output_type": "stream",
     "text": [
      "F:\\a00nutstore\\008\\zw08\\莱新订单20241029\\发票模板-按销售订单和存货编码-件数\\发票模板-鹤岗市超东选商贸有限公司-SO-2024-02-1538-件数.xlsx\n",
      "F:\\a00nutstore\\008\\zw08\\莱新订单20241029\\发票模板-按销售订单和存货编码-件数\\发票模板-河南抬头喜办公用品有限公司S-SO-2024-02-1539-件数.xlsx\n",
      "F:\\a00nutstore\\008\\zw08\\莱新订单20241029\\发票模板-按销售订单和存货编码-件数\\发票模板-武汉米圣贸易有限公司-SO-2024-02-1540-件数.xlsx\n"
     ]
    },
    {
     "name": "stderr",
     "output_type": "stream",
     "text": [
      "C:\\Users\\redda\\AppData\\Roaming\\Python\\Python311\\site-packages\\openpyxl\\worksheet\\_reader.py:329: UserWarning: Data Validation extension is not supported and will be removed\n",
      "  warn(msg)\n",
      "C:\\Users\\redda\\AppData\\Roaming\\Python\\Python311\\site-packages\\openpyxl\\worksheet\\_reader.py:329: UserWarning: Data Validation extension is not supported and will be removed\n",
      "  warn(msg)\n",
      "C:\\Users\\redda\\AppData\\Roaming\\Python\\Python311\\site-packages\\openpyxl\\worksheet\\_reader.py:329: UserWarning: Data Validation extension is not supported and will be removed\n",
      "  warn(msg)\n"
     ]
    },
    {
     "name": "stdout",
     "output_type": "stream",
     "text": [
      "F:\\a00nutstore\\008\\zw08\\莱新订单20241029\\发票模板-按销售订单和存货编码-件数\\发票模板-武汉嘉迪亚商贸有限公司-SO-2024-02-1541-件数.xlsx\n",
      "F:\\a00nutstore\\008\\zw08\\莱新订单20241029\\发票模板-按销售订单和存货编码-件数\\发票模板-湖北昇耀商贸有限公司-SO-2024-02-1542-件数.xlsx\n"
     ]
    },
    {
     "name": "stderr",
     "output_type": "stream",
     "text": [
      "C:\\Users\\redda\\AppData\\Roaming\\Python\\Python311\\site-packages\\openpyxl\\worksheet\\_reader.py:329: UserWarning: Data Validation extension is not supported and will be removed\n",
      "  warn(msg)\n",
      "C:\\Users\\redda\\AppData\\Roaming\\Python\\Python311\\site-packages\\openpyxl\\worksheet\\_reader.py:329: UserWarning: Data Validation extension is not supported and will be removed\n",
      "  warn(msg)\n"
     ]
    },
    {
     "name": "stdout",
     "output_type": "stream",
     "text": [
      "F:\\a00nutstore\\008\\zw08\\莱新订单20241029\\发票模板-按销售订单和存货编码-件数\\发票模板-武汉市热脉文体用品有限公司-SO-2024-02-1543-件数.xlsx\n",
      "F:\\a00nutstore\\008\\zw08\\莱新订单20241029\\发票模板-按销售订单和存货编码-件数\\发票模板-武汉优聚优品贸易有限公司-SO-2024-02-1544-件数.xlsx\n"
     ]
    },
    {
     "name": "stderr",
     "output_type": "stream",
     "text": [
      "C:\\Users\\redda\\AppData\\Roaming\\Python\\Python311\\site-packages\\openpyxl\\worksheet\\_reader.py:329: UserWarning: Data Validation extension is not supported and will be removed\n",
      "  warn(msg)\n",
      "C:\\Users\\redda\\AppData\\Roaming\\Python\\Python311\\site-packages\\openpyxl\\worksheet\\_reader.py:329: UserWarning: Data Validation extension is not supported and will be removed\n",
      "  warn(msg)\n"
     ]
    },
    {
     "name": "stdout",
     "output_type": "stream",
     "text": [
      "F:\\a00nutstore\\008\\zw08\\莱新订单20241029\\发票模板-按销售订单和存货编码-件数\\发票模板-武汉开先文化用品有限责任公司-SO-2024-02-1545-件数.xlsx\n",
      "F:\\a00nutstore\\008\\zw08\\莱新订单20241029\\发票模板-按销售订单和存货编码-件数\\发票模板-武汉乐得电子商务有限公司-SO-2024-02-1546-件数.xlsx\n",
      "F:\\a00nutstore\\008\\zw08\\莱新订单20241029\\发票模板-按销售订单和存货编码-件数\\发票模板-武汉金胜辉商贸有限公司-SO-2024-02-1547-件数.xlsx\n"
     ]
    },
    {
     "name": "stderr",
     "output_type": "stream",
     "text": [
      "C:\\Users\\redda\\AppData\\Roaming\\Python\\Python311\\site-packages\\openpyxl\\worksheet\\_reader.py:329: UserWarning: Data Validation extension is not supported and will be removed\n",
      "  warn(msg)\n",
      "C:\\Users\\redda\\AppData\\Roaming\\Python\\Python311\\site-packages\\openpyxl\\worksheet\\_reader.py:329: UserWarning: Data Validation extension is not supported and will be removed\n",
      "  warn(msg)\n"
     ]
    },
    {
     "name": "stdout",
     "output_type": "stream",
     "text": [
      "F:\\a00nutstore\\008\\zw08\\莱新订单20241029\\发票模板-按销售订单和存货编码-件数\\发票模板-武汉市热脉文体用品有限公司-SO-2024-02-1548-件数.xlsx\n",
      "F:\\a00nutstore\\008\\zw08\\莱新订单20241029\\发票模板-按销售订单和存货编码-件数\\发票模板-南宁市小木屋文化用品有限公司-SO-2024-02-1549-件数.xlsx\n"
     ]
    },
    {
     "name": "stderr",
     "output_type": "stream",
     "text": [
      "C:\\Users\\redda\\AppData\\Roaming\\Python\\Python311\\site-packages\\openpyxl\\worksheet\\_reader.py:329: UserWarning: Data Validation extension is not supported and will be removed\n",
      "  warn(msg)\n",
      "C:\\Users\\redda\\AppData\\Roaming\\Python\\Python311\\site-packages\\openpyxl\\worksheet\\_reader.py:329: UserWarning: Data Validation extension is not supported and will be removed\n",
      "  warn(msg)\n"
     ]
    },
    {
     "name": "stdout",
     "output_type": "stream",
     "text": [
      "F:\\a00nutstore\\008\\zw08\\莱新订单20241029\\发票模板-按销售订单和存货编码-件数\\发票模板-贵州三鑫文化用品有限公司-SO-2024-02-1550-件数.xlsx\n"
     ]
    },
    {
     "name": "stderr",
     "output_type": "stream",
     "text": [
      "C:\\Users\\redda\\AppData\\Roaming\\Python\\Python311\\site-packages\\openpyxl\\worksheet\\_reader.py:329: UserWarning: Data Validation extension is not supported and will be removed\n",
      "  warn(msg)\n",
      "C:\\Users\\redda\\AppData\\Roaming\\Python\\Python311\\site-packages\\openpyxl\\worksheet\\_reader.py:329: UserWarning: Data Validation extension is not supported and will be removed\n",
      "  warn(msg)\n"
     ]
    },
    {
     "name": "stdout",
     "output_type": "stream",
     "text": [
      "F:\\a00nutstore\\008\\zw08\\莱新订单20241029\\发票模板-按销售订单和存货编码-件数\\发票模板-品壹佰河北商贸有限公司-SO-2024-02-1551-件数.xlsx\n",
      "F:\\a00nutstore\\008\\zw08\\莱新订单20241029\\发票模板-按销售订单和存货编码-件数\\发票模板-成都杨玲-SO-2024-02-1552-件数.xlsx\n"
     ]
    },
    {
     "name": "stderr",
     "output_type": "stream",
     "text": [
      "C:\\Users\\redda\\AppData\\Roaming\\Python\\Python311\\site-packages\\openpyxl\\worksheet\\_reader.py:329: UserWarning: Data Validation extension is not supported and will be removed\n",
      "  warn(msg)\n"
     ]
    },
    {
     "name": "stdout",
     "output_type": "stream",
     "text": [
      "F:\\a00nutstore\\008\\zw08\\莱新订单20241029\\发票模板-按销售订单和存货编码-件数\\发票模板-成都乐尚怡智商贸有限公司-SO-2024-02-1553-件数.xlsx\n"
     ]
    },
    {
     "name": "stderr",
     "output_type": "stream",
     "text": [
      "C:\\Users\\redda\\AppData\\Roaming\\Python\\Python311\\site-packages\\openpyxl\\worksheet\\_reader.py:329: UserWarning: Data Validation extension is not supported and will be removed\n",
      "  warn(msg)\n",
      "C:\\Users\\redda\\AppData\\Roaming\\Python\\Python311\\site-packages\\openpyxl\\worksheet\\_reader.py:329: UserWarning: Data Validation extension is not supported and will be removed\n",
      "  warn(msg)\n"
     ]
    },
    {
     "name": "stdout",
     "output_type": "stream",
     "text": [
      "F:\\a00nutstore\\008\\zw08\\莱新订单20241029\\发票模板-按销售订单和存货编码-件数\\发票模板-泸州佳之彩商贸有限公司-SO-2024-02-1554-件数.xlsx\n",
      "F:\\a00nutstore\\008\\zw08\\莱新订单20241029\\发票模板-按销售订单和存货编码-件数\\发票模板-潍坊润海办公用品有限公司-SO-2024-02-1555-件数.xlsx\n"
     ]
    },
    {
     "name": "stderr",
     "output_type": "stream",
     "text": [
      "C:\\Users\\redda\\AppData\\Roaming\\Python\\Python311\\site-packages\\openpyxl\\worksheet\\_reader.py:329: UserWarning: Data Validation extension is not supported and will be removed\n",
      "  warn(msg)\n",
      "C:\\Users\\redda\\AppData\\Roaming\\Python\\Python311\\site-packages\\openpyxl\\worksheet\\_reader.py:329: UserWarning: Data Validation extension is not supported and will be removed\n",
      "  warn(msg)\n"
     ]
    },
    {
     "name": "stdout",
     "output_type": "stream",
     "text": [
      "F:\\a00nutstore\\008\\zw08\\莱新订单20241029\\发票模板-按销售订单和存货编码-件数\\发票模板-武汉今日成纸业有限公司-SO-2024-02-1556-件数.xlsx\n",
      "F:\\a00nutstore\\008\\zw08\\莱新订单20241029\\发票模板-按销售订单和存货编码-件数\\发票模板-武汉嘉迪亚商贸有限公司-SO-2024-02-1557-件数.xlsx\n"
     ]
    },
    {
     "name": "stderr",
     "output_type": "stream",
     "text": [
      "C:\\Users\\redda\\AppData\\Roaming\\Python\\Python311\\site-packages\\openpyxl\\worksheet\\_reader.py:329: UserWarning: Data Validation extension is not supported and will be removed\n",
      "  warn(msg)\n"
     ]
    },
    {
     "name": "stdout",
     "output_type": "stream",
     "text": [
      "F:\\a00nutstore\\008\\zw08\\莱新订单20241029\\发票模板-按销售订单和存货编码-件数\\发票模板-湖北昇耀商贸有限公司-SO-2024-02-1558-件数.xlsx\n",
      "F:\\a00nutstore\\008\\zw08\\莱新订单20241029\\发票模板-按销售订单和存货编码-件数\\发票模板-武汉开先文化用品有限责任公司-SO-2024-02-1559-件数.xlsx\n"
     ]
    },
    {
     "name": "stderr",
     "output_type": "stream",
     "text": [
      "C:\\Users\\redda\\AppData\\Roaming\\Python\\Python311\\site-packages\\openpyxl\\worksheet\\_reader.py:329: UserWarning: Data Validation extension is not supported and will be removed\n",
      "  warn(msg)\n",
      "C:\\Users\\redda\\AppData\\Roaming\\Python\\Python311\\site-packages\\openpyxl\\worksheet\\_reader.py:329: UserWarning: Data Validation extension is not supported and will be removed\n",
      "  warn(msg)\n"
     ]
    },
    {
     "name": "stdout",
     "output_type": "stream",
     "text": [
      "F:\\a00nutstore\\008\\zw08\\莱新订单20241029\\发票模板-按销售订单和存货编码-件数\\发票模板-河南抬头喜办公用品有限公司S-SO-2024-02-1560-件数.xlsx\n"
     ]
    },
    {
     "name": "stderr",
     "output_type": "stream",
     "text": [
      "C:\\Users\\redda\\AppData\\Roaming\\Python\\Python311\\site-packages\\openpyxl\\worksheet\\_reader.py:329: UserWarning: Data Validation extension is not supported and will be removed\n",
      "  warn(msg)\n",
      "C:\\Users\\redda\\AppData\\Roaming\\Python\\Python311\\site-packages\\openpyxl\\worksheet\\_reader.py:329: UserWarning: Data Validation extension is not supported and will be removed\n",
      "  warn(msg)\n"
     ]
    },
    {
     "name": "stdout",
     "output_type": "stream",
     "text": [
      "F:\\a00nutstore\\008\\zw08\\莱新订单20241029\\发票模板-按销售订单和存货编码-件数\\发票模板-大庆市智胜文具办公设备有限公司-SO-2024-02-1561-件数.xlsx\n",
      "F:\\a00nutstore\\008\\zw08\\莱新订单20241029\\发票模板-按销售订单和存货编码-件数\\发票模板-临沂巧纳金纸品有限公司-SO-2024-02-1562-件数.xlsx\n"
     ]
    },
    {
     "name": "stderr",
     "output_type": "stream",
     "text": [
      "C:\\Users\\redda\\AppData\\Roaming\\Python\\Python311\\site-packages\\openpyxl\\worksheet\\_reader.py:329: UserWarning: Data Validation extension is not supported and will be removed\n",
      "  warn(msg)\n",
      "C:\\Users\\redda\\AppData\\Roaming\\Python\\Python311\\site-packages\\openpyxl\\worksheet\\_reader.py:329: UserWarning: Data Validation extension is not supported and will be removed\n",
      "  warn(msg)\n"
     ]
    },
    {
     "name": "stdout",
     "output_type": "stream",
     "text": [
      "F:\\a00nutstore\\008\\zw08\\莱新订单20241029\\发票模板-按销售订单和存货编码-件数\\发票模板-江西华兆昌商贸有限公司-SO-2024-02-1563-件数.xlsx\n",
      "F:\\a00nutstore\\008\\zw08\\莱新订单20241029\\发票模板-按销售订单和存货编码-件数\\发票模板-河南抬头喜办公用品有限公司S-SO-2024-02-1564-件数.xlsx\n"
     ]
    },
    {
     "name": "stderr",
     "output_type": "stream",
     "text": [
      "C:\\Users\\redda\\AppData\\Roaming\\Python\\Python311\\site-packages\\openpyxl\\worksheet\\_reader.py:329: UserWarning: Data Validation extension is not supported and will be removed\n",
      "  warn(msg)\n"
     ]
    },
    {
     "name": "stdout",
     "output_type": "stream",
     "text": [
      "F:\\a00nutstore\\008\\zw08\\莱新订单20241029\\发票模板-按销售订单和存货编码-件数\\发票模板-成都杨万平-SO-2024-02-1565-件数.xlsx\n"
     ]
    },
    {
     "name": "stderr",
     "output_type": "stream",
     "text": [
      "C:\\Users\\redda\\AppData\\Roaming\\Python\\Python311\\site-packages\\openpyxl\\worksheet\\_reader.py:329: UserWarning: Data Validation extension is not supported and will be removed\n",
      "  warn(msg)\n",
      "C:\\Users\\redda\\AppData\\Roaming\\Python\\Python311\\site-packages\\openpyxl\\worksheet\\_reader.py:329: UserWarning: Data Validation extension is not supported and will be removed\n",
      "  warn(msg)\n"
     ]
    },
    {
     "name": "stdout",
     "output_type": "stream",
     "text": [
      "F:\\a00nutstore\\008\\zw08\\莱新订单20241029\\发票模板-按销售订单和存货编码-件数\\发票模板-长沙市雨花区文丰文具商行-SO-2024-02-1566-件数.xlsx\n",
      "F:\\a00nutstore\\008\\zw08\\莱新订单20241029\\发票模板-按销售订单和存货编码-件数\\发票模板-成都杨玲-SO-2024-02-1567-件数.xlsx\n"
     ]
    },
    {
     "name": "stderr",
     "output_type": "stream",
     "text": [
      "C:\\Users\\redda\\AppData\\Roaming\\Python\\Python311\\site-packages\\openpyxl\\worksheet\\_reader.py:329: UserWarning: Data Validation extension is not supported and will be removed\n",
      "  warn(msg)\n",
      "C:\\Users\\redda\\AppData\\Roaming\\Python\\Python311\\site-packages\\openpyxl\\worksheet\\_reader.py:329: UserWarning: Data Validation extension is not supported and will be removed\n",
      "  warn(msg)\n"
     ]
    },
    {
     "name": "stdout",
     "output_type": "stream",
     "text": [
      "F:\\a00nutstore\\008\\zw08\\莱新订单20241029\\发票模板-按销售订单和存货编码-件数\\发票模板-义乌范光洪-SO-2024-02-1568-件数.xlsx\n",
      "F:\\a00nutstore\\008\\zw08\\莱新订单20241029\\发票模板-按销售订单和存货编码-件数\\发票模板-成都杨玲-SO-2024-02-1569-件数.xlsx\n",
      "F:\\a00nutstore\\008\\zw08\\莱新订单20241029\\发票模板-按销售订单和存货编码-件数\\发票模板-成都杨玲-SO-2024-02-1570-件数.xlsx\n"
     ]
    },
    {
     "name": "stderr",
     "output_type": "stream",
     "text": [
      "C:\\Users\\redda\\AppData\\Roaming\\Python\\Python311\\site-packages\\openpyxl\\worksheet\\_reader.py:329: UserWarning: Data Validation extension is not supported and will be removed\n",
      "  warn(msg)\n",
      "C:\\Users\\redda\\AppData\\Roaming\\Python\\Python311\\site-packages\\openpyxl\\worksheet\\_reader.py:329: UserWarning: Data Validation extension is not supported and will be removed\n",
      "  warn(msg)\n",
      "C:\\Users\\redda\\AppData\\Roaming\\Python\\Python311\\site-packages\\openpyxl\\worksheet\\_reader.py:329: UserWarning: Data Validation extension is not supported and will be removed\n",
      "  warn(msg)\n"
     ]
    },
    {
     "name": "stdout",
     "output_type": "stream",
     "text": [
      "F:\\a00nutstore\\008\\zw08\\莱新订单20241029\\发票模板-按销售订单和存货编码-件数\\发票模板-金牛区昌宏优品商贸部-SO-2024-02-1571-件数.xlsx\n",
      "F:\\a00nutstore\\008\\zw08\\莱新订单20241029\\发票模板-按销售订单和存货编码-件数\\发票模板-成都杨玲-SO-2024-02-1572-件数.xlsx\n",
      "F:\\a00nutstore\\008\\zw08\\莱新订单20241029\\发票模板-按销售订单和存货编码-件数\\发票模板-武汉市热脉文体用品有限公司-SO-2024-02-1573-件数.xlsx\n"
     ]
    },
    {
     "name": "stderr",
     "output_type": "stream",
     "text": [
      "C:\\Users\\redda\\AppData\\Roaming\\Python\\Python311\\site-packages\\openpyxl\\worksheet\\_reader.py:329: UserWarning: Data Validation extension is not supported and will be removed\n",
      "  warn(msg)\n",
      "C:\\Users\\redda\\AppData\\Roaming\\Python\\Python311\\site-packages\\openpyxl\\worksheet\\_reader.py:329: UserWarning: Data Validation extension is not supported and will be removed\n",
      "  warn(msg)\n"
     ]
    },
    {
     "name": "stdout",
     "output_type": "stream",
     "text": [
      "F:\\a00nutstore\\008\\zw08\\莱新订单20241029\\发票模板-按销售订单和存货编码-件数\\发票模板-武汉米圣贸易有限公司-SO-2024-02-1574-件数.xlsx\n",
      "F:\\a00nutstore\\008\\zw08\\莱新订单20241029\\发票模板-按销售订单和存货编码-件数\\发票模板-河南抬头喜办公用品有限公司S-SO-2024-02-1575-件数.xlsx\n"
     ]
    },
    {
     "name": "stderr",
     "output_type": "stream",
     "text": [
      "C:\\Users\\redda\\AppData\\Roaming\\Python\\Python311\\site-packages\\openpyxl\\worksheet\\_reader.py:329: UserWarning: Data Validation extension is not supported and will be removed\n",
      "  warn(msg)\n",
      "C:\\Users\\redda\\AppData\\Roaming\\Python\\Python311\\site-packages\\openpyxl\\worksheet\\_reader.py:329: UserWarning: Data Validation extension is not supported and will be removed\n",
      "  warn(msg)\n",
      "C:\\Users\\redda\\AppData\\Roaming\\Python\\Python311\\site-packages\\openpyxl\\worksheet\\_reader.py:329: UserWarning: Data Validation extension is not supported and will be removed\n",
      "  warn(msg)\n",
      "C:\\Users\\redda\\AppData\\Roaming\\Python\\Python311\\site-packages\\openpyxl\\worksheet\\_reader.py:329: UserWarning: Data Validation extension is not supported and will be removed\n",
      "  warn(msg)\n",
      "C:\\Users\\redda\\AppData\\Roaming\\Python\\Python311\\site-packages\\openpyxl\\worksheet\\_reader.py:329: UserWarning: Data Validation extension is not supported and will be removed\n",
      "  warn(msg)\n",
      "C:\\Users\\redda\\AppData\\Roaming\\Python\\Python311\\site-packages\\openpyxl\\worksheet\\_reader.py:329: UserWarning: Data Validation extension is not supported and will be removed\n",
      "  warn(msg)\n",
      "C:\\Users\\redda\\AppData\\Roaming\\Python\\Python311\\site-packages\\openpyxl\\worksheet\\_reader.py:329: UserWarning: Data Validation extension is not supported and will be removed\n",
      "  warn(msg)\n",
      "C:\\Users\\redda\\AppData\\Roaming\\Python\\Python311\\site-packages\\openpyxl\\worksheet\\_reader.py:329: UserWarning: Data Validation extension is not supported and will be removed\n",
      "  warn(msg)\n",
      "C:\\Users\\redda\\AppData\\Roaming\\Python\\Python311\\site-packages\\openpyxl\\worksheet\\_reader.py:329: UserWarning: Data Validation extension is not supported and will be removed\n",
      "  warn(msg)\n",
      "C:\\Users\\redda\\AppData\\Roaming\\Python\\Python311\\site-packages\\openpyxl\\worksheet\\_reader.py:329: UserWarning: Data Validation extension is not supported and will be removed\n",
      "  warn(msg)\n",
      "C:\\Users\\redda\\AppData\\Roaming\\Python\\Python311\\site-packages\\openpyxl\\worksheet\\_reader.py:329: UserWarning: Data Validation extension is not supported and will be removed\n",
      "  warn(msg)\n",
      "C:\\Users\\redda\\AppData\\Roaming\\Python\\Python311\\site-packages\\openpyxl\\worksheet\\_reader.py:329: UserWarning: Data Validation extension is not supported and will be removed\n",
      "  warn(msg)\n",
      "C:\\Users\\redda\\AppData\\Roaming\\Python\\Python311\\site-packages\\openpyxl\\worksheet\\_reader.py:329: UserWarning: Data Validation extension is not supported and will be removed\n",
      "  warn(msg)\n",
      "C:\\Users\\redda\\AppData\\Roaming\\Python\\Python311\\site-packages\\openpyxl\\worksheet\\_reader.py:329: UserWarning: Data Validation extension is not supported and will be removed\n",
      "  warn(msg)\n",
      "C:\\Users\\redda\\AppData\\Roaming\\Python\\Python311\\site-packages\\openpyxl\\worksheet\\_reader.py:329: UserWarning: Data Validation extension is not supported and will be removed\n",
      "  warn(msg)\n",
      "C:\\Users\\redda\\AppData\\Roaming\\Python\\Python311\\site-packages\\openpyxl\\worksheet\\_reader.py:329: UserWarning: Data Validation extension is not supported and will be removed\n",
      "  warn(msg)\n",
      "C:\\Users\\redda\\AppData\\Roaming\\Python\\Python311\\site-packages\\openpyxl\\worksheet\\_reader.py:329: UserWarning: Data Validation extension is not supported and will be removed\n",
      "  warn(msg)\n",
      "C:\\Users\\redda\\AppData\\Roaming\\Python\\Python311\\site-packages\\openpyxl\\worksheet\\_reader.py:329: UserWarning: Data Validation extension is not supported and will be removed\n",
      "  warn(msg)\n",
      "C:\\Users\\redda\\AppData\\Roaming\\Python\\Python311\\site-packages\\openpyxl\\worksheet\\_reader.py:329: UserWarning: Data Validation extension is not supported and will be removed\n",
      "  warn(msg)\n",
      "C:\\Users\\redda\\AppData\\Roaming\\Python\\Python311\\site-packages\\openpyxl\\worksheet\\_reader.py:329: UserWarning: Data Validation extension is not supported and will be removed\n",
      "  warn(msg)\n",
      "C:\\Users\\redda\\AppData\\Roaming\\Python\\Python311\\site-packages\\openpyxl\\worksheet\\_reader.py:329: UserWarning: Data Validation extension is not supported and will be removed\n",
      "  warn(msg)\n",
      "C:\\Users\\redda\\AppData\\Roaming\\Python\\Python311\\site-packages\\openpyxl\\worksheet\\_reader.py:329: UserWarning: Data Validation extension is not supported and will be removed\n",
      "  warn(msg)\n",
      "C:\\Users\\redda\\AppData\\Roaming\\Python\\Python311\\site-packages\\openpyxl\\worksheet\\_reader.py:329: UserWarning: Data Validation extension is not supported and will be removed\n",
      "  warn(msg)\n",
      "C:\\Users\\redda\\AppData\\Roaming\\Python\\Python311\\site-packages\\openpyxl\\worksheet\\_reader.py:329: UserWarning: Data Validation extension is not supported and will be removed\n",
      "  warn(msg)\n",
      "C:\\Users\\redda\\AppData\\Roaming\\Python\\Python311\\site-packages\\openpyxl\\worksheet\\_reader.py:329: UserWarning: Data Validation extension is not supported and will be removed\n",
      "  warn(msg)\n",
      "C:\\Users\\redda\\AppData\\Roaming\\Python\\Python311\\site-packages\\openpyxl\\worksheet\\_reader.py:329: UserWarning: Data Validation extension is not supported and will be removed\n",
      "  warn(msg)\n",
      "C:\\Users\\redda\\AppData\\Roaming\\Python\\Python311\\site-packages\\openpyxl\\worksheet\\_reader.py:329: UserWarning: Data Validation extension is not supported and will be removed\n",
      "  warn(msg)\n",
      "C:\\Users\\redda\\AppData\\Roaming\\Python\\Python311\\site-packages\\openpyxl\\worksheet\\_reader.py:329: UserWarning: Data Validation extension is not supported and will be removed\n",
      "  warn(msg)\n",
      "C:\\Users\\redda\\AppData\\Roaming\\Python\\Python311\\site-packages\\openpyxl\\worksheet\\_reader.py:329: UserWarning: Data Validation extension is not supported and will be removed\n",
      "  warn(msg)\n",
      "C:\\Users\\redda\\AppData\\Roaming\\Python\\Python311\\site-packages\\openpyxl\\worksheet\\_reader.py:329: UserWarning: Data Validation extension is not supported and will be removed\n",
      "  warn(msg)\n",
      "C:\\Users\\redda\\AppData\\Roaming\\Python\\Python311\\site-packages\\openpyxl\\worksheet\\_reader.py:329: UserWarning: Data Validation extension is not supported and will be removed\n",
      "  warn(msg)\n",
      "C:\\Users\\redda\\AppData\\Roaming\\Python\\Python311\\site-packages\\openpyxl\\worksheet\\_reader.py:329: UserWarning: Data Validation extension is not supported and will be removed\n",
      "  warn(msg)\n",
      "C:\\Users\\redda\\AppData\\Roaming\\Python\\Python311\\site-packages\\openpyxl\\worksheet\\_reader.py:329: UserWarning: Data Validation extension is not supported and will be removed\n",
      "  warn(msg)\n",
      "C:\\Users\\redda\\AppData\\Roaming\\Python\\Python311\\site-packages\\openpyxl\\worksheet\\_reader.py:329: UserWarning: Data Validation extension is not supported and will be removed\n",
      "  warn(msg)\n",
      "C:\\Users\\redda\\AppData\\Roaming\\Python\\Python311\\site-packages\\openpyxl\\worksheet\\_reader.py:329: UserWarning: Data Validation extension is not supported and will be removed\n",
      "  warn(msg)\n",
      "C:\\Users\\redda\\AppData\\Roaming\\Python\\Python311\\site-packages\\openpyxl\\worksheet\\_reader.py:329: UserWarning: Data Validation extension is not supported and will be removed\n",
      "  warn(msg)\n",
      "C:\\Users\\redda\\AppData\\Roaming\\Python\\Python311\\site-packages\\openpyxl\\worksheet\\_reader.py:329: UserWarning: Data Validation extension is not supported and will be removed\n",
      "  warn(msg)\n",
      "C:\\Users\\redda\\AppData\\Roaming\\Python\\Python311\\site-packages\\openpyxl\\worksheet\\_reader.py:329: UserWarning: Data Validation extension is not supported and will be removed\n",
      "  warn(msg)\n",
      "C:\\Users\\redda\\AppData\\Roaming\\Python\\Python311\\site-packages\\openpyxl\\worksheet\\_reader.py:329: UserWarning: Data Validation extension is not supported and will be removed\n",
      "  warn(msg)\n",
      "C:\\Users\\redda\\AppData\\Roaming\\Python\\Python311\\site-packages\\openpyxl\\worksheet\\_reader.py:329: UserWarning: Data Validation extension is not supported and will be removed\n",
      "  warn(msg)\n",
      "C:\\Users\\redda\\AppData\\Roaming\\Python\\Python311\\site-packages\\openpyxl\\worksheet\\_reader.py:329: UserWarning: Data Validation extension is not supported and will be removed\n",
      "  warn(msg)\n",
      "C:\\Users\\redda\\AppData\\Roaming\\Python\\Python311\\site-packages\\openpyxl\\worksheet\\_reader.py:329: UserWarning: Data Validation extension is not supported and will be removed\n",
      "  warn(msg)\n",
      "C:\\Users\\redda\\AppData\\Roaming\\Python\\Python311\\site-packages\\openpyxl\\worksheet\\_reader.py:329: UserWarning: Data Validation extension is not supported and will be removed\n",
      "  warn(msg)\n",
      "C:\\Users\\redda\\AppData\\Roaming\\Python\\Python311\\site-packages\\openpyxl\\worksheet\\_reader.py:329: UserWarning: Data Validation extension is not supported and will be removed\n",
      "  warn(msg)\n",
      "C:\\Users\\redda\\AppData\\Roaming\\Python\\Python311\\site-packages\\openpyxl\\worksheet\\_reader.py:329: UserWarning: Data Validation extension is not supported and will be removed\n",
      "  warn(msg)\n",
      "C:\\Users\\redda\\AppData\\Roaming\\Python\\Python311\\site-packages\\openpyxl\\worksheet\\_reader.py:329: UserWarning: Data Validation extension is not supported and will be removed\n",
      "  warn(msg)\n",
      "C:\\Users\\redda\\AppData\\Roaming\\Python\\Python311\\site-packages\\openpyxl\\worksheet\\_reader.py:329: UserWarning: Data Validation extension is not supported and will be removed\n",
      "  warn(msg)\n",
      "C:\\Users\\redda\\AppData\\Roaming\\Python\\Python311\\site-packages\\openpyxl\\worksheet\\_reader.py:329: UserWarning: Data Validation extension is not supported and will be removed\n",
      "  warn(msg)\n",
      "C:\\Users\\redda\\AppData\\Roaming\\Python\\Python311\\site-packages\\openpyxl\\worksheet\\_reader.py:329: UserWarning: Data Validation extension is not supported and will be removed\n",
      "  warn(msg)\n",
      "C:\\Users\\redda\\AppData\\Roaming\\Python\\Python311\\site-packages\\openpyxl\\worksheet\\_reader.py:329: UserWarning: Data Validation extension is not supported and will be removed\n",
      "  warn(msg)\n",
      "C:\\Users\\redda\\AppData\\Roaming\\Python\\Python311\\site-packages\\openpyxl\\worksheet\\_reader.py:329: UserWarning: Data Validation extension is not supported and will be removed\n",
      "  warn(msg)\n",
      "C:\\Users\\redda\\AppData\\Roaming\\Python\\Python311\\site-packages\\openpyxl\\worksheet\\_reader.py:329: UserWarning: Data Validation extension is not supported and will be removed\n",
      "  warn(msg)\n",
      "C:\\Users\\redda\\AppData\\Roaming\\Python\\Python311\\site-packages\\openpyxl\\worksheet\\_reader.py:329: UserWarning: Data Validation extension is not supported and will be removed\n",
      "  warn(msg)\n",
      "C:\\Users\\redda\\AppData\\Roaming\\Python\\Python311\\site-packages\\openpyxl\\worksheet\\_reader.py:329: UserWarning: Data Validation extension is not supported and will be removed\n",
      "  warn(msg)\n",
      "C:\\Users\\redda\\AppData\\Roaming\\Python\\Python311\\site-packages\\openpyxl\\worksheet\\_reader.py:329: UserWarning: Data Validation extension is not supported and will be removed\n",
      "  warn(msg)\n",
      "C:\\Users\\redda\\AppData\\Roaming\\Python\\Python311\\site-packages\\openpyxl\\worksheet\\_reader.py:329: UserWarning: Data Validation extension is not supported and will be removed\n",
      "  warn(msg)\n",
      "C:\\Users\\redda\\AppData\\Roaming\\Python\\Python311\\site-packages\\openpyxl\\worksheet\\_reader.py:329: UserWarning: Data Validation extension is not supported and will be removed\n",
      "  warn(msg)\n",
      "C:\\Users\\redda\\AppData\\Roaming\\Python\\Python311\\site-packages\\openpyxl\\worksheet\\_reader.py:329: UserWarning: Data Validation extension is not supported and will be removed\n",
      "  warn(msg)\n",
      "C:\\Users\\redda\\AppData\\Roaming\\Python\\Python311\\site-packages\\openpyxl\\worksheet\\_reader.py:329: UserWarning: Data Validation extension is not supported and will be removed\n",
      "  warn(msg)\n",
      "C:\\Users\\redda\\AppData\\Roaming\\Python\\Python311\\site-packages\\openpyxl\\worksheet\\_reader.py:329: UserWarning: Data Validation extension is not supported and will be removed\n",
      "  warn(msg)\n",
      "C:\\Users\\redda\\AppData\\Roaming\\Python\\Python311\\site-packages\\openpyxl\\worksheet\\_reader.py:329: UserWarning: Data Validation extension is not supported and will be removed\n",
      "  warn(msg)\n",
      "C:\\Users\\redda\\AppData\\Roaming\\Python\\Python311\\site-packages\\openpyxl\\worksheet\\_reader.py:329: UserWarning: Data Validation extension is not supported and will be removed\n",
      "  warn(msg)\n",
      "C:\\Users\\redda\\AppData\\Roaming\\Python\\Python311\\site-packages\\openpyxl\\worksheet\\_reader.py:329: UserWarning: Data Validation extension is not supported and will be removed\n",
      "  warn(msg)\n",
      "C:\\Users\\redda\\AppData\\Roaming\\Python\\Python311\\site-packages\\openpyxl\\worksheet\\_reader.py:329: UserWarning: Data Validation extension is not supported and will be removed\n",
      "  warn(msg)\n",
      "C:\\Users\\redda\\AppData\\Roaming\\Python\\Python311\\site-packages\\openpyxl\\worksheet\\_reader.py:329: UserWarning: Data Validation extension is not supported and will be removed\n",
      "  warn(msg)\n",
      "C:\\Users\\redda\\AppData\\Roaming\\Python\\Python311\\site-packages\\openpyxl\\worksheet\\_reader.py:329: UserWarning: Data Validation extension is not supported and will be removed\n",
      "  warn(msg)\n",
      "C:\\Users\\redda\\AppData\\Roaming\\Python\\Python311\\site-packages\\openpyxl\\worksheet\\_reader.py:329: UserWarning: Data Validation extension is not supported and will be removed\n",
      "  warn(msg)\n",
      "C:\\Users\\redda\\AppData\\Roaming\\Python\\Python311\\site-packages\\openpyxl\\worksheet\\_reader.py:329: UserWarning: Data Validation extension is not supported and will be removed\n",
      "  warn(msg)\n",
      "C:\\Users\\redda\\AppData\\Roaming\\Python\\Python311\\site-packages\\openpyxl\\worksheet\\_reader.py:329: UserWarning: Data Validation extension is not supported and will be removed\n",
      "  warn(msg)\n",
      "C:\\Users\\redda\\AppData\\Roaming\\Python\\Python311\\site-packages\\openpyxl\\worksheet\\_reader.py:329: UserWarning: Data Validation extension is not supported and will be removed\n",
      "  warn(msg)\n",
      "C:\\Users\\redda\\AppData\\Roaming\\Python\\Python311\\site-packages\\openpyxl\\worksheet\\_reader.py:329: UserWarning: Data Validation extension is not supported and will be removed\n",
      "  warn(msg)\n",
      "C:\\Users\\redda\\AppData\\Roaming\\Python\\Python311\\site-packages\\openpyxl\\worksheet\\_reader.py:329: UserWarning: Data Validation extension is not supported and will be removed\n",
      "  warn(msg)\n",
      "C:\\Users\\redda\\AppData\\Roaming\\Python\\Python311\\site-packages\\openpyxl\\worksheet\\_reader.py:329: UserWarning: Data Validation extension is not supported and will be removed\n",
      "  warn(msg)\n",
      "C:\\Users\\redda\\AppData\\Roaming\\Python\\Python311\\site-packages\\openpyxl\\worksheet\\_reader.py:329: UserWarning: Data Validation extension is not supported and will be removed\n",
      "  warn(msg)\n",
      "C:\\Users\\redda\\AppData\\Roaming\\Python\\Python311\\site-packages\\openpyxl\\worksheet\\_reader.py:329: UserWarning: Data Validation extension is not supported and will be removed\n",
      "  warn(msg)\n",
      "C:\\Users\\redda\\AppData\\Roaming\\Python\\Python311\\site-packages\\openpyxl\\worksheet\\_reader.py:329: UserWarning: Data Validation extension is not supported and will be removed\n",
      "  warn(msg)\n",
      "C:\\Users\\redda\\AppData\\Roaming\\Python\\Python311\\site-packages\\openpyxl\\worksheet\\_reader.py:329: UserWarning: Data Validation extension is not supported and will be removed\n",
      "  warn(msg)\n",
      "C:\\Users\\redda\\AppData\\Roaming\\Python\\Python311\\site-packages\\openpyxl\\worksheet\\_reader.py:329: UserWarning: Data Validation extension is not supported and will be removed\n",
      "  warn(msg)\n",
      "C:\\Users\\redda\\AppData\\Roaming\\Python\\Python311\\site-packages\\openpyxl\\worksheet\\_reader.py:329: UserWarning: Data Validation extension is not supported and will be removed\n",
      "  warn(msg)\n",
      "C:\\Users\\redda\\AppData\\Roaming\\Python\\Python311\\site-packages\\openpyxl\\worksheet\\_reader.py:329: UserWarning: Data Validation extension is not supported and will be removed\n",
      "  warn(msg)\n",
      "C:\\Users\\redda\\AppData\\Roaming\\Python\\Python311\\site-packages\\openpyxl\\worksheet\\_reader.py:329: UserWarning: Data Validation extension is not supported and will be removed\n",
      "  warn(msg)\n",
      "C:\\Users\\redda\\AppData\\Roaming\\Python\\Python311\\site-packages\\openpyxl\\worksheet\\_reader.py:329: UserWarning: Data Validation extension is not supported and will be removed\n",
      "  warn(msg)\n",
      "C:\\Users\\redda\\AppData\\Roaming\\Python\\Python311\\site-packages\\openpyxl\\worksheet\\_reader.py:329: UserWarning: Data Validation extension is not supported and will be removed\n",
      "  warn(msg)\n",
      "C:\\Users\\redda\\AppData\\Roaming\\Python\\Python311\\site-packages\\openpyxl\\worksheet\\_reader.py:329: UserWarning: Data Validation extension is not supported and will be removed\n",
      "  warn(msg)\n",
      "C:\\Users\\redda\\AppData\\Roaming\\Python\\Python311\\site-packages\\openpyxl\\worksheet\\_reader.py:329: UserWarning: Data Validation extension is not supported and will be removed\n",
      "  warn(msg)\n",
      "C:\\Users\\redda\\AppData\\Roaming\\Python\\Python311\\site-packages\\openpyxl\\worksheet\\_reader.py:329: UserWarning: Data Validation extension is not supported and will be removed\n",
      "  warn(msg)\n",
      "C:\\Users\\redda\\AppData\\Roaming\\Python\\Python311\\site-packages\\openpyxl\\worksheet\\_reader.py:329: UserWarning: Data Validation extension is not supported and will be removed\n",
      "  warn(msg)\n",
      "C:\\Users\\redda\\AppData\\Roaming\\Python\\Python311\\site-packages\\openpyxl\\worksheet\\_reader.py:329: UserWarning: Data Validation extension is not supported and will be removed\n",
      "  warn(msg)\n",
      "C:\\Users\\redda\\AppData\\Roaming\\Python\\Python311\\site-packages\\openpyxl\\worksheet\\_reader.py:329: UserWarning: Data Validation extension is not supported and will be removed\n",
      "  warn(msg)\n",
      "C:\\Users\\redda\\AppData\\Roaming\\Python\\Python311\\site-packages\\openpyxl\\worksheet\\_reader.py:329: UserWarning: Data Validation extension is not supported and will be removed\n",
      "  warn(msg)\n",
      "C:\\Users\\redda\\AppData\\Roaming\\Python\\Python311\\site-packages\\openpyxl\\worksheet\\_reader.py:329: UserWarning: Data Validation extension is not supported and will be removed\n",
      "  warn(msg)\n",
      "C:\\Users\\redda\\AppData\\Roaming\\Python\\Python311\\site-packages\\openpyxl\\worksheet\\_reader.py:329: UserWarning: Data Validation extension is not supported and will be removed\n",
      "  warn(msg)\n",
      "C:\\Users\\redda\\AppData\\Roaming\\Python\\Python311\\site-packages\\openpyxl\\worksheet\\_reader.py:329: UserWarning: Data Validation extension is not supported and will be removed\n",
      "  warn(msg)\n",
      "C:\\Users\\redda\\AppData\\Roaming\\Python\\Python311\\site-packages\\openpyxl\\worksheet\\_reader.py:329: UserWarning: Data Validation extension is not supported and will be removed\n",
      "  warn(msg)\n",
      "C:\\Users\\redda\\AppData\\Roaming\\Python\\Python311\\site-packages\\openpyxl\\worksheet\\_reader.py:329: UserWarning: Data Validation extension is not supported and will be removed\n",
      "  warn(msg)\n",
      "C:\\Users\\redda\\AppData\\Roaming\\Python\\Python311\\site-packages\\openpyxl\\worksheet\\_reader.py:329: UserWarning: Data Validation extension is not supported and will be removed\n",
      "  warn(msg)\n",
      "C:\\Users\\redda\\AppData\\Roaming\\Python\\Python311\\site-packages\\openpyxl\\worksheet\\_reader.py:329: UserWarning: Data Validation extension is not supported and will be removed\n",
      "  warn(msg)\n",
      "C:\\Users\\redda\\AppData\\Roaming\\Python\\Python311\\site-packages\\openpyxl\\worksheet\\_reader.py:329: UserWarning: Data Validation extension is not supported and will be removed\n",
      "  warn(msg)\n",
      "C:\\Users\\redda\\AppData\\Roaming\\Python\\Python311\\site-packages\\openpyxl\\worksheet\\_reader.py:329: UserWarning: Data Validation extension is not supported and will be removed\n",
      "  warn(msg)\n",
      "C:\\Users\\redda\\AppData\\Roaming\\Python\\Python311\\site-packages\\openpyxl\\worksheet\\_reader.py:329: UserWarning: Data Validation extension is not supported and will be removed\n",
      "  warn(msg)\n",
      "C:\\Users\\redda\\AppData\\Roaming\\Python\\Python311\\site-packages\\openpyxl\\worksheet\\_reader.py:329: UserWarning: Data Validation extension is not supported and will be removed\n",
      "  warn(msg)\n",
      "C:\\Users\\redda\\AppData\\Roaming\\Python\\Python311\\site-packages\\openpyxl\\worksheet\\_reader.py:329: UserWarning: Data Validation extension is not supported and will be removed\n",
      "  warn(msg)\n",
      "C:\\Users\\redda\\AppData\\Roaming\\Python\\Python311\\site-packages\\openpyxl\\worksheet\\_reader.py:329: UserWarning: Data Validation extension is not supported and will be removed\n",
      "  warn(msg)\n",
      "C:\\Users\\redda\\AppData\\Roaming\\Python\\Python311\\site-packages\\openpyxl\\worksheet\\_reader.py:329: UserWarning: Data Validation extension is not supported and will be removed\n",
      "  warn(msg)\n",
      "C:\\Users\\redda\\AppData\\Roaming\\Python\\Python311\\site-packages\\openpyxl\\worksheet\\_reader.py:329: UserWarning: Data Validation extension is not supported and will be removed\n",
      "  warn(msg)\n",
      "C:\\Users\\redda\\AppData\\Roaming\\Python\\Python311\\site-packages\\openpyxl\\worksheet\\_reader.py:329: UserWarning: Data Validation extension is not supported and will be removed\n",
      "  warn(msg)\n"
     ]
    }
   ],
   "source": [
    "#按照发票开具方式，及数量选择方式，生成对应的文件夹\n",
    "path1 = f'发票模板-按客户和存货编码-{shuliang_fangsi}'\n",
    "path1 = os.path.join(path,path1)\n",
    "if not os.path.exists(path1):\n",
    "    try:\n",
    "        os.mkdir(path1)\n",
    "    except:\n",
    "        pass\n",
    "\n",
    "gp = df_xiaoshou3.groupby('客户')\n",
    "for k,v  in gp:\n",
    "    gongsi = k\n",
    "    newname = getFapiaoMoban(gongsi,shuliang_fangsi)\n",
    "    pivot = getPivot(v)\n",
    "    # pivot1 = chuliMingchen(pivot)\n",
    "    fapiao = getFapiaoBen(pivot,shuilu,shuliang_fangsi)\n",
    "    with pd.ExcelWriter(newname, engine='openpyxl',mode='a', if_sheet_exists='overlay')  as writer:\n",
    "        fapiao.to_excel(writer, sheet_name = '1-明细模板',startrow=3, header = False,index = False)\n",
    "\n",
    "#按照发票开具方式，及数量选择方式，生成对应的文件夹\n",
    "path1 = f'发票模板-按销售订单和存货编码-{shuliang_fangsi}'\n",
    "path1 = os.path.join(path,path1)\n",
    "if not os.path.exists(path1):\n",
    "    try:\n",
    "        os.mkdir(path1)\n",
    "    except:\n",
    "        pass\n",
    "\n",
    "gp = df_xiaoshou3.groupby('单据编号')\n",
    "for k,v  in gp:\n",
    "    dingdanhao = k\n",
    "    gongsi = v['客户'].to_list()[0]\n",
    "    newname = getFapiaoMobanDingdanhao(gongsi,dingdanhao,shuliang_fangsi)\n",
    "    print(newname)\n",
    "    pivot = getPivot(v)\n",
    "    # pivot1 = chuliMingchen(pivot)\n",
    "    fapiao = getFapiaoBen(pivot,shuilu,shuliang_fangsi)\n",
    "    with pd.ExcelWriter(newname, engine='openpyxl',mode='a', if_sheet_exists='overlay')  as writer:\n",
    "        fapiao.to_excel(writer, sheet_name = '1-明细模板',startrow=3, header = False,index = False)\n",
    "\n",
    "#按照发票开具方式，及数量选择方式，生成对应的文件夹\n",
    "path1 = f'发票模板-按客户汇总-{shuliang_fangsi}'\n",
    "path1 = os.path.join(path,path1)\n",
    "if not os.path.exists(path1):\n",
    "    try:\n",
    "        os.mkdir(path1)\n",
    "    except:\n",
    "        pass\n",
    "     \n",
    "gp = df_xiaoshou3.groupby('客户')\n",
    "for k,v  in gp:\n",
    "    gongsi = k\n",
    "    newname = getFapiaoMoban(gongsi,shuliang_fangsi)\n",
    "    v1 = v.sum().T.to_frame().T\n",
    "    v1.loc[0,'存货名称'] = '*印刷品*本册'\n",
    "    v1.loc[0,'存货分类'] = '*印刷品*本册'\n",
    "    v1.loc[0,'存货编码'] = '*印刷品*本册'\n",
    "    v1.loc[0,'存货代码'] = '*印刷品*本册'\n",
    "    pivot = getPivot(v1)\n",
    "    # pivot1 = chuliMingchen(pivot)\n",
    "    fapiao = getFapiaoBen(pivot,shuilu,shuliang_fangsi)\n",
    "    with pd.ExcelWriter(newname, engine='openpyxl',mode='a', if_sheet_exists='overlay')  as writer:\n",
    "        fapiao.to_excel(writer, sheet_name = '1-明细模板',startrow=3, header = False,index = False)\n",
    "\n",
    "\n",
    "    \n"
   ]
  },
  {
   "cell_type": "code",
   "execution_count": 7,
   "id": "9a9e08d5-3a19-4335-8569-4df471e747ca",
   "metadata": {
    "scrolled": true
   },
   "outputs": [
    {
     "data": {
      "text/html": [
       "<div>\n",
       "<style scoped>\n",
       "    .dataframe tbody tr th:only-of-type {\n",
       "        vertical-align: middle;\n",
       "    }\n",
       "\n",
       "    .dataframe tbody tr th {\n",
       "        vertical-align: top;\n",
       "    }\n",
       "\n",
       "    .dataframe thead th {\n",
       "        text-align: right;\n",
       "    }\n",
       "</style>\n",
       "<table border=\"1\" class=\"dataframe\">\n",
       "  <thead>\n",
       "    <tr style=\"text-align: right;\">\n",
       "      <th></th>\n",
       "      <th>存货编码</th>\n",
       "      <th>含税金额</th>\n",
       "      <th>数量</th>\n",
       "      <th>数量（件）</th>\n",
       "      <th>存货分类</th>\n",
       "      <th>存货名称</th>\n",
       "      <th>存货代码</th>\n",
       "      <th>件含量</th>\n",
       "      <th>qian</th>\n",
       "      <th>hou</th>\n",
       "      <th>项目名称</th>\n",
       "      <th>商品和服务税收分类编码</th>\n",
       "      <th>规格型号</th>\n",
       "      <th>单位</th>\n",
       "      <th>商品数量</th>\n",
       "      <th>商品单价</th>\n",
       "      <th>金额</th>\n",
       "      <th>税率</th>\n",
       "      <th>折扣金额</th>\n",
       "      <th>优惠政策类型</th>\n",
       "    </tr>\n",
       "  </thead>\n",
       "  <tbody>\n",
       "    <tr>\n",
       "      <th>0</th>\n",
       "      <td>*印刷品*本册</td>\n",
       "      <td>6791.45</td>\n",
       "      <td>4892</td>\n",
       "      <td>23.0</td>\n",
       "      <td>*印刷品*本册</td>\n",
       "      <td>*印刷品*本册</td>\n",
       "      <td>*印刷品*本册</td>\n",
       "      <td>4292.0</td>\n",
       "      <td></td>\n",
       "      <td></td>\n",
       "      <td>*印刷品*本册</td>\n",
       "      <td>1060202010000000000</td>\n",
       "      <td></td>\n",
       "      <td>件</td>\n",
       "      <td>23.0</td>\n",
       "      <td></td>\n",
       "      <td>6791.45</td>\n",
       "      <td>0.13</td>\n",
       "      <td></td>\n",
       "      <td></td>\n",
       "    </tr>\n",
       "  </tbody>\n",
       "</table>\n",
       "</div>"
      ],
      "text/plain": [
       "      存货编码     含税金额    数量 数量（件）     存货分类     存货名称     存货代码     件含量 qian hou  \\\n",
       "0  *印刷品*本册  6791.45  4892  23.0  *印刷品*本册  *印刷品*本册  *印刷品*本册  4292.0            \n",
       "\n",
       "      项目名称          商品和服务税收分类编码 规格型号 单位  商品数量 商品单价       金额    税率 折扣金额 优惠政策类型  \n",
       "0  *印刷品*本册  1060202010000000000       件  23.0       6791.45  0.13              "
      ]
     },
     "execution_count": 7,
     "metadata": {},
     "output_type": "execute_result"
    }
   ],
   "source": [
    "\n",
    "    \n",
    "    \n",
    "    \n",
    "    \n",
    "    \n",
    "    pivot\n",
    "    \n",
    "    \n",
    "    \n",
    "    \n",
    "    \n"
   ]
  },
  {
   "cell_type": "code",
   "execution_count": 8,
   "id": "b5130b40-6c9b-45e6-bee3-0a88118ccfe4",
   "metadata": {},
   "outputs": [
    {
     "data": {
      "text/plain": [
       "<pandas.core.groupby.generic.DataFrameGroupBy object at 0x0000020A78248410>"
      ]
     },
     "execution_count": 8,
     "metadata": {},
     "output_type": "execute_result"
    }
   ],
   "source": [
    "gp"
   ]
  },
  {
   "cell_type": "code",
   "execution_count": 9,
   "id": "ccf7c807-6117-4d1a-80a2-07d897120350",
   "metadata": {},
   "outputs": [
    {
     "data": {
      "text/html": [
       "<div>\n",
       "<style scoped>\n",
       "    .dataframe tbody tr th:only-of-type {\n",
       "        vertical-align: middle;\n",
       "    }\n",
       "\n",
       "    .dataframe tbody tr th {\n",
       "        vertical-align: top;\n",
       "    }\n",
       "\n",
       "    .dataframe thead th {\n",
       "        text-align: right;\n",
       "    }\n",
       "</style>\n",
       "<table border=\"1\" class=\"dataframe\">\n",
       "  <thead>\n",
       "    <tr style=\"text-align: right;\">\n",
       "      <th></th>\n",
       "      <th>0</th>\n",
       "      <th>1</th>\n",
       "    </tr>\n",
       "  </thead>\n",
       "  <tbody>\n",
       "    <tr>\n",
       "      <th>0</th>\n",
       "      <td>上海流金岁月商贸有限公司</td>\n",
       "      <td>单据编号        单据日期    含税总金额     ...</td>\n",
       "    </tr>\n",
       "    <tr>\n",
       "      <th>1</th>\n",
       "      <td>临沂博涵文化用品有限公司</td>\n",
       "      <td>单据编号        单据日期     含税总金额    ...</td>\n",
       "    </tr>\n",
       "    <tr>\n",
       "      <th>2</th>\n",
       "      <td>临沂巧纳金纸品有限公司</td>\n",
       "      <td>单据编号        单据日期     含税总金额   ...</td>\n",
       "    </tr>\n",
       "    <tr>\n",
       "      <th>3</th>\n",
       "      <td>临沂李加朋</td>\n",
       "      <td>单据编号        单据日期     含税总金额    ...</td>\n",
       "    </tr>\n",
       "    <tr>\n",
       "      <th>4</th>\n",
       "      <td>义乌市博迅文体用品有限公司</td>\n",
       "      <td>单据编号        单据日期     含税总金额   ...</td>\n",
       "    </tr>\n",
       "    <tr>\n",
       "      <th>...</th>\n",
       "      <td>...</td>\n",
       "      <td>...</td>\n",
       "    </tr>\n",
       "    <tr>\n",
       "      <th>99</th>\n",
       "      <td>阜阳俊武文体商贸有限公司</td>\n",
       "      <td>单据编号        单据日期   含税总金额      ...</td>\n",
       "    </tr>\n",
       "    <tr>\n",
       "      <th>100</th>\n",
       "      <td>陕西富明文体用品有限公司</td>\n",
       "      <td>单据编号        单据日期    含税总金额     ...</td>\n",
       "    </tr>\n",
       "    <tr>\n",
       "      <th>101</th>\n",
       "      <td>青海一诺商贸有限公司</td>\n",
       "      <td>单据编号        单据日期     含税总金额    ...</td>\n",
       "    </tr>\n",
       "    <tr>\n",
       "      <th>102</th>\n",
       "      <td>鹤岗市超东选商贸有限公司</td>\n",
       "      <td>单据编号        单据日期     含税总金额    ...</td>\n",
       "    </tr>\n",
       "    <tr>\n",
       "      <th>103</th>\n",
       "      <td>龙岩连卫中</td>\n",
       "      <td>单据编号        单据日期    含税总金额    ...</td>\n",
       "    </tr>\n",
       "  </tbody>\n",
       "</table>\n",
       "<p>104 rows × 2 columns</p>\n",
       "</div>"
      ],
      "text/plain": [
       "                 0                                                  1\n",
       "0     上海流金岁月商贸有限公司                  单据编号        单据日期    含税总金额     ...\n",
       "1     临沂博涵文化用品有限公司                  单据编号        单据日期     含税总金额    ...\n",
       "2      临沂巧纳金纸品有限公司                   单据编号        单据日期     含税总金额   ...\n",
       "3            临沂李加朋                  单据编号        单据日期     含税总金额    ...\n",
       "4    义乌市博迅文体用品有限公司                   单据编号        单据日期     含税总金额   ...\n",
       "..             ...                                                ...\n",
       "99    阜阳俊武文体商贸有限公司                  单据编号        单据日期   含税总金额      ...\n",
       "100   陕西富明文体用品有限公司                  单据编号        单据日期    含税总金额     ...\n",
       "101     青海一诺商贸有限公司                  单据编号        单据日期     含税总金额    ...\n",
       "102   鹤岗市超东选商贸有限公司                  单据编号        单据日期     含税总金额    ...\n",
       "103          龙岩连卫中                   单据编号        单据日期    含税总金额    ...\n",
       "\n",
       "[104 rows x 2 columns]"
      ]
     },
     "execution_count": 9,
     "metadata": {},
     "output_type": "execute_result"
    }
   ],
   "source": [
    "df00 = pd.DataFrame(gp)\n",
    "df00"
   ]
  },
  {
   "cell_type": "code",
   "execution_count": 10,
   "id": "cfbcd86b-e624-40eb-819e-6fdbbf68445e",
   "metadata": {},
   "outputs": [
    {
     "data": {
      "text/html": [
       "<div>\n",
       "<style scoped>\n",
       "    .dataframe tbody tr th:only-of-type {\n",
       "        vertical-align: middle;\n",
       "    }\n",
       "\n",
       "    .dataframe tbody tr th {\n",
       "        vertical-align: top;\n",
       "    }\n",
       "\n",
       "    .dataframe thead th {\n",
       "        text-align: right;\n",
       "    }\n",
       "</style>\n",
       "<table border=\"1\" class=\"dataframe\">\n",
       "  <thead>\n",
       "    <tr style=\"text-align: right;\">\n",
       "      <th></th>\n",
       "      <th>单据编号</th>\n",
       "      <th>单据日期</th>\n",
       "      <th>含税总金额</th>\n",
       "      <th>存货名称</th>\n",
       "      <th>存货分类</th>\n",
       "      <th>存货编码</th>\n",
       "      <th>存货代码</th>\n",
       "      <th>数量</th>\n",
       "      <th>件含量</th>\n",
       "      <th>数量（件）</th>\n",
       "      <th>含税单价</th>\n",
       "      <th>含税金额</th>\n",
       "      <th>客户</th>\n",
       "    </tr>\n",
       "  </thead>\n",
       "  <tbody>\n",
       "    <tr>\n",
       "      <th>0</th>\n",
       "      <td>SO-2024-02-1418</td>\n",
       "      <td>2024-10-16</td>\n",
       "      <td>14064.05</td>\n",
       "      <td>A540型卡面无线胶订本</td>\n",
       "      <td>无线胶装软抄</td>\n",
       "      <td>N0671</td>\n",
       "      <td>抄本</td>\n",
       "      <td>3200</td>\n",
       "      <td>320.0</td>\n",
       "      <td>10.0</td>\n",
       "      <td>0.8352</td>\n",
       "      <td>2672.64</td>\n",
       "      <td>海南新宇晨办公用品有限公司</td>\n",
       "    </tr>\n",
       "    <tr>\n",
       "      <th>1</th>\n",
       "      <td>SO-2024-02-1418</td>\n",
       "      <td>2024-10-16</td>\n",
       "      <td>14064.05</td>\n",
       "      <td>A560型卡面无线胶订本</td>\n",
       "      <td>无线胶装软抄</td>\n",
       "      <td>N0672</td>\n",
       "      <td>抄本</td>\n",
       "      <td>1440</td>\n",
       "      <td>240.0</td>\n",
       "      <td>6.0</td>\n",
       "      <td>1.1712</td>\n",
       "      <td>1686.53</td>\n",
       "      <td>海南新宇晨办公用品有限公司</td>\n",
       "    </tr>\n",
       "    <tr>\n",
       "      <th>2</th>\n",
       "      <td>SO-2024-02-1418</td>\n",
       "      <td>2024-10-16</td>\n",
       "      <td>14064.05</td>\n",
       "      <td>A580型卡面无线胶订本</td>\n",
       "      <td>无线胶装软抄</td>\n",
       "      <td>N0673</td>\n",
       "      <td>抄本</td>\n",
       "      <td>540</td>\n",
       "      <td>180.0</td>\n",
       "      <td>3.0</td>\n",
       "      <td>1.5456</td>\n",
       "      <td>834.62</td>\n",
       "      <td>海南新宇晨办公用品有限公司</td>\n",
       "    </tr>\n",
       "    <tr>\n",
       "      <th>3</th>\n",
       "      <td>SO-2024-02-1418</td>\n",
       "      <td>2024-10-16</td>\n",
       "      <td>14064.05</td>\n",
       "      <td>A5100型卡面无线胶订本</td>\n",
       "      <td>无线胶装软抄</td>\n",
       "      <td>N0674</td>\n",
       "      <td>抄本</td>\n",
       "      <td>560</td>\n",
       "      <td>140.0</td>\n",
       "      <td>4.0</td>\n",
       "      <td>1.8912</td>\n",
       "      <td>1059.07</td>\n",
       "      <td>海南新宇晨办公用品有限公司</td>\n",
       "    </tr>\n",
       "    <tr>\n",
       "      <th>4</th>\n",
       "      <td>SO-2024-02-1418</td>\n",
       "      <td>2024-10-16</td>\n",
       "      <td>14064.05</td>\n",
       "      <td>A540型牛卡无线胶订本</td>\n",
       "      <td>无线胶装软抄</td>\n",
       "      <td>N0681</td>\n",
       "      <td>抄本</td>\n",
       "      <td>1600</td>\n",
       "      <td>320.0</td>\n",
       "      <td>5.0</td>\n",
       "      <td>0.8352</td>\n",
       "      <td>1336.32</td>\n",
       "      <td>海南新宇晨办公用品有限公司</td>\n",
       "    </tr>\n",
       "    <tr>\n",
       "      <th>...</th>\n",
       "      <td>...</td>\n",
       "      <td>...</td>\n",
       "      <td>...</td>\n",
       "      <td>...</td>\n",
       "      <td>...</td>\n",
       "      <td>...</td>\n",
       "      <td>...</td>\n",
       "      <td>...</td>\n",
       "      <td>...</td>\n",
       "      <td>...</td>\n",
       "      <td>...</td>\n",
       "      <td>...</td>\n",
       "      <td>...</td>\n",
       "    </tr>\n",
       "    <tr>\n",
       "      <th>2159</th>\n",
       "      <td>SO-2024-02-1419</td>\n",
       "      <td>2024-10-15</td>\n",
       "      <td>47469.60</td>\n",
       "      <td>16K银行存款日记账</td>\n",
       "      <td>纸面账簿</td>\n",
       "      <td>6003</td>\n",
       "      <td>账本</td>\n",
       "      <td>300</td>\n",
       "      <td>60.0</td>\n",
       "      <td>5.0</td>\n",
       "      <td>5.5440</td>\n",
       "      <td>1663.20</td>\n",
       "      <td>品壹佰河北商贸有限公司</td>\n",
       "    </tr>\n",
       "    <tr>\n",
       "      <th>2160</th>\n",
       "      <td>SO-2024-02-1419</td>\n",
       "      <td>2024-10-15</td>\n",
       "      <td>47469.60</td>\n",
       "      <td>A480型牛皮无线胶订本</td>\n",
       "      <td>无线胶装软抄</td>\n",
       "      <td>N0697</td>\n",
       "      <td>抄本</td>\n",
       "      <td>100</td>\n",
       "      <td>100.0</td>\n",
       "      <td>1.0</td>\n",
       "      <td>3.3840</td>\n",
       "      <td>338.40</td>\n",
       "      <td>品壹佰河北商贸有限公司</td>\n",
       "    </tr>\n",
       "    <tr>\n",
       "      <th>2161</th>\n",
       "      <td>SO-2024-02-1419</td>\n",
       "      <td>2024-10-15</td>\n",
       "      <td>47469.60</td>\n",
       "      <td>A4100型牛皮无线胶订本</td>\n",
       "      <td>无线胶装软抄</td>\n",
       "      <td>N0698</td>\n",
       "      <td>抄本</td>\n",
       "      <td>80</td>\n",
       "      <td>80.0</td>\n",
       "      <td>1.0</td>\n",
       "      <td>4.3710</td>\n",
       "      <td>349.68</td>\n",
       "      <td>品壹佰河北商贸有限公司</td>\n",
       "    </tr>\n",
       "    <tr>\n",
       "      <th>2162</th>\n",
       "      <td>SO-2024-02-1419</td>\n",
       "      <td>2024-10-15</td>\n",
       "      <td>47469.60</td>\n",
       "      <td>16K现金日记账</td>\n",
       "      <td>纸面账簿</td>\n",
       "      <td>6105</td>\n",
       "      <td>账本</td>\n",
       "      <td>200</td>\n",
       "      <td>40.0</td>\n",
       "      <td>5.0</td>\n",
       "      <td>7.8720</td>\n",
       "      <td>1574.40</td>\n",
       "      <td>品壹佰河北商贸有限公司</td>\n",
       "    </tr>\n",
       "    <tr>\n",
       "      <th>2163</th>\n",
       "      <td>SO-2024-02-1419</td>\n",
       "      <td>2024-10-15</td>\n",
       "      <td>47469.60</td>\n",
       "      <td>运费</td>\n",
       "      <td>折扣类</td>\n",
       "      <td>8888</td>\n",
       "      <td>抄本</td>\n",
       "      <td>0</td>\n",
       "      <td>NaN</td>\n",
       "      <td>NaN</td>\n",
       "      <td>NaN</td>\n",
       "      <td>-107.80</td>\n",
       "      <td>品壹佰河北商贸有限公司</td>\n",
       "    </tr>\n",
       "  </tbody>\n",
       "</table>\n",
       "<p>3326 rows × 13 columns</p>\n",
       "</div>"
      ],
      "text/plain": [
       "                 单据编号        单据日期     含税总金额           存货名称    存货分类   存货编码  \\\n",
       "0     SO-2024-02-1418  2024-10-16  14064.05   A540型卡面无线胶订本  无线胶装软抄  N0671   \n",
       "1     SO-2024-02-1418  2024-10-16  14064.05   A560型卡面无线胶订本  无线胶装软抄  N0672   \n",
       "2     SO-2024-02-1418  2024-10-16  14064.05   A580型卡面无线胶订本  无线胶装软抄  N0673   \n",
       "3     SO-2024-02-1418  2024-10-16  14064.05  A5100型卡面无线胶订本  无线胶装软抄  N0674   \n",
       "4     SO-2024-02-1418  2024-10-16  14064.05   A540型牛卡无线胶订本  无线胶装软抄  N0681   \n",
       "...               ...         ...       ...            ...     ...    ...   \n",
       "2159  SO-2024-02-1419  2024-10-15  47469.60     16K银行存款日记账    纸面账簿   6003   \n",
       "2160  SO-2024-02-1419  2024-10-15  47469.60   A480型牛皮无线胶订本  无线胶装软抄  N0697   \n",
       "2161  SO-2024-02-1419  2024-10-15  47469.60  A4100型牛皮无线胶订本  无线胶装软抄  N0698   \n",
       "2162  SO-2024-02-1419  2024-10-15  47469.60       16K现金日记账    纸面账簿   6105   \n",
       "2163  SO-2024-02-1419  2024-10-15  47469.60             运费     折扣类   8888   \n",
       "\n",
       "     存货代码    数量    件含量  数量（件）    含税单价     含税金额             客户  \n",
       "0      抄本  3200  320.0   10.0  0.8352  2672.64  海南新宇晨办公用品有限公司  \n",
       "1      抄本  1440  240.0    6.0  1.1712  1686.53  海南新宇晨办公用品有限公司  \n",
       "2      抄本   540  180.0    3.0  1.5456   834.62  海南新宇晨办公用品有限公司  \n",
       "3      抄本   560  140.0    4.0  1.8912  1059.07  海南新宇晨办公用品有限公司  \n",
       "4      抄本  1600  320.0    5.0  0.8352  1336.32  海南新宇晨办公用品有限公司  \n",
       "...   ...   ...    ...    ...     ...      ...            ...  \n",
       "2159   账本   300   60.0    5.0  5.5440  1663.20    品壹佰河北商贸有限公司  \n",
       "2160   抄本   100  100.0    1.0  3.3840   338.40    品壹佰河北商贸有限公司  \n",
       "2161   抄本    80   80.0    1.0  4.3710   349.68    品壹佰河北商贸有限公司  \n",
       "2162   账本   200   40.0    5.0  7.8720  1574.40    品壹佰河北商贸有限公司  \n",
       "2163   抄本     0    NaN    NaN     NaN  -107.80    品壹佰河北商贸有限公司  \n",
       "\n",
       "[3326 rows x 13 columns]"
      ]
     },
     "execution_count": 10,
     "metadata": {},
     "output_type": "execute_result"
    }
   ],
   "source": [
    "df_xiaoshou3"
   ]
  },
  {
   "cell_type": "code",
   "execution_count": 12,
   "id": "30edcdb3-41cc-4655-b8fb-1c3fc8b45a20",
   "metadata": {},
   "outputs": [],
   "source": [
    "df_xiaoshou3.to_excel('beforr_gp.xlsx')"
   ]
  },
  {
   "cell_type": "code",
   "execution_count": 8,
   "id": "685e6425-c08d-48a8-9663-7962a0329c72",
   "metadata": {},
   "outputs": [],
   "source": [
    "dff = df_xiaoshou3.copy()"
   ]
  },
  {
   "cell_type": "code",
   "execution_count": 9,
   "id": "cb8a2330-9500-4e54-b6a2-61adb503dde7",
   "metadata": {},
   "outputs": [
    {
     "data": {
      "text/html": [
       "<div>\n",
       "<style scoped>\n",
       "    .dataframe tbody tr th:only-of-type {\n",
       "        vertical-align: middle;\n",
       "    }\n",
       "\n",
       "    .dataframe tbody tr th {\n",
       "        vertical-align: top;\n",
       "    }\n",
       "\n",
       "    .dataframe thead th {\n",
       "        text-align: right;\n",
       "    }\n",
       "</style>\n",
       "<table border=\"1\" class=\"dataframe\">\n",
       "  <thead>\n",
       "    <tr style=\"text-align: right;\">\n",
       "      <th></th>\n",
       "      <th>单据编号</th>\n",
       "      <th>单据日期</th>\n",
       "      <th>含税总金额</th>\n",
       "      <th>存货名称</th>\n",
       "      <th>存货分类</th>\n",
       "      <th>存货编码</th>\n",
       "      <th>存货代码</th>\n",
       "      <th>数量</th>\n",
       "      <th>件含量</th>\n",
       "      <th>数量（件）</th>\n",
       "      <th>含税单价</th>\n",
       "      <th>含税金额</th>\n",
       "      <th>客户</th>\n",
       "    </tr>\n",
       "  </thead>\n",
       "  <tbody>\n",
       "    <tr>\n",
       "      <th>0</th>\n",
       "      <td>SO-2024-02-1418</td>\n",
       "      <td>2024-10-16</td>\n",
       "      <td>14064.05</td>\n",
       "      <td>A540型卡面无线胶订本</td>\n",
       "      <td>无线胶装软抄</td>\n",
       "      <td>N0671</td>\n",
       "      <td>抄本</td>\n",
       "      <td>3200</td>\n",
       "      <td>320.0</td>\n",
       "      <td>10.0</td>\n",
       "      <td>0.8352</td>\n",
       "      <td>2672.64</td>\n",
       "      <td>海南新宇晨办公用品有限公司</td>\n",
       "    </tr>\n",
       "    <tr>\n",
       "      <th>1</th>\n",
       "      <td>SO-2024-02-1418</td>\n",
       "      <td>2024-10-16</td>\n",
       "      <td>14064.05</td>\n",
       "      <td>A560型卡面无线胶订本</td>\n",
       "      <td>无线胶装软抄</td>\n",
       "      <td>N0672</td>\n",
       "      <td>抄本</td>\n",
       "      <td>1440</td>\n",
       "      <td>240.0</td>\n",
       "      <td>6.0</td>\n",
       "      <td>1.1712</td>\n",
       "      <td>1686.53</td>\n",
       "      <td>海南新宇晨办公用品有限公司</td>\n",
       "    </tr>\n",
       "    <tr>\n",
       "      <th>2</th>\n",
       "      <td>SO-2024-02-1418</td>\n",
       "      <td>2024-10-16</td>\n",
       "      <td>14064.05</td>\n",
       "      <td>A580型卡面无线胶订本</td>\n",
       "      <td>无线胶装软抄</td>\n",
       "      <td>N0673</td>\n",
       "      <td>抄本</td>\n",
       "      <td>540</td>\n",
       "      <td>180.0</td>\n",
       "      <td>3.0</td>\n",
       "      <td>1.5456</td>\n",
       "      <td>834.62</td>\n",
       "      <td>海南新宇晨办公用品有限公司</td>\n",
       "    </tr>\n",
       "    <tr>\n",
       "      <th>3</th>\n",
       "      <td>SO-2024-02-1418</td>\n",
       "      <td>2024-10-16</td>\n",
       "      <td>14064.05</td>\n",
       "      <td>A5100型卡面无线胶订本</td>\n",
       "      <td>无线胶装软抄</td>\n",
       "      <td>N0674</td>\n",
       "      <td>抄本</td>\n",
       "      <td>560</td>\n",
       "      <td>140.0</td>\n",
       "      <td>4.0</td>\n",
       "      <td>1.8912</td>\n",
       "      <td>1059.07</td>\n",
       "      <td>海南新宇晨办公用品有限公司</td>\n",
       "    </tr>\n",
       "    <tr>\n",
       "      <th>4</th>\n",
       "      <td>SO-2024-02-1418</td>\n",
       "      <td>2024-10-16</td>\n",
       "      <td>14064.05</td>\n",
       "      <td>A540型牛卡无线胶订本</td>\n",
       "      <td>无线胶装软抄</td>\n",
       "      <td>N0681</td>\n",
       "      <td>抄本</td>\n",
       "      <td>1600</td>\n",
       "      <td>320.0</td>\n",
       "      <td>5.0</td>\n",
       "      <td>0.8352</td>\n",
       "      <td>1336.32</td>\n",
       "      <td>海南新宇晨办公用品有限公司</td>\n",
       "    </tr>\n",
       "    <tr>\n",
       "      <th>...</th>\n",
       "      <td>...</td>\n",
       "      <td>...</td>\n",
       "      <td>...</td>\n",
       "      <td>...</td>\n",
       "      <td>...</td>\n",
       "      <td>...</td>\n",
       "      <td>...</td>\n",
       "      <td>...</td>\n",
       "      <td>...</td>\n",
       "      <td>...</td>\n",
       "      <td>...</td>\n",
       "      <td>...</td>\n",
       "      <td>...</td>\n",
       "    </tr>\n",
       "    <tr>\n",
       "      <th>3321</th>\n",
       "      <td>SO-2024-02-1419</td>\n",
       "      <td>2024-10-15</td>\n",
       "      <td>47469.60</td>\n",
       "      <td>16K银行存款日记账</td>\n",
       "      <td>纸面账簿</td>\n",
       "      <td>6003</td>\n",
       "      <td>账本</td>\n",
       "      <td>300</td>\n",
       "      <td>60.0</td>\n",
       "      <td>5.0</td>\n",
       "      <td>5.5440</td>\n",
       "      <td>1663.20</td>\n",
       "      <td>品壹佰河北商贸有限公司</td>\n",
       "    </tr>\n",
       "    <tr>\n",
       "      <th>3322</th>\n",
       "      <td>SO-2024-02-1419</td>\n",
       "      <td>2024-10-15</td>\n",
       "      <td>47469.60</td>\n",
       "      <td>A480型牛皮无线胶订本</td>\n",
       "      <td>无线胶装软抄</td>\n",
       "      <td>N0697</td>\n",
       "      <td>抄本</td>\n",
       "      <td>100</td>\n",
       "      <td>100.0</td>\n",
       "      <td>1.0</td>\n",
       "      <td>3.3840</td>\n",
       "      <td>338.40</td>\n",
       "      <td>品壹佰河北商贸有限公司</td>\n",
       "    </tr>\n",
       "    <tr>\n",
       "      <th>3323</th>\n",
       "      <td>SO-2024-02-1419</td>\n",
       "      <td>2024-10-15</td>\n",
       "      <td>47469.60</td>\n",
       "      <td>A4100型牛皮无线胶订本</td>\n",
       "      <td>无线胶装软抄</td>\n",
       "      <td>N0698</td>\n",
       "      <td>抄本</td>\n",
       "      <td>80</td>\n",
       "      <td>80.0</td>\n",
       "      <td>1.0</td>\n",
       "      <td>4.3710</td>\n",
       "      <td>349.68</td>\n",
       "      <td>品壹佰河北商贸有限公司</td>\n",
       "    </tr>\n",
       "    <tr>\n",
       "      <th>3324</th>\n",
       "      <td>SO-2024-02-1419</td>\n",
       "      <td>2024-10-15</td>\n",
       "      <td>47469.60</td>\n",
       "      <td>16K现金日记账</td>\n",
       "      <td>纸面账簿</td>\n",
       "      <td>6105</td>\n",
       "      <td>账本</td>\n",
       "      <td>200</td>\n",
       "      <td>40.0</td>\n",
       "      <td>5.0</td>\n",
       "      <td>7.8720</td>\n",
       "      <td>1574.40</td>\n",
       "      <td>品壹佰河北商贸有限公司</td>\n",
       "    </tr>\n",
       "    <tr>\n",
       "      <th>3325</th>\n",
       "      <td>SO-2024-02-1419</td>\n",
       "      <td>2024-10-15</td>\n",
       "      <td>47469.60</td>\n",
       "      <td>运费</td>\n",
       "      <td>折扣类</td>\n",
       "      <td>8888</td>\n",
       "      <td>抄本</td>\n",
       "      <td>0</td>\n",
       "      <td>NaN</td>\n",
       "      <td>NaN</td>\n",
       "      <td>NaN</td>\n",
       "      <td>-107.80</td>\n",
       "      <td>品壹佰河北商贸有限公司</td>\n",
       "    </tr>\n",
       "  </tbody>\n",
       "</table>\n",
       "<p>9978 rows × 13 columns</p>\n",
       "</div>"
      ],
      "text/plain": [
       "                 单据编号        单据日期     含税总金额           存货名称    存货分类   存货编码  \\\n",
       "0     SO-2024-02-1418  2024-10-16  14064.05   A540型卡面无线胶订本  无线胶装软抄  N0671   \n",
       "1     SO-2024-02-1418  2024-10-16  14064.05   A560型卡面无线胶订本  无线胶装软抄  N0672   \n",
       "2     SO-2024-02-1418  2024-10-16  14064.05   A580型卡面无线胶订本  无线胶装软抄  N0673   \n",
       "3     SO-2024-02-1418  2024-10-16  14064.05  A5100型卡面无线胶订本  无线胶装软抄  N0674   \n",
       "4     SO-2024-02-1418  2024-10-16  14064.05   A540型牛卡无线胶订本  无线胶装软抄  N0681   \n",
       "...               ...         ...       ...            ...     ...    ...   \n",
       "3321  SO-2024-02-1419  2024-10-15  47469.60     16K银行存款日记账    纸面账簿   6003   \n",
       "3322  SO-2024-02-1419  2024-10-15  47469.60   A480型牛皮无线胶订本  无线胶装软抄  N0697   \n",
       "3323  SO-2024-02-1419  2024-10-15  47469.60  A4100型牛皮无线胶订本  无线胶装软抄  N0698   \n",
       "3324  SO-2024-02-1419  2024-10-15  47469.60       16K现金日记账    纸面账簿   6105   \n",
       "3325  SO-2024-02-1419  2024-10-15  47469.60             运费     折扣类   8888   \n",
       "\n",
       "     存货代码    数量    件含量  数量（件）    含税单价     含税金额             客户  \n",
       "0      抄本  3200  320.0   10.0  0.8352  2672.64  海南新宇晨办公用品有限公司  \n",
       "1      抄本  1440  240.0    6.0  1.1712  1686.53  海南新宇晨办公用品有限公司  \n",
       "2      抄本   540  180.0    3.0  1.5456   834.62  海南新宇晨办公用品有限公司  \n",
       "3      抄本   560  140.0    4.0  1.8912  1059.07  海南新宇晨办公用品有限公司  \n",
       "4      抄本  1600  320.0    5.0  0.8352  1336.32  海南新宇晨办公用品有限公司  \n",
       "...   ...   ...    ...    ...     ...      ...            ...  \n",
       "3321   账本   300   60.0    5.0  5.5440  1663.20    品壹佰河北商贸有限公司  \n",
       "3322   抄本   100  100.0    1.0  3.3840   338.40    品壹佰河北商贸有限公司  \n",
       "3323   抄本    80   80.0    1.0  4.3710   349.68    品壹佰河北商贸有限公司  \n",
       "3324   账本   200   40.0    5.0  7.8720  1574.40    品壹佰河北商贸有限公司  \n",
       "3325   抄本     0    NaN    NaN     NaN  -107.80    品壹佰河北商贸有限公司  \n",
       "\n",
       "[9978 rows x 13 columns]"
      ]
     },
     "execution_count": 9,
     "metadata": {},
     "output_type": "execute_result"
    }
   ],
   "source": [
    "dff"
   ]
  },
  {
   "cell_type": "code",
   "execution_count": 25,
   "id": "3473d69f-5771-4d62-bdfc-ead57b2046fc",
   "metadata": {},
   "outputs": [],
   "source": []
  },
  {
   "cell_type": "code",
   "execution_count": 26,
   "id": "ed3ff560-fc67-42f3-a282-8fd62948141f",
   "metadata": {},
   "outputs": [
    {
     "data": {
      "text/plain": [
       "['N0671',\n",
       " 'N0672',\n",
       " 'N0673',\n",
       " 'N0674',\n",
       " 'N0681',\n",
       " 'N0682',\n",
       " 'N0684',\n",
       " 'FYP1660',\n",
       " 'N0578',\n",
       " 'N0568',\n",
       " 'N0569',\n",
       " 'N0577',\n",
       " 'N0007',\n",
       " 'RFZY-3260N',\n",
       " 'N0566',\n",
       " 'N0576',\n",
       " 'N0670',\n",
       " 'RJL-32150',\n",
       " 'RJL-32150',\n",
       " 'RJL-1680',\n",
       " 'RJL-1680',\n",
       " 'N0785',\n",
       " 'N0783',\n",
       " 'N0784（300格）',\n",
       " 'RL-32150',\n",
       " 'RL-32150',\n",
       " 'EXLA5100Pa',\n",
       " 'EXWGA5100Pa',\n",
       " 'N0651',\n",
       " 'DJL16150B',\n",
       " 'ETTHA420N',\n",
       " 'N0527',\n",
       " 'N0528',\n",
       " 'N0565',\n",
       " 'N0821',\n",
       " 'N0422',\n",
       " 'N0423',\n",
       " 'N0683',\n",
       " 'N0430',\n",
       " 'DL-3280',\n",
       " 'N0697',\n",
       " 'N0698',\n",
       " 'N0826',\n",
       " 'DB101',\n",
       " 'DB102',\n",
       " 'DB103',\n",
       " 'DB104',\n",
       " 'DB105',\n",
       " 'DB302',\n",
       " 'DB303',\n",
       " 'DB304',\n",
       " 'DB306',\n",
       " 'DB307',\n",
       " 'DB308',\n",
       " 'DB309',\n",
       " 'DJL16200B',\n",
       " 'DJL16200B',\n",
       " 'J1602',\n",
       " 'N0822',\n",
       " 'N0517',\n",
       " 'N0516办',\n",
       " 'XJ402S',\n",
       " 'N0682',\n",
       " 'N0683',\n",
       " 'N0697',\n",
       " 'N0698',\n",
       " 'RJL-32150',\n",
       " 'DJL80混装',\n",
       " 'DJL64混装',\n",
       " 'N0821',\n",
       " 'N0422',\n",
       " 'N0423',\n",
       " 'N0430',\n",
       " 'N0526',\n",
       " 'N0527',\n",
       " 'N0528',\n",
       " 'N0529',\n",
       " 'RFTZ-3260N',\n",
       " 'RFHP-3260N',\n",
       " 'EJY32150',\n",
       " 'EJL32150',\n",
       " 'N0697',\n",
       " 'N0698',\n",
       " 'N0002',\n",
       " '3013报销凭证粘贴单',\n",
       " 'N0422',\n",
       " 'N0423',\n",
       " 'N0424',\n",
       " 'N0425',\n",
       " 'N0517',\n",
       " 'N0576',\n",
       " 'N0577',\n",
       " '6005现金日记账',\n",
       " 'N0781（方格）',\n",
       " 'N0783',\n",
       " 'N0785',\n",
       " 'N0787',\n",
       " 'N0791',\n",
       " 'N0831',\n",
       " 'EFTZ1660N（10本）',\n",
       " 'EJCG1630N（分区）',\n",
       " 'NFC3260NH',\n",
       " 'NFSX3260NH（双竖线）',\n",
       " 'N0424',\n",
       " 'N0821',\n",
       " '1105现金日记账',\n",
       " '1106三栏式明细分类账',\n",
       " 'DXA5100混装',\n",
       " '551475P入库通知单(三联、多栏)',\n",
       " 'RJL-32150',\n",
       " 'RJL-32150',\n",
       " '500975P收据(三联、单栏)',\n",
       " 'RJRJ-3280',\n",
       " 'N0425',\n",
       " 'DWXA580N',\n",
       " '6101总分类账',\n",
       " '6128实物出入账',\n",
       " 'DL-16200C',\n",
       " 'DL-16200C',\n",
       " 'N0423',\n",
       " 'SMA460N',\n",
       " 'N0697',\n",
       " 'N0698',\n",
       " 'N0782（双竖线）',\n",
       " 'J1601',\n",
       " 'N0792',\n",
       " 'CD207NH',\n",
       " '3001支出证明单',\n",
       " '3002领款单',\n",
       " '3003借支单',\n",
       " '3015费用报销单',\n",
       " '3016原始凭证粘贴单',\n",
       " '6001总分类账',\n",
       " '6003银行存款日记账',\n",
       " '6206三栏式明细分类账',\n",
       " '6213银行存款日记账',\n",
       " 'N0823',\n",
       " 'N0425',\n",
       " 'N0826',\n",
       " 'N0831',\n",
       " 'N0578',\n",
       " 'N0822',\n",
       " 'N0826',\n",
       " 'N0577',\n",
       " 'N0578',\n",
       " 'N0591',\n",
       " 'N0517',\n",
       " 'N0823',\n",
       " 'MB504',\n",
       " '550375P出库单(三联、多栏)',\n",
       " '550475P入库通知单(三联、多栏)',\n",
       " '550175P领料单',\n",
       " '500775P送货单(三联、多栏)',\n",
       " '500875P缴款单(三联、多栏)',\n",
       " '513975P工商服务业收据(三联、多栏)',\n",
       " '5207送货单',\n",
       " '512950P工商服务业收据(二联、多栏)',\n",
       " '502950P收据(二联、单栏)',\n",
       " '502750P送货单(二联、多栏)',\n",
       " '501975P收据(三联、单栏)',\n",
       " '6103银行存款日记账',\n",
       " 'EXBB5100NB',\n",
       " 'N0781方格（电商）a',\n",
       " 'N0795（电商）',\n",
       " 'N0821',\n",
       " 'SMA340C',\n",
       " '3015费用报销单',\n",
       " 'N0821',\n",
       " 'N0422',\n",
       " 'N0423',\n",
       " 'N0424',\n",
       " 'DB501',\n",
       " 'N0527',\n",
       " 'N0529',\n",
       " 'SM8K40S',\n",
       " 'SM8K40S',\n",
       " 'N0422',\n",
       " 'N0423',\n",
       " 'N0424',\n",
       " 'DB501',\n",
       " 'N0517',\n",
       " 'N0519',\n",
       " 'N0652',\n",
       " 'N0671',\n",
       " 'N0672',\n",
       " 'N0674',\n",
       " 'N0682',\n",
       " 'N0683',\n",
       " 'N0684',\n",
       " 'N0812',\n",
       " 'N0821',\n",
       " 'J1605',\n",
       " 'J1606',\n",
       " 'NFZW1660NH（300格）',\n",
       " 'SM8K40S',\n",
       " 'N0518',\n",
       " 'N0528',\n",
       " 'N0673',\n",
       " 'N0671',\n",
       " 'N0672',\n",
       " 'N0673',\n",
       " 'N0674',\n",
       " 'J1608',\n",
       " 'N06642',\n",
       " 'DRXBA5100',\n",
       " 'DRXBB5100',\n",
       " 'DRXLA5100',\n",
       " 'DRXLB5100',\n",
       " 'N0783',\n",
       " 'N0782（双竖线）',\n",
       " 'EWCGA5100',\n",
       " 'N0787',\n",
       " 'N0782（单线）',\n",
       " 'EFC3260N（方格）a',\n",
       " 'N0793',\n",
       " 'N0798',\n",
       " 'EFHP3260N',\n",
       " 'EFTZ3260Na',\n",
       " 'EFSZ3260Na',\n",
       " '3002领款单',\n",
       " 'XA202',\n",
       " 'XA201',\n",
       " 'XA204',\n",
       " 'XA205',\n",
       " 'XA207',\n",
       " 'XA102',\n",
       " '8888运费',\n",
       " 'N0821',\n",
       " 'N0422',\n",
       " 'N0423',\n",
       " 'N0424',\n",
       " 'N0425',\n",
       " 'N0831',\n",
       " 'N0517',\n",
       " 'N0519',\n",
       " 'N0516办',\n",
       " '3002领款单',\n",
       " 'N0670',\n",
       " 'N0671',\n",
       " 'N0672',\n",
       " 'N0682',\n",
       " 'EJCG1630N',\n",
       " '6206三栏式明细分类账',\n",
       " '6501袖珍账册',\n",
       " 'N0697',\n",
       " 'N0698',\n",
       " 'RFRJ-3260N',\n",
       " 'EFC3260N（方格）a',\n",
       " 'RJL-32150',\n",
       " 'RJL-32150',\n",
       " 'N0518',\n",
       " 'RFZW-3260NZ',\n",
       " 'RFL-1660NZ',\n",
       " '6105现金日记账',\n",
       " '6106三栏式明细分类账',\n",
       " 'NFL1660NH',\n",
       " 'NFZW1660NH（300格）',\n",
       " 'N0821',\n",
       " '6403银行存款日记账',\n",
       " '500975P收据(三联、单栏)',\n",
       " 'RFY-3260NZ',\n",
       " 'RFL-1660NZ',\n",
       " 'N0782（单线）',\n",
       " 'N0785',\n",
       " 'N0784（300格）',\n",
       " 'DJL1680C',\n",
       " 'DJL1680C',\n",
       " 'FL-1680B',\n",
       " 'FL-1680C',\n",
       " '6403银行存款日记账',\n",
       " '6107固定资产明细分类账',\n",
       " '611717栏式明细分类账',\n",
       " 'N0826',\n",
       " 'N0577',\n",
       " 'N0591',\n",
       " 'N0831',\n",
       " 'N0517',\n",
       " 'N0518',\n",
       " 'N0578',\n",
       " 'N0591',\n",
       " 'N0671',\n",
       " 'N0672',\n",
       " 'N0673',\n",
       " 'N0682',\n",
       " 'N0684',\n",
       " 'N0683',\n",
       " 'N0423',\n",
       " 'N0821',\n",
       " 'N0422',\n",
       " 'N0424',\n",
       " 'N0670',\n",
       " 'N0672',\n",
       " 'N0682',\n",
       " 'N0683',\n",
       " 'N0673',\n",
       " 'N0518',\n",
       " 'N0576',\n",
       " 'N0577',\n",
       " 'N0578',\n",
       " 'N0591',\n",
       " '6123进销存明细分类账',\n",
       " '6403银行存款日记账',\n",
       " 'N0823',\n",
       " 'N0826',\n",
       " 'SB502',\n",
       " 'DB501',\n",
       " 'FB503',\n",
       " '7008职工考勤表',\n",
       " 'N0566',\n",
       " 'N0519',\n",
       " 'N0520',\n",
       " 'N0527',\n",
       " 'N0530',\n",
       " 'N0518',\n",
       " 'N0568',\n",
       " 'N0569',\n",
       " 'N0517',\n",
       " 'N0568',\n",
       " 'N0569',\n",
       " 'EFYB1660N（米格）',\n",
       " 'N0826',\n",
       " 'N0823',\n",
       " 'N0822',\n",
       " 'DB501',\n",
       " '401拼音本',\n",
       " 'MB504',\n",
       " 'N0821',\n",
       " '6208商品明细分类账',\n",
       " '6705现金日记账',\n",
       " 'RFL-1660NZ',\n",
       " 'N0783',\n",
       " 'N0785',\n",
       " 'N0826',\n",
       " 'N0424',\n",
       " 'N0422',\n",
       " 'N0423',\n",
       " '6106三栏式明细分类账',\n",
       " '6215现金日记账',\n",
       " '6213银行存款日记账',\n",
       " 'N0651',\n",
       " 'N0652',\n",
       " 'N0653',\n",
       " 'N0424',\n",
       " 'N0424',\n",
       " 'N0424',\n",
       " 'N0424',\n",
       " 'N0424',\n",
       " '1110库存材料(商品)明细分类账',\n",
       " '1106三栏式明细分类账',\n",
       " '1105现金日记账',\n",
       " '1101总分类账',\n",
       " 'N0424',\n",
       " 'N0430',\n",
       " 'N0822',\n",
       " 'N0823',\n",
       " 'N0424',\n",
       " 'N0672',\n",
       " 'N0673',\n",
       " 'N0674',\n",
       " 'N0576',\n",
       " 'N0577',\n",
       " 'N0578',\n",
       " 'N0591',\n",
       " 'N0682',\n",
       " 'N0683',\n",
       " 'N0684',\n",
       " 'N0516办',\n",
       " 'N0517',\n",
       " 'N0518',\n",
       " 'N0519',\n",
       " 'N0430',\n",
       " 'N0430',\n",
       " 'N0821',\n",
       " 'N0822',\n",
       " 'N0823',\n",
       " 'N0424',\n",
       " 'N0826',\n",
       " 'N0578',\n",
       " 'N0422',\n",
       " 'N0823',\n",
       " 'N0424',\n",
       " 'N0430',\n",
       " 'N0826',\n",
       " 'N0577',\n",
       " 'N0591',\n",
       " 'N0424',\n",
       " 'N0430',\n",
       " 'N0821',\n",
       " 'N0423',\n",
       " 'N0424',\n",
       " 'N0423',\n",
       " 'N0672',\n",
       " 'N0826',\n",
       " 'N0516办',\n",
       " 'N0517',\n",
       " 'N0518',\n",
       " 'N0566',\n",
       " 'N0568',\n",
       " 'N0822',\n",
       " 'N0424',\n",
       " '3002领款单',\n",
       " '3016原始凭证粘贴单',\n",
       " '3004差旅费报销单',\n",
       " 'N0821',\n",
       " 'N0422',\n",
       " 'N0423',\n",
       " 'N0424',\n",
       " 'N0425',\n",
       " 'N0430',\n",
       " 'N0831',\n",
       " 'N0422',\n",
       " 'N0424',\n",
       " 'N0425',\n",
       " 'N0826',\n",
       " 'N0526',\n",
       " 'N0527',\n",
       " 'N0528',\n",
       " 'N0529',\n",
       " '2003付款凭证',\n",
       " 'RFL-A460N',\n",
       " 'RFSX-A460N',\n",
       " 'RFY-A460N',\n",
       " 'RFZW-A460N（500格）',\n",
       " 'RFY-1660NZ',\n",
       " 'RFL-1660NZ',\n",
       " '3013报销凭证粘贴单',\n",
       " '3002领款单',\n",
       " '16K备课本',\n",
       " '6105现金日记账',\n",
       " '6103银行存款日记账',\n",
       " '6120商品明细分类账',\n",
       " '6121库存商品明细分类账',\n",
       " '9202账本专用空白表单',\n",
       " '6101总分类账',\n",
       " '3001支出证明单',\n",
       " '3002领款单',\n",
       " '3016原始凭证粘贴单',\n",
       " '3018现金结存表',\n",
       " '3603商品销货计数单',\n",
       " '1110库存材料(商品)明细分类账',\n",
       " '6502现金流水账',\n",
       " '6405现金日记账',\n",
       " '6703银行存款日记账',\n",
       " '6705现金日记账',\n",
       " '6211总分类账',\n",
       " '6005现金日记账',\n",
       " '6105现金日记账',\n",
       " '6106三栏式明细分类账',\n",
       " '401拼音本',\n",
       " '408写字本',\n",
       " 'N0785',\n",
       " 'N0821',\n",
       " 'N0822',\n",
       " 'N0424',\n",
       " 'N0430',\n",
       " 'N0671',\n",
       " 'N0674',\n",
       " 'N0684',\n",
       " 'N0578',\n",
       " 'N0517',\n",
       " 'N0520',\n",
       " 'N0530',\n",
       " 'N0565',\n",
       " 'N0568',\n",
       " 'N0569',\n",
       " 'N0765',\n",
       " '1101总分类账',\n",
       " '1106三栏式明细分类账',\n",
       " '111313栏式明细分类账',\n",
       " '1110库存材料(商品)明细分类账',\n",
       " '16KPP账夹',\n",
       " '1602单行材料纸',\n",
       " 'N0816',\n",
       " 'N0840',\n",
       " 'N0766',\n",
       " 'N0765',\n",
       " 'N0697',\n",
       " 'N0698',\n",
       " 'N0683',\n",
       " 'N0671',\n",
       " 'N0672',\n",
       " 'N0822',\n",
       " 'DB501',\n",
       " 'SB502',\n",
       " 'FB503',\n",
       " 'N0578',\n",
       " 'N0517',\n",
       " 'N0518',\n",
       " 'N0519',\n",
       " '550375P出库单(三联、多栏)',\n",
       " 'N0422',\n",
       " 'N0424',\n",
       " '501775P送货单(三联、竖式多栏)',\n",
       " 'DRXBA6100',\n",
       " '7777锐意系列折扣',\n",
       " 'SB502',\n",
       " '3002领款单',\n",
       " '3003借支单',\n",
       " '501975P收据(三联、单栏)',\n",
       " '502950P收据(二联、单栏)',\n",
       " '550375P出库单(三联、多栏)',\n",
       " '6504支票登记簿',\n",
       " '6005现金日记账',\n",
       " '6101总分类账',\n",
       " '6102现金流水账(备查账)',\n",
       " '6103银行存款日记账',\n",
       " '6105现金日记账',\n",
       " '6106三栏式明细分类账',\n",
       " '6211总分类账',\n",
       " '6703银行存款日记账',\n",
       " '8210会计凭证装订封面',\n",
       " 'N0821',\n",
       " 'N0822',\n",
       " 'N0823',\n",
       " 'N0424',\n",
       " 'N0425',\n",
       " 'N0430',\n",
       " 'N0826',\n",
       " 'N0831',\n",
       " 'N0670',\n",
       " 'N0671',\n",
       " 'N0672',\n",
       " 'N0673',\n",
       " 'N0674',\n",
       " 'N0682',\n",
       " 'N0683',\n",
       " 'N0684',\n",
       " 'N0578',\n",
       " 'N0591',\n",
       " 'N0526',\n",
       " 'N0527',\n",
       " 'N0528',\n",
       " 'N0529',\n",
       " 'N0530',\n",
       " 'N0517',\n",
       " 'N0518',\n",
       " 'N0519',\n",
       " 'N0520',\n",
       " 'N0565',\n",
       " 'N0566',\n",
       " 'N0568',\n",
       " 'N0569',\n",
       " '3015费用报销单',\n",
       " '3605销货计数单',\n",
       " '6101总分类账',\n",
       " '6102现金流水账(备查账)',\n",
       " '6103银行存款日记账',\n",
       " '6105现金日记账',\n",
       " '6106三栏式明细分类账',\n",
       " '6120商品明细分类账',\n",
       " '6123进销存明细分类账',\n",
       " 'N0814',\n",
       " '1602单行材料纸',\n",
       " '1603方格材料纸',\n",
       " '1601双行材料纸',\n",
       " 'BTHA460B',\n",
       " 'BTHA460B',\n",
       " 'DJL32100B',\n",
       " 'DL-16200C',\n",
       " 'RFYB-1660N',\n",
       " 'N0422',\n",
       " 'N0423',\n",
       " 'N0424',\n",
       " 'N0430',\n",
       " 'N0526',\n",
       " 'N0528',\n",
       " 'N0518',\n",
       " 'N0821',\n",
       " 'N0821',\n",
       " 'N0422',\n",
       " 'N0423',\n",
       " 'N0424',\n",
       " 'N0683',\n",
       " 'N0516办',\n",
       " 'N0517',\n",
       " 'N0518',\n",
       " 'N0786',\n",
       " 'JSCG1630',\n",
       " '6405现金日记账',\n",
       " '6403银行存款日记账',\n",
       " '6106三栏式明细分类账',\n",
       " 'N0423',\n",
       " 'N0424',\n",
       " '6101总分类账',\n",
       " '6103银行存款日记账',\n",
       " '6105现金日记账',\n",
       " '3015费用报销单',\n",
       " '8210会计凭证装订封面',\n",
       " '8211会计凭证装订封面',\n",
       " '6128实物出入账',\n",
       " '6181总分类账',\n",
       " '6183银行存款日记账',\n",
       " '6185现金日记账',\n",
       " '8101-三孔',\n",
       " 'N0528',\n",
       " 'N0821',\n",
       " 'N0422',\n",
       " 'N0423',\n",
       " 'N0424',\n",
       " 'N0826',\n",
       " 'N0527',\n",
       " 'N0528',\n",
       " 'N0821',\n",
       " 'N0423',\n",
       " 'DRXLA5100',\n",
       " 'N0003',\n",
       " 'DRXLB5100',\n",
       " 'FZY-3260B',\n",
       " '7777锐意系列折扣',\n",
       " 'N0826',\n",
       " 'N0671',\n",
       " 'N0673',\n",
       " 'N0674',\n",
       " 'N0425',\n",
       " 'N0430',\n",
       " 'N0811',\n",
       " 'N0422',\n",
       " 'N0423',\n",
       " 'N0424',\n",
       " 'N0425',\n",
       " 'N0430',\n",
       " 'N0671',\n",
       " 'N0672',\n",
       " 'N0673',\n",
       " 'N0683',\n",
       " 'N0651',\n",
       " 'N0674',\n",
       " 'N0684',\n",
       " 'N0527',\n",
       " 'N0517',\n",
       " '8888运费',\n",
       " '9999抄本销售折扣',\n",
       " 'N0822',\n",
       " 'N0823',\n",
       " 'N0424',\n",
       " 'N0430',\n",
       " 'N0683',\n",
       " 'N0518',\n",
       " 'N0425',\n",
       " '500975P收据(三联、单栏)',\n",
       " '8888运费',\n",
       " 'N0821',\n",
       " 'N0424',\n",
       " 'N0822',\n",
       " 'N0823',\n",
       " 'N0425',\n",
       " 'N0430',\n",
       " '9999抄本销售折扣',\n",
       " 'N0430',\n",
       " 'N0826',\n",
       " 'N0526',\n",
       " 'N0527',\n",
       " 'N0528',\n",
       " 'N0529',\n",
       " 'N0530',\n",
       " 'SMA340S',\n",
       " 'SMA340S',\n",
       " 'SMA340S',\n",
       " 'RFYP-1660N',\n",
       " 'RJL-16150',\n",
       " 'RJL-1680',\n",
       " 'RJL-1680',\n",
       " 'RJL-3280',\n",
       " 'RJL-3280',\n",
       " 'DJL64混装',\n",
       " 'DX100',\n",
       " 'DX100',\n",
       " 'DRXLA5100',\n",
       " 'DRXLB5100',\n",
       " '9999抄本销售折扣',\n",
       " '7777锐意系列折扣',\n",
       " 'N0823',\n",
       " 'N0822',\n",
       " 'N0424',\n",
       " 'N0683',\n",
       " 'N0684',\n",
       " 'N0517',\n",
       " 'N0518',\n",
       " 'N0516办',\n",
       " 'N0519',\n",
       " 'N0527',\n",
       " 'N0528',\n",
       " 'N0526',\n",
       " 'N0529',\n",
       " 'N0430',\n",
       " 'N0831',\n",
       " 'RJL-32100',\n",
       " 'RJL-32100',\n",
       " 'N0821',\n",
       " 'N0424',\n",
       " 'N0430',\n",
       " 'N0793',\n",
       " 'XA101',\n",
       " 'N0784（400格）',\n",
       " '8888运费',\n",
       " 'N0821',\n",
       " 'N0822',\n",
       " 'N0823',\n",
       " 'N0424',\n",
       " 'N0425',\n",
       " 'N0831',\n",
       " 'DY-1660A',\n",
       " 'DY-1660B',\n",
       " 'DY-1680B',\n",
       " 'DY-1680',\n",
       " 'DL-1640B',\n",
       " 'DL-1640C',\n",
       " 'RFB-1660N',\n",
       " 'RFZW-1660N（300格）',\n",
       " 'RFY-1660N',\n",
       " 'RFC-1660N',\n",
       " 'RFSX-1660N',\n",
       " 'RFDS-1660N',\n",
       " 'RFL-1660N',\n",
       " 'DJL3260B',\n",
       " 'DJL3260C',\n",
       " '3015费用报销单',\n",
       " '3603商品销货计数单',\n",
       " '6102现金流水账(备查账)',\n",
       " '6103银行存款日记账',\n",
       " '6105现金日记账',\n",
       " '6106三栏式明细分类账',\n",
       " '6120商品明细分类账',\n",
       " '6101总分类账',\n",
       " '6003银行存款日记账',\n",
       " '6005现金日记账',\n",
       " '6206三栏式明细分类账',\n",
       " '6208商品明细分类账',\n",
       " '6502现金流水账',\n",
       " '6503现金出纳手册',\n",
       " '6213银行存款日记账',\n",
       " '6215现金日记账',\n",
       " '6403银行存款日记账',\n",
       " '6405现金日记账',\n",
       " 'N0424',\n",
       " '3015费用报销单',\n",
       " 'N0653',\n",
       " '550375P出库单(三联、多栏)',\n",
       " '501775P送货单(三联、竖式多栏)',\n",
       " 'N0422',\n",
       " '8888运费',\n",
       " '9999抄本销售折扣',\n",
       " '1208商品明细分类账',\n",
       " 'B5图画本（男版）a',\n",
       " '500875P缴款单(三联、多栏)',\n",
       " 'DRXLA6100',\n",
       " 'DRXLA5100',\n",
       " 'DRXLB5100',\n",
       " 'CTHA460B',\n",
       " 'GDX1660',\n",
       " 'SM8K40S',\n",
       " 'N0780',\n",
       " 'N0781（单线）',\n",
       " 'N0782（双竖线）',\n",
       " 'N0784（300格）',\n",
       " 'N0784（400格）',\n",
       " 'N0785',\n",
       " 'N0785（纯净版）',\n",
       " 'N0786',\n",
       " 'N0787',\n",
       " 'N0791',\n",
       " 'N0792',\n",
       " 'N0793',\n",
       " 'N0797',\n",
       " 'EJCG1630N',\n",
       " 'EJCG1630N（分区）',\n",
       " 'EFTZ1660N（10本）',\n",
       " 'EFHP1660N(10本）',\n",
       " 'EXLA7100P',\n",
       " 'EJL3280',\n",
       " '7777锐意系列折扣',\n",
       " '3004差旅费报销单',\n",
       " 'N0697',\n",
       " 'N0823',\n",
       " 'N0822',\n",
       " 'N0577',\n",
       " 'N0821',\n",
       " 'N0424',\n",
       " 'N0423',\n",
       " 'N0822',\n",
       " 'N0821',\n",
       " 'N0682',\n",
       " 'N0430',\n",
       " 'N0683',\n",
       " 'N0826',\n",
       " 'N0785（电商）a',\n",
       " 'N0783（电商）a',\n",
       " 'RJL-32100',\n",
       " 'RJL-32100',\n",
       " 'RJL-16100',\n",
       " 'RJL-16100',\n",
       " 'EJCG1630N',\n",
       " 'RL-16150',\n",
       " 'RJL-16200',\n",
       " 'RJL-16150',\n",
       " '6211总分类账',\n",
       " '2301记账凭证(事)',\n",
       " '3015费用报销单',\n",
       " 'N0821',\n",
       " 'N0422',\n",
       " 'N0423',\n",
       " 'N0424',\n",
       " 'N0425',\n",
       " 'N0430',\n",
       " 'N0826',\n",
       " 'N0526',\n",
       " 'N0527',\n",
       " 'N0530',\n",
       " 'N0516办',\n",
       " 'N0519',\n",
       " 'N0520',\n",
       " 'N0670',\n",
       " 'N0671',\n",
       " 'N0672',\n",
       " 'N0673',\n",
       " 'N0681',\n",
       " 'N0682',\n",
       " 'N0568',\n",
       " 'HB213C',\n",
       " 'EJCG1630N',\n",
       " '8888运费',\n",
       " 'N0516办',\n",
       " 'N0517',\n",
       " 'N0518',\n",
       " 'TJ101彩',\n",
       " 'TJ302彩',\n",
       " 'HB211C',\n",
       " 'N0785',\n",
       " 'N0784（400格）',\n",
       " 'N0682',\n",
       " 'N0672',\n",
       " 'N0681',\n",
       " 'N0821',\n",
       " 'N0422',\n",
       " 'N0423',\n",
       " 'N0424',\n",
       " 'N0430',\n",
       " 'N0681',\n",
       " 'N0682',\n",
       " 'N0684',\n",
       " 'N0526',\n",
       " 'N0527',\n",
       " 'N0528',\n",
       " 'N0529',\n",
       " 'N0671',\n",
       " 'N0672',\n",
       " 'N0673',\n",
       " 'N0674',\n",
       " 'N0530',\n",
       " 'N0565',\n",
       " 'N0566',\n",
       " 'N0568',\n",
       " 'N0652',\n",
       " 'DWXB580N',\n",
       " 'N0576',\n",
       " 'N0577',\n",
       " 'N0681',\n",
       " '3603商品销货计数单',\n",
       " '3015费用报销单',\n",
       " '3003借支单',\n",
       " '5623送(销)货单',\n",
       " '3004差旅费报销单',\n",
       " '3001支出证明单',\n",
       " '3603商品销货计数单',\n",
       " 'N0423',\n",
       " 'N0424',\n",
       " '501475P菜单(三联、竖式多栏)',\n",
       " '502750P送货单(二联、多栏)',\n",
       " 'N0578',\n",
       " 'N0591',\n",
       " '6005现金日记账',\n",
       " '6102现金流水账(备查账)',\n",
       " '6105现金日记账',\n",
       " '6106三栏式明细分类账',\n",
       " '6120商品明细分类账',\n",
       " 'N0785',\n",
       " 'DRXBA6100',\n",
       " 'NFZW3260NH',\n",
       " '7777锐意系列折扣',\n",
       " '5037送货单（三联）',\n",
       " '3002领款单',\n",
       " '503975P送货单(三联、多栏)',\n",
       " 'EXTHA430N',\n",
       " 'N0791',\n",
       " 'EFSZ3260Na',\n",
       " 'N0797',\n",
       " 'J1607',\n",
       " 'N0785',\n",
       " '8888运费',\n",
       " 'N0821',\n",
       " 'N0577',\n",
       " 'N0682',\n",
       " '3015费用报销单',\n",
       " 'N0576',\n",
       " 'N0430',\n",
       " 'N0424',\n",
       " 'N0682',\n",
       " 'N0681',\n",
       " 'N0577',\n",
       " 'N0430',\n",
       " 'N0577',\n",
       " '3002领款单',\n",
       " '3001支出证明单',\n",
       " '6106三栏式明细分类账',\n",
       " '6105现金日记账',\n",
       " '6103银行存款日记账',\n",
       " '6101总分类账',\n",
       " '6123进销存明细分类账',\n",
       " '6125存货计数账',\n",
       " '6128实物出入账',\n",
       " '6502现金流水账',\n",
       " '6215现金日记账',\n",
       " 'N0681',\n",
       " 'N0578',\n",
       " '3001支出证明单',\n",
       " '8210会计凭证装订封面',\n",
       " '6705现金日记账',\n",
       " '6125存货计数账',\n",
       " '3015费用报销单',\n",
       " 'N0311',\n",
       " '5429EG',\n",
       " 'N0681',\n",
       " 'N0682',\n",
       " '3016原始凭证粘贴单',\n",
       " '2002收款凭证',\n",
       " '5209收据（二联、多栏）',\n",
       " '3004差旅费报销单',\n",
       " '5207送货单',\n",
       " '3003借支单',\n",
       " '6106三栏式明细分类账',\n",
       " '6128实物出入账',\n",
       " '6101总分类账',\n",
       " 'N0424',\n",
       " 'N0529',\n",
       " 'N0520',\n",
       " 'N0568',\n",
       " 'N0840',\n",
       " 'N0527',\n",
       " 'N0424',\n",
       " 'N0682',\n",
       " 'N0821',\n",
       " 'N0424',\n",
       " 'N0430',\n",
       " 'N0526',\n",
       " '3002领款单',\n",
       " '3003借支单',\n",
       " 'XA104',\n",
       " 'EFHP3260N',\n",
       " 'N0795',\n",
       " '8888运费',\n",
       " 'DB501',\n",
       " '2001记账凭证',\n",
       " 'N0821',\n",
       " 'N0822',\n",
       " 'N0424',\n",
       " 'N0430',\n",
       " 'N0826',\n",
       " '2001记账凭证',\n",
       " '9999抄本销售折扣',\n",
       " 'EXBA6100NB',\n",
       " 'N0792（电商）',\n",
       " '605练习本',\n",
       " '3002领款单',\n",
       " '2001记账凭证',\n",
       " '6401总分类账',\n",
       " '8211会计凭证装订封面',\n",
       " '5623送(销)货单',\n",
       " '3015费用报销单',\n",
       " '2001记账凭证',\n",
       " '3001支出证明单',\n",
       " '3002领款单',\n",
       " '500875P缴款单(三联、多栏)',\n",
       " '512950P工商服务业收据(二联、多栏)',\n",
       " '16K备课本',\n",
       " 'RFHP-1660NZ',\n",
       " '6110库存材料(商品)明细分类账',\n",
       " '8K160g素描纸',\n",
       " '9202账本专用空白表单',\n",
       " '6213银行存款日记账',\n",
       " '6211总分类账',\n",
       " '6206三栏式明细分类账',\n",
       " '6208商品明细分类账',\n",
       " '6405现金日记账',\n",
       " '6403银行存款日记账',\n",
       " '6401总分类账',\n",
       " '6705现金日记账',\n",
       " '1106三栏式明细分类账',\n",
       " '9202账本专用空白表单',\n",
       " '2001记账凭证',\n",
       " '3001支出证明单',\n",
       " '3003借支单',\n",
       " '3004差旅费报销单',\n",
       " '3016原始凭证粘贴单',\n",
       " '1110库存材料(商品)明细分类账',\n",
       " '3603商品销货计数单',\n",
       " '8210会计凭证装订封面',\n",
       " '8211会计凭证装订封面',\n",
       " '6120商品明细分类账',\n",
       " '6001总分类账',\n",
       " '6003银行存款日记账',\n",
       " ...]"
      ]
     },
     "execution_count": 26,
     "metadata": {},
     "output_type": "execute_result"
    }
   ],
   "source": []
  },
  {
   "cell_type": "code",
   "execution_count": null,
   "id": "fd66f767-a839-4d03-b8ce-63eb2594a45a",
   "metadata": {},
   "outputs": [],
   "source": []
  }
 ],
 "metadata": {
  "kernelspec": {
   "display_name": "Python 3 (ipykernel)",
   "language": "python",
   "name": "python3"
  },
  "language_info": {
   "codemirror_mode": {
    "name": "ipython",
    "version": 3
   },
   "file_extension": ".py",
   "mimetype": "text/x-python",
   "name": "python",
   "nbconvert_exporter": "python",
   "pygments_lexer": "ipython3",
   "version": "3.11.5"
  }
 },
 "nbformat": 4,
 "nbformat_minor": 5
}
