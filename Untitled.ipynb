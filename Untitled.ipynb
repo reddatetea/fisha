{
 "cells": [
  {
   "cell_type": "code",
   "execution_count": 1,
   "id": "fc085c3f-a733-49b4-90fc-680788e3007e",
   "metadata": {},
   "outputs": [],
   "source": [
    "import pandas as pd"
   ]
  },
  {
   "cell_type": "code",
   "execution_count": 21,
   "id": "e07b977f-d33d-46dd-8594-5e0924c75774",
   "metadata": {},
   "outputs": [],
   "source": [
    "df = pd.read_clipboard()"
   ]
  },
  {
   "cell_type": "code",
   "execution_count": 22,
   "id": "0aaf059c-b428-4743-b647-3849dd27f49d",
   "metadata": {},
   "outputs": [
    {
     "data": {
      "text/html": [
       "<div>\n",
       "<style scoped>\n",
       "    .dataframe tbody tr th:only-of-type {\n",
       "        vertical-align: middle;\n",
       "    }\n",
       "\n",
       "    .dataframe tbody tr th {\n",
       "        vertical-align: top;\n",
       "    }\n",
       "\n",
       "    .dataframe thead th {\n",
       "        text-align: right;\n",
       "    }\n",
       "</style>\n",
       "<table border=\"1\" class=\"dataframe\">\n",
       "  <thead>\n",
       "    <tr style=\"text-align: right;\">\n",
       "      <th></th>\n",
       "      <th>品名</th>\n",
       "    </tr>\n",
       "  </thead>\n",
       "  <tbody>\n",
       "    <tr>\n",
       "      <th>\"1101</th>\n",
       "      <td>\"</td>\n",
       "    </tr>\n",
       "    <tr>\n",
       "      <th>\"1103</th>\n",
       "      <td>\"</td>\n",
       "    </tr>\n",
       "    <tr>\n",
       "      <th>\"1105</th>\n",
       "      <td>\"</td>\n",
       "    </tr>\n",
       "    <tr>\n",
       "      <th>\"1120</th>\n",
       "      <td>\"</td>\n",
       "    </tr>\n",
       "    <tr>\n",
       "      <th>\"1601</th>\n",
       "      <td>\"</td>\n",
       "    </tr>\n",
       "    <tr>\n",
       "      <th>...</th>\n",
       "      <td>...</td>\n",
       "    </tr>\n",
       "    <tr>\n",
       "      <th>SMA440S-侧翻</th>\n",
       "      <td>None</td>\n",
       "    </tr>\n",
       "    <tr>\n",
       "      <th>补款</th>\n",
       "      <td>None</td>\n",
       "    </tr>\n",
       "    <tr>\n",
       "      <th>8888</th>\n",
       "      <td>None</td>\n",
       "    </tr>\n",
       "    <tr>\n",
       "      <th>8888-折扣</th>\n",
       "      <td>None</td>\n",
       "    </tr>\n",
       "    <tr>\n",
       "      <th>总计</th>\n",
       "      <td>None</td>\n",
       "    </tr>\n",
       "  </tbody>\n",
       "</table>\n",
       "<p>222 rows × 1 columns</p>\n",
       "</div>"
      ],
      "text/plain": [
       "              品名\n",
       "\"1101          \"\n",
       "\"1103          \"\n",
       "\"1105          \"\n",
       "\"1120          \"\n",
       "\"1601          \"\n",
       "...          ...\n",
       "SMA440S-侧翻  None\n",
       "补款          None\n",
       "8888        None\n",
       "8888-折扣     None\n",
       "总计          None\n",
       "\n",
       "[222 rows x 1 columns]"
      ]
     },
     "execution_count": 22,
     "metadata": {},
     "output_type": "execute_result"
    }
   ],
   "source": [
    "df"
   ]
  },
  {
   "cell_type": "code",
   "execution_count": 11,
   "id": "312aa8de-51fb-4a8f-8b2e-5c7242116907",
   "metadata": {},
   "outputs": [],
   "source": [
    "df = df.astype({名`':str})\n"
   ]
  },
  {
   "cell_type": "code",
   "execution_count": 12,
   "id": "73caef73-10d5-451b-b531-d5238a90947f",
   "metadata": {},
   "outputs": [
    {
     "data": {
      "text/plain": [
       "品名    object\n",
       "dtype: object"
      ]
     },
     "execution_count": 12,
     "metadata": {},
     "output_type": "execute_result"
    }
   ],
   "source": [
    "df.dtypes"
   ]
  },
  {
   "cell_type": "code",
   "execution_count": 16,
   "id": "1dcc3d8e-7fd6-4d7b-a0f0-2d5e14372632",
   "metadata": {},
   "outputs": [],
   "source": [
    "df['品名'] = df['品名'].str.strip()"
   ]
  },
  {
   "cell_type": "code",
   "execution_count": 19,
   "id": "e4cee5e0-a61d-4b49-8dcd-e4fdb2a03d15",
   "metadata": {},
   "outputs": [],
   "source": [
    "df.to_excel('qukong.xlsx',index = False)"
   ]
  },
  {
   "cell_type": "code",
   "execution_count": 23,
   "id": "f03ef032-2941-4b81-9b1f-2668050c62ef",
   "metadata": {},
   "outputs": [
    {
     "data": {
      "text/plain": [
       "\"1101         1.0\n",
       "\"1103         1.0\n",
       "\"1105         1.0\n",
       "\"1120         1.0\n",
       "\"1601         1.0\n",
       "             ... \n",
       "SMA440S-侧翻    NaN\n",
       "补款            NaN\n",
       "8888          NaN\n",
       "8888-折扣       NaN\n",
       "总计            NaN\n",
       "Name: 品名, Length: 222, dtype: float64"
      ]
     },
     "execution_count": 23,
     "metadata": {},
     "output_type": "execute_result"
    }
   ],
   "source": [
    "df['品名'].str.len()"
   ]
  },
  {
   "cell_type": "code",
   "execution_count": 20,
   "id": "d33a53dd-939c-426d-91a4-eae6023113e0",
   "metadata": {},
   "outputs": [
    {
     "data": {
      "text/html": [
       "<div>\n",
       "<style scoped>\n",
       "    .dataframe tbody tr th:only-of-type {\n",
       "        vertical-align: middle;\n",
       "    }\n",
       "\n",
       "    .dataframe tbody tr th {\n",
       "        vertical-align: top;\n",
       "    }\n",
       "\n",
       "    .dataframe thead th {\n",
       "        text-align: right;\n",
       "    }\n",
       "</style>\n",
       "<table border=\"1\" class=\"dataframe\">\n",
       "  <thead>\n",
       "    <tr style=\"text-align: right;\">\n",
       "      <th></th>\n",
       "      <th>品名</th>\n",
       "    </tr>\n",
       "  </thead>\n",
       "  <tbody>\n",
       "    <tr>\n",
       "      <th>\"1101</th>\n",
       "      <td>\"</td>\n",
       "    </tr>\n",
       "    <tr>\n",
       "      <th>\"1103</th>\n",
       "      <td>\"</td>\n",
       "    </tr>\n",
       "    <tr>\n",
       "      <th>\"1105</th>\n",
       "      <td>\"</td>\n",
       "    </tr>\n",
       "    <tr>\n",
       "      <th>\"1120</th>\n",
       "      <td>\"</td>\n",
       "    </tr>\n",
       "    <tr>\n",
       "      <th>\"1601</th>\n",
       "      <td>\"</td>\n",
       "    </tr>\n",
       "    <tr>\n",
       "      <th>...</th>\n",
       "      <td>...</td>\n",
       "    </tr>\n",
       "    <tr>\n",
       "      <th>SMA440S-侧翻</th>\n",
       "      <td>None</td>\n",
       "    </tr>\n",
       "    <tr>\n",
       "      <th>补款</th>\n",
       "      <td>None</td>\n",
       "    </tr>\n",
       "    <tr>\n",
       "      <th>8888</th>\n",
       "      <td>None</td>\n",
       "    </tr>\n",
       "    <tr>\n",
       "      <th>8888-折扣</th>\n",
       "      <td>None</td>\n",
       "    </tr>\n",
       "    <tr>\n",
       "      <th>总计</th>\n",
       "      <td>None</td>\n",
       "    </tr>\n",
       "  </tbody>\n",
       "</table>\n",
       "<p>222 rows × 1 columns</p>\n",
       "</div>"
      ],
      "text/plain": [
       "              品名\n",
       "\"1101          \"\n",
       "\"1103          \"\n",
       "\"1105          \"\n",
       "\"1120          \"\n",
       "\"1601          \"\n",
       "...          ...\n",
       "SMA440S-侧翻  None\n",
       "补款          None\n",
       "8888        None\n",
       "8888-折扣     None\n",
       "总计          None\n",
       "\n",
       "[222 rows x 1 columns]"
      ]
     },
     "execution_count": 20,
     "metadata": {},
     "output_type": "execute_result"
    }
   ],
   "source": [
    "df"
   ]
  },
  {
   "cell_type": "code",
   "execution_count": null,
   "id": "628ab69f-00df-40dc-aed1-2b075e8403ac",
   "metadata": {},
   "outputs": [],
   "source": []
  }
 ],
 "metadata": {
  "kernelspec": {
   "display_name": "Python 3 (ipykernel)",
   "language": "python",
   "name": "python3"
  },
  "language_info": {
   "codemirror_mode": {
    "name": "ipython",
    "version": 3
   },
   "file_extension": ".py",
   "mimetype": "text/x-python",
   "name": "python",
   "nbconvert_exporter": "python",
   "pygments_lexer": "ipython3",
   "version": "3.11.8"
  }
 },
 "nbformat": 4,
 "nbformat_minor": 5
}
