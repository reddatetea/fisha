{
 "cells": [
  {
   "cell_type": "code",
   "execution_count": 32,
   "id": "6dff7020-3844-4c6d-aee8-6e6f92d7ed5e",
   "metadata": {},
   "outputs": [
    {
     "name": "stdout",
     "output_type": "stream",
     "text": [
      "1096573-Business reward.pdf ['I N V O I C E', 'Page 1 of 2', 'Invoice To: Invoice From: Remit To:', 'HOLIDAY INN INTERCONTINENTAL HOTELS GROUP INTER CONTINENTAL', 'WUHAN RIVERSIDE (SHANGHAI) LTD HOTELS GROUP', '22ND FLOOR, CITIGROUP TOWER NO. 33, INTER CONTINENTAL', 'NO.3 QINGCHUAN AVENUE, HANYANG', 'PUDONG NEW AREA, HOTELS GROUP', 'DISTRICT SHANGHAI 200120 (SHANGHAI) LTD', 'WUHAN CHINA HSBC SHANGHAI', 'WUHAN 430050 BRANCH/ALIPAY', 'CNY A/C NO: 088-058482-', 'CHINA', '001 HSBCCNSH', 'HSBC TOWER 101 YIN', 'CHENG EAST ROAD', 'PUDONG SHANGHAI', 'CHINA', 'Customer #: 0684100 Tax Invoice #: P001096573 Total Rooms: 305', 'Holidex #: WUHQC Tax Invoice Date: 06-Sep-2024 Rooms Sold: 0', 'Buyer Tax Reg ID: CN999999999 Due Date: 15-Sep-2024 Rooms Available: 0', 'Seller Tax Reg Id: 913100007653255 Declaration Point: Invoice Gross Room 0.00', '44Y Revenue:', 'Date of tax Point: 06-Sep-2024', 'Exchange Rate: 1.00000000 Currency:', 'Tax Treatment: DSS - Domestic Service Sale', 'Net Gross Gross Base', 'Transaction Transaction Tax Tax Transaction Currency Base', 'Description Currency Amount Percent Amount Amount Amount Currency', 'IHG Business Reward CNY 8,945.17 6.0000% 536.71 9,481.88 9,481.88 CNY', 'IHG Rewards Club Billing with Reference #: 202408WUHQCINVOICE_BR', 'PO Ref: 202408WUHQCINVOICE_BR', 'IHG RC MEMBER STAY CNY 25,132.79 6.0000% 1,507.96 26,640.75 26,640.75 CNY', 'IHG Rewards Club Billing with Reference #: 202408WUHQCINVOICE_STAY', 'PO Ref: 202408WUHQCINVOICE_STAY', 'IHG RC MARKETING CNY 13,015.61 6.0000% 780.94 13,796.55 13,796.55 CNY', 'PROMOTIONS', 'IHG Rewards Club Billing with Reference #: 202408WUHQCINVOICE_STAY_PROMO', 'PO Ref: 202408WUHQCINVOICE_STAY_PROMO', 'Amount Due CNY 47,093.57 2,825.61 49,919.18 49,919.18 CNY', 'Please remit your payment to the above bank account in the base currency of the invoice.', 'Either send your remittance advice to P O Box 223 St Leonards Australia 2065 or fax to +612 9437 6755 or email the electronic format to asia.', 'remit@ichotelsgroup.com', 'Should you have any queries please contact the Sydney Accounts Receivable Team on +612 9935 8300 or email them at asia.', 'remit@ichotelsgroup.com']\n",
      "1096573-Business reward.pdf ['I N V O I C E', 'Page 2 of 2', 'Invoice To: Invoice From: Remit To:', 'HOLIDAY INN INTERCONTINENTAL HOTELS GROUP INTER CONTINENTAL', 'WUHAN RIVERSIDE (SHANGHAI) LTD HOTELS GROUP', '22ND FLOOR, CITIGROUP TOWER NO. 33, INTER CONTINENTAL', 'NO.3 QINGCHUAN AVENUE, HANYANG', 'PUDONG NEW AREA, HOTELS GROUP', 'DISTRICT SHANGHAI 200120 (SHANGHAI) LTD', 'WUHAN CHINA HSBC SHANGHAI', 'WUHAN 430050 BRANCH/ALIPAY', 'CNY A/C NO: 088-058482-', 'CHINA', '001 HSBCCNSH', 'HSBC TOWER 101 YIN', 'CHENG EAST ROAD', 'PUDONG SHANGHAI', 'CHINA', 'Customer #: 0684100 Tax Invoice #: P001096573 Total Rooms: 305', 'Holidex #: WUHQC Tax Invoice Date: 06-Sep-2024 Rooms Sold: 0', 'Buyer Tax Reg ID: CN999999999 Due Date: 15-Sep-2024 Rooms Available: 0', 'Seller Tax Reg Id: 913100007653255 Declaration Point: Invoice Gross Room 0.00', '44Y Revenue:', 'Date of tax Point: 06-Sep-2024', 'Exchange Rate: 1.00000000 Currency:', 'Tax Treatment: DSS - Domestic Service Sale']\n",
      "1097237-Reward night.pdf ['C R E D I T', 'Page 1 of 2', 'I N V O I C E', 'Invoice To: Invoice From: Remit To:', 'HOLIDAY INN INTERCONTINENTAL HOTELS GROUP INTER CONTINENTAL', 'WUHAN RIVERSIDE (SHANGHAI) LTD HOTELS GROUP', '22ND FLOOR, CITIGROUP TOWER NO. 33, INTER CONTINENTAL', 'NO.3 QINGCHUAN AVENUE, HANYANG', 'PUDONG NEW AREA, HOTELS GROUP', 'DISTRICT SHANGHAI 200120 (SHANGHAI) LTD', 'WUHAN CHINA HSBC SHANGHAI', 'WUHAN 430050 BRANCH/ALIPAY', 'CNY A/C NO: 088-058482-', 'CHINA', '001 HSBCCNSH', 'HSBC TOWER 101 YIN', 'CHENG EAST ROAD', 'PUDONG SHANGHAI', 'CHINA', 'Customer #: 0684100 Tax Invoice #: P001097237 Total Rooms: 305', 'Holidex #: WUHQC Tax Invoice Date: 06-Sep-2024 Rooms Sold: 0', 'Buyer Tax Reg ID: CN999999999 Due Date: 15-Sep-2024 Rooms Available: 0', 'Seller Tax Reg Id: 913100007653255 Declaration Point: Invoice Gross Room 0.00', '44Y Revenue:', 'Date of tax Point: 06-Sep-2024', 'Exchange Rate: 1.00000000 Currency:', 'Tax Treatment: DSS - Domestic Service Sale', 'Net Gross Gross Base', 'Transaction Transaction Tax Tax Transaction Currency Base', 'Description Currency Amount Percent Amount Amount Amount Currency', 'IHG RC REWARD NIGHT CNY (43,385.22) 6.0000% (2,603.11) (45,988.33) (45,988.33) CNY', 'CREDIT', 'IHG Rewards Club Billing with Reference #: 202408WUHQCINVOICE_REWRD_NIGT', 'Reimbursement by IHG for Reward Nights, Agent Certificates or Sweet Dilemma free night offers provided by Hotel to IHG', 'PO Ref: 202408WUHQCINVOICE_REWRD_NIGT', 'FREENT REIMB PRM - CHS CNY (178.54) 6.0000% (10.72) (189.26) (189.26) CNY', 'IHG Rewards Club Billing with Reference #: 202408WUHQCLV_INV_L3018_REIMB', 'Reimbursement by IHG for Reward Nights, Agent Certificates or Sweet Dilemma free night offers provided by Hotel to IHG', 'PO Ref: 202408WUHQCLV_INV_L3018_REIMB', 'Amount Due CNY (43,563.76) (2,613.83) (46,177.59) (46,177.59) CNY', 'Please remit your payment to the above bank account in the base currency of the invoice.', 'Either send your remittance advice to P O Box 223 St Leonards Australia 2065 or fax to +612 9437 6755 or email the electronic format to asia.', 'remit@ichotelsgroup.com', 'Should you have any queries please contact the Sydney Accounts Receivable Team on +612 9935 8300 or email them at asia.', 'remit@ichotelsgroup.com']\n",
      "1097237-Reward night.pdf ['C R E D I T', 'Page 2 of 2', 'I N V O I C E', 'Invoice To: Invoice From: Remit To:', 'HOLIDAY INN INTERCONTINENTAL HOTELS GROUP INTER CONTINENTAL', 'WUHAN RIVERSIDE (SHANGHAI) LTD HOTELS GROUP', '22ND FLOOR, CITIGROUP TOWER NO. 33, INTER CONTINENTAL', 'NO.3 QINGCHUAN AVENUE, HANYANG', 'PUDONG NEW AREA, HOTELS GROUP', 'DISTRICT SHANGHAI 200120 (SHANGHAI) LTD', 'WUHAN CHINA HSBC SHANGHAI', 'WUHAN 430050 BRANCH/ALIPAY', 'CNY A/C NO: 088-058482-', 'CHINA', '001 HSBCCNSH', 'HSBC TOWER 101 YIN', 'CHENG EAST ROAD', 'PUDONG SHANGHAI', 'CHINA', 'Customer #: 0684100 Tax Invoice #: P001097237 Total Rooms: 305', 'Holidex #: WUHQC Tax Invoice Date: 06-Sep-2024 Rooms Sold: 0', 'Buyer Tax Reg ID: CN999999999 Due Date: 15-Sep-2024 Rooms Available: 0', 'Seller Tax Reg Id: 913100007653255 Declaration Point: Invoice Gross Room 0.00', '44Y Revenue:', 'Date of tax Point: 06-Sep-2024', 'Exchange Rate: 1.00000000 Currency:', 'Tax Treatment: DSS - Domestic Service Sale']\n",
      "1100072-IHG ignite-2024.08.pdf ['I N V O I C E', 'Page 1 of 1', 'Invoice To: Invoice From: Remit To:', 'HOLIDAY INN INTERCONTINENTAL HOTELS GROUP INTER CONTINENTAL', 'WUHAN RIVERSIDE (SHANGHAI) LTD HOTELS GROUP', '22ND FLOOR, CITIGROUP TOWER NO. 33, INTER CONTINENTAL', 'NO.3 QINGCHUAN AVENUE, HANYANG', 'PUDONG NEW AREA, HOTELS GROUP', 'DISTRICT SHANGHAI 200120 (SHANGHAI) LTD', 'WUHAN CHINA HSBC SHANGHAI', 'WUHAN 430050 BRANCH/ALIPAY', 'CNY A/C NO: 088-058482-', 'CHINA', '001 HSBCCNSH', 'HSBC TOWER 101 YIN', 'CHENG EAST ROAD', 'PUDONG SHANGHAI', 'CHINA', 'Customer #: 0684100 Tax Invoice #: P001100072 Total Rooms: 305', 'Holidex #: WUHQC Tax Invoice Date: 06-Sep-2024 Rooms Sold: 0', 'Buyer Tax Reg ID: CN999999999 Due Date: 15-Sep-2024 Rooms Available: 0', 'Seller Tax Reg Id: 913100007653255 Declaration Point: Invoice Gross Room 0.00', '44Y Revenue:', 'Date of tax Point: 06-Sep-2024', 'Exchange Rate: 1.00000000 Currency:', 'Tax Treatment: DSS - Domestic Service Sale', 'Net Gross Gross Base', 'Transaction Transaction Tax Tax Transaction Currency Base', 'Description Currency Amount Percent Amount Amount Amount Currency', 'IHG IGNITE CNY 4,113.20 6.0000% 246.79 4,359.99 4,359.99 CNY', 'Billing in USD Check outs Jul 15 to Aug 14 2024 For billing details see Reporting.ihg.com>Rooms And Revenue> Channel', 'Performance> IHG Ignite Billing Detail 3 2022 to present', 'PO Ref: 202408221305P60660684100TACPOT', 'Amount Due CNY 4,113.20 246.79 4,359.99 4,359.99 CNY', 'Please remit your payment to the above bank account in the base currency of the invoice.', 'Either send your remittance advice to P O Box 223 St Leonards Australia 2065 or fax to +612 9437 6755 or email the electronic format to asia.', 'remit@ichotelsgroup.com', 'Should you have any queries please contact the Sydney Accounts Receivable Team on +612 9935 8300 or email them at asia.', 'remit@ichotelsgroup.com']\n",
      "1104390-System.pdf ['I N V O I C E', 'Page 1 of 1', 'Invoice To: Invoice From: Remit To:', 'HOLIDAY INN INTERCONTINENTAL HOTELS GROUP SHANGHAI PUDONG MAIN', 'WUHAN RIVERSIDE (SHANGHAI) LTD BRANCH', '22ND FLOOR, CITIGROUP TOWER NO. 33, SC TOWER', 'NO.3 QINGCHUAN AVENUE, HANYANG', 'PUDONG NEW AREA, 201 CENTURY AVENUE', 'DISTRICT SHANGHAI 200120 PUDONG', 'WUHAN CHINA CURRENCY: CNY', 'WUHAN 430050 BANK ACCOUNT NUM:', '000000501511730884', 'CHINA', 'SHANGHAI PR 200127', 'CHINA', 'Customer #: 0684100 Tax Invoice #: P001104390 Total Rooms: 0', 'Holidex #: WUHQC Tax Invoice Date: 04-Sep-2024 Rooms Sold: 0', 'Buyer Tax Reg ID: CN999999999 Due Date: 15-Sep-2024 Rooms Available: 0', 'Seller Tax Reg Id: 913100007653255 Declaration Point: Invoice Gross Room 0.00', '44Y Revenue:', 'Date of tax Point: 04-Sep-2024', 'Exchange Rate: 1.00000000 Currency:', 'Tax Treatment: DSS - Domestic Service Sale', 'Net Gross Gross Base', 'Transaction Transaction Tax Tax Transaction Currency Base', 'Description Currency Amount Percent Amount Amount Amount Currency', 'MARKETING FEE CNY 31,419.09 6.0000% 1,885.15 33,304.24 33,304.24 CNY', 'System Fund Cont 2 % for AUGUST 2024', 'Amount Due CNY 31,419.09 1,885.15 33,304.24 33,304.24 CNY', 'Please remit your payment to the above bank account in the base currency of the invoice.', 'Either send your remittance advice to P O Box 223 St Leonards Australia 2065 or fax to +612 9437 6755 or email the electronic format to asia.', 'remit@ichotelsgroup.com', 'Should you have any queries please contact the Sydney Accounts Receivable Team on +612 9935 8300 or email them at asia.', 'remit@ichotelsgroup.com']\n",
      "1104391-System.pdf ['I N V O I C E', 'Page 1 of 1', 'Invoice To: Invoice From: Remit To:', 'HOLIDAY INN INTERCONTINENTAL HOTELS GROUP SHANGHAI PUDONG MAIN', 'WUHAN RIVERSIDE (SHANGHAI) LTD BRANCH', '22ND FLOOR, CITIGROUP TOWER NO. 33, SC TOWER', 'NO.3 QINGCHUAN AVENUE, HANYANG', 'PUDONG NEW AREA, 201 CENTURY AVENUE', 'DISTRICT SHANGHAI 200120 PUDONG', 'WUHAN CHINA CURRENCY: CNY', 'WUHAN 430050 BANK ACCOUNT NUM:', '000000501511730884', 'CHINA', 'SHANGHAI PR 200127', 'CHINA', 'Customer #: 0684100 Tax Invoice #: P001104391 Total Rooms: 0', 'Holidex #: WUHQC Tax Invoice Date: 06-Sep-2024 Rooms Sold: 0', 'Buyer Tax Reg ID: CN999999999 Due Date: 15-Sep-2024 Rooms Available: 0', 'Seller Tax Reg Id: 913100007653255 Declaration Point: Invoice Gross Room 0.00', '44Y Revenue:', 'Date of tax Point: 06-Sep-2024', 'Exchange Rate: 1.00000000 Currency:', 'Tax Treatment: DSS - Domestic Service Sale', 'Net Gross Gross Base', 'Transaction Transaction Tax Tax Transaction Currency Base', 'Description Currency Amount Percent Amount Amount Amount Currency', 'RESERVATION FEE CNY 15,709.54 6.0000% 942.57 16,652.11 16,652.11 CNY', 'System Fund Cont 1% for AUGUST 2024', 'Amount Due CNY 15,709.54 942.57 16,652.11 16,652.11 CNY', 'Please remit your payment to the above bank account in the base currency of the invoice.', 'Either send your remittance advice to P O Box 223 St Leonards Australia 2065 or fax to +612 9437 6755 or email the electronic format to asia.', 'remit@ichotelsgroup.com', 'Should you have any queries please contact the Sydney Accounts Receivable Team on +612 9935 8300 or email them at asia.', 'remit@ichotelsgroup.com']\n",
      "1104392-System.pdf ['I N V O I C E', 'Page 1 of 1', 'Invoice To: Invoice From: Remit To:', 'HOLIDAY INN INTERCONTINENTAL HOTELS GROUP SHANGHAI PUDONG MAIN', 'WUHAN RIVERSIDE (SHANGHAI) LTD BRANCH', '22ND FLOOR, CITIGROUP TOWER NO. 33, SC TOWER', 'NO.3 QINGCHUAN AVENUE, HANYANG', 'PUDONG NEW AREA, 201 CENTURY AVENUE', 'DISTRICT SHANGHAI 200120 PUDONG', 'WUHAN CHINA CURRENCY: CNY', 'WUHAN 430050 BANK ACCOUNT NUM:', '000000501511730884', 'CHINA', 'SHANGHAI PR 200127', 'CHINA', 'Customer #: 0684100 Tax Invoice #: P001104392 Total Rooms: 0', 'Holidex #: WUHQC Tax Invoice Date: 02-Sep-2024 Rooms Sold: 0', 'Buyer Tax Reg ID: CN999999999 Due Date: 15-Sep-2024 Rooms Available: 0', 'Seller Tax Reg Id: 913100007653255 Declaration Point: Invoice Gross Room 0.00', '44Y Revenue:', 'Date of tax Point: 02-Sep-2024', 'Exchange Rate: 1.00000000 Currency:', 'Tax Treatment: DSS - Domestic Service Sale', 'Net Gross Gross Base', 'Transaction Transaction Tax Tax Transaction Currency Base', 'Description Currency Amount Percent Amount Amount Amount Currency', 'TECHNOLOGY FEE CNY 15,709.54 6.0000% 942.57 16,652.11 16,652.11 CNY', 'System Fund Cont 1% for AUGUST 2024', 'Amount Due CNY 15,709.54 942.57 16,652.11 16,652.11 CNY', 'Please remit your payment to the above bank account in the base currency of the invoice.', 'Either send your remittance advice to P O Box 223 St Leonards Australia 2065 or fax to +612 9437 6755 or email the electronic format to asia.', 'remit@ichotelsgroup.com', 'Should you have any queries please contact the Sydney Accounts Receivable Team on +612 9935 8300 or email them at asia.', 'remit@ichotelsgroup.com']\n"
     ]
    }
   ],
   "source": [
    "'''\n",
    "读取指定文件夹下所有\"CREDIT INVOICE\"PDF文件，\n",
    "并将每张INVOICE中的各项银行支付记录导入\n",
    "指定的\"Remittance\"excel文件中相应位置\n",
    "\n",
    "'''\n",
    "\n",
    "import pdfplumber\n",
    "import re\n",
    "import openpyxl\n",
    "import easygui\n",
    "import os\n",
    "\n",
    "# 先删除原始表的内容，只留表头\n",
    "msg = '请点选\"Remittance.xlsx\"'\n",
    "fname = easygui.fileopenbox(msg)\n",
    "path, file = os.path.split(fname)\n",
    "os.chdir(path)\n",
    "wb = openpyxl.load_workbook(fname)\n",
    "ws = wb.active\n",
    "start_row = [i.value for i in ws['A']].index('Customer Number') + 1\n",
    "max_row = ws.max_row\n",
    "for i in range(max_row + 1, start_row, -1):\n",
    "    ws.delete_rows(idx=i)\n",
    "\n",
    "regex_invoice_number = re.compile(r'Tax Invoice #: (?P<invoice_number>P\\d{9})')\n",
    "regex_invoice_date = re.compile(r'Tax Invoice Date: (?P<invoice_date>\\d{2}-\\w+-\\d{4})')\n",
    "regex_free_type = re.compile(r'(?P<free_type>.*)\\bCNY\\b .* CNY')\n",
    "pdf_files = [i for i in os.listdir(path) if i[-3:] == 'pdf']\n",
    "item_num = 0\n",
    "for pdf_file in pdf_files:\n",
    "    pdf = pdfplumber.open(pdf_file)\n",
    "    \n",
    "    for page in pdf.pages:\n",
    "        invoice = page.extract_text().split('\\n')\n",
    "        print(pdf_file,invoice)\n",
    "        item_line = 0\n",
    "        for line in invoice:\n",
    "            if line.startswith('Customer'):\n",
    "                mat = regex_invoice_number.search(line)\n",
    "                invoice_number = mat.group('invoice_number')\n",
    "\n",
    "            elif line.startswith('Holidex'):\n",
    "                mat = regex_invoice_date.search(line)\n",
    "                invoice_date = mat.group('invoice_date')\n",
    "                invoice_date = \"'\".join(invoice_date.split('-')[::-1][1:])\n",
    "            else:\n",
    "                continue\n",
    "        for line in invoice:\n",
    "            if line.endswith('CNY'):\n",
    "                if  line.startswith('Amount Due'):\n",
    "                    continue\n",
    "                elif  line.startswith('WUHAN CHINA'):\n",
    "                    continue\n",
    "                else :\n",
    "                    item_line += 1\n",
    "                    item_num += 1\n",
    "                    amounts = line.split(' ')\n",
    "                    amount = float(amounts[-2].replace('(', '-').replace(')', '').replace(',', ''))\n",
    "                    mat = regex_free_type.search(line)\n",
    "                    free_type = mat.group('free_type')\n",
    "                    row = ['684100', 'P6066', invoice_number, str(item_line), invoice_date, free_type, amount, 'CNY',\n",
    "                           amount, 'CNY', amount, 'CNY', '', '', 0, 0, '', '', '', '', \"\", '', amount, '']\n",
    "                    ws.append(row)\n",
    "      \n",
    "                      \n",
    "                \n",
    "ws[f'w{item_num + start_row + 1}'].value = f'=sum(W{start_row + 1}:W{item_num + start_row})'\n",
    "wb.save(fname)\n",
    "os.startfile(fname)\n",
    "\n",
    "\n",
    "\n",
    "\n",
    "\n",
    "\n",
    "\n",
    "\n",
    "\n",
    "\n",
    "\n",
    "\n"
   ]
  },
  {
   "cell_type": "code",
   "execution_count": 24,
   "id": "dd7f5031-c3f8-4fef-a9ea-6797d4b09fe6",
   "metadata": {},
   "outputs": [
    {
     "data": {
      "text/plain": [
       "['I N V O I C E',\n",
       " 'Page 1 of 1',\n",
       " 'Invoice To: Invoice From: Remit To:',\n",
       " 'HOLIDAY INN INTERCONTINENTAL HOTELS GROUP SHANGHAI PUDONG MAIN',\n",
       " 'WUHAN RIVERSIDE (SHANGHAI) LTD BRANCH',\n",
       " '22ND FLOOR, CITIGROUP TOWER NO. 33, SC TOWER',\n",
       " 'NO.3 QINGCHUAN AVENUE, HANYANG',\n",
       " 'PUDONG NEW AREA, 201 CENTURY AVENUE',\n",
       " 'DISTRICT SHANGHAI 200120 PUDONG',\n",
       " 'WUHAN CHINA CURRENCY: CNY',\n",
       " 'WUHAN 430050 BANK ACCOUNT NUM:',\n",
       " '000000501511730884',\n",
       " 'CHINA',\n",
       " 'SHANGHAI PR 200127',\n",
       " 'CHINA',\n",
       " 'Customer #: 0684100 Tax Invoice #: P001104392 Total Rooms: 0',\n",
       " 'Holidex #: WUHQC Tax Invoice Date: 02-Sep-2024 Rooms Sold: 0',\n",
       " 'Buyer Tax Reg ID: CN999999999 Due Date: 15-Sep-2024 Rooms Available: 0',\n",
       " 'Seller Tax Reg Id: 913100007653255 Declaration Point: Invoice Gross Room 0.00',\n",
       " '44Y Revenue:',\n",
       " 'Date of tax Point: 02-Sep-2024',\n",
       " 'Exchange Rate: 1.00000000 Currency:',\n",
       " 'Tax Treatment: DSS - Domestic Service Sale',\n",
       " 'Net Gross Gross Base',\n",
       " 'Transaction Transaction Tax Tax Transaction Currency Base',\n",
       " 'Description Currency Amount Percent Amount Amount Amount Currency',\n",
       " 'TECHNOLOGY FEE CNY 15,709.54 6.0000% 942.57 16,652.11 16,652.11 CNY',\n",
       " 'System Fund Cont 1% for AUGUST 2024',\n",
       " 'Amount Due CNY 15,709.54 942.57 16,652.11 16,652.11 CNY',\n",
       " 'Please remit your payment to the above bank account in the base currency of the invoice.',\n",
       " 'Either send your remittance advice to P O Box 223 St Leonards Australia 2065 or fax to +612 9437 6755 or email the electronic format to asia.',\n",
       " 'remit@ichotelsgroup.com',\n",
       " 'Should you have any queries please contact the Sydney Accounts Receivable Team on +612 9935 8300 or email them at asia.',\n",
       " 'remit@ichotelsgroup.com']"
      ]
     },
     "execution_count": 24,
     "metadata": {},
     "output_type": "execute_result"
    }
   ],
   "source": [
    "invoice"
   ]
  },
  {
   "cell_type": "code",
   "execution_count": 31,
   "id": "4474931b-2899-40fb-8fc3-829ad421c2ac",
   "metadata": {},
   "outputs": [
    {
     "data": {
      "text/plain": [
       "['WUHAN', 'CHINA', 'CURRENCY:', 'CNY']"
      ]
     },
     "execution_count": 31,
     "metadata": {},
     "output_type": "execute_result"
    }
   ],
   "source": [
    "amounts\n"
   ]
  },
  {
   "cell_type": "code",
   "execution_count": 12,
   "id": "43d3a672-f2f2-455a-8448-a7924e9124de",
   "metadata": {},
   "outputs": [],
   "source": [
    "pdf_file = r\"F:\\repos\\fisha\\qingchuan\\1104390-System.pdf\"\n",
    "pdf = pdfplumber.open(pdf_file)\n",
    "\n",
    "for page in pdf.pages:\n",
    "    invoice = page.extract_text().split('\\n')\n",
    "    print(pdf_file,invoice)\n",
    "item_line = 0\n",
    "for line in invoice:\n",
    "    if line.startswith('Customer'):\n",
    "        mat = regex_invoice_number.search(line)\n",
    "        invoice_number = mat.group('invoice_number')\n",
    "\n",
    "    elif line.startswith('Holidex'):\n",
    "        mat = regex_invoice_date.search(line)\n",
    "        invoice_date = mat.group('invoice_date')\n",
    "        invoice_date = \"'\".join(invoice_date.split('-')[::-1][1:])\n",
    "    else:\n",
    "        continue\n",
    "for line in invoice:\n",
    "    if line.endswith(\"CNY',\"):\n",
    "        print('haha')\n",
    "        line = line[:-2]\n",
    "        if not line.startswith('Amount Due'):\n",
    "            item_line += 1\n",
    "            item_num += 1\n",
    "            amounts = line.split(' ')\n",
    "            amount = float(amounts[-2].replace('(', '-').replace(')', '').replace(',', ''))\n",
    "            mat = regex_free_type.search(line)\n",
    "            free_type = mat.group('free_type')\n",
    "            row = ['684100', 'P6066', invoice_number, str(item_line), invoice_date, free_type, amount, 'CNY',\n",
    "                   amount, 'CNY', amount, 'CNY', '', '', 0, 0, '', '', '', '', \"\", '', amount, '']\n",
    "            # ws.append(row)\n",
    "    else :\n",
    "        continue\n",
    "        \n"
   ]
  },
  {
   "cell_type": "code",
   "execution_count": 17,
   "id": "77c12ec4-27eb-425b-95be-c7bb44544e78",
   "metadata": {},
   "outputs": [
    {
     "data": {
      "text/plain": [
       "['I N V O I C E',\n",
       " 'Page 1 of 1',\n",
       " 'Invoice To: Invoice From: Remit To:',\n",
       " 'HOLIDAY INN INTERCONTINENTAL HOTELS GROUP SHANGHAI PUDONG MAIN',\n",
       " 'WUHAN RIVERSIDE (SHANGHAI) LTD BRANCH',\n",
       " '22ND FLOOR, CITIGROUP TOWER NO. 33, SC TOWER',\n",
       " 'NO.3 QINGCHUAN AVENUE, HANYANG',\n",
       " 'PUDONG NEW AREA, 201 CENTURY AVENUE',\n",
       " 'DISTRICT SHANGHAI 200120 PUDONG',\n",
       " 'WUHAN CHINA CURRENCY: CNY',\n",
       " 'WUHAN 430050 BANK ACCOUNT NUM:',\n",
       " '000000501511730884',\n",
       " 'CHINA',\n",
       " 'SHANGHAI PR 200127',\n",
       " 'CHINA',\n",
       " 'Customer #: 0684100 Tax Invoice #: P001104392 Total Rooms: 0',\n",
       " 'Holidex #: WUHQC Tax Invoice Date: 02-Sep-2024 Rooms Sold: 0',\n",
       " 'Buyer Tax Reg ID: CN999999999 Due Date: 15-Sep-2024 Rooms Available: 0',\n",
       " 'Seller Tax Reg Id: 913100007653255 Declaration Point: Invoice Gross Room 0.00',\n",
       " '44Y Revenue:',\n",
       " 'Date of tax Point: 02-Sep-2024',\n",
       " 'Exchange Rate: 1.00000000 Currency:',\n",
       " 'Tax Treatment: DSS - Domestic Service Sale',\n",
       " 'Net Gross Gross Base',\n",
       " 'Transaction Transaction Tax Tax Transaction Currency Base',\n",
       " 'Description Currency Amount Percent Amount Amount Amount Currency',\n",
       " 'TECHNOLOGY FEE CNY 15,709.54 6.0000% 942.57 16,652.11 16,652.11 CNY',\n",
       " 'System Fund Cont 1% for AUGUST 2024',\n",
       " 'Amount Due CNY 15,709.54 942.57 16,652.11 16,652.11 CNY',\n",
       " 'Please remit your payment to the above bank account in the base currency of the invoice.',\n",
       " 'Either send your remittance advice to P O Box 223 St Leonards Australia 2065 or fax to +612 9437 6755 or email the electronic format to asia.',\n",
       " 'remit@ichotelsgroup.com',\n",
       " 'Should you have any queries please contact the Sydney Accounts Receivable Team on +612 9935 8300 or email them at asia.',\n",
       " 'remit@ichotelsgroup.com']"
      ]
     },
     "execution_count": 17,
     "metadata": {},
     "output_type": "execute_result"
    }
   ],
   "source": [
    "invoice"
   ]
  },
  {
   "cell_type": "code",
   "execution_count": null,
   "id": "44a939c9-d8cb-490a-adf1-923786527d8e",
   "metadata": {},
   "outputs": [],
   "source": []
  },
  {
   "cell_type": "code",
   "execution_count": 16,
   "id": "22007c1f-5e6a-4a46-8367-5b9324bddbe6",
   "metadata": {},
   "outputs": [
    {
     "data": {
      "text/plain": [
       "['WUHAN', 'CHINA', 'CURRENCY:', 'CNY']"
      ]
     },
     "execution_count": 16,
     "metadata": {},
     "output_type": "execute_result"
    }
   ],
   "source": [
    "amounts"
   ]
  },
  {
   "cell_type": "code",
   "execution_count": null,
   "id": "4d7c9253-7f24-4234-8746-0209031e9afd",
   "metadata": {},
   "outputs": [],
   "source": []
  },
  {
   "cell_type": "code",
   "execution_count": null,
   "id": "88cb9c75-2694-4ee5-8fdf-3664ef47d77b",
   "metadata": {},
   "outputs": [],
   "source": [
    "item_line = 0\n",
    "for line in invoice:\n",
    "    if line.startswith('Customer'):\n",
    "        mat = regex_invoice_number.search(line)\n",
    "        invoice_number = mat.group('invoice_number')\n",
    "\n",
    "    elif line.startswith('Holidex'):\n",
    "        mat = regex_invoice_date.search(line)\n",
    "        invoice_date = mat.group('invoice_date')\n",
    "        invoice_date = \"'\".join(invoice_date.split('-')[::-1][1:])\n",
    "    else:\n",
    "        continue\n",
    "invoice_number"
   ]
  },
  {
   "cell_type": "code",
   "execution_count": 27,
   "id": "3ff959b3-9129-4754-a1b6-d45393b17181",
   "metadata": {},
   "outputs": [
    {
     "data": {
      "text/plain": [
       "['WUHAN', 'CHINA', 'CURRENCY:', 'CNY']"
      ]
     },
     "execution_count": 27,
     "metadata": {},
     "output_type": "execute_result"
    }
   ],
   "source": [
    "amounts"
   ]
  },
  {
   "cell_type": "code",
   "execution_count": null,
   "id": "b0f9eda6-8962-4c0e-907a-9c5efe081d6a",
   "metadata": {},
   "outputs": [],
   "source": [
    "str = \"'MARKETING FEE CNY 31,419.09 6.0000% 1,885.15 33,304.24 33,304.24 CNY',\"\n",
    "if str.endswith(\"CNY',\"):\n",
    "    str1 = str.replace(\"CNY',\",'CNY')\n",
    "else:\n",
    "    pass\n",
    "str1\n",
    "                "
   ]
  },
  {
   "cell_type": "code",
   "execution_count": 9,
   "id": "4d7eebd7-ec4b-4afa-a52f-7b6002452a4e",
   "metadata": {},
   "outputs": [
    {
     "data": {
      "text/plain": [
       "\"'MARKETING FEE CNY 31,419.09 6.0000% 1,885.15 33,304.24 33,304.24 CNY\""
      ]
     },
     "execution_count": 9,
     "metadata": {},
     "output_type": "execute_result"
    }
   ],
   "source": [
    "line = r\"'MARKETING FEE CNY 31,419.09 6.0000% 1,885.15 33,304.24 33,304.24 CNY',\"\n",
    "line1 = line[:-2]\n",
    "line1\n"
   ]
  },
  {
   "cell_type": "code",
   "execution_count": null,
   "id": "ab213ebc-7d8b-45a0-abf0-11bf6da2ee17",
   "metadata": {},
   "outputs": [],
   "source": [
    "'TECHNOLOGY FEE CNY 15,709.54 6.0000% 942.57 16,652.11 16,652.11 CNY',"
   ]
  },
  {
   "cell_type": "code",
   "execution_count": null,
   "id": "2af247a9-1ba0-45e7-83bc-62f6ae780022",
   "metadata": {},
   "outputs": [],
   "source": [
    "pdf_file = r\"F:\\repos\\fisha\\qingchuan\\1104390-System.pdf\"\n",
    "pdf = pdfplumber.open(pdf_file)\n",
    "data =[]\n",
    "\n",
    "for page in pdf.pages:\n",
    "    invoice = page.extract_text().split('\\n')\n",
    "invoice\n",
    "\n",
    "        "
   ]
  },
  {
   "cell_type": "code",
   "execution_count": null,
   "id": "bbfc2b8f-0ac3-4d52-8920-158cca86ba16",
   "metadata": {},
   "outputs": [],
   "source": [
    "item_line = 0\n",
    "for line in invoice:\n",
    "    if line.startswith('Customer'):\n",
    "        mat = regex_invoice_number.search(line)\n",
    "        invoice_number = mat.group('invoice_number')\n",
    "    elif line.startswith('Holidex'):\n",
    "        mat = regex_invoice_date.search(line)\n",
    "        invoice_date = mat.group('invoice_date')\n",
    "        invoice_date = \"'\".join(invoice_date.split('-')[::-1][1:])\n",
    "    else:\n",
    "        continue\n"
   ]
  },
  {
   "cell_type": "code",
   "execution_count": null,
   "id": "17e28a9f-dee7-41d8-84b4-9f5a9f034428",
   "metadata": {},
   "outputs": [],
   "source": [
    "for line in invoice:\n",
    "    if line.endswith(\"CNY',\"):\n",
    "        if not line.startswith('Amount Due'):\n",
    "            line = line.replace(\"CNY',\",'CNY')\n",
    "            if line.split(' ')[-1] == 'CNY':\n",
    "                item_line += 1\n",
    "                item_num += 1\n",
    "                amounts = line.split(' ')\n",
    "                amount = float(amounts[-2].replace('(', '-').replace(')', '').replace(',', ''))\n",
    "                mat = regex_free_type.search(line)\n",
    "                free_type = mat.group('free_type')\n",
    "                row = ['684100', 'P6066', invoice_number, str(item_line), invoice_date, free_type, amount, 'CNY',\n",
    "                       amount, 'CNY', amount, 'CNY', '', '', 0, 0, '', '', '', '', \"\", '', amount, '']\n",
    "                data.append(row)"
   ]
  },
  {
   "cell_type": "code",
   "execution_count": 14,
   "id": "de49236e-7e09-4844-a857-b3a31d90f64b",
   "metadata": {},
   "outputs": [
    {
     "ename": "ValueError",
     "evalue": "could not convert string to float: 'CURRENCY:'",
     "output_type": "error",
     "traceback": [
      "\u001b[1;31m---------------------------------------------------------------------------\u001b[0m",
      "\u001b[1;31mValueError\u001b[0m                                Traceback (most recent call last)",
      "Cell \u001b[1;32mIn[14], line 54\u001b[0m\n\u001b[0;32m     52\u001b[0m item_num \u001b[38;5;241m+\u001b[39m\u001b[38;5;241m=\u001b[39m \u001b[38;5;241m1\u001b[39m\n\u001b[0;32m     53\u001b[0m amounts \u001b[38;5;241m=\u001b[39m line\u001b[38;5;241m.\u001b[39msplit(\u001b[38;5;124m'\u001b[39m\u001b[38;5;124m \u001b[39m\u001b[38;5;124m'\u001b[39m)\n\u001b[1;32m---> 54\u001b[0m amount \u001b[38;5;241m=\u001b[39m \u001b[38;5;28;43mfloat\u001b[39;49m\u001b[43m(\u001b[49m\u001b[43mamounts\u001b[49m\u001b[43m[\u001b[49m\u001b[38;5;241;43m-\u001b[39;49m\u001b[38;5;241;43m2\u001b[39;49m\u001b[43m]\u001b[49m\u001b[38;5;241;43m.\u001b[39;49m\u001b[43mreplace\u001b[49m\u001b[43m(\u001b[49m\u001b[38;5;124;43m'\u001b[39;49m\u001b[38;5;124;43m(\u001b[39;49m\u001b[38;5;124;43m'\u001b[39;49m\u001b[43m,\u001b[49m\u001b[43m \u001b[49m\u001b[38;5;124;43m'\u001b[39;49m\u001b[38;5;124;43m-\u001b[39;49m\u001b[38;5;124;43m'\u001b[39;49m\u001b[43m)\u001b[49m\u001b[38;5;241;43m.\u001b[39;49m\u001b[43mreplace\u001b[49m\u001b[43m(\u001b[49m\u001b[38;5;124;43m'\u001b[39;49m\u001b[38;5;124;43m)\u001b[39;49m\u001b[38;5;124;43m'\u001b[39;49m\u001b[43m,\u001b[49m\u001b[43m \u001b[49m\u001b[38;5;124;43m'\u001b[39;49m\u001b[38;5;124;43m'\u001b[39;49m\u001b[43m)\u001b[49m\u001b[38;5;241;43m.\u001b[39;49m\u001b[43mreplace\u001b[49m\u001b[43m(\u001b[49m\u001b[38;5;124;43m'\u001b[39;49m\u001b[38;5;124;43m,\u001b[39;49m\u001b[38;5;124;43m'\u001b[39;49m\u001b[43m,\u001b[49m\u001b[43m \u001b[49m\u001b[38;5;124;43m'\u001b[39;49m\u001b[38;5;124;43m'\u001b[39;49m\u001b[43m)\u001b[49m\u001b[43m)\u001b[49m\n\u001b[0;32m     55\u001b[0m mat \u001b[38;5;241m=\u001b[39m regex_free_type\u001b[38;5;241m.\u001b[39msearch(line)\n\u001b[0;32m     56\u001b[0m free_type \u001b[38;5;241m=\u001b[39m mat\u001b[38;5;241m.\u001b[39mgroup(\u001b[38;5;124m'\u001b[39m\u001b[38;5;124mfree_type\u001b[39m\u001b[38;5;124m'\u001b[39m)\n",
      "\u001b[1;31mValueError\u001b[0m: could not convert string to float: 'CURRENCY:'"
     ]
    }
   ],
   "source": [
    "'''\n",
    "读取指定文件夹下所有\"CREDIT INVOICE\"PDF文件，\n",
    "并将每张INVOICE中的各项银行支付记录导入\n",
    "指定的\"Remittance\"excel文件中相应位置\n",
    "\n",
    "'''\n",
    "\n",
    "import pdfplumber\n",
    "import re\n",
    "import openpyxl\n",
    "import easygui\n",
    "import os\n",
    "\n",
    "# 先删除原始表的内容，只留表头\n",
    "msg = '请点选\"Remittance.xlsx\"'\n",
    "fname = easygui.fileopenbox(msg)\n",
    "path, file = os.path.split(fname)\n",
    "os.chdir(path)\n",
    "wb = openpyxl.load_workbook(fname)\n",
    "ws = wb.active\n",
    "start_row = [i.value for i in ws['A']].index('Customer Number') + 1\n",
    "max_row = ws.max_row\n",
    "for i in range(max_row + 1, start_row, -1):\n",
    "    ws.delete_rows(idx=i)\n",
    "\n",
    "regex_invoice_number = re.compile(r'Tax Invoice #: (?P<invoice_number>P\\d{9})')\n",
    "regex_invoice_date = re.compile(r'Tax Invoice Date: (?P<invoice_date>\\d{2}-\\w+-\\d{4})')\n",
    "regex_free_type = re.compile(r'(?P<free_type>.*)\\bCNY\\b .* CNY')\n",
    "pdf_files = [i for i in os.listdir(path) if i[-3:] == 'pdf']\n",
    "item_num = 0\n",
    "for pdf_file in pdf_files:\n",
    "    pdf = pdfplumber.open(pdf_file)\n",
    "    for page in pdf.pages:\n",
    "        invoice = page.extract_text().split('\\n')\n",
    "        item_line = 0\n",
    "        for line in invoice:\n",
    "            if line.startswith('Customer'):\n",
    "                mat = regex_invoice_number.search(line)\n",
    "                invoice_number = mat.group('invoice_number')\n",
    "\n",
    "            elif line.startswith('Holidex'):\n",
    "                mat = regex_invoice_date.search(line)\n",
    "                invoice_date = mat.group('invoice_date')\n",
    "                invoice_date = \"'\".join(invoice_date.split('-')[::-1][1:])\n",
    "            else:\n",
    "                continue\n",
    "        for line in invoice:\n",
    "            if line.endswith('CNY'):\n",
    "                if not line.startswith('Amount Due'):\n",
    "                    if line.split(' ')[-1] == 'CNY':\n",
    "                        item_line += 1\n",
    "                        item_num += 1\n",
    "                        amounts = line.split(' ')\n",
    "                        amount = float(amounts[-2].replace('(', '-').replace(')', '').replace(',', ''))\n",
    "                        mat = regex_free_type.search(line)\n",
    "                        free_type = mat.group('free_type')\n",
    "                        row = ['684100', 'P6066', invoice_number, str(item_line), invoice_date, free_type, amount, 'CNY',\n",
    "                               amount, 'CNY', amount, 'CNY', '', '', 0, 0, '', '', '', '', \"\", '', amount, '']\n",
    "                        ws.append(row)\n",
    "ws[f'w{item_num + start_row + 1}'].value = f'=sum(W{start_row + 1}:W{item_num + start_row})'\n",
    "wb.save(fname)\n",
    "os.startfile(fname)\n",
    "\n",
    "\n",
    "\n",
    "\n",
    "\n",
    "\n",
    "\n",
    "\n",
    "\n",
    "\n",
    "\n",
    "\n"
   ]
  },
  {
   "cell_type": "code",
   "execution_count": null,
   "id": "e71d841d-8b9f-4f2a-9f01-93d563a9ad17",
   "metadata": {},
   "outputs": [],
   "source": [
    "for line in invoice:\n",
    "    if line.endswith('CNY'):\n",
    "        if not line.startswith('Amount Due'):\n",
    "            if line.endswith(\"CNY',\"):\n",
    "                line = line.replace(\"CNY',\",'CNY')\n",
    "                if line.split(' ')[-1] == 'CNY':\n",
    "                    item_line += 1\n",
    "                    item_num += 1\n",
    "                    amounts = line.split(' ')\n",
    "                    amount = float(amounts[-2].replace('(', '-').replace(')', '').replace(',', ''))\n",
    "                    mat = regex_free_type.search(line)\n",
    "                    free_type = mat.group('free_type')\n",
    "                    row = ['684100', 'P6066', invoice_number, str(item_line), invoice_date, free_type, amount, 'CNY',\n",
    "                           amount, 'CNY', amount, 'CNY', '', '', 0, 0, '', '', '', '', \"\", '', amount, '']\n",
    "                    ws.append(row)\n",
    "            else:\n",
    "                pass\n",
    "                "
   ]
  }
 ],
 "metadata": {
  "kernelspec": {
   "display_name": "Python 3 (ipykernel)",
   "language": "python",
   "name": "python3"
  },
  "language_info": {
   "codemirror_mode": {
    "name": "ipython",
    "version": 3
   },
   "file_extension": ".py",
   "mimetype": "text/x-python",
   "name": "python",
   "nbconvert_exporter": "python",
   "pygments_lexer": "ipython3",
   "version": "3.8.2"
  }
 },
 "nbformat": 4,
 "nbformat_minor": 5
}
