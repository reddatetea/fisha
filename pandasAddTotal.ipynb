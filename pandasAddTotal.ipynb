{
 "cells": [
  {
   "cell_type": "code",
   "execution_count": 1,
   "id": "8ae4f7c5-730b-47c7-adfc-12f4ffd9cb0c",
   "metadata": {},
   "outputs": [],
   "source": [
    "import pandas as pd"
   ]
  },
  {
   "cell_type": "code",
   "execution_count": 2,
   "id": "e42a00d6-f883-4596-bf5d-a8879d0e7754",
   "metadata": {},
   "outputs": [
    {
     "data": {
      "text/html": [
       "<div>\n",
       "<style scoped>\n",
       "    .dataframe tbody tr th:only-of-type {\n",
       "        vertical-align: middle;\n",
       "    }\n",
       "\n",
       "    .dataframe tbody tr th {\n",
       "        vertical-align: top;\n",
       "    }\n",
       "\n",
       "    .dataframe thead th {\n",
       "        text-align: right;\n",
       "    }\n",
       "</style>\n",
       "<table border=\"1\" class=\"dataframe\">\n",
       "  <thead>\n",
       "    <tr style=\"text-align: right;\">\n",
       "      <th></th>\n",
       "      <th>用户实付金额(元)</th>\n",
       "      <th>商家实收金额(元)</th>\n",
       "      <th>快递单号</th>\n",
       "      <th>快递公司</th>\n",
       "    </tr>\n",
       "  </thead>\n",
       "  <tbody>\n",
       "    <tr>\n",
       "      <th>0</th>\n",
       "      <td>7.40</td>\n",
       "      <td>7.84</td>\n",
       "      <td>YT8706037955391</td>\n",
       "      <td>圆通快递</td>\n",
       "    </tr>\n",
       "    <tr>\n",
       "      <th>1</th>\n",
       "      <td>7.39</td>\n",
       "      <td>7.83</td>\n",
       "      <td>YT8706037955391</td>\n",
       "      <td>圆通快递</td>\n",
       "    </tr>\n",
       "    <tr>\n",
       "      <th>2</th>\n",
       "      <td>7.85</td>\n",
       "      <td>7.85</td>\n",
       "      <td>YT8706037946250</td>\n",
       "      <td>圆通快递</td>\n",
       "    </tr>\n",
       "    <tr>\n",
       "      <th>3</th>\n",
       "      <td>8.62</td>\n",
       "      <td>9.57</td>\n",
       "      <td>YT8706037936820</td>\n",
       "      <td>圆通快递</td>\n",
       "    </tr>\n",
       "  </tbody>\n",
       "</table>\n",
       "</div>"
      ],
      "text/plain": [
       "   用户实付金额(元)  商家实收金额(元)             快递单号  快递公司\n",
       "0       7.40       7.84  YT8706037955391  圆通快递\n",
       "1       7.39       7.83  YT8706037955391  圆通快递\n",
       "2       7.85       7.85  YT8706037946250  圆通快递\n",
       "3       8.62       9.57  YT8706037936820  圆通快递"
      ]
     },
     "execution_count": 2,
     "metadata": {},
     "output_type": "execute_result"
    }
   ],
   "source": [
    "df = pd.read_clipboard()\n",
    "df"
   ]
  },
  {
   "cell_type": "code",
   "execution_count": 3,
   "id": "1cfc1407-c853-465c-abd3-7706667767bb",
   "metadata": {},
   "outputs": [
    {
     "data": {
      "text/plain": [
       "用户实付金额(元)    31.26\n",
       "商家实收金额(元)    33.09\n",
       "快递单号              \n",
       "快递公司            合计\n",
       "dtype: object"
      ]
     },
     "execution_count": 3,
     "metadata": {},
     "output_type": "execute_result"
    }
   ],
   "source": [
    "df1 = df.copy()\n",
    "total = df1.sum()\n",
    "total.快递公司 = '合计'\n",
    "total.快递单号 = ''\n",
    "total"
   ]
  },
  {
   "cell_type": "code",
   "execution_count": 4,
   "id": "25f8ca0c-1584-4cff-aad6-c30a5e473b07",
   "metadata": {},
   "outputs": [
    {
     "data": {
      "text/html": [
       "<div>\n",
       "<style scoped>\n",
       "    .dataframe tbody tr th:only-of-type {\n",
       "        vertical-align: middle;\n",
       "    }\n",
       "\n",
       "    .dataframe tbody tr th {\n",
       "        vertical-align: top;\n",
       "    }\n",
       "\n",
       "    .dataframe thead th {\n",
       "        text-align: right;\n",
       "    }\n",
       "</style>\n",
       "<table border=\"1\" class=\"dataframe\">\n",
       "  <thead>\n",
       "    <tr style=\"text-align: right;\">\n",
       "      <th></th>\n",
       "      <th>用户实付金额(元)</th>\n",
       "      <th>商家实收金额(元)</th>\n",
       "      <th>快递单号</th>\n",
       "      <th>快递公司</th>\n",
       "    </tr>\n",
       "  </thead>\n",
       "  <tbody>\n",
       "    <tr>\n",
       "      <th>0</th>\n",
       "      <td>7.4</td>\n",
       "      <td>7.84</td>\n",
       "      <td>YT8706037955391</td>\n",
       "      <td>圆通快递</td>\n",
       "    </tr>\n",
       "    <tr>\n",
       "      <th>1</th>\n",
       "      <td>7.39</td>\n",
       "      <td>7.83</td>\n",
       "      <td>YT8706037955391</td>\n",
       "      <td>圆通快递</td>\n",
       "    </tr>\n",
       "    <tr>\n",
       "      <th>2</th>\n",
       "      <td>7.85</td>\n",
       "      <td>7.85</td>\n",
       "      <td>YT8706037946250</td>\n",
       "      <td>圆通快递</td>\n",
       "    </tr>\n",
       "    <tr>\n",
       "      <th>3</th>\n",
       "      <td>8.62</td>\n",
       "      <td>9.57</td>\n",
       "      <td>YT8706037936820</td>\n",
       "      <td>圆通快递</td>\n",
       "    </tr>\n",
       "    <tr>\n",
       "      <th>0</th>\n",
       "      <td>31.26</td>\n",
       "      <td>33.09</td>\n",
       "      <td></td>\n",
       "      <td>合计</td>\n",
       "    </tr>\n",
       "  </tbody>\n",
       "</table>\n",
       "</div>"
      ],
      "text/plain": [
       "  用户实付金额(元) 商家实收金额(元)             快递单号  快递公司\n",
       "0       7.4      7.84  YT8706037955391  圆通快递\n",
       "1      7.39      7.83  YT8706037955391  圆通快递\n",
       "2      7.85      7.85  YT8706037946250  圆通快递\n",
       "3      8.62      9.57  YT8706037936820  圆通快递\n",
       "0     31.26     33.09                     合计"
      ]
     },
     "execution_count": 4,
     "metadata": {},
     "output_type": "execute_result"
    }
   ],
   "source": [
    "#方法一\n",
    "df_total1 = pd.concat([df1,pd.DataFrame(total).T])\n",
    "df_total1"
   ]
  },
  {
   "cell_type": "code",
   "execution_count": 5,
   "id": "d49c79e0-06fe-4489-8311-4f6593c050be",
   "metadata": {},
   "outputs": [
    {
     "data": {
      "text/html": [
       "<div>\n",
       "<style scoped>\n",
       "    .dataframe tbody tr th:only-of-type {\n",
       "        vertical-align: middle;\n",
       "    }\n",
       "\n",
       "    .dataframe tbody tr th {\n",
       "        vertical-align: top;\n",
       "    }\n",
       "\n",
       "    .dataframe thead th {\n",
       "        text-align: right;\n",
       "    }\n",
       "</style>\n",
       "<table border=\"1\" class=\"dataframe\">\n",
       "  <thead>\n",
       "    <tr style=\"text-align: right;\">\n",
       "      <th></th>\n",
       "      <th>用户实付金额(元)</th>\n",
       "      <th>商家实收金额(元)</th>\n",
       "      <th>快递单号</th>\n",
       "      <th>快递公司</th>\n",
       "    </tr>\n",
       "  </thead>\n",
       "  <tbody>\n",
       "    <tr>\n",
       "      <th>0</th>\n",
       "      <td>7.4</td>\n",
       "      <td>7.84</td>\n",
       "      <td>YT8706037955391</td>\n",
       "      <td>圆通快递</td>\n",
       "    </tr>\n",
       "    <tr>\n",
       "      <th>1</th>\n",
       "      <td>7.39</td>\n",
       "      <td>7.83</td>\n",
       "      <td>YT8706037955391</td>\n",
       "      <td>圆通快递</td>\n",
       "    </tr>\n",
       "    <tr>\n",
       "      <th>2</th>\n",
       "      <td>7.85</td>\n",
       "      <td>7.85</td>\n",
       "      <td>YT8706037946250</td>\n",
       "      <td>圆通快递</td>\n",
       "    </tr>\n",
       "    <tr>\n",
       "      <th>3</th>\n",
       "      <td>8.62</td>\n",
       "      <td>9.57</td>\n",
       "      <td>YT8706037936820</td>\n",
       "      <td>圆通快递</td>\n",
       "    </tr>\n",
       "    <tr>\n",
       "      <th>0</th>\n",
       "      <td>31.26</td>\n",
       "      <td>33.09</td>\n",
       "      <td></td>\n",
       "      <td>合计</td>\n",
       "    </tr>\n",
       "  </tbody>\n",
       "</table>\n",
       "</div>"
      ],
      "text/plain": [
       "  用户实付金额(元) 商家实收金额(元)             快递单号  快递公司\n",
       "0       7.4      7.84  YT8706037955391  圆通快递\n",
       "1      7.39      7.83  YT8706037955391  圆通快递\n",
       "2      7.85      7.85  YT8706037946250  圆通快递\n",
       "3      8.62      9.57  YT8706037936820  圆通快递\n",
       "0     31.26     33.09                     合计"
      ]
     },
     "execution_count": 5,
     "metadata": {},
     "output_type": "execute_result"
    }
   ],
   "source": [
    "#方法二\n",
    "df_total2 = pd.concat([df1,total.to_frame().T])\n",
    "df_total2"
   ]
  },
  {
   "cell_type": "code",
   "execution_count": 29,
   "id": "d1440f81-1d40-4213-a510-26c05372da70",
   "metadata": {},
   "outputs": [
    {
     "data": {
      "text/html": [
       "<div>\n",
       "<style scoped>\n",
       "    .dataframe tbody tr th:only-of-type {\n",
       "        vertical-align: middle;\n",
       "    }\n",
       "\n",
       "    .dataframe tbody tr th {\n",
       "        vertical-align: top;\n",
       "    }\n",
       "\n",
       "    .dataframe thead th {\n",
       "        text-align: right;\n",
       "    }\n",
       "</style>\n",
       "<table border=\"1\" class=\"dataframe\">\n",
       "  <thead>\n",
       "    <tr style=\"text-align: right;\">\n",
       "      <th></th>\n",
       "      <th>用户实付金额(元)</th>\n",
       "      <th>商家实收金额(元)</th>\n",
       "      <th>快递单号</th>\n",
       "      <th>快递公司</th>\n",
       "    </tr>\n",
       "  </thead>\n",
       "  <tbody>\n",
       "    <tr>\n",
       "      <th>0</th>\n",
       "      <td>7.4</td>\n",
       "      <td>7.84</td>\n",
       "      <td>YT8706037955391</td>\n",
       "      <td>圆通快递</td>\n",
       "    </tr>\n",
       "    <tr>\n",
       "      <th>1</th>\n",
       "      <td>7.39</td>\n",
       "      <td>7.83</td>\n",
       "      <td>YT8706037955391</td>\n",
       "      <td>圆通快递</td>\n",
       "    </tr>\n",
       "    <tr>\n",
       "      <th>2</th>\n",
       "      <td>7.85</td>\n",
       "      <td>7.85</td>\n",
       "      <td>YT8706037946250</td>\n",
       "      <td>圆通快递</td>\n",
       "    </tr>\n",
       "    <tr>\n",
       "      <th>3</th>\n",
       "      <td>8.62</td>\n",
       "      <td>9.57</td>\n",
       "      <td>YT8706037936820</td>\n",
       "      <td>圆通快递</td>\n",
       "    </tr>\n",
       "    <tr>\n",
       "      <th>合计</th>\n",
       "      <td>31.26</td>\n",
       "      <td>33.09</td>\n",
       "      <td>YT8706037955391YT8706037955391YT8706037946250Y...</td>\n",
       "      <td>圆通快递圆通快递圆通快递圆通快递</td>\n",
       "    </tr>\n",
       "  </tbody>\n",
       "</table>\n",
       "</div>"
      ],
      "text/plain": [
       "   用户实付金额(元) 商家实收金额(元)                                               快递单号  \\\n",
       "0        7.4      7.84                                    YT8706037955391   \n",
       "1       7.39      7.83                                    YT8706037955391   \n",
       "2       7.85      7.85                                    YT8706037946250   \n",
       "3       8.62      9.57                                    YT8706037936820   \n",
       "合计     31.26     33.09  YT8706037955391YT8706037955391YT8706037946250Y...   \n",
       "\n",
       "                快递公司  \n",
       "0               圆通快递  \n",
       "1               圆通快递  \n",
       "2               圆通快递  \n",
       "3               圆通快递  \n",
       "合计  圆通快递圆通快递圆通快递圆通快递  "
      ]
     },
     "execution_count": 29,
     "metadata": {},
     "output_type": "execute_result"
    }
   ],
   "source": [
    "#方法三\n",
    "df_total5 = pd.concat([df1,df1.sum().rename('合计').to_frame().T])\n",
    "df_total5"
   ]
  },
  {
   "cell_type": "code",
   "execution_count": 6,
   "id": "9144919e-502c-4448-8103-49929e392d8e",
   "metadata": {},
   "outputs": [
    {
     "data": {
      "text/html": [
       "<div>\n",
       "<style scoped>\n",
       "    .dataframe tbody tr th:only-of-type {\n",
       "        vertical-align: middle;\n",
       "    }\n",
       "\n",
       "    .dataframe tbody tr th {\n",
       "        vertical-align: top;\n",
       "    }\n",
       "\n",
       "    .dataframe thead th {\n",
       "        text-align: right;\n",
       "    }\n",
       "</style>\n",
       "<table border=\"1\" class=\"dataframe\">\n",
       "  <thead>\n",
       "    <tr style=\"text-align: right;\">\n",
       "      <th></th>\n",
       "      <th>用户实付金额(元)</th>\n",
       "      <th>商家实收金额(元)</th>\n",
       "      <th>快递单号</th>\n",
       "      <th>快递公司</th>\n",
       "    </tr>\n",
       "  </thead>\n",
       "  <tbody>\n",
       "    <tr>\n",
       "      <th>0</th>\n",
       "      <td>7.4</td>\n",
       "      <td>7.84</td>\n",
       "      <td>YT8706037955391</td>\n",
       "      <td>圆通快递</td>\n",
       "    </tr>\n",
       "    <tr>\n",
       "      <th>1</th>\n",
       "      <td>7.39</td>\n",
       "      <td>7.83</td>\n",
       "      <td>YT8706037955391</td>\n",
       "      <td>圆通快递</td>\n",
       "    </tr>\n",
       "    <tr>\n",
       "      <th>2</th>\n",
       "      <td>7.85</td>\n",
       "      <td>7.85</td>\n",
       "      <td>YT8706037946250</td>\n",
       "      <td>圆通快递</td>\n",
       "    </tr>\n",
       "    <tr>\n",
       "      <th>3</th>\n",
       "      <td>8.62</td>\n",
       "      <td>9.57</td>\n",
       "      <td>YT8706037936820</td>\n",
       "      <td>圆通快递</td>\n",
       "    </tr>\n",
       "    <tr>\n",
       "      <th>0</th>\n",
       "      <td>31.26</td>\n",
       "      <td>33.09</td>\n",
       "      <td></td>\n",
       "      <td>小计</td>\n",
       "    </tr>\n",
       "  </tbody>\n",
       "</table>\n",
       "</div>"
      ],
      "text/plain": [
       "  用户实付金额(元) 商家实收金额(元)             快递单号  快递公司\n",
       "0       7.4      7.84  YT8706037955391  圆通快递\n",
       "1      7.39      7.83  YT8706037955391  圆通快递\n",
       "2      7.85      7.85  YT8706037946250  圆通快递\n",
       "3      8.62      9.57  YT8706037936820  圆通快递\n",
       "0     31.26     33.09                     小计"
      ]
     },
     "execution_count": 6,
     "metadata": {},
     "output_type": "execute_result"
    }
   ],
   "source": [
    "#方法四\n",
    "dic = dict(total)\n",
    "dic.update({'快递公司':'小计'})\n",
    "df_total3 = pd.concat([df1,pd.DataFrame.from_dict(dic,orient = 'index').T])\n",
    "df_total3"
   ]
  },
  {
   "cell_type": "code",
   "execution_count": 8,
   "id": "33bb74eb-9002-4830-9e1e-7529cef432d1",
   "metadata": {},
   "outputs": [
    {
     "data": {
      "text/plain": [
       "用户实付金额(元)    float64\n",
       "商家实收金额(元)    float64\n",
       "快递单号          object\n",
       "快递公司          object\n",
       "dtype: object"
      ]
     },
     "execution_count": 8,
     "metadata": {},
     "output_type": "execute_result"
    }
   ],
   "source": [
    "df1.dtypes"
   ]
  },
  {
   "cell_type": "code",
   "execution_count": 9,
   "id": "b31f77b2-e270-4b98-8108-924a9381ac7c",
   "metadata": {},
   "outputs": [
    {
     "data": {
      "text/plain": [
       "{'用户实付金额(元)': dtype('float64'),\n",
       " '商家实收金额(元)': dtype('float64'),\n",
       " '快递单号': dtype('O'),\n",
       " '快递公司': dtype('O')}"
      ]
     },
     "execution_count": 9,
     "metadata": {},
     "output_type": "execute_result"
    }
   ],
   "source": [
    "dic = dict(df1.dtypes)\n",
    "dic"
   ]
  },
  {
   "cell_type": "code",
   "execution_count": 16,
   "id": "543357cb-7c43-4db0-b25c-c5d4603d567f",
   "metadata": {},
   "outputs": [
    {
     "name": "stdout",
     "output_type": "stream",
     "text": [
      "<class 'pandas.core.series.Series'>\n",
      "<class 'pandas.core.series.Series'>\n",
      "<class 'pandas.core.series.Series'>\n",
      "<class 'pandas.core.series.Series'>\n"
     ]
    }
   ],
   "source": [
    "for column in df1:\n",
    "    print(type(df1[column]))"
   ]
  },
  {
   "cell_type": "code",
   "execution_count": 17,
   "id": "34a465b3-67b4-4186-8572-4072272850d3",
   "metadata": {},
   "outputs": [
    {
     "data": {
      "text/plain": [
       "dtype('float64')"
      ]
     },
     "execution_count": 17,
     "metadata": {},
     "output_type": "execute_result"
    }
   ],
   "source": [
    "dic['用户实付金额(元)']"
   ]
  },
  {
   "cell_type": "code",
   "execution_count": 20,
   "id": "b8be5a5d-312d-4f55-af33-cd80971755be",
   "metadata": {},
   "outputs": [
    {
     "data": {
      "text/html": [
       "<div>\n",
       "<style scoped>\n",
       "    .dataframe tbody tr th:only-of-type {\n",
       "        vertical-align: middle;\n",
       "    }\n",
       "\n",
       "    .dataframe tbody tr th {\n",
       "        vertical-align: top;\n",
       "    }\n",
       "\n",
       "    .dataframe thead th {\n",
       "        text-align: right;\n",
       "    }\n",
       "</style>\n",
       "<table border=\"1\" class=\"dataframe\">\n",
       "  <thead>\n",
       "    <tr style=\"text-align: right;\">\n",
       "      <th></th>\n",
       "      <th>用户实付金额(元)</th>\n",
       "      <th>商家实收金额(元)</th>\n",
       "      <th>快递单号</th>\n",
       "      <th>快递公司</th>\n",
       "    </tr>\n",
       "  </thead>\n",
       "  <tbody>\n",
       "    <tr>\n",
       "      <th>0</th>\n",
       "      <td>float64</td>\n",
       "      <td>float64</td>\n",
       "      <td>object</td>\n",
       "      <td>object</td>\n",
       "    </tr>\n",
       "  </tbody>\n",
       "</table>\n",
       "</div>"
      ],
      "text/plain": [
       "  用户实付金额(元) 商家实收金额(元)    快递单号    快递公司\n",
       "0   float64   float64  object  object"
      ]
     },
     "execution_count": 20,
     "metadata": {},
     "output_type": "execute_result"
    }
   ],
   "source": [
    "df_type = pd.DataFrame.from_dict(dic,orient = 'index').T\n",
    "df_type \n"
   ]
  },
  {
   "cell_type": "code",
   "execution_count": 25,
   "id": "503f4a7d-3868-4c9e-86b2-a7dd47f56173",
   "metadata": {},
   "outputs": [
    {
     "data": {
      "text/html": [
       "<div>\n",
       "<style scoped>\n",
       "    .dataframe tbody tr th:only-of-type {\n",
       "        vertical-align: middle;\n",
       "    }\n",
       "\n",
       "    .dataframe tbody tr th {\n",
       "        vertical-align: top;\n",
       "    }\n",
       "\n",
       "    .dataframe thead th {\n",
       "        text-align: right;\n",
       "    }\n",
       "</style>\n",
       "<table border=\"1\" class=\"dataframe\">\n",
       "  <thead>\n",
       "    <tr style=\"text-align: right;\">\n",
       "      <th></th>\n",
       "      <th>用户实付金额(元)</th>\n",
       "      <th>商家实收金额(元)</th>\n",
       "      <th>快递单号</th>\n",
       "      <th>快递公司</th>\n",
       "    </tr>\n",
       "  </thead>\n",
       "  <tbody>\n",
       "    <tr>\n",
       "      <th>0</th>\n",
       "      <td>7.40</td>\n",
       "      <td>7.84</td>\n",
       "      <td>YT8706037955391</td>\n",
       "      <td>圆通快递</td>\n",
       "    </tr>\n",
       "    <tr>\n",
       "      <th>1</th>\n",
       "      <td>7.39</td>\n",
       "      <td>7.83</td>\n",
       "      <td>YT8706037955391</td>\n",
       "      <td>圆通快递</td>\n",
       "    </tr>\n",
       "    <tr>\n",
       "      <th>2</th>\n",
       "      <td>7.85</td>\n",
       "      <td>7.85</td>\n",
       "      <td>YT8706037946250</td>\n",
       "      <td>圆通快递</td>\n",
       "    </tr>\n",
       "    <tr>\n",
       "      <th>3</th>\n",
       "      <td>8.62</td>\n",
       "      <td>9.57</td>\n",
       "      <td>YT8706037936820</td>\n",
       "      <td>圆通快递</td>\n",
       "    </tr>\n",
       "    <tr>\n",
       "      <th>合计</th>\n",
       "      <td>31.26</td>\n",
       "      <td>33.09</td>\n",
       "      <td></td>\n",
       "      <td></td>\n",
       "    </tr>\n",
       "  </tbody>\n",
       "</table>\n",
       "</div>"
      ],
      "text/plain": [
       "    用户实付金额(元)  商家实收金额(元)             快递单号  快递公司\n",
       "0        7.40       7.84  YT8706037955391  圆通快递\n",
       "1        7.39       7.83  YT8706037955391  圆通快递\n",
       "2        7.85       7.85  YT8706037946250  圆通快递\n",
       "3        8.62       9.57  YT8706037936820  圆通快递\n",
       "合计      31.26      33.09                       "
      ]
     },
     "execution_count": 25,
     "metadata": {},
     "output_type": "execute_result"
    }
   ],
   "source": [
    "#方法五\n",
    "df2 = df1.copy()\n",
    "df2.loc['合计'] = df2.sum()\n",
    "df2.loc['合计','快递公司'] = ''\n",
    "df2.loc['合计','快递单号'] = ''\n",
    "df2\n",
    "\n"
   ]
  },
  {
   "cell_type": "code",
   "execution_count": null,
   "id": "788b8777-b5cb-4ed4-b6d7-a737d87ba196",
   "metadata": {},
   "outputs": [],
   "source": [
    "import numpy as np\n",
    "np.random.seed(999)\n",
    "df = pd.DataFrame(np.random)"
   ]
  },
  {
   "cell_type": "code",
   "execution_count": 30,
   "id": "6ab1c919-d272-4bbe-b119-de457af1c8e4",
   "metadata": {},
   "outputs": [
    {
     "data": {
      "text/plain": [
       "6"
      ]
     },
     "execution_count": 30,
     "metadata": {},
     "output_type": "execute_result"
    }
   ],
   "source": [
    "pd.options.display.precision"
   ]
  },
  {
   "cell_type": "code",
   "execution_count": 36,
   "id": "56311372-bd44-4c93-b222-35cd10f25d88",
   "metadata": {},
   "outputs": [
    {
     "data": {
      "text/plain": [
       "\u001b[1;31mType:\u001b[0m        DictWrapper\n",
       "\u001b[1;31mString form:\u001b[0m <pandas._config.config.DictWrapper object at 0x0000000008C17D10>\n",
       "\u001b[1;31mFile:\u001b[0m        c:\\users\\redda\\.conda\\envs\\py311\\lib\\site-packages\\pandas\\_config\\config.py\n",
       "\u001b[1;31mDocstring:\u001b[0m   provide attribute-style access to a nested dict"
      ]
     },
     "metadata": {},
     "output_type": "display_data"
    }
   ],
   "source": [
    "pd.options?"
   ]
  },
  {
   "cell_type": "code",
   "execution_count": 39,
   "id": "29939975-c2c1-4c5e-afbd-590f08b67c51",
   "metadata": {},
   "outputs": [
    {
     "name": "stdout",
     "output_type": "stream",
     "text": [
      "Help on method_descriptor:\n",
      "\n",
      "isdecimal(self, /)\n",
      "    Return True if the string is a decimal string, False otherwise.\n",
      "    \n",
      "    A string is a decimal string if all characters in the string are decimal and\n",
      "    there is at least one character in the string.\n",
      "\n"
     ]
    }
   ],
   "source": [
    "help(str.isdecimal)"
   ]
  },
  {
   "cell_type": "code",
   "execution_count": null,
   "id": "384b6559-11ee-4e9d-9e90-b498a1e1b569",
   "metadata": {},
   "outputs": [],
   "source": []
  }
 ],
 "metadata": {
  "kernelspec": {
   "display_name": "Python 3 (ipykernel)",
   "language": "python",
   "name": "python3"
  },
  "language_info": {
   "codemirror_mode": {
    "name": "ipython",
    "version": 3
   },
   "file_extension": ".py",
   "mimetype": "text/x-python",
   "name": "python",
   "nbconvert_exporter": "python",
   "pygments_lexer": "ipython3",
   "version": "3.11.5"
  }
 },
 "nbformat": 4,
 "nbformat_minor": 5
}
