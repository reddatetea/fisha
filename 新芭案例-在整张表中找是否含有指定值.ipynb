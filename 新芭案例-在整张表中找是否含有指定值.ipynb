{
 "cells": [
  {
   "cell_type": "code",
   "execution_count": 1,
   "id": "0ac121c1-263b-4eb7-8f5b-af366c567f63",
   "metadata": {
    "ExecuteTime": {
     "start_time": "2023-12-25T22:38:19.833261Z",
     "end_time": "2023-12-25T22:38:20.297092Z"
    }
   },
   "outputs": [],
   "source": [
    "import pandas as pd"
   ]
  },
  {
   "cell_type": "code",
   "execution_count": 2,
   "id": "eb59142c-d383-47c3-ba51-8a5d17addd96",
   "metadata": {
    "ExecuteTime": {
     "start_time": "2023-12-25T22:38:20.285058Z",
     "end_time": "2023-12-25T22:38:20.313113Z"
    }
   },
   "outputs": [
    {
     "data": {
      "text/plain": "    a   b\n0   E  *B\n1  A*   2\n2   B   3\n3   K   4",
      "text/html": "<div>\n<style scoped>\n    .dataframe tbody tr th:only-of-type {\n        vertical-align: middle;\n    }\n\n    .dataframe tbody tr th {\n        vertical-align: top;\n    }\n\n    .dataframe thead th {\n        text-align: right;\n    }\n</style>\n<table border=\"1\" class=\"dataframe\">\n  <thead>\n    <tr style=\"text-align: right;\">\n      <th></th>\n      <th>a</th>\n      <th>b</th>\n    </tr>\n  </thead>\n  <tbody>\n    <tr>\n      <th>0</th>\n      <td>E</td>\n      <td>*B</td>\n    </tr>\n    <tr>\n      <th>1</th>\n      <td>A*</td>\n      <td>2</td>\n    </tr>\n    <tr>\n      <th>2</th>\n      <td>B</td>\n      <td>3</td>\n    </tr>\n    <tr>\n      <th>3</th>\n      <td>K</td>\n      <td>4</td>\n    </tr>\n  </tbody>\n</table>\n</div>"
     },
     "execution_count": 2,
     "metadata": {},
     "output_type": "execute_result"
    }
   ],
   "source": [
    "data = {'a':['E','A*','B','K'],'b':['*B','2','3','4']}\n",
    "df = pd.DataFrame(data)\n",
    "df"
   ]
  },
  {
   "cell_type": "code",
   "execution_count": 3,
   "id": "4a665103-add2-4917-a0df-d3b50f7f410b",
   "metadata": {
    "ExecuteTime": {
     "start_time": "2023-12-25T22:38:20.313113Z",
     "end_time": "2023-12-25T22:38:20.353176Z"
    }
   },
   "outputs": [
    {
     "data": {
      "text/plain": "True"
     },
     "execution_count": 3,
     "metadata": {},
     "output_type": "execute_result"
    }
   ],
   "source": [
    "df.isin(['A*','*B']).any(axis = None)"
   ]
  },
  {
   "cell_type": "code",
   "execution_count": 4,
   "id": "9f5983ab-051d-4360-9ae4-89c6c926475f",
   "metadata": {
    "ExecuteTime": {
     "start_time": "2023-12-25T22:38:20.325093Z",
     "end_time": "2023-12-25T22:38:20.377049Z"
    }
   },
   "outputs": [
    {
     "data": {
      "text/plain": "a    True\nb    True\ndtype: bool"
     },
     "execution_count": 4,
     "metadata": {},
     "output_type": "execute_result"
    }
   ],
   "source": [
    "df.isin(['A*','*B']).any()"
   ]
  },
  {
   "cell_type": "code",
   "execution_count": 5,
   "id": "b13706cd-62ea-41ef-a16a-e6b85f1795db",
   "metadata": {
    "ExecuteTime": {
     "start_time": "2023-12-25T22:38:20.350167Z",
     "end_time": "2023-12-25T22:38:20.407930Z"
    }
   },
   "outputs": [
    {
     "data": {
      "text/plain": "0     True\n1     True\n2    False\n3    False\ndtype: bool"
     },
     "execution_count": 5,
     "metadata": {},
     "output_type": "execute_result"
    }
   ],
   "source": [
    "df.isin(['A*','*B']).any(axis = 1)"
   ]
  },
  {
   "cell_type": "code",
   "execution_count": null,
   "id": "35c0b8b6-87f0-45fd-a51e-7508fcdc18d7",
   "metadata": {},
   "outputs": [],
   "source": []
  }
 ],
 "metadata": {
  "kernelspec": {
   "display_name": "Python 3 (ipykernel)",
   "language": "python",
   "name": "python3"
  },
  "language_info": {
   "codemirror_mode": {
    "name": "ipython",
    "version": 3
   },
   "file_extension": ".py",
   "mimetype": "text/x-python",
   "name": "python",
   "nbconvert_exporter": "python",
   "pygments_lexer": "ipython3",
   "version": "3.9.13"
  }
 },
 "nbformat": 4,
 "nbformat_minor": 5
}
