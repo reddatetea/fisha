{
 "cells": [
  {
   "cell_type": "code",
   "execution_count": 23,
   "id": "b516c7c0",
   "metadata": {},
   "outputs": [],
   "source": [
    "'''以正则表达式对字符串进行清洗'''\n",
    "import re\n",
    "\n",
    "def textParse(str_doc):\n",
    "    #通过正则表达式过滤掉特殊符号、标点、英文、数字等\n",
    "    r1 = '[a-zA-Z0-9’!\"#$%&\\'()*+,-./:;<=>?@，。?★、…【】《》？“”‘’！[\\\\]^_`{|}~]+'\n",
    "    str_doc = re.sub(rl,'',str_doc)\n",
    "    #去掉字符\n",
    "    str_doc = re.sub('\\u3000','',str_doc)\n",
    "    #去除空格\n",
    "    str_doc = re.sub('\\s+','',str_doc)\n",
    "    #去除换行符\n",
    "    str_doc = str_doc.replace('\\n',' ')\n",
    "    return str_doc\n",
    "\n",
    "main():\n",
    "    textParse(str_doc)\n",
    "   \n",
    "if __name__ == '__main__':\n",
    "    x = '1我爱你1'\n",
    "    print(re.sub(r1, '', x))\n",
    "\n",
    "\n"
   ]
  }
 ],
 "metadata": {
  "kernelspec": {
   "display_name": "Python 3 (ipykernel)",
   "language": "python",
   "name": "python3"
  },
  "language_info": {
   "codemirror_mode": {
    "name": "ipython",
    "version": 3
   },
   "file_extension": ".py",
   "mimetype": "text/x-python",
   "name": "python",
   "nbconvert_exporter": "python",
   "pygments_lexer": "ipython3",
   "version": "3.8.3"
  }
 },
 "nbformat": 4,
 "nbformat_minor": 5
}
