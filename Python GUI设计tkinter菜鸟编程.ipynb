{
 "cells": [
  {
   "cell_type": "markdown",
   "id": "4f7c87e4",
   "metadata": {},
   "source": [
    "# 基础概念"
   ]
  },
  {
   "cell_type": "markdown",
   "id": "7e902d69",
   "metadata": {},
   "source": [
    "## 1.1认识GUI TKINTER"
   ]
  },
  {
   "cell_type": "code",
   "execution_count": 3,
   "id": "3462c23e",
   "metadata": {},
   "outputs": [],
   "source": [
    "import tkinter"
   ]
  },
  {
   "cell_type": "code",
   "execution_count": 4,
   "id": "1694306e",
   "metadata": {},
   "outputs": [
    {
     "data": {
      "text/plain": [
       "8.6"
      ]
     },
     "execution_count": 4,
     "metadata": {},
     "output_type": "execute_result"
    }
   ],
   "source": [
    "tkinter.TkVersion"
   ]
  },
  {
   "cell_type": "code",
   "execution_count": 7,
   "id": "5fc462b7",
   "metadata": {},
   "outputs": [],
   "source": [
    "from tkinter import *\n",
    "root = Tk()   #k是小写\n",
    "root.mainloop()"
   ]
  },
  {
   "cell_type": "code",
   "execution_count": null,
   "id": "35887423",
   "metadata": {},
   "outputs": [],
   "source": [
    "root = Tk()\n",
    "root.title('MyWindow')\n",
    "root.geometry(\"360x160\")  #只能是小写的x\n",
    "root.configure(bg = 'yellow')\n",
    "root.iconbitmap(\"001.ico\")\n",
    "root.mainloop()"
   ]
  },
  {
   "cell_type": "code",
   "execution_count": null,
   "id": "4ffd5ccf",
   "metadata": {},
   "outputs": [],
   "source": [
    "from tkinter import *\n",
    "root = Tk()\n",
    "label = Label(root,text = 'I Like tkinter',\\\n",
    "             fg = 'blue',bg = 'yellow')\n",
    "label.pack()\n",
    "root.mainloop()"
   ]
  },
  {
   "cell_type": "code",
   "execution_count": null,
   "id": "2f3d60c4",
   "metadata": {},
   "outputs": [],
   "source": []
  }
 ],
 "metadata": {
  "kernelspec": {
   "display_name": "Python 3 (ipykernel)",
   "language": "python",
   "name": "python3"
  },
  "language_info": {
   "codemirror_mode": {
    "name": "ipython",
    "version": 3
   },
   "file_extension": ".py",
   "mimetype": "text/x-python",
   "name": "python",
   "nbconvert_exporter": "python",
   "pygments_lexer": "ipython3",
   "version": "3.8.3"
  }
 },
 "nbformat": 4,
 "nbformat_minor": 5
}
