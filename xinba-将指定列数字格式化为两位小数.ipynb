{
 "cells": [
  {
   "cell_type": "code",
   "execution_count": 1,
   "id": "7c19ca2e",
   "metadata": {},
   "outputs": [],
   "source": [
    "import pandas as pd"
   ]
  },
  {
   "cell_type": "code",
   "execution_count": 2,
   "id": "d6327eb6",
   "metadata": {},
   "outputs": [
    {
     "data": {
      "text/html": [
       "<div>\n",
       "<style scoped>\n",
       "    .dataframe tbody tr th:only-of-type {\n",
       "        vertical-align: middle;\n",
       "    }\n",
       "\n",
       "    .dataframe tbody tr th {\n",
       "        vertical-align: top;\n",
       "    }\n",
       "\n",
       "    .dataframe thead th {\n",
       "        text-align: right;\n",
       "    }\n",
       "</style>\n",
       "<table border=\"1\" class=\"dataframe\">\n",
       "  <thead>\n",
       "    <tr style=\"text-align: right;\">\n",
       "      <th></th>\n",
       "      <th>渠道</th>\n",
       "      <th>产业描述</th>\n",
       "      <th>交货数量</th>\n",
       "      <th>公司间价格</th>\n",
       "      <th>成本</th>\n",
       "      <th>毛利额</th>\n",
       "      <th>毛利率</th>\n",
       "    </tr>\n",
       "  </thead>\n",
       "  <tbody>\n",
       "    <tr>\n",
       "      <th>0</th>\n",
       "      <td>A</td>\n",
       "      <td>食品</td>\n",
       "      <td>2336059</td>\n",
       "      <td>247975.43</td>\n",
       "      <td>27313.596148</td>\n",
       "      <td>8815.899427</td>\n",
       "      <td>0.040173</td>\n",
       "    </tr>\n",
       "    <tr>\n",
       "      <th>1</th>\n",
       "      <td>B</td>\n",
       "      <td>食品</td>\n",
       "      <td>65664</td>\n",
       "      <td>399583.93</td>\n",
       "      <td>383300.064970</td>\n",
       "      <td>-29685.967625</td>\n",
       "      <td>-0.083950</td>\n",
       "    </tr>\n",
       "    <tr>\n",
       "      <th>2</th>\n",
       "      <td>C</td>\n",
       "      <td>食品</td>\n",
       "      <td>115139</td>\n",
       "      <td>707225.86</td>\n",
       "      <td>470274.527166</td>\n",
       "      <td>155589.065754</td>\n",
       "      <td>0.248599</td>\n",
       "    </tr>\n",
       "    <tr>\n",
       "      <th>3</th>\n",
       "      <td>D</td>\n",
       "      <td>食品</td>\n",
       "      <td>1456</td>\n",
       "      <td>81969.60</td>\n",
       "      <td>73168.567088</td>\n",
       "      <td>-629.098061</td>\n",
       "      <td>-0.008672</td>\n",
       "    </tr>\n",
       "    <tr>\n",
       "      <th>4</th>\n",
       "      <td>E</td>\n",
       "      <td>食品</td>\n",
       "      <td>5820</td>\n",
       "      <td>191376.80</td>\n",
       "      <td>159042.353046</td>\n",
       "      <td>10317.646954</td>\n",
       "      <td>0.060921</td>\n",
       "    </tr>\n",
       "  </tbody>\n",
       "</table>\n",
       "</div>"
      ],
      "text/plain": [
       "  渠道 产业描述     交货数量      公司间价格             成本            毛利额       毛利率\n",
       "0  A   食品  2336059  247975.43   27313.596148    8815.899427  0.040173\n",
       "1  B   食品    65664  399583.93  383300.064970  -29685.967625 -0.083950\n",
       "2  C   食品   115139  707225.86  470274.527166  155589.065754  0.248599\n",
       "3  D   食品     1456   81969.60   73168.567088    -629.098061 -0.008672\n",
       "4  E   食品     5820  191376.80  159042.353046   10317.646954  0.060921"
      ]
     },
     "execution_count": 2,
     "metadata": {},
     "output_type": "execute_result"
    }
   ],
   "source": [
    "df = pd.read_excel('001.xlsx')\n",
    "df.head()"
   ]
  },
  {
   "cell_type": "code",
   "execution_count": 3,
   "id": "c447f0ca",
   "metadata": {},
   "outputs": [
    {
     "data": {
      "text/plain": [
       "Index(['交货数量', '公司间价格', '成本', '毛利额'], dtype='object')"
      ]
     },
     "execution_count": 3,
     "metadata": {},
     "output_type": "execute_result"
    }
   ],
   "source": [
    "fmt = '{:,.2f}'.format\n",
    "cols = df.columns[2:6]\n",
    "cols"
   ]
  },
  {
   "cell_type": "code",
   "execution_count": 5,
   "id": "8131695a",
   "metadata": {},
   "outputs": [
    {
     "data": {
      "text/plain": [
       "{'交货数量': <function str.format>,\n",
       " '公司间价格': <function str.format>,\n",
       " '成本': <function str.format>,\n",
       " '毛利额': <function str.format>}"
      ]
     },
     "execution_count": 5,
     "metadata": {},
     "output_type": "execute_result"
    }
   ],
   "source": [
    "format_dict = {col:fmt for col in cols}\n",
    "format_dict"
   ]
  },
  {
   "cell_type": "code",
   "execution_count": 6,
   "id": "0ef665d8",
   "metadata": {},
   "outputs": [
    {
     "data": {
      "text/html": [
       "<style type=\"text/css\">\n",
       "</style>\n",
       "<table id=\"T_bfb13\">\n",
       "  <thead>\n",
       "    <tr>\n",
       "      <th class=\"blank level0\" >&nbsp;</th>\n",
       "      <th id=\"T_bfb13_level0_col0\" class=\"col_heading level0 col0\" >渠道</th>\n",
       "      <th id=\"T_bfb13_level0_col1\" class=\"col_heading level0 col1\" >产业描述</th>\n",
       "      <th id=\"T_bfb13_level0_col2\" class=\"col_heading level0 col2\" >交货数量</th>\n",
       "      <th id=\"T_bfb13_level0_col3\" class=\"col_heading level0 col3\" >公司间价格</th>\n",
       "      <th id=\"T_bfb13_level0_col4\" class=\"col_heading level0 col4\" >成本</th>\n",
       "      <th id=\"T_bfb13_level0_col5\" class=\"col_heading level0 col5\" >毛利额</th>\n",
       "      <th id=\"T_bfb13_level0_col6\" class=\"col_heading level0 col6\" >毛利率</th>\n",
       "    </tr>\n",
       "  </thead>\n",
       "  <tbody>\n",
       "    <tr>\n",
       "      <th id=\"T_bfb13_level0_row0\" class=\"row_heading level0 row0\" >0</th>\n",
       "      <td id=\"T_bfb13_row0_col0\" class=\"data row0 col0\" >A</td>\n",
       "      <td id=\"T_bfb13_row0_col1\" class=\"data row0 col1\" >食品</td>\n",
       "      <td id=\"T_bfb13_row0_col2\" class=\"data row0 col2\" >2,336,059.00</td>\n",
       "      <td id=\"T_bfb13_row0_col3\" class=\"data row0 col3\" >247,975.43</td>\n",
       "      <td id=\"T_bfb13_row0_col4\" class=\"data row0 col4\" >27,313.60</td>\n",
       "      <td id=\"T_bfb13_row0_col5\" class=\"data row0 col5\" >8,815.90</td>\n",
       "      <td id=\"T_bfb13_row0_col6\" class=\"data row0 col6\" >0.040173</td>\n",
       "    </tr>\n",
       "    <tr>\n",
       "      <th id=\"T_bfb13_level0_row1\" class=\"row_heading level0 row1\" >1</th>\n",
       "      <td id=\"T_bfb13_row1_col0\" class=\"data row1 col0\" >B</td>\n",
       "      <td id=\"T_bfb13_row1_col1\" class=\"data row1 col1\" >食品</td>\n",
       "      <td id=\"T_bfb13_row1_col2\" class=\"data row1 col2\" >65,664.00</td>\n",
       "      <td id=\"T_bfb13_row1_col3\" class=\"data row1 col3\" >399,583.93</td>\n",
       "      <td id=\"T_bfb13_row1_col4\" class=\"data row1 col4\" >383,300.06</td>\n",
       "      <td id=\"T_bfb13_row1_col5\" class=\"data row1 col5\" >-29,685.97</td>\n",
       "      <td id=\"T_bfb13_row1_col6\" class=\"data row1 col6\" >-0.083950</td>\n",
       "    </tr>\n",
       "    <tr>\n",
       "      <th id=\"T_bfb13_level0_row2\" class=\"row_heading level0 row2\" >2</th>\n",
       "      <td id=\"T_bfb13_row2_col0\" class=\"data row2 col0\" >C</td>\n",
       "      <td id=\"T_bfb13_row2_col1\" class=\"data row2 col1\" >食品</td>\n",
       "      <td id=\"T_bfb13_row2_col2\" class=\"data row2 col2\" >115,139.00</td>\n",
       "      <td id=\"T_bfb13_row2_col3\" class=\"data row2 col3\" >707,225.86</td>\n",
       "      <td id=\"T_bfb13_row2_col4\" class=\"data row2 col4\" >470,274.53</td>\n",
       "      <td id=\"T_bfb13_row2_col5\" class=\"data row2 col5\" >155,589.07</td>\n",
       "      <td id=\"T_bfb13_row2_col6\" class=\"data row2 col6\" >0.248599</td>\n",
       "    </tr>\n",
       "    <tr>\n",
       "      <th id=\"T_bfb13_level0_row3\" class=\"row_heading level0 row3\" >3</th>\n",
       "      <td id=\"T_bfb13_row3_col0\" class=\"data row3 col0\" >D</td>\n",
       "      <td id=\"T_bfb13_row3_col1\" class=\"data row3 col1\" >食品</td>\n",
       "      <td id=\"T_bfb13_row3_col2\" class=\"data row3 col2\" >1,456.00</td>\n",
       "      <td id=\"T_bfb13_row3_col3\" class=\"data row3 col3\" >81,969.60</td>\n",
       "      <td id=\"T_bfb13_row3_col4\" class=\"data row3 col4\" >73,168.57</td>\n",
       "      <td id=\"T_bfb13_row3_col5\" class=\"data row3 col5\" >-629.10</td>\n",
       "      <td id=\"T_bfb13_row3_col6\" class=\"data row3 col6\" >-0.008672</td>\n",
       "    </tr>\n",
       "    <tr>\n",
       "      <th id=\"T_bfb13_level0_row4\" class=\"row_heading level0 row4\" >4</th>\n",
       "      <td id=\"T_bfb13_row4_col0\" class=\"data row4 col0\" >E</td>\n",
       "      <td id=\"T_bfb13_row4_col1\" class=\"data row4 col1\" >食品</td>\n",
       "      <td id=\"T_bfb13_row4_col2\" class=\"data row4 col2\" >5,820.00</td>\n",
       "      <td id=\"T_bfb13_row4_col3\" class=\"data row4 col3\" >191,376.80</td>\n",
       "      <td id=\"T_bfb13_row4_col4\" class=\"data row4 col4\" >159,042.35</td>\n",
       "      <td id=\"T_bfb13_row4_col5\" class=\"data row4 col5\" >10,317.65</td>\n",
       "      <td id=\"T_bfb13_row4_col6\" class=\"data row4 col6\" >0.060921</td>\n",
       "    </tr>\n",
       "    <tr>\n",
       "      <th id=\"T_bfb13_level0_row5\" class=\"row_heading level0 row5\" >5</th>\n",
       "      <td id=\"T_bfb13_row5_col0\" class=\"data row5 col0\" >F</td>\n",
       "      <td id=\"T_bfb13_row5_col1\" class=\"data row5 col1\" >食品</td>\n",
       "      <td id=\"T_bfb13_row5_col2\" class=\"data row5 col2\" >1,271,807.00</td>\n",
       "      <td id=\"T_bfb13_row5_col3\" class=\"data row5 col3\" >6,319,891.90</td>\n",
       "      <td id=\"T_bfb13_row5_col4\" class=\"data row5 col4\" >4,507,659.93</td>\n",
       "      <td id=\"T_bfb13_row5_col5\" class=\"data row5 col5\" >1,091,128.78</td>\n",
       "      <td id=\"T_bfb13_row5_col6\" class=\"data row5 col6\" >0.195094</td>\n",
       "    </tr>\n",
       "    <tr>\n",
       "      <th id=\"T_bfb13_level0_row6\" class=\"row_heading level0 row6\" >6</th>\n",
       "      <td id=\"T_bfb13_row6_col0\" class=\"data row6 col0\" >G</td>\n",
       "      <td id=\"T_bfb13_row6_col1\" class=\"data row6 col1\" >食品</td>\n",
       "      <td id=\"T_bfb13_row6_col2\" class=\"data row6 col2\" >1,532,911.00</td>\n",
       "      <td id=\"T_bfb13_row6_col3\" class=\"data row6 col3\" >6,305,431.30</td>\n",
       "      <td id=\"T_bfb13_row6_col4\" class=\"data row6 col4\" >4,104,078.94</td>\n",
       "      <td id=\"T_bfb13_row6_col5\" class=\"data row6 col5\" >1,475,948.76</td>\n",
       "      <td id=\"T_bfb13_row6_col6\" class=\"data row6 col6\" >0.264506</td>\n",
       "    </tr>\n",
       "    <tr>\n",
       "      <th id=\"T_bfb13_level0_row7\" class=\"row_heading level0 row7\" >7</th>\n",
       "      <td id=\"T_bfb13_row7_col0\" class=\"data row7 col0\" >H</td>\n",
       "      <td id=\"T_bfb13_row7_col1\" class=\"data row7 col1\" >食品</td>\n",
       "      <td id=\"T_bfb13_row7_col2\" class=\"data row7 col2\" >186,046.00</td>\n",
       "      <td id=\"T_bfb13_row7_col3\" class=\"data row7 col3\" >731,141.83</td>\n",
       "      <td id=\"T_bfb13_row7_col4\" class=\"data row7 col4\" >597,508.43</td>\n",
       "      <td id=\"T_bfb13_row7_col5\" class=\"data row7 col5\" >49,519.73</td>\n",
       "      <td id=\"T_bfb13_row7_col6\" class=\"data row7 col6\" >0.076534</td>\n",
       "    </tr>\n",
       "    <tr>\n",
       "      <th id=\"T_bfb13_level0_row8\" class=\"row_heading level0 row8\" >8</th>\n",
       "      <td id=\"T_bfb13_row8_col0\" class=\"data row8 col0\" >I</td>\n",
       "      <td id=\"T_bfb13_row8_col1\" class=\"data row8 col1\" >食品</td>\n",
       "      <td id=\"T_bfb13_row8_col2\" class=\"data row8 col2\" >-94,423.00</td>\n",
       "      <td id=\"T_bfb13_row8_col3\" class=\"data row8 col3\" >-825,646.60</td>\n",
       "      <td id=\"T_bfb13_row8_col4\" class=\"data row8 col4\" >-410,888.65</td>\n",
       "      <td id=\"T_bfb13_row8_col5\" class=\"data row8 col5\" >-301,720.23</td>\n",
       "      <td id=\"T_bfb13_row8_col6\" class=\"data row8 col6\" >0.412942</td>\n",
       "    </tr>\n",
       "    <tr>\n",
       "      <th id=\"T_bfb13_level0_row9\" class=\"row_heading level0 row9\" >9</th>\n",
       "      <td id=\"T_bfb13_row9_col0\" class=\"data row9 col0\" >G</td>\n",
       "      <td id=\"T_bfb13_row9_col1\" class=\"data row9 col1\" >食品</td>\n",
       "      <td id=\"T_bfb13_row9_col2\" class=\"data row9 col2\" >-9.00</td>\n",
       "      <td id=\"T_bfb13_row9_col3\" class=\"data row9 col3\" >-277.57</td>\n",
       "      <td id=\"T_bfb13_row9_col4\" class=\"data row9 col4\" >-101.39</td>\n",
       "      <td id=\"T_bfb13_row9_col5\" class=\"data row9 col5\" >-20.27</td>\n",
       "      <td id=\"T_bfb13_row9_col6\" class=\"data row9 col6\" >0.082537</td>\n",
       "    </tr>\n",
       "  </tbody>\n",
       "</table>\n"
      ],
      "text/plain": [
       "<pandas.io.formats.style.Styler at 0xb24ec40>"
      ]
     },
     "execution_count": 6,
     "metadata": {},
     "output_type": "execute_result"
    }
   ],
   "source": [
    "df.style.format(format_dict)"
   ]
  },
  {
   "cell_type": "code",
   "execution_count": null,
   "id": "4347686c",
   "metadata": {},
   "outputs": [],
   "source": []
  }
 ],
 "metadata": {
  "kernelspec": {
   "display_name": "Python 3 (ipykernel)",
   "language": "python",
   "name": "python3"
  },
  "language_info": {
   "codemirror_mode": {
    "name": "ipython",
    "version": 3
   },
   "file_extension": ".py",
   "mimetype": "text/x-python",
   "name": "python",
   "nbconvert_exporter": "python",
   "pygments_lexer": "ipython3",
   "version": "3.8.3"
  }
 },
 "nbformat": 4,
 "nbformat_minor": 5
}
