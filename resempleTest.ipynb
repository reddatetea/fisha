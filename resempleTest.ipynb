{
 "cells": [
  {
   "cell_type": "code",
   "execution_count": 1,
   "id": "00c9f8df",
   "metadata": {},
   "outputs": [],
   "source": [
    "import pandas as pd\n",
    "import datetime\n",
    "import numpy as np"
   ]
  },
  {
   "cell_type": "code",
   "execution_count": 3,
   "id": "53c10c34",
   "metadata": {},
   "outputs": [
    {
     "data": {
      "text/plain": [
       "0   2012-12-01\n",
       "1   2012-12-02\n",
       "2   2012-12-03\n",
       "3   2012-12-04\n",
       "dtype: datetime64[ns]"
      ]
     },
     "execution_count": 3,
     "metadata": {},
     "output_type": "execute_result"
    }
   ],
   "source": [
    "december = pd.Series(pd.date_range('20121201',periods = 4))\n",
    "december\n"
   ]
  },
  {
   "cell_type": "code",
   "execution_count": 6,
   "id": "1afb0f18",
   "metadata": {},
   "outputs": [
    {
     "data": {
      "text/plain": [
       "0   2013-01-01\n",
       "1   2013-01-02\n",
       "2   2013-01-03\n",
       "3   2013-01-04\n",
       "dtype: datetime64[ns]"
      ]
     },
     "execution_count": 6,
     "metadata": {},
     "output_type": "execute_result"
    }
   ],
   "source": [
    "january = pd.Series(pd.date_range('20130101',periods = 4))\n",
    "january\n"
   ]
  },
  {
   "cell_type": "code",
   "execution_count": 7,
   "id": "83703452",
   "metadata": {},
   "outputs": [
    {
     "data": {
      "text/plain": [
       "0   31 days\n",
       "1   31 days\n",
       "2   31 days\n",
       "3   31 days\n",
       "dtype: timedelta64[ns]"
      ]
     },
     "execution_count": 7,
     "metadata": {},
     "output_type": "execute_result"
    }
   ],
   "source": [
    "td = january - december\n",
    "td"
   ]
  },
  {
   "cell_type": "code",
   "execution_count": 8,
   "id": "2e2a05c0",
   "metadata": {},
   "outputs": [
    {
     "data": {
      "text/plain": [
       "Timedelta('31 days 00:00:00')"
      ]
     },
     "execution_count": 8,
     "metadata": {},
     "output_type": "execute_result"
    }
   ],
   "source": [
    "td[2]"
   ]
  },
  {
   "cell_type": "code",
   "execution_count": 10,
   "id": "289f3523",
   "metadata": {},
   "outputs": [
    {
     "data": {
      "text/plain": [
       "Timedelta('351 days 23:05:03')"
      ]
     },
     "execution_count": 10,
     "metadata": {},
     "output_type": "execute_result"
    }
   ],
   "source": [
    "td[2] += datetime.timedelta(days = 320,hours = 23,minutes = 5,seconds =3)\n",
    "td[2]"
   ]
  },
  {
   "cell_type": "code",
   "execution_count": 11,
   "id": "aa8bec33",
   "metadata": {},
   "outputs": [
    {
     "data": {
      "text/plain": [
       "NaT"
      ]
     },
     "execution_count": 11,
     "metadata": {},
     "output_type": "execute_result"
    }
   ],
   "source": [
    "td[3] = np.nan\n",
    "td[3]"
   ]
  },
  {
   "cell_type": "code",
   "execution_count": 15,
   "id": "1be28f96",
   "metadata": {},
   "outputs": [
    {
     "data": {
      "text/plain": [
       "0    31 days 00:00:00\n",
       "1    31 days 00:00:00\n",
       "2   351 days 23:05:03\n",
       "3                 NaT\n",
       "dtype: timedelta64[ns]"
      ]
     },
     "execution_count": 15,
     "metadata": {},
     "output_type": "execute_result"
    }
   ],
   "source": [
    "td"
   ]
  },
  {
   "cell_type": "code",
   "execution_count": 17,
   "id": "9a5e2662",
   "metadata": {},
   "outputs": [
    {
     "data": {
      "text/plain": [
       "0     31.00000\n",
       "1     31.00000\n",
       "2    351.96184\n",
       "3          NaN\n",
       "dtype: float64"
      ]
     },
     "execution_count": 17,
     "metadata": {},
     "output_type": "execute_result"
    }
   ],
   "source": [
    "td1 = td/np.timedelta64(1,'D')\n",
    "td1"
   ]
  },
  {
   "cell_type": "code",
   "execution_count": 19,
   "id": "412a1b39",
   "metadata": {},
   "outputs": [
    {
     "data": {
      "text/plain": [
       "0     31.0\n",
       "1     31.0\n",
       "2    351.0\n",
       "3      NaN\n",
       "dtype: float64"
      ]
     },
     "execution_count": 19,
     "metadata": {},
     "output_type": "execute_result"
    }
   ],
   "source": [
    "td2 = td.astype('timedelta64[D]')\n",
    "td2"
   ]
  },
  {
   "cell_type": "code",
   "execution_count": 3,
   "id": "50aef5c8",
   "metadata": {},
   "outputs": [
    {
     "data": {
      "text/plain": [
       "DatetimeIndex(['2020-01-01 00:00:00', '2020-01-01 00:01:00',\n",
       "               '2020-01-01 00:02:00', '2020-01-01 00:03:00',\n",
       "               '2020-01-01 00:04:00', '2020-01-01 00:05:00',\n",
       "               '2020-01-01 00:06:00', '2020-01-01 00:07:00',\n",
       "               '2020-01-01 00:08:00', '2020-01-01 00:09:00',\n",
       "               '2020-01-01 00:10:00', '2020-01-01 00:11:00',\n",
       "               '2020-01-01 00:12:00', '2020-01-01 00:13:00',\n",
       "               '2020-01-01 00:14:00', '2020-01-01 00:15:00',\n",
       "               '2020-01-01 00:16:00', '2020-01-01 00:17:00',\n",
       "               '2020-01-01 00:18:00', '2020-01-01 00:19:00',\n",
       "               '2020-01-01 00:20:00', '2020-01-01 00:21:00',\n",
       "               '2020-01-01 00:22:00', '2020-01-01 00:23:00',\n",
       "               '2020-01-01 00:24:00', '2020-01-01 00:25:00',\n",
       "               '2020-01-01 00:26:00', '2020-01-01 00:27:00',\n",
       "               '2020-01-01 00:28:00', '2020-01-01 00:29:00',\n",
       "               '2020-01-01 00:30:00', '2020-01-01 00:31:00',\n",
       "               '2020-01-01 00:32:00', '2020-01-01 00:33:00',\n",
       "               '2020-01-01 00:34:00', '2020-01-01 00:35:00',\n",
       "               '2020-01-01 00:36:00', '2020-01-01 00:37:00',\n",
       "               '2020-01-01 00:38:00', '2020-01-01 00:39:00',\n",
       "               '2020-01-01 00:40:00', '2020-01-01 00:41:00',\n",
       "               '2020-01-01 00:42:00', '2020-01-01 00:43:00',\n",
       "               '2020-01-01 00:44:00', '2020-01-01 00:45:00',\n",
       "               '2020-01-01 00:46:00', '2020-01-01 00:47:00',\n",
       "               '2020-01-01 00:48:00', '2020-01-01 00:49:00',\n",
       "               '2020-01-01 00:50:00', '2020-01-01 00:51:00',\n",
       "               '2020-01-01 00:52:00', '2020-01-01 00:53:00',\n",
       "               '2020-01-01 00:54:00', '2020-01-01 00:55:00',\n",
       "               '2020-01-01 00:56:00', '2020-01-01 00:57:00',\n",
       "               '2020-01-01 00:58:00', '2020-01-01 00:59:00',\n",
       "               '2020-01-01 01:00:00', '2020-01-01 01:01:00',\n",
       "               '2020-01-01 01:02:00', '2020-01-01 01:03:00',\n",
       "               '2020-01-01 01:04:00', '2020-01-01 01:05:00',\n",
       "               '2020-01-01 01:06:00', '2020-01-01 01:07:00',\n",
       "               '2020-01-01 01:08:00', '2020-01-01 01:09:00',\n",
       "               '2020-01-01 01:10:00', '2020-01-01 01:11:00',\n",
       "               '2020-01-01 01:12:00', '2020-01-01 01:13:00',\n",
       "               '2020-01-01 01:14:00', '2020-01-01 01:15:00',\n",
       "               '2020-01-01 01:16:00', '2020-01-01 01:17:00',\n",
       "               '2020-01-01 01:18:00', '2020-01-01 01:19:00',\n",
       "               '2020-01-01 01:20:00', '2020-01-01 01:21:00',\n",
       "               '2020-01-01 01:22:00', '2020-01-01 01:23:00',\n",
       "               '2020-01-01 01:24:00', '2020-01-01 01:25:00',\n",
       "               '2020-01-01 01:26:00', '2020-01-01 01:27:00',\n",
       "               '2020-01-01 01:28:00', '2020-01-01 01:29:00',\n",
       "               '2020-01-01 01:30:00', '2020-01-01 01:31:00',\n",
       "               '2020-01-01 01:32:00', '2020-01-01 01:33:00',\n",
       "               '2020-01-01 01:34:00', '2020-01-01 01:35:00',\n",
       "               '2020-01-01 01:36:00', '2020-01-01 01:37:00',\n",
       "               '2020-01-01 01:38:00', '2020-01-01 01:39:00'],\n",
       "              dtype='datetime64[ns]', freq='T')"
      ]
     },
     "execution_count": 3,
     "metadata": {},
     "output_type": "execute_result"
    }
   ],
   "source": [
    "rng = pd.date_range('1/1/2020',periods = 100,freq  = 'Min')\n",
    "rng\n"
   ]
  },
  {
   "cell_type": "code",
   "execution_count": 11,
   "id": "30c9842b",
   "metadata": {},
   "outputs": [
    {
     "data": {
      "text/plain": [
       "2020-01-01 00:00:00    105\n",
       "2020-01-01 00:01:00    259\n",
       "2020-01-01 00:02:00    438\n",
       "2020-01-01 00:03:00    249\n",
       "2020-01-01 00:04:00    389\n",
       "2020-01-01 00:05:00    208\n",
       "2020-01-01 00:06:00    105\n",
       "2020-01-01 00:07:00     40\n",
       "2020-01-01 00:08:00    354\n",
       "2020-01-01 00:09:00    209\n",
       "2020-01-01 00:10:00    201\n",
       "2020-01-01 00:11:00    191\n",
       "2020-01-01 00:12:00    212\n",
       "2020-01-01 00:13:00    456\n",
       "2020-01-01 00:14:00    317\n",
       "2020-01-01 00:15:00    177\n",
       "2020-01-01 00:16:00    320\n",
       "2020-01-01 00:17:00    261\n",
       "2020-01-01 00:18:00    252\n",
       "2020-01-01 00:19:00     85\n",
       "2020-01-01 00:20:00    114\n",
       "2020-01-01 00:21:00    333\n",
       "2020-01-01 00:22:00    368\n",
       "2020-01-01 00:23:00    285\n",
       "2020-01-01 00:24:00      8\n",
       "2020-01-01 00:25:00    204\n",
       "2020-01-01 00:26:00    100\n",
       "2020-01-01 00:27:00    358\n",
       "2020-01-01 00:28:00    192\n",
       "2020-01-01 00:29:00    394\n",
       "Freq: T, dtype: int32"
      ]
     },
     "execution_count": 11,
     "metadata": {},
     "output_type": "execute_result"
    }
   ],
   "source": [
    "ts = pd.Series(np.random.randint(0,500,len(rng)),index = rng)\n",
    "ts.head(30)"
   ]
  },
  {
   "cell_type": "code",
   "execution_count": 12,
   "id": "23ddd038",
   "metadata": {},
   "outputs": [
    {
     "data": {
      "text/plain": [
       "<pandas.core.resample.DatetimeIndexResampler object at 0x0000019096555BE0>"
      ]
     },
     "execution_count": 12,
     "metadata": {},
     "output_type": "execute_result"
    }
   ],
   "source": [
    "rs = ts.resample('5Min')\n",
    "rs"
   ]
  },
  {
   "cell_type": "code",
   "execution_count": 13,
   "id": "ce16a190",
   "metadata": {},
   "outputs": [
    {
     "data": {
      "text/plain": [
       "2020-01-01 00:00:00    105\n",
       "2020-01-01 00:05:00    208\n",
       "2020-01-01 00:10:00    201\n",
       "2020-01-01 00:15:00    177\n",
       "2020-01-01 00:20:00    114\n",
       "2020-01-01 00:25:00    204\n",
       "2020-01-01 00:30:00    361\n",
       "2020-01-01 00:35:00    122\n",
       "2020-01-01 00:40:00    471\n",
       "2020-01-01 00:45:00    359\n",
       "2020-01-01 00:50:00     42\n",
       "2020-01-01 00:55:00      0\n",
       "2020-01-01 01:00:00     29\n",
       "2020-01-01 01:05:00     35\n",
       "2020-01-01 01:10:00    184\n",
       "2020-01-01 01:15:00    401\n",
       "2020-01-01 01:20:00    399\n",
       "2020-01-01 01:25:00    436\n",
       "2020-01-01 01:30:00    290\n",
       "2020-01-01 01:35:00    256\n",
       "Freq: 5T, dtype: int32"
      ]
     },
     "execution_count": 13,
     "metadata": {},
     "output_type": "execute_result"
    }
   ],
   "source": [
    "rs.asfreq()"
   ]
  },
  {
   "cell_type": "code",
   "execution_count": null,
   "id": "d3fb368a",
   "metadata": {},
   "outputs": [],
   "source": []
  }
 ],
 "metadata": {
  "kernelspec": {
   "display_name": "Python 3 (ipykernel)",
   "language": "python",
   "name": "python3"
  },
  "language_info": {
   "codemirror_mode": {
    "name": "ipython",
    "version": 3
   },
   "file_extension": ".py",
   "mimetype": "text/x-python",
   "name": "python",
   "nbconvert_exporter": "python",
   "pygments_lexer": "ipython3",
   "version": "3.9.13"
  }
 },
 "nbformat": 4,
 "nbformat_minor": 5
}
