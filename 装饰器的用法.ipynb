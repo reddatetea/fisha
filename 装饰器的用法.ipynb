{
 "cells": [
  {
   "cell_type": "code",
   "execution_count": 1,
   "id": "115dc647-571d-4ae5-b876-c6da0c8a3a60",
   "metadata": {},
   "outputs": [
    {
     "name": "stdout",
     "output_type": "stream",
     "text": [
      "函数调用前\n",
      "Hello!\n",
      "函数调用后\n"
     ]
    }
   ],
   "source": [
    "def my_decorator(func):\n",
    "    def wrapper():\n",
    "        print(\"函数调用前\")\n",
    "        func()\n",
    "        print(\"函数调用后\")\n",
    "    return wrapper\n",
    "\n",
    "@my_decorator\n",
    "def say_hello():\n",
    "    print(\"Hello!\")\n",
    "\n",
    "say_hello()"
   ]
  },
  {
   "cell_type": "code",
   "execution_count": 2,
   "id": "b5db2834-4269-4f34-9362-86692186f9b5",
   "metadata": {},
   "outputs": [
    {
     "name": "stdout",
     "output_type": "stream",
     "text": [
      "函数调用前\n",
      "Hello, Alice\n",
      "函数调用后\n"
     ]
    }
   ],
   "source": [
    "def my_decorator(func):\n",
    "    def wrapper(*args, **kwargs):\n",
    "        print(\"函数调用前\")\n",
    "        result = func(*args, **kwargs)\n",
    "        print(\"函数调用后\")\n",
    "        return result\n",
    "    return wrapper\n",
    "\n",
    "@my_decorator\n",
    "def greet(name):\n",
    "    print(f\"Hello, {name}\")\n",
    "\n",
    "greet(\"Alice\")"
   ]
  },
  {
   "cell_type": "code",
   "execution_count": 3,
   "id": "153bf639-1082-43e6-b9a2-bf7e3bdf2225",
   "metadata": {},
   "outputs": [
    {
     "name": "stdout",
     "output_type": "stream",
     "text": [
      "装饰器1\n",
      "装饰器2\n",
      "Hello!\n"
     ]
    }
   ],
   "source": [
    "def decorator1(func):\n",
    "    def wrapper():\n",
    "        print(\"装饰器1\")\n",
    "        func()\n",
    "    return wrapper\n",
    "\n",
    "def decorator2(func):\n",
    "    def wrapper():\n",
    "        print(\"装饰器2\")\n",
    "        func()\n",
    "    return wrapper\n",
    "\n",
    "@decorator1\n",
    "@decorator2\n",
    "def say_hello():\n",
    "    print(\"Hello!\")\n",
    "\n",
    "say_hello()"
   ]
  },
  {
   "cell_type": "code",
   "execution_count": 4,
   "id": "f036de9e-60bb-4a71-9ecc-7468bb910d90",
   "metadata": {},
   "outputs": [
    {
     "name": "stdout",
     "output_type": "stream",
     "text": [
      "Before method call\n",
      "Hello, Alice\n",
      "After method call\n"
     ]
    }
   ],
   "source": [
    "def my_decorator(func):\n",
    "    def wrapper(self, *args, **kwargs):\n",
    "        print(\"Before method call\")\n",
    "        result = func(self, *args, **kwargs)\n",
    "        print(\"After method call\")\n",
    "        return result\n",
    "    return wrapper\n",
    "\n",
    "class MyClass:\n",
    "    @my_decorator\n",
    "    def say_hello(self, name):\n",
    "        print(f\"Hello, {name}\")\n",
    "\n",
    "obj = MyClass()\n",
    "obj.say_hello(\"Alice\")\n"
   ]
  },
  {
   "cell_type": "code",
   "execution_count": 5,
   "id": "21b61abc-fc56-4fda-893b-61354d7bf381",
   "metadata": {},
   "outputs": [
    {
     "name": "stdout",
     "output_type": "stream",
     "text": [
      "Something is happening before the function is called.\n",
      "Hello!\n",
      "Something is happening after the function is called.\n"
     ]
    }
   ],
   "source": [
    "def simple_decorator(func):\n",
    "    def wrapper():\n",
    "        print(\"Something is happening before the function is called.\")\n",
    "        func()\n",
    "        print(\"Something is happening after the function is called.\")\n",
    "    return wrapper\n",
    "\n",
    "@simple_decorator\n",
    "def say_hello():\n",
    "    print(\"Hello!\")\n",
    "\n",
    "say_hello()"
   ]
  },
  {
   "cell_type": "code",
   "execution_count": 6,
   "id": "2b5abbaa-d303-47f3-a417-81a5cff8b19d",
   "metadata": {},
   "outputs": [
    {
     "name": "stdout",
     "output_type": "stream",
     "text": [
      "greet\n",
      "Prints a greeting.\n",
      "Wrapper is doing something before calling the function.\n",
      "Hello, Alice!\n",
      "Wrapper is doing something after calling the function.\n"
     ]
    }
   ],
   "source": [
    "from functools import wraps\n",
    "\n",
    "def better_decorator(func):\n",
    "    @wraps(func)\n",
    "    def wrapper(*args, **kwargs):\n",
    "        print(\"Wrapper is doing something before calling the function.\")\n",
    "        result = func(*args, **kwargs)\n",
    "        print(\"Wrapper is doing something after calling the function.\")\n",
    "        return result\n",
    "    return wrapper\n",
    "\n",
    "@better_decorator\n",
    "def greet(name):\n",
    "    \"\"\"Prints a greeting.\"\"\"\n",
    "    print(f\"Hello, {name}!\")\n",
    "\n",
    "print(greet.__name__)\n",
    "print(greet.__doc__)\n",
    "greet(\"Alice\")"
   ]
  },
  {
   "cell_type": "code",
   "execution_count": 8,
   "id": "9f47b25a-d1a1-4efd-a15e-2adbbafcfd51",
   "metadata": {},
   "outputs": [
    {
     "name": "stdout",
     "output_type": "stream",
     "text": [
      "example_function ran in: 0.05787062644958496 secs\n"
     ]
    },
    {
     "data": {
      "text/plain": [
       "499999500000"
      ]
     },
     "execution_count": 8,
     "metadata": {},
     "output_type": "execute_result"
    }
   ],
   "source": [
    "import time\n",
    "from functools import wraps\n",
    "\n",
    "def timing_decorator(func):\n",
    "    def wraps(*args, **kwargs):\n",
    "        start_time = time.time()\n",
    "        result = func(*args, **kwargs)\n",
    "        end_time = time.time()\n",
    "        print(f\"{func.__name__} ran in: {end_time - start_time} secs\")\n",
    "        return result\n",
    "    return wraps\n",
    "\n",
    "@timing_decorator\n",
    "def example_function(n):\n",
    "    sum = 0\n",
    "    for i in range(n):\n",
    "        sum += i\n",
    "    return sum\n",
    "\n",
    "example_function(1000000)"
   ]
  },
  {
   "cell_type": "code",
   "execution_count": 9,
   "id": "64e96873-620f-40ea-8c87-3e41574e4a18",
   "metadata": {},
   "outputs": [
    {
     "name": "stdout",
     "output_type": "stream",
     "text": [
      "example_function ran in: 0.05310368537902832 secs\n"
     ]
    },
    {
     "data": {
      "text/plain": [
       "499999500000"
      ]
     },
     "execution_count": 9,
     "metadata": {},
     "output_type": "execute_result"
    }
   ],
   "source": [
    "import time\n",
    "\n",
    "def timing_decorator(func):\n",
    "    def wrapper(*args, **kwargs):\n",
    "        start_time = time.time()\n",
    "        result = func(*args, **kwargs)\n",
    "        end_time = time.time()\n",
    "        print(f\"{func.__name__} ran in: {end_time - start_time} secs\")\n",
    "        return result\n",
    "    return wrapper\n",
    "\n",
    "@timing_decorator\n",
    "def example_function(n):\n",
    "    sum = 0\n",
    "    for i in range(n):\n",
    "        sum += i\n",
    "    return sum\n",
    "\n",
    "example_function(1000000)"
   ]
  },
  {
   "cell_type": "code",
   "execution_count": 10,
   "id": "f64eb0fb-236c-4673-9c78-e27394a6e7ed",
   "metadata": {},
   "outputs": [
    {
     "name": "stdout",
     "output_type": "stream",
     "text": [
      "Computes the sum of first n numbers.\n",
      "enhanced_example_function ran in: 0.03050684928894043 secs\n"
     ]
    },
    {
     "data": {
      "text/plain": [
       "499999500000"
      ]
     },
     "execution_count": 10,
     "metadata": {},
     "output_type": "execute_result"
    }
   ],
   "source": [
    "from functools import wraps\n",
    "import time\n",
    "\n",
    "def timing_decorator_with_wraps(func):\n",
    "    @wraps(func)\n",
    "    def wrapper(*args, **kwargs):\n",
    "        start_time = time.time()\n",
    "        result = func(*args, **kwargs)\n",
    "        end_time = time.time()\n",
    "        print(f\"{func.__name__} ran in: {end_time - start_time} secs\")\n",
    "        return result\n",
    "    return wrapper\n",
    "\n",
    "@timing_decorator_with_wraps\n",
    "def enhanced_example_function(n):\n",
    "    \"\"\"Computes the sum of first n numbers.\"\"\"\n",
    "    return sum(range(n))\n",
    "\n",
    "print(enhanced_example_function.__doc__)\n",
    "enhanced_example_function(1000000)"
   ]
  },
  {
   "cell_type": "code",
   "execution_count": 11,
   "id": "388bbf02-ad62-4e9d-be3c-ecd26bb00be0",
   "metadata": {},
   "outputs": [
    {
     "name": "stdout",
     "output_type": "stream",
     "text": [
      "An error occurred in function_might_raise_error: n must be non-negative\n"
     ]
    }
   ],
   "source": [
    "from functools import wraps\n",
    "def timing_decorator_with_exception_handling(func):\n",
    "    @wraps(func)\n",
    "    def wrapper(*args, **kwargs):\n",
    "        try:\n",
    "            start_time = time.time()\n",
    "            result = func(*args, **kwargs)\n",
    "            end_time = time.time()\n",
    "            print(f\"{func.__name__} ran in: {end_time - start_time} secs\")\n",
    "            return result\n",
    "        except Exception as e:\n",
    "            print(f\"An error occurred in {func.__name__}: {e}\")\n",
    "            raise\n",
    "    return wrapper\n",
    "\n",
    "@timing_decorator_with_exception_handling\n",
    "def function_might_raise_error(n):\n",
    "    if n < 0:\n",
    "        raise ValueError(\"n must be non-negative\")\n",
    "    return sum(range(n))\n",
    "\n",
    "try:\n",
    "    function_might_raise_error(-1)\n",
    "except ValueError:\n",
    "    pass  # Handled exception outside"
   ]
  },
  {
   "cell_type": "code",
   "execution_count": 13,
   "id": "c1b15ab5-3246-4652-8019-cfaf2769e926",
   "metadata": {},
   "outputs": [
    {
     "data": {
      "text/plain": [
       "7"
      ]
     },
     "execution_count": 13,
     "metadata": {},
     "output_type": "execute_result"
    }
   ],
   "source": [
    "import logging\n",
    "from functools import wraps\n",
    "\n",
    "def logging_decorator(logger=logging.getLogger(__name__)):\n",
    "    def decorator(func):\n",
    "        @wraps(func)\n",
    "        def wrapper(*args, **kwargs):\n",
    "            logger.info(f\"Calling function '{func.__name__}' with args={args}, kwargs={kwargs}\")\n",
    "            result = func(*args, **kwargs)\n",
    "            logger.info(f\"Function '{func.__name__}' finished execution.\")\n",
    "            return result\n",
    "        return wrapper\n",
    "    return decorator\n",
    "\n",
    "@logging_decorator()\n",
    "def sample_function(x, y):\n",
    "    return x + y\n",
    "\n",
    "sample_function(3, 4)"
   ]
  },
  {
   "cell_type": "code",
   "execution_count": null,
   "id": "a04fff6c-b837-4ecc-8a20-9af565bea293",
   "metadata": {},
   "outputs": [],
   "source": []
  }
 ],
 "metadata": {
  "kernelspec": {
   "display_name": "Python 3 (ipykernel)",
   "language": "python",
   "name": "python3"
  },
  "language_info": {
   "codemirror_mode": {
    "name": "ipython",
    "version": 3
   },
   "file_extension": ".py",
   "mimetype": "text/x-python",
   "name": "python",
   "nbconvert_exporter": "python",
   "pygments_lexer": "ipython3",
   "version": "3.11.5"
  }
 },
 "nbformat": 4,
 "nbformat_minor": 5
}
