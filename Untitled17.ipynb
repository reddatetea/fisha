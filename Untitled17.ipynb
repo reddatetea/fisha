{
 "cells": [
  {
   "cell_type": "code",
   "execution_count": 1,
   "id": "de6cbcc7-7426-41af-86e7-67f76ebe1d67",
   "metadata": {},
   "outputs": [],
   "source": [
    "import pandas as pd"
   ]
  },
  {
   "cell_type": "code",
   "execution_count": 13,
   "id": "71961d50-dcf4-41d7-bb59-698d9ce8cbfb",
   "metadata": {},
   "outputs": [
    {
     "data": {
      "text/html": [
       "<div>\n",
       "<style scoped>\n",
       "    .dataframe tbody tr th:only-of-type {\n",
       "        vertical-align: middle;\n",
       "    }\n",
       "\n",
       "    .dataframe tbody tr th {\n",
       "        vertical-align: top;\n",
       "    }\n",
       "\n",
       "    .dataframe thead th {\n",
       "        text-align: right;\n",
       "    }\n",
       "</style>\n",
       "<table border=\"1\" class=\"dataframe\">\n",
       "  <thead>\n",
       "    <tr style=\"text-align: right;\">\n",
       "      <th></th>\n",
       "      <th>qichu_ben</th>\n",
       "      <th>qichu_jian</th>\n",
       "      <th>benqi_ben</th>\n",
       "      <th>benqi_jian</th>\n",
       "    </tr>\n",
       "  </thead>\n",
       "  <tbody>\n",
       "    <tr>\n",
       "      <th>0</th>\n",
       "      <td>100</td>\n",
       "      <td>2</td>\n",
       "      <td>200</td>\n",
       "      <td>4</td>\n",
       "    </tr>\n",
       "    <tr>\n",
       "      <th>1</th>\n",
       "      <td>200</td>\n",
       "      <td>4</td>\n",
       "      <td>-200</td>\n",
       "      <td>4</td>\n",
       "    </tr>\n",
       "    <tr>\n",
       "      <th>2</th>\n",
       "      <td>-300</td>\n",
       "      <td>-2</td>\n",
       "      <td>300</td>\n",
       "      <td>6</td>\n",
       "    </tr>\n",
       "  </tbody>\n",
       "</table>\n",
       "</div>"
      ],
      "text/plain": [
       "   qichu_ben  qichu_jian  benqi_ben  benqi_jian\n",
       "0        100           2        200           4\n",
       "1        200           4       -200           4\n",
       "2       -300          -2        300           6"
      ]
     },
     "execution_count": 13,
     "metadata": {},
     "output_type": "execute_result"
    }
   ],
   "source": [
    "df = pd.DataFrame({'qichu_ben':[100,200,-300],'qichu_jian':[2,4,-2],'benqi_ben':[200,-200,300],'benqi_jian':[4,4,6]})\n",
    "df"
   ]
  },
  {
   "cell_type": "code",
   "execution_count": 14,
   "id": "3d684d47-2c1a-40a4-b279-83e3488357fc",
   "metadata": {},
   "outputs": [],
   "source": [
    "df['content'] = (df.qichu_ben + df.benqi_ben)/(df.qichu_jian + df.benqi_jian)"
   ]
  },
  {
   "cell_type": "code",
   "execution_count": 15,
   "id": "e4bee18a-8287-4d20-aba6-6d6d09e1f1b5",
   "metadata": {},
   "outputs": [
    {
     "data": {
      "text/html": [
       "<div>\n",
       "<style scoped>\n",
       "    .dataframe tbody tr th:only-of-type {\n",
       "        vertical-align: middle;\n",
       "    }\n",
       "\n",
       "    .dataframe tbody tr th {\n",
       "        vertical-align: top;\n",
       "    }\n",
       "\n",
       "    .dataframe thead th {\n",
       "        text-align: right;\n",
       "    }\n",
       "</style>\n",
       "<table border=\"1\" class=\"dataframe\">\n",
       "  <thead>\n",
       "    <tr style=\"text-align: right;\">\n",
       "      <th></th>\n",
       "      <th>qichu_ben</th>\n",
       "      <th>qichu_jian</th>\n",
       "      <th>benqi_ben</th>\n",
       "      <th>benqi_jian</th>\n",
       "      <th>content</th>\n",
       "    </tr>\n",
       "  </thead>\n",
       "  <tbody>\n",
       "    <tr>\n",
       "      <th>0</th>\n",
       "      <td>100</td>\n",
       "      <td>2</td>\n",
       "      <td>200</td>\n",
       "      <td>4</td>\n",
       "      <td>50.0</td>\n",
       "    </tr>\n",
       "    <tr>\n",
       "      <th>1</th>\n",
       "      <td>200</td>\n",
       "      <td>4</td>\n",
       "      <td>-200</td>\n",
       "      <td>4</td>\n",
       "      <td>0.0</td>\n",
       "    </tr>\n",
       "    <tr>\n",
       "      <th>2</th>\n",
       "      <td>-300</td>\n",
       "      <td>-2</td>\n",
       "      <td>300</td>\n",
       "      <td>6</td>\n",
       "      <td>0.0</td>\n",
       "    </tr>\n",
       "  </tbody>\n",
       "</table>\n",
       "</div>"
      ],
      "text/plain": [
       "   qichu_ben  qichu_jian  benqi_ben  benqi_jian  content\n",
       "0        100           2        200           4     50.0\n",
       "1        200           4       -200           4      0.0\n",
       "2       -300          -2        300           6      0.0"
      ]
     },
     "execution_count": 15,
     "metadata": {},
     "output_type": "execute_result"
    }
   ],
   "source": [
    "df"
   ]
  },
  {
   "cell_type": "code",
   "execution_count": 27,
   "id": "f1f5b55d-fd42-4983-ba84-e93ede3ec093",
   "metadata": {},
   "outputs": [],
   "source": [
    "def getContent(df):\n",
    "    if ((df.qichu_ben + df.benqi_ben) != 0).any(1):\n",
    "        df['content'] = (df.qichu_ben + df.benqi_ben)/(df.qichu_jian + df.benqi_jian)\n",
    "    elif (df.qichu_ben > 0).any(1):\n",
    "        df['content'] = df.qichu_ben/df.qichu_jian \n",
    "    else:\n",
    "        df['content'] = df.benqi_ben/df.benqi_jian\n",
    "    return df\n",
    "    \n"
   ]
  },
  {
   "cell_type": "code",
   "execution_count": 25,
   "id": "fc4e5338-6b68-45fc-b05f-6d39b8eefb41",
   "metadata": {},
   "outputs": [
    {
     "ename": "ValueError",
     "evalue": "The truth value of a Series is ambiguous. Use a.empty, a.bool(), a.item(), a.any() or a.all().",
     "output_type": "error",
     "traceback": [
      "\u001b[1;31m---------------------------------------------------------------------------\u001b[0m",
      "\u001b[1;31mValueError\u001b[0m                                Traceback (most recent call last)",
      "Cell \u001b[1;32mIn[25], line 1\u001b[0m\n\u001b[1;32m----> 1\u001b[0m df \u001b[38;5;241m=\u001b[39m \u001b[43mgetContent\u001b[49m\u001b[43m(\u001b[49m\u001b[43mdf\u001b[49m\u001b[43m)\u001b[49m\n\u001b[0;32m      2\u001b[0m df\n",
      "Cell \u001b[1;32mIn[24], line 2\u001b[0m, in \u001b[0;36mgetContent\u001b[1;34m(df)\u001b[0m\n\u001b[0;32m      1\u001b[0m \u001b[38;5;28;01mdef\u001b[39;00m \u001b[38;5;21mgetContent\u001b[39m(df):\n\u001b[1;32m----> 2\u001b[0m     \u001b[38;5;28;01mif\u001b[39;00m (df\u001b[38;5;241m.\u001b[39mqichu_ben \u001b[38;5;241m+\u001b[39m df\u001b[38;5;241m.\u001b[39mbenqi_ben) \u001b[38;5;241m!=\u001b[39m \u001b[38;5;241m0\u001b[39m:\n\u001b[0;32m      3\u001b[0m         df[\u001b[38;5;124m'\u001b[39m\u001b[38;5;124mcontent\u001b[39m\u001b[38;5;124m'\u001b[39m] \u001b[38;5;241m=\u001b[39m (df\u001b[38;5;241m.\u001b[39mqichu_ben \u001b[38;5;241m+\u001b[39m df\u001b[38;5;241m.\u001b[39mbenqi_ben)\u001b[38;5;241m/\u001b[39m(df\u001b[38;5;241m.\u001b[39mqichu_jian \u001b[38;5;241m+\u001b[39m df\u001b[38;5;241m.\u001b[39mbenqi_jian)\n\u001b[0;32m      4\u001b[0m     \u001b[38;5;28;01melif\u001b[39;00m df\u001b[38;5;241m.\u001b[39mqichu_ben \u001b[38;5;241m>\u001b[39m \u001b[38;5;241m0\u001b[39m:\n",
      "File \u001b[1;32m~\\.conda\\envs\\py311\\Lib\\site-packages\\pandas\\core\\generic.py:1577\u001b[0m, in \u001b[0;36mNDFrame.__nonzero__\u001b[1;34m(self)\u001b[0m\n\u001b[0;32m   1575\u001b[0m \u001b[38;5;129m@final\u001b[39m\n\u001b[0;32m   1576\u001b[0m \u001b[38;5;28;01mdef\u001b[39;00m \u001b[38;5;21m__nonzero__\u001b[39m(\u001b[38;5;28mself\u001b[39m) \u001b[38;5;241m-\u001b[39m\u001b[38;5;241m>\u001b[39m NoReturn:\n\u001b[1;32m-> 1577\u001b[0m     \u001b[38;5;28;01mraise\u001b[39;00m \u001b[38;5;167;01mValueError\u001b[39;00m(\n\u001b[0;32m   1578\u001b[0m         \u001b[38;5;124mf\u001b[39m\u001b[38;5;124m\"\u001b[39m\u001b[38;5;124mThe truth value of a \u001b[39m\u001b[38;5;132;01m{\u001b[39;00m\u001b[38;5;28mtype\u001b[39m(\u001b[38;5;28mself\u001b[39m)\u001b[38;5;241m.\u001b[39m\u001b[38;5;18m__name__\u001b[39m\u001b[38;5;132;01m}\u001b[39;00m\u001b[38;5;124m is ambiguous. \u001b[39m\u001b[38;5;124m\"\u001b[39m\n\u001b[0;32m   1579\u001b[0m         \u001b[38;5;124m\"\u001b[39m\u001b[38;5;124mUse a.empty, a.bool(), a.item(), a.any() or a.all().\u001b[39m\u001b[38;5;124m\"\u001b[39m\n\u001b[0;32m   1580\u001b[0m     )\n",
      "\u001b[1;31mValueError\u001b[0m: The truth value of a Series is ambiguous. Use a.empty, a.bool(), a.item(), a.any() or a.all()."
     ]
    }
   ],
   "source": [
    "df = getContent(df)\n",
    "df"
   ]
  },
  {
   "cell_type": "code",
   "execution_count": 22,
   "id": "42e8e95f-fc7b-42b5-975b-cc3cb9fc62b3",
   "metadata": {},
   "outputs": [
    {
     "ename": "ValueError",
     "evalue": "The truth value of a Series is ambiguous. Use a.empty, a.bool(), a.item(), a.any() or a.all().",
     "output_type": "error",
     "traceback": [
      "\u001b[1;31m---------------------------------------------------------------------------\u001b[0m",
      "\u001b[1;31mValueError\u001b[0m                                Traceback (most recent call last)",
      "Cell \u001b[1;32mIn[22], line 1\u001b[0m\n\u001b[1;32m----> 1\u001b[0m \u001b[38;5;28;01mif\u001b[39;00m (df\u001b[38;5;241m.\u001b[39mqichu_ben \u001b[38;5;241m+\u001b[39m df\u001b[38;5;241m.\u001b[39mbenqi_ben) \u001b[38;5;241m!=\u001b[39m \u001b[38;5;241m0\u001b[39m:\n\u001b[0;32m      2\u001b[0m     df[\u001b[38;5;124m'\u001b[39m\u001b[38;5;124mcontent\u001b[39m\u001b[38;5;124m'\u001b[39m] \u001b[38;5;241m=\u001b[39m (df\u001b[38;5;241m.\u001b[39mqichu_ben \u001b[38;5;241m+\u001b[39m df\u001b[38;5;241m.\u001b[39mbenqi_ben)\u001b[38;5;241m/\u001b[39m(df\u001b[38;5;241m.\u001b[39mqichu_jian \u001b[38;5;241m+\u001b[39m df\u001b[38;5;241m.\u001b[39mbenqi_jian)\n\u001b[0;32m      3\u001b[0m \u001b[38;5;28;01melif\u001b[39;00m df\u001b[38;5;241m.\u001b[39mqichu_ben \u001b[38;5;241m>\u001b[39m \u001b[38;5;241m0\u001b[39m:\n",
      "File \u001b[1;32m~\\.conda\\envs\\py311\\Lib\\site-packages\\pandas\\core\\generic.py:1577\u001b[0m, in \u001b[0;36mNDFrame.__nonzero__\u001b[1;34m(self)\u001b[0m\n\u001b[0;32m   1575\u001b[0m \u001b[38;5;129m@final\u001b[39m\n\u001b[0;32m   1576\u001b[0m \u001b[38;5;28;01mdef\u001b[39;00m \u001b[38;5;21m__nonzero__\u001b[39m(\u001b[38;5;28mself\u001b[39m) \u001b[38;5;241m-\u001b[39m\u001b[38;5;241m>\u001b[39m NoReturn:\n\u001b[1;32m-> 1577\u001b[0m     \u001b[38;5;28;01mraise\u001b[39;00m \u001b[38;5;167;01mValueError\u001b[39;00m(\n\u001b[0;32m   1578\u001b[0m         \u001b[38;5;124mf\u001b[39m\u001b[38;5;124m\"\u001b[39m\u001b[38;5;124mThe truth value of a \u001b[39m\u001b[38;5;132;01m{\u001b[39;00m\u001b[38;5;28mtype\u001b[39m(\u001b[38;5;28mself\u001b[39m)\u001b[38;5;241m.\u001b[39m\u001b[38;5;18m__name__\u001b[39m\u001b[38;5;132;01m}\u001b[39;00m\u001b[38;5;124m is ambiguous. \u001b[39m\u001b[38;5;124m\"\u001b[39m\n\u001b[0;32m   1579\u001b[0m         \u001b[38;5;124m\"\u001b[39m\u001b[38;5;124mUse a.empty, a.bool(), a.item(), a.any() or a.all().\u001b[39m\u001b[38;5;124m\"\u001b[39m\n\u001b[0;32m   1580\u001b[0m     )\n",
      "\u001b[1;31mValueError\u001b[0m: The truth value of a Series is ambiguous. Use a.empty, a.bool(), a.item(), a.any() or a.all()."
     ]
    }
   ],
   "source": [
    "if (df.qichu_ben + df.benqi_ben) != 0:\n",
    "    df['content'] = (df.qichu_ben + df.benqi_ben)/(df.qichu_jian + df.benqi_jian)\n",
    "elif df.qichu_ben > 0:\n",
    "    df['content'] = df.qichu_ben/df.qichu_jian \n",
    "else:\n",
    "    df['content'] = df.benqi_ben/df.benqi_jian"
   ]
  },
  {
   "cell_type": "code",
   "execution_count": 34,
   "id": "75aaa422-2070-43e6-a33e-bbf012834cd0",
   "metadata": {},
   "outputs": [],
   "source": [
    "import numpy as np\n",
    "df['content'] = np.where((df.qichu_ben + df.benqi_ben) != 0, \\\n",
    "                         (df.qichu_ben + df.benqi_ben)/(df.qichu_jian + df.benqi_jian),\\\n",
    "                         np.where(df.qichu_ben > 0,df.qichu_ben/df.qichu_jian,df.benqi_ben/df.benqi_jian))"
   ]
  },
  {
   "cell_type": "code",
   "execution_count": 35,
   "id": "41c7638b-ed0c-4ef0-b4be-1479ef3a5e29",
   "metadata": {},
   "outputs": [
    {
     "data": {
      "text/html": [
       "<div>\n",
       "<style scoped>\n",
       "    .dataframe tbody tr th:only-of-type {\n",
       "        vertical-align: middle;\n",
       "    }\n",
       "\n",
       "    .dataframe tbody tr th {\n",
       "        vertical-align: top;\n",
       "    }\n",
       "\n",
       "    .dataframe thead th {\n",
       "        text-align: right;\n",
       "    }\n",
       "</style>\n",
       "<table border=\"1\" class=\"dataframe\">\n",
       "  <thead>\n",
       "    <tr style=\"text-align: right;\">\n",
       "      <th></th>\n",
       "      <th>qichu_ben</th>\n",
       "      <th>qichu_jian</th>\n",
       "      <th>benqi_ben</th>\n",
       "      <th>benqi_jian</th>\n",
       "      <th>content</th>\n",
       "    </tr>\n",
       "  </thead>\n",
       "  <tbody>\n",
       "    <tr>\n",
       "      <th>0</th>\n",
       "      <td>100</td>\n",
       "      <td>2</td>\n",
       "      <td>200</td>\n",
       "      <td>4</td>\n",
       "      <td>50.0</td>\n",
       "    </tr>\n",
       "    <tr>\n",
       "      <th>1</th>\n",
       "      <td>200</td>\n",
       "      <td>4</td>\n",
       "      <td>-200</td>\n",
       "      <td>4</td>\n",
       "      <td>50.0</td>\n",
       "    </tr>\n",
       "    <tr>\n",
       "      <th>2</th>\n",
       "      <td>-300</td>\n",
       "      <td>-2</td>\n",
       "      <td>300</td>\n",
       "      <td>6</td>\n",
       "      <td>50.0</td>\n",
       "    </tr>\n",
       "  </tbody>\n",
       "</table>\n",
       "</div>"
      ],
      "text/plain": [
       "   qichu_ben  qichu_jian  benqi_ben  benqi_jian  content\n",
       "0        100           2        200           4     50.0\n",
       "1        200           4       -200           4     50.0\n",
       "2       -300          -2        300           6     50.0"
      ]
     },
     "execution_count": 35,
     "metadata": {},
     "output_type": "execute_result"
    }
   ],
   "source": [
    "df"
   ]
  },
  {
   "cell_type": "code",
   "execution_count": null,
   "id": "d4d85f7c-3bb4-4dda-b184-a1d880c95d3e",
   "metadata": {},
   "outputs": [],
   "source": []
  }
 ],
 "metadata": {
  "kernelspec": {
   "display_name": "Python 3 (ipykernel)",
   "language": "python",
   "name": "python3"
  },
  "language_info": {
   "codemirror_mode": {
    "name": "ipython",
    "version": 3
   },
   "file_extension": ".py",
   "mimetype": "text/x-python",
   "name": "python",
   "nbconvert_exporter": "python",
   "pygments_lexer": "ipython3",
   "version": "3.11.5"
  }
 },
 "nbformat": 4,
 "nbformat_minor": 5
}
