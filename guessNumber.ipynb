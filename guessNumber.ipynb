{
 "cells": [
  {
   "cell_type": "code",
   "execution_count": 1,
   "metadata": {},
   "outputs": [
    {
     "name": "stdout",
     "output_type": "stream",
     "text": [
      "\n",
      " 欢迎来到猜数字小游戏，刚开始你有10个币，每猜一次消耗2个币，猜对了可以得到10币的奖励 \n",
      "\n",
      "\n",
      " 规则：答案是由两位数字组成，每位数字都是0-9之间的随机整数，有难度哦！ \n",
      "\n",
      "请输入你猜的数字：->29\n",
      "*****你猜小了哦，你还剩 8 个币 还有 4 次机会啦*****\n",
      "请输入你猜的数字：->50\n",
      "*****你猜小了哦，你还剩 6 个币 还有 3 次机会啦*****\n",
      "请输入你猜的数字：->80\n",
      "*****你猜小了哦，你还剩 4 个币 还有 2 次机会啦*****\n",
      "请输入你猜的数字：->90\n",
      "*****你猜小了哦，你还剩 2 个币 还有 1 次机会啦*****\n",
      "请输入你猜的数字：->97\n",
      "*****你猜大了哦，你还剩 0 个币 还有 0 次机会啦*****\n",
      "\n",
      "*****抱歉，你的币用光啦！问妈妈要钱，去买币吧：（*****\n",
      "真正的答案是： 93\n"
     ]
    }
   ],
   "source": [
    "#猜数字小游戏\n",
    "#导入time库 Python标准库\n",
    "import time\n",
    "#导入随机库 Python标准库\n",
    "import random\n",
    "\n",
    "#定义一下数字答案，共两位数字组成，每位都是0-9之间的随机数\n",
    "str_num = str(random.randint(0,9))+str(random.randint(0,9))\n",
    "number = int(str_num)\n",
    "#去掉下面这一行前面的#，可以偷偷看答案\n",
    "#print(number)\n",
    "#定义一开始的游戏币数量\n",
    "money = 10\n",
    "#打印游戏说明\n",
    "print('\\n','欢迎来到猜数字小游戏，刚开始你有10个币，每猜一次消耗2个币，猜对了可以得到10币的奖励','\\n')\n",
    "print('\\n','规则：答案是由两位数字组成，每位数字都是0-9之间的随机整数，有难度哦！','\\n')\n",
    "#定义一个循环\n",
    "while money > 0:\n",
    "#暂停2秒钟\n",
    "    time.sleep(2)\n",
    "    guess_number = int(input('请输入你猜的数字：->'))\n",
    "    if number > guess_number:\n",
    "        money-=2\n",
    "        print('*****你猜小了哦，你还剩',money,'个币','还有',int(money/2),'次机会啦*****')\n",
    "    elif number < guess_number:\n",
    "        money-=2\n",
    "        print('*****你猜大了哦，你还剩',money,'个币','还有',int(money/2),'次机会啦*****')\n",
    "    else:\n",
    "        print('*****BINGO！你真棒！猜对了！奖励你10个币*****')\n",
    "        money-=2\n",
    "        money+=10\n",
    "        print('*****你现在有',money,'个币了，继续玩吧！*****')\n",
    "        #重置随机数答案，继续玩\n",
    "        str_num = str(random.randint(0,9))+str(random.randint(0,9))\n",
    "        number = int(str_num)\n",
    "        #break\n",
    "#判断是否用尽了机会\n",
    "if money == 0:\n",
    "    print('\\n*****抱歉，你的币用光啦！问妈妈要钱，去买币吧：（*****')\n",
    "    print('真正的答案是：',str_num)\n",
    "    "
   ]
  },
  {
   "cell_type": "markdown",
   "metadata": {},
   "source": []
  },
  {
   "cell_type": "code",
   "execution_count": null,
   "metadata": {},
   "outputs": [],
   "source": []
  }
 ],
 "metadata": {
  "kernelspec": {
   "display_name": "Python 3",
   "language": "python",
   "name": "python3"
  },
  "language_info": {
   "codemirror_mode": {
    "name": "ipython",
    "version": 3
   },
   "file_extension": ".py",
   "mimetype": "text/x-python",
   "name": "python",
   "nbconvert_exporter": "python",
   "pygments_lexer": "ipython3",
   "version": "3.7.6"
  }
 },
 "nbformat": 4,
 "nbformat_minor": 4
}
