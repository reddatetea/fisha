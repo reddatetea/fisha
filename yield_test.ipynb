{
 "cells": [
  {
   "cell_type": "code",
   "execution_count": 1,
   "id": "0063f3ef",
   "metadata": {},
   "outputs": [
    {
     "name": "stdout",
     "output_type": "stream",
     "text": [
      "0 ,\n",
      "i= 0\n",
      "2 ,\n",
      "i= 1\n",
      "4 ,\n",
      "i= 2\n",
      "6 ,\n",
      "i= 3\n",
      "8 ,\n",
      "i= 4\n",
      "do something.\n",
      "end.\n"
     ]
    }
   ],
   "source": [
    "def yield_test(n):\n",
    "    for i in range(n):\n",
    "        yield call(i)       #使用yield语句\n",
    "        print(\"i=\",i)       #做一些其它的事情\n",
    "    print(\"do something.\")\n",
    "    print(\"end.\")\n",
    "def call(i):\n",
    "    return i*2\n",
    "\n",
    "#使用for循环，它使用了next()方法\n",
    "for i in yield_test(5):\n",
    "    print(i,\",\")"
   ]
  },
  {
   "cell_type": "code",
   "execution_count": null,
   "id": "e923e8f2",
   "metadata": {},
   "outputs": [],
   "source": []
  }
 ],
 "metadata": {
  "kernelspec": {
   "display_name": "Python 3 (ipykernel)",
   "language": "python",
   "name": "python3"
  },
  "language_info": {
   "codemirror_mode": {
    "name": "ipython",
    "version": 3
   },
   "file_extension": ".py",
   "mimetype": "text/x-python",
   "name": "python",
   "nbconvert_exporter": "python",
   "pygments_lexer": "ipython3",
   "version": "3.8.3"
  }
 },
 "nbformat": 4,
 "nbformat_minor": 5
}
