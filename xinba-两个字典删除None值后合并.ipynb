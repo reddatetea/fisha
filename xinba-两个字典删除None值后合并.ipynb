{
 "cells": [
  {
   "cell_type": "code",
   "execution_count": 13,
   "id": "ebb0b56a",
   "metadata": {},
   "outputs": [],
   "source": [
    "import pandas as pd"
   ]
  },
  {
   "cell_type": "code",
   "execution_count": 1,
   "id": "cf33aac9",
   "metadata": {},
   "outputs": [],
   "source": [
    "a_di = {'asin':'aaa','imglink':None}\n",
    "b_di = {'asin':None,'imglink':'bbb'}"
   ]
  },
  {
   "cell_type": "code",
   "execution_count": 5,
   "id": "041c5ad6",
   "metadata": {},
   "outputs": [
    {
     "data": {
      "text/plain": [
       "{'asin': 'aaa', 'imglink': 'bbb'}"
      ]
     },
     "execution_count": 5,
     "metadata": {},
     "output_type": "execute_result"
    }
   ],
   "source": [
    "{k:v for k,v in a_di.items() if v} | {k:v for k,v in b_di.items() if v}"
   ]
  }
 ],
 "metadata": {
  "kernelspec": {
   "display_name": "Python 3 (ipykernel)",
   "language": "python",
   "name": "python3"
  },
  "language_info": {
   "codemirror_mode": {
    "name": "ipython",
    "version": 3
   },
   "file_extension": ".py",
   "mimetype": "text/x-python",
   "name": "python",
   "nbconvert_exporter": "python",
   "pygments_lexer": "ipython3",
   "version": "3.9.13"
  }
 },
 "nbformat": 4,
 "nbformat_minor": 5
}
