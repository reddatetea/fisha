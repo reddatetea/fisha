{
 "cells": [
  {
   "cell_type": "code",
   "execution_count": 1,
   "id": "7588dd8f-ed9c-40c0-9c26-7bf2dbac5a97",
   "metadata": {},
   "outputs": [
    {
     "data": {
      "text/html": [
       "<div>\n",
       "<style scoped>\n",
       "    .dataframe tbody tr th:only-of-type {\n",
       "        vertical-align: middle;\n",
       "    }\n",
       "\n",
       "    .dataframe tbody tr th {\n",
       "        vertical-align: top;\n",
       "    }\n",
       "\n",
       "    .dataframe thead th {\n",
       "        text-align: right;\n",
       "    }\n",
       "</style>\n",
       "<table border=\"1\" class=\"dataframe\">\n",
       "  <thead>\n",
       "    <tr style=\"text-align: right;\">\n",
       "      <th></th>\n",
       "      <th>Item</th>\n",
       "      <th>Quantity</th>\n",
       "      <th>Related Items</th>\n",
       "    </tr>\n",
       "  </thead>\n",
       "  <tbody>\n",
       "    <tr>\n",
       "      <th>0</th>\n",
       "      <td>Flowers</td>\n",
       "      <td>1</td>\n",
       "      <td>[Bushes]</td>\n",
       "    </tr>\n",
       "    <tr>\n",
       "      <th>1</th>\n",
       "      <td>Bushes</td>\n",
       "      <td>2</td>\n",
       "      <td>[Flowers]</td>\n",
       "    </tr>\n",
       "    <tr>\n",
       "      <th>2</th>\n",
       "      <td>Cars</td>\n",
       "      <td>3</td>\n",
       "      <td>[Trucks, Motorcycles]</td>\n",
       "    </tr>\n",
       "    <tr>\n",
       "      <th>3</th>\n",
       "      <td>Trucks</td>\n",
       "      <td>4</td>\n",
       "      <td>[Cars, Motorcycles]</td>\n",
       "    </tr>\n",
       "    <tr>\n",
       "      <th>4</th>\n",
       "      <td>Motorcycles</td>\n",
       "      <td>5</td>\n",
       "      <td>[Cars, Trucks]</td>\n",
       "    </tr>\n",
       "  </tbody>\n",
       "</table>\n",
       "</div>"
      ],
      "text/plain": [
       "          Item  Quantity          Related Items\n",
       "0      Flowers         1               [Bushes]\n",
       "1       Bushes         2              [Flowers]\n",
       "2         Cars         3  [Trucks, Motorcycles]\n",
       "3       Trucks         4    [Cars, Motorcycles]\n",
       "4  Motorcycles         5         [Cars, Trucks]"
      ]
     },
     "execution_count": 1,
     "metadata": {},
     "output_type": "execute_result"
    }
   ],
   "source": [
    "import pandas as pd\n",
    "\n",
    "data = {'Item': ['Flowers', 'Bushes', 'Cars', 'Trucks', 'Motorcycles'],\n",
    "        'Quantity': [1, 2, 3, 4, 5],\n",
    "        'Related Items': [['Bushes'],\n",
    "                          ['Flowers'],\n",
    "                          ['Trucks', 'Motorcycles'],\n",
    "                          ['Cars', 'Motorcycles'],\n",
    "                          ['Cars', 'Trucks']]\n",
    "       }\n",
    "df = pd.DataFrame(data)\n",
    "df"
   ]
  },
  {
   "cell_type": "code",
   "execution_count": 2,
   "id": "7b1df489-e6e4-4668-a319-b1f2b83b6342",
   "metadata": {},
   "outputs": [
    {
     "data": {
      "text/plain": [
       "0                      {'Bushes': 2}\n",
       "1                     {'Flowers': 1}\n",
       "2    {'Trucks': 4, 'Motorcycles': 5}\n",
       "3      {'Cars': 3, 'Motorcycles': 5}\n",
       "4           {'Cars': 3, 'Trucks': 4}\n",
       "Name: Related Items, dtype: object"
      ]
     },
     "execution_count": 2,
     "metadata": {},
     "output_type": "execute_result"
    }
   ],
   "source": [
    "df['Related Items'].map(lambda x: {i: df.set_index('Item').at[i, 'Quantity'] for i in x})"
   ]
  },
  {
   "cell_type": "code",
   "execution_count": null,
   "id": "e9e65381-a861-4309-93f2-23a01e754649",
   "metadata": {},
   "outputs": [],
   "source": []
  }
 ],
 "metadata": {
  "kernelspec": {
   "display_name": "Python 3 (ipykernel)",
   "language": "python",
   "name": "python3"
  },
  "language_info": {
   "codemirror_mode": {
    "name": "ipython",
    "version": 3
   },
   "file_extension": ".py",
   "mimetype": "text/x-python",
   "name": "python",
   "nbconvert_exporter": "python",
   "pygments_lexer": "ipython3",
   "version": "3.13.0"
  }
 },
 "nbformat": 4,
 "nbformat_minor": 5
}
