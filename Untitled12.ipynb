{
 "cells": [
  {
   "cell_type": "code",
   "execution_count": 14,
   "id": "1e78772e-f309-4568-aeb1-a587550eec00",
   "metadata": {},
   "outputs": [
    {
     "name": "stdout",
     "output_type": "stream",
     "text": [
      "Total execution time: 0.032252 seconds\n",
      "zhang-wen-wei\n",
      "Total execution time: 0.009701 seconds\n"
     ]
    }
   ],
   "source": [
    "from xpinyin import Pinyin\n",
    "import countTimer\n",
    "\n",
    "with countTimer.Timer():\n",
    "    p = Pinyin()\n",
    "    name = \"张文伟\"\n",
    "    name_pinyin = p.get_pinyin(name)\n",
    "    print(name_pinyin)"
   ]
  }
 ],
 "metadata": {
  "kernelspec": {
   "display_name": "Python 3 (ipykernel)",
   "language": "python",
   "name": "python3"
  },
  "language_info": {
   "codemirror_mode": {
    "name": "ipython",
    "version": 3
   },
   "file_extension": ".py",
   "mimetype": "text/x-python",
   "name": "python",
   "nbconvert_exporter": "python",
   "pygments_lexer": "ipython3",
   "version": "3.11.5"
  }
 },
 "nbformat": 4,
 "nbformat_minor": 5
}
