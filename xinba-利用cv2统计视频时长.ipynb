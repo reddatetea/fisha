{
 "cells": [
  {
   "cell_type": "code",
   "execution_count": 1,
   "id": "208f5367",
   "metadata": {},
   "outputs": [],
   "source": [
    "#pip install opencv-python"
   ]
  },
  {
   "cell_type": "code",
   "execution_count": 2,
   "id": "f859e3e5",
   "metadata": {},
   "outputs": [],
   "source": [
    "import cv2 as cv\n",
    "\n",
    "def get_dur(filename):\n",
    "    video = cv.VideoCapture(filename)\n",
    "    fps = video.get(cv.CAP_PROP_FPS)\n",
    "    frame_count = video.get(cv.CAP_PROP_FRAME_COUNT)\n",
    "    seconds = frame_count / fps\n",
    "    return seconds"
   ]
  },
  {
   "cell_type": "code",
   "execution_count": 3,
   "id": "0fafe32b",
   "metadata": {},
   "outputs": [
    {
     "data": {
      "text/plain": [
       "2726.5922363281247"
      ]
     },
     "execution_count": 3,
     "metadata": {},
     "output_type": "execute_result"
    }
   ],
   "source": [
    "import glob\n",
    "\n",
    "# 所有视频文件列表\n",
    "v_list = glob.glob(r'F:\\a00nutstore\\娱乐\\*.mp4')\n",
    "# 调用统计总秒数\n",
    "sum(get_dur(i) for i in v_list)"
   ]
  },
  {
   "cell_type": "code",
   "execution_count": null,
   "id": "d5ad3641",
   "metadata": {},
   "outputs": [],
   "source": []
  }
 ],
 "metadata": {
  "kernelspec": {
   "display_name": "Python 3 (ipykernel)",
   "language": "python",
   "name": "python3"
  },
  "language_info": {
   "codemirror_mode": {
    "name": "ipython",
    "version": 3
   },
   "file_extension": ".py",
   "mimetype": "text/x-python",
   "name": "python",
   "nbconvert_exporter": "python",
   "pygments_lexer": "ipython3",
   "version": "3.8.3"
  }
 },
 "nbformat": 4,
 "nbformat_minor": 5
}
