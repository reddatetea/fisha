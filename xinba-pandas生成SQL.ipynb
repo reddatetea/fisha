{
 "cells": [
  {
   "cell_type": "code",
   "execution_count": 2,
   "id": "235572ac",
   "metadata": {},
   "outputs": [
    {
     "data": {
      "text/html": [
       "<div>\n",
       "<style scoped>\n",
       "    .dataframe tbody tr th:only-of-type {\n",
       "        vertical-align: middle;\n",
       "    }\n",
       "\n",
       "    .dataframe tbody tr th {\n",
       "        vertical-align: top;\n",
       "    }\n",
       "\n",
       "    .dataframe thead th {\n",
       "        text-align: right;\n",
       "    }\n",
       "</style>\n",
       "<table border=\"1\" class=\"dataframe\">\n",
       "  <thead>\n",
       "    <tr style=\"text-align: right;\">\n",
       "      <th></th>\n",
       "      <th>节日</th>\n",
       "      <th>开始日期</th>\n",
       "      <th>结束日期</th>\n",
       "    </tr>\n",
       "  </thead>\n",
       "  <tbody>\n",
       "    <tr>\n",
       "      <th>0</th>\n",
       "      <td>元旦</td>\n",
       "      <td>2020-01-01</td>\n",
       "      <td>2020-01-01</td>\n",
       "    </tr>\n",
       "    <tr>\n",
       "      <th>1</th>\n",
       "      <td>除夕</td>\n",
       "      <td>2020-01-24</td>\n",
       "      <td>2020-01-24</td>\n",
       "    </tr>\n",
       "    <tr>\n",
       "      <th>2</th>\n",
       "      <td>清明节</td>\n",
       "      <td>2020-04-04</td>\n",
       "      <td>2020-04-04</td>\n",
       "    </tr>\n",
       "    <tr>\n",
       "      <th>3</th>\n",
       "      <td>劳动节</td>\n",
       "      <td>2020-05-01</td>\n",
       "      <td>2020-05-01</td>\n",
       "    </tr>\n",
       "    <tr>\n",
       "      <th>4</th>\n",
       "      <td>端午节</td>\n",
       "      <td>2020-06-25</td>\n",
       "      <td>2020-06-25</td>\n",
       "    </tr>\n",
       "    <tr>\n",
       "      <th>5</th>\n",
       "      <td>国庆节</td>\n",
       "      <td>2020-10-01</td>\n",
       "      <td>2020-10-01</td>\n",
       "    </tr>\n",
       "  </tbody>\n",
       "</table>\n",
       "</div>"
      ],
      "text/plain": [
       "    节日        开始日期        结束日期\n",
       "0   元旦  2020-01-01  2020-01-01\n",
       "1   除夕  2020-01-24  2020-01-24\n",
       "2  清明节  2020-04-04  2020-04-04\n",
       "3  劳动节  2020-05-01  2020-05-01\n",
       "4  端午节  2020-06-25  2020-06-25\n",
       "5  国庆节  2020-10-01  2020-10-01"
      ]
     },
     "execution_count": 2,
     "metadata": {},
     "output_type": "execute_result"
    }
   ],
   "source": [
    "import pandas as pd\n",
    "\n",
    "df = pd.read_clipboard()\n",
    "df.head()\n",
    "'''\n",
    "节日 开始日期 结束日期\n",
    "0 元旦 2020-01-01 2020-01-01\n",
    "1 除夕 2020-01-24 2020-01-24\n",
    "2 清明节 2020-04-04 2020-04-04\n",
    "3 劳动节 2020-05-01 2020-05-01\n",
    "4 端午节 2020-06-25 2020-06-25\n",
    "'''\n",
    "df"
   ]
  },
  {
   "cell_type": "code",
   "execution_count": 17,
   "id": "66d3e754",
   "metadata": {},
   "outputs": [
    {
     "name": "stdout",
     "output_type": "stream",
     "text": [
      "INSERT INTO `holiday` (`holiday`, `year`, `start_date`, `end_date`)    VALUES ('元旦','2020','2020-01-01', '2020-01-01');\n",
      "INSERT INTO `holiday` (`holiday`, `year`, `start_date`, `end_date`)    VALUES ('除夕','2020','2020-01-24', '2020-01-24');\n",
      "INSERT INTO `holiday` (`holiday`, `year`, `start_date`, `end_date`)    VALUES ('清明节','2020','2020-04-04', '2020-04-04');\n",
      "INSERT INTO `holiday` (`holiday`, `year`, `start_date`, `end_date`)    VALUES ('劳动节','2020','2020-05-01', '2020-05-01');\n",
      "INSERT INTO `holiday` (`holiday`, `year`, `start_date`, `end_date`)    VALUES ('端午节','2020','2020-06-25', '2020-06-25');\n",
      "INSERT INTO `holiday` (`holiday`, `year`, `start_date`, `end_date`)    VALUES ('国庆节','2020','2020-10-01', '2020-10-01');\n",
      "\n"
     ]
    }
   ],
   "source": [
    "sql = ''\n",
    "for i,r in df.iterrows():\n",
    "    \n",
    "    r_sql = f\"INSERT INTO `holiday` (`holiday`, `year`, `start_date`, `end_date`)\\\n",
    "    VALUES ('{r['节日']}','{r['结束日期'][:4]}','{r['开始日期']}', '{r['结束日期']}');\"\n",
    "#     print(r_sql)\n",
    "\n",
    "    sql = sql + r_sql + '\\n'\n",
    "print(sql)"
   ]
  },
  {
   "cell_type": "code",
   "execution_count": null,
   "id": "8ef0d790",
   "metadata": {},
   "outputs": [],
   "source": []
  }
 ],
 "metadata": {
  "kernelspec": {
   "display_name": "Python 3 (ipykernel)",
   "language": "python",
   "name": "python3"
  },
  "language_info": {
   "codemirror_mode": {
    "name": "ipython",
    "version": 3
   },
   "file_extension": ".py",
   "mimetype": "text/x-python",
   "name": "python",
   "nbconvert_exporter": "python",
   "pygments_lexer": "ipython3",
   "version": "3.8.3"
  }
 },
 "nbformat": 4,
 "nbformat_minor": 5
}
