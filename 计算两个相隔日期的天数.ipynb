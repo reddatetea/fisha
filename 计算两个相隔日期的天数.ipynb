{
 "cells": [
  {
   "cell_type": "code",
   "execution_count": 1,
   "id": "a4061d34-5c2a-4472-bcdf-36743033e924",
   "metadata": {},
   "outputs": [
    {
     "name": "stdout",
     "output_type": "stream",
     "text": [
      "已经活了 20385 天\n"
     ]
    }
   ],
   "source": [
    "from datetime import datetime\n",
    "\n",
    "def days_alive(year, month, day):\n",
    "    # 生成生日的日期对象\n",
    "    birth_date = datetime(year, month, day)\n",
    "    # 获取当前日期\n",
    "    current_date = datetime.now()\n",
    "    # 计算日期差异\n",
    "    delta = current_date - birth_date\n",
    "    # 返回天数\n",
    "    return delta.days\n",
    "\n",
    "# 示例调用\n",
    "birthday = (1968, 9, 6)  # 1990年6月15日\n",
    "days = days_alive(*birthday)\n",
    "print(f'已经活了 {days} 天')"
   ]
  },
  {
   "cell_type": "code",
   "execution_count": null,
   "id": "aea728a0-aa1c-43d9-9d45-993744cd97ad",
   "metadata": {},
   "outputs": [],
   "source": []
  }
 ],
 "metadata": {
  "kernelspec": {
   "display_name": "Python 3 (ipykernel)",
   "language": "python",
   "name": "python3"
  },
  "language_info": {
   "codemirror_mode": {
    "name": "ipython",
    "version": 3
   },
   "file_extension": ".py",
   "mimetype": "text/x-python",
   "name": "python",
   "nbconvert_exporter": "python",
   "pygments_lexer": "ipython3",
   "version": "3.11.5"
  }
 },
 "nbformat": 4,
 "nbformat_minor": 5
}
