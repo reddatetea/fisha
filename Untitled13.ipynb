{
 "cells": [
  {
   "cell_type": "code",
   "execution_count": 4,
   "id": "b27c9aa6-c292-48fc-b19f-2c01389e4b98",
   "metadata": {},
   "outputs": [],
   "source": [
    "'''\n",
    "电商出库将规格型号中的本数提取出来\n",
    "'''\n",
    "import re\n",
    "import pandas as pd\n",
    "import openpyxl\n",
    "import easygui\n",
    "from openpyxl.styles import Font, Border, Side, Fill, Alignment\n",
    "\n",
    "# fname = easygui.fileopenbox('请点选电商当日出库文件')\n",
    "fname = r\"F:\\a00nutstore\\008\\zw08\\电商\\7-17订单表.xlsx\"\n",
    "sheet_name = 0\n",
    "skiprows = 0\n",
    "df = pd.read_excel(fname,sheet_name = sheet_name,skiprows = skiprows,dtype = {'商品ID':'str','运单号':'str',})\n",
    "df.dropna(subset = ['订单号'],inplace = True)\n",
    "df.dropna(subset = ['订单号'],inplace = True)\n",
    "df['总价']  = df['总价'] .str.replace('￥','')\n",
    "df['实收'] = df['实收'].str.replace('￥','')\n",
    "df1 = df.copy()\n",
    "lst = ['订单号',\n",
    "       '发货时间',\n",
    "       '规格名称',\n",
    "       '规格编码',\n",
    "       '数量',\n",
    "       ]\n",
    "dic = {'五':5,\n",
    "        '六':6,\n",
    "        '七':6,\n",
    "        '八':8,\n",
    "        '九':9,\n",
    "        '十':10,\n",
    "        '四':4,\n",
    "        '三':3,\n",
    "        '二':2,\n",
    "        '一':1}\n",
    "def addBen(string):\n",
    "   \n",
    "    # string = r'(81本)'\n",
    "    pattern = r'(?P<ben>[十九八七六五四三二一]\\d+)本'\n",
    "    regexp1 = re.compile(pattern)\n",
    "    mat = regexp.search(string)\n",
    "  \n",
    "    if mat:\n",
    "        ben = mat.group('ben')\n",
    "        if isinstance(int(ben),int):\n",
    "            ben = int(ben)\n",
    "        else :\n",
    "            ben = dic.get(ben,1)\n",
    "    else :\n",
    "        ben = 1\n",
    "    return ben\n",
    "df1 = df1[lst]\n",
    "df1['含量'] = df1['规格名称'].map(addBen)\n",
    "df1 = df1.assign(本数=df1['数量'] * df1['含量'])\n",
    "df1 = df1.sort_values(by=['规格编码'])\n",
    "df1.index = range(1, len(df1) + 1)\n",
    "df1.index_name = '序号'\n",
    "df1.insert(0, '序号', range(1, len(df1) + 1))\n",
    "max_xuhao = len(df1) + 1\n",
    "df1.loc[max_xuhao] = {'序号': max_xuhao, '数量': df1['数量'].sum(),'本数': df1['本数'].sum()}\n",
    "df1['序号'] = df1['序号'].replace(max_xuhao, '小计')\n",
    "\n",
    "with pd.ExcelWriter(fname,engine = 'openpyxl',mode='a', if_sheet_exists='overlay') as writer:\n",
    "    df.to_excel(writer,sheet_name = '加工',index = False)\n",
    "    df1.to_excel(writer,sheet_name = '本数',index = False)\n",
    "wb = openpyxl.load_workbook(fname)\n",
    "ws = wb['本数']\n",
    "ws.column_dimensions['A'].width = 4\n",
    "ws.column_dimensions['B'].width = 24\n",
    "ws.column_dimensions['C'].width = 20\n",
    "ws.column_dimensions['D'].width = 22\n",
    "ws.column_dimensions['E'].width = 12\n",
    "ws.column_dimensions['F'].width = 4.5\n",
    "ws.column_dimensions['G'].width = 6.13\n",
    "ws.freeze_panes = ws['B2']\n",
    "ws.print_title_rows = '1:1'  # the first row\n",
    "# 页脚设置\n",
    "ws.oddFooter.center.text = \" &[Page] / &N\"  # 1/n\n",
    "ws.oddFooter.center.size = 12  # 页脚中字体大小\n",
    "ws.oddFooter.center.font = \"Tahoma\"  # 页脚中字体\n",
    "ws.oddFooter.center.color = \"000000\"  # 页脚中字体颜色\n",
    "ws.oddFooter.right.text = \"张文伟 &[Date]\"  # 页脚右 文字\n",
    "ws.oddFooter.right.size = 12  # 页脚右 字体大小\n",
    "ws.oddFooter.right.font = \"书体坊米芾体\"  # 页脚右 字体\n",
    "ws.oddFooter.right.color = \"000000\"  # 页脚右 字体颜色\n",
    "ws.page_margins = openpyxl.worksheet.page.PageMargins(top=0.48, header=0.5, left=0.21, right=0.24,\n",
    "                                                      footer=0.5,\n",
    "                                                      bottom=1)\n",
    "max_row = ws.max_row\n",
    "max_column = ws.max_column\n",
    "thin_danbian = Side(border_style='thin')\n",
    "thin_bian = Border(\n",
    "    left=thin_danbian,\n",
    "    right=thin_danbian,\n",
    "    top=thin_danbian,\n",
    "    bottom=thin_danbian)\n",
    "for row in range(2, max_row + 1):  # 从第二行开始，设置单元格格式\n",
    "    for col in range(1, max_column + 1):\n",
    "            ws.cell(row, col).border = thin_bian\n",
    "\n",
    "\n",
    "wb.save(fname)\n",
    "\n"
   ]
  },
  {
   "cell_type": "code",
   "execution_count": 2,
   "id": "c62bd57b-1554-472f-b2e7-43f476110511",
   "metadata": {},
   "outputs": [
    {
     "data": {
      "text/plain": [
       "81"
      ]
     },
     "execution_count": 2,
     "metadata": {},
     "output_type": "execute_result"
    }
   ],
   "source": [
    "import re\n",
    "dic = {'五':5,'三':3}\n",
    "string = r'(81本)'\n",
    "pattern1 = r'(?P<ben>\\d+)本'\n",
    "pattern2 = r'(?P<ben>[五三])本'\n",
    "regexp1 = re.compile(pattern1)\n",
    "mat1 = regexp1.search(string)\n",
    "regexp2 = re.compile(pattern2)\n",
    "mat2 = regexp2.search(string)\n",
    "\n",
    "# mat1.group('ben')\n",
    "# mat2.group('ben')\n",
    "if mat1:\n",
    "    ben = int(mat1.group('ben'))\n",
    "else :\n",
    "    if mat2:\n",
    "        ben = dic.get(mat2.group('ben'))\n",
    "    else :\n",
    "        ben = 1\n",
    "        \n",
    "ben\n",
    "    "
   ]
  },
  {
   "cell_type": "code",
   "execution_count": null,
   "id": "7202ec64-0425-4bdf-ae64-20e49e301be4",
   "metadata": {},
   "outputs": [],
   "source": [
    "isinstance(1,int)"
   ]
  },
  {
   "cell_type": "code",
   "execution_count": null,
   "id": "c8a720fa-e2b7-480b-b033-998741866bcb",
   "metadata": {},
   "outputs": [],
   "source": [
    "string = r'(13本)'\n",
    "pattern = r'(?P<ben>\\d+)本'\n",
    "regexp = re.compile(pattern)\n",
    "mat = regexp.search(string)\n",
    "mat.group('ben')"
   ]
  },
  {
   "cell_type": "code",
   "execution_count": 9,
   "id": "41cb0793-dccb-4653-9691-528793604695",
   "metadata": {},
   "outputs": [
    {
     "data": {
      "text/plain": [
       "1"
      ]
     },
     "execution_count": 9,
     "metadata": {},
     "output_type": "execute_result"
    }
   ],
   "source": [
    "dic = {'五':5,\n",
    "        '六':6,\n",
    "        '七':7,\n",
    "        '八':8,\n",
    "        '九':9,\n",
    "        '十':10,\n",
    "        '四':4,\n",
    "        '三':3,\n",
    "        '二':2,\n",
    "        '一':1}\n",
    "string = r'(B5五本)'\n",
    "pattern = r'(?P<ben>[十九八七六五四三二一\\d]\\d+)本'\n",
    "regex = re.compile(pattern)\n",
    "mat = regex.search(string)\n",
    "\n",
    "if mat:\n",
    "    ben = mat.group('ben')\n",
    "    if isinstance(int(ben),int):\n",
    "        ben = int(ben)\n",
    "    else :\n",
    "        ben = dic.get(ben,1)\n",
    "else :\n",
    "    ben = 1\n",
    "ben"
   ]
  },
  {
   "cell_type": "code",
   "execution_count": null,
   "id": "9d0224cd-79de-4039-b003-4f3a80b64e5d",
   "metadata": {},
   "outputs": [],
   "source": []
  }
 ],
 "metadata": {
  "kernelspec": {
   "display_name": "Python 3 (ipykernel)",
   "language": "python",
   "name": "python3"
  },
  "language_info": {
   "codemirror_mode": {
    "name": "ipython",
    "version": 3
   },
   "file_extension": ".py",
   "mimetype": "text/x-python",
   "name": "python",
   "nbconvert_exporter": "python",
   "pygments_lexer": "ipython3",
   "version": "3.11.5"
  }
 },
 "nbformat": 4,
 "nbformat_minor": 5
}
