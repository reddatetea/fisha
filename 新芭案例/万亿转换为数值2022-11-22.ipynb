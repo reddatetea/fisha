{
 "cells": [
  {
   "cell_type": "code",
   "execution_count": 1,
   "id": "cbd0537b",
   "metadata": {},
   "outputs": [],
   "source": [
    "import pandas as pd"
   ]
  },
  {
   "cell_type": "code",
   "execution_count": 2,
   "id": "bda0056f",
   "metadata": {},
   "outputs": [
    {
     "data": {
      "text/html": [
       "<div>\n",
       "<style scoped>\n",
       "    .dataframe tbody tr th:only-of-type {\n",
       "        vertical-align: middle;\n",
       "    }\n",
       "\n",
       "    .dataframe tbody tr th {\n",
       "        vertical-align: top;\n",
       "    }\n",
       "\n",
       "    .dataframe thead th {\n",
       "        text-align: right;\n",
       "    }\n",
       "</style>\n",
       "<table border=\"1\" class=\"dataframe\">\n",
       "  <thead>\n",
       "    <tr style=\"text-align: right;\">\n",
       "      <th></th>\n",
       "      <th>初始</th>\n",
       "      <th>代码</th>\n",
       "      <th>名称</th>\n",
       "      <th>最新</th>\n",
       "      <th>涨跌</th>\n",
       "      <th>涨幅%</th>\n",
       "      <th>总量</th>\n",
       "      <th>金额</th>\n",
       "      <th>最高</th>\n",
       "      <th>最低</th>\n",
       "      <th>振幅%</th>\n",
       "      <th>涨速%</th>\n",
       "      <th>开盘</th>\n",
       "      <th>换手%</th>\n",
       "      <th>市盈率</th>\n",
       "      <th>昨收</th>\n",
       "      <th>总市值</th>\n",
       "      <th>委差</th>\n",
       "    </tr>\n",
       "  </thead>\n",
       "  <tbody>\n",
       "    <tr>\n",
       "      <th>0</th>\n",
       "      <td>1</td>\n",
       "      <td>300057</td>\n",
       "      <td>万顺新材</td>\n",
       "      <td>10.99</td>\n",
       "      <td>1.19</td>\n",
       "      <td>12.14</td>\n",
       "      <td>55.7万</td>\n",
       "      <td>5.90亿</td>\n",
       "      <td>11.06</td>\n",
       "      <td>9.81</td>\n",
       "      <td>12.76</td>\n",
       "      <td>0.09</td>\n",
       "      <td>9.81</td>\n",
       "      <td>10.23</td>\n",
       "      <td>36.46</td>\n",
       "      <td>9.80</td>\n",
       "      <td>79.23亿</td>\n",
       "      <td>0</td>\n",
       "    </tr>\n",
       "    <tr>\n",
       "      <th>1</th>\n",
       "      <td>2</td>\n",
       "      <td>2758</td>\n",
       "      <td>浙农股份</td>\n",
       "      <td>16.73</td>\n",
       "      <td>1.52</td>\n",
       "      <td>9.99</td>\n",
       "      <td>28.7万</td>\n",
       "      <td>4.62亿</td>\n",
       "      <td>16.73</td>\n",
       "      <td>15.36</td>\n",
       "      <td>9.01</td>\n",
       "      <td>0.00</td>\n",
       "      <td>15.36</td>\n",
       "      <td>14.95</td>\n",
       "      <td>15.39</td>\n",
       "      <td>15.21</td>\n",
       "      <td>84.10亿</td>\n",
       "      <td>7.46万</td>\n",
       "    </tr>\n",
       "    <tr>\n",
       "      <th>2</th>\n",
       "      <td>3</td>\n",
       "      <td>603007</td>\n",
       "      <td>ST花王</td>\n",
       "      <td>4.37</td>\n",
       "      <td>0.00</td>\n",
       "      <td>0.00</td>\n",
       "      <td>5.08万</td>\n",
       "      <td>2241万</td>\n",
       "      <td>4.55</td>\n",
       "      <td>4.28</td>\n",
       "      <td>6.18</td>\n",
       "      <td>0.92</td>\n",
       "      <td>4.34</td>\n",
       "      <td>1.52</td>\n",
       "      <td>-20.62</td>\n",
       "      <td>4.37</td>\n",
       "      <td>14.57亿</td>\n",
       "      <td>-1.23万</td>\n",
       "    </tr>\n",
       "    <tr>\n",
       "      <th>3</th>\n",
       "      <td>4</td>\n",
       "      <td>2707</td>\n",
       "      <td>众信旅游</td>\n",
       "      <td>7.83</td>\n",
       "      <td>-0.33</td>\n",
       "      <td>-4.04</td>\n",
       "      <td>50.9万</td>\n",
       "      <td>4.00亿</td>\n",
       "      <td>8.12</td>\n",
       "      <td>7.72</td>\n",
       "      <td>4.90</td>\n",
       "      <td>0.13</td>\n",
       "      <td>8.06</td>\n",
       "      <td>7.02</td>\n",
       "      <td>-40.39</td>\n",
       "      <td>8.16</td>\n",
       "      <td>70.97亿</td>\n",
       "      <td>1.21万</td>\n",
       "    </tr>\n",
       "    <tr>\n",
       "      <th>4</th>\n",
       "      <td>5</td>\n",
       "      <td>603617</td>\n",
       "      <td>君禾股份</td>\n",
       "      <td>9.49</td>\n",
       "      <td>0.26</td>\n",
       "      <td>2.82</td>\n",
       "      <td>3.45万</td>\n",
       "      <td>3206万</td>\n",
       "      <td>9.50</td>\n",
       "      <td>8.95</td>\n",
       "      <td>5.96</td>\n",
       "      <td>0.00</td>\n",
       "      <td>9.05</td>\n",
       "      <td>0.97</td>\n",
       "      <td>46.53</td>\n",
       "      <td>9.23</td>\n",
       "      <td>34.66亿</td>\n",
       "      <td>-1768</td>\n",
       "    </tr>\n",
       "  </tbody>\n",
       "</table>\n",
       "</div>"
      ],
      "text/plain": [
       "   初始      代码     名称     最新    涨跌    涨幅%      总量      金额     最高     最低    振幅%  \\\n",
       "0   1  300057   万顺新材  10.99  1.19  12.14   55.7万   5.90亿  11.06   9.81  12.76   \n",
       "1   2    2758   浙农股份  16.73  1.52   9.99   28.7万   4.62亿  16.73  15.36   9.01   \n",
       "2   3  603007   ST花王   4.37  0.00   0.00   5.08万   2241万   4.55   4.28   6.18   \n",
       "3   4    2707   众信旅游   7.83 -0.33  -4.04   50.9万   4.00亿   8.12   7.72   4.90   \n",
       "4   5  603617   君禾股份   9.49  0.26   2.82   3.45万   3206万   9.50   8.95   5.96   \n",
       "\n",
       "    涨速%     开盘    换手%    市盈率     昨收      总市值       委差  \n",
       "0  0.09   9.81  10.23  36.46   9.80   79.23亿        0  \n",
       "1  0.00  15.36  14.95  15.39  15.21   84.10亿    7.46万  \n",
       "2  0.92   4.34   1.52 -20.62   4.37   14.57亿   -1.23万  \n",
       "3  0.13   8.06   7.02 -40.39   8.16   70.97亿    1.21万  \n",
       "4  0.00   9.05   0.97  46.53   9.23   34.66亿    -1768  "
      ]
     },
     "execution_count": 2,
     "metadata": {},
     "output_type": "execute_result"
    }
   ],
   "source": [
    "df = pd.read_excel('stockdata1121.xlsx')\n",
    "df.head()"
   ]
  },
  {
   "cell_type": "code",
   "execution_count": 23,
   "id": "ff81bea1",
   "metadata": {},
   "outputs": [],
   "source": [
    "def func(money : str):\n",
    "    if isinstance(money,int):\n",
    "        foo = money\n",
    "    else:\n",
    "        foo = money.replace('万','e4').replace('亿','e8')\n",
    "        foo = eval(foo)\n",
    "    return int(foo)"
   ]
  },
  {
   "cell_type": "code",
   "execution_count": 24,
   "id": "5533ca98",
   "metadata": {},
   "outputs": [
    {
     "data": {
      "text/plain": [
       "0    590000000\n",
       "1    462000000\n",
       "2     22410000\n",
       "3    400000000\n",
       "4     32060000\n",
       "Name: 金额, dtype: int64"
      ]
     },
     "execution_count": 24,
     "metadata": {},
     "output_type": "execute_result"
    }
   ],
   "source": [
    "df.head().金额.map(func)"
   ]
  },
  {
   "cell_type": "code",
   "execution_count": 25,
   "id": "e6cf275c",
   "metadata": {},
   "outputs": [
    {
     "data": {
      "text/plain": [
       "0        0\n",
       "1    74600\n",
       "2   -12300\n",
       "3    12100\n",
       "4    -1768\n",
       "Name: 委差, dtype: int64"
      ]
     },
     "execution_count": 25,
     "metadata": {},
     "output_type": "execute_result"
    }
   ],
   "source": [
    "df.head().委差.map(func)"
   ]
  },
  {
   "cell_type": "code",
   "execution_count": 12,
   "id": "f7afa52e",
   "metadata": {},
   "outputs": [
    {
     "ename": "ModuleNotFoundError",
     "evalue": "No module named 'datetime.datetime'; 'datetime' is not a package",
     "output_type": "error",
     "traceback": [
      "\u001b[1;31m---------------------------------------------------------------------------\u001b[0m",
      "\u001b[1;31mModuleNotFoundError\u001b[0m                       Traceback (most recent call last)",
      "Input \u001b[1;32mIn [12]\u001b[0m, in \u001b[0;36m<cell line: 1>\u001b[1;34m()\u001b[0m\n\u001b[1;32m----> 1\u001b[0m \u001b[38;5;28;01mfrom\u001b[39;00m \u001b[38;5;21;01mdatetime\u001b[39;00m\u001b[38;5;21;01m.\u001b[39;00m\u001b[38;5;21;01mdatetime\u001b[39;00m \u001b[38;5;28;01mimport\u001b[39;00m strftime\n",
      "\u001b[1;31mModuleNotFoundError\u001b[0m: No module named 'datetime.datetime'; 'datetime' is not a package"
     ]
    }
   ],
   "source": [
    "from datetime.datetime import strftime\n"
   ]
  },
  {
   "cell_type": "code",
   "execution_count": 22,
   "id": "66983ecb",
   "metadata": {},
   "outputs": [
    {
     "data": {
      "text/plain": [
       "True"
      ]
     },
     "execution_count": 22,
     "metadata": {},
     "output_type": "execute_result"
    }
   ],
   "source": [
    "a = 3\n",
    "isinstance(a,int)"
   ]
  },
  {
   "cell_type": "code",
   "execution_count": null,
   "id": "69c9ced1",
   "metadata": {},
   "outputs": [],
   "source": []
  }
 ],
 "metadata": {
  "kernelspec": {
   "display_name": "Python 3 (ipykernel)",
   "language": "python",
   "name": "python3"
  },
  "language_info": {
   "codemirror_mode": {
    "name": "ipython",
    "version": 3
   },
   "file_extension": ".py",
   "mimetype": "text/x-python",
   "name": "python",
   "nbconvert_exporter": "python",
   "pygments_lexer": "ipython3",
   "version": "3.8.3"
  }
 },
 "nbformat": 4,
 "nbformat_minor": 5
}
