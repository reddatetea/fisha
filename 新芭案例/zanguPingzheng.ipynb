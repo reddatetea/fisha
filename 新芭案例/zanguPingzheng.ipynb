{
 "cells": [
  {
   "cell_type": "code",
   "execution_count": 1,
   "id": "83d76fe7-e0d0-44e3-a40d-fa31377e4b83",
   "metadata": {},
   "outputs": [],
   "source": [
    "import pandas as pd\n",
    "import os\n",
    "import easygui"
   ]
  },
  {
   "cell_type": "code",
   "execution_count": 2,
   "id": "3293bb06-da42-4152-9ba3-63ab043fa59d",
   "metadata": {},
   "outputs": [],
   "source": [
    "title = ['会计期间', '凭证类别字', '凭证类别排序号', '凭证编号', '行号', '制单日期', '附单据数', '制单人', '审核人',\n",
    "       '记账人', '记账标志', '出纳人', '凭证标志', '凭证头自定义项1', '凭证头自定义项2', '摘要', '科目编码',\n",
    "       '币种', '借方金额', '贷方金额', '外币借方金额', '外币贷方金额', '汇率', '数量借方', '数量贷方',\n",
    "       '结算方式编码', '票号', '票号发生日期', '部门编码', '职员编码', '客户编码', '供应商编码', '项目编码',\n",
    "       '项目大类编码', '业务员', '对方科目编码', '银行帐两清标志', '往来帐两清标志', '是否核销', '外部凭证帐套号',\n",
    "       '外部凭证会计年度', '外部凭证系统名称', '外部凭证系统版本号', '外部凭证制单日期', '外部凭证会计期间', '外部凭证业务类型',\n",
    "       '外部凭证业务号', '日期', '标志', '外部凭证单据号', '凭证是否可修改', '凭证分录是否可增删', '凭证合计金额是否保值',\n",
    "       '分录数值是否可修改', '分录科目是否可修改', '分录受控科目可用状态', '分录往来项是否可修改', '分录部门是否可修改',\n",
    "       '分录项目是否可修改', '分录往来项是否必输', '自定义字段1', '自定义字段2', '自定义字段3', '自定义字段4',\n",
    "       '自定义字段5', '自定义字段6', '自定义字段7', '自定义字段8', '自定义字段9', '自定义字段10', '现金项目编号',\n",
    "       '现金借方', '现金贷方']\n",
    "fixed_fields = {'凭证类别字': '记',\n",
    "                '凭证类别排序号': 1,\n",
    "                '附单据数': -1,\n",
    "                '制单人': '张文伟',\n",
    "                '数量借方': 0,\n",
    "                '数量货方': 0,\n",
    "                '是否核销': 0,\n",
    "                '外部凭证单据号': 0,\n",
    "                '凭证是否可修改': 1,\n",
    "                '凭证分录是否可增删': 0,\n",
    "                '凭证合计金额是否保值': 0,\n",
    "                '分录数值是否可修改': 1,\n",
    "                '分录科目是否可修改': 1,\n",
    "                '分录受控科目可用状态': 1,\n",
    "                '分录往来项是否可修改': 1,\n",
    "                '分录部门是否可修改': 1,\n",
    "                '分录项目是否可修改': 1,\n",
    "                '分录往来项是否必输': 0\n",
    "                }\n",
    "zangu_pinzhen = pd.DataFrame(columns = title)\n",
    "dic = dict(zip(title,range(len(title))))\n"
   ]
  },
  {
   "cell_type": "code",
   "execution_count": 3,
   "id": "6fd73241-63e2-4317-863b-60c3d78bcb5d",
   "metadata": {},
   "outputs": [],
   "source": [
    "# msg = '请点选\"抵扣勾选增值税发票信息.xlsx\"'\n",
    "# fname_invoice = easygui.fileopenbox(msg)\n",
    "fname_invoice = r\"F:\\a00nutstore\\006\\zw\\2024\\202402\\抵扣勾选增值税发票信息20230601-20240229 - 副本.xlsx\"\n",
    "sheet_name = 'sheet1'\n",
    "df_invoice = pd.read_excel(fname_invoice,sheet_name=sheet_name,dtype = {'金额*':'float64','票面税额*':'float64','有效抵扣税额*':'float64','购买方识别号*':str})\n",
    "gongyingshangs2 = df_invoice['销售方纳税人名称']\n",
    "\n",
    "\n",
    "msg = '请点选\"供应商档案.xls\"'\n",
    "fname_gongyingshang = easygui.fileopenbox(msg)\n",
    "fname_gongyingshang = r'F:\\a00nutstore\\006\\zw\\2024\\202402\\供应商档案.xls'\n",
    "df_gongyingshang = pd.read_excel(fname_gongyingshang,dtype={'供应商编码':str})\n",
    "gongyingshangDic = dict(zip(df_gongyingshang['供应商名称'],df_gongyingshang['供应商编码']))\n",
    "gongyings1 = df_gongyingshang['供应商名称']\n",
    "gongyingshangs = set(gongyings1).intersection(set(gongyingshangs2))\n",
    "\n",
    "df_invoice = df_invoice.loc[df_invoice['销售方纳税人名称'].isin(gongyingshangs)]\n",
    "df_invoice = df_invoice.loc[~df_invoice['销售方纳税人名称'].isnull()]  # 删除记账为空的记录\n",
    "last_xuhao = df_invoice.shape[0]\n",
    "df_invoice.index = range(last_xuhao)\n",
    "\n",
    "zangu_pinzhen['行号'] = list(range(last_xuhao*3))\n",
    "for k, v in fixed_fields.items():\n",
    "   zangu_pinzhen[k] = v\n",
    "\n"
   ]
  },
  {
   "cell_type": "code",
   "execution_count": 4,
   "id": "3ea5d7b3-8550-40ed-a38a-d6e1cf5a7ff0",
   "metadata": {},
   "outputs": [
    {
     "name": "stdout",
     "output_type": "stream",
     "text": [
      "汉高（中国）投资有限公司 -9513.27 1236.73 10750.0\n",
      "************\n",
      "武汉市欣程瑞商贸有限公司 -51601.63 6708.21 58309.84\n",
      "************\n",
      "武汉市欣程瑞商贸有限公司 -70247.79 9132.21 79380.0\n",
      "************\n",
      "昆山楚宏纸塑材料有限公司 -20293.81 2638.19 22932.0\n",
      "************\n",
      "武汉辉盈包装材料有限公司 -7419.1 964.48 8383.58\n",
      "************\n",
      "武汉万捷斯机电设备有限公司 -10079.64 1310.36 11390.0\n",
      "************\n",
      "东莞市万善印刷材料有限公司 -7927.43 1030.57 8958.0\n",
      "************\n",
      "东莞市合裕粘贴制品有限公司 -26548.67 3451.33 30000.0\n",
      "************\n",
      "上海好麟印刷材料有限公司 -31504.43 4095.57 35600.0\n",
      "************\n",
      "浙江永创机械有限公司 -4424.78 575.22 5000.0\n",
      "************\n",
      "钟祥市鑫众包装有限公司 -127911.51 16628.49 144540.0\n",
      "************\n",
      "上海三嘉源辊业有限公司 -6637.17 862.83 7500.0\n",
      "************\n",
      "广州市方泰电子有限公司 -1955.75 254.25 2210.0\n",
      "************\n",
      "武汉市安琪包装工贸有限公司 -17936.62 2331.76 20268.38\n",
      "************\n",
      "上海舜启印刷器材有限公司 -442.48 57.52 500.0\n",
      "************\n",
      "浙江众成包装材料股份有限公司 -62461.88 8120.04 70581.92\n",
      "************\n",
      "武汉欣欣方记包装材料有限责任公司 -1611.5 209.5 1821.0\n",
      "************\n",
      "深圳市顺隆线业有限公司 -3578.77 465.23 4044.0\n",
      "************\n",
      "广东蚂蚁智控科技有限公司 -946.9 123.1 1070.0\n",
      "************\n",
      "广东蚂蚁智控科技有限公司 -6725.66 874.34 7600.0\n",
      "************\n",
      "武汉信聚合纸业有限公司 -15403.0 2002.39 17405.39\n",
      "************\n",
      "武汉信聚合纸业有限公司 -52745.99 6856.98 59602.97\n",
      "************\n",
      "上海骑订合金制品有限公司 -18584.08 2415.92 21000.0\n",
      "************\n",
      "浙江蓝宝机械有限公司 -199.12 25.88 225.0\n",
      "************\n",
      "上海陶山包装机械有限公司 -16106.19 2093.81 18200.0\n",
      "************\n",
      "上海舜启印刷器材有限公司 -5472.57 711.43 6184.0\n",
      "************\n",
      "浙江诚信制带有限公司 -23561.06 3062.94 26624.0\n",
      "************\n",
      "昆山荣光五金刀具有限公司 -2035.4 264.6 2300.0\n",
      "************\n",
      "昆山楚宏纸塑材料有限公司 -30429.2 3955.8 34385.0\n",
      "************\n",
      "上海鸿煊电子商务有限公司 -976.99 127.01 1104.0\n",
      "************\n",
      "上海陶山包装机械有限公司 -16106.19 2093.81 18200.0\n",
      "************\n",
      "上海骑订合金制品有限公司 -9292.04 1207.96 10500.0\n",
      "************\n"
     ]
    }
   ],
   "source": [
    "for index,row in df_invoice.iterrows():\n",
    "    xuhao = index*3 +1\n",
    "    gongyingshang = row['销售方纳税人名称']\n",
    "    buhansui = row['金额*']\n",
    "    sui = row['有效抵扣税额*']\n",
    "    sumary = '冲' + gongyingshang + '暂估'\n",
    "    hansui = round(buhansui + sui,2)\n",
    "    print(gongyingshang,-1*buhansui,sui,hansui)\n",
    "    print('************')\n",
    "    gongyingshang_bianma = gongyingshangDic.get(gongyingshang,'88888888')\n",
    "    for i in range(3):\n",
    "        if i == 0:\n",
    "            zangu_pinzhen.iloc[xuhao-1,dic['行号']] = 1\n",
    "            zangu_pinzhen.iloc[xuhao-1,dic['摘要']] = sumary\n",
    "            zangu_pinzhen.iloc[xuhao-1,dic['科目编码']] =  '2271'         \n",
    "            zangu_pinzhen.iloc[xuhao-1,dic['借方金额']] = 0\n",
    "            zangu_pinzhen.iloc[xuhao-1,dic['贷方金额']] = -1*buhansui\n",
    "            zangu_pinzhen.iloc[xuhao-1,dic['供应商编码']] = '010010213'\n",
    "            zangu_pinzhen.iloc[xuhao-1,dic['对方科目编码']] = '2221001002'\n",
    "        elif i == 1:\n",
    "            zangu_pinzhen.iloc[xuhao,dic['行号']] = 2\n",
    "            zangu_pinzhen.iloc[xuhao,dic['摘要']] = sumary\n",
    "            zangu_pinzhen.iloc[xuhao,dic['科目编码']] = '2221001002'         \n",
    "            zangu_pinzhen.iloc[xuhao,dic['借方金额']] = sui\n",
    "            zangu_pinzhen.iloc[xuhao,dic['贷方金额']] = 0\n",
    "            zangu_pinzhen.iloc[xuhao,dic['供应商编码']] = ''\n",
    "            zangu_pinzhen.iloc[xuhao,dic['对方科目编码']] = '2271'\n",
    "        else:\n",
    "            zangu_pinzhen.iloc[xuhao+1,dic['行号']] = 3\n",
    "            zangu_pinzhen.iloc[xuhao+1,dic['摘要']] = sumary\n",
    "            zangu_pinzhen.iloc[xuhao+1,dic['科目编码']] = '2271'         \n",
    "            zangu_pinzhen.iloc[xuhao+1,dic['借方金额']] = 0\n",
    "            zangu_pinzhen.iloc[xuhao+1,dic['贷方金额']] = hansui\n",
    "            zangu_pinzhen.iloc[xuhao+1,dic['供应商编码']] = gongyingshang_bianma\n",
    "            zangu_pinzhen.iloc[xuhao+1,dic['对方科目编码']] = '2221001002'\n",
    "\n",
    " \n",
    "zangu_pinzhen.to_excel('暂估凭证20240317.xlsx')\n",
    "os.startfile('暂估凭证20240317.xlsx')\n",
    "\n",
    "                    \n",
    "for index,row in df_invoice.iterrows():\n",
    "    xuhao = index*3 +1\n",
    "    gongyingshang = row['销售方纳税人名称']\n",
    "    buhansui = row['金额*']\n",
    "    sui = row['有效抵扣税额*']\n",
    "    sumary = '冲' + gongyingshang + '暂估'\n",
    "    hansui = round(buhansui + sui,2)\n",
    "    print(gongyingshang,-1*buhansui,sui,hansui)\n",
    "    print('************')\n",
    "    gongyingshang_bianma = gongyingshangDic.get(gongyingshang,'88888888')\n",
    "    for i in range(3):\n",
    "        if i == 0:\n",
    "            zangu_pinzhen.iloc[xuhao-1,dic['行号']] = 1\n",
    "            zangu_pinzhen.iloc[xuhao-1,dic['摘要']] = sumary\n",
    "            zangu_pinzhen.iloc[xuhao-1,dic['科目编码']] =  '2271'         \n",
    "            zangu_pinzhen.iloc[xuhao-1,dic['借方金额']] = 0\n",
    "            zangu_pinzhen.iloc[xuhao-1,dic['贷方金额']] = -1*buhansui\n",
    "            zangu_pinzhen.iloc[xuhao-1,dic['供应商编码']] = '010010213'\n",
    "            zangu_pinzhen.iloc[xuhao-1,dic['对方科目编码']] = '2221001002'\n",
    "        elif i == 1:\n",
    "            zangu_pinzhen.iloc[xuhao,dic['行号']] = 2\n",
    "            zangu_pinzhen.iloc[xuhao,dic['摘要']] = sumary\n",
    "            zangu_pinzhen.iloc[xuhao,dic['科目编码']] = '2221001002'         \n",
    "            zangu_pinzhen.iloc[xuhao,dic['借方金额']] = sui\n",
    "            zangu_pinzhen.iloc[xuhao,dic['贷方金额']] = 0\n",
    "            zangu_pinzhen.iloc[xuhao,dic['供应商编码']] = ''\n",
    "            zangu_pinzhen.iloc[xuhao,dic['对方科目编码']] = '2271'\n",
    "        else:\n",
    "            zangu_pinzhen.iloc[xuhao+1,dic['行号']] = 3\n",
    "            zangu_pinzhen.iloc[xuhao+1,dic['摘要']] = sumary\n",
    "            zangu_pinzhen.iloc[xuhao+1,dic['科目编码']] = '2271'         \n",
    "            zangu_pinzhen.iloc[xuhao+1,dic['借方金额']] = 0\n",
    "            zangu_pinzhen.iloc[xuhao+1,dic['贷方金额']] = hansui\n",
    "            zangu_pinzhen.iloc[xuhao+1,dic['供应商编码']] = gongyingshang_bianma\n",
    "            zangu_pinzhen.iloc[xuhao+1,dic['对方科目编码']] = '2221001002'\n",
    "\n",
    " \n",
    "zangu_pinzhen.to_excel('暂估凭证20240317.xlsx')\n",
    "os.startfile('暂估凭证20240317.xlsx')                  \n",
    "                   \n",
    "            \n",
    "      \n",
    "   \n",
    "        \n",
    "    \n",
    "    \n",
    "    \n"
   ]
  },
  {
   "cell_type": "code",
   "execution_count": null,
   "id": "b87b5b2b-52d5-47ff-9b56-954345d28292",
   "metadata": {},
   "outputs": [],
   "source": [
    "zangu_pinzhen['行号'] "
   ]
  },
  {
   "cell_type": "code",
   "execution_count": null,
   "id": "02be183f-32ff-411b-aacd-3ae7d2f3d1e3",
   "metadata": {},
   "outputs": [],
   "source": [
    "df_invoice"
   ]
  },
  {
   "cell_type": "code",
   "execution_count": null,
   "id": "e38e21c3-839e-47d6-8165-f5654061d0b3",
   "metadata": {},
   "outputs": [],
   "source": [
    "df_invoice.shape"
   ]
  },
  {
   "cell_type": "code",
   "execution_count": null,
   "id": "77eed080-d9ea-44f1-9499-c0e0eb531b92",
   "metadata": {},
   "outputs": [],
   "source": [
    "df_invoice['销售方纳税人名称']"
   ]
  },
  {
   "cell_type": "code",
   "execution_count": null,
   "id": "47bdc5e6-71b1-47eb-8535-35db2e3279be",
   "metadata": {},
   "outputs": [],
   "source": [
    "zangu_pinzhen.shape\n"
   ]
  },
  {
   "cell_type": "code",
   "execution_count": null,
   "id": "dbe9f1b2-0b0e-46f1-b4f0-b607b3892d48",
   "metadata": {},
   "outputs": [],
   "source": [
    "last_xuhao"
   ]
  },
  {
   "cell_type": "code",
   "execution_count": null,
   "id": "3d02852e-bd21-44ff-80cc-2e53a3513943",
   "metadata": {},
   "outputs": [],
   "source": [
    "zangu_pinzhen.to_excel('33333.xlsx')\n"
   ]
  },
  {
   "cell_type": "code",
   "execution_count": null,
   "id": "d0b43d8d-e906-499f-ba68-d0c3aa90e7b5",
   "metadata": {},
   "outputs": [],
   "source": [
    "df_invoice.to_excel('222222.xlsx')"
   ]
  },
  {
   "cell_type": "code",
   "execution_count": null,
   "id": "083684da-0386-48d4-abb7-e74989d305c0",
   "metadata": {},
   "outputs": [],
   "source": [
    "zangu_pinzhen.to_excel('发票初.xlsx')\n"
   ]
  },
  {
   "cell_type": "code",
   "execution_count": null,
   "id": "470f1221-63f4-418b-8c75-83ec803d0a2d",
   "metadata": {},
   "outputs": [],
   "source": [
    "zangu_pinzhen"
   ]
  },
  {
   "cell_type": "code",
   "execution_count": null,
   "id": "009da8eb-b0d9-4794-9221-c0c76034b587",
   "metadata": {},
   "outputs": [],
   "source": [
    "for index,row in df_invoice.iterrows():\n",
    "    xuhao = index *3\n",
    "    print('index',index)\n",
    "    print('xuhao',xuhao)"
   ]
  },
  {
   "cell_type": "code",
   "execution_count": null,
   "id": "78efe851-3390-492c-9d32-e74ec8e45b4a",
   "metadata": {},
   "outputs": [],
   "source": [
    "df_invoice.index = range(last_xuhao)"
   ]
  },
  {
   "cell_type": "code",
   "execution_count": null,
   "id": "e2734775-1f2d-44e2-950f-fe1220ad734b",
   "metadata": {},
   "outputs": [],
   "source": [
    "df_invoice\n"
   ]
  },
  {
   "cell_type": "code",
   "execution_count": 5,
   "id": "e3fcba17-a84d-42b0-98d4-bcde6dd9f9d4",
   "metadata": {},
   "outputs": [
    {
     "data": {
      "text/plain": [
       "['2022', '8', '18']"
      ]
     },
     "execution_count": 5,
     "metadata": {},
     "output_type": "execute_result"
    }
   ],
   "source": [
    "a = \"2022-8-18\"\n",
    "b = a.split('-')\n",
    "b"
   ]
  },
  {
   "cell_type": "code",
   "execution_count": 6,
   "id": "d9de592b-5a06-4800-a6e2-7e1d21837886",
   "metadata": {},
   "outputs": [
    {
     "data": {
      "text/plain": [
       "8"
      ]
     },
     "execution_count": 6,
     "metadata": {},
     "output_type": "execute_result"
    }
   ],
   "source": [
    "int(b[1])"
   ]
  },
  {
   "cell_type": "code",
   "execution_count": null,
   "id": "2ac245f5-35ed-44d6-864f-faa6cb8d4748",
   "metadata": {},
   "outputs": [],
   "source": [
    "pd.read_excel()"
   ]
  }
 ],
 "metadata": {
  "kernelspec": {
   "display_name": "Python 3 (ipykernel)",
   "language": "python",
   "name": "python3"
  },
  "language_info": {
   "codemirror_mode": {
    "name": "ipython",
    "version": 3
   },
   "file_extension": ".py",
   "mimetype": "text/x-python",
   "name": "python",
   "nbconvert_exporter": "python",
   "pygments_lexer": "ipython3",
   "version": "3.11.5"
  }
 },
 "nbformat": 4,
 "nbformat_minor": 5
}
