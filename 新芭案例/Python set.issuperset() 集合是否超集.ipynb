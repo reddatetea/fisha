{
 "cells": [
  {
   "cell_type": "code",
   "execution_count": 1,
   "id": "8be7fb17-302b-41a5-9e0d-7f8179e3f17b",
   "metadata": {},
   "outputs": [
    {
     "data": {
      "text/plain": [
       "True"
      ]
     },
     "execution_count": 1,
     "metadata": {},
     "output_type": "execute_result"
    }
   ],
   "source": [
    "set1 = {1, 2, 3, 4, 5}\n",
    "set2 = {1, 2, 3}\n",
    "\n",
    "# 检查 set1 是否是 set2 的超集\n",
    "result = set1.issuperset(set2)\n",
    "result"
   ]
  },
  {
   "cell_type": "code",
   "execution_count": 2,
   "id": "41c6c403-4f16-4560-b215-6aa8fa950aee",
   "metadata": {},
   "outputs": [
    {
     "name": "stdout",
     "output_type": "stream",
     "text": [
      "True\n"
     ]
    }
   ],
   "source": [
    "result = set1 >= set2\n",
    "print(result)  # 输出 True，因为 set1 是 set2 的超集"
   ]
  },
  {
   "cell_type": "code",
   "execution_count": 3,
   "id": "f81b59be-c9b0-40a1-a5a9-0fb9b55c004a",
   "metadata": {},
   "outputs": [
    {
     "data": {
      "text/plain": [
       "False"
      ]
     },
     "execution_count": 3,
     "metadata": {},
     "output_type": "execute_result"
    }
   ],
   "source": [
    "set3 = {1, 2, 3}\n",
    "set4 = {4, 5, 6}\n",
    "\n",
    "# 检查 set3 是否是 set4 的超集\n",
    "result = set3.issuperset(set4)\n",
    "result"
   ]
  },
  {
   "cell_type": "code",
   "execution_count": 4,
   "id": "9f76307d-5e70-4f42-8079-305bf5545975",
   "metadata": {},
   "outputs": [
    {
     "name": "stdout",
     "output_type": "stream",
     "text": [
      "False\n"
     ]
    }
   ],
   "source": [
    "result = set3 >= set4\n",
    "print(result)  # 输出 False，因为 set3 不是 set4 的超集"
   ]
  },
  {
   "cell_type": "code",
   "execution_count": 5,
   "id": "ee2c811b-1115-43cc-9813-dbbf895b4879",
   "metadata": {},
   "outputs": [
    {
     "name": "stdout",
     "output_type": "stream",
     "text": [
      "True\n"
     ]
    }
   ],
   "source": [
    "set1 = {1, 2, 3, 4, 5}\n",
    "set2 = {1, 2, 3}\n",
    "\n",
    "# 检查 set1 是否是 set2 的真超集\n",
    "result = set1 > set2\n",
    "\n",
    "print(result)  # 输出 True，因为 set1 是 set2 的真超集"
   ]
  },
  {
   "cell_type": "code",
   "execution_count": 6,
   "id": "d57ee682-cd8b-4c98-bb17-3df792630a67",
   "metadata": {},
   "outputs": [
    {
     "name": "stdout",
     "output_type": "stream",
     "text": [
      "False\n"
     ]
    }
   ],
   "source": [
    "set3 = {1, 2, 3}\n",
    "set4 = {1, 2, 3}\n",
    "\n",
    "# 检查 set3 是否是 set4 的真超集\n",
    "result = set3 > set4\n",
    "\n",
    "print(result)  # 输出 False，因为 set3 不是 set4 的真超集，它们相等"
   ]
  },
  {
   "cell_type": "code",
   "execution_count": null,
   "id": "55c42b92-ce8d-4d23-ab78-b362185f39f0",
   "metadata": {},
   "outputs": [],
   "source": []
  }
 ],
 "metadata": {
  "kernelspec": {
   "display_name": "Python 3 (ipykernel)",
   "language": "python",
   "name": "python3"
  },
  "language_info": {
   "codemirror_mode": {
    "name": "ipython",
    "version": 3
   },
   "file_extension": ".py",
   "mimetype": "text/x-python",
   "name": "python",
   "nbconvert_exporter": "python",
   "pygments_lexer": "ipython3",
   "version": "3.11.5"
  }
 },
 "nbformat": 4,
 "nbformat_minor": 5
}
