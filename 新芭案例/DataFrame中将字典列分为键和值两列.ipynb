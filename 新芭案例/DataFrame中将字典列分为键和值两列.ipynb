{
 "cells": [
  {
   "cell_type": "code",
   "execution_count": 1,
   "id": "2e44f182",
   "metadata": {},
   "outputs": [],
   "source": [
    "import pandas as pd"
   ]
  },
  {
   "cell_type": "code",
   "execution_count": 2,
   "id": "9a5180b2",
   "metadata": {},
   "outputs": [
    {
     "data": {
      "text/html": [
       "<style type=\"text/css\">\n",
       "</style>\n",
       "<table id=\"T_108f3\">\n",
       "  <thead>\n",
       "    <tr>\n",
       "      <th class=\"blank level0\" >&nbsp;</th>\n",
       "      <th id=\"T_108f3_level0_col0\" class=\"col_heading level0 col0\" >a</th>\n",
       "      <th id=\"T_108f3_level0_col1\" class=\"col_heading level0 col1\" >b</th>\n",
       "    </tr>\n",
       "  </thead>\n",
       "  <tbody>\n",
       "    <tr>\n",
       "      <th id=\"T_108f3_level0_row0\" class=\"row_heading level0 row0\" >0</th>\n",
       "      <td id=\"T_108f3_row0_col0\" class=\"data row0 col0\" >new</td>\n",
       "      <td id=\"T_108f3_row0_col1\" class=\"data row0 col1\" >{100: ['1A', '2B'], 200: ['2A', '3B'], 300: ['3A', '3B', '4B']}</td>\n",
       "    </tr>\n",
       "    <tr>\n",
       "      <th id=\"T_108f3_level0_row1\" class=\"row_heading level0 row1\" >1</th>\n",
       "      <td id=\"T_108f3_row1_col0\" class=\"data row1 col0\" >old</td>\n",
       "      <td id=\"T_108f3_row1_col1\" class=\"data row1 col1\" >['99A', '99B']</td>\n",
       "    </tr>\n",
       "  </tbody>\n",
       "</table>\n"
      ],
      "text/plain": [
       "<pandas.io.formats.style.Styler at 0xa9eb640>"
      ]
     },
     "execution_count": 2,
     "metadata": {},
     "output_type": "execute_result"
    }
   ],
   "source": [
    "d = {100:['1A','2B'],200:['2A','3B'],300:['3A','3B','4B'],}\n",
    "df = pd.DataFrame({'a':['new','old'],'b':[d,['99A','99B']]})\n",
    "df.style"
   ]
  },
  {
   "cell_type": "code",
   "execution_count": 3,
   "id": "fef33a49",
   "metadata": {},
   "outputs": [
    {
     "data": {
      "text/html": [
       "<div>\n",
       "<style scoped>\n",
       "    .dataframe tbody tr th:only-of-type {\n",
       "        vertical-align: middle;\n",
       "    }\n",
       "\n",
       "    .dataframe tbody tr th {\n",
       "        vertical-align: top;\n",
       "    }\n",
       "\n",
       "    .dataframe thead th {\n",
       "        text-align: right;\n",
       "    }\n",
       "</style>\n",
       "<table border=\"1\" class=\"dataframe\">\n",
       "  <thead>\n",
       "    <tr style=\"text-align: right;\">\n",
       "      <th></th>\n",
       "      <th>a</th>\n",
       "      <th>b</th>\n",
       "    </tr>\n",
       "  </thead>\n",
       "  <tbody>\n",
       "    <tr>\n",
       "      <th>0</th>\n",
       "      <td>new</td>\n",
       "      <td>{100: ['1A', '2B'], 200: ['2A', '3B'], 300: ['...</td>\n",
       "    </tr>\n",
       "    <tr>\n",
       "      <th>1</th>\n",
       "      <td>old</td>\n",
       "      <td>{-1: ['99A', '99B']}</td>\n",
       "    </tr>\n",
       "  </tbody>\n",
       "</table>\n",
       "</div>"
      ],
      "text/plain": [
       "     a                                                  b\n",
       "0  new  {100: ['1A', '2B'], 200: ['2A', '3B'], 300: ['...\n",
       "1  old                               {-1: ['99A', '99B']}"
      ]
     },
     "execution_count": 3,
     "metadata": {},
     "output_type": "execute_result"
    }
   ],
   "source": [
    "(\n",
    " df.assign(b = df.b.map(lambda x:x if isinstance(x,dict) else {-1:x}))\n",
    "   )"
   ]
  },
  {
   "cell_type": "code",
   "execution_count": 4,
   "id": "47056a9f",
   "metadata": {},
   "outputs": [
    {
     "data": {
      "text/html": [
       "<div>\n",
       "<style scoped>\n",
       "    .dataframe tbody tr th:only-of-type {\n",
       "        vertical-align: middle;\n",
       "    }\n",
       "\n",
       "    .dataframe tbody tr th {\n",
       "        vertical-align: top;\n",
       "    }\n",
       "\n",
       "    .dataframe thead th {\n",
       "        text-align: right;\n",
       "    }\n",
       "</style>\n",
       "<table border=\"1\" class=\"dataframe\">\n",
       "  <thead>\n",
       "    <tr style=\"text-align: right;\">\n",
       "      <th></th>\n",
       "      <th>a</th>\n",
       "      <th>b</th>\n",
       "    </tr>\n",
       "  </thead>\n",
       "  <tbody>\n",
       "    <tr>\n",
       "      <th>0</th>\n",
       "      <td>new</td>\n",
       "      <td>{100: ['1A', '2B'], 200: ['2A', '3B'], 300: ['...</td>\n",
       "    </tr>\n",
       "    <tr>\n",
       "      <th>1</th>\n",
       "      <td>old</td>\n",
       "      <td>{-1: ['99A', '99B']}</td>\n",
       "    </tr>\n",
       "  </tbody>\n",
       "</table>\n",
       "</div>"
      ],
      "text/plain": [
       "     a                                                  b\n",
       "0  new  {100: ['1A', '2B'], 200: ['2A', '3B'], 300: ['...\n",
       "1  old                               {-1: ['99A', '99B']}"
      ]
     },
     "execution_count": 4,
     "metadata": {},
     "output_type": "execute_result"
    }
   ],
   "source": [
    "(\n",
    " df.assign(b = df.b.apply(lambda x:x if isinstance(x,dict) else {-1:x}))\n",
    "   )"
   ]
  },
  {
   "cell_type": "code",
   "execution_count": 5,
   "id": "df311a15",
   "metadata": {},
   "outputs": [
    {
     "data": {
      "text/html": [
       "<div>\n",
       "<style scoped>\n",
       "    .dataframe tbody tr th:only-of-type {\n",
       "        vertical-align: middle;\n",
       "    }\n",
       "\n",
       "    .dataframe tbody tr th {\n",
       "        vertical-align: top;\n",
       "    }\n",
       "\n",
       "    .dataframe thead th {\n",
       "        text-align: right;\n",
       "    }\n",
       "</style>\n",
       "<table border=\"1\" class=\"dataframe\">\n",
       "  <thead>\n",
       "    <tr style=\"text-align: right;\">\n",
       "      <th></th>\n",
       "      <th>a</th>\n",
       "      <th>b</th>\n",
       "      <th>c</th>\n",
       "    </tr>\n",
       "  </thead>\n",
       "  <tbody>\n",
       "    <tr>\n",
       "      <th>0</th>\n",
       "      <td>new</td>\n",
       "      <td>{100: ['1A', '2B'], 200: ['2A', '3B'], 300: ['...</td>\n",
       "      <td>([1A, 2B], [2A, 3B], [3A, 3B, 4B])</td>\n",
       "    </tr>\n",
       "    <tr>\n",
       "      <th>1</th>\n",
       "      <td>old</td>\n",
       "      <td>{-1: ['99A', '99B']}</td>\n",
       "      <td>([99A, 99B])</td>\n",
       "    </tr>\n",
       "  </tbody>\n",
       "</table>\n",
       "</div>"
      ],
      "text/plain": [
       "     a                                                  b  \\\n",
       "0  new  {100: ['1A', '2B'], 200: ['2A', '3B'], 300: ['...   \n",
       "1  old                               {-1: ['99A', '99B']}   \n",
       "\n",
       "                                    c  \n",
       "0  ([1A, 2B], [2A, 3B], [3A, 3B, 4B])  \n",
       "1                        ([99A, 99B])  "
      ]
     },
     "execution_count": 5,
     "metadata": {},
     "output_type": "execute_result"
    }
   ],
   "source": [
    "(\n",
    " df.assign(b = df.b.map(lambda x:x if isinstance(x,dict) else {-1:x}))\n",
    "   .assign(c = lambda x :[i.values() for i in x.b])\n",
    " )"
   ]
  },
  {
   "cell_type": "code",
   "execution_count": 6,
   "id": "cd491188",
   "metadata": {},
   "outputs": [
    {
     "data": {
      "text/html": [
       "<div>\n",
       "<style scoped>\n",
       "    .dataframe tbody tr th:only-of-type {\n",
       "        vertical-align: middle;\n",
       "    }\n",
       "\n",
       "    .dataframe tbody tr th {\n",
       "        vertical-align: top;\n",
       "    }\n",
       "\n",
       "    .dataframe thead th {\n",
       "        text-align: right;\n",
       "    }\n",
       "</style>\n",
       "<table border=\"1\" class=\"dataframe\">\n",
       "  <thead>\n",
       "    <tr style=\"text-align: right;\">\n",
       "      <th></th>\n",
       "      <th>a</th>\n",
       "      <th>b</th>\n",
       "      <th>c</th>\n",
       "    </tr>\n",
       "  </thead>\n",
       "  <tbody>\n",
       "    <tr>\n",
       "      <th>0</th>\n",
       "      <td>new</td>\n",
       "      <td>100</td>\n",
       "      <td>[1A, 2B]</td>\n",
       "    </tr>\n",
       "    <tr>\n",
       "      <th>0</th>\n",
       "      <td>new</td>\n",
       "      <td>200</td>\n",
       "      <td>[2A, 3B]</td>\n",
       "    </tr>\n",
       "    <tr>\n",
       "      <th>0</th>\n",
       "      <td>new</td>\n",
       "      <td>300</td>\n",
       "      <td>[3A, 3B, 4B]</td>\n",
       "    </tr>\n",
       "    <tr>\n",
       "      <th>1</th>\n",
       "      <td>old</td>\n",
       "      <td>-1</td>\n",
       "      <td>[99A, 99B]</td>\n",
       "    </tr>\n",
       "  </tbody>\n",
       "</table>\n",
       "</div>"
      ],
      "text/plain": [
       "     a    b             c\n",
       "0  new  100      [1A, 2B]\n",
       "0  new  200      [2A, 3B]\n",
       "0  new  300  [3A, 3B, 4B]\n",
       "1  old   -1    [99A, 99B]"
      ]
     },
     "execution_count": 6,
     "metadata": {},
     "output_type": "execute_result"
    }
   ],
   "source": [
    "(\n",
    " df.assign(b = df.b.map(lambda x:x if isinstance(x,dict) else {-1:x}))\n",
    "   .assign(c = lambda x :[i.values() for i in x.b])\n",
    "   .explode(['b','c'])\n",
    " )"
   ]
  }
 ],
 "metadata": {
  "kernelspec": {
   "display_name": "Python 3 (ipykernel)",
   "language": "python",
   "name": "python3"
  },
  "language_info": {
   "codemirror_mode": {
    "name": "ipython",
    "version": 3
   },
   "file_extension": ".py",
   "mimetype": "text/x-python",
   "name": "python",
   "nbconvert_exporter": "python",
   "pygments_lexer": "ipython3",
   "version": "3.8.3"
  }
 },
 "nbformat": 4,
 "nbformat_minor": 5
}
