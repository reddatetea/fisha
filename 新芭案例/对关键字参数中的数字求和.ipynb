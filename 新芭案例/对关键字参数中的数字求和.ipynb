{
 "cells": [
  {
   "cell_type": "code",
   "execution_count": 1,
   "id": "528b65ce-0733-47e7-880b-dc173f995798",
   "metadata": {},
   "outputs": [
    {
     "data": {
      "text/plain": [
       "100"
      ]
     },
     "execution_count": 1,
     "metadata": {},
     "output_type": "execute_result"
    }
   ],
   "source": [
    "def sum_numeric_values(**kwargs):\n",
    "    # 使用列表推导式筛选出值为数字的项，并求和\n",
    "    total_sum = sum(value for value \n",
    "                    in kwargs.values() \n",
    "                    if isinstance(value, int | float)\n",
    "                   )\n",
    "    return total_sum\n",
    "\n",
    "# 示例用法\n",
    "sum_numeric_values(a=10,\n",
    "                   b=20,\n",
    "                   c='hello',\n",
    "                   d=30,\n",
    "                   e='world',\n",
    "                   f = 40\n",
    "                  )"
   ]
  },
  {
   "cell_type": "code",
   "execution_count": null,
   "id": "3ae3f2dc-1d29-4eea-abcc-ac516a95a7cf",
   "metadata": {},
   "outputs": [],
   "source": []
  }
 ],
 "metadata": {
  "kernelspec": {
   "display_name": "Python 3 (ipykernel)",
   "language": "python",
   "name": "python3"
  },
  "language_info": {
   "codemirror_mode": {
    "name": "ipython",
    "version": 3
   },
   "file_extension": ".py",
   "mimetype": "text/x-python",
   "name": "python",
   "nbconvert_exporter": "python",
   "pygments_lexer": "ipython3",
   "version": "3.11.5"
  }
 },
 "nbformat": 4,
 "nbformat_minor": 5
}
