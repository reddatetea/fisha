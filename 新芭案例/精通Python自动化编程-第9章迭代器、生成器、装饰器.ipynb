{
 "cells": [
  {
   "cell_type": "code",
   "execution_count": 1,
   "id": "7f679760",
   "metadata": {},
   "outputs": [
    {
     "name": "stdout",
     "output_type": "stream",
     "text": [
      "list1的对象类型为： <class 'list'>\n",
      "iter(list1)的对象类型为： <class 'list_iterator'>\n",
      "1\n",
      "2\n",
      "3\n",
      "4\n"
     ]
    }
   ],
   "source": [
    "list1 = [1, 2, 3, 4]\n",
    "print('list1的对象类型为：', type(list1))\n",
    "l = iter(list1)\n",
    "print('iter(list1)的对象类型为：', type(l))\n",
    "print(next(l))\n",
    "print(next(l))\n",
    "print(next(l))\n",
    "print(next(l))"
   ]
  },
  {
   "cell_type": "code",
   "execution_count": 4,
   "id": "e0817f19",
   "metadata": {},
   "outputs": [
    {
     "name": "stdout",
     "output_type": "stream",
     "text": [
      "list1的对象类型为： <class 'list'>\n",
      "iter(list1)的对象类型为： <class 'list_iterator'>\n",
      "1\n",
      "2\n",
      "3\n",
      "4\n"
     ]
    }
   ],
   "source": [
    "list1 = [1, 2, 3, 4]\n",
    "print('list1的对象类型为：', type(list1))\n",
    "l = iter(list1)\n",
    "print('iter(list1)的对象类型为：', type(l))\n",
    "# 使用for输出\n",
    "for i in l:    \n",
    "    print(i)\n",
    "# 使用while输出\n",
    "while 1:    \n",
    "    try:        \n",
    "        print(next(l))    \n",
    "    except:        \n",
    "        break"
   ]
  },
  {
   "cell_type": "code",
   "execution_count": 7,
   "id": "7b44a69d",
   "metadata": {},
   "outputs": [
    {
     "name": "stdout",
     "output_type": "stream",
     "text": [
      "<class '__main__.MyList'>\n",
      "<class '__main__.MyListIterator'>\n",
      "0\n",
      "1\n",
      "2\n",
      "3\n",
      "4\n"
     ]
    }
   ],
   "source": [
    "class MyListIterator:   \n",
    "    \"\"\"定义迭代器类，它是MyList可迭代对象的迭代器类\"\"\"    \n",
    "    def __init__(self, data):        \n",
    "        self.data = data        \n",
    "        self.now = 0    \n",
    "    def __iter__(self):        \n",
    "        \"\"\"返回该对象的迭代器类的实例；因为自己就是迭代器，所以返回self\"\"\"        \n",
    "        return self    \n",
    "    def __next__(self):        \n",
    "        \"\"\"迭代器类必须定义的方法\"\"\"        \n",
    "        while self.now < self.data:\n",
    "            self.now += 1            \n",
    "            # 返回当前迭代值            \n",
    "            return self.now - 1        \n",
    "        # 超出上边界，抛出异常        \n",
    "        raise StopIteration\n",
    "        \n",
    "class MyList:    \n",
    "    def __init__(self, num):  \n",
    "        self.data = num    \n",
    "    def __iter__(self):    \n",
    "        \"\"\"返回可迭代对象的迭代器类的实例\"\"\"        \n",
    "        return MyListIterator(self.data)\n",
    "# 创建实例化对象\n",
    "my_list = MyList(5)\n",
    "# 返回该对象的类型\n",
    "print(type(my_list))\n",
    "# 转化为迭代器的实例化对象\n",
    "my_list_iter = iter(my_list)\n",
    "print(type(my_list_iter))\n",
    "# 迭代输出每个元素\n",
    "for i in my_list:    \n",
    "    print(i)"
   ]
  },
  {
   "cell_type": "code",
   "execution_count": 8,
   "id": "a39300f5",
   "metadata": {},
   "outputs": [
    {
     "name": "stdout",
     "output_type": "stream",
     "text": [
      "没有使用迭代器： 1\n",
      "没有使用迭代器： 2\n",
      "没有使用迭代器： 3\n",
      "没有使用迭代器： 4\n",
      "没有使用迭代器： 1\n",
      "没有使用迭代器： 2\n",
      "没有使用迭代器： 3\n",
      "没有使用迭代器： 4\n",
      "使用迭代器： 1\n",
      "使用迭代器： 2\n",
      "使用迭代器： 3\n",
      "使用迭代器： 4\n"
     ]
    }
   ],
   "source": [
    "# 没有使用迭代器\n",
    "list1 = [1, 2, 3, 4]\n",
    "for l in list1:    \n",
    "    print('没有使用迭代器：', l)\n",
    "    \n",
    "for l in list1:    \n",
    "    print('没有使用迭代器：', l)\n",
    "    \n",
    "# 使用迭代器list1 = [1, 2, 3, 4]\n",
    "iter1 = iter(list1)\n",
    "for l in iter1:    \n",
    "    print('使用迭代器：', l)\n",
    "for l in iter1:    \n",
    "    print('使用迭代器：', l)"
   ]
  },
  {
   "cell_type": "code",
   "execution_count": 10,
   "id": "510d0f5c",
   "metadata": {},
   "outputs": [
    {
     "name": "stdout",
     "output_type": "stream",
     "text": [
      "location is： 1\n",
      "1\n",
      "location is： 2\n",
      "2\n",
      "location is： 3\n",
      "3\n"
     ]
    }
   ],
   "source": [
    "def myGen():    \n",
    "    location = 1    \n",
    "    print('location is：', location)    \n",
    "    yield location    \n",
    "    location += 1    \n",
    "    print('location is：', location)    \n",
    "    yield location    \n",
    "    location += 1    \n",
    "    print('location is：', location)    \n",
    "    yield location\n",
    "    \n",
    "if __name__ == '__main__':    \n",
    "    mg = myGen()    \n",
    "    print(next(mg))    \n",
    "    print(next(mg))    \n",
    "    print(next(mg))"
   ]
  },
  {
   "cell_type": "code",
   "execution_count": 11,
   "id": "35a02d55",
   "metadata": {},
   "outputs": [
    {
     "name": "stdout",
     "output_type": "stream",
     "text": [
      "0\n",
      "2\n",
      "4\n",
      "6\n",
      "8\n"
     ]
    }
   ],
   "source": [
    "# 创建生成器g\n",
    "g = (i for i in range(10) if i % 2 == 0)\n",
    "# 遍历输出生成器g的每个元素\n",
    "for i in g:    \n",
    "    print(i)"
   ]
  },
  {
   "cell_type": "code",
   "execution_count": 15,
   "id": "7f8ff761",
   "metadata": {},
   "outputs": [
    {
     "name": "stdout",
     "output_type": "stream",
     "text": [
      "---这是闭包函数---\n",
      "参数fun的值为：<function myDef at 0x0000019C7240C4C0>\n",
      "---Running---\n"
     ]
    }
   ],
   "source": [
    "def set_function(fun):    \n",
    "    def call_function():        \n",
    "        print('---这是闭包函数---')        \n",
    "        print(f'参数fun的值为：{fun}')        \n",
    "        fun()    \n",
    "    return call_function\n",
    "\n",
    "@set_function\n",
    "def myDef():    \n",
    "    print('---Running---')\n",
    "\n",
    "if __name__ == '__main__':    \n",
    "    myDef()"
   ]
  },
  {
   "cell_type": "code",
   "execution_count": 16,
   "id": "a9f71a02",
   "metadata": {},
   "outputs": [
    {
     "name": "stdout",
     "output_type": "stream",
     "text": [
      "---这是闭包函数---\n",
      "参数fun的值为：<function myDef at 0x0000019C7240C280>\n",
      "参数num的值为：10\n",
      "---Running---\n"
     ]
    }
   ],
   "source": [
    "def set_function(fun):    \n",
    "    def call_function(num, *args, **kwargs):        \n",
    "        print('---这是闭包函数---')        \n",
    "        print(f'参数fun的值为：{fun}')        \n",
    "        print(f'参数num的值为：{num}')        \n",
    "        fun(num, *args, **kwargs)    \n",
    "    return call_function\n",
    "\n",
    "@set_function\n",
    "def myDef(num, *args, **kwargs):    \n",
    "    print('---Running---')\n",
    "    \n",
    "if __name__ == '__main__':    \n",
    "    myDef(10)"
   ]
  },
  {
   "cell_type": "code",
   "execution_count": 17,
   "id": "d0bb95eb",
   "metadata": {},
   "outputs": [
    {
     "name": "stdout",
     "output_type": "stream",
     "text": [
      "---这是闭包函数---\n",
      "参数fun的值为：<function myDef at 0x0000019C7240C3A0>\n",
      "参数num的值为：10\n",
      "---Running---\n",
      "函数返回值为： 10\n"
     ]
    }
   ],
   "source": [
    "def set_function(fun):    \n",
    "    def call_function(num, *args, **kwargs):        \n",
    "        print('---这是闭包函数---')        \n",
    "        print(f'参数fun的值为：{fun}')        \n",
    "        print(f'参数num的值为：{num}')        \n",
    "        return fun(num, *args, **kwargs)    \n",
    "    return call_function\n",
    "\n",
    "@set_function\n",
    "def myDef(num, *args, **kwargs):    \n",
    "    print('---Running---')    \n",
    "    return num\n",
    "\n",
    "if __name__ == '__main__':    \n",
    "    m = myDef(10)    \n",
    "    print('函数返回值为：', m)"
   ]
  },
  {
   "cell_type": "code",
   "execution_count": 19,
   "id": "05c811a5",
   "metadata": {},
   "outputs": [
    {
     "name": "stdout",
     "output_type": "stream",
     "text": [
      "---第一个装饰器---\n",
      "参数fun的值为：<function set_function.<locals>.call_function at 0x0000019C7240CEE0>\n",
      "参数num的值为：10\n",
      "---第二个装饰器---\n",
      "参数fun的值为：<function myDef at 0x0000019C7240CB80>\n",
      "参数num的值为：10\n",
      "---Running---\n"
     ]
    }
   ],
   "source": [
    "def set_func(fun):    \n",
    "    def call_func(num, *args, **kwargs):        \n",
    "        print('---第一个装饰器---')        \n",
    "        print(f'参数fun的值为：{fun}')        \n",
    "        print(f'参数num的值为：{num}')        \n",
    "        return fun(num, *args, **kwargs)    \n",
    "    return call_func\n",
    "\n",
    "def set_function(fun):\n",
    "     def call_function(num, *args, **kwargs): \n",
    "        print('---第二个装饰器---')        \n",
    "        print(f'参数fun的值为：{fun}')        \n",
    "        print(f'参数num的值为：{num}')        \n",
    "        return fun(num, *args, **kwargs)   \n",
    "     return call_function\n",
    "\n",
    "@set_func\n",
    "@set_function\n",
    "def myDef(num, *args, **kwargs):    \n",
    "    print('---Running---')\n",
    "    \n",
    "if __name__ == '__main__':    \n",
    "    myDef(10)"
   ]
  },
  {
   "cell_type": "code",
   "execution_count": 24,
   "id": "923d01bb",
   "metadata": {},
   "outputs": [
    {
     "name": "stdout",
     "output_type": "stream",
     "text": [
      "---这是第一层函数---\n",
      "装饰器的参数parameter为：hello\n",
      "装饰器的参数parameter为：('python',)\n",
      "---这是第二层函数---\n",
      "---这是第三层函数---\n",
      "参数fun的值为：<function myDef at 0x0000019C72414040>\n",
      "参数num的值为：10\n",
      "---Running---\n",
      "函数返回值为： 10\n"
     ]
    }
   ],
   "source": [
    "def set_para(parameter, *args, **kwargs):    \n",
    "    print('---这是第一层函数---')    \n",
    "    print(f'装饰器的参数parameter为：{parameter}')    \n",
    "    print(f'装饰器的参数parameter为：{args}')    \n",
    "    \n",
    "    def set_function(fun):        \n",
    "        print('---这是第二层函数---')\n",
    "        \n",
    "        def call_function(num, *args, **kwargs): \n",
    "            print('---这是第三层函数---')            \n",
    "            print(f'参数fun的值为：{fun}')            \n",
    "            print(f'参数num的值为：{num}')            \n",
    "            return fun(num, *args, **kwargs)        \n",
    "        return call_function    \n",
    "    return set_function\n",
    "\n",
    "@set_para('hello', 'python')\n",
    "def myDef(num, *args, **kwargs):    \n",
    "    print('---Running---')    \n",
    "    return num\n",
    "\n",
    "if __name__ == '__main__':    \n",
    "    m = myDef(10)    \n",
    "    print('函数返回值为：', m)"
   ]
  },
  {
   "cell_type": "code",
   "execution_count": 26,
   "id": "fec9c229",
   "metadata": {},
   "outputs": [
    {
     "name": "stdout",
     "output_type": "stream",
     "text": [
      "---Running---\n",
      "函数返回值为： 10\n"
     ]
    }
   ],
   "source": [
    "class decorator:    \n",
    "    def __init__(self, fun):        \n",
    "        self.fun = fun    \n",
    "    def __call__(self, num, *args, **kwargs):        \n",
    "        res = self.fun(num, *args, **kwargs)        \n",
    "        return res\n",
    "\n",
    "@decorator\n",
    "def myDef(num, *args, **kwargs):    \n",
    "    print('---Running---')    \n",
    "    return num\n",
    "if __name__ == \"__main__\":    \n",
    "    m = myDef(10)    \n",
    "    print('函数返回值为：', m)"
   ]
  },
  {
   "cell_type": "code",
   "execution_count": 28,
   "id": "624082a8",
   "metadata": {},
   "outputs": [
    {
     "name": "stdout",
     "output_type": "stream",
     "text": [
      "装饰器的参数为：hello\n",
      "---Running---\n",
      "函数返回值为： 10\n"
     ]
    }
   ],
   "source": [
    "class decorator:    \n",
    "    def __init__(self, para):        \n",
    "        self.para = para    \n",
    "    def __call__(self, func):        \n",
    "        print(f'装饰器的参数为：{self.para}')        \n",
    "        def wrapper(num, *args, **kwargs):            \n",
    "            res = func(num, *args, **kwargs)            \n",
    "            return res        \n",
    "        return wrapper\n",
    "\n",
    "@decorator('hello')\n",
    "def myDef(num, *args, **kwargs):    \n",
    "    print('---Running---')    \n",
    "    return num\n",
    "\n",
    "if __name__ == \"__main__\":    \n",
    "    m = myDef(10)    \n",
    "    print('函数返回值为：', m)"
   ]
  },
  {
   "cell_type": "code",
   "execution_count": 31,
   "id": "cfb4aadb",
   "metadata": {},
   "outputs": [
    {
     "name": "stdout",
     "output_type": "stream",
     "text": [
      "我被调用了\n",
      "各就位，预备：\n",
      "跑~~~~~\n"
     ]
    }
   ],
   "source": [
    "def decorator(fun):    \n",
    "    def wrapper(self, *args, **kwargs):        \n",
    "        self.action()        \n",
    "        u = fun(self, *args, **kwargs)        \n",
    "        return u    \n",
    "    return wrapper\n",
    "\n",
    "class myDef:\n",
    "    def action(self):\n",
    "        print('我被调用了')    \n",
    "        \n",
    "    @decorator\n",
    "    def run(self):        \n",
    "        print('各就位，预备：')        \n",
    "        return '跑~~~~~'\n",
    "\n",
    "if __name__ == \"__main__\":   \n",
    "    m = myDef()    \n",
    "    print(m.run())"
   ]
  },
  {
   "cell_type": "code",
   "execution_count": 32,
   "id": "add1583e",
   "metadata": {},
   "outputs": [
    {
     "name": "stdout",
     "output_type": "stream",
     "text": [
      "Hello Mr.xy\n"
     ]
    }
   ],
   "source": [
    "#工厂模式\n",
    "class Person:    \n",
    "    pass\n",
    "class Male(Person):    \n",
    "    def __init__(self, name):        \n",
    "        print(\"Hello Mr.\" + name)\n",
    "class Female(Person):    \n",
    "    def __init__(self, name):        \n",
    "        print(\"Hello Miss.\" + name)\n",
    "        \n",
    "class Factory:    \n",
    "    def getPerson(self, name, gender):        \n",
    "        if gender == 'M':            \n",
    "            return Male(name)        \n",
    "        if gender == 'F':            \n",
    "            return Female(name)\n",
    "        \n",
    "if __name__ == '__main__':    \n",
    "    factory = Factory()    \n",
    "    person = factory.getPerson(\"xy\", \"M\")"
   ]
  },
  {
   "cell_type": "code",
   "execution_count": null,
   "id": "1514b345",
   "metadata": {},
   "outputs": [],
   "source": []
  }
 ],
 "metadata": {
  "kernelspec": {
   "display_name": "Python 3 (ipykernel)",
   "language": "python",
   "name": "python3"
  },
  "language_info": {
   "codemirror_mode": {
    "name": "ipython",
    "version": 3
   },
   "file_extension": ".py",
   "mimetype": "text/x-python",
   "name": "python",
   "nbconvert_exporter": "python",
   "pygments_lexer": "ipython3",
   "version": "3.8.3"
  }
 },
 "nbformat": 4,
 "nbformat_minor": 5
}
