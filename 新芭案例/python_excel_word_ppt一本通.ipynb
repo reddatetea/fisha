{
 "cells": [
  {
   "cell_type": "code",
   "execution_count": 3,
   "id": "2a3007f8",
   "metadata": {},
   "outputs": [],
   "source": [
    "import numpy as np\n",
    "import pandas as pd"
   ]
  },
  {
   "cell_type": "code",
   "execution_count": 5,
   "id": "d7ec705c",
   "metadata": {},
   "outputs": [
    {
     "data": {
      "text/plain": [
       "2022-10-01 00:00:00    0\n",
       "2022-10-01 00:02:00    1\n",
       "2022-10-01 00:04:00    2\n",
       "2022-10-01 00:06:00    3\n",
       "2022-10-01 00:08:00    4\n",
       "2022-10-01 00:10:00    5\n",
       "2022-10-01 00:12:00    6\n",
       "2022-10-01 00:14:00    7\n",
       "2022-10-01 00:16:00    8\n",
       "2022-10-01 00:18:00    9\n",
       "Freq: 2T, dtype: int64"
      ]
     },
     "metadata": {},
     "output_type": "display_data"
    }
   ],
   "source": [
    "index = pd.date_range('2022-10-1',periods = 10,freq = '2T')\n",
    "mysel = pd.Series(range(10),index = index)\n",
    "display(mysel)"
   ]
  },
  {
   "cell_type": "code",
   "execution_count": 8,
   "id": "59c09662",
   "metadata": {},
   "outputs": [
    {
     "data": {
      "text/plain": [
       "2022-10-01 00:00:00     1\n",
       "2022-10-01 00:04:00     5\n",
       "2022-10-01 00:08:00     9\n",
       "2022-10-01 00:12:00    13\n",
       "2022-10-01 00:16:00    17\n",
       "Freq: 4T, dtype: int64"
      ]
     },
     "execution_count": 8,
     "metadata": {},
     "output_type": "execute_result"
    }
   ],
   "source": [
    "mysel.resample('4T').sum()"
   ]
  },
  {
   "cell_type": "code",
   "execution_count": 7,
   "id": "1210712b",
   "metadata": {},
   "outputs": [
    {
     "data": {
      "text/plain": [
       "<pandas.core.resample.DatetimeIndexResampler object at 0x000001DFFB422AF0>"
      ]
     },
     "metadata": {},
     "output_type": "display_data"
    }
   ],
   "source": [
    "display(mysel.resample('4T'))"
   ]
  },
  {
   "cell_type": "code",
   "execution_count": 16,
   "id": "9925e81f",
   "metadata": {},
   "outputs": [],
   "source": [
    "from docx import Document"
   ]
  },
  {
   "cell_type": "code",
   "execution_count": 17,
   "id": "81b7a45e",
   "metadata": {},
   "outputs": [],
   "source": [
    "mydoc = Document()"
   ]
  },
  {
   "cell_type": "code",
   "execution_count": 18,
   "id": "d719fd3c",
   "metadata": {},
   "outputs": [],
   "source": [
    "for i in range(10):\n",
    "    mydoc.add_heading('这是标题 Level' + str(i),i)"
   ]
  },
  {
   "cell_type": "code",
   "execution_count": 19,
   "id": "aee33028",
   "metadata": {},
   "outputs": [],
   "source": [
    "mydoc.save(r'generated_docx\\11.4.2-查看标题.docx')"
   ]
  },
  {
   "cell_type": "code",
   "execution_count": null,
   "id": "12ea097b",
   "metadata": {},
   "outputs": [],
   "source": []
  }
 ],
 "metadata": {
  "kernelspec": {
   "display_name": "Python 3 (ipykernel)",
   "language": "python",
   "name": "python3"
  },
  "language_info": {
   "codemirror_mode": {
    "name": "ipython",
    "version": 3
   },
   "file_extension": ".py",
   "mimetype": "text/x-python",
   "name": "python",
   "nbconvert_exporter": "python",
   "pygments_lexer": "ipython3",
   "version": "3.9.12"
  }
 },
 "nbformat": 4,
 "nbformat_minor": 5
}
