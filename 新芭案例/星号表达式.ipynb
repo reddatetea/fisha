{
 "cells": [
  {
   "cell_type": "code",
   "execution_count": 1,
   "id": "2f34b20c",
   "metadata": {},
   "outputs": [
    {
     "data": {
      "text/plain": [
       "{'a': 1, 'b': 3, 'c': 4}"
      ]
     },
     "execution_count": 1,
     "metadata": {},
     "output_type": "execute_result"
    }
   ],
   "source": [
    "# 合并字典\n",
    "x = {'a': 1, 'b': 2}\n",
    "y = {'b': 3, 'c': 4}\n",
    "# 拆成字典（还是自己）\n",
    "{**x}\n",
    "# {'a': 1, 'b': 2}\n",
    "{**x, **y} # 合并"
   ]
  },
  {
   "cell_type": "code",
   "execution_count": 2,
   "id": "327683a0",
   "metadata": {},
   "outputs": [
    {
     "data": {
      "text/plain": [
       "{'b': 2, 'c': 4, 'a': 1}"
      ]
     },
     "execution_count": 2,
     "metadata": {},
     "output_type": "execute_result"
    }
   ],
   "source": [
    "{**y, **x} # 两个字典合并，两个星是字典"
   ]
  },
  {
   "cell_type": "code",
   "execution_count": 5,
   "id": "77442962",
   "metadata": {},
   "outputs": [
    {
     "data": {
      "text/plain": [
       "{'x1': 0, 'x2': 1, 'b': 1, 'c': 2}"
      ]
     },
     "execution_count": 5,
     "metadata": {},
     "output_type": "execute_result"
    }
   ],
   "source": [
    "a = dict(**{'x1': 0, 'x2': 1},b=1,c=2)  #解包\n",
    "a"
   ]
  },
  {
   "cell_type": "code",
   "execution_count": 6,
   "id": "fa9f5f9a",
   "metadata": {},
   "outputs": [
    {
     "data": {
      "text/plain": [
       "[range(0, 0), range(0, 1), range(0, 2), range(0, 3), range(0, 4)]"
      ]
     },
     "execution_count": 6,
     "metadata": {},
     "output_type": "execute_result"
    }
   ],
   "source": [
    "ranges = [range(i) for i in range(5)]\n",
    "ranges"
   ]
  },
  {
   "cell_type": "code",
   "execution_count": 7,
   "id": "d14b5238",
   "metadata": {},
   "outputs": [
    {
     "name": "stdout",
     "output_type": "stream",
     "text": [
      "range(0, 0)\n",
      "range(0, 1)\n",
      "range(0, 2)\n",
      "range(0, 3)\n",
      "range(0, 4)\n"
     ]
    }
   ],
   "source": [
    "for item in ranges:\n",
    "    print(item)"
   ]
  },
  {
   "cell_type": "code",
   "execution_count": 14,
   "id": "a43bc43e",
   "metadata": {},
   "outputs": [
    {
     "data": {
      "text/plain": [
       "[[], [0], [0, 1], [0, 1, 2], [0, 1, 2, 3]]"
      ]
     },
     "execution_count": 14,
     "metadata": {},
     "output_type": "execute_result"
    }
   ],
   "source": [
    "[[*item] for item in ranges]"
   ]
  },
  {
   "cell_type": "code",
   "execution_count": 17,
   "id": "216a5c6a",
   "metadata": {},
   "outputs": [
    {
     "data": {
      "text/plain": [
       "{0: [], 1: [0], 2: [0, 1], 3: [0, 1, 2], 4: [0, 1, 2, 3]}"
      ]
     },
     "execution_count": 17,
     "metadata": {},
     "output_type": "execute_result"
    }
   ],
   "source": [
    "{i:[*item] for i, item in enumerate(ranges)}"
   ]
  },
  {
   "cell_type": "code",
   "execution_count": 10,
   "id": "cf31f07d",
   "metadata": {},
   "outputs": [
    {
     "data": {
      "text/plain": [
       "'1+2=3'"
      ]
     },
     "execution_count": 10,
     "metadata": {},
     "output_type": "execute_result"
    }
   ],
   "source": [
    "a = [1,2]\n",
    "'{}+{}={}'.format(*a, sum(a))"
   ]
  },
  {
   "cell_type": "code",
   "execution_count": 11,
   "id": "a6d764af",
   "metadata": {},
   "outputs": [
    {
     "name": "stdout",
     "output_type": "stream",
     "text": [
      "1&2&3&4\n"
     ]
    }
   ],
   "source": [
    "def f(a, b, c, d):\n",
    "    print(a, b, c, d, sep = '&')\n",
    "\n",
    "f(1,2,3,4)"
   ]
  },
  {
   "cell_type": "code",
   "execution_count": 12,
   "id": "d9c435fa",
   "metadata": {},
   "outputs": [
    {
     "name": "stdout",
     "output_type": "stream",
     "text": [
      "1&2&3&4\n"
     ]
    }
   ],
   "source": [
    "f(*[1, 2, 3, 4])"
   ]
  },
  {
   "cell_type": "code",
   "execution_count": null,
   "id": "b27e2f05",
   "metadata": {},
   "outputs": [],
   "source": []
  }
 ],
 "metadata": {
  "kernelspec": {
   "display_name": "Python 3 (ipykernel)",
   "language": "python",
   "name": "python3"
  },
  "language_info": {
   "codemirror_mode": {
    "name": "ipython",
    "version": 3
   },
   "file_extension": ".py",
   "mimetype": "text/x-python",
   "name": "python",
   "nbconvert_exporter": "python",
   "pygments_lexer": "ipython3",
   "version": "3.9.12"
  }
 },
 "nbformat": 4,
 "nbformat_minor": 5
}
