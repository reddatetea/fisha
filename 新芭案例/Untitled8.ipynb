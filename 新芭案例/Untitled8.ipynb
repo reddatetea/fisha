{
 "cells": [
  {
   "cell_type": "code",
   "execution_count": 2,
   "id": "c5a92d5a",
   "metadata": {},
   "outputs": [],
   "source": [
    "import re\n",
    "import pandas as pd"
   ]
  },
  {
   "cell_type": "code",
   "execution_count": 3,
   "id": "9761ec14",
   "metadata": {},
   "outputs": [
    {
     "data": {
      "text/plain": [
       "0    [Lucass, 95]\n",
       "1     [Lily, 120]\n",
       "2        [Bob, 9]\n",
       "dtype: object"
      ]
     },
     "execution_count": 3,
     "metadata": {},
     "output_type": "execute_result"
    }
   ],
   "source": [
    "s = pd.Series(['Lucass95','Lily120','Bob9'])\n",
    "s.str.split('(?<=\\D)(?=\\d)')"
   ]
  },
  {
   "cell_type": "code",
   "execution_count": 4,
   "id": "cd16560d",
   "metadata": {},
   "outputs": [
    {
     "data": {
      "text/plain": [
       "0    Lucass95\n",
       "1     Lily120\n",
       "2        Bob9\n",
       "dtype: object"
      ]
     },
     "execution_count": 4,
     "metadata": {},
     "output_type": "execute_result"
    }
   ],
   "source": [
    "s"
   ]
  },
  {
   "cell_type": "code",
   "execution_count": null,
   "id": "93d731e2",
   "metadata": {},
   "outputs": [],
   "source": []
  }
 ],
 "metadata": {
  "kernelspec": {
   "display_name": "Python 3 (ipykernel)",
   "language": "python",
   "name": "python3"
  },
  "language_info": {
   "codemirror_mode": {
    "name": "ipython",
    "version": 3
   },
   "file_extension": ".py",
   "mimetype": "text/x-python",
   "name": "python",
   "nbconvert_exporter": "python",
   "pygments_lexer": "ipython3",
   "version": "3.9.12"
  }
 },
 "nbformat": 4,
 "nbformat_minor": 5
}
