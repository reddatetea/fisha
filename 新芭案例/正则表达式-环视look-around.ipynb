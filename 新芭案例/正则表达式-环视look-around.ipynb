{
 "cells": [
  {
   "cell_type": "code",
   "execution_count": 1,
   "id": "a1976c59",
   "metadata": {},
   "outputs": [],
   "source": [
    "#环视 停在原地，四处张望！匹配完成后，停在原地\n",
    "import re"
   ]
  },
  {
   "cell_type": "code",
   "execution_count": 70,
   "id": "4461331e",
   "metadata": {},
   "outputs": [],
   "source": [
    "string = '123swz345'"
   ]
  },
  {
   "cell_type": "code",
   "execution_count": 65,
   "id": "9a1adf18",
   "metadata": {},
   "outputs": [
    {
     "name": "stdout",
     "output_type": "stream",
     "text": [
      "<re.Match object; span=(3, 6), match='swz'>\n"
     ]
    }
   ],
   "source": [
    "#肯定顺序环视   positive-lookahead\n",
    "r = r'\\D+(?=\\d{3})'\n",
    "pattern = re.compile(r)\n",
    "a= pattern.search(string)\n",
    "print(a)\n",
    "\n",
    "              \n",
    "              "
   ]
  },
  {
   "cell_type": "code",
   "execution_count": 66,
   "id": "62a3792a",
   "metadata": {},
   "outputs": [
    {
     "data": {
      "text/plain": [
       "<re.Match object; span=(3, 5), match='sw'>"
      ]
     },
     "execution_count": 66,
     "metadata": {},
     "output_type": "execute_result"
    }
   ],
   "source": [
    "#否定顺序环视   negative-lookahead  否定的意思是，如果匹配成功，则在当前位置匹配失败\n",
    "r = '\\D+(?!\\d{3})'\n",
    "pattern = re.compile(r)\n",
    "b = pattern.search(string)\n",
    "b\n",
    "              "
   ]
  },
  {
   "cell_type": "code",
   "execution_count": 73,
   "id": "59320f87",
   "metadata": {},
   "outputs": [
    {
     "data": {
      "text/plain": [
       "<re.Match object; span=(3, 6), match='swz'>"
      ]
     },
     "execution_count": 73,
     "metadata": {},
     "output_type": "execute_result"
    }
   ],
   "source": [
    "#肯定逆序环视   positive-lookbehind\n",
    "r = '(?<=\\d{3})\\D+'\n",
    "pattern = re.compile(r)\n",
    "c = pattern.search(string)\n",
    "c\n"
   ]
  },
  {
   "cell_type": "code",
   "execution_count": 72,
   "id": "f54d799a",
   "metadata": {},
   "outputs": [
    {
     "data": {
      "text/plain": [
       "<re.Match object; span=(4, 6), match='wz'>"
      ]
     },
     "execution_count": 72,
     "metadata": {},
     "output_type": "execute_result"
    }
   ],
   "source": [
    "#否定逆序环视   negative-lookbehind   否定的意思是，如果匹配成功，则在当前位置匹配失败\n",
    "r = '(?<!\\d{3})\\D+'\n",
    "pattern = re.compile(r)\n",
    "d = pattern.search(string)\n",
    "d"
   ]
  },
  {
   "cell_type": "code",
   "execution_count": 25,
   "id": "3838ef09",
   "metadata": {},
   "outputs": [
    {
     "data": {
      "text/plain": [
       "['701弄', '1号', '2605室']"
      ]
     },
     "execution_count": 25,
     "metadata": {},
     "output_type": "execute_result"
    }
   ],
   "source": [
    "string = '复兴东路701弄1号2605室'\n",
    "lst = re.findall(r'(\\d+\\D+)',string)\n",
    "lst"
   ]
  },
  {
   "cell_type": "code",
   "execution_count": 26,
   "id": "f372428c",
   "metadata": {},
   "outputs": [
    {
     "data": {
      "text/plain": [
       "'复兴东路'"
      ]
     },
     "execution_count": 26,
     "metadata": {},
     "output_type": "execute_result"
    }
   ],
   "source": [
    "first =  re.search(r'^(\\D+)(?:\\d+)',string).group(1)\n",
    "first"
   ]
  },
  {
   "cell_type": "code",
   "execution_count": 27,
   "id": "116102a5",
   "metadata": {},
   "outputs": [
    {
     "data": {
      "text/plain": [
       "['复兴东路701弄', '1号', '2605室']"
      ]
     },
     "execution_count": 27,
     "metadata": {},
     "output_type": "execute_result"
    }
   ],
   "source": [
    "lst[0] = first + lst[0]\n",
    "lst"
   ]
  },
  {
   "cell_type": "code",
   "execution_count": null,
   "id": "a5a4b87b",
   "metadata": {},
   "outputs": [],
   "source": []
  }
 ],
 "metadata": {
  "kernelspec": {
   "display_name": "Python 3 (ipykernel)",
   "language": "python",
   "name": "python3"
  },
  "language_info": {
   "codemirror_mode": {
    "name": "ipython",
    "version": 3
   },
   "file_extension": ".py",
   "mimetype": "text/x-python",
   "name": "python",
   "nbconvert_exporter": "python",
   "pygments_lexer": "ipython3",
   "version": "3.8.3"
  }
 },
 "nbformat": 4,
 "nbformat_minor": 5
}
