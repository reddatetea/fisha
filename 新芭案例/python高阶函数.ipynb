{
 "cells": [
  {
   "cell_type": "code",
   "execution_count": null,
   "id": "fc7e0efd",
   "metadata": {},
   "outputs": [],
   "source": [
    "def add_num(x, y, z):\n",
    "    return x + y + z\n",
    "\n",
    "l1 = [1, 2, 3]\n",
    "[map(add_num, l1, l1, l1)]\n",
    "[3, 6, 9]"
   ]
  },
  {
   "cell_type": "code",
   "execution_count": 1,
   "id": "007a12a0",
   "metadata": {},
   "outputs": [
    {
     "data": {
      "text/plain": [
       "[10, 12]"
      ]
     },
     "execution_count": 1,
     "metadata": {},
     "output_type": "execute_result"
    }
   ],
   "source": [
    "import itertools\n",
    "\n",
    "t = [(2,5), (3,4)]\n",
    "# 元组内操作（相乘）\n",
    "sm = itertools.starmap(lambda x,y: x*y, t)\n",
    "list(sm)"
   ]
  },
  {
   "cell_type": "code",
   "execution_count": null,
   "id": "18563b3a",
   "metadata": {},
   "outputs": [],
   "source": [
    "import numpy as np\n",
    "\n",
    "a = np.array([-2, -1, 0])\n",
    "b = np.abs(a)\n",
    "print(b)"
   ]
  },
  {
   "cell_type": "code",
   "execution_count": null,
   "id": "17e130c1",
   "metadata": {},
   "outputs": [],
   "source": [
    "c = list(b)\n",
    "c"
   ]
  },
  {
   "cell_type": "code",
   "execution_count": null,
   "id": "5b2b7382",
   "metadata": {},
   "outputs": [],
   "source": [
    "l = [-2, -1, 0, 1, 2]\n",
    "a = filter(lambda x: x % 2 == 0, l)\n",
    "b = list(a)\n",
    "print(b)"
   ]
  },
  {
   "cell_type": "raw",
   "id": "16c7d544",
   "metadata": {},
   "source": [
    "coordinate = ['x', 'y', 'z']\n",
    "value = [3, 4, 5]\n",
    "\n",
    "result = zip(coordinate, value)\n",
    "result_list = list(result)\n",
    "result_list"
   ]
  },
  {
   "cell_type": "code",
   "execution_count": 2,
   "id": "33b54eb8",
   "metadata": {},
   "outputs": [
    {
     "data": {
      "text/plain": [
       "[('x', 3), ('y', 4), ('z', 5)]"
      ]
     },
     "execution_count": 2,
     "metadata": {},
     "output_type": "execute_result"
    }
   ],
   "source": [
    "coordinate = ['x', 'y', 'z']\n",
    "value = [3, 4, 5]\n",
    "\n",
    "result = zip(coordinate, value)\n",
    "result_list = list(result)\n",
    "result_list"
   ]
  },
  {
   "cell_type": "code",
   "execution_count": null,
   "id": "bd8537e8",
   "metadata": {},
   "outputs": [],
   "source": []
  }
 ],
 "metadata": {
  "kernelspec": {
   "display_name": "Python 3 (ipykernel)",
   "language": "python",
   "name": "python3"
  },
  "language_info": {
   "codemirror_mode": {
    "name": "ipython",
    "version": 3
   },
   "file_extension": ".py",
   "mimetype": "text/x-python",
   "name": "python",
   "nbconvert_exporter": "python",
   "pygments_lexer": "ipython3",
   "version": "3.8.3"
  }
 },
 "nbformat": 4,
 "nbformat_minor": 5
}
