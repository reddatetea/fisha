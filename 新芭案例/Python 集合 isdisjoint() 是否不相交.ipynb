{
 "cells": [
  {
   "cell_type": "code",
   "execution_count": 1,
   "id": "ec00ac48-5097-4075-8741-dd883e586932",
   "metadata": {},
   "outputs": [
    {
     "name": "stdout",
     "output_type": "stream",
     "text": [
      "True\n"
     ]
    }
   ],
   "source": [
    "set1 = {1, 2, 3}\n",
    "set2 = {4, 5, 6}\n",
    "\n",
    "# 检查集合是否不相交\n",
    "result = set1.isdisjoint(set2)\n",
    "print(result)  # 输出 True，因为 set1 和 set2 没有共同的元素"
   ]
  },
  {
   "cell_type": "code",
   "execution_count": 2,
   "id": "2d1a17f8-959f-41c9-8b2e-4e7a4d9f6342",
   "metadata": {},
   "outputs": [
    {
     "name": "stdout",
     "output_type": "stream",
     "text": [
      "False\n"
     ]
    }
   ],
   "source": [
    "set3 = {1, 2, 3}\n",
    "set4 = {3, 4, 5}\n",
    "\n",
    "# 检查集合是否不相交\n",
    "result = set3.isdisjoint(set4)\n",
    "print(result)  # 输出 False，因为 set3 和 set4 有共同的元素 3"
   ]
  },
  {
   "cell_type": "code",
   "execution_count": null,
   "id": "b6fc87b9-15d4-40bd-85b8-58c672bc263c",
   "metadata": {},
   "outputs": [],
   "source": []
  }
 ],
 "metadata": {
  "kernelspec": {
   "display_name": "Python 3 (ipykernel)",
   "language": "python",
   "name": "python3"
  },
  "language_info": {
   "codemirror_mode": {
    "name": "ipython",
    "version": 3
   },
   "file_extension": ".py",
   "mimetype": "text/x-python",
   "name": "python",
   "nbconvert_exporter": "python",
   "pygments_lexer": "ipython3",
   "version": "3.11.5"
  }
 },
 "nbformat": 4,
 "nbformat_minor": 5
}
