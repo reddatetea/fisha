{
 "cells": [
  {
   "cell_type": "code",
   "execution_count": 8,
   "id": "1040f9c9",
   "metadata": {},
   "outputs": [],
   "source": [
    "import xlwings as xw\n",
    "import pandas as pd\n",
    "import matplotlib.pyplot as plt\n",
    "def pltplot():\n",
    "    bk=xw.Book.caller()\n",
    "    sht=bk.sheets[0]\n",
    "    fig=plt.figure()    #新建绘图窗口\n",
    "    x=[1,2,3,4,5]\n",
    "    y1=[2,1,4,3,5]\n",
    "    y2=[0,2,1,6,4]\n",
    "    y3=[1,4,5,8,6]\n",
    "    values = dict(zip(['x','y1','y2','y3'],[x,y1,y2,y3]))\n",
    "    df = pd.DataFrame(values)\n",
    "    sht.range('A1').options(pd.DataFrame,index = False).value = df\n",
    "    plt.stackplot(x, y1, y2, y3)    #利用获取的数据绘堆栈面积图\n",
    "    sht.pictures.add(fig,name='plt_test',left=20,top=140,width=250,height=160)"
   ]
  },
  {
   "cell_type": "code",
   "execution_count": 20,
   "id": "c3eab780",
   "metadata": {},
   "outputs": [
    {
     "data": {
      "text/plain": [
       "'[x,y1,y2,y3]'"
      ]
     },
     "execution_count": 20,
     "metadata": {},
     "output_type": "execute_result"
    }
   ],
   "source": [
    "a = '[x,y1,y2,y3]'\n",
    "a"
   ]
  },
  {
   "cell_type": "code",
   "execution_count": null,
   "id": "439a1c0d",
   "metadata": {},
   "outputs": [],
   "source": []
  }
 ],
 "metadata": {
  "kernelspec": {
   "display_name": "Python 3 (ipykernel)",
   "language": "python",
   "name": "python3"
  },
  "language_info": {
   "codemirror_mode": {
    "name": "ipython",
    "version": 3
   },
   "file_extension": ".py",
   "mimetype": "text/x-python",
   "name": "python",
   "nbconvert_exporter": "python",
   "pygments_lexer": "ipython3",
   "version": "3.8.3"
  }
 },
 "nbformat": 4,
 "nbformat_minor": 5
}
