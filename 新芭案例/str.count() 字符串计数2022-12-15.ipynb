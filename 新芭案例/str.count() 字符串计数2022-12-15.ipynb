{
 "cells": [
  {
   "cell_type": "code",
   "execution_count": null,
   "id": "95f98520",
   "metadata": {},
   "outputs": [],
   "source": [
    "# 传入一个字符\n",
    "'Hello'.count('l') # 2\n",
    "'Hello'.count('') # 6 空字符串\n",
    "\n",
    "# 多个字符（串）\n",
    "'Hello'.count('ll') # 1\n",
    "'Hello'.count('He') # 1\n",
    "'Hello'.count('O') # 0\n",
    "\n",
    "# 限制位置\n",
    "'Hello'.count('l', 3) # 1\n",
    "'Hello'.count('l', 1, 3) # 1\n",
    "\n",
    "# 位置为负\n",
    "'Hello'.count('l', -2) # 1\n",
    "'Hello'.count('l', -3) # 2\n",
    "'Hello'.count('l', -4, -2) # 1\n",
    "\n",
    "# 位置错乱\n",
    "'Hello'.count('l', 3, 1) # 0 返回 0 不报错\n",
    "\n",
    "# 位置越界\n",
    "'Hello'.count('l', 0, 99) # 2 右侧越界不报错"
   ]
  },
  {
   "cell_type": "code",
   "execution_count": 7,
   "id": "31a68b92",
   "metadata": {},
   "outputs": [
    {
     "data": {
      "text/plain": [
       "2"
      ]
     },
     "execution_count": 7,
     "metadata": {},
     "output_type": "execute_result"
    }
   ],
   "source": [
    "'Hello'.count('l') # 2"
   ]
  },
  {
   "cell_type": "code",
   "execution_count": 8,
   "id": "c8516a6d",
   "metadata": {},
   "outputs": [
    {
     "data": {
      "text/plain": [
       "6"
      ]
     },
     "execution_count": 8,
     "metadata": {},
     "output_type": "execute_result"
    }
   ],
   "source": [
    "'Hello'.count('') # 6 空字符串"
   ]
  },
  {
   "cell_type": "code",
   "execution_count": 9,
   "id": "2a5cc7df",
   "metadata": {},
   "outputs": [
    {
     "data": {
      "text/plain": [
       "1"
      ]
     },
     "execution_count": 9,
     "metadata": {},
     "output_type": "execute_result"
    }
   ],
   "source": [
    "'Hello'.count('ll') # 1"
   ]
  },
  {
   "cell_type": "code",
   "execution_count": 10,
   "id": "7815b451",
   "metadata": {},
   "outputs": [
    {
     "data": {
      "text/plain": [
       "1"
      ]
     },
     "execution_count": 10,
     "metadata": {},
     "output_type": "execute_result"
    }
   ],
   "source": [
    "'Hello'.count('He') # 1"
   ]
  },
  {
   "cell_type": "code",
   "execution_count": 11,
   "id": "a9d1104c",
   "metadata": {},
   "outputs": [
    {
     "data": {
      "text/plain": [
       "0"
      ]
     },
     "execution_count": 11,
     "metadata": {},
     "output_type": "execute_result"
    }
   ],
   "source": [
    "'Hello'.count('O') # 0"
   ]
  },
  {
   "cell_type": "code",
   "execution_count": 12,
   "id": "3f4d6e04",
   "metadata": {},
   "outputs": [
    {
     "data": {
      "text/plain": [
       "1"
      ]
     },
     "execution_count": 12,
     "metadata": {},
     "output_type": "execute_result"
    }
   ],
   "source": [
    "'Hello'.count('l', 3) # 1"
   ]
  },
  {
   "cell_type": "code",
   "execution_count": 13,
   "id": "b6857585",
   "metadata": {},
   "outputs": [
    {
     "data": {
      "text/plain": [
       "1"
      ]
     },
     "execution_count": 13,
     "metadata": {},
     "output_type": "execute_result"
    }
   ],
   "source": [
    "'Hello'.count('l', 1, 3) # 1"
   ]
  },
  {
   "cell_type": "code",
   "execution_count": 14,
   "id": "456112a0",
   "metadata": {},
   "outputs": [
    {
     "data": {
      "text/plain": [
       "1"
      ]
     },
     "execution_count": 14,
     "metadata": {},
     "output_type": "execute_result"
    }
   ],
   "source": [
    "'Hello'.count('l', -2) # 1"
   ]
  },
  {
   "cell_type": "code",
   "execution_count": 15,
   "id": "f67100c1",
   "metadata": {},
   "outputs": [
    {
     "data": {
      "text/plain": [
       "0"
      ]
     },
     "execution_count": 15,
     "metadata": {},
     "output_type": "execute_result"
    }
   ],
   "source": [
    "'Hello'.count('l', 3, 1) # 0 返回 0 不报错"
   ]
  },
  {
   "cell_type": "code",
   "execution_count": 16,
   "id": "9363a6bd",
   "metadata": {},
   "outputs": [
    {
     "data": {
      "text/plain": [
       "2"
      ]
     },
     "execution_count": 16,
     "metadata": {},
     "output_type": "execute_result"
    }
   ],
   "source": [
    "'Hello'.count('l', 0, 99) # 2 右侧越界不报错"
   ]
  },
  {
   "cell_type": "code",
   "execution_count": null,
   "id": "1c7a0e80",
   "metadata": {},
   "outputs": [],
   "source": []
  }
 ],
 "metadata": {
  "kernelspec": {
   "display_name": "Python 3 (ipykernel)",
   "language": "python",
   "name": "python3"
  },
  "language_info": {
   "codemirror_mode": {
    "name": "ipython",
    "version": 3
   },
   "file_extension": ".py",
   "mimetype": "text/x-python",
   "name": "python",
   "nbconvert_exporter": "python",
   "pygments_lexer": "ipython3",
   "version": "3.8.3"
  }
 },
 "nbformat": 4,
 "nbformat_minor": 5
}
