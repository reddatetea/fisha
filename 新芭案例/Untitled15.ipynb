{
 "cells": [
  {
   "cell_type": "code",
   "execution_count": 1,
   "id": "5495ed12",
   "metadata": {},
   "outputs": [
    {
     "name": "stdout",
     "output_type": "stream",
     "text": [
      "Sheet1\n"
     ]
    }
   ],
   "source": [
    "import xlwings as xw  #导入xlwings包\n",
    "import os  #导入os包\n",
    "root = os.getcwd()  #获取本py文件的当前路径\n",
    "#创建Excel应用对象，可见，不添加工作簿\n",
    "app=xw.App(visible=True, add_book=False)\n",
    "#打开数据文件，可写\n",
    "bk=app.books.open(fullname=root+\\\n",
    "                 r'\\Test.xlsx',read_only=False)\n",
    "sht1=bk.sheets(1)  #获取第1个工作表\n",
    "print(sht1.name)  #输出第1个工作表的名称\n",
    "bk.close()  #关闭bk\n",
    "app.quit()  #退出应用\n"
   ]
  },
  {
   "cell_type": "code",
   "execution_count": 2,
   "id": "8a0450ea",
   "metadata": {},
   "outputs": [
    {
     "name": "stdout",
     "output_type": "stream",
     "text": [
      "Sheet1\n"
     ]
    }
   ],
   "source": [
    "import xlwings as xw  #导入xlwings包\n",
    "import os  #导入os包\n",
    "root = os.getcwd()  #获取本py文件的当前路径\n",
    "#创建Excel应用对象，可见，不添加工作簿\n",
    "app=xw.App(visible=True, add_book=False)\n",
    "#打开数据文件，可写\n",
    "bk=app.books.open(fullname=root+\\\n",
    "                 r'\\Test.xlsx',read_only=False)\n",
    "sht1=bk.sheets('Sheet1')  #获取第1个工作表\n",
    "print(sht1.name)  #输出第1个工作表的名称\n",
    "bk.close()  #关闭bk\n",
    "app.quit()  #退出应用"
   ]
  },
  {
   "cell_type": "code",
   "execution_count": 3,
   "id": "1cdae64c",
   "metadata": {},
   "outputs": [
    {
     "name": "stdout",
     "output_type": "stream",
     "text": [
      "Sheet1\n"
     ]
    }
   ],
   "source": [
    "import xlwings as xw  #导入xlwings包\n",
    "import os  #导入os包\n",
    "root = os.getcwd()  #获取本py文件的当前路径\n",
    "#创建Excel应用对象，可见，不添加工作簿\n",
    "app=xw.App(visible=True, add_book=False)\n",
    "#打开数据文件，可写\n",
    "bk=app.books.open(fullname=root+\\\n",
    "                 r'\\Test.xlsx',read_only=False)\n",
    "sht1=bk.sheets['Sheet1']  #获取第1个工作表\n",
    "print(sht1.name)  #输出第1个工作表的名称\n",
    "bk.close()  #关闭bk\n",
    "app.quit()  #退出应用"
   ]
  },
  {
   "cell_type": "code",
   "execution_count": 15,
   "id": "518970e7",
   "metadata": {},
   "outputs": [
    {
     "name": "stdout",
     "output_type": "stream",
     "text": [
      "Sheet1\n",
      "intr= 17\n"
     ]
    }
   ],
   "source": [
    "import xlwings as xw  #导入xlwings包\n",
    "import os  #导入os包\n",
    "root = os.getcwd()  #获取本py文件的当前路径\n",
    "#创建Excel应用对象，可见，不添加工作簿\n",
    "app=xw.App(visible=True, add_book=False)\n",
    "#打开数据文件，可写\n",
    "bk=app.books.open(fullname=root+\\\n",
    "                 r'\\Test.xlsx',read_only=False)\n",
    "sht1=bk.sheets['Sheet1']  #获取第1个工作表\n",
    "print(sht1.name)  #输出第1个工作表的名称\n",
    "# intr = sht1.range('A1').end('down').row\n",
    "# intr = sht1.range('A' + str(sht1.api.Rows.Count)).end('up').row\n",
    "intr = sht1.range(sht1.api.Rows.Count,1).end('up').row\n",
    "# intr = sht1.api.Range('A1').End(xw.constants.Direction.xlDown).Row\n",
    "# intr = sht1.api.Range('A'+str(sht1.api.Rows.Count)).End(xw.constants.Direction.xlUp).Row\n",
    "# intr = sht1.api.Cells(sht1.api.Rows.Count,1).End(xw.constants.Direction.xlUp).Row\n",
    "print('intr=',intr)\n",
    "bk.close()  #关闭bk\n",
    "app.quit()  #退出应用"
   ]
  },
  {
   "cell_type": "code",
   "execution_count": 1,
   "id": "14cf92d0",
   "metadata": {},
   "outputs": [],
   "source": [
    "import xlwings as xw  #导入xlwings包\n",
    "import os  #导入os包\n",
    "root = os.getcwd()  #获取本py文件的当前路径"
   ]
  },
  {
   "cell_type": "code",
   "execution_count": 2,
   "id": "097366dd",
   "metadata": {},
   "outputs": [
    {
     "data": {
      "text/plain": [
       "'F:\\\\a00nutstore\\\\fishc'"
      ]
     },
     "execution_count": 2,
     "metadata": {},
     "output_type": "execute_result"
    }
   ],
   "source": [
    "root"
   ]
  },
  {
   "cell_type": "code",
   "execution_count": 3,
   "id": "e757bba7",
   "metadata": {},
   "outputs": [],
   "source": [
    "import xlwings as xw  #导入xlwings包\n",
    "#从constants类中导入Direction\n",
    "from xlwings.constants import Direction\n",
    "import os  #导入os包\n",
    "#获取本py文件的当前路径\n",
    "root = os.getcwd()\n",
    "#创建Excel应用，可见，没有工作簿\n",
    "app=xw.App(visible=True, add_book=False)\n",
    "#打开数据文件，可写\n",
    "bk=app.books.open(fullname=root+r'\\判断是否闰年.xlsx',read_only=False)\n",
    "sht=bk.sheets(1)  #获取第1个工作表\n",
    "#工作表中第1列数据最大行号\n",
    "rows=sht.api.Range('A1').End(Direction.xlDown).Row\n",
    "n=1  #记录当前第几行数据\n",
    "#遍历数据区域的单元格\n",
    "for rng in sht.range('A2:A'+str(rows)):\n",
    "    n+=1\n",
    "    yr=int(rng.value)  #获取年份\n",
    "    #如果年份能被400整除，是闰年\n",
    "    if yr%400==0:\n",
    "        yn=True\n",
    "    elif yr%4==0:  #否则判断是否能被4整除\n",
    "        if yr%100>0:  #继续判断能否被100整除，如果不能，是闰年\n",
    "            yn=True\n",
    "        else:  #如果能被100整除，不是闰年\n",
    "            yn=False\n",
    "    else:  #如果不能被4整除，不是闰年\n",
    "        yn=False\n",
    "    #根据yn的值在第2列输出是或不是\n",
    "    if yn:\n",
    "        sht.cells(n,2).value='是'\n",
    "    else:\n",
    "        sht.cells(n,2).value='不是'"
   ]
  },
  {
   "cell_type": "code",
   "execution_count": 4,
   "id": "62c32cce",
   "metadata": {},
   "outputs": [
    {
     "name": "stdout",
     "output_type": "stream",
     "text": [
      "13\n",
      "91\n"
     ]
    }
   ],
   "source": [
    "sum=0\n",
    "n=0\n",
    "while(n<=100):\n",
    "    old_sum=sum\n",
    "    sum+=n\n",
    "    if sum>100:break  #累加和大于100时跳出循环\n",
    "    n+=1\n",
    "print(n-1)\n",
    "print(old_sum)"
   ]
  },
  {
   "cell_type": "code",
   "execution_count": 6,
   "id": "84369f6a",
   "metadata": {},
   "outputs": [
    {
     "name": "stdout",
     "output_type": "stream",
     "text": [
      "0\n",
      "1\n",
      "2\n",
      "4\n"
     ]
    }
   ],
   "source": [
    "for i in range(5):\n",
    "    if i==3:continue\n",
    "    print(i)"
   ]
  },
  {
   "cell_type": "code",
   "execution_count": null,
   "id": "e79a396b",
   "metadata": {},
   "outputs": [],
   "source": []
  }
 ],
 "metadata": {
  "kernelspec": {
   "display_name": "Python 3 (ipykernel)",
   "language": "python",
   "name": "python3"
  },
  "language_info": {
   "codemirror_mode": {
    "name": "ipython",
    "version": 3
   },
   "file_extension": ".py",
   "mimetype": "text/x-python",
   "name": "python",
   "nbconvert_exporter": "python",
   "pygments_lexer": "ipython3",
   "version": "3.8.3"
  }
 },
 "nbformat": 4,
 "nbformat_minor": 5
}
