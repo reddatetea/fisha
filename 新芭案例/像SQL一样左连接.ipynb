{
 "cells": [
  {
   "cell_type": "code",
   "execution_count": 2,
   "id": "f4ac51e6-9fc3-4e66-b6fe-0437ec04bdbb",
   "metadata": {
    "tags": []
   },
   "outputs": [],
   "source": [
    "import pandas as pd\n",
    "import numpy as np"
   ]
  },
  {
   "cell_type": "code",
   "execution_count": 3,
   "id": "7df35ff0-6821-4a23-bed2-93b68f02a4dd",
   "metadata": {
    "tags": []
   },
   "outputs": [],
   "source": [
    "df_sales = pd.DataFrame({\n",
    "        '产品':['A']*5,\n",
    "        '销售日期':pd.date_range('20190101', periods=5),\n",
    "        '销售额':np.random.randint(100,1000,5)\n",
    "})"
   ]
  },
  {
   "cell_type": "code",
   "execution_count": 4,
   "id": "6d26b973-5022-49ff-bc6b-15814a7e864b",
   "metadata": {
    "tags": []
   },
   "outputs": [],
   "source": [
    "df_campiagn = pd.DataFrame({\n",
    "    '产品':['A'],\n",
    "    '活动开始日期':[pd.to_datetime('20190102')],\n",
    "    '活动结束日期':[pd.to_datetime('20190104')],\n",
    "    '促销描述':['买一送一']\n",
    "})"
   ]
  },
  {
   "cell_type": "code",
   "execution_count": 5,
   "id": "5d9e85cc-d831-42ff-aa26-1cbbec2259d7",
   "metadata": {
    "tags": []
   },
   "outputs": [
    {
     "data": {
      "text/html": [
       "<div>\n",
       "<style scoped>\n",
       "    .dataframe tbody tr th:only-of-type {\n",
       "        vertical-align: middle;\n",
       "    }\n",
       "\n",
       "    .dataframe tbody tr th {\n",
       "        vertical-align: top;\n",
       "    }\n",
       "\n",
       "    .dataframe thead th {\n",
       "        text-align: right;\n",
       "    }\n",
       "</style>\n",
       "<table border=\"1\" class=\"dataframe\">\n",
       "  <thead>\n",
       "    <tr style=\"text-align: right;\">\n",
       "      <th></th>\n",
       "      <th>产品</th>\n",
       "      <th>销售日期</th>\n",
       "      <th>销售额</th>\n",
       "    </tr>\n",
       "  </thead>\n",
       "  <tbody>\n",
       "    <tr>\n",
       "      <th>0</th>\n",
       "      <td>A</td>\n",
       "      <td>2019-01-01</td>\n",
       "      <td>167</td>\n",
       "    </tr>\n",
       "    <tr>\n",
       "      <th>1</th>\n",
       "      <td>A</td>\n",
       "      <td>2019-01-02</td>\n",
       "      <td>292</td>\n",
       "    </tr>\n",
       "    <tr>\n",
       "      <th>2</th>\n",
       "      <td>A</td>\n",
       "      <td>2019-01-03</td>\n",
       "      <td>130</td>\n",
       "    </tr>\n",
       "    <tr>\n",
       "      <th>3</th>\n",
       "      <td>A</td>\n",
       "      <td>2019-01-04</td>\n",
       "      <td>162</td>\n",
       "    </tr>\n",
       "    <tr>\n",
       "      <th>4</th>\n",
       "      <td>A</td>\n",
       "      <td>2019-01-05</td>\n",
       "      <td>424</td>\n",
       "    </tr>\n",
       "  </tbody>\n",
       "</table>\n",
       "</div>"
      ],
      "text/plain": [
       "  产品       销售日期  销售额\n",
       "0  A 2019-01-01  167\n",
       "1  A 2019-01-02  292\n",
       "2  A 2019-01-03  130\n",
       "3  A 2019-01-04  162\n",
       "4  A 2019-01-05  424"
      ]
     },
     "execution_count": 5,
     "metadata": {},
     "output_type": "execute_result"
    }
   ],
   "source": [
    "df_sales"
   ]
  },
  {
   "cell_type": "code",
   "execution_count": 6,
   "id": "74b2548b-d6b7-4b51-812b-7f0c20498e7e",
   "metadata": {
    "tags": []
   },
   "outputs": [
    {
     "data": {
      "text/html": [
       "<div>\n",
       "<style scoped>\n",
       "    .dataframe tbody tr th:only-of-type {\n",
       "        vertical-align: middle;\n",
       "    }\n",
       "\n",
       "    .dataframe tbody tr th {\n",
       "        vertical-align: top;\n",
       "    }\n",
       "\n",
       "    .dataframe thead th {\n",
       "        text-align: right;\n",
       "    }\n",
       "</style>\n",
       "<table border=\"1\" class=\"dataframe\">\n",
       "  <thead>\n",
       "    <tr style=\"text-align: right;\">\n",
       "      <th></th>\n",
       "      <th>产品</th>\n",
       "      <th>活动开始日期</th>\n",
       "      <th>活动结束日期</th>\n",
       "      <th>促销描述</th>\n",
       "    </tr>\n",
       "  </thead>\n",
       "  <tbody>\n",
       "    <tr>\n",
       "      <th>0</th>\n",
       "      <td>A</td>\n",
       "      <td>2019-01-02</td>\n",
       "      <td>2019-01-04</td>\n",
       "      <td>买一送一</td>\n",
       "    </tr>\n",
       "  </tbody>\n",
       "</table>\n",
       "</div>"
      ],
      "text/plain": [
       "  产品     活动开始日期     活动结束日期  促销描述\n",
       "0  A 2019-01-02 2019-01-04  买一送一"
      ]
     },
     "execution_count": 6,
     "metadata": {},
     "output_type": "execute_result"
    }
   ],
   "source": [
    "df_campiagn"
   ]
  },
  {
   "cell_type": "code",
   "execution_count": 7,
   "id": "1ea1bbb9-0db7-4e77-aa53-465682ee0b75",
   "metadata": {
    "tags": []
   },
   "outputs": [
    {
     "name": "stdout",
     "output_type": "stream",
     "text": [
      "Empty DataFrame\n",
      "Columns: [产品, 活动开始日期, 活动结束日期, 促销描述]\n",
      "Index: []\n",
      "  产品     活动开始日期     活动结束日期  促销描述\n",
      "0  A 2019-01-02 2019-01-04  买一送一\n",
      "  产品     活动开始日期     活动结束日期  促销描述\n",
      "0  A 2019-01-02 2019-01-04  买一送一\n",
      "  产品     活动开始日期     活动结束日期  促销描述\n",
      "0  A 2019-01-02 2019-01-04  买一送一\n",
      "Empty DataFrame\n",
      "Columns: [产品, 活动开始日期, 活动结束日期, 促销描述]\n",
      "Index: []\n"
     ]
    }
   ],
   "source": [
    "for i, r in df_sales.iterrows():\n",
    "    df_temp = df_campiagn[(df_campiagn.活动开始日期 <= r.销售日期) &\n",
    "                (r.销售日期 <= df_campiagn.活动结束日期)]\n",
    "    print(df_temp)\n",
    "    \n",
    "    if df_temp.pipe(len) > 0:      #使用 pipe(len) 检查选定活动数据的数量是否大于零\n",
    "        df_temp = df_temp.iloc[0]   #如果存在符合条件的活动数据，使用 iloc[0] 选择第一个符合条件的活动数据\n",
    "        df_sales.loc[i, '活动开始日期'] = df_temp.活动开始日期\n",
    "        df_sales.loc[i, '活动结束日期'] = df_temp.活动结束日期\n",
    "        df_sales.loc[i, '促销描述'] = df_temp.促销描述\n",
    "    "
   ]
  },
  {
   "cell_type": "code",
   "execution_count": 16,
   "id": "ba22338e-b03c-4ebc-918b-b887798497b3",
   "metadata": {
    "tags": []
   },
   "outputs": [
    {
     "data": {
      "text/html": [
       "<div>\n",
       "<style scoped>\n",
       "    .dataframe tbody tr th:only-of-type {\n",
       "        vertical-align: middle;\n",
       "    }\n",
       "\n",
       "    .dataframe tbody tr th {\n",
       "        vertical-align: top;\n",
       "    }\n",
       "\n",
       "    .dataframe thead th {\n",
       "        text-align: right;\n",
       "    }\n",
       "</style>\n",
       "<table border=\"1\" class=\"dataframe\">\n",
       "  <thead>\n",
       "    <tr style=\"text-align: right;\">\n",
       "      <th></th>\n",
       "      <th>产品</th>\n",
       "      <th>销售日期</th>\n",
       "      <th>销售额</th>\n",
       "      <th>活动开始日期</th>\n",
       "      <th>活动结束日期</th>\n",
       "      <th>促销描述</th>\n",
       "    </tr>\n",
       "  </thead>\n",
       "  <tbody>\n",
       "    <tr>\n",
       "      <th>0</th>\n",
       "      <td>A</td>\n",
       "      <td>2019-01-01</td>\n",
       "      <td>490</td>\n",
       "      <td>NaT</td>\n",
       "      <td>NaT</td>\n",
       "      <td>NaN</td>\n",
       "    </tr>\n",
       "    <tr>\n",
       "      <th>1</th>\n",
       "      <td>A</td>\n",
       "      <td>2019-01-02</td>\n",
       "      <td>801</td>\n",
       "      <td>2019-01-02</td>\n",
       "      <td>2019-01-04</td>\n",
       "      <td>买一送一</td>\n",
       "    </tr>\n",
       "    <tr>\n",
       "      <th>2</th>\n",
       "      <td>A</td>\n",
       "      <td>2019-01-03</td>\n",
       "      <td>427</td>\n",
       "      <td>2019-01-02</td>\n",
       "      <td>2019-01-04</td>\n",
       "      <td>买一送一</td>\n",
       "    </tr>\n",
       "    <tr>\n",
       "      <th>3</th>\n",
       "      <td>A</td>\n",
       "      <td>2019-01-04</td>\n",
       "      <td>172</td>\n",
       "      <td>2019-01-02</td>\n",
       "      <td>2019-01-04</td>\n",
       "      <td>买一送一</td>\n",
       "    </tr>\n",
       "    <tr>\n",
       "      <th>4</th>\n",
       "      <td>A</td>\n",
       "      <td>2019-01-05</td>\n",
       "      <td>113</td>\n",
       "      <td>NaT</td>\n",
       "      <td>NaT</td>\n",
       "      <td>NaN</td>\n",
       "    </tr>\n",
       "  </tbody>\n",
       "</table>\n",
       "</div>"
      ],
      "text/plain": [
       "  产品       销售日期  销售额     活动开始日期     活动结束日期  促销描述\n",
       "0  A 2019-01-01  490        NaT        NaT   NaN\n",
       "1  A 2019-01-02  801 2019-01-02 2019-01-04  买一送一\n",
       "2  A 2019-01-03  427 2019-01-02 2019-01-04  买一送一\n",
       "3  A 2019-01-04  172 2019-01-02 2019-01-04  买一送一\n",
       "4  A 2019-01-05  113        NaT        NaT   NaN"
      ]
     },
     "execution_count": 16,
     "metadata": {},
     "output_type": "execute_result"
    }
   ],
   "source": [
    "df_sales"
   ]
  }
 ],
 "metadata": {
  "kernelspec": {
   "display_name": "Python 3 (ipykernel)",
   "language": "python",
   "name": "python3"
  },
  "language_info": {
   "codemirror_mode": {
    "name": "ipython",
    "version": 3
   },
   "file_extension": ".py",
   "mimetype": "text/x-python",
   "name": "python",
   "nbconvert_exporter": "python",
   "pygments_lexer": "ipython3",
   "version": "3.11.5"
  }
 },
 "nbformat": 4,
 "nbformat_minor": 5
}
