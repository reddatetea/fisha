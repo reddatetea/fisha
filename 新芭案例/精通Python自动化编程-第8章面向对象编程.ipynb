{
 "cells": [
  {
   "cell_type": "code",
   "execution_count": 1,
   "id": "c08afb81",
   "metadata": {},
   "outputs": [],
   "source": [
    "class Animals(object):\n",
    "    name = '小黑'\n",
    "    @staticmethod\n",
    "    def eat(name):\n",
    "        '''静态方法'''\n",
    "        print(f'{name} is eating')\n",
    "        \n",
    "    @classmethod\n",
    "    def sleep(cls):\n",
    "        '''类方法'''\n",
    "        n = cls.name\n",
    "        print(f'{n} is sleeping!')\n",
    "        \n",
    "    def run(self):\n",
    "        '''实例方法'''\n",
    "        n = self.name\n",
    "        print(f'{n} is running!')"
   ]
  },
  {
   "cell_type": "code",
   "execution_count": 2,
   "id": "a717d09f",
   "metadata": {},
   "outputs": [
    {
     "name": "stdout",
     "output_type": "stream",
     "text": [
      "2020-10-01\n"
     ]
    }
   ],
   "source": [
    "class Dates(object):\n",
    "    '''重新定义初始化方法'''\n",
    "    def __init__(self,year,month,day):\n",
    "        self.day = day\n",
    "        self.month = month\n",
    "        self.year = year\n",
    "    \n",
    "    def get_date(self):\n",
    "        '''定义实例方法'''\n",
    "        date = f'{self.year}-{self.month}-{self.day}'\n",
    "        print(date)\n",
    "        \n",
    "d = Dates('2020','10','01')\n",
    "d.get_date()\n",
    "    \n",
    "    "
   ]
  },
  {
   "cell_type": "code",
   "execution_count": 10,
   "id": "c734f8d1",
   "metadata": {},
   "outputs": [
    {
     "name": "stdout",
     "output_type": "stream",
     "text": [
      "2020-10-01\n"
     ]
    }
   ],
   "source": [
    "class Dates(object):\n",
    "    '''获取日期格式'''\n",
    "    def __init__(self,year,month,day):\n",
    "        '''重新定义初始化方法'''\n",
    "        self.day = day\n",
    "        self.month = month\n",
    "        self.year = year\n",
    "        \n",
    "    def get_date(self):\n",
    "        '''定义实例方法'''\n",
    "        date = f'{self.year}-{self.month}-{self.day}'\n",
    "        print(date)\n",
    "        \n",
    "    @classmethod\n",
    "    def new_date(cls,date_string):     #这里的cls是Dates类的实例对象\n",
    "        '''定义类方法'''\n",
    "        year,month,day = date_string.split(':')\n",
    "        date = cls(year,month,day)\n",
    "        return date\n",
    "    \n",
    "d = Dates.new_date('2020:10:01')\n",
    "d.get_date()"
   ]
  },
  {
   "cell_type": "code",
   "execution_count": 3,
   "id": "94906784",
   "metadata": {},
   "outputs": [
    {
     "name": "stdout",
     "output_type": "stream",
     "text": [
      "周长为：16\n",
      "周长的一半为：8\n"
     ]
    }
   ],
   "source": [
    "class Geometry:\n",
    "    '''计算周长'''\n",
    "    @property\n",
    "    def compute(self):\n",
    "        perimeter =(self.width + self.length) * 2\n",
    "        return f'周长为：{perimeter}'\n",
    "        \n",
    "    @compute.setter\n",
    "    def set_length(self,length):\n",
    "        self.length = length\n",
    "        \n",
    "    @compute.setter\n",
    "    def set_width(self,width):\n",
    "        self.width = width\n",
    "        \n",
    "    @compute.getter\n",
    "    def compute_half(self):\n",
    "        perimeter_half = self.width + self.length\n",
    "        return f'周长的一半为：{perimeter_half}'\n",
    "        \n",
    "g = Geometry()\n",
    "g.set_length = 4\n",
    "g.set_width = 4\n",
    "print(g.compute)\n",
    "print(g.compute_half)"
   ]
  },
  {
   "cell_type": "code",
   "execution_count": 5,
   "id": "1dda7256",
   "metadata": {},
   "outputs": [
    {
     "name": "stdout",
     "output_type": "stream",
     "text": [
      "周长为：16\n",
      "周长的一半为：8\n"
     ]
    }
   ],
   "source": [
    "class Geometry:\n",
    "    '''计算周长'''\n",
    "    @property\n",
    "    def compute(self):\n",
    "        perimeter =(self.width + self.length) * 2\n",
    "        return f'周长为：{perimeter}'\n",
    "        \n",
    "    @compute.setter\n",
    "    def set_length(self,length):\n",
    "        self.length = length\n",
    "        \n",
    "    @compute.setter\n",
    "    def set_width(self,width):\n",
    "        self.width = width\n",
    "        \n",
    "    @compute.getter\n",
    "    def compute_half(self):\n",
    "        perimeter_half = self.width + self.length\n",
    "        return f'周长的一半为：{perimeter_half}'\n",
    "        \n",
    "g = Geometry()\n",
    "g.set_length = 4\n",
    "g.set_width = 4\n",
    "print(g.compute)\n",
    "print(g.compute_half)"
   ]
  },
  {
   "cell_type": "code",
   "execution_count": 16,
   "id": "402bc9c5",
   "metadata": {},
   "outputs": [
    {
     "name": "stdout",
     "output_type": "stream",
     "text": [
      "小白\n",
      "小黑\n",
      "welcome you,my master,I am 小黑\n",
      "welcome you,my master,I am 小黑\n",
      "小黑 is Running\n",
      "小黑 is Running\n",
      "小白 is sleeping\n",
      "小白 is eating Apples\n",
      "<property object at 0x0000000007BD4EA0>\n"
     ]
    }
   ],
   "source": [
    "class Animals:\n",
    "    '''描述说明'''\n",
    "    name = '小黑'\n",
    "    \n",
    "    def __init__(self,name,*args,**kwargs):\n",
    "        self.name = name\n",
    "        \n",
    "    @staticmethod\n",
    "    def welcomes(name):\n",
    "        print(f'welcome you,my master,I am {name}')\n",
    "    \n",
    "    @classmethod\n",
    "    def runs(cls):\n",
    "        print(f'{cls.name} is Running')\n",
    "    \n",
    "    @property\n",
    "    def eats(self):\n",
    "        return f'{self.name} is eating {self.foods}'\n",
    "    \n",
    "    @eats.setter\n",
    "    def set_eats(self,foods):\n",
    "        self.foods = foods\n",
    "        \n",
    "    def sleeps(self):\n",
    "        print(f'{self.name} is sleeping')\n",
    "        \n",
    "a = Animals('小白')\n",
    "#调用属性\n",
    "print(a.name)    #小白\n",
    "print(Animals.name)  #小黑\n",
    "#调用静态方法，并设置参数值\n",
    "Animals.welcomes('小黑')     #welcome you,my master,I am 小黑\n",
    "a.welcomes('小黑')           #welcome you,my master,I am 小黑\n",
    "#调用类方法\n",
    "Animals.runs()    #小黑 is Running\n",
    "a.runs()          #小黑 is Running\n",
    "#调用实例方法\n",
    "a.sleeps()          #小白 is sleeping\n",
    "#调用带property属性\n",
    "a.set_eats = 'Apples'    \n",
    "print(a.eats)      #小白 is eating Apples\n",
    "Animals.set_eats = 'Rice'\n",
    "print(Animals.eats)      #<property object at 0x0000000007BD4EA0>\n",
    "\n",
    "        \n",
    "              "
   ]
  },
  {
   "cell_type": "code",
   "execution_count": 3,
   "id": "09592a45",
   "metadata": {},
   "outputs": [
    {
     "name": "stdout",
     "output_type": "stream",
     "text": [
      "小白\n",
      "This is running\n",
      "This is sleeping\n",
      "This is speaking\n",
      "This is jumping\n"
     ]
    }
   ],
   "source": [
    "def jump():\n",
    "    print('This is jumping')\n",
    "    \n",
    "def doing(self):\n",
    "    print('This is running')\n",
    "    \n",
    "@classmethod\n",
    "def sleeping(cls):\n",
    "    print('This is sleeping')\n",
    "    \n",
    "@staticmethod\n",
    "def speaking():\n",
    "    print('This is speaking')\n",
    "    \n",
    "class Animals:\n",
    "    pass\n",
    "\n",
    "if __name__ == '__main__':\n",
    "    #类实例化之前，动态添加属性和方法\n",
    "    Animals.name = '小白'\n",
    "    Animals.doing = doing\n",
    "    Animals.sleeping = sleeping\n",
    "    Animals.speaking = speaking\n",
    "    #实例化Animal类\n",
    "    a = Animals()\n",
    "    #类实例化后，动态添加属性和方法\n",
    "    a.jump = jump\n",
    "    #调用属性和方法\n",
    "    print(a.name)\n",
    "    a.doing()\n",
    "    a.sleeping()\n",
    "    a.speaking()\n",
    "    a.jump()\n",
    "    "
   ]
  },
  {
   "cell_type": "code",
   "execution_count": 5,
   "id": "48156c79",
   "metadata": {},
   "outputs": [
    {
     "name": "stdout",
     "output_type": "stream",
     "text": [
      "小白\n",
      "This is running\n",
      "This is sleeping\n",
      "This is speaking\n",
      "This is jumping\n"
     ]
    }
   ],
   "source": [
    "def jump():\n",
    "    print('This is jumping')\n",
    "    \n",
    "def doing(self):\n",
    "    print('This is running')\n",
    "    \n",
    "@classmethod\n",
    "def sleeping(cls):\n",
    "    print('This is sleeping')\n",
    "    \n",
    "@staticmethod\n",
    "def speaking():\n",
    "    print('This is speaking')\n",
    "    \n",
    "class Animals:\n",
    "    pass\n",
    "\n",
    "if __name__ == '__main__':\n",
    "    #类实例化之前，动态添加属性和方法\n",
    "    setattr(Animals,'name','小白')\n",
    "    setattr(Animals,'doing',doing)\n",
    "    setattr(Animals,'sleeping',sleeping)\n",
    "    setattr(Animals,'speaking',speaking)\n",
    "    #实例化Animals类\n",
    "    a = Animals()\n",
    "    #类实例化后，动态添加属性和方法\n",
    "    setattr(a,'jump',jump)\n",
    "    #调用属性和方法\n",
    "    print(a.name)\n",
    "    a.doing()\n",
    "    a.sleeping()\n",
    "    a.speaking()\n",
    "    a.jump()\n",
    "    "
   ]
  },
  {
   "cell_type": "code",
   "execution_count": 7,
   "id": "d96bda14",
   "metadata": {},
   "outputs": [
    {
     "name": "stdout",
     "output_type": "stream",
     "text": [
      "小黑\n",
      "This is running\n"
     ]
    },
    {
     "ename": "AttributeError",
     "evalue": "'Animals' object has no attribute 'jump'",
     "output_type": "error",
     "traceback": [
      "\u001b[1;31m---------------------------------------------------------------------------\u001b[0m",
      "\u001b[1;31mAttributeError\u001b[0m                            Traceback (most recent call last)",
      "Input \u001b[1;32mIn [7]\u001b[0m, in \u001b[0;36m<cell line: 12>\u001b[1;34m()\u001b[0m\n\u001b[0;32m     22\u001b[0m a\u001b[38;5;241m.\u001b[39mdoing()\n\u001b[0;32m     23\u001b[0m \u001b[38;5;66;03m#添加实例方法jupm\u001b[39;00m\n\u001b[1;32m---> 24\u001b[0m \u001b[38;5;28;43msetattr\u001b[39;49m\u001b[43m(\u001b[49m\u001b[43ma\u001b[49m\u001b[43m,\u001b[49m\u001b[38;5;124;43m'\u001b[39;49m\u001b[38;5;124;43mjump\u001b[39;49m\u001b[38;5;124;43m'\u001b[39;49m\u001b[43m,\u001b[49m\u001b[43mjump\u001b[49m\u001b[43m)\u001b[49m\n\u001b[0;32m     25\u001b[0m \u001b[38;5;66;03m#调用实例方法jump\u001b[39;00m\n\u001b[0;32m     26\u001b[0m a\u001b[38;5;241m.\u001b[39mjump()\n",
      "\u001b[1;31mAttributeError\u001b[0m: 'Animals' object has no attribute 'jump'"
     ]
    }
   ],
   "source": [
    "#内置属性\n",
    "def jump():\n",
    "    print('This is jumping')\n",
    "    \n",
    "def doing():         #doing()里没有self,否则报错\n",
    "    print('This is running')\n",
    "    \n",
    "   \n",
    "class Animals:\n",
    "    __slots__ = ['name','doing']\n",
    "\n",
    "if __name__ == '__main__':\n",
    "    #实例化Animals类\n",
    "    a = Animals()\n",
    "    #添加属性name\n",
    "    setattr(a,'name','小黑')\n",
    "    #调用属性name\n",
    "    print(a.name)\n",
    "    #添加实例方法doing\n",
    "    setattr(a,'doing',doing)\n",
    "    #调用实例方法doing\n",
    "    a.doing()\n",
    "    #添加实例方法jupm\n",
    "    setattr(a,'jump',jump)\n",
    "    #调用实例方法jump\n",
    "    a.jump()"
   ]
  },
  {
   "cell_type": "code",
   "execution_count": 8,
   "id": "4cb4c6ff",
   "metadata": {},
   "outputs": [
    {
     "ename": "AttributeError",
     "evalue": "'Animals' object has no attribute '__name'",
     "output_type": "error",
     "traceback": [
      "\u001b[1;31m---------------------------------------------------------------------------\u001b[0m",
      "\u001b[1;31mAttributeError\u001b[0m                            Traceback (most recent call last)",
      "Input \u001b[1;32mIn [8]\u001b[0m, in \u001b[0;36m<cell line: 8>\u001b[1;34m()\u001b[0m\n\u001b[0;32m      5\u001b[0m         \u001b[38;5;28mprint\u001b[39m(\u001b[38;5;124m'\u001b[39m\u001b[38;5;124mThis is running\u001b[39m\u001b[38;5;124m'\u001b[39m)\n\u001b[0;32m      7\u001b[0m a \u001b[38;5;241m=\u001b[39m Animals()\n\u001b[1;32m----> 8\u001b[0m \u001b[38;5;28mprint\u001b[39m(\u001b[43ma\u001b[49m\u001b[38;5;241;43m.\u001b[39;49m\u001b[43m__name\u001b[49m)\n\u001b[0;32m      9\u001b[0m a\u001b[38;5;241m.\u001b[39m__run()\n",
      "\u001b[1;31mAttributeError\u001b[0m: 'Animals' object has no attribute '__name'"
     ]
    }
   ],
   "source": [
    "class Animals:\n",
    "    #定义私有属性和私有方法\n",
    "    __name = '小白'\n",
    "    def __run(self):\n",
    "        print('This is running')\n",
    "        \n",
    "a = Animals()\n",
    "print(a.__name)\n",
    "a.__run()"
   ]
  },
  {
   "cell_type": "code",
   "execution_count": 10,
   "id": "3d7cc3b6",
   "metadata": {},
   "outputs": [
    {
     "name": "stdout",
     "output_type": "stream",
     "text": [
      "['__module__', '_Animals__name', '_Animals__run', '__dict__', '__weakref__', '__doc__', '__repr__', '__hash__', '__str__', '__getattribute__', '__setattr__', '__delattr__', '__lt__', '__le__', '__eq__', '__ne__', '__gt__', '__ge__', '__init__', '__new__', '__reduce_ex__', '__reduce__', '__subclasshook__', '__init_subclass__', '__format__', '__sizeof__', '__dir__', '__class__']\n",
      "小白\n",
      "This is running\n"
     ]
    }
   ],
   "source": [
    "class Animals:\n",
    "    #定义私有属性和私有方法\n",
    "    __name = '小白'\n",
    "    def __run(self):\n",
    "        print('This is running')\n",
    "        \n",
    "a = Animals()\n",
    "print(a.__dir__())\n",
    "print(a._Animals__name)\n",
    "a._Animals__run()"
   ]
  },
  {
   "cell_type": "code",
   "execution_count": 12,
   "id": "0bf4ebb5",
   "metadata": {},
   "outputs": [
    {
     "name": "stdout",
     "output_type": "stream",
     "text": [
      "I have tow pets ,their colors is black\n",
      "I Have a dog,its name is little black dog\n",
      "I Have a cat,its name is little black cat\n",
      "The dog can Speaking\n",
      "The cat can Sleeping\n",
      "Thay can Running and Jumping\n"
     ]
    }
   ],
   "source": [
    "#8.4类的继承\n",
    "class Animals:\n",
    "    colour = 'black'\n",
    "    \n",
    "    def run(self):\n",
    "        return 'Running'\n",
    "    \n",
    "class Dog(Animals):\n",
    "    #单一继承\n",
    "    dogName = 'little black dog'\n",
    "    \n",
    "    def speak(self):\n",
    "        return 'Speaking'\n",
    "    \n",
    "class Cat(Animals):\n",
    "    #单一继承\n",
    "    catName = 'little black cat'\n",
    "    \n",
    "    def sleep(self):\n",
    "        return 'Sleeping'\n",
    "    \n",
    "class Pets(Dog,Cat):\n",
    "    #多重继承\n",
    "    def run(self):\n",
    "        #重写基类方法run()\n",
    "        return 'Running and Jumping'\n",
    "    def myPets(self):\n",
    "        print(f'I have tow pets ,their colors is {self.colour}')\n",
    "        print(f'I Have a dog,its name is {self.dogName}')\n",
    "        print(f'I Have a cat,its name is {self.catName}')\n",
    "        print(f'The dog can {self.speak()}')\n",
    "        print(f'The cat can {self.sleep()}')\n",
    "        print(f'Thay can {self.run()}')\n",
    "        \n",
    "if __name__ == '__main__':\n",
    "    p = Pets()\n",
    "    p.myPets()\n",
    "    \n",
    "        "
   ]
  },
  {
   "cell_type": "code",
   "execution_count": 14,
   "id": "0caaeafd",
   "metadata": {},
   "outputs": [
    {
     "name": "stdout",
     "output_type": "stream",
     "text": [
      "This is Animals run\n",
      "This is Animals running\n",
      "This is Dogs run\n"
     ]
    }
   ],
   "source": [
    "#内置方法super()\n",
    "class Animals:\n",
    "    def run(self):\n",
    "        print('This is Animals run')\n",
    "        return 'This is Animals running'\n",
    "\n",
    "class Dogs(Animals):\n",
    "    def run(self):\n",
    "        result = super().run()   #注意super后有()\n",
    "        print(result)\n",
    "        return 'This is Dogs run'\n",
    "    \n",
    "d = Dogs()\n",
    "print(d.run())"
   ]
  },
  {
   "cell_type": "code",
   "execution_count": 17,
   "id": "7a9c3bce",
   "metadata": {},
   "outputs": [
    {
     "name": "stdout",
     "output_type": "stream",
     "text": [
      "Cat is Sleeping\n",
      "Running and Jumping\n"
     ]
    }
   ],
   "source": [
    "class Animals:\n",
    "    def doing(self):\n",
    "        return 'Running'\n",
    "    \n",
    "class Dog(Animals):\n",
    "    '''单一继承'''\n",
    "    def doing(self):\n",
    "        return 'Dog is Speaking'\n",
    "    \n",
    "class Cat(Animals):\n",
    "    '''单一继承'''\n",
    "    def doing(self):\n",
    "        return 'Cat is Sleeping'\n",
    "    \n",
    "class Pets(Cat,Dog):\n",
    "    '''多重继承'''\n",
    "    def doing(self):\n",
    "        result = super().doing()\n",
    "        print(result)\n",
    "        return 'Running and Jumping'\n",
    "    \n",
    "if __name__ == '__main__':\n",
    "    p = Pets()\n",
    "    print(p.doing())"
   ]
  },
  {
   "cell_type": "code",
   "execution_count": 3,
   "id": "d71568c3",
   "metadata": {},
   "outputs": [
    {
     "name": "stdout",
     "output_type": "stream",
     "text": [
      "Cat_one\n",
      "Dog_one\n",
      "Animals\n",
      "Dog_two\n",
      "Cat_two\n"
     ]
    }
   ],
   "source": [
    "class Animals:\n",
    "    def doing(self):\n",
    "        print('Animals')\n",
    "    \n",
    "class Cat(Animals):\n",
    "    '''单一继承'''\n",
    "    def doing(self):\n",
    "        print('Cat_one')\n",
    "        super().doing()\n",
    "        print('Cat_two')\n",
    "       \n",
    "\n",
    "class Dog(Animals):\n",
    "    '''单一继承'''\n",
    "    def doing(self):\n",
    "        print('Dog_one')\n",
    "        super().doing()\n",
    "        print('Dog_two')\n",
    "    \n",
    "\n",
    "    \n",
    "class Pets(Cat,Dog):\n",
    "    '''多重继承'''\n",
    "    def doing(self):\n",
    "        super().doing()\n",
    "    \n",
    "if __name__ == '__main__':\n",
    "    p = Pets()\n",
    "    p.doing()"
   ]
  },
  {
   "cell_type": "code",
   "execution_count": 14,
   "id": "4f46863a",
   "metadata": {},
   "outputs": [
    {
     "name": "stdout",
     "output_type": "stream",
     "text": [
      "Animals is eatting and  swim\n",
      "Animals is eatting and jumping and  sleep\n",
      "Animals is eatting and jumping and  sleep and  swim\n"
     ]
    }
   ],
   "source": [
    "class Animals:\n",
    "    def doing(self,*args,**kwargs):\n",
    "        action = '' if args and kwargs else 'running'\n",
    "        if args:\n",
    "            action = ' and '.join(list(args)) \n",
    "        if kwargs:\n",
    "            for k,v in kwargs.items():\n",
    "                action = action +str(v) if not action else action +' and  ' + str(v)\n",
    "                print(f'Animals is {action}')\n",
    "        \n",
    "if __name__ == '__main__':\n",
    "    a = Animals()\n",
    "    a.doing('eatting',swim = 'swim')\n",
    "    a.doing('eatting','jumping',sleep='sleep',swim='swim')\n",
    "    \n",
    "                 "
   ]
  },
  {
   "cell_type": "code",
   "execution_count": 15,
   "id": "0e7469b3",
   "metadata": {},
   "outputs": [
    {
     "name": "stdout",
     "output_type": "stream",
     "text": [
      "This is dog\n",
      "This is cat\n"
     ]
    }
   ],
   "source": [
    "class Dog:    \n",
    "    def doing(self):        \n",
    "        print('This is dog')\n",
    "        \n",
    "class Cat:    \n",
    "    def doing(self):        \n",
    "        print('This is cat')\n",
    "        \n",
    "def get_run(obj):    \n",
    "    obj.doing()\n",
    "    \n",
    "if __name__ == '__main__':    \n",
    "    d = Dog()    \n",
    "    get_run(d)    \n",
    "    c = Cat()    \n",
    "    get_run(c)"
   ]
  },
  {
   "cell_type": "code",
   "execution_count": 16,
   "id": "3111100b",
   "metadata": {},
   "outputs": [
    {
     "name": "stdout",
     "output_type": "stream",
     "text": [
      "red\n",
      "Animals\n",
      "小白 is running\n"
     ]
    }
   ],
   "source": [
    "class Animals:    \n",
    "    colour = 'red'    \n",
    "    def doing(self):        \n",
    "        print('Animals')\n",
    "        \n",
    "class Cat(Animals):    \n",
    "    \"\"\"单一继承\"\"\"    \n",
    "    def run(self, name):        \n",
    "        print(f'{name} is running')\n",
    "        \n",
    "if __name__ == '__main__':    \n",
    "    c = Cat()    \n",
    "    print(c.colour)    \n",
    "    c.doing()    \n",
    "    c.run('小白')"
   ]
  },
  {
   "cell_type": "code",
   "execution_count": 17,
   "id": "c9d35da6",
   "metadata": {},
   "outputs": [
    {
     "name": "stdout",
     "output_type": "stream",
     "text": [
      "red\n",
      "Animals\n",
      "小白 is running\n"
     ]
    }
   ],
   "source": [
    "class Animals:    \n",
    "    colour = 'red'    \n",
    "    def doing(self):        \n",
    "        print('Animals')\n",
    "        \n",
    "if __name__ == '__main__':    \n",
    "    def run(self, name):        \n",
    "        \"\"\"        定义类的实例方法        必须有关键字self，它与Class关键字定义的时候相同        \"\"\"        \n",
    "        print(f'{name} is running')    \n",
    "    def doing(self):        \n",
    "        \"\"\"        定义类的实例方法        必须有关键字self，它与Class关键字定义的时候相同        \"\"\"        \n",
    "        print('Animals')    \n",
    "    # 动态创建Cat类    \n",
    "    cat = type('Cat',(Animals,), {'colour':'red','doing':doing,'run':run})    \n",
    "    # 实例化Cat类    \n",
    "    c = cat()    \n",
    "    print(c.colour)    \n",
    "    c.doing()    \n",
    "    c.run('小白')"
   ]
  },
  {
   "cell_type": "code",
   "execution_count": 19,
   "id": "2f34e730",
   "metadata": {},
   "outputs": [
    {
     "name": "stdout",
     "output_type": "stream",
     "text": [
      "This is MetaClass\n",
      "Speaking\n"
     ]
    }
   ],
   "source": [
    "class MyMetaClass(type):    \n",
    "    def speak(cls):       \n",
    "        \"\"\"定义类的实例方法\"\"\"        \n",
    "        print('Speaking')    \n",
    "    def __new__(cls, name, bases, attrs):       \n",
    "        \"\"\"        cls：代表自身类，与类方法的cls相同        \n",
    "                   name：代表类名        \n",
    "                   bases：代表类继承的所有基类（父类），以元组格式表示        \n",
    "                   attr：代表类的所有属性和方法，以字典格式表示        \n",
    "        \"\"\"        \n",
    "        # 动态为该类添加一个属性name        \n",
    "        attrs['name'] = 'This is MetaClass'        \n",
    "        # 动态为该类添加一个方法        \n",
    "        attrs['speak'] = cls.speak        \n",
    "        return super().__new__(cls, name, bases, attrs)\n",
    "class Person(metaclass=MyMetaClass):    \n",
    "    \"\"\"定义Person类，并由元类MyMetaClass创建\"\"\"    \n",
    "    pass\n",
    "\n",
    "if __name__ == '__main__':    \n",
    "        p = Person()    \n",
    "        print(p.name)    \n",
    "        p.speak()"
   ]
  },
  {
   "cell_type": "code",
   "execution_count": 20,
   "id": "34065aaa",
   "metadata": {},
   "outputs": [
    {
     "name": "stdout",
     "output_type": "stream",
     "text": [
      "This is MetaClass\n",
      "Speaking\n"
     ]
    }
   ],
   "source": [
    "def speak(self):    \n",
    "    \"\"\"    定义类的实例方法    必须有关键字self，它与Class关键字定义的时候相同    \"\"\"    \n",
    "    print('Speaking')\n",
    "    def MyMetaClass(name, bases, attrs):    \n",
    "        \"\"\"    name：代表类名    \n",
    "               bases：代表类继承的所有基类（父类），以元组格式表示    \n",
    "               attr：代表类的所有属性和方法，以字典格式表示    \n",
    "        \"\"\"    \n",
    "        # 动态为该类添加一个属性name    \n",
    "        attrs['name'] = 'This is MetaClass'    \n",
    "        # 动态为该类添加一个方法    \n",
    "        attrs['speak'] = speak    \n",
    "        return type(name, bases, attrs)\n",
    "    \n",
    "class Person(metaclass=MyMetaClass):   \n",
    "    \"\"\"定义Person类，并由元类MyMetaClass创建\"\"\"    \n",
    "    pass\n",
    "\n",
    "if __name__ == '__main__':    \n",
    "    p = Person()    \n",
    "    print(p.name)    \n",
    "    p.speak()"
   ]
  },
  {
   "cell_type": "code",
   "execution_count": 33,
   "id": "0b438927",
   "metadata": {},
   "outputs": [
    {
     "name": "stdout",
     "output_type": "stream",
     "text": [
      "这是一个姓李的家庭，他们生活在广州市\n",
      "我是父亲—李利海,今年35岁。\n",
      "我是母亲—郝玫丽,今年33岁。\n",
      "我是儿子—李豪烨,今年10岁。\n",
      "父亲今天赚了917元，家庭资产剩余1917\n",
      "母亲今天花了-366元，家庭资产剩余2283\n",
      "儿子今天花了13元，家庭资产剩余2270\n",
      "父亲告诉你一个小秘密：我生病了\n",
      "母亲告诉你一个小秘密：我存有很多私房钱\n",
      "儿子告诉你一个小秘密：我喜欢隔壁的小花\n"
     ]
    }
   ],
   "source": [
    "import random\n",
    "\n",
    "class Family():    \n",
    "        # 自定义初始化方法    \n",
    "        def __init__(self, surname, address, income):  \n",
    "            \n",
    "            \"\"\" 设置家庭姓氏 \"\"\"        \n",
    "            self.surname = surname        \n",
    "            self.address = address        \n",
    "            self.income = income\n",
    " \n",
    "\n",
    "    \n",
    "class Father(Family):    \n",
    "        def __init__(self, name, age):        \n",
    "            \"\"\" 继承父类的动态属性 \"\"\"        \n",
    "            super(Family, self).__init__()        \n",
    "            # 定义动态属性        \n",
    "            self.name = name        \n",
    "            self.age = age        \n",
    "            self.__secret = '我生病了'    \n",
    "        def action(self):        \n",
    "            money = random.randint(500, 1000)        \n",
    "            return money\n",
    "    \n",
    "class Mother(Family):    \n",
    "        def __init__(self, name, age):        \n",
    "            \"\"\" 继承父类的动态属性 \"\"\"        \n",
    "            super(Family, self).__init__()        \n",
    "            # 定义动态属性        \n",
    "            self.name = name        \n",
    "            self.age = age        \n",
    "            self.__secret = '我存有很多私房钱'    \n",
    "        def action(self):        \n",
    "            money = random.randint(100,500)        \n",
    "            return money\n",
    "            \n",
    "    \n",
    "class Son(Family):    \n",
    "        def __init__(self, name, age):        \n",
    "            \"\"\" 继承父类的动态属性 \"\"\"        \n",
    "            super(Family, self).__init__()        \n",
    "            # 定义动态属性        \n",
    "            self.name = name        \n",
    "            self.age = age        \n",
    "            self.__secret = '我喜欢隔壁的小花'    \n",
    "        def action(self):        \n",
    "            money = random.randint(0, 100)        \n",
    "            return -money\n",
    "        \n",
    "if __name__ == '__main__':  \n",
    "\n",
    "        # 将4个类实例化，生成对象    \n",
    "        family = Family('李', '广州市', 1000)    \n",
    "        father = Father('利海', 35)    \n",
    "        mother = Mother('郝玫丽', 33)    \n",
    "        son = Son('豪烨', 10)    \n",
    "        # 家庭的自我介绍    \n",
    "        print('这是一个姓'+family.surname+'的家庭，他们生活在'+family.address)    \n",
    "        print('我是父亲—'+family.surname+father.name+',今年'+str(father.age)+'岁。')    \n",
    "        print('我是母亲—'+mother.name+',今年'+str(mother.age)+'岁。')    \n",
    "        print('我是儿子—'+family.surname+son.name+',今年'+str(son.age)+'岁。')    \n",
    "        # 家庭费用开支    \n",
    "        father_money = father.action()    \n",
    "        family.income += father_money    \n",
    "        print('父亲今天赚了'+str(father_money)+'元，家庭资产剩余'+str(family.income))    \n",
    "        mother_money = mother.action()    \n",
    "        family.income += mother_money    \n",
    "        print('母亲今天花了'+str(-mother_money)+'元，家庭资产剩余'+str(family.income))    \n",
    "        son_money = son.action()    \n",
    "        family.income += son_money    \n",
    "        print('儿子今天花了'+str(-son_money)+'元，家庭资产剩余'+str(family.income))    \n",
    "        # 家庭成员的小秘密    \n",
    "        print('父亲告诉你一个小秘密：' + father._Father__secret)    \n",
    "        print('母亲告诉你一个小秘密：' + mother._Mother__secret)    \n",
    "        print('儿子告诉你一个小秘密：' + son._Son__secret)"
   ]
  },
  {
   "cell_type": "code",
   "execution_count": null,
   "id": "e6870c2f",
   "metadata": {},
   "outputs": [],
   "source": []
  }
 ],
 "metadata": {
  "kernelspec": {
   "display_name": "Python 3 (ipykernel)",
   "language": "python",
   "name": "python3"
  },
  "language_info": {
   "codemirror_mode": {
    "name": "ipython",
    "version": 3
   },
   "file_extension": ".py",
   "mimetype": "text/x-python",
   "name": "python",
   "nbconvert_exporter": "python",
   "pygments_lexer": "ipython3",
   "version": "3.8.3"
  }
 },
 "nbformat": 4,
 "nbformat_minor": 5
}
