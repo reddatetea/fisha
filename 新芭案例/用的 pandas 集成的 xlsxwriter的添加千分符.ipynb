{
 "cells": [
  {
   "cell_type": "code",
   "execution_count": 1,
   "id": "4c17bb28",
   "metadata": {},
   "outputs": [],
   "source": [
    "import pandas as pd"
   ]
  },
  {
   "cell_type": "code",
   "execution_count": 28,
   "id": "0ed20d3a",
   "metadata": {},
   "outputs": [
    {
     "data": {
      "text/html": [
       "<div>\n",
       "<style scoped>\n",
       "    .dataframe tbody tr th:only-of-type {\n",
       "        vertical-align: middle;\n",
       "    }\n",
       "\n",
       "    .dataframe tbody tr th {\n",
       "        vertical-align: top;\n",
       "    }\n",
       "\n",
       "    .dataframe thead th {\n",
       "        text-align: right;\n",
       "    }\n",
       "</style>\n",
       "<table border=\"1\" class=\"dataframe\">\n",
       "  <thead>\n",
       "    <tr style=\"text-align: right;\">\n",
       "      <th></th>\n",
       "      <th>A</th>\n",
       "      <th>B</th>\n",
       "    </tr>\n",
       "  </thead>\n",
       "  <tbody>\n",
       "    <tr>\n",
       "      <th>0</th>\n",
       "      <td>113.4000</td>\n",
       "      <td>564.0900</td>\n",
       "    </tr>\n",
       "    <tr>\n",
       "      <th>1</th>\n",
       "      <td>2224.3252</td>\n",
       "      <td>2323.5612</td>\n",
       "    </tr>\n",
       "  </tbody>\n",
       "</table>\n",
       "</div>"
      ],
      "text/plain": [
       "           A          B\n",
       "0   113.4000   564.0900\n",
       "1  2224.3252  2323.5612"
      ]
     },
     "execution_count": 28,
     "metadata": {},
     "output_type": "execute_result"
    }
   ],
   "source": [
    "df = pd.DataFrame({'A':[113.4,2224.3252],'B':[564.09,2323.5612]})\n",
    "df"
   ]
  },
  {
   "cell_type": "code",
   "execution_count": 29,
   "id": "15db7a56",
   "metadata": {},
   "outputs": [],
   "source": [
    "with pd.ExcelWriter('453535-wqx.xlsx') as writer:\n",
    "    df.to_excel(writer,sheet_name = 'Sheet1',index = False)\n",
    "    workbook = writer.book\n",
    "    worksheet = writer.sheets['Sheet1']\n",
    "    worksheet.set_zoom(200)    #放大窗口\n",
    "    format1 = workbook.add_format({'num_format':'#,##0.00','align':'right'})\n",
    "    worksheet.set_column('A:B',20,format1)"
   ]
  },
  {
   "cell_type": "code",
   "execution_count": 30,
   "id": "79da4fe5",
   "metadata": {},
   "outputs": [],
   "source": [
    "import openpyxl\n",
    "def setThousans(df,fname,new_sheet_name,cell_range):\n",
    "    wb = openpyxl.load_workbook(fname)\n",
    "    with pd.ExcelWriter(fname,engine = 'openpyxl')  as writer:\n",
    "        writer.book = wb\n",
    "        writer.sheets = dict((ws.title, ws) for ws in wb.worksheets)\n",
    "        df.to_excel(writer,new_sheet_name,index=False)\n",
    "        ws = writer.sheets[new_sheet_name]\n",
    "        for row in ws[cell_range]:\n",
    "            for cell in row:\n",
    "                print(cell.value)\n",
    "                cell.number_format = '#,##0.00'\n",
    "    wb.save(fname)\n",
    "    return fname\n",
    "   \n",
    "\n",
    "\n",
    "    "
   ]
  },
  {
   "cell_type": "code",
   "execution_count": 31,
   "id": "a3d25181",
   "metadata": {
    "scrolled": true
   },
   "outputs": [
    {
     "name": "stdout",
     "output_type": "stream",
     "text": [
      "A\n",
      "113.4\n",
      "2224.3252\n",
      "B\n",
      "564.09\n",
      "2323.5612\n"
     ]
    },
    {
     "data": {
      "text/plain": [
       "'453535-wqx.xlsx'"
      ]
     },
     "execution_count": 31,
     "metadata": {},
     "output_type": "execute_result"
    }
   ],
   "source": [
    "fname = '453535-wqx.xlsx'\n",
    "new_sheet_name = 'new'\n",
    "cell_range = 'A:B'\n",
    "setThousans(df,fname,new_sheet_name,cell_range)"
   ]
  },
  {
   "cell_type": "code",
   "execution_count": 32,
   "id": "b18d0701",
   "metadata": {},
   "outputs": [
    {
     "data": {
      "text/html": [
       "<div>\n",
       "<style scoped>\n",
       "    .dataframe tbody tr th:only-of-type {\n",
       "        vertical-align: middle;\n",
       "    }\n",
       "\n",
       "    .dataframe tbody tr th {\n",
       "        vertical-align: top;\n",
       "    }\n",
       "\n",
       "    .dataframe thead th {\n",
       "        text-align: right;\n",
       "    }\n",
       "</style>\n",
       "<table border=\"1\" class=\"dataframe\">\n",
       "  <thead>\n",
       "    <tr style=\"text-align: right;\">\n",
       "      <th></th>\n",
       "      <th>A</th>\n",
       "      <th>B</th>\n",
       "    </tr>\n",
       "  </thead>\n",
       "  <tbody>\n",
       "    <tr>\n",
       "      <th>0</th>\n",
       "      <td>113.4000</td>\n",
       "      <td>564.0900</td>\n",
       "    </tr>\n",
       "    <tr>\n",
       "      <th>1</th>\n",
       "      <td>2224.3252</td>\n",
       "      <td>2323.5612</td>\n",
       "    </tr>\n",
       "  </tbody>\n",
       "</table>\n",
       "</div>"
      ],
      "text/plain": [
       "           A          B\n",
       "0   113.4000   564.0900\n",
       "1  2224.3252  2323.5612"
      ]
     },
     "execution_count": 32,
     "metadata": {},
     "output_type": "execute_result"
    }
   ],
   "source": [
    "df1 = pd.read_excel(fname,'Sheet1')\n",
    "df1"
   ]
  },
  {
   "cell_type": "code",
   "execution_count": 33,
   "id": "81cb2612",
   "metadata": {},
   "outputs": [
    {
     "data": {
      "text/plain": [
       "A    float64\n",
       "B    float64\n",
       "dtype: object"
      ]
     },
     "execution_count": 33,
     "metadata": {},
     "output_type": "execute_result"
    }
   ],
   "source": [
    "df1.dtypes"
   ]
  },
  {
   "cell_type": "code",
   "execution_count": 52,
   "id": "8623b2ad",
   "metadata": {},
   "outputs": [
    {
     "ename": "AttributeError",
     "evalue": "'Worksheet' object has no attribute 'PAPERSIZE_大凭证'",
     "output_type": "error",
     "traceback": [
      "\u001b[1;31m---------------------------------------------------------------------------\u001b[0m",
      "\u001b[1;31mAttributeError\u001b[0m                            Traceback (most recent call last)",
      "Input \u001b[1;32mIn [52]\u001b[0m, in \u001b[0;36m<cell line: 11>\u001b[1;34m()\u001b[0m\n\u001b[0;32m      6\u001b[0m ws\u001b[38;5;241m.\u001b[39mpage_setup\u001b[38;5;241m.\u001b[39morientation \u001b[38;5;241m=\u001b[39m ws\u001b[38;5;241m.\u001b[39mORIENTATION_LANDSCAPE   \u001b[38;5;66;03m#横向\u001b[39;00m\n\u001b[0;32m      7\u001b[0m \u001b[38;5;66;03m#ws.page_setup.orientation = ws.ORIENTATION_PORTRAIT\u001b[39;00m\n\u001b[0;32m      8\u001b[0m \u001b[38;5;66;03m# ws.set_printer_settings(0, ORIENTATION_PORTRAIT)\u001b[39;00m\n\u001b[0;32m      9\u001b[0m \u001b[38;5;66;03m# ws.page_setup.paperHeight = '141mm'\u001b[39;00m\n\u001b[0;32m     10\u001b[0m \u001b[38;5;66;03m# ws.page_setup.paperWidth = '241mm'\u001b[39;00m\n\u001b[1;32m---> 11\u001b[0m ws\u001b[38;5;241m.\u001b[39mpage_setup\u001b[38;5;241m.\u001b[39mpaperSize \u001b[38;5;241m=\u001b[39m \u001b[43mws\u001b[49m\u001b[38;5;241;43m.\u001b[39;49m\u001b[43mPAPERSIZE_大凭证\u001b[49m\n\u001b[0;32m     12\u001b[0m wb\u001b[38;5;241m.\u001b[39msave(fname)\n",
      "\u001b[1;31mAttributeError\u001b[0m: 'Worksheet' object has no attribute 'PAPERSIZE_大凭证'"
     ]
    }
   ],
   "source": [
    "wb = openpyxl.load_workbook(fname)\n",
    "ws = wb['new']\n",
    "for cell in ws['A']:\n",
    "    cell.number_format = '#,##0.00' \n",
    "#openpyxl.worksheet.worksheet.Worksheet.set_printer_settings(ws, paper_size = 9, orientation='landscape')\n",
    "ws.page_setup.orientation = ws.ORIENTATION_LANDSCAPE   #横向\n",
    "#ws.page_setup.orientation = ws.ORIENTATION_PORTRAIT\n",
    "# ws.set_printer_settings(0, ORIENTATION_PORTRAIT)\n",
    "# ws.page_setup.paperHeight = '141mm'\n",
    "# ws.page_setup.paperWidth = '241mm'\n",
    "ws.page_setup.paperSize = ws.PAPERSIZE_A3\n",
    "wb.save(fname)\n",
    "    "
   ]
  },
  {
   "cell_type": "code",
   "execution_count": null,
   "id": "8489792c",
   "metadata": {},
   "outputs": [],
   "source": [
    "openpyxl.worksheet.worksheet.Worksheet.set_printer_settings(worksheetObject, paper_size = <someInt>, orientation='landscape')"
   ]
  },
  {
   "cell_type": "code",
   "execution_count": null,
   "id": "b6aced23",
   "metadata": {},
   "outputs": [],
   "source": []
  }
 ],
 "metadata": {
  "kernelspec": {
   "display_name": "Python 3 (ipykernel)",
   "language": "python",
   "name": "python3"
  },
  "language_info": {
   "codemirror_mode": {
    "name": "ipython",
    "version": 3
   },
   "file_extension": ".py",
   "mimetype": "text/x-python",
   "name": "python",
   "nbconvert_exporter": "python",
   "pygments_lexer": "ipython3",
   "version": "3.8.3"
  }
 },
 "nbformat": 4,
 "nbformat_minor": 5
}
