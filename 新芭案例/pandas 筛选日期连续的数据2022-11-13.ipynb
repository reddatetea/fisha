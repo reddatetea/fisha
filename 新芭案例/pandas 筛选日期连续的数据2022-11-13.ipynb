{
 "cells": [
  {
   "cell_type": "code",
   "execution_count": 1,
   "id": "76b51d18",
   "metadata": {},
   "outputs": [],
   "source": [
    "import pandas as pd\n",
    "from io import StringIO"
   ]
  },
  {
   "cell_type": "code",
   "execution_count": 12,
   "id": "30dfa478",
   "metadata": {},
   "outputs": [
    {
     "data": {
      "text/html": [
       "<div>\n",
       "<style scoped>\n",
       "    .dataframe tbody tr th:only-of-type {\n",
       "        vertical-align: middle;\n",
       "    }\n",
       "\n",
       "    .dataframe tbody tr th {\n",
       "        vertical-align: top;\n",
       "    }\n",
       "\n",
       "    .dataframe thead th {\n",
       "        text-align: right;\n",
       "    }\n",
       "</style>\n",
       "<table border=\"1\" class=\"dataframe\">\n",
       "  <thead>\n",
       "    <tr style=\"text-align: right;\">\n",
       "      <th></th>\n",
       "      <th>a</th>\n",
       "      <th>b</th>\n",
       "      <th>c</th>\n",
       "    </tr>\n",
       "  </thead>\n",
       "  <tbody>\n",
       "    <tr>\n",
       "      <th>23</th>\n",
       "      <td>2022/9/25</td>\n",
       "      <td>2022/9/21</td>\n",
       "      <td>2022/9/26</td>\n",
       "    </tr>\n",
       "    <tr>\n",
       "      <th>24</th>\n",
       "      <td>2022/9/23</td>\n",
       "      <td>2022/9/25</td>\n",
       "      <td>2022/9/26</td>\n",
       "    </tr>\n",
       "    <tr>\n",
       "      <th>25</th>\n",
       "      <td>2022/9/22</td>\n",
       "      <td>2022/9/26</td>\n",
       "      <td>2022/9/23</td>\n",
       "    </tr>\n",
       "    <tr>\n",
       "      <th>26</th>\n",
       "      <td>2022/9/26</td>\n",
       "      <td>2022/9/27</td>\n",
       "      <td>2022/9/21</td>\n",
       "    </tr>\n",
       "    <tr>\n",
       "      <th>27</th>\n",
       "      <td>2022/9/25</td>\n",
       "      <td>2022/9/21</td>\n",
       "      <td>2022/9/24</td>\n",
       "    </tr>\n",
       "    <tr>\n",
       "      <th>28</th>\n",
       "      <td>2022/9/26</td>\n",
       "      <td>2022/9/21</td>\n",
       "      <td>2022/9/27</td>\n",
       "    </tr>\n",
       "    <tr>\n",
       "      <th>29</th>\n",
       "      <td>2022/9/22</td>\n",
       "      <td>2022/9/21</td>\n",
       "      <td>2022/9/27</td>\n",
       "    </tr>\n",
       "    <tr>\n",
       "      <th>30</th>\n",
       "      <td>2022/9/27</td>\n",
       "      <td>2022/9/26</td>\n",
       "      <td>2022/9/23</td>\n",
       "    </tr>\n",
       "    <tr>\n",
       "      <th>31</th>\n",
       "      <td>2022/9/22</td>\n",
       "      <td>2022/9/26</td>\n",
       "      <td>2022/9/27</td>\n",
       "    </tr>\n",
       "    <tr>\n",
       "      <th>32</th>\n",
       "      <td>2022/9/22</td>\n",
       "      <td>2022/9/27</td>\n",
       "      <td>2022/9/26</td>\n",
       "    </tr>\n",
       "  </tbody>\n",
       "</table>\n",
       "</div>"
      ],
      "text/plain": [
       "            a          b          c\n",
       "23  2022/9/25  2022/9/21  2022/9/26\n",
       "24  2022/9/23  2022/9/25  2022/9/26\n",
       "25  2022/9/22  2022/9/26  2022/9/23\n",
       "26  2022/9/26  2022/9/27  2022/9/21\n",
       "27  2022/9/25  2022/9/21  2022/9/24\n",
       "28  2022/9/26  2022/9/21  2022/9/27\n",
       "29  2022/9/22  2022/9/21  2022/9/27\n",
       "30  2022/9/27  2022/9/26  2022/9/23\n",
       "31  2022/9/22  2022/9/26  2022/9/27\n",
       "32  2022/9/22  2022/9/27  2022/9/26"
      ]
     },
     "execution_count": 12,
     "metadata": {},
     "output_type": "execute_result"
    }
   ],
   "source": [
    "data = '''\n",
    "a,b,c\n",
    "2022/9/23,2022/9/24,2022/9/27\n",
    "2022/9/26,2022/9/27,2022/9/23\n",
    "2022/9/21,2022/9/22,2022/9/26\n",
    "2022/9/26,2022/9/22,2022/9/21\n",
    "2022/9/26,2022/9/24,2022/9/27\n",
    "2022/9/22,2022/9/21,2022/9/25\n",
    "2022/9/26,2022/9/21,2022/9/27\n",
    "2022/9/26,2022/9/21,2022/9/23\n",
    "2022/9/25,2022/9/24,2022/9/27\n",
    "2022/9/23,2022/9/25,2022/9/26\n",
    "2022/9/27,2022/9/26,2022/9/23\n",
    "2022/9/25,2022/9/24,2022/9/26\n",
    "2022/9/25,2022/9/24,2022/9/27\n",
    "2022/9/21,2022/9/26,2022/9/22\n",
    "2022/9/24,2022/9/25,2022/9/26\n",
    "2022/9/25,2022/9/21,2022/9/26\n",
    "2022/9/24,2022/9/26,2022/9/23\n",
    "2022/9/26,2022/9/22,2022/9/21\n",
    "2022/9/22,2022/9/27,2022/9/23\n",
    "2022/9/27,2022/9/21,2022/9/25\n",
    "2022/9/27,2022/9/25,2022/9/26\n",
    "2022/9/26,2022/9/24,2022/9/23\n",
    "2022/9/25,2022/9/26,2022/9/23\n",
    "2022/9/25,2022/9/21,2022/9/26\n",
    "2022/9/23,2022/9/25,2022/9/26\n",
    "2022/9/22,2022/9/26,2022/9/23\n",
    "2022/9/26,2022/9/27,2022/9/21\n",
    "2022/9/25,2022/9/21,2022/9/24\n",
    "2022/9/26,2022/9/21,2022/9/27\n",
    "2022/9/22,2022/9/21,2022/9/27\n",
    "2022/9/27,2022/9/26,2022/9/23\n",
    "2022/9/22,2022/9/26,2022/9/27\n",
    "2022/9/22,2022/9/27,2022/9/26\n",
    "'''\n",
    "\n",
    "df = pd.read_csv(StringIO(data))\n",
    "df.tail(10)"
   ]
  },
  {
   "cell_type": "code",
   "execution_count": 3,
   "id": "22de5639",
   "metadata": {},
   "outputs": [
    {
     "data": {
      "text/plain": [
       "a   2022-09-27\n",
       "b   2022-09-25\n",
       "c   2022-09-26\n",
       "Name: 20, dtype: datetime64[ns]"
      ]
     },
     "execution_count": 3,
     "metadata": {},
     "output_type": "execute_result"
    }
   ],
   "source": [
    "(\n",
    "    df.iloc[20]\n",
    "    .astype('>M8')\n",
    ")"
   ]
  },
  {
   "cell_type": "code",
   "execution_count": 4,
   "id": "eb76c6e5",
   "metadata": {},
   "outputs": [
    {
     "data": {
      "text/plain": [
       "b   2022-09-25\n",
       "c   2022-09-26\n",
       "a   2022-09-27\n",
       "Name: 20, dtype: datetime64[ns]"
      ]
     },
     "execution_count": 4,
     "metadata": {},
     "output_type": "execute_result"
    }
   ],
   "source": [
    "(\n",
    "    df.iloc[20]\n",
    "    .astype('>M8')\n",
    "    .sort_values()\n",
    ")"
   ]
  },
  {
   "cell_type": "code",
   "execution_count": 5,
   "id": "a8c2c52e",
   "metadata": {},
   "outputs": [
    {
     "data": {
      "text/plain": [
       "b      NaT\n",
       "c   1 days\n",
       "a   1 days\n",
       "Name: 20, dtype: timedelta64[ns]"
      ]
     },
     "execution_count": 5,
     "metadata": {},
     "output_type": "execute_result"
    }
   ],
   "source": [
    "(\n",
    "    df.iloc[20]\n",
    "    .astype('>M8')\n",
    "    .sort_values()\n",
    "    .diff()\n",
    ")"
   ]
  },
  {
   "cell_type": "code",
   "execution_count": 6,
   "id": "ddf040ce",
   "metadata": {},
   "outputs": [
    {
     "data": {
      "text/plain": [
       "c   1 days\n",
       "a   1 days\n",
       "Name: 20, dtype: timedelta64[ns]"
      ]
     },
     "execution_count": 6,
     "metadata": {},
     "output_type": "execute_result"
    }
   ],
   "source": [
    "(\n",
    "    df.iloc[20]\n",
    "    .astype('>M8')\n",
    "    .sort_values()\n",
    "    .diff()\n",
    "    .dropna()\n",
    ")"
   ]
  },
  {
   "cell_type": "code",
   "execution_count": 7,
   "id": "1d826c03",
   "metadata": {},
   "outputs": [
    {
     "data": {
      "text/plain": [
       "c    True\n",
       "a    True\n",
       "Name: 20, dtype: bool"
      ]
     },
     "execution_count": 7,
     "metadata": {},
     "output_type": "execute_result"
    }
   ],
   "source": [
    "(\n",
    "    df.iloc[20]\n",
    "    .astype('>M8')\n",
    "    .sort_values()\n",
    "    .diff()\n",
    "    .dropna()\n",
    "    .eq(pd.Timedelta('1days'))\n",
    ")"
   ]
  },
  {
   "cell_type": "code",
   "execution_count": 8,
   "id": "9de11bbc",
   "metadata": {},
   "outputs": [
    {
     "data": {
      "text/plain": [
       "True"
      ]
     },
     "execution_count": 8,
     "metadata": {},
     "output_type": "execute_result"
    }
   ],
   "source": [
    "(\n",
    "    df.iloc[20]\n",
    "    .astype('>M8')\n",
    "    .sort_values()\n",
    "    .diff()\n",
    "    .dropna()\n",
    "    .eq(pd.Timedelta('1days'))\n",
    "    .all()\n",
    ")"
   ]
  },
  {
   "cell_type": "code",
   "execution_count": 9,
   "id": "c7eb4180",
   "metadata": {},
   "outputs": [],
   "source": [
    "def func(ser: pd.Series) -> bool:\n",
    "    return (\n",
    "        ser.astype('>M8')\n",
    "        .sort_values()\n",
    "        .diff()\n",
    "        .dropna()\n",
    "        .eq(pd.Timedelta('1days'))\n",
    "        .all()\n",
    "    )"
   ]
  },
  {
   "cell_type": "code",
   "execution_count": 10,
   "id": "d7a6c7b4",
   "metadata": {},
   "outputs": [
    {
     "data": {
      "text/plain": [
       "0     False\n",
       "1     False\n",
       "2     False\n",
       "3     False\n",
       "4     False\n",
       "5     False\n",
       "6     False\n",
       "7     False\n",
       "8     False\n",
       "9     False\n",
       "10    False\n",
       "11     True\n",
       "12    False\n",
       "13    False\n",
       "14     True\n",
       "15    False\n",
       "16    False\n",
       "17    False\n",
       "18    False\n",
       "19    False\n",
       "20     True\n",
       "21    False\n",
       "22    False\n",
       "23    False\n",
       "24    False\n",
       "25    False\n",
       "26    False\n",
       "27    False\n",
       "28    False\n",
       "29    False\n",
       "30    False\n",
       "31    False\n",
       "32    False\n",
       "dtype: bool"
      ]
     },
     "execution_count": 10,
     "metadata": {},
     "output_type": "execute_result"
    }
   ],
   "source": [
    "df.apply(func, axis=1)"
   ]
  },
  {
   "cell_type": "code",
   "execution_count": 11,
   "id": "94e88ffb",
   "metadata": {},
   "outputs": [
    {
     "data": {
      "text/html": [
       "<div>\n",
       "<style scoped>\n",
       "    .dataframe tbody tr th:only-of-type {\n",
       "        vertical-align: middle;\n",
       "    }\n",
       "\n",
       "    .dataframe tbody tr th {\n",
       "        vertical-align: top;\n",
       "    }\n",
       "\n",
       "    .dataframe thead th {\n",
       "        text-align: right;\n",
       "    }\n",
       "</style>\n",
       "<table border=\"1\" class=\"dataframe\">\n",
       "  <thead>\n",
       "    <tr style=\"text-align: right;\">\n",
       "      <th></th>\n",
       "      <th>a</th>\n",
       "      <th>b</th>\n",
       "      <th>c</th>\n",
       "    </tr>\n",
       "  </thead>\n",
       "  <tbody>\n",
       "    <tr>\n",
       "      <th>11</th>\n",
       "      <td>2022/9/25</td>\n",
       "      <td>2022/9/24</td>\n",
       "      <td>2022/9/26</td>\n",
       "    </tr>\n",
       "    <tr>\n",
       "      <th>14</th>\n",
       "      <td>2022/9/24</td>\n",
       "      <td>2022/9/25</td>\n",
       "      <td>2022/9/26</td>\n",
       "    </tr>\n",
       "    <tr>\n",
       "      <th>20</th>\n",
       "      <td>2022/9/27</td>\n",
       "      <td>2022/9/25</td>\n",
       "      <td>2022/9/26</td>\n",
       "    </tr>\n",
       "  </tbody>\n",
       "</table>\n",
       "</div>"
      ],
      "text/plain": [
       "            a          b          c\n",
       "11  2022/9/25  2022/9/24  2022/9/26\n",
       "14  2022/9/24  2022/9/25  2022/9/26\n",
       "20  2022/9/27  2022/9/25  2022/9/26"
      ]
     },
     "execution_count": 11,
     "metadata": {},
     "output_type": "execute_result"
    }
   ],
   "source": [
    "df[df.apply(func, axis=1)]"
   ]
  },
  {
   "cell_type": "code",
   "execution_count": null,
   "id": "7a9614f9",
   "metadata": {},
   "outputs": [],
   "source": []
  }
 ],
 "metadata": {
  "kernelspec": {
   "display_name": "Python 3 (ipykernel)",
   "language": "python",
   "name": "python3"
  },
  "language_info": {
   "codemirror_mode": {
    "name": "ipython",
    "version": 3
   },
   "file_extension": ".py",
   "mimetype": "text/x-python",
   "name": "python",
   "nbconvert_exporter": "python",
   "pygments_lexer": "ipython3",
   "version": "3.8.3"
  }
 },
 "nbformat": 4,
 "nbformat_minor": 5
}
