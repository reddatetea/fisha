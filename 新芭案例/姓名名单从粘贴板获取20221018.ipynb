{
 "cells": [
  {
   "cell_type": "code",
   "execution_count": 1,
   "id": "52ecd58f",
   "metadata": {},
   "outputs": [
    {
     "ename": "ModuleNotFoundError",
     "evalue": "No module named 'clipboard'",
     "output_type": "error",
     "traceback": [
      "\u001b[1;31m---------------------------------------------------------------------------\u001b[0m",
      "\u001b[1;31mModuleNotFoundError\u001b[0m                       Traceback (most recent call last)",
      "Input \u001b[1;32mIn [1]\u001b[0m, in \u001b[0;36m<cell line: 4>\u001b[1;34m()\u001b[0m\n\u001b[0;32m      2\u001b[0m \u001b[38;5;28;01mimport\u001b[39;00m \u001b[38;5;21;01mre\u001b[39;00m\n\u001b[0;32m      3\u001b[0m \u001b[38;5;28;01mimport\u001b[39;00m \u001b[38;5;21;01mos\u001b[39;00m\n\u001b[1;32m----> 4\u001b[0m \u001b[38;5;28;01mimport\u001b[39;00m \u001b[38;5;21;01mclipboard\u001b[39;00m\n",
      "\u001b[1;31mModuleNotFoundError\u001b[0m: No module named 'clipboard'"
     ]
    }
   ],
   "source": [
    "import pandas as pd\n",
    "import re\n",
    "import os\n",
    "# import clipboard"
   ]
  },
  {
   "cell_type": "code",
   "execution_count": 4,
   "id": "0b772998",
   "metadata": {},
   "outputs": [],
   "source": [
    "str = '张扬洪100，陈博文95，董予墨91，范绫君90，付乐莱95，龚铂雅95，韩璐羽91，李默涵97，李霈萱90，李弋戩97，彭钰珂90，孙明谦95，孙羽恬95，王欣颜93，夏爱凡94，谢雨涵97，袁滋嵘93，张博瑞94，张洋泽94'"
   ]
  },
  {
   "cell_type": "code",
   "execution_count": 5,
   "id": "09ed213a",
   "metadata": {},
   "outputs": [
    {
     "data": {
      "text/plain": [
       "['张扬洪100',\n",
       " '陈博文95',\n",
       " '董予墨91',\n",
       " '范绫君90',\n",
       " '付乐莱95',\n",
       " '龚铂雅95',\n",
       " '韩璐羽91',\n",
       " '李默涵97',\n",
       " '李霈萱90',\n",
       " '李弋戩97',\n",
       " '彭钰珂90',\n",
       " '孙明谦95',\n",
       " '孙羽恬95',\n",
       " '王欣颜93',\n",
       " '夏爱凡94',\n",
       " '谢雨涵97',\n",
       " '袁滋嵘93',\n",
       " '张博瑞94',\n",
       " '张洋泽94']"
      ]
     },
     "execution_count": 5,
     "metadata": {},
     "output_type": "execute_result"
    }
   ],
   "source": [
    "lst0 = str.split('，')\n",
    "lst0"
   ]
  },
  {
   "cell_type": "code",
   "execution_count": 19,
   "id": "45ce6e77",
   "metadata": {},
   "outputs": [],
   "source": [
    "res = r'(?P<name>\\D+)(?P<fenshu>\\d{1,3})'\n",
    "pattern = re.compile(res)\n",
    "# mat = re.search(res,input_str)\n",
    "mat1 = re.search(res,'张扬洪100')\n",
    "\n",
    "\n"
   ]
  },
  {
   "cell_type": "code",
   "execution_count": 22,
   "id": "6360f8f3",
   "metadata": {},
   "outputs": [],
   "source": [
    "name = mat1.group('name')\n",
    "fenshu = mat1.group('fenshu')"
   ]
  },
  {
   "cell_type": "code",
   "execution_count": 23,
   "id": "d7a0bb6c",
   "metadata": {},
   "outputs": [
    {
     "name": "stdout",
     "output_type": "stream",
     "text": [
      "张扬洪 100\n"
     ]
    }
   ],
   "source": [
    "print(name,fenshu)"
   ]
  },
  {
   "cell_type": "code",
   "execution_count": null,
   "id": "7016ff1c",
   "metadata": {},
   "outputs": [],
   "source": []
  }
 ],
 "metadata": {
  "kernelspec": {
   "display_name": "Python 3 (ipykernel)",
   "language": "python",
   "name": "python3"
  },
  "language_info": {
   "codemirror_mode": {
    "name": "ipython",
    "version": 3
   },
   "file_extension": ".py",
   "mimetype": "text/x-python",
   "name": "python",
   "nbconvert_exporter": "python",
   "pygments_lexer": "ipython3",
   "version": "3.8.3"
  }
 },
 "nbformat": 4,
 "nbformat_minor": 5
}
