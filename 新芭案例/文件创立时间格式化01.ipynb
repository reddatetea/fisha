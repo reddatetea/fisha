{
 "cells": [
  {
   "cell_type": "code",
   "execution_count": null,
   "metadata": {},
   "outputs": [],
   "source": [
    "import os.path, time\n",
    "path =  r'G:\\新建文件夹\\20210221VS黎老师于五楼'\n",
    "f = r'G:\\新建文件夹\\20210221VS黎老师于五楼\\VID_20210221_191349.mp4'\n",
    "createdTime = time.localtime(os.stat( f).st_ctime)\n",
    "cTime = time.strftime('%Y-%m-%d %H:%M:%S', createdTime)\n",
    "cTime = time.strftime('-%Y%m%d-%H%M-', createdTime)\n",
    "print(\"createdTime \" + cTime)\n",
    "filelist = os.listdir(path)\n",
    "#filelist.sort(key=lambda x: (os.path.getctime(os.path.join(path, x)),os.path.getmtime(os.path.join(path, x))))\n",
    "filelist.sort(key=lambda x: os.path.getmtime(os.path.join(path, x)))\n",
    "print(filelist)\n"
   ]
  },
  {
   "cell_type": "code",
   "execution_count": null,
   "metadata": {},
   "outputs": [],
   "source": [
    "place = input('请输入地点\\n')"
   ]
  },
  {
   "cell_type": "code",
   "execution_count": null,
   "metadata": {},
   "outputs": [],
   "source": []
  }
 ],
 "metadata": {
  "kernelspec": {
   "display_name": "Python 3",
   "language": "python",
   "name": "python3"
  },
  "language_info": {
   "codemirror_mode": {
    "name": "ipython",
    "version": 3
   },
   "file_extension": ".py",
   "mimetype": "text/x-python",
   "name": "python",
   "nbconvert_exporter": "python",
   "pygments_lexer": "ipython3",
   "version": "3.8.5"
  }
 },
 "nbformat": 4,
 "nbformat_minor": 4
}
