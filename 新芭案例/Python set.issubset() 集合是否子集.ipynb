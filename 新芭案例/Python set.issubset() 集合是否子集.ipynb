{
 "cells": [
  {
   "cell_type": "code",
   "execution_count": 2,
   "id": "36977621-9d57-4357-a9db-43ba97daf38c",
   "metadata": {},
   "outputs": [
    {
     "data": {
      "text/plain": [
       "True"
      ]
     },
     "execution_count": 2,
     "metadata": {},
     "output_type": "execute_result"
    }
   ],
   "source": [
    "set1 = {1, 2, 3}\n",
    "set2 = {1, 2, 3, 4, 5}\n",
    "\n",
    "# 检查 set1 是否是 set2 的子集\n",
    "result = set1.issubset(set2)\n",
    "result\n"
   ]
  },
  {
   "cell_type": "code",
   "execution_count": 3,
   "id": "251d88f6-2edf-4bf9-8e33-95e250565806",
   "metadata": {},
   "outputs": [
    {
     "name": "stdout",
     "output_type": "stream",
     "text": [
      "True\n"
     ]
    }
   ],
   "source": [
    "result = set1 <= set2 # 同上\n",
    "print(result)  # 输出 True，因为 set1 是 set2 的子集\n"
   ]
  },
  {
   "cell_type": "code",
   "execution_count": 4,
   "id": "86f4a00a-3107-4e91-adf6-b57cf84663a7",
   "metadata": {},
   "outputs": [
    {
     "data": {
      "text/plain": [
       "False"
      ]
     },
     "execution_count": 4,
     "metadata": {},
     "output_type": "execute_result"
    }
   ],
   "source": [
    "set3 = {1, 2, 3}\n",
    "set4 = {4, 5, 6}\n",
    "\n",
    "# 检查 set3 是否是 set4 的子集\n",
    "result = set3.issubset(set4)\n",
    "result"
   ]
  },
  {
   "cell_type": "code",
   "execution_count": 5,
   "id": "421c318f-ab30-4d02-bff7-24d3314834bd",
   "metadata": {},
   "outputs": [
    {
     "name": "stdout",
     "output_type": "stream",
     "text": [
      "False\n"
     ]
    }
   ],
   "source": [
    "result = set3 <= set4 # 同上\n",
    "print(result)  # 输出 False，因为 set3 不是 set4 的子集"
   ]
  },
  {
   "cell_type": "code",
   "execution_count": 6,
   "id": "26561577-9194-48f1-ab25-6b601d6e7a66",
   "metadata": {},
   "outputs": [
    {
     "name": "stdout",
     "output_type": "stream",
     "text": [
      "True\n"
     ]
    }
   ],
   "source": [
    "set1 = {1, 2, 3}\n",
    "set2 = {1, 2, 3, 4, 5}\n",
    "\n",
    "# 检查 set1 是否是 set2 的真子集\n",
    "result = set1 < set2\n",
    "\n",
    "print(result)  # 输出 True，因为 set1 是 set2 的真子集"
   ]
  },
  {
   "cell_type": "code",
   "execution_count": 7,
   "id": "c5c7b209-a68f-4ed1-b855-edfc0f458c40",
   "metadata": {},
   "outputs": [
    {
     "name": "stdout",
     "output_type": "stream",
     "text": [
      "False\n"
     ]
    }
   ],
   "source": [
    "set3 = {1, 2, 3}\n",
    "set4 = {1, 2, 3}\n",
    "\n",
    "# 检查 set3 是否是 set4 的真子集\n",
    "result = set3 < set4\n",
    "\n",
    "print(result)  # 输出 False，因为 set3 不是 set4 的真子集，它们相等"
   ]
  },
  {
   "cell_type": "code",
   "execution_count": null,
   "id": "62a44e1b-431f-48c6-8359-d76166411247",
   "metadata": {},
   "outputs": [],
   "source": []
  }
 ],
 "metadata": {
  "kernelspec": {
   "display_name": "Python 3 (ipykernel)",
   "language": "python",
   "name": "python3"
  },
  "language_info": {
   "codemirror_mode": {
    "name": "ipython",
    "version": 3
   },
   "file_extension": ".py",
   "mimetype": "text/x-python",
   "name": "python",
   "nbconvert_exporter": "python",
   "pygments_lexer": "ipython3",
   "version": "3.11.5"
  }
 },
 "nbformat": 4,
 "nbformat_minor": 5
}
