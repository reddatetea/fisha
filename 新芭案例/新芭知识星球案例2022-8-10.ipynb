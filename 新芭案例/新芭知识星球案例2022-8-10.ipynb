{
 "cells": [
  {
   "cell_type": "code",
   "execution_count": 1,
   "id": "3cd969a0",
   "metadata": {},
   "outputs": [],
   "source": [
    "#https://www.gairuo.com/m/pandas-trend-continuous-change\n",
    "import pandas as pd\n",
    "import numpy as np"
   ]
  },
  {
   "cell_type": "code",
   "execution_count": 2,
   "id": "9efb5000",
   "metadata": {},
   "outputs": [
    {
     "data": {
      "text/html": [
       "<div>\n",
       "<style scoped>\n",
       "    .dataframe tbody tr th:only-of-type {\n",
       "        vertical-align: middle;\n",
       "    }\n",
       "\n",
       "    .dataframe tbody tr th {\n",
       "        vertical-align: top;\n",
       "    }\n",
       "\n",
       "    .dataframe thead th {\n",
       "        text-align: right;\n",
       "    }\n",
       "</style>\n",
       "<table border=\"1\" class=\"dataframe\">\n",
       "  <thead>\n",
       "    <tr style=\"text-align: right;\">\n",
       "      <th></th>\n",
       "      <th>1月</th>\n",
       "      <th>2月</th>\n",
       "      <th>3月</th>\n",
       "      <th>4月</th>\n",
       "      <th>5月</th>\n",
       "      <th>6月</th>\n",
       "    </tr>\n",
       "  </thead>\n",
       "  <tbody>\n",
       "    <tr>\n",
       "      <th>0</th>\n",
       "      <td>36</td>\n",
       "      <td>40</td>\n",
       "      <td>89</td>\n",
       "      <td>40</td>\n",
       "      <td>90</td>\n",
       "      <td>88</td>\n",
       "    </tr>\n",
       "    <tr>\n",
       "      <th>1</th>\n",
       "      <td>23</td>\n",
       "      <td>78</td>\n",
       "      <td>70</td>\n",
       "      <td>62</td>\n",
       "      <td>30</td>\n",
       "      <td>17</td>\n",
       "    </tr>\n",
       "    <tr>\n",
       "      <th>2</th>\n",
       "      <td>23</td>\n",
       "      <td>42</td>\n",
       "      <td>68</td>\n",
       "      <td>49</td>\n",
       "      <td>87</td>\n",
       "      <td>96</td>\n",
       "    </tr>\n",
       "    <tr>\n",
       "      <th>3</th>\n",
       "      <td>66</td>\n",
       "      <td>75</td>\n",
       "      <td>45</td>\n",
       "      <td>96</td>\n",
       "      <td>61</td>\n",
       "      <td>20</td>\n",
       "    </tr>\n",
       "    <tr>\n",
       "      <th>4</th>\n",
       "      <td>22</td>\n",
       "      <td>71</td>\n",
       "      <td>74</td>\n",
       "      <td>65</td>\n",
       "      <td>75</td>\n",
       "      <td>95</td>\n",
       "    </tr>\n",
       "    <tr>\n",
       "      <th>5</th>\n",
       "      <td>2</td>\n",
       "      <td>41</td>\n",
       "      <td>64</td>\n",
       "      <td>72</td>\n",
       "      <td>89</td>\n",
       "      <td>96</td>\n",
       "    </tr>\n",
       "    <tr>\n",
       "      <th>6</th>\n",
       "      <td>35</td>\n",
       "      <td>93</td>\n",
       "      <td>45</td>\n",
       "      <td>42</td>\n",
       "      <td>75</td>\n",
       "      <td>18</td>\n",
       "    </tr>\n",
       "    <tr>\n",
       "      <th>7</th>\n",
       "      <td>99</td>\n",
       "      <td>83</td>\n",
       "      <td>1</td>\n",
       "      <td>50</td>\n",
       "      <td>85</td>\n",
       "      <td>64</td>\n",
       "    </tr>\n",
       "  </tbody>\n",
       "</table>\n",
       "</div>"
      ],
      "text/plain": [
       "   1月  2月  3月  4月  5月  6月\n",
       "0  36  40  89  40  90  88\n",
       "1  23  78  70  62  30  17\n",
       "2  23  42  68  49  87  96\n",
       "3  66  75  45  96  61  20\n",
       "4  22  71  74  65  75  95\n",
       "5   2  41  64  72  89  96\n",
       "6  35  93  45  42  75  18\n",
       "7  99  83   1  50  85  64"
      ]
     },
     "execution_count": 2,
     "metadata": {},
     "output_type": "execute_result"
    }
   ],
   "source": [
    "np.random.seed(4096)\n",
    "df = pd.DataFrame(np.random.randint(0, 100, (8, 6)),\n",
    "                  columns=pd.array([*'123456'])+'月'\n",
    "                 )\n",
    "df"
   ]
  },
  {
   "cell_type": "code",
   "execution_count": 3,
   "id": "333deaea",
   "metadata": {},
   "outputs": [
    {
     "data": {
      "text/html": [
       "<div>\n",
       "<style scoped>\n",
       "    .dataframe tbody tr th:only-of-type {\n",
       "        vertical-align: middle;\n",
       "    }\n",
       "\n",
       "    .dataframe tbody tr th {\n",
       "        vertical-align: top;\n",
       "    }\n",
       "\n",
       "    .dataframe thead th {\n",
       "        text-align: right;\n",
       "    }\n",
       "</style>\n",
       "<table border=\"1\" class=\"dataframe\">\n",
       "  <thead>\n",
       "    <tr style=\"text-align: right;\">\n",
       "      <th></th>\n",
       "      <th>1月</th>\n",
       "      <th>2月</th>\n",
       "      <th>3月</th>\n",
       "      <th>4月</th>\n",
       "      <th>5月</th>\n",
       "      <th>6月</th>\n",
       "    </tr>\n",
       "  </thead>\n",
       "  <tbody>\n",
       "    <tr>\n",
       "      <th>0</th>\n",
       "      <td>36</td>\n",
       "      <td>40</td>\n",
       "      <td>89</td>\n",
       "      <td>40</td>\n",
       "      <td>90</td>\n",
       "      <td>88</td>\n",
       "    </tr>\n",
       "    <tr>\n",
       "      <th>1</th>\n",
       "      <td>23</td>\n",
       "      <td>78</td>\n",
       "      <td>70</td>\n",
       "      <td>62</td>\n",
       "      <td>30</td>\n",
       "      <td>17</td>\n",
       "    </tr>\n",
       "    <tr>\n",
       "      <th>2</th>\n",
       "      <td>23</td>\n",
       "      <td>42</td>\n",
       "      <td>68</td>\n",
       "      <td>49</td>\n",
       "      <td>87</td>\n",
       "      <td>96</td>\n",
       "    </tr>\n",
       "    <tr>\n",
       "      <th>3</th>\n",
       "      <td>66</td>\n",
       "      <td>75</td>\n",
       "      <td>45</td>\n",
       "      <td>96</td>\n",
       "      <td>61</td>\n",
       "      <td>20</td>\n",
       "    </tr>\n",
       "    <tr>\n",
       "      <th>4</th>\n",
       "      <td>22</td>\n",
       "      <td>71</td>\n",
       "      <td>71</td>\n",
       "      <td>71</td>\n",
       "      <td>71</td>\n",
       "      <td>71</td>\n",
       "    </tr>\n",
       "    <tr>\n",
       "      <th>5</th>\n",
       "      <td>2</td>\n",
       "      <td>41</td>\n",
       "      <td>64</td>\n",
       "      <td>72</td>\n",
       "      <td>89</td>\n",
       "      <td>96</td>\n",
       "    </tr>\n",
       "    <tr>\n",
       "      <th>6</th>\n",
       "      <td>35</td>\n",
       "      <td>93</td>\n",
       "      <td>45</td>\n",
       "      <td>42</td>\n",
       "      <td>75</td>\n",
       "      <td>18</td>\n",
       "    </tr>\n",
       "    <tr>\n",
       "      <th>7</th>\n",
       "      <td>99</td>\n",
       "      <td>83</td>\n",
       "      <td>1</td>\n",
       "      <td>50</td>\n",
       "      <td>85</td>\n",
       "      <td>64</td>\n",
       "    </tr>\n",
       "  </tbody>\n",
       "</table>\n",
       "</div>"
      ],
      "text/plain": [
       "   1月  2月  3月  4月  5月  6月\n",
       "0  36  40  89  40  90  88\n",
       "1  23  78  70  62  30  17\n",
       "2  23  42  68  49  87  96\n",
       "3  66  75  45  96  61  20\n",
       "4  22  71  71  71  71  71\n",
       "5   2  41  64  72  89  96\n",
       "6  35  93  45  42  75  18\n",
       "7  99  83   1  50  85  64"
      ]
     },
     "execution_count": 3,
     "metadata": {},
     "output_type": "execute_result"
    }
   ],
   "source": [
    "df.iloc[4, 1:] = df.iloc[4,1]\n",
    "df"
   ]
  },
  {
   "cell_type": "code",
   "execution_count": 4,
   "id": "14ef91c8",
   "metadata": {},
   "outputs": [
    {
     "data": {
      "text/plain": [
       "1月    23\n",
       "2月    78\n",
       "3月    70\n",
       "4月    62\n",
       "5月    30\n",
       "6月    17\n",
       "Name: 1, dtype: int32"
      ]
     },
     "execution_count": 4,
     "metadata": {},
     "output_type": "execute_result"
    }
   ],
   "source": [
    "temp_ser = df.loc[1]\n",
    "temp_ser"
   ]
  },
  {
   "cell_type": "code",
   "execution_count": 5,
   "id": "e434931c",
   "metadata": {},
   "outputs": [
    {
     "data": {
      "text/plain": [
       "1月     NaN\n",
       "2月    55.0\n",
       "3月    -8.0\n",
       "4月    -8.0\n",
       "5月   -32.0\n",
       "6月   -13.0\n",
       "Name: 1, dtype: float64"
      ]
     },
     "execution_count": 5,
     "metadata": {},
     "output_type": "execute_result"
    }
   ],
   "source": [
    "temp_ser.diff()"
   ]
  },
  {
   "cell_type": "code",
   "execution_count": 6,
   "id": "e6c8cb92",
   "metadata": {},
   "outputs": [
    {
     "data": {
      "text/plain": [
       "1月    NaN\n",
       "2月    1.0\n",
       "3月   -1.0\n",
       "4月   -1.0\n",
       "5月   -1.0\n",
       "6月   -1.0\n",
       "Name: 1, dtype: float64"
      ]
     },
     "execution_count": 6,
     "metadata": {},
     "output_type": "execute_result"
    }
   ],
   "source": [
    "temp_ser = temp_ser.diff().apply(np.sign)\n",
    "temp_ser"
   ]
  },
  {
   "cell_type": "code",
   "execution_count": 7,
   "id": "4b927ca3",
   "metadata": {},
   "outputs": [
    {
     "data": {
      "text/plain": [
       "'降低'"
      ]
     },
     "execution_count": 7,
     "metadata": {},
     "output_type": "execute_result"
    }
   ],
   "source": [
    "type_str = {1: '增长', -1: '降低', 0: '持平'}.get(temp_ser[-1])\n",
    "type_str"
   ]
  },
  {
   "cell_type": "code",
   "execution_count": 8,
   "id": "e367909e",
   "metadata": {},
   "outputs": [
    {
     "data": {
      "text/plain": [
       "6月     True\n",
       "5月     True\n",
       "4月     True\n",
       "3月     True\n",
       "2月    False\n",
       "1月    False\n",
       "Name: 1, dtype: bool"
      ]
     },
     "execution_count": 8,
     "metadata": {},
     "output_type": "execute_result"
    }
   ],
   "source": [
    "temp_ser = (temp_ser == temp_ser[-1])[::-1]\n",
    "temp_ser"
   ]
  },
  {
   "cell_type": "code",
   "execution_count": 9,
   "id": "79321fc0",
   "metadata": {},
   "outputs": [
    {
     "data": {
      "text/plain": [
       "6月    1\n",
       "5月    1\n",
       "4月    1\n",
       "3月    1\n",
       "2月    0\n",
       "1月    0\n",
       "Name: 1, dtype: int32"
      ]
     },
     "execution_count": 9,
     "metadata": {},
     "output_type": "execute_result"
    }
   ],
   "source": [
    "temp_ser.cumprod()   #累积乘积"
   ]
  },
  {
   "cell_type": "code",
   "execution_count": 10,
   "id": "2b3585b7",
   "metadata": {},
   "outputs": [
    {
     "data": {
      "text/plain": [
       "4"
      ]
     },
     "execution_count": 10,
     "metadata": {},
     "output_type": "execute_result"
    }
   ],
   "source": [
    "num = temp_ser.cumprod().sum()\n",
    "num"
   ]
  },
  {
   "cell_type": "code",
   "execution_count": 11,
   "id": "c4c0969f",
   "metadata": {},
   "outputs": [
    {
     "data": {
      "text/plain": [
       "'连续4个月降低'"
      ]
     },
     "execution_count": 11,
     "metadata": {},
     "output_type": "execute_result"
    }
   ],
   "source": [
    "f'连续{num}个月{type_str}'"
   ]
  },
  {
   "cell_type": "code",
   "execution_count": 12,
   "id": "b043a457",
   "metadata": {},
   "outputs": [],
   "source": [
    "def func(ser: pd.Series):\n",
    "    ser = ser.diff().apply(np.sign)\n",
    "    type_str = {1: '增长', -1: '降低', 0: '持平'}.get(ser[-1])\n",
    "    ser = (ser == ser[-1])[::-1]\n",
    "    num = ser.cumprod().sum()\n",
    "    return f'连续{num}个月{type_str}'"
   ]
  },
  {
   "cell_type": "code",
   "execution_count": 13,
   "id": "a24fb69f",
   "metadata": {},
   "outputs": [
    {
     "data": {
      "text/html": [
       "<div>\n",
       "<style scoped>\n",
       "    .dataframe tbody tr th:only-of-type {\n",
       "        vertical-align: middle;\n",
       "    }\n",
       "\n",
       "    .dataframe tbody tr th {\n",
       "        vertical-align: top;\n",
       "    }\n",
       "\n",
       "    .dataframe thead th {\n",
       "        text-align: right;\n",
       "    }\n",
       "</style>\n",
       "<table border=\"1\" class=\"dataframe\">\n",
       "  <thead>\n",
       "    <tr style=\"text-align: right;\">\n",
       "      <th></th>\n",
       "      <th>1月</th>\n",
       "      <th>2月</th>\n",
       "      <th>3月</th>\n",
       "      <th>4月</th>\n",
       "      <th>5月</th>\n",
       "      <th>6月</th>\n",
       "      <th>连续增减</th>\n",
       "    </tr>\n",
       "  </thead>\n",
       "  <tbody>\n",
       "    <tr>\n",
       "      <th>0</th>\n",
       "      <td>36</td>\n",
       "      <td>40</td>\n",
       "      <td>89</td>\n",
       "      <td>40</td>\n",
       "      <td>90</td>\n",
       "      <td>88</td>\n",
       "      <td>连续1个月降低</td>\n",
       "    </tr>\n",
       "    <tr>\n",
       "      <th>1</th>\n",
       "      <td>23</td>\n",
       "      <td>78</td>\n",
       "      <td>70</td>\n",
       "      <td>62</td>\n",
       "      <td>30</td>\n",
       "      <td>17</td>\n",
       "      <td>连续4个月降低</td>\n",
       "    </tr>\n",
       "    <tr>\n",
       "      <th>2</th>\n",
       "      <td>23</td>\n",
       "      <td>42</td>\n",
       "      <td>68</td>\n",
       "      <td>49</td>\n",
       "      <td>87</td>\n",
       "      <td>96</td>\n",
       "      <td>连续2个月增长</td>\n",
       "    </tr>\n",
       "    <tr>\n",
       "      <th>3</th>\n",
       "      <td>66</td>\n",
       "      <td>75</td>\n",
       "      <td>45</td>\n",
       "      <td>96</td>\n",
       "      <td>61</td>\n",
       "      <td>20</td>\n",
       "      <td>连续2个月降低</td>\n",
       "    </tr>\n",
       "    <tr>\n",
       "      <th>4</th>\n",
       "      <td>22</td>\n",
       "      <td>71</td>\n",
       "      <td>71</td>\n",
       "      <td>71</td>\n",
       "      <td>71</td>\n",
       "      <td>71</td>\n",
       "      <td>连续4个月持平</td>\n",
       "    </tr>\n",
       "    <tr>\n",
       "      <th>5</th>\n",
       "      <td>2</td>\n",
       "      <td>41</td>\n",
       "      <td>64</td>\n",
       "      <td>72</td>\n",
       "      <td>89</td>\n",
       "      <td>96</td>\n",
       "      <td>连续5个月增长</td>\n",
       "    </tr>\n",
       "    <tr>\n",
       "      <th>6</th>\n",
       "      <td>35</td>\n",
       "      <td>93</td>\n",
       "      <td>45</td>\n",
       "      <td>42</td>\n",
       "      <td>75</td>\n",
       "      <td>18</td>\n",
       "      <td>连续1个月降低</td>\n",
       "    </tr>\n",
       "    <tr>\n",
       "      <th>7</th>\n",
       "      <td>99</td>\n",
       "      <td>83</td>\n",
       "      <td>1</td>\n",
       "      <td>50</td>\n",
       "      <td>85</td>\n",
       "      <td>64</td>\n",
       "      <td>连续1个月降低</td>\n",
       "    </tr>\n",
       "  </tbody>\n",
       "</table>\n",
       "</div>"
      ],
      "text/plain": [
       "   1月    2月    3月    4月    5月    6月       连续增减\n",
       "0    36    40    89    40    90    88  连续1个月降低\n",
       "1    23    78    70    62    30    17  连续4个月降低\n",
       "2    23    42    68    49    87    96  连续2个月增长\n",
       "3    66    75    45    96    61    20  连续2个月降低\n",
       "4    22    71    71    71    71    71  连续4个月持平\n",
       "5     2    41    64    72    89    96  连续5个月增长\n",
       "6    35    93    45    42    75    18  连续1个月降低\n",
       "7    99    83     1    50    85    64  连续1个月降低"
      ]
     },
     "execution_count": 13,
     "metadata": {},
     "output_type": "execute_result"
    }
   ],
   "source": [
    "df.assign(连续增减=df.apply(func, axis=1))"
   ]
  },
  {
   "cell_type": "code",
   "execution_count": 20,
   "id": "4979af53",
   "metadata": {},
   "outputs": [
    {
     "data": {
      "text/html": [
       "<div>\n",
       "<style scoped>\n",
       "    .dataframe tbody tr th:only-of-type {\n",
       "        vertical-align: middle;\n",
       "    }\n",
       "\n",
       "    .dataframe tbody tr th {\n",
       "        vertical-align: top;\n",
       "    }\n",
       "\n",
       "    .dataframe thead th {\n",
       "        text-align: right;\n",
       "    }\n",
       "</style>\n",
       "<table border=\"1\" class=\"dataframe\">\n",
       "  <thead>\n",
       "    <tr style=\"text-align: right;\">\n",
       "      <th></th>\n",
       "      <th>1月</th>\n",
       "      <th>2月</th>\n",
       "      <th>3月</th>\n",
       "      <th>4月</th>\n",
       "      <th>5月</th>\n",
       "      <th>6月</th>\n",
       "      <th>连续增减</th>\n",
       "    </tr>\n",
       "  </thead>\n",
       "  <tbody>\n",
       "    <tr>\n",
       "      <th>0</th>\n",
       "      <td>36</td>\n",
       "      <td>40</td>\n",
       "      <td>89</td>\n",
       "      <td>40</td>\n",
       "      <td>90</td>\n",
       "      <td>88</td>\n",
       "      <td>连续1个月降低</td>\n",
       "    </tr>\n",
       "    <tr>\n",
       "      <th>1</th>\n",
       "      <td>23</td>\n",
       "      <td>78</td>\n",
       "      <td>70</td>\n",
       "      <td>62</td>\n",
       "      <td>30</td>\n",
       "      <td>17</td>\n",
       "      <td>连续4个月降低</td>\n",
       "    </tr>\n",
       "    <tr>\n",
       "      <th>2</th>\n",
       "      <td>23</td>\n",
       "      <td>42</td>\n",
       "      <td>68</td>\n",
       "      <td>49</td>\n",
       "      <td>87</td>\n",
       "      <td>96</td>\n",
       "      <td>连续2个月增长</td>\n",
       "    </tr>\n",
       "    <tr>\n",
       "      <th>3</th>\n",
       "      <td>66</td>\n",
       "      <td>75</td>\n",
       "      <td>45</td>\n",
       "      <td>96</td>\n",
       "      <td>61</td>\n",
       "      <td>20</td>\n",
       "      <td>连续2个月降低</td>\n",
       "    </tr>\n",
       "    <tr>\n",
       "      <th>4</th>\n",
       "      <td>22</td>\n",
       "      <td>71</td>\n",
       "      <td>71</td>\n",
       "      <td>71</td>\n",
       "      <td>71</td>\n",
       "      <td>71</td>\n",
       "      <td>连续4个月持平</td>\n",
       "    </tr>\n",
       "    <tr>\n",
       "      <th>5</th>\n",
       "      <td>2</td>\n",
       "      <td>41</td>\n",
       "      <td>64</td>\n",
       "      <td>72</td>\n",
       "      <td>89</td>\n",
       "      <td>96</td>\n",
       "      <td>连续5个月增长</td>\n",
       "    </tr>\n",
       "    <tr>\n",
       "      <th>6</th>\n",
       "      <td>35</td>\n",
       "      <td>93</td>\n",
       "      <td>45</td>\n",
       "      <td>42</td>\n",
       "      <td>75</td>\n",
       "      <td>18</td>\n",
       "      <td>连续1个月降低</td>\n",
       "    </tr>\n",
       "    <tr>\n",
       "      <th>7</th>\n",
       "      <td>99</td>\n",
       "      <td>83</td>\n",
       "      <td>1</td>\n",
       "      <td>50</td>\n",
       "      <td>85</td>\n",
       "      <td>64</td>\n",
       "      <td>连续1个月降低</td>\n",
       "    </tr>\n",
       "  </tbody>\n",
       "</table>\n",
       "</div>"
      ],
      "text/plain": [
       "   1月    2月    3月    4月    5月    6月       连续增减\n",
       "0    36    40    89    40    90    88  连续1个月降低\n",
       "1    23    78    70    62    30    17  连续4个月降低\n",
       "2    23    42    68    49    87    96  连续2个月增长\n",
       "3    66    75    45    96    61    20  连续2个月降低\n",
       "4    22    71    71    71    71    71  连续4个月持平\n",
       "5     2    41    64    72    89    96  连续5个月增长\n",
       "6    35    93    45    42    75    18  连续1个月降低\n",
       "7    99    83     1    50    85    64  连续1个月降低"
      ]
     },
     "execution_count": 20,
     "metadata": {},
     "output_type": "execute_result"
    }
   ],
   "source": [
    "#迭代方法\n",
    "def func(ser: pd.Series):\n",
    "    ser = iter(ser[::-1])\n",
    "    cur, nxt = next(ser), next(ser)\n",
    "    type_str = {1: '增长', -1: '降低', 0: '持平'}.get(cur)\n",
    "    n = 1\n",
    "    while cur == nxt:\n",
    "        n += 1\n",
    "        cur = nxt\n",
    "        nxt = next(ser)\n",
    "    return f'连续{n}个月{type_str}'\n",
    "lst = (         \n",
    "    df.diff(axis=1)\n",
    "    .applymap(np.sign)\n",
    "    .apply(func, axis=1)\n",
    ")\n",
    "df.assign(连续增减=lst)"
   ]
  },
  {
   "cell_type": "code",
   "execution_count": 24,
   "id": "a0b06e93",
   "metadata": {},
   "outputs": [
    {
     "data": {
      "text/plain": [
       "6月\n",
       "降低    1\n",
       "降低    4\n",
       "增长    2\n",
       "降低    2\n",
       "持平    4\n",
       "增长    5\n",
       "降低    1\n",
       "降低    1\n",
       "dtype: int64"
      ]
     },
     "execution_count": 24,
     "metadata": {},
     "output_type": "execute_result"
    }
   ],
   "source": [
    "#累加的思路\n",
    "(         \n",
    "    df.diff(axis=1)\n",
    "    .applymap(np.sign)\n",
    "    .set_index('6月', drop=False)\n",
    "    .apply(lambda x: x!=x[-1], axis=1)\n",
    "    .apply(lambda x: x[::-1].cumsum(), axis=1)\n",
    "    .apply(lambda x: sum(x==0), axis=1)\n",
    "    .rename({1: '增长', -1: '降低', 0: '持平'})\n",
    ")\n"
   ]
  },
  {
   "cell_type": "code",
   "execution_count": 25,
   "id": "f48d7984",
   "metadata": {},
   "outputs": [
    {
     "ename": "NameError",
     "evalue": "name '_map' is not defined",
     "output_type": "error",
     "traceback": [
      "\u001b[1;31m---------------------------------------------------------------------------\u001b[0m",
      "\u001b[1;31mNameError\u001b[0m                                 Traceback (most recent call last)",
      "Input \u001b[1;32mIn [25]\u001b[0m, in \u001b[0;36m<cell line: 1>\u001b[1;34m()\u001b[0m\n\u001b[1;32m----> 1\u001b[0m df\u001b[38;5;241m.\u001b[39massign(连续增减\u001b[38;5;241m=\u001b[39m\u001b[38;5;124m'\u001b[39m\u001b[38;5;124m连续\u001b[39m\u001b[38;5;124m'\u001b[39m\u001b[38;5;241m+\u001b[39m\u001b[43m_map\u001b[49m\u001b[38;5;241m.\u001b[39mastype(\u001b[38;5;28mstr\u001b[39m)\u001b[38;5;241m.\u001b[39mvalues\u001b[38;5;241m+\u001b[39m\u001b[38;5;124m'\u001b[39m\u001b[38;5;124m个月\u001b[39m\u001b[38;5;124m'\u001b[39m\u001b[38;5;241m+\u001b[39m_map\u001b[38;5;241m.\u001b[39mindex)\n",
      "\u001b[1;31mNameError\u001b[0m: name '_map' is not defined"
     ]
    }
   ],
   "source": [
    "df.assign(连续增减='连续'+_map.astype(str).values+'个月'+_map.index)"
   ]
  },
  {
   "cell_type": "code",
   "execution_count": null,
   "id": "16daed97",
   "metadata": {},
   "outputs": [],
   "source": []
  }
 ],
 "metadata": {
  "kernelspec": {
   "display_name": "Python 3 (ipykernel)",
   "language": "python",
   "name": "python3"
  },
  "language_info": {
   "codemirror_mode": {
    "name": "ipython",
    "version": 3
   },
   "file_extension": ".py",
   "mimetype": "text/x-python",
   "name": "python",
   "nbconvert_exporter": "python",
   "pygments_lexer": "ipython3",
   "version": "3.8.3"
  }
 },
 "nbformat": 4,
 "nbformat_minor": 5
}
