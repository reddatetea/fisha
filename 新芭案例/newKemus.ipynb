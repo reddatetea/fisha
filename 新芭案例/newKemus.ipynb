{
 "cells": [
  {
   "cell_type": "code",
   "execution_count": 1,
   "id": "df020820-aa59-4e95-8a8c-75849064f3f3",
   "metadata": {},
   "outputs": [],
   "source": [
    "import pandas as pd\n",
    "import easygui"
   ]
  },
  {
   "cell_type": "code",
   "execution_count": null,
   "id": "f0bf852f-206b-42fe-8026-2ced37212ddf",
   "metadata": {},
   "outputs": [],
   "source": [
    "fname001 = r'F:\\a00nutsrore\\006\\高新\\001会计科目2024-1.xls'\n",
    "df01 = pd.read_excel(fname001,usecols=['科目编码','科目名称'])\n",
    "df01"
   ]
  },
  {
   "cell_type": "code",
   "execution_count": null,
   "id": "7f72a0c2-e661-4053-b4c7-18f4d2d023e8",
   "metadata": {},
   "outputs": [],
   "source": [
    "fname003 = r'F:\\a00nutsrore\\006\\高新\\003会计科目202401.xls'\n",
    "df03 = pd.read_excel(fname003,usecols=['科目编码','科目名称'])\n",
    "df03"
   ]
  },
  {
   "cell_type": "code",
   "execution_count": null,
   "id": "1aa5a7a6-b27e-402e-92e6-cae284e7f53a",
   "metadata": {},
   "outputs": [],
   "source": [
    "{1,2,3}-{2,3}"
   ]
  },
  {
   "cell_type": "code",
   "execution_count": null,
   "id": "fdd14b27-063e-4c10-907b-8d5713a82980",
   "metadata": {},
   "outputs": [],
   "source": [
    "kemus01 = set()\n",
    "for i in df01['科目编码'].to_list():\n",
    "    kemus01.add(i)"
   ]
  },
  {
   "cell_type": "code",
   "execution_count": null,
   "id": "4275910a-d0ea-49cf-bfd2-f4fcd9afac2f",
   "metadata": {},
   "outputs": [],
   "source": [
    "kemus01"
   ]
  },
  {
   "cell_type": "code",
   "execution_count": null,
   "id": "fecb4d56-d1c0-4633-9ba3-a3a874edaa5c",
   "metadata": {},
   "outputs": [],
   "source": [
    "kemus03 = set()\n",
    "for i in df03['科目编码'].to_list():\n",
    "    kemus03.add(i)\n",
    "kemus03"
   ]
  },
  {
   "cell_type": "code",
   "execution_count": null,
   "id": "8aa1ae37-7df3-457b-aed9-a3cbdd53d77f",
   "metadata": {},
   "outputs": [],
   "source": [
    "kemus = list(kemus01-kemus03)\n",
    "kemus"
   ]
  },
  {
   "cell_type": "code",
   "execution_count": null,
   "id": "ce4c1cf2-240a-4a89-a6ef-344f4068521f",
   "metadata": {},
   "outputs": [],
   "source": [
    "df = df01[df01['科目编码'].isin(kemus)]"
   ]
  },
  {
   "cell_type": "code",
   "execution_count": 7,
   "id": "3864e9c0-7d31-4934-82cf-078bbddb38c5",
   "metadata": {},
   "outputs": [],
   "source": [
    "fname01 = easygui.fileopenbox('请选择\"001会计科目\"excel文件')\n"
   ]
  },
  {
   "cell_type": "code",
   "execution_count": 6,
   "id": "7b04a788-50ff-4029-8a18-8567b19a44cb",
   "metadata": {},
   "outputs": [
    {
     "data": {
      "text/html": [
       "<div>\n",
       "<style scoped>\n",
       "    .dataframe tbody tr th:only-of-type {\n",
       "        vertical-align: middle;\n",
       "    }\n",
       "\n",
       "    .dataframe tbody tr th {\n",
       "        vertical-align: top;\n",
       "    }\n",
       "\n",
       "    .dataframe thead th {\n",
       "        text-align: right;\n",
       "    }\n",
       "</style>\n",
       "<table border=\"1\" class=\"dataframe\">\n",
       "  <thead>\n",
       "    <tr style=\"text-align: right;\">\n",
       "      <th></th>\n",
       "      <th>科目编码</th>\n",
       "      <th>科目名称</th>\n",
       "      <th>助记码</th>\n",
       "    </tr>\n",
       "  </thead>\n",
       "  <tbody>\n",
       "    <tr>\n",
       "      <th>0</th>\n",
       "      <td>1001</td>\n",
       "      <td>库存现金</td>\n",
       "      <td>NaN</td>\n",
       "    </tr>\n",
       "    <tr>\n",
       "      <th>1</th>\n",
       "      <td>1002</td>\n",
       "      <td>银行存款</td>\n",
       "      <td>NaN</td>\n",
       "    </tr>\n",
       "    <tr>\n",
       "      <th>2</th>\n",
       "      <td>1002001</td>\n",
       "      <td>农业银行毛陈分理处1350</td>\n",
       "      <td>1350</td>\n",
       "    </tr>\n",
       "    <tr>\n",
       "      <th>3</th>\n",
       "      <td>1002002</td>\n",
       "      <td>农商行贺家墩支行0013</td>\n",
       "      <td>0013</td>\n",
       "    </tr>\n",
       "    <tr>\n",
       "      <th>4</th>\n",
       "      <td>1002003</td>\n",
       "      <td>工行孝南区支行9262</td>\n",
       "      <td>9262</td>\n",
       "    </tr>\n",
       "    <tr>\n",
       "      <th>...</th>\n",
       "      <td>...</td>\n",
       "      <td>...</td>\n",
       "      <td>...</td>\n",
       "    </tr>\n",
       "    <tr>\n",
       "      <th>614</th>\n",
       "      <td>6604</td>\n",
       "      <td>勘探费用</td>\n",
       "      <td>NaN</td>\n",
       "    </tr>\n",
       "    <tr>\n",
       "      <th>615</th>\n",
       "      <td>6701</td>\n",
       "      <td>资产减值损失</td>\n",
       "      <td>NaN</td>\n",
       "    </tr>\n",
       "    <tr>\n",
       "      <th>616</th>\n",
       "      <td>6711</td>\n",
       "      <td>营业外支出</td>\n",
       "      <td>NaN</td>\n",
       "    </tr>\n",
       "    <tr>\n",
       "      <th>617</th>\n",
       "      <td>6801</td>\n",
       "      <td>所得税费用</td>\n",
       "      <td>NaN</td>\n",
       "    </tr>\n",
       "    <tr>\n",
       "      <th>618</th>\n",
       "      <td>6901</td>\n",
       "      <td>以前年度损益调整</td>\n",
       "      <td>NaN</td>\n",
       "    </tr>\n",
       "  </tbody>\n",
       "</table>\n",
       "<p>619 rows × 3 columns</p>\n",
       "</div>"
      ],
      "text/plain": [
       "        科目编码             科目名称   助记码\n",
       "0       1001             库存现金   NaN\n",
       "1       1002             银行存款   NaN\n",
       "2    1002001    农业银行毛陈分理处1350  1350\n",
       "3    1002002     农商行贺家墩支行0013  0013\n",
       "4    1002003      工行孝南区支行9262  9262\n",
       "..       ...              ...   ...\n",
       "614     6604             勘探费用   NaN\n",
       "615     6701           资产减值损失   NaN\n",
       "616     6711            营业外支出   NaN\n",
       "617     6801            所得税费用   NaN\n",
       "618     6901         以前年度损益调整   NaN\n",
       "\n",
       "[619 rows x 3 columns]"
      ]
     },
     "execution_count": 6,
     "metadata": {},
     "output_type": "execute_result"
    }
   ],
   "source": [
    "df01 = pd.read_excel(fname01,usecols=['科目编码','科目名称','助记码'])\n",
    "df01"
   ]
  },
  {
   "cell_type": "code",
   "execution_count": 8,
   "id": "386b7bbe-3672-42cf-a7ff-1388d36716aa",
   "metadata": {},
   "outputs": [
    {
     "name": "stdout",
     "output_type": "stream",
     "text": [
      "F:\\a00nutsrore\\006\\高新\n"
     ]
    }
   ],
   "source": [
    "import os\n",
    "path,filename = os.path.split(fname01)\n",
    "print(path)"
   ]
  },
  {
   "cell_type": "code",
   "execution_count": 9,
   "id": "da850c2b-721a-44b5-8586-e7279ceac16e",
   "metadata": {
    "scrolled": true
   },
   "outputs": [
    {
     "data": {
      "text/html": [
       "<div>\n",
       "<style scoped>\n",
       "    .dataframe tbody tr th:only-of-type {\n",
       "        vertical-align: middle;\n",
       "    }\n",
       "\n",
       "    .dataframe tbody tr th {\n",
       "        vertical-align: top;\n",
       "    }\n",
       "\n",
       "    .dataframe thead th {\n",
       "        text-align: right;\n",
       "    }\n",
       "</style>\n",
       "<table border=\"1\" class=\"dataframe\">\n",
       "  <thead>\n",
       "    <tr style=\"text-align: right;\">\n",
       "      <th></th>\n",
       "      <th>科目编码</th>\n",
       "      <th>科目名称</th>\n",
       "      <th>助记码</th>\n",
       "    </tr>\n",
       "  </thead>\n",
       "  <tbody>\n",
       "    <tr>\n",
       "      <th>0</th>\n",
       "      <td>1001</td>\n",
       "      <td>库存现金</td>\n",
       "      <td>NaN</td>\n",
       "    </tr>\n",
       "    <tr>\n",
       "      <th>1</th>\n",
       "      <td>1002</td>\n",
       "      <td>银行存款</td>\n",
       "      <td>NaN</td>\n",
       "    </tr>\n",
       "    <tr>\n",
       "      <th>2</th>\n",
       "      <td>1002001</td>\n",
       "      <td>农业银行毛陈分理处1350</td>\n",
       "      <td>1350</td>\n",
       "    </tr>\n",
       "    <tr>\n",
       "      <th>3</th>\n",
       "      <td>1002002</td>\n",
       "      <td>农商行贺家墩支行0013</td>\n",
       "      <td>0013</td>\n",
       "    </tr>\n",
       "    <tr>\n",
       "      <th>4</th>\n",
       "      <td>1002003</td>\n",
       "      <td>工行孝南区支行9262</td>\n",
       "      <td>9262</td>\n",
       "    </tr>\n",
       "    <tr>\n",
       "      <th>...</th>\n",
       "      <td>...</td>\n",
       "      <td>...</td>\n",
       "      <td>...</td>\n",
       "    </tr>\n",
       "    <tr>\n",
       "      <th>614</th>\n",
       "      <td>6604</td>\n",
       "      <td>勘探费用</td>\n",
       "      <td>NaN</td>\n",
       "    </tr>\n",
       "    <tr>\n",
       "      <th>615</th>\n",
       "      <td>6701</td>\n",
       "      <td>资产减值损失</td>\n",
       "      <td>NaN</td>\n",
       "    </tr>\n",
       "    <tr>\n",
       "      <th>616</th>\n",
       "      <td>6711</td>\n",
       "      <td>营业外支出</td>\n",
       "      <td>NaN</td>\n",
       "    </tr>\n",
       "    <tr>\n",
       "      <th>617</th>\n",
       "      <td>6801</td>\n",
       "      <td>所得税费用</td>\n",
       "      <td>NaN</td>\n",
       "    </tr>\n",
       "    <tr>\n",
       "      <th>618</th>\n",
       "      <td>6901</td>\n",
       "      <td>以前年度损益调整</td>\n",
       "      <td>NaN</td>\n",
       "    </tr>\n",
       "  </tbody>\n",
       "</table>\n",
       "<p>619 rows × 3 columns</p>\n",
       "</div>"
      ],
      "text/plain": [
       "        科目编码             科目名称   助记码\n",
       "0       1001             库存现金   NaN\n",
       "1       1002             银行存款   NaN\n",
       "2    1002001    农业银行毛陈分理处1350  1350\n",
       "3    1002002     农商行贺家墩支行0013  0013\n",
       "4    1002003      工行孝南区支行9262  9262\n",
       "..       ...              ...   ...\n",
       "614     6604             勘探费用   NaN\n",
       "615     6701           资产减值损失   NaN\n",
       "616     6711            营业外支出   NaN\n",
       "617     6801            所得税费用   NaN\n",
       "618     6901         以前年度损益调整   NaN\n",
       "\n",
       "[619 rows x 3 columns]"
      ]
     },
     "execution_count": 9,
     "metadata": {},
     "output_type": "execute_result"
    }
   ],
   "source": [
    "df01\n"
   ]
  },
  {
   "cell_type": "code",
   "execution_count": 10,
   "id": "9f2c9328-2420-40f1-afef-e4e5db78db07",
   "metadata": {},
   "outputs": [
    {
     "data": {
      "text/html": [
       "<div>\n",
       "<style scoped>\n",
       "    .dataframe tbody tr th:only-of-type {\n",
       "        vertical-align: middle;\n",
       "    }\n",
       "\n",
       "    .dataframe tbody tr th {\n",
       "        vertical-align: top;\n",
       "    }\n",
       "\n",
       "    .dataframe thead th {\n",
       "        text-align: right;\n",
       "    }\n",
       "</style>\n",
       "<table border=\"1\" class=\"dataframe\">\n",
       "  <thead>\n",
       "    <tr style=\"text-align: right;\">\n",
       "      <th></th>\n",
       "      <th>科目编码</th>\n",
       "      <th>科目名称</th>\n",
       "      <th>助记码</th>\n",
       "    </tr>\n",
       "  </thead>\n",
       "  <tbody>\n",
       "    <tr>\n",
       "      <th>0</th>\n",
       "      <td>1001</td>\n",
       "      <td>库存现金</td>\n",
       "      <td>NaN</td>\n",
       "    </tr>\n",
       "    <tr>\n",
       "      <th>1</th>\n",
       "      <td>1002</td>\n",
       "      <td>银行存款</td>\n",
       "      <td>NaN</td>\n",
       "    </tr>\n",
       "    <tr>\n",
       "      <th>2</th>\n",
       "      <td>1002001</td>\n",
       "      <td>农业银行毛陈分理处1350</td>\n",
       "      <td>1350</td>\n",
       "    </tr>\n",
       "    <tr>\n",
       "      <th>3</th>\n",
       "      <td>1002002</td>\n",
       "      <td>农商行贺家墩支行0013</td>\n",
       "      <td>0013</td>\n",
       "    </tr>\n",
       "    <tr>\n",
       "      <th>4</th>\n",
       "      <td>1002003</td>\n",
       "      <td>工行孝南区支行9262</td>\n",
       "      <td>9262</td>\n",
       "    </tr>\n",
       "    <tr>\n",
       "      <th>...</th>\n",
       "      <td>...</td>\n",
       "      <td>...</td>\n",
       "      <td>...</td>\n",
       "    </tr>\n",
       "    <tr>\n",
       "      <th>614</th>\n",
       "      <td>6604</td>\n",
       "      <td>勘探费用</td>\n",
       "      <td>NaN</td>\n",
       "    </tr>\n",
       "    <tr>\n",
       "      <th>615</th>\n",
       "      <td>6701</td>\n",
       "      <td>资产减值损失</td>\n",
       "      <td>NaN</td>\n",
       "    </tr>\n",
       "    <tr>\n",
       "      <th>616</th>\n",
       "      <td>6711</td>\n",
       "      <td>营业外支出</td>\n",
       "      <td>NaN</td>\n",
       "    </tr>\n",
       "    <tr>\n",
       "      <th>617</th>\n",
       "      <td>6801</td>\n",
       "      <td>所得税费用</td>\n",
       "      <td>NaN</td>\n",
       "    </tr>\n",
       "    <tr>\n",
       "      <th>618</th>\n",
       "      <td>6901</td>\n",
       "      <td>以前年度损益调整</td>\n",
       "      <td>NaN</td>\n",
       "    </tr>\n",
       "  </tbody>\n",
       "</table>\n",
       "<p>619 rows × 3 columns</p>\n",
       "</div>"
      ],
      "text/plain": [
       "        科目编码             科目名称   助记码\n",
       "0       1001             库存现金   NaN\n",
       "1       1002             银行存款   NaN\n",
       "2    1002001    农业银行毛陈分理处1350  1350\n",
       "3    1002002     农商行贺家墩支行0013  0013\n",
       "4    1002003      工行孝南区支行9262  9262\n",
       "..       ...              ...   ...\n",
       "614     6604             勘探费用   NaN\n",
       "615     6701           资产减值损失   NaN\n",
       "616     6711            营业外支出   NaN\n",
       "617     6801            所得税费用   NaN\n",
       "618     6901         以前年度损益调整   NaN\n",
       "\n",
       "[619 rows x 3 columns]"
      ]
     },
     "execution_count": 10,
     "metadata": {},
     "output_type": "execute_result"
    }
   ],
   "source": [
    "df01['科目编码'] = df01['科目编码'].astype('string')\n",
    "df01"
   ]
  },
  {
   "cell_type": "code",
   "execution_count": 13,
   "id": "d7d59f2b-069f-43ac-9e78-1f9b7a7d2259",
   "metadata": {},
   "outputs": [
    {
     "data": {
      "text/plain": [
       "科目编码    string[python]\n",
       "科目名称            object\n",
       "助记码             object\n",
       "dtype: object"
      ]
     },
     "execution_count": 13,
     "metadata": {},
     "output_type": "execute_result"
    }
   ],
   "source": [
    "df01.dtypes"
   ]
  },
  {
   "cell_type": "code",
   "execution_count": null,
   "id": "ec93fb77-b33a-4b77-bc9f-7e19ccb87c67",
   "metadata": {},
   "outputs": [],
   "source": []
  }
 ],
 "metadata": {
  "kernelspec": {
   "display_name": "Python 3 (ipykernel)",
   "language": "python",
   "name": "python3"
  },
  "language_info": {
   "codemirror_mode": {
    "name": "ipython",
    "version": 3
   },
   "file_extension": ".py",
   "mimetype": "text/x-python",
   "name": "python",
   "nbconvert_exporter": "python",
   "pygments_lexer": "ipython3",
   "version": "3.11.5"
  }
 },
 "nbformat": 4,
 "nbformat_minor": 5
}
