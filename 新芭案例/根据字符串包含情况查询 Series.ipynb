{
 "cells": [
  {
   "cell_type": "code",
   "execution_count": 2,
   "id": "54bfbc65-f363-4ae3-b6d5-aa00be4e23ae",
   "metadata": {},
   "outputs": [
    {
     "data": {
      "text/plain": [
       "0    ab\n",
       "1    bc\n",
       "2     d\n",
       "3    cc\n",
       "4     b\n",
       "dtype: object"
      ]
     },
     "execution_count": 2,
     "metadata": {},
     "output_type": "execute_result"
    }
   ],
   "source": [
    "import pandas as pd\n",
    "\n",
    "ser = pd.Series(['ab', 'bc', 'd', 'cc','b'])\n",
    "ser"
   ]
  },
  {
   "cell_type": "code",
   "execution_count": 8,
   "id": "b86371e6-3f86-40dc-b4e1-faa89ad81fa5",
   "metadata": {},
   "outputs": [
    {
     "data": {
      "text/plain": [
       "1    bc\n",
       "dtype: object"
      ]
     },
     "execution_count": 8,
     "metadata": {},
     "output_type": "execute_result"
    }
   ],
   "source": [
    "# 字符串为 bc 的数据\n",
    "ser[ser == 'bc']"
   ]
  },
  {
   "cell_type": "code",
   "execution_count": 6,
   "id": "733b3ed0-e7a2-4a9a-a462-fe7af74d89de",
   "metadata": {},
   "outputs": [
    {
     "data": {
      "text/plain": [
       "1    bc\n",
       "2     d\n",
       "dtype: object"
      ]
     },
     "execution_count": 6,
     "metadata": {},
     "output_type": "execute_result"
    }
   ],
   "source": [
    "# 字符串为 bc 或者 d 的数据\n",
    "ser[ser.isin(['bc', 'd'])]"
   ]
  },
  {
   "cell_type": "code",
   "execution_count": 7,
   "id": "4a8ad6bb-19af-4714-9b5a-a07e62aa4687",
   "metadata": {},
   "outputs": [
    {
     "data": {
      "text/plain": [
       "1    bc\n",
       "2     d\n",
       "dtype: object"
      ]
     },
     "execution_count": 7,
     "metadata": {},
     "output_type": "execute_result"
    }
   ],
   "source": [
    "# 字符串为 bc 或者 d 的数据\n",
    "ser[(ser=='bc') | (ser=='d')]"
   ]
  },
  {
   "cell_type": "code",
   "execution_count": 5,
   "id": "1891e6d9-a8c8-42ac-bbd0-925e91a814e0",
   "metadata": {},
   "outputs": [
    {
     "data": {
      "text/plain": [
       "0    ab\n",
       "1    bc\n",
       "4     b\n",
       "dtype: object"
      ]
     },
     "execution_count": 5,
     "metadata": {},
     "output_type": "execute_result"
    }
   ],
   "source": [
    "# 字符串包含 b 的数据\n",
    "ser[ser.str.contains('b')]"
   ]
  },
  {
   "cell_type": "code",
   "execution_count": null,
   "id": "d3fa85b3-f92f-4f88-819a-b2a577946d34",
   "metadata": {},
   "outputs": [],
   "source": []
  }
 ],
 "metadata": {
  "kernelspec": {
   "display_name": "Python 3 (ipykernel)",
   "language": "python",
   "name": "python3"
  },
  "language_info": {
   "codemirror_mode": {
    "name": "ipython",
    "version": 3
   },
   "file_extension": ".py",
   "mimetype": "text/x-python",
   "name": "python",
   "nbconvert_exporter": "python",
   "pygments_lexer": "ipython3",
   "version": "3.11.5"
  }
 },
 "nbformat": 4,
 "nbformat_minor": 5
}
