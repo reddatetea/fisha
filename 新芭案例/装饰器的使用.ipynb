{
 "cells": [
  {
   "cell_type": "code",
   "execution_count": 1,
   "metadata": {},
   "outputs": [
    {
     "name": "stdout",
     "output_type": "stream",
     "text": [
      "add used 0.0\n",
      "13\n"
     ]
    }
   ],
   "source": [
    "import time\n",
    "\n",
    "def timer(func):\n",
    " '''统计函数运行时间的装饰器'''\n",
    " def wrapper(*args, **kwargs):\n",
    "  start = time.time()\n",
    "  ret_value = func(*args, **kwargs)\n",
    "  end = time.time()\n",
    "  used = end - start\n",
    "  print(f'{func.__name__} used {used}')\n",
    "  return ret_value\n",
    " return wrapper\n",
    "\n",
    "@timer\n",
    "def add(num1, num2):\n",
    " return num1 + num2\n",
    "\n",
    "sum = add(5, 8)\n",
    "print(sum)"
   ]
  },
  {
   "cell_type": "code",
   "execution_count": 2,
   "metadata": {},
   "outputs": [
    {
     "name": "stdout",
     "output_type": "stream",
     "text": [
      "add:(1, 3), {}\n",
      "return: 4\n",
      "add:(2, 3), {}\n",
      "return: 5\n",
      "add:(4, 3), {}\n",
      "return: 7\n"
     ]
    },
    {
     "data": {
      "text/plain": [
       "7"
      ]
     },
     "execution_count": 2,
     "metadata": {},
     "output_type": "execute_result"
    }
   ],
   "source": [
    "def debug(func):\n",
    "    def wrapper_debug(*args, **kwargs):\n",
    "        print(f'{func.__name__}:{args}, {kwargs}')\n",
    "        ret_val = func(*args, **kwargs)\n",
    "        print(f'return: {ret_val}')\n",
    "        return ret_val\n",
    "    return wrapper_debug\n",
    "\n",
    "@debug\n",
    "def add(a, b):\n",
    "    return a + b\n",
    "\n",
    "add(1, 3)\n",
    "add(2, 3)\n",
    "add(4, 3)"
   ]
  },
  {
   "cell_type": "code",
   "execution_count": 3,
   "metadata": {},
   "outputs": [
    {
     "name": "stdout",
     "output_type": "stream",
     "text": [
      "add sleeping 2 second\n"
     ]
    },
    {
     "data": {
      "text/plain": [
       "4"
      ]
     },
     "execution_count": 3,
     "metadata": {},
     "output_type": "execute_result"
    }
   ],
   "source": [
    "import time \n",
    "\n",
    "def slow(seconds):\n",
    "    def decorator_slow(func):\n",
    "        def wrapper_slow(*args, **kwargs):\n",
    "            print(f'{func.__name__} sleeping {seconds} second')\n",
    "            time.sleep(seconds)\n",
    "            ret_val = func(*args, **kwargs)\n",
    "            return ret_val\n",
    "        return wrapper_slow\n",
    "    return decorator_slow\n",
    "\n",
    "\n",
    "#添加装饰器的时候可以传入要放慢几秒的参数。\n",
    "@slow(2)\n",
    "def add(a, b):\n",
    "    return a + b\n",
    "\n",
    "#执行此行会停顿2秒\n",
    "add(1, 3)"
   ]
  },
  {
   "cell_type": "code",
   "execution_count": 4,
   "metadata": {},
   "outputs": [
    {
     "name": "stdout",
     "output_type": "stream",
     "text": [
      "跑步有利于身体健康，来一圈\n",
      "跑步有利于身体健康，来一圈\n",
      "跑步有利于身体健康，来一圈\n"
     ]
    }
   ],
   "source": [
    "def repeat(nums=3):\n",
    "    def decorator_repeat(func):\n",
    "        def wrapper_repeat(*args, **kwargs):\n",
    "            for _ in range(nums):\n",
    "                func(*args, **kwargs)\n",
    "        return wrapper_repeat\n",
    "    return decorator_repeat\n",
    "\n",
    "@repeat(3)\n",
    "def run():\n",
    "    print('跑步有利于身体健康，来一圈')\n",
    "\n",
    "#这里会重复执行3次\n",
    "run()"
   ]
  },
  {
   "cell_type": "code",
   "execution_count": 1,
   "metadata": {},
   "outputs": [
    {
     "name": "stdout",
     "output_type": "stream",
     "text": [
      "add:(1, 3), {}\n",
      "return: 4\n",
      "add:(2, 3), {}\n",
      "return: 5\n",
      "add:(4, 3), {}\n",
      "return: 7\n"
     ]
    },
    {
     "data": {
      "text/plain": [
       "7"
      ]
     },
     "execution_count": 1,
     "metadata": {},
     "output_type": "execute_result"
    }
   ],
   "source": [
    "def debug(func):\n",
    "    def wrapper_debug(*args, **kwargs):\n",
    "        print(f'{func.__name__}:{args}, {kwargs}')\n",
    "        ret_val = func(*args, **kwargs)\n",
    "        print(f'return: {ret_val}')\n",
    "        return ret_val\n",
    "    return wrapper_debug\n",
    "\n",
    "@debug\n",
    "def add(a, b):\n",
    "    return a + b\n",
    "\n",
    "add(1, 3)\n",
    "add(2, 3)\n",
    "add(4, 3)"
   ]
  },
  {
   "cell_type": "code",
   "execution_count": 4,
   "metadata": {},
   "outputs": [
    {
     "name": "stdout",
     "output_type": "stream",
     "text": [
      "add sleeping 1 second\n"
     ]
    },
    {
     "data": {
      "text/plain": [
       "4"
      ]
     },
     "execution_count": 4,
     "metadata": {},
     "output_type": "execute_result"
    }
   ],
   "source": [
    "#让程序慢一点的装饰器\n",
    "import time \n",
    "\n",
    "def slow(func):\n",
    "    def wrapper_slow(*args, **kwargs):\n",
    "        print(f'{func.__name__} sleeping 60 second')\n",
    "        time.sleep(60)\n",
    "        ret_val = func(*args, **kwargs)\n",
    "        return ret_val\n",
    "    return wrapper_slow\n",
    "\n",
    "\n",
    "@slow\n",
    "def add(a, b):\n",
    "    return a + b\n",
    "\n",
    "add(1, 3)"
   ]
  },
  {
   "cell_type": "markdown",
   "metadata": {},
   "source": [
    "#装饰器模板\n",
    "def decorator(func):\n",
    "    def wrapper_decorator(*args, **kwargs):\n",
    "        #调用前操作\n",
    "        ret_val = func(*args, **kwargs)\n",
    "        #调用后操作\n",
    "        return ret_val\n",
    "    return wrapper_decorator"
   ]
  },
  {
   "cell_type": "code",
   "execution_count": 7,
   "metadata": {},
   "outputs": [
    {
     "name": "stdout",
     "output_type": "stream",
     "text": [
      "add sleeping 2 second\n"
     ]
    },
    {
     "data": {
      "text/plain": [
       "4"
      ]
     },
     "execution_count": 7,
     "metadata": {},
     "output_type": "execute_result"
    }
   ],
   "source": [
    "#装饰器加参数，要让装饰器接受参数，需要在普通装饰器的外面再套上一层\n",
    "import time \n",
    "\n",
    "def slow(seconds):\n",
    "    def decorator_slow(func):\n",
    "        def wrapper_slow(*args, **kwargs):\n",
    "            print(f'{func.__name__} sleeping {seconds} second')\n",
    "            time.sleep(seconds)\n",
    "            ret_val = func(*args, **kwargs)\n",
    "            return ret_val\n",
    "        return wrapper_slow\n",
    "    return decorator_slow\n",
    "\n",
    "\n",
    "#添加装饰器的时候可以传入要放慢几秒的参数。@slow(2)def add(a, b):\n",
    "    return a + b\n",
    "\n",
    "#执行此行会停顿2秒\n",
    "@slow(2)\n",
    "def add(a, b):\n",
    "    return a + b\n",
    "\n",
    "add(1, 3)\n"
   ]
  },
  {
   "cell_type": "code",
   "execution_count": 9,
   "metadata": {},
   "outputs": [
    {
     "name": "stdout",
     "output_type": "stream",
     "text": [
      "跑步有利于身体健康，来一圈\n",
      "跑步有利于身体健康，来一圈\n",
      "跑步有利于身体健康，来一圈\n",
      "跑步有利于身体健康，来一圈\n",
      "跑步有利于身体健康，来一圈\n",
      "跑步有利于身体健康，来一圈\n"
     ]
    }
   ],
   "source": [
    "def repeat(nums=3):\n",
    "    def decorator_repeat(func):\n",
    "        def wrapper_repeat(*args, **kwargs):\n",
    "            for _ in range(nums):\n",
    "                func(*args, **kwargs)\n",
    "        return wrapper_repeat\n",
    "    return decorator_repeat\n",
    "\n",
    "@repeat(6)\n",
    "def run():\n",
    "    print('跑步有利于身体健康，来一圈')\n",
    "\n",
    "#这里会重复执行3次\n",
    "run()"
   ]
  },
  {
   "cell_type": "code",
   "execution_count": 10,
   "metadata": {},
   "outputs": [
    {
     "name": "stdout",
     "output_type": "stream",
     "text": [
      "Counter sleeping 1 second\n",
      "visiting: 1\n",
      "visiting: 2\n",
      "Counter sleeping 1 second\n",
      "visiting: 1\n",
      "visiting: 2\n"
     ]
    }
   ],
   "source": [
    "#类装饰器实际上装饰的是类的初始化方法。只有初始化的时候会装饰一次\n",
    "def slow(func):\n",
    "    def wrapper_slow(*args, **kwargs):\n",
    "        print(f'{func.__name__} sleeping 1 second')\n",
    "        time.sleep(1)\n",
    "        ret_val = func(*args, **kwargs)\n",
    "        return ret_val\n",
    "    return wrapper_slow\n",
    "\n",
    "@slow\n",
    "class Counter():\n",
    "    def __init__(self):\n",
    "        self._count = 0\n",
    "    \n",
    "    def visit(self):\n",
    "        self._count += 1\n",
    "        print(f'visiting: {self._count}')\n",
    "\n",
    "c1 = Counter()\n",
    "c1.visit()\n",
    "c1.visit()\n",
    "\n",
    "c2 = Counter()\n",
    "c2.visit()\n",
    "c2.visit()"
   ]
  },
  {
   "cell_type": "code",
   "execution_count": 11,
   "metadata": {},
   "outputs": [
    {
     "ename": "AttributeError",
     "evalue": "'function' object has no attribute 'instance'",
     "output_type": "error",
     "traceback": [
      "\u001b[1;31m---------------------------------------------------------------------------\u001b[0m",
      "\u001b[1;31mAttributeError\u001b[0m                            Traceback (most recent call last)",
      "Input \u001b[1;32mIn [11]\u001b[0m, in \u001b[0;36m<cell line: 21>\u001b[1;34m()\u001b[0m\n\u001b[0;32m     17\u001b[0m         \u001b[38;5;28mself\u001b[39m\u001b[38;5;241m.\u001b[39m_count \u001b[38;5;241m+\u001b[39m\u001b[38;5;241m=\u001b[39m \u001b[38;5;241m1\u001b[39m\n\u001b[0;32m     18\u001b[0m         \u001b[38;5;28mprint\u001b[39m(\u001b[38;5;124mf\u001b[39m\u001b[38;5;124m'\u001b[39m\u001b[38;5;124mvisiting: \u001b[39m\u001b[38;5;132;01m{\u001b[39;00m\u001b[38;5;28mself\u001b[39m\u001b[38;5;241m.\u001b[39m_count\u001b[38;5;132;01m}\u001b[39;00m\u001b[38;5;124m'\u001b[39m)\n\u001b[1;32m---> 21\u001b[0m c1 \u001b[38;5;241m=\u001b[39m \u001b[43mCounter\u001b[49m\u001b[43m(\u001b[49m\u001b[43m)\u001b[49m\n\u001b[0;32m     22\u001b[0m c1\u001b[38;5;241m.\u001b[39mvisit()\n\u001b[0;32m     23\u001b[0m c1\u001b[38;5;241m.\u001b[39mvisit()\n",
      "Input \u001b[1;32mIn [11]\u001b[0m, in \u001b[0;36msingleton.<locals>.single_wrapper\u001b[1;34m(*args, **kwargs)\u001b[0m\n\u001b[0;32m      4\u001b[0m \u001b[38;5;28;01mdef\u001b[39;00m \u001b[38;5;21msingle_wrapper\u001b[39m(\u001b[38;5;241m*\u001b[39margs, \u001b[38;5;241m*\u001b[39m\u001b[38;5;241m*\u001b[39mkwargs):\n\u001b[1;32m----> 5\u001b[0m    \u001b[38;5;28;01mif\u001b[39;00m \u001b[38;5;129;01mnot\u001b[39;00m \u001b[43msingle_wrapper\u001b[49m\u001b[38;5;241;43m.\u001b[39;49m\u001b[43minstance\u001b[49m:\n\u001b[0;32m      6\u001b[0m       single_wrapper\u001b[38;5;241m.\u001b[39minstance \u001b[38;5;241m=\u001b[39m \u001b[38;5;28mcls\u001b[39m(\u001b[38;5;241m*\u001b[39margs, \u001b[38;5;241m*\u001b[39m\u001b[38;5;241m*\u001b[39mkwargs)\n\u001b[0;32m      7\u001b[0m    \u001b[38;5;28;01mreturn\u001b[39;00m single_wrapper\u001b[38;5;241m.\u001b[39minstance\n",
      "\u001b[1;31mAttributeError\u001b[0m: 'function' object has no attribute 'instance'"
     ]
    }
   ],
   "source": [
    "#用装饰器实现单例模式\n",
    "def singleton(cls):\n",
    " '''创建一个单例模式'''\n",
    " def single_wrapper(*args, **kwargs):\n",
    "    if not single_wrapper.instance:\n",
    "       single_wrapper.instance = cls(*args, **kwargs)\n",
    "    return single_wrapper.instance\n",
    "    single_wrapper.instance = None\n",
    " return single_wrapper\n",
    "\n",
    "@singleton\n",
    "class Counter():\n",
    "    def __init__(self):\n",
    "        self._count = 0\n",
    "\n",
    "    def visit(self):\n",
    "        self._count += 1\n",
    "        print(f'visiting: {self._count}')\n",
    "\n",
    "\n",
    "c1 = Counter()\n",
    "c1.visit()\n",
    "c1.visit()\n",
    "\n",
    "c2 = Counter()\n",
    "c2.visit()\n",
    "c2.visit()"
   ]
  },
  {
   "cell_type": "markdown",
   "metadata": {},
   "source": [
    "#用装饰器实现单例模式模板\n",
    "def singleton(cls):\n",
    " '''创建一个单例模式'''\n",
    " def single_wrapper(*args, **kwargs):\n",
    "    #如果没有实例，则创建实例\n",
    "  if not single_wrapper.instance:\n",
    "   single_wrapper.instance = cls(*args, **kwargs)\n",
    "  #返回原来的实例，或者新的实例\n",
    "    return single_wrapper.instance\n",
    "  #给新创建的函数添加一个属性保存实例\n",
    " single_wrapper.instance = None\n",
    " return single_wrapper"
   ]
  },
  {
   "cell_type": "code",
   "execution_count": 12,
   "metadata": {},
   "outputs": [
    {
     "name": "stdout",
     "output_type": "stream",
     "text": [
      "run：第1次调用\n",
      "跑步有利于身体健康，来一圈\n",
      "run：第2次调用\n",
      "跑步有利于身体健康，来一圈\n",
      "run：第3次调用\n",
      "跑步有利于身体健康，来一圈\n"
     ]
    }
   ],
   "source": [
    "def count(func):\n",
    "    def wrapper_count():\n",
    "        wrapper_count.count += 1\n",
    "        print(f'{func.__name__}：第{wrapper_count.count}次调用')\n",
    "        func()\n",
    "    wrapper_count.count = 0\n",
    "    return wrapper_count\n",
    "\n",
    "@count\n",
    "def run():\n",
    "    print('跑步有利于身体健康，来一圈')\n",
    "\n",
    "run()\n",
    "run()\n",
    "run()"
   ]
  },
  {
   "cell_type": "code",
   "execution_count": 16,
   "metadata": {},
   "outputs": [
    {
     "name": "stdout",
     "output_type": "stream",
     "text": [
      "wrapper sleeping 3 second\n",
      "跑步有利于身体健康，来一圈\n",
      "run used 0.00026208799999949406\n"
     ]
    }
   ],
   "source": [
    "#多个装饰器嵌套\n",
    "import time\n",
    "\n",
    "def slow(seconds=3):\n",
    "    def decorator_slow(func):\n",
    "        def wrapper_slow(*args, **kwargs):\n",
    "            print(f'{func.__name__} sleeping {seconds} second')\n",
    "            time.sleep(seconds)\n",
    "            ret_val = func(*args, **kwargs)\n",
    "            return ret_val\n",
    "        return wrapper_slow\n",
    "    return decorator_slow\n",
    "\n",
    "def timer(func):\n",
    " def wrapper():\n",
    "    start_time = time.perf_counter()\n",
    "    func()\n",
    "    end_time = time.perf_counter()\n",
    "    used_time = end_time - start_time\n",
    "    print(f'{func.__name__} used {used_time}')\n",
    " return wrapper\n",
    "\n",
    "def run():\n",
    "    print('跑步有利于身体健康，来一圈')\n",
    "\n",
    "@slow(3)\n",
    "@timer\n",
    "def run():\n",
    "    print('跑步有利于身体健康，来一圈')\n",
    "\n",
    "run()"
   ]
  },
  {
   "cell_type": "code",
   "execution_count": null,
   "metadata": {},
   "outputs": [],
   "source": []
  }
 ],
 "metadata": {
  "kernelspec": {
   "display_name": "Python 3 (ipykernel)",
   "language": "python",
   "name": "python3"
  },
  "language_info": {
   "codemirror_mode": {
    "name": "ipython",
    "version": 3
   },
   "file_extension": ".py",
   "mimetype": "text/x-python",
   "name": "python",
   "nbconvert_exporter": "python",
   "pygments_lexer": "ipython3",
   "version": "3.8.3"
  }
 },
 "nbformat": 4,
 "nbformat_minor": 4
}
