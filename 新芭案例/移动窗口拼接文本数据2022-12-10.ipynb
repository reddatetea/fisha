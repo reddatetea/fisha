{
 "cells": [
  {
   "cell_type": "code",
   "execution_count": 1,
   "id": "dd675070",
   "metadata": {},
   "outputs": [],
   "source": [
    "from io import StringIO\n",
    "import pandas as pd\n",
    "\n",
    "data = '''\n",
    "原始数据\n",
    "新股，石油气\n",
    "拟收购，新能源，医药\n",
    "军工，业绩预增\n",
    "乡村振兴，有色\n",
    "医药，军工\n",
    "物流，环保，芯片\n",
    "高送转，妖股\n",
    "中标，工业4.0\n",
    "消费，金融，券商\n",
    "5G，汽车，国资，房地产\n",
    "'''"
   ]
  },
  {
   "cell_type": "code",
   "execution_count": 2,
   "id": "1574af31",
   "metadata": {},
   "outputs": [
    {
     "data": {
      "text/html": [
       "<div>\n",
       "<style scoped>\n",
       "    .dataframe tbody tr th:only-of-type {\n",
       "        vertical-align: middle;\n",
       "    }\n",
       "\n",
       "    .dataframe tbody tr th {\n",
       "        vertical-align: top;\n",
       "    }\n",
       "\n",
       "    .dataframe thead th {\n",
       "        text-align: right;\n",
       "    }\n",
       "</style>\n",
       "<table border=\"1\" class=\"dataframe\">\n",
       "  <thead>\n",
       "    <tr style=\"text-align: right;\">\n",
       "      <th></th>\n",
       "      <th>原始数据</th>\n",
       "    </tr>\n",
       "  </thead>\n",
       "  <tbody>\n",
       "    <tr>\n",
       "      <th>0</th>\n",
       "      <td>新股，石油气</td>\n",
       "    </tr>\n",
       "    <tr>\n",
       "      <th>1</th>\n",
       "      <td>拟收购，新能源，医药</td>\n",
       "    </tr>\n",
       "    <tr>\n",
       "      <th>2</th>\n",
       "      <td>军工，业绩预增</td>\n",
       "    </tr>\n",
       "    <tr>\n",
       "      <th>3</th>\n",
       "      <td>乡村振兴，有色</td>\n",
       "    </tr>\n",
       "    <tr>\n",
       "      <th>4</th>\n",
       "      <td>医药，军工</td>\n",
       "    </tr>\n",
       "    <tr>\n",
       "      <th>5</th>\n",
       "      <td>物流，环保，芯片</td>\n",
       "    </tr>\n",
       "    <tr>\n",
       "      <th>6</th>\n",
       "      <td>高送转，妖股</td>\n",
       "    </tr>\n",
       "    <tr>\n",
       "      <th>7</th>\n",
       "      <td>中标，工业4.0</td>\n",
       "    </tr>\n",
       "    <tr>\n",
       "      <th>8</th>\n",
       "      <td>消费，金融，券商</td>\n",
       "    </tr>\n",
       "    <tr>\n",
       "      <th>9</th>\n",
       "      <td>5G，汽车，国资，房地产</td>\n",
       "    </tr>\n",
       "  </tbody>\n",
       "</table>\n",
       "</div>"
      ],
      "text/plain": [
       "           原始数据\n",
       "0        新股，石油气\n",
       "1    拟收购，新能源，医药\n",
       "2       军工，业绩预增\n",
       "3       乡村振兴，有色\n",
       "4         医药，军工\n",
       "5      物流，环保，芯片\n",
       "6        高送转，妖股\n",
       "7      中标，工业4.0\n",
       "8      消费，金融，券商\n",
       "9  5G，汽车，国资，房地产"
      ]
     },
     "execution_count": 2,
     "metadata": {},
     "output_type": "execute_result"
    }
   ],
   "source": [
    "df = pd.read_csv(StringIO(data))\n",
    "df"
   ]
  },
  {
   "cell_type": "code",
   "execution_count": 3,
   "id": "dbe308df",
   "metadata": {},
   "outputs": [
    {
     "data": {
      "text/plain": [
       "Rolling [window=3,center=False,axis=0,method=single]"
      ]
     },
     "execution_count": 3,
     "metadata": {},
     "output_type": "execute_result"
    }
   ],
   "source": [
    "df.原始数据.rolling(3)"
   ]
  },
  {
   "cell_type": "code",
   "execution_count": 5,
   "id": "0e6fdb15",
   "metadata": {},
   "outputs": [
    {
     "data": {
      "text/plain": [
       "0                            新股，石油气\n",
       "1                 新股，石油气，拟收购，新能源，医药\n",
       "2         新股，石油气，拟收购，新能源，医药，军工，业绩预增\n",
       "3        拟收购，新能源，医药，军工，业绩预增，乡村振兴，有色\n",
       "4             军工，业绩预增，乡村振兴，有色，医药，军工\n",
       "5            乡村振兴，有色，医药，军工，物流，环保，芯片\n",
       "6             医药，军工，物流，环保，芯片，高送转，妖股\n",
       "7          物流，环保，芯片，高送转，妖股，中标，工业4.0\n",
       "8          高送转，妖股，中标，工业4.0，消费，金融，券商\n",
       "9    中标，工业4.0，消费，金融，券商，5G，汽车，国资，房地产\n",
       "dtype: object"
      ]
     },
     "execution_count": 5,
     "metadata": {},
     "output_type": "execute_result"
    }
   ],
   "source": [
    "pd.Series(df.原始数据.rolling(3)).map('，'.join)"
   ]
  },
  {
   "cell_type": "code",
   "execution_count": 6,
   "id": "54c30944",
   "metadata": {},
   "outputs": [
    {
     "data": {
      "text/html": [
       "<div>\n",
       "<style scoped>\n",
       "    .dataframe tbody tr th:only-of-type {\n",
       "        vertical-align: middle;\n",
       "    }\n",
       "\n",
       "    .dataframe tbody tr th {\n",
       "        vertical-align: top;\n",
       "    }\n",
       "\n",
       "    .dataframe thead th {\n",
       "        text-align: right;\n",
       "    }\n",
       "</style>\n",
       "<table border=\"1\" class=\"dataframe\">\n",
       "  <thead>\n",
       "    <tr style=\"text-align: right;\">\n",
       "      <th></th>\n",
       "      <th>原始数据</th>\n",
       "      <th>新增数据</th>\n",
       "    </tr>\n",
       "  </thead>\n",
       "  <tbody>\n",
       "    <tr>\n",
       "      <th>0</th>\n",
       "      <td>新股，石油气</td>\n",
       "      <td>新股，石油气</td>\n",
       "    </tr>\n",
       "    <tr>\n",
       "      <th>1</th>\n",
       "      <td>拟收购，新能源，医药</td>\n",
       "      <td>新股，石油气，拟收购，新能源，医药</td>\n",
       "    </tr>\n",
       "    <tr>\n",
       "      <th>2</th>\n",
       "      <td>军工，业绩预增</td>\n",
       "      <td>新股，石油气，拟收购，新能源，医药，军工，业绩预增</td>\n",
       "    </tr>\n",
       "    <tr>\n",
       "      <th>3</th>\n",
       "      <td>乡村振兴，有色</td>\n",
       "      <td>拟收购，新能源，医药，军工，业绩预增，乡村振兴，有色</td>\n",
       "    </tr>\n",
       "    <tr>\n",
       "      <th>4</th>\n",
       "      <td>医药，军工</td>\n",
       "      <td>军工，业绩预增，乡村振兴，有色，医药，军工</td>\n",
       "    </tr>\n",
       "    <tr>\n",
       "      <th>5</th>\n",
       "      <td>物流，环保，芯片</td>\n",
       "      <td>乡村振兴，有色，医药，军工，物流，环保，芯片</td>\n",
       "    </tr>\n",
       "    <tr>\n",
       "      <th>6</th>\n",
       "      <td>高送转，妖股</td>\n",
       "      <td>医药，军工，物流，环保，芯片，高送转，妖股</td>\n",
       "    </tr>\n",
       "    <tr>\n",
       "      <th>7</th>\n",
       "      <td>中标，工业4.0</td>\n",
       "      <td>物流，环保，芯片，高送转，妖股，中标，工业4.0</td>\n",
       "    </tr>\n",
       "    <tr>\n",
       "      <th>8</th>\n",
       "      <td>消费，金融，券商</td>\n",
       "      <td>高送转，妖股，中标，工业4.0，消费，金融，券商</td>\n",
       "    </tr>\n",
       "    <tr>\n",
       "      <th>9</th>\n",
       "      <td>5G，汽车，国资，房地产</td>\n",
       "      <td>中标，工业4.0，消费，金融，券商，5G，汽车，国资，房地产</td>\n",
       "    </tr>\n",
       "  </tbody>\n",
       "</table>\n",
       "</div>"
      ],
      "text/plain": [
       "           原始数据                            新增数据\n",
       "0        新股，石油气                          新股，石油气\n",
       "1    拟收购，新能源，医药               新股，石油气，拟收购，新能源，医药\n",
       "2       军工，业绩预增       新股，石油气，拟收购，新能源，医药，军工，业绩预增\n",
       "3       乡村振兴，有色      拟收购，新能源，医药，军工，业绩预增，乡村振兴，有色\n",
       "4         医药，军工           军工，业绩预增，乡村振兴，有色，医药，军工\n",
       "5      物流，环保，芯片          乡村振兴，有色，医药，军工，物流，环保，芯片\n",
       "6        高送转，妖股           医药，军工，物流，环保，芯片，高送转，妖股\n",
       "7      中标，工业4.0        物流，环保，芯片，高送转，妖股，中标，工业4.0\n",
       "8      消费，金融，券商        高送转，妖股，中标，工业4.0，消费，金融，券商\n",
       "9  5G，汽车，国资，房地产  中标，工业4.0，消费，金融，券商，5G，汽车，国资，房地产"
      ]
     },
     "execution_count": 6,
     "metadata": {},
     "output_type": "execute_result"
    }
   ],
   "source": [
    "df.assign(新增数据=pd.Series(df.原始数据.rolling(3)).map('，'.join))"
   ]
  },
  {
   "cell_type": "code",
   "execution_count": null,
   "id": "47a2b946",
   "metadata": {},
   "outputs": [],
   "source": []
  }
 ],
 "metadata": {
  "kernelspec": {
   "display_name": "Python 3 (ipykernel)",
   "language": "python",
   "name": "python3"
  },
  "language_info": {
   "codemirror_mode": {
    "name": "ipython",
    "version": 3
   },
   "file_extension": ".py",
   "mimetype": "text/x-python",
   "name": "python",
   "nbconvert_exporter": "python",
   "pygments_lexer": "ipython3",
   "version": "3.9.12"
  }
 },
 "nbformat": 4,
 "nbformat_minor": 5
}
