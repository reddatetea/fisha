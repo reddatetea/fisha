{
 "cells": [
  {
   "cell_type": "code",
   "execution_count": 1,
   "id": "b1f4ede1",
   "metadata": {},
   "outputs": [],
   "source": [
    "import pandas as pd"
   ]
  },
  {
   "cell_type": "code",
   "execution_count": 2,
   "id": "f013bc20",
   "metadata": {},
   "outputs": [
    {
     "data": {
      "text/plain": [
       "{'乙企业':      栏目  7月份  前7个月\n",
       " 0  营业收入   30   192\n",
       " 1  营业成本   16    92\n",
       " 2  利润总额   28   200\n",
       " 3   所得税    2    14\n",
       " 4   净利润   52   372,\n",
       " '丙企业':      栏目  7月份  前7个月\n",
       " 0  营业收入   23   106\n",
       " 1  营业成本   10    54\n",
       " 2  利润总额   13    52\n",
       " 3   所得税    2     9\n",
       " 4   净利润   11    43,\n",
       " '甲企业':      栏目  7月份  前7个月\n",
       " 0  营业收入   15    96\n",
       " 1  营业成本    8    46\n",
       " 2  利润总额    7    50\n",
       " 3   所得税    1     7\n",
       " 4   净利润    6    43}"
      ]
     },
     "execution_count": 2,
     "metadata": {},
     "output_type": "execute_result"
    }
   ],
   "source": [
    "dfs = pd.read_excel('测试文件.xls',sheet_name = None)\n",
    "dfs"
   ]
  },
  {
   "cell_type": "code",
   "execution_count": 3,
   "id": "a0238f60",
   "metadata": {},
   "outputs": [],
   "source": [
    "with pd.ExcelWriter('test_file.xlsx') as writer:\n",
    "    for k,v in dfs.items():\n",
    "        v['company'] = k\n",
    "        v.to_excel(writer,sheet_name = k,index = None)\n",
    "        "
   ]
  },
  {
   "cell_type": "code",
   "execution_count": null,
   "id": "d77df243",
   "metadata": {},
   "outputs": [],
   "source": []
  }
 ],
 "metadata": {
  "kernelspec": {
   "display_name": "Python 3 (ipykernel)",
   "language": "python",
   "name": "python3"
  },
  "language_info": {
   "codemirror_mode": {
    "name": "ipython",
    "version": 3
   },
   "file_extension": ".py",
   "mimetype": "text/x-python",
   "name": "python",
   "nbconvert_exporter": "python",
   "pygments_lexer": "ipython3",
   "version": "3.9.12"
  }
 },
 "nbformat": 4,
 "nbformat_minor": 5
}
