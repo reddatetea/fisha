{
 "cells": [
  {
   "cell_type": "code",
   "execution_count": 2,
   "id": "84551617",
   "metadata": {},
   "outputs": [
    {
     "ename": "IndentationError",
     "evalue": "expected an indented block (22541946.py, line 3)",
     "output_type": "error",
     "traceback": [
      "\u001b[1;36m  Input \u001b[1;32mIn [2]\u001b[1;36m\u001b[0m\n\u001b[1;33m    except NameError as err:\u001b[0m\n\u001b[1;37m    ^\u001b[0m\n\u001b[1;31mIndentationError\u001b[0m\u001b[1;31m:\u001b[0m expected an indented block\n"
     ]
    }
   ],
   "source": [
    "try:        \n",
    "    # 程序运行的代码\n",
    "except NameError as err:        \n",
    "    # 只捕捉NameError的错误类型        \n",
    "    print('错误啦，错误信息是：', err)\n",
    "except Exception as err:        \n",
    "    # 捕捉全部的错误类型        \n",
    "    print('错误啦，错误信息是：', err)\n",
    "except:        # 捕捉全部的错误类型，但没有错误信息        \n",
    "    print('错误啦')\n",
    "else:        \n",
    "    print('如果没有异常就执行此处的代码')\n",
    "finally:        \n",
    "    print('不管是否有异常都会执行此处的代码')"
   ]
  },
  {
   "cell_type": "code",
   "execution_count": 3,
   "id": "a0350ee2",
   "metadata": {},
   "outputs": [
    {
     "name": "stdout",
     "output_type": "stream",
     "text": [
      "这是NameError错误，错误信息是： name 'Student' is not defined\n",
      "不管是否有异常都会执行此处的代码\n"
     ]
    }
   ],
   "source": [
    "if __name__ == '__main__':    \n",
    "    try:        \n",
    "        s = Student('Lucy')        \n",
    "        pass    \n",
    "    except NameError as err:        \n",
    "        print('这是NameError错误，错误信息是：', err)   \n",
    "    except Exception as err:        \n",
    "        print('这是Exception错误，错误信息是：', err)    \n",
    "    else:        \n",
    "        print('如果没有异常就执行此处的代码')    \n",
    "    finally:        \n",
    "        print('不管是否有异常都会执行此处的代码')"
   ]
  },
  {
   "cell_type": "code",
   "execution_count": 4,
   "id": "dadde762",
   "metadata": {},
   "outputs": [
    {
     "name": "stderr",
     "output_type": "stream",
     "text": [
      "Traceback (most recent call last):\n",
      "  File \"C:\\temp\\ipykernel_22104\\491852938.py\", line 6, in A\n",
      "    a = A()\n",
      "NameError: name 'A' is not defined\n"
     ]
    }
   ],
   "source": [
    "import traceback\n",
    "\n",
    "class A:    \n",
    "    pass\n",
    "    try:    \n",
    "        a = A()    \n",
    "        print(a.name)    \n",
    "        a.name = 10    \n",
    "        print(a.name)\n",
    "    except Exception as e:    \n",
    "        traceback.print_exc()"
   ]
  },
  {
   "cell_type": "code",
   "execution_count": 5,
   "id": "0d45c096",
   "metadata": {},
   "outputs": [
    {
     "name": "stdout",
     "output_type": "stream",
     "text": [
      "<class 'AttributeError'>\n",
      "'A' object has no attribute 'name'\n",
      "<traceback object at 0x000002B03599DF00>\n"
     ]
    }
   ],
   "source": [
    "import traceback\n",
    "import sys\n",
    "class A:    \n",
    "    pass\n",
    "    try:    \n",
    "        a = A()    \n",
    "        print(a.name)    \n",
    "        a.name = 10    \n",
    "        print(a.name)\n",
    "    except Exception as e:    \n",
    "        etype, value, tb = sys.exc_info()    \n",
    "        print(etype)    \n",
    "        print(value)    \n",
    "        print(tb)    \n",
    "        f = open('error.txt', 'w')    \n",
    "        traceback.print_exception(etype, value, tb, file=f)    \n",
    "        f.close()"
   ]
  },
  {
   "cell_type": "code",
   "execution_count": null,
   "id": "2857d406",
   "metadata": {},
   "outputs": [],
   "source": []
  }
 ],
 "metadata": {
  "kernelspec": {
   "display_name": "Python 3 (ipykernel)",
   "language": "python",
   "name": "python3"
  },
  "language_info": {
   "codemirror_mode": {
    "name": "ipython",
    "version": 3
   },
   "file_extension": ".py",
   "mimetype": "text/x-python",
   "name": "python",
   "nbconvert_exporter": "python",
   "pygments_lexer": "ipython3",
   "version": "3.9.12"
  }
 },
 "nbformat": 4,
 "nbformat_minor": 5
}
