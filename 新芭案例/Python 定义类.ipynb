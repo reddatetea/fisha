{
 "cells": [
  {
   "cell_type": "code",
   "execution_count": 1,
   "id": "42ee98c5",
   "metadata": {},
   "outputs": [],
   "source": [
    "class Car(object):\n",
    "    __price = 50 # 私有变量\n",
    "    speed = 120 # 公开变量\n",
    "\n",
    "    def sell(self):\n",
    "        return self.__price - 10\n"
   ]
  },
  {
   "cell_type": "code",
   "execution_count": 2,
   "id": "8ea35252",
   "metadata": {},
   "outputs": [
    {
     "data": {
      "text/plain": [
       "120"
      ]
     },
     "execution_count": 2,
     "metadata": {},
     "output_type": "execute_result"
    }
   ],
   "source": [
    "c = Car() # 实例化\n",
    "c.speed"
   ]
  },
  {
   "cell_type": "code",
   "execution_count": 4,
   "id": "9f8aa7c7",
   "metadata": {},
   "outputs": [
    {
     "data": {
      "text/plain": [
       "40"
      ]
     },
     "execution_count": 4,
     "metadata": {},
     "output_type": "execute_result"
    }
   ],
   "source": [
    "c.sell()"
   ]
  },
  {
   "cell_type": "code",
   "execution_count": 5,
   "id": "4dc9ba70",
   "metadata": {},
   "outputs": [
    {
     "data": {
      "text/plain": [
       "50"
      ]
     },
     "execution_count": 5,
     "metadata": {},
     "output_type": "execute_result"
    }
   ],
   "source": [
    "c._Car__price"
   ]
  },
  {
   "cell_type": "code",
   "execution_count": 6,
   "id": "98362c75",
   "metadata": {},
   "outputs": [],
   "source": [
    "class Student(object):\n",
    "    \"\"\"这是一个学生类\"\"\"\n",
    "    def __init__(self, name):\n",
    "        self.name = name\n",
    "\n",
    "    def say(self):\n",
    "        print(f'我的名字是：{self.name}')\n",
    "\n",
    "    def add(self, x, y):\n",
    "        print(f'这个加法我会，等于{x+y}')\n",
    "\n",
    "\n",
    "class CollegeStudent(Student):\n",
    "    def practice(self):\n",
    "        super().say()\n",
    "        super(CollegeStudent, self).add(1,5)"
   ]
  },
  {
   "cell_type": "code",
   "execution_count": 7,
   "id": "4d8d1b41",
   "metadata": {},
   "outputs": [],
   "source": [
    "lily = CollegeStudent('lily')"
   ]
  },
  {
   "cell_type": "code",
   "execution_count": 8,
   "id": "4b16d266",
   "metadata": {},
   "outputs": [
    {
     "name": "stdout",
     "output_type": "stream",
     "text": [
      "我的名字是：lily\n",
      "这个加法我会，等于6\n"
     ]
    }
   ],
   "source": [
    "lily.practice()"
   ]
  },
  {
   "cell_type": "code",
   "execution_count": 9,
   "id": "45ac4235",
   "metadata": {},
   "outputs": [],
   "source": [
    "class Father:\n",
    "    def __init__(self, money, house):\n",
    "        self.money = money\n",
    "        self.house = house\n",
    "        # 私有属性\n",
    "        self.__girl_friend = \"Cuihua\"\n",
    "\n",
    "    def operating_company(self):\n",
    "        print(\"李氏集团业绩平稳上升\")\n",
    "\n",
    "    # 私有方法\n",
    "    def __love(self):\n",
    "        print(f\"父亲年轻时与{self.__girl_friend}谈恋爱\")"
   ]
  },
  {
   "cell_type": "code",
   "execution_count": 13,
   "id": "785c3fbb",
   "metadata": {},
   "outputs": [
    {
     "data": {
      "text/plain": [
       "100"
      ]
     },
     "execution_count": 13,
     "metadata": {},
     "output_type": "execute_result"
    }
   ],
   "source": [
    "baba = Father(100,'wuzhong')\n",
    "baba.money\n",
    "\n"
   ]
  },
  {
   "cell_type": "code",
   "execution_count": 14,
   "id": "cbf7fe34",
   "metadata": {},
   "outputs": [
    {
     "data": {
      "text/plain": [
       "'wuzhong'"
      ]
     },
     "execution_count": 14,
     "metadata": {},
     "output_type": "execute_result"
    }
   ],
   "source": [
    "baba.house"
   ]
  },
  {
   "cell_type": "code",
   "execution_count": 21,
   "id": "d5a8e3bc",
   "metadata": {},
   "outputs": [
    {
     "data": {
      "text/plain": [
       "'Cuihua'"
      ]
     },
     "execution_count": 21,
     "metadata": {},
     "output_type": "execute_result"
    }
   ],
   "source": [
    "baba._Father__girl_friend"
   ]
  },
  {
   "cell_type": "code",
   "execution_count": 20,
   "id": "07635ffc",
   "metadata": {},
   "outputs": [
    {
     "name": "stdout",
     "output_type": "stream",
     "text": [
      "父亲年轻时与Cuihua谈恋爱\n"
     ]
    }
   ],
   "source": [
    "baba._Father__love()"
   ]
  },
  {
   "cell_type": "code",
   "execution_count": null,
   "id": "1144d602",
   "metadata": {},
   "outputs": [],
   "source": []
  }
 ],
 "metadata": {
  "kernelspec": {
   "display_name": "Python 3 (ipykernel)",
   "language": "python",
   "name": "python3"
  },
  "language_info": {
   "codemirror_mode": {
    "name": "ipython",
    "version": 3
   },
   "file_extension": ".py",
   "mimetype": "text/x-python",
   "name": "python",
   "nbconvert_exporter": "python",
   "pygments_lexer": "ipython3",
   "version": "3.8.3"
  }
 },
 "nbformat": 4,
 "nbformat_minor": 5
}
