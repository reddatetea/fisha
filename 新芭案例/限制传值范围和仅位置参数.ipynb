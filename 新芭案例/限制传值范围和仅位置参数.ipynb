{
 "cells": [
  {
   "cell_type": "code",
   "execution_count": 1,
   "id": "feed3ccd-4861-4749-ab9a-0f8c704d1dfc",
   "metadata": {},
   "outputs": [],
   "source": [
    "def get_keys(dtype, /, **kwargs):\n",
    "    # 判断参数传值的范围\n",
    "    if dtype not in (list, tuple, set):\n",
    "        raise ValueError('dtype 的必须是 list、tuple 或 set.')\n",
    "\n",
    "    data = dtype(kwargs.keys())\n",
    "\n",
    "    return data"
   ]
  },
  {
   "cell_type": "code",
   "execution_count": 2,
   "id": "6f09c5a3-c0cb-48d8-82f3-9a4321ac3955",
   "metadata": {},
   "outputs": [
    {
     "data": {
      "text/plain": [
       "['name', 'age', 'city']"
      ]
     },
     "execution_count": 2,
     "metadata": {},
     "output_type": "execute_result"
    }
   ],
   "source": [
    "# 示例用法\n",
    "get_keys(list, name='Alice', age=25, city='Wonderland')"
   ]
  },
  {
   "cell_type": "code",
   "execution_count": 3,
   "id": "cd2ca776-102a-4405-86d3-622c85e2983b",
   "metadata": {},
   "outputs": [
    {
     "data": {
      "text/plain": [
       "{'age', 'city', 'name'}"
      ]
     },
     "execution_count": 3,
     "metadata": {},
     "output_type": "execute_result"
    }
   ],
   "source": [
    "get_keys(set, name='Alice', age=25, city='Wonderland')\n",
    "# {'age', 'city', 'name'}"
   ]
  },
  {
   "cell_type": "code",
   "execution_count": 4,
   "id": "30353f4f-fccf-42fb-a89d-9b8dfe95353a",
   "metadata": {},
   "outputs": [
    {
     "data": {
      "text/plain": [
       "('name', 'age', 'city')"
      ]
     },
     "execution_count": 4,
     "metadata": {},
     "output_type": "execute_result"
    }
   ],
   "source": [
    "get_keys(tuple, name='Alice', age=25, city='Wonderland')\n",
    "# ('name', 'age', 'city')"
   ]
  },
  {
   "cell_type": "code",
   "execution_count": 5,
   "id": "84f6ec3b-23bf-4558-aee1-53b269c67614",
   "metadata": {},
   "outputs": [
    {
     "ename": "ValueError",
     "evalue": "dtype 的必须是 list、tuple 或 set.",
     "output_type": "error",
     "traceback": [
      "\u001b[1;31m---------------------------------------------------------------------------\u001b[0m",
      "\u001b[1;31mValueError\u001b[0m                                Traceback (most recent call last)",
      "Cell \u001b[1;32mIn[5], line 1\u001b[0m\n\u001b[1;32m----> 1\u001b[0m \u001b[43mget_keys\u001b[49m\u001b[43m(\u001b[49m\u001b[38;5;124;43m'\u001b[39;49m\u001b[38;5;124;43mjihe\u001b[39;49m\u001b[38;5;124;43m'\u001b[39;49m\u001b[43m,\u001b[49m\u001b[43m \u001b[49m\u001b[43mname\u001b[49m\u001b[38;5;241;43m=\u001b[39;49m\u001b[38;5;124;43m'\u001b[39;49m\u001b[38;5;124;43mAlice\u001b[39;49m\u001b[38;5;124;43m'\u001b[39;49m\u001b[43m,\u001b[49m\u001b[43m \u001b[49m\u001b[43mage\u001b[49m\u001b[38;5;241;43m=\u001b[39;49m\u001b[38;5;241;43m25\u001b[39;49m\u001b[43m,\u001b[49m\u001b[43m \u001b[49m\u001b[43mcity\u001b[49m\u001b[38;5;241;43m=\u001b[39;49m\u001b[38;5;124;43m'\u001b[39;49m\u001b[38;5;124;43mWonderland\u001b[39;49m\u001b[38;5;124;43m'\u001b[39;49m\u001b[43m)\u001b[49m\n",
      "Cell \u001b[1;32mIn[1], line 4\u001b[0m, in \u001b[0;36mget_keys\u001b[1;34m(dtype, **kwargs)\u001b[0m\n\u001b[0;32m      1\u001b[0m \u001b[38;5;28;01mdef\u001b[39;00m \u001b[38;5;21mget_keys\u001b[39m(dtype, \u001b[38;5;241m/\u001b[39m, \u001b[38;5;241m*\u001b[39m\u001b[38;5;241m*\u001b[39mkwargs):\n\u001b[0;32m      2\u001b[0m     \u001b[38;5;66;03m# 判断参数传值的范围\u001b[39;00m\n\u001b[0;32m      3\u001b[0m     \u001b[38;5;28;01mif\u001b[39;00m dtype \u001b[38;5;129;01mnot\u001b[39;00m \u001b[38;5;129;01min\u001b[39;00m (\u001b[38;5;28mlist\u001b[39m, \u001b[38;5;28mtuple\u001b[39m, \u001b[38;5;28mset\u001b[39m):\n\u001b[1;32m----> 4\u001b[0m         \u001b[38;5;28;01mraise\u001b[39;00m \u001b[38;5;167;01mValueError\u001b[39;00m(\u001b[38;5;124m'\u001b[39m\u001b[38;5;124mdtype 的必须是 list、tuple 或 set.\u001b[39m\u001b[38;5;124m'\u001b[39m)\n\u001b[0;32m      6\u001b[0m     data \u001b[38;5;241m=\u001b[39m dtype(kwargs\u001b[38;5;241m.\u001b[39mkeys())\n\u001b[0;32m      8\u001b[0m     \u001b[38;5;28;01mreturn\u001b[39;00m data\n",
      "\u001b[1;31mValueError\u001b[0m: dtype 的必须是 list、tuple 或 set."
     ]
    }
   ],
   "source": [
    "get_keys('jihe', name='Alice', age=25, city='Wonderland')"
   ]
  },
  {
   "cell_type": "code",
   "execution_count": 6,
   "id": "e2b43cf3-651d-4a0d-8e76-3e8019c2b404",
   "metadata": {},
   "outputs": [
    {
     "ename": "TypeError",
     "evalue": "get_keys() missing 1 required positional argument: 'dtype'",
     "output_type": "error",
     "traceback": [
      "\u001b[1;31m---------------------------------------------------------------------------\u001b[0m",
      "\u001b[1;31mTypeError\u001b[0m                                 Traceback (most recent call last)",
      "Cell \u001b[1;32mIn[6], line 1\u001b[0m\n\u001b[1;32m----> 1\u001b[0m \u001b[43mget_keys\u001b[49m\u001b[43m(\u001b[49m\u001b[43mdtype\u001b[49m\u001b[38;5;241;43m=\u001b[39;49m\u001b[38;5;28;43mset\u001b[39;49m\u001b[43m,\u001b[49m\u001b[43m \u001b[49m\u001b[43mname\u001b[49m\u001b[38;5;241;43m=\u001b[39;49m\u001b[38;5;124;43m'\u001b[39;49m\u001b[38;5;124;43mAlice\u001b[39;49m\u001b[38;5;124;43m'\u001b[39;49m\u001b[43m,\u001b[49m\u001b[43m \u001b[49m\u001b[43mage\u001b[49m\u001b[38;5;241;43m=\u001b[39;49m\u001b[38;5;241;43m25\u001b[39;49m\u001b[43m,\u001b[49m\u001b[43m \u001b[49m\u001b[43mcity\u001b[49m\u001b[38;5;241;43m=\u001b[39;49m\u001b[38;5;124;43m'\u001b[39;49m\u001b[38;5;124;43mWonderland\u001b[39;49m\u001b[38;5;124;43m'\u001b[39;49m\u001b[43m)\u001b[49m\n",
      "\u001b[1;31mTypeError\u001b[0m: get_keys() missing 1 required positional argument: 'dtype'"
     ]
    }
   ],
   "source": [
    "get_keys(dtype=set, name='Alice', age=25, city='Wonderland')"
   ]
  },
  {
   "cell_type": "code",
   "execution_count": 7,
   "id": "ee4b5424-dbbf-45e3-8169-2150696e3bb2",
   "metadata": {},
   "outputs": [],
   "source": [
    "def get_keys(dtype,  **kwargs):\n",
    "    # 判断参数传值的范围\n",
    "    if dtype not in (list, tuple, set):\n",
    "        raise ValueError('dtype 的必须是 list、tuple 或 set.')\n",
    "\n",
    "    data = dtype(kwargs.keys())\n",
    "\n",
    "    return data"
   ]
  },
  {
   "cell_type": "code",
   "execution_count": 8,
   "id": "9d1dd393-7ca5-4bb3-8a19-62a2fcd212be",
   "metadata": {},
   "outputs": [
    {
     "data": {
      "text/plain": [
       "['name', 'age', 'city']"
      ]
     },
     "execution_count": 8,
     "metadata": {},
     "output_type": "execute_result"
    }
   ],
   "source": [
    "get_keys(list, name='Alice', age=25, city='Wonderland')"
   ]
  },
  {
   "cell_type": "code",
   "execution_count": 9,
   "id": "b3c816d8-ad89-4a4d-b100-6013e6d24c85",
   "metadata": {},
   "outputs": [
    {
     "data": {
      "text/plain": [
       "{'age', 'city', 'name'}"
      ]
     },
     "execution_count": 9,
     "metadata": {},
     "output_type": "execute_result"
    }
   ],
   "source": [
    "get_keys(set, name='Alice', age=25, city='Wonderland')"
   ]
  },
  {
   "cell_type": "code",
   "execution_count": 10,
   "id": "050758cb-7aa7-48e4-94a3-b7dade841ceb",
   "metadata": {},
   "outputs": [
    {
     "data": {
      "text/plain": [
       "('name', 'age', 'city')"
      ]
     },
     "execution_count": 10,
     "metadata": {},
     "output_type": "execute_result"
    }
   ],
   "source": [
    "get_keys(tuple, name='Alice', age=25, city='Wonderland')"
   ]
  },
  {
   "cell_type": "code",
   "execution_count": 11,
   "id": "0c0c15bc-7b3f-4cc5-962b-8608ac98da2a",
   "metadata": {},
   "outputs": [
    {
     "ename": "ValueError",
     "evalue": "dtype 的必须是 list、tuple 或 set.",
     "output_type": "error",
     "traceback": [
      "\u001b[1;31m---------------------------------------------------------------------------\u001b[0m",
      "\u001b[1;31mValueError\u001b[0m                                Traceback (most recent call last)",
      "Cell \u001b[1;32mIn[11], line 1\u001b[0m\n\u001b[1;32m----> 1\u001b[0m \u001b[43mget_keys\u001b[49m\u001b[43m(\u001b[49m\u001b[38;5;124;43m'\u001b[39;49m\u001b[38;5;124;43mjihe\u001b[39;49m\u001b[38;5;124;43m'\u001b[39;49m\u001b[43m,\u001b[49m\u001b[43m \u001b[49m\u001b[43mname\u001b[49m\u001b[38;5;241;43m=\u001b[39;49m\u001b[38;5;124;43m'\u001b[39;49m\u001b[38;5;124;43mAlice\u001b[39;49m\u001b[38;5;124;43m'\u001b[39;49m\u001b[43m,\u001b[49m\u001b[43m \u001b[49m\u001b[43mage\u001b[49m\u001b[38;5;241;43m=\u001b[39;49m\u001b[38;5;241;43m25\u001b[39;49m\u001b[43m,\u001b[49m\u001b[43m \u001b[49m\u001b[43mcity\u001b[49m\u001b[38;5;241;43m=\u001b[39;49m\u001b[38;5;124;43m'\u001b[39;49m\u001b[38;5;124;43mWonderland\u001b[39;49m\u001b[38;5;124;43m'\u001b[39;49m\u001b[43m)\u001b[49m\n",
      "Cell \u001b[1;32mIn[7], line 4\u001b[0m, in \u001b[0;36mget_keys\u001b[1;34m(dtype, **kwargs)\u001b[0m\n\u001b[0;32m      1\u001b[0m \u001b[38;5;28;01mdef\u001b[39;00m \u001b[38;5;21mget_keys\u001b[39m(dtype,  \u001b[38;5;241m*\u001b[39m\u001b[38;5;241m*\u001b[39mkwargs):\n\u001b[0;32m      2\u001b[0m     \u001b[38;5;66;03m# 判断参数传值的范围\u001b[39;00m\n\u001b[0;32m      3\u001b[0m     \u001b[38;5;28;01mif\u001b[39;00m dtype \u001b[38;5;129;01mnot\u001b[39;00m \u001b[38;5;129;01min\u001b[39;00m (\u001b[38;5;28mlist\u001b[39m, \u001b[38;5;28mtuple\u001b[39m, \u001b[38;5;28mset\u001b[39m):\n\u001b[1;32m----> 4\u001b[0m         \u001b[38;5;28;01mraise\u001b[39;00m \u001b[38;5;167;01mValueError\u001b[39;00m(\u001b[38;5;124m'\u001b[39m\u001b[38;5;124mdtype 的必须是 list、tuple 或 set.\u001b[39m\u001b[38;5;124m'\u001b[39m)\n\u001b[0;32m      6\u001b[0m     data \u001b[38;5;241m=\u001b[39m dtype(kwargs\u001b[38;5;241m.\u001b[39mkeys())\n\u001b[0;32m      8\u001b[0m     \u001b[38;5;28;01mreturn\u001b[39;00m data\n",
      "\u001b[1;31mValueError\u001b[0m: dtype 的必须是 list、tuple 或 set."
     ]
    }
   ],
   "source": [
    "get_keys('jihe', name='Alice', age=25, city='Wonderland')"
   ]
  },
  {
   "cell_type": "code",
   "execution_count": 12,
   "id": "f39b7957-ba59-4d56-a174-514b14b73906",
   "metadata": {},
   "outputs": [
    {
     "data": {
      "text/plain": [
       "{'age', 'city', 'name'}"
      ]
     },
     "execution_count": 12,
     "metadata": {},
     "output_type": "execute_result"
    }
   ],
   "source": [
    "get_keys(dtype=set, name='Alice', age=25, city='Wonderland')"
   ]
  },
  {
   "cell_type": "code",
   "execution_count": null,
   "id": "d82f8afb-22b4-4413-aad0-7708d32ceefa",
   "metadata": {},
   "outputs": [],
   "source": []
  }
 ],
 "metadata": {
  "kernelspec": {
   "display_name": "Python 3 (ipykernel)",
   "language": "python",
   "name": "python3"
  },
  "language_info": {
   "codemirror_mode": {
    "name": "ipython",
    "version": 3
   },
   "file_extension": ".py",
   "mimetype": "text/x-python",
   "name": "python",
   "nbconvert_exporter": "python",
   "pygments_lexer": "ipython3",
   "version": "3.12.1"
  }
 },
 "nbformat": 4,
 "nbformat_minor": 5
}
