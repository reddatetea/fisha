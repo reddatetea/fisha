{
 "cells": [
  {
   "cell_type": "code",
   "execution_count": 1,
   "id": "bc5239c5-c2c5-4790-9e94-87c2679493ee",
   "metadata": {},
   "outputs": [
    {
     "ename": "ModuleNotFoundError",
     "evalue": "No module named 'formatPainter'",
     "output_type": "error",
     "traceback": [
      "\u001b[1;31m---------------------------------------------------------------------------\u001b[0m",
      "\u001b[1;31mModuleNotFoundError\u001b[0m                       Traceback (most recent call last)",
      "Cell \u001b[1;32mIn[1], line 11\u001b[0m\n\u001b[0;32m      9\u001b[0m \u001b[38;5;28;01mimport\u001b[39;00m \u001b[38;5;21;01mopenpyxl\u001b[39;00m\n\u001b[0;32m     10\u001b[0m \u001b[38;5;28;01mfrom\u001b[39;00m \u001b[38;5;21;01mopenpyxl\u001b[39;00m\u001b[38;5;21;01m.\u001b[39;00m\u001b[38;5;21;01mstyles\u001b[39;00m \u001b[38;5;28;01mimport\u001b[39;00m Font, Border, Side, Fill, Alignment\n\u001b[1;32m---> 11\u001b[0m \u001b[38;5;28;01mimport\u001b[39;00m \u001b[38;5;21;01mformatPainter\u001b[39;00m\n\u001b[0;32m     12\u001b[0m \u001b[38;5;28;01mimport\u001b[39;00m \u001b[38;5;21;01mre\u001b[39;00m\n\u001b[0;32m     14\u001b[0m dic \u001b[38;5;241m=\u001b[39m {\u001b[38;5;124m'\u001b[39m\u001b[38;5;124m010201\u001b[39m\u001b[38;5;124m'\u001b[39m: \u001b[38;5;124m'\u001b[39m\u001b[38;5;124m软抄\u001b[39m\u001b[38;5;124m'\u001b[39m,\n\u001b[0;32m     15\u001b[0m  \u001b[38;5;124m'\u001b[39m\u001b[38;5;124m010211\u001b[39m\u001b[38;5;124m'\u001b[39m: \u001b[38;5;124m'\u001b[39m\u001b[38;5;124m定制产品\u001b[39m\u001b[38;5;124m'\u001b[39m,\n\u001b[0;32m     16\u001b[0m  \u001b[38;5;124m'\u001b[39m\u001b[38;5;124m010213\u001b[39m\u001b[38;5;124m'\u001b[39m: \u001b[38;5;124m'\u001b[39m\u001b[38;5;124m软抄废次品\u001b[39m\u001b[38;5;124m'\u001b[39m,\n\u001b[1;32m   (...)\u001b[0m\n\u001b[0;32m     35\u001b[0m  \u001b[38;5;124m'\u001b[39m\u001b[38;5;124m010305\u001b[39m\u001b[38;5;124m'\u001b[39m: \u001b[38;5;124m'\u001b[39m\u001b[38;5;124m锐意美术本\u001b[39m\u001b[38;5;124m'\u001b[39m,\n\u001b[0;32m     36\u001b[0m  \u001b[38;5;124m'\u001b[39m\u001b[38;5;124m010601\u001b[39m\u001b[38;5;124m'\u001b[39m: \u001b[38;5;124m'\u001b[39m\u001b[38;5;124m电商美术本\u001b[39m\u001b[38;5;124m'\u001b[39m}\n",
      "\u001b[1;31mModuleNotFoundError\u001b[0m: No module named 'formatPainter'"
     ]
    }
   ],
   "source": [
    "'''\n",
    "根据产成品出入库流水账统计废纸房产品入库数量\n",
    "'''\n",
    "import os\n",
    "import datetime\n",
    "import easygui\n",
    "import numpy as np\n",
    "import pandas as pd\n",
    "import openpyxl\n",
    "from openpyxl.styles import Font, Border, Side, Fill, Alignment\n",
    "import formatPainter\n",
    "import re\n",
    "\n",
    "dic = {'010201': '软抄',\n",
    " '010211': '定制产品',\n",
    " '010213': '软抄废次品',\n",
    " '010212': '莱特牛皮缝线',\n",
    " '010301': '锐意缝线本',\n",
    " '010311': '文稿纸',\n",
    " '010303': '锐意软抄',\n",
    " '010308': '锐意专利作业本',\n",
    " '010304': '锐意专利牛皮本',\n",
    " '010309': '锐意处理产品',\n",
    " '010310': '锐意无线胶装',\n",
    " '010501': '新锐缝线',\n",
    " '010503': '新锐软抄',\n",
    " '010504': '新锐防近视',\n",
    " '010599': '新锐定制（原木）',\n",
    " '010598': '新锐处理产品',\n",
    " '010606': '电商缝线',\n",
    " '010607': '电商抄本',\n",
    " '010608': '定制台板缝线',\n",
    " '0107': '外贸',\n",
    " '010602': '备课本',\n",
    " '010305': '锐意美术本',\n",
    " '010601': '电商美术本'}\n",
    "\n",
    "col_lst = ['单据日期','业务类型','单据编号','单据类型','仓库','存货分类编码','存货分类','存货编码','存货','规格型号','入库数量',\n",
    " '入库数量2',\n",
    " '入库计量单位组合',\n",
    " '入库金额',\n",
    " '出库数量',\n",
    " '出库数量2']\n",
    "\n",
    "# fname = r\"F:\\a00nutstore\\008\\zw08\\废纸房\\出入库流水9.26-10.25导出数据.xlsx\"\n",
    "msg = '请点选出入库流水'\n",
    "fname = easygui.fileopenbox(msg)\n",
    "path,_ = os.path.split(fname)\n",
    "os.chdir(path)\n",
    "df = pd.read_excel(fname, skiprows = 7,dtype= {'Unnamed: 6':str})\n",
    "df = df.iloc[:, 1:]\n",
    "df.columns = col_lst\n",
    "df = df[~df['存货编码'].isnull()]\n",
    "df1 = df[['存货分类编码','存货编码','存货','规格型号','入库数量2']]\n",
    "df1\n",
    "\n",
    "\n",
    "\n",
    "\n"
   ]
  },
  {
   "cell_type": "code",
   "execution_count": null,
   "id": "751f32c4-b1c4-46ad-8c4c-e344628cc97b",
   "metadata": {},
   "outputs": [],
   "source": []
  },
  {
   "cell_type": "code",
   "execution_count": null,
   "id": "bb4929bf-0147-4ec0-8073-a7a32f7e99f6",
   "metadata": {},
   "outputs": [],
   "source": []
  },
  {
   "cell_type": "code",
   "execution_count": null,
   "id": "5216c108-5bba-4ab7-8051-136a6e01518a",
   "metadata": {
    "jupyter": {
     "source_hidden": true
    }
   },
   "outputs": [],
   "source": [
    "df2 = df1.assign(feipin = (\n",
    " df1['存货分类编码']\n",
    "    .str[:6]\n",
    "    # .map(lambda x:x.zfill(6))\n",
    "    .map(dic)\n",
    "))\n",
    "\n",
    "df3 = df2[~df2.feipin.isnull()]\n",
    "result = pd.pivot_table(df3,index = 'feipin',values = '入库数量2',aggfunc = 'sum')\n",
    "result.loc['合计','入库数量2'] = result['入库数量2'].sum()\n",
    "dic1 = {v:k for k,v in dic.items()}\n",
    "result = result.assign(biama = (\n",
    "    result.index\n",
    "    .map(dic1)\n",
    "))\n",
    "result = result.sort_values('biama')\n",
    "result = result[['入库数量2']]\n",
    "result.index.name = '产品大类'\n",
    "result.columns =  ['单位（件）']\n",
    "result.to_excel('废品入库数量.xlsx',index = True)\n",
    "os.startfile('废品入库数量.xlsx')\n",
    "\n",
    "\n"
   ]
  },
  {
   "cell_type": "code",
   "execution_count": null,
   "id": "05d945c5-e0d0-4a7e-a22b-e2b4bfdf29a1",
   "metadata": {},
   "outputs": [],
   "source": []
  }
 ],
 "metadata": {
  "kernelspec": {
   "display_name": "Python 3 (ipykernel)",
   "language": "python",
   "name": "python3"
  },
  "language_info": {
   "codemirror_mode": {
    "name": "ipython",
    "version": 3
   },
   "file_extension": ".py",
   "mimetype": "text/x-python",
   "name": "python",
   "nbconvert_exporter": "python",
   "pygments_lexer": "ipython3",
   "version": "3.11.8"
  }
 },
 "nbformat": 4,
 "nbformat_minor": 5
}
