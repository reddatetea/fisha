{
 "cells": [
  {
   "cell_type": "code",
   "execution_count": 1,
   "id": "0a73c346",
   "metadata": {},
   "outputs": [
    {
     "data": {
      "text/plain": [
       "'00042'"
      ]
     },
     "execution_count": 1,
     "metadata": {},
     "output_type": "execute_result"
    }
   ],
   "source": [
    " \"42\".zfill(5)"
   ]
  },
  {
   "cell_type": "code",
   "execution_count": 2,
   "id": "384146ac",
   "metadata": {},
   "outputs": [
    {
     "data": {
      "text/plain": [
       "'-0042'"
      ]
     },
     "execution_count": 2,
     "metadata": {},
     "output_type": "execute_result"
    }
   ],
   "source": [
    "\"-42\".zfill(5)"
   ]
  },
  {
   "cell_type": "code",
   "execution_count": 3,
   "id": "5be721f4",
   "metadata": {},
   "outputs": [
    {
     "data": {
      "text/plain": [
       "'aa'"
      ]
     },
     "execution_count": 3,
     "metadata": {},
     "output_type": "execute_result"
    }
   ],
   "source": [
    "'aa'.zfill(-1) # 负值不起作用"
   ]
  },
  {
   "cell_type": "code",
   "execution_count": 4,
   "id": "211e8539",
   "metadata": {},
   "outputs": [
    {
     "data": {
      "text/plain": [
       "'00aa'"
      ]
     },
     "execution_count": 4,
     "metadata": {},
     "output_type": "execute_result"
    }
   ],
   "source": [
    "'aa'.zfill(4)"
   ]
  },
  {
   "cell_type": "code",
   "execution_count": 5,
   "id": "6798618d",
   "metadata": {},
   "outputs": [
    {
     "data": {
      "text/plain": [
       "'-0aa'"
      ]
     },
     "execution_count": 5,
     "metadata": {},
     "output_type": "execute_result"
    }
   ],
   "source": [
    "'-aa'.zfill(4)"
   ]
  },
  {
   "cell_type": "code",
   "execution_count": 6,
   "id": "43594df1",
   "metadata": {},
   "outputs": [
    {
     "data": {
      "text/plain": [
       "'aaaa'"
      ]
     },
     "execution_count": 6,
     "metadata": {},
     "output_type": "execute_result"
    }
   ],
   "source": [
    "'aaaa'.zfill(0)\n"
   ]
  },
  {
   "cell_type": "code",
   "execution_count": 7,
   "id": "931cef09",
   "metadata": {},
   "outputs": [
    {
     "data": {
      "text/plain": [
       "'00aa'"
      ]
     },
     "execution_count": 7,
     "metadata": {},
     "output_type": "execute_result"
    }
   ],
   "source": [
    "'aa'.rjust(4, '0')   "
   ]
  },
  {
   "cell_type": "code",
   "execution_count": 8,
   "id": "0d116f37",
   "metadata": {},
   "outputs": [
    {
     "data": {
      "text/plain": [
       "'aa00'"
      ]
     },
     "execution_count": 8,
     "metadata": {},
     "output_type": "execute_result"
    }
   ],
   "source": [
    "'aa'.ljust(4, '0')"
   ]
  },
  {
   "cell_type": "code",
   "execution_count": null,
   "id": "283dc662",
   "metadata": {},
   "outputs": [],
   "source": []
  }
 ],
 "metadata": {
  "kernelspec": {
   "display_name": "Python 3 (ipykernel)",
   "language": "python",
   "name": "python3"
  },
  "language_info": {
   "codemirror_mode": {
    "name": "ipython",
    "version": 3
   },
   "file_extension": ".py",
   "mimetype": "text/x-python",
   "name": "python",
   "nbconvert_exporter": "python",
   "pygments_lexer": "ipython3",
   "version": "3.8.3"
  }
 },
 "nbformat": 4,
 "nbformat_minor": 5
}
