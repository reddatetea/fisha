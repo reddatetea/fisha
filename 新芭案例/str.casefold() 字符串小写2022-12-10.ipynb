{
 "cells": [
  {
   "cell_type": "code",
   "execution_count": 1,
   "id": "91ec3868",
   "metadata": {},
   "outputs": [
    {
     "data": {
      "text/plain": [
       "'a bc'"
      ]
     },
     "execution_count": 1,
     "metadata": {},
     "output_type": "execute_result"
    }
   ],
   "source": [
    "'A BC'.casefold()"
   ]
  },
  {
   "cell_type": "code",
   "execution_count": 2,
   "id": "25440268",
   "metadata": {},
   "outputs": [
    {
     "data": {
      "text/plain": [
       "'abc'"
      ]
     },
     "execution_count": 2,
     "metadata": {},
     "output_type": "execute_result"
    }
   ],
   "source": [
    "'aBC'.casefold()"
   ]
  },
  {
   "cell_type": "code",
   "execution_count": 3,
   "id": "cb75a47a",
   "metadata": {},
   "outputs": [
    {
     "data": {
      "text/plain": [
       "'ss'"
      ]
     },
     "execution_count": 3,
     "metadata": {},
     "output_type": "execute_result"
    }
   ],
   "source": [
    "'ß'.casefold() # 小语种，德语"
   ]
  },
  {
   "cell_type": "code",
   "execution_count": 4,
   "id": "c0911d3e",
   "metadata": {},
   "outputs": [
    {
     "data": {
      "text/plain": [
       "'ß'"
      ]
     },
     "execution_count": 4,
     "metadata": {},
     "output_type": "execute_result"
    }
   ],
   "source": [
    "'ß'.lower()"
   ]
  },
  {
   "cell_type": "code",
   "execution_count": null,
   "id": "6ece50c3",
   "metadata": {},
   "outputs": [],
   "source": []
  }
 ],
 "metadata": {
  "kernelspec": {
   "display_name": "Python 3 (ipykernel)",
   "language": "python",
   "name": "python3"
  },
  "language_info": {
   "codemirror_mode": {
    "name": "ipython",
    "version": 3
   },
   "file_extension": ".py",
   "mimetype": "text/x-python",
   "name": "python",
   "nbconvert_exporter": "python",
   "pygments_lexer": "ipython3",
   "version": "3.9.12"
  }
 },
 "nbformat": 4,
 "nbformat_minor": 5
}
