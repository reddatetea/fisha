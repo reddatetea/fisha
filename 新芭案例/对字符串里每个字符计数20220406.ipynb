{
 "cells": [
  {
   "cell_type": "code",
   "execution_count": 17,
   "metadata": {},
   "outputs": [
    {
     "name": "stdout",
     "output_type": "stream",
     "text": [
      "{'f': 1, 'd': 3, 'a': 3, 'o': 1, 's': 1, 'b': 3, 'i': 1, 'g': 3, 'e': 2, 'p': 1, 'q': 1, 't': 1, 'v': 1, 'u': 1, 'h': 1, 'c': 6, 'r': 2}\n"
     ]
    }
   ],
   "source": [
    "str = 'aABCcCdCeDfEgGGHIOPQRRSabTCUcVBD'\n",
    "def strToDic(str):\n",
    "    str = str.lower()\n",
    "    dic = {}\n",
    "    lst = [i for i in str]\n",
    "    keys = set(lst)\n",
    "    for i in keys: \n",
    "        dic[i] = lst.count(i)\n",
    "    return dic\n",
    "result = strToDic(str)\n",
    "print(result)"
   ]
  },
  {
   "cell_type": "code",
   "execution_count": 18,
   "metadata": {},
   "outputs": [
    {
     "name": "stdout",
     "output_type": "stream",
     "text": [
      "{'V': 1, 'Q': 1, 'D': 2, 'B': 2, 'S': 1, 'T': 1, 'A': 1, 'f': 1, 'O': 1, 'b': 1, 'e': 1, 'U': 1, 'G': 2, 'd': 1, 'E': 1, 'C': 4, 'R': 2, 'I': 1, 'P': 1, 'a': 2, 'H': 1, 'g': 1, 'c': 2}\n"
     ]
    }
   ],
   "source": [
    "str = 'aABCcCdCeDfEgGGHIOPQRRSabTCUcVBD'\n",
    "def strToDic(str):\n",
    "    dic = {}\n",
    "    lst = [i for i in str]\n",
    "    keys = set(lst)\n",
    "    for i in keys: \n",
    "        dic[i] = lst.count(i)\n",
    "    return dic\n",
    "result = strToDic(str)\n",
    "print(result)"
   ]
  },
  {
   "cell_type": "code",
   "execution_count": 19,
   "metadata": {},
   "outputs": [],
   "source": [
    "import pandas as pd\n",
    "import numpy as np"
   ]
  },
  {
   "cell_type": "code",
   "execution_count": 42,
   "metadata": {},
   "outputs": [
    {
     "data": {
      "text/plain": [
       "{'province': ['河南', '河北', '河南', '河南', '河南', '河北'],\n",
       " 'month': ['2月', '1月', '1月', '5月', '3月', '2月'],\n",
       " 'temperature': ['43', '23', '34', '32', '23', '45']}"
      ]
     },
     "execution_count": 42,
     "metadata": {},
     "output_type": "execute_result"
    }
   ],
   "source": [
    "data_dict = {\"province\":['河南','河北','河南','河南','河南','河北'],\n",
    "            'month':['2月','1月','1月','5月','3月','2月'],\n",
    "             \"temperature\":['43','23','34','32','23','45']\n",
    "             \n",
    "                     }\n",
    "data_dict"
   ]
  },
  {
   "cell_type": "code",
   "execution_count": 127,
   "metadata": {},
   "outputs": [],
   "source": [
    "df = pd.DataFrame(data_dict)"
   ]
  },
  {
   "cell_type": "code",
   "execution_count": 128,
   "metadata": {},
   "outputs": [
    {
     "data": {
      "text/html": [
       "<div>\n",
       "<style scoped>\n",
       "    .dataframe tbody tr th:only-of-type {\n",
       "        vertical-align: middle;\n",
       "    }\n",
       "\n",
       "    .dataframe tbody tr th {\n",
       "        vertical-align: top;\n",
       "    }\n",
       "\n",
       "    .dataframe thead th {\n",
       "        text-align: right;\n",
       "    }\n",
       "</style>\n",
       "<table border=\"1\" class=\"dataframe\">\n",
       "  <thead>\n",
       "    <tr style=\"text-align: right;\">\n",
       "      <th></th>\n",
       "      <th>province</th>\n",
       "      <th>month</th>\n",
       "      <th>temperature</th>\n",
       "    </tr>\n",
       "  </thead>\n",
       "  <tbody>\n",
       "    <tr>\n",
       "      <th>0</th>\n",
       "      <td>河南</td>\n",
       "      <td>2月</td>\n",
       "      <td>43</td>\n",
       "    </tr>\n",
       "    <tr>\n",
       "      <th>1</th>\n",
       "      <td>河北</td>\n",
       "      <td>1月</td>\n",
       "      <td>23</td>\n",
       "    </tr>\n",
       "    <tr>\n",
       "      <th>2</th>\n",
       "      <td>河南</td>\n",
       "      <td>1月</td>\n",
       "      <td>34</td>\n",
       "    </tr>\n",
       "    <tr>\n",
       "      <th>3</th>\n",
       "      <td>河南</td>\n",
       "      <td>5月</td>\n",
       "      <td>32</td>\n",
       "    </tr>\n",
       "    <tr>\n",
       "      <th>4</th>\n",
       "      <td>河南</td>\n",
       "      <td>3月</td>\n",
       "      <td>23</td>\n",
       "    </tr>\n",
       "    <tr>\n",
       "      <th>5</th>\n",
       "      <td>河北</td>\n",
       "      <td>2月</td>\n",
       "      <td>45</td>\n",
       "    </tr>\n",
       "  </tbody>\n",
       "</table>\n",
       "</div>"
      ],
      "text/plain": [
       "  province month temperature\n",
       "0       河南    2月          43\n",
       "1       河北    1月          23\n",
       "2       河南    1月          34\n",
       "3       河南    5月          32\n",
       "4       河南    3月          23\n",
       "5       河北    2月          45"
      ]
     },
     "execution_count": 128,
     "metadata": {},
     "output_type": "execute_result"
    }
   ],
   "source": [
    "df"
   ]
  },
  {
   "cell_type": "code",
   "execution_count": 129,
   "metadata": {},
   "outputs": [],
   "source": [
    "df['yue'] = df['month'].str.replace('月','')"
   ]
  },
  {
   "cell_type": "code",
   "execution_count": 130,
   "metadata": {},
   "outputs": [
    {
     "data": {
      "text/html": [
       "<div>\n",
       "<style scoped>\n",
       "    .dataframe tbody tr th:only-of-type {\n",
       "        vertical-align: middle;\n",
       "    }\n",
       "\n",
       "    .dataframe tbody tr th {\n",
       "        vertical-align: top;\n",
       "    }\n",
       "\n",
       "    .dataframe thead th {\n",
       "        text-align: right;\n",
       "    }\n",
       "</style>\n",
       "<table border=\"1\" class=\"dataframe\">\n",
       "  <thead>\n",
       "    <tr style=\"text-align: right;\">\n",
       "      <th></th>\n",
       "      <th>province</th>\n",
       "      <th>month</th>\n",
       "      <th>temperature</th>\n",
       "      <th>yue</th>\n",
       "    </tr>\n",
       "  </thead>\n",
       "  <tbody>\n",
       "    <tr>\n",
       "      <th>0</th>\n",
       "      <td>河南</td>\n",
       "      <td>2月</td>\n",
       "      <td>43</td>\n",
       "      <td>2</td>\n",
       "    </tr>\n",
       "    <tr>\n",
       "      <th>1</th>\n",
       "      <td>河北</td>\n",
       "      <td>1月</td>\n",
       "      <td>23</td>\n",
       "      <td>1</td>\n",
       "    </tr>\n",
       "    <tr>\n",
       "      <th>2</th>\n",
       "      <td>河南</td>\n",
       "      <td>1月</td>\n",
       "      <td>34</td>\n",
       "      <td>1</td>\n",
       "    </tr>\n",
       "    <tr>\n",
       "      <th>3</th>\n",
       "      <td>河南</td>\n",
       "      <td>5月</td>\n",
       "      <td>32</td>\n",
       "      <td>5</td>\n",
       "    </tr>\n",
       "    <tr>\n",
       "      <th>4</th>\n",
       "      <td>河南</td>\n",
       "      <td>3月</td>\n",
       "      <td>23</td>\n",
       "      <td>3</td>\n",
       "    </tr>\n",
       "    <tr>\n",
       "      <th>5</th>\n",
       "      <td>河北</td>\n",
       "      <td>2月</td>\n",
       "      <td>45</td>\n",
       "      <td>2</td>\n",
       "    </tr>\n",
       "  </tbody>\n",
       "</table>\n",
       "</div>"
      ],
      "text/plain": [
       "  province month temperature yue\n",
       "0       河南    2月          43   2\n",
       "1       河北    1月          23   1\n",
       "2       河南    1月          34   1\n",
       "3       河南    5月          32   5\n",
       "4       河南    3月          23   3\n",
       "5       河北    2月          45   2"
      ]
     },
     "execution_count": 130,
     "metadata": {},
     "output_type": "execute_result"
    }
   ],
   "source": [
    "df"
   ]
  },
  {
   "cell_type": "code",
   "execution_count": 131,
   "metadata": {},
   "outputs": [],
   "source": [
    "df = df.astype({'yue':int,'temperature':int})"
   ]
  },
  {
   "cell_type": "code",
   "execution_count": 132,
   "metadata": {},
   "outputs": [],
   "source": [
    "df.yue = df.yue-1"
   ]
  },
  {
   "cell_type": "code",
   "execution_count": 133,
   "metadata": {},
   "outputs": [],
   "source": [
    "df = df.astype({'yue':'str'})"
   ]
  },
  {
   "cell_type": "code",
   "execution_count": 134,
   "metadata": {},
   "outputs": [],
   "source": [
    "df.yue = df.yue+'月'"
   ]
  },
  {
   "cell_type": "code",
   "execution_count": 135,
   "metadata": {},
   "outputs": [
    {
     "data": {
      "text/html": [
       "<div>\n",
       "<style scoped>\n",
       "    .dataframe tbody tr th:only-of-type {\n",
       "        vertical-align: middle;\n",
       "    }\n",
       "\n",
       "    .dataframe tbody tr th {\n",
       "        vertical-align: top;\n",
       "    }\n",
       "\n",
       "    .dataframe thead th {\n",
       "        text-align: right;\n",
       "    }\n",
       "</style>\n",
       "<table border=\"1\" class=\"dataframe\">\n",
       "  <thead>\n",
       "    <tr style=\"text-align: right;\">\n",
       "      <th></th>\n",
       "      <th>province</th>\n",
       "      <th>month</th>\n",
       "      <th>temperature</th>\n",
       "      <th>yue</th>\n",
       "    </tr>\n",
       "  </thead>\n",
       "  <tbody>\n",
       "    <tr>\n",
       "      <th>0</th>\n",
       "      <td>河南</td>\n",
       "      <td>2月</td>\n",
       "      <td>43</td>\n",
       "      <td>1月</td>\n",
       "    </tr>\n",
       "    <tr>\n",
       "      <th>1</th>\n",
       "      <td>河北</td>\n",
       "      <td>1月</td>\n",
       "      <td>23</td>\n",
       "      <td>0月</td>\n",
       "    </tr>\n",
       "    <tr>\n",
       "      <th>2</th>\n",
       "      <td>河南</td>\n",
       "      <td>1月</td>\n",
       "      <td>34</td>\n",
       "      <td>0月</td>\n",
       "    </tr>\n",
       "    <tr>\n",
       "      <th>3</th>\n",
       "      <td>河南</td>\n",
       "      <td>5月</td>\n",
       "      <td>32</td>\n",
       "      <td>4月</td>\n",
       "    </tr>\n",
       "    <tr>\n",
       "      <th>4</th>\n",
       "      <td>河南</td>\n",
       "      <td>3月</td>\n",
       "      <td>23</td>\n",
       "      <td>2月</td>\n",
       "    </tr>\n",
       "    <tr>\n",
       "      <th>5</th>\n",
       "      <td>河北</td>\n",
       "      <td>2月</td>\n",
       "      <td>45</td>\n",
       "      <td>1月</td>\n",
       "    </tr>\n",
       "  </tbody>\n",
       "</table>\n",
       "</div>"
      ],
      "text/plain": [
       "  province month  temperature yue\n",
       "0       河南    2月           43  1月\n",
       "1       河北    1月           23  0月\n",
       "2       河南    1月           34  0月\n",
       "3       河南    5月           32  4月\n",
       "4       河南    3月           23  2月\n",
       "5       河北    2月           45  1月"
      ]
     },
     "execution_count": 135,
     "metadata": {},
     "output_type": "execute_result"
    }
   ],
   "source": [
    "df \n"
   ]
  },
  {
   "cell_type": "code",
   "execution_count": 136,
   "metadata": {},
   "outputs": [
    {
     "data": {
      "text/html": [
       "<div>\n",
       "<style scoped>\n",
       "    .dataframe tbody tr th:only-of-type {\n",
       "        vertical-align: middle;\n",
       "    }\n",
       "\n",
       "    .dataframe tbody tr th {\n",
       "        vertical-align: top;\n",
       "    }\n",
       "\n",
       "    .dataframe thead th {\n",
       "        text-align: right;\n",
       "    }\n",
       "</style>\n",
       "<table border=\"1\" class=\"dataframe\">\n",
       "  <thead>\n",
       "    <tr style=\"text-align: right;\">\n",
       "      <th></th>\n",
       "      <th>province</th>\n",
       "      <th>month</th>\n",
       "      <th>temperature</th>\n",
       "      <th>yue</th>\n",
       "    </tr>\n",
       "  </thead>\n",
       "  <tbody>\n",
       "    <tr>\n",
       "      <th>0</th>\n",
       "      <td>河南</td>\n",
       "      <td>2月</td>\n",
       "      <td>43</td>\n",
       "      <td>1月</td>\n",
       "    </tr>\n",
       "    <tr>\n",
       "      <th>1</th>\n",
       "      <td>河北</td>\n",
       "      <td>1月</td>\n",
       "      <td>23</td>\n",
       "      <td>12月</td>\n",
       "    </tr>\n",
       "    <tr>\n",
       "      <th>2</th>\n",
       "      <td>河南</td>\n",
       "      <td>1月</td>\n",
       "      <td>34</td>\n",
       "      <td>12月</td>\n",
       "    </tr>\n",
       "    <tr>\n",
       "      <th>3</th>\n",
       "      <td>河南</td>\n",
       "      <td>5月</td>\n",
       "      <td>32</td>\n",
       "      <td>4月</td>\n",
       "    </tr>\n",
       "    <tr>\n",
       "      <th>4</th>\n",
       "      <td>河南</td>\n",
       "      <td>3月</td>\n",
       "      <td>23</td>\n",
       "      <td>2月</td>\n",
       "    </tr>\n",
       "    <tr>\n",
       "      <th>5</th>\n",
       "      <td>河北</td>\n",
       "      <td>2月</td>\n",
       "      <td>45</td>\n",
       "      <td>1月</td>\n",
       "    </tr>\n",
       "  </tbody>\n",
       "</table>\n",
       "</div>"
      ],
      "text/plain": [
       "  province month  temperature  yue\n",
       "0       河南    2月           43   1月\n",
       "1       河北    1月           23  12月\n",
       "2       河南    1月           34  12月\n",
       "3       河南    5月           32   4月\n",
       "4       河南    3月           23   2月\n",
       "5       河北    2月           45   1月"
      ]
     },
     "execution_count": 136,
     "metadata": {},
     "output_type": "execute_result"
    }
   ],
   "source": [
    "df['yue'] = df['yue'].str.replace('0月','12月')\n",
    "df"
   ]
  },
  {
   "cell_type": "code",
   "execution_count": 137,
   "metadata": {},
   "outputs": [],
   "source": [
    "df1 = df\n",
    "df1 = df.loc[:,['province','yue'] ]\n",
    "df2 = df.loc[:,['province','month','temperature'] ]\n"
   ]
  },
  {
   "cell_type": "code",
   "execution_count": 138,
   "metadata": {},
   "outputs": [
    {
     "data": {
      "text/html": [
       "<div>\n",
       "<style scoped>\n",
       "    .dataframe tbody tr th:only-of-type {\n",
       "        vertical-align: middle;\n",
       "    }\n",
       "\n",
       "    .dataframe tbody tr th {\n",
       "        vertical-align: top;\n",
       "    }\n",
       "\n",
       "    .dataframe thead th {\n",
       "        text-align: right;\n",
       "    }\n",
       "</style>\n",
       "<table border=\"1\" class=\"dataframe\">\n",
       "  <thead>\n",
       "    <tr style=\"text-align: right;\">\n",
       "      <th></th>\n",
       "      <th>province</th>\n",
       "      <th>yue</th>\n",
       "      <th>month</th>\n",
       "      <th>temperature</th>\n",
       "    </tr>\n",
       "  </thead>\n",
       "  <tbody>\n",
       "    <tr>\n",
       "      <th>0</th>\n",
       "      <td>河南</td>\n",
       "      <td>1月</td>\n",
       "      <td>1月</td>\n",
       "      <td>34.0</td>\n",
       "    </tr>\n",
       "    <tr>\n",
       "      <th>1</th>\n",
       "      <td>河北</td>\n",
       "      <td>12月</td>\n",
       "      <td>NaN</td>\n",
       "      <td>NaN</td>\n",
       "    </tr>\n",
       "    <tr>\n",
       "      <th>2</th>\n",
       "      <td>河南</td>\n",
       "      <td>12月</td>\n",
       "      <td>NaN</td>\n",
       "      <td>NaN</td>\n",
       "    </tr>\n",
       "    <tr>\n",
       "      <th>3</th>\n",
       "      <td>河南</td>\n",
       "      <td>4月</td>\n",
       "      <td>NaN</td>\n",
       "      <td>NaN</td>\n",
       "    </tr>\n",
       "    <tr>\n",
       "      <th>4</th>\n",
       "      <td>河南</td>\n",
       "      <td>2月</td>\n",
       "      <td>2月</td>\n",
       "      <td>43.0</td>\n",
       "    </tr>\n",
       "    <tr>\n",
       "      <th>5</th>\n",
       "      <td>河北</td>\n",
       "      <td>1月</td>\n",
       "      <td>1月</td>\n",
       "      <td>23.0</td>\n",
       "    </tr>\n",
       "  </tbody>\n",
       "</table>\n",
       "</div>"
      ],
      "text/plain": [
       "  province  yue month  temperature\n",
       "0       河南   1月    1月         34.0\n",
       "1       河北  12月   NaN          NaN\n",
       "2       河南  12月   NaN          NaN\n",
       "3       河南   4月   NaN          NaN\n",
       "4       河南   2月    2月         43.0\n",
       "5       河北   1月    1月         23.0"
      ]
     },
     "execution_count": 138,
     "metadata": {},
     "output_type": "execute_result"
    }
   ],
   "source": [
    "df3 = pd.merge(df1,df2,left_on=['province','yue'],right_on=['province','month'],how='left')\n",
    "df3"
   ]
  },
  {
   "cell_type": "code",
   "execution_count": 139,
   "metadata": {},
   "outputs": [
    {
     "data": {
      "text/html": [
       "<div>\n",
       "<style scoped>\n",
       "    .dataframe tbody tr th:only-of-type {\n",
       "        vertical-align: middle;\n",
       "    }\n",
       "\n",
       "    .dataframe tbody tr th {\n",
       "        vertical-align: top;\n",
       "    }\n",
       "\n",
       "    .dataframe thead th {\n",
       "        text-align: right;\n",
       "    }\n",
       "</style>\n",
       "<table border=\"1\" class=\"dataframe\">\n",
       "  <thead>\n",
       "    <tr style=\"text-align: right;\">\n",
       "      <th></th>\n",
       "      <th>province</th>\n",
       "      <th>month_x</th>\n",
       "      <th>temperature_x</th>\n",
       "      <th>yue</th>\n",
       "      <th>month_y</th>\n",
       "      <th>temperature_y</th>\n",
       "    </tr>\n",
       "  </thead>\n",
       "  <tbody>\n",
       "    <tr>\n",
       "      <th>0</th>\n",
       "      <td>河南</td>\n",
       "      <td>2月</td>\n",
       "      <td>43</td>\n",
       "      <td>1月</td>\n",
       "      <td>1月</td>\n",
       "      <td>34.0</td>\n",
       "    </tr>\n",
       "    <tr>\n",
       "      <th>1</th>\n",
       "      <td>河北</td>\n",
       "      <td>1月</td>\n",
       "      <td>23</td>\n",
       "      <td>12月</td>\n",
       "      <td>NaN</td>\n",
       "      <td>NaN</td>\n",
       "    </tr>\n",
       "    <tr>\n",
       "      <th>2</th>\n",
       "      <td>河南</td>\n",
       "      <td>1月</td>\n",
       "      <td>34</td>\n",
       "      <td>12月</td>\n",
       "      <td>NaN</td>\n",
       "      <td>NaN</td>\n",
       "    </tr>\n",
       "    <tr>\n",
       "      <th>3</th>\n",
       "      <td>河南</td>\n",
       "      <td>5月</td>\n",
       "      <td>32</td>\n",
       "      <td>4月</td>\n",
       "      <td>NaN</td>\n",
       "      <td>NaN</td>\n",
       "    </tr>\n",
       "    <tr>\n",
       "      <th>4</th>\n",
       "      <td>河南</td>\n",
       "      <td>3月</td>\n",
       "      <td>23</td>\n",
       "      <td>2月</td>\n",
       "      <td>2月</td>\n",
       "      <td>43.0</td>\n",
       "    </tr>\n",
       "    <tr>\n",
       "      <th>5</th>\n",
       "      <td>河北</td>\n",
       "      <td>2月</td>\n",
       "      <td>45</td>\n",
       "      <td>1月</td>\n",
       "      <td>1月</td>\n",
       "      <td>23.0</td>\n",
       "    </tr>\n",
       "  </tbody>\n",
       "</table>\n",
       "</div>"
      ],
      "text/plain": [
       "  province month_x  temperature_x  yue month_y  temperature_y\n",
       "0       河南      2月             43   1月      1月           34.0\n",
       "1       河北      1月             23  12月     NaN            NaN\n",
       "2       河南      1月             34  12月     NaN            NaN\n",
       "3       河南      5月             32   4月     NaN            NaN\n",
       "4       河南      3月             23   2月      2月           43.0\n",
       "5       河北      2月             45   1月      1月           23.0"
      ]
     },
     "execution_count": 139,
     "metadata": {},
     "output_type": "execute_result"
    }
   ],
   "source": [
    "df4 = pd.merge(df,df3,left_on=['province','yue'],right_on=['province','yue'],how='left')\n",
    "df4"
   ]
  },
  {
   "cell_type": "code",
   "execution_count": 141,
   "metadata": {},
   "outputs": [],
   "source": [
    "df4['diff'] = df4.temperature_x - df4.temperature_y"
   ]
  },
  {
   "cell_type": "code",
   "execution_count": 142,
   "metadata": {},
   "outputs": [
    {
     "data": {
      "text/html": [
       "<div>\n",
       "<style scoped>\n",
       "    .dataframe tbody tr th:only-of-type {\n",
       "        vertical-align: middle;\n",
       "    }\n",
       "\n",
       "    .dataframe tbody tr th {\n",
       "        vertical-align: top;\n",
       "    }\n",
       "\n",
       "    .dataframe thead th {\n",
       "        text-align: right;\n",
       "    }\n",
       "</style>\n",
       "<table border=\"1\" class=\"dataframe\">\n",
       "  <thead>\n",
       "    <tr style=\"text-align: right;\">\n",
       "      <th></th>\n",
       "      <th>province</th>\n",
       "      <th>month_x</th>\n",
       "      <th>temperature_x</th>\n",
       "      <th>yue</th>\n",
       "      <th>month_y</th>\n",
       "      <th>temperature_y</th>\n",
       "      <th>diff</th>\n",
       "    </tr>\n",
       "  </thead>\n",
       "  <tbody>\n",
       "    <tr>\n",
       "      <th>0</th>\n",
       "      <td>河南</td>\n",
       "      <td>2月</td>\n",
       "      <td>43</td>\n",
       "      <td>1月</td>\n",
       "      <td>1月</td>\n",
       "      <td>34.0</td>\n",
       "      <td>9.0</td>\n",
       "    </tr>\n",
       "    <tr>\n",
       "      <th>1</th>\n",
       "      <td>河北</td>\n",
       "      <td>1月</td>\n",
       "      <td>23</td>\n",
       "      <td>12月</td>\n",
       "      <td>NaN</td>\n",
       "      <td>NaN</td>\n",
       "      <td>NaN</td>\n",
       "    </tr>\n",
       "    <tr>\n",
       "      <th>2</th>\n",
       "      <td>河南</td>\n",
       "      <td>1月</td>\n",
       "      <td>34</td>\n",
       "      <td>12月</td>\n",
       "      <td>NaN</td>\n",
       "      <td>NaN</td>\n",
       "      <td>NaN</td>\n",
       "    </tr>\n",
       "    <tr>\n",
       "      <th>3</th>\n",
       "      <td>河南</td>\n",
       "      <td>5月</td>\n",
       "      <td>32</td>\n",
       "      <td>4月</td>\n",
       "      <td>NaN</td>\n",
       "      <td>NaN</td>\n",
       "      <td>NaN</td>\n",
       "    </tr>\n",
       "    <tr>\n",
       "      <th>4</th>\n",
       "      <td>河南</td>\n",
       "      <td>3月</td>\n",
       "      <td>23</td>\n",
       "      <td>2月</td>\n",
       "      <td>2月</td>\n",
       "      <td>43.0</td>\n",
       "      <td>-20.0</td>\n",
       "    </tr>\n",
       "    <tr>\n",
       "      <th>5</th>\n",
       "      <td>河北</td>\n",
       "      <td>2月</td>\n",
       "      <td>45</td>\n",
       "      <td>1月</td>\n",
       "      <td>1月</td>\n",
       "      <td>23.0</td>\n",
       "      <td>22.0</td>\n",
       "    </tr>\n",
       "  </tbody>\n",
       "</table>\n",
       "</div>"
      ],
      "text/plain": [
       "  province month_x  temperature_x  yue month_y  temperature_y  diff\n",
       "0       河南      2月             43   1月      1月           34.0   9.0\n",
       "1       河北      1月             23  12月     NaN            NaN   NaN\n",
       "2       河南      1月             34  12月     NaN            NaN   NaN\n",
       "3       河南      5月             32   4月     NaN            NaN   NaN\n",
       "4       河南      3月             23   2月      2月           43.0 -20.0\n",
       "5       河北      2月             45   1月      1月           23.0  22.0"
      ]
     },
     "execution_count": 142,
     "metadata": {},
     "output_type": "execute_result"
    }
   ],
   "source": [
    "df4"
   ]
  },
  {
   "cell_type": "code",
   "execution_count": 146,
   "metadata": {},
   "outputs": [
    {
     "ename": "SyntaxError",
     "evalue": "invalid character in identifier (<ipython-input-146-6544cbf0c449>, line 2)",
     "output_type": "error",
     "traceback": [
      "\u001b[1;36m  File \u001b[1;32m\"<ipython-input-146-6544cbf0c449>\"\u001b[1;36m, line \u001b[1;32m2\u001b[0m\n\u001b[1;33m    diff =lambda x:x.temperature.astype(int).diff()[x.number_bool] )).sort_index(level=1).drop(['number_bool'],axis=1).droplevel(0,axis=0)\u001b[0m\n\u001b[1;37m    ^\u001b[0m\n\u001b[1;31mSyntaxError\u001b[0m\u001b[1;31m:\u001b[0m invalid character in identifier\n"
     ]
    }
   ],
   "source": [
    "df.groupby('province').apply(lambda x :x.sort_values(by='month').assign(number_bool = lambda x:x.month.str[0].astype(int).diff()==1,\n",
    "    diff =lambda x:x.temperature.astype(int).diff()[x.number_bool] )).sort_index(level=1).drop(['number_bool'],axis=1).droplevel(0,axis=0)"
   ]
  },
  {
   "cell_type": "code",
   "execution_count": 2,
   "metadata": {},
   "outputs": [],
   "source": [
    "import pandas as pd\n",
    "import numpy as np\n"
   ]
  },
  {
   "cell_type": "code",
   "execution_count": 4,
   "metadata": {},
   "outputs": [
    {
     "ename": "SyntaxError",
     "evalue": "invalid character in identifier (<ipython-input-4-9a2ac9c2ab82>, line 2)",
     "output_type": "error",
     "traceback": [
      "\u001b[1;36m  File \u001b[1;32m\"<ipython-input-4-9a2ac9c2ab82>\"\u001b[1;36m, line \u001b[1;32m2\u001b[0m\n\u001b[1;33m    \"month\":['2月','1月','1月','5月','3月','2月'],\u001b[0m\n\u001b[1;37m    ^\u001b[0m\n\u001b[1;31mSyntaxError\u001b[0m\u001b[1;31m:\u001b[0m invalid character in identifier\n"
     ]
    }
   ],
   "source": [
    "data_dict = {\"province\":['河南','河北','河南','河南','河南','河北'],\n",
    "       \"month\":['2月','1月','1月','5月','3月','2月'],\n",
    "       \"temperature\":['43','23','34','32','23','45']\n",
    "      }\n"
   ]
  },
  {
   "cell_type": "code",
   "execution_count": 5,
   "metadata": {},
   "outputs": [
    {
     "ename": "SyntaxError",
     "evalue": "invalid character in identifier (<ipython-input-5-40efc0ab9b2b>, line 3)",
     "output_type": "error",
     "traceback": [
      "\u001b[1;36m  File \u001b[1;32m\"<ipython-input-5-40efc0ab9b2b>\"\u001b[1;36m, line \u001b[1;32m3\u001b[0m\n\u001b[1;33m    assign(number_bool = lambda x:x.month.str[0].astype(int).diff()==1,\u001b[0m\n\u001b[1;37m                                                             ^\u001b[0m\n\u001b[1;31mSyntaxError\u001b[0m\u001b[1;31m:\u001b[0m invalid character in identifier\n"
     ]
    }
   ],
   "source": [
    "df =pd.DataFrame(data_dict)\n",
    "df.groupby('province').apply(lambda x :x.sort_values(by='month').\\\n",
    "          assign(number_bool = lambda x:x.month.str[0].astype(int).diff()==1,\n",
    "                 temperature_shift = lambda x:x.temperature.shift(1),\n",
    "                 新增列 =lambda x:(x.temperature+'-'+x.temperature_shift)[x.number_bool],\n",
    "                 diff= lambda x:x.temperature.astype(float)-x.temperature_shift.astype(float))).\\\n",
    "sort_index(level=1).\\\n",
    "drop(['number_bool','temperature_shift'],axis=1).\n",
    "droplevel(0,axis=0)"
   ]
  },
  {
   "cell_type": "code",
   "execution_count": 6,
   "metadata": {},
   "outputs": [
    {
     "ename": "SyntaxError",
     "evalue": "invalid syntax (<ipython-input-6-54449362023c>, line 14)",
     "output_type": "error",
     "traceback": [
      "\u001b[1;36m  File \u001b[1;32m\"<ipython-input-6-54449362023c>\"\u001b[1;36m, line \u001b[1;32m14\u001b[0m\n\u001b[1;33m    drop(['number_bool','temperature_shift'],axis=1).\u001b[0m\n\u001b[1;37m                                                     ^\u001b[0m\n\u001b[1;31mSyntaxError\u001b[0m\u001b[1;31m:\u001b[0m invalid syntax\n"
     ]
    }
   ],
   "source": [
    "import pandas as pd\n",
    "import numpy as np\n",
    "data_dict = {\"province\":['河南','河北','河南','河南','河南','河北'],\n",
    "       \"month\":['2月','1月','1月','5月','3月','2月'],\n",
    "       \"temperature\":['43','23','34','32','23','45']\n",
    "      }\n",
    "df =pd.DataFrame(data_dict)\n",
    "df.groupby('province').apply(lambda x :x.sort_values(by='month').\\\n",
    "          assign(number_bool = lambda x:x.month.str[0].astype(int).diff()==1,\n",
    "                 temperature_shift = lambda x:x.temperature.shift(1),\n",
    "                 新增列 =lambda x:(x.temperature+'-'+x.temperature_shift)[x.number_bool],\n",
    "                 diff= lambda x:x.temperature.astype(float)-x.temperature_shift.astype(float))).\\\n",
    "sort_index(level=1).\\\n",
    "drop(['number_bool','temperature_shift'],axis=1).\n",
    "droplevel(0,axis=0)"
   ]
  },
  {
   "cell_type": "code",
   "execution_count": null,
   "metadata": {},
   "outputs": [],
   "source": []
  }
 ],
 "metadata": {
  "kernelspec": {
   "display_name": "Python 3 (ipykernel)",
   "language": "python",
   "name": "python3"
  },
  "language_info": {
   "codemirror_mode": {
    "name": "ipython",
    "version": 3
   },
   "file_extension": ".py",
   "mimetype": "text/x-python",
   "name": "python",
   "nbconvert_exporter": "python",
   "pygments_lexer": "ipython3",
   "version": "3.8.3"
  }
 },
 "nbformat": 4,
 "nbformat_minor": 4
}
