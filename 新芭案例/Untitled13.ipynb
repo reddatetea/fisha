{
 "cells": [
  {
   "cell_type": "code",
   "execution_count": 1,
   "id": "2697be1f",
   "metadata": {},
   "outputs": [],
   "source": [
    "import pandas as pd"
   ]
  },
  {
   "cell_type": "code",
   "execution_count": 2,
   "id": "a81efffd",
   "metadata": {},
   "outputs": [],
   "source": [
    "ser = pd.Series([1,2,5,4,5,1])\n"
   ]
  },
  {
   "cell_type": "code",
   "execution_count": 4,
   "id": "ffd02035",
   "metadata": {},
   "outputs": [
    {
     "data": {
      "text/plain": [
       "2    5\n",
       "4    5\n",
       "dtype: int64"
      ]
     },
     "execution_count": 4,
     "metadata": {},
     "output_type": "execute_result"
    }
   ],
   "source": [
    "ser[(ser > ser.shift()) & (ser > ser.shift(-1))]\n"
   ]
  },
  {
   "cell_type": "code",
   "execution_count": 8,
   "id": "df96739f",
   "metadata": {},
   "outputs": [
    {
     "data": {
      "text/plain": [
       "2    5\n",
       "4    5\n",
       "dtype: int64"
      ]
     },
     "execution_count": 8,
     "metadata": {},
     "output_type": "execute_result"
    }
   ],
   "source": [
    "ser[(ser >=ser.max())]"
   ]
  },
  {
   "cell_type": "code",
   "execution_count": 9,
   "id": "3ec72397",
   "metadata": {},
   "outputs": [],
   "source": [
    "ser1 = pd.Series([1,2,4,5,1])"
   ]
  },
  {
   "cell_type": "code",
   "execution_count": 10,
   "id": "776998a4",
   "metadata": {},
   "outputs": [
    {
     "data": {
      "text/plain": [
       "3    5\n",
       "dtype: int64"
      ]
     },
     "execution_count": 10,
     "metadata": {},
     "output_type": "execute_result"
    }
   ],
   "source": [
    "ser1[(ser1 >=ser1.max())]"
   ]
  }
 ],
 "metadata": {
  "kernelspec": {
   "display_name": "Python 3 (ipykernel)",
   "language": "python",
   "name": "python3"
  },
  "language_info": {
   "codemirror_mode": {
    "name": "ipython",
    "version": 3
   },
   "file_extension": ".py",
   "mimetype": "text/x-python",
   "name": "python",
   "nbconvert_exporter": "python",
   "pygments_lexer": "ipython3",
   "version": "3.8.3"
  }
 },
 "nbformat": 4,
 "nbformat_minor": 5
}
