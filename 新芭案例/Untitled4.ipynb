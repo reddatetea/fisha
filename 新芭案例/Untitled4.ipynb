{
 "cells": [
  {
   "cell_type": "code",
   "execution_count": 16,
   "id": "260ea548",
   "metadata": {},
   "outputs": [],
   "source": [
    "foo = '100-103、120、141-143'"
   ]
  },
  {
   "cell_type": "code",
   "execution_count": 17,
   "id": "e1bb5128",
   "metadata": {},
   "outputs": [
    {
     "data": {
      "text/plain": [
       "['100-103', '120', '141-143']"
      ]
     },
     "execution_count": 17,
     "metadata": {},
     "output_type": "execute_result"
    }
   ],
   "source": [
    "foo = foo.split('、')\n",
    "foo"
   ]
  },
  {
   "cell_type": "code",
   "execution_count": 18,
   "id": "bdba3e9c",
   "metadata": {},
   "outputs": [],
   "source": [
    "foo = map(lambda x:x.split('-'),foo)\n",
    "foo = map(lambda x:range(int(x[0]),int(x[-1])+1),foo)"
   ]
  },
  {
   "cell_type": "code",
   "execution_count": 19,
   "id": "3c76a65c",
   "metadata": {},
   "outputs": [],
   "source": [
    "import itertools\n",
    "chains = itertools.chain(*foo)"
   ]
  },
  {
   "cell_type": "code",
   "execution_count": 20,
   "id": "415ea7bb",
   "metadata": {},
   "outputs": [
    {
     "data": {
      "text/plain": [
       "[100, 101, 102, 103, 120, 141, 142, 143]"
      ]
     },
     "execution_count": 20,
     "metadata": {},
     "output_type": "execute_result"
    }
   ],
   "source": [
    "[*chains]"
   ]
  },
  {
   "cell_type": "code",
   "execution_count": 1,
   "id": "f6be16fc",
   "metadata": {},
   "outputs": [],
   "source": [
    "import pandas as pd"
   ]
  },
  {
   "cell_type": "code",
   "execution_count": 2,
   "id": "a790a0d8",
   "metadata": {},
   "outputs": [
    {
     "data": {
      "text/html": [
       "<div>\n",
       "<style scoped>\n",
       "    .dataframe tbody tr th:only-of-type {\n",
       "        vertical-align: middle;\n",
       "    }\n",
       "\n",
       "    .dataframe tbody tr th {\n",
       "        vertical-align: top;\n",
       "    }\n",
       "\n",
       "    .dataframe thead th {\n",
       "        text-align: right;\n",
       "    }\n",
       "</style>\n",
       "<table border=\"1\" class=\"dataframe\">\n",
       "  <thead>\n",
       "    <tr style=\"text-align: right;\">\n",
       "      <th></th>\n",
       "      <th>智商</th>\n",
       "      <th>每周看电视小时数</th>\n",
       "      <th>是否异常</th>\n",
       "    </tr>\n",
       "  </thead>\n",
       "  <tbody>\n",
       "    <tr>\n",
       "      <th>0</th>\n",
       "      <td>106</td>\n",
       "      <td>7</td>\n",
       "      <td>否</td>\n",
       "    </tr>\n",
       "    <tr>\n",
       "      <th>1</th>\n",
       "      <td>86</td>\n",
       "      <td>0</td>\n",
       "      <td>否</td>\n",
       "    </tr>\n",
       "    <tr>\n",
       "      <th>2</th>\n",
       "      <td>100</td>\n",
       "      <td>27</td>\n",
       "      <td>是</td>\n",
       "    </tr>\n",
       "    <tr>\n",
       "      <th>3</th>\n",
       "      <td>101</td>\n",
       "      <td>50</td>\n",
       "      <td>否</td>\n",
       "    </tr>\n",
       "    <tr>\n",
       "      <th>4</th>\n",
       "      <td>99</td>\n",
       "      <td>28</td>\n",
       "      <td>否</td>\n",
       "    </tr>\n",
       "    <tr>\n",
       "      <th>5</th>\n",
       "      <td>103</td>\n",
       "      <td>29</td>\n",
       "      <td>否</td>\n",
       "    </tr>\n",
       "    <tr>\n",
       "      <th>6</th>\n",
       "      <td>97</td>\n",
       "      <td>20</td>\n",
       "      <td>是</td>\n",
       "    </tr>\n",
       "    <tr>\n",
       "      <th>7</th>\n",
       "      <td>113</td>\n",
       "      <td>12</td>\n",
       "      <td>否</td>\n",
       "    </tr>\n",
       "    <tr>\n",
       "      <th>8</th>\n",
       "      <td>112</td>\n",
       "      <td>6</td>\n",
       "      <td>否</td>\n",
       "    </tr>\n",
       "    <tr>\n",
       "      <th>9</th>\n",
       "      <td>110</td>\n",
       "      <td>17</td>\n",
       "      <td>否</td>\n",
       "    </tr>\n",
       "  </tbody>\n",
       "</table>\n",
       "</div>"
      ],
      "text/plain": [
       "    智商  每周看电视小时数 是否异常\n",
       "0  106         7    否\n",
       "1   86         0    否\n",
       "2  100        27    是\n",
       "3  101        50    否\n",
       "4   99        28    否\n",
       "5  103        29    否\n",
       "6   97        20    是\n",
       "7  113        12    否\n",
       "8  112         6    否\n",
       "9  110        17    否"
      ]
     },
     "execution_count": 2,
     "metadata": {},
     "output_type": "execute_result"
    }
   ],
   "source": [
    "df = pd.DataFrame({\n",
    "    '智商': [106, 86, 100, 101, 99, 103, 97, 113, 112, 110],\n",
    "    '每周看电视小时数': [7, 0, 27, 50, 28, 29, 20, 12, 6, 17],\n",
    "    '是否异常': [\"否\", \"否\", \"是\", \"否\", \"否\", \"否\", \"是\", \"否\", \"否\", \"否\"]})\n",
    "df"
   ]
  },
  {
   "cell_type": "code",
   "execution_count": null,
   "id": "0a91e613",
   "metadata": {},
   "outputs": [],
   "source": []
  }
 ],
 "metadata": {
  "kernelspec": {
   "display_name": "Python 3 (ipykernel)",
   "language": "python",
   "name": "python3"
  },
  "language_info": {
   "codemirror_mode": {
    "name": "ipython",
    "version": 3
   },
   "file_extension": ".py",
   "mimetype": "text/x-python",
   "name": "python",
   "nbconvert_exporter": "python",
   "pygments_lexer": "ipython3",
   "version": "3.9.12"
  }
 },
 "nbformat": 4,
 "nbformat_minor": 5
}
