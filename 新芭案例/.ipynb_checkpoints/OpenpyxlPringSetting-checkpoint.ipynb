{
 "cells": [
  {
   "cell_type": "code",
   "execution_count": 1,
   "id": "7498b707",
   "metadata": {},
   "outputs": [],
   "source": [
    "import openpyxl"
   ]
  },
  {
   "cell_type": "code",
   "execution_count": 2,
   "id": "d1eb4dda",
   "metadata": {},
   "outputs": [
    {
     "name": "stderr",
     "output_type": "stream",
     "text": [
      "D:\\swz\\lib\\site-packages\\openpyxl\\worksheet\\header_footer.py:48: UserWarning: Cannot parse header or footer so it will be ignored\n",
      "  warn(\"\"\"Cannot parse header or footer so it will be ignored\"\"\")\n"
     ]
    }
   ],
   "source": [
    "fname = r'D:\\a00nutstore\\fishc\\000.xlsx'\n",
    "wb = openpyxl.load_workbook(fname)\n",
    "ws = wb.active\n",
    "for i in ws.iter_rows():\n",
    "    for j in i:\n",
    "        if j.value == 0:\n",
    "            j.value = ''\n",
    "        else :\n",
    "            continue\n",
    "wb.save(fname)"
   ]
  },
  {
   "cell_type": "code",
   "execution_count": null,
   "id": "73918a4d",
   "metadata": {},
   "outputs": [],
   "source": []
  }
 ],
 "metadata": {
  "kernelspec": {
   "display_name": "Python 3 (ipykernel)",
   "language": "python",
   "name": "python3"
  },
  "language_info": {
   "codemirror_mode": {
    "name": "ipython",
    "version": 3
   },
   "file_extension": ".py",
   "mimetype": "text/x-python",
   "name": "python",
   "nbconvert_exporter": "python",
   "pygments_lexer": "ipython3",
   "version": "3.9.12"
  }
 },
 "nbformat": 4,
 "nbformat_minor": 5
}
