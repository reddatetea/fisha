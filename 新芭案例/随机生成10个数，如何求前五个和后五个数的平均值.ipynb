{
 "cells": [
  {
   "cell_type": "code",
   "execution_count": 1,
   "id": "fead4b70",
   "metadata": {},
   "outputs": [],
   "source": [
    "import numpy as np\n",
    "import pandas as pd"
   ]
  },
  {
   "cell_type": "code",
   "execution_count": 2,
   "id": "5e561bd3",
   "metadata": {},
   "outputs": [
    {
     "data": {
      "text/plain": [
       "Generator(PCG64) at 0x9DD62E0"
      ]
     },
     "execution_count": 2,
     "metadata": {},
     "output_type": "execute_result"
    }
   ],
   "source": [
    "r = np.random.default_rng()\n",
    "r"
   ]
  },
  {
   "cell_type": "code",
   "execution_count": 3,
   "id": "dbc53503",
   "metadata": {},
   "outputs": [
    {
     "data": {
      "text/plain": [
       "0    72\n",
       "1    79\n",
       "2    91\n",
       "3    11\n",
       "4    40\n",
       "5     1\n",
       "6    18\n",
       "7    79\n",
       "8    27\n",
       "9    36\n",
       "dtype: int64"
      ]
     },
     "execution_count": 3,
     "metadata": {},
     "output_type": "execute_result"
    }
   ],
   "source": [
    "ser = pd.Series(r.integers(100,size = 10))\n",
    "ser"
   ]
  },
  {
   "cell_type": "code",
   "execution_count": 6,
   "id": "5de9af98",
   "metadata": {},
   "outputs": [
    {
     "data": {
      "text/plain": [
       "['前五个', '前五个', '前五个', '前五个', '前五个', '后五个', '后五个', '后五个', '后五个', '后五个']"
      ]
     },
     "execution_count": 6,
     "metadata": {},
     "output_type": "execute_result"
    }
   ],
   "source": [
    "['前五个']*5 + ['后五个']*5"
   ]
  },
  {
   "cell_type": "code",
   "execution_count": 4,
   "id": "191bcdec",
   "metadata": {},
   "outputs": [
    {
     "data": {
      "text/plain": [
       "前五个    58.6\n",
       "后五个    32.2\n",
       "Name: 平均数, dtype: float64"
      ]
     },
     "execution_count": 4,
     "metadata": {},
     "output_type": "execute_result"
    }
   ],
   "source": [
    "ser.groupby(['前五个']*5 + ['后五个']*5).mean().rename('平均数')   #列表重复、拼接，groupby还有这种用法"
   ]
  },
  {
   "cell_type": "code",
   "execution_count": 5,
   "id": "420ff114",
   "metadata": {},
   "outputs": [
    {
     "data": {
      "text/plain": [
       "大    58.6\n",
       "小    32.2\n",
       "Name: 平均数, dtype: float64"
      ]
     },
     "execution_count": 5,
     "metadata": {},
     "output_type": "execute_result"
    }
   ],
   "source": [
    "ser.groupby(['大']*5 + ['小']*5).mean().rename('平均数')"
   ]
  },
  {
   "cell_type": "code",
   "execution_count": 7,
   "id": "67d48ec3",
   "metadata": {},
   "outputs": [
    {
     "data": {
      "text/plain": [
       "[0.44256331672562543, 0.65152571710361]"
      ]
     },
     "execution_count": 7,
     "metadata": {},
     "output_type": "execute_result"
    }
   ],
   "source": [
    "import numpy as np\n",
    "\n",
    "list(np.mean(x) for x in np.random.rand(10).reshape(2, -1))"
   ]
  },
  {
   "cell_type": "code",
   "execution_count": null,
   "id": "c05b44c2",
   "metadata": {},
   "outputs": [],
   "source": []
  }
 ],
 "metadata": {
  "kernelspec": {
   "display_name": "Python 3 (ipykernel)",
   "language": "python",
   "name": "python3"
  },
  "language_info": {
   "codemirror_mode": {
    "name": "ipython",
    "version": 3
   },
   "file_extension": ".py",
   "mimetype": "text/x-python",
   "name": "python",
   "nbconvert_exporter": "python",
   "pygments_lexer": "ipython3",
   "version": "3.8.3"
  }
 },
 "nbformat": 4,
 "nbformat_minor": 5
}
