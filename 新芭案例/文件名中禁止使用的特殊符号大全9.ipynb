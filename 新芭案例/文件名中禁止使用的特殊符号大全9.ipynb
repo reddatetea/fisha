{
 "cells": [
  {
   "cell_type": "code",
   "execution_count": 6,
   "metadata": {},
   "outputs": [
    {
     "name": "stdout",
     "output_type": "stream",
     "text": [
      "[':', '\\\\', '/', '?', '*', '|', '\"', '<', '>']\n",
      "[':', '\\\\', '/', '?', '*', '[', ']', '<', '>']\n"
     ]
    }
   ],
   "source": [
    "file_fuhao = ':\\/?*|\"<>'\n",
    "excel_fuhao  = ':\\/?*[]<>'\n",
    "file_fuhao_list = [j for j in file_fuhao]\n",
    "excel_fuhao_list = [j for j in excel_fuhao]\n",
    "print(file_fuhao_list)\n",
    "print(excel_fuhao_list)"
   ]
  },
  {
   "cell_type": "code",
   "execution_count": 4,
   "metadata": {},
   "outputs": [
    {
     "name": "stdout",
     "output_type": "stream",
     "text": [
      "16\n"
     ]
    }
   ],
   "source": [
    "import re \n",
    "string = r'XR1680胶套夏'\n",
    "pattern = r'(XR|夏天|冬天|)(?P<guige>8|16|32|64).*胶套.*'\n",
    "pipei = re.search(pattern,string)\n",
    "guige = pipei.group('guige')\n",
    "print(guige)\n",
    "    "
   ]
  },
  {
   "cell_type": "code",
   "execution_count": null,
   "metadata": {},
   "outputs": [],
   "source": []
  }
 ],
 "metadata": {
  "kernelspec": {
   "display_name": "Python 3 (ipykernel)",
   "language": "python",
   "name": "python3"
  },
  "language_info": {
   "codemirror_mode": {
    "name": "ipython",
    "version": 3
   },
   "file_extension": ".py",
   "mimetype": "text/x-python",
   "name": "python",
   "nbconvert_exporter": "python",
   "pygments_lexer": "ipython3",
   "version": "3.9.12"
  }
 },
 "nbformat": 4,
 "nbformat_minor": 4
}
