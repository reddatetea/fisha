{
 "cells": [
  {
   "cell_type": "code",
   "execution_count": 1,
   "id": "fa4c574f",
   "metadata": {},
   "outputs": [],
   "source": [
    "a = 97 # 10 进制\n",
    "a = 0b01100001 # 2 进制\n",
    "a = 0o301 # 8 进制\n",
    "a = 0x61 # 16 进制\n"
   ]
  },
  {
   "cell_type": "code",
   "execution_count": 2,
   "id": "7f5df217",
   "metadata": {},
   "outputs": [
    {
     "data": {
      "text/plain": [
       "inf"
      ]
     },
     "execution_count": 2,
     "metadata": {},
     "output_type": "execute_result"
    }
   ],
   "source": [
    "float('inf')   #正无穷大"
   ]
  },
  {
   "cell_type": "code",
   "execution_count": 3,
   "id": "f3dad482",
   "metadata": {},
   "outputs": [
    {
     "data": {
      "text/plain": [
       "-inf"
      ]
     },
     "execution_count": 3,
     "metadata": {},
     "output_type": "execute_result"
    }
   ],
   "source": [
    "float('-inf')   #负无穷大"
   ]
  },
  {
   "cell_type": "code",
   "execution_count": 4,
   "id": "320abbc4",
   "metadata": {},
   "outputs": [
    {
     "data": {
      "text/plain": [
       "123456789"
      ]
     },
     "execution_count": 4,
     "metadata": {},
     "output_type": "execute_result"
    }
   ],
   "source": [
    "123_456_789 # 123456789 可以在较大的数字用下划线连接，适用于3.6以后版本"
   ]
  },
  {
   "cell_type": "code",
   "execution_count": 5,
   "id": "3c0cab95",
   "metadata": {},
   "outputs": [
    {
     "data": {
      "text/plain": [
       "4"
      ]
     },
     "execution_count": 5,
     "metadata": {},
     "output_type": "execute_result"
    }
   ],
   "source": [
    "import random\n",
    "random.randrange(1,10) # 1-9 里随机一个"
   ]
  },
  {
   "cell_type": "code",
   "execution_count": 6,
   "id": "ed072087",
   "metadata": {},
   "outputs": [
    {
     "data": {
      "text/plain": [
       "1"
      ]
     },
     "execution_count": 6,
     "metadata": {},
     "output_type": "execute_result"
    }
   ],
   "source": [
    "abs(-1) # 1 求绝对值"
   ]
  },
  {
   "cell_type": "code",
   "execution_count": 7,
   "id": "c73a84bc",
   "metadata": {},
   "outputs": [
    {
     "data": {
      "text/plain": [
       "int"
      ]
     },
     "execution_count": 7,
     "metadata": {},
     "output_type": "execute_result"
    }
   ],
   "source": [
    "type(a) # 可以查看数据的类型"
   ]
  },
  {
   "cell_type": "code",
   "execution_count": null,
   "id": "7eddb63b",
   "metadata": {},
   "outputs": [],
   "source": []
  }
 ],
 "metadata": {
  "kernelspec": {
   "display_name": "Python 3 (ipykernel)",
   "language": "python",
   "name": "python3"
  },
  "language_info": {
   "codemirror_mode": {
    "name": "ipython",
    "version": 3
   },
   "file_extension": ".py",
   "mimetype": "text/x-python",
   "name": "python",
   "nbconvert_exporter": "python",
   "pygments_lexer": "ipython3",
   "version": "3.9.12"
  }
 },
 "nbformat": 4,
 "nbformat_minor": 5
}
