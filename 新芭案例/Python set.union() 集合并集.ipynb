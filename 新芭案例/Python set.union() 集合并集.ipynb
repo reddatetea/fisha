{
 "cells": [
  {
   "cell_type": "code",
   "execution_count": 1,
   "id": "50405948-dce3-4838-8832-1dcb5dafd521",
   "metadata": {},
   "outputs": [
    {
     "data": {
      "text/plain": [
       "{1, 2, 3, 4, 5}"
      ]
     },
     "execution_count": 1,
     "metadata": {},
     "output_type": "execute_result"
    }
   ],
   "source": [
    "set1 = {1, 2, 3}\n",
    "set2 = {3, 4, 5}\n",
    "\n",
    "# 使用 union() 方法获取两个集合的并集\n",
    "union_set = set1.union(set2)\n",
    "union_set"
   ]
  },
  {
   "cell_type": "code",
   "execution_count": 2,
   "id": "cab00cdb-f606-4786-9213-d5544c4c45ea",
   "metadata": {},
   "outputs": [
    {
     "data": {
      "text/plain": [
       "{1, 2, 3, 4, 5}"
      ]
     },
     "execution_count": 2,
     "metadata": {},
     "output_type": "execute_result"
    }
   ],
   "source": [
    "set1 | set2 # 效果同上"
   ]
  },
  {
   "cell_type": "code",
   "execution_count": 3,
   "id": "c200e662-5bf1-419b-823c-0571619a69fb",
   "metadata": {},
   "outputs": [
    {
     "data": {
      "text/plain": [
       "{1, 2, 3, 4, 5, 6, 7}"
      ]
     },
     "execution_count": 3,
     "metadata": {},
     "output_type": "execute_result"
    }
   ],
   "source": [
    "set1 = {1, 2, 3}\n",
    "set2 = {3, 4, 5}\n",
    "set3 = {5, 6, 7}\n",
    "\n",
    "# 使用 union() 方法获取多个集合的并集\n",
    "union_set = set1.union(set2, set3)\n",
    "union_set"
   ]
  },
  {
   "cell_type": "code",
   "execution_count": 4,
   "id": "e3b11bbb-0949-4ffd-9865-c45a001a4d5d",
   "metadata": {},
   "outputs": [
    {
     "data": {
      "text/plain": [
       "{1, 2, 3, 4, 5, 6, 7}"
      ]
     },
     "execution_count": 4,
     "metadata": {},
     "output_type": "execute_result"
    }
   ],
   "source": [
    "union_set1 = set1 | set2 | set3 # 效果同上\n",
    "union_set1"
   ]
  },
  {
   "cell_type": "code",
   "execution_count": null,
   "id": "7264dff9-bc30-43bc-ad86-f5e7d7e38040",
   "metadata": {},
   "outputs": [],
   "source": []
  }
 ],
 "metadata": {
  "kernelspec": {
   "display_name": "Python 3 (ipykernel)",
   "language": "python",
   "name": "python3"
  },
  "language_info": {
   "codemirror_mode": {
    "name": "ipython",
    "version": 3
   },
   "file_extension": ".py",
   "mimetype": "text/x-python",
   "name": "python",
   "nbconvert_exporter": "python",
   "pygments_lexer": "ipython3",
   "version": "3.11.5"
  }
 },
 "nbformat": 4,
 "nbformat_minor": 5
}
