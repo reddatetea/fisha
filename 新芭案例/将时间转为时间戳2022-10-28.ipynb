{
 "cells": [
  {
   "cell_type": "code",
   "execution_count": 1,
   "id": "1cf407db",
   "metadata": {},
   "outputs": [],
   "source": [
    "import pandas as pd"
   ]
  },
  {
   "cell_type": "code",
   "execution_count": 2,
   "id": "f4822f28",
   "metadata": {},
   "outputs": [
    {
     "data": {
      "text/plain": [
       "0     2022-10-13 00:00:00\n",
       "1     2022-10-13 00:00:01\n",
       "2     2022-10-13 00:00:02\n",
       "3     2022-10-13 00:00:03\n",
       "4     2022-10-13 00:00:04\n",
       "              ...        \n",
       "995   2022-10-13 00:16:35\n",
       "996   2022-10-13 00:16:36\n",
       "997   2022-10-13 00:16:37\n",
       "998   2022-10-13 00:16:38\n",
       "999   2022-10-13 00:16:39\n",
       "Length: 1000, dtype: datetime64[ns]"
      ]
     },
     "execution_count": 2,
     "metadata": {},
     "output_type": "execute_result"
    }
   ],
   "source": [
    "ser = pd.Series(pd.date_range('2022-10-13',freq = 's',periods = 1000))\n",
    "ser\n",
    "                              "
   ]
  },
  {
   "cell_type": "code",
   "execution_count": 3,
   "id": "f9a41250",
   "metadata": {},
   "outputs": [
    {
     "data": {
      "text/plain": [
       "0      1.665619e+09\n",
       "1      1.665619e+09\n",
       "2      1.665619e+09\n",
       "3      1.665619e+09\n",
       "4      1.665619e+09\n",
       "           ...     \n",
       "995    1.665620e+09\n",
       "996    1.665620e+09\n",
       "997    1.665620e+09\n",
       "998    1.665620e+09\n",
       "999    1.665620e+09\n",
       "Length: 1000, dtype: float64"
      ]
     },
     "execution_count": 3,
     "metadata": {},
     "output_type": "execute_result"
    }
   ],
   "source": [
    "ser.apply(pd.Timestamp.timestamp)"
   ]
  },
  {
   "cell_type": "code",
   "execution_count": null,
   "id": "ef2f6451",
   "metadata": {},
   "outputs": [],
   "source": []
  }
 ],
 "metadata": {
  "kernelspec": {
   "display_name": "Python 3 (ipykernel)",
   "language": "python",
   "name": "python3"
  },
  "language_info": {
   "codemirror_mode": {
    "name": "ipython",
    "version": 3
   },
   "file_extension": ".py",
   "mimetype": "text/x-python",
   "name": "python",
   "nbconvert_exporter": "python",
   "pygments_lexer": "ipython3",
   "version": "3.8.3"
  }
 },
 "nbformat": 4,
 "nbformat_minor": 5
}
