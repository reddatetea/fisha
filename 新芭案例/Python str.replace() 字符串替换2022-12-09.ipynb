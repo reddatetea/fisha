{
 "cells": [
  {
   "cell_type": "code",
   "execution_count": 1,
   "id": "04895422",
   "metadata": {},
   "outputs": [
    {
     "data": {
      "text/plain": [
       "'Bad boy'"
      ]
     },
     "execution_count": 1,
     "metadata": {},
     "output_type": "execute_result"
    }
   ],
   "source": [
    "'Good boy'.replace('Good', 'Bad')"
   ]
  },
  {
   "cell_type": "code",
   "execution_count": 2,
   "id": "b7158172",
   "metadata": {},
   "outputs": [
    {
     "data": {
      "text/plain": [
       "'Good boy'"
      ]
     },
     "execution_count": 2,
     "metadata": {},
     "output_type": "execute_result"
    }
   ],
   "source": [
    "'Good boy'.replace('Bad', 'Good')"
   ]
  },
  {
   "cell_type": "code",
   "execution_count": 3,
   "id": "4c0fff46",
   "metadata": {},
   "outputs": [
    {
     "data": {
      "text/plain": [
       "'Abcabc'"
      ]
     },
     "execution_count": 3,
     "metadata": {},
     "output_type": "execute_result"
    }
   ],
   "source": [
    "'abcabc'.replace('a', 'A', 1)"
   ]
  },
  {
   "cell_type": "code",
   "execution_count": 4,
   "id": "a4954d90",
   "metadata": {},
   "outputs": [
    {
     "data": {
      "text/plain": [
       "'abc'"
      ]
     },
     "execution_count": 4,
     "metadata": {},
     "output_type": "execute_result"
    }
   ],
   "source": [
    "'a b c'.replace(' ', '')"
   ]
  },
  {
   "cell_type": "code",
   "execution_count": 5,
   "id": "0bbd8473",
   "metadata": {},
   "outputs": [
    {
     "data": {
      "text/plain": [
       "'AaAbAcAaAbAcA'"
      ]
     },
     "execution_count": 5,
     "metadata": {},
     "output_type": "execute_result"
    }
   ],
   "source": [
    "'abcabc'.replace('', 'A')"
   ]
  },
  {
   "cell_type": "code",
   "execution_count": 6,
   "id": "a5facc2d",
   "metadata": {},
   "outputs": [
    {
     "data": {
      "text/plain": [
       "'abcabc'"
      ]
     },
     "execution_count": 6,
     "metadata": {},
     "output_type": "execute_result"
    }
   ],
   "source": [
    "'abcabc'.replace('a', 'A', 0)"
   ]
  },
  {
   "cell_type": "code",
   "execution_count": 7,
   "id": "f676aec9",
   "metadata": {},
   "outputs": [
    {
     "data": {
      "text/plain": [
       "'AbcAbc'"
      ]
     },
     "execution_count": 7,
     "metadata": {},
     "output_type": "execute_result"
    }
   ],
   "source": [
    "'abcabc'.replace('a', 'A', -1)"
   ]
  },
  {
   "cell_type": "code",
   "execution_count": 8,
   "id": "0b1afc94",
   "metadata": {},
   "outputs": [
    {
     "data": {
      "text/plain": [
       "'AbcAbc'"
      ]
     },
     "execution_count": 8,
     "metadata": {},
     "output_type": "execute_result"
    }
   ],
   "source": [
    "'abcabc'.replace('a', 'A', -999)"
   ]
  },
  {
   "cell_type": "code",
   "execution_count": null,
   "id": "e2658324",
   "metadata": {},
   "outputs": [],
   "source": []
  }
 ],
 "metadata": {
  "kernelspec": {
   "display_name": "Python 3 (ipykernel)",
   "language": "python",
   "name": "python3"
  },
  "language_info": {
   "codemirror_mode": {
    "name": "ipython",
    "version": 3
   },
   "file_extension": ".py",
   "mimetype": "text/x-python",
   "name": "python",
   "nbconvert_exporter": "python",
   "pygments_lexer": "ipython3",
   "version": "3.8.3"
  }
 },
 "nbformat": 4,
 "nbformat_minor": 5
}
