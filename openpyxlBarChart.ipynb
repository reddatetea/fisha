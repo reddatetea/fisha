{
 "cells": [
  {
   "cell_type": "code",
   "execution_count": 27,
   "id": "af41d556",
   "metadata": {},
   "outputs": [],
   "source": [
    "import openpyxl\n",
    "from openpyxl.chart import BarChart,Reference\n",
    "xlsfile = openpyxl.Workbook()"
   ]
  },
  {
   "cell_type": "code",
   "execution_count": 28,
   "id": "c677797d",
   "metadata": {},
   "outputs": [
    {
     "data": {
      "text/plain": [
       "[('Name', 'Adminission'),\n",
       " ('Gone With the Wind', 225.7),\n",
       " ('Star Wars', 194.4),\n",
       " ('ET:The Extraterrestrial', 161.0)]"
      ]
     },
     "execution_count": 28,
     "metadata": {},
     "output_type": "execute_result"
    }
   ],
   "source": [
    "data = [('Name','Adminission'),\n",
    "    ('Gone With the Wind',225.7,),\n",
    "         ('Star Wars',194.4),\n",
    "          ('ET:The Extraterrestrial',161.0)]\n",
    "data"
   ]
  },
  {
   "cell_type": "code",
   "execution_count": 29,
   "id": "d4920066",
   "metadata": {},
   "outputs": [],
   "source": [
    "ws = xlsfile['Sheet']\n",
    "for row in data:\n",
    "    ws.append(row)"
   ]
  },
  {
   "cell_type": "code",
   "execution_count": 30,
   "id": "8b83a246",
   "metadata": {},
   "outputs": [],
   "source": [
    "chart = BarChart()\n",
    "chart.title = 'Adminission per movie'\n",
    "chart.y_axis.title =' Millions'\n",
    "data1 = Reference(ws,min_row = 2,max_row = 4,min_col = 1,max_col =2)\n",
    "chart.add_data(data1,from_rows = True,titles_from_data = True)\n",
    "ws.add_chart(chart,'A6')\n",
    "xlsfile.save('movie_chart.xlsx')"
   ]
  },
  {
   "cell_type": "code",
   "execution_count": null,
   "id": "6c732ba2",
   "metadata": {},
   "outputs": [],
   "source": []
  }
 ],
 "metadata": {
  "kernelspec": {
   "display_name": "Python 3 (ipykernel)",
   "language": "python",
   "name": "python3"
  },
  "language_info": {
   "codemirror_mode": {
    "name": "ipython",
    "version": 3
   },
   "file_extension": ".py",
   "mimetype": "text/x-python",
   "name": "python",
   "nbconvert_exporter": "python",
   "pygments_lexer": "ipython3",
   "version": "3.8.3"
  }
 },
 "nbformat": 4,
 "nbformat_minor": 5
}
