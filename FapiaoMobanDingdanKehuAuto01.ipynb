{
 "cells": [
  {
   "cell_type": "code",
   "execution_count": 1,
   "id": "a6ffe7e6-36a1-4d08-a31b-d19d34ff3e0c",
   "metadata": {},
   "outputs": [],
   "source": [
    "'''\n",
    "tcloud中用销售订单生成税局发票模板\n",
    "1. 分别按每个销售订单汇总，再按存货编码汇总，批量生成发票模板，存于同一文件夹下\n",
    "2. 分别按每个客户汇总，再按存货编码汇总，批量生成发票模板，存于同一文件夹下\n",
    "3. 选择税率\n",
    "全部自动生成\n",
    "\n",
    "\n",
    "'''\n",
    "import os\n",
    "import re\n",
    "import easygui\n",
    "import openpyxl\n",
    "import numpy as np\n",
    "import pandas as pd\n",
    "import shutil"
   ]
  },
  {
   "cell_type": "code",
   "execution_count": 2,
   "id": "e9b9ca65-24cd-4e12-9b65-199d10aa9387",
   "metadata": {},
   "outputs": [],
   "source": [
    "def getPivot(df):\n",
    "    bianba_fenlei = dict(zip(df['存货编码'],df['存货分类']))\n",
    "    bianba_mingchen = dict(zip(df['存货编码'],df['存货名称']))\n",
    "    bianba_daima = dict(zip(df['存货编码'],df['存货代码']))\n",
    "    bianba_hanlian = dict(zip(df['存货编码'],df['件含量']))\n",
    "    pivot = df.pivot_table(index = '存货编码',values = ['数量','数量（件）','含税金额'] ,aggfunc = 'sum')\n",
    "    pivot = pivot.reset_index()\n",
    "    pivot = pivot.assign(fenlei = pivot['存货编码'].map(bianba_fenlei))\n",
    "    pivot = pivot.assign(mingchen = pivot['存货编码'].map(bianba_mingchen))\n",
    "    pivot = pivot.assign(daima = pivot['存货编码'].map(bianba_daima))\n",
    "    pivot = pivot.assign(hanliang = pivot['存货编码'].map(bianba_hanlian))\n",
    "    dic = dict(zip(['fenlei','mingchen','daima','hanliang'],['存货分类','存货名称','存货代码','件含量']))\n",
    "    pivot = pivot.rename(columns =  dic)\n",
    "    guige_qian = []\n",
    "    guige_hou = []\n",
    "    for i in pivot['存货名称'].to_list():\n",
    "        qian0,hou0 = guige(i)\n",
    "        guige_qian.append(qian0)\n",
    "        guige_hou.append(hou0)\n",
    "    pivot = pivot.assign(qian = guige_qian)\n",
    "    pivot = pivot.assign(hou = guige_hou)\n",
    "    return pivot\n",
    "\n",
    "def getFapiaoBen(d,shuilu,shuliang_fangsi):\n",
    "    \n",
    "    d['项目名称'] = d['存货编码'] +  d['hou']\n",
    "    d['项目名称'] = d['项目名称'].str.replace('运费-','运费')\n",
    "    # d['项目名称'] = d['项目名称'].str.split('-').str[0]\n",
    "    d['商品和服务税收分类编码'] = '1060202010000000000'\n",
    "    d['规格型号'] = d['qian']\n",
    "    if shuliang_fangsi == '本数':\n",
    "        d['单位'] = '本'\n",
    "        d['商品数量'] = d['数量']\n",
    "    else :\n",
    "        d['单位'] = '件'\n",
    "        d['商品数量'] = d['数量（件）']\n",
    "        \n",
    "    d['商品单价'] = ''\n",
    "    d['金额'] = d['含税金额']\n",
    "    d['税率'] = shuilu\n",
    "    d['折扣金额'] = ''\n",
    "    d['优惠政策类型'] = ''\n",
    "    d = d[['项目名称',\n",
    "     '商品和服务税收分类编码',\n",
    "     '规格型号',\n",
    "     '单位',\n",
    "     '商品数量',\n",
    "     '商品单价',\n",
    "     '金额',\n",
    "     '税率',\n",
    "     '折扣金额',\n",
    "     '优惠政策类型',]]\n",
    "    return d\n",
    "\n",
    "def getFapiaoMoban(gongsi,shuliang_fangsi):\n",
    "    filename=''.join(['发票模板-',shuliang_fangsi,'-',gongsi,'.xlsx'])\n",
    "    newname = os.path.join(path1,filename)\n",
    "    shutil.copyfile(fname_fapiao, newname)\n",
    "    return newname\n",
    "\n",
    "def getFapiaoMobanDingdanhao(gongsi,shuliang_fangsi,dingdanhao):\n",
    "    filename=''.join(['发票模板-',gongsi,'-',shuliang_fangsi,'-',dingdanhao,'.xlsx'])\n",
    "    newname = os.path.join(path1,filename)\n",
    "    shutil.copyfile(fname_fapiao, newname)\n",
    "    return newname\n",
    "\n",
    "def fengefu(string):\n",
    "    num = len(string.split('-'))\n",
    "    if num  == 3 :\n",
    "        string = '-'.join([string.split('-')[0],string.split('-')[1]])\n",
    "    elif num == 2 :\n",
    "        if len(string.split('-')[0]) <= 4:\n",
    "            string = string\n",
    "        else :\n",
    "            string = string.split('-')[0]\n",
    "    else :\n",
    "        string = string\n",
    "    return string\n",
    "\n",
    "def guige(string):\n",
    "    if ('型' in string) and ('页' in string):\n",
    "        qian0 = string.split('型')[0] + '型'\n",
    "        hou0 =  string.split('型')[1] \n",
    "    elif ('型' in string) or ('页' in string):\n",
    "        if '型' in string :\n",
    "            qian0 = string.split('型')[0] + '型'\n",
    "            hou0 =  string.split('型')[1] \n",
    "        else :\n",
    "            qian0 = string.split('页')[0] + '页'\n",
    "            hou0 =  string.split('页')[1] \n",
    "    else :\n",
    "        qian0 = ''\n",
    "        hou0 = ''\n",
    "    return qian0,hou0    \n",
    "            \n",
    "    \n",
    "    "
   ]
  },
  {
   "cell_type": "code",
   "execution_count": 3,
   "id": "432bc23f-fb7f-4d0b-a263-dfd9cbc759b7",
   "metadata": {},
   "outputs": [],
   "source": [
    "path = r'F:\\a00nutstore\\008\\zw08\\莱新订单20241029'\n",
    "os.chdir(path)\n",
    "#莱新销售订单超5000条，不能一次导出，分三次导出，并分别存于同一文件下，先将它们合并\n",
    "data = []\n",
    "for i in os.listdir(path):\n",
    "    if  os.path.isfile(i):\n",
    "        i = os.path.join(path,i)\n",
    "        df = pd.read_excel(i)\n",
    "        data.append(df)\n",
    "    else :\n",
    "        continue\n",
    "   \n",
    "\n",
    "df_xiaoshou0 = pd.concat(data)\n",
    "df_xiaoshou1 = df_xiaoshou0.loc[df_xiaoshou0['单据执行状态'] != '合计']\n",
    "lst1 = ['单据编号',\n",
    "  '单据日期',\n",
    " '含税总金额',\n",
    " '存货名称',\n",
    " '存货分类',\n",
    " '存货编码',\n",
    "  '存货代码',\n",
    "  '数量',\n",
    "  '件含量',\n",
    " '数量（件）',\n",
    "  '含税单价',\n",
    " '含税金额',\n",
    "        '客户']\n",
    "df_xiaoshou2 = df_xiaoshou1[lst1]\n",
    "df_xiaoshou3 = df_xiaoshou2.copy()\n",
    "s = []\n",
    "for i in df_xiaoshou2['存货编码'].to_list():\n",
    "    j = fengefu(i)\n",
    "    s.append(j)\n",
    "df_xiaoshou3['存货编码'] = s"
   ]
  },
  {
   "cell_type": "code",
   "execution_count": 4,
   "id": "09bd583f-676c-4b51-b363-bcbd158cc6df",
   "metadata": {},
   "outputs": [],
   "source": [
    "#选择税率\n",
    "shuilu = easygui.choicebox(msg = '请选择税率',choices = [0.13,0.01,0.02])\n",
    "shuilu  = float(shuilu)\n",
    "#选择数量的开具方式，件数or本数\n",
    "shuliang_fangsi = easygui.choicebox(msg = '请选择数量开具方式',choices = ['件数','本数'])\n",
    "# #选择发票开具方式\n",
    "# fapiao_fangsi = easygui.choicebox(msg = '请选择发票开具方式',choices = ['按客户和存货编码','按销售订单和存货编码','按客户汇总'])"
   ]
  },
  {
   "cell_type": "code",
   "execution_count": 5,
   "id": "df0bcd1c-144f-49b0-9f78-275c734be3d4",
   "metadata": {},
   "outputs": [
    {
     "data": {
      "text/html": [
       "<div>\n",
       "<style scoped>\n",
       "    .dataframe tbody tr th:only-of-type {\n",
       "        vertical-align: middle;\n",
       "    }\n",
       "\n",
       "    .dataframe tbody tr th {\n",
       "        vertical-align: top;\n",
       "    }\n",
       "\n",
       "    .dataframe thead th {\n",
       "        text-align: right;\n",
       "    }\n",
       "</style>\n",
       "<table border=\"1\" class=\"dataframe\">\n",
       "  <thead>\n",
       "    <tr style=\"text-align: right;\">\n",
       "      <th></th>\n",
       "      <th>项目名称</th>\n",
       "      <th>商品和服务税收分类编码</th>\n",
       "      <th>规格型号</th>\n",
       "      <th>单位</th>\n",
       "      <th>商品数量</th>\n",
       "      <th>商品单价</th>\n",
       "      <th>金额</th>\n",
       "      <th>税率</th>\n",
       "      <th>折扣金额</th>\n",
       "      <th>优惠政策类型</th>\n",
       "    </tr>\n",
       "  </thead>\n",
       "  <tbody>\n",
       "  </tbody>\n",
       "</table>\n",
       "</div>"
      ],
      "text/plain": [
       "Empty DataFrame\n",
       "Columns: [项目名称, 商品和服务税收分类编码, 规格型号, 单位, 商品数量, 商品单价, 金额, 税率, 折扣金额, 优惠政策类型]\n",
       "Index: []"
      ]
     },
     "execution_count": 5,
     "metadata": {},
     "output_type": "execute_result"
    }
   ],
   "source": [
    "#读取发票模板\n",
    "fname_fapiao = r\"F:\\repos\\fish\\发票模板.xlsx\"\n",
    "df_fapiao = pd.read_excel(fname_fapiao,header = 2,dtype = {'商品和服务税收分类编码':'str'})\n",
    "df_fapiao"
   ]
  },
  {
   "cell_type": "code",
   "execution_count": 6,
   "id": "2d7deff6-da50-4dc9-a55e-99ef17b2f58f",
   "metadata": {},
   "outputs": [
    {
     "name": "stderr",
     "output_type": "stream",
     "text": [
      "C:\\Users\\redda\\.conda\\envs\\py311\\Lib\\site-packages\\openpyxl\\worksheet\\_reader.py:329: UserWarning: Data Validation extension is not supported and will be removed\n",
      "  warn(msg)\n",
      "C:\\Users\\redda\\.conda\\envs\\py311\\Lib\\site-packages\\openpyxl\\worksheet\\_reader.py:329: UserWarning: Data Validation extension is not supported and will be removed\n",
      "  warn(msg)\n",
      "C:\\Users\\redda\\.conda\\envs\\py311\\Lib\\site-packages\\openpyxl\\worksheet\\_reader.py:329: UserWarning: Data Validation extension is not supported and will be removed\n",
      "  warn(msg)\n",
      "C:\\Users\\redda\\.conda\\envs\\py311\\Lib\\site-packages\\openpyxl\\worksheet\\_reader.py:329: UserWarning: Data Validation extension is not supported and will be removed\n",
      "  warn(msg)\n",
      "C:\\Users\\redda\\.conda\\envs\\py311\\Lib\\site-packages\\openpyxl\\worksheet\\_reader.py:329: UserWarning: Data Validation extension is not supported and will be removed\n",
      "  warn(msg)\n",
      "C:\\Users\\redda\\.conda\\envs\\py311\\Lib\\site-packages\\openpyxl\\worksheet\\_reader.py:329: UserWarning: Data Validation extension is not supported and will be removed\n",
      "  warn(msg)\n",
      "C:\\Users\\redda\\.conda\\envs\\py311\\Lib\\site-packages\\openpyxl\\worksheet\\_reader.py:329: UserWarning: Data Validation extension is not supported and will be removed\n",
      "  warn(msg)\n",
      "C:\\Users\\redda\\.conda\\envs\\py311\\Lib\\site-packages\\openpyxl\\worksheet\\_reader.py:329: UserWarning: Data Validation extension is not supported and will be removed\n",
      "  warn(msg)\n",
      "C:\\Users\\redda\\.conda\\envs\\py311\\Lib\\site-packages\\openpyxl\\worksheet\\_reader.py:329: UserWarning: Data Validation extension is not supported and will be removed\n",
      "  warn(msg)\n",
      "C:\\Users\\redda\\.conda\\envs\\py311\\Lib\\site-packages\\openpyxl\\worksheet\\_reader.py:329: UserWarning: Data Validation extension is not supported and will be removed\n",
      "  warn(msg)\n",
      "C:\\Users\\redda\\.conda\\envs\\py311\\Lib\\site-packages\\openpyxl\\worksheet\\_reader.py:329: UserWarning: Data Validation extension is not supported and will be removed\n",
      "  warn(msg)\n",
      "C:\\Users\\redda\\.conda\\envs\\py311\\Lib\\site-packages\\openpyxl\\worksheet\\_reader.py:329: UserWarning: Data Validation extension is not supported and will be removed\n",
      "  warn(msg)\n",
      "C:\\Users\\redda\\.conda\\envs\\py311\\Lib\\site-packages\\openpyxl\\worksheet\\_reader.py:329: UserWarning: Data Validation extension is not supported and will be removed\n",
      "  warn(msg)\n",
      "C:\\Users\\redda\\.conda\\envs\\py311\\Lib\\site-packages\\openpyxl\\worksheet\\_reader.py:329: UserWarning: Data Validation extension is not supported and will be removed\n",
      "  warn(msg)\n",
      "C:\\Users\\redda\\.conda\\envs\\py311\\Lib\\site-packages\\openpyxl\\worksheet\\_reader.py:329: UserWarning: Data Validation extension is not supported and will be removed\n",
      "  warn(msg)\n",
      "C:\\Users\\redda\\.conda\\envs\\py311\\Lib\\site-packages\\openpyxl\\worksheet\\_reader.py:329: UserWarning: Data Validation extension is not supported and will be removed\n",
      "  warn(msg)\n",
      "C:\\Users\\redda\\.conda\\envs\\py311\\Lib\\site-packages\\openpyxl\\worksheet\\_reader.py:329: UserWarning: Data Validation extension is not supported and will be removed\n",
      "  warn(msg)\n",
      "C:\\Users\\redda\\.conda\\envs\\py311\\Lib\\site-packages\\openpyxl\\worksheet\\_reader.py:329: UserWarning: Data Validation extension is not supported and will be removed\n",
      "  warn(msg)\n",
      "C:\\Users\\redda\\.conda\\envs\\py311\\Lib\\site-packages\\openpyxl\\worksheet\\_reader.py:329: UserWarning: Data Validation extension is not supported and will be removed\n",
      "  warn(msg)\n",
      "C:\\Users\\redda\\.conda\\envs\\py311\\Lib\\site-packages\\openpyxl\\worksheet\\_reader.py:329: UserWarning: Data Validation extension is not supported and will be removed\n",
      "  warn(msg)\n",
      "C:\\Users\\redda\\.conda\\envs\\py311\\Lib\\site-packages\\openpyxl\\worksheet\\_reader.py:329: UserWarning: Data Validation extension is not supported and will be removed\n",
      "  warn(msg)\n",
      "C:\\Users\\redda\\.conda\\envs\\py311\\Lib\\site-packages\\openpyxl\\worksheet\\_reader.py:329: UserWarning: Data Validation extension is not supported and will be removed\n",
      "  warn(msg)\n",
      "C:\\Users\\redda\\.conda\\envs\\py311\\Lib\\site-packages\\openpyxl\\worksheet\\_reader.py:329: UserWarning: Data Validation extension is not supported and will be removed\n",
      "  warn(msg)\n",
      "C:\\Users\\redda\\.conda\\envs\\py311\\Lib\\site-packages\\openpyxl\\worksheet\\_reader.py:329: UserWarning: Data Validation extension is not supported and will be removed\n",
      "  warn(msg)\n",
      "C:\\Users\\redda\\.conda\\envs\\py311\\Lib\\site-packages\\openpyxl\\worksheet\\_reader.py:329: UserWarning: Data Validation extension is not supported and will be removed\n",
      "  warn(msg)\n",
      "C:\\Users\\redda\\.conda\\envs\\py311\\Lib\\site-packages\\openpyxl\\worksheet\\_reader.py:329: UserWarning: Data Validation extension is not supported and will be removed\n",
      "  warn(msg)\n",
      "C:\\Users\\redda\\.conda\\envs\\py311\\Lib\\site-packages\\openpyxl\\worksheet\\_reader.py:329: UserWarning: Data Validation extension is not supported and will be removed\n",
      "  warn(msg)\n",
      "C:\\Users\\redda\\.conda\\envs\\py311\\Lib\\site-packages\\openpyxl\\worksheet\\_reader.py:329: UserWarning: Data Validation extension is not supported and will be removed\n",
      "  warn(msg)\n",
      "C:\\Users\\redda\\.conda\\envs\\py311\\Lib\\site-packages\\openpyxl\\worksheet\\_reader.py:329: UserWarning: Data Validation extension is not supported and will be removed\n",
      "  warn(msg)\n",
      "C:\\Users\\redda\\.conda\\envs\\py311\\Lib\\site-packages\\openpyxl\\worksheet\\_reader.py:329: UserWarning: Data Validation extension is not supported and will be removed\n",
      "  warn(msg)\n",
      "C:\\Users\\redda\\.conda\\envs\\py311\\Lib\\site-packages\\openpyxl\\worksheet\\_reader.py:329: UserWarning: Data Validation extension is not supported and will be removed\n",
      "  warn(msg)\n",
      "C:\\Users\\redda\\.conda\\envs\\py311\\Lib\\site-packages\\openpyxl\\worksheet\\_reader.py:329: UserWarning: Data Validation extension is not supported and will be removed\n",
      "  warn(msg)\n",
      "C:\\Users\\redda\\.conda\\envs\\py311\\Lib\\site-packages\\openpyxl\\worksheet\\_reader.py:329: UserWarning: Data Validation extension is not supported and will be removed\n",
      "  warn(msg)\n",
      "C:\\Users\\redda\\.conda\\envs\\py311\\Lib\\site-packages\\openpyxl\\worksheet\\_reader.py:329: UserWarning: Data Validation extension is not supported and will be removed\n",
      "  warn(msg)\n",
      "C:\\Users\\redda\\.conda\\envs\\py311\\Lib\\site-packages\\openpyxl\\worksheet\\_reader.py:329: UserWarning: Data Validation extension is not supported and will be removed\n",
      "  warn(msg)\n",
      "C:\\Users\\redda\\.conda\\envs\\py311\\Lib\\site-packages\\openpyxl\\worksheet\\_reader.py:329: UserWarning: Data Validation extension is not supported and will be removed\n",
      "  warn(msg)\n",
      "C:\\Users\\redda\\.conda\\envs\\py311\\Lib\\site-packages\\openpyxl\\worksheet\\_reader.py:329: UserWarning: Data Validation extension is not supported and will be removed\n",
      "  warn(msg)\n",
      "C:\\Users\\redda\\.conda\\envs\\py311\\Lib\\site-packages\\openpyxl\\worksheet\\_reader.py:329: UserWarning: Data Validation extension is not supported and will be removed\n",
      "  warn(msg)\n",
      "C:\\Users\\redda\\.conda\\envs\\py311\\Lib\\site-packages\\openpyxl\\worksheet\\_reader.py:329: UserWarning: Data Validation extension is not supported and will be removed\n",
      "  warn(msg)\n",
      "C:\\Users\\redda\\.conda\\envs\\py311\\Lib\\site-packages\\openpyxl\\worksheet\\_reader.py:329: UserWarning: Data Validation extension is not supported and will be removed\n",
      "  warn(msg)\n",
      "C:\\Users\\redda\\.conda\\envs\\py311\\Lib\\site-packages\\openpyxl\\worksheet\\_reader.py:329: UserWarning: Data Validation extension is not supported and will be removed\n",
      "  warn(msg)\n",
      "C:\\Users\\redda\\.conda\\envs\\py311\\Lib\\site-packages\\openpyxl\\worksheet\\_reader.py:329: UserWarning: Data Validation extension is not supported and will be removed\n",
      "  warn(msg)\n",
      "C:\\Users\\redda\\.conda\\envs\\py311\\Lib\\site-packages\\openpyxl\\worksheet\\_reader.py:329: UserWarning: Data Validation extension is not supported and will be removed\n",
      "  warn(msg)\n",
      "C:\\Users\\redda\\.conda\\envs\\py311\\Lib\\site-packages\\openpyxl\\worksheet\\_reader.py:329: UserWarning: Data Validation extension is not supported and will be removed\n",
      "  warn(msg)\n",
      "C:\\Users\\redda\\.conda\\envs\\py311\\Lib\\site-packages\\openpyxl\\worksheet\\_reader.py:329: UserWarning: Data Validation extension is not supported and will be removed\n",
      "  warn(msg)\n",
      "C:\\Users\\redda\\.conda\\envs\\py311\\Lib\\site-packages\\openpyxl\\worksheet\\_reader.py:329: UserWarning: Data Validation extension is not supported and will be removed\n",
      "  warn(msg)\n",
      "C:\\Users\\redda\\.conda\\envs\\py311\\Lib\\site-packages\\openpyxl\\worksheet\\_reader.py:329: UserWarning: Data Validation extension is not supported and will be removed\n",
      "  warn(msg)\n",
      "C:\\Users\\redda\\.conda\\envs\\py311\\Lib\\site-packages\\openpyxl\\worksheet\\_reader.py:329: UserWarning: Data Validation extension is not supported and will be removed\n",
      "  warn(msg)\n",
      "C:\\Users\\redda\\.conda\\envs\\py311\\Lib\\site-packages\\openpyxl\\worksheet\\_reader.py:329: UserWarning: Data Validation extension is not supported and will be removed\n",
      "  warn(msg)\n",
      "C:\\Users\\redda\\.conda\\envs\\py311\\Lib\\site-packages\\openpyxl\\worksheet\\_reader.py:329: UserWarning: Data Validation extension is not supported and will be removed\n",
      "  warn(msg)\n",
      "C:\\Users\\redda\\.conda\\envs\\py311\\Lib\\site-packages\\openpyxl\\worksheet\\_reader.py:329: UserWarning: Data Validation extension is not supported and will be removed\n",
      "  warn(msg)\n",
      "C:\\Users\\redda\\.conda\\envs\\py311\\Lib\\site-packages\\openpyxl\\worksheet\\_reader.py:329: UserWarning: Data Validation extension is not supported and will be removed\n",
      "  warn(msg)\n",
      "C:\\Users\\redda\\.conda\\envs\\py311\\Lib\\site-packages\\openpyxl\\worksheet\\_reader.py:329: UserWarning: Data Validation extension is not supported and will be removed\n",
      "  warn(msg)\n",
      "C:\\Users\\redda\\.conda\\envs\\py311\\Lib\\site-packages\\openpyxl\\worksheet\\_reader.py:329: UserWarning: Data Validation extension is not supported and will be removed\n",
      "  warn(msg)\n",
      "C:\\Users\\redda\\.conda\\envs\\py311\\Lib\\site-packages\\openpyxl\\worksheet\\_reader.py:329: UserWarning: Data Validation extension is not supported and will be removed\n",
      "  warn(msg)\n",
      "C:\\Users\\redda\\.conda\\envs\\py311\\Lib\\site-packages\\openpyxl\\worksheet\\_reader.py:329: UserWarning: Data Validation extension is not supported and will be removed\n",
      "  warn(msg)\n",
      "C:\\Users\\redda\\.conda\\envs\\py311\\Lib\\site-packages\\openpyxl\\worksheet\\_reader.py:329: UserWarning: Data Validation extension is not supported and will be removed\n",
      "  warn(msg)\n",
      "C:\\Users\\redda\\.conda\\envs\\py311\\Lib\\site-packages\\openpyxl\\worksheet\\_reader.py:329: UserWarning: Data Validation extension is not supported and will be removed\n",
      "  warn(msg)\n",
      "C:\\Users\\redda\\.conda\\envs\\py311\\Lib\\site-packages\\openpyxl\\worksheet\\_reader.py:329: UserWarning: Data Validation extension is not supported and will be removed\n",
      "  warn(msg)\n",
      "C:\\Users\\redda\\.conda\\envs\\py311\\Lib\\site-packages\\openpyxl\\worksheet\\_reader.py:329: UserWarning: Data Validation extension is not supported and will be removed\n",
      "  warn(msg)\n",
      "C:\\Users\\redda\\.conda\\envs\\py311\\Lib\\site-packages\\openpyxl\\worksheet\\_reader.py:329: UserWarning: Data Validation extension is not supported and will be removed\n",
      "  warn(msg)\n",
      "C:\\Users\\redda\\.conda\\envs\\py311\\Lib\\site-packages\\openpyxl\\worksheet\\_reader.py:329: UserWarning: Data Validation extension is not supported and will be removed\n",
      "  warn(msg)\n",
      "C:\\Users\\redda\\.conda\\envs\\py311\\Lib\\site-packages\\openpyxl\\worksheet\\_reader.py:329: UserWarning: Data Validation extension is not supported and will be removed\n",
      "  warn(msg)\n",
      "C:\\Users\\redda\\.conda\\envs\\py311\\Lib\\site-packages\\openpyxl\\worksheet\\_reader.py:329: UserWarning: Data Validation extension is not supported and will be removed\n",
      "  warn(msg)\n",
      "C:\\Users\\redda\\.conda\\envs\\py311\\Lib\\site-packages\\openpyxl\\worksheet\\_reader.py:329: UserWarning: Data Validation extension is not supported and will be removed\n",
      "  warn(msg)\n",
      "C:\\Users\\redda\\.conda\\envs\\py311\\Lib\\site-packages\\openpyxl\\worksheet\\_reader.py:329: UserWarning: Data Validation extension is not supported and will be removed\n",
      "  warn(msg)\n",
      "C:\\Users\\redda\\.conda\\envs\\py311\\Lib\\site-packages\\openpyxl\\worksheet\\_reader.py:329: UserWarning: Data Validation extension is not supported and will be removed\n",
      "  warn(msg)\n",
      "C:\\Users\\redda\\.conda\\envs\\py311\\Lib\\site-packages\\openpyxl\\worksheet\\_reader.py:329: UserWarning: Data Validation extension is not supported and will be removed\n",
      "  warn(msg)\n",
      "C:\\Users\\redda\\.conda\\envs\\py311\\Lib\\site-packages\\openpyxl\\worksheet\\_reader.py:329: UserWarning: Data Validation extension is not supported and will be removed\n",
      "  warn(msg)\n",
      "C:\\Users\\redda\\.conda\\envs\\py311\\Lib\\site-packages\\openpyxl\\worksheet\\_reader.py:329: UserWarning: Data Validation extension is not supported and will be removed\n",
      "  warn(msg)\n",
      "C:\\Users\\redda\\.conda\\envs\\py311\\Lib\\site-packages\\openpyxl\\worksheet\\_reader.py:329: UserWarning: Data Validation extension is not supported and will be removed\n",
      "  warn(msg)\n",
      "C:\\Users\\redda\\.conda\\envs\\py311\\Lib\\site-packages\\openpyxl\\worksheet\\_reader.py:329: UserWarning: Data Validation extension is not supported and will be removed\n",
      "  warn(msg)\n",
      "C:\\Users\\redda\\.conda\\envs\\py311\\Lib\\site-packages\\openpyxl\\worksheet\\_reader.py:329: UserWarning: Data Validation extension is not supported and will be removed\n",
      "  warn(msg)\n",
      "C:\\Users\\redda\\.conda\\envs\\py311\\Lib\\site-packages\\openpyxl\\worksheet\\_reader.py:329: UserWarning: Data Validation extension is not supported and will be removed\n",
      "  warn(msg)\n",
      "C:\\Users\\redda\\.conda\\envs\\py311\\Lib\\site-packages\\openpyxl\\worksheet\\_reader.py:329: UserWarning: Data Validation extension is not supported and will be removed\n",
      "  warn(msg)\n",
      "C:\\Users\\redda\\.conda\\envs\\py311\\Lib\\site-packages\\openpyxl\\worksheet\\_reader.py:329: UserWarning: Data Validation extension is not supported and will be removed\n",
      "  warn(msg)\n",
      "C:\\Users\\redda\\.conda\\envs\\py311\\Lib\\site-packages\\openpyxl\\worksheet\\_reader.py:329: UserWarning: Data Validation extension is not supported and will be removed\n",
      "  warn(msg)\n",
      "C:\\Users\\redda\\.conda\\envs\\py311\\Lib\\site-packages\\openpyxl\\worksheet\\_reader.py:329: UserWarning: Data Validation extension is not supported and will be removed\n",
      "  warn(msg)\n",
      "C:\\Users\\redda\\.conda\\envs\\py311\\Lib\\site-packages\\openpyxl\\worksheet\\_reader.py:329: UserWarning: Data Validation extension is not supported and will be removed\n",
      "  warn(msg)\n",
      "C:\\Users\\redda\\.conda\\envs\\py311\\Lib\\site-packages\\openpyxl\\worksheet\\_reader.py:329: UserWarning: Data Validation extension is not supported and will be removed\n",
      "  warn(msg)\n",
      "C:\\Users\\redda\\.conda\\envs\\py311\\Lib\\site-packages\\openpyxl\\worksheet\\_reader.py:329: UserWarning: Data Validation extension is not supported and will be removed\n",
      "  warn(msg)\n",
      "C:\\Users\\redda\\.conda\\envs\\py311\\Lib\\site-packages\\openpyxl\\worksheet\\_reader.py:329: UserWarning: Data Validation extension is not supported and will be removed\n",
      "  warn(msg)\n",
      "C:\\Users\\redda\\.conda\\envs\\py311\\Lib\\site-packages\\openpyxl\\worksheet\\_reader.py:329: UserWarning: Data Validation extension is not supported and will be removed\n",
      "  warn(msg)\n",
      "C:\\Users\\redda\\.conda\\envs\\py311\\Lib\\site-packages\\openpyxl\\worksheet\\_reader.py:329: UserWarning: Data Validation extension is not supported and will be removed\n",
      "  warn(msg)\n",
      "C:\\Users\\redda\\.conda\\envs\\py311\\Lib\\site-packages\\openpyxl\\worksheet\\_reader.py:329: UserWarning: Data Validation extension is not supported and will be removed\n",
      "  warn(msg)\n",
      "C:\\Users\\redda\\.conda\\envs\\py311\\Lib\\site-packages\\openpyxl\\worksheet\\_reader.py:329: UserWarning: Data Validation extension is not supported and will be removed\n",
      "  warn(msg)\n",
      "C:\\Users\\redda\\.conda\\envs\\py311\\Lib\\site-packages\\openpyxl\\worksheet\\_reader.py:329: UserWarning: Data Validation extension is not supported and will be removed\n",
      "  warn(msg)\n",
      "C:\\Users\\redda\\.conda\\envs\\py311\\Lib\\site-packages\\openpyxl\\worksheet\\_reader.py:329: UserWarning: Data Validation extension is not supported and will be removed\n",
      "  warn(msg)\n",
      "C:\\Users\\redda\\.conda\\envs\\py311\\Lib\\site-packages\\openpyxl\\worksheet\\_reader.py:329: UserWarning: Data Validation extension is not supported and will be removed\n",
      "  warn(msg)\n",
      "C:\\Users\\redda\\.conda\\envs\\py311\\Lib\\site-packages\\openpyxl\\worksheet\\_reader.py:329: UserWarning: Data Validation extension is not supported and will be removed\n",
      "  warn(msg)\n",
      "C:\\Users\\redda\\.conda\\envs\\py311\\Lib\\site-packages\\openpyxl\\worksheet\\_reader.py:329: UserWarning: Data Validation extension is not supported and will be removed\n",
      "  warn(msg)\n",
      "C:\\Users\\redda\\.conda\\envs\\py311\\Lib\\site-packages\\openpyxl\\worksheet\\_reader.py:329: UserWarning: Data Validation extension is not supported and will be removed\n",
      "  warn(msg)\n",
      "C:\\Users\\redda\\.conda\\envs\\py311\\Lib\\site-packages\\openpyxl\\worksheet\\_reader.py:329: UserWarning: Data Validation extension is not supported and will be removed\n",
      "  warn(msg)\n",
      "C:\\Users\\redda\\.conda\\envs\\py311\\Lib\\site-packages\\openpyxl\\worksheet\\_reader.py:329: UserWarning: Data Validation extension is not supported and will be removed\n",
      "  warn(msg)\n",
      "C:\\Users\\redda\\.conda\\envs\\py311\\Lib\\site-packages\\openpyxl\\worksheet\\_reader.py:329: UserWarning: Data Validation extension is not supported and will be removed\n",
      "  warn(msg)\n",
      "C:\\Users\\redda\\.conda\\envs\\py311\\Lib\\site-packages\\openpyxl\\worksheet\\_reader.py:329: UserWarning: Data Validation extension is not supported and will be removed\n",
      "  warn(msg)\n",
      "C:\\Users\\redda\\.conda\\envs\\py311\\Lib\\site-packages\\openpyxl\\worksheet\\_reader.py:329: UserWarning: Data Validation extension is not supported and will be removed\n",
      "  warn(msg)\n",
      "C:\\Users\\redda\\.conda\\envs\\py311\\Lib\\site-packages\\openpyxl\\worksheet\\_reader.py:329: UserWarning: Data Validation extension is not supported and will be removed\n",
      "  warn(msg)\n",
      "C:\\Users\\redda\\.conda\\envs\\py311\\Lib\\site-packages\\openpyxl\\worksheet\\_reader.py:329: UserWarning: Data Validation extension is not supported and will be removed\n",
      "  warn(msg)\n",
      "C:\\Users\\redda\\.conda\\envs\\py311\\Lib\\site-packages\\openpyxl\\worksheet\\_reader.py:329: UserWarning: Data Validation extension is not supported and will be removed\n",
      "  warn(msg)\n",
      "C:\\Users\\redda\\.conda\\envs\\py311\\Lib\\site-packages\\openpyxl\\worksheet\\_reader.py:329: UserWarning: Data Validation extension is not supported and will be removed\n",
      "  warn(msg)\n",
      "C:\\Users\\redda\\.conda\\envs\\py311\\Lib\\site-packages\\openpyxl\\worksheet\\_reader.py:329: UserWarning: Data Validation extension is not supported and will be removed\n",
      "  warn(msg)\n",
      "C:\\Users\\redda\\.conda\\envs\\py311\\Lib\\site-packages\\openpyxl\\worksheet\\_reader.py:329: UserWarning: Data Validation extension is not supported and will be removed\n",
      "  warn(msg)\n",
      "C:\\Users\\redda\\.conda\\envs\\py311\\Lib\\site-packages\\openpyxl\\worksheet\\_reader.py:329: UserWarning: Data Validation extension is not supported and will be removed\n",
      "  warn(msg)\n"
     ]
    },
    {
     "name": "stdout",
     "output_type": "stream",
     "text": [
      "F:\\a00nutstore\\008\\zw08\\莱新订单20241029\\发票模板-按销售订单和存货编码-件数\\发票模板-河南抬头喜办公用品有限公司S-SO-2024-02-1182-件数.xlsx\n"
     ]
    },
    {
     "name": "stderr",
     "output_type": "stream",
     "text": [
      "C:\\Users\\redda\\.conda\\envs\\py311\\Lib\\site-packages\\openpyxl\\worksheet\\_reader.py:329: UserWarning: Data Validation extension is not supported and will be removed\n",
      "  warn(msg)\n"
     ]
    },
    {
     "name": "stdout",
     "output_type": "stream",
     "text": [
      "F:\\a00nutstore\\008\\zw08\\莱新订单20241029\\发票模板-按销售订单和存货编码-件数\\发票模板-武汉开先文化用品有限责任公司-SO-2024-02-1184-件数.xlsx\n"
     ]
    },
    {
     "name": "stderr",
     "output_type": "stream",
     "text": [
      "C:\\Users\\redda\\.conda\\envs\\py311\\Lib\\site-packages\\openpyxl\\worksheet\\_reader.py:329: UserWarning: Data Validation extension is not supported and will be removed\n",
      "  warn(msg)\n"
     ]
    },
    {
     "name": "stdout",
     "output_type": "stream",
     "text": [
      "F:\\a00nutstore\\008\\zw08\\莱新订单20241029\\发票模板-按销售订单和存货编码-件数\\发票模板-武汉乐得电子商务有限公司L-SO-2024-02-1185-件数.xlsx\n"
     ]
    },
    {
     "name": "stderr",
     "output_type": "stream",
     "text": [
      "C:\\Users\\redda\\.conda\\envs\\py311\\Lib\\site-packages\\openpyxl\\worksheet\\_reader.py:329: UserWarning: Data Validation extension is not supported and will be removed\n",
      "  warn(msg)\n"
     ]
    },
    {
     "name": "stdout",
     "output_type": "stream",
     "text": [
      "F:\\a00nutstore\\008\\zw08\\莱新订单20241029\\发票模板-按销售订单和存货编码-件数\\发票模板-武汉今日成纸业有限公司-SO-2024-02-1186-件数.xlsx\n"
     ]
    },
    {
     "name": "stderr",
     "output_type": "stream",
     "text": [
      "C:\\Users\\redda\\.conda\\envs\\py311\\Lib\\site-packages\\openpyxl\\worksheet\\_reader.py:329: UserWarning: Data Validation extension is not supported and will be removed\n",
      "  warn(msg)\n"
     ]
    },
    {
     "name": "stdout",
     "output_type": "stream",
     "text": [
      "F:\\a00nutstore\\008\\zw08\\莱新订单20241029\\发票模板-按销售订单和存货编码-件数\\发票模板-武汉静静舒文体用品有限公司-SO-2024-02-1187-件数.xlsx\n"
     ]
    },
    {
     "name": "stderr",
     "output_type": "stream",
     "text": [
      "C:\\Users\\redda\\.conda\\envs\\py311\\Lib\\site-packages\\openpyxl\\worksheet\\_reader.py:329: UserWarning: Data Validation extension is not supported and will be removed\n",
      "  warn(msg)\n"
     ]
    },
    {
     "name": "stdout",
     "output_type": "stream",
     "text": [
      "F:\\a00nutstore\\008\\zw08\\莱新订单20241029\\发票模板-按销售订单和存货编码-件数\\发票模板-湖北昇耀商贸有限公司-SO-2024-02-1188-件数.xlsx\n"
     ]
    },
    {
     "name": "stderr",
     "output_type": "stream",
     "text": [
      "C:\\Users\\redda\\.conda\\envs\\py311\\Lib\\site-packages\\openpyxl\\worksheet\\_reader.py:329: UserWarning: Data Validation extension is not supported and will be removed\n",
      "  warn(msg)\n"
     ]
    },
    {
     "name": "stdout",
     "output_type": "stream",
     "text": [
      "F:\\a00nutstore\\008\\zw08\\莱新订单20241029\\发票模板-按销售订单和存货编码-件数\\发票模板-武汉市众缘商贸有限责任公司-SO-2024-02-1189-件数.xlsx\n"
     ]
    },
    {
     "name": "stderr",
     "output_type": "stream",
     "text": [
      "C:\\Users\\redda\\.conda\\envs\\py311\\Lib\\site-packages\\openpyxl\\worksheet\\_reader.py:329: UserWarning: Data Validation extension is not supported and will be removed\n",
      "  warn(msg)\n"
     ]
    },
    {
     "name": "stdout",
     "output_type": "stream",
     "text": [
      "F:\\a00nutstore\\008\\zw08\\莱新订单20241029\\发票模板-按销售订单和存货编码-件数\\发票模板-武汉乐得电子商务有限公司L-SO-2024-02-1190-件数.xlsx\n"
     ]
    },
    {
     "name": "stderr",
     "output_type": "stream",
     "text": [
      "C:\\Users\\redda\\.conda\\envs\\py311\\Lib\\site-packages\\openpyxl\\worksheet\\_reader.py:329: UserWarning: Data Validation extension is not supported and will be removed\n",
      "  warn(msg)\n"
     ]
    },
    {
     "name": "stdout",
     "output_type": "stream",
     "text": [
      "F:\\a00nutstore\\008\\zw08\\莱新订单20241029\\发票模板-按销售订单和存货编码-件数\\发票模板-武汉金宸翰办公用品有限公司-SO-2024-02-1191-件数.xlsx\n"
     ]
    },
    {
     "name": "stderr",
     "output_type": "stream",
     "text": [
      "C:\\Users\\redda\\.conda\\envs\\py311\\Lib\\site-packages\\openpyxl\\worksheet\\_reader.py:329: UserWarning: Data Validation extension is not supported and will be removed\n",
      "  warn(msg)\n"
     ]
    },
    {
     "name": "stdout",
     "output_type": "stream",
     "text": [
      "F:\\a00nutstore\\008\\zw08\\莱新订单20241029\\发票模板-按销售订单和存货编码-件数\\发票模板-武汉市齐达利商贸有限公司-SO-2024-02-1192-件数.xlsx\n"
     ]
    },
    {
     "name": "stderr",
     "output_type": "stream",
     "text": [
      "C:\\Users\\redda\\.conda\\envs\\py311\\Lib\\site-packages\\openpyxl\\worksheet\\_reader.py:329: UserWarning: Data Validation extension is not supported and will be removed\n",
      "  warn(msg)\n"
     ]
    },
    {
     "name": "stdout",
     "output_type": "stream",
     "text": [
      "F:\\a00nutstore\\008\\zw08\\莱新订单20241029\\发票模板-按销售订单和存货编码-件数\\发票模板-武汉金宸翰办公用品有限公司1-SO-2024-02-1193-件数.xlsx\n"
     ]
    },
    {
     "name": "stderr",
     "output_type": "stream",
     "text": [
      "C:\\Users\\redda\\.conda\\envs\\py311\\Lib\\site-packages\\openpyxl\\worksheet\\_reader.py:329: UserWarning: Data Validation extension is not supported and will be removed\n",
      "  warn(msg)\n"
     ]
    },
    {
     "name": "stdout",
     "output_type": "stream",
     "text": [
      "F:\\a00nutstore\\008\\zw08\\莱新订单20241029\\发票模板-按销售订单和存货编码-件数\\发票模板-湖北昇耀商贸有限公司-SO-2024-02-1194-件数.xlsx\n"
     ]
    },
    {
     "name": "stderr",
     "output_type": "stream",
     "text": [
      "C:\\Users\\redda\\.conda\\envs\\py311\\Lib\\site-packages\\openpyxl\\worksheet\\_reader.py:329: UserWarning: Data Validation extension is not supported and will be removed\n",
      "  warn(msg)\n"
     ]
    },
    {
     "name": "stdout",
     "output_type": "stream",
     "text": [
      "F:\\a00nutstore\\008\\zw08\\莱新订单20241029\\发票模板-按销售订单和存货编码-件数\\发票模板-河南抬头喜办公用品有限公司S-SO-2024-02-1195-件数.xlsx\n"
     ]
    },
    {
     "name": "stderr",
     "output_type": "stream",
     "text": [
      "C:\\Users\\redda\\.conda\\envs\\py311\\Lib\\site-packages\\openpyxl\\worksheet\\_reader.py:329: UserWarning: Data Validation extension is not supported and will be removed\n",
      "  warn(msg)\n"
     ]
    },
    {
     "name": "stdout",
     "output_type": "stream",
     "text": [
      "F:\\a00nutstore\\008\\zw08\\莱新订单20241029\\发票模板-按销售订单和存货编码-件数\\发票模板-龙岩连卫中-SO-2024-02-1199-件数.xlsx\n"
     ]
    },
    {
     "name": "stderr",
     "output_type": "stream",
     "text": [
      "C:\\Users\\redda\\.conda\\envs\\py311\\Lib\\site-packages\\openpyxl\\worksheet\\_reader.py:329: UserWarning: Data Validation extension is not supported and will be removed\n",
      "  warn(msg)\n"
     ]
    },
    {
     "name": "stdout",
     "output_type": "stream",
     "text": [
      "F:\\a00nutstore\\008\\zw08\\莱新订单20241029\\发票模板-按销售订单和存货编码-件数\\发票模板-成都乐尚怡智商贸有限公司-SO-2024-02-1200-件数.xlsx\n"
     ]
    },
    {
     "name": "stderr",
     "output_type": "stream",
     "text": [
      "C:\\Users\\redda\\.conda\\envs\\py311\\Lib\\site-packages\\openpyxl\\worksheet\\_reader.py:329: UserWarning: Data Validation extension is not supported and will be removed\n",
      "  warn(msg)\n"
     ]
    },
    {
     "name": "stdout",
     "output_type": "stream",
     "text": [
      "F:\\a00nutstore\\008\\zw08\\莱新订单20241029\\发票模板-按销售订单和存货编码-件数\\发票模板-长沙市雨花区文丰文具商行-SO-2024-02-1201-件数.xlsx\n"
     ]
    },
    {
     "name": "stderr",
     "output_type": "stream",
     "text": [
      "C:\\Users\\redda\\.conda\\envs\\py311\\Lib\\site-packages\\openpyxl\\worksheet\\_reader.py:329: UserWarning: Data Validation extension is not supported and will be removed\n",
      "  warn(msg)\n"
     ]
    },
    {
     "name": "stdout",
     "output_type": "stream",
     "text": [
      "F:\\a00nutstore\\008\\zw08\\莱新订单20241029\\发票模板-按销售订单和存货编码-件数\\发票模板-重庆文优文化用品有限公司-SO-2024-02-1202-件数.xlsx\n"
     ]
    },
    {
     "name": "stderr",
     "output_type": "stream",
     "text": [
      "C:\\Users\\redda\\.conda\\envs\\py311\\Lib\\site-packages\\openpyxl\\worksheet\\_reader.py:329: UserWarning: Data Validation extension is not supported and will be removed\n",
      "  warn(msg)\n"
     ]
    },
    {
     "name": "stdout",
     "output_type": "stream",
     "text": [
      "F:\\a00nutstore\\008\\zw08\\莱新订单20241029\\发票模板-按销售订单和存货编码-件数\\发票模板-西安继坤工贸有限公司-SO-2024-02-1203-件数.xlsx\n"
     ]
    },
    {
     "name": "stderr",
     "output_type": "stream",
     "text": [
      "C:\\Users\\redda\\.conda\\envs\\py311\\Lib\\site-packages\\openpyxl\\worksheet\\_reader.py:329: UserWarning: Data Validation extension is not supported and will be removed\n",
      "  warn(msg)\n"
     ]
    },
    {
     "name": "stdout",
     "output_type": "stream",
     "text": [
      "F:\\a00nutstore\\008\\zw08\\莱新订单20241029\\发票模板-按销售订单和存货编码-件数\\发票模板-义乌市博迅文体用品有限公司-SO-2024-02-1204-件数.xlsx\n"
     ]
    },
    {
     "name": "stderr",
     "output_type": "stream",
     "text": [
      "C:\\Users\\redda\\.conda\\envs\\py311\\Lib\\site-packages\\openpyxl\\worksheet\\_reader.py:329: UserWarning: Data Validation extension is not supported and will be removed\n",
      "  warn(msg)\n"
     ]
    },
    {
     "name": "stdout",
     "output_type": "stream",
     "text": [
      "F:\\a00nutstore\\008\\zw08\\莱新订单20241029\\发票模板-按销售订单和存货编码-件数\\发票模板-阜阳俊武文体商贸有限公司-SO-2024-02-1205-件数.xlsx\n"
     ]
    },
    {
     "name": "stderr",
     "output_type": "stream",
     "text": [
      "C:\\Users\\redda\\.conda\\envs\\py311\\Lib\\site-packages\\openpyxl\\worksheet\\_reader.py:329: UserWarning: Data Validation extension is not supported and will be removed\n",
      "  warn(msg)\n"
     ]
    },
    {
     "name": "stdout",
     "output_type": "stream",
     "text": [
      "F:\\a00nutstore\\008\\zw08\\莱新订单20241029\\发票模板-按销售订单和存货编码-件数\\发票模板-武汉嘉迪亚商贸有限公司-SO-2024-02-1206-件数.xlsx\n"
     ]
    },
    {
     "name": "stderr",
     "output_type": "stream",
     "text": [
      "C:\\Users\\redda\\.conda\\envs\\py311\\Lib\\site-packages\\openpyxl\\worksheet\\_reader.py:329: UserWarning: Data Validation extension is not supported and will be removed\n",
      "  warn(msg)\n"
     ]
    },
    {
     "name": "stdout",
     "output_type": "stream",
     "text": [
      "F:\\a00nutstore\\008\\zw08\\莱新订单20241029\\发票模板-按销售订单和存货编码-件数\\发票模板-湖北昇耀商贸有限公司-SO-2024-02-1207-件数.xlsx\n"
     ]
    },
    {
     "name": "stderr",
     "output_type": "stream",
     "text": [
      "C:\\Users\\redda\\.conda\\envs\\py311\\Lib\\site-packages\\openpyxl\\worksheet\\_reader.py:329: UserWarning: Data Validation extension is not supported and will be removed\n",
      "  warn(msg)\n"
     ]
    },
    {
     "name": "stdout",
     "output_type": "stream",
     "text": [
      "F:\\a00nutstore\\008\\zw08\\莱新订单20241029\\发票模板-按销售订单和存货编码-件数\\发票模板-武汉今日成纸业有限公司-SO-2024-02-1208-件数.xlsx\n"
     ]
    },
    {
     "name": "stderr",
     "output_type": "stream",
     "text": [
      "C:\\Users\\redda\\.conda\\envs\\py311\\Lib\\site-packages\\openpyxl\\worksheet\\_reader.py:329: UserWarning: Data Validation extension is not supported and will be removed\n",
      "  warn(msg)\n"
     ]
    },
    {
     "name": "stdout",
     "output_type": "stream",
     "text": [
      "F:\\a00nutstore\\008\\zw08\\莱新订单20241029\\发票模板-按销售订单和存货编码-件数\\发票模板-大庆市智胜文具办公设备有限公司-SO-2024-02-1209-件数.xlsx\n"
     ]
    },
    {
     "name": "stderr",
     "output_type": "stream",
     "text": [
      "C:\\Users\\redda\\.conda\\envs\\py311\\Lib\\site-packages\\openpyxl\\worksheet\\_reader.py:329: UserWarning: Data Validation extension is not supported and will be removed\n",
      "  warn(msg)\n"
     ]
    },
    {
     "name": "stdout",
     "output_type": "stream",
     "text": [
      "F:\\a00nutstore\\008\\zw08\\莱新订单20241029\\发票模板-按销售订单和存货编码-件数\\发票模板-武汉金胜辉商贸有限公司-SO-2024-02-1210-件数.xlsx\n"
     ]
    },
    {
     "name": "stderr",
     "output_type": "stream",
     "text": [
      "C:\\Users\\redda\\.conda\\envs\\py311\\Lib\\site-packages\\openpyxl\\worksheet\\_reader.py:329: UserWarning: Data Validation extension is not supported and will be removed\n",
      "  warn(msg)\n"
     ]
    },
    {
     "name": "stdout",
     "output_type": "stream",
     "text": [
      "F:\\a00nutstore\\008\\zw08\\莱新订单20241029\\发票模板-按销售订单和存货编码-件数\\发票模板-西安华坤集采供应链管理有限公司-SO-2024-02-1211-件数.xlsx\n"
     ]
    },
    {
     "name": "stderr",
     "output_type": "stream",
     "text": [
      "C:\\Users\\redda\\.conda\\envs\\py311\\Lib\\site-packages\\openpyxl\\worksheet\\_reader.py:329: UserWarning: Data Validation extension is not supported and will be removed\n",
      "  warn(msg)\n"
     ]
    },
    {
     "name": "stdout",
     "output_type": "stream",
     "text": [
      "F:\\a00nutstore\\008\\zw08\\莱新订单20241029\\发票模板-按销售订单和存货编码-件数\\发票模板-武汉金宸翰办公用品有限公司1-SO-2024-02-1212-件数.xlsx\n"
     ]
    },
    {
     "name": "stderr",
     "output_type": "stream",
     "text": [
      "C:\\Users\\redda\\.conda\\envs\\py311\\Lib\\site-packages\\openpyxl\\worksheet\\_reader.py:329: UserWarning: Data Validation extension is not supported and will be removed\n",
      "  warn(msg)\n"
     ]
    },
    {
     "name": "stdout",
     "output_type": "stream",
     "text": [
      "F:\\a00nutstore\\008\\zw08\\莱新订单20241029\\发票模板-按销售订单和存货编码-件数\\发票模板-武汉开先文化用品有限责任公司-SO-2024-02-1213-件数.xlsx\n"
     ]
    },
    {
     "name": "stderr",
     "output_type": "stream",
     "text": [
      "C:\\Users\\redda\\.conda\\envs\\py311\\Lib\\site-packages\\openpyxl\\worksheet\\_reader.py:329: UserWarning: Data Validation extension is not supported and will be removed\n",
      "  warn(msg)\n"
     ]
    },
    {
     "name": "stdout",
     "output_type": "stream",
     "text": [
      "F:\\a00nutstore\\008\\zw08\\莱新订单20241029\\发票模板-按销售订单和存货编码-件数\\发票模板-武汉乐得电子商务有限公司L-SO-2024-02-1214-件数.xlsx\n"
     ]
    },
    {
     "name": "stderr",
     "output_type": "stream",
     "text": [
      "C:\\Users\\redda\\.conda\\envs\\py311\\Lib\\site-packages\\openpyxl\\worksheet\\_reader.py:329: UserWarning: Data Validation extension is not supported and will be removed\n",
      "  warn(msg)\n"
     ]
    },
    {
     "name": "stdout",
     "output_type": "stream",
     "text": [
      "F:\\a00nutstore\\008\\zw08\\莱新订单20241029\\发票模板-按销售订单和存货编码-件数\\发票模板-武汉乐得电子商务有限公司-SO-2024-02-1215-件数.xlsx\n"
     ]
    },
    {
     "name": "stderr",
     "output_type": "stream",
     "text": [
      "C:\\Users\\redda\\.conda\\envs\\py311\\Lib\\site-packages\\openpyxl\\worksheet\\_reader.py:329: UserWarning: Data Validation extension is not supported and will be removed\n",
      "  warn(msg)\n"
     ]
    },
    {
     "name": "stdout",
     "output_type": "stream",
     "text": [
      "F:\\a00nutstore\\008\\zw08\\莱新订单20241029\\发票模板-按销售订单和存货编码-件数\\发票模板-武汉金胜辉商贸有限公司-SO-2024-02-1216-件数.xlsx\n"
     ]
    },
    {
     "name": "stderr",
     "output_type": "stream",
     "text": [
      "C:\\Users\\redda\\.conda\\envs\\py311\\Lib\\site-packages\\openpyxl\\worksheet\\_reader.py:329: UserWarning: Data Validation extension is not supported and will be removed\n",
      "  warn(msg)\n"
     ]
    },
    {
     "name": "stdout",
     "output_type": "stream",
     "text": [
      "F:\\a00nutstore\\008\\zw08\\莱新订单20241029\\发票模板-按销售订单和存货编码-件数\\发票模板-武汉市热脉文体用品有限公司-SO-2024-02-1217-件数.xlsx\n"
     ]
    },
    {
     "name": "stderr",
     "output_type": "stream",
     "text": [
      "C:\\Users\\redda\\.conda\\envs\\py311\\Lib\\site-packages\\openpyxl\\worksheet\\_reader.py:329: UserWarning: Data Validation extension is not supported and will be removed\n",
      "  warn(msg)\n"
     ]
    },
    {
     "name": "stdout",
     "output_type": "stream",
     "text": [
      "F:\\a00nutstore\\008\\zw08\\莱新订单20241029\\发票模板-按销售订单和存货编码-件数\\发票模板-武汉今日成纸业有限公司-SO-2024-02-1218-件数.xlsx\n"
     ]
    },
    {
     "name": "stderr",
     "output_type": "stream",
     "text": [
      "C:\\Users\\redda\\.conda\\envs\\py311\\Lib\\site-packages\\openpyxl\\worksheet\\_reader.py:329: UserWarning: Data Validation extension is not supported and will be removed\n",
      "  warn(msg)\n"
     ]
    },
    {
     "name": "stdout",
     "output_type": "stream",
     "text": [
      "F:\\a00nutstore\\008\\zw08\\莱新订单20241029\\发票模板-按销售订单和存货编码-件数\\发票模板-西安百花工贸有限公司-SO-2024-02-1219-件数.xlsx\n"
     ]
    },
    {
     "name": "stderr",
     "output_type": "stream",
     "text": [
      "C:\\Users\\redda\\.conda\\envs\\py311\\Lib\\site-packages\\openpyxl\\worksheet\\_reader.py:329: UserWarning: Data Validation extension is not supported and will be removed\n",
      "  warn(msg)\n"
     ]
    },
    {
     "name": "stdout",
     "output_type": "stream",
     "text": [
      "F:\\a00nutstore\\008\\zw08\\莱新订单20241029\\发票模板-按销售订单和存货编码-件数\\发票模板-武汉市热脉文体用品有限公司-SO-2024-02-1221-件数.xlsx\n"
     ]
    },
    {
     "name": "stderr",
     "output_type": "stream",
     "text": [
      "C:\\Users\\redda\\.conda\\envs\\py311\\Lib\\site-packages\\openpyxl\\worksheet\\_reader.py:329: UserWarning: Data Validation extension is not supported and will be removed\n",
      "  warn(msg)\n"
     ]
    },
    {
     "name": "stdout",
     "output_type": "stream",
     "text": [
      "F:\\a00nutstore\\008\\zw08\\莱新订单20241029\\发票模板-按销售订单和存货编码-件数\\发票模板-武汉金宸翰办公用品有限公司1-SO-2024-02-1222-件数.xlsx\n"
     ]
    },
    {
     "name": "stderr",
     "output_type": "stream",
     "text": [
      "C:\\Users\\redda\\.conda\\envs\\py311\\Lib\\site-packages\\openpyxl\\worksheet\\_reader.py:329: UserWarning: Data Validation extension is not supported and will be removed\n",
      "  warn(msg)\n"
     ]
    },
    {
     "name": "stdout",
     "output_type": "stream",
     "text": [
      "F:\\a00nutstore\\008\\zw08\\莱新订单20241029\\发票模板-按销售订单和存货编码-件数\\发票模板-湖北昇耀商贸有限公司-SO-2024-02-1223-件数.xlsx\n"
     ]
    },
    {
     "name": "stderr",
     "output_type": "stream",
     "text": [
      "C:\\Users\\redda\\.conda\\envs\\py311\\Lib\\site-packages\\openpyxl\\worksheet\\_reader.py:329: UserWarning: Data Validation extension is not supported and will be removed\n",
      "  warn(msg)\n"
     ]
    },
    {
     "name": "stdout",
     "output_type": "stream",
     "text": [
      "F:\\a00nutstore\\008\\zw08\\莱新订单20241029\\发票模板-按销售订单和存货编码-件数\\发票模板-江西东优贸易有限公司-SO-2024-02-1224-件数.xlsx\n"
     ]
    },
    {
     "name": "stderr",
     "output_type": "stream",
     "text": [
      "C:\\Users\\redda\\.conda\\envs\\py311\\Lib\\site-packages\\openpyxl\\worksheet\\_reader.py:329: UserWarning: Data Validation extension is not supported and will be removed\n",
      "  warn(msg)\n"
     ]
    },
    {
     "name": "stdout",
     "output_type": "stream",
     "text": [
      "F:\\a00nutstore\\008\\zw08\\莱新订单20241029\\发票模板-按销售订单和存货编码-件数\\发票模板-品壹佰河北商贸有限公司-SO-2024-02-1225-件数.xlsx\n"
     ]
    },
    {
     "name": "stderr",
     "output_type": "stream",
     "text": [
      "C:\\Users\\redda\\.conda\\envs\\py311\\Lib\\site-packages\\openpyxl\\worksheet\\_reader.py:329: UserWarning: Data Validation extension is not supported and will be removed\n",
      "  warn(msg)\n"
     ]
    },
    {
     "name": "stdout",
     "output_type": "stream",
     "text": [
      "F:\\a00nutstore\\008\\zw08\\莱新订单20241029\\发票模板-按销售订单和存货编码-件数\\发票模板-义乌范光洪-SO-2024-02-1226-件数.xlsx\n"
     ]
    },
    {
     "name": "stderr",
     "output_type": "stream",
     "text": [
      "C:\\Users\\redda\\.conda\\envs\\py311\\Lib\\site-packages\\openpyxl\\worksheet\\_reader.py:329: UserWarning: Data Validation extension is not supported and will be removed\n",
      "  warn(msg)\n"
     ]
    },
    {
     "name": "stdout",
     "output_type": "stream",
     "text": [
      "F:\\a00nutstore\\008\\zw08\\莱新订单20241029\\发票模板-按销售订单和存货编码-件数\\发票模板-杭州林道贸易有限公司-SO-2024-02-1227-件数.xlsx\n"
     ]
    },
    {
     "name": "stderr",
     "output_type": "stream",
     "text": [
      "C:\\Users\\redda\\.conda\\envs\\py311\\Lib\\site-packages\\openpyxl\\worksheet\\_reader.py:329: UserWarning: Data Validation extension is not supported and will be removed\n",
      "  warn(msg)\n"
     ]
    },
    {
     "name": "stdout",
     "output_type": "stream",
     "text": [
      "F:\\a00nutstore\\008\\zw08\\莱新订单20241029\\发票模板-按销售订单和存货编码-件数\\发票模板-武汉市热脉文体用品有限公司-SO-2024-02-1228-件数.xlsx\n"
     ]
    },
    {
     "name": "stderr",
     "output_type": "stream",
     "text": [
      "C:\\Users\\redda\\.conda\\envs\\py311\\Lib\\site-packages\\openpyxl\\worksheet\\_reader.py:329: UserWarning: Data Validation extension is not supported and will be removed\n",
      "  warn(msg)\n"
     ]
    },
    {
     "name": "stdout",
     "output_type": "stream",
     "text": [
      "F:\\a00nutstore\\008\\zw08\\莱新订单20241029\\发票模板-按销售订单和存货编码-件数\\发票模板-河南梓亦桐商贸有限公司-SO-2024-02-1229-件数.xlsx\n"
     ]
    },
    {
     "name": "stderr",
     "output_type": "stream",
     "text": [
      "C:\\Users\\redda\\.conda\\envs\\py311\\Lib\\site-packages\\openpyxl\\worksheet\\_reader.py:329: UserWarning: Data Validation extension is not supported and will be removed\n",
      "  warn(msg)\n"
     ]
    },
    {
     "name": "stdout",
     "output_type": "stream",
     "text": [
      "F:\\a00nutstore\\008\\zw08\\莱新订单20241029\\发票模板-按销售订单和存货编码-件数\\发票模板-石家庄本米文具用品销售有限公司-SO-2024-02-1230-件数.xlsx\n"
     ]
    },
    {
     "name": "stderr",
     "output_type": "stream",
     "text": [
      "C:\\Users\\redda\\.conda\\envs\\py311\\Lib\\site-packages\\openpyxl\\worksheet\\_reader.py:329: UserWarning: Data Validation extension is not supported and will be removed\n",
      "  warn(msg)\n"
     ]
    },
    {
     "name": "stdout",
     "output_type": "stream",
     "text": [
      "F:\\a00nutstore\\008\\zw08\\莱新订单20241029\\发票模板-按销售订单和存货编码-件数\\发票模板-武汉金胜辉商贸有限公司-SO-2024-02-1231-件数.xlsx\n"
     ]
    },
    {
     "name": "stderr",
     "output_type": "stream",
     "text": [
      "C:\\Users\\redda\\.conda\\envs\\py311\\Lib\\site-packages\\openpyxl\\worksheet\\_reader.py:329: UserWarning: Data Validation extension is not supported and will be removed\n",
      "  warn(msg)\n"
     ]
    },
    {
     "name": "stdout",
     "output_type": "stream",
     "text": [
      "F:\\a00nutstore\\008\\zw08\\莱新订单20241029\\发票模板-按销售订单和存货编码-件数\\发票模板-湖北昇耀商贸有限公司-SO-2024-02-1232-件数.xlsx\n"
     ]
    },
    {
     "name": "stderr",
     "output_type": "stream",
     "text": [
      "C:\\Users\\redda\\.conda\\envs\\py311\\Lib\\site-packages\\openpyxl\\worksheet\\_reader.py:329: UserWarning: Data Validation extension is not supported and will be removed\n",
      "  warn(msg)\n"
     ]
    },
    {
     "name": "stdout",
     "output_type": "stream",
     "text": [
      "F:\\a00nutstore\\008\\zw08\\莱新订单20241029\\发票模板-按销售订单和存货编码-件数\\发票模板-武汉中威百联商贸有限公司-SO-2024-02-1233-件数.xlsx\n"
     ]
    },
    {
     "name": "stderr",
     "output_type": "stream",
     "text": [
      "C:\\Users\\redda\\.conda\\envs\\py311\\Lib\\site-packages\\openpyxl\\worksheet\\_reader.py:329: UserWarning: Data Validation extension is not supported and will be removed\n",
      "  warn(msg)\n"
     ]
    },
    {
     "name": "stdout",
     "output_type": "stream",
     "text": [
      "F:\\a00nutstore\\008\\zw08\\莱新订单20241029\\发票模板-按销售订单和存货编码-件数\\发票模板-武汉开先文化用品有限责任公司-SO-2024-02-1234-件数.xlsx\n"
     ]
    },
    {
     "name": "stderr",
     "output_type": "stream",
     "text": [
      "C:\\Users\\redda\\.conda\\envs\\py311\\Lib\\site-packages\\openpyxl\\worksheet\\_reader.py:329: UserWarning: Data Validation extension is not supported and will be removed\n",
      "  warn(msg)\n"
     ]
    },
    {
     "name": "stdout",
     "output_type": "stream",
     "text": [
      "F:\\a00nutstore\\008\\zw08\\莱新订单20241029\\发票模板-按销售订单和存货编码-件数\\发票模板-武汉市齐达利商贸有限公司-SO-2024-02-1235-件数.xlsx\n"
     ]
    },
    {
     "name": "stderr",
     "output_type": "stream",
     "text": [
      "C:\\Users\\redda\\.conda\\envs\\py311\\Lib\\site-packages\\openpyxl\\worksheet\\_reader.py:329: UserWarning: Data Validation extension is not supported and will be removed\n",
      "  warn(msg)\n"
     ]
    },
    {
     "name": "stdout",
     "output_type": "stream",
     "text": [
      "F:\\a00nutstore\\008\\zw08\\莱新订单20241029\\发票模板-按销售订单和存货编码-件数\\发票模板-武汉乐得电子商务有限公司L-SO-2024-02-1236-件数.xlsx\n"
     ]
    },
    {
     "name": "stderr",
     "output_type": "stream",
     "text": [
      "C:\\Users\\redda\\.conda\\envs\\py311\\Lib\\site-packages\\openpyxl\\worksheet\\_reader.py:329: UserWarning: Data Validation extension is not supported and will be removed\n",
      "  warn(msg)\n"
     ]
    },
    {
     "name": "stdout",
     "output_type": "stream",
     "text": [
      "F:\\a00nutstore\\008\\zw08\\莱新订单20241029\\发票模板-按销售订单和存货编码-件数\\发票模板-武汉金胜辉商贸有限公司-SO-2024-02-1237-件数.xlsx\n"
     ]
    },
    {
     "name": "stderr",
     "output_type": "stream",
     "text": [
      "C:\\Users\\redda\\.conda\\envs\\py311\\Lib\\site-packages\\openpyxl\\worksheet\\_reader.py:329: UserWarning: Data Validation extension is not supported and will be removed\n",
      "  warn(msg)\n"
     ]
    },
    {
     "name": "stdout",
     "output_type": "stream",
     "text": [
      "F:\\a00nutstore\\008\\zw08\\莱新订单20241029\\发票模板-按销售订单和存货编码-件数\\发票模板-河南抬头喜办公用品有限公司S-SO-2024-02-1238-件数.xlsx\n"
     ]
    },
    {
     "name": "stderr",
     "output_type": "stream",
     "text": [
      "C:\\Users\\redda\\.conda\\envs\\py311\\Lib\\site-packages\\openpyxl\\worksheet\\_reader.py:329: UserWarning: Data Validation extension is not supported and will be removed\n",
      "  warn(msg)\n"
     ]
    },
    {
     "name": "stdout",
     "output_type": "stream",
     "text": [
      "F:\\a00nutstore\\008\\zw08\\莱新订单20241029\\发票模板-按销售订单和存货编码-件数\\发票模板-山西融和通商贸有限公司-SO-2024-02-1239-件数.xlsx\n"
     ]
    },
    {
     "name": "stderr",
     "output_type": "stream",
     "text": [
      "C:\\Users\\redda\\.conda\\envs\\py311\\Lib\\site-packages\\openpyxl\\worksheet\\_reader.py:329: UserWarning: Data Validation extension is not supported and will be removed\n",
      "  warn(msg)\n"
     ]
    },
    {
     "name": "stdout",
     "output_type": "stream",
     "text": [
      "F:\\a00nutstore\\008\\zw08\\莱新订单20241029\\发票模板-按销售订单和存货编码-件数\\发票模板-西安垄裕商贸有限公司-SO-2024-02-1240-件数.xlsx\n"
     ]
    },
    {
     "name": "stderr",
     "output_type": "stream",
     "text": [
      "C:\\Users\\redda\\.conda\\envs\\py311\\Lib\\site-packages\\openpyxl\\worksheet\\_reader.py:329: UserWarning: Data Validation extension is not supported and will be removed\n",
      "  warn(msg)\n"
     ]
    },
    {
     "name": "stdout",
     "output_type": "stream",
     "text": [
      "F:\\a00nutstore\\008\\zw08\\莱新订单20241029\\发票模板-按销售订单和存货编码-件数\\发票模板-长沙市东麦文化有限公司-SO-2024-02-1241-件数.xlsx\n"
     ]
    },
    {
     "name": "stderr",
     "output_type": "stream",
     "text": [
      "C:\\Users\\redda\\.conda\\envs\\py311\\Lib\\site-packages\\openpyxl\\worksheet\\_reader.py:329: UserWarning: Data Validation extension is not supported and will be removed\n",
      "  warn(msg)\n"
     ]
    },
    {
     "name": "stdout",
     "output_type": "stream",
     "text": [
      "F:\\a00nutstore\\008\\zw08\\莱新订单20241029\\发票模板-按销售订单和存货编码-件数\\发票模板-武汉金胜辉商贸有限公司-SO-2024-02-1242-件数.xlsx\n"
     ]
    },
    {
     "name": "stderr",
     "output_type": "stream",
     "text": [
      "C:\\Users\\redda\\.conda\\envs\\py311\\Lib\\site-packages\\openpyxl\\worksheet\\_reader.py:329: UserWarning: Data Validation extension is not supported and will be removed\n",
      "  warn(msg)\n"
     ]
    },
    {
     "name": "stdout",
     "output_type": "stream",
     "text": [
      "F:\\a00nutstore\\008\\zw08\\莱新订单20241029\\发票模板-按销售订单和存货编码-件数\\发票模板-武汉金宸翰办公用品有限公司-SO-2024-02-1243-件数.xlsx\n"
     ]
    },
    {
     "name": "stderr",
     "output_type": "stream",
     "text": [
      "C:\\Users\\redda\\.conda\\envs\\py311\\Lib\\site-packages\\openpyxl\\worksheet\\_reader.py:329: UserWarning: Data Validation extension is not supported and will be removed\n",
      "  warn(msg)\n"
     ]
    },
    {
     "name": "stdout",
     "output_type": "stream",
     "text": [
      "F:\\a00nutstore\\008\\zw08\\莱新订单20241029\\发票模板-按销售订单和存货编码-件数\\发票模板-湖北昇耀商贸有限公司-SO-2024-02-1244-件数.xlsx\n"
     ]
    },
    {
     "name": "stderr",
     "output_type": "stream",
     "text": [
      "C:\\Users\\redda\\.conda\\envs\\py311\\Lib\\site-packages\\openpyxl\\worksheet\\_reader.py:329: UserWarning: Data Validation extension is not supported and will be removed\n",
      "  warn(msg)\n"
     ]
    },
    {
     "name": "stdout",
     "output_type": "stream",
     "text": [
      "F:\\a00nutstore\\008\\zw08\\莱新订单20241029\\发票模板-按销售订单和存货编码-件数\\发票模板-武汉嘉迪亚商贸有限公司-SO-2024-02-1245-件数.xlsx\n"
     ]
    },
    {
     "name": "stderr",
     "output_type": "stream",
     "text": [
      "C:\\Users\\redda\\.conda\\envs\\py311\\Lib\\site-packages\\openpyxl\\worksheet\\_reader.py:329: UserWarning: Data Validation extension is not supported and will be removed\n",
      "  warn(msg)\n"
     ]
    },
    {
     "name": "stdout",
     "output_type": "stream",
     "text": [
      "F:\\a00nutstore\\008\\zw08\\莱新订单20241029\\发票模板-按销售订单和存货编码-件数\\发票模板-云南乐信商贸有限公司-SO-2024-02-1246-件数.xlsx\n"
     ]
    },
    {
     "name": "stderr",
     "output_type": "stream",
     "text": [
      "C:\\Users\\redda\\.conda\\envs\\py311\\Lib\\site-packages\\openpyxl\\worksheet\\_reader.py:329: UserWarning: Data Validation extension is not supported and will be removed\n",
      "  warn(msg)\n"
     ]
    },
    {
     "name": "stdout",
     "output_type": "stream",
     "text": [
      "F:\\a00nutstore\\008\\zw08\\莱新订单20241029\\发票模板-按销售订单和存货编码-件数\\发票模板-贵州三鑫文化用品有限公司-SO-2024-02-1247-件数.xlsx\n"
     ]
    },
    {
     "name": "stderr",
     "output_type": "stream",
     "text": [
      "C:\\Users\\redda\\.conda\\envs\\py311\\Lib\\site-packages\\openpyxl\\worksheet\\_reader.py:329: UserWarning: Data Validation extension is not supported and will be removed\n",
      "  warn(msg)\n"
     ]
    },
    {
     "name": "stdout",
     "output_type": "stream",
     "text": [
      "F:\\a00nutstore\\008\\zw08\\莱新订单20241029\\发票模板-按销售订单和存货编码-件数\\发票模板-广西桂林利华电子科技有限公司-SO-2024-02-1248-件数.xlsx\n"
     ]
    },
    {
     "name": "stderr",
     "output_type": "stream",
     "text": [
      "C:\\Users\\redda\\.conda\\envs\\py311\\Lib\\site-packages\\openpyxl\\worksheet\\_reader.py:329: UserWarning: Data Validation extension is not supported and will be removed\n",
      "  warn(msg)\n"
     ]
    },
    {
     "name": "stdout",
     "output_type": "stream",
     "text": [
      "F:\\a00nutstore\\008\\zw08\\莱新订单20241029\\发票模板-按销售订单和存货编码-件数\\发票模板-武汉乐得电子商务有限公司L-SO-2024-02-1249-件数.xlsx\n"
     ]
    },
    {
     "name": "stderr",
     "output_type": "stream",
     "text": [
      "C:\\Users\\redda\\.conda\\envs\\py311\\Lib\\site-packages\\openpyxl\\worksheet\\_reader.py:329: UserWarning: Data Validation extension is not supported and will be removed\n",
      "  warn(msg)\n"
     ]
    },
    {
     "name": "stdout",
     "output_type": "stream",
     "text": [
      "F:\\a00nutstore\\008\\zw08\\莱新订单20241029\\发票模板-按销售订单和存货编码-件数\\发票模板-武汉市齐达利商贸有限公司-SO-2024-02-1250-件数.xlsx\n"
     ]
    },
    {
     "name": "stderr",
     "output_type": "stream",
     "text": [
      "C:\\Users\\redda\\.conda\\envs\\py311\\Lib\\site-packages\\openpyxl\\worksheet\\_reader.py:329: UserWarning: Data Validation extension is not supported and will be removed\n",
      "  warn(msg)\n"
     ]
    },
    {
     "name": "stdout",
     "output_type": "stream",
     "text": [
      "F:\\a00nutstore\\008\\zw08\\莱新订单20241029\\发票模板-按销售订单和存货编码-件数\\发票模板-武汉金胜辉商贸有限公司-SO-2024-02-1251-件数.xlsx\n"
     ]
    },
    {
     "name": "stderr",
     "output_type": "stream",
     "text": [
      "C:\\Users\\redda\\.conda\\envs\\py311\\Lib\\site-packages\\openpyxl\\worksheet\\_reader.py:329: UserWarning: Data Validation extension is not supported and will be removed\n",
      "  warn(msg)\n"
     ]
    },
    {
     "name": "stdout",
     "output_type": "stream",
     "text": [
      "F:\\a00nutstore\\008\\zw08\\莱新订单20241029\\发票模板-按销售订单和存货编码-件数\\发票模板-武汉乐得电子商务有限公司L-SO-2024-02-1252-件数.xlsx\n"
     ]
    },
    {
     "name": "stderr",
     "output_type": "stream",
     "text": [
      "C:\\Users\\redda\\.conda\\envs\\py311\\Lib\\site-packages\\openpyxl\\worksheet\\_reader.py:329: UserWarning: Data Validation extension is not supported and will be removed\n",
      "  warn(msg)\n"
     ]
    },
    {
     "name": "stdout",
     "output_type": "stream",
     "text": [
      "F:\\a00nutstore\\008\\zw08\\莱新订单20241029\\发票模板-按销售订单和存货编码-件数\\发票模板-湖北昇耀商贸有限公司-SO-2024-02-1253-件数.xlsx\n"
     ]
    },
    {
     "name": "stderr",
     "output_type": "stream",
     "text": [
      "C:\\Users\\redda\\.conda\\envs\\py311\\Lib\\site-packages\\openpyxl\\worksheet\\_reader.py:329: UserWarning: Data Validation extension is not supported and will be removed\n",
      "  warn(msg)\n"
     ]
    },
    {
     "name": "stdout",
     "output_type": "stream",
     "text": [
      "F:\\a00nutstore\\008\\zw08\\莱新订单20241029\\发票模板-按销售订单和存货编码-件数\\发票模板-武汉中威百联商贸有限公司-SO-2024-02-1254-件数.xlsx\n"
     ]
    },
    {
     "name": "stderr",
     "output_type": "stream",
     "text": [
      "C:\\Users\\redda\\.conda\\envs\\py311\\Lib\\site-packages\\openpyxl\\worksheet\\_reader.py:329: UserWarning: Data Validation extension is not supported and will be removed\n",
      "  warn(msg)\n"
     ]
    },
    {
     "name": "stdout",
     "output_type": "stream",
     "text": [
      "F:\\a00nutstore\\008\\zw08\\莱新订单20241029\\发票模板-按销售订单和存货编码-件数\\发票模板-大庆市智胜文具办公设备有限公司-SO-2024-02-1255-件数.xlsx\n"
     ]
    },
    {
     "name": "stderr",
     "output_type": "stream",
     "text": [
      "C:\\Users\\redda\\.conda\\envs\\py311\\Lib\\site-packages\\openpyxl\\worksheet\\_reader.py:329: UserWarning: Data Validation extension is not supported and will be removed\n",
      "  warn(msg)\n"
     ]
    },
    {
     "name": "stdout",
     "output_type": "stream",
     "text": [
      "F:\\a00nutstore\\008\\zw08\\莱新订单20241029\\发票模板-按销售订单和存货编码-件数\\发票模板-泸州佳之彩商贸有限公司-SO-2024-02-1256-件数.xlsx\n"
     ]
    },
    {
     "name": "stderr",
     "output_type": "stream",
     "text": [
      "C:\\Users\\redda\\.conda\\envs\\py311\\Lib\\site-packages\\openpyxl\\worksheet\\_reader.py:329: UserWarning: Data Validation extension is not supported and will be removed\n",
      "  warn(msg)\n"
     ]
    },
    {
     "name": "stdout",
     "output_type": "stream",
     "text": [
      "F:\\a00nutstore\\008\\zw08\\莱新订单20241029\\发票模板-按销售订单和存货编码-件数\\发票模板-临沂博涵文化用品有限公司-SO-2024-02-1257-件数.xlsx\n"
     ]
    },
    {
     "name": "stderr",
     "output_type": "stream",
     "text": [
      "C:\\Users\\redda\\.conda\\envs\\py311\\Lib\\site-packages\\openpyxl\\worksheet\\_reader.py:329: UserWarning: Data Validation extension is not supported and will be removed\n",
      "  warn(msg)\n"
     ]
    },
    {
     "name": "stdout",
     "output_type": "stream",
     "text": [
      "F:\\a00nutstore\\008\\zw08\\莱新订单20241029\\发票模板-按销售订单和存货编码-件数\\发票模板-沈阳贾术申-SO-2024-02-1258-件数.xlsx\n"
     ]
    },
    {
     "name": "stderr",
     "output_type": "stream",
     "text": [
      "C:\\Users\\redda\\.conda\\envs\\py311\\Lib\\site-packages\\openpyxl\\worksheet\\_reader.py:329: UserWarning: Data Validation extension is not supported and will be removed\n",
      "  warn(msg)\n"
     ]
    },
    {
     "name": "stdout",
     "output_type": "stream",
     "text": [
      "F:\\a00nutstore\\008\\zw08\\莱新订单20241029\\发票模板-按销售订单和存货编码-件数\\发票模板-武汉市热脉文体用品有限公司-SO-2024-02-1260-件数.xlsx\n"
     ]
    },
    {
     "name": "stderr",
     "output_type": "stream",
     "text": [
      "C:\\Users\\redda\\.conda\\envs\\py311\\Lib\\site-packages\\openpyxl\\worksheet\\_reader.py:329: UserWarning: Data Validation extension is not supported and will be removed\n",
      "  warn(msg)\n"
     ]
    },
    {
     "name": "stdout",
     "output_type": "stream",
     "text": [
      "F:\\a00nutstore\\008\\zw08\\莱新订单20241029\\发票模板-按销售订单和存货编码-件数\\发票模板-石河子市满天红财会文体用品店-SO-2024-02-1261-件数.xlsx\n"
     ]
    },
    {
     "name": "stderr",
     "output_type": "stream",
     "text": [
      "C:\\Users\\redda\\.conda\\envs\\py311\\Lib\\site-packages\\openpyxl\\worksheet\\_reader.py:329: UserWarning: Data Validation extension is not supported and will be removed\n",
      "  warn(msg)\n"
     ]
    },
    {
     "name": "stdout",
     "output_type": "stream",
     "text": [
      "F:\\a00nutstore\\008\\zw08\\莱新订单20241029\\发票模板-按销售订单和存货编码-件数\\发票模板-乌鲁木齐市新创仕业商贸有限公司-SO-2024-02-1262-件数.xlsx\n"
     ]
    },
    {
     "name": "stderr",
     "output_type": "stream",
     "text": [
      "C:\\Users\\redda\\.conda\\envs\\py311\\Lib\\site-packages\\openpyxl\\worksheet\\_reader.py:329: UserWarning: Data Validation extension is not supported and will be removed\n",
      "  warn(msg)\n"
     ]
    },
    {
     "name": "stdout",
     "output_type": "stream",
     "text": [
      "F:\\a00nutstore\\008\\zw08\\莱新订单20241029\\发票模板-按销售订单和存货编码-件数\\发票模板-湖北昇耀商贸有限公司-SO-2024-02-1263-件数.xlsx\n"
     ]
    },
    {
     "name": "stderr",
     "output_type": "stream",
     "text": [
      "C:\\Users\\redda\\.conda\\envs\\py311\\Lib\\site-packages\\openpyxl\\worksheet\\_reader.py:329: UserWarning: Data Validation extension is not supported and will be removed\n",
      "  warn(msg)\n"
     ]
    },
    {
     "name": "stdout",
     "output_type": "stream",
     "text": [
      "F:\\a00nutstore\\008\\zw08\\莱新订单20241029\\发票模板-按销售订单和存货编码-件数\\发票模板-武汉今日成纸业有限公司-SO-2024-02-1264-件数.xlsx\n"
     ]
    },
    {
     "name": "stderr",
     "output_type": "stream",
     "text": [
      "C:\\Users\\redda\\.conda\\envs\\py311\\Lib\\site-packages\\openpyxl\\worksheet\\_reader.py:329: UserWarning: Data Validation extension is not supported and will be removed\n",
      "  warn(msg)\n"
     ]
    },
    {
     "name": "stdout",
     "output_type": "stream",
     "text": [
      "F:\\a00nutstore\\008\\zw08\\莱新订单20241029\\发票模板-按销售订单和存货编码-件数\\发票模板-武汉乐得电子商务有限公司L-SO-2024-02-1265-件数.xlsx\n"
     ]
    },
    {
     "name": "stderr",
     "output_type": "stream",
     "text": [
      "C:\\Users\\redda\\.conda\\envs\\py311\\Lib\\site-packages\\openpyxl\\worksheet\\_reader.py:329: UserWarning: Data Validation extension is not supported and will be removed\n",
      "  warn(msg)\n"
     ]
    },
    {
     "name": "stdout",
     "output_type": "stream",
     "text": [
      "F:\\a00nutstore\\008\\zw08\\莱新订单20241029\\发票模板-按销售订单和存货编码-件数\\发票模板-河南抬头喜办公用品有限公司S-SO-2024-02-1266-件数.xlsx\n"
     ]
    },
    {
     "name": "stderr",
     "output_type": "stream",
     "text": [
      "C:\\Users\\redda\\.conda\\envs\\py311\\Lib\\site-packages\\openpyxl\\worksheet\\_reader.py:329: UserWarning: Data Validation extension is not supported and will be removed\n",
      "  warn(msg)\n"
     ]
    },
    {
     "name": "stdout",
     "output_type": "stream",
     "text": [
      "F:\\a00nutstore\\008\\zw08\\莱新订单20241029\\发票模板-按销售订单和存货编码-件数\\发票模板-武汉市热脉文体用品有限公司-SO-2024-02-1267-件数.xlsx\n"
     ]
    },
    {
     "name": "stderr",
     "output_type": "stream",
     "text": [
      "C:\\Users\\redda\\.conda\\envs\\py311\\Lib\\site-packages\\openpyxl\\worksheet\\_reader.py:329: UserWarning: Data Validation extension is not supported and will be removed\n",
      "  warn(msg)\n"
     ]
    },
    {
     "name": "stdout",
     "output_type": "stream",
     "text": [
      "F:\\a00nutstore\\008\\zw08\\莱新订单20241029\\发票模板-按销售订单和存货编码-件数\\发票模板-湖北昇耀商贸有限公司-SO-2024-02-1268-件数.xlsx\n"
     ]
    },
    {
     "name": "stderr",
     "output_type": "stream",
     "text": [
      "C:\\Users\\redda\\.conda\\envs\\py311\\Lib\\site-packages\\openpyxl\\worksheet\\_reader.py:329: UserWarning: Data Validation extension is not supported and will be removed\n",
      "  warn(msg)\n"
     ]
    },
    {
     "name": "stdout",
     "output_type": "stream",
     "text": [
      "F:\\a00nutstore\\008\\zw08\\莱新订单20241029\\发票模板-按销售订单和存货编码-件数\\发票模板-蚌埠瀚博文体用品有限公司-SO-2024-02-1269-件数.xlsx\n"
     ]
    },
    {
     "name": "stderr",
     "output_type": "stream",
     "text": [
      "C:\\Users\\redda\\.conda\\envs\\py311\\Lib\\site-packages\\openpyxl\\worksheet\\_reader.py:329: UserWarning: Data Validation extension is not supported and will be removed\n",
      "  warn(msg)\n"
     ]
    },
    {
     "name": "stdout",
     "output_type": "stream",
     "text": [
      "F:\\a00nutstore\\008\\zw08\\莱新订单20241029\\发票模板-按销售订单和存货编码-件数\\发票模板-长沙市东麦文化有限公司-SO-2024-02-1270-件数.xlsx\n"
     ]
    },
    {
     "name": "stderr",
     "output_type": "stream",
     "text": [
      "C:\\Users\\redda\\.conda\\envs\\py311\\Lib\\site-packages\\openpyxl\\worksheet\\_reader.py:329: UserWarning: Data Validation extension is not supported and will be removed\n",
      "  warn(msg)\n"
     ]
    },
    {
     "name": "stdout",
     "output_type": "stream",
     "text": [
      "F:\\a00nutstore\\008\\zw08\\莱新订单20241029\\发票模板-按销售订单和存货编码-件数\\发票模板-武汉金宸翰办公用品有限公司-SO-2024-02-1271-件数.xlsx\n"
     ]
    },
    {
     "name": "stderr",
     "output_type": "stream",
     "text": [
      "C:\\Users\\redda\\.conda\\envs\\py311\\Lib\\site-packages\\openpyxl\\worksheet\\_reader.py:329: UserWarning: Data Validation extension is not supported and will be removed\n",
      "  warn(msg)\n"
     ]
    },
    {
     "name": "stdout",
     "output_type": "stream",
     "text": [
      "F:\\a00nutstore\\008\\zw08\\莱新订单20241029\\发票模板-按销售订单和存货编码-件数\\发票模板-长沙屈贾文化用品有限公司-SO-2024-02-1272-件数.xlsx\n"
     ]
    },
    {
     "name": "stderr",
     "output_type": "stream",
     "text": [
      "C:\\Users\\redda\\.conda\\envs\\py311\\Lib\\site-packages\\openpyxl\\worksheet\\_reader.py:329: UserWarning: Data Validation extension is not supported and will be removed\n",
      "  warn(msg)\n"
     ]
    },
    {
     "name": "stdout",
     "output_type": "stream",
     "text": [
      "F:\\a00nutstore\\008\\zw08\\莱新订单20241029\\发票模板-按销售订单和存货编码-件数\\发票模板-合肥刘明德-SO-2024-02-1273-件数.xlsx\n"
     ]
    },
    {
     "name": "stderr",
     "output_type": "stream",
     "text": [
      "C:\\Users\\redda\\.conda\\envs\\py311\\Lib\\site-packages\\openpyxl\\worksheet\\_reader.py:329: UserWarning: Data Validation extension is not supported and will be removed\n",
      "  warn(msg)\n"
     ]
    },
    {
     "name": "stdout",
     "output_type": "stream",
     "text": [
      "F:\\a00nutstore\\008\\zw08\\莱新订单20241029\\发票模板-按销售订单和存货编码-件数\\发票模板-龙岩连卫中-SO-2024-02-1274-件数.xlsx\n"
     ]
    },
    {
     "name": "stderr",
     "output_type": "stream",
     "text": [
      "C:\\Users\\redda\\.conda\\envs\\py311\\Lib\\site-packages\\openpyxl\\worksheet\\_reader.py:329: UserWarning: Data Validation extension is not supported and will be removed\n",
      "  warn(msg)\n"
     ]
    },
    {
     "name": "stdout",
     "output_type": "stream",
     "text": [
      "F:\\a00nutstore\\008\\zw08\\莱新订单20241029\\发票模板-按销售订单和存货编码-件数\\发票模板-成都乐尚怡智商贸有限公司-SO-2024-02-1275-件数.xlsx\n"
     ]
    },
    {
     "name": "stderr",
     "output_type": "stream",
     "text": [
      "C:\\Users\\redda\\.conda\\envs\\py311\\Lib\\site-packages\\openpyxl\\worksheet\\_reader.py:329: UserWarning: Data Validation extension is not supported and will be removed\n",
      "  warn(msg)\n"
     ]
    },
    {
     "name": "stdout",
     "output_type": "stream",
     "text": [
      "F:\\a00nutstore\\008\\zw08\\莱新订单20241029\\发票模板-按销售订单和存货编码-件数\\发票模板-武汉金宸翰办公用品有限公司1-SO-2024-02-1276-件数.xlsx\n"
     ]
    },
    {
     "name": "stderr",
     "output_type": "stream",
     "text": [
      "C:\\Users\\redda\\.conda\\envs\\py311\\Lib\\site-packages\\openpyxl\\worksheet\\_reader.py:329: UserWarning: Data Validation extension is not supported and will be removed\n",
      "  warn(msg)\n"
     ]
    },
    {
     "name": "stdout",
     "output_type": "stream",
     "text": [
      "F:\\a00nutstore\\008\\zw08\\莱新订单20241029\\发票模板-按销售订单和存货编码-件数\\发票模板-武汉金胜辉商贸有限公司-SO-2024-02-1277-件数.xlsx\n"
     ]
    },
    {
     "name": "stderr",
     "output_type": "stream",
     "text": [
      "C:\\Users\\redda\\.conda\\envs\\py311\\Lib\\site-packages\\openpyxl\\worksheet\\_reader.py:329: UserWarning: Data Validation extension is not supported and will be removed\n",
      "  warn(msg)\n"
     ]
    },
    {
     "name": "stdout",
     "output_type": "stream",
     "text": [
      "F:\\a00nutstore\\008\\zw08\\莱新订单20241029\\发票模板-按销售订单和存货编码-件数\\发票模板-武汉开先文化用品有限责任公司-SO-2024-02-1278-件数.xlsx\n"
     ]
    },
    {
     "name": "stderr",
     "output_type": "stream",
     "text": [
      "C:\\Users\\redda\\.conda\\envs\\py311\\Lib\\site-packages\\openpyxl\\worksheet\\_reader.py:329: UserWarning: Data Validation extension is not supported and will be removed\n",
      "  warn(msg)\n"
     ]
    },
    {
     "name": "stdout",
     "output_type": "stream",
     "text": [
      "F:\\a00nutstore\\008\\zw08\\莱新订单20241029\\发票模板-按销售订单和存货编码-件数\\发票模板-西安博为文教用品有限公司-SO-2024-02-1279-件数.xlsx\n"
     ]
    },
    {
     "name": "stderr",
     "output_type": "stream",
     "text": [
      "C:\\Users\\redda\\.conda\\envs\\py311\\Lib\\site-packages\\openpyxl\\worksheet\\_reader.py:329: UserWarning: Data Validation extension is not supported and will be removed\n",
      "  warn(msg)\n"
     ]
    },
    {
     "name": "stdout",
     "output_type": "stream",
     "text": [
      "F:\\a00nutstore\\008\\zw08\\莱新订单20241029\\发票模板-按销售订单和存货编码-件数\\发票模板-大庆市智胜文具办公设备有限公司-SO-2024-02-1280-件数.xlsx\n"
     ]
    },
    {
     "name": "stderr",
     "output_type": "stream",
     "text": [
      "C:\\Users\\redda\\.conda\\envs\\py311\\Lib\\site-packages\\openpyxl\\worksheet\\_reader.py:329: UserWarning: Data Validation extension is not supported and will be removed\n",
      "  warn(msg)\n"
     ]
    },
    {
     "name": "stdout",
     "output_type": "stream",
     "text": [
      "F:\\a00nutstore\\008\\zw08\\莱新订单20241029\\发票模板-按销售订单和存货编码-件数\\发票模板-义乌市博迅文体用品有限公司-SO-2024-02-1281-件数.xlsx\n"
     ]
    },
    {
     "name": "stderr",
     "output_type": "stream",
     "text": [
      "C:\\Users\\redda\\.conda\\envs\\py311\\Lib\\site-packages\\openpyxl\\worksheet\\_reader.py:329: UserWarning: Data Validation extension is not supported and will be removed\n",
      "  warn(msg)\n"
     ]
    },
    {
     "name": "stdout",
     "output_type": "stream",
     "text": [
      "F:\\a00nutstore\\008\\zw08\\莱新订单20241029\\发票模板-按销售订单和存货编码-件数\\发票模板-南宁市小木屋文化用品有限公司-SO-2024-02-1282-件数.xlsx\n"
     ]
    },
    {
     "name": "stderr",
     "output_type": "stream",
     "text": [
      "C:\\Users\\redda\\.conda\\envs\\py311\\Lib\\site-packages\\openpyxl\\worksheet\\_reader.py:329: UserWarning: Data Validation extension is not supported and will be removed\n",
      "  warn(msg)\n"
     ]
    },
    {
     "name": "stdout",
     "output_type": "stream",
     "text": [
      "F:\\a00nutstore\\008\\zw08\\莱新订单20241029\\发票模板-按销售订单和存货编码-件数\\发票模板-江西东优贸易有限公司-SO-2024-02-1283-件数.xlsx\n"
     ]
    },
    {
     "name": "stderr",
     "output_type": "stream",
     "text": [
      "C:\\Users\\redda\\.conda\\envs\\py311\\Lib\\site-packages\\openpyxl\\worksheet\\_reader.py:329: UserWarning: Data Validation extension is not supported and will be removed\n",
      "  warn(msg)\n"
     ]
    },
    {
     "name": "stdout",
     "output_type": "stream",
     "text": [
      "F:\\a00nutstore\\008\\zw08\\莱新订单20241029\\发票模板-按销售订单和存货编码-件数\\发票模板-沈阳贾术申-SO-2024-02-1284-件数.xlsx\n"
     ]
    },
    {
     "name": "stderr",
     "output_type": "stream",
     "text": [
      "C:\\Users\\redda\\.conda\\envs\\py311\\Lib\\site-packages\\openpyxl\\worksheet\\_reader.py:329: UserWarning: Data Validation extension is not supported and will be removed\n",
      "  warn(msg)\n"
     ]
    },
    {
     "name": "stdout",
     "output_type": "stream",
     "text": [
      "F:\\a00nutstore\\008\\zw08\\莱新订单20241029\\发票模板-按销售订单和存货编码-件数\\发票模板-临沂巧纳金纸品有限公司-SO-2024-02-1285-件数.xlsx\n"
     ]
    },
    {
     "name": "stderr",
     "output_type": "stream",
     "text": [
      "C:\\Users\\redda\\.conda\\envs\\py311\\Lib\\site-packages\\openpyxl\\worksheet\\_reader.py:329: UserWarning: Data Validation extension is not supported and will be removed\n",
      "  warn(msg)\n"
     ]
    },
    {
     "name": "stdout",
     "output_type": "stream",
     "text": [
      "F:\\a00nutstore\\008\\zw08\\莱新订单20241029\\发票模板-按销售订单和存货编码-件数\\发票模板-江西东优贸易有限公司-SO-2024-02-1286-件数.xlsx\n"
     ]
    },
    {
     "name": "stderr",
     "output_type": "stream",
     "text": [
      "C:\\Users\\redda\\.conda\\envs\\py311\\Lib\\site-packages\\openpyxl\\worksheet\\_reader.py:329: UserWarning: Data Validation extension is not supported and will be removed\n",
      "  warn(msg)\n"
     ]
    },
    {
     "name": "stdout",
     "output_type": "stream",
     "text": [
      "F:\\a00nutstore\\008\\zw08\\莱新订单20241029\\发票模板-按销售订单和存货编码-件数\\发票模板-武汉嘉迪亚商贸有限公司-SO-2024-02-1287-件数.xlsx\n"
     ]
    },
    {
     "name": "stderr",
     "output_type": "stream",
     "text": [
      "C:\\Users\\redda\\.conda\\envs\\py311\\Lib\\site-packages\\openpyxl\\worksheet\\_reader.py:329: UserWarning: Data Validation extension is not supported and will be removed\n",
      "  warn(msg)\n"
     ]
    },
    {
     "name": "stdout",
     "output_type": "stream",
     "text": [
      "F:\\a00nutstore\\008\\zw08\\莱新订单20241029\\发票模板-按销售订单和存货编码-件数\\发票模板-武汉今日成纸业有限公司-SO-2024-02-1288-件数.xlsx\n"
     ]
    },
    {
     "name": "stderr",
     "output_type": "stream",
     "text": [
      "C:\\Users\\redda\\.conda\\envs\\py311\\Lib\\site-packages\\openpyxl\\worksheet\\_reader.py:329: UserWarning: Data Validation extension is not supported and will be removed\n",
      "  warn(msg)\n"
     ]
    },
    {
     "name": "stdout",
     "output_type": "stream",
     "text": [
      "F:\\a00nutstore\\008\\zw08\\莱新订单20241029\\发票模板-按销售订单和存货编码-件数\\发票模板-武汉中威百联商贸有限公司-SO-2024-02-1289-件数.xlsx\n"
     ]
    },
    {
     "name": "stderr",
     "output_type": "stream",
     "text": [
      "C:\\Users\\redda\\.conda\\envs\\py311\\Lib\\site-packages\\openpyxl\\worksheet\\_reader.py:329: UserWarning: Data Validation extension is not supported and will be removed\n",
      "  warn(msg)\n"
     ]
    },
    {
     "name": "stdout",
     "output_type": "stream",
     "text": [
      "F:\\a00nutstore\\008\\zw08\\莱新订单20241029\\发票模板-按销售订单和存货编码-件数\\发票模板-武汉市齐达利商贸有限公司-SO-2024-02-1290-件数.xlsx\n"
     ]
    },
    {
     "name": "stderr",
     "output_type": "stream",
     "text": [
      "C:\\Users\\redda\\.conda\\envs\\py311\\Lib\\site-packages\\openpyxl\\worksheet\\_reader.py:329: UserWarning: Data Validation extension is not supported and will be removed\n",
      "  warn(msg)\n"
     ]
    },
    {
     "name": "stdout",
     "output_type": "stream",
     "text": [
      "F:\\a00nutstore\\008\\zw08\\莱新订单20241029\\发票模板-按销售订单和存货编码-件数\\发票模板-武汉开先文化用品有限责任公司-SO-2024-02-1291-件数.xlsx\n"
     ]
    },
    {
     "name": "stderr",
     "output_type": "stream",
     "text": [
      "C:\\Users\\redda\\.conda\\envs\\py311\\Lib\\site-packages\\openpyxl\\worksheet\\_reader.py:329: UserWarning: Data Validation extension is not supported and will be removed\n",
      "  warn(msg)\n"
     ]
    },
    {
     "name": "stdout",
     "output_type": "stream",
     "text": [
      "F:\\a00nutstore\\008\\zw08\\莱新订单20241029\\发票模板-按销售订单和存货编码-件数\\发票模板-武汉金胜辉商贸有限公司-SO-2024-02-1292-件数.xlsx\n"
     ]
    },
    {
     "name": "stderr",
     "output_type": "stream",
     "text": [
      "C:\\Users\\redda\\.conda\\envs\\py311\\Lib\\site-packages\\openpyxl\\worksheet\\_reader.py:329: UserWarning: Data Validation extension is not supported and will be removed\n",
      "  warn(msg)\n"
     ]
    },
    {
     "name": "stdout",
     "output_type": "stream",
     "text": [
      "F:\\a00nutstore\\008\\zw08\\莱新订单20241029\\发票模板-按销售订单和存货编码-件数\\发票模板-武汉市热脉文体用品有限公司-SO-2024-02-1293-件数.xlsx\n"
     ]
    },
    {
     "name": "stderr",
     "output_type": "stream",
     "text": [
      "C:\\Users\\redda\\.conda\\envs\\py311\\Lib\\site-packages\\openpyxl\\worksheet\\_reader.py:329: UserWarning: Data Validation extension is not supported and will be removed\n",
      "  warn(msg)\n"
     ]
    },
    {
     "name": "stdout",
     "output_type": "stream",
     "text": [
      "F:\\a00nutstore\\008\\zw08\\莱新订单20241029\\发票模板-按销售订单和存货编码-件数\\发票模板-义乌范光洪-SO-2024-02-1294-件数.xlsx\n"
     ]
    },
    {
     "name": "stderr",
     "output_type": "stream",
     "text": [
      "C:\\Users\\redda\\.conda\\envs\\py311\\Lib\\site-packages\\openpyxl\\worksheet\\_reader.py:329: UserWarning: Data Validation extension is not supported and will be removed\n",
      "  warn(msg)\n"
     ]
    },
    {
     "name": "stdout",
     "output_type": "stream",
     "text": [
      "F:\\a00nutstore\\008\\zw08\\莱新订单20241029\\发票模板-按销售订单和存货编码-件数\\发票模板-桂林竞升文化用品有限公司-SO-2024-02-1295-件数.xlsx\n"
     ]
    },
    {
     "name": "stderr",
     "output_type": "stream",
     "text": [
      "C:\\Users\\redda\\.conda\\envs\\py311\\Lib\\site-packages\\openpyxl\\worksheet\\_reader.py:329: UserWarning: Data Validation extension is not supported and will be removed\n",
      "  warn(msg)\n"
     ]
    },
    {
     "name": "stdout",
     "output_type": "stream",
     "text": [
      "F:\\a00nutstore\\008\\zw08\\莱新订单20241029\\发票模板-按销售订单和存货编码-件数\\发票模板-桂林竞升文化用品有限公司-SO-2024-02-1296-件数.xlsx\n"
     ]
    },
    {
     "name": "stderr",
     "output_type": "stream",
     "text": [
      "C:\\Users\\redda\\.conda\\envs\\py311\\Lib\\site-packages\\openpyxl\\worksheet\\_reader.py:329: UserWarning: Data Validation extension is not supported and will be removed\n",
      "  warn(msg)\n"
     ]
    },
    {
     "name": "stdout",
     "output_type": "stream",
     "text": [
      "F:\\a00nutstore\\008\\zw08\\莱新订单20241029\\发票模板-按销售订单和存货编码-件数\\发票模板-河南抬头喜办公用品有限公司S-SO-2024-02-1297-件数.xlsx\n"
     ]
    },
    {
     "name": "stderr",
     "output_type": "stream",
     "text": [
      "C:\\Users\\redda\\.conda\\envs\\py311\\Lib\\site-packages\\openpyxl\\worksheet\\_reader.py:329: UserWarning: Data Validation extension is not supported and will be removed\n",
      "  warn(msg)\n"
     ]
    },
    {
     "name": "stdout",
     "output_type": "stream",
     "text": [
      "F:\\a00nutstore\\008\\zw08\\莱新订单20241029\\发票模板-按销售订单和存货编码-件数\\发票模板-成都迪欣杨商贸有限公司-SO-2024-02-1298-件数.xlsx\n"
     ]
    },
    {
     "name": "stderr",
     "output_type": "stream",
     "text": [
      "C:\\Users\\redda\\.conda\\envs\\py311\\Lib\\site-packages\\openpyxl\\worksheet\\_reader.py:329: UserWarning: Data Validation extension is not supported and will be removed\n",
      "  warn(msg)\n"
     ]
    },
    {
     "name": "stdout",
     "output_type": "stream",
     "text": [
      "F:\\a00nutstore\\008\\zw08\\莱新订单20241029\\发票模板-按销售订单和存货编码-件数\\发票模板-泸州佳之彩商贸有限公司-SO-2024-02-1299-件数.xlsx\n"
     ]
    },
    {
     "name": "stderr",
     "output_type": "stream",
     "text": [
      "C:\\Users\\redda\\.conda\\envs\\py311\\Lib\\site-packages\\openpyxl\\worksheet\\_reader.py:329: UserWarning: Data Validation extension is not supported and will be removed\n",
      "  warn(msg)\n"
     ]
    },
    {
     "name": "stdout",
     "output_type": "stream",
     "text": [
      "F:\\a00nutstore\\008\\zw08\\莱新订单20241029\\发票模板-按销售订单和存货编码-件数\\发票模板-昆明许玉娥-SO-2024-02-1300-件数.xlsx\n"
     ]
    },
    {
     "name": "stderr",
     "output_type": "stream",
     "text": [
      "C:\\Users\\redda\\.conda\\envs\\py311\\Lib\\site-packages\\openpyxl\\worksheet\\_reader.py:329: UserWarning: Data Validation extension is not supported and will be removed\n",
      "  warn(msg)\n"
     ]
    },
    {
     "name": "stdout",
     "output_type": "stream",
     "text": [
      "F:\\a00nutstore\\008\\zw08\\莱新订单20241029\\发票模板-按销售订单和存货编码-件数\\发票模板-武汉开先文化用品有限责任公司-SO-2024-02-1301-件数.xlsx\n"
     ]
    },
    {
     "name": "stderr",
     "output_type": "stream",
     "text": [
      "C:\\Users\\redda\\.conda\\envs\\py311\\Lib\\site-packages\\openpyxl\\worksheet\\_reader.py:329: UserWarning: Data Validation extension is not supported and will be removed\n",
      "  warn(msg)\n"
     ]
    },
    {
     "name": "stdout",
     "output_type": "stream",
     "text": [
      "F:\\a00nutstore\\008\\zw08\\莱新订单20241029\\发票模板-按销售订单和存货编码-件数\\发票模板-武汉米圣贸易有限公司-SO-2024-02-1302-件数.xlsx\n"
     ]
    },
    {
     "name": "stderr",
     "output_type": "stream",
     "text": [
      "C:\\Users\\redda\\.conda\\envs\\py311\\Lib\\site-packages\\openpyxl\\worksheet\\_reader.py:329: UserWarning: Data Validation extension is not supported and will be removed\n",
      "  warn(msg)\n"
     ]
    },
    {
     "name": "stdout",
     "output_type": "stream",
     "text": [
      "F:\\a00nutstore\\008\\zw08\\莱新订单20241029\\发票模板-按销售订单和存货编码-件数\\发票模板-武汉市众缘商贸有限责任公司-SO-2024-02-1303-件数.xlsx\n"
     ]
    },
    {
     "name": "stderr",
     "output_type": "stream",
     "text": [
      "C:\\Users\\redda\\.conda\\envs\\py311\\Lib\\site-packages\\openpyxl\\worksheet\\_reader.py:329: UserWarning: Data Validation extension is not supported and will be removed\n",
      "  warn(msg)\n"
     ]
    },
    {
     "name": "stdout",
     "output_type": "stream",
     "text": [
      "F:\\a00nutstore\\008\\zw08\\莱新订单20241029\\发票模板-按销售订单和存货编码-件数\\发票模板-武汉金宸翰办公用品有限公司-SO-2024-02-1304-件数.xlsx\n"
     ]
    },
    {
     "name": "stderr",
     "output_type": "stream",
     "text": [
      "C:\\Users\\redda\\.conda\\envs\\py311\\Lib\\site-packages\\openpyxl\\worksheet\\_reader.py:329: UserWarning: Data Validation extension is not supported and will be removed\n",
      "  warn(msg)\n"
     ]
    },
    {
     "name": "stdout",
     "output_type": "stream",
     "text": [
      "F:\\a00nutstore\\008\\zw08\\莱新订单20241029\\发票模板-按销售订单和存货编码-件数\\发票模板-武汉优聚优品贸易有限公司-SO-2024-02-1305-件数.xlsx\n"
     ]
    },
    {
     "name": "stderr",
     "output_type": "stream",
     "text": [
      "C:\\Users\\redda\\.conda\\envs\\py311\\Lib\\site-packages\\openpyxl\\worksheet\\_reader.py:329: UserWarning: Data Validation extension is not supported and will be removed\n",
      "  warn(msg)\n"
     ]
    },
    {
     "name": "stdout",
     "output_type": "stream",
     "text": [
      "F:\\a00nutstore\\008\\zw08\\莱新订单20241029\\发票模板-按销售订单和存货编码-件数\\发票模板-武汉市热脉文体用品有限公司-SO-2024-02-1306-件数.xlsx\n"
     ]
    },
    {
     "name": "stderr",
     "output_type": "stream",
     "text": [
      "C:\\Users\\redda\\.conda\\envs\\py311\\Lib\\site-packages\\openpyxl\\worksheet\\_reader.py:329: UserWarning: Data Validation extension is not supported and will be removed\n",
      "  warn(msg)\n"
     ]
    },
    {
     "name": "stdout",
     "output_type": "stream",
     "text": [
      "F:\\a00nutstore\\008\\zw08\\莱新订单20241029\\发票模板-按销售订单和存货编码-件数\\发票模板-武汉金胜辉商贸有限公司-SO-2024-02-1307-件数.xlsx\n"
     ]
    },
    {
     "name": "stderr",
     "output_type": "stream",
     "text": [
      "C:\\Users\\redda\\.conda\\envs\\py311\\Lib\\site-packages\\openpyxl\\worksheet\\_reader.py:329: UserWarning: Data Validation extension is not supported and will be removed\n",
      "  warn(msg)\n"
     ]
    },
    {
     "name": "stdout",
     "output_type": "stream",
     "text": [
      "F:\\a00nutstore\\008\\zw08\\莱新订单20241029\\发票模板-按销售订单和存货编码-件数\\发票模板-武汉金宸翰办公用品有限公司1-SO-2024-02-1308-件数.xlsx\n"
     ]
    },
    {
     "name": "stderr",
     "output_type": "stream",
     "text": [
      "C:\\Users\\redda\\.conda\\envs\\py311\\Lib\\site-packages\\openpyxl\\worksheet\\_reader.py:329: UserWarning: Data Validation extension is not supported and will be removed\n",
      "  warn(msg)\n"
     ]
    },
    {
     "name": "stdout",
     "output_type": "stream",
     "text": [
      "F:\\a00nutstore\\008\\zw08\\莱新订单20241029\\发票模板-按销售订单和存货编码-件数\\发票模板-湖北昇耀商贸有限公司-SO-2024-02-1309-件数.xlsx\n"
     ]
    },
    {
     "name": "stderr",
     "output_type": "stream",
     "text": [
      "C:\\Users\\redda\\.conda\\envs\\py311\\Lib\\site-packages\\openpyxl\\worksheet\\_reader.py:329: UserWarning: Data Validation extension is not supported and will be removed\n",
      "  warn(msg)\n"
     ]
    },
    {
     "name": "stdout",
     "output_type": "stream",
     "text": [
      "F:\\a00nutstore\\008\\zw08\\莱新订单20241029\\发票模板-按销售订单和存货编码-件数\\发票模板-武汉今日成纸业有限公司-SO-2024-02-1310-件数.xlsx\n"
     ]
    },
    {
     "name": "stderr",
     "output_type": "stream",
     "text": [
      "C:\\Users\\redda\\.conda\\envs\\py311\\Lib\\site-packages\\openpyxl\\worksheet\\_reader.py:329: UserWarning: Data Validation extension is not supported and will be removed\n",
      "  warn(msg)\n"
     ]
    },
    {
     "name": "stdout",
     "output_type": "stream",
     "text": [
      "F:\\a00nutstore\\008\\zw08\\莱新订单20241029\\发票模板-按销售订单和存货编码-件数\\发票模板-武汉嘉迪亚商贸有限公司-SO-2024-02-1311-件数.xlsx\n"
     ]
    },
    {
     "name": "stderr",
     "output_type": "stream",
     "text": [
      "C:\\Users\\redda\\.conda\\envs\\py311\\Lib\\site-packages\\openpyxl\\worksheet\\_reader.py:329: UserWarning: Data Validation extension is not supported and will be removed\n",
      "  warn(msg)\n"
     ]
    },
    {
     "name": "stdout",
     "output_type": "stream",
     "text": [
      "F:\\a00nutstore\\008\\zw08\\莱新订单20241029\\发票模板-按销售订单和存货编码-件数\\发票模板-汉中圣博商贸有限责任公司-SO-2024-02-1312-件数.xlsx\n"
     ]
    },
    {
     "name": "stderr",
     "output_type": "stream",
     "text": [
      "C:\\Users\\redda\\.conda\\envs\\py311\\Lib\\site-packages\\openpyxl\\worksheet\\_reader.py:329: UserWarning: Data Validation extension is not supported and will be removed\n",
      "  warn(msg)\n"
     ]
    },
    {
     "name": "stdout",
     "output_type": "stream",
     "text": [
      "F:\\a00nutstore\\008\\zw08\\莱新订单20241029\\发票模板-按销售订单和存货编码-件数\\发票模板-云南非常文化用品有限公司-SO-2024-02-1313-件数.xlsx\n"
     ]
    },
    {
     "name": "stderr",
     "output_type": "stream",
     "text": [
      "C:\\Users\\redda\\.conda\\envs\\py311\\Lib\\site-packages\\openpyxl\\worksheet\\_reader.py:329: UserWarning: Data Validation extension is not supported and will be removed\n",
      "  warn(msg)\n"
     ]
    },
    {
     "name": "stdout",
     "output_type": "stream",
     "text": [
      "F:\\a00nutstore\\008\\zw08\\莱新订单20241029\\发票模板-按销售订单和存货编码-件数\\发票模板-石家庄本米文具用品销售有限公司-SO-2024-02-1314-件数.xlsx\n"
     ]
    },
    {
     "name": "stderr",
     "output_type": "stream",
     "text": [
      "C:\\Users\\redda\\.conda\\envs\\py311\\Lib\\site-packages\\openpyxl\\worksheet\\_reader.py:329: UserWarning: Data Validation extension is not supported and will be removed\n",
      "  warn(msg)\n"
     ]
    },
    {
     "name": "stdout",
     "output_type": "stream",
     "text": [
      "F:\\a00nutstore\\008\\zw08\\莱新订单20241029\\发票模板-按销售订单和存货编码-件数\\发票模板-芜湖迈斯广告传媒有限公司-SO-2024-02-1315-件数.xlsx\n"
     ]
    },
    {
     "name": "stderr",
     "output_type": "stream",
     "text": [
      "C:\\Users\\redda\\.conda\\envs\\py311\\Lib\\site-packages\\openpyxl\\worksheet\\_reader.py:329: UserWarning: Data Validation extension is not supported and will be removed\n",
      "  warn(msg)\n"
     ]
    },
    {
     "name": "stdout",
     "output_type": "stream",
     "text": [
      "F:\\a00nutstore\\008\\zw08\\莱新订单20241029\\发票模板-按销售订单和存货编码-件数\\发票模板-湖北昇耀商贸有限公司-SO-2024-02-1316-件数.xlsx\n"
     ]
    },
    {
     "name": "stderr",
     "output_type": "stream",
     "text": [
      "C:\\Users\\redda\\.conda\\envs\\py311\\Lib\\site-packages\\openpyxl\\worksheet\\_reader.py:329: UserWarning: Data Validation extension is not supported and will be removed\n",
      "  warn(msg)\n"
     ]
    },
    {
     "name": "stdout",
     "output_type": "stream",
     "text": [
      "F:\\a00nutstore\\008\\zw08\\莱新订单20241029\\发票模板-按销售订单和存货编码-件数\\发票模板-武汉静静舒文体用品有限公司-SO-2024-02-1317-件数.xlsx\n"
     ]
    },
    {
     "name": "stderr",
     "output_type": "stream",
     "text": [
      "C:\\Users\\redda\\.conda\\envs\\py311\\Lib\\site-packages\\openpyxl\\worksheet\\_reader.py:329: UserWarning: Data Validation extension is not supported and will be removed\n",
      "  warn(msg)\n"
     ]
    },
    {
     "name": "stdout",
     "output_type": "stream",
     "text": [
      "F:\\a00nutstore\\008\\zw08\\莱新订单20241029\\发票模板-按销售订单和存货编码-件数\\发票模板-武汉开先文化用品有限责任公司-SO-2024-02-1318-件数.xlsx\n"
     ]
    },
    {
     "name": "stderr",
     "output_type": "stream",
     "text": [
      "C:\\Users\\redda\\.conda\\envs\\py311\\Lib\\site-packages\\openpyxl\\worksheet\\_reader.py:329: UserWarning: Data Validation extension is not supported and will be removed\n",
      "  warn(msg)\n"
     ]
    },
    {
     "name": "stdout",
     "output_type": "stream",
     "text": [
      "F:\\a00nutstore\\008\\zw08\\莱新订单20241029\\发票模板-按销售订单和存货编码-件数\\发票模板-西安垄裕商贸有限公司-SO-2024-02-1319-件数.xlsx\n"
     ]
    },
    {
     "name": "stderr",
     "output_type": "stream",
     "text": [
      "C:\\Users\\redda\\.conda\\envs\\py311\\Lib\\site-packages\\openpyxl\\worksheet\\_reader.py:329: UserWarning: Data Validation extension is not supported and will be removed\n",
      "  warn(msg)\n"
     ]
    },
    {
     "name": "stdout",
     "output_type": "stream",
     "text": [
      "F:\\a00nutstore\\008\\zw08\\莱新订单20241029\\发票模板-按销售订单和存货编码-件数\\发票模板-品壹佰河北商贸有限公司-SO-2024-02-1320-件数.xlsx\n"
     ]
    },
    {
     "name": "stderr",
     "output_type": "stream",
     "text": [
      "C:\\Users\\redda\\.conda\\envs\\py311\\Lib\\site-packages\\openpyxl\\worksheet\\_reader.py:329: UserWarning: Data Validation extension is not supported and will be removed\n",
      "  warn(msg)\n"
     ]
    },
    {
     "name": "stdout",
     "output_type": "stream",
     "text": [
      "F:\\a00nutstore\\008\\zw08\\莱新订单20241029\\发票模板-按销售订单和存货编码-件数\\发票模板-天津集采科技发展有限公司-SO-2024-02-1321-件数.xlsx\n"
     ]
    },
    {
     "name": "stderr",
     "output_type": "stream",
     "text": [
      "C:\\Users\\redda\\.conda\\envs\\py311\\Lib\\site-packages\\openpyxl\\worksheet\\_reader.py:329: UserWarning: Data Validation extension is not supported and will be removed\n",
      "  warn(msg)\n"
     ]
    },
    {
     "name": "stdout",
     "output_type": "stream",
     "text": [
      "F:\\a00nutstore\\008\\zw08\\莱新订单20241029\\发票模板-按销售订单和存货编码-件数\\发票模板-武汉金胜辉商贸有限公司-SO-2024-02-1322-件数.xlsx\n"
     ]
    },
    {
     "name": "stderr",
     "output_type": "stream",
     "text": [
      "C:\\Users\\redda\\.conda\\envs\\py311\\Lib\\site-packages\\openpyxl\\worksheet\\_reader.py:329: UserWarning: Data Validation extension is not supported and will be removed\n",
      "  warn(msg)\n"
     ]
    },
    {
     "name": "stdout",
     "output_type": "stream",
     "text": [
      "F:\\a00nutstore\\008\\zw08\\莱新订单20241029\\发票模板-按销售订单和存货编码-件数\\发票模板-武汉开先文化用品有限责任公司-SO-2024-02-1323-件数.xlsx\n"
     ]
    },
    {
     "name": "stderr",
     "output_type": "stream",
     "text": [
      "C:\\Users\\redda\\.conda\\envs\\py311\\Lib\\site-packages\\openpyxl\\worksheet\\_reader.py:329: UserWarning: Data Validation extension is not supported and will be removed\n",
      "  warn(msg)\n"
     ]
    },
    {
     "name": "stdout",
     "output_type": "stream",
     "text": [
      "F:\\a00nutstore\\008\\zw08\\莱新订单20241029\\发票模板-按销售订单和存货编码-件数\\发票模板-武汉金胜辉商贸有限公司-SO-2024-02-1324-件数.xlsx\n"
     ]
    },
    {
     "name": "stderr",
     "output_type": "stream",
     "text": [
      "C:\\Users\\redda\\.conda\\envs\\py311\\Lib\\site-packages\\openpyxl\\worksheet\\_reader.py:329: UserWarning: Data Validation extension is not supported and will be removed\n",
      "  warn(msg)\n"
     ]
    },
    {
     "name": "stdout",
     "output_type": "stream",
     "text": [
      "F:\\a00nutstore\\008\\zw08\\莱新订单20241029\\发票模板-按销售订单和存货编码-件数\\发票模板-武汉中威百联商贸有限公司-SO-2024-02-1325-件数.xlsx\n"
     ]
    },
    {
     "name": "stderr",
     "output_type": "stream",
     "text": [
      "C:\\Users\\redda\\.conda\\envs\\py311\\Lib\\site-packages\\openpyxl\\worksheet\\_reader.py:329: UserWarning: Data Validation extension is not supported and will be removed\n",
      "  warn(msg)\n"
     ]
    },
    {
     "name": "stdout",
     "output_type": "stream",
     "text": [
      "F:\\a00nutstore\\008\\zw08\\莱新订单20241029\\发票模板-按销售订单和存货编码-件数\\发票模板-湖北昇耀商贸有限公司-SO-2024-02-1326-件数.xlsx\n"
     ]
    },
    {
     "name": "stderr",
     "output_type": "stream",
     "text": [
      "C:\\Users\\redda\\.conda\\envs\\py311\\Lib\\site-packages\\openpyxl\\worksheet\\_reader.py:329: UserWarning: Data Validation extension is not supported and will be removed\n",
      "  warn(msg)\n"
     ]
    },
    {
     "name": "stdout",
     "output_type": "stream",
     "text": [
      "F:\\a00nutstore\\008\\zw08\\莱新订单20241029\\发票模板-按销售订单和存货编码-件数\\发票模板-武汉市众缘商贸有限责任公司-SO-2024-02-1327-件数.xlsx\n"
     ]
    },
    {
     "name": "stderr",
     "output_type": "stream",
     "text": [
      "C:\\Users\\redda\\.conda\\envs\\py311\\Lib\\site-packages\\openpyxl\\worksheet\\_reader.py:329: UserWarning: Data Validation extension is not supported and will be removed\n",
      "  warn(msg)\n"
     ]
    },
    {
     "name": "stdout",
     "output_type": "stream",
     "text": [
      "F:\\a00nutstore\\008\\zw08\\莱新订单20241029\\发票模板-按销售订单和存货编码-件数\\发票模板-武汉今日成纸业有限公司-SO-2024-02-1328-件数.xlsx\n"
     ]
    },
    {
     "name": "stderr",
     "output_type": "stream",
     "text": [
      "C:\\Users\\redda\\.conda\\envs\\py311\\Lib\\site-packages\\openpyxl\\worksheet\\_reader.py:329: UserWarning: Data Validation extension is not supported and will be removed\n",
      "  warn(msg)\n"
     ]
    },
    {
     "name": "stdout",
     "output_type": "stream",
     "text": [
      "F:\\a00nutstore\\008\\zw08\\莱新订单20241029\\发票模板-按销售订单和存货编码-件数\\发票模板-河南抬头喜办公用品有限公司S-SO-2024-02-1329-件数.xlsx\n"
     ]
    },
    {
     "name": "stderr",
     "output_type": "stream",
     "text": [
      "C:\\Users\\redda\\.conda\\envs\\py311\\Lib\\site-packages\\openpyxl\\worksheet\\_reader.py:329: UserWarning: Data Validation extension is not supported and will be removed\n",
      "  warn(msg)\n"
     ]
    },
    {
     "name": "stdout",
     "output_type": "stream",
     "text": [
      "F:\\a00nutstore\\008\\zw08\\莱新订单20241029\\发票模板-按销售订单和存货编码-件数\\发票模板-武汉市热脉文体用品有限公司-SO-2024-02-1330-件数.xlsx\n"
     ]
    },
    {
     "name": "stderr",
     "output_type": "stream",
     "text": [
      "C:\\Users\\redda\\.conda\\envs\\py311\\Lib\\site-packages\\openpyxl\\worksheet\\_reader.py:329: UserWarning: Data Validation extension is not supported and will be removed\n",
      "  warn(msg)\n"
     ]
    },
    {
     "name": "stdout",
     "output_type": "stream",
     "text": [
      "F:\\a00nutstore\\008\\zw08\\莱新订单20241029\\发票模板-按销售订单和存货编码-件数\\发票模板-武汉金宸翰办公用品有限公司-SO-2024-02-1331-件数.xlsx\n"
     ]
    },
    {
     "name": "stderr",
     "output_type": "stream",
     "text": [
      "C:\\Users\\redda\\.conda\\envs\\py311\\Lib\\site-packages\\openpyxl\\worksheet\\_reader.py:329: UserWarning: Data Validation extension is not supported and will be removed\n",
      "  warn(msg)\n"
     ]
    },
    {
     "name": "stdout",
     "output_type": "stream",
     "text": [
      "F:\\a00nutstore\\008\\zw08\\莱新订单20241029\\发票模板-按销售订单和存货编码-件数\\发票模板-武汉市热脉文体用品有限公司-SO-2024-02-1332-件数.xlsx\n"
     ]
    },
    {
     "name": "stderr",
     "output_type": "stream",
     "text": [
      "C:\\Users\\redda\\.conda\\envs\\py311\\Lib\\site-packages\\openpyxl\\worksheet\\_reader.py:329: UserWarning: Data Validation extension is not supported and will be removed\n",
      "  warn(msg)\n"
     ]
    },
    {
     "name": "stdout",
     "output_type": "stream",
     "text": [
      "F:\\a00nutstore\\008\\zw08\\莱新订单20241029\\发票模板-按销售订单和存货编码-件数\\发票模板-吉林耐斯商贸有限公司-SO-2024-02-1333-件数.xlsx\n"
     ]
    },
    {
     "name": "stderr",
     "output_type": "stream",
     "text": [
      "C:\\Users\\redda\\.conda\\envs\\py311\\Lib\\site-packages\\openpyxl\\worksheet\\_reader.py:329: UserWarning: Data Validation extension is not supported and will be removed\n",
      "  warn(msg)\n"
     ]
    },
    {
     "name": "stdout",
     "output_type": "stream",
     "text": [
      "F:\\a00nutstore\\008\\zw08\\莱新订单20241029\\发票模板-按销售订单和存货编码-件数\\发票模板-河南梓亦桐商贸有限公司-SO-2024-02-1334-件数.xlsx\n"
     ]
    },
    {
     "name": "stderr",
     "output_type": "stream",
     "text": [
      "C:\\Users\\redda\\.conda\\envs\\py311\\Lib\\site-packages\\openpyxl\\worksheet\\_reader.py:329: UserWarning: Data Validation extension is not supported and will be removed\n",
      "  warn(msg)\n"
     ]
    },
    {
     "name": "stdout",
     "output_type": "stream",
     "text": [
      "F:\\a00nutstore\\008\\zw08\\莱新订单20241029\\发票模板-按销售订单和存货编码-件数\\发票模板-合肥徍兴文化用品有限公司-SO-2024-02-1335-件数.xlsx\n"
     ]
    },
    {
     "name": "stderr",
     "output_type": "stream",
     "text": [
      "C:\\Users\\redda\\.conda\\envs\\py311\\Lib\\site-packages\\openpyxl\\worksheet\\_reader.py:329: UserWarning: Data Validation extension is not supported and will be removed\n",
      "  warn(msg)\n"
     ]
    },
    {
     "name": "stdout",
     "output_type": "stream",
     "text": [
      "F:\\a00nutstore\\008\\zw08\\莱新订单20241029\\发票模板-按销售订单和存货编码-件数\\发票模板-南宁市小木屋文化用品有限公司-SO-2024-02-1336-件数.xlsx\n"
     ]
    },
    {
     "name": "stderr",
     "output_type": "stream",
     "text": [
      "C:\\Users\\redda\\.conda\\envs\\py311\\Lib\\site-packages\\openpyxl\\worksheet\\_reader.py:329: UserWarning: Data Validation extension is not supported and will be removed\n",
      "  warn(msg)\n"
     ]
    },
    {
     "name": "stdout",
     "output_type": "stream",
     "text": [
      "F:\\a00nutstore\\008\\zw08\\莱新订单20241029\\发票模板-按销售订单和存货编码-件数\\发票模板-南阳雪枫商贸有限公司-SO-2024-02-1337-件数.xlsx\n"
     ]
    },
    {
     "name": "stderr",
     "output_type": "stream",
     "text": [
      "C:\\Users\\redda\\.conda\\envs\\py311\\Lib\\site-packages\\openpyxl\\worksheet\\_reader.py:329: UserWarning: Data Validation extension is not supported and will be removed\n",
      "  warn(msg)\n"
     ]
    },
    {
     "name": "stdout",
     "output_type": "stream",
     "text": [
      "F:\\a00nutstore\\008\\zw08\\莱新订单20241029\\发票模板-按销售订单和存货编码-件数\\发票模板-武汉金胜辉商贸有限公司-SO-2024-02-1338-件数.xlsx\n"
     ]
    },
    {
     "name": "stderr",
     "output_type": "stream",
     "text": [
      "C:\\Users\\redda\\.conda\\envs\\py311\\Lib\\site-packages\\openpyxl\\worksheet\\_reader.py:329: UserWarning: Data Validation extension is not supported and will be removed\n",
      "  warn(msg)\n"
     ]
    },
    {
     "name": "stdout",
     "output_type": "stream",
     "text": [
      "F:\\a00nutstore\\008\\zw08\\莱新订单20241029\\发票模板-按销售订单和存货编码-件数\\发票模板-武汉开先文化用品有限责任公司-SO-2024-02-1339-件数.xlsx\n"
     ]
    },
    {
     "name": "stderr",
     "output_type": "stream",
     "text": [
      "C:\\Users\\redda\\.conda\\envs\\py311\\Lib\\site-packages\\openpyxl\\worksheet\\_reader.py:329: UserWarning: Data Validation extension is not supported and will be removed\n",
      "  warn(msg)\n"
     ]
    },
    {
     "name": "stdout",
     "output_type": "stream",
     "text": [
      "F:\\a00nutstore\\008\\zw08\\莱新订单20241029\\发票模板-按销售订单和存货编码-件数\\发票模板-湖北昇耀商贸有限公司-SO-2024-02-1340-件数.xlsx\n"
     ]
    },
    {
     "name": "stderr",
     "output_type": "stream",
     "text": [
      "C:\\Users\\redda\\.conda\\envs\\py311\\Lib\\site-packages\\openpyxl\\worksheet\\_reader.py:329: UserWarning: Data Validation extension is not supported and will be removed\n",
      "  warn(msg)\n"
     ]
    },
    {
     "name": "stdout",
     "output_type": "stream",
     "text": [
      "F:\\a00nutstore\\008\\zw08\\莱新订单20241029\\发票模板-按销售订单和存货编码-件数\\发票模板-武汉市热脉文体用品有限公司-SO-2024-02-1341-件数.xlsx\n"
     ]
    },
    {
     "name": "stderr",
     "output_type": "stream",
     "text": [
      "C:\\Users\\redda\\.conda\\envs\\py311\\Lib\\site-packages\\openpyxl\\worksheet\\_reader.py:329: UserWarning: Data Validation extension is not supported and will be removed\n",
      "  warn(msg)\n"
     ]
    },
    {
     "name": "stdout",
     "output_type": "stream",
     "text": [
      "F:\\a00nutstore\\008\\zw08\\莱新订单20241029\\发票模板-按销售订单和存货编码-件数\\发票模板-武汉乐得电子商务有限公司L-SO-2024-02-1342-件数.xlsx\n"
     ]
    },
    {
     "name": "stderr",
     "output_type": "stream",
     "text": [
      "C:\\Users\\redda\\.conda\\envs\\py311\\Lib\\site-packages\\openpyxl\\worksheet\\_reader.py:329: UserWarning: Data Validation extension is not supported and will be removed\n",
      "  warn(msg)\n"
     ]
    },
    {
     "name": "stdout",
     "output_type": "stream",
     "text": [
      "F:\\a00nutstore\\008\\zw08\\莱新订单20241029\\发票模板-按销售订单和存货编码-件数\\发票模板-武汉米圣贸易有限公司-SO-2024-02-1343-件数.xlsx\n"
     ]
    },
    {
     "name": "stderr",
     "output_type": "stream",
     "text": [
      "C:\\Users\\redda\\.conda\\envs\\py311\\Lib\\site-packages\\openpyxl\\worksheet\\_reader.py:329: UserWarning: Data Validation extension is not supported and will be removed\n",
      "  warn(msg)\n"
     ]
    },
    {
     "name": "stdout",
     "output_type": "stream",
     "text": [
      "F:\\a00nutstore\\008\\zw08\\莱新订单20241029\\发票模板-按销售订单和存货编码-件数\\发票模板-成都乐尚怡智商贸有限公司-SO-2024-02-1344-件数.xlsx\n"
     ]
    },
    {
     "name": "stderr",
     "output_type": "stream",
     "text": [
      "C:\\Users\\redda\\.conda\\envs\\py311\\Lib\\site-packages\\openpyxl\\worksheet\\_reader.py:329: UserWarning: Data Validation extension is not supported and will be removed\n",
      "  warn(msg)\n"
     ]
    },
    {
     "name": "stdout",
     "output_type": "stream",
     "text": [
      "F:\\a00nutstore\\008\\zw08\\莱新订单20241029\\发票模板-按销售订单和存货编码-件数\\发票模板-石家庄本米文具用品销售有限公司-SO-2024-02-1345-件数.xlsx\n"
     ]
    },
    {
     "name": "stderr",
     "output_type": "stream",
     "text": [
      "C:\\Users\\redda\\.conda\\envs\\py311\\Lib\\site-packages\\openpyxl\\worksheet\\_reader.py:329: UserWarning: Data Validation extension is not supported and will be removed\n",
      "  warn(msg)\n"
     ]
    },
    {
     "name": "stdout",
     "output_type": "stream",
     "text": [
      "F:\\a00nutstore\\008\\zw08\\莱新订单20241029\\发票模板-按销售订单和存货编码-件数\\发票模板-西安百花工贸有限公司-SO-2024-02-1346-件数.xlsx\n"
     ]
    },
    {
     "name": "stderr",
     "output_type": "stream",
     "text": [
      "C:\\Users\\redda\\.conda\\envs\\py311\\Lib\\site-packages\\openpyxl\\worksheet\\_reader.py:329: UserWarning: Data Validation extension is not supported and will be removed\n",
      "  warn(msg)\n"
     ]
    },
    {
     "name": "stdout",
     "output_type": "stream",
     "text": [
      "F:\\a00nutstore\\008\\zw08\\莱新订单20241029\\发票模板-按销售订单和存货编码-件数\\发票模板-成都乐尚怡智商贸有限公司-SO-2024-02-1347-件数.xlsx\n"
     ]
    },
    {
     "name": "stderr",
     "output_type": "stream",
     "text": [
      "C:\\Users\\redda\\.conda\\envs\\py311\\Lib\\site-packages\\openpyxl\\worksheet\\_reader.py:329: UserWarning: Data Validation extension is not supported and will be removed\n",
      "  warn(msg)\n"
     ]
    },
    {
     "name": "stdout",
     "output_type": "stream",
     "text": [
      "F:\\a00nutstore\\008\\zw08\\莱新订单20241029\\发票模板-按销售订单和存货编码-件数\\发票模板-河南抬头喜办公用品有限公司S-SO-2024-02-1348-件数.xlsx\n"
     ]
    },
    {
     "name": "stderr",
     "output_type": "stream",
     "text": [
      "C:\\Users\\redda\\.conda\\envs\\py311\\Lib\\site-packages\\openpyxl\\worksheet\\_reader.py:329: UserWarning: Data Validation extension is not supported and will be removed\n",
      "  warn(msg)\n"
     ]
    },
    {
     "name": "stdout",
     "output_type": "stream",
     "text": [
      "F:\\a00nutstore\\008\\zw08\\莱新订单20241029\\发票模板-按销售订单和存货编码-件数\\发票模板-武汉嘉迪亚商贸有限公司-SO-2024-02-1349-件数.xlsx\n"
     ]
    },
    {
     "name": "stderr",
     "output_type": "stream",
     "text": [
      "C:\\Users\\redda\\.conda\\envs\\py311\\Lib\\site-packages\\openpyxl\\worksheet\\_reader.py:329: UserWarning: Data Validation extension is not supported and will be removed\n",
      "  warn(msg)\n"
     ]
    },
    {
     "name": "stdout",
     "output_type": "stream",
     "text": [
      "F:\\a00nutstore\\008\\zw08\\莱新订单20241029\\发票模板-按销售订单和存货编码-件数\\发票模板-武汉米圣贸易有限公司-SO-2024-02-1350-件数.xlsx\n"
     ]
    },
    {
     "name": "stderr",
     "output_type": "stream",
     "text": [
      "C:\\Users\\redda\\.conda\\envs\\py311\\Lib\\site-packages\\openpyxl\\worksheet\\_reader.py:329: UserWarning: Data Validation extension is not supported and will be removed\n",
      "  warn(msg)\n"
     ]
    },
    {
     "name": "stdout",
     "output_type": "stream",
     "text": [
      "F:\\a00nutstore\\008\\zw08\\莱新订单20241029\\发票模板-按销售订单和存货编码-件数\\发票模板-湖北昇耀商贸有限公司-SO-2024-02-1351-件数.xlsx\n"
     ]
    },
    {
     "name": "stderr",
     "output_type": "stream",
     "text": [
      "C:\\Users\\redda\\.conda\\envs\\py311\\Lib\\site-packages\\openpyxl\\worksheet\\_reader.py:329: UserWarning: Data Validation extension is not supported and will be removed\n",
      "  warn(msg)\n"
     ]
    },
    {
     "name": "stdout",
     "output_type": "stream",
     "text": [
      "F:\\a00nutstore\\008\\zw08\\莱新订单20241029\\发票模板-按销售订单和存货编码-件数\\发票模板-武汉金胜辉商贸有限公司-SO-2024-02-1352-件数.xlsx\n"
     ]
    },
    {
     "name": "stderr",
     "output_type": "stream",
     "text": [
      "C:\\Users\\redda\\.conda\\envs\\py311\\Lib\\site-packages\\openpyxl\\worksheet\\_reader.py:329: UserWarning: Data Validation extension is not supported and will be removed\n",
      "  warn(msg)\n"
     ]
    },
    {
     "name": "stdout",
     "output_type": "stream",
     "text": [
      "F:\\a00nutstore\\008\\zw08\\莱新订单20241029\\发票模板-按销售订单和存货编码-件数\\发票模板-武汉金宸翰办公用品有限公司1-SO-2024-02-1353-件数.xlsx\n"
     ]
    },
    {
     "name": "stderr",
     "output_type": "stream",
     "text": [
      "C:\\Users\\redda\\.conda\\envs\\py311\\Lib\\site-packages\\openpyxl\\worksheet\\_reader.py:329: UserWarning: Data Validation extension is not supported and will be removed\n",
      "  warn(msg)\n"
     ]
    },
    {
     "name": "stdout",
     "output_type": "stream",
     "text": [
      "F:\\a00nutstore\\008\\zw08\\莱新订单20241029\\发票模板-按销售订单和存货编码-件数\\发票模板-武汉开先文化用品有限责任公司-SO-2024-02-1354-件数.xlsx\n"
     ]
    },
    {
     "name": "stderr",
     "output_type": "stream",
     "text": [
      "C:\\Users\\redda\\.conda\\envs\\py311\\Lib\\site-packages\\openpyxl\\worksheet\\_reader.py:329: UserWarning: Data Validation extension is not supported and will be removed\n",
      "  warn(msg)\n"
     ]
    },
    {
     "name": "stdout",
     "output_type": "stream",
     "text": [
      "F:\\a00nutstore\\008\\zw08\\莱新订单20241029\\发票模板-按销售订单和存货编码-件数\\发票模板-石家庄本米文具用品销售有限公司-SO-2024-02-1355-件数.xlsx\n"
     ]
    },
    {
     "name": "stderr",
     "output_type": "stream",
     "text": [
      "C:\\Users\\redda\\.conda\\envs\\py311\\Lib\\site-packages\\openpyxl\\worksheet\\_reader.py:329: UserWarning: Data Validation extension is not supported and will be removed\n",
      "  warn(msg)\n"
     ]
    },
    {
     "name": "stdout",
     "output_type": "stream",
     "text": [
      "F:\\a00nutstore\\008\\zw08\\莱新订单20241029\\发票模板-按销售订单和存货编码-件数\\发票模板-成都杨玲-SO-2024-02-1356-件数.xlsx\n"
     ]
    },
    {
     "name": "stderr",
     "output_type": "stream",
     "text": [
      "C:\\Users\\redda\\.conda\\envs\\py311\\Lib\\site-packages\\openpyxl\\worksheet\\_reader.py:329: UserWarning: Data Validation extension is not supported and will be removed\n",
      "  warn(msg)\n"
     ]
    },
    {
     "name": "stdout",
     "output_type": "stream",
     "text": [
      "F:\\a00nutstore\\008\\zw08\\莱新订单20241029\\发票模板-按销售订单和存货编码-件数\\发票模板-白玉县诚信办公用品销售有限公司-SO-2024-02-1357-件数.xlsx\n"
     ]
    },
    {
     "name": "stderr",
     "output_type": "stream",
     "text": [
      "C:\\Users\\redda\\.conda\\envs\\py311\\Lib\\site-packages\\openpyxl\\worksheet\\_reader.py:329: UserWarning: Data Validation extension is not supported and will be removed\n",
      "  warn(msg)\n"
     ]
    },
    {
     "name": "stdout",
     "output_type": "stream",
     "text": [
      "F:\\a00nutstore\\008\\zw08\\莱新订单20241029\\发票模板-按销售订单和存货编码-件数\\发票模板-成都杨万平-SO-2024-02-1358-件数.xlsx\n"
     ]
    },
    {
     "name": "stderr",
     "output_type": "stream",
     "text": [
      "C:\\Users\\redda\\.conda\\envs\\py311\\Lib\\site-packages\\openpyxl\\worksheet\\_reader.py:329: UserWarning: Data Validation extension is not supported and will be removed\n",
      "  warn(msg)\n"
     ]
    },
    {
     "name": "stdout",
     "output_type": "stream",
     "text": [
      "F:\\a00nutstore\\008\\zw08\\莱新订单20241029\\发票模板-按销售订单和存货编码-件数\\发票模板-临沂巧纳金纸品有限公司-SO-2024-02-1359-件数.xlsx\n"
     ]
    },
    {
     "name": "stderr",
     "output_type": "stream",
     "text": [
      "C:\\Users\\redda\\.conda\\envs\\py311\\Lib\\site-packages\\openpyxl\\worksheet\\_reader.py:329: UserWarning: Data Validation extension is not supported and will be removed\n",
      "  warn(msg)\n"
     ]
    },
    {
     "name": "stdout",
     "output_type": "stream",
     "text": [
      "F:\\a00nutstore\\008\\zw08\\莱新订单20241029\\发票模板-按销售订单和存货编码-件数\\发票模板-西安华坤集采供应链管理有限公司-SO-2024-02-1360-件数.xlsx\n"
     ]
    },
    {
     "name": "stderr",
     "output_type": "stream",
     "text": [
      "C:\\Users\\redda\\.conda\\envs\\py311\\Lib\\site-packages\\openpyxl\\worksheet\\_reader.py:329: UserWarning: Data Validation extension is not supported and will be removed\n",
      "  warn(msg)\n"
     ]
    },
    {
     "name": "stdout",
     "output_type": "stream",
     "text": [
      "F:\\a00nutstore\\008\\zw08\\莱新订单20241029\\发票模板-按销售订单和存货编码-件数\\发票模板-厦门同心成商贸有限公司-SO-2024-02-1361-件数.xlsx\n"
     ]
    },
    {
     "name": "stderr",
     "output_type": "stream",
     "text": [
      "C:\\Users\\redda\\.conda\\envs\\py311\\Lib\\site-packages\\openpyxl\\worksheet\\_reader.py:329: UserWarning: Data Validation extension is not supported and will be removed\n",
      "  warn(msg)\n"
     ]
    },
    {
     "name": "stdout",
     "output_type": "stream",
     "text": [
      "F:\\a00nutstore\\008\\zw08\\莱新订单20241029\\发票模板-按销售订单和存货编码-件数\\发票模板-义乌市博迅文体用品有限公司-SO-2024-02-1362-件数.xlsx\n"
     ]
    },
    {
     "name": "stderr",
     "output_type": "stream",
     "text": [
      "C:\\Users\\redda\\.conda\\envs\\py311\\Lib\\site-packages\\openpyxl\\worksheet\\_reader.py:329: UserWarning: Data Validation extension is not supported and will be removed\n",
      "  warn(msg)\n"
     ]
    },
    {
     "name": "stdout",
     "output_type": "stream",
     "text": [
      "F:\\a00nutstore\\008\\zw08\\莱新订单20241029\\发票模板-按销售订单和存货编码-件数\\发票模板-南京好学爱玩信息科技有限公司-SO-2024-02-1363-件数.xlsx\n"
     ]
    },
    {
     "name": "stderr",
     "output_type": "stream",
     "text": [
      "C:\\Users\\redda\\.conda\\envs\\py311\\Lib\\site-packages\\openpyxl\\worksheet\\_reader.py:329: UserWarning: Data Validation extension is not supported and will be removed\n",
      "  warn(msg)\n"
     ]
    },
    {
     "name": "stdout",
     "output_type": "stream",
     "text": [
      "F:\\a00nutstore\\008\\zw08\\莱新订单20241029\\发票模板-按销售订单和存货编码-件数\\发票模板-武汉金胜辉商贸有限公司-SO-2024-02-1364-件数.xlsx\n"
     ]
    },
    {
     "name": "stderr",
     "output_type": "stream",
     "text": [
      "C:\\Users\\redda\\.conda\\envs\\py311\\Lib\\site-packages\\openpyxl\\worksheet\\_reader.py:329: UserWarning: Data Validation extension is not supported and will be removed\n",
      "  warn(msg)\n"
     ]
    },
    {
     "name": "stdout",
     "output_type": "stream",
     "text": [
      "F:\\a00nutstore\\008\\zw08\\莱新订单20241029\\发票模板-按销售订单和存货编码-件数\\发票模板-武汉米圣贸易有限公司-SO-2024-02-1365-件数.xlsx\n"
     ]
    },
    {
     "name": "stderr",
     "output_type": "stream",
     "text": [
      "C:\\Users\\redda\\.conda\\envs\\py311\\Lib\\site-packages\\openpyxl\\worksheet\\_reader.py:329: UserWarning: Data Validation extension is not supported and will be removed\n",
      "  warn(msg)\n"
     ]
    },
    {
     "name": "stdout",
     "output_type": "stream",
     "text": [
      "F:\\a00nutstore\\008\\zw08\\莱新订单20241029\\发票模板-按销售订单和存货编码-件数\\发票模板-河南抬头喜办公用品有限公司S-SO-2024-02-1366-件数.xlsx\n"
     ]
    },
    {
     "name": "stderr",
     "output_type": "stream",
     "text": [
      "C:\\Users\\redda\\.conda\\envs\\py311\\Lib\\site-packages\\openpyxl\\worksheet\\_reader.py:329: UserWarning: Data Validation extension is not supported and will be removed\n",
      "  warn(msg)\n"
     ]
    },
    {
     "name": "stdout",
     "output_type": "stream",
     "text": [
      "F:\\a00nutstore\\008\\zw08\\莱新订单20241029\\发票模板-按销售订单和存货编码-件数\\发票模板-武汉米圣贸易有限公司-SO-2024-02-1367-件数.xlsx\n"
     ]
    },
    {
     "name": "stderr",
     "output_type": "stream",
     "text": [
      "C:\\Users\\redda\\.conda\\envs\\py311\\Lib\\site-packages\\openpyxl\\worksheet\\_reader.py:329: UserWarning: Data Validation extension is not supported and will be removed\n",
      "  warn(msg)\n"
     ]
    },
    {
     "name": "stdout",
     "output_type": "stream",
     "text": [
      "F:\\a00nutstore\\008\\zw08\\莱新订单20241029\\发票模板-按销售订单和存货编码-件数\\发票模板-武汉静静舒文体用品有限公司-SO-2024-02-1368-件数.xlsx\n"
     ]
    },
    {
     "name": "stderr",
     "output_type": "stream",
     "text": [
      "C:\\Users\\redda\\.conda\\envs\\py311\\Lib\\site-packages\\openpyxl\\worksheet\\_reader.py:329: UserWarning: Data Validation extension is not supported and will be removed\n",
      "  warn(msg)\n"
     ]
    },
    {
     "name": "stdout",
     "output_type": "stream",
     "text": [
      "F:\\a00nutstore\\008\\zw08\\莱新订单20241029\\发票模板-按销售订单和存货编码-件数\\发票模板-武汉金宸翰办公用品有限公司-SO-2024-02-1369-件数.xlsx\n"
     ]
    },
    {
     "name": "stderr",
     "output_type": "stream",
     "text": [
      "C:\\Users\\redda\\.conda\\envs\\py311\\Lib\\site-packages\\openpyxl\\worksheet\\_reader.py:329: UserWarning: Data Validation extension is not supported and will be removed\n",
      "  warn(msg)\n"
     ]
    },
    {
     "name": "stdout",
     "output_type": "stream",
     "text": [
      "F:\\a00nutstore\\008\\zw08\\莱新订单20241029\\发票模板-按销售订单和存货编码-件数\\发票模板-武汉市热脉文体用品有限公司-SO-2024-02-1370-件数.xlsx\n"
     ]
    },
    {
     "name": "stderr",
     "output_type": "stream",
     "text": [
      "C:\\Users\\redda\\.conda\\envs\\py311\\Lib\\site-packages\\openpyxl\\worksheet\\_reader.py:329: UserWarning: Data Validation extension is not supported and will be removed\n",
      "  warn(msg)\n"
     ]
    },
    {
     "name": "stdout",
     "output_type": "stream",
     "text": [
      "F:\\a00nutstore\\008\\zw08\\莱新订单20241029\\发票模板-按销售订单和存货编码-件数\\发票模板-武汉市齐达利商贸有限公司-SO-2024-02-1371-件数.xlsx\n"
     ]
    },
    {
     "name": "stderr",
     "output_type": "stream",
     "text": [
      "C:\\Users\\redda\\.conda\\envs\\py311\\Lib\\site-packages\\openpyxl\\worksheet\\_reader.py:329: UserWarning: Data Validation extension is not supported and will be removed\n",
      "  warn(msg)\n"
     ]
    },
    {
     "name": "stdout",
     "output_type": "stream",
     "text": [
      "F:\\a00nutstore\\008\\zw08\\莱新订单20241029\\发票模板-按销售订单和存货编码-件数\\发票模板-宁夏嘉佰琪商贸有限公司-SO-2024-02-1372-件数.xlsx\n"
     ]
    },
    {
     "name": "stderr",
     "output_type": "stream",
     "text": [
      "C:\\Users\\redda\\.conda\\envs\\py311\\Lib\\site-packages\\openpyxl\\worksheet\\_reader.py:329: UserWarning: Data Validation extension is not supported and will be removed\n",
      "  warn(msg)\n"
     ]
    },
    {
     "name": "stdout",
     "output_type": "stream",
     "text": [
      "F:\\a00nutstore\\008\\zw08\\莱新订单20241029\\发票模板-按销售订单和存货编码-件数\\发票模板-安康市申达文化用品有限公司L-SO-2024-02-1373-件数.xlsx\n"
     ]
    },
    {
     "name": "stderr",
     "output_type": "stream",
     "text": [
      "C:\\Users\\redda\\.conda\\envs\\py311\\Lib\\site-packages\\openpyxl\\worksheet\\_reader.py:329: UserWarning: Data Validation extension is not supported and will be removed\n",
      "  warn(msg)\n"
     ]
    },
    {
     "name": "stdout",
     "output_type": "stream",
     "text": [
      "F:\\a00nutstore\\008\\zw08\\莱新订单20241029\\发票模板-按销售订单和存货编码-件数\\发票模板-哈尔滨市嘉亿得商贸有限公司-SO-2024-02-1374-件数.xlsx\n"
     ]
    },
    {
     "name": "stderr",
     "output_type": "stream",
     "text": [
      "C:\\Users\\redda\\.conda\\envs\\py311\\Lib\\site-packages\\openpyxl\\worksheet\\_reader.py:329: UserWarning: Data Validation extension is not supported and will be removed\n",
      "  warn(msg)\n"
     ]
    },
    {
     "name": "stdout",
     "output_type": "stream",
     "text": [
      "F:\\a00nutstore\\008\\zw08\\莱新订单20241029\\发票模板-按销售订单和存货编码-件数\\发票模板-成都乐尚怡智商贸有限公司-SO-2024-02-1375-件数.xlsx\n"
     ]
    },
    {
     "name": "stderr",
     "output_type": "stream",
     "text": [
      "C:\\Users\\redda\\.conda\\envs\\py311\\Lib\\site-packages\\openpyxl\\worksheet\\_reader.py:329: UserWarning: Data Validation extension is not supported and will be removed\n",
      "  warn(msg)\n"
     ]
    },
    {
     "name": "stdout",
     "output_type": "stream",
     "text": [
      "F:\\a00nutstore\\008\\zw08\\莱新订单20241029\\发票模板-按销售订单和存货编码-件数\\发票模板-哈尔滨市新天地文化用品有限公司-SO-2024-02-1376-件数.xlsx\n"
     ]
    },
    {
     "name": "stderr",
     "output_type": "stream",
     "text": [
      "C:\\Users\\redda\\.conda\\envs\\py311\\Lib\\site-packages\\openpyxl\\worksheet\\_reader.py:329: UserWarning: Data Validation extension is not supported and will be removed\n",
      "  warn(msg)\n"
     ]
    },
    {
     "name": "stdout",
     "output_type": "stream",
     "text": [
      "F:\\a00nutstore\\008\\zw08\\莱新订单20241029\\发票模板-按销售订单和存货编码-件数\\发票模板-长沙市东麦文化有限公司-SO-2024-02-1377-件数.xlsx\n"
     ]
    },
    {
     "name": "stderr",
     "output_type": "stream",
     "text": [
      "C:\\Users\\redda\\.conda\\envs\\py311\\Lib\\site-packages\\openpyxl\\worksheet\\_reader.py:329: UserWarning: Data Validation extension is not supported and will be removed\n",
      "  warn(msg)\n"
     ]
    },
    {
     "name": "stdout",
     "output_type": "stream",
     "text": [
      "F:\\a00nutstore\\008\\zw08\\莱新订单20241029\\发票模板-按销售订单和存货编码-件数\\发票模板-吉首市阳光文体用品有限责任公司-SO-2024-02-1378-件数.xlsx\n"
     ]
    },
    {
     "name": "stderr",
     "output_type": "stream",
     "text": [
      "C:\\Users\\redda\\.conda\\envs\\py311\\Lib\\site-packages\\openpyxl\\worksheet\\_reader.py:329: UserWarning: Data Validation extension is not supported and will be removed\n",
      "  warn(msg)\n"
     ]
    },
    {
     "name": "stdout",
     "output_type": "stream",
     "text": [
      "F:\\a00nutstore\\008\\zw08\\莱新订单20241029\\发票模板-按销售订单和存货编码-件数\\发票模板-山西融和通商贸有限公司-SO-2024-02-1379-件数.xlsx\n"
     ]
    },
    {
     "name": "stderr",
     "output_type": "stream",
     "text": [
      "C:\\Users\\redda\\.conda\\envs\\py311\\Lib\\site-packages\\openpyxl\\worksheet\\_reader.py:329: UserWarning: Data Validation extension is not supported and will be removed\n",
      "  warn(msg)\n"
     ]
    },
    {
     "name": "stdout",
     "output_type": "stream",
     "text": [
      "F:\\a00nutstore\\008\\zw08\\莱新订单20241029\\发票模板-按销售订单和存货编码-件数\\发票模板-白玉县诚信办公用品销售有限公司-SO-2024-02-1380-件数.xlsx\n"
     ]
    },
    {
     "name": "stderr",
     "output_type": "stream",
     "text": [
      "C:\\Users\\redda\\.conda\\envs\\py311\\Lib\\site-packages\\openpyxl\\worksheet\\_reader.py:329: UserWarning: Data Validation extension is not supported and will be removed\n",
      "  warn(msg)\n"
     ]
    },
    {
     "name": "stdout",
     "output_type": "stream",
     "text": [
      "F:\\a00nutstore\\008\\zw08\\莱新订单20241029\\发票模板-按销售订单和存货编码-件数\\发票模板-成都皓天科技有限公司-SO-2024-02-1381-件数.xlsx\n"
     ]
    },
    {
     "name": "stderr",
     "output_type": "stream",
     "text": [
      "C:\\Users\\redda\\.conda\\envs\\py311\\Lib\\site-packages\\openpyxl\\worksheet\\_reader.py:329: UserWarning: Data Validation extension is not supported and will be removed\n",
      "  warn(msg)\n"
     ]
    },
    {
     "name": "stdout",
     "output_type": "stream",
     "text": [
      "F:\\a00nutstore\\008\\zw08\\莱新订单20241029\\发票模板-按销售订单和存货编码-件数\\发票模板-成都市金牛区迪欣印务批发部-SO-2024-02-1382-件数.xlsx\n"
     ]
    },
    {
     "name": "stderr",
     "output_type": "stream",
     "text": [
      "C:\\Users\\redda\\.conda\\envs\\py311\\Lib\\site-packages\\openpyxl\\worksheet\\_reader.py:329: UserWarning: Data Validation extension is not supported and will be removed\n",
      "  warn(msg)\n"
     ]
    },
    {
     "name": "stdout",
     "output_type": "stream",
     "text": [
      "F:\\a00nutstore\\008\\zw08\\莱新订单20241029\\发票模板-按销售订单和存货编码-件数\\发票模板-遵义康兴达商贸有限公司-SO-2024-02-1383-件数.xlsx\n"
     ]
    },
    {
     "name": "stderr",
     "output_type": "stream",
     "text": [
      "C:\\Users\\redda\\.conda\\envs\\py311\\Lib\\site-packages\\openpyxl\\worksheet\\_reader.py:329: UserWarning: Data Validation extension is not supported and will be removed\n",
      "  warn(msg)\n"
     ]
    },
    {
     "name": "stdout",
     "output_type": "stream",
     "text": [
      "F:\\a00nutstore\\008\\zw08\\莱新订单20241029\\发票模板-按销售订单和存货编码-件数\\发票模板-邵东金志文-SO-2024-02-1384-件数.xlsx\n"
     ]
    },
    {
     "name": "stderr",
     "output_type": "stream",
     "text": [
      "C:\\Users\\redda\\.conda\\envs\\py311\\Lib\\site-packages\\openpyxl\\worksheet\\_reader.py:329: UserWarning: Data Validation extension is not supported and will be removed\n",
      "  warn(msg)\n"
     ]
    },
    {
     "name": "stdout",
     "output_type": "stream",
     "text": [
      "F:\\a00nutstore\\008\\zw08\\莱新订单20241029\\发票模板-按销售订单和存货编码-件数\\发票模板-龙岩连卫中-SO-2024-02-1385-件数.xlsx\n"
     ]
    },
    {
     "name": "stderr",
     "output_type": "stream",
     "text": [
      "C:\\Users\\redda\\.conda\\envs\\py311\\Lib\\site-packages\\openpyxl\\worksheet\\_reader.py:329: UserWarning: Data Validation extension is not supported and will be removed\n",
      "  warn(msg)\n"
     ]
    },
    {
     "name": "stdout",
     "output_type": "stream",
     "text": [
      "F:\\a00nutstore\\008\\zw08\\莱新订单20241029\\发票模板-按销售订单和存货编码-件数\\发票模板-武汉金胜辉商贸有限公司-SO-2024-02-1386-件数.xlsx\n"
     ]
    },
    {
     "name": "stderr",
     "output_type": "stream",
     "text": [
      "C:\\Users\\redda\\.conda\\envs\\py311\\Lib\\site-packages\\openpyxl\\worksheet\\_reader.py:329: UserWarning: Data Validation extension is not supported and will be removed\n",
      "  warn(msg)\n"
     ]
    },
    {
     "name": "stdout",
     "output_type": "stream",
     "text": [
      "F:\\a00nutstore\\008\\zw08\\莱新订单20241029\\发票模板-按销售订单和存货编码-件数\\发票模板-武汉金宸翰办公用品有限公司1-SO-2024-02-1387-件数.xlsx\n"
     ]
    },
    {
     "name": "stderr",
     "output_type": "stream",
     "text": [
      "C:\\Users\\redda\\.conda\\envs\\py311\\Lib\\site-packages\\openpyxl\\worksheet\\_reader.py:329: UserWarning: Data Validation extension is not supported and will be removed\n",
      "  warn(msg)\n"
     ]
    },
    {
     "name": "stdout",
     "output_type": "stream",
     "text": [
      "F:\\a00nutstore\\008\\zw08\\莱新订单20241029\\发票模板-按销售订单和存货编码-件数\\发票模板-武汉中威百联商贸有限公司-SO-2024-02-1388-件数.xlsx\n"
     ]
    },
    {
     "name": "stderr",
     "output_type": "stream",
     "text": [
      "C:\\Users\\redda\\.conda\\envs\\py311\\Lib\\site-packages\\openpyxl\\worksheet\\_reader.py:329: UserWarning: Data Validation extension is not supported and will be removed\n",
      "  warn(msg)\n"
     ]
    },
    {
     "name": "stdout",
     "output_type": "stream",
     "text": [
      "F:\\a00nutstore\\008\\zw08\\莱新订单20241029\\发票模板-按销售订单和存货编码-件数\\发票模板-武汉今日成纸业有限公司-SO-2024-02-1389-件数.xlsx\n"
     ]
    },
    {
     "name": "stderr",
     "output_type": "stream",
     "text": [
      "C:\\Users\\redda\\.conda\\envs\\py311\\Lib\\site-packages\\openpyxl\\worksheet\\_reader.py:329: UserWarning: Data Validation extension is not supported and will be removed\n",
      "  warn(msg)\n"
     ]
    },
    {
     "name": "stdout",
     "output_type": "stream",
     "text": [
      "F:\\a00nutstore\\008\\zw08\\莱新订单20241029\\发票模板-按销售订单和存货编码-件数\\发票模板-武汉米圣贸易有限公司-SO-2024-02-1390-件数.xlsx\n"
     ]
    },
    {
     "name": "stderr",
     "output_type": "stream",
     "text": [
      "C:\\Users\\redda\\.conda\\envs\\py311\\Lib\\site-packages\\openpyxl\\worksheet\\_reader.py:329: UserWarning: Data Validation extension is not supported and will be removed\n",
      "  warn(msg)\n"
     ]
    },
    {
     "name": "stdout",
     "output_type": "stream",
     "text": [
      "F:\\a00nutstore\\008\\zw08\\莱新订单20241029\\发票模板-按销售订单和存货编码-件数\\发票模板-武汉开先文化用品有限责任公司-SO-2024-02-1391-件数.xlsx\n"
     ]
    },
    {
     "name": "stderr",
     "output_type": "stream",
     "text": [
      "C:\\Users\\redda\\.conda\\envs\\py311\\Lib\\site-packages\\openpyxl\\worksheet\\_reader.py:329: UserWarning: Data Validation extension is not supported and will be removed\n",
      "  warn(msg)\n"
     ]
    },
    {
     "name": "stdout",
     "output_type": "stream",
     "text": [
      "F:\\a00nutstore\\008\\zw08\\莱新订单20241029\\发票模板-按销售订单和存货编码-件数\\发票模板-湖北昇耀商贸有限公司-SO-2024-02-1392-件数.xlsx\n"
     ]
    },
    {
     "name": "stderr",
     "output_type": "stream",
     "text": [
      "C:\\Users\\redda\\.conda\\envs\\py311\\Lib\\site-packages\\openpyxl\\worksheet\\_reader.py:329: UserWarning: Data Validation extension is not supported and will be removed\n",
      "  warn(msg)\n"
     ]
    },
    {
     "name": "stdout",
     "output_type": "stream",
     "text": [
      "F:\\a00nutstore\\008\\zw08\\莱新订单20241029\\发票模板-按销售订单和存货编码-件数\\发票模板-武汉静静舒文体用品有限公司-SO-2024-02-1393-件数.xlsx\n"
     ]
    },
    {
     "name": "stderr",
     "output_type": "stream",
     "text": [
      "C:\\Users\\redda\\.conda\\envs\\py311\\Lib\\site-packages\\openpyxl\\worksheet\\_reader.py:329: UserWarning: Data Validation extension is not supported and will be removed\n",
      "  warn(msg)\n"
     ]
    },
    {
     "name": "stdout",
     "output_type": "stream",
     "text": [
      "F:\\a00nutstore\\008\\zw08\\莱新订单20241029\\发票模板-按销售订单和存货编码-件数\\发票模板-武汉市热脉文体用品有限公司-SO-2024-02-1394-件数.xlsx\n"
     ]
    },
    {
     "name": "stderr",
     "output_type": "stream",
     "text": [
      "C:\\Users\\redda\\.conda\\envs\\py311\\Lib\\site-packages\\openpyxl\\worksheet\\_reader.py:329: UserWarning: Data Validation extension is not supported and will be removed\n",
      "  warn(msg)\n"
     ]
    },
    {
     "name": "stdout",
     "output_type": "stream",
     "text": [
      "F:\\a00nutstore\\008\\zw08\\莱新订单20241029\\发票模板-按销售订单和存货编码-件数\\发票模板-龙岩连卫中-SO-2024-02-1395-件数.xlsx\n"
     ]
    },
    {
     "name": "stderr",
     "output_type": "stream",
     "text": [
      "C:\\Users\\redda\\.conda\\envs\\py311\\Lib\\site-packages\\openpyxl\\worksheet\\_reader.py:329: UserWarning: Data Validation extension is not supported and will be removed\n",
      "  warn(msg)\n"
     ]
    },
    {
     "name": "stdout",
     "output_type": "stream",
     "text": [
      "F:\\a00nutstore\\008\\zw08\\莱新订单20241029\\发票模板-按销售订单和存货编码-件数\\发票模板-武汉静静舒文体用品有限公司-SO-2024-02-1397-件数.xlsx\n"
     ]
    },
    {
     "name": "stderr",
     "output_type": "stream",
     "text": [
      "C:\\Users\\redda\\.conda\\envs\\py311\\Lib\\site-packages\\openpyxl\\worksheet\\_reader.py:329: UserWarning: Data Validation extension is not supported and will be removed\n",
      "  warn(msg)\n"
     ]
    },
    {
     "name": "stdout",
     "output_type": "stream",
     "text": [
      "F:\\a00nutstore\\008\\zw08\\莱新订单20241029\\发票模板-按销售订单和存货编码-件数\\发票模板-武汉市齐达利商贸有限公司-SO-2024-02-1398-件数.xlsx\n"
     ]
    },
    {
     "name": "stderr",
     "output_type": "stream",
     "text": [
      "C:\\Users\\redda\\.conda\\envs\\py311\\Lib\\site-packages\\openpyxl\\worksheet\\_reader.py:329: UserWarning: Data Validation extension is not supported and will be removed\n",
      "  warn(msg)\n"
     ]
    },
    {
     "name": "stdout",
     "output_type": "stream",
     "text": [
      "F:\\a00nutstore\\008\\zw08\\莱新订单20241029\\发票模板-按销售订单和存货编码-件数\\发票模板-武汉米圣贸易有限公司-SO-2024-02-1399-件数.xlsx\n"
     ]
    },
    {
     "name": "stderr",
     "output_type": "stream",
     "text": [
      "C:\\Users\\redda\\.conda\\envs\\py311\\Lib\\site-packages\\openpyxl\\worksheet\\_reader.py:329: UserWarning: Data Validation extension is not supported and will be removed\n",
      "  warn(msg)\n"
     ]
    },
    {
     "name": "stdout",
     "output_type": "stream",
     "text": [
      "F:\\a00nutstore\\008\\zw08\\莱新订单20241029\\发票模板-按销售订单和存货编码-件数\\发票模板-西安华坤集采供应链管理有限公司-SO-2024-02-1400-件数.xlsx\n"
     ]
    },
    {
     "name": "stderr",
     "output_type": "stream",
     "text": [
      "C:\\Users\\redda\\.conda\\envs\\py311\\Lib\\site-packages\\openpyxl\\worksheet\\_reader.py:329: UserWarning: Data Validation extension is not supported and will be removed\n",
      "  warn(msg)\n"
     ]
    },
    {
     "name": "stdout",
     "output_type": "stream",
     "text": [
      "F:\\a00nutstore\\008\\zw08\\莱新订单20241029\\发票模板-按销售订单和存货编码-件数\\发票模板-安康市申达文化用品有限公司L-SO-2024-02-1401-件数.xlsx\n"
     ]
    },
    {
     "name": "stderr",
     "output_type": "stream",
     "text": [
      "C:\\Users\\redda\\.conda\\envs\\py311\\Lib\\site-packages\\openpyxl\\worksheet\\_reader.py:329: UserWarning: Data Validation extension is not supported and will be removed\n",
      "  warn(msg)\n"
     ]
    },
    {
     "name": "stdout",
     "output_type": "stream",
     "text": [
      "F:\\a00nutstore\\008\\zw08\\莱新订单20241029\\发票模板-按销售订单和存货编码-件数\\发票模板-兰州艾迪商贸有限公司-SO-2024-02-1402-件数.xlsx\n"
     ]
    },
    {
     "name": "stderr",
     "output_type": "stream",
     "text": [
      "C:\\Users\\redda\\.conda\\envs\\py311\\Lib\\site-packages\\openpyxl\\worksheet\\_reader.py:329: UserWarning: Data Validation extension is not supported and will be removed\n",
      "  warn(msg)\n"
     ]
    },
    {
     "name": "stdout",
     "output_type": "stream",
     "text": [
      "F:\\a00nutstore\\008\\zw08\\莱新订单20241029\\发票模板-按销售订单和存货编码-件数\\发票模板-西安闻达文化用品有限公司-SO-2024-02-1403-件数.xlsx\n"
     ]
    },
    {
     "name": "stderr",
     "output_type": "stream",
     "text": [
      "C:\\Users\\redda\\.conda\\envs\\py311\\Lib\\site-packages\\openpyxl\\worksheet\\_reader.py:329: UserWarning: Data Validation extension is not supported and will be removed\n",
      "  warn(msg)\n"
     ]
    },
    {
     "name": "stdout",
     "output_type": "stream",
     "text": [
      "F:\\a00nutstore\\008\\zw08\\莱新订单20241029\\发票模板-按销售订单和存货编码-件数\\发票模板-渝中区齐佳文具经营部-SO-2024-02-1404-件数.xlsx\n"
     ]
    },
    {
     "name": "stderr",
     "output_type": "stream",
     "text": [
      "C:\\Users\\redda\\.conda\\envs\\py311\\Lib\\site-packages\\openpyxl\\worksheet\\_reader.py:329: UserWarning: Data Validation extension is not supported and will be removed\n",
      "  warn(msg)\n"
     ]
    },
    {
     "name": "stdout",
     "output_type": "stream",
     "text": [
      "F:\\a00nutstore\\008\\zw08\\莱新订单20241029\\发票模板-按销售订单和存货编码-件数\\发票模板-石家庄本米文具用品销售有限公司-SO-2024-02-1405-件数.xlsx\n"
     ]
    },
    {
     "name": "stderr",
     "output_type": "stream",
     "text": [
      "C:\\Users\\redda\\.conda\\envs\\py311\\Lib\\site-packages\\openpyxl\\worksheet\\_reader.py:329: UserWarning: Data Validation extension is not supported and will be removed\n",
      "  warn(msg)\n"
     ]
    },
    {
     "name": "stdout",
     "output_type": "stream",
     "text": [
      "F:\\a00nutstore\\008\\zw08\\莱新订单20241029\\发票模板-按销售订单和存货编码-件数\\发票模板-遵义龚碧清-SO-2024-02-1406-件数.xlsx\n"
     ]
    },
    {
     "name": "stderr",
     "output_type": "stream",
     "text": [
      "C:\\Users\\redda\\.conda\\envs\\py311\\Lib\\site-packages\\openpyxl\\worksheet\\_reader.py:329: UserWarning: Data Validation extension is not supported and will be removed\n",
      "  warn(msg)\n"
     ]
    },
    {
     "name": "stdout",
     "output_type": "stream",
     "text": [
      "F:\\a00nutstore\\008\\zw08\\莱新订单20241029\\发票模板-按销售订单和存货编码-件数\\发票模板-云南非常文化用品有限公司-SO-2024-02-1407-件数.xlsx\n"
     ]
    },
    {
     "name": "stderr",
     "output_type": "stream",
     "text": [
      "C:\\Users\\redda\\.conda\\envs\\py311\\Lib\\site-packages\\openpyxl\\worksheet\\_reader.py:329: UserWarning: Data Validation extension is not supported and will be removed\n",
      "  warn(msg)\n"
     ]
    },
    {
     "name": "stdout",
     "output_type": "stream",
     "text": [
      "F:\\a00nutstore\\008\\zw08\\莱新订单20241029\\发票模板-按销售订单和存货编码-件数\\发票模板-品壹佰河北商贸有限公司-SO-2024-02-1408-件数.xlsx\n"
     ]
    },
    {
     "name": "stderr",
     "output_type": "stream",
     "text": [
      "C:\\Users\\redda\\.conda\\envs\\py311\\Lib\\site-packages\\openpyxl\\worksheet\\_reader.py:329: UserWarning: Data Validation extension is not supported and will be removed\n",
      "  warn(msg)\n"
     ]
    },
    {
     "name": "stdout",
     "output_type": "stream",
     "text": [
      "F:\\a00nutstore\\008\\zw08\\莱新订单20241029\\发票模板-按销售订单和存货编码-件数\\发票模板-南宁市小木屋文化用品有限公司-SO-2024-02-1409-件数.xlsx\n"
     ]
    },
    {
     "name": "stderr",
     "output_type": "stream",
     "text": [
      "C:\\Users\\redda\\.conda\\envs\\py311\\Lib\\site-packages\\openpyxl\\worksheet\\_reader.py:329: UserWarning: Data Validation extension is not supported and will be removed\n",
      "  warn(msg)\n"
     ]
    },
    {
     "name": "stdout",
     "output_type": "stream",
     "text": [
      "F:\\a00nutstore\\008\\zw08\\莱新订单20241029\\发票模板-按销售订单和存货编码-件数\\发票模板-广西桂林利华电子科技有限公司-SO-2024-02-1410-件数.xlsx\n"
     ]
    },
    {
     "name": "stderr",
     "output_type": "stream",
     "text": [
      "C:\\Users\\redda\\.conda\\envs\\py311\\Lib\\site-packages\\openpyxl\\worksheet\\_reader.py:329: UserWarning: Data Validation extension is not supported and will be removed\n",
      "  warn(msg)\n"
     ]
    },
    {
     "name": "stdout",
     "output_type": "stream",
     "text": [
      "F:\\a00nutstore\\008\\zw08\\莱新订单20241029\\发票模板-按销售订单和存货编码-件数\\发票模板-武汉金胜辉商贸有限公司-SO-2024-02-1411-件数.xlsx\n"
     ]
    },
    {
     "name": "stderr",
     "output_type": "stream",
     "text": [
      "C:\\Users\\redda\\.conda\\envs\\py311\\Lib\\site-packages\\openpyxl\\worksheet\\_reader.py:329: UserWarning: Data Validation extension is not supported and will be removed\n",
      "  warn(msg)\n"
     ]
    },
    {
     "name": "stdout",
     "output_type": "stream",
     "text": [
      "F:\\a00nutstore\\008\\zw08\\莱新订单20241029\\发票模板-按销售订单和存货编码-件数\\发票模板-武汉金宸翰办公用品有限公司1-SO-2024-02-1412-件数.xlsx\n"
     ]
    },
    {
     "name": "stderr",
     "output_type": "stream",
     "text": [
      "C:\\Users\\redda\\.conda\\envs\\py311\\Lib\\site-packages\\openpyxl\\worksheet\\_reader.py:329: UserWarning: Data Validation extension is not supported and will be removed\n",
      "  warn(msg)\n"
     ]
    },
    {
     "name": "stdout",
     "output_type": "stream",
     "text": [
      "F:\\a00nutstore\\008\\zw08\\莱新订单20241029\\发票模板-按销售订单和存货编码-件数\\发票模板-武汉米圣贸易有限公司-SO-2024-02-1413-件数.xlsx\n"
     ]
    },
    {
     "name": "stderr",
     "output_type": "stream",
     "text": [
      "C:\\Users\\redda\\.conda\\envs\\py311\\Lib\\site-packages\\openpyxl\\worksheet\\_reader.py:329: UserWarning: Data Validation extension is not supported and will be removed\n",
      "  warn(msg)\n"
     ]
    },
    {
     "name": "stdout",
     "output_type": "stream",
     "text": [
      "F:\\a00nutstore\\008\\zw08\\莱新订单20241029\\发票模板-按销售订单和存货编码-件数\\发票模板-武汉开先文化用品有限责任公司-SO-2024-02-1414-件数.xlsx\n"
     ]
    },
    {
     "name": "stderr",
     "output_type": "stream",
     "text": [
      "C:\\Users\\redda\\.conda\\envs\\py311\\Lib\\site-packages\\openpyxl\\worksheet\\_reader.py:329: UserWarning: Data Validation extension is not supported and will be removed\n",
      "  warn(msg)\n"
     ]
    },
    {
     "name": "stdout",
     "output_type": "stream",
     "text": [
      "F:\\a00nutstore\\008\\zw08\\莱新订单20241029\\发票模板-按销售订单和存货编码-件数\\发票模板-武汉市晶艺文化用品有限公司-SO-2024-02-1415-件数.xlsx\n"
     ]
    },
    {
     "name": "stderr",
     "output_type": "stream",
     "text": [
      "C:\\Users\\redda\\.conda\\envs\\py311\\Lib\\site-packages\\openpyxl\\worksheet\\_reader.py:329: UserWarning: Data Validation extension is not supported and will be removed\n",
      "  warn(msg)\n"
     ]
    },
    {
     "name": "stdout",
     "output_type": "stream",
     "text": [
      "F:\\a00nutstore\\008\\zw08\\莱新订单20241029\\发票模板-按销售订单和存货编码-件数\\发票模板-武汉市众缘商贸有限责任公司-SO-2024-02-1416-件数.xlsx\n"
     ]
    },
    {
     "name": "stderr",
     "output_type": "stream",
     "text": [
      "C:\\Users\\redda\\.conda\\envs\\py311\\Lib\\site-packages\\openpyxl\\worksheet\\_reader.py:329: UserWarning: Data Validation extension is not supported and will be removed\n",
      "  warn(msg)\n"
     ]
    },
    {
     "name": "stdout",
     "output_type": "stream",
     "text": [
      "F:\\a00nutstore\\008\\zw08\\莱新订单20241029\\发票模板-按销售订单和存货编码-件数\\发票模板-河南抬头喜办公用品有限公司S-SO-2024-02-1417-件数.xlsx\n"
     ]
    },
    {
     "name": "stderr",
     "output_type": "stream",
     "text": [
      "C:\\Users\\redda\\.conda\\envs\\py311\\Lib\\site-packages\\openpyxl\\worksheet\\_reader.py:329: UserWarning: Data Validation extension is not supported and will be removed\n",
      "  warn(msg)\n"
     ]
    },
    {
     "name": "stdout",
     "output_type": "stream",
     "text": [
      "F:\\a00nutstore\\008\\zw08\\莱新订单20241029\\发票模板-按销售订单和存货编码-件数\\发票模板-海南新宇晨办公用品有限公司-SO-2024-02-1418-件数.xlsx\n"
     ]
    },
    {
     "name": "stderr",
     "output_type": "stream",
     "text": [
      "C:\\Users\\redda\\.conda\\envs\\py311\\Lib\\site-packages\\openpyxl\\worksheet\\_reader.py:329: UserWarning: Data Validation extension is not supported and will be removed\n",
      "  warn(msg)\n"
     ]
    },
    {
     "name": "stdout",
     "output_type": "stream",
     "text": [
      "F:\\a00nutstore\\008\\zw08\\莱新订单20241029\\发票模板-按销售订单和存货编码-件数\\发票模板-品壹佰河北商贸有限公司-SO-2024-02-1419-件数.xlsx\n"
     ]
    },
    {
     "name": "stderr",
     "output_type": "stream",
     "text": [
      "C:\\Users\\redda\\.conda\\envs\\py311\\Lib\\site-packages\\openpyxl\\worksheet\\_reader.py:329: UserWarning: Data Validation extension is not supported and will be removed\n",
      "  warn(msg)\n"
     ]
    },
    {
     "name": "stdout",
     "output_type": "stream",
     "text": [
      "F:\\a00nutstore\\008\\zw08\\莱新订单20241029\\发票模板-按销售订单和存货编码-件数\\发票模板-江西东优贸易有限公司-SO-2024-02-1421-件数.xlsx\n"
     ]
    },
    {
     "name": "stderr",
     "output_type": "stream",
     "text": [
      "C:\\Users\\redda\\.conda\\envs\\py311\\Lib\\site-packages\\openpyxl\\worksheet\\_reader.py:329: UserWarning: Data Validation extension is not supported and will be removed\n",
      "  warn(msg)\n"
     ]
    },
    {
     "name": "stdout",
     "output_type": "stream",
     "text": [
      "F:\\a00nutstore\\008\\zw08\\莱新订单20241029\\发票模板-按销售订单和存货编码-件数\\发票模板-沈阳贾术申-SO-2024-02-1422-件数.xlsx\n"
     ]
    },
    {
     "name": "stderr",
     "output_type": "stream",
     "text": [
      "C:\\Users\\redda\\.conda\\envs\\py311\\Lib\\site-packages\\openpyxl\\worksheet\\_reader.py:329: UserWarning: Data Validation extension is not supported and will be removed\n",
      "  warn(msg)\n"
     ]
    },
    {
     "name": "stdout",
     "output_type": "stream",
     "text": [
      "F:\\a00nutstore\\008\\zw08\\莱新订单20241029\\发票模板-按销售订单和存货编码-件数\\发票模板-泸州佳之彩商贸有限公司-SO-2024-02-1423-件数.xlsx\n"
     ]
    },
    {
     "name": "stderr",
     "output_type": "stream",
     "text": [
      "C:\\Users\\redda\\.conda\\envs\\py311\\Lib\\site-packages\\openpyxl\\worksheet\\_reader.py:329: UserWarning: Data Validation extension is not supported and will be removed\n",
      "  warn(msg)\n"
     ]
    },
    {
     "name": "stdout",
     "output_type": "stream",
     "text": [
      "F:\\a00nutstore\\008\\zw08\\莱新订单20241029\\发票模板-按销售订单和存货编码-件数\\发票模板-鹤岗市超东选商贸有限公司-SO-2024-02-1424-件数.xlsx\n"
     ]
    },
    {
     "name": "stderr",
     "output_type": "stream",
     "text": [
      "C:\\Users\\redda\\.conda\\envs\\py311\\Lib\\site-packages\\openpyxl\\worksheet\\_reader.py:329: UserWarning: Data Validation extension is not supported and will be removed\n",
      "  warn(msg)\n"
     ]
    },
    {
     "name": "stdout",
     "output_type": "stream",
     "text": [
      "F:\\a00nutstore\\008\\zw08\\莱新订单20241029\\发票模板-按销售订单和存货编码-件数\\发票模板-武汉市热脉文体用品有限公司-SO-2024-02-1425-件数.xlsx\n"
     ]
    },
    {
     "name": "stderr",
     "output_type": "stream",
     "text": [
      "C:\\Users\\redda\\.conda\\envs\\py311\\Lib\\site-packages\\openpyxl\\worksheet\\_reader.py:329: UserWarning: Data Validation extension is not supported and will be removed\n",
      "  warn(msg)\n"
     ]
    },
    {
     "name": "stdout",
     "output_type": "stream",
     "text": [
      "F:\\a00nutstore\\008\\zw08\\莱新订单20241029\\发票模板-按销售订单和存货编码-件数\\发票模板-武汉金宸翰办公用品有限公司-SO-2024-02-1426-件数.xlsx\n"
     ]
    },
    {
     "name": "stderr",
     "output_type": "stream",
     "text": [
      "C:\\Users\\redda\\.conda\\envs\\py311\\Lib\\site-packages\\openpyxl\\worksheet\\_reader.py:329: UserWarning: Data Validation extension is not supported and will be removed\n",
      "  warn(msg)\n"
     ]
    },
    {
     "name": "stdout",
     "output_type": "stream",
     "text": [
      "F:\\a00nutstore\\008\\zw08\\莱新订单20241029\\发票模板-按销售订单和存货编码-件数\\发票模板-武汉金胜辉商贸有限公司-SO-2024-02-1427-件数.xlsx\n"
     ]
    },
    {
     "name": "stderr",
     "output_type": "stream",
     "text": [
      "C:\\Users\\redda\\.conda\\envs\\py311\\Lib\\site-packages\\openpyxl\\worksheet\\_reader.py:329: UserWarning: Data Validation extension is not supported and will be removed\n",
      "  warn(msg)\n"
     ]
    },
    {
     "name": "stdout",
     "output_type": "stream",
     "text": [
      "F:\\a00nutstore\\008\\zw08\\莱新订单20241029\\发票模板-按销售订单和存货编码-件数\\发票模板-湖北昇耀商贸有限公司-SO-2024-02-1428-件数.xlsx\n"
     ]
    },
    {
     "name": "stderr",
     "output_type": "stream",
     "text": [
      "C:\\Users\\redda\\.conda\\envs\\py311\\Lib\\site-packages\\openpyxl\\worksheet\\_reader.py:329: UserWarning: Data Validation extension is not supported and will be removed\n",
      "  warn(msg)\n"
     ]
    },
    {
     "name": "stdout",
     "output_type": "stream",
     "text": [
      "F:\\a00nutstore\\008\\zw08\\莱新订单20241029\\发票模板-按销售订单和存货编码-件数\\发票模板-长沙市雨花区文丰文具商行-SO-2024-02-1429-件数.xlsx\n"
     ]
    },
    {
     "name": "stderr",
     "output_type": "stream",
     "text": [
      "C:\\Users\\redda\\.conda\\envs\\py311\\Lib\\site-packages\\openpyxl\\worksheet\\_reader.py:329: UserWarning: Data Validation extension is not supported and will be removed\n",
      "  warn(msg)\n"
     ]
    },
    {
     "name": "stdout",
     "output_type": "stream",
     "text": [
      "F:\\a00nutstore\\008\\zw08\\莱新订单20241029\\发票模板-按销售订单和存货编码-件数\\发票模板-成都杨万平-SO-2024-02-1430-件数.xlsx\n"
     ]
    },
    {
     "name": "stderr",
     "output_type": "stream",
     "text": [
      "C:\\Users\\redda\\.conda\\envs\\py311\\Lib\\site-packages\\openpyxl\\worksheet\\_reader.py:329: UserWarning: Data Validation extension is not supported and will be removed\n",
      "  warn(msg)\n"
     ]
    },
    {
     "name": "stdout",
     "output_type": "stream",
     "text": [
      "F:\\a00nutstore\\008\\zw08\\莱新订单20241029\\发票模板-按销售订单和存货编码-件数\\发票模板-金牛区昌宏优品商贸部-SO-2024-02-1431-件数.xlsx\n"
     ]
    },
    {
     "name": "stderr",
     "output_type": "stream",
     "text": [
      "C:\\Users\\redda\\.conda\\envs\\py311\\Lib\\site-packages\\openpyxl\\worksheet\\_reader.py:329: UserWarning: Data Validation extension is not supported and will be removed\n",
      "  warn(msg)\n"
     ]
    },
    {
     "name": "stdout",
     "output_type": "stream",
     "text": [
      "F:\\a00nutstore\\008\\zw08\\莱新订单20241029\\发票模板-按销售订单和存货编码-件数\\发票模板-武汉嘉迪亚商贸有限公司-SO-2024-02-1432-件数.xlsx\n"
     ]
    },
    {
     "name": "stderr",
     "output_type": "stream",
     "text": [
      "C:\\Users\\redda\\.conda\\envs\\py311\\Lib\\site-packages\\openpyxl\\worksheet\\_reader.py:329: UserWarning: Data Validation extension is not supported and will be removed\n",
      "  warn(msg)\n"
     ]
    },
    {
     "name": "stdout",
     "output_type": "stream",
     "text": [
      "F:\\a00nutstore\\008\\zw08\\莱新订单20241029\\发票模板-按销售订单和存货编码-件数\\发票模板-武汉金胜辉商贸有限公司-SO-2024-02-1433-件数.xlsx\n"
     ]
    },
    {
     "name": "stderr",
     "output_type": "stream",
     "text": [
      "C:\\Users\\redda\\.conda\\envs\\py311\\Lib\\site-packages\\openpyxl\\worksheet\\_reader.py:329: UserWarning: Data Validation extension is not supported and will be removed\n",
      "  warn(msg)\n"
     ]
    },
    {
     "name": "stdout",
     "output_type": "stream",
     "text": [
      "F:\\a00nutstore\\008\\zw08\\莱新订单20241029\\发票模板-按销售订单和存货编码-件数\\发票模板-武汉金宸翰办公用品有限公司1-SO-2024-02-1434-件数.xlsx\n"
     ]
    },
    {
     "name": "stderr",
     "output_type": "stream",
     "text": [
      "C:\\Users\\redda\\.conda\\envs\\py311\\Lib\\site-packages\\openpyxl\\worksheet\\_reader.py:329: UserWarning: Data Validation extension is not supported and will be removed\n",
      "  warn(msg)\n"
     ]
    },
    {
     "name": "stdout",
     "output_type": "stream",
     "text": [
      "F:\\a00nutstore\\008\\zw08\\莱新订单20241029\\发票模板-按销售订单和存货编码-件数\\发票模板-湖北昇耀商贸有限公司-SO-2024-02-1435-件数.xlsx\n"
     ]
    },
    {
     "name": "stderr",
     "output_type": "stream",
     "text": [
      "C:\\Users\\redda\\.conda\\envs\\py311\\Lib\\site-packages\\openpyxl\\worksheet\\_reader.py:329: UserWarning: Data Validation extension is not supported and will be removed\n",
      "  warn(msg)\n"
     ]
    },
    {
     "name": "stdout",
     "output_type": "stream",
     "text": [
      "F:\\a00nutstore\\008\\zw08\\莱新订单20241029\\发票模板-按销售订单和存货编码-件数\\发票模板-武汉优聚优品贸易有限公司-SO-2024-02-1436-件数.xlsx\n"
     ]
    },
    {
     "name": "stderr",
     "output_type": "stream",
     "text": [
      "C:\\Users\\redda\\.conda\\envs\\py311\\Lib\\site-packages\\openpyxl\\worksheet\\_reader.py:329: UserWarning: Data Validation extension is not supported and will be removed\n",
      "  warn(msg)\n"
     ]
    },
    {
     "name": "stdout",
     "output_type": "stream",
     "text": [
      "F:\\a00nutstore\\008\\zw08\\莱新订单20241029\\发票模板-按销售订单和存货编码-件数\\发票模板-武汉市齐达利商贸有限公司-SO-2024-02-1437-件数.xlsx\n"
     ]
    },
    {
     "name": "stderr",
     "output_type": "stream",
     "text": [
      "C:\\Users\\redda\\.conda\\envs\\py311\\Lib\\site-packages\\openpyxl\\worksheet\\_reader.py:329: UserWarning: Data Validation extension is not supported and will be removed\n",
      "  warn(msg)\n"
     ]
    },
    {
     "name": "stdout",
     "output_type": "stream",
     "text": [
      "F:\\a00nutstore\\008\\zw08\\莱新订单20241029\\发票模板-按销售订单和存货编码-件数\\发票模板-昆明八龙商贸有限公司-SO-2024-02-1438-件数.xlsx\n"
     ]
    },
    {
     "name": "stderr",
     "output_type": "stream",
     "text": [
      "C:\\Users\\redda\\.conda\\envs\\py311\\Lib\\site-packages\\openpyxl\\worksheet\\_reader.py:329: UserWarning: Data Validation extension is not supported and will be removed\n",
      "  warn(msg)\n"
     ]
    },
    {
     "name": "stdout",
     "output_type": "stream",
     "text": [
      "F:\\a00nutstore\\008\\zw08\\莱新订单20241029\\发票模板-按销售订单和存货编码-件数\\发票模板-义乌市博迅文体用品有限公司-SO-2024-02-1439-件数.xlsx\n"
     ]
    },
    {
     "name": "stderr",
     "output_type": "stream",
     "text": [
      "C:\\Users\\redda\\.conda\\envs\\py311\\Lib\\site-packages\\openpyxl\\worksheet\\_reader.py:329: UserWarning: Data Validation extension is not supported and will be removed\n",
      "  warn(msg)\n"
     ]
    },
    {
     "name": "stdout",
     "output_type": "stream",
     "text": [
      "F:\\a00nutstore\\008\\zw08\\莱新订单20241029\\发票模板-按销售订单和存货编码-件数\\发票模板-杭州科兴文教用品有限公司-SO-2024-02-1440-件数.xlsx\n"
     ]
    },
    {
     "name": "stderr",
     "output_type": "stream",
     "text": [
      "C:\\Users\\redda\\.conda\\envs\\py311\\Lib\\site-packages\\openpyxl\\worksheet\\_reader.py:329: UserWarning: Data Validation extension is not supported and will be removed\n",
      "  warn(msg)\n"
     ]
    },
    {
     "name": "stdout",
     "output_type": "stream",
     "text": [
      "F:\\a00nutstore\\008\\zw08\\莱新订单20241029\\发票模板-按销售订单和存货编码-件数\\发票模板-河南抬头喜办公用品有限公司S-SO-2024-02-1441-件数.xlsx\n"
     ]
    },
    {
     "name": "stderr",
     "output_type": "stream",
     "text": [
      "C:\\Users\\redda\\.conda\\envs\\py311\\Lib\\site-packages\\openpyxl\\worksheet\\_reader.py:329: UserWarning: Data Validation extension is not supported and will be removed\n",
      "  warn(msg)\n"
     ]
    },
    {
     "name": "stdout",
     "output_type": "stream",
     "text": [
      "F:\\a00nutstore\\008\\zw08\\莱新订单20241029\\发票模板-按销售订单和存货编码-件数\\发票模板-西安垄裕商贸有限公司-SO-2024-02-1442-件数.xlsx\n"
     ]
    },
    {
     "name": "stderr",
     "output_type": "stream",
     "text": [
      "C:\\Users\\redda\\.conda\\envs\\py311\\Lib\\site-packages\\openpyxl\\worksheet\\_reader.py:329: UserWarning: Data Validation extension is not supported and will be removed\n",
      "  warn(msg)\n"
     ]
    },
    {
     "name": "stdout",
     "output_type": "stream",
     "text": [
      "F:\\a00nutstore\\008\\zw08\\莱新订单20241029\\发票模板-按销售订单和存货编码-件数\\发票模板-河南梓亦桐商贸有限公司-SO-2024-02-1443-件数.xlsx\n"
     ]
    },
    {
     "name": "stderr",
     "output_type": "stream",
     "text": [
      "C:\\Users\\redda\\.conda\\envs\\py311\\Lib\\site-packages\\openpyxl\\worksheet\\_reader.py:329: UserWarning: Data Validation extension is not supported and will be removed\n",
      "  warn(msg)\n"
     ]
    },
    {
     "name": "stdout",
     "output_type": "stream",
     "text": [
      "F:\\a00nutstore\\008\\zw08\\莱新订单20241029\\发票模板-按销售订单和存货编码-件数\\发票模板-兴义市鸿图锐意办公商贸有限公司-SO-2024-02-1444-件数.xlsx\n"
     ]
    },
    {
     "name": "stderr",
     "output_type": "stream",
     "text": [
      "C:\\Users\\redda\\.conda\\envs\\py311\\Lib\\site-packages\\openpyxl\\worksheet\\_reader.py:329: UserWarning: Data Validation extension is not supported and will be removed\n",
      "  warn(msg)\n"
     ]
    },
    {
     "name": "stdout",
     "output_type": "stream",
     "text": [
      "F:\\a00nutstore\\008\\zw08\\莱新订单20241029\\发票模板-按销售订单和存货编码-件数\\发票模板-河南益尔商贸有限公司-SO-2024-02-1445-件数.xlsx\n"
     ]
    },
    {
     "name": "stderr",
     "output_type": "stream",
     "text": [
      "C:\\Users\\redda\\.conda\\envs\\py311\\Lib\\site-packages\\openpyxl\\worksheet\\_reader.py:329: UserWarning: Data Validation extension is not supported and will be removed\n",
      "  warn(msg)\n"
     ]
    },
    {
     "name": "stdout",
     "output_type": "stream",
     "text": [
      "F:\\a00nutstore\\008\\zw08\\莱新订单20241029\\发票模板-按销售订单和存货编码-件数\\发票模板-兴义市鸿图锐意办公商贸有限公司-SO-2024-02-1446-件数.xlsx\n"
     ]
    },
    {
     "name": "stderr",
     "output_type": "stream",
     "text": [
      "C:\\Users\\redda\\.conda\\envs\\py311\\Lib\\site-packages\\openpyxl\\worksheet\\_reader.py:329: UserWarning: Data Validation extension is not supported and will be removed\n",
      "  warn(msg)\n"
     ]
    },
    {
     "name": "stdout",
     "output_type": "stream",
     "text": [
      "F:\\a00nutstore\\008\\zw08\\莱新订单20241029\\发票模板-按销售订单和存货编码-件数\\发票模板-武汉开先文化用品有限责任公司-SO-2024-02-1447-件数.xlsx\n"
     ]
    },
    {
     "name": "stderr",
     "output_type": "stream",
     "text": [
      "C:\\Users\\redda\\.conda\\envs\\py311\\Lib\\site-packages\\openpyxl\\worksheet\\_reader.py:329: UserWarning: Data Validation extension is not supported and will be removed\n",
      "  warn(msg)\n"
     ]
    },
    {
     "name": "stdout",
     "output_type": "stream",
     "text": [
      "F:\\a00nutstore\\008\\zw08\\莱新订单20241029\\发票模板-按销售订单和存货编码-件数\\发票模板-武汉金宸翰办公用品有限公司1-SO-2024-02-1448-件数.xlsx\n"
     ]
    },
    {
     "name": "stderr",
     "output_type": "stream",
     "text": [
      "C:\\Users\\redda\\.conda\\envs\\py311\\Lib\\site-packages\\openpyxl\\worksheet\\_reader.py:329: UserWarning: Data Validation extension is not supported and will be removed\n",
      "  warn(msg)\n"
     ]
    },
    {
     "name": "stdout",
     "output_type": "stream",
     "text": [
      "F:\\a00nutstore\\008\\zw08\\莱新订单20241029\\发票模板-按销售订单和存货编码-件数\\发票模板-武汉金宸翰办公用品有限公司1-SO-2024-02-1449-件数.xlsx\n"
     ]
    },
    {
     "name": "stderr",
     "output_type": "stream",
     "text": [
      "C:\\Users\\redda\\.conda\\envs\\py311\\Lib\\site-packages\\openpyxl\\worksheet\\_reader.py:329: UserWarning: Data Validation extension is not supported and will be removed\n",
      "  warn(msg)\n"
     ]
    },
    {
     "name": "stdout",
     "output_type": "stream",
     "text": [
      "F:\\a00nutstore\\008\\zw08\\莱新订单20241029\\发票模板-按销售订单和存货编码-件数\\发票模板-武汉金宸翰办公用品有限公司1-SO-2024-02-1450-件数.xlsx\n"
     ]
    },
    {
     "name": "stderr",
     "output_type": "stream",
     "text": [
      "C:\\Users\\redda\\.conda\\envs\\py311\\Lib\\site-packages\\openpyxl\\worksheet\\_reader.py:329: UserWarning: Data Validation extension is not supported and will be removed\n",
      "  warn(msg)\n"
     ]
    },
    {
     "name": "stdout",
     "output_type": "stream",
     "text": [
      "F:\\a00nutstore\\008\\zw08\\莱新订单20241029\\发票模板-按销售订单和存货编码-件数\\发票模板-武汉金胜辉商贸有限公司-SO-2024-02-1451-件数.xlsx\n"
     ]
    },
    {
     "name": "stderr",
     "output_type": "stream",
     "text": [
      "C:\\Users\\redda\\.conda\\envs\\py311\\Lib\\site-packages\\openpyxl\\worksheet\\_reader.py:329: UserWarning: Data Validation extension is not supported and will be removed\n",
      "  warn(msg)\n"
     ]
    },
    {
     "name": "stdout",
     "output_type": "stream",
     "text": [
      "F:\\a00nutstore\\008\\zw08\\莱新订单20241029\\发票模板-按销售订单和存货编码-件数\\发票模板-湖北昇耀商贸有限公司-SO-2024-02-1452-件数.xlsx\n"
     ]
    },
    {
     "name": "stderr",
     "output_type": "stream",
     "text": [
      "C:\\Users\\redda\\.conda\\envs\\py311\\Lib\\site-packages\\openpyxl\\worksheet\\_reader.py:329: UserWarning: Data Validation extension is not supported and will be removed\n",
      "  warn(msg)\n"
     ]
    },
    {
     "name": "stdout",
     "output_type": "stream",
     "text": [
      "F:\\a00nutstore\\008\\zw08\\莱新订单20241029\\发票模板-按销售订单和存货编码-件数\\发票模板-武汉今日成纸业有限公司-SO-2024-02-1453-件数.xlsx\n"
     ]
    },
    {
     "name": "stderr",
     "output_type": "stream",
     "text": [
      "C:\\Users\\redda\\.conda\\envs\\py311\\Lib\\site-packages\\openpyxl\\worksheet\\_reader.py:329: UserWarning: Data Validation extension is not supported and will be removed\n",
      "  warn(msg)\n"
     ]
    },
    {
     "name": "stdout",
     "output_type": "stream",
     "text": [
      "F:\\a00nutstore\\008\\zw08\\莱新订单20241029\\发票模板-按销售订单和存货编码-件数\\发票模板-武汉米圣贸易有限公司-SO-2024-02-1454-件数.xlsx\n"
     ]
    },
    {
     "name": "stderr",
     "output_type": "stream",
     "text": [
      "C:\\Users\\redda\\.conda\\envs\\py311\\Lib\\site-packages\\openpyxl\\worksheet\\_reader.py:329: UserWarning: Data Validation extension is not supported and will be removed\n",
      "  warn(msg)\n"
     ]
    },
    {
     "name": "stdout",
     "output_type": "stream",
     "text": [
      "F:\\a00nutstore\\008\\zw08\\莱新订单20241029\\发票模板-按销售订单和存货编码-件数\\发票模板-武汉邦度办公文具有限公司-SO-2024-02-1455-件数.xlsx\n"
     ]
    },
    {
     "name": "stderr",
     "output_type": "stream",
     "text": [
      "C:\\Users\\redda\\.conda\\envs\\py311\\Lib\\site-packages\\openpyxl\\worksheet\\_reader.py:329: UserWarning: Data Validation extension is not supported and will be removed\n",
      "  warn(msg)\n"
     ]
    },
    {
     "name": "stdout",
     "output_type": "stream",
     "text": [
      "F:\\a00nutstore\\008\\zw08\\莱新订单20241029\\发票模板-按销售订单和存货编码-件数\\发票模板-江西华兆昌商贸有限公司-SO-2024-02-1456-件数.xlsx\n"
     ]
    },
    {
     "name": "stderr",
     "output_type": "stream",
     "text": [
      "C:\\Users\\redda\\.conda\\envs\\py311\\Lib\\site-packages\\openpyxl\\worksheet\\_reader.py:329: UserWarning: Data Validation extension is not supported and will be removed\n",
      "  warn(msg)\n"
     ]
    },
    {
     "name": "stdout",
     "output_type": "stream",
     "text": [
      "F:\\a00nutstore\\008\\zw08\\莱新订单20241029\\发票模板-按销售订单和存货编码-件数\\发票模板-陕西富明文体用品有限公司-SO-2024-02-1457-件数.xlsx\n"
     ]
    },
    {
     "name": "stderr",
     "output_type": "stream",
     "text": [
      "C:\\Users\\redda\\.conda\\envs\\py311\\Lib\\site-packages\\openpyxl\\worksheet\\_reader.py:329: UserWarning: Data Validation extension is not supported and will be removed\n",
      "  warn(msg)\n"
     ]
    },
    {
     "name": "stdout",
     "output_type": "stream",
     "text": [
      "F:\\a00nutstore\\008\\zw08\\莱新订单20241029\\发票模板-按销售订单和存货编码-件数\\发票模板-上海流金岁月商贸有限公司-SO-2024-02-1458-件数.xlsx\n"
     ]
    },
    {
     "name": "stderr",
     "output_type": "stream",
     "text": [
      "C:\\Users\\redda\\.conda\\envs\\py311\\Lib\\site-packages\\openpyxl\\worksheet\\_reader.py:329: UserWarning: Data Validation extension is not supported and will be removed\n",
      "  warn(msg)\n"
     ]
    },
    {
     "name": "stdout",
     "output_type": "stream",
     "text": [
      "F:\\a00nutstore\\008\\zw08\\莱新订单20241029\\发票模板-按销售订单和存货编码-件数\\发票模板-武汉金胜辉商贸有限公司-SO-2024-02-1459-件数.xlsx\n"
     ]
    },
    {
     "name": "stderr",
     "output_type": "stream",
     "text": [
      "C:\\Users\\redda\\.conda\\envs\\py311\\Lib\\site-packages\\openpyxl\\worksheet\\_reader.py:329: UserWarning: Data Validation extension is not supported and will be removed\n",
      "  warn(msg)\n"
     ]
    },
    {
     "name": "stdout",
     "output_type": "stream",
     "text": [
      "F:\\a00nutstore\\008\\zw08\\莱新订单20241029\\发票模板-按销售订单和存货编码-件数\\发票模板-武汉金宸翰办公用品有限公司1-SO-2024-02-1460-件数.xlsx\n"
     ]
    },
    {
     "name": "stderr",
     "output_type": "stream",
     "text": [
      "C:\\Users\\redda\\.conda\\envs\\py311\\Lib\\site-packages\\openpyxl\\worksheet\\_reader.py:329: UserWarning: Data Validation extension is not supported and will be removed\n",
      "  warn(msg)\n"
     ]
    },
    {
     "name": "stdout",
     "output_type": "stream",
     "text": [
      "F:\\a00nutstore\\008\\zw08\\莱新订单20241029\\发票模板-按销售订单和存货编码-件数\\发票模板-武汉金宸翰办公用品有限公司1-SO-2024-02-1461-件数.xlsx\n"
     ]
    },
    {
     "name": "stderr",
     "output_type": "stream",
     "text": [
      "C:\\Users\\redda\\.conda\\envs\\py311\\Lib\\site-packages\\openpyxl\\worksheet\\_reader.py:329: UserWarning: Data Validation extension is not supported and will be removed\n",
      "  warn(msg)\n"
     ]
    },
    {
     "name": "stdout",
     "output_type": "stream",
     "text": [
      "F:\\a00nutstore\\008\\zw08\\莱新订单20241029\\发票模板-按销售订单和存货编码-件数\\发票模板-武汉金宸翰办公用品有限公司1-SO-2024-02-1462-件数.xlsx\n"
     ]
    },
    {
     "name": "stderr",
     "output_type": "stream",
     "text": [
      "C:\\Users\\redda\\.conda\\envs\\py311\\Lib\\site-packages\\openpyxl\\worksheet\\_reader.py:329: UserWarning: Data Validation extension is not supported and will be removed\n",
      "  warn(msg)\n"
     ]
    },
    {
     "name": "stdout",
     "output_type": "stream",
     "text": [
      "F:\\a00nutstore\\008\\zw08\\莱新订单20241029\\发票模板-按销售订单和存货编码-件数\\发票模板-武汉静静舒文体用品有限公司-SO-2024-02-1463-件数.xlsx\n"
     ]
    },
    {
     "name": "stderr",
     "output_type": "stream",
     "text": [
      "C:\\Users\\redda\\.conda\\envs\\py311\\Lib\\site-packages\\openpyxl\\worksheet\\_reader.py:329: UserWarning: Data Validation extension is not supported and will be removed\n",
      "  warn(msg)\n"
     ]
    },
    {
     "name": "stdout",
     "output_type": "stream",
     "text": [
      "F:\\a00nutstore\\008\\zw08\\莱新订单20241029\\发票模板-按销售订单和存货编码-件数\\发票模板-湖北昇耀商贸有限公司-SO-2024-02-1464-件数.xlsx\n"
     ]
    },
    {
     "name": "stderr",
     "output_type": "stream",
     "text": [
      "C:\\Users\\redda\\.conda\\envs\\py311\\Lib\\site-packages\\openpyxl\\worksheet\\_reader.py:329: UserWarning: Data Validation extension is not supported and will be removed\n",
      "  warn(msg)\n"
     ]
    },
    {
     "name": "stdout",
     "output_type": "stream",
     "text": [
      "F:\\a00nutstore\\008\\zw08\\莱新订单20241029\\发票模板-按销售订单和存货编码-件数\\发票模板-陕西富明文体用品有限公司-SO-2024-02-1465-件数.xlsx\n"
     ]
    },
    {
     "name": "stderr",
     "output_type": "stream",
     "text": [
      "C:\\Users\\redda\\.conda\\envs\\py311\\Lib\\site-packages\\openpyxl\\worksheet\\_reader.py:329: UserWarning: Data Validation extension is not supported and will be removed\n",
      "  warn(msg)\n"
     ]
    },
    {
     "name": "stdout",
     "output_type": "stream",
     "text": [
      "F:\\a00nutstore\\008\\zw08\\莱新订单20241029\\发票模板-按销售订单和存货编码-件数\\发票模板-武汉今日成纸业有限公司-SO-2024-02-1466-件数.xlsx\n"
     ]
    },
    {
     "name": "stderr",
     "output_type": "stream",
     "text": [
      "C:\\Users\\redda\\.conda\\envs\\py311\\Lib\\site-packages\\openpyxl\\worksheet\\_reader.py:329: UserWarning: Data Validation extension is not supported and will be removed\n",
      "  warn(msg)\n"
     ]
    },
    {
     "name": "stdout",
     "output_type": "stream",
     "text": [
      "F:\\a00nutstore\\008\\zw08\\莱新订单20241029\\发票模板-按销售订单和存货编码-件数\\发票模板-西安垄裕商贸有限公司-SO-2024-02-1467-件数.xlsx\n"
     ]
    },
    {
     "name": "stderr",
     "output_type": "stream",
     "text": [
      "C:\\Users\\redda\\.conda\\envs\\py311\\Lib\\site-packages\\openpyxl\\worksheet\\_reader.py:329: UserWarning: Data Validation extension is not supported and will be removed\n",
      "  warn(msg)\n"
     ]
    },
    {
     "name": "stdout",
     "output_type": "stream",
     "text": [
      "F:\\a00nutstore\\008\\zw08\\莱新订单20241029\\发票模板-按销售订单和存货编码-件数\\发票模板-武汉金宸翰办公用品有限公司1-SO-2024-02-1469-件数.xlsx\n"
     ]
    },
    {
     "name": "stderr",
     "output_type": "stream",
     "text": [
      "C:\\Users\\redda\\.conda\\envs\\py311\\Lib\\site-packages\\openpyxl\\worksheet\\_reader.py:329: UserWarning: Data Validation extension is not supported and will be removed\n",
      "  warn(msg)\n"
     ]
    },
    {
     "name": "stdout",
     "output_type": "stream",
     "text": [
      "F:\\a00nutstore\\008\\zw08\\莱新订单20241029\\发票模板-按销售订单和存货编码-件数\\发票模板-西藏文领商贸有限公司-SO-2024-02-1470-件数.xlsx\n"
     ]
    },
    {
     "name": "stderr",
     "output_type": "stream",
     "text": [
      "C:\\Users\\redda\\.conda\\envs\\py311\\Lib\\site-packages\\openpyxl\\worksheet\\_reader.py:329: UserWarning: Data Validation extension is not supported and will be removed\n",
      "  warn(msg)\n"
     ]
    },
    {
     "name": "stdout",
     "output_type": "stream",
     "text": [
      "F:\\a00nutstore\\008\\zw08\\莱新订单20241029\\发票模板-按销售订单和存货编码-件数\\发票模板-武汉金宸翰办公用品有限公司1-SO-2024-02-1471-件数.xlsx\n"
     ]
    },
    {
     "name": "stderr",
     "output_type": "stream",
     "text": [
      "C:\\Users\\redda\\.conda\\envs\\py311\\Lib\\site-packages\\openpyxl\\worksheet\\_reader.py:329: UserWarning: Data Validation extension is not supported and will be removed\n",
      "  warn(msg)\n"
     ]
    },
    {
     "name": "stdout",
     "output_type": "stream",
     "text": [
      "F:\\a00nutstore\\008\\zw08\\莱新订单20241029\\发票模板-按销售订单和存货编码-件数\\发票模板-武汉金宸翰办公用品有限公司1-SO-2024-02-1472-件数.xlsx\n"
     ]
    },
    {
     "name": "stderr",
     "output_type": "stream",
     "text": [
      "C:\\Users\\redda\\.conda\\envs\\py311\\Lib\\site-packages\\openpyxl\\worksheet\\_reader.py:329: UserWarning: Data Validation extension is not supported and will be removed\n",
      "  warn(msg)\n"
     ]
    },
    {
     "name": "stdout",
     "output_type": "stream",
     "text": [
      "F:\\a00nutstore\\008\\zw08\\莱新订单20241029\\发票模板-按销售订单和存货编码-件数\\发票模板-武汉金宸翰办公用品有限公司1-SO-2024-02-1473-件数.xlsx\n"
     ]
    },
    {
     "name": "stderr",
     "output_type": "stream",
     "text": [
      "C:\\Users\\redda\\.conda\\envs\\py311\\Lib\\site-packages\\openpyxl\\worksheet\\_reader.py:329: UserWarning: Data Validation extension is not supported and will be removed\n",
      "  warn(msg)\n"
     ]
    },
    {
     "name": "stdout",
     "output_type": "stream",
     "text": [
      "F:\\a00nutstore\\008\\zw08\\莱新订单20241029\\发票模板-按销售订单和存货编码-件数\\发票模板-武汉金宸翰办公用品有限公司1-SO-2024-02-1474-件数.xlsx\n"
     ]
    },
    {
     "name": "stderr",
     "output_type": "stream",
     "text": [
      "C:\\Users\\redda\\.conda\\envs\\py311\\Lib\\site-packages\\openpyxl\\worksheet\\_reader.py:329: UserWarning: Data Validation extension is not supported and will be removed\n",
      "  warn(msg)\n"
     ]
    },
    {
     "name": "stdout",
     "output_type": "stream",
     "text": [
      "F:\\a00nutstore\\008\\zw08\\莱新订单20241029\\发票模板-按销售订单和存货编码-件数\\发票模板-武汉开先文化用品有限责任公司-SO-2024-02-1475-件数.xlsx\n"
     ]
    },
    {
     "name": "stderr",
     "output_type": "stream",
     "text": [
      "C:\\Users\\redda\\.conda\\envs\\py311\\Lib\\site-packages\\openpyxl\\worksheet\\_reader.py:329: UserWarning: Data Validation extension is not supported and will be removed\n",
      "  warn(msg)\n"
     ]
    },
    {
     "name": "stdout",
     "output_type": "stream",
     "text": [
      "F:\\a00nutstore\\008\\zw08\\莱新订单20241029\\发票模板-按销售订单和存货编码-件数\\发票模板-沧州市政腾商贸有限公司-SO-2024-02-1476-件数.xlsx\n"
     ]
    },
    {
     "name": "stderr",
     "output_type": "stream",
     "text": [
      "C:\\Users\\redda\\.conda\\envs\\py311\\Lib\\site-packages\\openpyxl\\worksheet\\_reader.py:329: UserWarning: Data Validation extension is not supported and will be removed\n",
      "  warn(msg)\n"
     ]
    },
    {
     "name": "stdout",
     "output_type": "stream",
     "text": [
      "F:\\a00nutstore\\008\\zw08\\莱新订单20241029\\发票模板-按销售订单和存货编码-件数\\发票模板-保定市恒超文化用品有限公司-SO-2024-02-1477-件数.xlsx\n"
     ]
    },
    {
     "name": "stderr",
     "output_type": "stream",
     "text": [
      "C:\\Users\\redda\\.conda\\envs\\py311\\Lib\\site-packages\\openpyxl\\worksheet\\_reader.py:329: UserWarning: Data Validation extension is not supported and will be removed\n",
      "  warn(msg)\n"
     ]
    },
    {
     "name": "stdout",
     "output_type": "stream",
     "text": [
      "F:\\a00nutstore\\008\\zw08\\莱新订单20241029\\发票模板-按销售订单和存货编码-件数\\发票模板-武汉乐得电子商务有限公司-SO-2024-02-1478-件数.xlsx\n"
     ]
    },
    {
     "name": "stderr",
     "output_type": "stream",
     "text": [
      "C:\\Users\\redda\\.conda\\envs\\py311\\Lib\\site-packages\\openpyxl\\worksheet\\_reader.py:329: UserWarning: Data Validation extension is not supported and will be removed\n",
      "  warn(msg)\n"
     ]
    },
    {
     "name": "stdout",
     "output_type": "stream",
     "text": [
      "F:\\a00nutstore\\008\\zw08\\莱新订单20241029\\发票模板-按销售订单和存货编码-件数\\发票模板-武汉金胜辉商贸有限公司-SO-2024-02-1479-件数.xlsx\n"
     ]
    },
    {
     "name": "stderr",
     "output_type": "stream",
     "text": [
      "C:\\Users\\redda\\.conda\\envs\\py311\\Lib\\site-packages\\openpyxl\\worksheet\\_reader.py:329: UserWarning: Data Validation extension is not supported and will be removed\n",
      "  warn(msg)\n"
     ]
    },
    {
     "name": "stdout",
     "output_type": "stream",
     "text": [
      "F:\\a00nutstore\\008\\zw08\\莱新订单20241029\\发票模板-按销售订单和存货编码-件数\\发票模板-武汉金胜辉商贸有限公司-SO-2024-02-1480-件数.xlsx\n"
     ]
    },
    {
     "name": "stderr",
     "output_type": "stream",
     "text": [
      "C:\\Users\\redda\\.conda\\envs\\py311\\Lib\\site-packages\\openpyxl\\worksheet\\_reader.py:329: UserWarning: Data Validation extension is not supported and will be removed\n",
      "  warn(msg)\n"
     ]
    },
    {
     "name": "stdout",
     "output_type": "stream",
     "text": [
      "F:\\a00nutstore\\008\\zw08\\莱新订单20241029\\发票模板-按销售订单和存货编码-件数\\发票模板-武汉金胜辉商贸有限公司-SO-2024-02-1481-件数.xlsx\n"
     ]
    },
    {
     "name": "stderr",
     "output_type": "stream",
     "text": [
      "C:\\Users\\redda\\.conda\\envs\\py311\\Lib\\site-packages\\openpyxl\\worksheet\\_reader.py:329: UserWarning: Data Validation extension is not supported and will be removed\n",
      "  warn(msg)\n"
     ]
    },
    {
     "name": "stdout",
     "output_type": "stream",
     "text": [
      "F:\\a00nutstore\\008\\zw08\\莱新订单20241029\\发票模板-按销售订单和存货编码-件数\\发票模板-武汉米圣贸易有限公司-SO-2024-02-1482-件数.xlsx\n"
     ]
    },
    {
     "name": "stderr",
     "output_type": "stream",
     "text": [
      "C:\\Users\\redda\\.conda\\envs\\py311\\Lib\\site-packages\\openpyxl\\worksheet\\_reader.py:329: UserWarning: Data Validation extension is not supported and will be removed\n",
      "  warn(msg)\n"
     ]
    },
    {
     "name": "stdout",
     "output_type": "stream",
     "text": [
      "F:\\a00nutstore\\008\\zw08\\莱新订单20241029\\发票模板-按销售订单和存货编码-件数\\发票模板-武汉市热脉文体用品有限公司-SO-2024-02-1483-件数.xlsx\n"
     ]
    },
    {
     "name": "stderr",
     "output_type": "stream",
     "text": [
      "C:\\Users\\redda\\.conda\\envs\\py311\\Lib\\site-packages\\openpyxl\\worksheet\\_reader.py:329: UserWarning: Data Validation extension is not supported and will be removed\n",
      "  warn(msg)\n"
     ]
    },
    {
     "name": "stdout",
     "output_type": "stream",
     "text": [
      "F:\\a00nutstore\\008\\zw08\\莱新订单20241029\\发票模板-按销售订单和存货编码-件数\\发票模板-武汉开先文化用品有限责任公司-SO-2024-02-1484-件数.xlsx\n"
     ]
    },
    {
     "name": "stderr",
     "output_type": "stream",
     "text": [
      "C:\\Users\\redda\\.conda\\envs\\py311\\Lib\\site-packages\\openpyxl\\worksheet\\_reader.py:329: UserWarning: Data Validation extension is not supported and will be removed\n",
      "  warn(msg)\n"
     ]
    },
    {
     "name": "stdout",
     "output_type": "stream",
     "text": [
      "F:\\a00nutstore\\008\\zw08\\莱新订单20241029\\发票模板-按销售订单和存货编码-件数\\发票模板-武汉嘉迪亚商贸有限公司-SO-2024-02-1485-件数.xlsx\n"
     ]
    },
    {
     "name": "stderr",
     "output_type": "stream",
     "text": [
      "C:\\Users\\redda\\.conda\\envs\\py311\\Lib\\site-packages\\openpyxl\\worksheet\\_reader.py:329: UserWarning: Data Validation extension is not supported and will be removed\n",
      "  warn(msg)\n"
     ]
    },
    {
     "name": "stdout",
     "output_type": "stream",
     "text": [
      "F:\\a00nutstore\\008\\zw08\\莱新订单20241029\\发票模板-按销售订单和存货编码-件数\\发票模板-湖北昇耀商贸有限公司-SO-2024-02-1486-件数.xlsx\n"
     ]
    },
    {
     "name": "stderr",
     "output_type": "stream",
     "text": [
      "C:\\Users\\redda\\.conda\\envs\\py311\\Lib\\site-packages\\openpyxl\\worksheet\\_reader.py:329: UserWarning: Data Validation extension is not supported and will be removed\n",
      "  warn(msg)\n"
     ]
    },
    {
     "name": "stdout",
     "output_type": "stream",
     "text": [
      "F:\\a00nutstore\\008\\zw08\\莱新订单20241029\\发票模板-按销售订单和存货编码-件数\\发票模板-义乌市携诚文体用品有限公司-SO-2024-02-1487-件数.xlsx\n"
     ]
    },
    {
     "name": "stderr",
     "output_type": "stream",
     "text": [
      "C:\\Users\\redda\\.conda\\envs\\py311\\Lib\\site-packages\\openpyxl\\worksheet\\_reader.py:329: UserWarning: Data Validation extension is not supported and will be removed\n",
      "  warn(msg)\n"
     ]
    },
    {
     "name": "stdout",
     "output_type": "stream",
     "text": [
      "F:\\a00nutstore\\008\\zw08\\莱新订单20241029\\发票模板-按销售订单和存货编码-件数\\发票模板-昆明文本商贸有限公司-SO-2024-02-1488-件数.xlsx\n"
     ]
    },
    {
     "name": "stderr",
     "output_type": "stream",
     "text": [
      "C:\\Users\\redda\\.conda\\envs\\py311\\Lib\\site-packages\\openpyxl\\worksheet\\_reader.py:329: UserWarning: Data Validation extension is not supported and will be removed\n",
      "  warn(msg)\n"
     ]
    },
    {
     "name": "stdout",
     "output_type": "stream",
     "text": [
      "F:\\a00nutstore\\008\\zw08\\莱新订单20241029\\发票模板-按销售订单和存货编码-件数\\发票模板-长沙市东麦文化有限公司-SO-2024-02-1489-件数.xlsx\n"
     ]
    },
    {
     "name": "stderr",
     "output_type": "stream",
     "text": [
      "C:\\Users\\redda\\.conda\\envs\\py311\\Lib\\site-packages\\openpyxl\\worksheet\\_reader.py:329: UserWarning: Data Validation extension is not supported and will be removed\n",
      "  warn(msg)\n"
     ]
    },
    {
     "name": "stdout",
     "output_type": "stream",
     "text": [
      "F:\\a00nutstore\\008\\zw08\\莱新订单20241029\\发票模板-按销售订单和存货编码-件数\\发票模板-南宁市小木屋文化用品有限公司-SO-2024-02-1490-件数.xlsx\n"
     ]
    },
    {
     "name": "stderr",
     "output_type": "stream",
     "text": [
      "C:\\Users\\redda\\.conda\\envs\\py311\\Lib\\site-packages\\openpyxl\\worksheet\\_reader.py:329: UserWarning: Data Validation extension is not supported and will be removed\n",
      "  warn(msg)\n"
     ]
    },
    {
     "name": "stdout",
     "output_type": "stream",
     "text": [
      "F:\\a00nutstore\\008\\zw08\\莱新订单20241029\\发票模板-按销售订单和存货编码-件数\\发票模板-河南益尔商贸有限公司-SO-2024-02-1491-件数.xlsx\n"
     ]
    },
    {
     "name": "stderr",
     "output_type": "stream",
     "text": [
      "C:\\Users\\redda\\.conda\\envs\\py311\\Lib\\site-packages\\openpyxl\\worksheet\\_reader.py:329: UserWarning: Data Validation extension is not supported and will be removed\n",
      "  warn(msg)\n"
     ]
    },
    {
     "name": "stdout",
     "output_type": "stream",
     "text": [
      "F:\\a00nutstore\\008\\zw08\\莱新订单20241029\\发票模板-按销售订单和存货编码-件数\\发票模板-温州瑞鑫文具-SO-2024-02-1492-件数.xlsx\n"
     ]
    },
    {
     "name": "stderr",
     "output_type": "stream",
     "text": [
      "C:\\Users\\redda\\.conda\\envs\\py311\\Lib\\site-packages\\openpyxl\\worksheet\\_reader.py:329: UserWarning: Data Validation extension is not supported and will be removed\n",
      "  warn(msg)\n"
     ]
    },
    {
     "name": "stdout",
     "output_type": "stream",
     "text": [
      "F:\\a00nutstore\\008\\zw08\\莱新订单20241029\\发票模板-按销售订单和存货编码-件数\\发票模板-临沂巧纳金纸品有限公司-SO-2024-02-1493-件数.xlsx\n"
     ]
    },
    {
     "name": "stderr",
     "output_type": "stream",
     "text": [
      "C:\\Users\\redda\\.conda\\envs\\py311\\Lib\\site-packages\\openpyxl\\worksheet\\_reader.py:329: UserWarning: Data Validation extension is not supported and will be removed\n",
      "  warn(msg)\n"
     ]
    },
    {
     "name": "stdout",
     "output_type": "stream",
     "text": [
      "F:\\a00nutstore\\008\\zw08\\莱新订单20241029\\发票模板-按销售订单和存货编码-件数\\发票模板-西宁宏薇商贸有限公司-SO-2024-02-1494-件数.xlsx\n"
     ]
    },
    {
     "name": "stderr",
     "output_type": "stream",
     "text": [
      "C:\\Users\\redda\\.conda\\envs\\py311\\Lib\\site-packages\\openpyxl\\worksheet\\_reader.py:329: UserWarning: Data Validation extension is not supported and will be removed\n",
      "  warn(msg)\n"
     ]
    },
    {
     "name": "stdout",
     "output_type": "stream",
     "text": [
      "F:\\a00nutstore\\008\\zw08\\莱新订单20241029\\发票模板-按销售订单和存货编码-件数\\发票模板-云南乐信商贸有限公司-SO-2024-02-1495-件数.xlsx\n"
     ]
    },
    {
     "name": "stderr",
     "output_type": "stream",
     "text": [
      "C:\\Users\\redda\\.conda\\envs\\py311\\Lib\\site-packages\\openpyxl\\worksheet\\_reader.py:329: UserWarning: Data Validation extension is not supported and will be removed\n",
      "  warn(msg)\n"
     ]
    },
    {
     "name": "stdout",
     "output_type": "stream",
     "text": [
      "F:\\a00nutstore\\008\\zw08\\莱新订单20241029\\发票模板-按销售订单和存货编码-件数\\发票模板-龙岩连卫中-SO-2024-02-1496-件数.xlsx\n"
     ]
    },
    {
     "name": "stderr",
     "output_type": "stream",
     "text": [
      "C:\\Users\\redda\\.conda\\envs\\py311\\Lib\\site-packages\\openpyxl\\worksheet\\_reader.py:329: UserWarning: Data Validation extension is not supported and will be removed\n",
      "  warn(msg)\n"
     ]
    },
    {
     "name": "stdout",
     "output_type": "stream",
     "text": [
      "F:\\a00nutstore\\008\\zw08\\莱新订单20241029\\发票模板-按销售订单和存货编码-件数\\发票模板-厦门同心成商贸有限公司-SO-2024-02-1497-件数.xlsx\n"
     ]
    },
    {
     "name": "stderr",
     "output_type": "stream",
     "text": [
      "C:\\Users\\redda\\.conda\\envs\\py311\\Lib\\site-packages\\openpyxl\\worksheet\\_reader.py:329: UserWarning: Data Validation extension is not supported and will be removed\n",
      "  warn(msg)\n"
     ]
    },
    {
     "name": "stdout",
     "output_type": "stream",
     "text": [
      "F:\\a00nutstore\\008\\zw08\\莱新订单20241029\\发票模板-按销售订单和存货编码-件数\\发票模板-苏州工业园区展华商贸有限公司-SO-2024-02-1498-件数.xlsx\n"
     ]
    },
    {
     "name": "stderr",
     "output_type": "stream",
     "text": [
      "C:\\Users\\redda\\.conda\\envs\\py311\\Lib\\site-packages\\openpyxl\\worksheet\\_reader.py:329: UserWarning: Data Validation extension is not supported and will be removed\n",
      "  warn(msg)\n"
     ]
    },
    {
     "name": "stdout",
     "output_type": "stream",
     "text": [
      "F:\\a00nutstore\\008\\zw08\\莱新订单20241029\\发票模板-按销售订单和存货编码-件数\\发票模板-成都杨玲-SO-2024-02-1499-件数.xlsx\n"
     ]
    },
    {
     "name": "stderr",
     "output_type": "stream",
     "text": [
      "C:\\Users\\redda\\.conda\\envs\\py311\\Lib\\site-packages\\openpyxl\\worksheet\\_reader.py:329: UserWarning: Data Validation extension is not supported and will be removed\n",
      "  warn(msg)\n"
     ]
    },
    {
     "name": "stdout",
     "output_type": "stream",
     "text": [
      "F:\\a00nutstore\\008\\zw08\\莱新订单20241029\\发票模板-按销售订单和存货编码-件数\\发票模板-成都乐尚怡智商贸有限公司-SO-2024-02-1500-件数.xlsx\n"
     ]
    },
    {
     "name": "stderr",
     "output_type": "stream",
     "text": [
      "C:\\Users\\redda\\.conda\\envs\\py311\\Lib\\site-packages\\openpyxl\\worksheet\\_reader.py:329: UserWarning: Data Validation extension is not supported and will be removed\n",
      "  warn(msg)\n"
     ]
    },
    {
     "name": "stdout",
     "output_type": "stream",
     "text": [
      "F:\\a00nutstore\\008\\zw08\\莱新订单20241029\\发票模板-按销售订单和存货编码-件数\\发票模板-伊宁市文轩商贸有限公司-SO-2024-02-1501-件数.xlsx\n"
     ]
    },
    {
     "name": "stderr",
     "output_type": "stream",
     "text": [
      "C:\\Users\\redda\\.conda\\envs\\py311\\Lib\\site-packages\\openpyxl\\worksheet\\_reader.py:329: UserWarning: Data Validation extension is not supported and will be removed\n",
      "  warn(msg)\n"
     ]
    },
    {
     "name": "stdout",
     "output_type": "stream",
     "text": [
      "F:\\a00nutstore\\008\\zw08\\莱新订单20241029\\发票模板-按销售订单和存货编码-件数\\发票模板-石河子市满天红财会文体用品店-SO-2024-02-1502-件数.xlsx\n"
     ]
    },
    {
     "name": "stderr",
     "output_type": "stream",
     "text": [
      "C:\\Users\\redda\\.conda\\envs\\py311\\Lib\\site-packages\\openpyxl\\worksheet\\_reader.py:329: UserWarning: Data Validation extension is not supported and will be removed\n",
      "  warn(msg)\n"
     ]
    },
    {
     "name": "stdout",
     "output_type": "stream",
     "text": [
      "F:\\a00nutstore\\008\\zw08\\莱新订单20241029\\发票模板-按销售订单和存货编码-件数\\发票模板-泸州佳之彩商贸有限公司-SO-2024-02-1503-件数.xlsx\n"
     ]
    },
    {
     "name": "stderr",
     "output_type": "stream",
     "text": [
      "C:\\Users\\redda\\.conda\\envs\\py311\\Lib\\site-packages\\openpyxl\\worksheet\\_reader.py:329: UserWarning: Data Validation extension is not supported and will be removed\n",
      "  warn(msg)\n"
     ]
    },
    {
     "name": "stdout",
     "output_type": "stream",
     "text": [
      "F:\\a00nutstore\\008\\zw08\\莱新订单20241029\\发票模板-按销售订单和存货编码-件数\\发票模板-河南抬头喜办公用品有限公司S-SO-2024-02-1504-件数.xlsx\n"
     ]
    },
    {
     "name": "stderr",
     "output_type": "stream",
     "text": [
      "C:\\Users\\redda\\.conda\\envs\\py311\\Lib\\site-packages\\openpyxl\\worksheet\\_reader.py:329: UserWarning: Data Validation extension is not supported and will be removed\n",
      "  warn(msg)\n"
     ]
    },
    {
     "name": "stdout",
     "output_type": "stream",
     "text": [
      "F:\\a00nutstore\\008\\zw08\\莱新订单20241029\\发票模板-按销售订单和存货编码-件数\\发票模板-赣州加斯加贸易有限公司-SO-2024-02-1505-件数.xlsx\n"
     ]
    },
    {
     "name": "stderr",
     "output_type": "stream",
     "text": [
      "C:\\Users\\redda\\.conda\\envs\\py311\\Lib\\site-packages\\openpyxl\\worksheet\\_reader.py:329: UserWarning: Data Validation extension is not supported and will be removed\n",
      "  warn(msg)\n"
     ]
    },
    {
     "name": "stdout",
     "output_type": "stream",
     "text": [
      "F:\\a00nutstore\\008\\zw08\\莱新订单20241029\\发票模板-按销售订单和存货编码-件数\\发票模板-武汉金胜辉商贸有限公司-SO-2024-02-1506-件数.xlsx\n"
     ]
    },
    {
     "name": "stderr",
     "output_type": "stream",
     "text": [
      "C:\\Users\\redda\\.conda\\envs\\py311\\Lib\\site-packages\\openpyxl\\worksheet\\_reader.py:329: UserWarning: Data Validation extension is not supported and will be removed\n",
      "  warn(msg)\n"
     ]
    },
    {
     "name": "stdout",
     "output_type": "stream",
     "text": [
      "F:\\a00nutstore\\008\\zw08\\莱新订单20241029\\发票模板-按销售订单和存货编码-件数\\发票模板-武汉金胜辉商贸有限公司-SO-2024-02-1507-件数.xlsx\n"
     ]
    },
    {
     "name": "stderr",
     "output_type": "stream",
     "text": [
      "C:\\Users\\redda\\.conda\\envs\\py311\\Lib\\site-packages\\openpyxl\\worksheet\\_reader.py:329: UserWarning: Data Validation extension is not supported and will be removed\n",
      "  warn(msg)\n"
     ]
    },
    {
     "name": "stdout",
     "output_type": "stream",
     "text": [
      "F:\\a00nutstore\\008\\zw08\\莱新订单20241029\\发票模板-按销售订单和存货编码-件数\\发票模板-武汉开先文化用品有限责任公司-SO-2024-02-1508-件数.xlsx\n"
     ]
    },
    {
     "name": "stderr",
     "output_type": "stream",
     "text": [
      "C:\\Users\\redda\\.conda\\envs\\py311\\Lib\\site-packages\\openpyxl\\worksheet\\_reader.py:329: UserWarning: Data Validation extension is not supported and will be removed\n",
      "  warn(msg)\n"
     ]
    },
    {
     "name": "stdout",
     "output_type": "stream",
     "text": [
      "F:\\a00nutstore\\008\\zw08\\莱新订单20241029\\发票模板-按销售订单和存货编码-件数\\发票模板-成都市金牛区迪欣印务批发部-SO-2024-02-1509-件数.xlsx\n"
     ]
    },
    {
     "name": "stderr",
     "output_type": "stream",
     "text": [
      "C:\\Users\\redda\\.conda\\envs\\py311\\Lib\\site-packages\\openpyxl\\worksheet\\_reader.py:329: UserWarning: Data Validation extension is not supported and will be removed\n",
      "  warn(msg)\n"
     ]
    },
    {
     "name": "stdout",
     "output_type": "stream",
     "text": [
      "F:\\a00nutstore\\008\\zw08\\莱新订单20241029\\发票模板-按销售订单和存货编码-件数\\发票模板-武汉静静舒文体用品有限公司-SO-2024-02-1510-件数.xlsx\n"
     ]
    },
    {
     "name": "stderr",
     "output_type": "stream",
     "text": [
      "C:\\Users\\redda\\.conda\\envs\\py311\\Lib\\site-packages\\openpyxl\\worksheet\\_reader.py:329: UserWarning: Data Validation extension is not supported and will be removed\n",
      "  warn(msg)\n"
     ]
    },
    {
     "name": "stdout",
     "output_type": "stream",
     "text": [
      "F:\\a00nutstore\\008\\zw08\\莱新订单20241029\\发票模板-按销售订单和存货编码-件数\\发票模板-武汉金宸翰办公用品有限公司1-SO-2024-02-1511-件数.xlsx\n"
     ]
    },
    {
     "name": "stderr",
     "output_type": "stream",
     "text": [
      "C:\\Users\\redda\\.conda\\envs\\py311\\Lib\\site-packages\\openpyxl\\worksheet\\_reader.py:329: UserWarning: Data Validation extension is not supported and will be removed\n",
      "  warn(msg)\n"
     ]
    },
    {
     "name": "stdout",
     "output_type": "stream",
     "text": [
      "F:\\a00nutstore\\008\\zw08\\莱新订单20241029\\发票模板-按销售订单和存货编码-件数\\发票模板-临沂李加朋-SO-2024-02-1512-件数.xlsx\n"
     ]
    },
    {
     "name": "stderr",
     "output_type": "stream",
     "text": [
      "C:\\Users\\redda\\.conda\\envs\\py311\\Lib\\site-packages\\openpyxl\\worksheet\\_reader.py:329: UserWarning: Data Validation extension is not supported and will be removed\n",
      "  warn(msg)\n"
     ]
    },
    {
     "name": "stdout",
     "output_type": "stream",
     "text": [
      "F:\\a00nutstore\\008\\zw08\\莱新订单20241029\\发票模板-按销售订单和存货编码-件数\\发票模板-邵东金志文-SO-2024-02-1513-件数.xlsx\n"
     ]
    },
    {
     "name": "stderr",
     "output_type": "stream",
     "text": [
      "C:\\Users\\redda\\.conda\\envs\\py311\\Lib\\site-packages\\openpyxl\\worksheet\\_reader.py:329: UserWarning: Data Validation extension is not supported and will be removed\n",
      "  warn(msg)\n"
     ]
    },
    {
     "name": "stdout",
     "output_type": "stream",
     "text": [
      "F:\\a00nutstore\\008\\zw08\\莱新订单20241029\\发票模板-按销售订单和存货编码-件数\\发票模板-青海一诺商贸有限公司-SO-2024-02-1514-件数.xlsx\n"
     ]
    },
    {
     "name": "stderr",
     "output_type": "stream",
     "text": [
      "C:\\Users\\redda\\.conda\\envs\\py311\\Lib\\site-packages\\openpyxl\\worksheet\\_reader.py:329: UserWarning: Data Validation extension is not supported and will be removed\n",
      "  warn(msg)\n"
     ]
    },
    {
     "name": "stdout",
     "output_type": "stream",
     "text": [
      "F:\\a00nutstore\\008\\zw08\\莱新订单20241029\\发票模板-按销售订单和存货编码-件数\\发票模板-西安继坤工贸有限公司-SO-2024-02-1515-件数.xlsx\n"
     ]
    },
    {
     "name": "stderr",
     "output_type": "stream",
     "text": [
      "C:\\Users\\redda\\.conda\\envs\\py311\\Lib\\site-packages\\openpyxl\\worksheet\\_reader.py:329: UserWarning: Data Validation extension is not supported and will be removed\n",
      "  warn(msg)\n"
     ]
    },
    {
     "name": "stdout",
     "output_type": "stream",
     "text": [
      "F:\\a00nutstore\\008\\zw08\\莱新订单20241029\\发票模板-按销售订单和存货编码-件数\\发票模板-江西东优贸易有限公司-SO-2024-02-1516-件数.xlsx\n"
     ]
    },
    {
     "name": "stderr",
     "output_type": "stream",
     "text": [
      "C:\\Users\\redda\\.conda\\envs\\py311\\Lib\\site-packages\\openpyxl\\worksheet\\_reader.py:329: UserWarning: Data Validation extension is not supported and will be removed\n",
      "  warn(msg)\n"
     ]
    },
    {
     "name": "stdout",
     "output_type": "stream",
     "text": [
      "F:\\a00nutstore\\008\\zw08\\莱新订单20241029\\发票模板-按销售订单和存货编码-件数\\发票模板-石家庄本米文具用品销售有限公司-SO-2024-02-1517-件数.xlsx\n"
     ]
    },
    {
     "name": "stderr",
     "output_type": "stream",
     "text": [
      "C:\\Users\\redda\\.conda\\envs\\py311\\Lib\\site-packages\\openpyxl\\worksheet\\_reader.py:329: UserWarning: Data Validation extension is not supported and will be removed\n",
      "  warn(msg)\n"
     ]
    },
    {
     "name": "stdout",
     "output_type": "stream",
     "text": [
      "F:\\a00nutstore\\008\\zw08\\莱新订单20241029\\发票模板-按销售订单和存货编码-件数\\发票模板-天津市友旺商贸有限公司-SO-2024-02-1518-件数.xlsx\n"
     ]
    },
    {
     "name": "stderr",
     "output_type": "stream",
     "text": [
      "C:\\Users\\redda\\.conda\\envs\\py311\\Lib\\site-packages\\openpyxl\\worksheet\\_reader.py:329: UserWarning: Data Validation extension is not supported and will be removed\n",
      "  warn(msg)\n"
     ]
    },
    {
     "name": "stdout",
     "output_type": "stream",
     "text": [
      "F:\\a00nutstore\\008\\zw08\\莱新订单20241029\\发票模板-按销售订单和存货编码-件数\\发票模板-天津集采科技发展有限公司-SO-2024-02-1519-件数.xlsx\n"
     ]
    },
    {
     "name": "stderr",
     "output_type": "stream",
     "text": [
      "C:\\Users\\redda\\.conda\\envs\\py311\\Lib\\site-packages\\openpyxl\\worksheet\\_reader.py:329: UserWarning: Data Validation extension is not supported and will be removed\n",
      "  warn(msg)\n"
     ]
    },
    {
     "name": "stdout",
     "output_type": "stream",
     "text": [
      "F:\\a00nutstore\\008\\zw08\\莱新订单20241029\\发票模板-按销售订单和存货编码-件数\\发票模板-义乌范光洪-SO-2024-02-1520-件数.xlsx\n"
     ]
    },
    {
     "name": "stderr",
     "output_type": "stream",
     "text": [
      "C:\\Users\\redda\\.conda\\envs\\py311\\Lib\\site-packages\\openpyxl\\worksheet\\_reader.py:329: UserWarning: Data Validation extension is not supported and will be removed\n",
      "  warn(msg)\n"
     ]
    },
    {
     "name": "stdout",
     "output_type": "stream",
     "text": [
      "F:\\a00nutstore\\008\\zw08\\莱新订单20241029\\发票模板-按销售订单和存货编码-件数\\发票模板-湖北昇耀商贸有限公司-SO-2024-02-1521-件数.xlsx\n"
     ]
    },
    {
     "name": "stderr",
     "output_type": "stream",
     "text": [
      "C:\\Users\\redda\\.conda\\envs\\py311\\Lib\\site-packages\\openpyxl\\worksheet\\_reader.py:329: UserWarning: Data Validation extension is not supported and will be removed\n",
      "  warn(msg)\n"
     ]
    },
    {
     "name": "stdout",
     "output_type": "stream",
     "text": [
      "F:\\a00nutstore\\008\\zw08\\莱新订单20241029\\发票模板-按销售订单和存货编码-件数\\发票模板-武汉米圣贸易有限公司-SO-2024-02-1522-件数.xlsx\n"
     ]
    },
    {
     "name": "stderr",
     "output_type": "stream",
     "text": [
      "C:\\Users\\redda\\.conda\\envs\\py311\\Lib\\site-packages\\openpyxl\\worksheet\\_reader.py:329: UserWarning: Data Validation extension is not supported and will be removed\n",
      "  warn(msg)\n"
     ]
    },
    {
     "name": "stdout",
     "output_type": "stream",
     "text": [
      "F:\\a00nutstore\\008\\zw08\\莱新订单20241029\\发票模板-按销售订单和存货编码-件数\\发票模板-武汉市热脉文体用品有限公司-SO-2024-02-1523-件数.xlsx\n"
     ]
    },
    {
     "name": "stderr",
     "output_type": "stream",
     "text": [
      "C:\\Users\\redda\\.conda\\envs\\py311\\Lib\\site-packages\\openpyxl\\worksheet\\_reader.py:329: UserWarning: Data Validation extension is not supported and will be removed\n",
      "  warn(msg)\n"
     ]
    },
    {
     "name": "stdout",
     "output_type": "stream",
     "text": [
      "F:\\a00nutstore\\008\\zw08\\莱新订单20241029\\发票模板-按销售订单和存货编码-件数\\发票模板-武汉嘉迪亚商贸有限公司-SO-2024-02-1524-件数.xlsx\n"
     ]
    },
    {
     "name": "stderr",
     "output_type": "stream",
     "text": [
      "C:\\Users\\redda\\.conda\\envs\\py311\\Lib\\site-packages\\openpyxl\\worksheet\\_reader.py:329: UserWarning: Data Validation extension is not supported and will be removed\n",
      "  warn(msg)\n"
     ]
    },
    {
     "name": "stdout",
     "output_type": "stream",
     "text": [
      "F:\\a00nutstore\\008\\zw08\\莱新订单20241029\\发票模板-按销售订单和存货编码-件数\\发票模板-河南抬头喜办公用品有限公司S-SO-2024-02-1525-件数.xlsx\n"
     ]
    },
    {
     "name": "stderr",
     "output_type": "stream",
     "text": [
      "C:\\Users\\redda\\.conda\\envs\\py311\\Lib\\site-packages\\openpyxl\\worksheet\\_reader.py:329: UserWarning: Data Validation extension is not supported and will be removed\n",
      "  warn(msg)\n"
     ]
    },
    {
     "name": "stdout",
     "output_type": "stream",
     "text": [
      "F:\\a00nutstore\\008\\zw08\\莱新订单20241029\\发票模板-按销售订单和存货编码-件数\\发票模板-湖北昇耀商贸有限公司-SO-2024-02-1527-件数.xlsx\n"
     ]
    },
    {
     "name": "stderr",
     "output_type": "stream",
     "text": [
      "C:\\Users\\redda\\.conda\\envs\\py311\\Lib\\site-packages\\openpyxl\\worksheet\\_reader.py:329: UserWarning: Data Validation extension is not supported and will be removed\n",
      "  warn(msg)\n"
     ]
    },
    {
     "name": "stdout",
     "output_type": "stream",
     "text": [
      "F:\\a00nutstore\\008\\zw08\\莱新订单20241029\\发票模板-按销售订单和存货编码-件数\\发票模板-武汉米圣贸易有限公司-SO-2024-02-1528-件数.xlsx\n"
     ]
    },
    {
     "name": "stderr",
     "output_type": "stream",
     "text": [
      "C:\\Users\\redda\\.conda\\envs\\py311\\Lib\\site-packages\\openpyxl\\worksheet\\_reader.py:329: UserWarning: Data Validation extension is not supported and will be removed\n",
      "  warn(msg)\n"
     ]
    },
    {
     "name": "stdout",
     "output_type": "stream",
     "text": [
      "F:\\a00nutstore\\008\\zw08\\莱新订单20241029\\发票模板-按销售订单和存货编码-件数\\发票模板-武汉今日成纸业有限公司-SO-2024-02-1529-件数.xlsx\n"
     ]
    },
    {
     "name": "stderr",
     "output_type": "stream",
     "text": [
      "C:\\Users\\redda\\.conda\\envs\\py311\\Lib\\site-packages\\openpyxl\\worksheet\\_reader.py:329: UserWarning: Data Validation extension is not supported and will be removed\n",
      "  warn(msg)\n"
     ]
    },
    {
     "name": "stdout",
     "output_type": "stream",
     "text": [
      "F:\\a00nutstore\\008\\zw08\\莱新订单20241029\\发票模板-按销售订单和存货编码-件数\\发票模板-武汉市热脉文体用品有限公司-SO-2024-02-1530-件数.xlsx\n"
     ]
    },
    {
     "name": "stderr",
     "output_type": "stream",
     "text": [
      "C:\\Users\\redda\\.conda\\envs\\py311\\Lib\\site-packages\\openpyxl\\worksheet\\_reader.py:329: UserWarning: Data Validation extension is not supported and will be removed\n",
      "  warn(msg)\n"
     ]
    },
    {
     "name": "stdout",
     "output_type": "stream",
     "text": [
      "F:\\a00nutstore\\008\\zw08\\莱新订单20241029\\发票模板-按销售订单和存货编码-件数\\发票模板-武汉米圣贸易有限公司-SO-2024-02-1531-件数.xlsx\n"
     ]
    },
    {
     "name": "stderr",
     "output_type": "stream",
     "text": [
      "C:\\Users\\redda\\.conda\\envs\\py311\\Lib\\site-packages\\openpyxl\\worksheet\\_reader.py:329: UserWarning: Data Validation extension is not supported and will be removed\n",
      "  warn(msg)\n"
     ]
    },
    {
     "name": "stdout",
     "output_type": "stream",
     "text": [
      "F:\\a00nutstore\\008\\zw08\\莱新订单20241029\\发票模板-按销售订单和存货编码-件数\\发票模板-武汉金胜辉商贸有限公司-SO-2024-02-1532-件数.xlsx\n"
     ]
    },
    {
     "name": "stderr",
     "output_type": "stream",
     "text": [
      "C:\\Users\\redda\\.conda\\envs\\py311\\Lib\\site-packages\\openpyxl\\worksheet\\_reader.py:329: UserWarning: Data Validation extension is not supported and will be removed\n",
      "  warn(msg)\n"
     ]
    },
    {
     "name": "stdout",
     "output_type": "stream",
     "text": [
      "F:\\a00nutstore\\008\\zw08\\莱新订单20241029\\发票模板-按销售订单和存货编码-件数\\发票模板-武汉开先文化用品有限责任公司-SO-2024-02-1533-件数.xlsx\n"
     ]
    },
    {
     "name": "stderr",
     "output_type": "stream",
     "text": [
      "C:\\Users\\redda\\.conda\\envs\\py311\\Lib\\site-packages\\openpyxl\\worksheet\\_reader.py:329: UserWarning: Data Validation extension is not supported and will be removed\n",
      "  warn(msg)\n"
     ]
    },
    {
     "name": "stdout",
     "output_type": "stream",
     "text": [
      "F:\\a00nutstore\\008\\zw08\\莱新订单20241029\\发票模板-按销售订单和存货编码-件数\\发票模板-武汉金宸翰办公用品有限公司1-SO-2024-02-1534-件数.xlsx\n"
     ]
    },
    {
     "name": "stderr",
     "output_type": "stream",
     "text": [
      "C:\\Users\\redda\\.conda\\envs\\py311\\Lib\\site-packages\\openpyxl\\worksheet\\_reader.py:329: UserWarning: Data Validation extension is not supported and will be removed\n",
      "  warn(msg)\n"
     ]
    },
    {
     "name": "stdout",
     "output_type": "stream",
     "text": [
      "F:\\a00nutstore\\008\\zw08\\莱新订单20241029\\发票模板-按销售订单和存货编码-件数\\发票模板-武汉市齐达利商贸有限公司-SO-2024-02-1535-件数.xlsx\n"
     ]
    },
    {
     "name": "stderr",
     "output_type": "stream",
     "text": [
      "C:\\Users\\redda\\.conda\\envs\\py311\\Lib\\site-packages\\openpyxl\\worksheet\\_reader.py:329: UserWarning: Data Validation extension is not supported and will be removed\n",
      "  warn(msg)\n"
     ]
    },
    {
     "name": "stdout",
     "output_type": "stream",
     "text": [
      "F:\\a00nutstore\\008\\zw08\\莱新订单20241029\\发票模板-按销售订单和存货编码-件数\\发票模板-武汉米圣贸易有限公司-SO-2024-02-1536-件数.xlsx\n"
     ]
    },
    {
     "name": "stderr",
     "output_type": "stream",
     "text": [
      "C:\\Users\\redda\\.conda\\envs\\py311\\Lib\\site-packages\\openpyxl\\worksheet\\_reader.py:329: UserWarning: Data Validation extension is not supported and will be removed\n",
      "  warn(msg)\n"
     ]
    },
    {
     "name": "stdout",
     "output_type": "stream",
     "text": [
      "F:\\a00nutstore\\008\\zw08\\莱新订单20241029\\发票模板-按销售订单和存货编码-件数\\发票模板-大庆市智胜文具办公设备有限公司-SO-2024-02-1537-件数.xlsx\n"
     ]
    },
    {
     "name": "stderr",
     "output_type": "stream",
     "text": [
      "C:\\Users\\redda\\.conda\\envs\\py311\\Lib\\site-packages\\openpyxl\\worksheet\\_reader.py:329: UserWarning: Data Validation extension is not supported and will be removed\n",
      "  warn(msg)\n"
     ]
    },
    {
     "name": "stdout",
     "output_type": "stream",
     "text": [
      "F:\\a00nutstore\\008\\zw08\\莱新订单20241029\\发票模板-按销售订单和存货编码-件数\\发票模板-鹤岗市超东选商贸有限公司-SO-2024-02-1538-件数.xlsx\n"
     ]
    },
    {
     "name": "stderr",
     "output_type": "stream",
     "text": [
      "C:\\Users\\redda\\.conda\\envs\\py311\\Lib\\site-packages\\openpyxl\\worksheet\\_reader.py:329: UserWarning: Data Validation extension is not supported and will be removed\n",
      "  warn(msg)\n"
     ]
    },
    {
     "name": "stdout",
     "output_type": "stream",
     "text": [
      "F:\\a00nutstore\\008\\zw08\\莱新订单20241029\\发票模板-按销售订单和存货编码-件数\\发票模板-河南抬头喜办公用品有限公司S-SO-2024-02-1539-件数.xlsx\n"
     ]
    },
    {
     "name": "stderr",
     "output_type": "stream",
     "text": [
      "C:\\Users\\redda\\.conda\\envs\\py311\\Lib\\site-packages\\openpyxl\\worksheet\\_reader.py:329: UserWarning: Data Validation extension is not supported and will be removed\n",
      "  warn(msg)\n"
     ]
    },
    {
     "name": "stdout",
     "output_type": "stream",
     "text": [
      "F:\\a00nutstore\\008\\zw08\\莱新订单20241029\\发票模板-按销售订单和存货编码-件数\\发票模板-武汉米圣贸易有限公司-SO-2024-02-1540-件数.xlsx\n"
     ]
    },
    {
     "name": "stderr",
     "output_type": "stream",
     "text": [
      "C:\\Users\\redda\\.conda\\envs\\py311\\Lib\\site-packages\\openpyxl\\worksheet\\_reader.py:329: UserWarning: Data Validation extension is not supported and will be removed\n",
      "  warn(msg)\n"
     ]
    },
    {
     "name": "stdout",
     "output_type": "stream",
     "text": [
      "F:\\a00nutstore\\008\\zw08\\莱新订单20241029\\发票模板-按销售订单和存货编码-件数\\发票模板-武汉嘉迪亚商贸有限公司-SO-2024-02-1541-件数.xlsx\n"
     ]
    },
    {
     "name": "stderr",
     "output_type": "stream",
     "text": [
      "C:\\Users\\redda\\.conda\\envs\\py311\\Lib\\site-packages\\openpyxl\\worksheet\\_reader.py:329: UserWarning: Data Validation extension is not supported and will be removed\n",
      "  warn(msg)\n"
     ]
    },
    {
     "name": "stdout",
     "output_type": "stream",
     "text": [
      "F:\\a00nutstore\\008\\zw08\\莱新订单20241029\\发票模板-按销售订单和存货编码-件数\\发票模板-湖北昇耀商贸有限公司-SO-2024-02-1542-件数.xlsx\n"
     ]
    },
    {
     "name": "stderr",
     "output_type": "stream",
     "text": [
      "C:\\Users\\redda\\.conda\\envs\\py311\\Lib\\site-packages\\openpyxl\\worksheet\\_reader.py:329: UserWarning: Data Validation extension is not supported and will be removed\n",
      "  warn(msg)\n"
     ]
    },
    {
     "name": "stdout",
     "output_type": "stream",
     "text": [
      "F:\\a00nutstore\\008\\zw08\\莱新订单20241029\\发票模板-按销售订单和存货编码-件数\\发票模板-武汉市热脉文体用品有限公司-SO-2024-02-1543-件数.xlsx\n"
     ]
    },
    {
     "name": "stderr",
     "output_type": "stream",
     "text": [
      "C:\\Users\\redda\\.conda\\envs\\py311\\Lib\\site-packages\\openpyxl\\worksheet\\_reader.py:329: UserWarning: Data Validation extension is not supported and will be removed\n",
      "  warn(msg)\n"
     ]
    },
    {
     "name": "stdout",
     "output_type": "stream",
     "text": [
      "F:\\a00nutstore\\008\\zw08\\莱新订单20241029\\发票模板-按销售订单和存货编码-件数\\发票模板-武汉优聚优品贸易有限公司-SO-2024-02-1544-件数.xlsx\n"
     ]
    },
    {
     "name": "stderr",
     "output_type": "stream",
     "text": [
      "C:\\Users\\redda\\.conda\\envs\\py311\\Lib\\site-packages\\openpyxl\\worksheet\\_reader.py:329: UserWarning: Data Validation extension is not supported and will be removed\n",
      "  warn(msg)\n"
     ]
    },
    {
     "name": "stdout",
     "output_type": "stream",
     "text": [
      "F:\\a00nutstore\\008\\zw08\\莱新订单20241029\\发票模板-按销售订单和存货编码-件数\\发票模板-武汉开先文化用品有限责任公司-SO-2024-02-1545-件数.xlsx\n"
     ]
    },
    {
     "name": "stderr",
     "output_type": "stream",
     "text": [
      "C:\\Users\\redda\\.conda\\envs\\py311\\Lib\\site-packages\\openpyxl\\worksheet\\_reader.py:329: UserWarning: Data Validation extension is not supported and will be removed\n",
      "  warn(msg)\n"
     ]
    },
    {
     "name": "stdout",
     "output_type": "stream",
     "text": [
      "F:\\a00nutstore\\008\\zw08\\莱新订单20241029\\发票模板-按销售订单和存货编码-件数\\发票模板-武汉乐得电子商务有限公司-SO-2024-02-1546-件数.xlsx\n"
     ]
    },
    {
     "name": "stderr",
     "output_type": "stream",
     "text": [
      "C:\\Users\\redda\\.conda\\envs\\py311\\Lib\\site-packages\\openpyxl\\worksheet\\_reader.py:329: UserWarning: Data Validation extension is not supported and will be removed\n",
      "  warn(msg)\n"
     ]
    },
    {
     "name": "stdout",
     "output_type": "stream",
     "text": [
      "F:\\a00nutstore\\008\\zw08\\莱新订单20241029\\发票模板-按销售订单和存货编码-件数\\发票模板-武汉金胜辉商贸有限公司-SO-2024-02-1547-件数.xlsx\n"
     ]
    },
    {
     "name": "stderr",
     "output_type": "stream",
     "text": [
      "C:\\Users\\redda\\.conda\\envs\\py311\\Lib\\site-packages\\openpyxl\\worksheet\\_reader.py:329: UserWarning: Data Validation extension is not supported and will be removed\n",
      "  warn(msg)\n"
     ]
    },
    {
     "name": "stdout",
     "output_type": "stream",
     "text": [
      "F:\\a00nutstore\\008\\zw08\\莱新订单20241029\\发票模板-按销售订单和存货编码-件数\\发票模板-武汉市热脉文体用品有限公司-SO-2024-02-1548-件数.xlsx\n"
     ]
    },
    {
     "name": "stderr",
     "output_type": "stream",
     "text": [
      "C:\\Users\\redda\\.conda\\envs\\py311\\Lib\\site-packages\\openpyxl\\worksheet\\_reader.py:329: UserWarning: Data Validation extension is not supported and will be removed\n",
      "  warn(msg)\n"
     ]
    },
    {
     "name": "stdout",
     "output_type": "stream",
     "text": [
      "F:\\a00nutstore\\008\\zw08\\莱新订单20241029\\发票模板-按销售订单和存货编码-件数\\发票模板-南宁市小木屋文化用品有限公司-SO-2024-02-1549-件数.xlsx\n"
     ]
    },
    {
     "name": "stderr",
     "output_type": "stream",
     "text": [
      "C:\\Users\\redda\\.conda\\envs\\py311\\Lib\\site-packages\\openpyxl\\worksheet\\_reader.py:329: UserWarning: Data Validation extension is not supported and will be removed\n",
      "  warn(msg)\n"
     ]
    },
    {
     "name": "stdout",
     "output_type": "stream",
     "text": [
      "F:\\a00nutstore\\008\\zw08\\莱新订单20241029\\发票模板-按销售订单和存货编码-件数\\发票模板-贵州三鑫文化用品有限公司-SO-2024-02-1550-件数.xlsx\n"
     ]
    },
    {
     "name": "stderr",
     "output_type": "stream",
     "text": [
      "C:\\Users\\redda\\.conda\\envs\\py311\\Lib\\site-packages\\openpyxl\\worksheet\\_reader.py:329: UserWarning: Data Validation extension is not supported and will be removed\n",
      "  warn(msg)\n"
     ]
    },
    {
     "name": "stdout",
     "output_type": "stream",
     "text": [
      "F:\\a00nutstore\\008\\zw08\\莱新订单20241029\\发票模板-按销售订单和存货编码-件数\\发票模板-品壹佰河北商贸有限公司-SO-2024-02-1551-件数.xlsx\n"
     ]
    },
    {
     "name": "stderr",
     "output_type": "stream",
     "text": [
      "C:\\Users\\redda\\.conda\\envs\\py311\\Lib\\site-packages\\openpyxl\\worksheet\\_reader.py:329: UserWarning: Data Validation extension is not supported and will be removed\n",
      "  warn(msg)\n"
     ]
    },
    {
     "name": "stdout",
     "output_type": "stream",
     "text": [
      "F:\\a00nutstore\\008\\zw08\\莱新订单20241029\\发票模板-按销售订单和存货编码-件数\\发票模板-成都杨玲-SO-2024-02-1552-件数.xlsx\n"
     ]
    },
    {
     "name": "stderr",
     "output_type": "stream",
     "text": [
      "C:\\Users\\redda\\.conda\\envs\\py311\\Lib\\site-packages\\openpyxl\\worksheet\\_reader.py:329: UserWarning: Data Validation extension is not supported and will be removed\n",
      "  warn(msg)\n"
     ]
    },
    {
     "name": "stdout",
     "output_type": "stream",
     "text": [
      "F:\\a00nutstore\\008\\zw08\\莱新订单20241029\\发票模板-按销售订单和存货编码-件数\\发票模板-成都乐尚怡智商贸有限公司-SO-2024-02-1553-件数.xlsx\n"
     ]
    },
    {
     "name": "stderr",
     "output_type": "stream",
     "text": [
      "C:\\Users\\redda\\.conda\\envs\\py311\\Lib\\site-packages\\openpyxl\\worksheet\\_reader.py:329: UserWarning: Data Validation extension is not supported and will be removed\n",
      "  warn(msg)\n"
     ]
    },
    {
     "name": "stdout",
     "output_type": "stream",
     "text": [
      "F:\\a00nutstore\\008\\zw08\\莱新订单20241029\\发票模板-按销售订单和存货编码-件数\\发票模板-泸州佳之彩商贸有限公司-SO-2024-02-1554-件数.xlsx\n"
     ]
    },
    {
     "name": "stderr",
     "output_type": "stream",
     "text": [
      "C:\\Users\\redda\\.conda\\envs\\py311\\Lib\\site-packages\\openpyxl\\worksheet\\_reader.py:329: UserWarning: Data Validation extension is not supported and will be removed\n",
      "  warn(msg)\n"
     ]
    },
    {
     "name": "stdout",
     "output_type": "stream",
     "text": [
      "F:\\a00nutstore\\008\\zw08\\莱新订单20241029\\发票模板-按销售订单和存货编码-件数\\发票模板-潍坊润海办公用品有限公司-SO-2024-02-1555-件数.xlsx\n"
     ]
    },
    {
     "name": "stderr",
     "output_type": "stream",
     "text": [
      "C:\\Users\\redda\\.conda\\envs\\py311\\Lib\\site-packages\\openpyxl\\worksheet\\_reader.py:329: UserWarning: Data Validation extension is not supported and will be removed\n",
      "  warn(msg)\n"
     ]
    },
    {
     "name": "stdout",
     "output_type": "stream",
     "text": [
      "F:\\a00nutstore\\008\\zw08\\莱新订单20241029\\发票模板-按销售订单和存货编码-件数\\发票模板-武汉今日成纸业有限公司-SO-2024-02-1556-件数.xlsx\n"
     ]
    },
    {
     "name": "stderr",
     "output_type": "stream",
     "text": [
      "C:\\Users\\redda\\.conda\\envs\\py311\\Lib\\site-packages\\openpyxl\\worksheet\\_reader.py:329: UserWarning: Data Validation extension is not supported and will be removed\n",
      "  warn(msg)\n"
     ]
    },
    {
     "name": "stdout",
     "output_type": "stream",
     "text": [
      "F:\\a00nutstore\\008\\zw08\\莱新订单20241029\\发票模板-按销售订单和存货编码-件数\\发票模板-武汉嘉迪亚商贸有限公司-SO-2024-02-1557-件数.xlsx\n"
     ]
    },
    {
     "name": "stderr",
     "output_type": "stream",
     "text": [
      "C:\\Users\\redda\\.conda\\envs\\py311\\Lib\\site-packages\\openpyxl\\worksheet\\_reader.py:329: UserWarning: Data Validation extension is not supported and will be removed\n",
      "  warn(msg)\n"
     ]
    },
    {
     "name": "stdout",
     "output_type": "stream",
     "text": [
      "F:\\a00nutstore\\008\\zw08\\莱新订单20241029\\发票模板-按销售订单和存货编码-件数\\发票模板-湖北昇耀商贸有限公司-SO-2024-02-1558-件数.xlsx\n"
     ]
    },
    {
     "name": "stderr",
     "output_type": "stream",
     "text": [
      "C:\\Users\\redda\\.conda\\envs\\py311\\Lib\\site-packages\\openpyxl\\worksheet\\_reader.py:329: UserWarning: Data Validation extension is not supported and will be removed\n",
      "  warn(msg)\n"
     ]
    },
    {
     "name": "stdout",
     "output_type": "stream",
     "text": [
      "F:\\a00nutstore\\008\\zw08\\莱新订单20241029\\发票模板-按销售订单和存货编码-件数\\发票模板-武汉开先文化用品有限责任公司-SO-2024-02-1559-件数.xlsx\n"
     ]
    },
    {
     "name": "stderr",
     "output_type": "stream",
     "text": [
      "C:\\Users\\redda\\.conda\\envs\\py311\\Lib\\site-packages\\openpyxl\\worksheet\\_reader.py:329: UserWarning: Data Validation extension is not supported and will be removed\n",
      "  warn(msg)\n"
     ]
    },
    {
     "name": "stdout",
     "output_type": "stream",
     "text": [
      "F:\\a00nutstore\\008\\zw08\\莱新订单20241029\\发票模板-按销售订单和存货编码-件数\\发票模板-河南抬头喜办公用品有限公司S-SO-2024-02-1560-件数.xlsx\n"
     ]
    },
    {
     "name": "stderr",
     "output_type": "stream",
     "text": [
      "C:\\Users\\redda\\.conda\\envs\\py311\\Lib\\site-packages\\openpyxl\\worksheet\\_reader.py:329: UserWarning: Data Validation extension is not supported and will be removed\n",
      "  warn(msg)\n"
     ]
    },
    {
     "name": "stdout",
     "output_type": "stream",
     "text": [
      "F:\\a00nutstore\\008\\zw08\\莱新订单20241029\\发票模板-按销售订单和存货编码-件数\\发票模板-大庆市智胜文具办公设备有限公司-SO-2024-02-1561-件数.xlsx\n"
     ]
    },
    {
     "name": "stderr",
     "output_type": "stream",
     "text": [
      "C:\\Users\\redda\\.conda\\envs\\py311\\Lib\\site-packages\\openpyxl\\worksheet\\_reader.py:329: UserWarning: Data Validation extension is not supported and will be removed\n",
      "  warn(msg)\n"
     ]
    },
    {
     "name": "stdout",
     "output_type": "stream",
     "text": [
      "F:\\a00nutstore\\008\\zw08\\莱新订单20241029\\发票模板-按销售订单和存货编码-件数\\发票模板-临沂巧纳金纸品有限公司-SO-2024-02-1562-件数.xlsx\n"
     ]
    },
    {
     "name": "stderr",
     "output_type": "stream",
     "text": [
      "C:\\Users\\redda\\.conda\\envs\\py311\\Lib\\site-packages\\openpyxl\\worksheet\\_reader.py:329: UserWarning: Data Validation extension is not supported and will be removed\n",
      "  warn(msg)\n"
     ]
    },
    {
     "name": "stdout",
     "output_type": "stream",
     "text": [
      "F:\\a00nutstore\\008\\zw08\\莱新订单20241029\\发票模板-按销售订单和存货编码-件数\\发票模板-江西华兆昌商贸有限公司-SO-2024-02-1563-件数.xlsx\n"
     ]
    },
    {
     "name": "stderr",
     "output_type": "stream",
     "text": [
      "C:\\Users\\redda\\.conda\\envs\\py311\\Lib\\site-packages\\openpyxl\\worksheet\\_reader.py:329: UserWarning: Data Validation extension is not supported and will be removed\n",
      "  warn(msg)\n"
     ]
    },
    {
     "name": "stdout",
     "output_type": "stream",
     "text": [
      "F:\\a00nutstore\\008\\zw08\\莱新订单20241029\\发票模板-按销售订单和存货编码-件数\\发票模板-河南抬头喜办公用品有限公司S-SO-2024-02-1564-件数.xlsx\n"
     ]
    },
    {
     "name": "stderr",
     "output_type": "stream",
     "text": [
      "C:\\Users\\redda\\.conda\\envs\\py311\\Lib\\site-packages\\openpyxl\\worksheet\\_reader.py:329: UserWarning: Data Validation extension is not supported and will be removed\n",
      "  warn(msg)\n"
     ]
    },
    {
     "name": "stdout",
     "output_type": "stream",
     "text": [
      "F:\\a00nutstore\\008\\zw08\\莱新订单20241029\\发票模板-按销售订单和存货编码-件数\\发票模板-成都杨万平-SO-2024-02-1565-件数.xlsx\n"
     ]
    },
    {
     "name": "stderr",
     "output_type": "stream",
     "text": [
      "C:\\Users\\redda\\.conda\\envs\\py311\\Lib\\site-packages\\openpyxl\\worksheet\\_reader.py:329: UserWarning: Data Validation extension is not supported and will be removed\n",
      "  warn(msg)\n"
     ]
    },
    {
     "name": "stdout",
     "output_type": "stream",
     "text": [
      "F:\\a00nutstore\\008\\zw08\\莱新订单20241029\\发票模板-按销售订单和存货编码-件数\\发票模板-长沙市雨花区文丰文具商行-SO-2024-02-1566-件数.xlsx\n"
     ]
    },
    {
     "name": "stderr",
     "output_type": "stream",
     "text": [
      "C:\\Users\\redda\\.conda\\envs\\py311\\Lib\\site-packages\\openpyxl\\worksheet\\_reader.py:329: UserWarning: Data Validation extension is not supported and will be removed\n",
      "  warn(msg)\n"
     ]
    },
    {
     "name": "stdout",
     "output_type": "stream",
     "text": [
      "F:\\a00nutstore\\008\\zw08\\莱新订单20241029\\发票模板-按销售订单和存货编码-件数\\发票模板-成都杨玲-SO-2024-02-1567-件数.xlsx\n"
     ]
    },
    {
     "name": "stderr",
     "output_type": "stream",
     "text": [
      "C:\\Users\\redda\\.conda\\envs\\py311\\Lib\\site-packages\\openpyxl\\worksheet\\_reader.py:329: UserWarning: Data Validation extension is not supported and will be removed\n",
      "  warn(msg)\n"
     ]
    },
    {
     "name": "stdout",
     "output_type": "stream",
     "text": [
      "F:\\a00nutstore\\008\\zw08\\莱新订单20241029\\发票模板-按销售订单和存货编码-件数\\发票模板-义乌范光洪-SO-2024-02-1568-件数.xlsx\n"
     ]
    },
    {
     "name": "stderr",
     "output_type": "stream",
     "text": [
      "C:\\Users\\redda\\.conda\\envs\\py311\\Lib\\site-packages\\openpyxl\\worksheet\\_reader.py:329: UserWarning: Data Validation extension is not supported and will be removed\n",
      "  warn(msg)\n"
     ]
    },
    {
     "name": "stdout",
     "output_type": "stream",
     "text": [
      "F:\\a00nutstore\\008\\zw08\\莱新订单20241029\\发票模板-按销售订单和存货编码-件数\\发票模板-成都杨玲-SO-2024-02-1569-件数.xlsx\n"
     ]
    },
    {
     "name": "stderr",
     "output_type": "stream",
     "text": [
      "C:\\Users\\redda\\.conda\\envs\\py311\\Lib\\site-packages\\openpyxl\\worksheet\\_reader.py:329: UserWarning: Data Validation extension is not supported and will be removed\n",
      "  warn(msg)\n"
     ]
    },
    {
     "name": "stdout",
     "output_type": "stream",
     "text": [
      "F:\\a00nutstore\\008\\zw08\\莱新订单20241029\\发票模板-按销售订单和存货编码-件数\\发票模板-成都杨玲-SO-2024-02-1570-件数.xlsx\n"
     ]
    },
    {
     "name": "stderr",
     "output_type": "stream",
     "text": [
      "C:\\Users\\redda\\.conda\\envs\\py311\\Lib\\site-packages\\openpyxl\\worksheet\\_reader.py:329: UserWarning: Data Validation extension is not supported and will be removed\n",
      "  warn(msg)\n"
     ]
    },
    {
     "name": "stdout",
     "output_type": "stream",
     "text": [
      "F:\\a00nutstore\\008\\zw08\\莱新订单20241029\\发票模板-按销售订单和存货编码-件数\\发票模板-金牛区昌宏优品商贸部-SO-2024-02-1571-件数.xlsx\n"
     ]
    },
    {
     "name": "stderr",
     "output_type": "stream",
     "text": [
      "C:\\Users\\redda\\.conda\\envs\\py311\\Lib\\site-packages\\openpyxl\\worksheet\\_reader.py:329: UserWarning: Data Validation extension is not supported and will be removed\n",
      "  warn(msg)\n"
     ]
    },
    {
     "name": "stdout",
     "output_type": "stream",
     "text": [
      "F:\\a00nutstore\\008\\zw08\\莱新订单20241029\\发票模板-按销售订单和存货编码-件数\\发票模板-成都杨玲-SO-2024-02-1572-件数.xlsx\n"
     ]
    },
    {
     "name": "stderr",
     "output_type": "stream",
     "text": [
      "C:\\Users\\redda\\.conda\\envs\\py311\\Lib\\site-packages\\openpyxl\\worksheet\\_reader.py:329: UserWarning: Data Validation extension is not supported and will be removed\n",
      "  warn(msg)\n"
     ]
    },
    {
     "name": "stdout",
     "output_type": "stream",
     "text": [
      "F:\\a00nutstore\\008\\zw08\\莱新订单20241029\\发票模板-按销售订单和存货编码-件数\\发票模板-武汉市热脉文体用品有限公司-SO-2024-02-1573-件数.xlsx\n"
     ]
    },
    {
     "name": "stderr",
     "output_type": "stream",
     "text": [
      "C:\\Users\\redda\\.conda\\envs\\py311\\Lib\\site-packages\\openpyxl\\worksheet\\_reader.py:329: UserWarning: Data Validation extension is not supported and will be removed\n",
      "  warn(msg)\n"
     ]
    },
    {
     "name": "stdout",
     "output_type": "stream",
     "text": [
      "F:\\a00nutstore\\008\\zw08\\莱新订单20241029\\发票模板-按销售订单和存货编码-件数\\发票模板-武汉米圣贸易有限公司-SO-2024-02-1574-件数.xlsx\n"
     ]
    },
    {
     "name": "stderr",
     "output_type": "stream",
     "text": [
      "C:\\Users\\redda\\.conda\\envs\\py311\\Lib\\site-packages\\openpyxl\\worksheet\\_reader.py:329: UserWarning: Data Validation extension is not supported and will be removed\n",
      "  warn(msg)\n"
     ]
    },
    {
     "name": "stdout",
     "output_type": "stream",
     "text": [
      "F:\\a00nutstore\\008\\zw08\\莱新订单20241029\\发票模板-按销售订单和存货编码-件数\\发票模板-河南抬头喜办公用品有限公司S-SO-2024-02-1575-件数.xlsx\n"
     ]
    },
    {
     "name": "stderr",
     "output_type": "stream",
     "text": [
      "C:\\Users\\redda\\.conda\\envs\\py311\\Lib\\site-packages\\openpyxl\\worksheet\\_reader.py:329: UserWarning: Data Validation extension is not supported and will be removed\n",
      "  warn(msg)\n",
      "C:\\Users\\redda\\.conda\\envs\\py311\\Lib\\site-packages\\openpyxl\\worksheet\\_reader.py:329: UserWarning: Data Validation extension is not supported and will be removed\n",
      "  warn(msg)\n",
      "C:\\Users\\redda\\.conda\\envs\\py311\\Lib\\site-packages\\openpyxl\\worksheet\\_reader.py:329: UserWarning: Data Validation extension is not supported and will be removed\n",
      "  warn(msg)\n",
      "C:\\Users\\redda\\.conda\\envs\\py311\\Lib\\site-packages\\openpyxl\\worksheet\\_reader.py:329: UserWarning: Data Validation extension is not supported and will be removed\n",
      "  warn(msg)\n",
      "C:\\Users\\redda\\.conda\\envs\\py311\\Lib\\site-packages\\openpyxl\\worksheet\\_reader.py:329: UserWarning: Data Validation extension is not supported and will be removed\n",
      "  warn(msg)\n",
      "C:\\Users\\redda\\.conda\\envs\\py311\\Lib\\site-packages\\openpyxl\\worksheet\\_reader.py:329: UserWarning: Data Validation extension is not supported and will be removed\n",
      "  warn(msg)\n",
      "C:\\Users\\redda\\.conda\\envs\\py311\\Lib\\site-packages\\openpyxl\\worksheet\\_reader.py:329: UserWarning: Data Validation extension is not supported and will be removed\n",
      "  warn(msg)\n",
      "C:\\Users\\redda\\.conda\\envs\\py311\\Lib\\site-packages\\openpyxl\\worksheet\\_reader.py:329: UserWarning: Data Validation extension is not supported and will be removed\n",
      "  warn(msg)\n",
      "C:\\Users\\redda\\.conda\\envs\\py311\\Lib\\site-packages\\openpyxl\\worksheet\\_reader.py:329: UserWarning: Data Validation extension is not supported and will be removed\n",
      "  warn(msg)\n",
      "C:\\Users\\redda\\.conda\\envs\\py311\\Lib\\site-packages\\openpyxl\\worksheet\\_reader.py:329: UserWarning: Data Validation extension is not supported and will be removed\n",
      "  warn(msg)\n",
      "C:\\Users\\redda\\.conda\\envs\\py311\\Lib\\site-packages\\openpyxl\\worksheet\\_reader.py:329: UserWarning: Data Validation extension is not supported and will be removed\n",
      "  warn(msg)\n",
      "C:\\Users\\redda\\.conda\\envs\\py311\\Lib\\site-packages\\openpyxl\\worksheet\\_reader.py:329: UserWarning: Data Validation extension is not supported and will be removed\n",
      "  warn(msg)\n",
      "C:\\Users\\redda\\.conda\\envs\\py311\\Lib\\site-packages\\openpyxl\\worksheet\\_reader.py:329: UserWarning: Data Validation extension is not supported and will be removed\n",
      "  warn(msg)\n",
      "C:\\Users\\redda\\.conda\\envs\\py311\\Lib\\site-packages\\openpyxl\\worksheet\\_reader.py:329: UserWarning: Data Validation extension is not supported and will be removed\n",
      "  warn(msg)\n",
      "C:\\Users\\redda\\.conda\\envs\\py311\\Lib\\site-packages\\openpyxl\\worksheet\\_reader.py:329: UserWarning: Data Validation extension is not supported and will be removed\n",
      "  warn(msg)\n",
      "C:\\Users\\redda\\.conda\\envs\\py311\\Lib\\site-packages\\openpyxl\\worksheet\\_reader.py:329: UserWarning: Data Validation extension is not supported and will be removed\n",
      "  warn(msg)\n",
      "C:\\Users\\redda\\.conda\\envs\\py311\\Lib\\site-packages\\openpyxl\\worksheet\\_reader.py:329: UserWarning: Data Validation extension is not supported and will be removed\n",
      "  warn(msg)\n",
      "C:\\Users\\redda\\.conda\\envs\\py311\\Lib\\site-packages\\openpyxl\\worksheet\\_reader.py:329: UserWarning: Data Validation extension is not supported and will be removed\n",
      "  warn(msg)\n",
      "C:\\Users\\redda\\.conda\\envs\\py311\\Lib\\site-packages\\openpyxl\\worksheet\\_reader.py:329: UserWarning: Data Validation extension is not supported and will be removed\n",
      "  warn(msg)\n",
      "C:\\Users\\redda\\.conda\\envs\\py311\\Lib\\site-packages\\openpyxl\\worksheet\\_reader.py:329: UserWarning: Data Validation extension is not supported and will be removed\n",
      "  warn(msg)\n",
      "C:\\Users\\redda\\.conda\\envs\\py311\\Lib\\site-packages\\openpyxl\\worksheet\\_reader.py:329: UserWarning: Data Validation extension is not supported and will be removed\n",
      "  warn(msg)\n",
      "C:\\Users\\redda\\.conda\\envs\\py311\\Lib\\site-packages\\openpyxl\\worksheet\\_reader.py:329: UserWarning: Data Validation extension is not supported and will be removed\n",
      "  warn(msg)\n",
      "C:\\Users\\redda\\.conda\\envs\\py311\\Lib\\site-packages\\openpyxl\\worksheet\\_reader.py:329: UserWarning: Data Validation extension is not supported and will be removed\n",
      "  warn(msg)\n",
      "C:\\Users\\redda\\.conda\\envs\\py311\\Lib\\site-packages\\openpyxl\\worksheet\\_reader.py:329: UserWarning: Data Validation extension is not supported and will be removed\n",
      "  warn(msg)\n",
      "C:\\Users\\redda\\.conda\\envs\\py311\\Lib\\site-packages\\openpyxl\\worksheet\\_reader.py:329: UserWarning: Data Validation extension is not supported and will be removed\n",
      "  warn(msg)\n",
      "C:\\Users\\redda\\.conda\\envs\\py311\\Lib\\site-packages\\openpyxl\\worksheet\\_reader.py:329: UserWarning: Data Validation extension is not supported and will be removed\n",
      "  warn(msg)\n",
      "C:\\Users\\redda\\.conda\\envs\\py311\\Lib\\site-packages\\openpyxl\\worksheet\\_reader.py:329: UserWarning: Data Validation extension is not supported and will be removed\n",
      "  warn(msg)\n",
      "C:\\Users\\redda\\.conda\\envs\\py311\\Lib\\site-packages\\openpyxl\\worksheet\\_reader.py:329: UserWarning: Data Validation extension is not supported and will be removed\n",
      "  warn(msg)\n",
      "C:\\Users\\redda\\.conda\\envs\\py311\\Lib\\site-packages\\openpyxl\\worksheet\\_reader.py:329: UserWarning: Data Validation extension is not supported and will be removed\n",
      "  warn(msg)\n",
      "C:\\Users\\redda\\.conda\\envs\\py311\\Lib\\site-packages\\openpyxl\\worksheet\\_reader.py:329: UserWarning: Data Validation extension is not supported and will be removed\n",
      "  warn(msg)\n",
      "C:\\Users\\redda\\.conda\\envs\\py311\\Lib\\site-packages\\openpyxl\\worksheet\\_reader.py:329: UserWarning: Data Validation extension is not supported and will be removed\n",
      "  warn(msg)\n",
      "C:\\Users\\redda\\.conda\\envs\\py311\\Lib\\site-packages\\openpyxl\\worksheet\\_reader.py:329: UserWarning: Data Validation extension is not supported and will be removed\n",
      "  warn(msg)\n",
      "C:\\Users\\redda\\.conda\\envs\\py311\\Lib\\site-packages\\openpyxl\\worksheet\\_reader.py:329: UserWarning: Data Validation extension is not supported and will be removed\n",
      "  warn(msg)\n",
      "C:\\Users\\redda\\.conda\\envs\\py311\\Lib\\site-packages\\openpyxl\\worksheet\\_reader.py:329: UserWarning: Data Validation extension is not supported and will be removed\n",
      "  warn(msg)\n",
      "C:\\Users\\redda\\.conda\\envs\\py311\\Lib\\site-packages\\openpyxl\\worksheet\\_reader.py:329: UserWarning: Data Validation extension is not supported and will be removed\n",
      "  warn(msg)\n",
      "C:\\Users\\redda\\.conda\\envs\\py311\\Lib\\site-packages\\openpyxl\\worksheet\\_reader.py:329: UserWarning: Data Validation extension is not supported and will be removed\n",
      "  warn(msg)\n",
      "C:\\Users\\redda\\.conda\\envs\\py311\\Lib\\site-packages\\openpyxl\\worksheet\\_reader.py:329: UserWarning: Data Validation extension is not supported and will be removed\n",
      "  warn(msg)\n",
      "C:\\Users\\redda\\.conda\\envs\\py311\\Lib\\site-packages\\openpyxl\\worksheet\\_reader.py:329: UserWarning: Data Validation extension is not supported and will be removed\n",
      "  warn(msg)\n",
      "C:\\Users\\redda\\.conda\\envs\\py311\\Lib\\site-packages\\openpyxl\\worksheet\\_reader.py:329: UserWarning: Data Validation extension is not supported and will be removed\n",
      "  warn(msg)\n",
      "C:\\Users\\redda\\.conda\\envs\\py311\\Lib\\site-packages\\openpyxl\\worksheet\\_reader.py:329: UserWarning: Data Validation extension is not supported and will be removed\n",
      "  warn(msg)\n",
      "C:\\Users\\redda\\.conda\\envs\\py311\\Lib\\site-packages\\openpyxl\\worksheet\\_reader.py:329: UserWarning: Data Validation extension is not supported and will be removed\n",
      "  warn(msg)\n",
      "C:\\Users\\redda\\.conda\\envs\\py311\\Lib\\site-packages\\openpyxl\\worksheet\\_reader.py:329: UserWarning: Data Validation extension is not supported and will be removed\n",
      "  warn(msg)\n",
      "C:\\Users\\redda\\.conda\\envs\\py311\\Lib\\site-packages\\openpyxl\\worksheet\\_reader.py:329: UserWarning: Data Validation extension is not supported and will be removed\n",
      "  warn(msg)\n",
      "C:\\Users\\redda\\.conda\\envs\\py311\\Lib\\site-packages\\openpyxl\\worksheet\\_reader.py:329: UserWarning: Data Validation extension is not supported and will be removed\n",
      "  warn(msg)\n",
      "C:\\Users\\redda\\.conda\\envs\\py311\\Lib\\site-packages\\openpyxl\\worksheet\\_reader.py:329: UserWarning: Data Validation extension is not supported and will be removed\n",
      "  warn(msg)\n",
      "C:\\Users\\redda\\.conda\\envs\\py311\\Lib\\site-packages\\openpyxl\\worksheet\\_reader.py:329: UserWarning: Data Validation extension is not supported and will be removed\n",
      "  warn(msg)\n",
      "C:\\Users\\redda\\.conda\\envs\\py311\\Lib\\site-packages\\openpyxl\\worksheet\\_reader.py:329: UserWarning: Data Validation extension is not supported and will be removed\n",
      "  warn(msg)\n",
      "C:\\Users\\redda\\.conda\\envs\\py311\\Lib\\site-packages\\openpyxl\\worksheet\\_reader.py:329: UserWarning: Data Validation extension is not supported and will be removed\n",
      "  warn(msg)\n",
      "C:\\Users\\redda\\.conda\\envs\\py311\\Lib\\site-packages\\openpyxl\\worksheet\\_reader.py:329: UserWarning: Data Validation extension is not supported and will be removed\n",
      "  warn(msg)\n",
      "C:\\Users\\redda\\.conda\\envs\\py311\\Lib\\site-packages\\openpyxl\\worksheet\\_reader.py:329: UserWarning: Data Validation extension is not supported and will be removed\n",
      "  warn(msg)\n",
      "C:\\Users\\redda\\.conda\\envs\\py311\\Lib\\site-packages\\openpyxl\\worksheet\\_reader.py:329: UserWarning: Data Validation extension is not supported and will be removed\n",
      "  warn(msg)\n",
      "C:\\Users\\redda\\.conda\\envs\\py311\\Lib\\site-packages\\openpyxl\\worksheet\\_reader.py:329: UserWarning: Data Validation extension is not supported and will be removed\n",
      "  warn(msg)\n",
      "C:\\Users\\redda\\.conda\\envs\\py311\\Lib\\site-packages\\openpyxl\\worksheet\\_reader.py:329: UserWarning: Data Validation extension is not supported and will be removed\n",
      "  warn(msg)\n",
      "C:\\Users\\redda\\.conda\\envs\\py311\\Lib\\site-packages\\openpyxl\\worksheet\\_reader.py:329: UserWarning: Data Validation extension is not supported and will be removed\n",
      "  warn(msg)\n",
      "C:\\Users\\redda\\.conda\\envs\\py311\\Lib\\site-packages\\openpyxl\\worksheet\\_reader.py:329: UserWarning: Data Validation extension is not supported and will be removed\n",
      "  warn(msg)\n",
      "C:\\Users\\redda\\.conda\\envs\\py311\\Lib\\site-packages\\openpyxl\\worksheet\\_reader.py:329: UserWarning: Data Validation extension is not supported and will be removed\n",
      "  warn(msg)\n",
      "C:\\Users\\redda\\.conda\\envs\\py311\\Lib\\site-packages\\openpyxl\\worksheet\\_reader.py:329: UserWarning: Data Validation extension is not supported and will be removed\n",
      "  warn(msg)\n",
      "C:\\Users\\redda\\.conda\\envs\\py311\\Lib\\site-packages\\openpyxl\\worksheet\\_reader.py:329: UserWarning: Data Validation extension is not supported and will be removed\n",
      "  warn(msg)\n",
      "C:\\Users\\redda\\.conda\\envs\\py311\\Lib\\site-packages\\openpyxl\\worksheet\\_reader.py:329: UserWarning: Data Validation extension is not supported and will be removed\n",
      "  warn(msg)\n",
      "C:\\Users\\redda\\.conda\\envs\\py311\\Lib\\site-packages\\openpyxl\\worksheet\\_reader.py:329: UserWarning: Data Validation extension is not supported and will be removed\n",
      "  warn(msg)\n",
      "C:\\Users\\redda\\.conda\\envs\\py311\\Lib\\site-packages\\openpyxl\\worksheet\\_reader.py:329: UserWarning: Data Validation extension is not supported and will be removed\n",
      "  warn(msg)\n",
      "C:\\Users\\redda\\.conda\\envs\\py311\\Lib\\site-packages\\openpyxl\\worksheet\\_reader.py:329: UserWarning: Data Validation extension is not supported and will be removed\n",
      "  warn(msg)\n",
      "C:\\Users\\redda\\.conda\\envs\\py311\\Lib\\site-packages\\openpyxl\\worksheet\\_reader.py:329: UserWarning: Data Validation extension is not supported and will be removed\n",
      "  warn(msg)\n",
      "C:\\Users\\redda\\.conda\\envs\\py311\\Lib\\site-packages\\openpyxl\\worksheet\\_reader.py:329: UserWarning: Data Validation extension is not supported and will be removed\n",
      "  warn(msg)\n",
      "C:\\Users\\redda\\.conda\\envs\\py311\\Lib\\site-packages\\openpyxl\\worksheet\\_reader.py:329: UserWarning: Data Validation extension is not supported and will be removed\n",
      "  warn(msg)\n",
      "C:\\Users\\redda\\.conda\\envs\\py311\\Lib\\site-packages\\openpyxl\\worksheet\\_reader.py:329: UserWarning: Data Validation extension is not supported and will be removed\n",
      "  warn(msg)\n",
      "C:\\Users\\redda\\.conda\\envs\\py311\\Lib\\site-packages\\openpyxl\\worksheet\\_reader.py:329: UserWarning: Data Validation extension is not supported and will be removed\n",
      "  warn(msg)\n",
      "C:\\Users\\redda\\.conda\\envs\\py311\\Lib\\site-packages\\openpyxl\\worksheet\\_reader.py:329: UserWarning: Data Validation extension is not supported and will be removed\n",
      "  warn(msg)\n",
      "C:\\Users\\redda\\.conda\\envs\\py311\\Lib\\site-packages\\openpyxl\\worksheet\\_reader.py:329: UserWarning: Data Validation extension is not supported and will be removed\n",
      "  warn(msg)\n",
      "C:\\Users\\redda\\.conda\\envs\\py311\\Lib\\site-packages\\openpyxl\\worksheet\\_reader.py:329: UserWarning: Data Validation extension is not supported and will be removed\n",
      "  warn(msg)\n",
      "C:\\Users\\redda\\.conda\\envs\\py311\\Lib\\site-packages\\openpyxl\\worksheet\\_reader.py:329: UserWarning: Data Validation extension is not supported and will be removed\n",
      "  warn(msg)\n",
      "C:\\Users\\redda\\.conda\\envs\\py311\\Lib\\site-packages\\openpyxl\\worksheet\\_reader.py:329: UserWarning: Data Validation extension is not supported and will be removed\n",
      "  warn(msg)\n",
      "C:\\Users\\redda\\.conda\\envs\\py311\\Lib\\site-packages\\openpyxl\\worksheet\\_reader.py:329: UserWarning: Data Validation extension is not supported and will be removed\n",
      "  warn(msg)\n",
      "C:\\Users\\redda\\.conda\\envs\\py311\\Lib\\site-packages\\openpyxl\\worksheet\\_reader.py:329: UserWarning: Data Validation extension is not supported and will be removed\n",
      "  warn(msg)\n",
      "C:\\Users\\redda\\.conda\\envs\\py311\\Lib\\site-packages\\openpyxl\\worksheet\\_reader.py:329: UserWarning: Data Validation extension is not supported and will be removed\n",
      "  warn(msg)\n",
      "C:\\Users\\redda\\.conda\\envs\\py311\\Lib\\site-packages\\openpyxl\\worksheet\\_reader.py:329: UserWarning: Data Validation extension is not supported and will be removed\n",
      "  warn(msg)\n",
      "C:\\Users\\redda\\.conda\\envs\\py311\\Lib\\site-packages\\openpyxl\\worksheet\\_reader.py:329: UserWarning: Data Validation extension is not supported and will be removed\n",
      "  warn(msg)\n",
      "C:\\Users\\redda\\.conda\\envs\\py311\\Lib\\site-packages\\openpyxl\\worksheet\\_reader.py:329: UserWarning: Data Validation extension is not supported and will be removed\n",
      "  warn(msg)\n",
      "C:\\Users\\redda\\.conda\\envs\\py311\\Lib\\site-packages\\openpyxl\\worksheet\\_reader.py:329: UserWarning: Data Validation extension is not supported and will be removed\n",
      "  warn(msg)\n",
      "C:\\Users\\redda\\.conda\\envs\\py311\\Lib\\site-packages\\openpyxl\\worksheet\\_reader.py:329: UserWarning: Data Validation extension is not supported and will be removed\n",
      "  warn(msg)\n",
      "C:\\Users\\redda\\.conda\\envs\\py311\\Lib\\site-packages\\openpyxl\\worksheet\\_reader.py:329: UserWarning: Data Validation extension is not supported and will be removed\n",
      "  warn(msg)\n",
      "C:\\Users\\redda\\.conda\\envs\\py311\\Lib\\site-packages\\openpyxl\\worksheet\\_reader.py:329: UserWarning: Data Validation extension is not supported and will be removed\n",
      "  warn(msg)\n",
      "C:\\Users\\redda\\.conda\\envs\\py311\\Lib\\site-packages\\openpyxl\\worksheet\\_reader.py:329: UserWarning: Data Validation extension is not supported and will be removed\n",
      "  warn(msg)\n",
      "C:\\Users\\redda\\.conda\\envs\\py311\\Lib\\site-packages\\openpyxl\\worksheet\\_reader.py:329: UserWarning: Data Validation extension is not supported and will be removed\n",
      "  warn(msg)\n",
      "C:\\Users\\redda\\.conda\\envs\\py311\\Lib\\site-packages\\openpyxl\\worksheet\\_reader.py:329: UserWarning: Data Validation extension is not supported and will be removed\n",
      "  warn(msg)\n",
      "C:\\Users\\redda\\.conda\\envs\\py311\\Lib\\site-packages\\openpyxl\\worksheet\\_reader.py:329: UserWarning: Data Validation extension is not supported and will be removed\n",
      "  warn(msg)\n",
      "C:\\Users\\redda\\.conda\\envs\\py311\\Lib\\site-packages\\openpyxl\\worksheet\\_reader.py:329: UserWarning: Data Validation extension is not supported and will be removed\n",
      "  warn(msg)\n",
      "C:\\Users\\redda\\.conda\\envs\\py311\\Lib\\site-packages\\openpyxl\\worksheet\\_reader.py:329: UserWarning: Data Validation extension is not supported and will be removed\n",
      "  warn(msg)\n",
      "C:\\Users\\redda\\.conda\\envs\\py311\\Lib\\site-packages\\openpyxl\\worksheet\\_reader.py:329: UserWarning: Data Validation extension is not supported and will be removed\n",
      "  warn(msg)\n",
      "C:\\Users\\redda\\.conda\\envs\\py311\\Lib\\site-packages\\openpyxl\\worksheet\\_reader.py:329: UserWarning: Data Validation extension is not supported and will be removed\n",
      "  warn(msg)\n",
      "C:\\Users\\redda\\.conda\\envs\\py311\\Lib\\site-packages\\openpyxl\\worksheet\\_reader.py:329: UserWarning: Data Validation extension is not supported and will be removed\n",
      "  warn(msg)\n",
      "C:\\Users\\redda\\.conda\\envs\\py311\\Lib\\site-packages\\openpyxl\\worksheet\\_reader.py:329: UserWarning: Data Validation extension is not supported and will be removed\n",
      "  warn(msg)\n",
      "C:\\Users\\redda\\.conda\\envs\\py311\\Lib\\site-packages\\openpyxl\\worksheet\\_reader.py:329: UserWarning: Data Validation extension is not supported and will be removed\n",
      "  warn(msg)\n",
      "C:\\Users\\redda\\.conda\\envs\\py311\\Lib\\site-packages\\openpyxl\\worksheet\\_reader.py:329: UserWarning: Data Validation extension is not supported and will be removed\n",
      "  warn(msg)\n",
      "C:\\Users\\redda\\.conda\\envs\\py311\\Lib\\site-packages\\openpyxl\\worksheet\\_reader.py:329: UserWarning: Data Validation extension is not supported and will be removed\n",
      "  warn(msg)\n",
      "C:\\Users\\redda\\.conda\\envs\\py311\\Lib\\site-packages\\openpyxl\\worksheet\\_reader.py:329: UserWarning: Data Validation extension is not supported and will be removed\n",
      "  warn(msg)\n",
      "C:\\Users\\redda\\.conda\\envs\\py311\\Lib\\site-packages\\openpyxl\\worksheet\\_reader.py:329: UserWarning: Data Validation extension is not supported and will be removed\n",
      "  warn(msg)\n",
      "C:\\Users\\redda\\.conda\\envs\\py311\\Lib\\site-packages\\openpyxl\\worksheet\\_reader.py:329: UserWarning: Data Validation extension is not supported and will be removed\n",
      "  warn(msg)\n",
      "C:\\Users\\redda\\.conda\\envs\\py311\\Lib\\site-packages\\openpyxl\\worksheet\\_reader.py:329: UserWarning: Data Validation extension is not supported and will be removed\n",
      "  warn(msg)\n",
      "C:\\Users\\redda\\.conda\\envs\\py311\\Lib\\site-packages\\openpyxl\\worksheet\\_reader.py:329: UserWarning: Data Validation extension is not supported and will be removed\n",
      "  warn(msg)\n",
      "C:\\Users\\redda\\.conda\\envs\\py311\\Lib\\site-packages\\openpyxl\\worksheet\\_reader.py:329: UserWarning: Data Validation extension is not supported and will be removed\n",
      "  warn(msg)\n",
      "C:\\Users\\redda\\.conda\\envs\\py311\\Lib\\site-packages\\openpyxl\\worksheet\\_reader.py:329: UserWarning: Data Validation extension is not supported and will be removed\n",
      "  warn(msg)\n",
      "C:\\Users\\redda\\.conda\\envs\\py311\\Lib\\site-packages\\openpyxl\\worksheet\\_reader.py:329: UserWarning: Data Validation extension is not supported and will be removed\n",
      "  warn(msg)\n",
      "C:\\Users\\redda\\.conda\\envs\\py311\\Lib\\site-packages\\openpyxl\\worksheet\\_reader.py:329: UserWarning: Data Validation extension is not supported and will be removed\n",
      "  warn(msg)\n",
      "C:\\Users\\redda\\.conda\\envs\\py311\\Lib\\site-packages\\openpyxl\\worksheet\\_reader.py:329: UserWarning: Data Validation extension is not supported and will be removed\n",
      "  warn(msg)\n"
     ]
    }
   ],
   "source": [
    "#按照发票开具方式，及数量选择方式，生成对应的文件夹\n",
    "path1 = f'发票模板-按客户和存货编码-{shuliang_fangsi}'\n",
    "path1 = os.path.join(path,path1)\n",
    "if not os.path.exists(path1):\n",
    "    try:\n",
    "        os.mkdir(path1)\n",
    "    except:\n",
    "        pass\n",
    "\n",
    "gp = df_xiaoshou3.groupby('客户')\n",
    "for k,v  in gp:\n",
    "    gongsi = k\n",
    "    newname = getFapiaoMoban(gongsi,shuliang_fangsi)\n",
    "    pivot = getPivot(v)\n",
    "    # pivot1 = chuliMingchen(pivot)\n",
    "    fapiao = getFapiaoBen(pivot,shuilu,shuliang_fangsi)\n",
    "    with pd.ExcelWriter(newname, engine='openpyxl',mode='a', if_sheet_exists='overlay')  as writer:\n",
    "        fapiao.to_excel(writer, sheet_name = '1-明细模板',startrow=3, header = False,index = False)\n",
    "\n",
    "#按照发票开具方式，及数量选择方式，生成对应的文件夹\n",
    "path1 = f'发票模板-按销售订单和存货编码-{shuliang_fangsi}'\n",
    "path1 = os.path.join(path,path1)\n",
    "if not os.path.exists(path1):\n",
    "    try:\n",
    "        os.mkdir(path1)\n",
    "    except:\n",
    "        pass\n",
    "\n",
    "gp = df_xiaoshou3.groupby('单据编号')\n",
    "for k,v  in gp:\n",
    "    dingdanhao = k\n",
    "    gongsi = v['客户'].to_list()[0]\n",
    "    newname = getFapiaoMobanDingdanhao(gongsi,dingdanhao,shuliang_fangsi)\n",
    "    print(newname)\n",
    "    pivot = getPivot(v)\n",
    "    # pivot1 = chuliMingchen(pivot)\n",
    "    fapiao = getFapiaoBen(pivot,shuilu,shuliang_fangsi)\n",
    "    with pd.ExcelWriter(newname, engine='openpyxl',mode='a', if_sheet_exists='overlay')  as writer:\n",
    "        fapiao.to_excel(writer, sheet_name = '1-明细模板',startrow=3, header = False,index = False)\n",
    "\n",
    "#按照发票开具方式，及数量选择方式，生成对应的文件夹\n",
    "path1 = f'发票模板-按客户汇总-{shuliang_fangsi}'\n",
    "path1 = os.path.join(path,path1)\n",
    "if not os.path.exists(path1):\n",
    "    try:\n",
    "        os.mkdir(path1)\n",
    "    except:\n",
    "        pass\n",
    "     \n",
    "gp = df_xiaoshou3.groupby('客户')\n",
    "for k,v  in gp:\n",
    "    gongsi = k\n",
    "    newname = getFapiaoMoban(gongsi,shuliang_fangsi)\n",
    "    v1 = v.sum().T.to_frame().T\n",
    "    v1.loc[0,'存货名称'] = '*印刷品*本册'\n",
    "    v1.loc[0,'存货分类'] = '*印刷品*本册'\n",
    "    v1.loc[0,'存货编码'] = '*印刷品*本册'\n",
    "    v1.loc[0,'存货代码'] = '*印刷品*本册'\n",
    "    pivot = getPivot(v1)\n",
    "    # pivot1 = chuliMingchen(pivot)\n",
    "    fapiao = getFapiaoBen(pivot,shuilu,shuliang_fangsi)\n",
    "    with pd.ExcelWriter(newname, engine='openpyxl',mode='a', if_sheet_exists='overlay')  as writer:\n",
    "        fapiao.to_excel(writer, sheet_name = '1-明细模板',startrow=3, header = False,index = False)\n",
    "\n",
    "\n",
    "    \n"
   ]
  },
  {
   "cell_type": "code",
   "execution_count": 7,
   "id": "9a9e08d5-3a19-4335-8569-4df471e747ca",
   "metadata": {
    "scrolled": true
   },
   "outputs": [
    {
     "data": {
      "text/html": [
       "<div>\n",
       "<style scoped>\n",
       "    .dataframe tbody tr th:only-of-type {\n",
       "        vertical-align: middle;\n",
       "    }\n",
       "\n",
       "    .dataframe tbody tr th {\n",
       "        vertical-align: top;\n",
       "    }\n",
       "\n",
       "    .dataframe thead th {\n",
       "        text-align: right;\n",
       "    }\n",
       "</style>\n",
       "<table border=\"1\" class=\"dataframe\">\n",
       "  <thead>\n",
       "    <tr style=\"text-align: right;\">\n",
       "      <th></th>\n",
       "      <th>存货编码</th>\n",
       "      <th>含税金额</th>\n",
       "      <th>数量</th>\n",
       "      <th>数量（件）</th>\n",
       "      <th>存货分类</th>\n",
       "      <th>存货名称</th>\n",
       "      <th>存货代码</th>\n",
       "      <th>件含量</th>\n",
       "      <th>qian</th>\n",
       "      <th>hou</th>\n",
       "      <th>项目名称</th>\n",
       "      <th>商品和服务税收分类编码</th>\n",
       "      <th>规格型号</th>\n",
       "      <th>单位</th>\n",
       "      <th>商品数量</th>\n",
       "      <th>商品单价</th>\n",
       "      <th>金额</th>\n",
       "      <th>税率</th>\n",
       "      <th>折扣金额</th>\n",
       "      <th>优惠政策类型</th>\n",
       "    </tr>\n",
       "  </thead>\n",
       "  <tbody>\n",
       "    <tr>\n",
       "      <th>0</th>\n",
       "      <td>*印刷品*本册</td>\n",
       "      <td>6791.45</td>\n",
       "      <td>4892</td>\n",
       "      <td>23.0</td>\n",
       "      <td>*印刷品*本册</td>\n",
       "      <td>*印刷品*本册</td>\n",
       "      <td>*印刷品*本册</td>\n",
       "      <td>4292.0</td>\n",
       "      <td></td>\n",
       "      <td></td>\n",
       "      <td>*印刷品*本册</td>\n",
       "      <td>1060202010000000000</td>\n",
       "      <td></td>\n",
       "      <td>件</td>\n",
       "      <td>23.0</td>\n",
       "      <td></td>\n",
       "      <td>6791.45</td>\n",
       "      <td>0.13</td>\n",
       "      <td></td>\n",
       "      <td></td>\n",
       "    </tr>\n",
       "  </tbody>\n",
       "</table>\n",
       "</div>"
      ],
      "text/plain": [
       "      存货编码     含税金额    数量 数量（件）     存货分类     存货名称     存货代码     件含量 qian hou  \\\n",
       "0  *印刷品*本册  6791.45  4892  23.0  *印刷品*本册  *印刷品*本册  *印刷品*本册  4292.0            \n",
       "\n",
       "      项目名称          商品和服务税收分类编码 规格型号 单位  商品数量 商品单价       金额    税率 折扣金额 优惠政策类型  \n",
       "0  *印刷品*本册  1060202010000000000       件  23.0       6791.45  0.13              "
      ]
     },
     "execution_count": 7,
     "metadata": {},
     "output_type": "execute_result"
    }
   ],
   "source": [
    "\n",
    "    \n",
    "    \n",
    "    \n",
    "    \n",
    "    \n",
    "    pivot\n",
    "    \n",
    "    \n",
    "    \n",
    "    \n",
    "    \n"
   ]
  },
  {
   "cell_type": "code",
   "execution_count": 8,
   "id": "b5130b40-6c9b-45e6-bee3-0a88118ccfe4",
   "metadata": {},
   "outputs": [
    {
     "data": {
      "text/plain": [
       "<pandas.core.groupby.generic.DataFrameGroupBy object at 0x0000020A78248410>"
      ]
     },
     "execution_count": 8,
     "metadata": {},
     "output_type": "execute_result"
    }
   ],
   "source": [
    "gp"
   ]
  },
  {
   "cell_type": "code",
   "execution_count": 9,
   "id": "ccf7c807-6117-4d1a-80a2-07d897120350",
   "metadata": {},
   "outputs": [
    {
     "data": {
      "text/html": [
       "<div>\n",
       "<style scoped>\n",
       "    .dataframe tbody tr th:only-of-type {\n",
       "        vertical-align: middle;\n",
       "    }\n",
       "\n",
       "    .dataframe tbody tr th {\n",
       "        vertical-align: top;\n",
       "    }\n",
       "\n",
       "    .dataframe thead th {\n",
       "        text-align: right;\n",
       "    }\n",
       "</style>\n",
       "<table border=\"1\" class=\"dataframe\">\n",
       "  <thead>\n",
       "    <tr style=\"text-align: right;\">\n",
       "      <th></th>\n",
       "      <th>0</th>\n",
       "      <th>1</th>\n",
       "    </tr>\n",
       "  </thead>\n",
       "  <tbody>\n",
       "    <tr>\n",
       "      <th>0</th>\n",
       "      <td>上海流金岁月商贸有限公司</td>\n",
       "      <td>单据编号        单据日期    含税总金额     ...</td>\n",
       "    </tr>\n",
       "    <tr>\n",
       "      <th>1</th>\n",
       "      <td>临沂博涵文化用品有限公司</td>\n",
       "      <td>单据编号        单据日期     含税总金额    ...</td>\n",
       "    </tr>\n",
       "    <tr>\n",
       "      <th>2</th>\n",
       "      <td>临沂巧纳金纸品有限公司</td>\n",
       "      <td>单据编号        单据日期     含税总金额   ...</td>\n",
       "    </tr>\n",
       "    <tr>\n",
       "      <th>3</th>\n",
       "      <td>临沂李加朋</td>\n",
       "      <td>单据编号        单据日期     含税总金额    ...</td>\n",
       "    </tr>\n",
       "    <tr>\n",
       "      <th>4</th>\n",
       "      <td>义乌市博迅文体用品有限公司</td>\n",
       "      <td>单据编号        单据日期     含税总金额   ...</td>\n",
       "    </tr>\n",
       "    <tr>\n",
       "      <th>...</th>\n",
       "      <td>...</td>\n",
       "      <td>...</td>\n",
       "    </tr>\n",
       "    <tr>\n",
       "      <th>99</th>\n",
       "      <td>阜阳俊武文体商贸有限公司</td>\n",
       "      <td>单据编号        单据日期   含税总金额      ...</td>\n",
       "    </tr>\n",
       "    <tr>\n",
       "      <th>100</th>\n",
       "      <td>陕西富明文体用品有限公司</td>\n",
       "      <td>单据编号        单据日期    含税总金额     ...</td>\n",
       "    </tr>\n",
       "    <tr>\n",
       "      <th>101</th>\n",
       "      <td>青海一诺商贸有限公司</td>\n",
       "      <td>单据编号        单据日期     含税总金额    ...</td>\n",
       "    </tr>\n",
       "    <tr>\n",
       "      <th>102</th>\n",
       "      <td>鹤岗市超东选商贸有限公司</td>\n",
       "      <td>单据编号        单据日期     含税总金额    ...</td>\n",
       "    </tr>\n",
       "    <tr>\n",
       "      <th>103</th>\n",
       "      <td>龙岩连卫中</td>\n",
       "      <td>单据编号        单据日期    含税总金额    ...</td>\n",
       "    </tr>\n",
       "  </tbody>\n",
       "</table>\n",
       "<p>104 rows × 2 columns</p>\n",
       "</div>"
      ],
      "text/plain": [
       "                 0                                                  1\n",
       "0     上海流金岁月商贸有限公司                  单据编号        单据日期    含税总金额     ...\n",
       "1     临沂博涵文化用品有限公司                  单据编号        单据日期     含税总金额    ...\n",
       "2      临沂巧纳金纸品有限公司                   单据编号        单据日期     含税总金额   ...\n",
       "3            临沂李加朋                  单据编号        单据日期     含税总金额    ...\n",
       "4    义乌市博迅文体用品有限公司                   单据编号        单据日期     含税总金额   ...\n",
       "..             ...                                                ...\n",
       "99    阜阳俊武文体商贸有限公司                  单据编号        单据日期   含税总金额      ...\n",
       "100   陕西富明文体用品有限公司                  单据编号        单据日期    含税总金额     ...\n",
       "101     青海一诺商贸有限公司                  单据编号        单据日期     含税总金额    ...\n",
       "102   鹤岗市超东选商贸有限公司                  单据编号        单据日期     含税总金额    ...\n",
       "103          龙岩连卫中                   单据编号        单据日期    含税总金额    ...\n",
       "\n",
       "[104 rows x 2 columns]"
      ]
     },
     "execution_count": 9,
     "metadata": {},
     "output_type": "execute_result"
    }
   ],
   "source": [
    "df00 = pd.DataFrame(gp)\n",
    "df00"
   ]
  },
  {
   "cell_type": "code",
   "execution_count": 10,
   "id": "cfbcd86b-e624-40eb-819e-6fdbbf68445e",
   "metadata": {},
   "outputs": [
    {
     "data": {
      "text/html": [
       "<div>\n",
       "<style scoped>\n",
       "    .dataframe tbody tr th:only-of-type {\n",
       "        vertical-align: middle;\n",
       "    }\n",
       "\n",
       "    .dataframe tbody tr th {\n",
       "        vertical-align: top;\n",
       "    }\n",
       "\n",
       "    .dataframe thead th {\n",
       "        text-align: right;\n",
       "    }\n",
       "</style>\n",
       "<table border=\"1\" class=\"dataframe\">\n",
       "  <thead>\n",
       "    <tr style=\"text-align: right;\">\n",
       "      <th></th>\n",
       "      <th>单据编号</th>\n",
       "      <th>单据日期</th>\n",
       "      <th>含税总金额</th>\n",
       "      <th>存货名称</th>\n",
       "      <th>存货分类</th>\n",
       "      <th>存货编码</th>\n",
       "      <th>存货代码</th>\n",
       "      <th>数量</th>\n",
       "      <th>件含量</th>\n",
       "      <th>数量（件）</th>\n",
       "      <th>含税单价</th>\n",
       "      <th>含税金额</th>\n",
       "      <th>客户</th>\n",
       "    </tr>\n",
       "  </thead>\n",
       "  <tbody>\n",
       "    <tr>\n",
       "      <th>0</th>\n",
       "      <td>SO-2024-02-1418</td>\n",
       "      <td>2024-10-16</td>\n",
       "      <td>14064.05</td>\n",
       "      <td>A540型卡面无线胶订本</td>\n",
       "      <td>无线胶装软抄</td>\n",
       "      <td>N0671</td>\n",
       "      <td>抄本</td>\n",
       "      <td>3200</td>\n",
       "      <td>320.0</td>\n",
       "      <td>10.0</td>\n",
       "      <td>0.8352</td>\n",
       "      <td>2672.64</td>\n",
       "      <td>海南新宇晨办公用品有限公司</td>\n",
       "    </tr>\n",
       "    <tr>\n",
       "      <th>1</th>\n",
       "      <td>SO-2024-02-1418</td>\n",
       "      <td>2024-10-16</td>\n",
       "      <td>14064.05</td>\n",
       "      <td>A560型卡面无线胶订本</td>\n",
       "      <td>无线胶装软抄</td>\n",
       "      <td>N0672</td>\n",
       "      <td>抄本</td>\n",
       "      <td>1440</td>\n",
       "      <td>240.0</td>\n",
       "      <td>6.0</td>\n",
       "      <td>1.1712</td>\n",
       "      <td>1686.53</td>\n",
       "      <td>海南新宇晨办公用品有限公司</td>\n",
       "    </tr>\n",
       "    <tr>\n",
       "      <th>2</th>\n",
       "      <td>SO-2024-02-1418</td>\n",
       "      <td>2024-10-16</td>\n",
       "      <td>14064.05</td>\n",
       "      <td>A580型卡面无线胶订本</td>\n",
       "      <td>无线胶装软抄</td>\n",
       "      <td>N0673</td>\n",
       "      <td>抄本</td>\n",
       "      <td>540</td>\n",
       "      <td>180.0</td>\n",
       "      <td>3.0</td>\n",
       "      <td>1.5456</td>\n",
       "      <td>834.62</td>\n",
       "      <td>海南新宇晨办公用品有限公司</td>\n",
       "    </tr>\n",
       "    <tr>\n",
       "      <th>3</th>\n",
       "      <td>SO-2024-02-1418</td>\n",
       "      <td>2024-10-16</td>\n",
       "      <td>14064.05</td>\n",
       "      <td>A5100型卡面无线胶订本</td>\n",
       "      <td>无线胶装软抄</td>\n",
       "      <td>N0674</td>\n",
       "      <td>抄本</td>\n",
       "      <td>560</td>\n",
       "      <td>140.0</td>\n",
       "      <td>4.0</td>\n",
       "      <td>1.8912</td>\n",
       "      <td>1059.07</td>\n",
       "      <td>海南新宇晨办公用品有限公司</td>\n",
       "    </tr>\n",
       "    <tr>\n",
       "      <th>4</th>\n",
       "      <td>SO-2024-02-1418</td>\n",
       "      <td>2024-10-16</td>\n",
       "      <td>14064.05</td>\n",
       "      <td>A540型牛卡无线胶订本</td>\n",
       "      <td>无线胶装软抄</td>\n",
       "      <td>N0681</td>\n",
       "      <td>抄本</td>\n",
       "      <td>1600</td>\n",
       "      <td>320.0</td>\n",
       "      <td>5.0</td>\n",
       "      <td>0.8352</td>\n",
       "      <td>1336.32</td>\n",
       "      <td>海南新宇晨办公用品有限公司</td>\n",
       "    </tr>\n",
       "    <tr>\n",
       "      <th>...</th>\n",
       "      <td>...</td>\n",
       "      <td>...</td>\n",
       "      <td>...</td>\n",
       "      <td>...</td>\n",
       "      <td>...</td>\n",
       "      <td>...</td>\n",
       "      <td>...</td>\n",
       "      <td>...</td>\n",
       "      <td>...</td>\n",
       "      <td>...</td>\n",
       "      <td>...</td>\n",
       "      <td>...</td>\n",
       "      <td>...</td>\n",
       "    </tr>\n",
       "    <tr>\n",
       "      <th>2159</th>\n",
       "      <td>SO-2024-02-1419</td>\n",
       "      <td>2024-10-15</td>\n",
       "      <td>47469.60</td>\n",
       "      <td>16K银行存款日记账</td>\n",
       "      <td>纸面账簿</td>\n",
       "      <td>6003</td>\n",
       "      <td>账本</td>\n",
       "      <td>300</td>\n",
       "      <td>60.0</td>\n",
       "      <td>5.0</td>\n",
       "      <td>5.5440</td>\n",
       "      <td>1663.20</td>\n",
       "      <td>品壹佰河北商贸有限公司</td>\n",
       "    </tr>\n",
       "    <tr>\n",
       "      <th>2160</th>\n",
       "      <td>SO-2024-02-1419</td>\n",
       "      <td>2024-10-15</td>\n",
       "      <td>47469.60</td>\n",
       "      <td>A480型牛皮无线胶订本</td>\n",
       "      <td>无线胶装软抄</td>\n",
       "      <td>N0697</td>\n",
       "      <td>抄本</td>\n",
       "      <td>100</td>\n",
       "      <td>100.0</td>\n",
       "      <td>1.0</td>\n",
       "      <td>3.3840</td>\n",
       "      <td>338.40</td>\n",
       "      <td>品壹佰河北商贸有限公司</td>\n",
       "    </tr>\n",
       "    <tr>\n",
       "      <th>2161</th>\n",
       "      <td>SO-2024-02-1419</td>\n",
       "      <td>2024-10-15</td>\n",
       "      <td>47469.60</td>\n",
       "      <td>A4100型牛皮无线胶订本</td>\n",
       "      <td>无线胶装软抄</td>\n",
       "      <td>N0698</td>\n",
       "      <td>抄本</td>\n",
       "      <td>80</td>\n",
       "      <td>80.0</td>\n",
       "      <td>1.0</td>\n",
       "      <td>4.3710</td>\n",
       "      <td>349.68</td>\n",
       "      <td>品壹佰河北商贸有限公司</td>\n",
       "    </tr>\n",
       "    <tr>\n",
       "      <th>2162</th>\n",
       "      <td>SO-2024-02-1419</td>\n",
       "      <td>2024-10-15</td>\n",
       "      <td>47469.60</td>\n",
       "      <td>16K现金日记账</td>\n",
       "      <td>纸面账簿</td>\n",
       "      <td>6105</td>\n",
       "      <td>账本</td>\n",
       "      <td>200</td>\n",
       "      <td>40.0</td>\n",
       "      <td>5.0</td>\n",
       "      <td>7.8720</td>\n",
       "      <td>1574.40</td>\n",
       "      <td>品壹佰河北商贸有限公司</td>\n",
       "    </tr>\n",
       "    <tr>\n",
       "      <th>2163</th>\n",
       "      <td>SO-2024-02-1419</td>\n",
       "      <td>2024-10-15</td>\n",
       "      <td>47469.60</td>\n",
       "      <td>运费</td>\n",
       "      <td>折扣类</td>\n",
       "      <td>8888</td>\n",
       "      <td>抄本</td>\n",
       "      <td>0</td>\n",
       "      <td>NaN</td>\n",
       "      <td>NaN</td>\n",
       "      <td>NaN</td>\n",
       "      <td>-107.80</td>\n",
       "      <td>品壹佰河北商贸有限公司</td>\n",
       "    </tr>\n",
       "  </tbody>\n",
       "</table>\n",
       "<p>3326 rows × 13 columns</p>\n",
       "</div>"
      ],
      "text/plain": [
       "                 单据编号        单据日期     含税总金额           存货名称    存货分类   存货编码  \\\n",
       "0     SO-2024-02-1418  2024-10-16  14064.05   A540型卡面无线胶订本  无线胶装软抄  N0671   \n",
       "1     SO-2024-02-1418  2024-10-16  14064.05   A560型卡面无线胶订本  无线胶装软抄  N0672   \n",
       "2     SO-2024-02-1418  2024-10-16  14064.05   A580型卡面无线胶订本  无线胶装软抄  N0673   \n",
       "3     SO-2024-02-1418  2024-10-16  14064.05  A5100型卡面无线胶订本  无线胶装软抄  N0674   \n",
       "4     SO-2024-02-1418  2024-10-16  14064.05   A540型牛卡无线胶订本  无线胶装软抄  N0681   \n",
       "...               ...         ...       ...            ...     ...    ...   \n",
       "2159  SO-2024-02-1419  2024-10-15  47469.60     16K银行存款日记账    纸面账簿   6003   \n",
       "2160  SO-2024-02-1419  2024-10-15  47469.60   A480型牛皮无线胶订本  无线胶装软抄  N0697   \n",
       "2161  SO-2024-02-1419  2024-10-15  47469.60  A4100型牛皮无线胶订本  无线胶装软抄  N0698   \n",
       "2162  SO-2024-02-1419  2024-10-15  47469.60       16K现金日记账    纸面账簿   6105   \n",
       "2163  SO-2024-02-1419  2024-10-15  47469.60             运费     折扣类   8888   \n",
       "\n",
       "     存货代码    数量    件含量  数量（件）    含税单价     含税金额             客户  \n",
       "0      抄本  3200  320.0   10.0  0.8352  2672.64  海南新宇晨办公用品有限公司  \n",
       "1      抄本  1440  240.0    6.0  1.1712  1686.53  海南新宇晨办公用品有限公司  \n",
       "2      抄本   540  180.0    3.0  1.5456   834.62  海南新宇晨办公用品有限公司  \n",
       "3      抄本   560  140.0    4.0  1.8912  1059.07  海南新宇晨办公用品有限公司  \n",
       "4      抄本  1600  320.0    5.0  0.8352  1336.32  海南新宇晨办公用品有限公司  \n",
       "...   ...   ...    ...    ...     ...      ...            ...  \n",
       "2159   账本   300   60.0    5.0  5.5440  1663.20    品壹佰河北商贸有限公司  \n",
       "2160   抄本   100  100.0    1.0  3.3840   338.40    品壹佰河北商贸有限公司  \n",
       "2161   抄本    80   80.0    1.0  4.3710   349.68    品壹佰河北商贸有限公司  \n",
       "2162   账本   200   40.0    5.0  7.8720  1574.40    品壹佰河北商贸有限公司  \n",
       "2163   抄本     0    NaN    NaN     NaN  -107.80    品壹佰河北商贸有限公司  \n",
       "\n",
       "[3326 rows x 13 columns]"
      ]
     },
     "execution_count": 10,
     "metadata": {},
     "output_type": "execute_result"
    }
   ],
   "source": [
    "df_xiaoshou3"
   ]
  },
  {
   "cell_type": "code",
   "execution_count": 12,
   "id": "30edcdb3-41cc-4655-b8fb-1c3fc8b45a20",
   "metadata": {},
   "outputs": [],
   "source": [
    "df_xiaoshou3.to_excel('beforr_gp.xlsx')"
   ]
  },
  {
   "cell_type": "code",
   "execution_count": 51,
   "id": "685e6425-c08d-48a8-9663-7962a0329c72",
   "metadata": {},
   "outputs": [],
   "source": [
    "dff = df_xiaoshou3.copy()"
   ]
  },
  {
   "cell_type": "code",
   "execution_count": 14,
   "id": "c07888b0-920c-4642-8f0a-bb3ec717c37b",
   "metadata": {},
   "outputs": [
    {
     "ename": "AttributeError",
     "evalue": "'StringMethods' object has no attribute 'isinstance'",
     "output_type": "error",
     "traceback": [
      "\u001b[1;31m---------------------------------------------------------------------------\u001b[0m",
      "\u001b[1;31mAttributeError\u001b[0m                            Traceback (most recent call last)",
      "Cell \u001b[1;32mIn[14], line 1\u001b[0m\n\u001b[1;32m----> 1\u001b[0m \u001b[43mdff\u001b[49m\u001b[43m[\u001b[49m\u001b[38;5;124;43m'\u001b[39;49m\u001b[38;5;124;43m存货编码\u001b[39;49m\u001b[38;5;124;43m'\u001b[39;49m\u001b[43m]\u001b[49m\u001b[38;5;241;43m.\u001b[39;49m\u001b[43mstr\u001b[49m\u001b[38;5;241;43m.\u001b[39;49m\u001b[43misinstance\u001b[49m(\u001b[38;5;124m'\u001b[39m\u001b[38;5;124mint\u001b[39m\u001b[38;5;124m'\u001b[39m)\n",
      "\u001b[1;31mAttributeError\u001b[0m: 'StringMethods' object has no attribute 'isinstance'"
     ]
    }
   ],
   "source": [
    "dff['存货编码'].str.isinstance('int')"
   ]
  },
  {
   "cell_type": "code",
   "execution_count": 15,
   "id": "1a68c3dc-e0e7-45d5-aae1-efb12a63c5ae",
   "metadata": {},
   "outputs": [
    {
     "ename": "AttributeError",
     "evalue": "'str' object has no attribute 'isinstance'",
     "output_type": "error",
     "traceback": [
      "\u001b[1;31m---------------------------------------------------------------------------\u001b[0m",
      "\u001b[1;31mAttributeError\u001b[0m                            Traceback (most recent call last)",
      "Cell \u001b[1;32mIn[15], line 1\u001b[0m\n\u001b[1;32m----> 1\u001b[0m \u001b[38;5;124;43m'\u001b[39;49m\u001b[38;5;124;43m111\u001b[39;49m\u001b[38;5;124;43m'\u001b[39;49m\u001b[38;5;241;43m.\u001b[39;49m\u001b[43misinstance\u001b[49m(\u001b[38;5;124m'\u001b[39m\u001b[38;5;124mint\u001b[39m\u001b[38;5;124m'\u001b[39m)\n",
      "\u001b[1;31mAttributeError\u001b[0m: 'str' object has no attribute 'isinstance'"
     ]
    }
   ],
   "source": [
    "'111'.isinstance('int')"
   ]
  },
  {
   "cell_type": "code",
   "execution_count": 17,
   "id": "2fc749f1-62f2-43f1-ab16-7638f72a0f66",
   "metadata": {},
   "outputs": [
    {
     "data": {
      "text/plain": [
       "True"
      ]
     },
     "execution_count": 17,
     "metadata": {},
     "output_type": "execute_result"
    }
   ],
   "source": [
    "isinstance(111,int)"
   ]
  },
  {
   "cell_type": "code",
   "execution_count": 23,
   "id": "76d8f880-1bf2-4d26-972d-b99024113d67",
   "metadata": {},
   "outputs": [],
   "source": [
    "def chuliZhangben(str1,str2):\n",
    "    if isinstance(str1,int):\n",
    "        if 'K' in str2:\n",
    "            qian,hou = str2.split('K')\n",
    "        elif 'k' in str2:\n",
    "            qian,hou = str2.split('k')\n",
    "        else :\n",
    "            qian = ''\n",
    "            hou = str2\n",
    "            \n",
    "        str1 = str(str1) + 'hou'\n",
    "        str2 = str2\n",
    "    else:\n",
    "        str1 = str1\n",
    "        str2 = str2\n",
    "    return str1,str2\n",
    "    "
   ]
  },
  {
   "cell_type": "code",
   "execution_count": 29,
   "id": "0e646a7d-3263-4363-a9ca-d9e6d531c1f6",
   "metadata": {},
   "outputs": [
    {
     "data": {
      "text/plain": [
       "('111hou', '48K菜单')"
      ]
     },
     "execution_count": 29,
     "metadata": {},
     "output_type": "execute_result"
    }
   ],
   "source": [
    "chuliZhangben(111,'48K菜单')"
   ]
  },
  {
   "cell_type": "code",
   "execution_count": 28,
   "id": "0481ccfb-2e65-4d86-989f-30d061a1e2e2",
   "metadata": {},
   "outputs": [
    {
     "ename": "SyntaxError",
     "evalue": "unterminated string literal (detected at line 1) (132992160.py, line 1)",
     "output_type": "error",
     "traceback": [
      "\u001b[1;36m  Cell \u001b[1;32mIn[28], line 1\u001b[1;36m\u001b[0m\n\u001b[1;33m    dff = dff.assign(kaibie=dff.map(lambda x,y: chuliZhangben(dff['存货编码'],dff['存货名称’])\u001b[0m\n\u001b[1;37m                                                                              ^\u001b[0m\n\u001b[1;31mSyntaxError\u001b[0m\u001b[1;31m:\u001b[0m unterminated string literal (detected at line 1)\n"
     ]
    }
   ],
   "source": [
    "dff = dff.assign(kaibie=dff.map(lambda x,y: chuliZhangben(dff['存货编码'],dff['存货名称’])\n",
    "                                                          \n",
    "                                                          \n",
    "                                                          "
   ]
  },
  {
   "cell_type": "code",
   "execution_count": 25,
   "id": "5c68c454-5dca-464d-8455-a68614a424ab",
   "metadata": {},
   "outputs": [
    {
     "ename": "SyntaxError",
     "evalue": "invalid character '］' (U+FF3D) (2288988702.py, line 1)",
     "output_type": "error",
     "traceback": [
      "\u001b[1;36m  Cell \u001b[1;32mIn[25], line 1\u001b[1;36m\u001b[0m\n\u001b[1;33m    dff = dff.assign(kaibie=dff.map(lambda x,y: chuliZhangben(dff['存货编码'］,dff['存货名称’]))）\u001b[0m\n\u001b[1;37m                                                                        ^\u001b[0m\n\u001b[1;31mSyntaxError\u001b[0m\u001b[1;31m:\u001b[0m invalid character '］' (U+FF3D)\n"
     ]
    }
   ],
   "source": [
    "dff = dff.assign(kaibie=dff.map(lambda x,y: chuliZhangben(dff['存货编码'],dff['存货名称’]))))\n",
    "                                                          "
   ]
  },
  {
   "cell_type": "code",
   "execution_count": 38,
   "id": "fba2cc8c-29d8-4307-a308-c909789637ff",
   "metadata": {},
   "outputs": [
    {
     "ename": "ValueError",
     "evalue": "invalid literal for int() with base 10: 'N0671'",
     "output_type": "error",
     "traceback": [
      "\u001b[1;31m---------------------------------------------------------------------------\u001b[0m",
      "\u001b[1;31mValueError\u001b[0m                                Traceback (most recent call last)",
      "Cell \u001b[1;32mIn[38], line 1\u001b[0m\n\u001b[1;32m----> 1\u001b[0m \u001b[43mdff\u001b[49m\u001b[43m[\u001b[49m\u001b[38;5;124;43m'\u001b[39;49m\u001b[38;5;124;43m存货编码\u001b[39;49m\u001b[38;5;124;43m'\u001b[39;49m\u001b[43m]\u001b[49m\u001b[38;5;241;43m.\u001b[39;49m\u001b[43mmap\u001b[49m\u001b[43m(\u001b[49m\u001b[38;5;28;43;01mlambda\u001b[39;49;00m\u001b[43m \u001b[49m\u001b[43mx\u001b[49m\u001b[43m:\u001b[49m\u001b[43mchuliZhangben\u001b[49m\u001b[43m(\u001b[49m\u001b[43mx\u001b[49m\u001b[43m)\u001b[49m\u001b[43m)\u001b[49m\n",
      "File \u001b[1;32m~\\.conda\\envs\\py311\\Lib\\site-packages\\pandas\\core\\series.py:4700\u001b[0m, in \u001b[0;36mSeries.map\u001b[1;34m(self, arg, na_action)\u001b[0m\n\u001b[0;32m   4620\u001b[0m \u001b[38;5;28;01mdef\u001b[39;00m \u001b[38;5;21mmap\u001b[39m(\n\u001b[0;32m   4621\u001b[0m     \u001b[38;5;28mself\u001b[39m,\n\u001b[0;32m   4622\u001b[0m     arg: Callable \u001b[38;5;241m|\u001b[39m Mapping \u001b[38;5;241m|\u001b[39m Series,\n\u001b[0;32m   4623\u001b[0m     na_action: Literal[\u001b[38;5;124m\"\u001b[39m\u001b[38;5;124mignore\u001b[39m\u001b[38;5;124m\"\u001b[39m] \u001b[38;5;241m|\u001b[39m \u001b[38;5;28;01mNone\u001b[39;00m \u001b[38;5;241m=\u001b[39m \u001b[38;5;28;01mNone\u001b[39;00m,\n\u001b[0;32m   4624\u001b[0m ) \u001b[38;5;241m-\u001b[39m\u001b[38;5;241m>\u001b[39m Series:\n\u001b[0;32m   4625\u001b[0m \u001b[38;5;250m    \u001b[39m\u001b[38;5;124;03m\"\"\"\u001b[39;00m\n\u001b[0;32m   4626\u001b[0m \u001b[38;5;124;03m    Map values of Series according to an input mapping or function.\u001b[39;00m\n\u001b[0;32m   4627\u001b[0m \n\u001b[1;32m   (...)\u001b[0m\n\u001b[0;32m   4698\u001b[0m \u001b[38;5;124;03m    dtype: object\u001b[39;00m\n\u001b[0;32m   4699\u001b[0m \u001b[38;5;124;03m    \"\"\"\u001b[39;00m\n\u001b[1;32m-> 4700\u001b[0m     new_values \u001b[38;5;241m=\u001b[39m \u001b[38;5;28;43mself\u001b[39;49m\u001b[38;5;241;43m.\u001b[39;49m\u001b[43m_map_values\u001b[49m\u001b[43m(\u001b[49m\u001b[43marg\u001b[49m\u001b[43m,\u001b[49m\u001b[43m \u001b[49m\u001b[43mna_action\u001b[49m\u001b[38;5;241;43m=\u001b[39;49m\u001b[43mna_action\u001b[49m\u001b[43m)\u001b[49m\n\u001b[0;32m   4701\u001b[0m     \u001b[38;5;28;01mreturn\u001b[39;00m \u001b[38;5;28mself\u001b[39m\u001b[38;5;241m.\u001b[39m_constructor(new_values, index\u001b[38;5;241m=\u001b[39m\u001b[38;5;28mself\u001b[39m\u001b[38;5;241m.\u001b[39mindex, copy\u001b[38;5;241m=\u001b[39m\u001b[38;5;28;01mFalse\u001b[39;00m)\u001b[38;5;241m.\u001b[39m__finalize__(\n\u001b[0;32m   4702\u001b[0m         \u001b[38;5;28mself\u001b[39m, method\u001b[38;5;241m=\u001b[39m\u001b[38;5;124m\"\u001b[39m\u001b[38;5;124mmap\u001b[39m\u001b[38;5;124m\"\u001b[39m\n\u001b[0;32m   4703\u001b[0m     )\n",
      "File \u001b[1;32m~\\.conda\\envs\\py311\\Lib\\site-packages\\pandas\\core\\base.py:921\u001b[0m, in \u001b[0;36mIndexOpsMixin._map_values\u001b[1;34m(self, mapper, na_action, convert)\u001b[0m\n\u001b[0;32m    918\u001b[0m \u001b[38;5;28;01mif\u001b[39;00m \u001b[38;5;28misinstance\u001b[39m(arr, ExtensionArray):\n\u001b[0;32m    919\u001b[0m     \u001b[38;5;28;01mreturn\u001b[39;00m arr\u001b[38;5;241m.\u001b[39mmap(mapper, na_action\u001b[38;5;241m=\u001b[39mna_action)\n\u001b[1;32m--> 921\u001b[0m \u001b[38;5;28;01mreturn\u001b[39;00m \u001b[43malgorithms\u001b[49m\u001b[38;5;241;43m.\u001b[39;49m\u001b[43mmap_array\u001b[49m\u001b[43m(\u001b[49m\u001b[43marr\u001b[49m\u001b[43m,\u001b[49m\u001b[43m \u001b[49m\u001b[43mmapper\u001b[49m\u001b[43m,\u001b[49m\u001b[43m \u001b[49m\u001b[43mna_action\u001b[49m\u001b[38;5;241;43m=\u001b[39;49m\u001b[43mna_action\u001b[49m\u001b[43m,\u001b[49m\u001b[43m \u001b[49m\u001b[43mconvert\u001b[49m\u001b[38;5;241;43m=\u001b[39;49m\u001b[43mconvert\u001b[49m\u001b[43m)\u001b[49m\n",
      "File \u001b[1;32m~\\.conda\\envs\\py311\\Lib\\site-packages\\pandas\\core\\algorithms.py:1743\u001b[0m, in \u001b[0;36mmap_array\u001b[1;34m(arr, mapper, na_action, convert)\u001b[0m\n\u001b[0;32m   1741\u001b[0m values \u001b[38;5;241m=\u001b[39m arr\u001b[38;5;241m.\u001b[39mastype(\u001b[38;5;28mobject\u001b[39m, copy\u001b[38;5;241m=\u001b[39m\u001b[38;5;28;01mFalse\u001b[39;00m)\n\u001b[0;32m   1742\u001b[0m \u001b[38;5;28;01mif\u001b[39;00m na_action \u001b[38;5;129;01mis\u001b[39;00m \u001b[38;5;28;01mNone\u001b[39;00m:\n\u001b[1;32m-> 1743\u001b[0m     \u001b[38;5;28;01mreturn\u001b[39;00m \u001b[43mlib\u001b[49m\u001b[38;5;241;43m.\u001b[39;49m\u001b[43mmap_infer\u001b[49m\u001b[43m(\u001b[49m\u001b[43mvalues\u001b[49m\u001b[43m,\u001b[49m\u001b[43m \u001b[49m\u001b[43mmapper\u001b[49m\u001b[43m,\u001b[49m\u001b[43m \u001b[49m\u001b[43mconvert\u001b[49m\u001b[38;5;241;43m=\u001b[39;49m\u001b[43mconvert\u001b[49m\u001b[43m)\u001b[49m\n\u001b[0;32m   1744\u001b[0m \u001b[38;5;28;01melse\u001b[39;00m:\n\u001b[0;32m   1745\u001b[0m     \u001b[38;5;28;01mreturn\u001b[39;00m lib\u001b[38;5;241m.\u001b[39mmap_infer_mask(\n\u001b[0;32m   1746\u001b[0m         values, mapper, mask\u001b[38;5;241m=\u001b[39misna(values)\u001b[38;5;241m.\u001b[39mview(np\u001b[38;5;241m.\u001b[39muint8), convert\u001b[38;5;241m=\u001b[39mconvert\n\u001b[0;32m   1747\u001b[0m     )\n",
      "File \u001b[1;32mlib.pyx:2972\u001b[0m, in \u001b[0;36mpandas._libs.lib.map_infer\u001b[1;34m()\u001b[0m\n",
      "Cell \u001b[1;32mIn[38], line 1\u001b[0m, in \u001b[0;36m<lambda>\u001b[1;34m(x)\u001b[0m\n\u001b[1;32m----> 1\u001b[0m dff[\u001b[38;5;124m'\u001b[39m\u001b[38;5;124m存货编码\u001b[39m\u001b[38;5;124m'\u001b[39m]\u001b[38;5;241m.\u001b[39mmap(\u001b[38;5;28;01mlambda\u001b[39;00m x:\u001b[43mchuliZhangben\u001b[49m\u001b[43m(\u001b[49m\u001b[43mx\u001b[49m\u001b[43m)\u001b[49m)\n",
      "Cell \u001b[1;32mIn[37], line 2\u001b[0m, in \u001b[0;36mchuliZhangben\u001b[1;34m(str1)\u001b[0m\n\u001b[0;32m      1\u001b[0m \u001b[38;5;28;01mdef\u001b[39;00m \u001b[38;5;21mchuliZhangben\u001b[39m(str1):\n\u001b[1;32m----> 2\u001b[0m     \u001b[38;5;28;01mif\u001b[39;00m \u001b[38;5;28misinstance\u001b[39m(\u001b[38;5;28;43mint\u001b[39;49m\u001b[43m(\u001b[49m\u001b[43mstr1\u001b[49m\u001b[43m)\u001b[49m,\u001b[38;5;28mint\u001b[39m):\n\u001b[0;32m      3\u001b[0m         \u001b[38;5;28;01mreturn\u001b[39;00m TRUE\n\u001b[0;32m      4\u001b[0m     \u001b[38;5;28;01melse\u001b[39;00m :\n",
      "\u001b[1;31mValueError\u001b[0m: invalid literal for int() with base 10: 'N0671'"
     ]
    }
   ],
   "source": []
  },
  {
   "cell_type": "code",
   "execution_count": 42,
   "id": "402433ae-5d28-43ef-a175-fe4d3ae5bfe8",
   "metadata": {},
   "outputs": [],
   "source": [
    "def chuliZhangben(str1):\n",
    "    try :\n",
    "        str1 = int(str1)\n",
    "        if isinstance(str1,int):\n",
    "            return True\n",
    "        else:\n",
    "            return False\n",
    "    except:\n",
    "        str1 = str1\n",
    "        return False\n",
    "\n",
    "        \n",
    "          \n",
    "   "
   ]
  },
  {
   "cell_type": "code",
   "execution_count": 43,
   "id": "4e6232ea-ac04-45a5-8e26-2de15406450e",
   "metadata": {},
   "outputs": [
    {
     "data": {
      "text/plain": [
       "0       False\n",
       "1       False\n",
       "2       False\n",
       "3       False\n",
       "4       False\n",
       "        ...  \n",
       "2159     True\n",
       "2160    False\n",
       "2161    False\n",
       "2162     True\n",
       "2163     True\n",
       "Name: 存货编码, Length: 3326, dtype: bool"
      ]
     },
     "execution_count": 43,
     "metadata": {},
     "output_type": "execute_result"
    }
   ],
   "source": [
    "dff['存货编码'].map(lambda x:chuliZhangben(x))"
   ]
  },
  {
   "cell_type": "code",
   "execution_count": 65,
   "id": "c37f408e-6996-4608-b157-faf5f9d14d18",
   "metadata": {},
   "outputs": [
    {
     "ename": "ValueError",
     "evalue": "cannot reindex on an axis with duplicate labels",
     "output_type": "error",
     "traceback": [
      "\u001b[1;31m---------------------------------------------------------------------------\u001b[0m",
      "\u001b[1;31mValueError\u001b[0m                                Traceback (most recent call last)",
      "Cell \u001b[1;32mIn[65], line 1\u001b[0m\n\u001b[1;32m----> 1\u001b[0m dff1 \u001b[38;5;241m=\u001b[39m \u001b[43mdff\u001b[49m\u001b[38;5;241;43m.\u001b[39;49m\u001b[43massign\u001b[49m\u001b[43m(\u001b[49m\u001b[43mqian1\u001b[49m\u001b[43m \u001b[49m\u001b[38;5;241;43m=\u001b[39;49m\u001b[43m \u001b[49m\u001b[38;5;28;43;01mlambda\u001b[39;49;00m\u001b[43m \u001b[49m\u001b[43mx\u001b[49m\u001b[43m:\u001b[49m\u001b[43mx\u001b[49m\u001b[43m[\u001b[49m\u001b[38;5;124;43m'\u001b[39;49m\u001b[38;5;124;43m存货名称\u001b[39;49m\u001b[38;5;124;43m'\u001b[39;49m\u001b[43m]\u001b[49m\u001b[38;5;241;43m.\u001b[39;49m\u001b[43mstr\u001b[49m\u001b[38;5;241;43m.\u001b[39;49m\u001b[43msplit\u001b[49m\u001b[43m(\u001b[49m\u001b[38;5;124;43m'\u001b[39;49m\u001b[38;5;124;43mK\u001b[39;49m\u001b[38;5;124;43m'\u001b[39;49m\u001b[43m)\u001b[49m\u001b[43m[\u001b[49m\u001b[38;5;241;43m0\u001b[39;49m\u001b[43m]\u001b[49m\u001b[43m)\u001b[49m\n\u001b[0;32m      2\u001b[0m dff1\n",
      "File \u001b[1;32m~\\.conda\\envs\\py311\\Lib\\site-packages\\pandas\\core\\frame.py:5239\u001b[0m, in \u001b[0;36mDataFrame.assign\u001b[1;34m(self, **kwargs)\u001b[0m\n\u001b[0;32m   5236\u001b[0m data \u001b[38;5;241m=\u001b[39m \u001b[38;5;28mself\u001b[39m\u001b[38;5;241m.\u001b[39mcopy(deep\u001b[38;5;241m=\u001b[39m\u001b[38;5;28;01mNone\u001b[39;00m)\n\u001b[0;32m   5238\u001b[0m \u001b[38;5;28;01mfor\u001b[39;00m k, v \u001b[38;5;129;01min\u001b[39;00m kwargs\u001b[38;5;241m.\u001b[39mitems():\n\u001b[1;32m-> 5239\u001b[0m     \u001b[43mdata\u001b[49m\u001b[43m[\u001b[49m\u001b[43mk\u001b[49m\u001b[43m]\u001b[49m \u001b[38;5;241m=\u001b[39m com\u001b[38;5;241m.\u001b[39mapply_if_callable(v, data)\n\u001b[0;32m   5240\u001b[0m \u001b[38;5;28;01mreturn\u001b[39;00m data\n",
      "File \u001b[1;32m~\\.conda\\envs\\py311\\Lib\\site-packages\\pandas\\core\\frame.py:4311\u001b[0m, in \u001b[0;36mDataFrame.__setitem__\u001b[1;34m(self, key, value)\u001b[0m\n\u001b[0;32m   4308\u001b[0m     \u001b[38;5;28mself\u001b[39m\u001b[38;5;241m.\u001b[39m_setitem_array([key], value)\n\u001b[0;32m   4309\u001b[0m \u001b[38;5;28;01melse\u001b[39;00m:\n\u001b[0;32m   4310\u001b[0m     \u001b[38;5;66;03m# set column\u001b[39;00m\n\u001b[1;32m-> 4311\u001b[0m     \u001b[38;5;28;43mself\u001b[39;49m\u001b[38;5;241;43m.\u001b[39;49m\u001b[43m_set_item\u001b[49m\u001b[43m(\u001b[49m\u001b[43mkey\u001b[49m\u001b[43m,\u001b[49m\u001b[43m \u001b[49m\u001b[43mvalue\u001b[49m\u001b[43m)\u001b[49m\n",
      "File \u001b[1;32m~\\.conda\\envs\\py311\\Lib\\site-packages\\pandas\\core\\frame.py:4524\u001b[0m, in \u001b[0;36mDataFrame._set_item\u001b[1;34m(self, key, value)\u001b[0m\n\u001b[0;32m   4514\u001b[0m \u001b[38;5;28;01mdef\u001b[39;00m \u001b[38;5;21m_set_item\u001b[39m(\u001b[38;5;28mself\u001b[39m, key, value) \u001b[38;5;241m-\u001b[39m\u001b[38;5;241m>\u001b[39m \u001b[38;5;28;01mNone\u001b[39;00m:\n\u001b[0;32m   4515\u001b[0m \u001b[38;5;250m    \u001b[39m\u001b[38;5;124;03m\"\"\"\u001b[39;00m\n\u001b[0;32m   4516\u001b[0m \u001b[38;5;124;03m    Add series to DataFrame in specified column.\u001b[39;00m\n\u001b[0;32m   4517\u001b[0m \n\u001b[1;32m   (...)\u001b[0m\n\u001b[0;32m   4522\u001b[0m \u001b[38;5;124;03m    ensure homogeneity.\u001b[39;00m\n\u001b[0;32m   4523\u001b[0m \u001b[38;5;124;03m    \"\"\"\u001b[39;00m\n\u001b[1;32m-> 4524\u001b[0m     value, refs \u001b[38;5;241m=\u001b[39m \u001b[38;5;28;43mself\u001b[39;49m\u001b[38;5;241;43m.\u001b[39;49m\u001b[43m_sanitize_column\u001b[49m\u001b[43m(\u001b[49m\u001b[43mvalue\u001b[49m\u001b[43m)\u001b[49m\n\u001b[0;32m   4526\u001b[0m     \u001b[38;5;28;01mif\u001b[39;00m (\n\u001b[0;32m   4527\u001b[0m         key \u001b[38;5;129;01min\u001b[39;00m \u001b[38;5;28mself\u001b[39m\u001b[38;5;241m.\u001b[39mcolumns\n\u001b[0;32m   4528\u001b[0m         \u001b[38;5;129;01mand\u001b[39;00m value\u001b[38;5;241m.\u001b[39mndim \u001b[38;5;241m==\u001b[39m \u001b[38;5;241m1\u001b[39m\n\u001b[0;32m   4529\u001b[0m         \u001b[38;5;129;01mand\u001b[39;00m \u001b[38;5;129;01mnot\u001b[39;00m \u001b[38;5;28misinstance\u001b[39m(value\u001b[38;5;241m.\u001b[39mdtype, ExtensionDtype)\n\u001b[0;32m   4530\u001b[0m     ):\n\u001b[0;32m   4531\u001b[0m         \u001b[38;5;66;03m# broadcast across multiple columns if necessary\u001b[39;00m\n\u001b[0;32m   4532\u001b[0m         \u001b[38;5;28;01mif\u001b[39;00m \u001b[38;5;129;01mnot\u001b[39;00m \u001b[38;5;28mself\u001b[39m\u001b[38;5;241m.\u001b[39mcolumns\u001b[38;5;241m.\u001b[39mis_unique \u001b[38;5;129;01mor\u001b[39;00m \u001b[38;5;28misinstance\u001b[39m(\u001b[38;5;28mself\u001b[39m\u001b[38;5;241m.\u001b[39mcolumns, MultiIndex):\n",
      "File \u001b[1;32m~\\.conda\\envs\\py311\\Lib\\site-packages\\pandas\\core\\frame.py:5263\u001b[0m, in \u001b[0;36mDataFrame._sanitize_column\u001b[1;34m(self, value)\u001b[0m\n\u001b[0;32m   5261\u001b[0m     \u001b[38;5;28;01mif\u001b[39;00m \u001b[38;5;129;01mnot\u001b[39;00m \u001b[38;5;28misinstance\u001b[39m(value, Series):\n\u001b[0;32m   5262\u001b[0m         value \u001b[38;5;241m=\u001b[39m Series(value)\n\u001b[1;32m-> 5263\u001b[0m     \u001b[38;5;28;01mreturn\u001b[39;00m \u001b[43m_reindex_for_setitem\u001b[49m\u001b[43m(\u001b[49m\u001b[43mvalue\u001b[49m\u001b[43m,\u001b[49m\u001b[43m \u001b[49m\u001b[38;5;28;43mself\u001b[39;49m\u001b[38;5;241;43m.\u001b[39;49m\u001b[43mindex\u001b[49m\u001b[43m)\u001b[49m\n\u001b[0;32m   5265\u001b[0m \u001b[38;5;28;01mif\u001b[39;00m is_list_like(value):\n\u001b[0;32m   5266\u001b[0m     com\u001b[38;5;241m.\u001b[39mrequire_length_match(value, \u001b[38;5;28mself\u001b[39m\u001b[38;5;241m.\u001b[39mindex)\n",
      "File \u001b[1;32m~\\.conda\\envs\\py311\\Lib\\site-packages\\pandas\\core\\frame.py:12692\u001b[0m, in \u001b[0;36m_reindex_for_setitem\u001b[1;34m(value, index)\u001b[0m\n\u001b[0;32m  12688\u001b[0m \u001b[38;5;28;01mexcept\u001b[39;00m \u001b[38;5;167;01mValueError\u001b[39;00m \u001b[38;5;28;01mas\u001b[39;00m err:\n\u001b[0;32m  12689\u001b[0m     \u001b[38;5;66;03m# raised in MultiIndex.from_tuples, see test_insert_error_msmgs\u001b[39;00m\n\u001b[0;32m  12690\u001b[0m     \u001b[38;5;28;01mif\u001b[39;00m \u001b[38;5;129;01mnot\u001b[39;00m value\u001b[38;5;241m.\u001b[39mindex\u001b[38;5;241m.\u001b[39mis_unique:\n\u001b[0;32m  12691\u001b[0m         \u001b[38;5;66;03m# duplicate axis\u001b[39;00m\n\u001b[1;32m> 12692\u001b[0m         \u001b[38;5;28;01mraise\u001b[39;00m err\n\u001b[0;32m  12694\u001b[0m     \u001b[38;5;28;01mraise\u001b[39;00m \u001b[38;5;167;01mTypeError\u001b[39;00m(\n\u001b[0;32m  12695\u001b[0m         \u001b[38;5;124m\"\u001b[39m\u001b[38;5;124mincompatible index of inserted column with frame index\u001b[39m\u001b[38;5;124m\"\u001b[39m\n\u001b[0;32m  12696\u001b[0m     ) \u001b[38;5;28;01mfrom\u001b[39;00m \u001b[38;5;21;01merr\u001b[39;00m\n\u001b[0;32m  12697\u001b[0m \u001b[38;5;28;01mreturn\u001b[39;00m reindexed_value, \u001b[38;5;28;01mNone\u001b[39;00m\n",
      "File \u001b[1;32m~\\.conda\\envs\\py311\\Lib\\site-packages\\pandas\\core\\frame.py:12687\u001b[0m, in \u001b[0;36m_reindex_for_setitem\u001b[1;34m(value, index)\u001b[0m\n\u001b[0;32m  12685\u001b[0m \u001b[38;5;66;03m# GH#4107\u001b[39;00m\n\u001b[0;32m  12686\u001b[0m \u001b[38;5;28;01mtry\u001b[39;00m:\n\u001b[1;32m> 12687\u001b[0m     reindexed_value \u001b[38;5;241m=\u001b[39m \u001b[43mvalue\u001b[49m\u001b[38;5;241;43m.\u001b[39;49m\u001b[43mreindex\u001b[49m\u001b[43m(\u001b[49m\u001b[43mindex\u001b[49m\u001b[43m)\u001b[49m\u001b[38;5;241m.\u001b[39m_values\n\u001b[0;32m  12688\u001b[0m \u001b[38;5;28;01mexcept\u001b[39;00m \u001b[38;5;167;01mValueError\u001b[39;00m \u001b[38;5;28;01mas\u001b[39;00m err:\n\u001b[0;32m  12689\u001b[0m     \u001b[38;5;66;03m# raised in MultiIndex.from_tuples, see test_insert_error_msmgs\u001b[39;00m\n\u001b[0;32m  12690\u001b[0m     \u001b[38;5;28;01mif\u001b[39;00m \u001b[38;5;129;01mnot\u001b[39;00m value\u001b[38;5;241m.\u001b[39mindex\u001b[38;5;241m.\u001b[39mis_unique:\n\u001b[0;32m  12691\u001b[0m         \u001b[38;5;66;03m# duplicate axis\u001b[39;00m\n",
      "File \u001b[1;32m~\\.conda\\envs\\py311\\Lib\\site-packages\\pandas\\core\\series.py:5153\u001b[0m, in \u001b[0;36mSeries.reindex\u001b[1;34m(self, index, axis, method, copy, level, fill_value, limit, tolerance)\u001b[0m\n\u001b[0;32m   5136\u001b[0m \u001b[38;5;129m@doc\u001b[39m(\n\u001b[0;32m   5137\u001b[0m     NDFrame\u001b[38;5;241m.\u001b[39mreindex,  \u001b[38;5;66;03m# type: ignore[has-type]\u001b[39;00m\n\u001b[0;32m   5138\u001b[0m     klass\u001b[38;5;241m=\u001b[39m_shared_doc_kwargs[\u001b[38;5;124m\"\u001b[39m\u001b[38;5;124mklass\u001b[39m\u001b[38;5;124m\"\u001b[39m],\n\u001b[1;32m   (...)\u001b[0m\n\u001b[0;32m   5151\u001b[0m     tolerance\u001b[38;5;241m=\u001b[39m\u001b[38;5;28;01mNone\u001b[39;00m,\n\u001b[0;32m   5152\u001b[0m ) \u001b[38;5;241m-\u001b[39m\u001b[38;5;241m>\u001b[39m Series:\n\u001b[1;32m-> 5153\u001b[0m     \u001b[38;5;28;01mreturn\u001b[39;00m \u001b[38;5;28;43msuper\u001b[39;49m\u001b[43m(\u001b[49m\u001b[43m)\u001b[49m\u001b[38;5;241;43m.\u001b[39;49m\u001b[43mreindex\u001b[49m\u001b[43m(\u001b[49m\n\u001b[0;32m   5154\u001b[0m \u001b[43m        \u001b[49m\u001b[43mindex\u001b[49m\u001b[38;5;241;43m=\u001b[39;49m\u001b[43mindex\u001b[49m\u001b[43m,\u001b[49m\n\u001b[0;32m   5155\u001b[0m \u001b[43m        \u001b[49m\u001b[43mmethod\u001b[49m\u001b[38;5;241;43m=\u001b[39;49m\u001b[43mmethod\u001b[49m\u001b[43m,\u001b[49m\n\u001b[0;32m   5156\u001b[0m \u001b[43m        \u001b[49m\u001b[43mcopy\u001b[49m\u001b[38;5;241;43m=\u001b[39;49m\u001b[43mcopy\u001b[49m\u001b[43m,\u001b[49m\n\u001b[0;32m   5157\u001b[0m \u001b[43m        \u001b[49m\u001b[43mlevel\u001b[49m\u001b[38;5;241;43m=\u001b[39;49m\u001b[43mlevel\u001b[49m\u001b[43m,\u001b[49m\n\u001b[0;32m   5158\u001b[0m \u001b[43m        \u001b[49m\u001b[43mfill_value\u001b[49m\u001b[38;5;241;43m=\u001b[39;49m\u001b[43mfill_value\u001b[49m\u001b[43m,\u001b[49m\n\u001b[0;32m   5159\u001b[0m \u001b[43m        \u001b[49m\u001b[43mlimit\u001b[49m\u001b[38;5;241;43m=\u001b[39;49m\u001b[43mlimit\u001b[49m\u001b[43m,\u001b[49m\n\u001b[0;32m   5160\u001b[0m \u001b[43m        \u001b[49m\u001b[43mtolerance\u001b[49m\u001b[38;5;241;43m=\u001b[39;49m\u001b[43mtolerance\u001b[49m\u001b[43m,\u001b[49m\n\u001b[0;32m   5161\u001b[0m \u001b[43m    \u001b[49m\u001b[43m)\u001b[49m\n",
      "File \u001b[1;32m~\\.conda\\envs\\py311\\Lib\\site-packages\\pandas\\core\\generic.py:5610\u001b[0m, in \u001b[0;36mNDFrame.reindex\u001b[1;34m(self, labels, index, columns, axis, method, copy, level, fill_value, limit, tolerance)\u001b[0m\n\u001b[0;32m   5607\u001b[0m     \u001b[38;5;28;01mreturn\u001b[39;00m \u001b[38;5;28mself\u001b[39m\u001b[38;5;241m.\u001b[39m_reindex_multi(axes, copy, fill_value)\n\u001b[0;32m   5609\u001b[0m \u001b[38;5;66;03m# perform the reindex on the axes\u001b[39;00m\n\u001b[1;32m-> 5610\u001b[0m \u001b[38;5;28;01mreturn\u001b[39;00m \u001b[38;5;28;43mself\u001b[39;49m\u001b[38;5;241;43m.\u001b[39;49m\u001b[43m_reindex_axes\u001b[49m\u001b[43m(\u001b[49m\n\u001b[0;32m   5611\u001b[0m \u001b[43m    \u001b[49m\u001b[43maxes\u001b[49m\u001b[43m,\u001b[49m\u001b[43m \u001b[49m\u001b[43mlevel\u001b[49m\u001b[43m,\u001b[49m\u001b[43m \u001b[49m\u001b[43mlimit\u001b[49m\u001b[43m,\u001b[49m\u001b[43m \u001b[49m\u001b[43mtolerance\u001b[49m\u001b[43m,\u001b[49m\u001b[43m \u001b[49m\u001b[43mmethod\u001b[49m\u001b[43m,\u001b[49m\u001b[43m \u001b[49m\u001b[43mfill_value\u001b[49m\u001b[43m,\u001b[49m\u001b[43m \u001b[49m\u001b[43mcopy\u001b[49m\n\u001b[0;32m   5612\u001b[0m \u001b[43m\u001b[49m\u001b[43m)\u001b[49m\u001b[38;5;241m.\u001b[39m__finalize__(\u001b[38;5;28mself\u001b[39m, method\u001b[38;5;241m=\u001b[39m\u001b[38;5;124m\"\u001b[39m\u001b[38;5;124mreindex\u001b[39m\u001b[38;5;124m\"\u001b[39m)\n",
      "File \u001b[1;32m~\\.conda\\envs\\py311\\Lib\\site-packages\\pandas\\core\\generic.py:5633\u001b[0m, in \u001b[0;36mNDFrame._reindex_axes\u001b[1;34m(self, axes, level, limit, tolerance, method, fill_value, copy)\u001b[0m\n\u001b[0;32m   5630\u001b[0m     \u001b[38;5;28;01mcontinue\u001b[39;00m\n\u001b[0;32m   5632\u001b[0m ax \u001b[38;5;241m=\u001b[39m \u001b[38;5;28mself\u001b[39m\u001b[38;5;241m.\u001b[39m_get_axis(a)\n\u001b[1;32m-> 5633\u001b[0m new_index, indexer \u001b[38;5;241m=\u001b[39m \u001b[43max\u001b[49m\u001b[38;5;241;43m.\u001b[39;49m\u001b[43mreindex\u001b[49m\u001b[43m(\u001b[49m\n\u001b[0;32m   5634\u001b[0m \u001b[43m    \u001b[49m\u001b[43mlabels\u001b[49m\u001b[43m,\u001b[49m\u001b[43m \u001b[49m\u001b[43mlevel\u001b[49m\u001b[38;5;241;43m=\u001b[39;49m\u001b[43mlevel\u001b[49m\u001b[43m,\u001b[49m\u001b[43m \u001b[49m\u001b[43mlimit\u001b[49m\u001b[38;5;241;43m=\u001b[39;49m\u001b[43mlimit\u001b[49m\u001b[43m,\u001b[49m\u001b[43m \u001b[49m\u001b[43mtolerance\u001b[49m\u001b[38;5;241;43m=\u001b[39;49m\u001b[43mtolerance\u001b[49m\u001b[43m,\u001b[49m\u001b[43m \u001b[49m\u001b[43mmethod\u001b[49m\u001b[38;5;241;43m=\u001b[39;49m\u001b[43mmethod\u001b[49m\n\u001b[0;32m   5635\u001b[0m \u001b[43m\u001b[49m\u001b[43m)\u001b[49m\n\u001b[0;32m   5637\u001b[0m axis \u001b[38;5;241m=\u001b[39m \u001b[38;5;28mself\u001b[39m\u001b[38;5;241m.\u001b[39m_get_axis_number(a)\n\u001b[0;32m   5638\u001b[0m obj \u001b[38;5;241m=\u001b[39m obj\u001b[38;5;241m.\u001b[39m_reindex_with_indexers(\n\u001b[0;32m   5639\u001b[0m     {axis: [new_index, indexer]},\n\u001b[0;32m   5640\u001b[0m     fill_value\u001b[38;5;241m=\u001b[39mfill_value,\n\u001b[0;32m   5641\u001b[0m     copy\u001b[38;5;241m=\u001b[39mcopy,\n\u001b[0;32m   5642\u001b[0m     allow_dups\u001b[38;5;241m=\u001b[39m\u001b[38;5;28;01mFalse\u001b[39;00m,\n\u001b[0;32m   5643\u001b[0m )\n",
      "File \u001b[1;32m~\\.conda\\envs\\py311\\Lib\\site-packages\\pandas\\core\\indexes\\base.py:4429\u001b[0m, in \u001b[0;36mIndex.reindex\u001b[1;34m(self, target, method, level, limit, tolerance)\u001b[0m\n\u001b[0;32m   4426\u001b[0m     \u001b[38;5;28;01mraise\u001b[39;00m \u001b[38;5;167;01mValueError\u001b[39;00m(\u001b[38;5;124m\"\u001b[39m\u001b[38;5;124mcannot handle a non-unique multi-index!\u001b[39m\u001b[38;5;124m\"\u001b[39m)\n\u001b[0;32m   4427\u001b[0m \u001b[38;5;28;01melif\u001b[39;00m \u001b[38;5;129;01mnot\u001b[39;00m \u001b[38;5;28mself\u001b[39m\u001b[38;5;241m.\u001b[39mis_unique:\n\u001b[0;32m   4428\u001b[0m     \u001b[38;5;66;03m# GH#42568\u001b[39;00m\n\u001b[1;32m-> 4429\u001b[0m     \u001b[38;5;28;01mraise\u001b[39;00m \u001b[38;5;167;01mValueError\u001b[39;00m(\u001b[38;5;124m\"\u001b[39m\u001b[38;5;124mcannot reindex on an axis with duplicate labels\u001b[39m\u001b[38;5;124m\"\u001b[39m)\n\u001b[0;32m   4430\u001b[0m \u001b[38;5;28;01melse\u001b[39;00m:\n\u001b[0;32m   4431\u001b[0m     indexer, _ \u001b[38;5;241m=\u001b[39m \u001b[38;5;28mself\u001b[39m\u001b[38;5;241m.\u001b[39mget_indexer_non_unique(target)\n",
      "\u001b[1;31mValueError\u001b[0m: cannot reindex on an axis with duplicate labels"
     ]
    }
   ],
   "source": [
    "dff1 = dff.assign(qian1 = lambda x:x['存货名称'].str.split('K')[0])\n",
    "dff1"
   ]
  },
  {
   "cell_type": "code",
   "execution_count": 59,
   "id": "bb854bd2-3e82-4d0f-8383-5ea36d30edd7",
   "metadata": {},
   "outputs": [
    {
     "data": {
      "text/plain": [
       "0        A540型卡面无线胶订本\n",
       "1        A560型卡面无线胶订本\n",
       "2        A580型卡面无线胶订本\n",
       "3       A5100型卡面无线胶订本\n",
       "4        A540型牛卡无线胶订本\n",
       "            ...      \n",
       "2159       16K银行存款日记账\n",
       "2160     A480型牛皮无线胶订本\n",
       "2161    A4100型牛皮无线胶订本\n",
       "2162         16K现金日记账\n",
       "2163               运费\n",
       "Name: 存货名称, Length: 3326, dtype: object"
      ]
     },
     "execution_count": 59,
     "metadata": {},
     "output_type": "execute_result"
    }
   ],
   "source": [
    "dff['存货名称']"
   ]
  },
  {
   "cell_type": "code",
   "execution_count": 61,
   "id": "d07f8dd8-80cd-4d35-877b-eb575f220e0f",
   "metadata": {},
   "outputs": [
    {
     "data": {
      "text/plain": [
       "0        [A540型卡面无线胶订本]\n",
       "1        [A560型卡面无线胶订本]\n",
       "2        [A580型卡面无线胶订本]\n",
       "3       [A5100型卡面无线胶订本]\n",
       "4        [A540型牛卡无线胶订本]\n",
       "             ...       \n",
       "2159      [16, 银行存款日记账]\n",
       "2160     [A480型牛皮无线胶订本]\n",
       "2161    [A4100型牛皮无线胶订本]\n",
       "2162        [16, 现金日记账]\n",
       "2163               [运费]\n",
       "Name: 存货名称, Length: 3326, dtype: object"
      ]
     },
     "execution_count": 61,
     "metadata": {},
     "output_type": "execute_result"
    }
   ],
   "source": [
    "qian1"
   ]
  },
  {
   "cell_type": "code",
   "execution_count": 54,
   "id": "651bdee4-3ecb-4bcd-b449-b1c679c6fa34",
   "metadata": {},
   "outputs": [
    {
     "ename": "ValueError",
     "evalue": "operands could not be broadcast together with shapes (3326,) (2,) () ",
     "output_type": "error",
     "traceback": [
      "\u001b[1;31m---------------------------------------------------------------------------\u001b[0m",
      "\u001b[1;31mValueError\u001b[0m                                Traceback (most recent call last)",
      "Cell \u001b[1;32mIn[54], line 1\u001b[0m\n\u001b[1;32m----> 1\u001b[0m dff2 \u001b[38;5;241m=\u001b[39m dff\u001b[38;5;241m.\u001b[39massign(he \u001b[38;5;241m=\u001b[39m \u001b[43mnp\u001b[49m\u001b[38;5;241;43m.\u001b[39;49m\u001b[43mwhere\u001b[49m\u001b[43m(\u001b[49m\u001b[43mdff\u001b[49m\u001b[43m[\u001b[49m\u001b[38;5;124;43m'\u001b[39;49m\u001b[38;5;124;43m存货编码\u001b[39;49m\u001b[38;5;124;43m'\u001b[39;49m\u001b[43m]\u001b[49m\u001b[38;5;241;43m.\u001b[39;49m\u001b[43mmap\u001b[49m\u001b[43m(\u001b[49m\u001b[38;5;28;43;01mlambda\u001b[39;49;00m\u001b[43m \u001b[49m\u001b[43mx\u001b[49m\u001b[43m:\u001b[49m\u001b[43mchuliZhangben\u001b[49m\u001b[43m(\u001b[49m\u001b[43mx\u001b[49m\u001b[43m)\u001b[49m\u001b[43m)\u001b[49m\u001b[43m,\u001b[49m\u001b[43mdff\u001b[49m\u001b[43m[\u001b[49m\u001b[38;5;124;43m'\u001b[39;49m\u001b[38;5;124;43m存货名称\u001b[39;49m\u001b[38;5;124;43m'\u001b[39;49m\u001b[43m]\u001b[49m\u001b[38;5;241;43m.\u001b[39;49m\u001b[43mstr\u001b[49m\u001b[38;5;241;43m.\u001b[39;49m\u001b[43msplit\u001b[49m\u001b[43m(\u001b[49m\u001b[38;5;124;43m'\u001b[39;49m\u001b[38;5;124;43mK\u001b[39;49m\u001b[38;5;124;43m'\u001b[39;49m\u001b[43m)\u001b[49m\u001b[43m[\u001b[49m\u001b[38;5;241;43m0\u001b[39;49m\u001b[43m]\u001b[49m\u001b[43m,\u001b[49m\u001b[38;5;124;43m'\u001b[39;49m\u001b[38;5;124;43mY\u001b[39;49m\u001b[38;5;124;43m'\u001b[39;49m\u001b[43m)\u001b[49m)\n",
      "\u001b[1;31mValueError\u001b[0m: operands could not be broadcast together with shapes (3326,) (2,) () "
     ]
    }
   ],
   "source": [
    "dff2 = dff.assign(he = np.where(dff['存货编码'].map(lambda x:chuliZhangben(x)),'X','Y'))"
   ]
  },
  {
   "cell_type": "code",
   "execution_count": 53,
   "id": "0417cc59-5710-4951-a749-19112cced037",
   "metadata": {},
   "outputs": [],
   "source": [
    "dff1.to_excel('dff.xlsx')"
   ]
  },
  {
   "cell_type": "code",
   "execution_count": null,
   "id": "fd66f767-a839-4d03-b8ce-63eb2594a45a",
   "metadata": {},
   "outputs": [],
   "source": []
  }
 ],
 "metadata": {
  "kernelspec": {
   "display_name": "Python 3 (ipykernel)",
   "language": "python",
   "name": "python3"
  },
  "language_info": {
   "codemirror_mode": {
    "name": "ipython",
    "version": 3
   },
   "file_extension": ".py",
   "mimetype": "text/x-python",
   "name": "python",
   "nbconvert_exporter": "python",
   "pygments_lexer": "ipython3",
   "version": "3.11.8"
  }
 },
 "nbformat": 4,
 "nbformat_minor": 5
}
