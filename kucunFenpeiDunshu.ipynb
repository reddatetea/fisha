{
 "cells": [
  {
   "cell_type": "code",
   "execution_count": null,
   "id": "5ebe1bd2-1b70-42cd-8536-546c808cc23d",
   "metadata": {},
   "outputs": [],
   "source": [
    "import re\n",
    "import pandas as pd\n",
    "import numpy as np\n",
    "import os"
   ]
  },
  {
   "cell_type": "code",
   "execution_count": null,
   "id": "2defe956-4452-4680-b59e-9717da040a16",
   "metadata": {},
   "outputs": [],
   "source": [
    "df = pd.read_excel(r'F:\\a00nutstore\\008\\zw08\\原材料实时流水账\\库存商品分配.xlsx',dtype = {'单据号':str})\n"
   ]
  },
  {
   "cell_type": "code",
   "execution_count": null,
   "id": "97fa2dea-aff7-448b-b476-f2e6ffac5d0b",
   "metadata": {},
   "outputs": [],
   "source": [
    "def dunshu(x):\n",
    "    pattern = r'(?P<ke>\\d{2,3})g(?:\\w+?)(?P<chang>\\d{3,4})\\*(?P<kuan>\\d{3,4})'\n",
    "    regexp = re.compile(pattern)\n",
    "    dunshu = x['吨数']\n",
    "    if x['计量单位']=='令':\n",
    "        string = x['品名']\n",
    "        mat = regexp.search(string)\n",
    "    \n",
    "        if mat == None :\n",
    "            ke, chang, kuan = 0, 0, 0\n",
    "            dunshu = x['吨数']\n",
    "        \n",
    "        else:\n",
    "            # 克重\n",
    "            ke = int(mat.group('ke'))\n",
    "            # 长和宽\n",
    "            chang= int(mat.group('chang'))\n",
    "            kuan = int(mat.group('kuan'))\n",
    "            dunshu = round(ke/1000/1000*chang/1000*kuan/1000*500*x['入库数量'],3)\n",
    "    else:\n",
    "        pass\n",
    "    return dunshu\n",
    "   \n",
    "    \n",
    "\n",
    "\n",
    "\n",
    "\n"
   ]
  },
  {
   "cell_type": "code",
   "execution_count": null,
   "id": "1d063873-108d-4d74-b030-64b31503af62",
   "metadata": {},
   "outputs": [],
   "source": [
    "df['吨数'] = 0\n",
    "df['吨价'] = 0\n",
    "df['金额'] = 0\n",
    "df['吨数'] = np.where(df['计量单位'].isin(['kg','公斤']),df['入库数量']/1000, 0) #如果计量单位是'kg'or'公斤\",吨数是公斤数/1000\n",
    "df['吨价'] = np.where(df['计量单位'].isin(['kg','公斤']),df['入库单价']*1000, 0)\n",
    "df['金额'] = df['入库金额']\n",
    "df = df.assign(吨数=df.apply(lambda x: dunshu(x), axis=1))\n",
    "df"
   ]
  },
  {
   "cell_type": "code",
   "execution_count": null,
   "id": "caf9547e-61f4-4a3d-bba5-189fb323bea9",
   "metadata": {},
   "outputs": [],
   "source": [
    "df.to_excel('bbbb.xlsx')\n",
    "os.startfile('bbbb.xlsx')"
   ]
  },
  {
   "cell_type": "code",
   "execution_count": null,
   "id": "158cb1ba-b482-4e79-b3a0-ca33b11c1960",
   "metadata": {},
   "outputs": [],
   "source": [
    "df_zhi = pd.read_excel(r\"F:\\a00nutstore\\006\\zw\\else\\2020入库.xlsx\",'入库',dtype={'单号':str})\n",
    "df_zhi = df_zhi.loc[:,['单号','材料','吨价']]\n",
    "df_zhi"
   ]
  },
  {
   "cell_type": "code",
   "execution_count": null,
   "id": "49053f9c-3737-4b11-8a1c-c3fea8b96b3b",
   "metadata": {},
   "outputs": [],
   "source": [
    "def mergeKucunZhi(left,right):\n",
    "    columns = ['存货大类名称',\n",
    " '品名',\n",
    " '计量单位',\n",
    " '期末结存数量',\n",
    " '日期',\n",
    " '单据号',\n",
    " '供货单位',\n",
    " '入库数量',\n",
    " '入库单价',\n",
    " '入库金额',\n",
    " 'cwName',\n",
    " 'priceName',\n",
    " '累加数量',\n",
    " '剩余数量',\n",
    " '吨数',\n",
    " '吨价',\n",
    " '金额',\n",
    "]\n",
    "    right.columns = ['单据号', '品名', 'dunjia']\n",
    "    merge_left_right = pd.merge(left,right,on = ['单据号','品名'],how = 'left')\n",
    "    merge_left_right['吨价'] = np.where(merge_left_right['吨价'] == 0,merge_left_right.dunjia,merge_left_right['吨价'])\n",
    "    merge_left_right = merge_left_right.loc[:,columns]\n",
    "    return merge_left_right\n",
    "    \n",
    "    "
   ]
  },
  {
   "cell_type": "code",
   "execution_count": null,
   "id": "4e2d8e58-d20b-4c63-b78d-b2046a54fcb7",
   "metadata": {},
   "outputs": [],
   "source": [
    "mergedf =  mergeKucunZhi(df,df_zhi)\n",
    "mergedf.to_excel('ggg.xlsx')\n",
    "os.startfile('ggg.xlsx')"
   ]
  },
  {
   "cell_type": "code",
   "execution_count": null,
   "id": "4fd6bd7d-ce0b-4f48-9b3e-d6844a9d394a",
   "metadata": {},
   "outputs": [],
   "source": [
    "df_by = pd.read_excel(r\"F:\\a00nutstore\\006\\zw\\baiyun\\2020白云入库.xlsx\",'2020',dtype = {'入库单号':str})\n",
    "df_baiyun = df_by.loc[:,['入库单号','仓库材料','单价']]\n",
    "df_baiyun"
   ]
  },
  {
   "cell_type": "code",
   "execution_count": null,
   "id": "3bc94160-a6f3-4b62-8d9e-8846ecfe7090",
   "metadata": {},
   "outputs": [],
   "source": [
    "merge_kucun_zhi_baiyun = mergeKucunZhi(mergedf ,df_baiyun)\n",
    "merge_kucun_zhi_baiyun"
   ]
  },
  {
   "cell_type": "code",
   "execution_count": null,
   "id": "849e1402-9be8-477e-bbac-054de9b53a3d",
   "metadata": {},
   "outputs": [],
   "source": [
    "merge_kucun_zhi_baiyun.to_excel('eee.xlsx')\n",
    "os.startfile('eee.xlsx')"
   ]
  },
  {
   "cell_type": "code",
   "execution_count": null,
   "id": "b9d75fc3-e621-4f99-9d64-0de013bfff4d",
   "metadata": {},
   "outputs": [],
   "source": [
    "zhis = ['AA有光纸', 'AB双胶纸', 'AD白卡纸', 'AE涂布纸', 'AF铜版纸', 'AG牛皮纸', 'AH特种纸',\n",
    "       'AI复写纸', 'AJ不干胶', 'AK灰板', 'AP卷筒纸']\n"
   ]
  },
  {
   "cell_type": "code",
   "execution_count": null,
   "id": "d8932c77-2f58-41f3-ad87-1b3c6fea0b1b",
   "metadata": {},
   "outputs": [],
   "source": [
    "df8 = merge_kucun_zhi_baiyun.copy()\n",
    "df8"
   ]
  },
  {
   "cell_type": "code",
   "execution_count": null,
   "id": "2dc86447-4294-4ef3-9d12-c3f0a3b03db7",
   "metadata": {},
   "outputs": [],
   "source": [
    "df8['金额'] = np.where(df8['存货大类名称'].isin(zhis),df8['吨数']*df8['吨价'],df8['金额'])\n",
    "df8"
   ]
  },
  {
   "cell_type": "code",
   "execution_count": null,
   "id": "490146a0-6e4b-4086-b98c-c162d9ec86cf",
   "metadata": {},
   "outputs": [],
   "source": [
    "df8.to_excel('hhh.xlsx')\n",
    "os.startfile('hhh.xlsx')"
   ]
  },
  {
   "cell_type": "code",
   "execution_count": null,
   "id": "619f48bd-4c55-4f9a-b00a-677d566ba90d",
   "metadata": {},
   "outputs": [],
   "source": [
    "df = pd.read_excel(r'F:\\a00nutstore\\008\\zw08\\原材料实时流水账\\库存商品分配.xlsx')\n",
    "df"
   ]
  },
  {
   "cell_type": "code",
   "execution_count": null,
   "id": "705a866e-18aa-4480-ac2b-6c7195f46a93",
   "metadata": {},
   "outputs": [],
   "source": [
    "df['单据号'] = df['单据号'].astype('str')\n",
    "df.info()"
   ]
  },
  {
   "cell_type": "code",
   "execution_count": null,
   "id": "a8ec4f9c-130a-4628-b239-2a9840916c43",
   "metadata": {},
   "outputs": [],
   "source": [
    " pattern = r'(?P<ke>\\d{2,3})g(?:.*?)(?P<chang>\\d{3,4})\\*(?P<kuan>\\d{3,4})'\n",
    "regexp = re.compile(pattern)\n",
    "\n",
    "string = r'48g无碳复写上白/下红787*1092'\n",
    "mat = regexp.search(string)\n",
    "\n",
    "if mat == None :\n",
    "    ke, chang, kuan = 0, 0, 0\n",
    " \n",
    "\n",
    "else:\n",
    "    # 克重\n",
    "    ke = int(mat.group('ke'))\n",
    "    # 长和宽\n",
    "    chang= int(mat.group('chang'))\n",
    "    kuan = int(mat.group('kuan'))\n",
    "\n",
    "\n"
   ]
  },
  {
   "cell_type": "code",
   "execution_count": null,
   "id": "1081e8f1-e9d7-4883-ba94-723f148f0333",
   "metadata": {},
   "outputs": [],
   "source": [
    "chang"
   ]
  },
  {
   "cell_type": "code",
   "execution_count": null,
   "id": "c2e5347b-6b2f-4a40-ab3c-52756b3a9c64",
   "metadata": {},
   "outputs": [],
   "source": [
    "kuan"
   ]
  },
  {
   "cell_type": "code",
   "execution_count": null,
   "id": "9741d8bd-0476-45d9-9f9e-a8373cb32c63",
   "metadata": {},
   "outputs": [],
   "source": []
  }
 ],
 "metadata": {
  "kernelspec": {
   "display_name": "Python 3 (ipykernel)",
   "language": "python",
   "name": "python3"
  },
  "language_info": {
   "codemirror_mode": {
    "name": "ipython",
    "version": 3
   },
   "file_extension": ".py",
   "mimetype": "text/x-python",
   "name": "python",
   "nbconvert_exporter": "python",
   "pygments_lexer": "ipython3",
   "version": "3.11.8"
  }
 },
 "nbformat": 4,
 "nbformat_minor": 5
}
