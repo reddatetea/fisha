{
 "cells": [
  {
   "cell_type": "code",
   "execution_count": 1,
   "id": "21dd53ea-0d03-4b6a-bd54-89a68ecc77dc",
   "metadata": {},
   "outputs": [],
   "source": [
    "import pandas as pd\n",
    "from faker import Faker"
   ]
  },
  {
   "cell_type": "code",
   "execution_count": 20,
   "id": "4f45dd4c-d43c-4645-95ef-0bcd840c735a",
   "metadata": {},
   "outputs": [],
   "source": [
    "class PartyLottery:\n",
    "    def __init__(self,pool:dict):\n",
    "        self.pool = pd.DataFrame(pool)\n",
    "        self.winner = pd.DataFrame()\n",
    "    \n",
    "    def draw_lottery(self,level:str,cnt:int):\n",
    "        if level not in ['一等奖','二等奖','三等奖']:\n",
    "            raise ValueErrow('Invalid prize level.'\n",
    "                            'Supported level:'\n",
    "                            '一等奖,二等奖,三等奖')\n",
    "        \n",
    "        # 随机抽取指定数量获奖者\n",
    "        winner = self.pool.sample(cnt)\n",
    "        \n",
    "        #添加到获奖者名单\n",
    "        self.winner = pd.concat([self.winner,\n",
    "                               winner.assign(等级=level)] ) \n",
    "        self.pool = self.pool.drop(winner.index)\n",
    "\n",
    "        # 打印获奖信息\n",
    "        print(f'****** {level} 获奖者 ******')\n",
    "        print(winner)\n",
    "        print('\\n剩余参与者：')\n",
    "        print(self.pool,end = '\\n\\n')\n",
    "\n",
    "    def show_winner(self):\n",
    "        # 展示所有获奖者\n",
    "        print(f'所有获奖者：')\n",
    "        print(self.winner,end = '\\n\\n')\n",
    "        \n",
    "     \n",
    "        \n",
    "        "
   ]
  },
  {
   "cell_type": "code",
   "execution_count": 3,
   "id": "87fb5094-f3f4-4b6e-bc71-a892dfa9e81c",
   "metadata": {},
   "outputs": [],
   "source": [
    "# 示例参与者数据\n",
    "f = Faker('zh-cn')          #中文编码\n",
    "Faker.seed(4321)            #种子，每次都一样\n"
   ]
  },
  {
   "cell_type": "code",
   "execution_count": 17,
   "id": "c83946d7-82e8-4725-9be4-2cff6c7e4cfb",
   "metadata": {},
   "outputs": [
    {
     "data": {
      "text/html": [
       "<div>\n",
       "<style scoped>\n",
       "    .dataframe tbody tr th:only-of-type {\n",
       "        vertical-align: middle;\n",
       "    }\n",
       "\n",
       "    .dataframe tbody tr th {\n",
       "        vertical-align: top;\n",
       "    }\n",
       "\n",
       "    .dataframe thead th {\n",
       "        text-align: right;\n",
       "    }\n",
       "</style>\n",
       "<table border=\"1\" class=\"dataframe\">\n",
       "  <thead>\n",
       "    <tr style=\"text-align: right;\">\n",
       "      <th></th>\n",
       "      <th>姓名</th>\n",
       "      <th>部门</th>\n",
       "      <th>工号</th>\n",
       "    </tr>\n",
       "  </thead>\n",
       "  <tbody>\n",
       "    <tr>\n",
       "      <th>0</th>\n",
       "      <td>刘秀珍</td>\n",
       "      <td>人事部</td>\n",
       "      <td>1001</td>\n",
       "    </tr>\n",
       "    <tr>\n",
       "      <th>1</th>\n",
       "      <td>王桂英</td>\n",
       "      <td>技术部</td>\n",
       "      <td>1002</td>\n",
       "    </tr>\n",
       "    <tr>\n",
       "      <th>2</th>\n",
       "      <td>沈雷</td>\n",
       "      <td>市场部</td>\n",
       "      <td>1003</td>\n",
       "    </tr>\n",
       "    <tr>\n",
       "      <th>3</th>\n",
       "      <td>廖凯</td>\n",
       "      <td>财务部</td>\n",
       "      <td>1004</td>\n",
       "    </tr>\n",
       "    <tr>\n",
       "      <th>4</th>\n",
       "      <td>黄杰</td>\n",
       "      <td>人事部</td>\n",
       "      <td>1005</td>\n",
       "    </tr>\n",
       "    <tr>\n",
       "      <th>5</th>\n",
       "      <td>陈荣</td>\n",
       "      <td>人事部</td>\n",
       "      <td>1006</td>\n",
       "    </tr>\n",
       "    <tr>\n",
       "      <th>6</th>\n",
       "      <td>王秀英</td>\n",
       "      <td>财务部</td>\n",
       "      <td>1007</td>\n",
       "    </tr>\n",
       "    <tr>\n",
       "      <th>7</th>\n",
       "      <td>赵婷</td>\n",
       "      <td>人事部</td>\n",
       "      <td>1008</td>\n",
       "    </tr>\n",
       "    <tr>\n",
       "      <th>8</th>\n",
       "      <td>俞旭</td>\n",
       "      <td>销售部</td>\n",
       "      <td>1009</td>\n",
       "    </tr>\n",
       "    <tr>\n",
       "      <th>9</th>\n",
       "      <td>朱俊</td>\n",
       "      <td>市场部</td>\n",
       "      <td>1010</td>\n",
       "    </tr>\n",
       "  </tbody>\n",
       "</table>\n",
       "</div>"
      ],
      "text/plain": [
       "    姓名   部门    工号\n",
       "0  刘秀珍  人事部  1001\n",
       "1  王桂英  技术部  1002\n",
       "2   沈雷  市场部  1003\n",
       "3   廖凯  财务部  1004\n",
       "4   黄杰  人事部  1005\n",
       "5   陈荣  人事部  1006\n",
       "6  王秀英  财务部  1007\n",
       "7   赵婷  人事部  1008\n",
       "8   俞旭  销售部  1009\n",
       "9   朱俊  市场部  1010"
      ]
     },
     "execution_count": 17,
     "metadata": {},
     "output_type": "execute_result"
    }
   ],
   "source": [
    "department = ['财务部','人事部','销售部','技术部','市场部']\n",
    "count = 10\n",
    "data = {'姓名':[f.name() for i in range(count)],\n",
    "        '部门':[f.random.choice(department) for i  in range(count)],\n",
    "        '工号': [i for i in range(1001,1001 + count)] \n",
    "       }\n",
    "df = pd.DataFrame(data)\n",
    "df"
   ]
  },
  {
   "cell_type": "code",
   "execution_count": 21,
   "id": "a020b0a8-be9c-47ee-86af-82f24a9f1014",
   "metadata": {},
   "outputs": [],
   "source": [
    "# 创建抽奖程序实例\n",
    "party_2025 = PartyLottery(df)"
   ]
  },
  {
   "cell_type": "code",
   "execution_count": 22,
   "id": "21e07f1f-f42a-4eb1-9a87-deb6fef424ee",
   "metadata": {},
   "outputs": [
    {
     "name": "stdout",
     "output_type": "stream",
     "text": [
      "****** 一等奖 获奖者 ******\n",
      "    姓名   部门    工号\n",
      "0  刘秀珍  人事部  1001\n",
      "\n",
      "剩余参与者：\n",
      "    姓名   部门    工号\n",
      "1  王桂英  技术部  1002\n",
      "2   沈雷  市场部  1003\n",
      "3   廖凯  财务部  1004\n",
      "4   黄杰  人事部  1005\n",
      "5   陈荣  人事部  1006\n",
      "6  王秀英  财务部  1007\n",
      "7   赵婷  人事部  1008\n",
      "8   俞旭  销售部  1009\n",
      "9   朱俊  市场部  1010\n",
      "\n"
     ]
    }
   ],
   "source": [
    "party_2025.draw_lottery('一等奖',1)"
   ]
  },
  {
   "cell_type": "code",
   "execution_count": 23,
   "id": "524c5bcb-e334-4087-ad5b-f2734f68af2a",
   "metadata": {},
   "outputs": [
    {
     "name": "stdout",
     "output_type": "stream",
     "text": [
      "所有获奖者：\n",
      "    姓名   部门    工号   等级\n",
      "0  刘秀珍  人事部  1001  一等奖\n",
      "\n"
     ]
    }
   ],
   "source": [
    "party_2025.show_winner()"
   ]
  },
  {
   "cell_type": "code",
   "execution_count": 24,
   "id": "2fd73b16-6a5e-4baf-9de7-eb0e113d0a4a",
   "metadata": {},
   "outputs": [
    {
     "name": "stdout",
     "output_type": "stream",
     "text": [
      "****** 二等奖 获奖者 ******\n",
      "   姓名   部门    工号\n",
      "3  廖凯  财务部  1004\n",
      "4  黄杰  人事部  1005\n",
      "\n",
      "剩余参与者：\n",
      "    姓名   部门    工号\n",
      "1  王桂英  技术部  1002\n",
      "2   沈雷  市场部  1003\n",
      "5   陈荣  人事部  1006\n",
      "6  王秀英  财务部  1007\n",
      "7   赵婷  人事部  1008\n",
      "8   俞旭  销售部  1009\n",
      "9   朱俊  市场部  1010\n",
      "\n"
     ]
    }
   ],
   "source": [
    "party_2025.draw_lottery('二等奖',2)"
   ]
  },
  {
   "cell_type": "code",
   "execution_count": 25,
   "id": "225ab6f3-bdb4-4d86-9173-c11aa10508b8",
   "metadata": {},
   "outputs": [
    {
     "name": "stdout",
     "output_type": "stream",
     "text": [
      "所有获奖者：\n",
      "    姓名   部门    工号   等级\n",
      "0  刘秀珍  人事部  1001  一等奖\n",
      "3   廖凯  财务部  1004  二等奖\n",
      "4   黄杰  人事部  1005  二等奖\n",
      "\n"
     ]
    }
   ],
   "source": [
    "party_2025.show_winner()"
   ]
  },
  {
   "cell_type": "code",
   "execution_count": 26,
   "id": "1fd38c9e-2830-4598-a4ca-b013d520a3ec",
   "metadata": {},
   "outputs": [
    {
     "name": "stdout",
     "output_type": "stream",
     "text": [
      "****** 三等奖 获奖者 ******\n",
      "   姓名   部门    工号\n",
      "7  赵婷  人事部  1008\n",
      "5  陈荣  人事部  1006\n",
      "\n",
      "剩余参与者：\n",
      "    姓名   部门    工号\n",
      "1  王桂英  技术部  1002\n",
      "2   沈雷  市场部  1003\n",
      "6  王秀英  财务部  1007\n",
      "8   俞旭  销售部  1009\n",
      "9   朱俊  市场部  1010\n",
      "\n"
     ]
    }
   ],
   "source": [
    "party_2025.draw_lottery('三等奖',2)"
   ]
  },
  {
   "cell_type": "code",
   "execution_count": 27,
   "id": "7c008245-85ec-4cc4-b570-1e2f0135e160",
   "metadata": {},
   "outputs": [
    {
     "name": "stdout",
     "output_type": "stream",
     "text": [
      "所有获奖者：\n",
      "    姓名   部门    工号   等级\n",
      "0  刘秀珍  人事部  1001  一等奖\n",
      "3   廖凯  财务部  1004  二等奖\n",
      "4   黄杰  人事部  1005  二等奖\n",
      "7   赵婷  人事部  1008  三等奖\n",
      "5   陈荣  人事部  1006  三等奖\n",
      "\n"
     ]
    }
   ],
   "source": [
    "party_2025.show_winner()"
   ]
  },
  {
   "cell_type": "code",
   "execution_count": 28,
   "id": "87c8b17c-93eb-44cd-8f59-06cf6674848d",
   "metadata": {},
   "outputs": [
    {
     "data": {
      "text/html": [
       "<div>\n",
       "<style scoped>\n",
       "    .dataframe tbody tr th:only-of-type {\n",
       "        vertical-align: middle;\n",
       "    }\n",
       "\n",
       "    .dataframe tbody tr th {\n",
       "        vertical-align: top;\n",
       "    }\n",
       "\n",
       "    .dataframe thead th {\n",
       "        text-align: right;\n",
       "    }\n",
       "</style>\n",
       "<table border=\"1\" class=\"dataframe\">\n",
       "  <thead>\n",
       "    <tr style=\"text-align: right;\">\n",
       "      <th></th>\n",
       "      <th>姓名</th>\n",
       "      <th>部门</th>\n",
       "      <th>工号</th>\n",
       "    </tr>\n",
       "  </thead>\n",
       "  <tbody>\n",
       "    <tr>\n",
       "      <th>0</th>\n",
       "      <td>刘秀珍</td>\n",
       "      <td>人事部</td>\n",
       "      <td>1001</td>\n",
       "    </tr>\n",
       "    <tr>\n",
       "      <th>1</th>\n",
       "      <td>王桂英</td>\n",
       "      <td>技术部</td>\n",
       "      <td>1002</td>\n",
       "    </tr>\n",
       "    <tr>\n",
       "      <th>2</th>\n",
       "      <td>沈雷</td>\n",
       "      <td>市场部</td>\n",
       "      <td>1003</td>\n",
       "    </tr>\n",
       "    <tr>\n",
       "      <th>3</th>\n",
       "      <td>廖凯</td>\n",
       "      <td>财务部</td>\n",
       "      <td>1004</td>\n",
       "    </tr>\n",
       "    <tr>\n",
       "      <th>4</th>\n",
       "      <td>黄杰</td>\n",
       "      <td>人事部</td>\n",
       "      <td>1005</td>\n",
       "    </tr>\n",
       "    <tr>\n",
       "      <th>5</th>\n",
       "      <td>陈荣</td>\n",
       "      <td>人事部</td>\n",
       "      <td>1006</td>\n",
       "    </tr>\n",
       "    <tr>\n",
       "      <th>6</th>\n",
       "      <td>王秀英</td>\n",
       "      <td>财务部</td>\n",
       "      <td>1007</td>\n",
       "    </tr>\n",
       "    <tr>\n",
       "      <th>7</th>\n",
       "      <td>赵婷</td>\n",
       "      <td>人事部</td>\n",
       "      <td>1008</td>\n",
       "    </tr>\n",
       "    <tr>\n",
       "      <th>8</th>\n",
       "      <td>俞旭</td>\n",
       "      <td>销售部</td>\n",
       "      <td>1009</td>\n",
       "    </tr>\n",
       "    <tr>\n",
       "      <th>9</th>\n",
       "      <td>朱俊</td>\n",
       "      <td>市场部</td>\n",
       "      <td>1010</td>\n",
       "    </tr>\n",
       "  </tbody>\n",
       "</table>\n",
       "</div>"
      ],
      "text/plain": [
       "    姓名   部门    工号\n",
       "0  刘秀珍  人事部  1001\n",
       "1  王桂英  技术部  1002\n",
       "2   沈雷  市场部  1003\n",
       "3   廖凯  财务部  1004\n",
       "4   黄杰  人事部  1005\n",
       "5   陈荣  人事部  1006\n",
       "6  王秀英  财务部  1007\n",
       "7   赵婷  人事部  1008\n",
       "8   俞旭  销售部  1009\n",
       "9   朱俊  市场部  1010"
      ]
     },
     "execution_count": 28,
     "metadata": {},
     "output_type": "execute_result"
    }
   ],
   "source": [
    "df"
   ]
  },
  {
   "cell_type": "code",
   "execution_count": 29,
   "id": "4367dee2-4dbf-452e-b065-f422ab1e5b1b",
   "metadata": {},
   "outputs": [
    {
     "data": {
      "text/html": [
       "<div>\n",
       "<style scoped>\n",
       "    .dataframe tbody tr th:only-of-type {\n",
       "        vertical-align: middle;\n",
       "    }\n",
       "\n",
       "    .dataframe tbody tr th {\n",
       "        vertical-align: top;\n",
       "    }\n",
       "\n",
       "    .dataframe thead th {\n",
       "        text-align: right;\n",
       "    }\n",
       "</style>\n",
       "<table border=\"1\" class=\"dataframe\">\n",
       "  <thead>\n",
       "    <tr style=\"text-align: right;\">\n",
       "      <th></th>\n",
       "      <th>姓名</th>\n",
       "      <th>部门</th>\n",
       "      <th>工号</th>\n",
       "    </tr>\n",
       "  </thead>\n",
       "  <tbody>\n",
       "    <tr>\n",
       "      <th>5</th>\n",
       "      <td>陈荣</td>\n",
       "      <td>人事部</td>\n",
       "      <td>1006</td>\n",
       "    </tr>\n",
       "  </tbody>\n",
       "</table>\n",
       "</div>"
      ],
      "text/plain": [
       "   姓名   部门    工号\n",
       "5  陈荣  人事部  1006"
      ]
     },
     "execution_count": 29,
     "metadata": {},
     "output_type": "execute_result"
    }
   ],
   "source": [
    "df.sample(1)"
   ]
  },
  {
   "cell_type": "code",
   "execution_count": 30,
   "id": "c7750008-7fad-4c9d-9ba4-ac6cd1a1a56d",
   "metadata": {},
   "outputs": [
    {
     "data": {
      "text/html": [
       "<div>\n",
       "<style scoped>\n",
       "    .dataframe tbody tr th:only-of-type {\n",
       "        vertical-align: middle;\n",
       "    }\n",
       "\n",
       "    .dataframe tbody tr th {\n",
       "        vertical-align: top;\n",
       "    }\n",
       "\n",
       "    .dataframe thead th {\n",
       "        text-align: right;\n",
       "    }\n",
       "</style>\n",
       "<table border=\"1\" class=\"dataframe\">\n",
       "  <thead>\n",
       "    <tr style=\"text-align: right;\">\n",
       "      <th></th>\n",
       "      <th>姓名</th>\n",
       "      <th>部门</th>\n",
       "      <th>工号</th>\n",
       "    </tr>\n",
       "  </thead>\n",
       "  <tbody>\n",
       "    <tr>\n",
       "      <th>8</th>\n",
       "      <td>俞旭</td>\n",
       "      <td>销售部</td>\n",
       "      <td>1009</td>\n",
       "    </tr>\n",
       "    <tr>\n",
       "      <th>2</th>\n",
       "      <td>沈雷</td>\n",
       "      <td>市场部</td>\n",
       "      <td>1003</td>\n",
       "    </tr>\n",
       "  </tbody>\n",
       "</table>\n",
       "</div>"
      ],
      "text/plain": [
       "   姓名   部门    工号\n",
       "8  俞旭  销售部  1009\n",
       "2  沈雷  市场部  1003"
      ]
     },
     "execution_count": 30,
     "metadata": {},
     "output_type": "execute_result"
    }
   ],
   "source": [
    "df.sample(2)"
   ]
  },
  {
   "cell_type": "code",
   "execution_count": null,
   "id": "975fa800-28fd-4e0f-9bb2-7e87c63340a0",
   "metadata": {},
   "outputs": [],
   "source": []
  }
 ],
 "metadata": {
  "kernelspec": {
   "display_name": "Python 3 (ipykernel)",
   "language": "python",
   "name": "python3"
  },
  "language_info": {
   "codemirror_mode": {
    "name": "ipython",
    "version": 3
   },
   "file_extension": ".py",
   "mimetype": "text/x-python",
   "name": "python",
   "nbconvert_exporter": "python",
   "pygments_lexer": "ipython3",
   "version": "3.11.5"
  }
 },
 "nbformat": 4,
 "nbformat_minor": 5
}
