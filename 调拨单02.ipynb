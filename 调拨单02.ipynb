{
 "cells": [
  {
   "cell_type": "code",
   "execution_count": 1,
   "id": "266e0b06-2a1b-42ce-836b-1fdcd84aed78",
   "metadata": {},
   "outputs": [],
   "source": [
    "'''\n",
    "Tcloud调拨单\n",
    "'''\n",
    "import os\n",
    "import datetime\n",
    "import easygui\n",
    "import numpy as np\n",
    "import pandas as pd\n",
    "import openpyxl\n",
    "from openpyxl.styles import Font, Border, Side, Fill, Alignment\n",
    "import formatPainter\n",
    "import re\n"
   ]
  },
  {
   "cell_type": "code",
   "execution_count": 3,
   "id": "a9722933-eeda-449c-bb2f-64b5a0fb99ce",
   "metadata": {},
   "outputs": [],
   "source": [
    "def getDiaobo(fname_diaobo):\n",
    "    df_diaobo = pd.read_excel(fname_diaobo)\n",
    "    df_diaobo = df_diaobo.iloc[:-1]\n",
    "    df_diaobo  = df_diaobo[['存货名称','规格型号','调出仓库','调入仓库','数量（本）','数量2（件）']]\n",
    "    dic_diaobo = dict(zip(['存货名称', '规格型号', '调出仓库', '调入仓库', '数量（本）', '数量2（件）'],['code', 'stock', '调出仓库', '调入仓库', 'ben', 'jian']))\n",
    "    df_diaobo = df_diaobo.rename(columns = dic_diaobo)\n",
    "    #调拨入库\n",
    "    df_diaobo_ruku = df_diaobo.loc[df_diaobo['调入仓库'] == '发货仓库']\n",
    "    df_diaobo_ruku = df_diaobo_ruku[['code', 'stock',  'ben', 'jian']]\n",
    "    df_diaobo_ruku.columns = ['code', 'stock',  'diaobo_ruku_ben', 'diaobo_ruku_jian']\n",
    "    #调拨出库\n",
    "    df_diaobo_chuku = df_diaobo.loc[df_diaobo['调出仓库'] == '发货仓库']\n",
    "    df_diaobo_chuku = df_diaobo_chuku[['code', 'stock',  'ben', 'jian']]\n",
    "    df_diaobo_chuku.columns = ['code', 'stock',  'diaobo_chku_ben', 'diaobo_chuku_jian']\n",
    "    df_diaobo_chuku\n",
    "    return df_diaobo_ruku,df_diaobo_chuku\n"
   ]
  },
  {
   "cell_type": "code",
   "execution_count": 4,
   "id": "f86d4a3d-2e7f-4c1d-b5b7-a33e5c51b425",
   "metadata": {},
   "outputs": [],
   "source": [
    "fname_diaobo = r\"F:\\a00nutstore\\006\\zw\\产成品日报表\\2024年\\2024年9月\\9月5日\\产成品库存调整\\调拨单.xlsx\"\n",
    "df_diaobo_ruku,df_diaobo_chuku = getDiaobo(fname_diaobo)"
   ]
  }
 ],
 "metadata": {
  "kernelspec": {
   "display_name": "Python 3 (ipykernel)",
   "language": "python",
   "name": "python3"
  },
  "language_info": {
   "codemirror_mode": {
    "name": "ipython",
    "version": 3
   },
   "file_extension": ".py",
   "mimetype": "text/x-python",
   "name": "python",
   "nbconvert_exporter": "python",
   "pygments_lexer": "ipython3",
   "version": "3.11.5"
  }
 },
 "nbformat": 4,
 "nbformat_minor": 5
}
