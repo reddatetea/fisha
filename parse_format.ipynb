{
 "cells": [
  {
   "cell_type": "code",
   "execution_count": 2,
   "id": "de75d5fb",
   "metadata": {},
   "outputs": [],
   "source": [
    "import parse\n"
   ]
  },
  {
   "cell_type": "code",
   "execution_count": 3,
   "id": "fc8aa092",
   "metadata": {},
   "outputs": [],
   "source": [
    "LOG = '[2018-05-06T12:58:00.714611] - SALE - PRODUCT: 1345 - PRICE:$09.99'"
   ]
  },
  {
   "cell_type": "code",
   "execution_count": 4,
   "id": "f514b826",
   "metadata": {},
   "outputs": [],
   "source": [
    "FORMAT = '[{date}] - SALE - PRODUCT: {product} - PRICE:${price}'"
   ]
  },
  {
   "cell_type": "code",
   "execution_count": 5,
   "id": "c99b93d7",
   "metadata": {},
   "outputs": [
    {
     "data": {
      "text/plain": [
       "<Result () {'date': '2018-05-06T12:58:00.714611', 'product': '1345', 'price': '09.99'}>"
      ]
     },
     "execution_count": 5,
     "metadata": {},
     "output_type": "execute_result"
    }
   ],
   "source": [
    "result = parse.parse(FORMAT,LOG)\n",
    "result"
   ]
  },
  {
   "cell_type": "code",
   "execution_count": 6,
   "id": "3f403ac2",
   "metadata": {},
   "outputs": [
    {
     "data": {
      "text/plain": [
       "'09.99'"
      ]
     },
     "execution_count": 6,
     "metadata": {},
     "output_type": "execute_result"
    }
   ],
   "source": [
    "result['price']"
   ]
  },
  {
   "cell_type": "code",
   "execution_count": null,
   "id": "8bfd7521",
   "metadata": {},
   "outputs": [],
   "source": []
  }
 ],
 "metadata": {
  "kernelspec": {
   "display_name": "Python 3 (ipykernel)",
   "language": "python",
   "name": "python3"
  },
  "language_info": {
   "codemirror_mode": {
    "name": "ipython",
    "version": 3
   },
   "file_extension": ".py",
   "mimetype": "text/x-python",
   "name": "python",
   "nbconvert_exporter": "python",
   "pygments_lexer": "ipython3",
   "version": "3.8.3"
  }
 },
 "nbformat": 4,
 "nbformat_minor": 5
}
