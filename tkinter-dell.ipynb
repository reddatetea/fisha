{
 "cells": [
  {
   "cell_type": "code",
   "execution_count": 2,
   "id": "c2023db3",
   "metadata": {},
   "outputs": [],
   "source": [
    "from tkinter import *\n",
    "from tkinter.ttk import Separator\n",
    "root = Tk()\n",
    "root.title(\"ch2_26\")\n",
    "myTittle = '一个人的极地旅行'\n",
    "myContent =  '''2016年12月，我一个人订了机票和船票，\n",
    "开始我的南极旅行，飞机经迪拜再往阿根廷的乌斯怀亚，\n",
    "在此我登上邮轮开始我的南极之旅'''\n",
    "lab1 = Label(root,text = myTittle,font = 'Helvetic 20 bold')\n",
    "lab1.pack(padx = 10,pady = 10)\n",
    "sep = Separator(root,orient = HORIZONTAL)\n",
    "sep.pack(fill = X,padx = 10)\n",
    "lab2 = Label(root,text = myContent)\n",
    "lab2.pack(padx = 10 ,pady =10)\n",
    "root.mainloop()\n",
    "\n",
    "\n"
   ]
  },
  {
   "cell_type": "code",
   "execution_count": 7,
   "id": "9af7de15",
   "metadata": {},
   "outputs": [],
   "source": [
    "from tkinter import *\n",
    "def msgShow():\n",
    "    label['text'] = 'I love Python'\n",
    "    label['bg'] = 'lightyellow'\n",
    "    label['fg']  = 'blue'\n",
    "root = Tk()\n",
    "root.title = 'ch4_1'\n",
    "label  = Label(root)\n",
    "btn = Button(root,text =  '打印消息',command = msgShow)\n",
    "label.pack()\n",
    "btn.pack()\n",
    "root.mainloop()\n",
    "    "
   ]
  },
  {
   "cell_type": "code",
   "execution_count": 8,
   "id": "8a1cd2f3",
   "metadata": {},
   "outputs": [],
   "source": [
    "from tkinter import *\n",
    "def msgShow():\n",
    "    label.config(text = 'I love Python',bg = 'lightyellow',fg = 'blue')\n",
    "root = Tk()\n",
    "root.title = 'ch4_2'\n",
    "label  = Label(root)\n",
    "btn = Button(root,text =  '打印消息',command = msgShow)\n",
    "label.pack()\n",
    "btn.pack()\n",
    "root.mainloop()"
   ]
  },
  {
   "cell_type": "code",
   "execution_count": 11,
   "id": "151743f6",
   "metadata": {},
   "outputs": [],
   "source": [
    "from tkinter import *\n",
    "def msgShow():\n",
    "    label.config(text = 'I love Python',bg = 'lightyellow',fg = 'blue')\n",
    "root = Tk()\n",
    "root.title = 'ch4_3'\n",
    "label  = Label(root)\n",
    "btn1 = Button(root,text =  '打印消息',width = 15,command = msgShow)\n",
    "btn2 = Button(root,text =  '结束',width = 15,command = root.destroy)\n",
    "label.pack()\n",
    "btn1.pack(side  = LEFT)\n",
    "btn2.pack(side = LEFT)\n",
    "root.mainloop()"
   ]
  },
  {
   "cell_type": "code",
   "execution_count": null,
   "id": "18b9eaf4",
   "metadata": {},
   "outputs": [],
   "source": []
  }
 ],
 "metadata": {
  "kernelspec": {
   "display_name": "Python 3 (ipykernel)",
   "language": "python",
   "name": "python3"
  },
  "language_info": {
   "codemirror_mode": {
    "name": "ipython",
    "version": 3
   },
   "file_extension": ".py",
   "mimetype": "text/x-python",
   "name": "python",
   "nbconvert_exporter": "python",
   "pygments_lexer": "ipython3",
   "version": "3.11.4"
  }
 },
 "nbformat": 4,
 "nbformat_minor": 5
}
