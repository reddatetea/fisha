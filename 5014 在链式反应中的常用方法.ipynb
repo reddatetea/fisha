{
 "cells": [
  {
   "cell_type": "code",
   "execution_count": 1,
   "id": "4473df65",
   "metadata": {},
   "outputs": [],
   "source": [
    "import pandas as pd\n",
    "import numpy as np"
   ]
  },
  {
   "cell_type": "markdown",
   "id": "dfcadac5",
   "metadata": {},
   "source": [
    "使用filter,map,assign,eval,apply,groupby,rename,loc,query,agg等进行链式方法的录入"
   ]
  },
  {
   "cell_type": "code",
   "execution_count": 2,
   "id": "cbf93c31",
   "metadata": {},
   "outputs": [],
   "source": [
    "df_fk=pd.read_excel(r\"D:\\1日常学习文件夹\\Python-pandas数据集\\caiwufenxi\\在建工程.xlsx\",sheet_name=\"付款\")"
   ]
  },
  {
   "cell_type": "code",
   "execution_count": 3,
   "id": "6ba25675",
   "metadata": {},
   "outputs": [
    {
     "data": {
      "text/html": [
       "<div>\n",
       "<style scoped>\n",
       "    .dataframe tbody tr th:only-of-type {\n",
       "        vertical-align: middle;\n",
       "    }\n",
       "\n",
       "    .dataframe tbody tr th {\n",
       "        vertical-align: top;\n",
       "    }\n",
       "\n",
       "    .dataframe thead th {\n",
       "        text-align: right;\n",
       "    }\n",
       "</style>\n",
       "<table border=\"1\" class=\"dataframe\">\n",
       "  <thead>\n",
       "    <tr style=\"text-align: right;\">\n",
       "      <th></th>\n",
       "      <th>合同编号</th>\n",
       "      <th>客商编码</th>\n",
       "      <th>合同额</th>\n",
       "      <th>实际结算额</th>\n",
       "      <th>会计凭证号</th>\n",
       "      <th>付款时间</th>\n",
       "      <th>付款额</th>\n",
       "      <th>发票额</th>\n",
       "      <th>备注说明</th>\n",
       "    </tr>\n",
       "  </thead>\n",
       "  <tbody>\n",
       "    <tr>\n",
       "      <th>0</th>\n",
       "      <td>SB_001</td>\n",
       "      <td>A001</td>\n",
       "      <td>7500000</td>\n",
       "      <td>NaN</td>\n",
       "      <td>建-0010</td>\n",
       "      <td>2020-12-12</td>\n",
       "      <td>2250000</td>\n",
       "      <td>NaN</td>\n",
       "      <td>NaN</td>\n",
       "    </tr>\n",
       "    <tr>\n",
       "      <th>1</th>\n",
       "      <td>SB_002</td>\n",
       "      <td>A002</td>\n",
       "      <td>1500000</td>\n",
       "      <td>NaN</td>\n",
       "      <td>建-0011</td>\n",
       "      <td>2020-12-12</td>\n",
       "      <td>450000</td>\n",
       "      <td>NaN</td>\n",
       "      <td>NaN</td>\n",
       "    </tr>\n",
       "    <tr>\n",
       "      <th>2</th>\n",
       "      <td>SB_003</td>\n",
       "      <td>A001</td>\n",
       "      <td>300000</td>\n",
       "      <td>NaN</td>\n",
       "      <td>建-0012</td>\n",
       "      <td>2020-12-12</td>\n",
       "      <td>90000</td>\n",
       "      <td>NaN</td>\n",
       "      <td>NaN</td>\n",
       "    </tr>\n",
       "  </tbody>\n",
       "</table>\n",
       "</div>"
      ],
      "text/plain": [
       "     合同编号  客商编码      合同额  实际结算额   会计凭证号       付款时间      付款额  发票额  备注说明\n",
       "0  SB_001  A001  7500000    NaN  建-0010 2020-12-12  2250000  NaN   NaN\n",
       "1  SB_002  A002  1500000    NaN  建-0011 2020-12-12   450000  NaN   NaN\n",
       "2  SB_003  A001   300000    NaN  建-0012 2020-12-12    90000  NaN   NaN"
      ]
     },
     "execution_count": 3,
     "metadata": {},
     "output_type": "execute_result"
    }
   ],
   "source": [
    "df_fk.head(3)"
   ]
  },
  {
   "cell_type": "markdown",
   "id": "79773f88",
   "metadata": {},
   "source": [
    "# 列的筛选和增加的方法"
   ]
  },
  {
   "cell_type": "markdown",
   "id": "0ae36351",
   "metadata": {},
   "source": [
    "## 使用query筛选列"
   ]
  },
  {
   "cell_type": "markdown",
   "id": "d20559de",
   "metadata": {},
   "source": [
    "query之间的列名操作都使用原始的列名。和eval可以对比使用。\n",
    "\n",
    "同eval的不同点在于，eval除了用于查询外还可以增加新列或者对原有的列进行计算\n",
    "\n",
    "可以使用@变量的形式添加变量来进行使用"
   ]
  },
  {
   "cell_type": "code",
   "execution_count": 4,
   "id": "bd8e3f10",
   "metadata": {},
   "outputs": [
    {
     "data": {
      "text/plain": [
       "274057.8947368421"
      ]
     },
     "execution_count": 4,
     "metadata": {},
     "output_type": "execute_result"
    }
   ],
   "source": [
    "a01=df_fk.付款额.mean()\n",
    "a01"
   ]
  },
  {
   "cell_type": "code",
   "execution_count": 5,
   "id": "7ff0aaa7",
   "metadata": {},
   "outputs": [
    {
     "data": {
      "text/html": [
       "<div>\n",
       "<style scoped>\n",
       "    .dataframe tbody tr th:only-of-type {\n",
       "        vertical-align: middle;\n",
       "    }\n",
       "\n",
       "    .dataframe tbody tr th {\n",
       "        vertical-align: top;\n",
       "    }\n",
       "\n",
       "    .dataframe thead th {\n",
       "        text-align: right;\n",
       "    }\n",
       "</style>\n",
       "<table border=\"1\" class=\"dataframe\">\n",
       "  <thead>\n",
       "    <tr style=\"text-align: right;\">\n",
       "      <th></th>\n",
       "      <th>合同编号</th>\n",
       "      <th>客商编码</th>\n",
       "      <th>付款额</th>\n",
       "    </tr>\n",
       "  </thead>\n",
       "  <tbody>\n",
       "    <tr>\n",
       "      <th>0</th>\n",
       "      <td>SB_001</td>\n",
       "      <td>A001</td>\n",
       "      <td>2250000</td>\n",
       "    </tr>\n",
       "    <tr>\n",
       "      <th>1</th>\n",
       "      <td>SB_002</td>\n",
       "      <td>A002</td>\n",
       "      <td>450000</td>\n",
       "    </tr>\n",
       "    <tr>\n",
       "      <th>11</th>\n",
       "      <td>TJ_001</td>\n",
       "      <td>A008</td>\n",
       "      <td>900000</td>\n",
       "    </tr>\n",
       "    <tr>\n",
       "      <th>12</th>\n",
       "      <td>TJ_002</td>\n",
       "      <td>A009</td>\n",
       "      <td>450000</td>\n",
       "    </tr>\n",
       "    <tr>\n",
       "      <th>37</th>\n",
       "      <td>SB_001</td>\n",
       "      <td>A001</td>\n",
       "      <td>4500000</td>\n",
       "    </tr>\n",
       "    <tr>\n",
       "      <th>38</th>\n",
       "      <td>SB_002</td>\n",
       "      <td>A002</td>\n",
       "      <td>900000</td>\n",
       "    </tr>\n",
       "    <tr>\n",
       "      <th>49</th>\n",
       "      <td>TJ_001</td>\n",
       "      <td>A008</td>\n",
       "      <td>1200000</td>\n",
       "    </tr>\n",
       "    <tr>\n",
       "      <th>50</th>\n",
       "      <td>TJ_002</td>\n",
       "      <td>A009</td>\n",
       "      <td>600000</td>\n",
       "    </tr>\n",
       "    <tr>\n",
       "      <th>51</th>\n",
       "      <td>TJ_003</td>\n",
       "      <td>A010</td>\n",
       "      <td>624000</td>\n",
       "    </tr>\n",
       "  </tbody>\n",
       "</table>\n",
       "</div>"
      ],
      "text/plain": [
       "      合同编号  客商编码      付款额\n",
       "0   SB_001  A001  2250000\n",
       "1   SB_002  A002   450000\n",
       "11  TJ_001  A008   900000\n",
       "12  TJ_002  A009   450000\n",
       "37  SB_001  A001  4500000\n",
       "38  SB_002  A002   900000\n",
       "49  TJ_001  A008  1200000\n",
       "50  TJ_002  A009   600000\n",
       "51  TJ_003  A010   624000"
      ]
     },
     "execution_count": 5,
     "metadata": {},
     "output_type": "execute_result"
    }
   ],
   "source": [
    "df1=(df_fk.filter(items=[\"合同编号\",\"客商编码\",\"付款额\"])\n",
    "     .query('付款额==450000 | 付款额>500000')\n",
    "     .copy()\n",
    ")\n",
    "df1"
   ]
  },
  {
   "cell_type": "code",
   "execution_count": 6,
   "id": "80f91c2e",
   "metadata": {},
   "outputs": [
    {
     "data": {
      "text/html": [
       "<div>\n",
       "<style scoped>\n",
       "    .dataframe tbody tr th:only-of-type {\n",
       "        vertical-align: middle;\n",
       "    }\n",
       "\n",
       "    .dataframe tbody tr th {\n",
       "        vertical-align: top;\n",
       "    }\n",
       "\n",
       "    .dataframe thead th {\n",
       "        text-align: right;\n",
       "    }\n",
       "</style>\n",
       "<table border=\"1\" class=\"dataframe\">\n",
       "  <thead>\n",
       "    <tr style=\"text-align: right;\">\n",
       "      <th></th>\n",
       "      <th>合同编号</th>\n",
       "      <th>客商编码</th>\n",
       "      <th>付款额</th>\n",
       "    </tr>\n",
       "  </thead>\n",
       "  <tbody>\n",
       "    <tr>\n",
       "      <th>0</th>\n",
       "      <td>SB_001</td>\n",
       "      <td>A001</td>\n",
       "      <td>2250000</td>\n",
       "    </tr>\n",
       "    <tr>\n",
       "      <th>11</th>\n",
       "      <td>TJ_001</td>\n",
       "      <td>A008</td>\n",
       "      <td>900000</td>\n",
       "    </tr>\n",
       "    <tr>\n",
       "      <th>37</th>\n",
       "      <td>SB_001</td>\n",
       "      <td>A001</td>\n",
       "      <td>4500000</td>\n",
       "    </tr>\n",
       "    <tr>\n",
       "      <th>38</th>\n",
       "      <td>SB_002</td>\n",
       "      <td>A002</td>\n",
       "      <td>900000</td>\n",
       "    </tr>\n",
       "    <tr>\n",
       "      <th>49</th>\n",
       "      <td>TJ_001</td>\n",
       "      <td>A008</td>\n",
       "      <td>1200000</td>\n",
       "    </tr>\n",
       "    <tr>\n",
       "      <th>5</th>\n",
       "      <td>sd</td>\n",
       "      <td>fd</td>\n",
       "      <td>9750000</td>\n",
       "    </tr>\n",
       "  </tbody>\n",
       "</table>\n",
       "</div>"
      ],
      "text/plain": [
       "      合同编号  客商编码      付款额\n",
       "0   SB_001  A001  2250000\n",
       "11  TJ_001  A008   900000\n",
       "37  SB_001  A001  4500000\n",
       "38  SB_002  A002   900000\n",
       "49  TJ_001  A008  1200000\n",
       "5       sd    fd  9750000"
      ]
     },
     "execution_count": 6,
     "metadata": {},
     "output_type": "execute_result"
    }
   ],
   "source": [
    "#在链式反应中难免需要引入变量，可以使用如下的玩法\n",
    "df2=(df_fk[[\"合同编号\",\"客商编码\",\"付款额\"]]\n",
    "     .query('付款额>(400000+@a01)')\n",
    "    )\n",
    "# 增加行的操作如果用下面的方式就无法进行链式操作\n",
    "a=df2.付款额.sum()\n",
    "df2.loc[len(df2)]=[\"sd\",\"fd\",a]\n",
    "df2"
   ]
  },
  {
   "cell_type": "markdown",
   "id": "492161d3",
   "metadata": {},
   "source": [
    "## 使用eval增加列和列间的计算"
   ]
  },
  {
   "cell_type": "markdown",
   "id": "ecb54dba",
   "metadata": {},
   "source": [
    "eval之间的列名操作都使用**原始的列名**。\n",
    "\n",
    "可以使用**@变量**的形式添加变量来进行使用"
   ]
  },
  {
   "cell_type": "code",
   "execution_count": 7,
   "id": "9d8f5b2b",
   "metadata": {},
   "outputs": [
    {
     "data": {
      "text/html": [
       "<div>\n",
       "<style scoped>\n",
       "    .dataframe tbody tr th:only-of-type {\n",
       "        vertical-align: middle;\n",
       "    }\n",
       "\n",
       "    .dataframe tbody tr th {\n",
       "        vertical-align: top;\n",
       "    }\n",
       "\n",
       "    .dataframe thead th {\n",
       "        text-align: right;\n",
       "    }\n",
       "</style>\n",
       "<table border=\"1\" class=\"dataframe\">\n",
       "  <thead>\n",
       "    <tr style=\"text-align: right;\">\n",
       "      <th></th>\n",
       "      <th>合同编号</th>\n",
       "      <th>客商编码</th>\n",
       "      <th>付款额</th>\n",
       "      <th>jiangjin</th>\n",
       "    </tr>\n",
       "  </thead>\n",
       "  <tbody>\n",
       "    <tr>\n",
       "      <th>0</th>\n",
       "      <td>SB_001</td>\n",
       "      <td>A001</td>\n",
       "      <td>2250000</td>\n",
       "      <td>225000.0</td>\n",
       "    </tr>\n",
       "    <tr>\n",
       "      <th>11</th>\n",
       "      <td>TJ_001</td>\n",
       "      <td>A008</td>\n",
       "      <td>900000</td>\n",
       "      <td>90000.0</td>\n",
       "    </tr>\n",
       "    <tr>\n",
       "      <th>37</th>\n",
       "      <td>SB_001</td>\n",
       "      <td>A001</td>\n",
       "      <td>4500000</td>\n",
       "      <td>450000.0</td>\n",
       "    </tr>\n",
       "    <tr>\n",
       "      <th>38</th>\n",
       "      <td>SB_002</td>\n",
       "      <td>A002</td>\n",
       "      <td>900000</td>\n",
       "      <td>90000.0</td>\n",
       "    </tr>\n",
       "    <tr>\n",
       "      <th>49</th>\n",
       "      <td>TJ_001</td>\n",
       "      <td>A008</td>\n",
       "      <td>1200000</td>\n",
       "      <td>120000.0</td>\n",
       "    </tr>\n",
       "  </tbody>\n",
       "</table>\n",
       "</div>"
      ],
      "text/plain": [
       "      合同编号  客商编码      付款额  jiangjin\n",
       "0   SB_001  A001  2250000  225000.0\n",
       "11  TJ_001  A008   900000   90000.0\n",
       "37  SB_001  A001  4500000  450000.0\n",
       "38  SB_002  A002   900000   90000.0\n",
       "49  TJ_001  A008  1200000  120000.0"
      ]
     },
     "execution_count": 7,
     "metadata": {},
     "output_type": "execute_result"
    }
   ],
   "source": [
    "df3=(df_fk[[\"合同编号\",\"客商编码\",\"付款额\"]]\n",
    "     .query('付款额>(400000+@a01)')\n",
    "     .eval(\"jiangjin=付款额*0.1\")\n",
    "    )\n",
    "df3"
   ]
  },
  {
   "cell_type": "markdown",
   "id": "f1d47fa5",
   "metadata": {},
   "source": [
    "# 使用assign增加列"
   ]
  },
  {
   "cell_type": "markdown",
   "id": "3675dade",
   "metadata": {},
   "source": [
    "同eval的不同点：\n",
    "\n",
    "新增加的列是直接写列名，已有的列是要写df.age等格式\n",
    "\n",
    "两边不需要使用\"  \""
   ]
  },
  {
   "cell_type": "markdown",
   "id": "2a8dd312",
   "metadata": {},
   "source": [
    "## 新增一个计算列"
   ]
  },
  {
   "cell_type": "code",
   "execution_count": 8,
   "id": "de41bb80",
   "metadata": {},
   "outputs": [
    {
     "data": {
      "text/html": [
       "<div>\n",
       "<style scoped>\n",
       "    .dataframe tbody tr th:only-of-type {\n",
       "        vertical-align: middle;\n",
       "    }\n",
       "\n",
       "    .dataframe tbody tr th {\n",
       "        vertical-align: top;\n",
       "    }\n",
       "\n",
       "    .dataframe thead th {\n",
       "        text-align: right;\n",
       "    }\n",
       "</style>\n",
       "<table border=\"1\" class=\"dataframe\">\n",
       "  <thead>\n",
       "    <tr style=\"text-align: right;\">\n",
       "      <th></th>\n",
       "      <th>合同编号</th>\n",
       "      <th>客商编码</th>\n",
       "      <th>付款额</th>\n",
       "      <th>奖金额</th>\n",
       "      <th>尾款</th>\n",
       "    </tr>\n",
       "  </thead>\n",
       "  <tbody>\n",
       "    <tr>\n",
       "      <th>0</th>\n",
       "      <td>SB_001</td>\n",
       "      <td>A001</td>\n",
       "      <td>2250000</td>\n",
       "      <td>225000.0</td>\n",
       "      <td>1800000.0</td>\n",
       "    </tr>\n",
       "    <tr>\n",
       "      <th>11</th>\n",
       "      <td>TJ_001</td>\n",
       "      <td>A008</td>\n",
       "      <td>900000</td>\n",
       "      <td>90000.0</td>\n",
       "      <td>720000.0</td>\n",
       "    </tr>\n",
       "    <tr>\n",
       "      <th>37</th>\n",
       "      <td>SB_001</td>\n",
       "      <td>A001</td>\n",
       "      <td>4500000</td>\n",
       "      <td>450000.0</td>\n",
       "      <td>3600000.0</td>\n",
       "    </tr>\n",
       "    <tr>\n",
       "      <th>38</th>\n",
       "      <td>SB_002</td>\n",
       "      <td>A002</td>\n",
       "      <td>900000</td>\n",
       "      <td>90000.0</td>\n",
       "      <td>720000.0</td>\n",
       "    </tr>\n",
       "    <tr>\n",
       "      <th>49</th>\n",
       "      <td>TJ_001</td>\n",
       "      <td>A008</td>\n",
       "      <td>1200000</td>\n",
       "      <td>120000.0</td>\n",
       "      <td>960000.0</td>\n",
       "    </tr>\n",
       "  </tbody>\n",
       "</table>\n",
       "</div>"
      ],
      "text/plain": [
       "      合同编号  客商编码      付款额       奖金额         尾款\n",
       "0   SB_001  A001  2250000  225000.0  1800000.0\n",
       "11  TJ_001  A008   900000   90000.0   720000.0\n",
       "37  SB_001  A001  4500000  450000.0  3600000.0\n",
       "38  SB_002  A002   900000   90000.0   720000.0\n",
       "49  TJ_001  A008  1200000  120000.0   960000.0"
      ]
     },
     "execution_count": 8,
     "metadata": {},
     "output_type": "execute_result"
    }
   ],
   "source": [
    "df4=(df_fk[[\"合同编号\",\"客商编码\",\"付款额\"]]\n",
    "     .query('付款额>(400000+@a01)')\n",
    "     .assign(奖金额=df_fk.付款额*0.1)\n",
    "     .assign(尾款=df_fk.付款额*0.8)\n",
    "    )\n",
    "df4"
   ]
  },
  {
   "cell_type": "markdown",
   "id": "569433c2",
   "metadata": {},
   "source": [
    "## 对已有的列进行修改"
   ]
  },
  {
   "cell_type": "code",
   "execution_count": 9,
   "id": "2fe87ea9",
   "metadata": {},
   "outputs": [
    {
     "data": {
      "text/html": [
       "<div>\n",
       "<style scoped>\n",
       "    .dataframe tbody tr th:only-of-type {\n",
       "        vertical-align: middle;\n",
       "    }\n",
       "\n",
       "    .dataframe tbody tr th {\n",
       "        vertical-align: top;\n",
       "    }\n",
       "\n",
       "    .dataframe thead th {\n",
       "        text-align: right;\n",
       "    }\n",
       "</style>\n",
       "<table border=\"1\" class=\"dataframe\">\n",
       "  <thead>\n",
       "    <tr style=\"text-align: right;\">\n",
       "      <th></th>\n",
       "      <th>合同编号</th>\n",
       "      <th>客商编码</th>\n",
       "      <th>付款额</th>\n",
       "      <th>奖金额</th>\n",
       "      <th>尾款</th>\n",
       "    </tr>\n",
       "  </thead>\n",
       "  <tbody>\n",
       "    <tr>\n",
       "      <th>0</th>\n",
       "      <td>SB_001</td>\n",
       "      <td>A001</td>\n",
       "      <td>22500000</td>\n",
       "      <td>225000.0</td>\n",
       "      <td>1800000.0</td>\n",
       "    </tr>\n",
       "    <tr>\n",
       "      <th>11</th>\n",
       "      <td>TJ_001</td>\n",
       "      <td>A008</td>\n",
       "      <td>9000000</td>\n",
       "      <td>90000.0</td>\n",
       "      <td>720000.0</td>\n",
       "    </tr>\n",
       "    <tr>\n",
       "      <th>37</th>\n",
       "      <td>SB_001</td>\n",
       "      <td>A001</td>\n",
       "      <td>45000000</td>\n",
       "      <td>450000.0</td>\n",
       "      <td>3600000.0</td>\n",
       "    </tr>\n",
       "    <tr>\n",
       "      <th>38</th>\n",
       "      <td>SB_002</td>\n",
       "      <td>A002</td>\n",
       "      <td>9000000</td>\n",
       "      <td>90000.0</td>\n",
       "      <td>720000.0</td>\n",
       "    </tr>\n",
       "    <tr>\n",
       "      <th>49</th>\n",
       "      <td>TJ_001</td>\n",
       "      <td>A008</td>\n",
       "      <td>12000000</td>\n",
       "      <td>120000.0</td>\n",
       "      <td>960000.0</td>\n",
       "    </tr>\n",
       "  </tbody>\n",
       "</table>\n",
       "</div>"
      ],
      "text/plain": [
       "      合同编号  客商编码       付款额       奖金额         尾款\n",
       "0   SB_001  A001  22500000  225000.0  1800000.0\n",
       "11  TJ_001  A008   9000000   90000.0   720000.0\n",
       "37  SB_001  A001  45000000  450000.0  3600000.0\n",
       "38  SB_002  A002   9000000   90000.0   720000.0\n",
       "49  TJ_001  A008  12000000  120000.0   960000.0"
      ]
     },
     "execution_count": 9,
     "metadata": {},
     "output_type": "execute_result"
    }
   ],
   "source": [
    "df5=(df4\n",
    "     .copy()\n",
    "     .assign(付款额=df4.付款额*10)\n",
    "    )\n",
    "df5"
   ]
  },
  {
   "cell_type": "markdown",
   "id": "32465afd",
   "metadata": {},
   "source": [
    "## 新增多个计算列"
   ]
  },
  {
   "cell_type": "code",
   "execution_count": null,
   "id": "472b5d1b",
   "metadata": {},
   "outputs": [],
   "source": [
    "df6=(df5\n",
    "     .assign(合计=df5.付款额+df5.奖金额)\n",
    "     .assign(提成=lambda d:d.合计*0.1)\n",
    "    )\n",
    "df6"
   ]
  },
  {
   "attachments": {
    "image.png": {
     "image/png": "[encoded data removed]"
    }
   },
   "cell_type": "markdown",
   "id": "146a72fd",
   "metadata": {},
   "source": [
    "在这个例子中，前面生成的合计列，如果后面使用**提成=df5.合计**，则会提示错误\n",
    "![image.png](attachment:image.png)\n"
   ]
  },
  {
   "cell_type": "markdown",
   "id": "89403cbb",
   "metadata": {},
   "source": [
    " 这个错误的原因非常重要，因为本质上df5没有合计列，\n",
    " \n",
    " 只能通过lambda进行调用，这部分内容看深入浅出的Pandas一书P108的说明"
   ]
  },
  {
   "cell_type": "markdown",
   "id": "6b54a7ea",
   "metadata": {},
   "source": [
    "# 对列索引的筛选使用filter(items=[])"
   ]
  },
  {
   "cell_type": "code",
   "execution_count": null,
   "id": "2cd14b41",
   "metadata": {},
   "outputs": [],
   "source": [
    "# 使用filter对列进行筛选在链式反应中很常见\n",
    "df5=(df_fk.filter(items=[\"合同编号\",\"客商编码\",\"付款额\"])\n",
    "     .query('付款额>(400000+@a01)')\n",
    "     .assign(奖金额=df_fk.付款额*0.1)\n",
    "     .assign(尾款=df_fk.付款额*0.8)\n",
    "     .eval(\"奖金尾款合计=奖金额+尾款\")\n",
    "    )\n",
    "df5"
   ]
  },
  {
   "cell_type": "markdown",
   "id": "9deba737",
   "metadata": {},
   "source": [
    "#  使用insert增加列"
   ]
  },
  {
   "cell_type": "markdown",
   "id": "1bbd37f5",
   "metadata": {},
   "source": [
    "insert有三个参数，列数，列名，列的公式是个一个Series"
   ]
  },
  {
   "attachments": {
    "image.png": {
     "image/png": "[encoded data removed]"
    }
   },
   "cell_type": "markdown",
   "id": "975454b1",
   "metadata": {},
   "source": [
    "![image.png](attachment:image.png)"
   ]
  },
  {
   "cell_type": "code",
   "execution_count": null,
   "id": "76dda2a5",
   "metadata": {},
   "outputs": [],
   "source": [
    "a=df5.奖金额.sum(0)\n",
    "df5.insert(4,\"fuku02\",a)\n",
    "df5"
   ]
  },
  {
   "cell_type": "markdown",
   "id": "0aee9659",
   "metadata": {},
   "source": [
    "# 对行中的数据进行筛选"
   ]
  },
  {
   "cell_type": "markdown",
   "id": "59aea4fb",
   "metadata": {},
   "source": [
    "## loc和filter进行筛选"
   ]
  },
  {
   "cell_type": "markdown",
   "id": "cab2b606",
   "metadata": {},
   "source": [
    "这部分内容看filter的内容介绍"
   ]
  },
  {
   "cell_type": "markdown",
   "id": "9563f9d2",
   "metadata": {},
   "source": [
    "## 增加行"
   ]
  },
  {
   "cell_type": "markdown",
   "id": "4c2797d1",
   "metadata": {},
   "source": [
    "增加行的内容，目前只能在链式方法外进行操作。\n",
    "\n",
    "目前链式方法只在列的增减方面能比较舒服，\n",
    "\n",
    "在行的操作，以及变量定义等方面还是需要另外的操作方式。"
   ]
  },
  {
   "cell_type": "code",
   "execution_count": null,
   "id": "19492125",
   "metadata": {},
   "outputs": [],
   "source": []
  }
 ],
 "metadata": {
  "kernelspec": {
   "display_name": "Python 3 (ipykernel)",
   "language": "python",
   "name": "python3"
  },
  "language_info": {
   "codemirror_mode": {
    "name": "ipython",
    "version": 3
   },
   "file_extension": ".py",
   "mimetype": "text/x-python",
   "name": "python",
   "nbconvert_exporter": "python",
   "pygments_lexer": "ipython3",
   "version": "3.9.13"
  },
  "nbTranslate": {
   "displayLangs": [
    "*"
   ],
   "hotkey": "alt-t",
   "langInMainMenu": true,
   "sourceLang": "en",
   "targetLang": "fr",
   "useGoogleTranslate": true
  },
  "toc": {
   "base_numbering": 1,
   "nav_menu": {},
   "number_sections": true,
   "sideBar": true,
   "skip_h1_title": false,
   "title_cell": "Table of Contents",
   "title_sidebar": "Contents",
   "toc_cell": false,
   "toc_position": {
    "height": "calc(100% - 180px)",
    "left": "10px",
    "top": "150px",
    "width": "182.125px"
   },
   "toc_section_display": true,
   "toc_window_display": true
  },
  "varInspector": {
   "cols": {
    "lenName": 16,
    "lenType": 16,
    "lenVar": 40
   },
   "kernels_config": {
    "python": {
     "delete_cmd_postfix": "",
     "delete_cmd_prefix": "del ",
     "library": "var_list.py",
     "varRefreshCmd": "print(var_dic_list())"
    },
    "r": {
     "delete_cmd_postfix": ") ",
     "delete_cmd_prefix": "rm(",
     "library": "var_list.r",
     "varRefreshCmd": "cat(var_dic_list()) "
    }
   },
   "types_to_exclude": [
    "module",
    "function",
    "builtin_function_or_method",
    "instance",
    "_Feature"
   ],
   "window_display": false
  }
 },
 "nbformat": 4,
 "nbformat_minor": 5
}
