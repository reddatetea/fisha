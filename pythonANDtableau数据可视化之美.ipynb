{
 "cells": [
  {
   "cell_type": "code",
   "execution_count": 2,
   "id": "3a8d212e",
   "metadata": {},
   "outputs": [
    {
     "data": {
      "text/plain": [
       "'F:\\\\a00nutstore\\\\fishc\\\\柱形图-公司收入业绩分析.html'"
      ]
     },
     "execution_count": 2,
     "metadata": {},
     "output_type": "execute_result"
    }
   ],
   "source": [
    "from pyecharts import options as opts\n",
    "from pyecharts.charts import Bar\n",
    "import pandas as pd\n",
    "#from pyecharts.globals import ThemeType\n",
    "df=pd.read_excel(r'F:\\a00nutstore\\fishc\\公司收入业绩分析.xlsx')    #注意：运行前先将数据文件复制到D盘“图片”文件夹中\n",
    "df_list = df.values.tolist()\n",
    "\n",
    "x=[]\n",
    "y1=[]\n",
    "y2=[]\n",
    "y3=[]\n",
    "y4=[]\n",
    "for data in df_list:\n",
    "    x.append(data[0])\n",
    "    y1.append(data[1])\n",
    "    y2.append(data[2])\n",
    "    y3.append(data[3])\n",
    "    y4.append(data[4])\n",
    "\n",
    "b= Bar()\n",
    "b.add_xaxis(x)\n",
    "b.add_yaxis('一季度', y1,color='#FFA500',category_gap='35%')   #紫\n",
    "b.add_yaxis('二季度', y2,color='#00FFFF',category_gap='35%')     #粉\n",
    "b.add_yaxis('三季度', y3,color='#FFB6C1',category_gap='35%')     #绿\n",
    "b.add_yaxis('四季度', y4,color='#9932CC',category_gap='35%')     #橙色\n",
    "#b.theme = ThemeType.PURPLE_PASSION\n",
    "b.set_global_opts(title_opts=opts.TitleOpts('公司收入业绩分析',pos_left='5%'))\n",
    "b.render(path=r'F:\\a00nutstore\\fishc\\柱形图-公司收入业绩分析.html')     #注意：运行程序前请确保D盘有“图片”文件夹\n",
    "\n"
   ]
  },
  {
   "cell_type": "code",
   "execution_count": 4,
   "id": "e05415c7",
   "metadata": {},
   "outputs": [
    {
     "data": {
      "text/plain": [
       "'F:\\\\a00nutstore\\\\fishc\\\\柱形图-公司收入业绩分析.jpg'"
      ]
     },
     "execution_count": 4,
     "metadata": {},
     "output_type": "execute_result"
    }
   ],
   "source": [
    "b.render(path=r'F:\\a00nutstore\\fishc\\柱形图-公司收入业绩分析.jpg') #不支持jpg格式"
   ]
  },
  {
   "cell_type": "code",
   "execution_count": 5,
   "id": "85158a4d",
   "metadata": {},
   "outputs": [
    {
     "data": {
      "text/plain": [
       "<pyecharts.charts.basic_charts.bar.Bar at 0xb300610>"
      ]
     },
     "execution_count": 5,
     "metadata": {},
     "output_type": "execute_result"
    }
   ],
   "source": [
    "from pyecharts import options as opts\n",
    "from pyecharts.charts import Bar\n",
    "import pandas as pd\n",
    "#from pyecharts.globals import ThemeType\n",
    "df=pd.read_excel(r'F:\\a00nutstore\\fishc\\公司收入业绩分析.xlsx')    #注意：运行前先将数据文件复制到D盘“图片”文件夹中\n",
    "df_list = df.values.tolist()\n",
    "\n",
    "x=[]\n",
    "y1=[]\n",
    "y2=[]\n",
    "y3=[]\n",
    "y4=[]\n",
    "for data in df_list:\n",
    "    x.append(data[0])\n",
    "    y1.append(data[1])\n",
    "    y2.append(data[2])\n",
    "    y3.append(data[3])\n",
    "    y4.append(data[4])\n",
    "\n",
    "b= Bar()\n",
    "b.add_xaxis(x)\n",
    "b.add_yaxis('一jidu', y1,color='#FFA500',category_gap='35%')   #紫"
   ]
  },
  {
   "cell_type": "code",
   "execution_count": 6,
   "id": "f5e99f1a",
   "metadata": {},
   "outputs": [
    {
     "data": {
      "text/plain": [
       "'F:\\\\a00nutstore\\\\fishc\\\\柱形图-公司收入业绩分析.html'"
      ]
     },
     "execution_count": 6,
     "metadata": {},
     "output_type": "execute_result"
    }
   ],
   "source": [
    "b.add_yaxis('二季度', y2,color='#00FFFF',category_gap='35%')     #粉\n",
    "b.add_yaxis('三季度', y3,color='#FFB6C1',category_gap='35%')     #绿\n",
    "b.add_yaxis('四季度', y4,color='#9932CC',category_gap='35%')     #橙色\n",
    "#b.theme = ThemeType.PURPLE_PASSION\n",
    "b.set_global_opts(title_opts=opts.TitleOpts('公司收入业绩分析',pos_left='5%'))\n",
    "b.render(path=r'F:\\a00nutstore\\fishc\\柱形图-公司收入业绩分析.html') "
   ]
  },
  {
   "cell_type": "code",
   "execution_count": null,
   "id": "d29ea42a",
   "metadata": {},
   "outputs": [],
   "source": []
  }
 ],
 "metadata": {
  "kernelspec": {
   "display_name": "Python 3 (ipykernel)",
   "language": "python",
   "name": "python3"
  },
  "language_info": {
   "codemirror_mode": {
    "name": "ipython",
    "version": 3
   },
   "file_extension": ".py",
   "mimetype": "text/x-python",
   "name": "python",
   "nbconvert_exporter": "python",
   "pygments_lexer": "ipython3",
   "version": "3.9.13"
  }
 },
 "nbformat": 4,
 "nbformat_minor": 5
}
