{
 "cells": [
  {
   "cell_type": "code",
   "execution_count": null,
   "id": "266ebe58",
   "metadata": {},
   "outputs": [],
   "source": [
    "class WizCoin():\n",
    "    def __init__(self,galleons,sickles,knuts):\n",
    "        self.galleons = galleons\n",
    "        self.sickles = sickles\n",
    "        self.knuts = knuts\n",
    "    \n",
    "    def value(self):\n",
    "        return (self.galleons * 17 *29) + (self.sickles * 29) + (self.knuts)\n",
    "    \n",
    "    def weightInGrams(self):\n",
    "        return (self.galleons *31.103) + (self.)"
   ]
  }
 ],
 "metadata": {
  "kernelspec": {
   "display_name": "Python 3 (ipykernel)",
   "language": "python",
   "name": "python3"
  },
  "language_info": {
   "codemirror_mode": {
    "name": "ipython",
    "version": 3
   },
   "file_extension": ".py",
   "mimetype": "text/x-python",
   "name": "python",
   "nbconvert_exporter": "python",
   "pygments_lexer": "ipython3",
   "version": "3.8.3"
  }
 },
 "nbformat": 4,
 "nbformat_minor": 5
}
