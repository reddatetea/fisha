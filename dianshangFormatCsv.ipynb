{
 "cells": [
  {
   "cell_type": "code",
   "execution_count": 3,
   "id": "52e02614-3466-46fe-9a7f-c6f22a7c0176",
   "metadata": {},
   "outputs": [],
   "source": [
    "import easygui\n",
    "import os\n",
    "import pandas as pd\n",
    "\n",
    "dtype = {'商品id':str,'样式ID':str}\n",
    "choices = ['单文件','文件夹']\n",
    "skiprows = 0\n",
    "\n",
    "def CsvToNumber(fname,skiprows):\n",
    "     \n",
    "    os.chmod(fname, 0o777)\n",
    "    \n",
    "    path,suffix = os.path.splitext(fname)\n",
    "    _,file = os.path.split(fname)\n",
    "    fname_xlsx = ''.join([path,'正.xlsx'])\n",
    "    if suffix.lower() == '.csv':\n",
    "        df = pd.read_csv(fname,dtype = dtype,skiprows = skiprows)\n",
    "        df.to_excel(fname_xlsx,index = False)\n",
    "        os.startfile(fname_xlsx)\n",
    "    elif suffix.lower()  in ['.xlsx','.xls']:\n",
    "        df = pd.read_excel(fname,dtype = dtype,skiprows=skiprows)\n",
    "        df.to_excel(fname_xlsx,index = False)\n",
    "        os.startfile(fname_xlsx)\n",
    "    else :\n",
    "        pass\n",
    "\n",
    "\n",
    "choice = easygui.choicebox(msg = '请选择处理模式',choices = choices)\n",
    "if choice == '单文件':\n",
    "    fname = easygui.fileopenbox(msg = '请点选要处理的csv文件或excel文件')\n",
    "    _,file = os.path.split(fname)\n",
    "    try :\n",
    "        CsvToNumber(fname,skiprows = skiprows)\n",
    "    except:\n",
    "        skiprows =  easygui.enterbox('请输入数据开始于第几行',title = '注意:数据行从列标题开始计算')\n",
    "        skiprows = int(skiprows) - 1\n",
    "        try :\n",
    "            CsvToNumber(fname,skiprows = skiprows)\n",
    "        except:\n",
    "            easygui.msgbox(msg  = f'{file}文件格式有误,不处理')\n",
    "       \n",
    "\n",
    " \n",
    "else :\n",
    "    folder = easygui.diropenbox(msg = '请点选文件夹',title = '处理csv文件或excel文件')\n",
    "    files = os.listdir(folder)\n",
    "    for file in files:\n",
    "        fname = os.path.join(folder,file)\n",
    "        try:\n",
    "            fname = CsvToNumber(fname,skiprows = skiprows)\n",
    "        except:\n",
    "            easygui.msgbox(msg  = f'{file}文件格式有误，不处理')\n",
    " \n",
    "    \n"
   ]
  },
  {
   "cell_type": "code",
   "execution_count": null,
   "id": "b46843b8-2ecc-4b3d-81dc-87f3b857d744",
   "metadata": {},
   "outputs": [],
   "source": []
  }
 ],
 "metadata": {
  "kernelspec": {
   "display_name": "Python 3 (ipykernel)",
   "language": "python",
   "name": "python3"
  },
  "language_info": {
   "codemirror_mode": {
    "name": "ipython",
    "version": 3
   },
   "file_extension": ".py",
   "mimetype": "text/x-python",
   "name": "python",
   "nbconvert_exporter": "python",
   "pygments_lexer": "ipython3",
   "version": "3.11.8"
  }
 },
 "nbformat": 4,
 "nbformat_minor": 5
}
