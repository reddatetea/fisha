{
 "cells": [
  {
   "cell_type": "code",
   "execution_count": 2,
   "metadata": {},
   "outputs": [
    {
     "name": "stdout",
     "output_type": "stream",
     "text": [
      "['a', 'sentence', 'contains', 'a', 'lot', 'of', 'words']\n"
     ]
    }
   ],
   "source": [
    "import re\n",
    "string = 'a sentence\\tcontains\\na lot of words'\n",
    "regex = r'\\b\\w+\\b'\n",
    "print(re.findall(regex,string))"
   ]
  },
  {
   "cell_type": "code",
   "execution_count": 6,
   "metadata": {},
   "outputs": [
    {
     "name": "stdout",
     "output_type": "stream",
     "text": [
      "torrow I will wear in brown standing in <span class=\\\"h1\\\">row</span> 10 next to the rowdy guy\n"
     ]
    }
   ],
   "source": [
    "import re\n",
    "string = 'torrow I will wear in brown standing in row 10 next to the rowdy guy'\n",
    "replacement = r'<span class=\\\"h1\\\">\\g<0></span>'\n",
    "regex = r'\\brow\\b'\n",
    "print(re.sub(regex,replacement,string))"
   ]
  },
  {
   "cell_type": "code",
   "execution_count": 8,
   "metadata": {},
   "outputs": [
    {
     "name": "stdout",
     "output_type": "stream",
     "text": [
      "['first', 'second', 'last']\n"
     ]
    }
   ],
   "source": [
    "#提取每行第一个单词\n",
    "import re\n",
    "string = 'first line\\nsecond line\\r\\nlast line'\n",
    "regex = r'(?m)^\\w+'\n",
    "print(re.findall(regex,string))"
   ]
  },
  {
   "cell_type": "code",
   "execution_count": 9,
   "metadata": {},
   "outputs": [
    {
     "name": "stdout",
     "output_type": "stream",
     "text": [
      "['first']\n"
     ]
    }
   ],
   "source": [
    "#匹配整段文本的第一个单词\n",
    "import re\n",
    "string = 'first line\\nsecond line\\r\\nlast line'\n",
    "regex = r'(?m)\\A\\w+'\n",
    "print(re.findall(regex,string))"
   ]
  },
  {
   "cell_type": "code",
   "execution_count": 13,
   "metadata": {},
   "outputs": [
    {
     "name": "stdout",
     "output_type": "stream",
     "text": [
      "['line']\n"
     ]
    }
   ],
   "source": [
    "#匹配整段文本的最后一个单词\n",
    "import re\n",
    "string = 'first ine\\nsecond ine\\r\\nlast line'\n",
    "regex = r'\\w+$'\n",
    "print(re.findall(regex,string))"
   ]
  },
  {
   "cell_type": "code",
   "execution_count": 21,
   "metadata": {},
   "outputs": [
    {
     "name": "stdout",
     "output_type": "stream",
     "text": [
      "['line', 'line', 'line']\n"
     ]
    }
   ],
   "source": [
    "#匹配每行文本的最后一个单词\n",
    "import re\n",
    "string = 'first line\\nsecond line\\nlast line'\n",
    "regex = r'(?m)\\w+$'\n",
    "print(re.findall(regex,string))"
   ]
  },
  {
   "cell_type": "code",
   "execution_count": null,
   "metadata": {},
   "outputs": [],
   "source": []
  }
 ],
 "metadata": {
  "kernelspec": {
   "display_name": "Python 3",
   "language": "python",
   "name": "python3"
  },
  "language_info": {
   "codemirror_mode": {
    "name": "ipython",
    "version": 3
   },
   "file_extension": ".py",
   "mimetype": "text/x-python",
   "name": "python",
   "nbconvert_exporter": "python",
   "pygments_lexer": "ipython3",
   "version": "3.8.3"
  }
 },
 "nbformat": 4,
 "nbformat_minor": 4
}
