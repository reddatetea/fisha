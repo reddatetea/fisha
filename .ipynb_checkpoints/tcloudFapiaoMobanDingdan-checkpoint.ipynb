{
 "cells": [
  {
   "cell_type": "code",
   "execution_count": 1,
   "id": "a6ffe7e6-36a1-4d08-a31b-d19d34ff3e0c",
   "metadata": {},
   "outputs": [],
   "source": [
    "'''\n",
    "tcloud中用销售订单生成税局发票模板,分别按每个销售订单汇总，再按存货编码汇总，批量生成发票模板，存于同一文件夹下\n",
    "\n",
    "\n",
    "'''\n",
    "import os\n",
    "import re\n",
    "import easygui\n",
    "import openpyxl\n",
    "import numpy as np\n",
    "import pandas as pd\n",
    "import shutil"
   ]
  },
  {
   "cell_type": "code",
   "execution_count": 2,
   "id": "df0bcd1c-144f-49b0-9f78-275c734be3d4",
   "metadata": {},
   "outputs": [
    {
     "data": {
      "text/html": [
       "<div>\n",
       "<style scoped>\n",
       "    .dataframe tbody tr th:only-of-type {\n",
       "        vertical-align: middle;\n",
       "    }\n",
       "\n",
       "    .dataframe tbody tr th {\n",
       "        vertical-align: top;\n",
       "    }\n",
       "\n",
       "    .dataframe thead th {\n",
       "        text-align: right;\n",
       "    }\n",
       "</style>\n",
       "<table border=\"1\" class=\"dataframe\">\n",
       "  <thead>\n",
       "    <tr style=\"text-align: right;\">\n",
       "      <th></th>\n",
       "      <th>项目名称</th>\n",
       "      <th>商品和服务税收分类编码</th>\n",
       "      <th>规格型号</th>\n",
       "      <th>单位</th>\n",
       "      <th>商品数量</th>\n",
       "      <th>商品单价</th>\n",
       "      <th>金额</th>\n",
       "      <th>税率</th>\n",
       "      <th>折扣金额</th>\n",
       "      <th>优惠政策类型</th>\n",
       "    </tr>\n",
       "  </thead>\n",
       "  <tbody>\n",
       "  </tbody>\n",
       "</table>\n",
       "</div>"
      ],
      "text/plain": [
       "Empty DataFrame\n",
       "Columns: [项目名称, 商品和服务税收分类编码, 规格型号, 单位, 商品数量, 商品单价, 金额, 税率, 折扣金额, 优惠政策类型]\n",
       "Index: []"
      ]
     },
     "execution_count": 2,
     "metadata": {},
     "output_type": "execute_result"
    }
   ],
   "source": [
    "#读取发票模板\n",
    "fname_fapiao = r\"F:\\repos\\fish\\发票模板.xlsx\"\n",
    "df_fapiao = pd.read_excel(fname_fapiao,header = 2,dtype = {'商品和服务税收分类编码':'str'})\n",
    "df_fapiao"
   ]
  },
  {
   "cell_type": "code",
   "execution_count": 3,
   "id": "2d7deff6-da50-4dc9-a55e-99ef17b2f58f",
   "metadata": {},
   "outputs": [],
   "source": [
    "\n",
    "path = r\"F:\\repos\\fisha\\莱新销售订单0826-0925\"\n",
    "os.chdir(path)\n",
    "\n",
    "#以选择的销售订单所在文件夹作为工作目录，并在此目录下建“发票模板”文件夹\n",
    "path1 = '发票模板'\n",
    "if not os.path.exists(path1):\n",
    "    try:\n",
    "        os.mkdir(path1)\n",
    "    except:\n",
    "        pass\n",
    "\n",
    "    \n"
   ]
  },
  {
   "cell_type": "code",
   "execution_count": 4,
   "id": "96af3d9b-6856-4d42-8165-c0d4e081161a",
   "metadata": {},
   "outputs": [],
   "source": [
    "def getPivot(df):\n",
    "    bianba_fenlei = dict(zip(df['存货编码'],df['存货分类']))\n",
    "    bianba_mingchen = dict(zip(df['存货编码'],df['存货名称']))\n",
    "    bianba_daima = dict(zip(df['存货编码'],df['存货代码']))\n",
    "    bianba_hanlian = dict(zip(df['存货编码'],df['件含量']))\n",
    "    pivot = df.pivot_table(index = '存货编码',values = ['数量','数量（件）','含税金额'] ,aggfunc = 'sum')\n",
    "    pivot = pivot.reset_index()\n",
    "    pivot = pivot.assign(fenlei = pivot['存货编码'].map(bianba_fenlei))\n",
    "    pivot = pivot.assign(mingchen = pivot['存货编码'].map(bianba_mingchen))\n",
    "    pivot = pivot.assign(daima = pivot['存货编码'].map(bianba_daima))\n",
    "    pivot = pivot.assign(hanliang = pivot['存货编码'].map(bianba_hanlian))\n",
    "    dic = dict(zip(['fenlei','mingchen','daima','hanliang'],['存货分类','存货名称','存货代码','件含量']))\n",
    "    pivot = pivot.rename(columns =  dic)\n",
    "    guige_qian = []\n",
    "    guige_hou = []\n",
    "    for i in pivot['存货名称'].to_list():\n",
    "        qian0,hou0 = guige(i)\n",
    "        guige_qian.append(qian0)\n",
    "        guige_hou.append(hou0)\n",
    "    pivot = pivot.assign(qian = guige_qian)\n",
    "    pivot = pivot.assign(hou = guige_hou)\n",
    "    return pivot\n",
    "\n",
    "def getFapiaoBen(d):\n",
    "    d['项目名称'] = d['存货编码'] +  d['hou']\n",
    "    d['项目名称'] = d['项目名称'].str.replace('运费-','运费')\n",
    "    # d['项目名称'] = d['项目名称'].str.split('-').str[0]\n",
    "    d['商品和服务税收分类编码'] = '1060202010000000000'\n",
    "    d['规格型号'] = d['qian']\n",
    "    d['单位'] = '本'\n",
    "    d['商品数量'] = d['数量']\n",
    "    d['商品单价'] = ''\n",
    "    d['金额'] = d['含税金额']\n",
    "    d['税率'] = 0.13\n",
    "    d['折扣金额'] = ''\n",
    "    d['优惠政策类型'] = ''\n",
    "    d = d[['项目名称',\n",
    "     '商品和服务税收分类编码',\n",
    "     '规格型号',\n",
    "     '单位',\n",
    "     '商品数量',\n",
    "     '商品单价',\n",
    "     '金额',\n",
    "     '税率',\n",
    "     '折扣金额',\n",
    "     '优惠政策类型',]]\n",
    "    return d\n",
    "\n",
    "def getFapiaoMoban(gongsi):\n",
    "    filename=''.join(['发票模板-',gongsi,'.xlsx'])\n",
    "    newname = os.path.join(path1,filename)\n",
    "    shutil.copyfile(fname_fapiao, newname)\n",
    "    return newname\n",
    "\n",
    "def getFapiaoMobanDingdanhao(gongsi,dingdanhao):\n",
    "    filename=''.join(['发票模板-',gongsi,'-',dingdanhao,'.xlsx'])\n",
    "    newname = os.path.join(path1,filename)\n",
    "    shutil.copyfile(fname_fapiao, newname)\n",
    "    return newname\n",
    "\n",
    "def fengefu(string):\n",
    "    num = len(string.split('-'))\n",
    "    if num  == 3 :\n",
    "        string = '-'.join([string.split('-')[0],string.split('-')[1]])\n",
    "    elif num == 2 :\n",
    "        if len(string.split('-')[0]) <= 4:\n",
    "            string = string\n",
    "        else :\n",
    "            string = string.split('-')[0]\n",
    "    else :\n",
    "        string = string\n",
    "    return string\n",
    "\n",
    "def guige(string):\n",
    "    if ('型' in string) and ('页' in string):\n",
    "        qian0 = string.split('型')[0] + '型'\n",
    "        hou0 =  string.split('型')[1] \n",
    "    elif ('型' in string) or ('页' in string):\n",
    "        if '型' in string :\n",
    "            qian0 = string.split('型')[0] + '型'\n",
    "            hou0 =  string.split('型')[1] \n",
    "        else :\n",
    "            qian0 = string.split('页')[0] + '页'\n",
    "            hou0 =  string.split('页')[1] \n",
    "    else :\n",
    "        qian0 = ''\n",
    "        hou0 = ''\n",
    "    return qian0,hou0    \n",
    "            \n",
    "    \n",
    "    "
   ]
  },
  {
   "cell_type": "code",
   "execution_count": 5,
   "id": "e7a4be55-bd89-420d-a7b3-ec18cb4190fd",
   "metadata": {},
   "outputs": [],
   "source": [
    "#莱新销售订单超5000条，不能一次导出，分三次导出，并分别存于同一文件下，先将它们合并\n",
    "data = []\n",
    "for i in os.listdir(path):\n",
    "    if  os.path.isfile(i):\n",
    "        i = os.path.join(path,i)\n",
    "        df = pd.read_excel(i)\n",
    "        data.append(df)\n",
    "    else :\n",
    "        continue\n",
    "   \n",
    "\n",
    "df_xiaoshou0 = pd.concat(data)\n",
    "df_xiaoshou1 = df_xiaoshou0.loc[df_xiaoshou0['单据执行状态'] != '合计']\n",
    "lst1 = ['单据编号',\n",
    "  '单据日期',\n",
    " '含税总金额',\n",
    " '存货名称',\n",
    " '存货分类',\n",
    " '存货编码',\n",
    "  '存货代码',\n",
    "  '数量',\n",
    "  '件含量',\n",
    " '数量（件）',\n",
    "  '含税单价',\n",
    " '含税金额',\n",
    "        '客户']\n",
    "df_xiaoshou2 = df_xiaoshou1[lst1]\n",
    "df_xiaoshou3 = df_xiaoshou2.copy()\n",
    "s = []\n",
    "for i in df_xiaoshou2['存货编码'].to_list():\n",
    "    j = fengefu(i)\n",
    "    s.append(j)\n",
    "df_xiaoshou3['存货编码'] = s"
   ]
  },
  {
   "cell_type": "code",
   "execution_count": 6,
   "id": "9a9e08d5-3a19-4335-8569-4df471e747ca",
   "metadata": {
    "scrolled": true
   },
   "outputs": [
    {
     "name": "stdout",
     "output_type": "stream",
     "text": [
      "发票模板\\发票模板-山东刘璐-SO-2024-02-0570.xlsx\n"
     ]
    },
    {
     "name": "stderr",
     "output_type": "stream",
     "text": [
      "C:\\Users\\redda\\AppData\\Roaming\\Python\\Python311\\site-packages\\openpyxl\\worksheet\\_reader.py:329: UserWarning: Data Validation extension is not supported and will be removed\n",
      "  warn(msg)\n"
     ]
    },
    {
     "name": "stdout",
     "output_type": "stream",
     "text": [
      "发票模板\\发票模板-安康市申达文化用品有限公司L-SO-2024-02-0571.xlsx\n"
     ]
    },
    {
     "name": "stderr",
     "output_type": "stream",
     "text": [
      "C:\\Users\\redda\\AppData\\Roaming\\Python\\Python311\\site-packages\\openpyxl\\worksheet\\_reader.py:329: UserWarning: Data Validation extension is not supported and will be removed\n",
      "  warn(msg)\n"
     ]
    },
    {
     "name": "stdout",
     "output_type": "stream",
     "text": [
      "发票模板\\发票模板-武汉市齐达利商贸有限公司-SO-2024-02-0572.xlsx\n"
     ]
    },
    {
     "name": "stderr",
     "output_type": "stream",
     "text": [
      "C:\\Users\\redda\\AppData\\Roaming\\Python\\Python311\\site-packages\\openpyxl\\worksheet\\_reader.py:329: UserWarning: Data Validation extension is not supported and will be removed\n",
      "  warn(msg)\n",
      "C:\\Users\\redda\\AppData\\Roaming\\Python\\Python311\\site-packages\\openpyxl\\worksheet\\_reader.py:329: UserWarning: Data Validation extension is not supported and will be removed\n",
      "  warn(msg)\n"
     ]
    },
    {
     "name": "stdout",
     "output_type": "stream",
     "text": [
      "发票模板\\发票模板-武汉今日成纸业有限公司-SO-2024-02-0573.xlsx\n",
      "发票模板\\发票模板-武汉金胜辉商贸有限公司-SO-2024-02-0574.xlsx\n"
     ]
    },
    {
     "name": "stderr",
     "output_type": "stream",
     "text": [
      "C:\\Users\\redda\\AppData\\Roaming\\Python\\Python311\\site-packages\\openpyxl\\worksheet\\_reader.py:329: UserWarning: Data Validation extension is not supported and will be removed\n",
      "  warn(msg)\n",
      "C:\\Users\\redda\\AppData\\Roaming\\Python\\Python311\\site-packages\\openpyxl\\worksheet\\_reader.py:329: UserWarning: Data Validation extension is not supported and will be removed\n",
      "  warn(msg)\n"
     ]
    },
    {
     "name": "stdout",
     "output_type": "stream",
     "text": [
      "发票模板\\发票模板-武汉金胜辉商贸有限公司-SO-2024-02-0575.xlsx\n",
      "发票模板\\发票模板-武汉米圣贸易有限公司-SO-2024-02-0576.xlsx\n"
     ]
    },
    {
     "name": "stderr",
     "output_type": "stream",
     "text": [
      "C:\\Users\\redda\\AppData\\Roaming\\Python\\Python311\\site-packages\\openpyxl\\worksheet\\_reader.py:329: UserWarning: Data Validation extension is not supported and will be removed\n",
      "  warn(msg)\n",
      "C:\\Users\\redda\\AppData\\Roaming\\Python\\Python311\\site-packages\\openpyxl\\worksheet\\_reader.py:329: UserWarning: Data Validation extension is not supported and will be removed\n",
      "  warn(msg)\n"
     ]
    },
    {
     "name": "stdout",
     "output_type": "stream",
     "text": [
      "发票模板\\发票模板-武汉开先文化用品有限责任公司-SO-2024-02-0577.xlsx\n",
      "发票模板\\发票模板-武汉金宸翰办公用品有限公司1-SO-2024-02-0578.xlsx\n"
     ]
    },
    {
     "name": "stderr",
     "output_type": "stream",
     "text": [
      "C:\\Users\\redda\\AppData\\Roaming\\Python\\Python311\\site-packages\\openpyxl\\worksheet\\_reader.py:329: UserWarning: Data Validation extension is not supported and will be removed\n",
      "  warn(msg)\n"
     ]
    },
    {
     "name": "stdout",
     "output_type": "stream",
     "text": [
      "发票模板\\发票模板-武汉邦度办公文具有限公司-SO-2024-02-0579.xlsx\n"
     ]
    },
    {
     "name": "stderr",
     "output_type": "stream",
     "text": [
      "C:\\Users\\redda\\AppData\\Roaming\\Python\\Python311\\site-packages\\openpyxl\\worksheet\\_reader.py:329: UserWarning: Data Validation extension is not supported and will be removed\n",
      "  warn(msg)\n",
      "C:\\Users\\redda\\AppData\\Roaming\\Python\\Python311\\site-packages\\openpyxl\\worksheet\\_reader.py:329: UserWarning: Data Validation extension is not supported and will be removed\n",
      "  warn(msg)\n"
     ]
    },
    {
     "name": "stdout",
     "output_type": "stream",
     "text": [
      "发票模板\\发票模板-武汉金宸翰办公用品有限公司-SO-2024-02-0580.xlsx\n",
      "发票模板\\发票模板-武汉静静舒文体用品有限公司-SO-2024-02-0581.xlsx\n"
     ]
    },
    {
     "name": "stderr",
     "output_type": "stream",
     "text": [
      "C:\\Users\\redda\\AppData\\Roaming\\Python\\Python311\\site-packages\\openpyxl\\worksheet\\_reader.py:329: UserWarning: Data Validation extension is not supported and will be removed\n",
      "  warn(msg)\n",
      "C:\\Users\\redda\\AppData\\Roaming\\Python\\Python311\\site-packages\\openpyxl\\worksheet\\_reader.py:329: UserWarning: Data Validation extension is not supported and will be removed\n",
      "  warn(msg)\n"
     ]
    },
    {
     "name": "stdout",
     "output_type": "stream",
     "text": [
      "发票模板\\发票模板-湖北昇耀商贸有限公司-SO-2024-02-0582.xlsx\n",
      "发票模板\\发票模板-武汉今日成纸业有限公司-SO-2024-02-0583.xlsx\n"
     ]
    },
    {
     "name": "stderr",
     "output_type": "stream",
     "text": [
      "C:\\Users\\redda\\AppData\\Roaming\\Python\\Python311\\site-packages\\openpyxl\\worksheet\\_reader.py:329: UserWarning: Data Validation extension is not supported and will be removed\n",
      "  warn(msg)\n",
      "C:\\Users\\redda\\AppData\\Roaming\\Python\\Python311\\site-packages\\openpyxl\\worksheet\\_reader.py:329: UserWarning: Data Validation extension is not supported and will be removed\n",
      "  warn(msg)\n"
     ]
    },
    {
     "name": "stdout",
     "output_type": "stream",
     "text": [
      "发票模板\\发票模板-武汉米圣贸易有限公司-SO-2024-02-0584.xlsx\n",
      "发票模板\\发票模板-武汉嘉迪亚商贸有限公司-SO-2024-02-0585.xlsx\n"
     ]
    },
    {
     "name": "stderr",
     "output_type": "stream",
     "text": [
      "C:\\Users\\redda\\AppData\\Roaming\\Python\\Python311\\site-packages\\openpyxl\\worksheet\\_reader.py:329: UserWarning: Data Validation extension is not supported and will be removed\n",
      "  warn(msg)\n",
      "C:\\Users\\redda\\AppData\\Roaming\\Python\\Python311\\site-packages\\openpyxl\\worksheet\\_reader.py:329: UserWarning: Data Validation extension is not supported and will be removed\n",
      "  warn(msg)\n"
     ]
    },
    {
     "name": "stdout",
     "output_type": "stream",
     "text": [
      "发票模板\\发票模板-武汉市热脉文体用品有限公司-SO-2024-02-0586.xlsx\n",
      "发票模板\\发票模板-武汉今日成纸业有限公司-SO-2024-02-0587.xlsx\n"
     ]
    },
    {
     "name": "stderr",
     "output_type": "stream",
     "text": [
      "C:\\Users\\redda\\AppData\\Roaming\\Python\\Python311\\site-packages\\openpyxl\\worksheet\\_reader.py:329: UserWarning: Data Validation extension is not supported and will be removed\n",
      "  warn(msg)\n",
      "C:\\Users\\redda\\AppData\\Roaming\\Python\\Python311\\site-packages\\openpyxl\\worksheet\\_reader.py:329: UserWarning: Data Validation extension is not supported and will be removed\n",
      "  warn(msg)\n"
     ]
    },
    {
     "name": "stdout",
     "output_type": "stream",
     "text": [
      "发票模板\\发票模板-西安垄裕商贸有限公司-SO-2024-02-0588.xlsx\n",
      "发票模板\\发票模板-西安热脉文体用品有限公司-SO-2024-02-0589.xlsx\n"
     ]
    },
    {
     "name": "stderr",
     "output_type": "stream",
     "text": [
      "C:\\Users\\redda\\AppData\\Roaming\\Python\\Python311\\site-packages\\openpyxl\\worksheet\\_reader.py:329: UserWarning: Data Validation extension is not supported and will be removed\n",
      "  warn(msg)\n",
      "C:\\Users\\redda\\AppData\\Roaming\\Python\\Python311\\site-packages\\openpyxl\\worksheet\\_reader.py:329: UserWarning: Data Validation extension is not supported and will be removed\n",
      "  warn(msg)\n"
     ]
    },
    {
     "name": "stdout",
     "output_type": "stream",
     "text": [
      "发票模板\\发票模板-临沂巧纳金纸品有限公司-SO-2024-02-0590.xlsx\n",
      "发票模板\\发票模板-南宁市小木屋文化用品有限公司-SO-2024-02-0591.xlsx\n"
     ]
    },
    {
     "name": "stderr",
     "output_type": "stream",
     "text": [
      "C:\\Users\\redda\\AppData\\Roaming\\Python\\Python311\\site-packages\\openpyxl\\worksheet\\_reader.py:329: UserWarning: Data Validation extension is not supported and will be removed\n",
      "  warn(msg)\n"
     ]
    },
    {
     "name": "stdout",
     "output_type": "stream",
     "text": [
      "发票模板\\发票模板-柳州市笔创贸易有限公司-SO-2024-02-0592.xlsx\n",
      "发票模板\\发票模板-云南非常文化用品有限公司-SO-2024-02-0593.xlsx\n"
     ]
    },
    {
     "name": "stderr",
     "output_type": "stream",
     "text": [
      "C:\\Users\\redda\\AppData\\Roaming\\Python\\Python311\\site-packages\\openpyxl\\worksheet\\_reader.py:329: UserWarning: Data Validation extension is not supported and will be removed\n",
      "  warn(msg)\n",
      "C:\\Users\\redda\\AppData\\Roaming\\Python\\Python311\\site-packages\\openpyxl\\worksheet\\_reader.py:329: UserWarning: Data Validation extension is not supported and will be removed\n",
      "  warn(msg)\n"
     ]
    },
    {
     "name": "stdout",
     "output_type": "stream",
     "text": [
      "发票模板\\发票模板-白玉县诚信办公用品销售有限公司-SO-2024-02-0594.xlsx\n"
     ]
    },
    {
     "name": "stderr",
     "output_type": "stream",
     "text": [
      "C:\\Users\\redda\\AppData\\Roaming\\Python\\Python311\\site-packages\\openpyxl\\worksheet\\_reader.py:329: UserWarning: Data Validation extension is not supported and will be removed\n",
      "  warn(msg)\n",
      "C:\\Users\\redda\\AppData\\Roaming\\Python\\Python311\\site-packages\\openpyxl\\worksheet\\_reader.py:329: UserWarning: Data Validation extension is not supported and will be removed\n",
      "  warn(msg)\n"
     ]
    },
    {
     "name": "stdout",
     "output_type": "stream",
     "text": [
      "发票模板\\发票模板-成都乐尚怡智商贸有限公司-SO-2024-02-0595.xlsx\n",
      "发票模板\\发票模板-南京好学爱玩信息科技有限公司-SO-2024-02-0596.xlsx\n"
     ]
    },
    {
     "name": "stderr",
     "output_type": "stream",
     "text": [
      "C:\\Users\\redda\\AppData\\Roaming\\Python\\Python311\\site-packages\\openpyxl\\worksheet\\_reader.py:329: UserWarning: Data Validation extension is not supported and will be removed\n",
      "  warn(msg)\n",
      "C:\\Users\\redda\\AppData\\Roaming\\Python\\Python311\\site-packages\\openpyxl\\worksheet\\_reader.py:329: UserWarning: Data Validation extension is not supported and will be removed\n",
      "  warn(msg)\n"
     ]
    },
    {
     "name": "stdout",
     "output_type": "stream",
     "text": [
      "发票模板\\发票模板-苏州工业园区展华商贸有限公司-SO-2024-02-0597.xlsx\n",
      "发票模板\\发票模板-长沙市雨花区文丰文具商行-SO-2024-02-0598.xlsx\n"
     ]
    },
    {
     "name": "stderr",
     "output_type": "stream",
     "text": [
      "C:\\Users\\redda\\AppData\\Roaming\\Python\\Python311\\site-packages\\openpyxl\\worksheet\\_reader.py:329: UserWarning: Data Validation extension is not supported and will be removed\n",
      "  warn(msg)\n",
      "C:\\Users\\redda\\AppData\\Roaming\\Python\\Python311\\site-packages\\openpyxl\\worksheet\\_reader.py:329: UserWarning: Data Validation extension is not supported and will be removed\n",
      "  warn(msg)\n"
     ]
    },
    {
     "name": "stdout",
     "output_type": "stream",
     "text": [
      "发票模板\\发票模板-武汉金宸翰办公用品有限公司-SO-2024-02-0599.xlsx\n",
      "发票模板\\发票模板-武汉市晶艺文化用品有限公司-SO-2024-02-0600.xlsx\n"
     ]
    },
    {
     "name": "stderr",
     "output_type": "stream",
     "text": [
      "C:\\Users\\redda\\AppData\\Roaming\\Python\\Python311\\site-packages\\openpyxl\\worksheet\\_reader.py:329: UserWarning: Data Validation extension is not supported and will be removed\n",
      "  warn(msg)\n",
      "C:\\Users\\redda\\AppData\\Roaming\\Python\\Python311\\site-packages\\openpyxl\\worksheet\\_reader.py:329: UserWarning: Data Validation extension is not supported and will be removed\n",
      "  warn(msg)\n"
     ]
    },
    {
     "name": "stdout",
     "output_type": "stream",
     "text": [
      "发票模板\\发票模板-衡阳市新五一文现代办公用品有限公司-SO-2024-02-0601.xlsx\n",
      "发票模板\\发票模板-宁夏昕墨文化用品有限公司-SO-2024-02-0602.xlsx\n",
      "发票模板\\发票模板-天津市友旺商贸有限公司-SO-2024-02-0603.xlsx\n"
     ]
    },
    {
     "name": "stderr",
     "output_type": "stream",
     "text": [
      "C:\\Users\\redda\\AppData\\Roaming\\Python\\Python311\\site-packages\\openpyxl\\worksheet\\_reader.py:329: UserWarning: Data Validation extension is not supported and will be removed\n",
      "  warn(msg)\n",
      "C:\\Users\\redda\\AppData\\Roaming\\Python\\Python311\\site-packages\\openpyxl\\worksheet\\_reader.py:329: UserWarning: Data Validation extension is not supported and will be removed\n",
      "  warn(msg)\n"
     ]
    },
    {
     "name": "stdout",
     "output_type": "stream",
     "text": [
      "发票模板\\发票模板-武汉市热脉文体用品有限公司-SO-2024-02-0604.xlsx\n"
     ]
    },
    {
     "name": "stderr",
     "output_type": "stream",
     "text": [
      "C:\\Users\\redda\\AppData\\Roaming\\Python\\Python311\\site-packages\\openpyxl\\worksheet\\_reader.py:329: UserWarning: Data Validation extension is not supported and will be removed\n",
      "  warn(msg)\n"
     ]
    },
    {
     "name": "stdout",
     "output_type": "stream",
     "text": [
      "发票模板\\发票模板-河南抬头喜办公用品有限公司S-SO-2024-02-0605.xlsx\n",
      "发票模板\\发票模板-当涂县美文办公服务部-SO-2024-02-0606.xlsx\n"
     ]
    },
    {
     "name": "stderr",
     "output_type": "stream",
     "text": [
      "C:\\Users\\redda\\AppData\\Roaming\\Python\\Python311\\site-packages\\openpyxl\\worksheet\\_reader.py:329: UserWarning: Data Validation extension is not supported and will be removed\n",
      "  warn(msg)\n",
      "C:\\Users\\redda\\AppData\\Roaming\\Python\\Python311\\site-packages\\openpyxl\\worksheet\\_reader.py:329: UserWarning: Data Validation extension is not supported and will be removed\n",
      "  warn(msg)\n"
     ]
    },
    {
     "name": "stdout",
     "output_type": "stream",
     "text": [
      "发票模板\\发票模板-当涂县美文办公服务部-SO-2024-02-0607.xlsx\n",
      "发票模板\\发票模板-武汉市齐达利商贸有限公司-SO-2024-02-0608.xlsx\n"
     ]
    },
    {
     "name": "stderr",
     "output_type": "stream",
     "text": [
      "C:\\Users\\redda\\AppData\\Roaming\\Python\\Python311\\site-packages\\openpyxl\\worksheet\\_reader.py:329: UserWarning: Data Validation extension is not supported and will be removed\n",
      "  warn(msg)\n",
      "C:\\Users\\redda\\AppData\\Roaming\\Python\\Python311\\site-packages\\openpyxl\\worksheet\\_reader.py:329: UserWarning: Data Validation extension is not supported and will be removed\n",
      "  warn(msg)\n"
     ]
    },
    {
     "name": "stdout",
     "output_type": "stream",
     "text": [
      "发票模板\\发票模板-武汉开先文化用品有限责任公司-SO-2024-02-0609.xlsx\n",
      "发票模板\\发票模板-武汉米圣贸易有限公司-SO-2024-02-0610.xlsx\n"
     ]
    },
    {
     "name": "stderr",
     "output_type": "stream",
     "text": [
      "C:\\Users\\redda\\AppData\\Roaming\\Python\\Python311\\site-packages\\openpyxl\\worksheet\\_reader.py:329: UserWarning: Data Validation extension is not supported and will be removed\n",
      "  warn(msg)\n",
      "C:\\Users\\redda\\AppData\\Roaming\\Python\\Python311\\site-packages\\openpyxl\\worksheet\\_reader.py:329: UserWarning: Data Validation extension is not supported and will be removed\n",
      "  warn(msg)\n"
     ]
    },
    {
     "name": "stdout",
     "output_type": "stream",
     "text": [
      "发票模板\\发票模板-武汉金宸翰办公用品有限公司1-SO-2024-02-0611.xlsx\n",
      "发票模板\\发票模板-武汉金胜辉商贸有限公司-SO-2024-02-0612.xlsx\n"
     ]
    },
    {
     "name": "stderr",
     "output_type": "stream",
     "text": [
      "C:\\Users\\redda\\AppData\\Roaming\\Python\\Python311\\site-packages\\openpyxl\\worksheet\\_reader.py:329: UserWarning: Data Validation extension is not supported and will be removed\n",
      "  warn(msg)\n",
      "C:\\Users\\redda\\AppData\\Roaming\\Python\\Python311\\site-packages\\openpyxl\\worksheet\\_reader.py:329: UserWarning: Data Validation extension is not supported and will be removed\n",
      "  warn(msg)\n"
     ]
    },
    {
     "name": "stdout",
     "output_type": "stream",
     "text": [
      "发票模板\\发票模板-武汉静静舒文体用品有限公司-SO-2024-02-0613.xlsx\n",
      "发票模板\\发票模板-品壹佰河北商贸有限公司-SO-2024-02-0614.xlsx\n"
     ]
    },
    {
     "name": "stderr",
     "output_type": "stream",
     "text": [
      "C:\\Users\\redda\\AppData\\Roaming\\Python\\Python311\\site-packages\\openpyxl\\worksheet\\_reader.py:329: UserWarning: Data Validation extension is not supported and will be removed\n",
      "  warn(msg)\n",
      "C:\\Users\\redda\\AppData\\Roaming\\Python\\Python311\\site-packages\\openpyxl\\worksheet\\_reader.py:329: UserWarning: Data Validation extension is not supported and will be removed\n",
      "  warn(msg)\n"
     ]
    },
    {
     "name": "stdout",
     "output_type": "stream",
     "text": [
      "发票模板\\发票模板-长沙市东麦文化有限公司-SO-2024-02-0615.xlsx\n",
      "发票模板\\发票模板-四川渝泰企业管理咨询有限公司-SO-2024-02-0616.xlsx\n"
     ]
    },
    {
     "name": "stderr",
     "output_type": "stream",
     "text": [
      "C:\\Users\\redda\\AppData\\Roaming\\Python\\Python311\\site-packages\\openpyxl\\worksheet\\_reader.py:329: UserWarning: Data Validation extension is not supported and will be removed\n",
      "  warn(msg)\n",
      "C:\\Users\\redda\\AppData\\Roaming\\Python\\Python311\\site-packages\\openpyxl\\worksheet\\_reader.py:329: UserWarning: Data Validation extension is not supported and will be removed\n",
      "  warn(msg)\n"
     ]
    },
    {
     "name": "stdout",
     "output_type": "stream",
     "text": [
      "发票模板\\发票模板-泸州佳之彩商贸有限公司-SO-2024-02-0617.xlsx\n"
     ]
    },
    {
     "name": "stderr",
     "output_type": "stream",
     "text": [
      "C:\\Users\\redda\\AppData\\Roaming\\Python\\Python311\\site-packages\\openpyxl\\worksheet\\_reader.py:329: UserWarning: Data Validation extension is not supported and will be removed\n",
      "  warn(msg)\n",
      "C:\\Users\\redda\\AppData\\Roaming\\Python\\Python311\\site-packages\\openpyxl\\worksheet\\_reader.py:329: UserWarning: Data Validation extension is not supported and will be removed\n",
      "  warn(msg)\n"
     ]
    },
    {
     "name": "stdout",
     "output_type": "stream",
     "text": [
      "发票模板\\发票模板-江西立信办公商贸有限公司-SO-2024-02-0618.xlsx\n",
      "发票模板\\发票模板-涵江徐东明-SO-2024-02-0619.xlsx\n"
     ]
    },
    {
     "name": "stderr",
     "output_type": "stream",
     "text": [
      "C:\\Users\\redda\\AppData\\Roaming\\Python\\Python311\\site-packages\\openpyxl\\worksheet\\_reader.py:329: UserWarning: Data Validation extension is not supported and will be removed\n",
      "  warn(msg)\n",
      "C:\\Users\\redda\\AppData\\Roaming\\Python\\Python311\\site-packages\\openpyxl\\worksheet\\_reader.py:329: UserWarning: Data Validation extension is not supported and will be removed\n",
      "  warn(msg)\n"
     ]
    },
    {
     "name": "stdout",
     "output_type": "stream",
     "text": [
      "发票模板\\发票模板-义乌市携诚文体用品有限公司-SO-2024-02-0620.xlsx\n",
      "发票模板\\发票模板-龙岩连卫中-SO-2024-02-0621.xlsx\n"
     ]
    },
    {
     "name": "stderr",
     "output_type": "stream",
     "text": [
      "C:\\Users\\redda\\AppData\\Roaming\\Python\\Python311\\site-packages\\openpyxl\\worksheet\\_reader.py:329: UserWarning: Data Validation extension is not supported and will be removed\n",
      "  warn(msg)\n"
     ]
    },
    {
     "name": "stdout",
     "output_type": "stream",
     "text": [
      "发票模板\\发票模板-株洲文邦贸易有限公司-SO-2024-02-0622.xlsx\n",
      "发票模板\\发票模板-南宁市小木屋文化用品有限公司-SO-2024-02-0623.xlsx\n"
     ]
    },
    {
     "name": "stderr",
     "output_type": "stream",
     "text": [
      "C:\\Users\\redda\\AppData\\Roaming\\Python\\Python311\\site-packages\\openpyxl\\worksheet\\_reader.py:329: UserWarning: Data Validation extension is not supported and will be removed\n",
      "  warn(msg)\n",
      "C:\\Users\\redda\\AppData\\Roaming\\Python\\Python311\\site-packages\\openpyxl\\worksheet\\_reader.py:329: UserWarning: Data Validation extension is not supported and will be removed\n",
      "  warn(msg)\n"
     ]
    },
    {
     "name": "stdout",
     "output_type": "stream",
     "text": [
      "发票模板\\发票模板-长沙市东麦文化有限公司-SO-2024-02-0624.xlsx\n"
     ]
    },
    {
     "name": "stderr",
     "output_type": "stream",
     "text": [
      "C:\\Users\\redda\\AppData\\Roaming\\Python\\Python311\\site-packages\\openpyxl\\worksheet\\_reader.py:329: UserWarning: Data Validation extension is not supported and will be removed\n",
      "  warn(msg)\n"
     ]
    },
    {
     "name": "stdout",
     "output_type": "stream",
     "text": [
      "发票模板\\发票模板-深圳市一晨科技有限公司-SO-2024-02-0625.xlsx\n"
     ]
    },
    {
     "name": "stderr",
     "output_type": "stream",
     "text": [
      "C:\\Users\\redda\\AppData\\Roaming\\Python\\Python311\\site-packages\\openpyxl\\worksheet\\_reader.py:329: UserWarning: Data Validation extension is not supported and will be removed\n",
      "  warn(msg)\n"
     ]
    },
    {
     "name": "stdout",
     "output_type": "stream",
     "text": [
      "发票模板\\发票模板-义乌市携诚文体用品有限公司-SO-2024-02-0626.xlsx\n"
     ]
    },
    {
     "name": "stderr",
     "output_type": "stream",
     "text": [
      "C:\\Users\\redda\\AppData\\Roaming\\Python\\Python311\\site-packages\\openpyxl\\worksheet\\_reader.py:329: UserWarning: Data Validation extension is not supported and will be removed\n",
      "  warn(msg)\n"
     ]
    },
    {
     "name": "stdout",
     "output_type": "stream",
     "text": [
      "发票模板\\发票模板-广西首平文具有限公司-SO-2024-02-0627.xlsx\n",
      "发票模板\\发票模板-河南一叶一页文化用品有限公司-SO-2024-02-0628.xlsx\n"
     ]
    },
    {
     "name": "stderr",
     "output_type": "stream",
     "text": [
      "C:\\Users\\redda\\AppData\\Roaming\\Python\\Python311\\site-packages\\openpyxl\\worksheet\\_reader.py:329: UserWarning: Data Validation extension is not supported and will be removed\n",
      "  warn(msg)\n",
      "C:\\Users\\redda\\AppData\\Roaming\\Python\\Python311\\site-packages\\openpyxl\\worksheet\\_reader.py:329: UserWarning: Data Validation extension is not supported and will be removed\n",
      "  warn(msg)\n",
      "C:\\Users\\redda\\AppData\\Roaming\\Python\\Python311\\site-packages\\openpyxl\\worksheet\\_reader.py:329: UserWarning: Data Validation extension is not supported and will be removed\n",
      "  warn(msg)\n"
     ]
    },
    {
     "name": "stdout",
     "output_type": "stream",
     "text": [
      "发票模板\\发票模板-武汉静静舒文体用品有限公司-SO-2024-02-0629.xlsx\n",
      "发票模板\\发票模板-武汉今日成纸业有限公司-SO-2024-02-0630.xlsx\n"
     ]
    },
    {
     "name": "stderr",
     "output_type": "stream",
     "text": [
      "C:\\Users\\redda\\AppData\\Roaming\\Python\\Python311\\site-packages\\openpyxl\\worksheet\\_reader.py:329: UserWarning: Data Validation extension is not supported and will be removed\n",
      "  warn(msg)\n",
      "C:\\Users\\redda\\AppData\\Roaming\\Python\\Python311\\site-packages\\openpyxl\\worksheet\\_reader.py:329: UserWarning: Data Validation extension is not supported and will be removed\n",
      "  warn(msg)\n"
     ]
    },
    {
     "name": "stdout",
     "output_type": "stream",
     "text": [
      "发票模板\\发票模板-武汉米圣贸易有限公司-SO-2024-02-0631.xlsx\n",
      "发票模板\\发票模板-兰州艾迪商贸有限公司-SO-2024-02-0632.xlsx\n"
     ]
    },
    {
     "name": "stderr",
     "output_type": "stream",
     "text": [
      "C:\\Users\\redda\\AppData\\Roaming\\Python\\Python311\\site-packages\\openpyxl\\worksheet\\_reader.py:329: UserWarning: Data Validation extension is not supported and will be removed\n",
      "  warn(msg)\n",
      "C:\\Users\\redda\\AppData\\Roaming\\Python\\Python311\\site-packages\\openpyxl\\worksheet\\_reader.py:329: UserWarning: Data Validation extension is not supported and will be removed\n",
      "  warn(msg)\n"
     ]
    },
    {
     "name": "stdout",
     "output_type": "stream",
     "text": [
      "发票模板\\发票模板-武汉市齐达利商贸有限公司-SO-2024-02-0633.xlsx\n",
      "发票模板\\发票模板-武汉中威百联商贸有限公司-SO-2024-02-0634.xlsx\n"
     ]
    },
    {
     "name": "stderr",
     "output_type": "stream",
     "text": [
      "C:\\Users\\redda\\AppData\\Roaming\\Python\\Python311\\site-packages\\openpyxl\\worksheet\\_reader.py:329: UserWarning: Data Validation extension is not supported and will be removed\n",
      "  warn(msg)\n",
      "C:\\Users\\redda\\AppData\\Roaming\\Python\\Python311\\site-packages\\openpyxl\\worksheet\\_reader.py:329: UserWarning: Data Validation extension is not supported and will be removed\n",
      "  warn(msg)\n"
     ]
    },
    {
     "name": "stdout",
     "output_type": "stream",
     "text": [
      "发票模板\\发票模板-武汉今日成纸业有限公司-SO-2024-02-0635.xlsx\n",
      "发票模板\\发票模板-武汉米圣贸易有限公司-SO-2024-02-0636.xlsx\n"
     ]
    },
    {
     "name": "stderr",
     "output_type": "stream",
     "text": [
      "C:\\Users\\redda\\AppData\\Roaming\\Python\\Python311\\site-packages\\openpyxl\\worksheet\\_reader.py:329: UserWarning: Data Validation extension is not supported and will be removed\n",
      "  warn(msg)\n",
      "C:\\Users\\redda\\AppData\\Roaming\\Python\\Python311\\site-packages\\openpyxl\\worksheet\\_reader.py:329: UserWarning: Data Validation extension is not supported and will be removed\n",
      "  warn(msg)\n"
     ]
    },
    {
     "name": "stdout",
     "output_type": "stream",
     "text": [
      "发票模板\\发票模板-武汉金胜辉商贸有限公司-SO-2024-02-0637.xlsx\n",
      "发票模板\\发票模板-武汉静静舒文体用品有限公司-SO-2024-02-0638.xlsx\n"
     ]
    },
    {
     "name": "stderr",
     "output_type": "stream",
     "text": [
      "C:\\Users\\redda\\AppData\\Roaming\\Python\\Python311\\site-packages\\openpyxl\\worksheet\\_reader.py:329: UserWarning: Data Validation extension is not supported and will be removed\n",
      "  warn(msg)\n"
     ]
    },
    {
     "name": "stdout",
     "output_type": "stream",
     "text": [
      "发票模板\\发票模板-武汉金宸翰办公用品有限公司1-SO-2024-02-0639.xlsx\n",
      "发票模板\\发票模板-武汉金胜辉商贸有限公司-SO-2024-02-0640.xlsx\n"
     ]
    },
    {
     "name": "stderr",
     "output_type": "stream",
     "text": [
      "C:\\Users\\redda\\AppData\\Roaming\\Python\\Python311\\site-packages\\openpyxl\\worksheet\\_reader.py:329: UserWarning: Data Validation extension is not supported and will be removed\n",
      "  warn(msg)\n",
      "C:\\Users\\redda\\AppData\\Roaming\\Python\\Python311\\site-packages\\openpyxl\\worksheet\\_reader.py:329: UserWarning: Data Validation extension is not supported and will be removed\n",
      "  warn(msg)\n"
     ]
    },
    {
     "name": "stdout",
     "output_type": "stream",
     "text": [
      "发票模板\\发票模板-武汉开先文化用品有限责任公司-SO-2024-02-0641.xlsx\n",
      "发票模板\\发票模板-武汉米圣贸易有限公司-SO-2024-02-0642.xlsx\n"
     ]
    },
    {
     "name": "stderr",
     "output_type": "stream",
     "text": [
      "C:\\Users\\redda\\AppData\\Roaming\\Python\\Python311\\site-packages\\openpyxl\\worksheet\\_reader.py:329: UserWarning: Data Validation extension is not supported and will be removed\n",
      "  warn(msg)\n",
      "C:\\Users\\redda\\AppData\\Roaming\\Python\\Python311\\site-packages\\openpyxl\\worksheet\\_reader.py:329: UserWarning: Data Validation extension is not supported and will be removed\n",
      "  warn(msg)\n"
     ]
    },
    {
     "name": "stdout",
     "output_type": "stream",
     "text": [
      "发票模板\\发票模板-湖北昇耀商贸有限公司-SO-2024-02-0645.xlsx\n"
     ]
    },
    {
     "name": "stderr",
     "output_type": "stream",
     "text": [
      "C:\\Users\\redda\\AppData\\Roaming\\Python\\Python311\\site-packages\\openpyxl\\worksheet\\_reader.py:329: UserWarning: Data Validation extension is not supported and will be removed\n",
      "  warn(msg)\n",
      "C:\\Users\\redda\\AppData\\Roaming\\Python\\Python311\\site-packages\\openpyxl\\worksheet\\_reader.py:329: UserWarning: Data Validation extension is not supported and will be removed\n",
      "  warn(msg)\n"
     ]
    },
    {
     "name": "stdout",
     "output_type": "stream",
     "text": [
      "发票模板\\发票模板-湖北昇耀商贸有限公司-SO-2024-02-0646.xlsx\n",
      "发票模板\\发票模板-重庆文优文化用品有限公司-SO-2024-02-0647.xlsx\n"
     ]
    },
    {
     "name": "stderr",
     "output_type": "stream",
     "text": [
      "C:\\Users\\redda\\AppData\\Roaming\\Python\\Python311\\site-packages\\openpyxl\\worksheet\\_reader.py:329: UserWarning: Data Validation extension is not supported and will be removed\n",
      "  warn(msg)\n",
      "C:\\Users\\redda\\AppData\\Roaming\\Python\\Python311\\site-packages\\openpyxl\\worksheet\\_reader.py:329: UserWarning: Data Validation extension is not supported and will be removed\n",
      "  warn(msg)\n"
     ]
    },
    {
     "name": "stdout",
     "output_type": "stream",
     "text": [
      "发票模板\\发票模板-长沙市雨花区文丰文具商行-SO-2024-02-0648.xlsx\n",
      "发票模板\\发票模板-天津市友旺商贸有限公司-SO-2024-02-0649.xlsx\n"
     ]
    },
    {
     "name": "stderr",
     "output_type": "stream",
     "text": [
      "C:\\Users\\redda\\AppData\\Roaming\\Python\\Python311\\site-packages\\openpyxl\\worksheet\\_reader.py:329: UserWarning: Data Validation extension is not supported and will be removed\n",
      "  warn(msg)\n",
      "C:\\Users\\redda\\AppData\\Roaming\\Python\\Python311\\site-packages\\openpyxl\\worksheet\\_reader.py:329: UserWarning: Data Validation extension is not supported and will be removed\n",
      "  warn(msg)\n"
     ]
    },
    {
     "name": "stdout",
     "output_type": "stream",
     "text": [
      "发票模板\\发票模板-云南非常文化用品有限公司-SO-2024-02-0650.xlsx\n",
      "发票模板\\发票模板-吉林耐斯商贸有限公司-SO-2024-02-0651.xlsx\n"
     ]
    },
    {
     "name": "stderr",
     "output_type": "stream",
     "text": [
      "C:\\Users\\redda\\AppData\\Roaming\\Python\\Python311\\site-packages\\openpyxl\\worksheet\\_reader.py:329: UserWarning: Data Validation extension is not supported and will be removed\n",
      "  warn(msg)\n",
      "C:\\Users\\redda\\AppData\\Roaming\\Python\\Python311\\site-packages\\openpyxl\\worksheet\\_reader.py:329: UserWarning: Data Validation extension is not supported and will be removed\n",
      "  warn(msg)\n"
     ]
    },
    {
     "name": "stdout",
     "output_type": "stream",
     "text": [
      "发票模板\\发票模板-山东刘璐-SO-2024-02-0652.xlsx\n",
      "发票模板\\发票模板-成都集创萧商贸有限公司L-SO-2024-02-0653.xlsx\n"
     ]
    },
    {
     "name": "stderr",
     "output_type": "stream",
     "text": [
      "C:\\Users\\redda\\AppData\\Roaming\\Python\\Python311\\site-packages\\openpyxl\\worksheet\\_reader.py:329: UserWarning: Data Validation extension is not supported and will be removed\n",
      "  warn(msg)\n",
      "C:\\Users\\redda\\AppData\\Roaming\\Python\\Python311\\site-packages\\openpyxl\\worksheet\\_reader.py:329: UserWarning: Data Validation extension is not supported and will be removed\n",
      "  warn(msg)\n"
     ]
    },
    {
     "name": "stdout",
     "output_type": "stream",
     "text": [
      "发票模板\\发票模板-宁夏昕墨文化用品有限公司-SO-2024-02-0654.xlsx\n",
      "发票模板\\发票模板-无锡金可益商贸有限公司-SO-2024-02-0655.xlsx\n"
     ]
    },
    {
     "name": "stderr",
     "output_type": "stream",
     "text": [
      "C:\\Users\\redda\\AppData\\Roaming\\Python\\Python311\\site-packages\\openpyxl\\worksheet\\_reader.py:329: UserWarning: Data Validation extension is not supported and will be removed\n",
      "  warn(msg)\n",
      "C:\\Users\\redda\\AppData\\Roaming\\Python\\Python311\\site-packages\\openpyxl\\worksheet\\_reader.py:329: UserWarning: Data Validation extension is not supported and will be removed\n",
      "  warn(msg)\n"
     ]
    },
    {
     "name": "stdout",
     "output_type": "stream",
     "text": [
      "发票模板\\发票模板-邢台市桦桥商贸有限公司-SO-2024-02-0656.xlsx\n",
      "发票模板\\发票模板-义乌市博迅文体用品有限公司-SO-2024-02-0657.xlsx\n"
     ]
    },
    {
     "name": "stderr",
     "output_type": "stream",
     "text": [
      "C:\\Users\\redda\\AppData\\Roaming\\Python\\Python311\\site-packages\\openpyxl\\worksheet\\_reader.py:329: UserWarning: Data Validation extension is not supported and will be removed\n",
      "  warn(msg)\n"
     ]
    },
    {
     "name": "stdout",
     "output_type": "stream",
     "text": [
      "发票模板\\发票模板-河南抬头喜办公用品有限公司S-SO-2024-02-0658.xlsx\n",
      "发票模板\\发票模板-武汉开先文化用品有限责任公司-SO-2024-02-0659.xlsx\n"
     ]
    },
    {
     "name": "stderr",
     "output_type": "stream",
     "text": [
      "C:\\Users\\redda\\AppData\\Roaming\\Python\\Python311\\site-packages\\openpyxl\\worksheet\\_reader.py:329: UserWarning: Data Validation extension is not supported and will be removed\n",
      "  warn(msg)\n",
      "C:\\Users\\redda\\AppData\\Roaming\\Python\\Python311\\site-packages\\openpyxl\\worksheet\\_reader.py:329: UserWarning: Data Validation extension is not supported and will be removed\n",
      "  warn(msg)\n"
     ]
    },
    {
     "name": "stdout",
     "output_type": "stream",
     "text": [
      "发票模板\\发票模板-武汉金宸翰办公用品有限公司-SO-2024-02-0660.xlsx\n",
      "发票模板\\发票模板-武汉市热脉文体用品有限公司-SO-2024-02-0661.xlsx\n"
     ]
    },
    {
     "name": "stderr",
     "output_type": "stream",
     "text": [
      "C:\\Users\\redda\\AppData\\Roaming\\Python\\Python311\\site-packages\\openpyxl\\worksheet\\_reader.py:329: UserWarning: Data Validation extension is not supported and will be removed\n",
      "  warn(msg)\n",
      "C:\\Users\\redda\\AppData\\Roaming\\Python\\Python311\\site-packages\\openpyxl\\worksheet\\_reader.py:329: UserWarning: Data Validation extension is not supported and will be removed\n",
      "  warn(msg)\n"
     ]
    },
    {
     "name": "stdout",
     "output_type": "stream",
     "text": [
      "发票模板\\发票模板-天津市友旺商贸有限公司-SO-2024-02-0662.xlsx\n",
      "发票模板\\发票模板-天津市友旺商贸有限公司-SO-2024-02-0663.xlsx\n"
     ]
    },
    {
     "name": "stderr",
     "output_type": "stream",
     "text": [
      "C:\\Users\\redda\\AppData\\Roaming\\Python\\Python311\\site-packages\\openpyxl\\worksheet\\_reader.py:329: UserWarning: Data Validation extension is not supported and will be removed\n",
      "  warn(msg)\n",
      "C:\\Users\\redda\\AppData\\Roaming\\Python\\Python311\\site-packages\\openpyxl\\worksheet\\_reader.py:329: UserWarning: Data Validation extension is not supported and will be removed\n",
      "  warn(msg)\n"
     ]
    },
    {
     "name": "stdout",
     "output_type": "stream",
     "text": [
      "发票模板\\发票模板-武汉金胜辉商贸有限公司-SO-2024-02-0664.xlsx\n",
      "发票模板\\发票模板-武汉静静舒文体用品有限公司-SO-2024-02-0665.xlsx\n"
     ]
    },
    {
     "name": "stderr",
     "output_type": "stream",
     "text": [
      "C:\\Users\\redda\\AppData\\Roaming\\Python\\Python311\\site-packages\\openpyxl\\worksheet\\_reader.py:329: UserWarning: Data Validation extension is not supported and will be removed\n",
      "  warn(msg)\n",
      "C:\\Users\\redda\\AppData\\Roaming\\Python\\Python311\\site-packages\\openpyxl\\worksheet\\_reader.py:329: UserWarning: Data Validation extension is not supported and will be removed\n",
      "  warn(msg)\n"
     ]
    },
    {
     "name": "stdout",
     "output_type": "stream",
     "text": [
      "发票模板\\发票模板-武汉市齐达利商贸有限公司-SO-2024-02-0666.xlsx\n"
     ]
    },
    {
     "name": "stderr",
     "output_type": "stream",
     "text": [
      "C:\\Users\\redda\\AppData\\Roaming\\Python\\Python311\\site-packages\\openpyxl\\worksheet\\_reader.py:329: UserWarning: Data Validation extension is not supported and will be removed\n",
      "  warn(msg)\n",
      "C:\\Users\\redda\\AppData\\Roaming\\Python\\Python311\\site-packages\\openpyxl\\worksheet\\_reader.py:329: UserWarning: Data Validation extension is not supported and will be removed\n",
      "  warn(msg)\n"
     ]
    },
    {
     "name": "stdout",
     "output_type": "stream",
     "text": [
      "发票模板\\发票模板-武汉开先文化用品有限责任公司-SO-2024-02-0667.xlsx\n",
      "发票模板\\发票模板-武汉米圣贸易有限公司-SO-2024-02-0668.xlsx\n"
     ]
    },
    {
     "name": "stderr",
     "output_type": "stream",
     "text": [
      "C:\\Users\\redda\\AppData\\Roaming\\Python\\Python311\\site-packages\\openpyxl\\worksheet\\_reader.py:329: UserWarning: Data Validation extension is not supported and will be removed\n",
      "  warn(msg)\n",
      "C:\\Users\\redda\\AppData\\Roaming\\Python\\Python311\\site-packages\\openpyxl\\worksheet\\_reader.py:329: UserWarning: Data Validation extension is not supported and will be removed\n",
      "  warn(msg)\n"
     ]
    },
    {
     "name": "stdout",
     "output_type": "stream",
     "text": [
      "发票模板\\发票模板-武汉今日成纸业有限公司-SO-2024-02-0669.xlsx\n",
      "发票模板\\发票模板-武汉今日成纸业有限公司-SO-2024-02-0670.xlsx\n"
     ]
    },
    {
     "name": "stderr",
     "output_type": "stream",
     "text": [
      "C:\\Users\\redda\\AppData\\Roaming\\Python\\Python311\\site-packages\\openpyxl\\worksheet\\_reader.py:329: UserWarning: Data Validation extension is not supported and will be removed\n",
      "  warn(msg)\n",
      "C:\\Users\\redda\\AppData\\Roaming\\Python\\Python311\\site-packages\\openpyxl\\worksheet\\_reader.py:329: UserWarning: Data Validation extension is not supported and will be removed\n",
      "  warn(msg)\n"
     ]
    },
    {
     "name": "stdout",
     "output_type": "stream",
     "text": [
      "发票模板\\发票模板-湖北昇耀商贸有限公司-SO-2024-02-0671.xlsx\n",
      "发票模板\\发票模板-武汉米圣贸易有限公司-SO-2024-02-0672.xlsx\n"
     ]
    },
    {
     "name": "stderr",
     "output_type": "stream",
     "text": [
      "C:\\Users\\redda\\AppData\\Roaming\\Python\\Python311\\site-packages\\openpyxl\\worksheet\\_reader.py:329: UserWarning: Data Validation extension is not supported and will be removed\n",
      "  warn(msg)\n",
      "C:\\Users\\redda\\AppData\\Roaming\\Python\\Python311\\site-packages\\openpyxl\\worksheet\\_reader.py:329: UserWarning: Data Validation extension is not supported and will be removed\n",
      "  warn(msg)\n"
     ]
    },
    {
     "name": "stdout",
     "output_type": "stream",
     "text": [
      "发票模板\\发票模板-武汉静静舒文体用品有限公司-SO-2024-02-0673.xlsx\n",
      "发票模板\\发票模板-武汉今日成纸业有限公司-SO-2024-02-0674.xlsx\n"
     ]
    },
    {
     "name": "stderr",
     "output_type": "stream",
     "text": [
      "C:\\Users\\redda\\AppData\\Roaming\\Python\\Python311\\site-packages\\openpyxl\\worksheet\\_reader.py:329: UserWarning: Data Validation extension is not supported and will be removed\n",
      "  warn(msg)\n",
      "C:\\Users\\redda\\AppData\\Roaming\\Python\\Python311\\site-packages\\openpyxl\\worksheet\\_reader.py:329: UserWarning: Data Validation extension is not supported and will be removed\n",
      "  warn(msg)\n"
     ]
    },
    {
     "name": "stdout",
     "output_type": "stream",
     "text": [
      "发票模板\\发票模板-沈阳世联办公用品有限公司-SO-2024-02-0675.xlsx\n",
      "发票模板\\发票模板-吉林耐斯商贸有限公司-SO-2024-02-0676.xlsx\n"
     ]
    },
    {
     "name": "stderr",
     "output_type": "stream",
     "text": [
      "C:\\Users\\redda\\AppData\\Roaming\\Python\\Python311\\site-packages\\openpyxl\\worksheet\\_reader.py:329: UserWarning: Data Validation extension is not supported and will be removed\n",
      "  warn(msg)\n"
     ]
    },
    {
     "name": "stdout",
     "output_type": "stream",
     "text": [
      "发票模板\\发票模板-河南梓亦桐商贸有限公司-SO-2024-02-0677.xlsx\n"
     ]
    },
    {
     "name": "stderr",
     "output_type": "stream",
     "text": [
      "C:\\Users\\redda\\AppData\\Roaming\\Python\\Python311\\site-packages\\openpyxl\\worksheet\\_reader.py:329: UserWarning: Data Validation extension is not supported and will be removed\n",
      "  warn(msg)\n",
      "C:\\Users\\redda\\AppData\\Roaming\\Python\\Python311\\site-packages\\openpyxl\\worksheet\\_reader.py:329: UserWarning: Data Validation extension is not supported and will be removed\n",
      "  warn(msg)\n"
     ]
    },
    {
     "name": "stdout",
     "output_type": "stream",
     "text": [
      "发票模板\\发票模板-成都迪欣杨商贸有限公司-SO-2024-02-0678.xlsx\n",
      "发票模板\\发票模板-江西立信办公商贸有限公司-SO-2024-02-0679.xlsx\n"
     ]
    },
    {
     "name": "stderr",
     "output_type": "stream",
     "text": [
      "C:\\Users\\redda\\AppData\\Roaming\\Python\\Python311\\site-packages\\openpyxl\\worksheet\\_reader.py:329: UserWarning: Data Validation extension is not supported and will be removed\n",
      "  warn(msg)\n",
      "C:\\Users\\redda\\AppData\\Roaming\\Python\\Python311\\site-packages\\openpyxl\\worksheet\\_reader.py:329: UserWarning: Data Validation extension is not supported and will be removed\n",
      "  warn(msg)\n"
     ]
    },
    {
     "name": "stdout",
     "output_type": "stream",
     "text": [
      "发票模板\\发票模板-长沙市雨花区文丰文具商行-SO-2024-02-0680.xlsx\n",
      "发票模板\\发票模板-武汉米圣贸易有限公司-SO-2024-02-0681.xlsx\n"
     ]
    },
    {
     "name": "stderr",
     "output_type": "stream",
     "text": [
      "C:\\Users\\redda\\AppData\\Roaming\\Python\\Python311\\site-packages\\openpyxl\\worksheet\\_reader.py:329: UserWarning: Data Validation extension is not supported and will be removed\n",
      "  warn(msg)\n",
      "C:\\Users\\redda\\AppData\\Roaming\\Python\\Python311\\site-packages\\openpyxl\\worksheet\\_reader.py:329: UserWarning: Data Validation extension is not supported and will be removed\n",
      "  warn(msg)\n"
     ]
    },
    {
     "name": "stdout",
     "output_type": "stream",
     "text": [
      "发票模板\\发票模板-武汉嘉迪亚商贸有限公司-SO-2024-02-0682.xlsx\n",
      "发票模板\\发票模板-武汉市热脉文体用品有限公司-SO-2024-02-0683.xlsx\n"
     ]
    },
    {
     "name": "stderr",
     "output_type": "stream",
     "text": [
      "C:\\Users\\redda\\AppData\\Roaming\\Python\\Python311\\site-packages\\openpyxl\\worksheet\\_reader.py:329: UserWarning: Data Validation extension is not supported and will be removed\n",
      "  warn(msg)\n",
      "C:\\Users\\redda\\AppData\\Roaming\\Python\\Python311\\site-packages\\openpyxl\\worksheet\\_reader.py:329: UserWarning: Data Validation extension is not supported and will be removed\n",
      "  warn(msg)\n"
     ]
    },
    {
     "name": "stdout",
     "output_type": "stream",
     "text": [
      "发票模板\\发票模板-广东盛泰档案用品有限公司-SO-2024-02-0684.xlsx\n",
      "发票模板\\发票模板-当涂县美文办公服务部-SO-2024-02-0685.xlsx\n"
     ]
    },
    {
     "name": "stderr",
     "output_type": "stream",
     "text": [
      "C:\\Users\\redda\\AppData\\Roaming\\Python\\Python311\\site-packages\\openpyxl\\worksheet\\_reader.py:329: UserWarning: Data Validation extension is not supported and will be removed\n",
      "  warn(msg)\n",
      "C:\\Users\\redda\\AppData\\Roaming\\Python\\Python311\\site-packages\\openpyxl\\worksheet\\_reader.py:329: UserWarning: Data Validation extension is not supported and will be removed\n",
      "  warn(msg)\n"
     ]
    },
    {
     "name": "stdout",
     "output_type": "stream",
     "text": [
      "发票模板\\发票模板-武汉静静舒文体用品有限公司-SO-2024-02-0686.xlsx\n",
      "发票模板\\发票模板-重庆终相随科技有限公司-SO-2024-02-0687.xlsx\n"
     ]
    },
    {
     "name": "stderr",
     "output_type": "stream",
     "text": [
      "C:\\Users\\redda\\AppData\\Roaming\\Python\\Python311\\site-packages\\openpyxl\\worksheet\\_reader.py:329: UserWarning: Data Validation extension is not supported and will be removed\n",
      "  warn(msg)\n"
     ]
    },
    {
     "name": "stdout",
     "output_type": "stream",
     "text": [
      "发票模板\\发票模板-湖北昇耀商贸有限公司-SO-2024-02-0688.xlsx\n",
      "发票模板\\发票模板-河南抬头喜办公用品有限公司S-SO-2024-02-0689.xlsx\n"
     ]
    },
    {
     "name": "stderr",
     "output_type": "stream",
     "text": [
      "C:\\Users\\redda\\AppData\\Roaming\\Python\\Python311\\site-packages\\openpyxl\\worksheet\\_reader.py:329: UserWarning: Data Validation extension is not supported and will be removed\n",
      "  warn(msg)\n",
      "C:\\Users\\redda\\AppData\\Roaming\\Python\\Python311\\site-packages\\openpyxl\\worksheet\\_reader.py:329: UserWarning: Data Validation extension is not supported and will be removed\n",
      "  warn(msg)\n"
     ]
    },
    {
     "name": "stdout",
     "output_type": "stream",
     "text": [
      "发票模板\\发票模板-武汉米圣贸易有限公司-SO-2024-02-0690.xlsx\n"
     ]
    },
    {
     "name": "stderr",
     "output_type": "stream",
     "text": [
      "C:\\Users\\redda\\AppData\\Roaming\\Python\\Python311\\site-packages\\openpyxl\\worksheet\\_reader.py:329: UserWarning: Data Validation extension is not supported and will be removed\n",
      "  warn(msg)\n"
     ]
    },
    {
     "name": "stdout",
     "output_type": "stream",
     "text": [
      "发票模板\\发票模板-武汉金胜辉商贸有限公司-SO-2024-02-0691.xlsx\n",
      "发票模板\\发票模板-武汉市齐达利商贸有限公司-SO-2024-02-0692.xlsx\n"
     ]
    },
    {
     "name": "stderr",
     "output_type": "stream",
     "text": [
      "C:\\Users\\redda\\AppData\\Roaming\\Python\\Python311\\site-packages\\openpyxl\\worksheet\\_reader.py:329: UserWarning: Data Validation extension is not supported and will be removed\n",
      "  warn(msg)\n",
      "C:\\Users\\redda\\AppData\\Roaming\\Python\\Python311\\site-packages\\openpyxl\\worksheet\\_reader.py:329: UserWarning: Data Validation extension is not supported and will be removed\n",
      "  warn(msg)\n"
     ]
    },
    {
     "name": "stdout",
     "output_type": "stream",
     "text": [
      "发票模板\\发票模板-武汉开先文化用品有限责任公司-SO-2024-02-0693.xlsx\n"
     ]
    },
    {
     "name": "stderr",
     "output_type": "stream",
     "text": [
      "C:\\Users\\redda\\AppData\\Roaming\\Python\\Python311\\site-packages\\openpyxl\\worksheet\\_reader.py:329: UserWarning: Data Validation extension is not supported and will be removed\n",
      "  warn(msg)\n"
     ]
    },
    {
     "name": "stdout",
     "output_type": "stream",
     "text": [
      "发票模板\\发票模板-武汉静静舒文体用品有限公司-SO-2024-02-0694.xlsx\n",
      "发票模板\\发票模板-武汉金宸翰办公用品有限公司1-SO-2024-02-0695.xlsx\n"
     ]
    },
    {
     "name": "stderr",
     "output_type": "stream",
     "text": [
      "C:\\Users\\redda\\AppData\\Roaming\\Python\\Python311\\site-packages\\openpyxl\\worksheet\\_reader.py:329: UserWarning: Data Validation extension is not supported and will be removed\n",
      "  warn(msg)\n",
      "C:\\Users\\redda\\AppData\\Roaming\\Python\\Python311\\site-packages\\openpyxl\\worksheet\\_reader.py:329: UserWarning: Data Validation extension is not supported and will be removed\n",
      "  warn(msg)\n"
     ]
    },
    {
     "name": "stdout",
     "output_type": "stream",
     "text": [
      "发票模板\\发票模板-苍南县怡选百货商行-SO-2024-02-0696.xlsx\n",
      "发票模板\\发票模板-河南抬头喜办公用品有限公司S-SO-2024-02-0697.xlsx\n"
     ]
    },
    {
     "name": "stderr",
     "output_type": "stream",
     "text": [
      "C:\\Users\\redda\\AppData\\Roaming\\Python\\Python311\\site-packages\\openpyxl\\worksheet\\_reader.py:329: UserWarning: Data Validation extension is not supported and will be removed\n",
      "  warn(msg)\n",
      "C:\\Users\\redda\\AppData\\Roaming\\Python\\Python311\\site-packages\\openpyxl\\worksheet\\_reader.py:329: UserWarning: Data Validation extension is not supported and will be removed\n",
      "  warn(msg)\n"
     ]
    },
    {
     "name": "stdout",
     "output_type": "stream",
     "text": [
      "发票模板\\发票模板-武汉市热脉文体用品有限公司-SO-2024-02-0698.xlsx\n",
      "发票模板\\发票模板-武汉米圣贸易有限公司-SO-2024-02-0699.xlsx\n",
      "发票模板\\发票模板-武汉金胜辉商贸有限公司-SO-2024-02-0700.xlsx\n"
     ]
    },
    {
     "name": "stderr",
     "output_type": "stream",
     "text": [
      "C:\\Users\\redda\\AppData\\Roaming\\Python\\Python311\\site-packages\\openpyxl\\worksheet\\_reader.py:329: UserWarning: Data Validation extension is not supported and will be removed\n",
      "  warn(msg)\n",
      "C:\\Users\\redda\\AppData\\Roaming\\Python\\Python311\\site-packages\\openpyxl\\worksheet\\_reader.py:329: UserWarning: Data Validation extension is not supported and will be removed\n",
      "  warn(msg)\n",
      "C:\\Users\\redda\\AppData\\Roaming\\Python\\Python311\\site-packages\\openpyxl\\worksheet\\_reader.py:329: UserWarning: Data Validation extension is not supported and will be removed\n",
      "  warn(msg)\n",
      "C:\\Users\\redda\\AppData\\Roaming\\Python\\Python311\\site-packages\\openpyxl\\worksheet\\_reader.py:329: UserWarning: Data Validation extension is not supported and will be removed\n",
      "  warn(msg)\n"
     ]
    },
    {
     "name": "stdout",
     "output_type": "stream",
     "text": [
      "发票模板\\发票模板-湖北昇耀商贸有限公司-SO-2024-02-0701.xlsx\n",
      "发票模板\\发票模板-武汉市热脉文体用品有限公司-SO-2024-02-0702.xlsx\n"
     ]
    },
    {
     "name": "stderr",
     "output_type": "stream",
     "text": [
      "C:\\Users\\redda\\AppData\\Roaming\\Python\\Python311\\site-packages\\openpyxl\\worksheet\\_reader.py:329: UserWarning: Data Validation extension is not supported and will be removed\n",
      "  warn(msg)\n",
      "C:\\Users\\redda\\AppData\\Roaming\\Python\\Python311\\site-packages\\openpyxl\\worksheet\\_reader.py:329: UserWarning: Data Validation extension is not supported and will be removed\n",
      "  warn(msg)\n"
     ]
    },
    {
     "name": "stdout",
     "output_type": "stream",
     "text": [
      "发票模板\\发票模板-武汉今日成纸业有限公司-SO-2024-02-0703.xlsx\n",
      "发票模板\\发票模板-天津市友旺商贸有限公司-SO-2024-02-0704.xlsx\n"
     ]
    },
    {
     "name": "stderr",
     "output_type": "stream",
     "text": [
      "C:\\Users\\redda\\AppData\\Roaming\\Python\\Python311\\site-packages\\openpyxl\\worksheet\\_reader.py:329: UserWarning: Data Validation extension is not supported and will be removed\n",
      "  warn(msg)\n"
     ]
    },
    {
     "name": "stdout",
     "output_type": "stream",
     "text": [
      "发票模板\\发票模板-桂林竞升文化用品有限公司-SO-2024-02-0705.xlsx\n",
      "发票模板\\发票模板-白玉县诚信办公用品销售有限公司-SO-2024-02-0706.xlsx\n"
     ]
    },
    {
     "name": "stderr",
     "output_type": "stream",
     "text": [
      "C:\\Users\\redda\\AppData\\Roaming\\Python\\Python311\\site-packages\\openpyxl\\worksheet\\_reader.py:329: UserWarning: Data Validation extension is not supported and will be removed\n",
      "  warn(msg)\n",
      "C:\\Users\\redda\\AppData\\Roaming\\Python\\Python311\\site-packages\\openpyxl\\worksheet\\_reader.py:329: UserWarning: Data Validation extension is not supported and will be removed\n",
      "  warn(msg)\n"
     ]
    },
    {
     "name": "stdout",
     "output_type": "stream",
     "text": [
      "发票模板\\发票模板-昆明八龙商贸有限公司-SO-2024-02-0707.xlsx\n",
      "发票模板\\发票模板-哈尔滨市新天地文化用品有限公司-SO-2024-02-0708.xlsx\n"
     ]
    },
    {
     "name": "stderr",
     "output_type": "stream",
     "text": [
      "C:\\Users\\redda\\AppData\\Roaming\\Python\\Python311\\site-packages\\openpyxl\\worksheet\\_reader.py:329: UserWarning: Data Validation extension is not supported and will be removed\n",
      "  warn(msg)\n",
      "C:\\Users\\redda\\AppData\\Roaming\\Python\\Python311\\site-packages\\openpyxl\\worksheet\\_reader.py:329: UserWarning: Data Validation extension is not supported and will be removed\n",
      "  warn(msg)\n"
     ]
    },
    {
     "name": "stdout",
     "output_type": "stream",
     "text": [
      "发票模板\\发票模板-宁夏好时光商贸有限公司-SO-2024-02-0709.xlsx\n"
     ]
    },
    {
     "name": "stderr",
     "output_type": "stream",
     "text": [
      "C:\\Users\\redda\\AppData\\Roaming\\Python\\Python311\\site-packages\\openpyxl\\worksheet\\_reader.py:329: UserWarning: Data Validation extension is not supported and will be removed\n",
      "  warn(msg)\n",
      "C:\\Users\\redda\\AppData\\Roaming\\Python\\Python311\\site-packages\\openpyxl\\worksheet\\_reader.py:329: UserWarning: Data Validation extension is not supported and will be removed\n",
      "  warn(msg)\n"
     ]
    },
    {
     "name": "stdout",
     "output_type": "stream",
     "text": [
      "发票模板\\发票模板-西宁宏薇商贸有限公司-SO-2024-02-0710.xlsx\n",
      "发票模板\\发票模板-石家庄本米文具用品销售有限公司-SO-2024-02-0711.xlsx\n"
     ]
    },
    {
     "name": "stderr",
     "output_type": "stream",
     "text": [
      "C:\\Users\\redda\\AppData\\Roaming\\Python\\Python311\\site-packages\\openpyxl\\worksheet\\_reader.py:329: UserWarning: Data Validation extension is not supported and will be removed\n",
      "  warn(msg)\n",
      "C:\\Users\\redda\\AppData\\Roaming\\Python\\Python311\\site-packages\\openpyxl\\worksheet\\_reader.py:329: UserWarning: Data Validation extension is not supported and will be removed\n",
      "  warn(msg)\n"
     ]
    },
    {
     "name": "stdout",
     "output_type": "stream",
     "text": [
      "发票模板\\发票模板-武汉今日成纸业有限公司-SO-2024-02-0712.xlsx\n",
      "发票模板\\发票模板-武汉优聚优品贸易有限公司-SO-2024-02-0713.xlsx\n"
     ]
    },
    {
     "name": "stderr",
     "output_type": "stream",
     "text": [
      "C:\\Users\\redda\\AppData\\Roaming\\Python\\Python311\\site-packages\\openpyxl\\worksheet\\_reader.py:329: UserWarning: Data Validation extension is not supported and will be removed\n",
      "  warn(msg)\n",
      "C:\\Users\\redda\\AppData\\Roaming\\Python\\Python311\\site-packages\\openpyxl\\worksheet\\_reader.py:329: UserWarning: Data Validation extension is not supported and will be removed\n",
      "  warn(msg)\n"
     ]
    },
    {
     "name": "stdout",
     "output_type": "stream",
     "text": [
      "发票模板\\发票模板-成都乐尚怡智商贸有限公司-SO-2024-02-0714.xlsx\n",
      "发票模板\\发票模板-品壹佰河北商贸有限公司-SO-2024-02-0715.xlsx\n"
     ]
    },
    {
     "name": "stderr",
     "output_type": "stream",
     "text": [
      "C:\\Users\\redda\\AppData\\Roaming\\Python\\Python311\\site-packages\\openpyxl\\worksheet\\_reader.py:329: UserWarning: Data Validation extension is not supported and will be removed\n",
      "  warn(msg)\n",
      "C:\\Users\\redda\\AppData\\Roaming\\Python\\Python311\\site-packages\\openpyxl\\worksheet\\_reader.py:329: UserWarning: Data Validation extension is not supported and will be removed\n",
      "  warn(msg)\n"
     ]
    },
    {
     "name": "stdout",
     "output_type": "stream",
     "text": [
      "发票模板\\发票模板-保定白沟彩顺商贸有限公司-SO-2024-02-0716.xlsx\n",
      "发票模板\\发票模板-柳州市笔创贸易有限公司-SO-2024-02-0717.xlsx\n"
     ]
    },
    {
     "name": "stderr",
     "output_type": "stream",
     "text": [
      "C:\\Users\\redda\\AppData\\Roaming\\Python\\Python311\\site-packages\\openpyxl\\worksheet\\_reader.py:329: UserWarning: Data Validation extension is not supported and will be removed\n",
      "  warn(msg)\n",
      "C:\\Users\\redda\\AppData\\Roaming\\Python\\Python311\\site-packages\\openpyxl\\worksheet\\_reader.py:329: UserWarning: Data Validation extension is not supported and will be removed\n",
      "  warn(msg)\n"
     ]
    },
    {
     "name": "stdout",
     "output_type": "stream",
     "text": [
      "发票模板\\发票模板-广西首平文具有限公司-SO-2024-02-0718.xlsx\n",
      "发票模板\\发票模板-长沙市雨花区文丰文具商行-SO-2024-02-0719.xlsx\n"
     ]
    },
    {
     "name": "stderr",
     "output_type": "stream",
     "text": [
      "C:\\Users\\redda\\AppData\\Roaming\\Python\\Python311\\site-packages\\openpyxl\\worksheet\\_reader.py:329: UserWarning: Data Validation extension is not supported and will be removed\n",
      "  warn(msg)\n",
      "C:\\Users\\redda\\AppData\\Roaming\\Python\\Python311\\site-packages\\openpyxl\\worksheet\\_reader.py:329: UserWarning: Data Validation extension is not supported and will be removed\n",
      "  warn(msg)\n"
     ]
    },
    {
     "name": "stdout",
     "output_type": "stream",
     "text": [
      "发票模板\\发票模板-天津市友旺商贸有限公司-SO-2024-02-0720.xlsx\n",
      "发票模板\\发票模板-四季发文具-SO-2024-02-0721.xlsx\n"
     ]
    },
    {
     "name": "stderr",
     "output_type": "stream",
     "text": [
      "C:\\Users\\redda\\AppData\\Roaming\\Python\\Python311\\site-packages\\openpyxl\\worksheet\\_reader.py:329: UserWarning: Data Validation extension is not supported and will be removed\n",
      "  warn(msg)\n"
     ]
    },
    {
     "name": "stdout",
     "output_type": "stream",
     "text": [
      "发票模板\\发票模板-株洲文邦贸易有限公司-SO-2024-02-0722.xlsx\n"
     ]
    },
    {
     "name": "stderr",
     "output_type": "stream",
     "text": [
      "C:\\Users\\redda\\AppData\\Roaming\\Python\\Python311\\site-packages\\openpyxl\\worksheet\\_reader.py:329: UserWarning: Data Validation extension is not supported and will be removed\n",
      "  warn(msg)\n",
      "C:\\Users\\redda\\AppData\\Roaming\\Python\\Python311\\site-packages\\openpyxl\\worksheet\\_reader.py:329: UserWarning: Data Validation extension is not supported and will be removed\n",
      "  warn(msg)\n"
     ]
    },
    {
     "name": "stdout",
     "output_type": "stream",
     "text": [
      "发票模板\\发票模板-兴义市鸿图锐意办公商贸有限公司-SO-2024-02-0723.xlsx\n",
      "发票模板\\发票模板-南宁市小木屋文化用品有限公司-SO-2024-02-0724.xlsx\n"
     ]
    },
    {
     "name": "stderr",
     "output_type": "stream",
     "text": [
      "C:\\Users\\redda\\AppData\\Roaming\\Python\\Python311\\site-packages\\openpyxl\\worksheet\\_reader.py:329: UserWarning: Data Validation extension is not supported and will be removed\n",
      "  warn(msg)\n",
      "C:\\Users\\redda\\AppData\\Roaming\\Python\\Python311\\site-packages\\openpyxl\\worksheet\\_reader.py:329: UserWarning: Data Validation extension is not supported and will be removed\n",
      "  warn(msg)\n"
     ]
    },
    {
     "name": "stdout",
     "output_type": "stream",
     "text": [
      "发票模板\\发票模板-武汉金胜辉商贸有限公司-SO-2024-02-0725.xlsx\n",
      "发票模板\\发票模板-武汉米圣贸易有限公司-SO-2024-02-0726.xlsx\n"
     ]
    },
    {
     "name": "stderr",
     "output_type": "stream",
     "text": [
      "C:\\Users\\redda\\AppData\\Roaming\\Python\\Python311\\site-packages\\openpyxl\\worksheet\\_reader.py:329: UserWarning: Data Validation extension is not supported and will be removed\n",
      "  warn(msg)\n",
      "C:\\Users\\redda\\AppData\\Roaming\\Python\\Python311\\site-packages\\openpyxl\\worksheet\\_reader.py:329: UserWarning: Data Validation extension is not supported and will be removed\n",
      "  warn(msg)\n"
     ]
    },
    {
     "name": "stdout",
     "output_type": "stream",
     "text": [
      "发票模板\\发票模板-武汉开先文化用品有限责任公司-SO-2024-02-0727.xlsx\n",
      "发票模板\\发票模板-武汉市齐达利商贸有限公司-SO-2024-02-0728.xlsx\n"
     ]
    },
    {
     "name": "stderr",
     "output_type": "stream",
     "text": [
      "C:\\Users\\redda\\AppData\\Roaming\\Python\\Python311\\site-packages\\openpyxl\\worksheet\\_reader.py:329: UserWarning: Data Validation extension is not supported and will be removed\n",
      "  warn(msg)\n",
      "C:\\Users\\redda\\AppData\\Roaming\\Python\\Python311\\site-packages\\openpyxl\\worksheet\\_reader.py:329: UserWarning: Data Validation extension is not supported and will be removed\n",
      "  warn(msg)\n"
     ]
    },
    {
     "name": "stdout",
     "output_type": "stream",
     "text": [
      "发票模板\\发票模板-西安百花工贸有限公司-SO-2024-02-0729.xlsx\n",
      "发票模板\\发票模板-武汉金胜辉商贸有限公司-SO-2024-02-0730.xlsx\n"
     ]
    },
    {
     "name": "stderr",
     "output_type": "stream",
     "text": [
      "C:\\Users\\redda\\AppData\\Roaming\\Python\\Python311\\site-packages\\openpyxl\\worksheet\\_reader.py:329: UserWarning: Data Validation extension is not supported and will be removed\n",
      "  warn(msg)\n",
      "C:\\Users\\redda\\AppData\\Roaming\\Python\\Python311\\site-packages\\openpyxl\\worksheet\\_reader.py:329: UserWarning: Data Validation extension is not supported and will be removed\n",
      "  warn(msg)\n"
     ]
    },
    {
     "name": "stdout",
     "output_type": "stream",
     "text": [
      "发票模板\\发票模板-武汉今日成纸业有限公司-SO-2024-02-0731.xlsx\n",
      "发票模板\\发票模板-武汉米圣贸易有限公司-SO-2024-02-0732.xlsx\n"
     ]
    },
    {
     "name": "stderr",
     "output_type": "stream",
     "text": [
      "C:\\Users\\redda\\AppData\\Roaming\\Python\\Python311\\site-packages\\openpyxl\\worksheet\\_reader.py:329: UserWarning: Data Validation extension is not supported and will be removed\n",
      "  warn(msg)\n",
      "C:\\Users\\redda\\AppData\\Roaming\\Python\\Python311\\site-packages\\openpyxl\\worksheet\\_reader.py:329: UserWarning: Data Validation extension is not supported and will be removed\n",
      "  warn(msg)\n"
     ]
    },
    {
     "name": "stdout",
     "output_type": "stream",
     "text": [
      "发票模板\\发票模板-武汉金宸翰办公用品有限公司-SO-2024-02-0733.xlsx\n",
      "发票模板\\发票模板-湖北昇耀商贸有限公司-SO-2024-02-0734.xlsx\n"
     ]
    },
    {
     "name": "stderr",
     "output_type": "stream",
     "text": [
      "C:\\Users\\redda\\AppData\\Roaming\\Python\\Python311\\site-packages\\openpyxl\\worksheet\\_reader.py:329: UserWarning: Data Validation extension is not supported and will be removed\n",
      "  warn(msg)\n"
     ]
    },
    {
     "name": "stdout",
     "output_type": "stream",
     "text": [
      "发票模板\\发票模板-武汉今日成纸业有限公司-SO-2024-02-0735.xlsx\n",
      "发票模板\\发票模板-昆明市官渡区林林林文体用品经营部-SO-2024-02-0736.xlsx\n"
     ]
    },
    {
     "name": "stderr",
     "output_type": "stream",
     "text": [
      "C:\\Users\\redda\\AppData\\Roaming\\Python\\Python311\\site-packages\\openpyxl\\worksheet\\_reader.py:329: UserWarning: Data Validation extension is not supported and will be removed\n",
      "  warn(msg)\n",
      "C:\\Users\\redda\\AppData\\Roaming\\Python\\Python311\\site-packages\\openpyxl\\worksheet\\_reader.py:329: UserWarning: Data Validation extension is not supported and will be removed\n",
      "  warn(msg)\n"
     ]
    },
    {
     "name": "stdout",
     "output_type": "stream",
     "text": [
      "发票模板\\发票模板-武汉金宸翰办公用品有限公司-SO-2024-02-0737.xlsx\n",
      "发票模板\\发票模板-武汉市热脉文体用品有限公司-SO-2024-02-0738.xlsx\n"
     ]
    },
    {
     "name": "stderr",
     "output_type": "stream",
     "text": [
      "C:\\Users\\redda\\AppData\\Roaming\\Python\\Python311\\site-packages\\openpyxl\\worksheet\\_reader.py:329: UserWarning: Data Validation extension is not supported and will be removed\n",
      "  warn(msg)\n",
      "C:\\Users\\redda\\AppData\\Roaming\\Python\\Python311\\site-packages\\openpyxl\\worksheet\\_reader.py:329: UserWarning: Data Validation extension is not supported and will be removed\n",
      "  warn(msg)\n"
     ]
    },
    {
     "name": "stdout",
     "output_type": "stream",
     "text": [
      "发票模板\\发票模板-河南抬头喜办公用品有限公司S-SO-2024-02-0739.xlsx\n",
      "发票模板\\发票模板-西安华坤集采供应链管理有限公司-SO-2024-02-0740.xlsx\n"
     ]
    },
    {
     "name": "stderr",
     "output_type": "stream",
     "text": [
      "C:\\Users\\redda\\AppData\\Roaming\\Python\\Python311\\site-packages\\openpyxl\\worksheet\\_reader.py:329: UserWarning: Data Validation extension is not supported and will be removed\n",
      "  warn(msg)\n",
      "C:\\Users\\redda\\AppData\\Roaming\\Python\\Python311\\site-packages\\openpyxl\\worksheet\\_reader.py:329: UserWarning: Data Validation extension is not supported and will be removed\n",
      "  warn(msg)\n"
     ]
    },
    {
     "name": "stdout",
     "output_type": "stream",
     "text": [
      "发票模板\\发票模板-广东盛泰档案用品有限公司-SO-2024-02-0741.xlsx\n",
      "发票模板\\发票模板-宁夏昕墨文化用品有限公司-SO-2024-02-0742.xlsx\n"
     ]
    },
    {
     "name": "stderr",
     "output_type": "stream",
     "text": [
      "C:\\Users\\redda\\AppData\\Roaming\\Python\\Python311\\site-packages\\openpyxl\\worksheet\\_reader.py:329: UserWarning: Data Validation extension is not supported and will be removed\n",
      "  warn(msg)\n",
      "C:\\Users\\redda\\AppData\\Roaming\\Python\\Python311\\site-packages\\openpyxl\\worksheet\\_reader.py:329: UserWarning: Data Validation extension is not supported and will be removed\n",
      "  warn(msg)\n"
     ]
    },
    {
     "name": "stdout",
     "output_type": "stream",
     "text": [
      "发票模板\\发票模板-山西融和通商贸有限公司-SO-2024-02-0743.xlsx\n"
     ]
    },
    {
     "name": "stderr",
     "output_type": "stream",
     "text": [
      "C:\\Users\\redda\\AppData\\Roaming\\Python\\Python311\\site-packages\\openpyxl\\worksheet\\_reader.py:329: UserWarning: Data Validation extension is not supported and will be removed\n",
      "  warn(msg)\n",
      "C:\\Users\\redda\\AppData\\Roaming\\Python\\Python311\\site-packages\\openpyxl\\worksheet\\_reader.py:329: UserWarning: Data Validation extension is not supported and will be removed\n",
      "  warn(msg)\n"
     ]
    },
    {
     "name": "stdout",
     "output_type": "stream",
     "text": [
      "发票模板\\发票模板-天津市友旺商贸有限公司-SO-2024-02-0744.xlsx\n",
      "发票模板\\发票模板-昆明舍礼麦商贸有限公司S-SO-2024-02-0745.xlsx\n"
     ]
    },
    {
     "name": "stderr",
     "output_type": "stream",
     "text": [
      "C:\\Users\\redda\\AppData\\Roaming\\Python\\Python311\\site-packages\\openpyxl\\worksheet\\_reader.py:329: UserWarning: Data Validation extension is not supported and will be removed\n",
      "  warn(msg)\n",
      "C:\\Users\\redda\\AppData\\Roaming\\Python\\Python311\\site-packages\\openpyxl\\worksheet\\_reader.py:329: UserWarning: Data Validation extension is not supported and will be removed\n",
      "  warn(msg)\n"
     ]
    },
    {
     "name": "stdout",
     "output_type": "stream",
     "text": [
      "发票模板\\发票模板-重庆文优文化用品有限公司-SO-2024-02-0746.xlsx\n",
      "发票模板\\发票模板-长沙市东麦文化有限公司-SO-2024-02-0747.xlsx\n"
     ]
    },
    {
     "name": "stderr",
     "output_type": "stream",
     "text": [
      "C:\\Users\\redda\\AppData\\Roaming\\Python\\Python311\\site-packages\\openpyxl\\worksheet\\_reader.py:329: UserWarning: Data Validation extension is not supported and will be removed\n",
      "  warn(msg)\n",
      "C:\\Users\\redda\\AppData\\Roaming\\Python\\Python311\\site-packages\\openpyxl\\worksheet\\_reader.py:329: UserWarning: Data Validation extension is not supported and will be removed\n",
      "  warn(msg)\n"
     ]
    },
    {
     "name": "stdout",
     "output_type": "stream",
     "text": [
      "发票模板\\发票模板-南宁市小木屋文化用品有限公司-SO-2024-02-0748.xlsx\n",
      "发票模板\\发票模板-长沙市雨花区文丰文具商行-SO-2024-02-0749.xlsx\n"
     ]
    },
    {
     "name": "stderr",
     "output_type": "stream",
     "text": [
      "C:\\Users\\redda\\AppData\\Roaming\\Python\\Python311\\site-packages\\openpyxl\\worksheet\\_reader.py:329: UserWarning: Data Validation extension is not supported and will be removed\n",
      "  warn(msg)\n",
      "C:\\Users\\redda\\AppData\\Roaming\\Python\\Python311\\site-packages\\openpyxl\\worksheet\\_reader.py:329: UserWarning: Data Validation extension is not supported and will be removed\n",
      "  warn(msg)\n"
     ]
    },
    {
     "name": "stdout",
     "output_type": "stream",
     "text": [
      "发票模板\\发票模板-临沂巧纳金纸品有限公司-SO-2024-02-0750.xlsx\n",
      "发票模板\\发票模板-武汉米圣贸易有限公司-SO-2024-02-0751.xlsx\n"
     ]
    },
    {
     "name": "stderr",
     "output_type": "stream",
     "text": [
      "C:\\Users\\redda\\AppData\\Roaming\\Python\\Python311\\site-packages\\openpyxl\\worksheet\\_reader.py:329: UserWarning: Data Validation extension is not supported and will be removed\n",
      "  warn(msg)\n"
     ]
    },
    {
     "name": "stdout",
     "output_type": "stream",
     "text": [
      "发票模板\\发票模板-重庆文优文化用品有限公司-SO-2024-02-0752.xlsx\n",
      "发票模板\\发票模板-河南抬头喜办公用品有限公司S-SO-2024-02-0753.xlsx\n"
     ]
    },
    {
     "name": "stderr",
     "output_type": "stream",
     "text": [
      "C:\\Users\\redda\\AppData\\Roaming\\Python\\Python311\\site-packages\\openpyxl\\worksheet\\_reader.py:329: UserWarning: Data Validation extension is not supported and will be removed\n",
      "  warn(msg)\n",
      "C:\\Users\\redda\\AppData\\Roaming\\Python\\Python311\\site-packages\\openpyxl\\worksheet\\_reader.py:329: UserWarning: Data Validation extension is not supported and will be removed\n",
      "  warn(msg)\n"
     ]
    },
    {
     "name": "stdout",
     "output_type": "stream",
     "text": [
      "发票模板\\发票模板-保定白沟彩顺商贸有限公司-SO-2024-02-0754.xlsx\n",
      "发票模板\\发票模板-桂林竞升文化用品有限公司-SO-2024-02-0755.xlsx\n"
     ]
    },
    {
     "name": "stderr",
     "output_type": "stream",
     "text": [
      "C:\\Users\\redda\\AppData\\Roaming\\Python\\Python311\\site-packages\\openpyxl\\worksheet\\_reader.py:329: UserWarning: Data Validation extension is not supported and will be removed\n",
      "  warn(msg)\n",
      "C:\\Users\\redda\\AppData\\Roaming\\Python\\Python311\\site-packages\\openpyxl\\worksheet\\_reader.py:329: UserWarning: Data Validation extension is not supported and will be removed\n",
      "  warn(msg)\n"
     ]
    },
    {
     "name": "stdout",
     "output_type": "stream",
     "text": [
      "发票模板\\发票模板-武汉米圣贸易有限公司-SO-2024-02-0756.xlsx\n",
      "发票模板\\发票模板-武汉米圣贸易有限公司-SO-2024-02-0757.xlsx\n"
     ]
    },
    {
     "name": "stderr",
     "output_type": "stream",
     "text": [
      "C:\\Users\\redda\\AppData\\Roaming\\Python\\Python311\\site-packages\\openpyxl\\worksheet\\_reader.py:329: UserWarning: Data Validation extension is not supported and will be removed\n",
      "  warn(msg)\n",
      "C:\\Users\\redda\\AppData\\Roaming\\Python\\Python311\\site-packages\\openpyxl\\worksheet\\_reader.py:329: UserWarning: Data Validation extension is not supported and will be removed\n",
      "  warn(msg)\n"
     ]
    },
    {
     "name": "stdout",
     "output_type": "stream",
     "text": [
      "发票模板\\发票模板-武汉今日成纸业有限公司-SO-2024-02-0758.xlsx\n",
      "发票模板\\发票模板-武汉嘉迪亚商贸有限公司-SO-2024-02-0759.xlsx\n"
     ]
    },
    {
     "name": "stderr",
     "output_type": "stream",
     "text": [
      "C:\\Users\\redda\\AppData\\Roaming\\Python\\Python311\\site-packages\\openpyxl\\worksheet\\_reader.py:329: UserWarning: Data Validation extension is not supported and will be removed\n",
      "  warn(msg)\n",
      "C:\\Users\\redda\\AppData\\Roaming\\Python\\Python311\\site-packages\\openpyxl\\worksheet\\_reader.py:329: UserWarning: Data Validation extension is not supported and will be removed\n",
      "  warn(msg)\n"
     ]
    },
    {
     "name": "stdout",
     "output_type": "stream",
     "text": [
      "发票模板\\发票模板-南宁市小木屋文化用品有限公司-SO-2024-02-0760.xlsx\n",
      "发票模板\\发票模板-武汉市齐达利商贸有限公司-SO-2024-02-0761.xlsx\n"
     ]
    },
    {
     "name": "stderr",
     "output_type": "stream",
     "text": [
      "C:\\Users\\redda\\AppData\\Roaming\\Python\\Python311\\site-packages\\openpyxl\\worksheet\\_reader.py:329: UserWarning: Data Validation extension is not supported and will be removed\n",
      "  warn(msg)\n",
      "C:\\Users\\redda\\AppData\\Roaming\\Python\\Python311\\site-packages\\openpyxl\\worksheet\\_reader.py:329: UserWarning: Data Validation extension is not supported and will be removed\n",
      "  warn(msg)\n"
     ]
    },
    {
     "name": "stdout",
     "output_type": "stream",
     "text": [
      "发票模板\\发票模板-武汉金宸翰办公用品有限公司1-SO-2024-02-0762.xlsx\n",
      "发票模板\\发票模板-武汉开先文化用品有限责任公司-SO-2024-02-0763.xlsx\n"
     ]
    },
    {
     "name": "stderr",
     "output_type": "stream",
     "text": [
      "C:\\Users\\redda\\AppData\\Roaming\\Python\\Python311\\site-packages\\openpyxl\\worksheet\\_reader.py:329: UserWarning: Data Validation extension is not supported and will be removed\n",
      "  warn(msg)\n",
      "C:\\Users\\redda\\AppData\\Roaming\\Python\\Python311\\site-packages\\openpyxl\\worksheet\\_reader.py:329: UserWarning: Data Validation extension is not supported and will be removed\n",
      "  warn(msg)\n"
     ]
    },
    {
     "name": "stdout",
     "output_type": "stream",
     "text": [
      "发票模板\\发票模板-武汉金胜辉商贸有限公司-SO-2024-02-0764.xlsx\n"
     ]
    },
    {
     "name": "stderr",
     "output_type": "stream",
     "text": [
      "C:\\Users\\redda\\AppData\\Roaming\\Python\\Python311\\site-packages\\openpyxl\\worksheet\\_reader.py:329: UserWarning: Data Validation extension is not supported and will be removed\n",
      "  warn(msg)\n",
      "C:\\Users\\redda\\AppData\\Roaming\\Python\\Python311\\site-packages\\openpyxl\\worksheet\\_reader.py:329: UserWarning: Data Validation extension is not supported and will be removed\n",
      "  warn(msg)\n"
     ]
    },
    {
     "name": "stdout",
     "output_type": "stream",
     "text": [
      "发票模板\\发票模板-武汉金胜辉商贸有限公司-SO-2024-02-0765.xlsx\n",
      "发票模板\\发票模板-武汉市齐达利商贸有限公司-SO-2024-02-0766.xlsx\n"
     ]
    },
    {
     "name": "stderr",
     "output_type": "stream",
     "text": [
      "C:\\Users\\redda\\AppData\\Roaming\\Python\\Python311\\site-packages\\openpyxl\\worksheet\\_reader.py:329: UserWarning: Data Validation extension is not supported and will be removed\n",
      "  warn(msg)\n",
      "C:\\Users\\redda\\AppData\\Roaming\\Python\\Python311\\site-packages\\openpyxl\\worksheet\\_reader.py:329: UserWarning: Data Validation extension is not supported and will be removed\n",
      "  warn(msg)\n"
     ]
    },
    {
     "name": "stdout",
     "output_type": "stream",
     "text": [
      "发票模板\\发票模板-河南抬头喜办公用品有限公司S-SO-2024-02-0767.xlsx\n",
      "发票模板\\发票模板-义乌范光洪-SO-2024-02-0768.xlsx\n"
     ]
    },
    {
     "name": "stderr",
     "output_type": "stream",
     "text": [
      "C:\\Users\\redda\\AppData\\Roaming\\Python\\Python311\\site-packages\\openpyxl\\worksheet\\_reader.py:329: UserWarning: Data Validation extension is not supported and will be removed\n",
      "  warn(msg)\n",
      "C:\\Users\\redda\\AppData\\Roaming\\Python\\Python311\\site-packages\\openpyxl\\worksheet\\_reader.py:329: UserWarning: Data Validation extension is not supported and will be removed\n",
      "  warn(msg)\n"
     ]
    },
    {
     "name": "stdout",
     "output_type": "stream",
     "text": [
      "发票模板\\发票模板-武汉今日成纸业有限公司-SO-2024-02-0769.xlsx\n",
      "发票模板\\发票模板-武汉开先文化用品有限责任公司-SO-2024-02-0770.xlsx\n"
     ]
    },
    {
     "name": "stderr",
     "output_type": "stream",
     "text": [
      "C:\\Users\\redda\\AppData\\Roaming\\Python\\Python311\\site-packages\\openpyxl\\worksheet\\_reader.py:329: UserWarning: Data Validation extension is not supported and will be removed\n",
      "  warn(msg)\n",
      "C:\\Users\\redda\\AppData\\Roaming\\Python\\Python311\\site-packages\\openpyxl\\worksheet\\_reader.py:329: UserWarning: Data Validation extension is not supported and will be removed\n",
      "  warn(msg)\n"
     ]
    },
    {
     "name": "stdout",
     "output_type": "stream",
     "text": [
      "发票模板\\发票模板-武汉金胜辉商贸有限公司-SO-2024-02-0771.xlsx\n",
      "发票模板\\发票模板-武汉金胜辉商贸有限公司-SO-2024-02-0772.xlsx\n"
     ]
    },
    {
     "name": "stderr",
     "output_type": "stream",
     "text": [
      "C:\\Users\\redda\\AppData\\Roaming\\Python\\Python311\\site-packages\\openpyxl\\worksheet\\_reader.py:329: UserWarning: Data Validation extension is not supported and will be removed\n",
      "  warn(msg)\n"
     ]
    },
    {
     "name": "stdout",
     "output_type": "stream",
     "text": [
      "发票模板\\发票模板-武汉金胜辉商贸有限公司-SO-2024-02-0773.xlsx\n",
      "发票模板\\发票模板-武汉金宸翰办公用品有限公司1-SO-2024-02-0774.xlsx\n"
     ]
    },
    {
     "name": "stderr",
     "output_type": "stream",
     "text": [
      "C:\\Users\\redda\\AppData\\Roaming\\Python\\Python311\\site-packages\\openpyxl\\worksheet\\_reader.py:329: UserWarning: Data Validation extension is not supported and will be removed\n",
      "  warn(msg)\n",
      "C:\\Users\\redda\\AppData\\Roaming\\Python\\Python311\\site-packages\\openpyxl\\worksheet\\_reader.py:329: UserWarning: Data Validation extension is not supported and will be removed\n",
      "  warn(msg)\n"
     ]
    },
    {
     "name": "stdout",
     "output_type": "stream",
     "text": [
      "发票模板\\发票模板-武汉市齐达利商贸有限公司-SO-2024-02-0775.xlsx\n",
      "发票模板\\发票模板-武汉金胜辉商贸有限公司-SO-2024-02-0776.xlsx\n"
     ]
    },
    {
     "name": "stderr",
     "output_type": "stream",
     "text": [
      "C:\\Users\\redda\\AppData\\Roaming\\Python\\Python311\\site-packages\\openpyxl\\worksheet\\_reader.py:329: UserWarning: Data Validation extension is not supported and will be removed\n",
      "  warn(msg)\n",
      "C:\\Users\\redda\\AppData\\Roaming\\Python\\Python311\\site-packages\\openpyxl\\worksheet\\_reader.py:329: UserWarning: Data Validation extension is not supported and will be removed\n",
      "  warn(msg)\n"
     ]
    },
    {
     "name": "stdout",
     "output_type": "stream",
     "text": [
      "发票模板\\发票模板-武汉米圣贸易有限公司-SO-2024-02-0777.xlsx\n"
     ]
    },
    {
     "name": "stderr",
     "output_type": "stream",
     "text": [
      "C:\\Users\\redda\\AppData\\Roaming\\Python\\Python311\\site-packages\\openpyxl\\worksheet\\_reader.py:329: UserWarning: Data Validation extension is not supported and will be removed\n",
      "  warn(msg)\n",
      "C:\\Users\\redda\\AppData\\Roaming\\Python\\Python311\\site-packages\\openpyxl\\worksheet\\_reader.py:329: UserWarning: Data Validation extension is not supported and will be removed\n",
      "  warn(msg)\n"
     ]
    },
    {
     "name": "stdout",
     "output_type": "stream",
     "text": [
      "发票模板\\发票模板-武汉市热脉文体用品有限公司-SO-2024-02-0778.xlsx\n",
      "发票模板\\发票模板-武汉金宸翰办公用品有限公司-SO-2024-02-0779.xlsx\n"
     ]
    },
    {
     "name": "stderr",
     "output_type": "stream",
     "text": [
      "C:\\Users\\redda\\AppData\\Roaming\\Python\\Python311\\site-packages\\openpyxl\\worksheet\\_reader.py:329: UserWarning: Data Validation extension is not supported and will be removed\n",
      "  warn(msg)\n",
      "C:\\Users\\redda\\AppData\\Roaming\\Python\\Python311\\site-packages\\openpyxl\\worksheet\\_reader.py:329: UserWarning: Data Validation extension is not supported and will be removed\n",
      "  warn(msg)\n"
     ]
    },
    {
     "name": "stdout",
     "output_type": "stream",
     "text": [
      "发票模板\\发票模板-湖北昇耀商贸有限公司-SO-2024-02-0780.xlsx\n",
      "发票模板\\发票模板-湖北昇耀商贸有限公司-SO-2024-02-0781.xlsx\n"
     ]
    },
    {
     "name": "stderr",
     "output_type": "stream",
     "text": [
      "C:\\Users\\redda\\AppData\\Roaming\\Python\\Python311\\site-packages\\openpyxl\\worksheet\\_reader.py:329: UserWarning: Data Validation extension is not supported and will be removed\n",
      "  warn(msg)\n"
     ]
    },
    {
     "name": "stdout",
     "output_type": "stream",
     "text": [
      "发票模板\\发票模板-武汉今日成纸业有限公司-SO-2024-02-0782.xlsx\n",
      "发票模板\\发票模板-义乌范光洪-SO-2024-02-0783.xlsx\n"
     ]
    },
    {
     "name": "stderr",
     "output_type": "stream",
     "text": [
      "C:\\Users\\redda\\AppData\\Roaming\\Python\\Python311\\site-packages\\openpyxl\\worksheet\\_reader.py:329: UserWarning: Data Validation extension is not supported and will be removed\n",
      "  warn(msg)\n",
      "C:\\Users\\redda\\AppData\\Roaming\\Python\\Python311\\site-packages\\openpyxl\\worksheet\\_reader.py:329: UserWarning: Data Validation extension is not supported and will be removed\n",
      "  warn(msg)\n"
     ]
    },
    {
     "name": "stdout",
     "output_type": "stream",
     "text": [
      "发票模板\\发票模板-武汉开先文化用品有限责任公司-SO-2024-02-0784.xlsx\n",
      "发票模板\\发票模板-武汉今日成纸业有限公司-SO-2024-02-0785.xlsx\n"
     ]
    },
    {
     "name": "stderr",
     "output_type": "stream",
     "text": [
      "C:\\Users\\redda\\AppData\\Roaming\\Python\\Python311\\site-packages\\openpyxl\\worksheet\\_reader.py:329: UserWarning: Data Validation extension is not supported and will be removed\n",
      "  warn(msg)\n",
      "C:\\Users\\redda\\AppData\\Roaming\\Python\\Python311\\site-packages\\openpyxl\\worksheet\\_reader.py:329: UserWarning: Data Validation extension is not supported and will be removed\n",
      "  warn(msg)\n"
     ]
    },
    {
     "name": "stdout",
     "output_type": "stream",
     "text": [
      "发票模板\\发票模板-成都杨万平-SO-2024-02-0786.xlsx\n"
     ]
    },
    {
     "name": "stderr",
     "output_type": "stream",
     "text": [
      "C:\\Users\\redda\\AppData\\Roaming\\Python\\Python311\\site-packages\\openpyxl\\worksheet\\_reader.py:329: UserWarning: Data Validation extension is not supported and will be removed\n",
      "  warn(msg)\n",
      "C:\\Users\\redda\\AppData\\Roaming\\Python\\Python311\\site-packages\\openpyxl\\worksheet\\_reader.py:329: UserWarning: Data Validation extension is not supported and will be removed\n",
      "  warn(msg)\n"
     ]
    },
    {
     "name": "stdout",
     "output_type": "stream",
     "text": [
      "发票模板\\发票模板-泸州佳之彩商贸有限公司-SO-2024-02-0787.xlsx\n",
      "发票模板\\发票模板-成都集创萧商贸有限公司L-SO-2024-02-0788.xlsx\n"
     ]
    },
    {
     "name": "stderr",
     "output_type": "stream",
     "text": [
      "C:\\Users\\redda\\AppData\\Roaming\\Python\\Python311\\site-packages\\openpyxl\\worksheet\\_reader.py:329: UserWarning: Data Validation extension is not supported and will be removed\n",
      "  warn(msg)\n",
      "C:\\Users\\redda\\AppData\\Roaming\\Python\\Python311\\site-packages\\openpyxl\\worksheet\\_reader.py:329: UserWarning: Data Validation extension is not supported and will be removed\n",
      "  warn(msg)\n"
     ]
    },
    {
     "name": "stdout",
     "output_type": "stream",
     "text": [
      "发票模板\\发票模板-广西桂林利华电子科技有限公司-SO-2024-02-0789.xlsx\n",
      "发票模板\\发票模板-桂林竞升文化用品有限公司-SO-2024-02-0790.xlsx\n"
     ]
    },
    {
     "name": "stderr",
     "output_type": "stream",
     "text": [
      "C:\\Users\\redda\\AppData\\Roaming\\Python\\Python311\\site-packages\\openpyxl\\worksheet\\_reader.py:329: UserWarning: Data Validation extension is not supported and will be removed\n",
      "  warn(msg)\n",
      "C:\\Users\\redda\\AppData\\Roaming\\Python\\Python311\\site-packages\\openpyxl\\worksheet\\_reader.py:329: UserWarning: Data Validation extension is not supported and will be removed\n",
      "  warn(msg)\n"
     ]
    },
    {
     "name": "stdout",
     "output_type": "stream",
     "text": [
      "发票模板\\发票模板-梧州余加杰-SO-2024-02-0791.xlsx\n",
      "发票模板\\发票模板-柳州市笔创贸易有限公司-SO-2024-02-0792.xlsx\n"
     ]
    },
    {
     "name": "stderr",
     "output_type": "stream",
     "text": [
      "C:\\Users\\redda\\AppData\\Roaming\\Python\\Python311\\site-packages\\openpyxl\\worksheet\\_reader.py:329: UserWarning: Data Validation extension is not supported and will be removed\n",
      "  warn(msg)\n",
      "C:\\Users\\redda\\AppData\\Roaming\\Python\\Python311\\site-packages\\openpyxl\\worksheet\\_reader.py:329: UserWarning: Data Validation extension is not supported and will be removed\n",
      "  warn(msg)\n"
     ]
    },
    {
     "name": "stdout",
     "output_type": "stream",
     "text": [
      "发票模板\\发票模板-南宁市小木屋文化用品有限公司-SO-2024-02-0793.xlsx\n",
      "发票模板\\发票模板-兴义市鸿图锐意办公商贸有限公司-SO-2024-02-0794.xlsx\n"
     ]
    },
    {
     "name": "stderr",
     "output_type": "stream",
     "text": [
      "C:\\Users\\redda\\AppData\\Roaming\\Python\\Python311\\site-packages\\openpyxl\\worksheet\\_reader.py:329: UserWarning: Data Validation extension is not supported and will be removed\n",
      "  warn(msg)\n",
      "C:\\Users\\redda\\AppData\\Roaming\\Python\\Python311\\site-packages\\openpyxl\\worksheet\\_reader.py:329: UserWarning: Data Validation extension is not supported and will be removed\n",
      "  warn(msg)\n"
     ]
    },
    {
     "name": "stdout",
     "output_type": "stream",
     "text": [
      "发票模板\\发票模板-常州亚龙办公用品有限公司-SO-2024-02-0795.xlsx\n",
      "发票模板\\发票模板-江西立信办公商贸有限公司-SO-2024-02-0796.xlsx\n"
     ]
    },
    {
     "name": "stderr",
     "output_type": "stream",
     "text": [
      "C:\\Users\\redda\\AppData\\Roaming\\Python\\Python311\\site-packages\\openpyxl\\worksheet\\_reader.py:329: UserWarning: Data Validation extension is not supported and will be removed\n",
      "  warn(msg)\n",
      "C:\\Users\\redda\\AppData\\Roaming\\Python\\Python311\\site-packages\\openpyxl\\worksheet\\_reader.py:329: UserWarning: Data Validation extension is not supported and will be removed\n",
      "  warn(msg)\n"
     ]
    },
    {
     "name": "stdout",
     "output_type": "stream",
     "text": [
      "发票模板\\发票模板-河南梓亦桐商贸有限公司-SO-2024-02-0797.xlsx\n",
      "发票模板\\发票模板-长沙市东麦文化有限公司-SO-2024-02-0798.xlsx\n"
     ]
    },
    {
     "name": "stderr",
     "output_type": "stream",
     "text": [
      "C:\\Users\\redda\\AppData\\Roaming\\Python\\Python311\\site-packages\\openpyxl\\worksheet\\_reader.py:329: UserWarning: Data Validation extension is not supported and will be removed\n",
      "  warn(msg)\n",
      "C:\\Users\\redda\\AppData\\Roaming\\Python\\Python311\\site-packages\\openpyxl\\worksheet\\_reader.py:329: UserWarning: Data Validation extension is not supported and will be removed\n",
      "  warn(msg)\n"
     ]
    },
    {
     "name": "stdout",
     "output_type": "stream",
     "text": [
      "发票模板\\发票模板-长沙市雨花区文丰文具商行-SO-2024-02-0799.xlsx\n",
      "发票模板\\发票模板-西安垄裕商贸有限公司-SO-2024-02-0800.xlsx\n"
     ]
    },
    {
     "name": "stderr",
     "output_type": "stream",
     "text": [
      "C:\\Users\\redda\\AppData\\Roaming\\Python\\Python311\\site-packages\\openpyxl\\worksheet\\_reader.py:329: UserWarning: Data Validation extension is not supported and will be removed\n",
      "  warn(msg)\n",
      "C:\\Users\\redda\\AppData\\Roaming\\Python\\Python311\\site-packages\\openpyxl\\worksheet\\_reader.py:329: UserWarning: Data Validation extension is not supported and will be removed\n",
      "  warn(msg)\n"
     ]
    },
    {
     "name": "stdout",
     "output_type": "stream",
     "text": [
      "发票模板\\发票模板-西安西坑商贸有限公司-SO-2024-02-0801.xlsx\n",
      "发票模板\\发票模板-品壹佰河北商贸有限公司-SO-2024-02-0802.xlsx\n"
     ]
    },
    {
     "name": "stderr",
     "output_type": "stream",
     "text": [
      "C:\\Users\\redda\\AppData\\Roaming\\Python\\Python311\\site-packages\\openpyxl\\worksheet\\_reader.py:329: UserWarning: Data Validation extension is not supported and will be removed\n",
      "  warn(msg)\n"
     ]
    },
    {
     "name": "stdout",
     "output_type": "stream",
     "text": [
      "发票模板\\发票模板-武汉市众缘商贸有限责任公司-SO-2024-02-0803.xlsx\n"
     ]
    },
    {
     "name": "stderr",
     "output_type": "stream",
     "text": [
      "C:\\Users\\redda\\AppData\\Roaming\\Python\\Python311\\site-packages\\openpyxl\\worksheet\\_reader.py:329: UserWarning: Data Validation extension is not supported and will be removed\n",
      "  warn(msg)\n",
      "C:\\Users\\redda\\AppData\\Roaming\\Python\\Python311\\site-packages\\openpyxl\\worksheet\\_reader.py:329: UserWarning: Data Validation extension is not supported and will be removed\n",
      "  warn(msg)\n"
     ]
    },
    {
     "name": "stdout",
     "output_type": "stream",
     "text": [
      "发票模板\\发票模板-武汉金宸翰办公用品有限公司1-SO-2024-02-0804.xlsx\n",
      "发票模板\\发票模板-武汉米圣贸易有限公司-SO-2024-02-0805.xlsx\n"
     ]
    },
    {
     "name": "stderr",
     "output_type": "stream",
     "text": [
      "C:\\Users\\redda\\AppData\\Roaming\\Python\\Python311\\site-packages\\openpyxl\\worksheet\\_reader.py:329: UserWarning: Data Validation extension is not supported and will be removed\n",
      "  warn(msg)\n",
      "C:\\Users\\redda\\AppData\\Roaming\\Python\\Python311\\site-packages\\openpyxl\\worksheet\\_reader.py:329: UserWarning: Data Validation extension is not supported and will be removed\n",
      "  warn(msg)\n"
     ]
    },
    {
     "name": "stdout",
     "output_type": "stream",
     "text": [
      "发票模板\\发票模板-武汉金胜辉商贸有限公司-SO-2024-02-0806.xlsx\n",
      "发票模板\\发票模板-武汉金胜辉商贸有限公司-SO-2024-02-0807.xlsx\n"
     ]
    },
    {
     "name": "stderr",
     "output_type": "stream",
     "text": [
      "C:\\Users\\redda\\AppData\\Roaming\\Python\\Python311\\site-packages\\openpyxl\\worksheet\\_reader.py:329: UserWarning: Data Validation extension is not supported and will be removed\n",
      "  warn(msg)\n",
      "C:\\Users\\redda\\AppData\\Roaming\\Python\\Python311\\site-packages\\openpyxl\\worksheet\\_reader.py:329: UserWarning: Data Validation extension is not supported and will be removed\n",
      "  warn(msg)\n"
     ]
    },
    {
     "name": "stdout",
     "output_type": "stream",
     "text": [
      "发票模板\\发票模板-武汉开先文化用品有限责任公司-SO-2024-02-0808.xlsx\n",
      "发票模板\\发票模板-武汉市齐达利商贸有限公司-SO-2024-02-0809.xlsx\n"
     ]
    },
    {
     "name": "stderr",
     "output_type": "stream",
     "text": [
      "C:\\Users\\redda\\AppData\\Roaming\\Python\\Python311\\site-packages\\openpyxl\\worksheet\\_reader.py:329: UserWarning: Data Validation extension is not supported and will be removed\n",
      "  warn(msg)\n",
      "C:\\Users\\redda\\AppData\\Roaming\\Python\\Python311\\site-packages\\openpyxl\\worksheet\\_reader.py:329: UserWarning: Data Validation extension is not supported and will be removed\n",
      "  warn(msg)\n"
     ]
    },
    {
     "name": "stdout",
     "output_type": "stream",
     "text": [
      "发票模板\\发票模板-武汉今日成纸业有限公司-SO-2024-02-0810.xlsx\n",
      "发票模板\\发票模板-武汉市热脉文体用品有限公司-SO-2024-02-0811.xlsx\n"
     ]
    },
    {
     "name": "stderr",
     "output_type": "stream",
     "text": [
      "C:\\Users\\redda\\AppData\\Roaming\\Python\\Python311\\site-packages\\openpyxl\\worksheet\\_reader.py:329: UserWarning: Data Validation extension is not supported and will be removed\n",
      "  warn(msg)\n",
      "C:\\Users\\redda\\AppData\\Roaming\\Python\\Python311\\site-packages\\openpyxl\\worksheet\\_reader.py:329: UserWarning: Data Validation extension is not supported and will be removed\n",
      "  warn(msg)\n"
     ]
    },
    {
     "name": "stdout",
     "output_type": "stream",
     "text": [
      "发票模板\\发票模板-武汉米圣贸易有限公司-SO-2024-02-0812.xlsx\n",
      "发票模板\\发票模板-唐山市玉宝商贸有限公司-SO-2024-02-0813.xlsx\n"
     ]
    },
    {
     "name": "stderr",
     "output_type": "stream",
     "text": [
      "C:\\Users\\redda\\AppData\\Roaming\\Python\\Python311\\site-packages\\openpyxl\\worksheet\\_reader.py:329: UserWarning: Data Validation extension is not supported and will be removed\n",
      "  warn(msg)\n",
      "C:\\Users\\redda\\AppData\\Roaming\\Python\\Python311\\site-packages\\openpyxl\\worksheet\\_reader.py:329: UserWarning: Data Validation extension is not supported and will be removed\n",
      "  warn(msg)\n"
     ]
    },
    {
     "name": "stdout",
     "output_type": "stream",
     "text": [
      "发票模板\\发票模板-武汉米圣贸易有限公司-SO-2024-02-0814.xlsx\n",
      "发票模板\\发票模板-武汉开先文化用品有限责任公司-SO-2024-02-0815.xlsx\n"
     ]
    },
    {
     "name": "stderr",
     "output_type": "stream",
     "text": [
      "C:\\Users\\redda\\AppData\\Roaming\\Python\\Python311\\site-packages\\openpyxl\\worksheet\\_reader.py:329: UserWarning: Data Validation extension is not supported and will be removed\n",
      "  warn(msg)\n",
      "C:\\Users\\redda\\AppData\\Roaming\\Python\\Python311\\site-packages\\openpyxl\\worksheet\\_reader.py:329: UserWarning: Data Validation extension is not supported and will be removed\n",
      "  warn(msg)\n"
     ]
    },
    {
     "name": "stdout",
     "output_type": "stream",
     "text": [
      "发票模板\\发票模板-湖北昇耀商贸有限公司-SO-2024-02-0816.xlsx\n",
      "发票模板\\发票模板-唐山市文一商贸有限公司-SO-2024-02-0817.xlsx\n"
     ]
    },
    {
     "name": "stderr",
     "output_type": "stream",
     "text": [
      "C:\\Users\\redda\\AppData\\Roaming\\Python\\Python311\\site-packages\\openpyxl\\worksheet\\_reader.py:329: UserWarning: Data Validation extension is not supported and will be removed\n",
      "  warn(msg)\n",
      "C:\\Users\\redda\\AppData\\Roaming\\Python\\Python311\\site-packages\\openpyxl\\worksheet\\_reader.py:329: UserWarning: Data Validation extension is not supported and will be removed\n",
      "  warn(msg)\n"
     ]
    },
    {
     "name": "stdout",
     "output_type": "stream",
     "text": [
      "发票模板\\发票模板-河南抬头喜办公用品有限公司S-SO-2024-02-0818.xlsx\n",
      "发票模板\\发票模板-义乌市携诚文体用品有限公司-SO-2024-02-0819.xlsx\n"
     ]
    },
    {
     "name": "stderr",
     "output_type": "stream",
     "text": [
      "C:\\Users\\redda\\AppData\\Roaming\\Python\\Python311\\site-packages\\openpyxl\\worksheet\\_reader.py:329: UserWarning: Data Validation extension is not supported and will be removed\n",
      "  warn(msg)\n"
     ]
    },
    {
     "name": "stdout",
     "output_type": "stream",
     "text": [
      "发票模板\\发票模板-河南抬头喜办公用品有限公司S-SO-2024-02-0820.xlsx\n"
     ]
    },
    {
     "name": "stderr",
     "output_type": "stream",
     "text": [
      "C:\\Users\\redda\\AppData\\Roaming\\Python\\Python311\\site-packages\\openpyxl\\worksheet\\_reader.py:329: UserWarning: Data Validation extension is not supported and will be removed\n",
      "  warn(msg)\n",
      "C:\\Users\\redda\\AppData\\Roaming\\Python\\Python311\\site-packages\\openpyxl\\worksheet\\_reader.py:329: UserWarning: Data Validation extension is not supported and will be removed\n",
      "  warn(msg)\n"
     ]
    },
    {
     "name": "stdout",
     "output_type": "stream",
     "text": [
      "发票模板\\发票模板-武汉米圣贸易有限公司-SO-2024-02-0821.xlsx\n",
      "发票模板\\发票模板-武汉市热脉文体用品有限公司-SO-2024-02-0822.xlsx\n"
     ]
    },
    {
     "name": "stderr",
     "output_type": "stream",
     "text": [
      "C:\\Users\\redda\\AppData\\Roaming\\Python\\Python311\\site-packages\\openpyxl\\worksheet\\_reader.py:329: UserWarning: Data Validation extension is not supported and will be removed\n",
      "  warn(msg)\n",
      "C:\\Users\\redda\\AppData\\Roaming\\Python\\Python311\\site-packages\\openpyxl\\worksheet\\_reader.py:329: UserWarning: Data Validation extension is not supported and will be removed\n",
      "  warn(msg)\n"
     ]
    },
    {
     "name": "stdout",
     "output_type": "stream",
     "text": [
      "发票模板\\发票模板-武汉金宸翰办公用品有限公司1-SO-2024-02-0823.xlsx\n",
      "发票模板\\发票模板-武汉金胜辉商贸有限公司-SO-2024-02-0824.xlsx\n"
     ]
    },
    {
     "name": "stderr",
     "output_type": "stream",
     "text": [
      "C:\\Users\\redda\\AppData\\Roaming\\Python\\Python311\\site-packages\\openpyxl\\worksheet\\_reader.py:329: UserWarning: Data Validation extension is not supported and will be removed\n",
      "  warn(msg)\n",
      "C:\\Users\\redda\\AppData\\Roaming\\Python\\Python311\\site-packages\\openpyxl\\worksheet\\_reader.py:329: UserWarning: Data Validation extension is not supported and will be removed\n",
      "  warn(msg)\n"
     ]
    },
    {
     "name": "stdout",
     "output_type": "stream",
     "text": [
      "发票模板\\发票模板-武汉今日成纸业有限公司-SO-2024-02-0825.xlsx\n",
      "发票模板\\发票模板-武汉市热脉文体用品有限公司-SO-2024-02-0826.xlsx\n"
     ]
    },
    {
     "name": "stderr",
     "output_type": "stream",
     "text": [
      "C:\\Users\\redda\\AppData\\Roaming\\Python\\Python311\\site-packages\\openpyxl\\worksheet\\_reader.py:329: UserWarning: Data Validation extension is not supported and will be removed\n",
      "  warn(msg)\n",
      "C:\\Users\\redda\\AppData\\Roaming\\Python\\Python311\\site-packages\\openpyxl\\worksheet\\_reader.py:329: UserWarning: Data Validation extension is not supported and will be removed\n",
      "  warn(msg)\n"
     ]
    },
    {
     "name": "stdout",
     "output_type": "stream",
     "text": [
      "发票模板\\发票模板-武汉嘉迪亚商贸有限公司-SO-2024-02-0827.xlsx\n",
      "发票模板\\发票模板-武汉金胜辉商贸有限公司-SO-2024-02-0828.xlsx\n"
     ]
    },
    {
     "name": "stderr",
     "output_type": "stream",
     "text": [
      "C:\\Users\\redda\\AppData\\Roaming\\Python\\Python311\\site-packages\\openpyxl\\worksheet\\_reader.py:329: UserWarning: Data Validation extension is not supported and will be removed\n",
      "  warn(msg)\n",
      "C:\\Users\\redda\\AppData\\Roaming\\Python\\Python311\\site-packages\\openpyxl\\worksheet\\_reader.py:329: UserWarning: Data Validation extension is not supported and will be removed\n",
      "  warn(msg)\n"
     ]
    },
    {
     "name": "stdout",
     "output_type": "stream",
     "text": [
      "发票模板\\发票模板-天津市友旺商贸有限公司-SO-2024-02-0829.xlsx\n",
      "发票模板\\发票模板-成都迪欣杨商贸有限公司-SO-2024-02-0830.xlsx\n"
     ]
    },
    {
     "name": "stderr",
     "output_type": "stream",
     "text": [
      "C:\\Users\\redda\\AppData\\Roaming\\Python\\Python311\\site-packages\\openpyxl\\worksheet\\_reader.py:329: UserWarning: Data Validation extension is not supported and will be removed\n",
      "  warn(msg)\n",
      "C:\\Users\\redda\\AppData\\Roaming\\Python\\Python311\\site-packages\\openpyxl\\worksheet\\_reader.py:329: UserWarning: Data Validation extension is not supported and will be removed\n",
      "  warn(msg)\n"
     ]
    },
    {
     "name": "stdout",
     "output_type": "stream",
     "text": [
      "发票模板\\发票模板-泸州佳之彩商贸有限公司-SO-2024-02-0831.xlsx\n",
      "发票模板\\发票模板-江西立信办公商贸有限公司-SO-2024-02-0832.xlsx\n"
     ]
    },
    {
     "name": "stderr",
     "output_type": "stream",
     "text": [
      "C:\\Users\\redda\\AppData\\Roaming\\Python\\Python311\\site-packages\\openpyxl\\worksheet\\_reader.py:329: UserWarning: Data Validation extension is not supported and will be removed\n",
      "  warn(msg)\n"
     ]
    },
    {
     "name": "stdout",
     "output_type": "stream",
     "text": [
      "发票模板\\发票模板-龙岩连卫中-SO-2024-02-0833.xlsx\n"
     ]
    },
    {
     "name": "stderr",
     "output_type": "stream",
     "text": [
      "C:\\Users\\redda\\AppData\\Roaming\\Python\\Python311\\site-packages\\openpyxl\\worksheet\\_reader.py:329: UserWarning: Data Validation extension is not supported and will be removed\n",
      "  warn(msg)\n",
      "C:\\Users\\redda\\AppData\\Roaming\\Python\\Python311\\site-packages\\openpyxl\\worksheet\\_reader.py:329: UserWarning: Data Validation extension is not supported and will be removed\n",
      "  warn(msg)\n"
     ]
    },
    {
     "name": "stdout",
     "output_type": "stream",
     "text": [
      "发票模板\\发票模板-南京好学爱玩信息科技有限公司-SO-2024-02-0834.xlsx\n",
      "发票模板\\发票模板-阜阳俊武文体商贸有限公司-SO-2024-02-0835.xlsx\n"
     ]
    },
    {
     "name": "stderr",
     "output_type": "stream",
     "text": [
      "C:\\Users\\redda\\AppData\\Roaming\\Python\\Python311\\site-packages\\openpyxl\\worksheet\\_reader.py:329: UserWarning: Data Validation extension is not supported and will be removed\n",
      "  warn(msg)\n",
      "C:\\Users\\redda\\AppData\\Roaming\\Python\\Python311\\site-packages\\openpyxl\\worksheet\\_reader.py:329: UserWarning: Data Validation extension is not supported and will be removed\n",
      "  warn(msg)\n"
     ]
    },
    {
     "name": "stdout",
     "output_type": "stream",
     "text": [
      "发票模板\\发票模板-江西华兆昌商贸有限公司-SO-2024-02-0836.xlsx\n",
      "发票模板\\发票模板-南宁市小木屋文化用品有限公司-SO-2024-02-0837.xlsx\n"
     ]
    },
    {
     "name": "stderr",
     "output_type": "stream",
     "text": [
      "C:\\Users\\redda\\AppData\\Roaming\\Python\\Python311\\site-packages\\openpyxl\\worksheet\\_reader.py:329: UserWarning: Data Validation extension is not supported and will be removed\n",
      "  warn(msg)\n",
      "C:\\Users\\redda\\AppData\\Roaming\\Python\\Python311\\site-packages\\openpyxl\\worksheet\\_reader.py:329: UserWarning: Data Validation extension is not supported and will be removed\n",
      "  warn(msg)\n"
     ]
    },
    {
     "name": "stdout",
     "output_type": "stream",
     "text": [
      "发票模板\\发票模板-陕西富明文体用品有限公司-SO-2024-02-0838.xlsx\n",
      "发票模板\\发票模板-宁夏昕墨文化用品有限公司-SO-2024-02-0839.xlsx\n"
     ]
    },
    {
     "name": "stderr",
     "output_type": "stream",
     "text": [
      "C:\\Users\\redda\\AppData\\Roaming\\Python\\Python311\\site-packages\\openpyxl\\worksheet\\_reader.py:329: UserWarning: Data Validation extension is not supported and will be removed\n",
      "  warn(msg)\n",
      "C:\\Users\\redda\\AppData\\Roaming\\Python\\Python311\\site-packages\\openpyxl\\worksheet\\_reader.py:329: UserWarning: Data Validation extension is not supported and will be removed\n",
      "  warn(msg)\n"
     ]
    },
    {
     "name": "stdout",
     "output_type": "stream",
     "text": [
      "发票模板\\发票模板-河南梓亦桐商贸有限公司-SO-2024-02-0840.xlsx\n",
      "发票模板\\发票模板-徐州市永联贸易有限公司-SO-2024-02-0841.xlsx\n"
     ]
    },
    {
     "name": "stderr",
     "output_type": "stream",
     "text": [
      "C:\\Users\\redda\\AppData\\Roaming\\Python\\Python311\\site-packages\\openpyxl\\worksheet\\_reader.py:329: UserWarning: Data Validation extension is not supported and will be removed\n",
      "  warn(msg)\n",
      "C:\\Users\\redda\\AppData\\Roaming\\Python\\Python311\\site-packages\\openpyxl\\worksheet\\_reader.py:329: UserWarning: Data Validation extension is not supported and will be removed\n",
      "  warn(msg)\n"
     ]
    },
    {
     "name": "stdout",
     "output_type": "stream",
     "text": [
      "发票模板\\发票模板-金坛区西城永德百货经营部-SO-2024-02-0842.xlsx\n",
      "发票模板\\发票模板-长沙市东麦文化有限公司-SO-2024-02-0843.xlsx\n"
     ]
    },
    {
     "name": "stderr",
     "output_type": "stream",
     "text": [
      "C:\\Users\\redda\\AppData\\Roaming\\Python\\Python311\\site-packages\\openpyxl\\worksheet\\_reader.py:329: UserWarning: Data Validation extension is not supported and will be removed\n",
      "  warn(msg)\n",
      "C:\\Users\\redda\\AppData\\Roaming\\Python\\Python311\\site-packages\\openpyxl\\worksheet\\_reader.py:329: UserWarning: Data Validation extension is not supported and will be removed\n",
      "  warn(msg)\n"
     ]
    },
    {
     "name": "stdout",
     "output_type": "stream",
     "text": [
      "发票模板\\发票模板-武汉米圣贸易有限公司-SO-2024-02-0844.xlsx\n",
      "发票模板\\发票模板-石家庄本米文具用品销售有限公司-SO-2024-02-0845.xlsx\n"
     ]
    },
    {
     "name": "stderr",
     "output_type": "stream",
     "text": [
      "C:\\Users\\redda\\AppData\\Roaming\\Python\\Python311\\site-packages\\openpyxl\\worksheet\\_reader.py:329: UserWarning: Data Validation extension is not supported and will be removed\n",
      "  warn(msg)\n"
     ]
    },
    {
     "name": "stdout",
     "output_type": "stream",
     "text": [
      "发票模板\\发票模板-武汉开先文化用品有限责任公司-SO-2024-02-0846.xlsx\n",
      "发票模板\\发票模板-武汉今日成纸业有限公司-SO-2024-02-0847.xlsx\n"
     ]
    },
    {
     "name": "stderr",
     "output_type": "stream",
     "text": [
      "C:\\Users\\redda\\AppData\\Roaming\\Python\\Python311\\site-packages\\openpyxl\\worksheet\\_reader.py:329: UserWarning: Data Validation extension is not supported and will be removed\n",
      "  warn(msg)\n",
      "C:\\Users\\redda\\AppData\\Roaming\\Python\\Python311\\site-packages\\openpyxl\\worksheet\\_reader.py:329: UserWarning: Data Validation extension is not supported and will be removed\n",
      "  warn(msg)\n"
     ]
    },
    {
     "name": "stdout",
     "output_type": "stream",
     "text": [
      "发票模板\\发票模板-武汉金宸翰办公用品有限公司1-SO-2024-02-0848.xlsx\n",
      "发票模板\\发票模板-武汉市齐达利商贸有限公司-SO-2024-02-0849.xlsx\n"
     ]
    },
    {
     "name": "stderr",
     "output_type": "stream",
     "text": [
      "C:\\Users\\redda\\AppData\\Roaming\\Python\\Python311\\site-packages\\openpyxl\\worksheet\\_reader.py:329: UserWarning: Data Validation extension is not supported and will be removed\n",
      "  warn(msg)\n",
      "C:\\Users\\redda\\AppData\\Roaming\\Python\\Python311\\site-packages\\openpyxl\\worksheet\\_reader.py:329: UserWarning: Data Validation extension is not supported and will be removed\n",
      "  warn(msg)\n"
     ]
    },
    {
     "name": "stdout",
     "output_type": "stream",
     "text": [
      "发票模板\\发票模板-遵义王强-SO-2024-02-0850.xlsx\n"
     ]
    },
    {
     "name": "stderr",
     "output_type": "stream",
     "text": [
      "C:\\Users\\redda\\AppData\\Roaming\\Python\\Python311\\site-packages\\openpyxl\\worksheet\\_reader.py:329: UserWarning: Data Validation extension is not supported and will be removed\n",
      "  warn(msg)\n",
      "C:\\Users\\redda\\AppData\\Roaming\\Python\\Python311\\site-packages\\openpyxl\\worksheet\\_reader.py:329: UserWarning: Data Validation extension is not supported and will be removed\n",
      "  warn(msg)\n"
     ]
    },
    {
     "name": "stdout",
     "output_type": "stream",
     "text": [
      "发票模板\\发票模板-兴义市鸿图锐意办公商贸有限公司-SO-2024-02-0851.xlsx\n",
      "发票模板\\发票模板-武汉金宸翰办公用品有限公司-SO-2024-02-0852.xlsx\n"
     ]
    },
    {
     "name": "stderr",
     "output_type": "stream",
     "text": [
      "C:\\Users\\redda\\AppData\\Roaming\\Python\\Python311\\site-packages\\openpyxl\\worksheet\\_reader.py:329: UserWarning: Data Validation extension is not supported and will be removed\n",
      "  warn(msg)\n",
      "C:\\Users\\redda\\AppData\\Roaming\\Python\\Python311\\site-packages\\openpyxl\\worksheet\\_reader.py:329: UserWarning: Data Validation extension is not supported and will be removed\n",
      "  warn(msg)\n"
     ]
    },
    {
     "name": "stdout",
     "output_type": "stream",
     "text": [
      "发票模板\\发票模板-义乌市携诚文体用品有限公司-SO-2024-02-0853.xlsx\n",
      "发票模板\\发票模板-湖北昇耀商贸有限公司-SO-2024-02-0854.xlsx\n"
     ]
    },
    {
     "name": "stderr",
     "output_type": "stream",
     "text": [
      "C:\\Users\\redda\\AppData\\Roaming\\Python\\Python311\\site-packages\\openpyxl\\worksheet\\_reader.py:329: UserWarning: Data Validation extension is not supported and will be removed\n",
      "  warn(msg)\n",
      "C:\\Users\\redda\\AppData\\Roaming\\Python\\Python311\\site-packages\\openpyxl\\worksheet\\_reader.py:329: UserWarning: Data Validation extension is not supported and will be removed\n",
      "  warn(msg)\n"
     ]
    },
    {
     "name": "stdout",
     "output_type": "stream",
     "text": [
      "发票模板\\发票模板-武汉金胜辉商贸有限公司-SO-2024-02-0855.xlsx\n",
      "发票模板\\发票模板-河南抬头喜办公用品有限公司S-SO-2024-02-0856.xlsx\n"
     ]
    },
    {
     "name": "stderr",
     "output_type": "stream",
     "text": [
      "C:\\Users\\redda\\AppData\\Roaming\\Python\\Python311\\site-packages\\openpyxl\\worksheet\\_reader.py:329: UserWarning: Data Validation extension is not supported and will be removed\n",
      "  warn(msg)\n",
      "C:\\Users\\redda\\AppData\\Roaming\\Python\\Python311\\site-packages\\openpyxl\\worksheet\\_reader.py:329: UserWarning: Data Validation extension is not supported and will be removed\n",
      "  warn(msg)\n"
     ]
    },
    {
     "name": "stdout",
     "output_type": "stream",
     "text": [
      "发票模板\\发票模板-河南抬头喜办公用品有限公司S-SO-2024-02-0857.xlsx\n",
      "发票模板\\发票模板-武汉优聚优品贸易有限公司-SO-2024-02-0858.xlsx\n"
     ]
    },
    {
     "name": "stderr",
     "output_type": "stream",
     "text": [
      "C:\\Users\\redda\\AppData\\Roaming\\Python\\Python311\\site-packages\\openpyxl\\worksheet\\_reader.py:329: UserWarning: Data Validation extension is not supported and will be removed\n",
      "  warn(msg)\n",
      "C:\\Users\\redda\\AppData\\Roaming\\Python\\Python311\\site-packages\\openpyxl\\worksheet\\_reader.py:329: UserWarning: Data Validation extension is not supported and will be removed\n",
      "  warn(msg)\n"
     ]
    },
    {
     "name": "stdout",
     "output_type": "stream",
     "text": [
      "发票模板\\发票模板-武汉市热脉文体用品有限公司-SO-2024-02-0859.xlsx\n",
      "发票模板\\发票模板-武汉金胜辉商贸有限公司-SO-2024-02-0860.xlsx\n"
     ]
    },
    {
     "name": "stderr",
     "output_type": "stream",
     "text": [
      "C:\\Users\\redda\\AppData\\Roaming\\Python\\Python311\\site-packages\\openpyxl\\worksheet\\_reader.py:329: UserWarning: Data Validation extension is not supported and will be removed\n",
      "  warn(msg)\n",
      "C:\\Users\\redda\\AppData\\Roaming\\Python\\Python311\\site-packages\\openpyxl\\worksheet\\_reader.py:329: UserWarning: Data Validation extension is not supported and will be removed\n",
      "  warn(msg)\n"
     ]
    },
    {
     "name": "stdout",
     "output_type": "stream",
     "text": [
      "发票模板\\发票模板-河南抬头喜办公用品有限公司S-SO-2024-02-0861.xlsx\n",
      "发票模板\\发票模板-河南抬头喜办公用品有限公司S-SO-2024-02-0862.xlsx\n"
     ]
    },
    {
     "name": "stderr",
     "output_type": "stream",
     "text": [
      "C:\\Users\\redda\\AppData\\Roaming\\Python\\Python311\\site-packages\\openpyxl\\worksheet\\_reader.py:329: UserWarning: Data Validation extension is not supported and will be removed\n",
      "  warn(msg)\n"
     ]
    },
    {
     "name": "stdout",
     "output_type": "stream",
     "text": [
      "发票模板\\发票模板-武汉市晶艺文化用品有限公司-SO-2024-02-0863.xlsx\n"
     ]
    },
    {
     "name": "stderr",
     "output_type": "stream",
     "text": [
      "C:\\Users\\redda\\AppData\\Roaming\\Python\\Python311\\site-packages\\openpyxl\\worksheet\\_reader.py:329: UserWarning: Data Validation extension is not supported and will be removed\n",
      "  warn(msg)\n",
      "C:\\Users\\redda\\AppData\\Roaming\\Python\\Python311\\site-packages\\openpyxl\\worksheet\\_reader.py:329: UserWarning: Data Validation extension is not supported and will be removed\n",
      "  warn(msg)\n"
     ]
    },
    {
     "name": "stdout",
     "output_type": "stream",
     "text": [
      "发票模板\\发票模板-武汉嘉迪亚商贸有限公司-SO-2024-02-0864.xlsx\n",
      "发票模板\\发票模板-武汉今日成纸业有限公司-SO-2024-02-0865.xlsx\n"
     ]
    },
    {
     "name": "stderr",
     "output_type": "stream",
     "text": [
      "C:\\Users\\redda\\AppData\\Roaming\\Python\\Python311\\site-packages\\openpyxl\\worksheet\\_reader.py:329: UserWarning: Data Validation extension is not supported and will be removed\n",
      "  warn(msg)\n",
      "C:\\Users\\redda\\AppData\\Roaming\\Python\\Python311\\site-packages\\openpyxl\\worksheet\\_reader.py:329: UserWarning: Data Validation extension is not supported and will be removed\n",
      "  warn(msg)\n"
     ]
    },
    {
     "name": "stdout",
     "output_type": "stream",
     "text": [
      "发票模板\\发票模板-武汉米圣贸易有限公司-SO-2024-02-0866.xlsx\n",
      "发票模板\\发票模板-沈阳世联办公用品有限公司-SO-2024-02-0867.xlsx\n"
     ]
    },
    {
     "name": "stderr",
     "output_type": "stream",
     "text": [
      "C:\\Users\\redda\\AppData\\Roaming\\Python\\Python311\\site-packages\\openpyxl\\worksheet\\_reader.py:329: UserWarning: Data Validation extension is not supported and will be removed\n",
      "  warn(msg)\n",
      "C:\\Users\\redda\\AppData\\Roaming\\Python\\Python311\\site-packages\\openpyxl\\worksheet\\_reader.py:329: UserWarning: Data Validation extension is not supported and will be removed\n",
      "  warn(msg)\n"
     ]
    },
    {
     "name": "stdout",
     "output_type": "stream",
     "text": [
      "发票模板\\发票模板-兰州艾迪商贸有限公司-SO-2024-02-0868.xlsx\n",
      "发票模板\\发票模板-宁夏好时光商贸有限公司-SO-2024-02-0869.xlsx\n"
     ]
    },
    {
     "name": "stderr",
     "output_type": "stream",
     "text": [
      "C:\\Users\\redda\\AppData\\Roaming\\Python\\Python311\\site-packages\\openpyxl\\worksheet\\_reader.py:329: UserWarning: Data Validation extension is not supported and will be removed\n",
      "  warn(msg)\n",
      "C:\\Users\\redda\\AppData\\Roaming\\Python\\Python311\\site-packages\\openpyxl\\worksheet\\_reader.py:329: UserWarning: Data Validation extension is not supported and will be removed\n",
      "  warn(msg)\n"
     ]
    },
    {
     "name": "stdout",
     "output_type": "stream",
     "text": [
      "发票模板\\发票模板-武汉金宸翰办公用品有限公司-SO-2024-02-0870.xlsx\n",
      "发票模板\\发票模板-石河子市满天红财会文体用品店-SO-2024-02-0871.xlsx\n"
     ]
    },
    {
     "name": "stderr",
     "output_type": "stream",
     "text": [
      "C:\\Users\\redda\\AppData\\Roaming\\Python\\Python311\\site-packages\\openpyxl\\worksheet\\_reader.py:329: UserWarning: Data Validation extension is not supported and will be removed\n",
      "  warn(msg)\n",
      "C:\\Users\\redda\\AppData\\Roaming\\Python\\Python311\\site-packages\\openpyxl\\worksheet\\_reader.py:329: UserWarning: Data Validation extension is not supported and will be removed\n",
      "  warn(msg)\n"
     ]
    },
    {
     "name": "stdout",
     "output_type": "stream",
     "text": [
      "发票模板\\发票模板-涵江徐东明-SO-2024-02-0872.xlsx\n",
      "发票模板\\发票模板-厦门掌握贸易有限公司-SO-2024-02-0873.xlsx\n"
     ]
    },
    {
     "name": "stderr",
     "output_type": "stream",
     "text": [
      "C:\\Users\\redda\\AppData\\Roaming\\Python\\Python311\\site-packages\\openpyxl\\worksheet\\_reader.py:329: UserWarning: Data Validation extension is not supported and will be removed\n",
      "  warn(msg)\n",
      "C:\\Users\\redda\\AppData\\Roaming\\Python\\Python311\\site-packages\\openpyxl\\worksheet\\_reader.py:329: UserWarning: Data Validation extension is not supported and will be removed\n",
      "  warn(msg)\n"
     ]
    },
    {
     "name": "stdout",
     "output_type": "stream",
     "text": [
      "发票模板\\发票模板-宁波市书童文体用品有限公司-SO-2024-02-0874.xlsx\n",
      "发票模板\\发票模板-武汉优聚优品贸易有限公司-SO-2024-02-0875.xlsx\n"
     ]
    },
    {
     "name": "stderr",
     "output_type": "stream",
     "text": [
      "C:\\Users\\redda\\AppData\\Roaming\\Python\\Python311\\site-packages\\openpyxl\\worksheet\\_reader.py:329: UserWarning: Data Validation extension is not supported and will be removed\n",
      "  warn(msg)\n"
     ]
    },
    {
     "name": "stdout",
     "output_type": "stream",
     "text": [
      "发票模板\\发票模板-芜湖市建斌商贸有限公司-SO-2024-02-0876.xlsx\n",
      "发票模板\\发票模板-河南一叶一页文化用品有限公司-SO-2024-02-0877.xlsx\n"
     ]
    },
    {
     "name": "stderr",
     "output_type": "stream",
     "text": [
      "C:\\Users\\redda\\AppData\\Roaming\\Python\\Python311\\site-packages\\openpyxl\\worksheet\\_reader.py:329: UserWarning: Data Validation extension is not supported and will be removed\n",
      "  warn(msg)\n",
      "C:\\Users\\redda\\AppData\\Roaming\\Python\\Python311\\site-packages\\openpyxl\\worksheet\\_reader.py:329: UserWarning: Data Validation extension is not supported and will be removed\n",
      "  warn(msg)\n"
     ]
    },
    {
     "name": "stdout",
     "output_type": "stream",
     "text": [
      "发票模板\\发票模板-武汉优聚优品贸易有限公司-SO-2024-02-0878.xlsx\n",
      "发票模板\\发票模板-江西立信办公商贸有限公司-SO-2024-02-0879.xlsx\n"
     ]
    },
    {
     "name": "stderr",
     "output_type": "stream",
     "text": [
      "C:\\Users\\redda\\AppData\\Roaming\\Python\\Python311\\site-packages\\openpyxl\\worksheet\\_reader.py:329: UserWarning: Data Validation extension is not supported and will be removed\n",
      "  warn(msg)\n",
      "C:\\Users\\redda\\AppData\\Roaming\\Python\\Python311\\site-packages\\openpyxl\\worksheet\\_reader.py:329: UserWarning: Data Validation extension is not supported and will be removed\n",
      "  warn(msg)\n"
     ]
    },
    {
     "name": "stdout",
     "output_type": "stream",
     "text": [
      "发票模板\\发票模板-阜阳俊武文体商贸有限公司-SO-2024-02-0880.xlsx\n",
      "发票模板\\发票模板-阜阳俊武文体商贸有限公司-SO-2024-02-0881.xlsx\n"
     ]
    },
    {
     "name": "stderr",
     "output_type": "stream",
     "text": [
      "C:\\Users\\redda\\AppData\\Roaming\\Python\\Python311\\site-packages\\openpyxl\\worksheet\\_reader.py:329: UserWarning: Data Validation extension is not supported and will be removed\n",
      "  warn(msg)\n",
      "C:\\Users\\redda\\AppData\\Roaming\\Python\\Python311\\site-packages\\openpyxl\\worksheet\\_reader.py:329: UserWarning: Data Validation extension is not supported and will be removed\n",
      "  warn(msg)\n"
     ]
    },
    {
     "name": "stdout",
     "output_type": "stream",
     "text": [
      "发票模板\\发票模板-太原达富强商贸有限公司-SO-2024-02-0882.xlsx\n",
      "发票模板\\发票模板-长沙市雨花区文丰文具商行-SO-2024-02-0883.xlsx\n"
     ]
    },
    {
     "name": "stderr",
     "output_type": "stream",
     "text": [
      "C:\\Users\\redda\\AppData\\Roaming\\Python\\Python311\\site-packages\\openpyxl\\worksheet\\_reader.py:329: UserWarning: Data Validation extension is not supported and will be removed\n",
      "  warn(msg)\n",
      "C:\\Users\\redda\\AppData\\Roaming\\Python\\Python311\\site-packages\\openpyxl\\worksheet\\_reader.py:329: UserWarning: Data Validation extension is not supported and will be removed\n",
      "  warn(msg)\n"
     ]
    },
    {
     "name": "stdout",
     "output_type": "stream",
     "text": [
      "发票模板\\发票模板-义乌市博迅文体用品有限公司-SO-2024-02-0884.xlsx\n",
      "发票模板\\发票模板-深圳市一晨科技有限公司-SO-2024-02-0885.xlsx\n"
     ]
    },
    {
     "name": "stderr",
     "output_type": "stream",
     "text": [
      "C:\\Users\\redda\\AppData\\Roaming\\Python\\Python311\\site-packages\\openpyxl\\worksheet\\_reader.py:329: UserWarning: Data Validation extension is not supported and will be removed\n",
      "  warn(msg)\n",
      "C:\\Users\\redda\\AppData\\Roaming\\Python\\Python311\\site-packages\\openpyxl\\worksheet\\_reader.py:329: UserWarning: Data Validation extension is not supported and will be removed\n",
      "  warn(msg)\n"
     ]
    },
    {
     "name": "stdout",
     "output_type": "stream",
     "text": [
      "发票模板\\发票模板-河南抬头喜办公用品有限公司-SO-2024-02-0886.xlsx\n",
      "发票模板\\发票模板-武汉开先文化用品有限责任公司-SO-2024-02-0887.xlsx\n"
     ]
    },
    {
     "name": "stderr",
     "output_type": "stream",
     "text": [
      "C:\\Users\\redda\\AppData\\Roaming\\Python\\Python311\\site-packages\\openpyxl\\worksheet\\_reader.py:329: UserWarning: Data Validation extension is not supported and will be removed\n",
      "  warn(msg)\n",
      "C:\\Users\\redda\\AppData\\Roaming\\Python\\Python311\\site-packages\\openpyxl\\worksheet\\_reader.py:329: UserWarning: Data Validation extension is not supported and will be removed\n",
      "  warn(msg)\n"
     ]
    },
    {
     "name": "stdout",
     "output_type": "stream",
     "text": [
      "发票模板\\发票模板-武汉金胜辉商贸有限公司-SO-2024-02-0888.xlsx\n"
     ]
    },
    {
     "name": "stderr",
     "output_type": "stream",
     "text": [
      "C:\\Users\\redda\\AppData\\Roaming\\Python\\Python311\\site-packages\\openpyxl\\worksheet\\_reader.py:329: UserWarning: Data Validation extension is not supported and will be removed\n",
      "  warn(msg)\n",
      "C:\\Users\\redda\\AppData\\Roaming\\Python\\Python311\\site-packages\\openpyxl\\worksheet\\_reader.py:329: UserWarning: Data Validation extension is not supported and will be removed\n",
      "  warn(msg)\n"
     ]
    },
    {
     "name": "stdout",
     "output_type": "stream",
     "text": [
      "发票模板\\发票模板-武汉中威百联商贸有限公司-SO-2024-02-0889.xlsx\n",
      "发票模板\\发票模板-武汉米圣贸易有限公司-SO-2024-02-0890.xlsx\n"
     ]
    },
    {
     "name": "stderr",
     "output_type": "stream",
     "text": [
      "C:\\Users\\redda\\AppData\\Roaming\\Python\\Python311\\site-packages\\openpyxl\\worksheet\\_reader.py:329: UserWarning: Data Validation extension is not supported and will be removed\n",
      "  warn(msg)\n",
      "C:\\Users\\redda\\AppData\\Roaming\\Python\\Python311\\site-packages\\openpyxl\\worksheet\\_reader.py:329: UserWarning: Data Validation extension is not supported and will be removed\n",
      "  warn(msg)\n"
     ]
    },
    {
     "name": "stdout",
     "output_type": "stream",
     "text": [
      "发票模板\\发票模板-武汉金胜辉商贸有限公司-SO-2024-02-0891.xlsx\n",
      "发票模板\\发票模板-武汉今日成纸业有限公司-SO-2024-02-0892.xlsx\n"
     ]
    },
    {
     "name": "stderr",
     "output_type": "stream",
     "text": [
      "C:\\Users\\redda\\AppData\\Roaming\\Python\\Python311\\site-packages\\openpyxl\\worksheet\\_reader.py:329: UserWarning: Data Validation extension is not supported and will be removed\n",
      "  warn(msg)\n"
     ]
    },
    {
     "name": "stdout",
     "output_type": "stream",
     "text": [
      "发票模板\\发票模板-武汉静静舒文体用品有限公司-SO-2024-02-0893.xlsx\n",
      "发票模板\\发票模板-广东盛泰档案用品有限公司-SO-2024-02-0894.xlsx\n"
     ]
    },
    {
     "name": "stderr",
     "output_type": "stream",
     "text": [
      "C:\\Users\\redda\\AppData\\Roaming\\Python\\Python311\\site-packages\\openpyxl\\worksheet\\_reader.py:329: UserWarning: Data Validation extension is not supported and will be removed\n",
      "  warn(msg)\n",
      "C:\\Users\\redda\\AppData\\Roaming\\Python\\Python311\\site-packages\\openpyxl\\worksheet\\_reader.py:329: UserWarning: Data Validation extension is not supported and will be removed\n",
      "  warn(msg)\n"
     ]
    },
    {
     "name": "stdout",
     "output_type": "stream",
     "text": [
      "发票模板\\发票模板-武汉金宸翰办公用品有限公司-SO-2024-02-0895.xlsx\n",
      "发票模板\\发票模板-武汉市热脉文体用品有限公司-SO-2024-02-0896.xlsx\n"
     ]
    },
    {
     "name": "stderr",
     "output_type": "stream",
     "text": [
      "C:\\Users\\redda\\AppData\\Roaming\\Python\\Python311\\site-packages\\openpyxl\\worksheet\\_reader.py:329: UserWarning: Data Validation extension is not supported and will be removed\n",
      "  warn(msg)\n",
      "C:\\Users\\redda\\AppData\\Roaming\\Python\\Python311\\site-packages\\openpyxl\\worksheet\\_reader.py:329: UserWarning: Data Validation extension is not supported and will be removed\n",
      "  warn(msg)\n"
     ]
    },
    {
     "name": "stdout",
     "output_type": "stream",
     "text": [
      "发票模板\\发票模板-湖北昇耀商贸有限公司-SO-2024-02-0897.xlsx\n"
     ]
    },
    {
     "name": "stderr",
     "output_type": "stream",
     "text": [
      "C:\\Users\\redda\\AppData\\Roaming\\Python\\Python311\\site-packages\\openpyxl\\worksheet\\_reader.py:329: UserWarning: Data Validation extension is not supported and will be removed\n",
      "  warn(msg)\n",
      "C:\\Users\\redda\\AppData\\Roaming\\Python\\Python311\\site-packages\\openpyxl\\worksheet\\_reader.py:329: UserWarning: Data Validation extension is not supported and will be removed\n",
      "  warn(msg)\n"
     ]
    },
    {
     "name": "stdout",
     "output_type": "stream",
     "text": [
      "发票模板\\发票模板-武汉今日成纸业有限公司-SO-2024-02-0898.xlsx\n",
      "发票模板\\发票模板-武汉米圣贸易有限公司-SO-2024-02-0899.xlsx\n"
     ]
    },
    {
     "name": "stderr",
     "output_type": "stream",
     "text": [
      "C:\\Users\\redda\\AppData\\Roaming\\Python\\Python311\\site-packages\\openpyxl\\worksheet\\_reader.py:329: UserWarning: Data Validation extension is not supported and will be removed\n",
      "  warn(msg)\n",
      "C:\\Users\\redda\\AppData\\Roaming\\Python\\Python311\\site-packages\\openpyxl\\worksheet\\_reader.py:329: UserWarning: Data Validation extension is not supported and will be removed\n",
      "  warn(msg)\n"
     ]
    },
    {
     "name": "stdout",
     "output_type": "stream",
     "text": [
      "发票模板\\发票模板-武汉市齐达利商贸有限公司-SO-2024-02-0900.xlsx\n",
      "发票模板\\发票模板-武汉市热脉文体用品有限公司-SO-2024-02-0901.xlsx\n"
     ]
    },
    {
     "name": "stderr",
     "output_type": "stream",
     "text": [
      "C:\\Users\\redda\\AppData\\Roaming\\Python\\Python311\\site-packages\\openpyxl\\worksheet\\_reader.py:329: UserWarning: Data Validation extension is not supported and will be removed\n",
      "  warn(msg)\n",
      "C:\\Users\\redda\\AppData\\Roaming\\Python\\Python311\\site-packages\\openpyxl\\worksheet\\_reader.py:329: UserWarning: Data Validation extension is not supported and will be removed\n",
      "  warn(msg)\n"
     ]
    },
    {
     "name": "stdout",
     "output_type": "stream",
     "text": [
      "发票模板\\发票模板-河南抬头喜办公用品有限公司S-SO-2024-02-0902.xlsx\n",
      "发票模板\\发票模板-武汉金胜辉商贸有限公司-SO-2024-02-0903.xlsx\n"
     ]
    },
    {
     "name": "stderr",
     "output_type": "stream",
     "text": [
      "C:\\Users\\redda\\AppData\\Roaming\\Python\\Python311\\site-packages\\openpyxl\\worksheet\\_reader.py:329: UserWarning: Data Validation extension is not supported and will be removed\n",
      "  warn(msg)\n",
      "C:\\Users\\redda\\AppData\\Roaming\\Python\\Python311\\site-packages\\openpyxl\\worksheet\\_reader.py:329: UserWarning: Data Validation extension is not supported and will be removed\n",
      "  warn(msg)\n"
     ]
    },
    {
     "name": "stdout",
     "output_type": "stream",
     "text": [
      "发票模板\\发票模板-武汉金宸翰办公用品有限公司-SO-2024-02-0904.xlsx\n",
      "发票模板\\发票模板-义乌市博迅文体用品有限公司-SO-2024-02-0905.xlsx\n"
     ]
    },
    {
     "name": "stderr",
     "output_type": "stream",
     "text": [
      "C:\\Users\\redda\\AppData\\Roaming\\Python\\Python311\\site-packages\\openpyxl\\worksheet\\_reader.py:329: UserWarning: Data Validation extension is not supported and will be removed\n",
      "  warn(msg)\n",
      "C:\\Users\\redda\\AppData\\Roaming\\Python\\Python311\\site-packages\\openpyxl\\worksheet\\_reader.py:329: UserWarning: Data Validation extension is not supported and will be removed\n",
      "  warn(msg)\n"
     ]
    },
    {
     "name": "stdout",
     "output_type": "stream",
     "text": [
      "发票模板\\发票模板-南宁市小木屋文化用品有限公司-SO-2024-02-0906.xlsx\n",
      "发票模板\\发票模板-西安华坤集采供应链管理有限公司-SO-2024-02-0907.xlsx\n"
     ]
    },
    {
     "name": "stderr",
     "output_type": "stream",
     "text": [
      "C:\\Users\\redda\\AppData\\Roaming\\Python\\Python311\\site-packages\\openpyxl\\worksheet\\_reader.py:329: UserWarning: Data Validation extension is not supported and will be removed\n",
      "  warn(msg)\n",
      "C:\\Users\\redda\\AppData\\Roaming\\Python\\Python311\\site-packages\\openpyxl\\worksheet\\_reader.py:329: UserWarning: Data Validation extension is not supported and will be removed\n",
      "  warn(msg)\n"
     ]
    },
    {
     "name": "stdout",
     "output_type": "stream",
     "text": [
      "发票模板\\发票模板-昆明八龙商贸有限公司-SO-2024-02-0908.xlsx\n",
      "发票模板\\发票模板-西藏文领商贸有限公司-SO-2024-02-0909.xlsx\n"
     ]
    },
    {
     "name": "stderr",
     "output_type": "stream",
     "text": [
      "C:\\Users\\redda\\AppData\\Roaming\\Python\\Python311\\site-packages\\openpyxl\\worksheet\\_reader.py:329: UserWarning: Data Validation extension is not supported and will be removed\n",
      "  warn(msg)\n"
     ]
    },
    {
     "name": "stdout",
     "output_type": "stream",
     "text": [
      "发票模板\\发票模板-河南抬头喜办公用品有限公司S-SO-2024-02-0910.xlsx\n",
      "发票模板\\发票模板-吉林耐斯商贸有限公司-SO-2024-02-0911.xlsx\n"
     ]
    },
    {
     "name": "stderr",
     "output_type": "stream",
     "text": [
      "C:\\Users\\redda\\AppData\\Roaming\\Python\\Python311\\site-packages\\openpyxl\\worksheet\\_reader.py:329: UserWarning: Data Validation extension is not supported and will be removed\n",
      "  warn(msg)\n",
      "C:\\Users\\redda\\AppData\\Roaming\\Python\\Python311\\site-packages\\openpyxl\\worksheet\\_reader.py:329: UserWarning: Data Validation extension is not supported and will be removed\n",
      "  warn(msg)\n"
     ]
    },
    {
     "name": "stdout",
     "output_type": "stream",
     "text": [
      "发票模板\\发票模板-遵义王强-SO-2024-02-0912.xlsx\n",
      "发票模板\\发票模板-无锡金可益商贸有限公司-SO-2024-02-0913.xlsx\n"
     ]
    },
    {
     "name": "stderr",
     "output_type": "stream",
     "text": [
      "C:\\Users\\redda\\AppData\\Roaming\\Python\\Python311\\site-packages\\openpyxl\\worksheet\\_reader.py:329: UserWarning: Data Validation extension is not supported and will be removed\n",
      "  warn(msg)\n",
      "C:\\Users\\redda\\AppData\\Roaming\\Python\\Python311\\site-packages\\openpyxl\\worksheet\\_reader.py:329: UserWarning: Data Validation extension is not supported and will be removed\n",
      "  warn(msg)\n"
     ]
    },
    {
     "name": "stdout",
     "output_type": "stream",
     "text": [
      "发票模板\\发票模板-义乌范光洪-SO-2024-02-0914.xlsx\n"
     ]
    },
    {
     "name": "stderr",
     "output_type": "stream",
     "text": [
      "C:\\Users\\redda\\AppData\\Roaming\\Python\\Python311\\site-packages\\openpyxl\\worksheet\\_reader.py:329: UserWarning: Data Validation extension is not supported and will be removed\n",
      "  warn(msg)\n",
      "C:\\Users\\redda\\AppData\\Roaming\\Python\\Python311\\site-packages\\openpyxl\\worksheet\\_reader.py:329: UserWarning: Data Validation extension is not supported and will be removed\n",
      "  warn(msg)\n"
     ]
    },
    {
     "name": "stdout",
     "output_type": "stream",
     "text": [
      "发票模板\\发票模板-柳州市笔创贸易有限公司-SO-2024-02-0915.xlsx\n",
      "发票模板\\发票模板-武汉米圣贸易有限公司-SO-2024-02-0916.xlsx\n"
     ]
    },
    {
     "name": "stderr",
     "output_type": "stream",
     "text": [
      "C:\\Users\\redda\\AppData\\Roaming\\Python\\Python311\\site-packages\\openpyxl\\worksheet\\_reader.py:329: UserWarning: Data Validation extension is not supported and will be removed\n",
      "  warn(msg)\n",
      "C:\\Users\\redda\\AppData\\Roaming\\Python\\Python311\\site-packages\\openpyxl\\worksheet\\_reader.py:329: UserWarning: Data Validation extension is not supported and will be removed\n",
      "  warn(msg)\n"
     ]
    },
    {
     "name": "stdout",
     "output_type": "stream",
     "text": [
      "发票模板\\发票模板-武汉金胜辉商贸有限公司-SO-2024-02-0917.xlsx\n",
      "发票模板\\发票模板-武汉金宸翰办公用品有限公司1-SO-2024-02-0918.xlsx\n"
     ]
    },
    {
     "name": "stderr",
     "output_type": "stream",
     "text": [
      "C:\\Users\\redda\\AppData\\Roaming\\Python\\Python311\\site-packages\\openpyxl\\worksheet\\_reader.py:329: UserWarning: Data Validation extension is not supported and will be removed\n",
      "  warn(msg)\n",
      "C:\\Users\\redda\\AppData\\Roaming\\Python\\Python311\\site-packages\\openpyxl\\worksheet\\_reader.py:329: UserWarning: Data Validation extension is not supported and will be removed\n",
      "  warn(msg)\n"
     ]
    },
    {
     "name": "stdout",
     "output_type": "stream",
     "text": [
      "发票模板\\发票模板-武汉开先文化用品有限责任公司-SO-2024-02-0919.xlsx\n",
      "发票模板\\发票模板-武汉市齐达利商贸有限公司-SO-2024-02-0920.xlsx\n"
     ]
    },
    {
     "name": "stderr",
     "output_type": "stream",
     "text": [
      "C:\\Users\\redda\\AppData\\Roaming\\Python\\Python311\\site-packages\\openpyxl\\worksheet\\_reader.py:329: UserWarning: Data Validation extension is not supported and will be removed\n",
      "  warn(msg)\n",
      "C:\\Users\\redda\\AppData\\Roaming\\Python\\Python311\\site-packages\\openpyxl\\worksheet\\_reader.py:329: UserWarning: Data Validation extension is not supported and will be removed\n",
      "  warn(msg)\n"
     ]
    },
    {
     "name": "stdout",
     "output_type": "stream",
     "text": [
      "发票模板\\发票模板-武汉今日成纸业有限公司-SO-2024-02-0921.xlsx\n",
      "发票模板\\发票模板-武汉中威百联商贸有限公司-SO-2024-02-0922.xlsx\n"
     ]
    },
    {
     "name": "stderr",
     "output_type": "stream",
     "text": [
      "C:\\Users\\redda\\AppData\\Roaming\\Python\\Python311\\site-packages\\openpyxl\\worksheet\\_reader.py:329: UserWarning: Data Validation extension is not supported and will be removed\n",
      "  warn(msg)\n"
     ]
    },
    {
     "name": "stdout",
     "output_type": "stream",
     "text": [
      "发票模板\\发票模板-武汉开先文化用品有限责任公司-SO-2024-02-0923.xlsx\n",
      "发票模板\\发票模板-武汉市热脉文体用品有限公司-SO-2024-02-0924.xlsx\n"
     ]
    },
    {
     "name": "stderr",
     "output_type": "stream",
     "text": [
      "C:\\Users\\redda\\AppData\\Roaming\\Python\\Python311\\site-packages\\openpyxl\\worksheet\\_reader.py:329: UserWarning: Data Validation extension is not supported and will be removed\n",
      "  warn(msg)\n",
      "C:\\Users\\redda\\AppData\\Roaming\\Python\\Python311\\site-packages\\openpyxl\\worksheet\\_reader.py:329: UserWarning: Data Validation extension is not supported and will be removed\n",
      "  warn(msg)\n"
     ]
    },
    {
     "name": "stdout",
     "output_type": "stream",
     "text": [
      "发票模板\\发票模板-武汉金宸翰办公用品有限公司1-SO-2024-02-0925.xlsx\n",
      "发票模板\\发票模板-武汉金胜辉商贸有限公司-SO-2024-02-0926.xlsx\n"
     ]
    },
    {
     "name": "stderr",
     "output_type": "stream",
     "text": [
      "C:\\Users\\redda\\AppData\\Roaming\\Python\\Python311\\site-packages\\openpyxl\\worksheet\\_reader.py:329: UserWarning: Data Validation extension is not supported and will be removed\n",
      "  warn(msg)\n",
      "C:\\Users\\redda\\AppData\\Roaming\\Python\\Python311\\site-packages\\openpyxl\\worksheet\\_reader.py:329: UserWarning: Data Validation extension is not supported and will be removed\n",
      "  warn(msg)\n"
     ]
    },
    {
     "name": "stdout",
     "output_type": "stream",
     "text": [
      "发票模板\\发票模板-武汉市晶艺文化用品有限公司-SO-2024-02-0927.xlsx\n"
     ]
    },
    {
     "name": "stderr",
     "output_type": "stream",
     "text": [
      "C:\\Users\\redda\\AppData\\Roaming\\Python\\Python311\\site-packages\\openpyxl\\worksheet\\_reader.py:329: UserWarning: Data Validation extension is not supported and will be removed\n",
      "  warn(msg)\n",
      "C:\\Users\\redda\\AppData\\Roaming\\Python\\Python311\\site-packages\\openpyxl\\worksheet\\_reader.py:329: UserWarning: Data Validation extension is not supported and will be removed\n",
      "  warn(msg)\n"
     ]
    },
    {
     "name": "stdout",
     "output_type": "stream",
     "text": [
      "发票模板\\发票模板-河南抬头喜办公用品有限公司S-SO-2024-02-0928.xlsx\n",
      "发票模板\\发票模板-武汉今日成纸业有限公司-SO-2024-02-0929.xlsx\n"
     ]
    },
    {
     "name": "stderr",
     "output_type": "stream",
     "text": [
      "C:\\Users\\redda\\AppData\\Roaming\\Python\\Python311\\site-packages\\openpyxl\\worksheet\\_reader.py:329: UserWarning: Data Validation extension is not supported and will be removed\n",
      "  warn(msg)\n",
      "C:\\Users\\redda\\AppData\\Roaming\\Python\\Python311\\site-packages\\openpyxl\\worksheet\\_reader.py:329: UserWarning: Data Validation extension is not supported and will be removed\n",
      "  warn(msg)\n"
     ]
    },
    {
     "name": "stdout",
     "output_type": "stream",
     "text": [
      "发票模板\\发票模板-河南梓亦桐商贸有限公司-SO-2024-02-0930.xlsx\n",
      "发票模板\\发票模板-长沙市雨花区文丰文具商行-SO-2024-02-0931.xlsx\n"
     ]
    },
    {
     "name": "stderr",
     "output_type": "stream",
     "text": [
      "C:\\Users\\redda\\AppData\\Roaming\\Python\\Python311\\site-packages\\openpyxl\\worksheet\\_reader.py:329: UserWarning: Data Validation extension is not supported and will be removed\n",
      "  warn(msg)\n",
      "C:\\Users\\redda\\AppData\\Roaming\\Python\\Python311\\site-packages\\openpyxl\\worksheet\\_reader.py:329: UserWarning: Data Validation extension is not supported and will be removed\n",
      "  warn(msg)\n"
     ]
    },
    {
     "name": "stdout",
     "output_type": "stream",
     "text": [
      "发票模板\\发票模板-桂林竞升文化用品有限公司-SO-2024-02-0932.xlsx\n",
      "发票模板\\发票模板-西安华坤集采供应链管理有限公司-SO-2024-02-0933.xlsx\n"
     ]
    },
    {
     "name": "stderr",
     "output_type": "stream",
     "text": [
      "C:\\Users\\redda\\AppData\\Roaming\\Python\\Python311\\site-packages\\openpyxl\\worksheet\\_reader.py:329: UserWarning: Data Validation extension is not supported and will be removed\n",
      "  warn(msg)\n",
      "C:\\Users\\redda\\AppData\\Roaming\\Python\\Python311\\site-packages\\openpyxl\\worksheet\\_reader.py:329: UserWarning: Data Validation extension is not supported and will be removed\n",
      "  warn(msg)\n"
     ]
    },
    {
     "name": "stdout",
     "output_type": "stream",
     "text": [
      "发票模板\\发票模板-西安垄裕商贸有限公司-SO-2024-02-0934.xlsx\n",
      "发票模板\\发票模板-武汉市热脉文体用品有限公司-SO-2024-02-0935.xlsx\n"
     ]
    },
    {
     "name": "stderr",
     "output_type": "stream",
     "text": [
      "C:\\Users\\redda\\AppData\\Roaming\\Python\\Python311\\site-packages\\openpyxl\\worksheet\\_reader.py:329: UserWarning: Data Validation extension is not supported and will be removed\n",
      "  warn(msg)\n",
      "C:\\Users\\redda\\AppData\\Roaming\\Python\\Python311\\site-packages\\openpyxl\\worksheet\\_reader.py:329: UserWarning: Data Validation extension is not supported and will be removed\n",
      "  warn(msg)\n"
     ]
    },
    {
     "name": "stdout",
     "output_type": "stream",
     "text": [
      "发票模板\\发票模板-四川渝泰企业管理咨询有限公司-SO-2024-02-0936.xlsx\n",
      "发票模板\\发票模板-南京好学爱玩信息科技有限公司-SO-2024-02-0937.xlsx\n"
     ]
    },
    {
     "name": "stderr",
     "output_type": "stream",
     "text": [
      "C:\\Users\\redda\\AppData\\Roaming\\Python\\Python311\\site-packages\\openpyxl\\worksheet\\_reader.py:329: UserWarning: Data Validation extension is not supported and will be removed\n",
      "  warn(msg)\n",
      "C:\\Users\\redda\\AppData\\Roaming\\Python\\Python311\\site-packages\\openpyxl\\worksheet\\_reader.py:329: UserWarning: Data Validation extension is not supported and will be removed\n",
      "  warn(msg)\n"
     ]
    },
    {
     "name": "stdout",
     "output_type": "stream",
     "text": [
      "发票模板\\发票模板-柳州市笔创贸易有限公司-SO-2024-02-0938.xlsx\n",
      "发票模板\\发票模板-西安继坤工贸有限公司-SO-2024-02-0939.xlsx\n"
     ]
    },
    {
     "name": "stderr",
     "output_type": "stream",
     "text": [
      "C:\\Users\\redda\\AppData\\Roaming\\Python\\Python311\\site-packages\\openpyxl\\worksheet\\_reader.py:329: UserWarning: Data Validation extension is not supported and will be removed\n",
      "  warn(msg)\n",
      "C:\\Users\\redda\\AppData\\Roaming\\Python\\Python311\\site-packages\\openpyxl\\worksheet\\_reader.py:329: UserWarning: Data Validation extension is not supported and will be removed\n",
      "  warn(msg)\n"
     ]
    },
    {
     "name": "stdout",
     "output_type": "stream",
     "text": [
      "发票模板\\发票模板-江西华兆昌商贸有限公司-SO-2024-02-0940.xlsx\n",
      "发票模板\\发票模板-长沙市东麦文化有限公司-SO-2024-02-0941.xlsx\n"
     ]
    },
    {
     "name": "stderr",
     "output_type": "stream",
     "text": [
      "C:\\Users\\redda\\AppData\\Roaming\\Python\\Python311\\site-packages\\openpyxl\\worksheet\\_reader.py:329: UserWarning: Data Validation extension is not supported and will be removed\n",
      "  warn(msg)\n",
      "C:\\Users\\redda\\AppData\\Roaming\\Python\\Python311\\site-packages\\openpyxl\\worksheet\\_reader.py:329: UserWarning: Data Validation extension is not supported and will be removed\n",
      "  warn(msg)\n"
     ]
    },
    {
     "name": "stdout",
     "output_type": "stream",
     "text": [
      "发票模板\\发票模板-龙岩连卫中-SO-2024-02-0942.xlsx\n",
      "发票模板\\发票模板-涵江徐东明-SO-2024-02-0943.xlsx\n"
     ]
    },
    {
     "name": "stderr",
     "output_type": "stream",
     "text": [
      "C:\\Users\\redda\\AppData\\Roaming\\Python\\Python311\\site-packages\\openpyxl\\worksheet\\_reader.py:329: UserWarning: Data Validation extension is not supported and will be removed\n",
      "  warn(msg)\n"
     ]
    },
    {
     "name": "stdout",
     "output_type": "stream",
     "text": [
      "发票模板\\发票模板-湖北腾顺商贸有限公司-SO-2024-02-0944.xlsx\n"
     ]
    },
    {
     "name": "stderr",
     "output_type": "stream",
     "text": [
      "C:\\Users\\redda\\AppData\\Roaming\\Python\\Python311\\site-packages\\openpyxl\\worksheet\\_reader.py:329: UserWarning: Data Validation extension is not supported and will be removed\n",
      "  warn(msg)\n",
      "C:\\Users\\redda\\AppData\\Roaming\\Python\\Python311\\site-packages\\openpyxl\\worksheet\\_reader.py:329: UserWarning: Data Validation extension is not supported and will be removed\n",
      "  warn(msg)\n"
     ]
    },
    {
     "name": "stdout",
     "output_type": "stream",
     "text": [
      "发票模板\\发票模板-江西立信办公商贸有限公司-SO-2024-02-0945.xlsx\n",
      "发票模板\\发票模板-武汉金胜辉商贸有限公司-SO-2024-02-0946.xlsx\n"
     ]
    },
    {
     "name": "stderr",
     "output_type": "stream",
     "text": [
      "C:\\Users\\redda\\AppData\\Roaming\\Python\\Python311\\site-packages\\openpyxl\\worksheet\\_reader.py:329: UserWarning: Data Validation extension is not supported and will be removed\n",
      "  warn(msg)\n",
      "C:\\Users\\redda\\AppData\\Roaming\\Python\\Python311\\site-packages\\openpyxl\\worksheet\\_reader.py:329: UserWarning: Data Validation extension is not supported and will be removed\n",
      "  warn(msg)\n"
     ]
    },
    {
     "name": "stdout",
     "output_type": "stream",
     "text": [
      "发票模板\\发票模板-武汉开先文化用品有限责任公司-SO-2024-02-0947.xlsx\n",
      "发票模板\\发票模板-河南抬头喜办公用品有限公司S-SO-2024-02-0948.xlsx\n"
     ]
    },
    {
     "name": "stderr",
     "output_type": "stream",
     "text": [
      "C:\\Users\\redda\\AppData\\Roaming\\Python\\Python311\\site-packages\\openpyxl\\worksheet\\_reader.py:329: UserWarning: Data Validation extension is not supported and will be removed\n",
      "  warn(msg)\n",
      "C:\\Users\\redda\\AppData\\Roaming\\Python\\Python311\\site-packages\\openpyxl\\worksheet\\_reader.py:329: UserWarning: Data Validation extension is not supported and will be removed\n",
      "  warn(msg)\n"
     ]
    },
    {
     "name": "stdout",
     "output_type": "stream",
     "text": [
      "发票模板\\发票模板-湖北昇耀商贸有限公司-SO-2024-02-0949.xlsx\n",
      "发票模板\\发票模板-昆明市官渡区林林林文体用品经营部-SO-2024-02-0950.xlsx\n"
     ]
    },
    {
     "name": "stderr",
     "output_type": "stream",
     "text": [
      "C:\\Users\\redda\\AppData\\Roaming\\Python\\Python311\\site-packages\\openpyxl\\worksheet\\_reader.py:329: UserWarning: Data Validation extension is not supported and will be removed\n",
      "  warn(msg)\n",
      "C:\\Users\\redda\\AppData\\Roaming\\Python\\Python311\\site-packages\\openpyxl\\worksheet\\_reader.py:329: UserWarning: Data Validation extension is not supported and will be removed\n",
      "  warn(msg)\n"
     ]
    },
    {
     "name": "stdout",
     "output_type": "stream",
     "text": [
      "发票模板\\发票模板-武汉金胜辉商贸有限公司-SO-2024-02-0951.xlsx\n",
      "发票模板\\发票模板-武汉市热脉文体用品有限公司-SO-2024-02-0952.xlsx\n"
     ]
    },
    {
     "name": "stderr",
     "output_type": "stream",
     "text": [
      "C:\\Users\\redda\\AppData\\Roaming\\Python\\Python311\\site-packages\\openpyxl\\worksheet\\_reader.py:329: UserWarning: Data Validation extension is not supported and will be removed\n",
      "  warn(msg)\n",
      "C:\\Users\\redda\\AppData\\Roaming\\Python\\Python311\\site-packages\\openpyxl\\worksheet\\_reader.py:329: UserWarning: Data Validation extension is not supported and will be removed\n",
      "  warn(msg)\n"
     ]
    },
    {
     "name": "stdout",
     "output_type": "stream",
     "text": [
      "发票模板\\发票模板-河南抬头喜办公用品有限公司S-SO-2024-02-0953.xlsx\n",
      "发票模板\\发票模板-安庆新联文化科技有限公司-SO-2024-02-0954.xlsx\n"
     ]
    },
    {
     "name": "stderr",
     "output_type": "stream",
     "text": [
      "C:\\Users\\redda\\AppData\\Roaming\\Python\\Python311\\site-packages\\openpyxl\\worksheet\\_reader.py:329: UserWarning: Data Validation extension is not supported and will be removed\n",
      "  warn(msg)\n",
      "C:\\Users\\redda\\AppData\\Roaming\\Python\\Python311\\site-packages\\openpyxl\\worksheet\\_reader.py:329: UserWarning: Data Validation extension is not supported and will be removed\n",
      "  warn(msg)\n"
     ]
    },
    {
     "name": "stdout",
     "output_type": "stream",
     "text": [
      "发票模板\\发票模板-河南抬头喜办公用品有限公司S-SO-2024-02-0955.xlsx\n",
      "发票模板\\发票模板-长沙市雨花区文丰文具商行-SO-2024-02-0956.xlsx\n"
     ]
    },
    {
     "name": "stderr",
     "output_type": "stream",
     "text": [
      "C:\\Users\\redda\\AppData\\Roaming\\Python\\Python311\\site-packages\\openpyxl\\worksheet\\_reader.py:329: UserWarning: Data Validation extension is not supported and will be removed\n",
      "  warn(msg)\n",
      "C:\\Users\\redda\\AppData\\Roaming\\Python\\Python311\\site-packages\\openpyxl\\worksheet\\_reader.py:329: UserWarning: Data Validation extension is not supported and will be removed\n",
      "  warn(msg)\n"
     ]
    },
    {
     "name": "stdout",
     "output_type": "stream",
     "text": [
      "发票模板\\发票模板-石家庄本米文具用品销售有限公司-SO-2024-02-0957.xlsx\n",
      "发票模板\\发票模板-江西华兆昌商贸有限公司-SO-2024-02-0958.xlsx\n"
     ]
    },
    {
     "name": "stderr",
     "output_type": "stream",
     "text": [
      "C:\\Users\\redda\\AppData\\Roaming\\Python\\Python311\\site-packages\\openpyxl\\worksheet\\_reader.py:329: UserWarning: Data Validation extension is not supported and will be removed\n",
      "  warn(msg)\n",
      "C:\\Users\\redda\\AppData\\Roaming\\Python\\Python311\\site-packages\\openpyxl\\worksheet\\_reader.py:329: UserWarning: Data Validation extension is not supported and will be removed\n",
      "  warn(msg)\n"
     ]
    },
    {
     "name": "stdout",
     "output_type": "stream",
     "text": [
      "发票模板\\发票模板-江西华兆昌商贸有限公司-SO-2024-02-0959.xlsx\n",
      "发票模板\\发票模板-武汉金宸翰办公用品有限公司1-SO-2024-02-0960.xlsx\n"
     ]
    },
    {
     "name": "stderr",
     "output_type": "stream",
     "text": [
      "C:\\Users\\redda\\AppData\\Roaming\\Python\\Python311\\site-packages\\openpyxl\\worksheet\\_reader.py:329: UserWarning: Data Validation extension is not supported and will be removed\n",
      "  warn(msg)\n"
     ]
    },
    {
     "name": "stdout",
     "output_type": "stream",
     "text": [
      "发票模板\\发票模板-武汉米圣贸易有限公司-SO-2024-02-0961.xlsx\n"
     ]
    },
    {
     "name": "stderr",
     "output_type": "stream",
     "text": [
      "C:\\Users\\redda\\AppData\\Roaming\\Python\\Python311\\site-packages\\openpyxl\\worksheet\\_reader.py:329: UserWarning: Data Validation extension is not supported and will be removed\n",
      "  warn(msg)\n",
      "C:\\Users\\redda\\AppData\\Roaming\\Python\\Python311\\site-packages\\openpyxl\\worksheet\\_reader.py:329: UserWarning: Data Validation extension is not supported and will be removed\n",
      "  warn(msg)\n"
     ]
    },
    {
     "name": "stdout",
     "output_type": "stream",
     "text": [
      "发票模板\\发票模板-武汉市热脉文体用品有限公司-SO-2024-02-0962.xlsx\n",
      "发票模板\\发票模板-武汉金胜辉商贸有限公司-SO-2024-02-0963.xlsx\n"
     ]
    },
    {
     "name": "stderr",
     "output_type": "stream",
     "text": [
      "C:\\Users\\redda\\AppData\\Roaming\\Python\\Python311\\site-packages\\openpyxl\\worksheet\\_reader.py:329: UserWarning: Data Validation extension is not supported and will be removed\n",
      "  warn(msg)\n",
      "C:\\Users\\redda\\AppData\\Roaming\\Python\\Python311\\site-packages\\openpyxl\\worksheet\\_reader.py:329: UserWarning: Data Validation extension is not supported and will be removed\n",
      "  warn(msg)\n"
     ]
    },
    {
     "name": "stdout",
     "output_type": "stream",
     "text": [
      "发票模板\\发票模板-武汉开先文化用品有限责任公司-SO-2024-02-0964.xlsx\n",
      "发票模板\\发票模板-武汉嘉迪亚商贸有限公司-SO-2024-02-0965.xlsx\n"
     ]
    },
    {
     "name": "stderr",
     "output_type": "stream",
     "text": [
      "C:\\Users\\redda\\AppData\\Roaming\\Python\\Python311\\site-packages\\openpyxl\\worksheet\\_reader.py:329: UserWarning: Data Validation extension is not supported and will be removed\n",
      "  warn(msg)\n",
      "C:\\Users\\redda\\AppData\\Roaming\\Python\\Python311\\site-packages\\openpyxl\\worksheet\\_reader.py:329: UserWarning: Data Validation extension is not supported and will be removed\n",
      "  warn(msg)\n"
     ]
    },
    {
     "name": "stdout",
     "output_type": "stream",
     "text": [
      "发票模板\\发票模板-湖北昇耀商贸有限公司-SO-2024-02-0966.xlsx\n",
      "发票模板\\发票模板-武汉金胜辉商贸有限公司-SO-2024-02-0967.xlsx\n"
     ]
    },
    {
     "name": "stderr",
     "output_type": "stream",
     "text": [
      "C:\\Users\\redda\\AppData\\Roaming\\Python\\Python311\\site-packages\\openpyxl\\worksheet\\_reader.py:329: UserWarning: Data Validation extension is not supported and will be removed\n",
      "  warn(msg)\n",
      "C:\\Users\\redda\\AppData\\Roaming\\Python\\Python311\\site-packages\\openpyxl\\worksheet\\_reader.py:329: UserWarning: Data Validation extension is not supported and will be removed\n",
      "  warn(msg)\n"
     ]
    },
    {
     "name": "stdout",
     "output_type": "stream",
     "text": [
      "发票模板\\发票模板-湖北昇耀商贸有限公司-SO-2024-02-0968.xlsx\n",
      "发票模板\\发票模板-武汉米圣贸易有限公司-SO-2024-02-0969.xlsx\n"
     ]
    },
    {
     "name": "stderr",
     "output_type": "stream",
     "text": [
      "C:\\Users\\redda\\AppData\\Roaming\\Python\\Python311\\site-packages\\openpyxl\\worksheet\\_reader.py:329: UserWarning: Data Validation extension is not supported and will be removed\n",
      "  warn(msg)\n",
      "C:\\Users\\redda\\AppData\\Roaming\\Python\\Python311\\site-packages\\openpyxl\\worksheet\\_reader.py:329: UserWarning: Data Validation extension is not supported and will be removed\n",
      "  warn(msg)\n"
     ]
    },
    {
     "name": "stdout",
     "output_type": "stream",
     "text": [
      "发票模板\\发票模板-河南抬头喜办公用品有限公司S-SO-2024-02-0970.xlsx\n",
      "发票模板\\发票模板-河南抬头喜办公用品有限公司S-SO-2024-02-0971.xlsx\n"
     ]
    },
    {
     "name": "stderr",
     "output_type": "stream",
     "text": [
      "C:\\Users\\redda\\AppData\\Roaming\\Python\\Python311\\site-packages\\openpyxl\\worksheet\\_reader.py:329: UserWarning: Data Validation extension is not supported and will be removed\n",
      "  warn(msg)\n",
      "C:\\Users\\redda\\AppData\\Roaming\\Python\\Python311\\site-packages\\openpyxl\\worksheet\\_reader.py:329: UserWarning: Data Validation extension is not supported and will be removed\n",
      "  warn(msg)\n"
     ]
    },
    {
     "name": "stdout",
     "output_type": "stream",
     "text": [
      "发票模板\\发票模板-天津市友旺商贸有限公司-SO-2024-02-0972.xlsx\n",
      "发票模板\\发票模板-保定市恒超文化用品有限公司-SO-2024-02-0973.xlsx\n"
     ]
    },
    {
     "name": "stderr",
     "output_type": "stream",
     "text": [
      "C:\\Users\\redda\\AppData\\Roaming\\Python\\Python311\\site-packages\\openpyxl\\worksheet\\_reader.py:329: UserWarning: Data Validation extension is not supported and will be removed\n",
      "  warn(msg)\n"
     ]
    },
    {
     "name": "stdout",
     "output_type": "stream",
     "text": [
      "发票模板\\发票模板-太原达富强商贸有限公司-SO-2024-02-0974.xlsx\n",
      "发票模板\\发票模板-泸州佳之彩商贸有限公司-SO-2024-02-0975.xlsx\n"
     ]
    },
    {
     "name": "stderr",
     "output_type": "stream",
     "text": [
      "C:\\Users\\redda\\AppData\\Roaming\\Python\\Python311\\site-packages\\openpyxl\\worksheet\\_reader.py:329: UserWarning: Data Validation extension is not supported and will be removed\n",
      "  warn(msg)\n",
      "C:\\Users\\redda\\AppData\\Roaming\\Python\\Python311\\site-packages\\openpyxl\\worksheet\\_reader.py:329: UserWarning: Data Validation extension is not supported and will be removed\n",
      "  warn(msg)\n"
     ]
    },
    {
     "name": "stdout",
     "output_type": "stream",
     "text": [
      "发票模板\\发票模板-成都杨万平-SO-2024-02-0976.xlsx\n",
      "发票模板\\发票模板-安康市申达文化用品有限公司L-SO-2024-02-0977.xlsx\n"
     ]
    },
    {
     "name": "stderr",
     "output_type": "stream",
     "text": [
      "C:\\Users\\redda\\AppData\\Roaming\\Python\\Python311\\site-packages\\openpyxl\\worksheet\\_reader.py:329: UserWarning: Data Validation extension is not supported and will be removed\n",
      "  warn(msg)\n",
      "C:\\Users\\redda\\AppData\\Roaming\\Python\\Python311\\site-packages\\openpyxl\\worksheet\\_reader.py:329: UserWarning: Data Validation extension is not supported and will be removed\n",
      "  warn(msg)\n"
     ]
    },
    {
     "name": "stdout",
     "output_type": "stream",
     "text": [
      "发票模板\\发票模板-昆明舍礼麦商贸有限公司S-SO-2024-02-0978.xlsx\n",
      "发票模板\\发票模板-哈尔滨市新天地文化用品有限公司-SO-2024-02-0979.xlsx\n"
     ]
    },
    {
     "name": "stderr",
     "output_type": "stream",
     "text": [
      "C:\\Users\\redda\\AppData\\Roaming\\Python\\Python311\\site-packages\\openpyxl\\worksheet\\_reader.py:329: UserWarning: Data Validation extension is not supported and will be removed\n",
      "  warn(msg)\n",
      "C:\\Users\\redda\\AppData\\Roaming\\Python\\Python311\\site-packages\\openpyxl\\worksheet\\_reader.py:329: UserWarning: Data Validation extension is not supported and will be removed\n",
      "  warn(msg)\n"
     ]
    },
    {
     "name": "stdout",
     "output_type": "stream",
     "text": [
      "发票模板\\发票模板-河南抬头喜办公用品有限公司S-SO-2024-02-0980.xlsx\n",
      "发票模板\\发票模板-云南非常文化用品有限公司-SO-2024-02-0981.xlsx\n"
     ]
    },
    {
     "name": "stderr",
     "output_type": "stream",
     "text": [
      "C:\\Users\\redda\\AppData\\Roaming\\Python\\Python311\\site-packages\\openpyxl\\worksheet\\_reader.py:329: UserWarning: Data Validation extension is not supported and will be removed\n",
      "  warn(msg)\n",
      "C:\\Users\\redda\\AppData\\Roaming\\Python\\Python311\\site-packages\\openpyxl\\worksheet\\_reader.py:329: UserWarning: Data Validation extension is not supported and will be removed\n",
      "  warn(msg)\n"
     ]
    },
    {
     "name": "stdout",
     "output_type": "stream",
     "text": [
      "发票模板\\发票模板-遵义王强-SO-2024-02-0982.xlsx\n"
     ]
    },
    {
     "name": "stderr",
     "output_type": "stream",
     "text": [
      "C:\\Users\\redda\\AppData\\Roaming\\Python\\Python311\\site-packages\\openpyxl\\worksheet\\_reader.py:329: UserWarning: Data Validation extension is not supported and will be removed\n",
      "  warn(msg)\n",
      "C:\\Users\\redda\\AppData\\Roaming\\Python\\Python311\\site-packages\\openpyxl\\worksheet\\_reader.py:329: UserWarning: Data Validation extension is not supported and will be removed\n",
      "  warn(msg)\n"
     ]
    },
    {
     "name": "stdout",
     "output_type": "stream",
     "text": [
      "发票模板\\发票模板-龙岩连卫中-SO-2024-02-0983.xlsx\n",
      "发票模板\\发票模板-涵江徐东明-SO-2024-02-0984.xlsx\n"
     ]
    },
    {
     "name": "stderr",
     "output_type": "stream",
     "text": [
      "C:\\Users\\redda\\AppData\\Roaming\\Python\\Python311\\site-packages\\openpyxl\\worksheet\\_reader.py:329: UserWarning: Data Validation extension is not supported and will be removed\n",
      "  warn(msg)\n",
      "C:\\Users\\redda\\AppData\\Roaming\\Python\\Python311\\site-packages\\openpyxl\\worksheet\\_reader.py:329: UserWarning: Data Validation extension is not supported and will be removed\n",
      "  warn(msg)\n"
     ]
    },
    {
     "name": "stdout",
     "output_type": "stream",
     "text": [
      "发票模板\\发票模板-江西立信办公商贸有限公司-SO-2024-02-0985.xlsx\n",
      "发票模板\\发票模板-广西桂林利华电子科技有限公司-SO-2024-02-0986.xlsx\n"
     ]
    },
    {
     "name": "stderr",
     "output_type": "stream",
     "text": [
      "C:\\Users\\redda\\AppData\\Roaming\\Python\\Python311\\site-packages\\openpyxl\\worksheet\\_reader.py:329: UserWarning: Data Validation extension is not supported and will be removed\n",
      "  warn(msg)\n",
      "C:\\Users\\redda\\AppData\\Roaming\\Python\\Python311\\site-packages\\openpyxl\\worksheet\\_reader.py:329: UserWarning: Data Validation extension is not supported and will be removed\n",
      "  warn(msg)\n"
     ]
    },
    {
     "name": "stdout",
     "output_type": "stream",
     "text": [
      "发票模板\\发票模板-广西首平文具有限公司-SO-2024-02-0987.xlsx\n",
      "发票模板\\发票模板-梧州余加杰-SO-2024-02-0988.xlsx\n"
     ]
    },
    {
     "name": "stderr",
     "output_type": "stream",
     "text": [
      "C:\\Users\\redda\\AppData\\Roaming\\Python\\Python311\\site-packages\\openpyxl\\worksheet\\_reader.py:329: UserWarning: Data Validation extension is not supported and will be removed\n",
      "  warn(msg)\n",
      "C:\\Users\\redda\\AppData\\Roaming\\Python\\Python311\\site-packages\\openpyxl\\worksheet\\_reader.py:329: UserWarning: Data Validation extension is not supported and will be removed\n",
      "  warn(msg)\n"
     ]
    },
    {
     "name": "stdout",
     "output_type": "stream",
     "text": [
      "发票模板\\发票模板-遵义王强-SO-2024-02-0989.xlsx\n",
      "发票模板\\发票模板-义乌市博迅文体用品有限公司-SO-2024-02-0990.xlsx\n"
     ]
    },
    {
     "name": "stderr",
     "output_type": "stream",
     "text": [
      "C:\\Users\\redda\\AppData\\Roaming\\Python\\Python311\\site-packages\\openpyxl\\worksheet\\_reader.py:329: UserWarning: Data Validation extension is not supported and will be removed\n",
      "  warn(msg)\n",
      "C:\\Users\\redda\\AppData\\Roaming\\Python\\Python311\\site-packages\\openpyxl\\worksheet\\_reader.py:329: UserWarning: Data Validation extension is not supported and will be removed\n",
      "  warn(msg)\n"
     ]
    },
    {
     "name": "stdout",
     "output_type": "stream",
     "text": [
      "发票模板\\发票模板-无锡金可益商贸有限公司-SO-2024-02-0991.xlsx\n",
      "发票模板\\发票模板-武汉市齐达利商贸有限公司-SO-2024-02-0992.xlsx\n"
     ]
    },
    {
     "name": "stderr",
     "output_type": "stream",
     "text": [
      "C:\\Users\\redda\\AppData\\Roaming\\Python\\Python311\\site-packages\\openpyxl\\worksheet\\_reader.py:329: UserWarning: Data Validation extension is not supported and will be removed\n",
      "  warn(msg)\n",
      "C:\\Users\\redda\\AppData\\Roaming\\Python\\Python311\\site-packages\\openpyxl\\worksheet\\_reader.py:329: UserWarning: Data Validation extension is not supported and will be removed\n",
      "  warn(msg)\n"
     ]
    },
    {
     "name": "stdout",
     "output_type": "stream",
     "text": [
      "发票模板\\发票模板-武汉今日成纸业有限公司-SO-2024-02-0993.xlsx\n",
      "发票模板\\发票模板-武汉米圣贸易有限公司-SO-2024-02-0994.xlsx\n"
     ]
    },
    {
     "name": "stderr",
     "output_type": "stream",
     "text": [
      "C:\\Users\\redda\\AppData\\Roaming\\Python\\Python311\\site-packages\\openpyxl\\worksheet\\_reader.py:329: UserWarning: Data Validation extension is not supported and will be removed\n",
      "  warn(msg)\n",
      "C:\\Users\\redda\\AppData\\Roaming\\Python\\Python311\\site-packages\\openpyxl\\worksheet\\_reader.py:329: UserWarning: Data Validation extension is not supported and will be removed\n",
      "  warn(msg)\n"
     ]
    },
    {
     "name": "stdout",
     "output_type": "stream",
     "text": [
      "发票模板\\发票模板-武汉中威百联商贸有限公司-SO-2024-02-0995.xlsx\n",
      "发票模板\\发票模板-武汉邦度办公文具有限公司-SO-2024-02-0996.xlsx\n",
      "发票模板\\发票模板-武汉开先文化用品有限责任公司-SO-2024-02-0997.xlsx\n"
     ]
    },
    {
     "name": "stderr",
     "output_type": "stream",
     "text": [
      "C:\\Users\\redda\\AppData\\Roaming\\Python\\Python311\\site-packages\\openpyxl\\worksheet\\_reader.py:329: UserWarning: Data Validation extension is not supported and will be removed\n",
      "  warn(msg)\n",
      "C:\\Users\\redda\\AppData\\Roaming\\Python\\Python311\\site-packages\\openpyxl\\worksheet\\_reader.py:329: UserWarning: Data Validation extension is not supported and will be removed\n",
      "  warn(msg)\n",
      "C:\\Users\\redda\\AppData\\Roaming\\Python\\Python311\\site-packages\\openpyxl\\worksheet\\_reader.py:329: UserWarning: Data Validation extension is not supported and will be removed\n",
      "  warn(msg)\n"
     ]
    },
    {
     "name": "stdout",
     "output_type": "stream",
     "text": [
      "发票模板\\发票模板-武汉嘉迪亚商贸有限公司-SO-2024-02-0998.xlsx\n",
      "发票模板\\发票模板-武汉开先文化用品有限责任公司-SO-2024-02-0999.xlsx\n"
     ]
    },
    {
     "name": "stderr",
     "output_type": "stream",
     "text": [
      "C:\\Users\\redda\\AppData\\Roaming\\Python\\Python311\\site-packages\\openpyxl\\worksheet\\_reader.py:329: UserWarning: Data Validation extension is not supported and will be removed\n",
      "  warn(msg)\n",
      "C:\\Users\\redda\\AppData\\Roaming\\Python\\Python311\\site-packages\\openpyxl\\worksheet\\_reader.py:329: UserWarning: Data Validation extension is not supported and will be removed\n",
      "  warn(msg)\n"
     ]
    },
    {
     "name": "stdout",
     "output_type": "stream",
     "text": [
      "发票模板\\发票模板-河南抬头喜办公用品有限公司S-SO-2024-02-1000.xlsx\n",
      "发票模板\\发票模板-深圳市一晨科技有限公司-SO-2024-02-1001.xlsx\n"
     ]
    },
    {
     "name": "stderr",
     "output_type": "stream",
     "text": [
      "C:\\Users\\redda\\AppData\\Roaming\\Python\\Python311\\site-packages\\openpyxl\\worksheet\\_reader.py:329: UserWarning: Data Validation extension is not supported and will be removed\n",
      "  warn(msg)\n",
      "C:\\Users\\redda\\AppData\\Roaming\\Python\\Python311\\site-packages\\openpyxl\\worksheet\\_reader.py:329: UserWarning: Data Validation extension is not supported and will be removed\n",
      "  warn(msg)\n"
     ]
    },
    {
     "name": "stdout",
     "output_type": "stream",
     "text": [
      "发票模板\\发票模板-广东盛泰档案用品有限公司-SO-2024-02-1002.xlsx\n",
      "发票模板\\发票模板-福州繁隆贸易有限公司-SO-2024-02-1003.xlsx\n"
     ]
    },
    {
     "name": "stderr",
     "output_type": "stream",
     "text": [
      "C:\\Users\\redda\\AppData\\Roaming\\Python\\Python311\\site-packages\\openpyxl\\worksheet\\_reader.py:329: UserWarning: Data Validation extension is not supported and will be removed\n",
      "  warn(msg)\n"
     ]
    },
    {
     "name": "stdout",
     "output_type": "stream",
     "text": [
      "发票模板\\发票模板-成都迪欣杨商贸有限公司-SO-2024-02-1004.xlsx\n",
      "发票模板\\发票模板-泸州佳之彩商贸有限公司-SO-2024-02-1005.xlsx\n"
     ]
    },
    {
     "name": "stderr",
     "output_type": "stream",
     "text": [
      "C:\\Users\\redda\\AppData\\Roaming\\Python\\Python311\\site-packages\\openpyxl\\worksheet\\_reader.py:329: UserWarning: Data Validation extension is not supported and will be removed\n",
      "  warn(msg)\n",
      "C:\\Users\\redda\\AppData\\Roaming\\Python\\Python311\\site-packages\\openpyxl\\worksheet\\_reader.py:329: UserWarning: Data Validation extension is not supported and will be removed\n",
      "  warn(msg)\n"
     ]
    },
    {
     "name": "stdout",
     "output_type": "stream",
     "text": [
      "发票模板\\发票模板-长沙市雨花区文丰文具商行-SO-2024-02-1006.xlsx\n",
      "发票模板\\发票模板-吉林耐斯商贸有限公司-SO-2024-02-1007.xlsx\n"
     ]
    },
    {
     "name": "stderr",
     "output_type": "stream",
     "text": [
      "C:\\Users\\redda\\AppData\\Roaming\\Python\\Python311\\site-packages\\openpyxl\\worksheet\\_reader.py:329: UserWarning: Data Validation extension is not supported and will be removed\n",
      "  warn(msg)\n",
      "C:\\Users\\redda\\AppData\\Roaming\\Python\\Python311\\site-packages\\openpyxl\\worksheet\\_reader.py:329: UserWarning: Data Validation extension is not supported and will be removed\n",
      "  warn(msg)\n"
     ]
    },
    {
     "name": "stdout",
     "output_type": "stream",
     "text": [
      "发票模板\\发票模板-河南抬头喜办公用品有限公司S-SO-2024-02-1008.xlsx\n"
     ]
    },
    {
     "name": "stderr",
     "output_type": "stream",
     "text": [
      "C:\\Users\\redda\\AppData\\Roaming\\Python\\Python311\\site-packages\\openpyxl\\worksheet\\_reader.py:329: UserWarning: Data Validation extension is not supported and will be removed\n",
      "  warn(msg)\n",
      "C:\\Users\\redda\\AppData\\Roaming\\Python\\Python311\\site-packages\\openpyxl\\worksheet\\_reader.py:329: UserWarning: Data Validation extension is not supported and will be removed\n",
      "  warn(msg)\n"
     ]
    },
    {
     "name": "stdout",
     "output_type": "stream",
     "text": [
      "发票模板\\发票模板-长沙市东麦文化有限公司-SO-2024-02-1009.xlsx\n",
      "发票模板\\发票模板-桂林竞升文化用品有限公司-SO-2024-02-1010.xlsx\n"
     ]
    },
    {
     "name": "stderr",
     "output_type": "stream",
     "text": [
      "C:\\Users\\redda\\AppData\\Roaming\\Python\\Python311\\site-packages\\openpyxl\\worksheet\\_reader.py:329: UserWarning: Data Validation extension is not supported and will be removed\n",
      "  warn(msg)\n",
      "C:\\Users\\redda\\AppData\\Roaming\\Python\\Python311\\site-packages\\openpyxl\\worksheet\\_reader.py:329: UserWarning: Data Validation extension is not supported and will be removed\n",
      "  warn(msg)\n"
     ]
    },
    {
     "name": "stdout",
     "output_type": "stream",
     "text": [
      "发票模板\\发票模板-广西桂林利华电子科技有限公司-SO-2024-02-1011.xlsx\n",
      "发票模板\\发票模板-武汉静静舒文体用品有限公司-SO-2024-02-1012.xlsx\n"
     ]
    },
    {
     "name": "stderr",
     "output_type": "stream",
     "text": [
      "C:\\Users\\redda\\AppData\\Roaming\\Python\\Python311\\site-packages\\openpyxl\\worksheet\\_reader.py:329: UserWarning: Data Validation extension is not supported and will be removed\n",
      "  warn(msg)\n",
      "C:\\Users\\redda\\AppData\\Roaming\\Python\\Python311\\site-packages\\openpyxl\\worksheet\\_reader.py:329: UserWarning: Data Validation extension is not supported and will be removed\n",
      "  warn(msg)\n"
     ]
    },
    {
     "name": "stdout",
     "output_type": "stream",
     "text": [
      "发票模板\\发票模板-武汉市热脉文体用品有限公司-SO-2024-02-1013.xlsx\n",
      "发票模板\\发票模板-沈阳贾术申-SO-2024-02-1014.xlsx\n"
     ]
    },
    {
     "name": "stderr",
     "output_type": "stream",
     "text": [
      "C:\\Users\\redda\\AppData\\Roaming\\Python\\Python311\\site-packages\\openpyxl\\worksheet\\_reader.py:329: UserWarning: Data Validation extension is not supported and will be removed\n",
      "  warn(msg)\n",
      "C:\\Users\\redda\\AppData\\Roaming\\Python\\Python311\\site-packages\\openpyxl\\worksheet\\_reader.py:329: UserWarning: Data Validation extension is not supported and will be removed\n",
      "  warn(msg)\n"
     ]
    },
    {
     "name": "stdout",
     "output_type": "stream",
     "text": [
      "发票模板\\发票模板-常州亚龙办公用品有限公司-SO-2024-02-1015.xlsx\n",
      "发票模板\\发票模板-遵义王强-SO-2024-02-1016.xlsx\n"
     ]
    },
    {
     "name": "stderr",
     "output_type": "stream",
     "text": [
      "C:\\Users\\redda\\AppData\\Roaming\\Python\\Python311\\site-packages\\openpyxl\\worksheet\\_reader.py:329: UserWarning: Data Validation extension is not supported and will be removed\n",
      "  warn(msg)\n",
      "C:\\Users\\redda\\AppData\\Roaming\\Python\\Python311\\site-packages\\openpyxl\\worksheet\\_reader.py:329: UserWarning: Data Validation extension is not supported and will be removed\n",
      "  warn(msg)\n"
     ]
    },
    {
     "name": "stdout",
     "output_type": "stream",
     "text": [
      "发票模板\\发票模板-湖北盛辉物流有限公司-SO-2024-02-1017.xlsx\n",
      "发票模板\\发票模板-湖北昇耀商贸有限公司-SO-2024-02-1018.xlsx\n"
     ]
    },
    {
     "name": "stderr",
     "output_type": "stream",
     "text": [
      "C:\\Users\\redda\\AppData\\Roaming\\Python\\Python311\\site-packages\\openpyxl\\worksheet\\_reader.py:329: UserWarning: Data Validation extension is not supported and will be removed\n",
      "  warn(msg)\n",
      "C:\\Users\\redda\\AppData\\Roaming\\Python\\Python311\\site-packages\\openpyxl\\worksheet\\_reader.py:329: UserWarning: Data Validation extension is not supported and will be removed\n",
      "  warn(msg)\n"
     ]
    },
    {
     "name": "stdout",
     "output_type": "stream",
     "text": [
      "发票模板\\发票模板-武汉乐得电子商务有限公司L-SO-2024-02-1019.xlsx\n",
      "发票模板\\发票模板-河南梓亦桐商贸有限公司-SO-2024-02-1020.xlsx\n"
     ]
    },
    {
     "name": "stderr",
     "output_type": "stream",
     "text": [
      "C:\\Users\\redda\\AppData\\Roaming\\Python\\Python311\\site-packages\\openpyxl\\worksheet\\_reader.py:329: UserWarning: Data Validation extension is not supported and will be removed\n",
      "  warn(msg)\n",
      "C:\\Users\\redda\\AppData\\Roaming\\Python\\Python311\\site-packages\\openpyxl\\worksheet\\_reader.py:329: UserWarning: Data Validation extension is not supported and will be removed\n",
      "  warn(msg)\n"
     ]
    },
    {
     "name": "stdout",
     "output_type": "stream",
     "text": [
      "发票模板\\发票模板-四川渝泰企业管理咨询有限公司-SO-2024-02-1021.xlsx\n",
      "发票模板\\发票模板-河南抬头喜办公用品有限公司S-SO-2024-02-1022.xlsx\n"
     ]
    },
    {
     "name": "stderr",
     "output_type": "stream",
     "text": [
      "C:\\Users\\redda\\AppData\\Roaming\\Python\\Python311\\site-packages\\openpyxl\\worksheet\\_reader.py:329: UserWarning: Data Validation extension is not supported and will be removed\n",
      "  warn(msg)\n",
      "C:\\Users\\redda\\AppData\\Roaming\\Python\\Python311\\site-packages\\openpyxl\\worksheet\\_reader.py:329: UserWarning: Data Validation extension is not supported and will be removed\n",
      "  warn(msg)\n"
     ]
    },
    {
     "name": "stdout",
     "output_type": "stream",
     "text": [
      "发票模板\\发票模板-成都乐尚怡智商贸有限公司-SO-2024-02-1023.xlsx\n",
      "发票模板\\发票模板-昆明八龙商贸有限公司-SO-2024-02-1024.xlsx\n"
     ]
    },
    {
     "name": "stderr",
     "output_type": "stream",
     "text": [
      "C:\\Users\\redda\\AppData\\Roaming\\Python\\Python311\\site-packages\\openpyxl\\worksheet\\_reader.py:329: UserWarning: Data Validation extension is not supported and will be removed\n",
      "  warn(msg)\n"
     ]
    },
    {
     "name": "stdout",
     "output_type": "stream",
     "text": [
      "发票模板\\发票模板-重庆文优文化用品有限公司-SO-2024-02-1025.xlsx\n"
     ]
    },
    {
     "name": "stderr",
     "output_type": "stream",
     "text": [
      "C:\\Users\\redda\\AppData\\Roaming\\Python\\Python311\\site-packages\\openpyxl\\worksheet\\_reader.py:329: UserWarning: Data Validation extension is not supported and will be removed\n",
      "  warn(msg)\n",
      "C:\\Users\\redda\\AppData\\Roaming\\Python\\Python311\\site-packages\\openpyxl\\worksheet\\_reader.py:329: UserWarning: Data Validation extension is not supported and will be removed\n",
      "  warn(msg)\n"
     ]
    },
    {
     "name": "stdout",
     "output_type": "stream",
     "text": [
      "发票模板\\发票模板-武汉优聚优品贸易有限公司-SO-2024-02-1026.xlsx\n",
      "发票模板\\发票模板-品壹佰河北商贸有限公司-SO-2024-02-1027.xlsx\n"
     ]
    },
    {
     "name": "stderr",
     "output_type": "stream",
     "text": [
      "C:\\Users\\redda\\AppData\\Roaming\\Python\\Python311\\site-packages\\openpyxl\\worksheet\\_reader.py:329: UserWarning: Data Validation extension is not supported and will be removed\n",
      "  warn(msg)\n",
      "C:\\Users\\redda\\AppData\\Roaming\\Python\\Python311\\site-packages\\openpyxl\\worksheet\\_reader.py:329: UserWarning: Data Validation extension is not supported and will be removed\n",
      "  warn(msg)\n"
     ]
    },
    {
     "name": "stdout",
     "output_type": "stream",
     "text": [
      "发票模板\\发票模板-南宁市小木屋文化用品有限公司-SO-2024-02-1028.xlsx\n",
      "发票模板\\发票模板-武汉金宸翰办公用品有限公司-SO-2024-02-1029.xlsx\n"
     ]
    },
    {
     "name": "stderr",
     "output_type": "stream",
     "text": [
      "C:\\Users\\redda\\AppData\\Roaming\\Python\\Python311\\site-packages\\openpyxl\\worksheet\\_reader.py:329: UserWarning: Data Validation extension is not supported and will be removed\n",
      "  warn(msg)\n",
      "C:\\Users\\redda\\AppData\\Roaming\\Python\\Python311\\site-packages\\openpyxl\\worksheet\\_reader.py:329: UserWarning: Data Validation extension is not supported and will be removed\n",
      "  warn(msg)\n"
     ]
    },
    {
     "name": "stdout",
     "output_type": "stream",
     "text": [
      "发票模板\\发票模板-唐山市文一商贸有限公司-SO-2024-02-1030.xlsx\n",
      "发票模板\\发票模板-河南抬头喜办公用品有限公司S-SO-2024-02-1031.xlsx\n"
     ]
    },
    {
     "name": "stderr",
     "output_type": "stream",
     "text": [
      "C:\\Users\\redda\\AppData\\Roaming\\Python\\Python311\\site-packages\\openpyxl\\worksheet\\_reader.py:329: UserWarning: Data Validation extension is not supported and will be removed\n",
      "  warn(msg)\n",
      "C:\\Users\\redda\\AppData\\Roaming\\Python\\Python311\\site-packages\\openpyxl\\worksheet\\_reader.py:329: UserWarning: Data Validation extension is not supported and will be removed\n",
      "  warn(msg)\n"
     ]
    },
    {
     "name": "stdout",
     "output_type": "stream",
     "text": [
      "发票模板\\发票模板-西安百花工贸有限公司-SO-2024-02-1032.xlsx\n",
      "发票模板\\发票模板-武汉嘉迪亚商贸有限公司-SO-2024-02-1033.xlsx\n"
     ]
    },
    {
     "name": "stderr",
     "output_type": "stream",
     "text": [
      "C:\\Users\\redda\\AppData\\Roaming\\Python\\Python311\\site-packages\\openpyxl\\worksheet\\_reader.py:329: UserWarning: Data Validation extension is not supported and will be removed\n",
      "  warn(msg)\n",
      "C:\\Users\\redda\\AppData\\Roaming\\Python\\Python311\\site-packages\\openpyxl\\worksheet\\_reader.py:329: UserWarning: Data Validation extension is not supported and will be removed\n",
      "  warn(msg)\n"
     ]
    },
    {
     "name": "stdout",
     "output_type": "stream",
     "text": [
      "发票模板\\发票模板-西安百花工贸有限公司-SO-2024-02-1034.xlsx\n",
      "发票模板\\发票模板-河南抬头喜办公用品有限公司S-SO-2024-02-1035.xlsx\n"
     ]
    },
    {
     "name": "stderr",
     "output_type": "stream",
     "text": [
      "C:\\Users\\redda\\AppData\\Roaming\\Python\\Python311\\site-packages\\openpyxl\\worksheet\\_reader.py:329: UserWarning: Data Validation extension is not supported and will be removed\n",
      "  warn(msg)\n",
      "C:\\Users\\redda\\AppData\\Roaming\\Python\\Python311\\site-packages\\openpyxl\\worksheet\\_reader.py:329: UserWarning: Data Validation extension is not supported and will be removed\n",
      "  warn(msg)\n"
     ]
    },
    {
     "name": "stdout",
     "output_type": "stream",
     "text": [
      "发票模板\\发票模板-株洲文邦贸易有限公司-SO-2024-02-1036.xlsx\n",
      "发票模板\\发票模板-长沙市东麦文化有限公司-SO-2024-02-1037.xlsx\n"
     ]
    },
    {
     "name": "stderr",
     "output_type": "stream",
     "text": [
      "C:\\Users\\redda\\AppData\\Roaming\\Python\\Python311\\site-packages\\openpyxl\\worksheet\\_reader.py:329: UserWarning: Data Validation extension is not supported and will be removed\n",
      "  warn(msg)\n"
     ]
    },
    {
     "name": "stdout",
     "output_type": "stream",
     "text": [
      "发票模板\\发票模板-南京好学爱玩信息科技有限公司-SO-2024-02-1038.xlsx\n",
      "发票模板\\发票模板-义乌范光洪-SO-2024-02-1039.xlsx\n"
     ]
    },
    {
     "name": "stderr",
     "output_type": "stream",
     "text": [
      "C:\\Users\\redda\\AppData\\Roaming\\Python\\Python311\\site-packages\\openpyxl\\worksheet\\_reader.py:329: UserWarning: Data Validation extension is not supported and will be removed\n",
      "  warn(msg)\n",
      "C:\\Users\\redda\\AppData\\Roaming\\Python\\Python311\\site-packages\\openpyxl\\worksheet\\_reader.py:329: UserWarning: Data Validation extension is not supported and will be removed\n",
      "  warn(msg)\n"
     ]
    },
    {
     "name": "stdout",
     "output_type": "stream",
     "text": [
      "发票模板\\发票模板-龙岩市欧飞贸易有限公司-SO-2024-02-1040.xlsx\n",
      "发票模板\\发票模板-石家庄本米文具用品销售有限公司-SO-2024-02-1041.xlsx\n"
     ]
    },
    {
     "name": "stderr",
     "output_type": "stream",
     "text": [
      "C:\\Users\\redda\\AppData\\Roaming\\Python\\Python311\\site-packages\\openpyxl\\worksheet\\_reader.py:329: UserWarning: Data Validation extension is not supported and will be removed\n",
      "  warn(msg)\n",
      "C:\\Users\\redda\\AppData\\Roaming\\Python\\Python311\\site-packages\\openpyxl\\worksheet\\_reader.py:329: UserWarning: Data Validation extension is not supported and will be removed\n",
      "  warn(msg)\n"
     ]
    },
    {
     "name": "stdout",
     "output_type": "stream",
     "text": [
      "发票模板\\发票模板-龙岩连卫中-SO-2024-02-1042.xlsx\n"
     ]
    },
    {
     "name": "stderr",
     "output_type": "stream",
     "text": [
      "C:\\Users\\redda\\AppData\\Roaming\\Python\\Python311\\site-packages\\openpyxl\\worksheet\\_reader.py:329: UserWarning: Data Validation extension is not supported and will be removed\n",
      "  warn(msg)\n",
      "C:\\Users\\redda\\AppData\\Roaming\\Python\\Python311\\site-packages\\openpyxl\\worksheet\\_reader.py:329: UserWarning: Data Validation extension is not supported and will be removed\n",
      "  warn(msg)\n"
     ]
    },
    {
     "name": "stdout",
     "output_type": "stream",
     "text": [
      "发票模板\\发票模板-武汉市热脉文体用品有限公司-SO-2024-02-1043.xlsx\n",
      "发票模板\\发票模板-青海一诺商贸有限公司-SO-2024-02-1044.xlsx\n"
     ]
    },
    {
     "name": "stderr",
     "output_type": "stream",
     "text": [
      "C:\\Users\\redda\\AppData\\Roaming\\Python\\Python311\\site-packages\\openpyxl\\worksheet\\_reader.py:329: UserWarning: Data Validation extension is not supported and will be removed\n",
      "  warn(msg)\n",
      "C:\\Users\\redda\\AppData\\Roaming\\Python\\Python311\\site-packages\\openpyxl\\worksheet\\_reader.py:329: UserWarning: Data Validation extension is not supported and will be removed\n",
      "  warn(msg)\n"
     ]
    },
    {
     "name": "stdout",
     "output_type": "stream",
     "text": [
      "发票模板\\发票模板-湖北昇耀商贸有限公司-SO-2024-02-1045.xlsx\n",
      "发票模板\\发票模板-兰州艾迪商贸有限公司-SO-2024-02-1046.xlsx\n"
     ]
    },
    {
     "name": "stderr",
     "output_type": "stream",
     "text": [
      "C:\\Users\\redda\\AppData\\Roaming\\Python\\Python311\\site-packages\\openpyxl\\worksheet\\_reader.py:329: UserWarning: Data Validation extension is not supported and will be removed\n",
      "  warn(msg)\n",
      "C:\\Users\\redda\\AppData\\Roaming\\Python\\Python311\\site-packages\\openpyxl\\worksheet\\_reader.py:329: UserWarning: Data Validation extension is not supported and will be removed\n",
      "  warn(msg)\n"
     ]
    },
    {
     "name": "stdout",
     "output_type": "stream",
     "text": [
      "发票模板\\发票模板-汉中圣博商贸有限责任公司-SO-2024-02-1047.xlsx\n",
      "发票模板\\发票模板-江西立信办公商贸有限公司-SO-2024-02-1048.xlsx\n"
     ]
    },
    {
     "name": "stderr",
     "output_type": "stream",
     "text": [
      "C:\\Users\\redda\\AppData\\Roaming\\Python\\Python311\\site-packages\\openpyxl\\worksheet\\_reader.py:329: UserWarning: Data Validation extension is not supported and will be removed\n",
      "  warn(msg)\n",
      "C:\\Users\\redda\\AppData\\Roaming\\Python\\Python311\\site-packages\\openpyxl\\worksheet\\_reader.py:329: UserWarning: Data Validation extension is not supported and will be removed\n",
      "  warn(msg)\n"
     ]
    },
    {
     "name": "stdout",
     "output_type": "stream",
     "text": [
      "发票模板\\发票模板-石家庄本米文具用品销售有限公司-SO-2024-02-1049.xlsx\n",
      "发票模板\\发票模板-武汉市热脉文体用品有限公司-SO-2024-02-1050.xlsx\n"
     ]
    },
    {
     "name": "stderr",
     "output_type": "stream",
     "text": [
      "C:\\Users\\redda\\AppData\\Roaming\\Python\\Python311\\site-packages\\openpyxl\\worksheet\\_reader.py:329: UserWarning: Data Validation extension is not supported and will be removed\n",
      "  warn(msg)\n"
     ]
    },
    {
     "name": "stdout",
     "output_type": "stream",
     "text": [
      "发票模板\\发票模板-武汉开先文化用品有限责任公司-SO-2024-02-1051.xlsx\n",
      "发票模板\\发票模板-武汉今日成纸业有限公司-SO-2024-02-1052.xlsx\n"
     ]
    },
    {
     "name": "stderr",
     "output_type": "stream",
     "text": [
      "C:\\Users\\redda\\AppData\\Roaming\\Python\\Python311\\site-packages\\openpyxl\\worksheet\\_reader.py:329: UserWarning: Data Validation extension is not supported and will be removed\n",
      "  warn(msg)\n",
      "C:\\Users\\redda\\AppData\\Roaming\\Python\\Python311\\site-packages\\openpyxl\\worksheet\\_reader.py:329: UserWarning: Data Validation extension is not supported and will be removed\n",
      "  warn(msg)\n"
     ]
    },
    {
     "name": "stdout",
     "output_type": "stream",
     "text": [
      "发票模板\\发票模板-太木贸易（武汉）有限公司L-SO-2024-02-1053.xlsx\n",
      "发票模板\\发票模板-武汉乐得电子商务有限公司-SO-2024-02-1054.xlsx\n"
     ]
    },
    {
     "name": "stderr",
     "output_type": "stream",
     "text": [
      "C:\\Users\\redda\\AppData\\Roaming\\Python\\Python311\\site-packages\\openpyxl\\worksheet\\_reader.py:329: UserWarning: Data Validation extension is not supported and will be removed\n",
      "  warn(msg)\n",
      "C:\\Users\\redda\\AppData\\Roaming\\Python\\Python311\\site-packages\\openpyxl\\worksheet\\_reader.py:329: UserWarning: Data Validation extension is not supported and will be removed\n",
      "  warn(msg)\n"
     ]
    },
    {
     "name": "stdout",
     "output_type": "stream",
     "text": [
      "发票模板\\发票模板-重庆文优文化用品有限公司-SO-2024-02-1055.xlsx\n"
     ]
    },
    {
     "name": "stderr",
     "output_type": "stream",
     "text": [
      "C:\\Users\\redda\\AppData\\Roaming\\Python\\Python311\\site-packages\\openpyxl\\worksheet\\_reader.py:329: UserWarning: Data Validation extension is not supported and will be removed\n",
      "  warn(msg)\n",
      "C:\\Users\\redda\\AppData\\Roaming\\Python\\Python311\\site-packages\\openpyxl\\worksheet\\_reader.py:329: UserWarning: Data Validation extension is not supported and will be removed\n",
      "  warn(msg)\n"
     ]
    },
    {
     "name": "stdout",
     "output_type": "stream",
     "text": [
      "发票模板\\发票模板-铜仁市新辉创商贸有限公司-SO-2024-02-1056.xlsx\n",
      "发票模板\\发票模板-成都迪欣杨商贸有限公司-SO-2024-02-1057.xlsx\n"
     ]
    },
    {
     "name": "stderr",
     "output_type": "stream",
     "text": [
      "C:\\Users\\redda\\AppData\\Roaming\\Python\\Python311\\site-packages\\openpyxl\\worksheet\\_reader.py:329: UserWarning: Data Validation extension is not supported and will be removed\n",
      "  warn(msg)\n",
      "C:\\Users\\redda\\AppData\\Roaming\\Python\\Python311\\site-packages\\openpyxl\\worksheet\\_reader.py:329: UserWarning: Data Validation extension is not supported and will be removed\n",
      "  warn(msg)\n"
     ]
    },
    {
     "name": "stdout",
     "output_type": "stream",
     "text": [
      "发票模板\\发票模板-武汉开先文化用品有限责任公司-SO-2024-02-1058.xlsx\n",
      "发票模板\\发票模板-武汉市热脉文体用品有限公司-SO-2024-02-1059.xlsx\n"
     ]
    },
    {
     "name": "stderr",
     "output_type": "stream",
     "text": [
      "C:\\Users\\redda\\AppData\\Roaming\\Python\\Python311\\site-packages\\openpyxl\\worksheet\\_reader.py:329: UserWarning: Data Validation extension is not supported and will be removed\n",
      "  warn(msg)\n",
      "C:\\Users\\redda\\AppData\\Roaming\\Python\\Python311\\site-packages\\openpyxl\\worksheet\\_reader.py:329: UserWarning: Data Validation extension is not supported and will be removed\n",
      "  warn(msg)\n"
     ]
    },
    {
     "name": "stdout",
     "output_type": "stream",
     "text": [
      "发票模板\\发票模板-武汉金胜辉商贸有限公司-SO-2024-02-1060.xlsx\n",
      "发票模板\\发票模板-武汉金胜辉商贸有限公司-SO-2024-02-1061.xlsx\n"
     ]
    },
    {
     "name": "stderr",
     "output_type": "stream",
     "text": [
      "C:\\Users\\redda\\AppData\\Roaming\\Python\\Python311\\site-packages\\openpyxl\\worksheet\\_reader.py:329: UserWarning: Data Validation extension is not supported and will be removed\n",
      "  warn(msg)\n",
      "C:\\Users\\redda\\AppData\\Roaming\\Python\\Python311\\site-packages\\openpyxl\\worksheet\\_reader.py:329: UserWarning: Data Validation extension is not supported and will be removed\n",
      "  warn(msg)\n"
     ]
    },
    {
     "name": "stdout",
     "output_type": "stream",
     "text": [
      "发票模板\\发票模板-保定白沟彩顺商贸有限公司-SO-2024-02-1062.xlsx\n",
      "发票模板\\发票模板-西安垄裕商贸有限公司-SO-2024-02-1063.xlsx\n"
     ]
    },
    {
     "name": "stderr",
     "output_type": "stream",
     "text": [
      "C:\\Users\\redda\\AppData\\Roaming\\Python\\Python311\\site-packages\\openpyxl\\worksheet\\_reader.py:329: UserWarning: Data Validation extension is not supported and will be removed\n",
      "  warn(msg)\n",
      "C:\\Users\\redda\\AppData\\Roaming\\Python\\Python311\\site-packages\\openpyxl\\worksheet\\_reader.py:329: UserWarning: Data Validation extension is not supported and will be removed\n",
      "  warn(msg)\n"
     ]
    },
    {
     "name": "stdout",
     "output_type": "stream",
     "text": [
      "发票模板\\发票模板-西安博为文教用品有限公司-SO-2024-02-1064.xlsx\n",
      "发票模板\\发票模板-太木贸易（武汉）有限公司L-SO-2024-02-1065.xlsx\n"
     ]
    },
    {
     "name": "stderr",
     "output_type": "stream",
     "text": [
      "C:\\Users\\redda\\AppData\\Roaming\\Python\\Python311\\site-packages\\openpyxl\\worksheet\\_reader.py:329: UserWarning: Data Validation extension is not supported and will be removed\n",
      "  warn(msg)\n",
      "C:\\Users\\redda\\AppData\\Roaming\\Python\\Python311\\site-packages\\openpyxl\\worksheet\\_reader.py:329: UserWarning: Data Validation extension is not supported and will be removed\n",
      "  warn(msg)\n"
     ]
    },
    {
     "name": "stdout",
     "output_type": "stream",
     "text": [
      "发票模板\\发票模板-湖北昇耀商贸有限公司-SO-2024-02-1066.xlsx\n",
      "发票模板\\发票模板-鹤岗市超东选商贸有限公司-SO-2024-02-1067.xlsx\n"
     ]
    },
    {
     "name": "stderr",
     "output_type": "stream",
     "text": [
      "C:\\Users\\redda\\AppData\\Roaming\\Python\\Python311\\site-packages\\openpyxl\\worksheet\\_reader.py:329: UserWarning: Data Validation extension is not supported and will be removed\n",
      "  warn(msg)\n",
      "C:\\Users\\redda\\AppData\\Roaming\\Python\\Python311\\site-packages\\openpyxl\\worksheet\\_reader.py:329: UserWarning: Data Validation extension is not supported and will be removed\n",
      "  warn(msg)\n"
     ]
    },
    {
     "name": "stdout",
     "output_type": "stream",
     "text": [
      "发票模板\\发票模板-宁夏好时光商贸有限公司-SO-2024-02-1068.xlsx\n",
      "发票模板\\发票模板-安康市申达文化用品有限公司L-SO-2024-02-1069.xlsx\n"
     ]
    },
    {
     "name": "stderr",
     "output_type": "stream",
     "text": [
      "C:\\Users\\redda\\AppData\\Roaming\\Python\\Python311\\site-packages\\openpyxl\\worksheet\\_reader.py:329: UserWarning: Data Validation extension is not supported and will be removed\n",
      "  warn(msg)\n",
      "C:\\Users\\redda\\AppData\\Roaming\\Python\\Python311\\site-packages\\openpyxl\\worksheet\\_reader.py:329: UserWarning: Data Validation extension is not supported and will be removed\n",
      "  warn(msg)\n"
     ]
    },
    {
     "name": "stdout",
     "output_type": "stream",
     "text": [
      "发票模板\\发票模板-河南抬头喜办公用品有限公司S-SO-2024-02-1070.xlsx\n",
      "发票模板\\发票模板-成都皓天科技有限公司-SO-2024-02-1071.xlsx\n"
     ]
    },
    {
     "name": "stderr",
     "output_type": "stream",
     "text": [
      "C:\\Users\\redda\\AppData\\Roaming\\Python\\Python311\\site-packages\\openpyxl\\worksheet\\_reader.py:329: UserWarning: Data Validation extension is not supported and will be removed\n",
      "  warn(msg)\n",
      "C:\\Users\\redda\\AppData\\Roaming\\Python\\Python311\\site-packages\\openpyxl\\worksheet\\_reader.py:329: UserWarning: Data Validation extension is not supported and will be removed\n",
      "  warn(msg)\n"
     ]
    },
    {
     "name": "stdout",
     "output_type": "stream",
     "text": [
      "发票模板\\发票模板-南京好学爱玩信息科技有限公司-SO-2024-02-1072.xlsx\n",
      "发票模板\\发票模板-武汉市齐达利商贸有限公司-SO-2024-02-1073.xlsx\n"
     ]
    },
    {
     "name": "stderr",
     "output_type": "stream",
     "text": [
      "C:\\Users\\redda\\AppData\\Roaming\\Python\\Python311\\site-packages\\openpyxl\\worksheet\\_reader.py:329: UserWarning: Data Validation extension is not supported and will be removed\n",
      "  warn(msg)\n",
      "C:\\Users\\redda\\AppData\\Roaming\\Python\\Python311\\site-packages\\openpyxl\\worksheet\\_reader.py:329: UserWarning: Data Validation extension is not supported and will be removed\n",
      "  warn(msg)\n"
     ]
    },
    {
     "name": "stdout",
     "output_type": "stream",
     "text": [
      "发票模板\\发票模板-长沙市东麦文化有限公司-SO-2024-02-1074.xlsx\n",
      "发票模板\\发票模板-武汉金宸翰办公用品有限公司-SO-2024-02-1075.xlsx\n"
     ]
    },
    {
     "name": "stderr",
     "output_type": "stream",
     "text": [
      "C:\\Users\\redda\\AppData\\Roaming\\Python\\Python311\\site-packages\\openpyxl\\worksheet\\_reader.py:329: UserWarning: Data Validation extension is not supported and will be removed\n",
      "  warn(msg)\n",
      "C:\\Users\\redda\\AppData\\Roaming\\Python\\Python311\\site-packages\\openpyxl\\worksheet\\_reader.py:329: UserWarning: Data Validation extension is not supported and will be removed\n",
      "  warn(msg)\n"
     ]
    },
    {
     "name": "stdout",
     "output_type": "stream",
     "text": [
      "发票模板\\发票模板-武汉中威百联商贸有限公司-SO-2024-02-1076.xlsx\n",
      "发票模板\\发票模板-武汉静静舒文体用品有限公司-SO-2024-02-1077.xlsx\n",
      "发票模板\\发票模板-武汉市热脉文体用品有限公司-SO-2024-02-1078.xlsx\n"
     ]
    },
    {
     "name": "stderr",
     "output_type": "stream",
     "text": [
      "C:\\Users\\redda\\AppData\\Roaming\\Python\\Python311\\site-packages\\openpyxl\\worksheet\\_reader.py:329: UserWarning: Data Validation extension is not supported and will be removed\n",
      "  warn(msg)\n",
      "C:\\Users\\redda\\AppData\\Roaming\\Python\\Python311\\site-packages\\openpyxl\\worksheet\\_reader.py:329: UserWarning: Data Validation extension is not supported and will be removed\n",
      "  warn(msg)\n"
     ]
    },
    {
     "name": "stdout",
     "output_type": "stream",
     "text": [
      "发票模板\\发票模板-重庆文优文化用品有限公司-SO-2024-02-1079.xlsx\n",
      "发票模板\\发票模板-安康市申达文化用品有限公司L-SO-2024-02-1080.xlsx\n"
     ]
    },
    {
     "name": "stderr",
     "output_type": "stream",
     "text": [
      "C:\\Users\\redda\\AppData\\Roaming\\Python\\Python311\\site-packages\\openpyxl\\worksheet\\_reader.py:329: UserWarning: Data Validation extension is not supported and will be removed\n",
      "  warn(msg)\n",
      "C:\\Users\\redda\\AppData\\Roaming\\Python\\Python311\\site-packages\\openpyxl\\worksheet\\_reader.py:329: UserWarning: Data Validation extension is not supported and will be removed\n",
      "  warn(msg)\n"
     ]
    },
    {
     "name": "stdout",
     "output_type": "stream",
     "text": [
      "发票模板\\发票模板-安康市申达文化用品有限公司L-SO-2024-02-1081.xlsx\n",
      "发票模板\\发票模板-重庆文优文化用品有限公司-SO-2024-02-1082.xlsx\n"
     ]
    },
    {
     "name": "stderr",
     "output_type": "stream",
     "text": [
      "C:\\Users\\redda\\AppData\\Roaming\\Python\\Python311\\site-packages\\openpyxl\\worksheet\\_reader.py:329: UserWarning: Data Validation extension is not supported and will be removed\n",
      "  warn(msg)\n",
      "C:\\Users\\redda\\AppData\\Roaming\\Python\\Python311\\site-packages\\openpyxl\\worksheet\\_reader.py:329: UserWarning: Data Validation extension is not supported and will be removed\n",
      "  warn(msg)\n"
     ]
    },
    {
     "name": "stdout",
     "output_type": "stream",
     "text": [
      "发票模板\\发票模板-重庆文优文化用品有限公司-SO-2024-02-1083.xlsx\n",
      "发票模板\\发票模板-西安百花工贸有限公司-SO-2024-02-1084.xlsx\n"
     ]
    },
    {
     "name": "stderr",
     "output_type": "stream",
     "text": [
      "C:\\Users\\redda\\AppData\\Roaming\\Python\\Python311\\site-packages\\openpyxl\\worksheet\\_reader.py:329: UserWarning: Data Validation extension is not supported and will be removed\n",
      "  warn(msg)\n",
      "C:\\Users\\redda\\AppData\\Roaming\\Python\\Python311\\site-packages\\openpyxl\\worksheet\\_reader.py:329: UserWarning: Data Validation extension is not supported and will be removed\n",
      "  warn(msg)\n"
     ]
    },
    {
     "name": "stdout",
     "output_type": "stream",
     "text": [
      "发票模板\\发票模板-白玉县诚信办公用品销售有限公司-SO-2024-02-1085.xlsx\n",
      "发票模板\\发票模板-河南抬头喜办公用品有限公司S-SO-2024-02-1086.xlsx\n"
     ]
    },
    {
     "name": "stderr",
     "output_type": "stream",
     "text": [
      "C:\\Users\\redda\\AppData\\Roaming\\Python\\Python311\\site-packages\\openpyxl\\worksheet\\_reader.py:329: UserWarning: Data Validation extension is not supported and will be removed\n",
      "  warn(msg)\n",
      "C:\\Users\\redda\\AppData\\Roaming\\Python\\Python311\\site-packages\\openpyxl\\worksheet\\_reader.py:329: UserWarning: Data Validation extension is not supported and will be removed\n",
      "  warn(msg)\n"
     ]
    },
    {
     "name": "stdout",
     "output_type": "stream",
     "text": [
      "发票模板\\发票模板-长沙屈贾文化用品有限公司-SO-2024-02-1087.xlsx\n",
      "发票模板\\发票模板-湖北昇耀商贸有限公司-SO-2024-02-1088.xlsx\n"
     ]
    },
    {
     "name": "stderr",
     "output_type": "stream",
     "text": [
      "C:\\Users\\redda\\AppData\\Roaming\\Python\\Python311\\site-packages\\openpyxl\\worksheet\\_reader.py:329: UserWarning: Data Validation extension is not supported and will be removed\n",
      "  warn(msg)\n",
      "C:\\Users\\redda\\AppData\\Roaming\\Python\\Python311\\site-packages\\openpyxl\\worksheet\\_reader.py:329: UserWarning: Data Validation extension is not supported and will be removed\n",
      "  warn(msg)\n"
     ]
    },
    {
     "name": "stdout",
     "output_type": "stream",
     "text": [
      "发票模板\\发票模板-湖北昇耀商贸有限公司-SO-2024-02-1089.xlsx\n",
      "发票模板\\发票模板-衡阳市新五一文现代办公用品有限公司-SO-2024-02-1090.xlsx\n"
     ]
    },
    {
     "name": "stderr",
     "output_type": "stream",
     "text": [
      "C:\\Users\\redda\\AppData\\Roaming\\Python\\Python311\\site-packages\\openpyxl\\worksheet\\_reader.py:329: UserWarning: Data Validation extension is not supported and will be removed\n",
      "  warn(msg)\n",
      "C:\\Users\\redda\\AppData\\Roaming\\Python\\Python311\\site-packages\\openpyxl\\worksheet\\_reader.py:329: UserWarning: Data Validation extension is not supported and will be removed\n",
      "  warn(msg)\n"
     ]
    },
    {
     "name": "stdout",
     "output_type": "stream",
     "text": [
      "发票模板\\发票模板-南京好学爱玩信息科技有限公司-SO-2024-02-1091.xlsx\n",
      "发票模板\\发票模板-义乌市携诚文体用品有限公司-SO-2024-02-1092.xlsx\n"
     ]
    },
    {
     "name": "stderr",
     "output_type": "stream",
     "text": [
      "C:\\Users\\redda\\AppData\\Roaming\\Python\\Python311\\site-packages\\openpyxl\\worksheet\\_reader.py:329: UserWarning: Data Validation extension is not supported and will be removed\n",
      "  warn(msg)\n",
      "C:\\Users\\redda\\AppData\\Roaming\\Python\\Python311\\site-packages\\openpyxl\\worksheet\\_reader.py:329: UserWarning: Data Validation extension is not supported and will be removed\n",
      "  warn(msg)\n"
     ]
    },
    {
     "name": "stdout",
     "output_type": "stream",
     "text": [
      "发票模板\\发票模板-武汉今日成纸业有限公司-SO-2024-02-1093.xlsx\n",
      "发票模板\\发票模板-厦门同心成商贸有限公司-SO-2024-02-1094.xlsx\n"
     ]
    },
    {
     "name": "stderr",
     "output_type": "stream",
     "text": [
      "C:\\Users\\redda\\AppData\\Roaming\\Python\\Python311\\site-packages\\openpyxl\\worksheet\\_reader.py:329: UserWarning: Data Validation extension is not supported and will be removed\n",
      "  warn(msg)\n",
      "C:\\Users\\redda\\AppData\\Roaming\\Python\\Python311\\site-packages\\openpyxl\\worksheet\\_reader.py:329: UserWarning: Data Validation extension is not supported and will be removed\n",
      "  warn(msg)\n"
     ]
    },
    {
     "name": "stdout",
     "output_type": "stream",
     "text": [
      "发票模板\\发票模板-武汉嘉迪亚商贸有限公司-SO-2024-02-1095.xlsx\n",
      "发票模板\\发票模板-成都乐尚怡智商贸有限公司-SO-2024-02-1096.xlsx\n"
     ]
    },
    {
     "name": "stderr",
     "output_type": "stream",
     "text": [
      "C:\\Users\\redda\\AppData\\Roaming\\Python\\Python311\\site-packages\\openpyxl\\worksheet\\_reader.py:329: UserWarning: Data Validation extension is not supported and will be removed\n",
      "  warn(msg)\n",
      "C:\\Users\\redda\\AppData\\Roaming\\Python\\Python311\\site-packages\\openpyxl\\worksheet\\_reader.py:329: UserWarning: Data Validation extension is not supported and will be removed\n",
      "  warn(msg)\n"
     ]
    },
    {
     "name": "stdout",
     "output_type": "stream",
     "text": [
      "发票模板\\发票模板-义乌市博迅文体用品有限公司-SO-2024-02-1097.xlsx\n"
     ]
    },
    {
     "name": "stderr",
     "output_type": "stream",
     "text": [
      "C:\\Users\\redda\\AppData\\Roaming\\Python\\Python311\\site-packages\\openpyxl\\worksheet\\_reader.py:329: UserWarning: Data Validation extension is not supported and will be removed\n",
      "  warn(msg)\n",
      "C:\\Users\\redda\\AppData\\Roaming\\Python\\Python311\\site-packages\\openpyxl\\worksheet\\_reader.py:329: UserWarning: Data Validation extension is not supported and will be removed\n",
      "  warn(msg)\n"
     ]
    },
    {
     "name": "stdout",
     "output_type": "stream",
     "text": [
      "发票模板\\发票模板-吉林耐斯商贸有限公司-SO-2024-02-1098.xlsx\n",
      "发票模板\\发票模板-泸州佳之彩商贸有限公司-SO-2024-02-1099.xlsx\n"
     ]
    },
    {
     "name": "stderr",
     "output_type": "stream",
     "text": [
      "C:\\Users\\redda\\AppData\\Roaming\\Python\\Python311\\site-packages\\openpyxl\\worksheet\\_reader.py:329: UserWarning: Data Validation extension is not supported and will be removed\n",
      "  warn(msg)\n",
      "C:\\Users\\redda\\AppData\\Roaming\\Python\\Python311\\site-packages\\openpyxl\\worksheet\\_reader.py:329: UserWarning: Data Validation extension is not supported and will be removed\n",
      "  warn(msg)\n"
     ]
    },
    {
     "name": "stdout",
     "output_type": "stream",
     "text": [
      "发票模板\\发票模板-河南抬头喜办公用品有限公司S-SO-2024-02-1100.xlsx\n",
      "发票模板\\发票模板-武汉今日成纸业有限公司-SO-2024-02-1101.xlsx\n"
     ]
    },
    {
     "name": "stderr",
     "output_type": "stream",
     "text": [
      "C:\\Users\\redda\\AppData\\Roaming\\Python\\Python311\\site-packages\\openpyxl\\worksheet\\_reader.py:329: UserWarning: Data Validation extension is not supported and will be removed\n",
      "  warn(msg)\n"
     ]
    },
    {
     "name": "stdout",
     "output_type": "stream",
     "text": [
      "发票模板\\发票模板-太木贸易（武汉）有限公司L-SO-2024-02-1102.xlsx\n"
     ]
    },
    {
     "name": "stderr",
     "output_type": "stream",
     "text": [
      "C:\\Users\\redda\\AppData\\Roaming\\Python\\Python311\\site-packages\\openpyxl\\worksheet\\_reader.py:329: UserWarning: Data Validation extension is not supported and will be removed\n",
      "  warn(msg)\n",
      "C:\\Users\\redda\\AppData\\Roaming\\Python\\Python311\\site-packages\\openpyxl\\worksheet\\_reader.py:329: UserWarning: Data Validation extension is not supported and will be removed\n",
      "  warn(msg)\n"
     ]
    },
    {
     "name": "stdout",
     "output_type": "stream",
     "text": [
      "发票模板\\发票模板-武汉开先文化用品有限责任公司-SO-2024-02-1103.xlsx\n",
      "发票模板\\发票模板-武汉金胜辉商贸有限公司-SO-2024-02-1105.xlsx\n"
     ]
    },
    {
     "name": "stderr",
     "output_type": "stream",
     "text": [
      "C:\\Users\\redda\\AppData\\Roaming\\Python\\Python311\\site-packages\\openpyxl\\worksheet\\_reader.py:329: UserWarning: Data Validation extension is not supported and will be removed\n",
      "  warn(msg)\n"
     ]
    },
    {
     "name": "stdout",
     "output_type": "stream",
     "text": [
      "发票模板\\发票模板-武汉金宸翰办公用品有限公司1-SO-2024-02-1106.xlsx\n",
      "发票模板\\发票模板-武汉市热脉文体用品有限公司-SO-2024-02-1107.xlsx\n"
     ]
    },
    {
     "name": "stderr",
     "output_type": "stream",
     "text": [
      "C:\\Users\\redda\\AppData\\Roaming\\Python\\Python311\\site-packages\\openpyxl\\worksheet\\_reader.py:329: UserWarning: Data Validation extension is not supported and will be removed\n",
      "  warn(msg)\n",
      "C:\\Users\\redda\\AppData\\Roaming\\Python\\Python311\\site-packages\\openpyxl\\worksheet\\_reader.py:329: UserWarning: Data Validation extension is not supported and will be removed\n",
      "  warn(msg)\n",
      "C:\\Users\\redda\\AppData\\Roaming\\Python\\Python311\\site-packages\\openpyxl\\worksheet\\_reader.py:329: UserWarning: Data Validation extension is not supported and will be removed\n",
      "  warn(msg)\n"
     ]
    },
    {
     "name": "stdout",
     "output_type": "stream",
     "text": [
      "发票模板\\发票模板-武汉优聚优品贸易有限公司-SO-2024-02-1108.xlsx\n",
      "发票模板\\发票模板-武汉今日成纸业有限公司-SO-2024-02-1109.xlsx\n"
     ]
    },
    {
     "name": "stderr",
     "output_type": "stream",
     "text": [
      "C:\\Users\\redda\\AppData\\Roaming\\Python\\Python311\\site-packages\\openpyxl\\worksheet\\_reader.py:329: UserWarning: Data Validation extension is not supported and will be removed\n",
      "  warn(msg)\n",
      "C:\\Users\\redda\\AppData\\Roaming\\Python\\Python311\\site-packages\\openpyxl\\worksheet\\_reader.py:329: UserWarning: Data Validation extension is not supported and will be removed\n",
      "  warn(msg)\n"
     ]
    },
    {
     "name": "stdout",
     "output_type": "stream",
     "text": [
      "发票模板\\发票模板-武汉邦度办公文具有限公司-SO-2024-02-1110.xlsx\n",
      "发票模板\\发票模板-武汉金宸翰办公用品有限公司1-SO-2024-02-1111.xlsx\n"
     ]
    },
    {
     "name": "stderr",
     "output_type": "stream",
     "text": [
      "C:\\Users\\redda\\AppData\\Roaming\\Python\\Python311\\site-packages\\openpyxl\\worksheet\\_reader.py:329: UserWarning: Data Validation extension is not supported and will be removed\n",
      "  warn(msg)\n",
      "C:\\Users\\redda\\AppData\\Roaming\\Python\\Python311\\site-packages\\openpyxl\\worksheet\\_reader.py:329: UserWarning: Data Validation extension is not supported and will be removed\n",
      "  warn(msg)\n"
     ]
    },
    {
     "name": "stdout",
     "output_type": "stream",
     "text": [
      "发票模板\\发票模板-湖北昇耀商贸有限公司-SO-2024-02-1112.xlsx\n",
      "发票模板\\发票模板-武汉米圣贸易有限公司-SO-2024-02-1113.xlsx\n"
     ]
    },
    {
     "name": "stderr",
     "output_type": "stream",
     "text": [
      "C:\\Users\\redda\\AppData\\Roaming\\Python\\Python311\\site-packages\\openpyxl\\worksheet\\_reader.py:329: UserWarning: Data Validation extension is not supported and will be removed\n",
      "  warn(msg)\n",
      "C:\\Users\\redda\\AppData\\Roaming\\Python\\Python311\\site-packages\\openpyxl\\worksheet\\_reader.py:329: UserWarning: Data Validation extension is not supported and will be removed\n",
      "  warn(msg)\n"
     ]
    },
    {
     "name": "stdout",
     "output_type": "stream",
     "text": [
      "发票模板\\发票模板-南宁市小木屋文化用品有限公司-SO-2024-02-1114.xlsx\n",
      "发票模板\\发票模板-桂林竞升文化用品有限公司-SO-2024-02-1115.xlsx\n"
     ]
    },
    {
     "name": "stderr",
     "output_type": "stream",
     "text": [
      "C:\\Users\\redda\\AppData\\Roaming\\Python\\Python311\\site-packages\\openpyxl\\worksheet\\_reader.py:329: UserWarning: Data Validation extension is not supported and will be removed\n",
      "  warn(msg)\n"
     ]
    },
    {
     "name": "stdout",
     "output_type": "stream",
     "text": [
      "发票模板\\发票模板-长沙市东麦文化有限公司-SO-2024-02-1116.xlsx\n",
      "发票模板\\发票模板-西安华坤集采供应链管理有限公司-SO-2024-02-1117.xlsx\n"
     ]
    },
    {
     "name": "stderr",
     "output_type": "stream",
     "text": [
      "C:\\Users\\redda\\AppData\\Roaming\\Python\\Python311\\site-packages\\openpyxl\\worksheet\\_reader.py:329: UserWarning: Data Validation extension is not supported and will be removed\n",
      "  warn(msg)\n",
      "C:\\Users\\redda\\AppData\\Roaming\\Python\\Python311\\site-packages\\openpyxl\\worksheet\\_reader.py:329: UserWarning: Data Validation extension is not supported and will be removed\n",
      "  warn(msg)\n",
      "C:\\Users\\redda\\AppData\\Roaming\\Python\\Python311\\site-packages\\openpyxl\\worksheet\\_reader.py:329: UserWarning: Data Validation extension is not supported and will be removed\n",
      "  warn(msg)\n"
     ]
    },
    {
     "name": "stdout",
     "output_type": "stream",
     "text": [
      "发票模板\\发票模板-河南抬头喜办公用品有限公司S-SO-2024-02-1118.xlsx\n",
      "发票模板\\发票模板-南宁市小木屋文化用品有限公司-SO-2024-02-1119.xlsx\n"
     ]
    },
    {
     "name": "stderr",
     "output_type": "stream",
     "text": [
      "C:\\Users\\redda\\AppData\\Roaming\\Python\\Python311\\site-packages\\openpyxl\\worksheet\\_reader.py:329: UserWarning: Data Validation extension is not supported and will be removed\n",
      "  warn(msg)\n",
      "C:\\Users\\redda\\AppData\\Roaming\\Python\\Python311\\site-packages\\openpyxl\\worksheet\\_reader.py:329: UserWarning: Data Validation extension is not supported and will be removed\n",
      "  warn(msg)\n"
     ]
    },
    {
     "name": "stdout",
     "output_type": "stream",
     "text": [
      "发票模板\\发票模板-白玉县诚信办公用品销售有限公司-SO-2024-02-1120.xlsx\n",
      "发票模板\\发票模板-湖北昇耀商贸有限公司-SO-2024-02-1121.xlsx\n"
     ]
    },
    {
     "name": "stderr",
     "output_type": "stream",
     "text": [
      "C:\\Users\\redda\\AppData\\Roaming\\Python\\Python311\\site-packages\\openpyxl\\worksheet\\_reader.py:329: UserWarning: Data Validation extension is not supported and will be removed\n",
      "  warn(msg)\n",
      "C:\\Users\\redda\\AppData\\Roaming\\Python\\Python311\\site-packages\\openpyxl\\worksheet\\_reader.py:329: UserWarning: Data Validation extension is not supported and will be removed\n",
      "  warn(msg)\n"
     ]
    },
    {
     "name": "stdout",
     "output_type": "stream",
     "text": [
      "发票模板\\发票模板-武汉市齐达利商贸有限公司-SO-2024-02-1122.xlsx\n",
      "发票模板\\发票模板-武汉中威百联商贸有限公司-SO-2024-02-1123.xlsx\n"
     ]
    },
    {
     "name": "stderr",
     "output_type": "stream",
     "text": [
      "C:\\Users\\redda\\AppData\\Roaming\\Python\\Python311\\site-packages\\openpyxl\\worksheet\\_reader.py:329: UserWarning: Data Validation extension is not supported and will be removed\n",
      "  warn(msg)\n",
      "C:\\Users\\redda\\AppData\\Roaming\\Python\\Python311\\site-packages\\openpyxl\\worksheet\\_reader.py:329: UserWarning: Data Validation extension is not supported and will be removed\n",
      "  warn(msg)\n"
     ]
    },
    {
     "name": "stdout",
     "output_type": "stream",
     "text": [
      "发票模板\\发票模板-武汉开先文化用品有限责任公司-SO-2024-02-1124.xlsx\n",
      "发票模板\\发票模板-武汉优聚优品贸易有限公司-SO-2024-02-1125.xlsx\n",
      "发票模板\\发票模板-白玉县诚信办公用品销售有限公司-SO-2024-02-1126.xlsx\n"
     ]
    },
    {
     "name": "stderr",
     "output_type": "stream",
     "text": [
      "C:\\Users\\redda\\AppData\\Roaming\\Python\\Python311\\site-packages\\openpyxl\\worksheet\\_reader.py:329: UserWarning: Data Validation extension is not supported and will be removed\n",
      "  warn(msg)\n",
      "C:\\Users\\redda\\AppData\\Roaming\\Python\\Python311\\site-packages\\openpyxl\\worksheet\\_reader.py:329: UserWarning: Data Validation extension is not supported and will be removed\n",
      "  warn(msg)\n"
     ]
    },
    {
     "name": "stdout",
     "output_type": "stream",
     "text": [
      "发票模板\\发票模板-江西立信办公商贸有限公司-SO-2024-02-1127.xlsx\n",
      "发票模板\\发票模板-成都杨万平-SO-2024-02-1128.xlsx\n"
     ]
    },
    {
     "name": "stderr",
     "output_type": "stream",
     "text": [
      "C:\\Users\\redda\\AppData\\Roaming\\Python\\Python311\\site-packages\\openpyxl\\worksheet\\_reader.py:329: UserWarning: Data Validation extension is not supported and will be removed\n",
      "  warn(msg)\n",
      "C:\\Users\\redda\\AppData\\Roaming\\Python\\Python311\\site-packages\\openpyxl\\worksheet\\_reader.py:329: UserWarning: Data Validation extension is not supported and will be removed\n",
      "  warn(msg)\n",
      "C:\\Users\\redda\\AppData\\Roaming\\Python\\Python311\\site-packages\\openpyxl\\worksheet\\_reader.py:329: UserWarning: Data Validation extension is not supported and will be removed\n",
      "  warn(msg)\n"
     ]
    },
    {
     "name": "stdout",
     "output_type": "stream",
     "text": [
      "发票模板\\发票模板-金牛区昌宏优品商贸部-SO-2024-02-1129.xlsx\n",
      "发票模板\\发票模板-芜湖市建斌商贸有限公司-SO-2024-02-1130.xlsx\n"
     ]
    },
    {
     "name": "stderr",
     "output_type": "stream",
     "text": [
      "C:\\Users\\redda\\AppData\\Roaming\\Python\\Python311\\site-packages\\openpyxl\\worksheet\\_reader.py:329: UserWarning: Data Validation extension is not supported and will be removed\n",
      "  warn(msg)\n",
      "C:\\Users\\redda\\AppData\\Roaming\\Python\\Python311\\site-packages\\openpyxl\\worksheet\\_reader.py:329: UserWarning: Data Validation extension is not supported and will be removed\n",
      "  warn(msg)\n"
     ]
    },
    {
     "name": "stdout",
     "output_type": "stream",
     "text": [
      "发票模板\\发票模板-贵州三鑫文化用品有限公司-SO-2024-02-1131.xlsx\n",
      "发票模板\\发票模板-太木贸易（武汉）有限公司L-SO-2024-02-1132.xlsx\n"
     ]
    },
    {
     "name": "stderr",
     "output_type": "stream",
     "text": [
      "C:\\Users\\redda\\AppData\\Roaming\\Python\\Python311\\site-packages\\openpyxl\\worksheet\\_reader.py:329: UserWarning: Data Validation extension is not supported and will be removed\n",
      "  warn(msg)\n",
      "C:\\Users\\redda\\AppData\\Roaming\\Python\\Python311\\site-packages\\openpyxl\\worksheet\\_reader.py:329: UserWarning: Data Validation extension is not supported and will be removed\n",
      "  warn(msg)\n"
     ]
    },
    {
     "name": "stdout",
     "output_type": "stream",
     "text": [
      "发票模板\\发票模板-成都迪欣杨商贸有限公司-SO-2024-02-1133.xlsx\n",
      "发票模板\\发票模板-武汉嘉迪亚商贸有限公司-SO-2024-02-1134.xlsx\n"
     ]
    },
    {
     "name": "stderr",
     "output_type": "stream",
     "text": [
      "C:\\Users\\redda\\AppData\\Roaming\\Python\\Python311\\site-packages\\openpyxl\\worksheet\\_reader.py:329: UserWarning: Data Validation extension is not supported and will be removed\n",
      "  warn(msg)\n",
      "C:\\Users\\redda\\AppData\\Roaming\\Python\\Python311\\site-packages\\openpyxl\\worksheet\\_reader.py:329: UserWarning: Data Validation extension is not supported and will be removed\n",
      "  warn(msg)\n"
     ]
    },
    {
     "name": "stdout",
     "output_type": "stream",
     "text": [
      "发票模板\\发票模板-成都集创萧商贸有限公司-SO-2024-02-1135.xlsx\n",
      "发票模板\\发票模板-湖北昇耀商贸有限公司-SO-2024-02-1136.xlsx\n"
     ]
    },
    {
     "name": "stderr",
     "output_type": "stream",
     "text": [
      "C:\\Users\\redda\\AppData\\Roaming\\Python\\Python311\\site-packages\\openpyxl\\worksheet\\_reader.py:329: UserWarning: Data Validation extension is not supported and will be removed\n",
      "  warn(msg)\n"
     ]
    },
    {
     "name": "stdout",
     "output_type": "stream",
     "text": [
      "发票模板\\发票模板-遵义龚碧清-SO-2024-02-1137.xlsx\n"
     ]
    },
    {
     "name": "stderr",
     "output_type": "stream",
     "text": [
      "C:\\Users\\redda\\AppData\\Roaming\\Python\\Python311\\site-packages\\openpyxl\\worksheet\\_reader.py:329: UserWarning: Data Validation extension is not supported and will be removed\n",
      "  warn(msg)\n",
      "C:\\Users\\redda\\AppData\\Roaming\\Python\\Python311\\site-packages\\openpyxl\\worksheet\\_reader.py:329: UserWarning: Data Validation extension is not supported and will be removed\n",
      "  warn(msg)\n"
     ]
    },
    {
     "name": "stdout",
     "output_type": "stream",
     "text": [
      "发票模板\\发票模板-义乌范光洪-SO-2024-02-1138.xlsx\n",
      "发票模板\\发票模板-芜湖迈斯广告传媒有限公司-SO-2024-02-1139.xlsx\n"
     ]
    },
    {
     "name": "stderr",
     "output_type": "stream",
     "text": [
      "C:\\Users\\redda\\AppData\\Roaming\\Python\\Python311\\site-packages\\openpyxl\\worksheet\\_reader.py:329: UserWarning: Data Validation extension is not supported and will be removed\n",
      "  warn(msg)\n",
      "C:\\Users\\redda\\AppData\\Roaming\\Python\\Python311\\site-packages\\openpyxl\\worksheet\\_reader.py:329: UserWarning: Data Validation extension is not supported and will be removed\n",
      "  warn(msg)\n"
     ]
    },
    {
     "name": "stdout",
     "output_type": "stream",
     "text": [
      "发票模板\\发票模板-成都杨万平-SO-2024-02-1140.xlsx\n",
      "发票模板\\发票模板-渝中区齐佳文具经营部-SO-2024-02-1141.xlsx\n"
     ]
    },
    {
     "name": "stderr",
     "output_type": "stream",
     "text": [
      "C:\\Users\\redda\\AppData\\Roaming\\Python\\Python311\\site-packages\\openpyxl\\worksheet\\_reader.py:329: UserWarning: Data Validation extension is not supported and will be removed\n",
      "  warn(msg)\n",
      "C:\\Users\\redda\\AppData\\Roaming\\Python\\Python311\\site-packages\\openpyxl\\worksheet\\_reader.py:329: UserWarning: Data Validation extension is not supported and will be removed\n",
      "  warn(msg)\n"
     ]
    },
    {
     "name": "stdout",
     "output_type": "stream",
     "text": [
      "发票模板\\发票模板-沈阳贾术申-SO-2024-02-1142.xlsx\n",
      "发票模板\\发票模板-柳州市笔创贸易有限公司-SO-2024-02-1143.xlsx\n"
     ]
    },
    {
     "name": "stderr",
     "output_type": "stream",
     "text": [
      "C:\\Users\\redda\\AppData\\Roaming\\Python\\Python311\\site-packages\\openpyxl\\worksheet\\_reader.py:329: UserWarning: Data Validation extension is not supported and will be removed\n",
      "  warn(msg)\n",
      "C:\\Users\\redda\\AppData\\Roaming\\Python\\Python311\\site-packages\\openpyxl\\worksheet\\_reader.py:329: UserWarning: Data Validation extension is not supported and will be removed\n",
      "  warn(msg)\n"
     ]
    },
    {
     "name": "stdout",
     "output_type": "stream",
     "text": [
      "发票模板\\发票模板-河南抬头喜办公用品有限公司S-SO-2024-02-1144.xlsx\n",
      "发票模板\\发票模板-南宁市佑顺商贸有限责任公司-SO-2024-02-1145.xlsx\n"
     ]
    },
    {
     "name": "stderr",
     "output_type": "stream",
     "text": [
      "C:\\Users\\redda\\AppData\\Roaming\\Python\\Python311\\site-packages\\openpyxl\\worksheet\\_reader.py:329: UserWarning: Data Validation extension is not supported and will be removed\n",
      "  warn(msg)\n",
      "C:\\Users\\redda\\AppData\\Roaming\\Python\\Python311\\site-packages\\openpyxl\\worksheet\\_reader.py:329: UserWarning: Data Validation extension is not supported and will be removed\n",
      "  warn(msg)\n"
     ]
    },
    {
     "name": "stdout",
     "output_type": "stream",
     "text": [
      "发票模板\\发票模板-武汉市金宇文化用品有限责任公司-SO-2024-02-1146.xlsx\n",
      "发票模板\\发票模板-桂林竞升文化用品有限公司-SO-2024-02-1147.xlsx\n"
     ]
    },
    {
     "name": "stderr",
     "output_type": "stream",
     "text": [
      "C:\\Users\\redda\\AppData\\Roaming\\Python\\Python311\\site-packages\\openpyxl\\worksheet\\_reader.py:329: UserWarning: Data Validation extension is not supported and will be removed\n",
      "  warn(msg)\n",
      "C:\\Users\\redda\\AppData\\Roaming\\Python\\Python311\\site-packages\\openpyxl\\worksheet\\_reader.py:329: UserWarning: Data Validation extension is not supported and will be removed\n",
      "  warn(msg)\n"
     ]
    },
    {
     "name": "stdout",
     "output_type": "stream",
     "text": [
      "发票模板\\发票模板-武汉金宸翰办公用品有限公司-SO-2024-02-1148.xlsx\n",
      "发票模板\\发票模板-武汉开先文化用品有限责任公司-SO-2024-02-1149.xlsx\n"
     ]
    },
    {
     "name": "stderr",
     "output_type": "stream",
     "text": [
      "C:\\Users\\redda\\AppData\\Roaming\\Python\\Python311\\site-packages\\openpyxl\\worksheet\\_reader.py:329: UserWarning: Data Validation extension is not supported and will be removed\n",
      "  warn(msg)\n",
      "C:\\Users\\redda\\AppData\\Roaming\\Python\\Python311\\site-packages\\openpyxl\\worksheet\\_reader.py:329: UserWarning: Data Validation extension is not supported and will be removed\n",
      "  warn(msg)\n"
     ]
    },
    {
     "name": "stdout",
     "output_type": "stream",
     "text": [
      "发票模板\\发票模板-武汉中威百联商贸有限公司-SO-2024-02-1150.xlsx\n",
      "发票模板\\发票模板-武汉静静舒文体用品有限公司-SO-2024-02-1151.xlsx\n"
     ]
    },
    {
     "name": "stderr",
     "output_type": "stream",
     "text": [
      "C:\\Users\\redda\\AppData\\Roaming\\Python\\Python311\\site-packages\\openpyxl\\worksheet\\_reader.py:329: UserWarning: Data Validation extension is not supported and will be removed\n",
      "  warn(msg)\n",
      "C:\\Users\\redda\\AppData\\Roaming\\Python\\Python311\\site-packages\\openpyxl\\worksheet\\_reader.py:329: UserWarning: Data Validation extension is not supported and will be removed\n",
      "  warn(msg)\n"
     ]
    },
    {
     "name": "stdout",
     "output_type": "stream",
     "text": [
      "发票模板\\发票模板-武汉今日成纸业有限公司-SO-2024-02-1152.xlsx\n",
      "发票模板\\发票模板-武汉金胜辉商贸有限公司-SO-2024-02-1153.xlsx\n"
     ]
    },
    {
     "name": "stderr",
     "output_type": "stream",
     "text": [
      "C:\\Users\\redda\\AppData\\Roaming\\Python\\Python311\\site-packages\\openpyxl\\worksheet\\_reader.py:329: UserWarning: Data Validation extension is not supported and will be removed\n",
      "  warn(msg)\n"
     ]
    },
    {
     "name": "stdout",
     "output_type": "stream",
     "text": [
      "发票模板\\发票模板-湖北昇耀商贸有限公司-SO-2024-02-1154.xlsx\n"
     ]
    },
    {
     "name": "stderr",
     "output_type": "stream",
     "text": [
      "C:\\Users\\redda\\AppData\\Roaming\\Python\\Python311\\site-packages\\openpyxl\\worksheet\\_reader.py:329: UserWarning: Data Validation extension is not supported and will be removed\n",
      "  warn(msg)\n",
      "C:\\Users\\redda\\AppData\\Roaming\\Python\\Python311\\site-packages\\openpyxl\\worksheet\\_reader.py:329: UserWarning: Data Validation extension is not supported and will be removed\n",
      "  warn(msg)\n"
     ]
    },
    {
     "name": "stdout",
     "output_type": "stream",
     "text": [
      "发票模板\\发票模板-武汉嘉迪亚商贸有限公司-SO-2024-02-1155.xlsx\n",
      "发票模板\\发票模板-河南抬头喜办公用品有限公司S-SO-2024-02-1156.xlsx\n"
     ]
    },
    {
     "name": "stderr",
     "output_type": "stream",
     "text": [
      "C:\\Users\\redda\\AppData\\Roaming\\Python\\Python311\\site-packages\\openpyxl\\worksheet\\_reader.py:329: UserWarning: Data Validation extension is not supported and will be removed\n",
      "  warn(msg)\n",
      "C:\\Users\\redda\\AppData\\Roaming\\Python\\Python311\\site-packages\\openpyxl\\worksheet\\_reader.py:329: UserWarning: Data Validation extension is not supported and will be removed\n",
      "  warn(msg)\n"
     ]
    },
    {
     "name": "stdout",
     "output_type": "stream",
     "text": [
      "发票模板\\发票模板-成都乐尚怡智商贸有限公司-SO-2024-02-1157.xlsx\n",
      "发票模板\\发票模板-涵江徐东明-SO-2024-02-1158.xlsx\n"
     ]
    },
    {
     "name": "stderr",
     "output_type": "stream",
     "text": [
      "C:\\Users\\redda\\AppData\\Roaming\\Python\\Python311\\site-packages\\openpyxl\\worksheet\\_reader.py:329: UserWarning: Data Validation extension is not supported and will be removed\n",
      "  warn(msg)\n",
      "C:\\Users\\redda\\AppData\\Roaming\\Python\\Python311\\site-packages\\openpyxl\\worksheet\\_reader.py:329: UserWarning: Data Validation extension is not supported and will be removed\n",
      "  warn(msg)\n"
     ]
    },
    {
     "name": "stdout",
     "output_type": "stream",
     "text": [
      "发票模板\\发票模板-义乌范光洪-SO-2024-02-1159.xlsx\n",
      "发票模板\\发票模板-吉林耐斯商贸有限公司-SO-2024-02-1160.xlsx\n"
     ]
    },
    {
     "name": "stderr",
     "output_type": "stream",
     "text": [
      "C:\\Users\\redda\\AppData\\Roaming\\Python\\Python311\\site-packages\\openpyxl\\worksheet\\_reader.py:329: UserWarning: Data Validation extension is not supported and will be removed\n",
      "  warn(msg)\n",
      "C:\\Users\\redda\\AppData\\Roaming\\Python\\Python311\\site-packages\\openpyxl\\worksheet\\_reader.py:329: UserWarning: Data Validation extension is not supported and will be removed\n",
      "  warn(msg)\n"
     ]
    },
    {
     "name": "stdout",
     "output_type": "stream",
     "text": [
      "发票模板\\发票模板-云南非常文化用品有限公司-SO-2024-02-1161.xlsx\n",
      "发票模板\\发票模板-贵州雅天琪商贸有限公司-SO-2024-02-1162.xlsx\n"
     ]
    },
    {
     "name": "stderr",
     "output_type": "stream",
     "text": [
      "C:\\Users\\redda\\AppData\\Roaming\\Python\\Python311\\site-packages\\openpyxl\\worksheet\\_reader.py:329: UserWarning: Data Validation extension is not supported and will be removed\n",
      "  warn(msg)\n",
      "C:\\Users\\redda\\AppData\\Roaming\\Python\\Python311\\site-packages\\openpyxl\\worksheet\\_reader.py:329: UserWarning: Data Validation extension is not supported and will be removed\n",
      "  warn(msg)\n"
     ]
    },
    {
     "name": "stdout",
     "output_type": "stream",
     "text": [
      "发票模板\\发票模板-河南抬头喜办公用品有限公司S-SO-2024-02-1163.xlsx\n",
      "发票模板\\发票模板-武汉中威百联商贸有限公司-SO-2024-02-1164.xlsx\n"
     ]
    },
    {
     "name": "stderr",
     "output_type": "stream",
     "text": [
      "C:\\Users\\redda\\AppData\\Roaming\\Python\\Python311\\site-packages\\openpyxl\\worksheet\\_reader.py:329: UserWarning: Data Validation extension is not supported and will be removed\n",
      "  warn(msg)\n",
      "C:\\Users\\redda\\AppData\\Roaming\\Python\\Python311\\site-packages\\openpyxl\\worksheet\\_reader.py:329: UserWarning: Data Validation extension is not supported and will be removed\n",
      "  warn(msg)\n"
     ]
    },
    {
     "name": "stdout",
     "output_type": "stream",
     "text": [
      "发票模板\\发票模板-武汉开先文化用品有限责任公司-SO-2024-02-1165.xlsx\n",
      "发票模板\\发票模板-武汉市齐达利商贸有限公司-SO-2024-02-1166.xlsx\n"
     ]
    },
    {
     "name": "stderr",
     "output_type": "stream",
     "text": [
      "C:\\Users\\redda\\AppData\\Roaming\\Python\\Python311\\site-packages\\openpyxl\\worksheet\\_reader.py:329: UserWarning: Data Validation extension is not supported and will be removed\n",
      "  warn(msg)\n"
     ]
    },
    {
     "name": "stdout",
     "output_type": "stream",
     "text": [
      "发票模板\\发票模板-湖北昇耀商贸有限公司-SO-2024-02-1167.xlsx\n"
     ]
    },
    {
     "name": "stderr",
     "output_type": "stream",
     "text": [
      "C:\\Users\\redda\\AppData\\Roaming\\Python\\Python311\\site-packages\\openpyxl\\worksheet\\_reader.py:329: UserWarning: Data Validation extension is not supported and will be removed\n",
      "  warn(msg)\n",
      "C:\\Users\\redda\\AppData\\Roaming\\Python\\Python311\\site-packages\\openpyxl\\worksheet\\_reader.py:329: UserWarning: Data Validation extension is not supported and will be removed\n",
      "  warn(msg)\n"
     ]
    },
    {
     "name": "stdout",
     "output_type": "stream",
     "text": [
      "发票模板\\发票模板-金牛区昌宏优品商贸部-SO-2024-02-1168.xlsx\n",
      "发票模板\\发票模板-河南益尔商贸有限公司-SO-2024-02-1169.xlsx\n"
     ]
    },
    {
     "name": "stderr",
     "output_type": "stream",
     "text": [
      "C:\\Users\\redda\\AppData\\Roaming\\Python\\Python311\\site-packages\\openpyxl\\worksheet\\_reader.py:329: UserWarning: Data Validation extension is not supported and will be removed\n",
      "  warn(msg)\n",
      "C:\\Users\\redda\\AppData\\Roaming\\Python\\Python311\\site-packages\\openpyxl\\worksheet\\_reader.py:329: UserWarning: Data Validation extension is not supported and will be removed\n",
      "  warn(msg)\n"
     ]
    },
    {
     "name": "stdout",
     "output_type": "stream",
     "text": [
      "发票模板\\发票模板-武汉中威百联商贸有限公司-SO-2024-02-1170.xlsx\n",
      "发票模板\\发票模板-武汉金宸翰办公用品有限公司1-SO-2024-02-1171.xlsx\n"
     ]
    },
    {
     "name": "stderr",
     "output_type": "stream",
     "text": [
      "C:\\Users\\redda\\AppData\\Roaming\\Python\\Python311\\site-packages\\openpyxl\\worksheet\\_reader.py:329: UserWarning: Data Validation extension is not supported and will be removed\n",
      "  warn(msg)\n",
      "C:\\Users\\redda\\AppData\\Roaming\\Python\\Python311\\site-packages\\openpyxl\\worksheet\\_reader.py:329: UserWarning: Data Validation extension is not supported and will be removed\n",
      "  warn(msg)\n"
     ]
    },
    {
     "name": "stdout",
     "output_type": "stream",
     "text": [
      "发票模板\\发票模板-武汉市热脉文体用品有限公司-SO-2024-02-1172.xlsx\n",
      "发票模板\\发票模板-南京好学爱玩信息科技有限公司-SO-2024-02-1173.xlsx\n"
     ]
    },
    {
     "name": "stderr",
     "output_type": "stream",
     "text": [
      "C:\\Users\\redda\\AppData\\Roaming\\Python\\Python311\\site-packages\\openpyxl\\worksheet\\_reader.py:329: UserWarning: Data Validation extension is not supported and will be removed\n",
      "  warn(msg)\n",
      "C:\\Users\\redda\\AppData\\Roaming\\Python\\Python311\\site-packages\\openpyxl\\worksheet\\_reader.py:329: UserWarning: Data Validation extension is not supported and will be removed\n",
      "  warn(msg)\n"
     ]
    },
    {
     "name": "stdout",
     "output_type": "stream",
     "text": [
      "发票模板\\发票模板-河南梓亦桐商贸有限公司-SO-2024-02-1174.xlsx\n",
      "发票模板\\发票模板-大庆市智胜文具办公设备有限公司-SO-2024-02-1175.xlsx\n"
     ]
    },
    {
     "name": "stderr",
     "output_type": "stream",
     "text": [
      "C:\\Users\\redda\\AppData\\Roaming\\Python\\Python311\\site-packages\\openpyxl\\worksheet\\_reader.py:329: UserWarning: Data Validation extension is not supported and will be removed\n",
      "  warn(msg)\n",
      "C:\\Users\\redda\\AppData\\Roaming\\Python\\Python311\\site-packages\\openpyxl\\worksheet\\_reader.py:329: UserWarning: Data Validation extension is not supported and will be removed\n",
      "  warn(msg)\n"
     ]
    },
    {
     "name": "stdout",
     "output_type": "stream",
     "text": [
      "发票模板\\发票模板-西安博为文教用品有限公司-SO-2024-02-1176.xlsx\n",
      "发票模板\\发票模板-兰州艾迪商贸有限公司-SO-2024-02-1177.xlsx\n"
     ]
    },
    {
     "name": "stderr",
     "output_type": "stream",
     "text": [
      "C:\\Users\\redda\\AppData\\Roaming\\Python\\Python311\\site-packages\\openpyxl\\worksheet\\_reader.py:329: UserWarning: Data Validation extension is not supported and will be removed\n",
      "  warn(msg)\n",
      "C:\\Users\\redda\\AppData\\Roaming\\Python\\Python311\\site-packages\\openpyxl\\worksheet\\_reader.py:329: UserWarning: Data Validation extension is not supported and will be removed\n",
      "  warn(msg)\n"
     ]
    },
    {
     "name": "stdout",
     "output_type": "stream",
     "text": [
      "发票模板\\发票模板-徐州天天用文具用品有限公司-SO-2024-02-1178.xlsx\n",
      "发票模板\\发票模板-湖北盛辉物流有限公司-SO-2024-02-1179.xlsx\n"
     ]
    },
    {
     "name": "stderr",
     "output_type": "stream",
     "text": [
      "C:\\Users\\redda\\AppData\\Roaming\\Python\\Python311\\site-packages\\openpyxl\\worksheet\\_reader.py:329: UserWarning: Data Validation extension is not supported and will be removed\n",
      "  warn(msg)\n"
     ]
    },
    {
     "name": "stdout",
     "output_type": "stream",
     "text": [
      "发票模板\\发票模板-南京好学爱玩信息科技有限公司-SO-2024-02-1180.xlsx\n",
      "发票模板\\发票模板-山东金灵羊电子商务有限公司-SO-2024-02-1181.xlsx\n"
     ]
    },
    {
     "name": "stderr",
     "output_type": "stream",
     "text": [
      "C:\\Users\\redda\\AppData\\Roaming\\Python\\Python311\\site-packages\\openpyxl\\worksheet\\_reader.py:329: UserWarning: Data Validation extension is not supported and will be removed\n",
      "  warn(msg)\n",
      "C:\\Users\\redda\\AppData\\Roaming\\Python\\Python311\\site-packages\\openpyxl\\worksheet\\_reader.py:329: UserWarning: Data Validation extension is not supported and will be removed\n",
      "  warn(msg)\n"
     ]
    },
    {
     "name": "stdout",
     "output_type": "stream",
     "text": [
      "发票模板\\发票模板-西安百花工贸有限公司-SO-2024-02-1183.xlsx\n",
      "发票模板\\发票模板-芜湖迈斯广告传媒有限公司-SO-2024-02-1196.xlsx\n"
     ]
    },
    {
     "name": "stderr",
     "output_type": "stream",
     "text": [
      "C:\\Users\\redda\\AppData\\Roaming\\Python\\Python311\\site-packages\\openpyxl\\worksheet\\_reader.py:329: UserWarning: Data Validation extension is not supported and will be removed\n",
      "  warn(msg)\n",
      "C:\\Users\\redda\\AppData\\Roaming\\Python\\Python311\\site-packages\\openpyxl\\worksheet\\_reader.py:329: UserWarning: Data Validation extension is not supported and will be removed\n",
      "  warn(msg)\n"
     ]
    },
    {
     "name": "stdout",
     "output_type": "stream",
     "text": [
      "发票模板\\发票模板-芜湖迈斯广告传媒有限公司-SO-2024-02-1197.xlsx\n"
     ]
    },
    {
     "name": "stderr",
     "output_type": "stream",
     "text": [
      "C:\\Users\\redda\\AppData\\Roaming\\Python\\Python311\\site-packages\\openpyxl\\worksheet\\_reader.py:329: UserWarning: Data Validation extension is not supported and will be removed\n",
      "  warn(msg)\n",
      "C:\\Users\\redda\\AppData\\Roaming\\Python\\Python311\\site-packages\\openpyxl\\worksheet\\_reader.py:329: UserWarning: Data Validation extension is not supported and will be removed\n",
      "  warn(msg)\n"
     ]
    },
    {
     "name": "stdout",
     "output_type": "stream",
     "text": [
      "发票模板\\发票模板-兴义市鸿图锐意办公商贸有限公司-SO-2024-02-1198.xlsx\n",
      "发票模板\\发票模板-遵义王强-SO-2024-02-1220.xlsx\n"
     ]
    },
    {
     "name": "stderr",
     "output_type": "stream",
     "text": [
      "C:\\Users\\redda\\AppData\\Roaming\\Python\\Python311\\site-packages\\openpyxl\\worksheet\\_reader.py:329: UserWarning: Data Validation extension is not supported and will be removed\n",
      "  warn(msg)\n"
     ]
    }
   ],
   "source": [
    "gp = df_xiaoshou3.groupby('单据编号')\n",
    "for k,v  in gp:\n",
    "    dingdanhao = k\n",
    "    gongsi = v['客户'].to_list()[0]\n",
    "    newname = getFapiaoMobanDingdanhao(gongsi,dingdanhao)\n",
    "    print(newname)\n",
    "    pivot = getPivot(v)\n",
    "    # pivot1 = chuliMingchen(pivot)\n",
    "    fapiao = getFapiaoBen(pivot)\n",
    "    with pd.ExcelWriter(newname, engine='openpyxl',mode='a', if_sheet_exists='overlay')  as writer:\n",
    "        fapiao.to_excel(writer, sheet_name = '1-明细模板',startrow=3, header = False,index = False)\n",
    "    \n",
    "    \n",
    "    \n",
    "    \n",
    "    \n",
    "    \n",
    "    \n",
    "    \n",
    "    \n",
    "    \n"
   ]
  },
  {
   "cell_type": "code",
   "execution_count": null,
   "id": "c988b2a4-835d-41b9-9b85-b9a2f3297617",
   "metadata": {},
   "outputs": [],
   "source": [
    "import pandas as pd\n",
    " \n",
    "# 示例数据\n",
    "df = pd.DataFrame({\n",
    "    'A': ['foo', 'foo', 'foo', 'bar', 'bar', 'bar'],\n",
    "    'B': ['one', 'one', 'two', 'two', 'one', 'one'],\n",
    "    'C': ['small', 'large', 'large', 'small', 'small', 'large'],\n",
    "     'F': ['small1', 'large1', 'large1', 'small1', 'small1', 'large1'],\n",
    "    'D': [1, 2, 2, 3, 3, 4],\n",
    "    'E': [2, 4, 5, 5, 6, 6]\n",
    "})\n",
    " \n",
    "df"
   ]
  },
  {
   "cell_type": "code",
   "execution_count": null,
   "id": "a49c2d85-5957-41c4-b742-92e75b3e7663",
   "metadata": {},
   "outputs": [],
   "source": [
    "import pandas as pd\n",
    " \n",
    "# 示例数据\n",
    "df = pd.DataFrame({\n",
    "    'A': ['foo', 'foo', 'foo', 'bar', 'bar', 'bar'],\n",
    "    'B': ['one', 'one', 'two', 'two', 'one', 'one'],\n",
    "    'C': ['small', 'large', 'large', 'small', 'small', 'large'],\n",
    "    'D': [1, 2, 2, 3, 3, 4],\n",
    "    'E': [2, 4, 5, 5, 6, 6]\n",
    "})\n",
    " \n",
    "# 创建透视表，并使用margins参数汇总\n",
    "pivot_table = df.pivot_table(values='D', index=['A', 'B'], columns=['C'], aggfunc='sum', margins=True)\n",
    " \n",
    "# 将多层索引转换为常规列，并将不是汇总的字段展开\n",
    "melted = pivot_table.reset_index().melt(id_vars=['A', 'B'], value_vars=pivot_table.columns.levels[1].unique(), var_name='C')\n",
    " \n",
    "# 将汇总行转换为常规列\n",
    "melted['C'] = melted['C'].str.split('(').str[0]\n",
    " \n",
    "# 重置索引\n",
    "melted = melted.dropna(subset=['C']).reset_index(drop=True)\n",
    " \n",
    "print(melted)"
   ]
  },
  {
   "cell_type": "code",
   "execution_count": null,
   "id": "4556b74e-5077-4b88-a5c1-a8757c901b48",
   "metadata": {},
   "outputs": [],
   "source": [
    "import pandas as pd\n",
    "\n",
    "# 创建示例数据集\n",
    "data = {\n",
    "    'A': ['foo', 'foo', 'foo', 'bar', 'bar', 'bar'],\n",
    "    'B': ['one', 'one', 'two', 'two', 'one', 'one'],\n",
    "    'C': [1, 2, 3, 4, 5, 6],\n",
    "    'D': [7, 8, 9, 10, 11, 12]\n",
    "}\n",
    "\n",
    "df = pd.DataFrame(data)\n",
    "\n",
    "# 创建透视表\n",
    "pivot_table = pd.pivot_table(df, values='C', index='A', columns='B', aggfunc='sum', fill_value=0)\n",
    "print(pivot_table)\n"
   ]
  },
  {
   "cell_type": "code",
   "execution_count": null,
   "id": "1c630051-9dfe-4dcd-9917-0cfa51a87941",
   "metadata": {},
   "outputs": [],
   "source": [
    "df = pd.read_clipboard()\n",
    "df"
   ]
  },
  {
   "cell_type": "code",
   "execution_count": null,
   "id": "0d47b124-e080-4ebf-86d5-94fe4b034157",
   "metadata": {},
   "outputs": [],
   "source": [
    "df['fengeshu'] = df['存货编码'].str.split('-').str.len()"
   ]
  },
  {
   "cell_type": "code",
   "execution_count": null,
   "id": "12f83100-4f70-4bf0-8e0b-8d4e59528832",
   "metadata": {},
   "outputs": [],
   "source": [
    "df['fengeshu'] "
   ]
  },
  {
   "cell_type": "code",
   "execution_count": null,
   "id": "64e8acb8-54b4-40a5-beb8-022b80a02be9",
   "metadata": {},
   "outputs": [],
   "source": [
    "df.to_excel('fenge.xlsx',index = False)"
   ]
  },
  {
   "cell_type": "code",
   "execution_count": null,
   "id": "d2206ab6-8ecd-4ee8-9e1e-74470f890965",
   "metadata": {},
   "outputs": [],
   "source": [
    "\n",
    "    \n",
    "    \n",
    "    \n",
    "    # df['fengeshu'] = df['存货编码'].str.split('-').str.len()\n",
    "    # df['bianma1'] = df['存货编码']\n",
    "    # df = df.assign(bianma1  = np.where(df['fenggeshu'] == 1, df['存货编码'],np.where(df['fenggeshu'] == 2,)))\n",
    "    \n",
    "    "
   ]
  },
  {
   "cell_type": "code",
   "execution_count": null,
   "id": "2eaec1d1-05e9-4247-8d8b-19be013e9737",
   "metadata": {},
   "outputs": [],
   "source": [
    "s = []\n",
    "for i in df['存货编码'].to_list():\n",
    "    print(i)\n",
    "    \n",
    "    j = fengefu(i)\n",
    "    print('j',j)\n",
    "    s.append(j)\n",
    "s\n"
   ]
  },
  {
   "cell_type": "code",
   "execution_count": null,
   "id": "89706f64-ed8b-4638-ad9b-191ccc0816be",
   "metadata": {},
   "outputs": [],
   "source": [
    "s"
   ]
  },
  {
   "cell_type": "code",
   "execution_count": null,
   "id": "ce1939a1-4fb7-41fe-8c3c-e646f20797c1",
   "metadata": {},
   "outputs": [],
   "source": [
    "len(s)"
   ]
  },
  {
   "cell_type": "code",
   "execution_count": null,
   "id": "96034210-3577-4e91-9992-b33b6a3881aa",
   "metadata": {},
   "outputs": [],
   "source": [
    "len(df['存货编码'])"
   ]
  },
  {
   "cell_type": "code",
   "execution_count": null,
   "id": "a54057f9-a4b1-435f-a9dc-d74f0850904e",
   "metadata": {},
   "outputs": [],
   "source": [
    "df"
   ]
  },
  {
   "cell_type": "code",
   "execution_count": null,
   "id": "957213fe-1259-4dd8-a659-2913adc793fc",
   "metadata": {},
   "outputs": [],
   "source": [
    "df['存货编码1'] = s"
   ]
  },
  {
   "cell_type": "code",
   "execution_count": null,
   "id": "b276f817-5659-4994-9a67-666a0c3c22ba",
   "metadata": {},
   "outputs": [],
   "source": [
    "df.to_excel('fengehou.xlsx',index = False)"
   ]
  },
  {
   "cell_type": "code",
   "execution_count": null,
   "id": "b7871a77-55dd-4be9-a5aa-7fdbc31b4715",
   "metadata": {},
   "outputs": [],
   "source": [
    "df_xiaoshou3"
   ]
  },
  {
   "cell_type": "code",
   "execution_count": null,
   "id": "2e05ba21-d656-4efe-90e1-624b153ae219",
   "metadata": {},
   "outputs": [],
   "source": [
    "pivot"
   ]
  },
  {
   "cell_type": "code",
   "execution_count": null,
   "id": "7a7f6623-0f67-40e9-8d18-ecb5b9c74d6a",
   "metadata": {},
   "outputs": [],
   "source": [
    "df1 = pd.read_clipboard()\n",
    "df1\n"
   ]
  },
  {
   "cell_type": "code",
   "execution_count": null,
   "id": "fb24d71c-e55f-48fa-8ab8-eb1f65dcee57",
   "metadata": {},
   "outputs": [],
   "source": [
    "# guiges_qian = []\n",
    "# guiges_hou = []\n",
    "def guige(string):\n",
    "    if ('型' in string) and ('页' in string):\n",
    "        qian = string.split('型')[0] + '型'\n",
    "        hou =  string.split('型')[1] \n",
    "    elif ('型' in string) or ('页' in string):\n",
    "        if '型' in string :\n",
    "            qian = string.split('型')[0] + '型'\n",
    "            hou =  string.split('型')[1] \n",
    "        else :\n",
    "            qian = string.split('页')[0] + '页'\n",
    "            hou =  string.split('页')[1] \n",
    "    else :\n",
    "        qian = ''\n",
    "        hou = ''\n",
    "                \n",
    "  \n",
    "    \n",
    "    return qian,hou\n",
    "    \n",
    "        \n",
    "    \n",
    "        \n",
    "    "
   ]
  },
  {
   "cell_type": "code",
   "execution_count": null,
   "id": "f4c0dc32-d1da-4f83-a2cc-d45470f99454",
   "metadata": {},
   "outputs": [],
   "source": [
    "qian,hou = guige('aa型aa')\n",
    "qian\n",
    "hou"
   ]
  },
  {
   "cell_type": "code",
   "execution_count": null,
   "id": "5d5f7a91-4dff-48db-8858-82087be3cc8d",
   "metadata": {},
   "outputs": [],
   "source": [
    "\"型\" in 'aa型aa型'"
   ]
  },
  {
   "cell_type": "code",
   "execution_count": null,
   "id": "e913999a-7f21-4f46-aa04-10b15dc4966d",
   "metadata": {},
   "outputs": [],
   "source": [
    "'aa型aa'.startswith('型') != True"
   ]
  },
  {
   "cell_type": "code",
   "execution_count": null,
   "id": "0c92e12a-f5ef-4763-8d7b-af50e5353bb1",
   "metadata": {},
   "outputs": [],
   "source": [
    "'型aa型aa型'.count('型')"
   ]
  },
  {
   "cell_type": "code",
   "execution_count": null,
   "id": "d5cca868-138b-4664-97e5-9ff431c999d5",
   "metadata": {},
   "outputs": [],
   "source": []
  },
  {
   "cell_type": "code",
   "execution_count": null,
   "id": "729685ef-8357-46e6-b087-1d82acdb0662",
   "metadata": {},
   "outputs": [],
   "source": [
    "guiges_qian = []\n",
    "guiges_hou = []\n",
    "for i in df1['规格型号'].to_list():\n",
    "    qian,hou = guige(i)\n",
    "    print(qian,hou)\n",
    "    guiges_qian.append(qian)\n",
    "    guiges_hou.append(hou)\n"
   ]
  },
  {
   "cell_type": "code",
   "execution_count": null,
   "id": "5c1ef990-9e84-49cb-90fa-2753775d0caa",
   "metadata": {},
   "outputs": [],
   "source": [
    "guiges_qian"
   ]
  },
  {
   "cell_type": "code",
   "execution_count": null,
   "id": "0c28f895-9d9b-4c8c-b884-9dff107d067c",
   "metadata": {},
   "outputs": [],
   "source": [
    "guiges_hou"
   ]
  },
  {
   "cell_type": "code",
   "execution_count": null,
   "id": "c80a2ee5-3486-4d87-8750-ebc257befe0e",
   "metadata": {},
   "outputs": [],
   "source": [
    "len(guiges_hou)"
   ]
  },
  {
   "cell_type": "code",
   "execution_count": null,
   "id": "48ee6071-163a-4ec9-b708-f8734a9ff8cd",
   "metadata": {},
   "outputs": [],
   "source": [
    "pivot"
   ]
  },
  {
   "cell_type": "code",
   "execution_count": null,
   "id": "137cc734-4a4b-4149-8da0-c2672d7a08e5",
   "metadata": {},
   "outputs": [],
   "source": [
    "qian,hou = guige('16K80精品道林页卡面语文本B2301')"
   ]
  },
  {
   "cell_type": "code",
   "execution_count": null,
   "id": "952dd815-0f8b-4cc4-a09b-a8492c2ad9c6",
   "metadata": {},
   "outputs": [],
   "source": [
    "qian"
   ]
  },
  {
   "cell_type": "code",
   "execution_count": null,
   "id": "095d7b2e-7d42-414a-bdc8-5db49adb2e91",
   "metadata": {},
   "outputs": [],
   "source": [
    "hou"
   ]
  },
  {
   "cell_type": "code",
   "execution_count": null,
   "id": "1f74ca74-9f52-4d84-a784-31ea27a26785",
   "metadata": {},
   "outputs": [],
   "source": [
    "guige_qian = []\n",
    "guige_hou = []\n",
    "for i in pivot['存货名称'].to_list():\n",
    "    qian0,hou0 = guige(pivot)\n",
    "    guige_qian.append(qian0)\n",
    "    guige_hou.append(hou0)\n",
    "pivot = pivot.assign(qian = guige_qian)\n",
    "pivot = pivot.assign(hou = guige_hou)\n",
    "pivot"
   ]
  },
  {
   "cell_type": "code",
   "execution_count": null,
   "id": "328752dd-6718-4344-ab14-81c0552b2677",
   "metadata": {},
   "outputs": [],
   "source": [
    "guige_qian = []\n",
    "guige_hou = []\n",
    "for i in pivot['存货名称'].to_list():\n",
    "    qian0,hou0 = guige(pivot)\n",
    "    guige_qian.append(qian0)\n",
    "    guige_hou.append(hou0)\n",
    "pivot = pivot.assign(qian = guige_qian)\n",
    "pivot = pivot.assign(hou = guige_hou)\n",
    "pivot\n",
    "    "
   ]
  },
  {
   "cell_type": "code",
   "execution_count": null,
   "id": "c1ddb496-fd4a-4004-951c-f78bdfb50001",
   "metadata": {},
   "outputs": [],
   "source": [
    "pivot"
   ]
  },
  {
   "cell_type": "code",
   "execution_count": null,
   "id": "9f9b6b54-fe09-42e8-b692-47f2d80cf1a0",
   "metadata": {},
   "outputs": [],
   "source": []
  }
 ],
 "metadata": {
  "kernelspec": {
   "display_name": "Python 3 (ipykernel)",
   "language": "python",
   "name": "python3"
  },
  "language_info": {
   "codemirror_mode": {
    "name": "ipython",
    "version": 3
   },
   "file_extension": ".py",
   "mimetype": "text/x-python",
   "name": "python",
   "nbconvert_exporter": "python",
   "pygments_lexer": "ipython3",
   "version": "3.11.5"
  }
 },
 "nbformat": 4,
 "nbformat_minor": 5
}
