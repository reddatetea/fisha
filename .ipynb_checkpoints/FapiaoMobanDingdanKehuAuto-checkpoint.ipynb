{
 "cells": [
  {
   "cell_type": "code",
   "execution_count": 7,
   "id": "a6ffe7e6-36a1-4d08-a31b-d19d34ff3e0c",
   "metadata": {},
   "outputs": [],
   "source": [
    "'''\n",
    "tcloud中用销售订单生成税局发票模板\n",
    "1. 分别按每个销售订单汇总，再按存货编码汇总，批量生成发票模板，存于同一文件夹下\n",
    "2. 分别按每个客户汇总，再按存货编码汇总，批量生成发票模板，存于同一文件夹下\n",
    "3. 选择税率\n",
    "全部自动生成\n",
    "\n",
    "\n",
    "'''\n",
    "import os\n",
    "import re\n",
    "import easygui\n",
    "import openpyxl\n",
    "import numpy as np\n",
    "import pandas as pd\n",
    "import shutil"
   ]
  },
  {
   "cell_type": "code",
   "execution_count": 8,
   "id": "e9b9ca65-24cd-4e12-9b65-199d10aa9387",
   "metadata": {},
   "outputs": [],
   "source": [
    "def getPivot(df):\n",
    "    bianba_fenlei = dict(zip(df['存货编码'],df['存货分类']))\n",
    "    bianba_mingchen = dict(zip(df['存货编码'],df['存货名称']))\n",
    "    bianba_daima = dict(zip(df['存货编码'],df['存货代码']))\n",
    "    bianba_hanlian = dict(zip(df['存货编码'],df['件含量']))\n",
    "    pivot = df.pivot_table(index = '存货编码',values = ['数量','数量（件）','含税金额'] ,aggfunc = 'sum')\n",
    "    pivot = pivot.reset_index()\n",
    "    pivot = pivot.assign(fenlei = pivot['存货编码'].map(bianba_fenlei))\n",
    "    pivot = pivot.assign(mingchen = pivot['存货编码'].map(bianba_mingchen))\n",
    "    pivot = pivot.assign(daima = pivot['存货编码'].map(bianba_daima))\n",
    "    pivot = pivot.assign(hanliang = pivot['存货编码'].map(bianba_hanlian))\n",
    "    dic = dict(zip(['fenlei','mingchen','daima','hanliang'],['存货分类','存货名称','存货代码','件含量']))\n",
    "    pivot = pivot.rename(columns =  dic)\n",
    "    guige_qian = []\n",
    "    guige_hou = []\n",
    "    for i in pivot['存货名称'].to_list():\n",
    "        qian0,hou0 = guige(i)\n",
    "        guige_qian.append(qian0)\n",
    "        guige_hou.append(hou0)\n",
    "    pivot = pivot.assign(qian = guige_qian)\n",
    "    pivot = pivot.assign(hou = guige_hou)\n",
    "    return pivot\n",
    "\n",
    "def getFapiaoBen(d,shuilu,shuliang_fangsi):\n",
    "    \n",
    "    d['项目名称'] = d['存货编码'] +  d['hou']\n",
    "    d['项目名称'] = d['项目名称'].str.replace('运费-','运费')\n",
    "    # d['项目名称'] = d['项目名称'].str.split('-').str[0]\n",
    "    d['商品和服务税收分类编码'] = '1060202010000000000'\n",
    "    d['规格型号'] = d['qian']\n",
    "    if shuliang_fangsi == '本数':\n",
    "        d['单位'] = '本'\n",
    "        d['商品数量'] = d['数量']\n",
    "    else :\n",
    "        d['单位'] = '件'\n",
    "        d['商品数量'] = d['数量（件）']\n",
    "        \n",
    "    d['商品单价'] = ''\n",
    "    d['金额'] = d['含税金额']\n",
    "    d['税率'] = shuilu\n",
    "    d['折扣金额'] = ''\n",
    "    d['优惠政策类型'] = ''\n",
    "    d = d[['项目名称',\n",
    "     '商品和服务税收分类编码',\n",
    "     '规格型号',\n",
    "     '单位',\n",
    "     '商品数量',\n",
    "     '商品单价',\n",
    "     '金额',\n",
    "     '税率',\n",
    "     '折扣金额',\n",
    "     '优惠政策类型',]]\n",
    "    return d\n",
    "\n",
    "def getFapiaoMoban(gongsi,shuliang_fangsi):\n",
    "    filename=''.join(['发票模板-',shuliang_fangsi,'-',gongsi,'.xlsx'])\n",
    "    newname = os.path.join(path1,filename)\n",
    "    shutil.copyfile(fname_fapiao, newname)\n",
    "    return newname\n",
    "\n",
    "def getFapiaoMobanDingdanhao(gongsi,shuliang_fangsi,dingdanhao):\n",
    "    filename=''.join(['发票模板-',gongsi,'-',shuliang_fangsi,'-',dingdanhao,'.xlsx'])\n",
    "    newname = os.path.join(path1,filename)\n",
    "    shutil.copyfile(fname_fapiao, newname)\n",
    "    return newname\n",
    "\n",
    "def fengefu(string):\n",
    "    num = len(string.split('-'))\n",
    "    if num  == 3 :\n",
    "        string = '-'.join([string.split('-')[0],string.split('-')[1]])\n",
    "    elif num == 2 :\n",
    "        if len(string.split('-')[0]) <= 4:\n",
    "            string = string\n",
    "        else :\n",
    "            string = string.split('-')[0]\n",
    "    else :\n",
    "        string = string\n",
    "    return string\n",
    "\n",
    "def guige(string):\n",
    "    if ('型' in string) and ('页' in string):\n",
    "        qian0 = string.split('型')[0] + '型'\n",
    "        hou0 =  string.split('型')[1] \n",
    "    elif ('型' in string) or ('页' in string):\n",
    "        if '型' in string :\n",
    "            qian0 = string.split('型')[0] + '型'\n",
    "            hou0 =  string.split('型')[1] \n",
    "        else :\n",
    "            qian0 = string.split('页')[0] + '页'\n",
    "            hou0 =  string.split('页')[1] \n",
    "    else :\n",
    "        qian0 = ''\n",
    "        hou0 = ''\n",
    "    return qian0,hou0    \n",
    "            \n",
    "    \n",
    "    "
   ]
  },
  {
   "cell_type": "code",
   "execution_count": 9,
   "id": "432bc23f-fb7f-4d0b-a263-dfd9cbc759b7",
   "metadata": {},
   "outputs": [],
   "source": [
    "path = r\"F:\\repos\\fisha\\莱新销售订单0826-0925\"\n",
    "os.chdir(path)\n",
    "#莱新销售订单超5000条，不能一次导出，分三次导出，并分别存于同一文件下，先将它们合并\n",
    "data = []\n",
    "for i in os.listdir(path):\n",
    "    if  os.path.isfile(i):\n",
    "        i = os.path.join(path,i)\n",
    "        df = pd.read_excel(i)\n",
    "        data.append(df)\n",
    "    else :\n",
    "        continue\n",
    "   \n",
    "\n",
    "df_xiaoshou0 = pd.concat(data)\n",
    "df_xiaoshou1 = df_xiaoshou0.loc[df_xiaoshou0['单据执行状态'] != '合计']\n",
    "lst1 = ['单据编号',\n",
    "  '单据日期',\n",
    " '含税总金额',\n",
    " '存货名称',\n",
    " '存货分类',\n",
    " '存货编码',\n",
    "  '存货代码',\n",
    "  '数量',\n",
    "  '件含量',\n",
    " '数量（件）',\n",
    "  '含税单价',\n",
    " '含税金额',\n",
    "        '客户']\n",
    "df_xiaoshou2 = df_xiaoshou1[lst1]\n",
    "df_xiaoshou3 = df_xiaoshou2.copy()\n",
    "s = []\n",
    "for i in df_xiaoshou2['存货编码'].to_list():\n",
    "    j = fengefu(i)\n",
    "    s.append(j)\n",
    "df_xiaoshou3['存货编码'] = s"
   ]
  },
  {
   "cell_type": "code",
   "execution_count": 10,
   "id": "09bd583f-676c-4b51-b363-bcbd158cc6df",
   "metadata": {},
   "outputs": [],
   "source": [
    "#选择税率\n",
    "shuilu = easygui.choicebox(msg = '请选择税率',choices = [0.13,0.01,0.02])\n",
    "shuilu  = float(shuilu)\n",
    "#选择数量的开具方式，件数or本数\n",
    "shuliang_fangsi = easygui.choicebox(msg = '请选择数量开具方式',choices = ['件数','本数'])\n",
    "# #选择发票开具方式\n",
    "# fapiao_fangsi = easygui.choicebox(msg = '请选择发票开具方式',choices = ['按客户和存货编码','按销售订单和存货编码','按客户汇总'])"
   ]
  },
  {
   "cell_type": "code",
   "execution_count": 11,
   "id": "df0bcd1c-144f-49b0-9f78-275c734be3d4",
   "metadata": {},
   "outputs": [
    {
     "data": {
      "text/html": [
       "<div>\n",
       "<style scoped>\n",
       "    .dataframe tbody tr th:only-of-type {\n",
       "        vertical-align: middle;\n",
       "    }\n",
       "\n",
       "    .dataframe tbody tr th {\n",
       "        vertical-align: top;\n",
       "    }\n",
       "\n",
       "    .dataframe thead th {\n",
       "        text-align: right;\n",
       "    }\n",
       "</style>\n",
       "<table border=\"1\" class=\"dataframe\">\n",
       "  <thead>\n",
       "    <tr style=\"text-align: right;\">\n",
       "      <th></th>\n",
       "      <th>项目名称</th>\n",
       "      <th>商品和服务税收分类编码</th>\n",
       "      <th>规格型号</th>\n",
       "      <th>单位</th>\n",
       "      <th>商品数量</th>\n",
       "      <th>商品单价</th>\n",
       "      <th>金额</th>\n",
       "      <th>税率</th>\n",
       "      <th>折扣金额</th>\n",
       "      <th>优惠政策类型</th>\n",
       "    </tr>\n",
       "  </thead>\n",
       "  <tbody>\n",
       "  </tbody>\n",
       "</table>\n",
       "</div>"
      ],
      "text/plain": [
       "Empty DataFrame\n",
       "Columns: [项目名称, 商品和服务税收分类编码, 规格型号, 单位, 商品数量, 商品单价, 金额, 税率, 折扣金额, 优惠政策类型]\n",
       "Index: []"
      ]
     },
     "execution_count": 11,
     "metadata": {},
     "output_type": "execute_result"
    }
   ],
   "source": [
    "#读取发票模板\n",
    "fname_fapiao = r\"F:\\repos\\fish\\发票模板.xlsx\"\n",
    "df_fapiao = pd.read_excel(fname_fapiao,header = 2,dtype = {'商品和服务税收分类编码':'str'})\n",
    "df_fapiao"
   ]
  },
  {
   "cell_type": "code",
   "execution_count": 12,
   "id": "2d7deff6-da50-4dc9-a55e-99ef17b2f58f",
   "metadata": {},
   "outputs": [
    {
     "name": "stderr",
     "output_type": "stream",
     "text": [
      "C:\\Users\\redda\\AppData\\Roaming\\Python\\Python311\\site-packages\\openpyxl\\worksheet\\_reader.py:329: UserWarning: Data Validation extension is not supported and will be removed\n",
      "  warn(msg)\n",
      "C:\\Users\\redda\\AppData\\Roaming\\Python\\Python311\\site-packages\\openpyxl\\worksheet\\_reader.py:329: UserWarning: Data Validation extension is not supported and will be removed\n",
      "  warn(msg)\n",
      "C:\\Users\\redda\\AppData\\Roaming\\Python\\Python311\\site-packages\\openpyxl\\worksheet\\_reader.py:329: UserWarning: Data Validation extension is not supported and will be removed\n",
      "  warn(msg)\n",
      "C:\\Users\\redda\\AppData\\Roaming\\Python\\Python311\\site-packages\\openpyxl\\worksheet\\_reader.py:329: UserWarning: Data Validation extension is not supported and will be removed\n",
      "  warn(msg)\n",
      "C:\\Users\\redda\\AppData\\Roaming\\Python\\Python311\\site-packages\\openpyxl\\worksheet\\_reader.py:329: UserWarning: Data Validation extension is not supported and will be removed\n",
      "  warn(msg)\n",
      "C:\\Users\\redda\\AppData\\Roaming\\Python\\Python311\\site-packages\\openpyxl\\worksheet\\_reader.py:329: UserWarning: Data Validation extension is not supported and will be removed\n",
      "  warn(msg)\n",
      "C:\\Users\\redda\\AppData\\Roaming\\Python\\Python311\\site-packages\\openpyxl\\worksheet\\_reader.py:329: UserWarning: Data Validation extension is not supported and will be removed\n",
      "  warn(msg)\n",
      "C:\\Users\\redda\\AppData\\Roaming\\Python\\Python311\\site-packages\\openpyxl\\worksheet\\_reader.py:329: UserWarning: Data Validation extension is not supported and will be removed\n",
      "  warn(msg)\n",
      "C:\\Users\\redda\\AppData\\Roaming\\Python\\Python311\\site-packages\\openpyxl\\worksheet\\_reader.py:329: UserWarning: Data Validation extension is not supported and will be removed\n",
      "  warn(msg)\n",
      "C:\\Users\\redda\\AppData\\Roaming\\Python\\Python311\\site-packages\\openpyxl\\worksheet\\_reader.py:329: UserWarning: Data Validation extension is not supported and will be removed\n",
      "  warn(msg)\n",
      "C:\\Users\\redda\\AppData\\Roaming\\Python\\Python311\\site-packages\\openpyxl\\worksheet\\_reader.py:329: UserWarning: Data Validation extension is not supported and will be removed\n",
      "  warn(msg)\n",
      "C:\\Users\\redda\\AppData\\Roaming\\Python\\Python311\\site-packages\\openpyxl\\worksheet\\_reader.py:329: UserWarning: Data Validation extension is not supported and will be removed\n",
      "  warn(msg)\n",
      "C:\\Users\\redda\\AppData\\Roaming\\Python\\Python311\\site-packages\\openpyxl\\worksheet\\_reader.py:329: UserWarning: Data Validation extension is not supported and will be removed\n",
      "  warn(msg)\n",
      "C:\\Users\\redda\\AppData\\Roaming\\Python\\Python311\\site-packages\\openpyxl\\worksheet\\_reader.py:329: UserWarning: Data Validation extension is not supported and will be removed\n",
      "  warn(msg)\n",
      "C:\\Users\\redda\\AppData\\Roaming\\Python\\Python311\\site-packages\\openpyxl\\worksheet\\_reader.py:329: UserWarning: Data Validation extension is not supported and will be removed\n",
      "  warn(msg)\n",
      "C:\\Users\\redda\\AppData\\Roaming\\Python\\Python311\\site-packages\\openpyxl\\worksheet\\_reader.py:329: UserWarning: Data Validation extension is not supported and will be removed\n",
      "  warn(msg)\n",
      "C:\\Users\\redda\\AppData\\Roaming\\Python\\Python311\\site-packages\\openpyxl\\worksheet\\_reader.py:329: UserWarning: Data Validation extension is not supported and will be removed\n",
      "  warn(msg)\n",
      "C:\\Users\\redda\\AppData\\Roaming\\Python\\Python311\\site-packages\\openpyxl\\worksheet\\_reader.py:329: UserWarning: Data Validation extension is not supported and will be removed\n",
      "  warn(msg)\n",
      "C:\\Users\\redda\\AppData\\Roaming\\Python\\Python311\\site-packages\\openpyxl\\worksheet\\_reader.py:329: UserWarning: Data Validation extension is not supported and will be removed\n",
      "  warn(msg)\n",
      "C:\\Users\\redda\\AppData\\Roaming\\Python\\Python311\\site-packages\\openpyxl\\worksheet\\_reader.py:329: UserWarning: Data Validation extension is not supported and will be removed\n",
      "  warn(msg)\n",
      "C:\\Users\\redda\\AppData\\Roaming\\Python\\Python311\\site-packages\\openpyxl\\worksheet\\_reader.py:329: UserWarning: Data Validation extension is not supported and will be removed\n",
      "  warn(msg)\n",
      "C:\\Users\\redda\\AppData\\Roaming\\Python\\Python311\\site-packages\\openpyxl\\worksheet\\_reader.py:329: UserWarning: Data Validation extension is not supported and will be removed\n",
      "  warn(msg)\n",
      "C:\\Users\\redda\\AppData\\Roaming\\Python\\Python311\\site-packages\\openpyxl\\worksheet\\_reader.py:329: UserWarning: Data Validation extension is not supported and will be removed\n",
      "  warn(msg)\n",
      "C:\\Users\\redda\\AppData\\Roaming\\Python\\Python311\\site-packages\\openpyxl\\worksheet\\_reader.py:329: UserWarning: Data Validation extension is not supported and will be removed\n",
      "  warn(msg)\n",
      "C:\\Users\\redda\\AppData\\Roaming\\Python\\Python311\\site-packages\\openpyxl\\worksheet\\_reader.py:329: UserWarning: Data Validation extension is not supported and will be removed\n",
      "  warn(msg)\n",
      "C:\\Users\\redda\\AppData\\Roaming\\Python\\Python311\\site-packages\\openpyxl\\worksheet\\_reader.py:329: UserWarning: Data Validation extension is not supported and will be removed\n",
      "  warn(msg)\n",
      "C:\\Users\\redda\\AppData\\Roaming\\Python\\Python311\\site-packages\\openpyxl\\worksheet\\_reader.py:329: UserWarning: Data Validation extension is not supported and will be removed\n",
      "  warn(msg)\n",
      "C:\\Users\\redda\\AppData\\Roaming\\Python\\Python311\\site-packages\\openpyxl\\worksheet\\_reader.py:329: UserWarning: Data Validation extension is not supported and will be removed\n",
      "  warn(msg)\n",
      "C:\\Users\\redda\\AppData\\Roaming\\Python\\Python311\\site-packages\\openpyxl\\worksheet\\_reader.py:329: UserWarning: Data Validation extension is not supported and will be removed\n",
      "  warn(msg)\n",
      "C:\\Users\\redda\\AppData\\Roaming\\Python\\Python311\\site-packages\\openpyxl\\worksheet\\_reader.py:329: UserWarning: Data Validation extension is not supported and will be removed\n",
      "  warn(msg)\n",
      "C:\\Users\\redda\\AppData\\Roaming\\Python\\Python311\\site-packages\\openpyxl\\worksheet\\_reader.py:329: UserWarning: Data Validation extension is not supported and will be removed\n",
      "  warn(msg)\n",
      "C:\\Users\\redda\\AppData\\Roaming\\Python\\Python311\\site-packages\\openpyxl\\worksheet\\_reader.py:329: UserWarning: Data Validation extension is not supported and will be removed\n",
      "  warn(msg)\n",
      "C:\\Users\\redda\\AppData\\Roaming\\Python\\Python311\\site-packages\\openpyxl\\worksheet\\_reader.py:329: UserWarning: Data Validation extension is not supported and will be removed\n",
      "  warn(msg)\n",
      "C:\\Users\\redda\\AppData\\Roaming\\Python\\Python311\\site-packages\\openpyxl\\worksheet\\_reader.py:329: UserWarning: Data Validation extension is not supported and will be removed\n",
      "  warn(msg)\n",
      "C:\\Users\\redda\\AppData\\Roaming\\Python\\Python311\\site-packages\\openpyxl\\worksheet\\_reader.py:329: UserWarning: Data Validation extension is not supported and will be removed\n",
      "  warn(msg)\n",
      "C:\\Users\\redda\\AppData\\Roaming\\Python\\Python311\\site-packages\\openpyxl\\worksheet\\_reader.py:329: UserWarning: Data Validation extension is not supported and will be removed\n",
      "  warn(msg)\n",
      "C:\\Users\\redda\\AppData\\Roaming\\Python\\Python311\\site-packages\\openpyxl\\worksheet\\_reader.py:329: UserWarning: Data Validation extension is not supported and will be removed\n",
      "  warn(msg)\n",
      "C:\\Users\\redda\\AppData\\Roaming\\Python\\Python311\\site-packages\\openpyxl\\worksheet\\_reader.py:329: UserWarning: Data Validation extension is not supported and will be removed\n",
      "  warn(msg)\n",
      "C:\\Users\\redda\\AppData\\Roaming\\Python\\Python311\\site-packages\\openpyxl\\worksheet\\_reader.py:329: UserWarning: Data Validation extension is not supported and will be removed\n",
      "  warn(msg)\n",
      "C:\\Users\\redda\\AppData\\Roaming\\Python\\Python311\\site-packages\\openpyxl\\worksheet\\_reader.py:329: UserWarning: Data Validation extension is not supported and will be removed\n",
      "  warn(msg)\n",
      "C:\\Users\\redda\\AppData\\Roaming\\Python\\Python311\\site-packages\\openpyxl\\worksheet\\_reader.py:329: UserWarning: Data Validation extension is not supported and will be removed\n",
      "  warn(msg)\n",
      "C:\\Users\\redda\\AppData\\Roaming\\Python\\Python311\\site-packages\\openpyxl\\worksheet\\_reader.py:329: UserWarning: Data Validation extension is not supported and will be removed\n",
      "  warn(msg)\n",
      "C:\\Users\\redda\\AppData\\Roaming\\Python\\Python311\\site-packages\\openpyxl\\worksheet\\_reader.py:329: UserWarning: Data Validation extension is not supported and will be removed\n",
      "  warn(msg)\n",
      "C:\\Users\\redda\\AppData\\Roaming\\Python\\Python311\\site-packages\\openpyxl\\worksheet\\_reader.py:329: UserWarning: Data Validation extension is not supported and will be removed\n",
      "  warn(msg)\n",
      "C:\\Users\\redda\\AppData\\Roaming\\Python\\Python311\\site-packages\\openpyxl\\worksheet\\_reader.py:329: UserWarning: Data Validation extension is not supported and will be removed\n",
      "  warn(msg)\n",
      "C:\\Users\\redda\\AppData\\Roaming\\Python\\Python311\\site-packages\\openpyxl\\worksheet\\_reader.py:329: UserWarning: Data Validation extension is not supported and will be removed\n",
      "  warn(msg)\n",
      "C:\\Users\\redda\\AppData\\Roaming\\Python\\Python311\\site-packages\\openpyxl\\worksheet\\_reader.py:329: UserWarning: Data Validation extension is not supported and will be removed\n",
      "  warn(msg)\n",
      "C:\\Users\\redda\\AppData\\Roaming\\Python\\Python311\\site-packages\\openpyxl\\worksheet\\_reader.py:329: UserWarning: Data Validation extension is not supported and will be removed\n",
      "  warn(msg)\n",
      "C:\\Users\\redda\\AppData\\Roaming\\Python\\Python311\\site-packages\\openpyxl\\worksheet\\_reader.py:329: UserWarning: Data Validation extension is not supported and will be removed\n",
      "  warn(msg)\n",
      "C:\\Users\\redda\\AppData\\Roaming\\Python\\Python311\\site-packages\\openpyxl\\worksheet\\_reader.py:329: UserWarning: Data Validation extension is not supported and will be removed\n",
      "  warn(msg)\n",
      "C:\\Users\\redda\\AppData\\Roaming\\Python\\Python311\\site-packages\\openpyxl\\worksheet\\_reader.py:329: UserWarning: Data Validation extension is not supported and will be removed\n",
      "  warn(msg)\n",
      "C:\\Users\\redda\\AppData\\Roaming\\Python\\Python311\\site-packages\\openpyxl\\worksheet\\_reader.py:329: UserWarning: Data Validation extension is not supported and will be removed\n",
      "  warn(msg)\n",
      "C:\\Users\\redda\\AppData\\Roaming\\Python\\Python311\\site-packages\\openpyxl\\worksheet\\_reader.py:329: UserWarning: Data Validation extension is not supported and will be removed\n",
      "  warn(msg)\n",
      "C:\\Users\\redda\\AppData\\Roaming\\Python\\Python311\\site-packages\\openpyxl\\worksheet\\_reader.py:329: UserWarning: Data Validation extension is not supported and will be removed\n",
      "  warn(msg)\n",
      "C:\\Users\\redda\\AppData\\Roaming\\Python\\Python311\\site-packages\\openpyxl\\worksheet\\_reader.py:329: UserWarning: Data Validation extension is not supported and will be removed\n",
      "  warn(msg)\n",
      "C:\\Users\\redda\\AppData\\Roaming\\Python\\Python311\\site-packages\\openpyxl\\worksheet\\_reader.py:329: UserWarning: Data Validation extension is not supported and will be removed\n",
      "  warn(msg)\n",
      "C:\\Users\\redda\\AppData\\Roaming\\Python\\Python311\\site-packages\\openpyxl\\worksheet\\_reader.py:329: UserWarning: Data Validation extension is not supported and will be removed\n",
      "  warn(msg)\n",
      "C:\\Users\\redda\\AppData\\Roaming\\Python\\Python311\\site-packages\\openpyxl\\worksheet\\_reader.py:329: UserWarning: Data Validation extension is not supported and will be removed\n",
      "  warn(msg)\n",
      "C:\\Users\\redda\\AppData\\Roaming\\Python\\Python311\\site-packages\\openpyxl\\worksheet\\_reader.py:329: UserWarning: Data Validation extension is not supported and will be removed\n",
      "  warn(msg)\n",
      "C:\\Users\\redda\\AppData\\Roaming\\Python\\Python311\\site-packages\\openpyxl\\worksheet\\_reader.py:329: UserWarning: Data Validation extension is not supported and will be removed\n",
      "  warn(msg)\n",
      "C:\\Users\\redda\\AppData\\Roaming\\Python\\Python311\\site-packages\\openpyxl\\worksheet\\_reader.py:329: UserWarning: Data Validation extension is not supported and will be removed\n",
      "  warn(msg)\n",
      "C:\\Users\\redda\\AppData\\Roaming\\Python\\Python311\\site-packages\\openpyxl\\worksheet\\_reader.py:329: UserWarning: Data Validation extension is not supported and will be removed\n",
      "  warn(msg)\n",
      "C:\\Users\\redda\\AppData\\Roaming\\Python\\Python311\\site-packages\\openpyxl\\worksheet\\_reader.py:329: UserWarning: Data Validation extension is not supported and will be removed\n",
      "  warn(msg)\n",
      "C:\\Users\\redda\\AppData\\Roaming\\Python\\Python311\\site-packages\\openpyxl\\worksheet\\_reader.py:329: UserWarning: Data Validation extension is not supported and will be removed\n",
      "  warn(msg)\n",
      "C:\\Users\\redda\\AppData\\Roaming\\Python\\Python311\\site-packages\\openpyxl\\worksheet\\_reader.py:329: UserWarning: Data Validation extension is not supported and will be removed\n",
      "  warn(msg)\n",
      "C:\\Users\\redda\\AppData\\Roaming\\Python\\Python311\\site-packages\\openpyxl\\worksheet\\_reader.py:329: UserWarning: Data Validation extension is not supported and will be removed\n",
      "  warn(msg)\n",
      "C:\\Users\\redda\\AppData\\Roaming\\Python\\Python311\\site-packages\\openpyxl\\worksheet\\_reader.py:329: UserWarning: Data Validation extension is not supported and will be removed\n",
      "  warn(msg)\n",
      "C:\\Users\\redda\\AppData\\Roaming\\Python\\Python311\\site-packages\\openpyxl\\worksheet\\_reader.py:329: UserWarning: Data Validation extension is not supported and will be removed\n",
      "  warn(msg)\n",
      "C:\\Users\\redda\\AppData\\Roaming\\Python\\Python311\\site-packages\\openpyxl\\worksheet\\_reader.py:329: UserWarning: Data Validation extension is not supported and will be removed\n",
      "  warn(msg)\n",
      "C:\\Users\\redda\\AppData\\Roaming\\Python\\Python311\\site-packages\\openpyxl\\worksheet\\_reader.py:329: UserWarning: Data Validation extension is not supported and will be removed\n",
      "  warn(msg)\n",
      "C:\\Users\\redda\\AppData\\Roaming\\Python\\Python311\\site-packages\\openpyxl\\worksheet\\_reader.py:329: UserWarning: Data Validation extension is not supported and will be removed\n",
      "  warn(msg)\n",
      "C:\\Users\\redda\\AppData\\Roaming\\Python\\Python311\\site-packages\\openpyxl\\worksheet\\_reader.py:329: UserWarning: Data Validation extension is not supported and will be removed\n",
      "  warn(msg)\n",
      "C:\\Users\\redda\\AppData\\Roaming\\Python\\Python311\\site-packages\\openpyxl\\worksheet\\_reader.py:329: UserWarning: Data Validation extension is not supported and will be removed\n",
      "  warn(msg)\n",
      "C:\\Users\\redda\\AppData\\Roaming\\Python\\Python311\\site-packages\\openpyxl\\worksheet\\_reader.py:329: UserWarning: Data Validation extension is not supported and will be removed\n",
      "  warn(msg)\n",
      "C:\\Users\\redda\\AppData\\Roaming\\Python\\Python311\\site-packages\\openpyxl\\worksheet\\_reader.py:329: UserWarning: Data Validation extension is not supported and will be removed\n",
      "  warn(msg)\n",
      "C:\\Users\\redda\\AppData\\Roaming\\Python\\Python311\\site-packages\\openpyxl\\worksheet\\_reader.py:329: UserWarning: Data Validation extension is not supported and will be removed\n",
      "  warn(msg)\n",
      "C:\\Users\\redda\\AppData\\Roaming\\Python\\Python311\\site-packages\\openpyxl\\worksheet\\_reader.py:329: UserWarning: Data Validation extension is not supported and will be removed\n",
      "  warn(msg)\n",
      "C:\\Users\\redda\\AppData\\Roaming\\Python\\Python311\\site-packages\\openpyxl\\worksheet\\_reader.py:329: UserWarning: Data Validation extension is not supported and will be removed\n",
      "  warn(msg)\n",
      "C:\\Users\\redda\\AppData\\Roaming\\Python\\Python311\\site-packages\\openpyxl\\worksheet\\_reader.py:329: UserWarning: Data Validation extension is not supported and will be removed\n",
      "  warn(msg)\n",
      "C:\\Users\\redda\\AppData\\Roaming\\Python\\Python311\\site-packages\\openpyxl\\worksheet\\_reader.py:329: UserWarning: Data Validation extension is not supported and will be removed\n",
      "  warn(msg)\n",
      "C:\\Users\\redda\\AppData\\Roaming\\Python\\Python311\\site-packages\\openpyxl\\worksheet\\_reader.py:329: UserWarning: Data Validation extension is not supported and will be removed\n",
      "  warn(msg)\n",
      "C:\\Users\\redda\\AppData\\Roaming\\Python\\Python311\\site-packages\\openpyxl\\worksheet\\_reader.py:329: UserWarning: Data Validation extension is not supported and will be removed\n",
      "  warn(msg)\n",
      "C:\\Users\\redda\\AppData\\Roaming\\Python\\Python311\\site-packages\\openpyxl\\worksheet\\_reader.py:329: UserWarning: Data Validation extension is not supported and will be removed\n",
      "  warn(msg)\n",
      "C:\\Users\\redda\\AppData\\Roaming\\Python\\Python311\\site-packages\\openpyxl\\worksheet\\_reader.py:329: UserWarning: Data Validation extension is not supported and will be removed\n",
      "  warn(msg)\n",
      "C:\\Users\\redda\\AppData\\Roaming\\Python\\Python311\\site-packages\\openpyxl\\worksheet\\_reader.py:329: UserWarning: Data Validation extension is not supported and will be removed\n",
      "  warn(msg)\n",
      "C:\\Users\\redda\\AppData\\Roaming\\Python\\Python311\\site-packages\\openpyxl\\worksheet\\_reader.py:329: UserWarning: Data Validation extension is not supported and will be removed\n",
      "  warn(msg)\n",
      "C:\\Users\\redda\\AppData\\Roaming\\Python\\Python311\\site-packages\\openpyxl\\worksheet\\_reader.py:329: UserWarning: Data Validation extension is not supported and will be removed\n",
      "  warn(msg)\n",
      "C:\\Users\\redda\\AppData\\Roaming\\Python\\Python311\\site-packages\\openpyxl\\worksheet\\_reader.py:329: UserWarning: Data Validation extension is not supported and will be removed\n",
      "  warn(msg)\n",
      "C:\\Users\\redda\\AppData\\Roaming\\Python\\Python311\\site-packages\\openpyxl\\worksheet\\_reader.py:329: UserWarning: Data Validation extension is not supported and will be removed\n",
      "  warn(msg)\n",
      "C:\\Users\\redda\\AppData\\Roaming\\Python\\Python311\\site-packages\\openpyxl\\worksheet\\_reader.py:329: UserWarning: Data Validation extension is not supported and will be removed\n",
      "  warn(msg)\n",
      "C:\\Users\\redda\\AppData\\Roaming\\Python\\Python311\\site-packages\\openpyxl\\worksheet\\_reader.py:329: UserWarning: Data Validation extension is not supported and will be removed\n",
      "  warn(msg)\n",
      "C:\\Users\\redda\\AppData\\Roaming\\Python\\Python311\\site-packages\\openpyxl\\worksheet\\_reader.py:329: UserWarning: Data Validation extension is not supported and will be removed\n",
      "  warn(msg)\n",
      "C:\\Users\\redda\\AppData\\Roaming\\Python\\Python311\\site-packages\\openpyxl\\worksheet\\_reader.py:329: UserWarning: Data Validation extension is not supported and will be removed\n",
      "  warn(msg)\n",
      "C:\\Users\\redda\\AppData\\Roaming\\Python\\Python311\\site-packages\\openpyxl\\worksheet\\_reader.py:329: UserWarning: Data Validation extension is not supported and will be removed\n",
      "  warn(msg)\n",
      "C:\\Users\\redda\\AppData\\Roaming\\Python\\Python311\\site-packages\\openpyxl\\worksheet\\_reader.py:329: UserWarning: Data Validation extension is not supported and will be removed\n",
      "  warn(msg)\n",
      "C:\\Users\\redda\\AppData\\Roaming\\Python\\Python311\\site-packages\\openpyxl\\worksheet\\_reader.py:329: UserWarning: Data Validation extension is not supported and will be removed\n",
      "  warn(msg)\n",
      "C:\\Users\\redda\\AppData\\Roaming\\Python\\Python311\\site-packages\\openpyxl\\worksheet\\_reader.py:329: UserWarning: Data Validation extension is not supported and will be removed\n",
      "  warn(msg)\n",
      "C:\\Users\\redda\\AppData\\Roaming\\Python\\Python311\\site-packages\\openpyxl\\worksheet\\_reader.py:329: UserWarning: Data Validation extension is not supported and will be removed\n",
      "  warn(msg)\n",
      "C:\\Users\\redda\\AppData\\Roaming\\Python\\Python311\\site-packages\\openpyxl\\worksheet\\_reader.py:329: UserWarning: Data Validation extension is not supported and will be removed\n",
      "  warn(msg)\n",
      "C:\\Users\\redda\\AppData\\Roaming\\Python\\Python311\\site-packages\\openpyxl\\worksheet\\_reader.py:329: UserWarning: Data Validation extension is not supported and will be removed\n",
      "  warn(msg)\n",
      "C:\\Users\\redda\\AppData\\Roaming\\Python\\Python311\\site-packages\\openpyxl\\worksheet\\_reader.py:329: UserWarning: Data Validation extension is not supported and will be removed\n",
      "  warn(msg)\n",
      "C:\\Users\\redda\\AppData\\Roaming\\Python\\Python311\\site-packages\\openpyxl\\worksheet\\_reader.py:329: UserWarning: Data Validation extension is not supported and will be removed\n",
      "  warn(msg)\n",
      "C:\\Users\\redda\\AppData\\Roaming\\Python\\Python311\\site-packages\\openpyxl\\worksheet\\_reader.py:329: UserWarning: Data Validation extension is not supported and will be removed\n",
      "  warn(msg)\n",
      "C:\\Users\\redda\\AppData\\Roaming\\Python\\Python311\\site-packages\\openpyxl\\worksheet\\_reader.py:329: UserWarning: Data Validation extension is not supported and will be removed\n",
      "  warn(msg)\n",
      "C:\\Users\\redda\\AppData\\Roaming\\Python\\Python311\\site-packages\\openpyxl\\worksheet\\_reader.py:329: UserWarning: Data Validation extension is not supported and will be removed\n",
      "  warn(msg)\n",
      "C:\\Users\\redda\\AppData\\Roaming\\Python\\Python311\\site-packages\\openpyxl\\worksheet\\_reader.py:329: UserWarning: Data Validation extension is not supported and will be removed\n",
      "  warn(msg)\n",
      "C:\\Users\\redda\\AppData\\Roaming\\Python\\Python311\\site-packages\\openpyxl\\worksheet\\_reader.py:329: UserWarning: Data Validation extension is not supported and will be removed\n",
      "  warn(msg)\n",
      "C:\\Users\\redda\\AppData\\Roaming\\Python\\Python311\\site-packages\\openpyxl\\worksheet\\_reader.py:329: UserWarning: Data Validation extension is not supported and will be removed\n",
      "  warn(msg)\n",
      "C:\\Users\\redda\\AppData\\Roaming\\Python\\Python311\\site-packages\\openpyxl\\worksheet\\_reader.py:329: UserWarning: Data Validation extension is not supported and will be removed\n",
      "  warn(msg)\n",
      "C:\\Users\\redda\\AppData\\Roaming\\Python\\Python311\\site-packages\\openpyxl\\worksheet\\_reader.py:329: UserWarning: Data Validation extension is not supported and will be removed\n",
      "  warn(msg)\n",
      "C:\\Users\\redda\\AppData\\Roaming\\Python\\Python311\\site-packages\\openpyxl\\worksheet\\_reader.py:329: UserWarning: Data Validation extension is not supported and will be removed\n",
      "  warn(msg)\n",
      "C:\\Users\\redda\\AppData\\Roaming\\Python\\Python311\\site-packages\\openpyxl\\worksheet\\_reader.py:329: UserWarning: Data Validation extension is not supported and will be removed\n",
      "  warn(msg)\n",
      "C:\\Users\\redda\\AppData\\Roaming\\Python\\Python311\\site-packages\\openpyxl\\worksheet\\_reader.py:329: UserWarning: Data Validation extension is not supported and will be removed\n",
      "  warn(msg)\n",
      "C:\\Users\\redda\\AppData\\Roaming\\Python\\Python311\\site-packages\\openpyxl\\worksheet\\_reader.py:329: UserWarning: Data Validation extension is not supported and will be removed\n",
      "  warn(msg)\n",
      "C:\\Users\\redda\\AppData\\Roaming\\Python\\Python311\\site-packages\\openpyxl\\worksheet\\_reader.py:329: UserWarning: Data Validation extension is not supported and will be removed\n",
      "  warn(msg)\n",
      "C:\\Users\\redda\\AppData\\Roaming\\Python\\Python311\\site-packages\\openpyxl\\worksheet\\_reader.py:329: UserWarning: Data Validation extension is not supported and will be removed\n",
      "  warn(msg)\n",
      "C:\\Users\\redda\\AppData\\Roaming\\Python\\Python311\\site-packages\\openpyxl\\worksheet\\_reader.py:329: UserWarning: Data Validation extension is not supported and will be removed\n",
      "  warn(msg)\n",
      "C:\\Users\\redda\\AppData\\Roaming\\Python\\Python311\\site-packages\\openpyxl\\worksheet\\_reader.py:329: UserWarning: Data Validation extension is not supported and will be removed\n",
      "  warn(msg)\n",
      "C:\\Users\\redda\\AppData\\Roaming\\Python\\Python311\\site-packages\\openpyxl\\worksheet\\_reader.py:329: UserWarning: Data Validation extension is not supported and will be removed\n",
      "  warn(msg)\n",
      "C:\\Users\\redda\\AppData\\Roaming\\Python\\Python311\\site-packages\\openpyxl\\worksheet\\_reader.py:329: UserWarning: Data Validation extension is not supported and will be removed\n",
      "  warn(msg)\n",
      "C:\\Users\\redda\\AppData\\Roaming\\Python\\Python311\\site-packages\\openpyxl\\worksheet\\_reader.py:329: UserWarning: Data Validation extension is not supported and will be removed\n",
      "  warn(msg)\n",
      "C:\\Users\\redda\\AppData\\Roaming\\Python\\Python311\\site-packages\\openpyxl\\worksheet\\_reader.py:329: UserWarning: Data Validation extension is not supported and will be removed\n",
      "  warn(msg)\n",
      "C:\\Users\\redda\\AppData\\Roaming\\Python\\Python311\\site-packages\\openpyxl\\worksheet\\_reader.py:329: UserWarning: Data Validation extension is not supported and will be removed\n",
      "  warn(msg)\n",
      "C:\\Users\\redda\\AppData\\Roaming\\Python\\Python311\\site-packages\\openpyxl\\worksheet\\_reader.py:329: UserWarning: Data Validation extension is not supported and will be removed\n",
      "  warn(msg)\n",
      "C:\\Users\\redda\\AppData\\Roaming\\Python\\Python311\\site-packages\\openpyxl\\worksheet\\_reader.py:329: UserWarning: Data Validation extension is not supported and will be removed\n",
      "  warn(msg)\n",
      "C:\\Users\\redda\\AppData\\Roaming\\Python\\Python311\\site-packages\\openpyxl\\worksheet\\_reader.py:329: UserWarning: Data Validation extension is not supported and will be removed\n",
      "  warn(msg)\n"
     ]
    },
    {
     "name": "stdout",
     "output_type": "stream",
     "text": [
      "F:\\repos\\fisha\\莱新销售订单0826-0925\\发票模板-按销售订单和存货编码-件数\\发票模板-山东刘璐-SO-2024-02-0570-件数.xlsx\n"
     ]
    },
    {
     "name": "stderr",
     "output_type": "stream",
     "text": [
      "C:\\Users\\redda\\AppData\\Roaming\\Python\\Python311\\site-packages\\openpyxl\\worksheet\\_reader.py:329: UserWarning: Data Validation extension is not supported and will be removed\n",
      "  warn(msg)\n"
     ]
    },
    {
     "name": "stdout",
     "output_type": "stream",
     "text": [
      "F:\\repos\\fisha\\莱新销售订单0826-0925\\发票模板-按销售订单和存货编码-件数\\发票模板-安康市申达文化用品有限公司L-SO-2024-02-0571-件数.xlsx\n"
     ]
    },
    {
     "name": "stderr",
     "output_type": "stream",
     "text": [
      "C:\\Users\\redda\\AppData\\Roaming\\Python\\Python311\\site-packages\\openpyxl\\worksheet\\_reader.py:329: UserWarning: Data Validation extension is not supported and will be removed\n",
      "  warn(msg)\n"
     ]
    },
    {
     "name": "stdout",
     "output_type": "stream",
     "text": [
      "F:\\repos\\fisha\\莱新销售订单0826-0925\\发票模板-按销售订单和存货编码-件数\\发票模板-武汉市齐达利商贸有限公司-SO-2024-02-0572-件数.xlsx\n"
     ]
    },
    {
     "name": "stderr",
     "output_type": "stream",
     "text": [
      "C:\\Users\\redda\\AppData\\Roaming\\Python\\Python311\\site-packages\\openpyxl\\worksheet\\_reader.py:329: UserWarning: Data Validation extension is not supported and will be removed\n",
      "  warn(msg)\n"
     ]
    },
    {
     "name": "stdout",
     "output_type": "stream",
     "text": [
      "F:\\repos\\fisha\\莱新销售订单0826-0925\\发票模板-按销售订单和存货编码-件数\\发票模板-武汉今日成纸业有限公司-SO-2024-02-0573-件数.xlsx\n",
      "F:\\repos\\fisha\\莱新销售订单0826-0925\\发票模板-按销售订单和存货编码-件数\\发票模板-武汉金胜辉商贸有限公司-SO-2024-02-0574-件数.xlsx\n"
     ]
    },
    {
     "name": "stderr",
     "output_type": "stream",
     "text": [
      "C:\\Users\\redda\\AppData\\Roaming\\Python\\Python311\\site-packages\\openpyxl\\worksheet\\_reader.py:329: UserWarning: Data Validation extension is not supported and will be removed\n",
      "  warn(msg)\n",
      "C:\\Users\\redda\\AppData\\Roaming\\Python\\Python311\\site-packages\\openpyxl\\worksheet\\_reader.py:329: UserWarning: Data Validation extension is not supported and will be removed\n",
      "  warn(msg)\n"
     ]
    },
    {
     "name": "stdout",
     "output_type": "stream",
     "text": [
      "F:\\repos\\fisha\\莱新销售订单0826-0925\\发票模板-按销售订单和存货编码-件数\\发票模板-武汉金胜辉商贸有限公司-SO-2024-02-0575-件数.xlsx\n"
     ]
    },
    {
     "name": "stderr",
     "output_type": "stream",
     "text": [
      "C:\\Users\\redda\\AppData\\Roaming\\Python\\Python311\\site-packages\\openpyxl\\worksheet\\_reader.py:329: UserWarning: Data Validation extension is not supported and will be removed\n",
      "  warn(msg)\n"
     ]
    },
    {
     "name": "stdout",
     "output_type": "stream",
     "text": [
      "F:\\repos\\fisha\\莱新销售订单0826-0925\\发票模板-按销售订单和存货编码-件数\\发票模板-武汉米圣贸易有限公司-SO-2024-02-0576-件数.xlsx\n"
     ]
    },
    {
     "name": "stderr",
     "output_type": "stream",
     "text": [
      "C:\\Users\\redda\\AppData\\Roaming\\Python\\Python311\\site-packages\\openpyxl\\worksheet\\_reader.py:329: UserWarning: Data Validation extension is not supported and will be removed\n",
      "  warn(msg)\n"
     ]
    },
    {
     "name": "stdout",
     "output_type": "stream",
     "text": [
      "F:\\repos\\fisha\\莱新销售订单0826-0925\\发票模板-按销售订单和存货编码-件数\\发票模板-武汉开先文化用品有限责任公司-SO-2024-02-0577-件数.xlsx\n"
     ]
    },
    {
     "name": "stderr",
     "output_type": "stream",
     "text": [
      "C:\\Users\\redda\\AppData\\Roaming\\Python\\Python311\\site-packages\\openpyxl\\worksheet\\_reader.py:329: UserWarning: Data Validation extension is not supported and will be removed\n",
      "  warn(msg)\n",
      "C:\\Users\\redda\\AppData\\Roaming\\Python\\Python311\\site-packages\\openpyxl\\worksheet\\_reader.py:329: UserWarning: Data Validation extension is not supported and will be removed\n",
      "  warn(msg)\n"
     ]
    },
    {
     "name": "stdout",
     "output_type": "stream",
     "text": [
      "F:\\repos\\fisha\\莱新销售订单0826-0925\\发票模板-按销售订单和存货编码-件数\\发票模板-武汉金宸翰办公用品有限公司1-SO-2024-02-0578-件数.xlsx\n",
      "F:\\repos\\fisha\\莱新销售订单0826-0925\\发票模板-按销售订单和存货编码-件数\\发票模板-武汉邦度办公文具有限公司-SO-2024-02-0579-件数.xlsx\n"
     ]
    },
    {
     "name": "stderr",
     "output_type": "stream",
     "text": [
      "C:\\Users\\redda\\AppData\\Roaming\\Python\\Python311\\site-packages\\openpyxl\\worksheet\\_reader.py:329: UserWarning: Data Validation extension is not supported and will be removed\n",
      "  warn(msg)\n",
      "C:\\Users\\redda\\AppData\\Roaming\\Python\\Python311\\site-packages\\openpyxl\\worksheet\\_reader.py:329: UserWarning: Data Validation extension is not supported and will be removed\n",
      "  warn(msg)\n"
     ]
    },
    {
     "name": "stdout",
     "output_type": "stream",
     "text": [
      "F:\\repos\\fisha\\莱新销售订单0826-0925\\发票模板-按销售订单和存货编码-件数\\发票模板-武汉金宸翰办公用品有限公司-SO-2024-02-0580-件数.xlsx\n",
      "F:\\repos\\fisha\\莱新销售订单0826-0925\\发票模板-按销售订单和存货编码-件数\\发票模板-武汉静静舒文体用品有限公司-SO-2024-02-0581-件数.xlsx\n"
     ]
    },
    {
     "name": "stderr",
     "output_type": "stream",
     "text": [
      "C:\\Users\\redda\\AppData\\Roaming\\Python\\Python311\\site-packages\\openpyxl\\worksheet\\_reader.py:329: UserWarning: Data Validation extension is not supported and will be removed\n",
      "  warn(msg)\n",
      "C:\\Users\\redda\\AppData\\Roaming\\Python\\Python311\\site-packages\\openpyxl\\worksheet\\_reader.py:329: UserWarning: Data Validation extension is not supported and will be removed\n",
      "  warn(msg)\n"
     ]
    },
    {
     "name": "stdout",
     "output_type": "stream",
     "text": [
      "F:\\repos\\fisha\\莱新销售订单0826-0925\\发票模板-按销售订单和存货编码-件数\\发票模板-湖北昇耀商贸有限公司-SO-2024-02-0582-件数.xlsx\n",
      "F:\\repos\\fisha\\莱新销售订单0826-0925\\发票模板-按销售订单和存货编码-件数\\发票模板-武汉今日成纸业有限公司-SO-2024-02-0583-件数.xlsx\n"
     ]
    },
    {
     "name": "stderr",
     "output_type": "stream",
     "text": [
      "C:\\Users\\redda\\AppData\\Roaming\\Python\\Python311\\site-packages\\openpyxl\\worksheet\\_reader.py:329: UserWarning: Data Validation extension is not supported and will be removed\n",
      "  warn(msg)\n",
      "C:\\Users\\redda\\AppData\\Roaming\\Python\\Python311\\site-packages\\openpyxl\\worksheet\\_reader.py:329: UserWarning: Data Validation extension is not supported and will be removed\n",
      "  warn(msg)\n"
     ]
    },
    {
     "name": "stdout",
     "output_type": "stream",
     "text": [
      "F:\\repos\\fisha\\莱新销售订单0826-0925\\发票模板-按销售订单和存货编码-件数\\发票模板-武汉米圣贸易有限公司-SO-2024-02-0584-件数.xlsx\n",
      "F:\\repos\\fisha\\莱新销售订单0826-0925\\发票模板-按销售订单和存货编码-件数\\发票模板-武汉嘉迪亚商贸有限公司-SO-2024-02-0585-件数.xlsx\n"
     ]
    },
    {
     "name": "stderr",
     "output_type": "stream",
     "text": [
      "C:\\Users\\redda\\AppData\\Roaming\\Python\\Python311\\site-packages\\openpyxl\\worksheet\\_reader.py:329: UserWarning: Data Validation extension is not supported and will be removed\n",
      "  warn(msg)\n"
     ]
    },
    {
     "name": "stdout",
     "output_type": "stream",
     "text": [
      "F:\\repos\\fisha\\莱新销售订单0826-0925\\发票模板-按销售订单和存货编码-件数\\发票模板-武汉市热脉文体用品有限公司-SO-2024-02-0586-件数.xlsx\n",
      "F:\\repos\\fisha\\莱新销售订单0826-0925\\发票模板-按销售订单和存货编码-件数\\发票模板-武汉今日成纸业有限公司-SO-2024-02-0587-件数.xlsx\n"
     ]
    },
    {
     "name": "stderr",
     "output_type": "stream",
     "text": [
      "C:\\Users\\redda\\AppData\\Roaming\\Python\\Python311\\site-packages\\openpyxl\\worksheet\\_reader.py:329: UserWarning: Data Validation extension is not supported and will be removed\n",
      "  warn(msg)\n",
      "C:\\Users\\redda\\AppData\\Roaming\\Python\\Python311\\site-packages\\openpyxl\\worksheet\\_reader.py:329: UserWarning: Data Validation extension is not supported and will be removed\n",
      "  warn(msg)\n"
     ]
    },
    {
     "name": "stdout",
     "output_type": "stream",
     "text": [
      "F:\\repos\\fisha\\莱新销售订单0826-0925\\发票模板-按销售订单和存货编码-件数\\发票模板-西安垄裕商贸有限公司-SO-2024-02-0588-件数.xlsx\n",
      "F:\\repos\\fisha\\莱新销售订单0826-0925\\发票模板-按销售订单和存货编码-件数\\发票模板-西安热脉文体用品有限公司-SO-2024-02-0589-件数.xlsx\n"
     ]
    },
    {
     "name": "stderr",
     "output_type": "stream",
     "text": [
      "C:\\Users\\redda\\AppData\\Roaming\\Python\\Python311\\site-packages\\openpyxl\\worksheet\\_reader.py:329: UserWarning: Data Validation extension is not supported and will be removed\n",
      "  warn(msg)\n",
      "C:\\Users\\redda\\AppData\\Roaming\\Python\\Python311\\site-packages\\openpyxl\\worksheet\\_reader.py:329: UserWarning: Data Validation extension is not supported and will be removed\n",
      "  warn(msg)\n",
      "C:\\Users\\redda\\AppData\\Roaming\\Python\\Python311\\site-packages\\openpyxl\\worksheet\\_reader.py:329: UserWarning: Data Validation extension is not supported and will be removed\n",
      "  warn(msg)\n"
     ]
    },
    {
     "name": "stdout",
     "output_type": "stream",
     "text": [
      "F:\\repos\\fisha\\莱新销售订单0826-0925\\发票模板-按销售订单和存货编码-件数\\发票模板-临沂巧纳金纸品有限公司-SO-2024-02-0590-件数.xlsx\n",
      "F:\\repos\\fisha\\莱新销售订单0826-0925\\发票模板-按销售订单和存货编码-件数\\发票模板-南宁市小木屋文化用品有限公司-SO-2024-02-0591-件数.xlsx\n"
     ]
    },
    {
     "name": "stderr",
     "output_type": "stream",
     "text": [
      "C:\\Users\\redda\\AppData\\Roaming\\Python\\Python311\\site-packages\\openpyxl\\worksheet\\_reader.py:329: UserWarning: Data Validation extension is not supported and will be removed\n",
      "  warn(msg)\n",
      "C:\\Users\\redda\\AppData\\Roaming\\Python\\Python311\\site-packages\\openpyxl\\worksheet\\_reader.py:329: UserWarning: Data Validation extension is not supported and will be removed\n",
      "  warn(msg)\n"
     ]
    },
    {
     "name": "stdout",
     "output_type": "stream",
     "text": [
      "F:\\repos\\fisha\\莱新销售订单0826-0925\\发票模板-按销售订单和存货编码-件数\\发票模板-柳州市笔创贸易有限公司-SO-2024-02-0592-件数.xlsx\n",
      "F:\\repos\\fisha\\莱新销售订单0826-0925\\发票模板-按销售订单和存货编码-件数\\发票模板-云南非常文化用品有限公司-SO-2024-02-0593-件数.xlsx\n"
     ]
    },
    {
     "name": "stderr",
     "output_type": "stream",
     "text": [
      "C:\\Users\\redda\\AppData\\Roaming\\Python\\Python311\\site-packages\\openpyxl\\worksheet\\_reader.py:329: UserWarning: Data Validation extension is not supported and will be removed\n",
      "  warn(msg)\n"
     ]
    },
    {
     "name": "stdout",
     "output_type": "stream",
     "text": [
      "F:\\repos\\fisha\\莱新销售订单0826-0925\\发票模板-按销售订单和存货编码-件数\\发票模板-白玉县诚信办公用品销售有限公司-SO-2024-02-0594-件数.xlsx\n"
     ]
    },
    {
     "name": "stderr",
     "output_type": "stream",
     "text": [
      "C:\\Users\\redda\\AppData\\Roaming\\Python\\Python311\\site-packages\\openpyxl\\worksheet\\_reader.py:329: UserWarning: Data Validation extension is not supported and will be removed\n",
      "  warn(msg)\n",
      "C:\\Users\\redda\\AppData\\Roaming\\Python\\Python311\\site-packages\\openpyxl\\worksheet\\_reader.py:329: UserWarning: Data Validation extension is not supported and will be removed\n",
      "  warn(msg)\n"
     ]
    },
    {
     "name": "stdout",
     "output_type": "stream",
     "text": [
      "F:\\repos\\fisha\\莱新销售订单0826-0925\\发票模板-按销售订单和存货编码-件数\\发票模板-成都乐尚怡智商贸有限公司-SO-2024-02-0595-件数.xlsx\n",
      "F:\\repos\\fisha\\莱新销售订单0826-0925\\发票模板-按销售订单和存货编码-件数\\发票模板-南京好学爱玩信息科技有限公司-SO-2024-02-0596-件数.xlsx\n"
     ]
    },
    {
     "name": "stderr",
     "output_type": "stream",
     "text": [
      "C:\\Users\\redda\\AppData\\Roaming\\Python\\Python311\\site-packages\\openpyxl\\worksheet\\_reader.py:329: UserWarning: Data Validation extension is not supported and will be removed\n",
      "  warn(msg)\n"
     ]
    },
    {
     "name": "stdout",
     "output_type": "stream",
     "text": [
      "F:\\repos\\fisha\\莱新销售订单0826-0925\\发票模板-按销售订单和存货编码-件数\\发票模板-苏州工业园区展华商贸有限公司-SO-2024-02-0597-件数.xlsx\n"
     ]
    },
    {
     "name": "stderr",
     "output_type": "stream",
     "text": [
      "C:\\Users\\redda\\AppData\\Roaming\\Python\\Python311\\site-packages\\openpyxl\\worksheet\\_reader.py:329: UserWarning: Data Validation extension is not supported and will be removed\n",
      "  warn(msg)\n"
     ]
    },
    {
     "name": "stdout",
     "output_type": "stream",
     "text": [
      "F:\\repos\\fisha\\莱新销售订单0826-0925\\发票模板-按销售订单和存货编码-件数\\发票模板-长沙市雨花区文丰文具商行-SO-2024-02-0598-件数.xlsx\n"
     ]
    },
    {
     "name": "stderr",
     "output_type": "stream",
     "text": [
      "C:\\Users\\redda\\AppData\\Roaming\\Python\\Python311\\site-packages\\openpyxl\\worksheet\\_reader.py:329: UserWarning: Data Validation extension is not supported and will be removed\n",
      "  warn(msg)\n"
     ]
    },
    {
     "name": "stdout",
     "output_type": "stream",
     "text": [
      "F:\\repos\\fisha\\莱新销售订单0826-0925\\发票模板-按销售订单和存货编码-件数\\发票模板-武汉金宸翰办公用品有限公司-SO-2024-02-0599-件数.xlsx\n",
      "F:\\repos\\fisha\\莱新销售订单0826-0925\\发票模板-按销售订单和存货编码-件数\\发票模板-武汉市晶艺文化用品有限公司-SO-2024-02-0600-件数.xlsx\n"
     ]
    },
    {
     "name": "stderr",
     "output_type": "stream",
     "text": [
      "C:\\Users\\redda\\AppData\\Roaming\\Python\\Python311\\site-packages\\openpyxl\\worksheet\\_reader.py:329: UserWarning: Data Validation extension is not supported and will be removed\n",
      "  warn(msg)\n",
      "C:\\Users\\redda\\AppData\\Roaming\\Python\\Python311\\site-packages\\openpyxl\\worksheet\\_reader.py:329: UserWarning: Data Validation extension is not supported and will be removed\n",
      "  warn(msg)\n"
     ]
    },
    {
     "name": "stdout",
     "output_type": "stream",
     "text": [
      "F:\\repos\\fisha\\莱新销售订单0826-0925\\发票模板-按销售订单和存货编码-件数\\发票模板-衡阳市新五一文现代办公用品有限公司-SO-2024-02-0601-件数.xlsx\n"
     ]
    },
    {
     "name": "stderr",
     "output_type": "stream",
     "text": [
      "C:\\Users\\redda\\AppData\\Roaming\\Python\\Python311\\site-packages\\openpyxl\\worksheet\\_reader.py:329: UserWarning: Data Validation extension is not supported and will be removed\n",
      "  warn(msg)\n"
     ]
    },
    {
     "name": "stdout",
     "output_type": "stream",
     "text": [
      "F:\\repos\\fisha\\莱新销售订单0826-0925\\发票模板-按销售订单和存货编码-件数\\发票模板-宁夏昕墨文化用品有限公司-SO-2024-02-0602-件数.xlsx\n"
     ]
    },
    {
     "name": "stderr",
     "output_type": "stream",
     "text": [
      "C:\\Users\\redda\\AppData\\Roaming\\Python\\Python311\\site-packages\\openpyxl\\worksheet\\_reader.py:329: UserWarning: Data Validation extension is not supported and will be removed\n",
      "  warn(msg)\n"
     ]
    },
    {
     "name": "stdout",
     "output_type": "stream",
     "text": [
      "F:\\repos\\fisha\\莱新销售订单0826-0925\\发票模板-按销售订单和存货编码-件数\\发票模板-天津市友旺商贸有限公司-SO-2024-02-0603-件数.xlsx\n",
      "F:\\repos\\fisha\\莱新销售订单0826-0925\\发票模板-按销售订单和存货编码-件数\\发票模板-武汉市热脉文体用品有限公司-SO-2024-02-0604-件数.xlsx\n"
     ]
    },
    {
     "name": "stderr",
     "output_type": "stream",
     "text": [
      "C:\\Users\\redda\\AppData\\Roaming\\Python\\Python311\\site-packages\\openpyxl\\worksheet\\_reader.py:329: UserWarning: Data Validation extension is not supported and will be removed\n",
      "  warn(msg)\n",
      "C:\\Users\\redda\\AppData\\Roaming\\Python\\Python311\\site-packages\\openpyxl\\worksheet\\_reader.py:329: UserWarning: Data Validation extension is not supported and will be removed\n",
      "  warn(msg)\n"
     ]
    },
    {
     "name": "stdout",
     "output_type": "stream",
     "text": [
      "F:\\repos\\fisha\\莱新销售订单0826-0925\\发票模板-按销售订单和存货编码-件数\\发票模板-河南抬头喜办公用品有限公司S-SO-2024-02-0605-件数.xlsx\n"
     ]
    },
    {
     "name": "stderr",
     "output_type": "stream",
     "text": [
      "C:\\Users\\redda\\AppData\\Roaming\\Python\\Python311\\site-packages\\openpyxl\\worksheet\\_reader.py:329: UserWarning: Data Validation extension is not supported and will be removed\n",
      "  warn(msg)\n"
     ]
    },
    {
     "name": "stdout",
     "output_type": "stream",
     "text": [
      "F:\\repos\\fisha\\莱新销售订单0826-0925\\发票模板-按销售订单和存货编码-件数\\发票模板-当涂县美文办公服务部-SO-2024-02-0606-件数.xlsx\n"
     ]
    },
    {
     "name": "stderr",
     "output_type": "stream",
     "text": [
      "C:\\Users\\redda\\AppData\\Roaming\\Python\\Python311\\site-packages\\openpyxl\\worksheet\\_reader.py:329: UserWarning: Data Validation extension is not supported and will be removed\n",
      "  warn(msg)\n"
     ]
    },
    {
     "name": "stdout",
     "output_type": "stream",
     "text": [
      "F:\\repos\\fisha\\莱新销售订单0826-0925\\发票模板-按销售订单和存货编码-件数\\发票模板-当涂县美文办公服务部-SO-2024-02-0607-件数.xlsx\n"
     ]
    },
    {
     "name": "stderr",
     "output_type": "stream",
     "text": [
      "C:\\Users\\redda\\AppData\\Roaming\\Python\\Python311\\site-packages\\openpyxl\\worksheet\\_reader.py:329: UserWarning: Data Validation extension is not supported and will be removed\n",
      "  warn(msg)\n",
      "C:\\Users\\redda\\AppData\\Roaming\\Python\\Python311\\site-packages\\openpyxl\\worksheet\\_reader.py:329: UserWarning: Data Validation extension is not supported and will be removed\n",
      "  warn(msg)\n"
     ]
    },
    {
     "name": "stdout",
     "output_type": "stream",
     "text": [
      "F:\\repos\\fisha\\莱新销售订单0826-0925\\发票模板-按销售订单和存货编码-件数\\发票模板-武汉市齐达利商贸有限公司-SO-2024-02-0608-件数.xlsx\n",
      "F:\\repos\\fisha\\莱新销售订单0826-0925\\发票模板-按销售订单和存货编码-件数\\发票模板-武汉开先文化用品有限责任公司-SO-2024-02-0609-件数.xlsx\n"
     ]
    },
    {
     "name": "stderr",
     "output_type": "stream",
     "text": [
      "C:\\Users\\redda\\AppData\\Roaming\\Python\\Python311\\site-packages\\openpyxl\\worksheet\\_reader.py:329: UserWarning: Data Validation extension is not supported and will be removed\n",
      "  warn(msg)\n"
     ]
    },
    {
     "name": "stdout",
     "output_type": "stream",
     "text": [
      "F:\\repos\\fisha\\莱新销售订单0826-0925\\发票模板-按销售订单和存货编码-件数\\发票模板-武汉米圣贸易有限公司-SO-2024-02-0610-件数.xlsx\n"
     ]
    },
    {
     "name": "stderr",
     "output_type": "stream",
     "text": [
      "C:\\Users\\redda\\AppData\\Roaming\\Python\\Python311\\site-packages\\openpyxl\\worksheet\\_reader.py:329: UserWarning: Data Validation extension is not supported and will be removed\n",
      "  warn(msg)\n"
     ]
    },
    {
     "name": "stdout",
     "output_type": "stream",
     "text": [
      "F:\\repos\\fisha\\莱新销售订单0826-0925\\发票模板-按销售订单和存货编码-件数\\发票模板-武汉金宸翰办公用品有限公司1-SO-2024-02-0611-件数.xlsx\n",
      "F:\\repos\\fisha\\莱新销售订单0826-0925\\发票模板-按销售订单和存货编码-件数\\发票模板-武汉金胜辉商贸有限公司-SO-2024-02-0612-件数.xlsx\n"
     ]
    },
    {
     "name": "stderr",
     "output_type": "stream",
     "text": [
      "C:\\Users\\redda\\AppData\\Roaming\\Python\\Python311\\site-packages\\openpyxl\\worksheet\\_reader.py:329: UserWarning: Data Validation extension is not supported and will be removed\n",
      "  warn(msg)\n",
      "C:\\Users\\redda\\AppData\\Roaming\\Python\\Python311\\site-packages\\openpyxl\\worksheet\\_reader.py:329: UserWarning: Data Validation extension is not supported and will be removed\n",
      "  warn(msg)\n"
     ]
    },
    {
     "name": "stdout",
     "output_type": "stream",
     "text": [
      "F:\\repos\\fisha\\莱新销售订单0826-0925\\发票模板-按销售订单和存货编码-件数\\发票模板-武汉静静舒文体用品有限公司-SO-2024-02-0613-件数.xlsx\n"
     ]
    },
    {
     "name": "stderr",
     "output_type": "stream",
     "text": [
      "C:\\Users\\redda\\AppData\\Roaming\\Python\\Python311\\site-packages\\openpyxl\\worksheet\\_reader.py:329: UserWarning: Data Validation extension is not supported and will be removed\n",
      "  warn(msg)\n",
      "C:\\Users\\redda\\AppData\\Roaming\\Python\\Python311\\site-packages\\openpyxl\\worksheet\\_reader.py:329: UserWarning: Data Validation extension is not supported and will be removed\n",
      "  warn(msg)\n"
     ]
    },
    {
     "name": "stdout",
     "output_type": "stream",
     "text": [
      "F:\\repos\\fisha\\莱新销售订单0826-0925\\发票模板-按销售订单和存货编码-件数\\发票模板-品壹佰河北商贸有限公司-SO-2024-02-0614-件数.xlsx\n",
      "F:\\repos\\fisha\\莱新销售订单0826-0925\\发票模板-按销售订单和存货编码-件数\\发票模板-长沙市东麦文化有限公司-SO-2024-02-0615-件数.xlsx\n"
     ]
    },
    {
     "name": "stderr",
     "output_type": "stream",
     "text": [
      "C:\\Users\\redda\\AppData\\Roaming\\Python\\Python311\\site-packages\\openpyxl\\worksheet\\_reader.py:329: UserWarning: Data Validation extension is not supported and will be removed\n",
      "  warn(msg)\n"
     ]
    },
    {
     "name": "stdout",
     "output_type": "stream",
     "text": [
      "F:\\repos\\fisha\\莱新销售订单0826-0925\\发票模板-按销售订单和存货编码-件数\\发票模板-四川渝泰企业管理咨询有限公司-SO-2024-02-0616-件数.xlsx\n"
     ]
    },
    {
     "name": "stderr",
     "output_type": "stream",
     "text": [
      "C:\\Users\\redda\\AppData\\Roaming\\Python\\Python311\\site-packages\\openpyxl\\worksheet\\_reader.py:329: UserWarning: Data Validation extension is not supported and will be removed\n",
      "  warn(msg)\n"
     ]
    },
    {
     "name": "stdout",
     "output_type": "stream",
     "text": [
      "F:\\repos\\fisha\\莱新销售订单0826-0925\\发票模板-按销售订单和存货编码-件数\\发票模板-泸州佳之彩商贸有限公司-SO-2024-02-0617-件数.xlsx\n"
     ]
    },
    {
     "name": "stderr",
     "output_type": "stream",
     "text": [
      "C:\\Users\\redda\\AppData\\Roaming\\Python\\Python311\\site-packages\\openpyxl\\worksheet\\_reader.py:329: UserWarning: Data Validation extension is not supported and will be removed\n",
      "  warn(msg)\n",
      "C:\\Users\\redda\\AppData\\Roaming\\Python\\Python311\\site-packages\\openpyxl\\worksheet\\_reader.py:329: UserWarning: Data Validation extension is not supported and will be removed\n",
      "  warn(msg)\n"
     ]
    },
    {
     "name": "stdout",
     "output_type": "stream",
     "text": [
      "F:\\repos\\fisha\\莱新销售订单0826-0925\\发票模板-按销售订单和存货编码-件数\\发票模板-江西立信办公商贸有限公司-SO-2024-02-0618-件数.xlsx\n",
      "F:\\repos\\fisha\\莱新销售订单0826-0925\\发票模板-按销售订单和存货编码-件数\\发票模板-涵江徐东明-SO-2024-02-0619-件数.xlsx\n"
     ]
    },
    {
     "name": "stderr",
     "output_type": "stream",
     "text": [
      "C:\\Users\\redda\\AppData\\Roaming\\Python\\Python311\\site-packages\\openpyxl\\worksheet\\_reader.py:329: UserWarning: Data Validation extension is not supported and will be removed\n",
      "  warn(msg)\n"
     ]
    },
    {
     "name": "stdout",
     "output_type": "stream",
     "text": [
      "F:\\repos\\fisha\\莱新销售订单0826-0925\\发票模板-按销售订单和存货编码-件数\\发票模板-义乌市携诚文体用品有限公司-SO-2024-02-0620-件数.xlsx\n",
      "F:\\repos\\fisha\\莱新销售订单0826-0925\\发票模板-按销售订单和存货编码-件数\\发票模板-龙岩连卫中-SO-2024-02-0621-件数.xlsx\n"
     ]
    },
    {
     "name": "stderr",
     "output_type": "stream",
     "text": [
      "C:\\Users\\redda\\AppData\\Roaming\\Python\\Python311\\site-packages\\openpyxl\\worksheet\\_reader.py:329: UserWarning: Data Validation extension is not supported and will be removed\n",
      "  warn(msg)\n",
      "C:\\Users\\redda\\AppData\\Roaming\\Python\\Python311\\site-packages\\openpyxl\\worksheet\\_reader.py:329: UserWarning: Data Validation extension is not supported and will be removed\n",
      "  warn(msg)\n"
     ]
    },
    {
     "name": "stdout",
     "output_type": "stream",
     "text": [
      "F:\\repos\\fisha\\莱新销售订单0826-0925\\发票模板-按销售订单和存货编码-件数\\发票模板-株洲文邦贸易有限公司-SO-2024-02-0622-件数.xlsx\n",
      "F:\\repos\\fisha\\莱新销售订单0826-0925\\发票模板-按销售订单和存货编码-件数\\发票模板-南宁市小木屋文化用品有限公司-SO-2024-02-0623-件数.xlsx\n"
     ]
    },
    {
     "name": "stderr",
     "output_type": "stream",
     "text": [
      "C:\\Users\\redda\\AppData\\Roaming\\Python\\Python311\\site-packages\\openpyxl\\worksheet\\_reader.py:329: UserWarning: Data Validation extension is not supported and will be removed\n",
      "  warn(msg)\n",
      "C:\\Users\\redda\\AppData\\Roaming\\Python\\Python311\\site-packages\\openpyxl\\worksheet\\_reader.py:329: UserWarning: Data Validation extension is not supported and will be removed\n",
      "  warn(msg)\n"
     ]
    },
    {
     "name": "stdout",
     "output_type": "stream",
     "text": [
      "F:\\repos\\fisha\\莱新销售订单0826-0925\\发票模板-按销售订单和存货编码-件数\\发票模板-长沙市东麦文化有限公司-SO-2024-02-0624-件数.xlsx\n",
      "F:\\repos\\fisha\\莱新销售订单0826-0925\\发票模板-按销售订单和存货编码-件数\\发票模板-深圳市一晨科技有限公司-SO-2024-02-0625-件数.xlsx\n"
     ]
    },
    {
     "name": "stderr",
     "output_type": "stream",
     "text": [
      "C:\\Users\\redda\\AppData\\Roaming\\Python\\Python311\\site-packages\\openpyxl\\worksheet\\_reader.py:329: UserWarning: Data Validation extension is not supported and will be removed\n",
      "  warn(msg)\n",
      "C:\\Users\\redda\\AppData\\Roaming\\Python\\Python311\\site-packages\\openpyxl\\worksheet\\_reader.py:329: UserWarning: Data Validation extension is not supported and will be removed\n",
      "  warn(msg)\n",
      "C:\\Users\\redda\\AppData\\Roaming\\Python\\Python311\\site-packages\\openpyxl\\worksheet\\_reader.py:329: UserWarning: Data Validation extension is not supported and will be removed\n",
      "  warn(msg)\n"
     ]
    },
    {
     "name": "stdout",
     "output_type": "stream",
     "text": [
      "F:\\repos\\fisha\\莱新销售订单0826-0925\\发票模板-按销售订单和存货编码-件数\\发票模板-义乌市携诚文体用品有限公司-SO-2024-02-0626-件数.xlsx\n",
      "F:\\repos\\fisha\\莱新销售订单0826-0925\\发票模板-按销售订单和存货编码-件数\\发票模板-广西首平文具有限公司-SO-2024-02-0627-件数.xlsx\n"
     ]
    },
    {
     "name": "stderr",
     "output_type": "stream",
     "text": [
      "C:\\Users\\redda\\AppData\\Roaming\\Python\\Python311\\site-packages\\openpyxl\\worksheet\\_reader.py:329: UserWarning: Data Validation extension is not supported and will be removed\n",
      "  warn(msg)\n"
     ]
    },
    {
     "name": "stdout",
     "output_type": "stream",
     "text": [
      "F:\\repos\\fisha\\莱新销售订单0826-0925\\发票模板-按销售订单和存货编码-件数\\发票模板-河南一叶一页文化用品有限公司-SO-2024-02-0628-件数.xlsx\n"
     ]
    },
    {
     "name": "stderr",
     "output_type": "stream",
     "text": [
      "C:\\Users\\redda\\AppData\\Roaming\\Python\\Python311\\site-packages\\openpyxl\\worksheet\\_reader.py:329: UserWarning: Data Validation extension is not supported and will be removed\n",
      "  warn(msg)\n"
     ]
    },
    {
     "name": "stdout",
     "output_type": "stream",
     "text": [
      "F:\\repos\\fisha\\莱新销售订单0826-0925\\发票模板-按销售订单和存货编码-件数\\发票模板-武汉静静舒文体用品有限公司-SO-2024-02-0629-件数.xlsx\n"
     ]
    },
    {
     "name": "stderr",
     "output_type": "stream",
     "text": [
      "C:\\Users\\redda\\AppData\\Roaming\\Python\\Python311\\site-packages\\openpyxl\\worksheet\\_reader.py:329: UserWarning: Data Validation extension is not supported and will be removed\n",
      "  warn(msg)\n"
     ]
    },
    {
     "name": "stdout",
     "output_type": "stream",
     "text": [
      "F:\\repos\\fisha\\莱新销售订单0826-0925\\发票模板-按销售订单和存货编码-件数\\发票模板-武汉今日成纸业有限公司-SO-2024-02-0630-件数.xlsx\n"
     ]
    },
    {
     "name": "stderr",
     "output_type": "stream",
     "text": [
      "C:\\Users\\redda\\AppData\\Roaming\\Python\\Python311\\site-packages\\openpyxl\\worksheet\\_reader.py:329: UserWarning: Data Validation extension is not supported and will be removed\n",
      "  warn(msg)\n",
      "C:\\Users\\redda\\AppData\\Roaming\\Python\\Python311\\site-packages\\openpyxl\\worksheet\\_reader.py:329: UserWarning: Data Validation extension is not supported and will be removed\n",
      "  warn(msg)\n"
     ]
    },
    {
     "name": "stdout",
     "output_type": "stream",
     "text": [
      "F:\\repos\\fisha\\莱新销售订单0826-0925\\发票模板-按销售订单和存货编码-件数\\发票模板-武汉米圣贸易有限公司-SO-2024-02-0631-件数.xlsx\n",
      "F:\\repos\\fisha\\莱新销售订单0826-0925\\发票模板-按销售订单和存货编码-件数\\发票模板-兰州艾迪商贸有限公司-SO-2024-02-0632-件数.xlsx\n"
     ]
    },
    {
     "name": "stderr",
     "output_type": "stream",
     "text": [
      "C:\\Users\\redda\\AppData\\Roaming\\Python\\Python311\\site-packages\\openpyxl\\worksheet\\_reader.py:329: UserWarning: Data Validation extension is not supported and will be removed\n",
      "  warn(msg)\n"
     ]
    },
    {
     "name": "stdout",
     "output_type": "stream",
     "text": [
      "F:\\repos\\fisha\\莱新销售订单0826-0925\\发票模板-按销售订单和存货编码-件数\\发票模板-武汉市齐达利商贸有限公司-SO-2024-02-0633-件数.xlsx\n",
      "F:\\repos\\fisha\\莱新销售订单0826-0925\\发票模板-按销售订单和存货编码-件数\\发票模板-武汉中威百联商贸有限公司-SO-2024-02-0634-件数.xlsx\n"
     ]
    },
    {
     "name": "stderr",
     "output_type": "stream",
     "text": [
      "C:\\Users\\redda\\AppData\\Roaming\\Python\\Python311\\site-packages\\openpyxl\\worksheet\\_reader.py:329: UserWarning: Data Validation extension is not supported and will be removed\n",
      "  warn(msg)\n",
      "C:\\Users\\redda\\AppData\\Roaming\\Python\\Python311\\site-packages\\openpyxl\\worksheet\\_reader.py:329: UserWarning: Data Validation extension is not supported and will be removed\n",
      "  warn(msg)\n"
     ]
    },
    {
     "name": "stdout",
     "output_type": "stream",
     "text": [
      "F:\\repos\\fisha\\莱新销售订单0826-0925\\发票模板-按销售订单和存货编码-件数\\发票模板-武汉今日成纸业有限公司-SO-2024-02-0635-件数.xlsx\n",
      "F:\\repos\\fisha\\莱新销售订单0826-0925\\发票模板-按销售订单和存货编码-件数\\发票模板-武汉米圣贸易有限公司-SO-2024-02-0636-件数.xlsx\n"
     ]
    },
    {
     "name": "stderr",
     "output_type": "stream",
     "text": [
      "C:\\Users\\redda\\AppData\\Roaming\\Python\\Python311\\site-packages\\openpyxl\\worksheet\\_reader.py:329: UserWarning: Data Validation extension is not supported and will be removed\n",
      "  warn(msg)\n",
      "C:\\Users\\redda\\AppData\\Roaming\\Python\\Python311\\site-packages\\openpyxl\\worksheet\\_reader.py:329: UserWarning: Data Validation extension is not supported and will be removed\n",
      "  warn(msg)\n",
      "C:\\Users\\redda\\AppData\\Roaming\\Python\\Python311\\site-packages\\openpyxl\\worksheet\\_reader.py:329: UserWarning: Data Validation extension is not supported and will be removed\n",
      "  warn(msg)\n"
     ]
    },
    {
     "name": "stdout",
     "output_type": "stream",
     "text": [
      "F:\\repos\\fisha\\莱新销售订单0826-0925\\发票模板-按销售订单和存货编码-件数\\发票模板-武汉金胜辉商贸有限公司-SO-2024-02-0637-件数.xlsx\n",
      "F:\\repos\\fisha\\莱新销售订单0826-0925\\发票模板-按销售订单和存货编码-件数\\发票模板-武汉静静舒文体用品有限公司-SO-2024-02-0638-件数.xlsx\n"
     ]
    },
    {
     "name": "stderr",
     "output_type": "stream",
     "text": [
      "C:\\Users\\redda\\AppData\\Roaming\\Python\\Python311\\site-packages\\openpyxl\\worksheet\\_reader.py:329: UserWarning: Data Validation extension is not supported and will be removed\n",
      "  warn(msg)\n",
      "C:\\Users\\redda\\AppData\\Roaming\\Python\\Python311\\site-packages\\openpyxl\\worksheet\\_reader.py:329: UserWarning: Data Validation extension is not supported and will be removed\n",
      "  warn(msg)\n"
     ]
    },
    {
     "name": "stdout",
     "output_type": "stream",
     "text": [
      "F:\\repos\\fisha\\莱新销售订单0826-0925\\发票模板-按销售订单和存货编码-件数\\发票模板-武汉金宸翰办公用品有限公司1-SO-2024-02-0639-件数.xlsx\n",
      "F:\\repos\\fisha\\莱新销售订单0826-0925\\发票模板-按销售订单和存货编码-件数\\发票模板-武汉金胜辉商贸有限公司-SO-2024-02-0640-件数.xlsx\n"
     ]
    },
    {
     "name": "stderr",
     "output_type": "stream",
     "text": [
      "C:\\Users\\redda\\AppData\\Roaming\\Python\\Python311\\site-packages\\openpyxl\\worksheet\\_reader.py:329: UserWarning: Data Validation extension is not supported and will be removed\n",
      "  warn(msg)\n"
     ]
    },
    {
     "name": "stdout",
     "output_type": "stream",
     "text": [
      "F:\\repos\\fisha\\莱新销售订单0826-0925\\发票模板-按销售订单和存货编码-件数\\发票模板-武汉开先文化用品有限责任公司-SO-2024-02-0641-件数.xlsx\n"
     ]
    },
    {
     "name": "stderr",
     "output_type": "stream",
     "text": [
      "C:\\Users\\redda\\AppData\\Roaming\\Python\\Python311\\site-packages\\openpyxl\\worksheet\\_reader.py:329: UserWarning: Data Validation extension is not supported and will be removed\n",
      "  warn(msg)\n"
     ]
    },
    {
     "name": "stdout",
     "output_type": "stream",
     "text": [
      "F:\\repos\\fisha\\莱新销售订单0826-0925\\发票模板-按销售订单和存货编码-件数\\发票模板-武汉米圣贸易有限公司-SO-2024-02-0642-件数.xlsx\n",
      "F:\\repos\\fisha\\莱新销售订单0826-0925\\发票模板-按销售订单和存货编码-件数\\发票模板-湖北昇耀商贸有限公司-SO-2024-02-0645-件数.xlsx\n"
     ]
    },
    {
     "name": "stderr",
     "output_type": "stream",
     "text": [
      "C:\\Users\\redda\\AppData\\Roaming\\Python\\Python311\\site-packages\\openpyxl\\worksheet\\_reader.py:329: UserWarning: Data Validation extension is not supported and will be removed\n",
      "  warn(msg)\n",
      "C:\\Users\\redda\\AppData\\Roaming\\Python\\Python311\\site-packages\\openpyxl\\worksheet\\_reader.py:329: UserWarning: Data Validation extension is not supported and will be removed\n",
      "  warn(msg)\n"
     ]
    },
    {
     "name": "stdout",
     "output_type": "stream",
     "text": [
      "F:\\repos\\fisha\\莱新销售订单0826-0925\\发票模板-按销售订单和存货编码-件数\\发票模板-湖北昇耀商贸有限公司-SO-2024-02-0646-件数.xlsx\n",
      "F:\\repos\\fisha\\莱新销售订单0826-0925\\发票模板-按销售订单和存货编码-件数\\发票模板-重庆文优文化用品有限公司-SO-2024-02-0647-件数.xlsx\n"
     ]
    },
    {
     "name": "stderr",
     "output_type": "stream",
     "text": [
      "C:\\Users\\redda\\AppData\\Roaming\\Python\\Python311\\site-packages\\openpyxl\\worksheet\\_reader.py:329: UserWarning: Data Validation extension is not supported and will be removed\n",
      "  warn(msg)\n",
      "C:\\Users\\redda\\AppData\\Roaming\\Python\\Python311\\site-packages\\openpyxl\\worksheet\\_reader.py:329: UserWarning: Data Validation extension is not supported and will be removed\n",
      "  warn(msg)\n",
      "C:\\Users\\redda\\AppData\\Roaming\\Python\\Python311\\site-packages\\openpyxl\\worksheet\\_reader.py:329: UserWarning: Data Validation extension is not supported and will be removed\n",
      "  warn(msg)\n"
     ]
    },
    {
     "name": "stdout",
     "output_type": "stream",
     "text": [
      "F:\\repos\\fisha\\莱新销售订单0826-0925\\发票模板-按销售订单和存货编码-件数\\发票模板-长沙市雨花区文丰文具商行-SO-2024-02-0648-件数.xlsx\n",
      "F:\\repos\\fisha\\莱新销售订单0826-0925\\发票模板-按销售订单和存货编码-件数\\发票模板-天津市友旺商贸有限公司-SO-2024-02-0649-件数.xlsx\n"
     ]
    },
    {
     "name": "stderr",
     "output_type": "stream",
     "text": [
      "C:\\Users\\redda\\AppData\\Roaming\\Python\\Python311\\site-packages\\openpyxl\\worksheet\\_reader.py:329: UserWarning: Data Validation extension is not supported and will be removed\n",
      "  warn(msg)\n",
      "C:\\Users\\redda\\AppData\\Roaming\\Python\\Python311\\site-packages\\openpyxl\\worksheet\\_reader.py:329: UserWarning: Data Validation extension is not supported and will be removed\n",
      "  warn(msg)\n"
     ]
    },
    {
     "name": "stdout",
     "output_type": "stream",
     "text": [
      "F:\\repos\\fisha\\莱新销售订单0826-0925\\发票模板-按销售订单和存货编码-件数\\发票模板-云南非常文化用品有限公司-SO-2024-02-0650-件数.xlsx\n",
      "F:\\repos\\fisha\\莱新销售订单0826-0925\\发票模板-按销售订单和存货编码-件数\\发票模板-吉林耐斯商贸有限公司-SO-2024-02-0651-件数.xlsx\n"
     ]
    },
    {
     "name": "stderr",
     "output_type": "stream",
     "text": [
      "C:\\Users\\redda\\AppData\\Roaming\\Python\\Python311\\site-packages\\openpyxl\\worksheet\\_reader.py:329: UserWarning: Data Validation extension is not supported and will be removed\n",
      "  warn(msg)\n"
     ]
    },
    {
     "name": "stdout",
     "output_type": "stream",
     "text": [
      "F:\\repos\\fisha\\莱新销售订单0826-0925\\发票模板-按销售订单和存货编码-件数\\发票模板-山东刘璐-SO-2024-02-0652-件数.xlsx\n",
      "F:\\repos\\fisha\\莱新销售订单0826-0925\\发票模板-按销售订单和存货编码-件数\\发票模板-成都集创萧商贸有限公司L-SO-2024-02-0653-件数.xlsx\n"
     ]
    },
    {
     "name": "stderr",
     "output_type": "stream",
     "text": [
      "C:\\Users\\redda\\AppData\\Roaming\\Python\\Python311\\site-packages\\openpyxl\\worksheet\\_reader.py:329: UserWarning: Data Validation extension is not supported and will be removed\n",
      "  warn(msg)\n",
      "C:\\Users\\redda\\AppData\\Roaming\\Python\\Python311\\site-packages\\openpyxl\\worksheet\\_reader.py:329: UserWarning: Data Validation extension is not supported and will be removed\n",
      "  warn(msg)\n"
     ]
    },
    {
     "name": "stdout",
     "output_type": "stream",
     "text": [
      "F:\\repos\\fisha\\莱新销售订单0826-0925\\发票模板-按销售订单和存货编码-件数\\发票模板-宁夏昕墨文化用品有限公司-SO-2024-02-0654-件数.xlsx\n",
      "F:\\repos\\fisha\\莱新销售订单0826-0925\\发票模板-按销售订单和存货编码-件数\\发票模板-无锡金可益商贸有限公司-SO-2024-02-0655-件数.xlsx\n"
     ]
    },
    {
     "name": "stderr",
     "output_type": "stream",
     "text": [
      "C:\\Users\\redda\\AppData\\Roaming\\Python\\Python311\\site-packages\\openpyxl\\worksheet\\_reader.py:329: UserWarning: Data Validation extension is not supported and will be removed\n",
      "  warn(msg)\n",
      "C:\\Users\\redda\\AppData\\Roaming\\Python\\Python311\\site-packages\\openpyxl\\worksheet\\_reader.py:329: UserWarning: Data Validation extension is not supported and will be removed\n",
      "  warn(msg)\n",
      "C:\\Users\\redda\\AppData\\Roaming\\Python\\Python311\\site-packages\\openpyxl\\worksheet\\_reader.py:329: UserWarning: Data Validation extension is not supported and will be removed\n",
      "  warn(msg)\n"
     ]
    },
    {
     "name": "stdout",
     "output_type": "stream",
     "text": [
      "F:\\repos\\fisha\\莱新销售订单0826-0925\\发票模板-按销售订单和存货编码-件数\\发票模板-邢台市桦桥商贸有限公司-SO-2024-02-0656-件数.xlsx\n",
      "F:\\repos\\fisha\\莱新销售订单0826-0925\\发票模板-按销售订单和存货编码-件数\\发票模板-义乌市博迅文体用品有限公司-SO-2024-02-0657-件数.xlsx\n"
     ]
    },
    {
     "name": "stderr",
     "output_type": "stream",
     "text": [
      "C:\\Users\\redda\\AppData\\Roaming\\Python\\Python311\\site-packages\\openpyxl\\worksheet\\_reader.py:329: UserWarning: Data Validation extension is not supported and will be removed\n",
      "  warn(msg)\n"
     ]
    },
    {
     "name": "stdout",
     "output_type": "stream",
     "text": [
      "F:\\repos\\fisha\\莱新销售订单0826-0925\\发票模板-按销售订单和存货编码-件数\\发票模板-河南抬头喜办公用品有限公司S-SO-2024-02-0658-件数.xlsx\n",
      "F:\\repos\\fisha\\莱新销售订单0826-0925\\发票模板-按销售订单和存货编码-件数\\发票模板-武汉开先文化用品有限责任公司-SO-2024-02-0659-件数.xlsx\n"
     ]
    },
    {
     "name": "stderr",
     "output_type": "stream",
     "text": [
      "C:\\Users\\redda\\AppData\\Roaming\\Python\\Python311\\site-packages\\openpyxl\\worksheet\\_reader.py:329: UserWarning: Data Validation extension is not supported and will be removed\n",
      "  warn(msg)\n",
      "C:\\Users\\redda\\AppData\\Roaming\\Python\\Python311\\site-packages\\openpyxl\\worksheet\\_reader.py:329: UserWarning: Data Validation extension is not supported and will be removed\n",
      "  warn(msg)\n"
     ]
    },
    {
     "name": "stdout",
     "output_type": "stream",
     "text": [
      "F:\\repos\\fisha\\莱新销售订单0826-0925\\发票模板-按销售订单和存货编码-件数\\发票模板-武汉金宸翰办公用品有限公司-SO-2024-02-0660-件数.xlsx\n",
      "F:\\repos\\fisha\\莱新销售订单0826-0925\\发票模板-按销售订单和存货编码-件数\\发票模板-武汉市热脉文体用品有限公司-SO-2024-02-0661-件数.xlsx\n"
     ]
    },
    {
     "name": "stderr",
     "output_type": "stream",
     "text": [
      "C:\\Users\\redda\\AppData\\Roaming\\Python\\Python311\\site-packages\\openpyxl\\worksheet\\_reader.py:329: UserWarning: Data Validation extension is not supported and will be removed\n",
      "  warn(msg)\n",
      "C:\\Users\\redda\\AppData\\Roaming\\Python\\Python311\\site-packages\\openpyxl\\worksheet\\_reader.py:329: UserWarning: Data Validation extension is not supported and will be removed\n",
      "  warn(msg)\n"
     ]
    },
    {
     "name": "stdout",
     "output_type": "stream",
     "text": [
      "F:\\repos\\fisha\\莱新销售订单0826-0925\\发票模板-按销售订单和存货编码-件数\\发票模板-天津市友旺商贸有限公司-SO-2024-02-0662-件数.xlsx\n"
     ]
    },
    {
     "name": "stderr",
     "output_type": "stream",
     "text": [
      "C:\\Users\\redda\\AppData\\Roaming\\Python\\Python311\\site-packages\\openpyxl\\worksheet\\_reader.py:329: UserWarning: Data Validation extension is not supported and will be removed\n",
      "  warn(msg)\n"
     ]
    },
    {
     "name": "stdout",
     "output_type": "stream",
     "text": [
      "F:\\repos\\fisha\\莱新销售订单0826-0925\\发票模板-按销售订单和存货编码-件数\\发票模板-天津市友旺商贸有限公司-SO-2024-02-0663-件数.xlsx\n",
      "F:\\repos\\fisha\\莱新销售订单0826-0925\\发票模板-按销售订单和存货编码-件数\\发票模板-武汉金胜辉商贸有限公司-SO-2024-02-0664-件数.xlsx\n"
     ]
    },
    {
     "name": "stderr",
     "output_type": "stream",
     "text": [
      "C:\\Users\\redda\\AppData\\Roaming\\Python\\Python311\\site-packages\\openpyxl\\worksheet\\_reader.py:329: UserWarning: Data Validation extension is not supported and will be removed\n",
      "  warn(msg)\n",
      "C:\\Users\\redda\\AppData\\Roaming\\Python\\Python311\\site-packages\\openpyxl\\worksheet\\_reader.py:329: UserWarning: Data Validation extension is not supported and will be removed\n",
      "  warn(msg)\n"
     ]
    },
    {
     "name": "stdout",
     "output_type": "stream",
     "text": [
      "F:\\repos\\fisha\\莱新销售订单0826-0925\\发票模板-按销售订单和存货编码-件数\\发票模板-武汉静静舒文体用品有限公司-SO-2024-02-0665-件数.xlsx\n",
      "F:\\repos\\fisha\\莱新销售订单0826-0925\\发票模板-按销售订单和存货编码-件数\\发票模板-武汉市齐达利商贸有限公司-SO-2024-02-0666-件数.xlsx\n"
     ]
    },
    {
     "name": "stderr",
     "output_type": "stream",
     "text": [
      "C:\\Users\\redda\\AppData\\Roaming\\Python\\Python311\\site-packages\\openpyxl\\worksheet\\_reader.py:329: UserWarning: Data Validation extension is not supported and will be removed\n",
      "  warn(msg)\n",
      "C:\\Users\\redda\\AppData\\Roaming\\Python\\Python311\\site-packages\\openpyxl\\worksheet\\_reader.py:329: UserWarning: Data Validation extension is not supported and will be removed\n",
      "  warn(msg)\n"
     ]
    },
    {
     "name": "stdout",
     "output_type": "stream",
     "text": [
      "F:\\repos\\fisha\\莱新销售订单0826-0925\\发票模板-按销售订单和存货编码-件数\\发票模板-武汉开先文化用品有限责任公司-SO-2024-02-0667-件数.xlsx\n",
      "F:\\repos\\fisha\\莱新销售订单0826-0925\\发票模板-按销售订单和存货编码-件数\\发票模板-武汉米圣贸易有限公司-SO-2024-02-0668-件数.xlsx\n"
     ]
    },
    {
     "name": "stderr",
     "output_type": "stream",
     "text": [
      "C:\\Users\\redda\\AppData\\Roaming\\Python\\Python311\\site-packages\\openpyxl\\worksheet\\_reader.py:329: UserWarning: Data Validation extension is not supported and will be removed\n",
      "  warn(msg)\n",
      "C:\\Users\\redda\\AppData\\Roaming\\Python\\Python311\\site-packages\\openpyxl\\worksheet\\_reader.py:329: UserWarning: Data Validation extension is not supported and will be removed\n",
      "  warn(msg)\n",
      "C:\\Users\\redda\\AppData\\Roaming\\Python\\Python311\\site-packages\\openpyxl\\worksheet\\_reader.py:329: UserWarning: Data Validation extension is not supported and will be removed\n",
      "  warn(msg)\n"
     ]
    },
    {
     "name": "stdout",
     "output_type": "stream",
     "text": [
      "F:\\repos\\fisha\\莱新销售订单0826-0925\\发票模板-按销售订单和存货编码-件数\\发票模板-武汉今日成纸业有限公司-SO-2024-02-0669-件数.xlsx\n",
      "F:\\repos\\fisha\\莱新销售订单0826-0925\\发票模板-按销售订单和存货编码-件数\\发票模板-武汉今日成纸业有限公司-SO-2024-02-0670-件数.xlsx\n"
     ]
    },
    {
     "name": "stderr",
     "output_type": "stream",
     "text": [
      "C:\\Users\\redda\\AppData\\Roaming\\Python\\Python311\\site-packages\\openpyxl\\worksheet\\_reader.py:329: UserWarning: Data Validation extension is not supported and will be removed\n",
      "  warn(msg)\n"
     ]
    },
    {
     "name": "stdout",
     "output_type": "stream",
     "text": [
      "F:\\repos\\fisha\\莱新销售订单0826-0925\\发票模板-按销售订单和存货编码-件数\\发票模板-湖北昇耀商贸有限公司-SO-2024-02-0671-件数.xlsx\n",
      "F:\\repos\\fisha\\莱新销售订单0826-0925\\发票模板-按销售订单和存货编码-件数\\发票模板-武汉米圣贸易有限公司-SO-2024-02-0672-件数.xlsx\n"
     ]
    },
    {
     "name": "stderr",
     "output_type": "stream",
     "text": [
      "C:\\Users\\redda\\AppData\\Roaming\\Python\\Python311\\site-packages\\openpyxl\\worksheet\\_reader.py:329: UserWarning: Data Validation extension is not supported and will be removed\n",
      "  warn(msg)\n",
      "C:\\Users\\redda\\AppData\\Roaming\\Python\\Python311\\site-packages\\openpyxl\\worksheet\\_reader.py:329: UserWarning: Data Validation extension is not supported and will be removed\n",
      "  warn(msg)\n",
      "C:\\Users\\redda\\AppData\\Roaming\\Python\\Python311\\site-packages\\openpyxl\\worksheet\\_reader.py:329: UserWarning: Data Validation extension is not supported and will be removed\n",
      "  warn(msg)\n"
     ]
    },
    {
     "name": "stdout",
     "output_type": "stream",
     "text": [
      "F:\\repos\\fisha\\莱新销售订单0826-0925\\发票模板-按销售订单和存货编码-件数\\发票模板-武汉静静舒文体用品有限公司-SO-2024-02-0673-件数.xlsx\n",
      "F:\\repos\\fisha\\莱新销售订单0826-0925\\发票模板-按销售订单和存货编码-件数\\发票模板-武汉今日成纸业有限公司-SO-2024-02-0674-件数.xlsx\n",
      "F:\\repos\\fisha\\莱新销售订单0826-0925\\发票模板-按销售订单和存货编码-件数\\发票模板-沈阳世联办公用品有限公司-SO-2024-02-0675-件数.xlsx\n"
     ]
    },
    {
     "name": "stderr",
     "output_type": "stream",
     "text": [
      "C:\\Users\\redda\\AppData\\Roaming\\Python\\Python311\\site-packages\\openpyxl\\worksheet\\_reader.py:329: UserWarning: Data Validation extension is not supported and will be removed\n",
      "  warn(msg)\n",
      "C:\\Users\\redda\\AppData\\Roaming\\Python\\Python311\\site-packages\\openpyxl\\worksheet\\_reader.py:329: UserWarning: Data Validation extension is not supported and will be removed\n",
      "  warn(msg)\n"
     ]
    },
    {
     "name": "stdout",
     "output_type": "stream",
     "text": [
      "F:\\repos\\fisha\\莱新销售订单0826-0925\\发票模板-按销售订单和存货编码-件数\\发票模板-吉林耐斯商贸有限公司-SO-2024-02-0676-件数.xlsx\n",
      "F:\\repos\\fisha\\莱新销售订单0826-0925\\发票模板-按销售订单和存货编码-件数\\发票模板-河南梓亦桐商贸有限公司-SO-2024-02-0677-件数.xlsx\n"
     ]
    },
    {
     "name": "stderr",
     "output_type": "stream",
     "text": [
      "C:\\Users\\redda\\AppData\\Roaming\\Python\\Python311\\site-packages\\openpyxl\\worksheet\\_reader.py:329: UserWarning: Data Validation extension is not supported and will be removed\n",
      "  warn(msg)\n",
      "C:\\Users\\redda\\AppData\\Roaming\\Python\\Python311\\site-packages\\openpyxl\\worksheet\\_reader.py:329: UserWarning: Data Validation extension is not supported and will be removed\n",
      "  warn(msg)\n",
      "C:\\Users\\redda\\AppData\\Roaming\\Python\\Python311\\site-packages\\openpyxl\\worksheet\\_reader.py:329: UserWarning: Data Validation extension is not supported and will be removed\n",
      "  warn(msg)\n"
     ]
    },
    {
     "name": "stdout",
     "output_type": "stream",
     "text": [
      "F:\\repos\\fisha\\莱新销售订单0826-0925\\发票模板-按销售订单和存货编码-件数\\发票模板-成都迪欣杨商贸有限公司-SO-2024-02-0678-件数.xlsx\n",
      "F:\\repos\\fisha\\莱新销售订单0826-0925\\发票模板-按销售订单和存货编码-件数\\发票模板-江西立信办公商贸有限公司-SO-2024-02-0679-件数.xlsx\n"
     ]
    },
    {
     "name": "stderr",
     "output_type": "stream",
     "text": [
      "C:\\Users\\redda\\AppData\\Roaming\\Python\\Python311\\site-packages\\openpyxl\\worksheet\\_reader.py:329: UserWarning: Data Validation extension is not supported and will be removed\n",
      "  warn(msg)\n",
      "C:\\Users\\redda\\AppData\\Roaming\\Python\\Python311\\site-packages\\openpyxl\\worksheet\\_reader.py:329: UserWarning: Data Validation extension is not supported and will be removed\n",
      "  warn(msg)\n"
     ]
    },
    {
     "name": "stdout",
     "output_type": "stream",
     "text": [
      "F:\\repos\\fisha\\莱新销售订单0826-0925\\发票模板-按销售订单和存货编码-件数\\发票模板-长沙市雨花区文丰文具商行-SO-2024-02-0680-件数.xlsx\n",
      "F:\\repos\\fisha\\莱新销售订单0826-0925\\发票模板-按销售订单和存货编码-件数\\发票模板-武汉米圣贸易有限公司-SO-2024-02-0681-件数.xlsx\n"
     ]
    },
    {
     "name": "stderr",
     "output_type": "stream",
     "text": [
      "C:\\Users\\redda\\AppData\\Roaming\\Python\\Python311\\site-packages\\openpyxl\\worksheet\\_reader.py:329: UserWarning: Data Validation extension is not supported and will be removed\n",
      "  warn(msg)\n",
      "C:\\Users\\redda\\AppData\\Roaming\\Python\\Python311\\site-packages\\openpyxl\\worksheet\\_reader.py:329: UserWarning: Data Validation extension is not supported and will be removed\n",
      "  warn(msg)\n"
     ]
    },
    {
     "name": "stdout",
     "output_type": "stream",
     "text": [
      "F:\\repos\\fisha\\莱新销售订单0826-0925\\发票模板-按销售订单和存货编码-件数\\发票模板-武汉嘉迪亚商贸有限公司-SO-2024-02-0682-件数.xlsx\n",
      "F:\\repos\\fisha\\莱新销售订单0826-0925\\发票模板-按销售订单和存货编码-件数\\发票模板-武汉市热脉文体用品有限公司-SO-2024-02-0683-件数.xlsx\n",
      "F:\\repos\\fisha\\莱新销售订单0826-0925\\发票模板-按销售订单和存货编码-件数\\发票模板-广东盛泰档案用品有限公司-SO-2024-02-0684-件数.xlsx\n"
     ]
    },
    {
     "name": "stderr",
     "output_type": "stream",
     "text": [
      "C:\\Users\\redda\\AppData\\Roaming\\Python\\Python311\\site-packages\\openpyxl\\worksheet\\_reader.py:329: UserWarning: Data Validation extension is not supported and will be removed\n",
      "  warn(msg)\n",
      "C:\\Users\\redda\\AppData\\Roaming\\Python\\Python311\\site-packages\\openpyxl\\worksheet\\_reader.py:329: UserWarning: Data Validation extension is not supported and will be removed\n",
      "  warn(msg)\n"
     ]
    },
    {
     "name": "stdout",
     "output_type": "stream",
     "text": [
      "F:\\repos\\fisha\\莱新销售订单0826-0925\\发票模板-按销售订单和存货编码-件数\\发票模板-当涂县美文办公服务部-SO-2024-02-0685-件数.xlsx\n"
     ]
    },
    {
     "name": "stderr",
     "output_type": "stream",
     "text": [
      "C:\\Users\\redda\\AppData\\Roaming\\Python\\Python311\\site-packages\\openpyxl\\worksheet\\_reader.py:329: UserWarning: Data Validation extension is not supported and will be removed\n",
      "  warn(msg)\n",
      "C:\\Users\\redda\\AppData\\Roaming\\Python\\Python311\\site-packages\\openpyxl\\worksheet\\_reader.py:329: UserWarning: Data Validation extension is not supported and will be removed\n",
      "  warn(msg)\n"
     ]
    },
    {
     "name": "stdout",
     "output_type": "stream",
     "text": [
      "F:\\repos\\fisha\\莱新销售订单0826-0925\\发票模板-按销售订单和存货编码-件数\\发票模板-武汉静静舒文体用品有限公司-SO-2024-02-0686-件数.xlsx\n",
      "F:\\repos\\fisha\\莱新销售订单0826-0925\\发票模板-按销售订单和存货编码-件数\\发票模板-重庆终相随科技有限公司-SO-2024-02-0687-件数.xlsx\n"
     ]
    },
    {
     "name": "stderr",
     "output_type": "stream",
     "text": [
      "C:\\Users\\redda\\AppData\\Roaming\\Python\\Python311\\site-packages\\openpyxl\\worksheet\\_reader.py:329: UserWarning: Data Validation extension is not supported and will be removed\n",
      "  warn(msg)\n",
      "C:\\Users\\redda\\AppData\\Roaming\\Python\\Python311\\site-packages\\openpyxl\\worksheet\\_reader.py:329: UserWarning: Data Validation extension is not supported and will be removed\n",
      "  warn(msg)\n"
     ]
    },
    {
     "name": "stdout",
     "output_type": "stream",
     "text": [
      "F:\\repos\\fisha\\莱新销售订单0826-0925\\发票模板-按销售订单和存货编码-件数\\发票模板-湖北昇耀商贸有限公司-SO-2024-02-0688-件数.xlsx\n",
      "F:\\repos\\fisha\\莱新销售订单0826-0925\\发票模板-按销售订单和存货编码-件数\\发票模板-河南抬头喜办公用品有限公司S-SO-2024-02-0689-件数.xlsx\n"
     ]
    },
    {
     "name": "stderr",
     "output_type": "stream",
     "text": [
      "C:\\Users\\redda\\AppData\\Roaming\\Python\\Python311\\site-packages\\openpyxl\\worksheet\\_reader.py:329: UserWarning: Data Validation extension is not supported and will be removed\n",
      "  warn(msg)\n"
     ]
    },
    {
     "name": "stdout",
     "output_type": "stream",
     "text": [
      "F:\\repos\\fisha\\莱新销售订单0826-0925\\发票模板-按销售订单和存货编码-件数\\发票模板-武汉米圣贸易有限公司-SO-2024-02-0690-件数.xlsx\n"
     ]
    },
    {
     "name": "stderr",
     "output_type": "stream",
     "text": [
      "C:\\Users\\redda\\AppData\\Roaming\\Python\\Python311\\site-packages\\openpyxl\\worksheet\\_reader.py:329: UserWarning: Data Validation extension is not supported and will be removed\n",
      "  warn(msg)\n",
      "C:\\Users\\redda\\AppData\\Roaming\\Python\\Python311\\site-packages\\openpyxl\\worksheet\\_reader.py:329: UserWarning: Data Validation extension is not supported and will be removed\n",
      "  warn(msg)\n"
     ]
    },
    {
     "name": "stdout",
     "output_type": "stream",
     "text": [
      "F:\\repos\\fisha\\莱新销售订单0826-0925\\发票模板-按销售订单和存货编码-件数\\发票模板-武汉金胜辉商贸有限公司-SO-2024-02-0691-件数.xlsx\n",
      "F:\\repos\\fisha\\莱新销售订单0826-0925\\发票模板-按销售订单和存货编码-件数\\发票模板-武汉市齐达利商贸有限公司-SO-2024-02-0692-件数.xlsx\n"
     ]
    },
    {
     "name": "stderr",
     "output_type": "stream",
     "text": [
      "C:\\Users\\redda\\AppData\\Roaming\\Python\\Python311\\site-packages\\openpyxl\\worksheet\\_reader.py:329: UserWarning: Data Validation extension is not supported and will be removed\n",
      "  warn(msg)\n"
     ]
    },
    {
     "name": "stdout",
     "output_type": "stream",
     "text": [
      "F:\\repos\\fisha\\莱新销售订单0826-0925\\发票模板-按销售订单和存货编码-件数\\发票模板-武汉开先文化用品有限责任公司-SO-2024-02-0693-件数.xlsx\n",
      "F:\\repos\\fisha\\莱新销售订单0826-0925\\发票模板-按销售订单和存货编码-件数\\发票模板-武汉静静舒文体用品有限公司-SO-2024-02-0694-件数.xlsx\n"
     ]
    },
    {
     "name": "stderr",
     "output_type": "stream",
     "text": [
      "C:\\Users\\redda\\AppData\\Roaming\\Python\\Python311\\site-packages\\openpyxl\\worksheet\\_reader.py:329: UserWarning: Data Validation extension is not supported and will be removed\n",
      "  warn(msg)\n",
      "C:\\Users\\redda\\AppData\\Roaming\\Python\\Python311\\site-packages\\openpyxl\\worksheet\\_reader.py:329: UserWarning: Data Validation extension is not supported and will be removed\n",
      "  warn(msg)\n",
      "C:\\Users\\redda\\AppData\\Roaming\\Python\\Python311\\site-packages\\openpyxl\\worksheet\\_reader.py:329: UserWarning: Data Validation extension is not supported and will be removed\n",
      "  warn(msg)\n"
     ]
    },
    {
     "name": "stdout",
     "output_type": "stream",
     "text": [
      "F:\\repos\\fisha\\莱新销售订单0826-0925\\发票模板-按销售订单和存货编码-件数\\发票模板-武汉金宸翰办公用品有限公司1-SO-2024-02-0695-件数.xlsx\n",
      "F:\\repos\\fisha\\莱新销售订单0826-0925\\发票模板-按销售订单和存货编码-件数\\发票模板-苍南县怡选百货商行-SO-2024-02-0696-件数.xlsx\n"
     ]
    },
    {
     "name": "stderr",
     "output_type": "stream",
     "text": [
      "C:\\Users\\redda\\AppData\\Roaming\\Python\\Python311\\site-packages\\openpyxl\\worksheet\\_reader.py:329: UserWarning: Data Validation extension is not supported and will be removed\n",
      "  warn(msg)\n"
     ]
    },
    {
     "name": "stdout",
     "output_type": "stream",
     "text": [
      "F:\\repos\\fisha\\莱新销售订单0826-0925\\发票模板-按销售订单和存货编码-件数\\发票模板-河南抬头喜办公用品有限公司S-SO-2024-02-0697-件数.xlsx\n",
      "F:\\repos\\fisha\\莱新销售订单0826-0925\\发票模板-按销售订单和存货编码-件数\\发票模板-武汉市热脉文体用品有限公司-SO-2024-02-0698-件数.xlsx\n"
     ]
    },
    {
     "name": "stderr",
     "output_type": "stream",
     "text": [
      "C:\\Users\\redda\\AppData\\Roaming\\Python\\Python311\\site-packages\\openpyxl\\worksheet\\_reader.py:329: UserWarning: Data Validation extension is not supported and will be removed\n",
      "  warn(msg)\n",
      "C:\\Users\\redda\\AppData\\Roaming\\Python\\Python311\\site-packages\\openpyxl\\worksheet\\_reader.py:329: UserWarning: Data Validation extension is not supported and will be removed\n",
      "  warn(msg)\n",
      "C:\\Users\\redda\\AppData\\Roaming\\Python\\Python311\\site-packages\\openpyxl\\worksheet\\_reader.py:329: UserWarning: Data Validation extension is not supported and will be removed\n",
      "  warn(msg)\n"
     ]
    },
    {
     "name": "stdout",
     "output_type": "stream",
     "text": [
      "F:\\repos\\fisha\\莱新销售订单0826-0925\\发票模板-按销售订单和存货编码-件数\\发票模板-武汉米圣贸易有限公司-SO-2024-02-0699-件数.xlsx\n",
      "F:\\repos\\fisha\\莱新销售订单0826-0925\\发票模板-按销售订单和存货编码-件数\\发票模板-武汉金胜辉商贸有限公司-SO-2024-02-0700-件数.xlsx\n",
      "F:\\repos\\fisha\\莱新销售订单0826-0925\\发票模板-按销售订单和存货编码-件数\\发票模板-湖北昇耀商贸有限公司-SO-2024-02-0701-件数.xlsx\n"
     ]
    },
    {
     "name": "stderr",
     "output_type": "stream",
     "text": [
      "C:\\Users\\redda\\AppData\\Roaming\\Python\\Python311\\site-packages\\openpyxl\\worksheet\\_reader.py:329: UserWarning: Data Validation extension is not supported and will be removed\n",
      "  warn(msg)\n",
      "C:\\Users\\redda\\AppData\\Roaming\\Python\\Python311\\site-packages\\openpyxl\\worksheet\\_reader.py:329: UserWarning: Data Validation extension is not supported and will be removed\n",
      "  warn(msg)\n"
     ]
    },
    {
     "name": "stdout",
     "output_type": "stream",
     "text": [
      "F:\\repos\\fisha\\莱新销售订单0826-0925\\发票模板-按销售订单和存货编码-件数\\发票模板-武汉市热脉文体用品有限公司-SO-2024-02-0702-件数.xlsx\n"
     ]
    },
    {
     "name": "stderr",
     "output_type": "stream",
     "text": [
      "C:\\Users\\redda\\AppData\\Roaming\\Python\\Python311\\site-packages\\openpyxl\\worksheet\\_reader.py:329: UserWarning: Data Validation extension is not supported and will be removed\n",
      "  warn(msg)\n",
      "C:\\Users\\redda\\AppData\\Roaming\\Python\\Python311\\site-packages\\openpyxl\\worksheet\\_reader.py:329: UserWarning: Data Validation extension is not supported and will be removed\n",
      "  warn(msg)\n"
     ]
    },
    {
     "name": "stdout",
     "output_type": "stream",
     "text": [
      "F:\\repos\\fisha\\莱新销售订单0826-0925\\发票模板-按销售订单和存货编码-件数\\发票模板-武汉今日成纸业有限公司-SO-2024-02-0703-件数.xlsx\n",
      "F:\\repos\\fisha\\莱新销售订单0826-0925\\发票模板-按销售订单和存货编码-件数\\发票模板-天津市友旺商贸有限公司-SO-2024-02-0704-件数.xlsx\n"
     ]
    },
    {
     "name": "stderr",
     "output_type": "stream",
     "text": [
      "C:\\Users\\redda\\AppData\\Roaming\\Python\\Python311\\site-packages\\openpyxl\\worksheet\\_reader.py:329: UserWarning: Data Validation extension is not supported and will be removed\n",
      "  warn(msg)\n",
      "C:\\Users\\redda\\AppData\\Roaming\\Python\\Python311\\site-packages\\openpyxl\\worksheet\\_reader.py:329: UserWarning: Data Validation extension is not supported and will be removed\n",
      "  warn(msg)\n"
     ]
    },
    {
     "name": "stdout",
     "output_type": "stream",
     "text": [
      "F:\\repos\\fisha\\莱新销售订单0826-0925\\发票模板-按销售订单和存货编码-件数\\发票模板-桂林竞升文化用品有限公司-SO-2024-02-0705-件数.xlsx\n",
      "F:\\repos\\fisha\\莱新销售订单0826-0925\\发票模板-按销售订单和存货编码-件数\\发票模板-白玉县诚信办公用品销售有限公司-SO-2024-02-0706-件数.xlsx\n"
     ]
    },
    {
     "name": "stderr",
     "output_type": "stream",
     "text": [
      "C:\\Users\\redda\\AppData\\Roaming\\Python\\Python311\\site-packages\\openpyxl\\worksheet\\_reader.py:329: UserWarning: Data Validation extension is not supported and will be removed\n",
      "  warn(msg)\n"
     ]
    },
    {
     "name": "stdout",
     "output_type": "stream",
     "text": [
      "F:\\repos\\fisha\\莱新销售订单0826-0925\\发票模板-按销售订单和存货编码-件数\\发票模板-昆明八龙商贸有限公司-SO-2024-02-0707-件数.xlsx\n",
      "F:\\repos\\fisha\\莱新销售订单0826-0925\\发票模板-按销售订单和存货编码-件数\\发票模板-哈尔滨市新天地文化用品有限公司-SO-2024-02-0708-件数.xlsx\n"
     ]
    },
    {
     "name": "stderr",
     "output_type": "stream",
     "text": [
      "C:\\Users\\redda\\AppData\\Roaming\\Python\\Python311\\site-packages\\openpyxl\\worksheet\\_reader.py:329: UserWarning: Data Validation extension is not supported and will be removed\n",
      "  warn(msg)\n",
      "C:\\Users\\redda\\AppData\\Roaming\\Python\\Python311\\site-packages\\openpyxl\\worksheet\\_reader.py:329: UserWarning: Data Validation extension is not supported and will be removed\n",
      "  warn(msg)\n",
      "C:\\Users\\redda\\AppData\\Roaming\\Python\\Python311\\site-packages\\openpyxl\\worksheet\\_reader.py:329: UserWarning: Data Validation extension is not supported and will be removed\n",
      "  warn(msg)\n"
     ]
    },
    {
     "name": "stdout",
     "output_type": "stream",
     "text": [
      "F:\\repos\\fisha\\莱新销售订单0826-0925\\发票模板-按销售订单和存货编码-件数\\发票模板-宁夏好时光商贸有限公司-SO-2024-02-0709-件数.xlsx\n",
      "F:\\repos\\fisha\\莱新销售订单0826-0925\\发票模板-按销售订单和存货编码-件数\\发票模板-西宁宏薇商贸有限公司-SO-2024-02-0710-件数.xlsx\n"
     ]
    },
    {
     "name": "stderr",
     "output_type": "stream",
     "text": [
      "C:\\Users\\redda\\AppData\\Roaming\\Python\\Python311\\site-packages\\openpyxl\\worksheet\\_reader.py:329: UserWarning: Data Validation extension is not supported and will be removed\n",
      "  warn(msg)\n"
     ]
    },
    {
     "name": "stdout",
     "output_type": "stream",
     "text": [
      "F:\\repos\\fisha\\莱新销售订单0826-0925\\发票模板-按销售订单和存货编码-件数\\发票模板-石家庄本米文具用品销售有限公司-SO-2024-02-0711-件数.xlsx\n"
     ]
    },
    {
     "name": "stderr",
     "output_type": "stream",
     "text": [
      "C:\\Users\\redda\\AppData\\Roaming\\Python\\Python311\\site-packages\\openpyxl\\worksheet\\_reader.py:329: UserWarning: Data Validation extension is not supported and will be removed\n",
      "  warn(msg)\n"
     ]
    },
    {
     "name": "stdout",
     "output_type": "stream",
     "text": [
      "F:\\repos\\fisha\\莱新销售订单0826-0925\\发票模板-按销售订单和存货编码-件数\\发票模板-武汉今日成纸业有限公司-SO-2024-02-0712-件数.xlsx\n",
      "F:\\repos\\fisha\\莱新销售订单0826-0925\\发票模板-按销售订单和存货编码-件数\\发票模板-武汉优聚优品贸易有限公司-SO-2024-02-0713-件数.xlsx\n"
     ]
    },
    {
     "name": "stderr",
     "output_type": "stream",
     "text": [
      "C:\\Users\\redda\\AppData\\Roaming\\Python\\Python311\\site-packages\\openpyxl\\worksheet\\_reader.py:329: UserWarning: Data Validation extension is not supported and will be removed\n",
      "  warn(msg)\n",
      "C:\\Users\\redda\\AppData\\Roaming\\Python\\Python311\\site-packages\\openpyxl\\worksheet\\_reader.py:329: UserWarning: Data Validation extension is not supported and will be removed\n",
      "  warn(msg)\n"
     ]
    },
    {
     "name": "stdout",
     "output_type": "stream",
     "text": [
      "F:\\repos\\fisha\\莱新销售订单0826-0925\\发票模板-按销售订单和存货编码-件数\\发票模板-成都乐尚怡智商贸有限公司-SO-2024-02-0714-件数.xlsx\n",
      "F:\\repos\\fisha\\莱新销售订单0826-0925\\发票模板-按销售订单和存货编码-件数\\发票模板-品壹佰河北商贸有限公司-SO-2024-02-0715-件数.xlsx\n"
     ]
    },
    {
     "name": "stderr",
     "output_type": "stream",
     "text": [
      "C:\\Users\\redda\\AppData\\Roaming\\Python\\Python311\\site-packages\\openpyxl\\worksheet\\_reader.py:329: UserWarning: Data Validation extension is not supported and will be removed\n",
      "  warn(msg)\n",
      "C:\\Users\\redda\\AppData\\Roaming\\Python\\Python311\\site-packages\\openpyxl\\worksheet\\_reader.py:329: UserWarning: Data Validation extension is not supported and will be removed\n",
      "  warn(msg)\n"
     ]
    },
    {
     "name": "stdout",
     "output_type": "stream",
     "text": [
      "F:\\repos\\fisha\\莱新销售订单0826-0925\\发票模板-按销售订单和存货编码-件数\\发票模板-保定白沟彩顺商贸有限公司-SO-2024-02-0716-件数.xlsx\n",
      "F:\\repos\\fisha\\莱新销售订单0826-0925\\发票模板-按销售订单和存货编码-件数\\发票模板-柳州市笔创贸易有限公司-SO-2024-02-0717-件数.xlsx\n"
     ]
    },
    {
     "name": "stderr",
     "output_type": "stream",
     "text": [
      "C:\\Users\\redda\\AppData\\Roaming\\Python\\Python311\\site-packages\\openpyxl\\worksheet\\_reader.py:329: UserWarning: Data Validation extension is not supported and will be removed\n",
      "  warn(msg)\n",
      "C:\\Users\\redda\\AppData\\Roaming\\Python\\Python311\\site-packages\\openpyxl\\worksheet\\_reader.py:329: UserWarning: Data Validation extension is not supported and will be removed\n",
      "  warn(msg)\n"
     ]
    },
    {
     "name": "stdout",
     "output_type": "stream",
     "text": [
      "F:\\repos\\fisha\\莱新销售订单0826-0925\\发票模板-按销售订单和存货编码-件数\\发票模板-广西首平文具有限公司-SO-2024-02-0718-件数.xlsx\n"
     ]
    },
    {
     "name": "stderr",
     "output_type": "stream",
     "text": [
      "C:\\Users\\redda\\AppData\\Roaming\\Python\\Python311\\site-packages\\openpyxl\\worksheet\\_reader.py:329: UserWarning: Data Validation extension is not supported and will be removed\n",
      "  warn(msg)\n"
     ]
    },
    {
     "name": "stdout",
     "output_type": "stream",
     "text": [
      "F:\\repos\\fisha\\莱新销售订单0826-0925\\发票模板-按销售订单和存货编码-件数\\发票模板-长沙市雨花区文丰文具商行-SO-2024-02-0719-件数.xlsx\n"
     ]
    },
    {
     "name": "stderr",
     "output_type": "stream",
     "text": [
      "C:\\Users\\redda\\AppData\\Roaming\\Python\\Python311\\site-packages\\openpyxl\\worksheet\\_reader.py:329: UserWarning: Data Validation extension is not supported and will be removed\n",
      "  warn(msg)\n"
     ]
    },
    {
     "name": "stdout",
     "output_type": "stream",
     "text": [
      "F:\\repos\\fisha\\莱新销售订单0826-0925\\发票模板-按销售订单和存货编码-件数\\发票模板-天津市友旺商贸有限公司-SO-2024-02-0720-件数.xlsx\n"
     ]
    },
    {
     "name": "stderr",
     "output_type": "stream",
     "text": [
      "C:\\Users\\redda\\AppData\\Roaming\\Python\\Python311\\site-packages\\openpyxl\\worksheet\\_reader.py:329: UserWarning: Data Validation extension is not supported and will be removed\n",
      "  warn(msg)\n",
      "C:\\Users\\redda\\AppData\\Roaming\\Python\\Python311\\site-packages\\openpyxl\\worksheet\\_reader.py:329: UserWarning: Data Validation extension is not supported and will be removed\n",
      "  warn(msg)\n"
     ]
    },
    {
     "name": "stdout",
     "output_type": "stream",
     "text": [
      "F:\\repos\\fisha\\莱新销售订单0826-0925\\发票模板-按销售订单和存货编码-件数\\发票模板-四季发文具-SO-2024-02-0721-件数.xlsx\n",
      "F:\\repos\\fisha\\莱新销售订单0826-0925\\发票模板-按销售订单和存货编码-件数\\发票模板-株洲文邦贸易有限公司-SO-2024-02-0722-件数.xlsx\n",
      "F:\\repos\\fisha\\莱新销售订单0826-0925\\发票模板-按销售订单和存货编码-件数\\发票模板-兴义市鸿图锐意办公商贸有限公司-SO-2024-02-0723-件数.xlsx\n"
     ]
    },
    {
     "name": "stderr",
     "output_type": "stream",
     "text": [
      "C:\\Users\\redda\\AppData\\Roaming\\Python\\Python311\\site-packages\\openpyxl\\worksheet\\_reader.py:329: UserWarning: Data Validation extension is not supported and will be removed\n",
      "  warn(msg)\n",
      "C:\\Users\\redda\\AppData\\Roaming\\Python\\Python311\\site-packages\\openpyxl\\worksheet\\_reader.py:329: UserWarning: Data Validation extension is not supported and will be removed\n",
      "  warn(msg)\n"
     ]
    },
    {
     "name": "stdout",
     "output_type": "stream",
     "text": [
      "F:\\repos\\fisha\\莱新销售订单0826-0925\\发票模板-按销售订单和存货编码-件数\\发票模板-南宁市小木屋文化用品有限公司-SO-2024-02-0724-件数.xlsx\n",
      "F:\\repos\\fisha\\莱新销售订单0826-0925\\发票模板-按销售订单和存货编码-件数\\发票模板-武汉金胜辉商贸有限公司-SO-2024-02-0725-件数.xlsx\n"
     ]
    },
    {
     "name": "stderr",
     "output_type": "stream",
     "text": [
      "C:\\Users\\redda\\AppData\\Roaming\\Python\\Python311\\site-packages\\openpyxl\\worksheet\\_reader.py:329: UserWarning: Data Validation extension is not supported and will be removed\n",
      "  warn(msg)\n",
      "C:\\Users\\redda\\AppData\\Roaming\\Python\\Python311\\site-packages\\openpyxl\\worksheet\\_reader.py:329: UserWarning: Data Validation extension is not supported and will be removed\n",
      "  warn(msg)\n"
     ]
    },
    {
     "name": "stdout",
     "output_type": "stream",
     "text": [
      "F:\\repos\\fisha\\莱新销售订单0826-0925\\发票模板-按销售订单和存货编码-件数\\发票模板-武汉米圣贸易有限公司-SO-2024-02-0726-件数.xlsx\n",
      "F:\\repos\\fisha\\莱新销售订单0826-0925\\发票模板-按销售订单和存货编码-件数\\发票模板-武汉开先文化用品有限责任公司-SO-2024-02-0727-件数.xlsx\n"
     ]
    },
    {
     "name": "stderr",
     "output_type": "stream",
     "text": [
      "C:\\Users\\redda\\AppData\\Roaming\\Python\\Python311\\site-packages\\openpyxl\\worksheet\\_reader.py:329: UserWarning: Data Validation extension is not supported and will be removed\n",
      "  warn(msg)\n",
      "C:\\Users\\redda\\AppData\\Roaming\\Python\\Python311\\site-packages\\openpyxl\\worksheet\\_reader.py:329: UserWarning: Data Validation extension is not supported and will be removed\n",
      "  warn(msg)\n"
     ]
    },
    {
     "name": "stdout",
     "output_type": "stream",
     "text": [
      "F:\\repos\\fisha\\莱新销售订单0826-0925\\发票模板-按销售订单和存货编码-件数\\发票模板-武汉市齐达利商贸有限公司-SO-2024-02-0728-件数.xlsx\n"
     ]
    },
    {
     "name": "stderr",
     "output_type": "stream",
     "text": [
      "C:\\Users\\redda\\AppData\\Roaming\\Python\\Python311\\site-packages\\openpyxl\\worksheet\\_reader.py:329: UserWarning: Data Validation extension is not supported and will be removed\n",
      "  warn(msg)\n"
     ]
    },
    {
     "name": "stdout",
     "output_type": "stream",
     "text": [
      "F:\\repos\\fisha\\莱新销售订单0826-0925\\发票模板-按销售订单和存货编码-件数\\发票模板-西安百花工贸有限公司-SO-2024-02-0729-件数.xlsx\n",
      "F:\\repos\\fisha\\莱新销售订单0826-0925\\发票模板-按销售订单和存货编码-件数\\发票模板-武汉金胜辉商贸有限公司-SO-2024-02-0730-件数.xlsx\n"
     ]
    },
    {
     "name": "stderr",
     "output_type": "stream",
     "text": [
      "C:\\Users\\redda\\AppData\\Roaming\\Python\\Python311\\site-packages\\openpyxl\\worksheet\\_reader.py:329: UserWarning: Data Validation extension is not supported and will be removed\n",
      "  warn(msg)\n",
      "C:\\Users\\redda\\AppData\\Roaming\\Python\\Python311\\site-packages\\openpyxl\\worksheet\\_reader.py:329: UserWarning: Data Validation extension is not supported and will be removed\n",
      "  warn(msg)\n",
      "C:\\Users\\redda\\AppData\\Roaming\\Python\\Python311\\site-packages\\openpyxl\\worksheet\\_reader.py:329: UserWarning: Data Validation extension is not supported and will be removed\n",
      "  warn(msg)\n"
     ]
    },
    {
     "name": "stdout",
     "output_type": "stream",
     "text": [
      "F:\\repos\\fisha\\莱新销售订单0826-0925\\发票模板-按销售订单和存货编码-件数\\发票模板-武汉今日成纸业有限公司-SO-2024-02-0731-件数.xlsx\n",
      "F:\\repos\\fisha\\莱新销售订单0826-0925\\发票模板-按销售订单和存货编码-件数\\发票模板-武汉米圣贸易有限公司-SO-2024-02-0732-件数.xlsx\n"
     ]
    },
    {
     "name": "stderr",
     "output_type": "stream",
     "text": [
      "C:\\Users\\redda\\AppData\\Roaming\\Python\\Python311\\site-packages\\openpyxl\\worksheet\\_reader.py:329: UserWarning: Data Validation extension is not supported and will be removed\n",
      "  warn(msg)\n",
      "C:\\Users\\redda\\AppData\\Roaming\\Python\\Python311\\site-packages\\openpyxl\\worksheet\\_reader.py:329: UserWarning: Data Validation extension is not supported and will be removed\n",
      "  warn(msg)\n"
     ]
    },
    {
     "name": "stdout",
     "output_type": "stream",
     "text": [
      "F:\\repos\\fisha\\莱新销售订单0826-0925\\发票模板-按销售订单和存货编码-件数\\发票模板-武汉金宸翰办公用品有限公司-SO-2024-02-0733-件数.xlsx\n",
      "F:\\repos\\fisha\\莱新销售订单0826-0925\\发票模板-按销售订单和存货编码-件数\\发票模板-湖北昇耀商贸有限公司-SO-2024-02-0734-件数.xlsx\n"
     ]
    },
    {
     "name": "stderr",
     "output_type": "stream",
     "text": [
      "C:\\Users\\redda\\AppData\\Roaming\\Python\\Python311\\site-packages\\openpyxl\\worksheet\\_reader.py:329: UserWarning: Data Validation extension is not supported and will be removed\n",
      "  warn(msg)\n",
      "C:\\Users\\redda\\AppData\\Roaming\\Python\\Python311\\site-packages\\openpyxl\\worksheet\\_reader.py:329: UserWarning: Data Validation extension is not supported and will be removed\n",
      "  warn(msg)\n"
     ]
    },
    {
     "name": "stdout",
     "output_type": "stream",
     "text": [
      "F:\\repos\\fisha\\莱新销售订单0826-0925\\发票模板-按销售订单和存货编码-件数\\发票模板-武汉今日成纸业有限公司-SO-2024-02-0735-件数.xlsx\n",
      "F:\\repos\\fisha\\莱新销售订单0826-0925\\发票模板-按销售订单和存货编码-件数\\发票模板-昆明市官渡区林林林文体用品经营部-SO-2024-02-0736-件数.xlsx\n"
     ]
    },
    {
     "name": "stderr",
     "output_type": "stream",
     "text": [
      "C:\\Users\\redda\\AppData\\Roaming\\Python\\Python311\\site-packages\\openpyxl\\worksheet\\_reader.py:329: UserWarning: Data Validation extension is not supported and will be removed\n",
      "  warn(msg)\n",
      "C:\\Users\\redda\\AppData\\Roaming\\Python\\Python311\\site-packages\\openpyxl\\worksheet\\_reader.py:329: UserWarning: Data Validation extension is not supported and will be removed\n",
      "  warn(msg)\n"
     ]
    },
    {
     "name": "stdout",
     "output_type": "stream",
     "text": [
      "F:\\repos\\fisha\\莱新销售订单0826-0925\\发票模板-按销售订单和存货编码-件数\\发票模板-武汉金宸翰办公用品有限公司-SO-2024-02-0737-件数.xlsx\n",
      "F:\\repos\\fisha\\莱新销售订单0826-0925\\发票模板-按销售订单和存货编码-件数\\发票模板-武汉市热脉文体用品有限公司-SO-2024-02-0738-件数.xlsx\n"
     ]
    },
    {
     "name": "stderr",
     "output_type": "stream",
     "text": [
      "C:\\Users\\redda\\AppData\\Roaming\\Python\\Python311\\site-packages\\openpyxl\\worksheet\\_reader.py:329: UserWarning: Data Validation extension is not supported and will be removed\n",
      "  warn(msg)\n"
     ]
    },
    {
     "name": "stdout",
     "output_type": "stream",
     "text": [
      "F:\\repos\\fisha\\莱新销售订单0826-0925\\发票模板-按销售订单和存货编码-件数\\发票模板-河南抬头喜办公用品有限公司S-SO-2024-02-0739-件数.xlsx\n",
      "F:\\repos\\fisha\\莱新销售订单0826-0925\\发票模板-按销售订单和存货编码-件数\\发票模板-西安华坤集采供应链管理有限公司-SO-2024-02-0740-件数.xlsx\n"
     ]
    },
    {
     "name": "stderr",
     "output_type": "stream",
     "text": [
      "C:\\Users\\redda\\AppData\\Roaming\\Python\\Python311\\site-packages\\openpyxl\\worksheet\\_reader.py:329: UserWarning: Data Validation extension is not supported and will be removed\n",
      "  warn(msg)\n",
      "C:\\Users\\redda\\AppData\\Roaming\\Python\\Python311\\site-packages\\openpyxl\\worksheet\\_reader.py:329: UserWarning: Data Validation extension is not supported and will be removed\n",
      "  warn(msg)\n"
     ]
    },
    {
     "name": "stdout",
     "output_type": "stream",
     "text": [
      "F:\\repos\\fisha\\莱新销售订单0826-0925\\发票模板-按销售订单和存货编码-件数\\发票模板-广东盛泰档案用品有限公司-SO-2024-02-0741-件数.xlsx\n"
     ]
    },
    {
     "name": "stderr",
     "output_type": "stream",
     "text": [
      "C:\\Users\\redda\\AppData\\Roaming\\Python\\Python311\\site-packages\\openpyxl\\worksheet\\_reader.py:329: UserWarning: Data Validation extension is not supported and will be removed\n",
      "  warn(msg)\n",
      "C:\\Users\\redda\\AppData\\Roaming\\Python\\Python311\\site-packages\\openpyxl\\worksheet\\_reader.py:329: UserWarning: Data Validation extension is not supported and will be removed\n",
      "  warn(msg)\n"
     ]
    },
    {
     "name": "stdout",
     "output_type": "stream",
     "text": [
      "F:\\repos\\fisha\\莱新销售订单0826-0925\\发票模板-按销售订单和存货编码-件数\\发票模板-宁夏昕墨文化用品有限公司-SO-2024-02-0742-件数.xlsx\n",
      "F:\\repos\\fisha\\莱新销售订单0826-0925\\发票模板-按销售订单和存货编码-件数\\发票模板-山西融和通商贸有限公司-SO-2024-02-0743-件数.xlsx\n",
      "F:\\repos\\fisha\\莱新销售订单0826-0925\\发票模板-按销售订单和存货编码-件数\\发票模板-天津市友旺商贸有限公司-SO-2024-02-0744-件数.xlsx\n"
     ]
    },
    {
     "name": "stderr",
     "output_type": "stream",
     "text": [
      "C:\\Users\\redda\\AppData\\Roaming\\Python\\Python311\\site-packages\\openpyxl\\worksheet\\_reader.py:329: UserWarning: Data Validation extension is not supported and will be removed\n",
      "  warn(msg)\n",
      "C:\\Users\\redda\\AppData\\Roaming\\Python\\Python311\\site-packages\\openpyxl\\worksheet\\_reader.py:329: UserWarning: Data Validation extension is not supported and will be removed\n",
      "  warn(msg)\n"
     ]
    },
    {
     "name": "stdout",
     "output_type": "stream",
     "text": [
      "F:\\repos\\fisha\\莱新销售订单0826-0925\\发票模板-按销售订单和存货编码-件数\\发票模板-昆明舍礼麦商贸有限公司S-SO-2024-02-0745-件数.xlsx\n"
     ]
    },
    {
     "name": "stderr",
     "output_type": "stream",
     "text": [
      "C:\\Users\\redda\\AppData\\Roaming\\Python\\Python311\\site-packages\\openpyxl\\worksheet\\_reader.py:329: UserWarning: Data Validation extension is not supported and will be removed\n",
      "  warn(msg)\n"
     ]
    },
    {
     "name": "stdout",
     "output_type": "stream",
     "text": [
      "F:\\repos\\fisha\\莱新销售订单0826-0925\\发票模板-按销售订单和存货编码-件数\\发票模板-重庆文优文化用品有限公司-SO-2024-02-0746-件数.xlsx\n",
      "F:\\repos\\fisha\\莱新销售订单0826-0925\\发票模板-按销售订单和存货编码-件数\\发票模板-长沙市东麦文化有限公司-SO-2024-02-0747-件数.xlsx\n"
     ]
    },
    {
     "name": "stderr",
     "output_type": "stream",
     "text": [
      "C:\\Users\\redda\\AppData\\Roaming\\Python\\Python311\\site-packages\\openpyxl\\worksheet\\_reader.py:329: UserWarning: Data Validation extension is not supported and will be removed\n",
      "  warn(msg)\n",
      "C:\\Users\\redda\\AppData\\Roaming\\Python\\Python311\\site-packages\\openpyxl\\worksheet\\_reader.py:329: UserWarning: Data Validation extension is not supported and will be removed\n",
      "  warn(msg)\n"
     ]
    },
    {
     "name": "stdout",
     "output_type": "stream",
     "text": [
      "F:\\repos\\fisha\\莱新销售订单0826-0925\\发票模板-按销售订单和存货编码-件数\\发票模板-南宁市小木屋文化用品有限公司-SO-2024-02-0748-件数.xlsx\n"
     ]
    },
    {
     "name": "stderr",
     "output_type": "stream",
     "text": [
      "C:\\Users\\redda\\AppData\\Roaming\\Python\\Python311\\site-packages\\openpyxl\\worksheet\\_reader.py:329: UserWarning: Data Validation extension is not supported and will be removed\n",
      "  warn(msg)\n"
     ]
    },
    {
     "name": "stdout",
     "output_type": "stream",
     "text": [
      "F:\\repos\\fisha\\莱新销售订单0826-0925\\发票模板-按销售订单和存货编码-件数\\发票模板-长沙市雨花区文丰文具商行-SO-2024-02-0749-件数.xlsx\n"
     ]
    },
    {
     "name": "stderr",
     "output_type": "stream",
     "text": [
      "C:\\Users\\redda\\AppData\\Roaming\\Python\\Python311\\site-packages\\openpyxl\\worksheet\\_reader.py:329: UserWarning: Data Validation extension is not supported and will be removed\n",
      "  warn(msg)\n",
      "C:\\Users\\redda\\AppData\\Roaming\\Python\\Python311\\site-packages\\openpyxl\\worksheet\\_reader.py:329: UserWarning: Data Validation extension is not supported and will be removed\n",
      "  warn(msg)\n"
     ]
    },
    {
     "name": "stdout",
     "output_type": "stream",
     "text": [
      "F:\\repos\\fisha\\莱新销售订单0826-0925\\发票模板-按销售订单和存货编码-件数\\发票模板-临沂巧纳金纸品有限公司-SO-2024-02-0750-件数.xlsx\n",
      "F:\\repos\\fisha\\莱新销售订单0826-0925\\发票模板-按销售订单和存货编码-件数\\发票模板-武汉米圣贸易有限公司-SO-2024-02-0751-件数.xlsx\n",
      "F:\\repos\\fisha\\莱新销售订单0826-0925\\发票模板-按销售订单和存货编码-件数\\发票模板-重庆文优文化用品有限公司-SO-2024-02-0752-件数.xlsx\n"
     ]
    },
    {
     "name": "stderr",
     "output_type": "stream",
     "text": [
      "C:\\Users\\redda\\AppData\\Roaming\\Python\\Python311\\site-packages\\openpyxl\\worksheet\\_reader.py:329: UserWarning: Data Validation extension is not supported and will be removed\n",
      "  warn(msg)\n",
      "C:\\Users\\redda\\AppData\\Roaming\\Python\\Python311\\site-packages\\openpyxl\\worksheet\\_reader.py:329: UserWarning: Data Validation extension is not supported and will be removed\n",
      "  warn(msg)\n"
     ]
    },
    {
     "name": "stdout",
     "output_type": "stream",
     "text": [
      "F:\\repos\\fisha\\莱新销售订单0826-0925\\发票模板-按销售订单和存货编码-件数\\发票模板-河南抬头喜办公用品有限公司S-SO-2024-02-0753-件数.xlsx\n"
     ]
    },
    {
     "name": "stderr",
     "output_type": "stream",
     "text": [
      "C:\\Users\\redda\\AppData\\Roaming\\Python\\Python311\\site-packages\\openpyxl\\worksheet\\_reader.py:329: UserWarning: Data Validation extension is not supported and will be removed\n",
      "  warn(msg)\n"
     ]
    },
    {
     "name": "stdout",
     "output_type": "stream",
     "text": [
      "F:\\repos\\fisha\\莱新销售订单0826-0925\\发票模板-按销售订单和存货编码-件数\\发票模板-保定白沟彩顺商贸有限公司-SO-2024-02-0754-件数.xlsx\n",
      "F:\\repos\\fisha\\莱新销售订单0826-0925\\发票模板-按销售订单和存货编码-件数\\发票模板-桂林竞升文化用品有限公司-SO-2024-02-0755-件数.xlsx\n"
     ]
    },
    {
     "name": "stderr",
     "output_type": "stream",
     "text": [
      "C:\\Users\\redda\\AppData\\Roaming\\Python\\Python311\\site-packages\\openpyxl\\worksheet\\_reader.py:329: UserWarning: Data Validation extension is not supported and will be removed\n",
      "  warn(msg)\n",
      "C:\\Users\\redda\\AppData\\Roaming\\Python\\Python311\\site-packages\\openpyxl\\worksheet\\_reader.py:329: UserWarning: Data Validation extension is not supported and will be removed\n",
      "  warn(msg)\n"
     ]
    },
    {
     "name": "stdout",
     "output_type": "stream",
     "text": [
      "F:\\repos\\fisha\\莱新销售订单0826-0925\\发票模板-按销售订单和存货编码-件数\\发票模板-武汉米圣贸易有限公司-SO-2024-02-0756-件数.xlsx\n",
      "F:\\repos\\fisha\\莱新销售订单0826-0925\\发票模板-按销售订单和存货编码-件数\\发票模板-武汉米圣贸易有限公司-SO-2024-02-0757-件数.xlsx\n"
     ]
    },
    {
     "name": "stderr",
     "output_type": "stream",
     "text": [
      "C:\\Users\\redda\\AppData\\Roaming\\Python\\Python311\\site-packages\\openpyxl\\worksheet\\_reader.py:329: UserWarning: Data Validation extension is not supported and will be removed\n",
      "  warn(msg)\n",
      "C:\\Users\\redda\\AppData\\Roaming\\Python\\Python311\\site-packages\\openpyxl\\worksheet\\_reader.py:329: UserWarning: Data Validation extension is not supported and will be removed\n",
      "  warn(msg)\n"
     ]
    },
    {
     "name": "stdout",
     "output_type": "stream",
     "text": [
      "F:\\repos\\fisha\\莱新销售订单0826-0925\\发票模板-按销售订单和存货编码-件数\\发票模板-武汉今日成纸业有限公司-SO-2024-02-0758-件数.xlsx\n"
     ]
    },
    {
     "name": "stderr",
     "output_type": "stream",
     "text": [
      "C:\\Users\\redda\\AppData\\Roaming\\Python\\Python311\\site-packages\\openpyxl\\worksheet\\_reader.py:329: UserWarning: Data Validation extension is not supported and will be removed\n",
      "  warn(msg)\n"
     ]
    },
    {
     "name": "stdout",
     "output_type": "stream",
     "text": [
      "F:\\repos\\fisha\\莱新销售订单0826-0925\\发票模板-按销售订单和存货编码-件数\\发票模板-武汉嘉迪亚商贸有限公司-SO-2024-02-0759-件数.xlsx\n",
      "F:\\repos\\fisha\\莱新销售订单0826-0925\\发票模板-按销售订单和存货编码-件数\\发票模板-南宁市小木屋文化用品有限公司-SO-2024-02-0760-件数.xlsx\n"
     ]
    },
    {
     "name": "stderr",
     "output_type": "stream",
     "text": [
      "C:\\Users\\redda\\AppData\\Roaming\\Python\\Python311\\site-packages\\openpyxl\\worksheet\\_reader.py:329: UserWarning: Data Validation extension is not supported and will be removed\n",
      "  warn(msg)\n",
      "C:\\Users\\redda\\AppData\\Roaming\\Python\\Python311\\site-packages\\openpyxl\\worksheet\\_reader.py:329: UserWarning: Data Validation extension is not supported and will be removed\n",
      "  warn(msg)\n"
     ]
    },
    {
     "name": "stdout",
     "output_type": "stream",
     "text": [
      "F:\\repos\\fisha\\莱新销售订单0826-0925\\发票模板-按销售订单和存货编码-件数\\发票模板-武汉市齐达利商贸有限公司-SO-2024-02-0761-件数.xlsx\n",
      "F:\\repos\\fisha\\莱新销售订单0826-0925\\发票模板-按销售订单和存货编码-件数\\发票模板-武汉金宸翰办公用品有限公司1-SO-2024-02-0762-件数.xlsx\n"
     ]
    },
    {
     "name": "stderr",
     "output_type": "stream",
     "text": [
      "C:\\Users\\redda\\AppData\\Roaming\\Python\\Python311\\site-packages\\openpyxl\\worksheet\\_reader.py:329: UserWarning: Data Validation extension is not supported and will be removed\n",
      "  warn(msg)\n",
      "C:\\Users\\redda\\AppData\\Roaming\\Python\\Python311\\site-packages\\openpyxl\\worksheet\\_reader.py:329: UserWarning: Data Validation extension is not supported and will be removed\n",
      "  warn(msg)\n",
      "C:\\Users\\redda\\AppData\\Roaming\\Python\\Python311\\site-packages\\openpyxl\\worksheet\\_reader.py:329: UserWarning: Data Validation extension is not supported and will be removed\n",
      "  warn(msg)\n"
     ]
    },
    {
     "name": "stdout",
     "output_type": "stream",
     "text": [
      "F:\\repos\\fisha\\莱新销售订单0826-0925\\发票模板-按销售订单和存货编码-件数\\发票模板-武汉开先文化用品有限责任公司-SO-2024-02-0763-件数.xlsx\n",
      "F:\\repos\\fisha\\莱新销售订单0826-0925\\发票模板-按销售订单和存货编码-件数\\发票模板-武汉金胜辉商贸有限公司-SO-2024-02-0764-件数.xlsx\n"
     ]
    },
    {
     "name": "stderr",
     "output_type": "stream",
     "text": [
      "C:\\Users\\redda\\AppData\\Roaming\\Python\\Python311\\site-packages\\openpyxl\\worksheet\\_reader.py:329: UserWarning: Data Validation extension is not supported and will be removed\n",
      "  warn(msg)\n",
      "C:\\Users\\redda\\AppData\\Roaming\\Python\\Python311\\site-packages\\openpyxl\\worksheet\\_reader.py:329: UserWarning: Data Validation extension is not supported and will be removed\n",
      "  warn(msg)\n"
     ]
    },
    {
     "name": "stdout",
     "output_type": "stream",
     "text": [
      "F:\\repos\\fisha\\莱新销售订单0826-0925\\发票模板-按销售订单和存货编码-件数\\发票模板-武汉金胜辉商贸有限公司-SO-2024-02-0765-件数.xlsx\n",
      "F:\\repos\\fisha\\莱新销售订单0826-0925\\发票模板-按销售订单和存货编码-件数\\发票模板-武汉市齐达利商贸有限公司-SO-2024-02-0766-件数.xlsx\n"
     ]
    },
    {
     "name": "stderr",
     "output_type": "stream",
     "text": [
      "C:\\Users\\redda\\AppData\\Roaming\\Python\\Python311\\site-packages\\openpyxl\\worksheet\\_reader.py:329: UserWarning: Data Validation extension is not supported and will be removed\n",
      "  warn(msg)\n"
     ]
    },
    {
     "name": "stdout",
     "output_type": "stream",
     "text": [
      "F:\\repos\\fisha\\莱新销售订单0826-0925\\发票模板-按销售订单和存货编码-件数\\发票模板-河南抬头喜办公用品有限公司S-SO-2024-02-0767-件数.xlsx\n",
      "F:\\repos\\fisha\\莱新销售订单0826-0925\\发票模板-按销售订单和存货编码-件数\\发票模板-义乌范光洪-SO-2024-02-0768-件数.xlsx\n"
     ]
    },
    {
     "name": "stderr",
     "output_type": "stream",
     "text": [
      "C:\\Users\\redda\\AppData\\Roaming\\Python\\Python311\\site-packages\\openpyxl\\worksheet\\_reader.py:329: UserWarning: Data Validation extension is not supported and will be removed\n",
      "  warn(msg)\n",
      "C:\\Users\\redda\\AppData\\Roaming\\Python\\Python311\\site-packages\\openpyxl\\worksheet\\_reader.py:329: UserWarning: Data Validation extension is not supported and will be removed\n",
      "  warn(msg)\n",
      "C:\\Users\\redda\\AppData\\Roaming\\Python\\Python311\\site-packages\\openpyxl\\worksheet\\_reader.py:329: UserWarning: Data Validation extension is not supported and will be removed\n",
      "  warn(msg)\n"
     ]
    },
    {
     "name": "stdout",
     "output_type": "stream",
     "text": [
      "F:\\repos\\fisha\\莱新销售订单0826-0925\\发票模板-按销售订单和存货编码-件数\\发票模板-武汉今日成纸业有限公司-SO-2024-02-0769-件数.xlsx\n",
      "F:\\repos\\fisha\\莱新销售订单0826-0925\\发票模板-按销售订单和存货编码-件数\\发票模板-武汉开先文化用品有限责任公司-SO-2024-02-0770-件数.xlsx\n"
     ]
    },
    {
     "name": "stderr",
     "output_type": "stream",
     "text": [
      "C:\\Users\\redda\\AppData\\Roaming\\Python\\Python311\\site-packages\\openpyxl\\worksheet\\_reader.py:329: UserWarning: Data Validation extension is not supported and will be removed\n",
      "  warn(msg)\n"
     ]
    },
    {
     "name": "stdout",
     "output_type": "stream",
     "text": [
      "F:\\repos\\fisha\\莱新销售订单0826-0925\\发票模板-按销售订单和存货编码-件数\\发票模板-武汉金胜辉商贸有限公司-SO-2024-02-0771-件数.xlsx\n"
     ]
    },
    {
     "name": "stderr",
     "output_type": "stream",
     "text": [
      "C:\\Users\\redda\\AppData\\Roaming\\Python\\Python311\\site-packages\\openpyxl\\worksheet\\_reader.py:329: UserWarning: Data Validation extension is not supported and will be removed\n",
      "  warn(msg)\n"
     ]
    },
    {
     "name": "stdout",
     "output_type": "stream",
     "text": [
      "F:\\repos\\fisha\\莱新销售订单0826-0925\\发票模板-按销售订单和存货编码-件数\\发票模板-武汉金胜辉商贸有限公司-SO-2024-02-0772-件数.xlsx\n",
      "F:\\repos\\fisha\\莱新销售订单0826-0925\\发票模板-按销售订单和存货编码-件数\\发票模板-武汉金胜辉商贸有限公司-SO-2024-02-0773-件数.xlsx\n"
     ]
    },
    {
     "name": "stderr",
     "output_type": "stream",
     "text": [
      "C:\\Users\\redda\\AppData\\Roaming\\Python\\Python311\\site-packages\\openpyxl\\worksheet\\_reader.py:329: UserWarning: Data Validation extension is not supported and will be removed\n",
      "  warn(msg)\n",
      "C:\\Users\\redda\\AppData\\Roaming\\Python\\Python311\\site-packages\\openpyxl\\worksheet\\_reader.py:329: UserWarning: Data Validation extension is not supported and will be removed\n",
      "  warn(msg)\n"
     ]
    },
    {
     "name": "stdout",
     "output_type": "stream",
     "text": [
      "F:\\repos\\fisha\\莱新销售订单0826-0925\\发票模板-按销售订单和存货编码-件数\\发票模板-武汉金宸翰办公用品有限公司1-SO-2024-02-0774-件数.xlsx\n"
     ]
    },
    {
     "name": "stderr",
     "output_type": "stream",
     "text": [
      "C:\\Users\\redda\\AppData\\Roaming\\Python\\Python311\\site-packages\\openpyxl\\worksheet\\_reader.py:329: UserWarning: Data Validation extension is not supported and will be removed\n",
      "  warn(msg)\n"
     ]
    },
    {
     "name": "stdout",
     "output_type": "stream",
     "text": [
      "F:\\repos\\fisha\\莱新销售订单0826-0925\\发票模板-按销售订单和存货编码-件数\\发票模板-武汉市齐达利商贸有限公司-SO-2024-02-0775-件数.xlsx\n"
     ]
    },
    {
     "name": "stderr",
     "output_type": "stream",
     "text": [
      "C:\\Users\\redda\\AppData\\Roaming\\Python\\Python311\\site-packages\\openpyxl\\worksheet\\_reader.py:329: UserWarning: Data Validation extension is not supported and will be removed\n",
      "  warn(msg)\n",
      "C:\\Users\\redda\\AppData\\Roaming\\Python\\Python311\\site-packages\\openpyxl\\worksheet\\_reader.py:329: UserWarning: Data Validation extension is not supported and will be removed\n",
      "  warn(msg)\n"
     ]
    },
    {
     "name": "stdout",
     "output_type": "stream",
     "text": [
      "F:\\repos\\fisha\\莱新销售订单0826-0925\\发票模板-按销售订单和存货编码-件数\\发票模板-武汉金胜辉商贸有限公司-SO-2024-02-0776-件数.xlsx\n",
      "F:\\repos\\fisha\\莱新销售订单0826-0925\\发票模板-按销售订单和存货编码-件数\\发票模板-武汉米圣贸易有限公司-SO-2024-02-0777-件数.xlsx\n"
     ]
    },
    {
     "name": "stderr",
     "output_type": "stream",
     "text": [
      "C:\\Users\\redda\\AppData\\Roaming\\Python\\Python311\\site-packages\\openpyxl\\worksheet\\_reader.py:329: UserWarning: Data Validation extension is not supported and will be removed\n",
      "  warn(msg)\n",
      "C:\\Users\\redda\\AppData\\Roaming\\Python\\Python311\\site-packages\\openpyxl\\worksheet\\_reader.py:329: UserWarning: Data Validation extension is not supported and will be removed\n",
      "  warn(msg)\n"
     ]
    },
    {
     "name": "stdout",
     "output_type": "stream",
     "text": [
      "F:\\repos\\fisha\\莱新销售订单0826-0925\\发票模板-按销售订单和存货编码-件数\\发票模板-武汉市热脉文体用品有限公司-SO-2024-02-0778-件数.xlsx\n",
      "F:\\repos\\fisha\\莱新销售订单0826-0925\\发票模板-按销售订单和存货编码-件数\\发票模板-武汉金宸翰办公用品有限公司-SO-2024-02-0779-件数.xlsx\n"
     ]
    },
    {
     "name": "stderr",
     "output_type": "stream",
     "text": [
      "C:\\Users\\redda\\AppData\\Roaming\\Python\\Python311\\site-packages\\openpyxl\\worksheet\\_reader.py:329: UserWarning: Data Validation extension is not supported and will be removed\n",
      "  warn(msg)\n",
      "C:\\Users\\redda\\AppData\\Roaming\\Python\\Python311\\site-packages\\openpyxl\\worksheet\\_reader.py:329: UserWarning: Data Validation extension is not supported and will be removed\n",
      "  warn(msg)\n"
     ]
    },
    {
     "name": "stdout",
     "output_type": "stream",
     "text": [
      "F:\\repos\\fisha\\莱新销售订单0826-0925\\发票模板-按销售订单和存货编码-件数\\发票模板-湖北昇耀商贸有限公司-SO-2024-02-0780-件数.xlsx\n",
      "F:\\repos\\fisha\\莱新销售订单0826-0925\\发票模板-按销售订单和存货编码-件数\\发票模板-湖北昇耀商贸有限公司-SO-2024-02-0781-件数.xlsx\n"
     ]
    },
    {
     "name": "stderr",
     "output_type": "stream",
     "text": [
      "C:\\Users\\redda\\AppData\\Roaming\\Python\\Python311\\site-packages\\openpyxl\\worksheet\\_reader.py:329: UserWarning: Data Validation extension is not supported and will be removed\n",
      "  warn(msg)\n"
     ]
    },
    {
     "name": "stdout",
     "output_type": "stream",
     "text": [
      "F:\\repos\\fisha\\莱新销售订单0826-0925\\发票模板-按销售订单和存货编码-件数\\发票模板-武汉今日成纸业有限公司-SO-2024-02-0782-件数.xlsx\n",
      "F:\\repos\\fisha\\莱新销售订单0826-0925\\发票模板-按销售订单和存货编码-件数\\发票模板-义乌范光洪-SO-2024-02-0783-件数.xlsx\n"
     ]
    },
    {
     "name": "stderr",
     "output_type": "stream",
     "text": [
      "C:\\Users\\redda\\AppData\\Roaming\\Python\\Python311\\site-packages\\openpyxl\\worksheet\\_reader.py:329: UserWarning: Data Validation extension is not supported and will be removed\n",
      "  warn(msg)\n",
      "C:\\Users\\redda\\AppData\\Roaming\\Python\\Python311\\site-packages\\openpyxl\\worksheet\\_reader.py:329: UserWarning: Data Validation extension is not supported and will be removed\n",
      "  warn(msg)\n",
      "C:\\Users\\redda\\AppData\\Roaming\\Python\\Python311\\site-packages\\openpyxl\\worksheet\\_reader.py:329: UserWarning: Data Validation extension is not supported and will be removed\n",
      "  warn(msg)\n"
     ]
    },
    {
     "name": "stdout",
     "output_type": "stream",
     "text": [
      "F:\\repos\\fisha\\莱新销售订单0826-0925\\发票模板-按销售订单和存货编码-件数\\发票模板-武汉开先文化用品有限责任公司-SO-2024-02-0784-件数.xlsx\n",
      "F:\\repos\\fisha\\莱新销售订单0826-0925\\发票模板-按销售订单和存货编码-件数\\发票模板-武汉今日成纸业有限公司-SO-2024-02-0785-件数.xlsx\n",
      "F:\\repos\\fisha\\莱新销售订单0826-0925\\发票模板-按销售订单和存货编码-件数\\发票模板-成都杨万平-SO-2024-02-0786-件数.xlsx\n"
     ]
    },
    {
     "name": "stderr",
     "output_type": "stream",
     "text": [
      "C:\\Users\\redda\\AppData\\Roaming\\Python\\Python311\\site-packages\\openpyxl\\worksheet\\_reader.py:329: UserWarning: Data Validation extension is not supported and will be removed\n",
      "  warn(msg)\n",
      "C:\\Users\\redda\\AppData\\Roaming\\Python\\Python311\\site-packages\\openpyxl\\worksheet\\_reader.py:329: UserWarning: Data Validation extension is not supported and will be removed\n",
      "  warn(msg)\n",
      "C:\\Users\\redda\\AppData\\Roaming\\Python\\Python311\\site-packages\\openpyxl\\worksheet\\_reader.py:329: UserWarning: Data Validation extension is not supported and will be removed\n",
      "  warn(msg)\n"
     ]
    },
    {
     "name": "stdout",
     "output_type": "stream",
     "text": [
      "F:\\repos\\fisha\\莱新销售订单0826-0925\\发票模板-按销售订单和存货编码-件数\\发票模板-泸州佳之彩商贸有限公司-SO-2024-02-0787-件数.xlsx\n",
      "F:\\repos\\fisha\\莱新销售订单0826-0925\\发票模板-按销售订单和存货编码-件数\\发票模板-成都集创萧商贸有限公司L-SO-2024-02-0788-件数.xlsx\n"
     ]
    },
    {
     "name": "stderr",
     "output_type": "stream",
     "text": [
      "C:\\Users\\redda\\AppData\\Roaming\\Python\\Python311\\site-packages\\openpyxl\\worksheet\\_reader.py:329: UserWarning: Data Validation extension is not supported and will be removed\n",
      "  warn(msg)\n",
      "C:\\Users\\redda\\AppData\\Roaming\\Python\\Python311\\site-packages\\openpyxl\\worksheet\\_reader.py:329: UserWarning: Data Validation extension is not supported and will be removed\n",
      "  warn(msg)\n"
     ]
    },
    {
     "name": "stdout",
     "output_type": "stream",
     "text": [
      "F:\\repos\\fisha\\莱新销售订单0826-0925\\发票模板-按销售订单和存货编码-件数\\发票模板-广西桂林利华电子科技有限公司-SO-2024-02-0789-件数.xlsx\n",
      "F:\\repos\\fisha\\莱新销售订单0826-0925\\发票模板-按销售订单和存货编码-件数\\发票模板-桂林竞升文化用品有限公司-SO-2024-02-0790-件数.xlsx\n"
     ]
    },
    {
     "name": "stderr",
     "output_type": "stream",
     "text": [
      "C:\\Users\\redda\\AppData\\Roaming\\Python\\Python311\\site-packages\\openpyxl\\worksheet\\_reader.py:329: UserWarning: Data Validation extension is not supported and will be removed\n",
      "  warn(msg)\n",
      "C:\\Users\\redda\\AppData\\Roaming\\Python\\Python311\\site-packages\\openpyxl\\worksheet\\_reader.py:329: UserWarning: Data Validation extension is not supported and will be removed\n",
      "  warn(msg)\n"
     ]
    },
    {
     "name": "stdout",
     "output_type": "stream",
     "text": [
      "F:\\repos\\fisha\\莱新销售订单0826-0925\\发票模板-按销售订单和存货编码-件数\\发票模板-梧州余加杰-SO-2024-02-0791-件数.xlsx\n",
      "F:\\repos\\fisha\\莱新销售订单0826-0925\\发票模板-按销售订单和存货编码-件数\\发票模板-柳州市笔创贸易有限公司-SO-2024-02-0792-件数.xlsx\n"
     ]
    },
    {
     "name": "stderr",
     "output_type": "stream",
     "text": [
      "C:\\Users\\redda\\AppData\\Roaming\\Python\\Python311\\site-packages\\openpyxl\\worksheet\\_reader.py:329: UserWarning: Data Validation extension is not supported and will be removed\n",
      "  warn(msg)\n"
     ]
    },
    {
     "name": "stdout",
     "output_type": "stream",
     "text": [
      "F:\\repos\\fisha\\莱新销售订单0826-0925\\发票模板-按销售订单和存货编码-件数\\发票模板-南宁市小木屋文化用品有限公司-SO-2024-02-0793-件数.xlsx\n"
     ]
    },
    {
     "name": "stderr",
     "output_type": "stream",
     "text": [
      "C:\\Users\\redda\\AppData\\Roaming\\Python\\Python311\\site-packages\\openpyxl\\worksheet\\_reader.py:329: UserWarning: Data Validation extension is not supported and will be removed\n",
      "  warn(msg)\n",
      "C:\\Users\\redda\\AppData\\Roaming\\Python\\Python311\\site-packages\\openpyxl\\worksheet\\_reader.py:329: UserWarning: Data Validation extension is not supported and will be removed\n",
      "  warn(msg)\n"
     ]
    },
    {
     "name": "stdout",
     "output_type": "stream",
     "text": [
      "F:\\repos\\fisha\\莱新销售订单0826-0925\\发票模板-按销售订单和存货编码-件数\\发票模板-兴义市鸿图锐意办公商贸有限公司-SO-2024-02-0794-件数.xlsx\n",
      "F:\\repos\\fisha\\莱新销售订单0826-0925\\发票模板-按销售订单和存货编码-件数\\发票模板-常州亚龙办公用品有限公司-SO-2024-02-0795-件数.xlsx\n"
     ]
    },
    {
     "name": "stderr",
     "output_type": "stream",
     "text": [
      "C:\\Users\\redda\\AppData\\Roaming\\Python\\Python311\\site-packages\\openpyxl\\worksheet\\_reader.py:329: UserWarning: Data Validation extension is not supported and will be removed\n",
      "  warn(msg)\n"
     ]
    },
    {
     "name": "stdout",
     "output_type": "stream",
     "text": [
      "F:\\repos\\fisha\\莱新销售订单0826-0925\\发票模板-按销售订单和存货编码-件数\\发票模板-江西立信办公商贸有限公司-SO-2024-02-0796-件数.xlsx\n"
     ]
    },
    {
     "name": "stderr",
     "output_type": "stream",
     "text": [
      "C:\\Users\\redda\\AppData\\Roaming\\Python\\Python311\\site-packages\\openpyxl\\worksheet\\_reader.py:329: UserWarning: Data Validation extension is not supported and will be removed\n",
      "  warn(msg)\n"
     ]
    },
    {
     "name": "stdout",
     "output_type": "stream",
     "text": [
      "F:\\repos\\fisha\\莱新销售订单0826-0925\\发票模板-按销售订单和存货编码-件数\\发票模板-河南梓亦桐商贸有限公司-SO-2024-02-0797-件数.xlsx\n",
      "F:\\repos\\fisha\\莱新销售订单0826-0925\\发票模板-按销售订单和存货编码-件数\\发票模板-长沙市东麦文化有限公司-SO-2024-02-0798-件数.xlsx\n"
     ]
    },
    {
     "name": "stderr",
     "output_type": "stream",
     "text": [
      "C:\\Users\\redda\\AppData\\Roaming\\Python\\Python311\\site-packages\\openpyxl\\worksheet\\_reader.py:329: UserWarning: Data Validation extension is not supported and will be removed\n",
      "  warn(msg)\n",
      "C:\\Users\\redda\\AppData\\Roaming\\Python\\Python311\\site-packages\\openpyxl\\worksheet\\_reader.py:329: UserWarning: Data Validation extension is not supported and will be removed\n",
      "  warn(msg)\n"
     ]
    },
    {
     "name": "stdout",
     "output_type": "stream",
     "text": [
      "F:\\repos\\fisha\\莱新销售订单0826-0925\\发票模板-按销售订单和存货编码-件数\\发票模板-长沙市雨花区文丰文具商行-SO-2024-02-0799-件数.xlsx\n"
     ]
    },
    {
     "name": "stderr",
     "output_type": "stream",
     "text": [
      "C:\\Users\\redda\\AppData\\Roaming\\Python\\Python311\\site-packages\\openpyxl\\worksheet\\_reader.py:329: UserWarning: Data Validation extension is not supported and will be removed\n",
      "  warn(msg)\n"
     ]
    },
    {
     "name": "stdout",
     "output_type": "stream",
     "text": [
      "F:\\repos\\fisha\\莱新销售订单0826-0925\\发票模板-按销售订单和存货编码-件数\\发票模板-西安垄裕商贸有限公司-SO-2024-02-0800-件数.xlsx\n"
     ]
    },
    {
     "name": "stderr",
     "output_type": "stream",
     "text": [
      "C:\\Users\\redda\\AppData\\Roaming\\Python\\Python311\\site-packages\\openpyxl\\worksheet\\_reader.py:329: UserWarning: Data Validation extension is not supported and will be removed\n",
      "  warn(msg)\n",
      "C:\\Users\\redda\\AppData\\Roaming\\Python\\Python311\\site-packages\\openpyxl\\worksheet\\_reader.py:329: UserWarning: Data Validation extension is not supported and will be removed\n",
      "  warn(msg)\n"
     ]
    },
    {
     "name": "stdout",
     "output_type": "stream",
     "text": [
      "F:\\repos\\fisha\\莱新销售订单0826-0925\\发票模板-按销售订单和存货编码-件数\\发票模板-西安西坑商贸有限公司-SO-2024-02-0801-件数.xlsx\n",
      "F:\\repos\\fisha\\莱新销售订单0826-0925\\发票模板-按销售订单和存货编码-件数\\发票模板-品壹佰河北商贸有限公司-SO-2024-02-0802-件数.xlsx\n",
      "F:\\repos\\fisha\\莱新销售订单0826-0925\\发票模板-按销售订单和存货编码-件数\\发票模板-武汉市众缘商贸有限责任公司-SO-2024-02-0803-件数.xlsx\n"
     ]
    },
    {
     "name": "stderr",
     "output_type": "stream",
     "text": [
      "C:\\Users\\redda\\AppData\\Roaming\\Python\\Python311\\site-packages\\openpyxl\\worksheet\\_reader.py:329: UserWarning: Data Validation extension is not supported and will be removed\n",
      "  warn(msg)\n",
      "C:\\Users\\redda\\AppData\\Roaming\\Python\\Python311\\site-packages\\openpyxl\\worksheet\\_reader.py:329: UserWarning: Data Validation extension is not supported and will be removed\n",
      "  warn(msg)\n"
     ]
    },
    {
     "name": "stdout",
     "output_type": "stream",
     "text": [
      "F:\\repos\\fisha\\莱新销售订单0826-0925\\发票模板-按销售订单和存货编码-件数\\发票模板-武汉金宸翰办公用品有限公司1-SO-2024-02-0804-件数.xlsx\n"
     ]
    },
    {
     "name": "stderr",
     "output_type": "stream",
     "text": [
      "C:\\Users\\redda\\AppData\\Roaming\\Python\\Python311\\site-packages\\openpyxl\\worksheet\\_reader.py:329: UserWarning: Data Validation extension is not supported and will be removed\n",
      "  warn(msg)\n"
     ]
    },
    {
     "name": "stdout",
     "output_type": "stream",
     "text": [
      "F:\\repos\\fisha\\莱新销售订单0826-0925\\发票模板-按销售订单和存货编码-件数\\发票模板-武汉米圣贸易有限公司-SO-2024-02-0805-件数.xlsx\n",
      "F:\\repos\\fisha\\莱新销售订单0826-0925\\发票模板-按销售订单和存货编码-件数\\发票模板-武汉金胜辉商贸有限公司-SO-2024-02-0806-件数.xlsx\n"
     ]
    },
    {
     "name": "stderr",
     "output_type": "stream",
     "text": [
      "C:\\Users\\redda\\AppData\\Roaming\\Python\\Python311\\site-packages\\openpyxl\\worksheet\\_reader.py:329: UserWarning: Data Validation extension is not supported and will be removed\n",
      "  warn(msg)\n",
      "C:\\Users\\redda\\AppData\\Roaming\\Python\\Python311\\site-packages\\openpyxl\\worksheet\\_reader.py:329: UserWarning: Data Validation extension is not supported and will be removed\n",
      "  warn(msg)\n",
      "C:\\Users\\redda\\AppData\\Roaming\\Python\\Python311\\site-packages\\openpyxl\\worksheet\\_reader.py:329: UserWarning: Data Validation extension is not supported and will be removed\n",
      "  warn(msg)\n"
     ]
    },
    {
     "name": "stdout",
     "output_type": "stream",
     "text": [
      "F:\\repos\\fisha\\莱新销售订单0826-0925\\发票模板-按销售订单和存货编码-件数\\发票模板-武汉金胜辉商贸有限公司-SO-2024-02-0807-件数.xlsx\n",
      "F:\\repos\\fisha\\莱新销售订单0826-0925\\发票模板-按销售订单和存货编码-件数\\发票模板-武汉开先文化用品有限责任公司-SO-2024-02-0808-件数.xlsx\n",
      "F:\\repos\\fisha\\莱新销售订单0826-0925\\发票模板-按销售订单和存货编码-件数\\发票模板-武汉市齐达利商贸有限公司-SO-2024-02-0809-件数.xlsx\n"
     ]
    },
    {
     "name": "stderr",
     "output_type": "stream",
     "text": [
      "C:\\Users\\redda\\AppData\\Roaming\\Python\\Python311\\site-packages\\openpyxl\\worksheet\\_reader.py:329: UserWarning: Data Validation extension is not supported and will be removed\n",
      "  warn(msg)\n",
      "C:\\Users\\redda\\AppData\\Roaming\\Python\\Python311\\site-packages\\openpyxl\\worksheet\\_reader.py:329: UserWarning: Data Validation extension is not supported and will be removed\n",
      "  warn(msg)\n",
      "C:\\Users\\redda\\AppData\\Roaming\\Python\\Python311\\site-packages\\openpyxl\\worksheet\\_reader.py:329: UserWarning: Data Validation extension is not supported and will be removed\n",
      "  warn(msg)\n"
     ]
    },
    {
     "name": "stdout",
     "output_type": "stream",
     "text": [
      "F:\\repos\\fisha\\莱新销售订单0826-0925\\发票模板-按销售订单和存货编码-件数\\发票模板-武汉今日成纸业有限公司-SO-2024-02-0810-件数.xlsx\n",
      "F:\\repos\\fisha\\莱新销售订单0826-0925\\发票模板-按销售订单和存货编码-件数\\发票模板-武汉市热脉文体用品有限公司-SO-2024-02-0811-件数.xlsx\n",
      "F:\\repos\\fisha\\莱新销售订单0826-0925\\发票模板-按销售订单和存货编码-件数\\发票模板-武汉米圣贸易有限公司-SO-2024-02-0812-件数.xlsx\n"
     ]
    },
    {
     "name": "stderr",
     "output_type": "stream",
     "text": [
      "C:\\Users\\redda\\AppData\\Roaming\\Python\\Python311\\site-packages\\openpyxl\\worksheet\\_reader.py:329: UserWarning: Data Validation extension is not supported and will be removed\n",
      "  warn(msg)\n",
      "C:\\Users\\redda\\AppData\\Roaming\\Python\\Python311\\site-packages\\openpyxl\\worksheet\\_reader.py:329: UserWarning: Data Validation extension is not supported and will be removed\n",
      "  warn(msg)\n"
     ]
    },
    {
     "name": "stdout",
     "output_type": "stream",
     "text": [
      "F:\\repos\\fisha\\莱新销售订单0826-0925\\发票模板-按销售订单和存货编码-件数\\发票模板-唐山市玉宝商贸有限公司-SO-2024-02-0813-件数.xlsx\n"
     ]
    },
    {
     "name": "stderr",
     "output_type": "stream",
     "text": [
      "C:\\Users\\redda\\AppData\\Roaming\\Python\\Python311\\site-packages\\openpyxl\\worksheet\\_reader.py:329: UserWarning: Data Validation extension is not supported and will be removed\n",
      "  warn(msg)\n",
      "C:\\Users\\redda\\AppData\\Roaming\\Python\\Python311\\site-packages\\openpyxl\\worksheet\\_reader.py:329: UserWarning: Data Validation extension is not supported and will be removed\n",
      "  warn(msg)\n"
     ]
    },
    {
     "name": "stdout",
     "output_type": "stream",
     "text": [
      "F:\\repos\\fisha\\莱新销售订单0826-0925\\发票模板-按销售订单和存货编码-件数\\发票模板-武汉米圣贸易有限公司-SO-2024-02-0814-件数.xlsx\n",
      "F:\\repos\\fisha\\莱新销售订单0826-0925\\发票模板-按销售订单和存货编码-件数\\发票模板-武汉开先文化用品有限责任公司-SO-2024-02-0815-件数.xlsx\n"
     ]
    },
    {
     "name": "stderr",
     "output_type": "stream",
     "text": [
      "C:\\Users\\redda\\AppData\\Roaming\\Python\\Python311\\site-packages\\openpyxl\\worksheet\\_reader.py:329: UserWarning: Data Validation extension is not supported and will be removed\n",
      "  warn(msg)\n"
     ]
    },
    {
     "name": "stdout",
     "output_type": "stream",
     "text": [
      "F:\\repos\\fisha\\莱新销售订单0826-0925\\发票模板-按销售订单和存货编码-件数\\发票模板-湖北昇耀商贸有限公司-SO-2024-02-0816-件数.xlsx\n"
     ]
    },
    {
     "name": "stderr",
     "output_type": "stream",
     "text": [
      "C:\\Users\\redda\\AppData\\Roaming\\Python\\Python311\\site-packages\\openpyxl\\worksheet\\_reader.py:329: UserWarning: Data Validation extension is not supported and will be removed\n",
      "  warn(msg)\n",
      "C:\\Users\\redda\\AppData\\Roaming\\Python\\Python311\\site-packages\\openpyxl\\worksheet\\_reader.py:329: UserWarning: Data Validation extension is not supported and will be removed\n",
      "  warn(msg)\n"
     ]
    },
    {
     "name": "stdout",
     "output_type": "stream",
     "text": [
      "F:\\repos\\fisha\\莱新销售订单0826-0925\\发票模板-按销售订单和存货编码-件数\\发票模板-唐山市文一商贸有限公司-SO-2024-02-0817-件数.xlsx\n",
      "F:\\repos\\fisha\\莱新销售订单0826-0925\\发票模板-按销售订单和存货编码-件数\\发票模板-河南抬头喜办公用品有限公司S-SO-2024-02-0818-件数.xlsx\n",
      "F:\\repos\\fisha\\莱新销售订单0826-0925\\发票模板-按销售订单和存货编码-件数\\发票模板-义乌市携诚文体用品有限公司-SO-2024-02-0819-件数.xlsx\n"
     ]
    },
    {
     "name": "stderr",
     "output_type": "stream",
     "text": [
      "C:\\Users\\redda\\AppData\\Roaming\\Python\\Python311\\site-packages\\openpyxl\\worksheet\\_reader.py:329: UserWarning: Data Validation extension is not supported and will be removed\n",
      "  warn(msg)\n",
      "C:\\Users\\redda\\AppData\\Roaming\\Python\\Python311\\site-packages\\openpyxl\\worksheet\\_reader.py:329: UserWarning: Data Validation extension is not supported and will be removed\n",
      "  warn(msg)\n"
     ]
    },
    {
     "name": "stdout",
     "output_type": "stream",
     "text": [
      "F:\\repos\\fisha\\莱新销售订单0826-0925\\发票模板-按销售订单和存货编码-件数\\发票模板-河南抬头喜办公用品有限公司S-SO-2024-02-0820-件数.xlsx\n",
      "F:\\repos\\fisha\\莱新销售订单0826-0925\\发票模板-按销售订单和存货编码-件数\\发票模板-武汉米圣贸易有限公司-SO-2024-02-0821-件数.xlsx\n"
     ]
    },
    {
     "name": "stderr",
     "output_type": "stream",
     "text": [
      "C:\\Users\\redda\\AppData\\Roaming\\Python\\Python311\\site-packages\\openpyxl\\worksheet\\_reader.py:329: UserWarning: Data Validation extension is not supported and will be removed\n",
      "  warn(msg)\n",
      "C:\\Users\\redda\\AppData\\Roaming\\Python\\Python311\\site-packages\\openpyxl\\worksheet\\_reader.py:329: UserWarning: Data Validation extension is not supported and will be removed\n",
      "  warn(msg)\n"
     ]
    },
    {
     "name": "stdout",
     "output_type": "stream",
     "text": [
      "F:\\repos\\fisha\\莱新销售订单0826-0925\\发票模板-按销售订单和存货编码-件数\\发票模板-武汉市热脉文体用品有限公司-SO-2024-02-0822-件数.xlsx\n"
     ]
    },
    {
     "name": "stderr",
     "output_type": "stream",
     "text": [
      "C:\\Users\\redda\\AppData\\Roaming\\Python\\Python311\\site-packages\\openpyxl\\worksheet\\_reader.py:329: UserWarning: Data Validation extension is not supported and will be removed\n",
      "  warn(msg)\n"
     ]
    },
    {
     "name": "stdout",
     "output_type": "stream",
     "text": [
      "F:\\repos\\fisha\\莱新销售订单0826-0925\\发票模板-按销售订单和存货编码-件数\\发票模板-武汉金宸翰办公用品有限公司1-SO-2024-02-0823-件数.xlsx\n"
     ]
    },
    {
     "name": "stderr",
     "output_type": "stream",
     "text": [
      "C:\\Users\\redda\\AppData\\Roaming\\Python\\Python311\\site-packages\\openpyxl\\worksheet\\_reader.py:329: UserWarning: Data Validation extension is not supported and will be removed\n",
      "  warn(msg)\n",
      "C:\\Users\\redda\\AppData\\Roaming\\Python\\Python311\\site-packages\\openpyxl\\worksheet\\_reader.py:329: UserWarning: Data Validation extension is not supported and will be removed\n",
      "  warn(msg)\n"
     ]
    },
    {
     "name": "stdout",
     "output_type": "stream",
     "text": [
      "F:\\repos\\fisha\\莱新销售订单0826-0925\\发票模板-按销售订单和存货编码-件数\\发票模板-武汉金胜辉商贸有限公司-SO-2024-02-0824-件数.xlsx\n",
      "F:\\repos\\fisha\\莱新销售订单0826-0925\\发票模板-按销售订单和存货编码-件数\\发票模板-武汉今日成纸业有限公司-SO-2024-02-0825-件数.xlsx\n"
     ]
    },
    {
     "name": "stderr",
     "output_type": "stream",
     "text": [
      "C:\\Users\\redda\\AppData\\Roaming\\Python\\Python311\\site-packages\\openpyxl\\worksheet\\_reader.py:329: UserWarning: Data Validation extension is not supported and will be removed\n",
      "  warn(msg)\n"
     ]
    },
    {
     "name": "stdout",
     "output_type": "stream",
     "text": [
      "F:\\repos\\fisha\\莱新销售订单0826-0925\\发票模板-按销售订单和存货编码-件数\\发票模板-武汉市热脉文体用品有限公司-SO-2024-02-0826-件数.xlsx\n"
     ]
    },
    {
     "name": "stderr",
     "output_type": "stream",
     "text": [
      "C:\\Users\\redda\\AppData\\Roaming\\Python\\Python311\\site-packages\\openpyxl\\worksheet\\_reader.py:329: UserWarning: Data Validation extension is not supported and will be removed\n",
      "  warn(msg)\n",
      "C:\\Users\\redda\\AppData\\Roaming\\Python\\Python311\\site-packages\\openpyxl\\worksheet\\_reader.py:329: UserWarning: Data Validation extension is not supported and will be removed\n",
      "  warn(msg)\n"
     ]
    },
    {
     "name": "stdout",
     "output_type": "stream",
     "text": [
      "F:\\repos\\fisha\\莱新销售订单0826-0925\\发票模板-按销售订单和存货编码-件数\\发票模板-武汉嘉迪亚商贸有限公司-SO-2024-02-0827-件数.xlsx\n",
      "F:\\repos\\fisha\\莱新销售订单0826-0925\\发票模板-按销售订单和存货编码-件数\\发票模板-武汉金胜辉商贸有限公司-SO-2024-02-0828-件数.xlsx\n",
      "F:\\repos\\fisha\\莱新销售订单0826-0925\\发票模板-按销售订单和存货编码-件数\\发票模板-天津市友旺商贸有限公司-SO-2024-02-0829-件数.xlsx\n"
     ]
    },
    {
     "name": "stderr",
     "output_type": "stream",
     "text": [
      "C:\\Users\\redda\\AppData\\Roaming\\Python\\Python311\\site-packages\\openpyxl\\worksheet\\_reader.py:329: UserWarning: Data Validation extension is not supported and will be removed\n",
      "  warn(msg)\n",
      "C:\\Users\\redda\\AppData\\Roaming\\Python\\Python311\\site-packages\\openpyxl\\worksheet\\_reader.py:329: UserWarning: Data Validation extension is not supported and will be removed\n",
      "  warn(msg)\n"
     ]
    },
    {
     "name": "stdout",
     "output_type": "stream",
     "text": [
      "F:\\repos\\fisha\\莱新销售订单0826-0925\\发票模板-按销售订单和存货编码-件数\\发票模板-成都迪欣杨商贸有限公司-SO-2024-02-0830-件数.xlsx\n"
     ]
    },
    {
     "name": "stderr",
     "output_type": "stream",
     "text": [
      "C:\\Users\\redda\\AppData\\Roaming\\Python\\Python311\\site-packages\\openpyxl\\worksheet\\_reader.py:329: UserWarning: Data Validation extension is not supported and will be removed\n",
      "  warn(msg)\n",
      "C:\\Users\\redda\\AppData\\Roaming\\Python\\Python311\\site-packages\\openpyxl\\worksheet\\_reader.py:329: UserWarning: Data Validation extension is not supported and will be removed\n",
      "  warn(msg)\n"
     ]
    },
    {
     "name": "stdout",
     "output_type": "stream",
     "text": [
      "F:\\repos\\fisha\\莱新销售订单0826-0925\\发票模板-按销售订单和存货编码-件数\\发票模板-泸州佳之彩商贸有限公司-SO-2024-02-0831-件数.xlsx\n",
      "F:\\repos\\fisha\\莱新销售订单0826-0925\\发票模板-按销售订单和存货编码-件数\\发票模板-江西立信办公商贸有限公司-SO-2024-02-0832-件数.xlsx\n",
      "F:\\repos\\fisha\\莱新销售订单0826-0925\\发票模板-按销售订单和存货编码-件数\\发票模板-龙岩连卫中-SO-2024-02-0833-件数.xlsx\n"
     ]
    },
    {
     "name": "stderr",
     "output_type": "stream",
     "text": [
      "C:\\Users\\redda\\AppData\\Roaming\\Python\\Python311\\site-packages\\openpyxl\\worksheet\\_reader.py:329: UserWarning: Data Validation extension is not supported and will be removed\n",
      "  warn(msg)\n",
      "C:\\Users\\redda\\AppData\\Roaming\\Python\\Python311\\site-packages\\openpyxl\\worksheet\\_reader.py:329: UserWarning: Data Validation extension is not supported and will be removed\n",
      "  warn(msg)\n"
     ]
    },
    {
     "name": "stdout",
     "output_type": "stream",
     "text": [
      "F:\\repos\\fisha\\莱新销售订单0826-0925\\发票模板-按销售订单和存货编码-件数\\发票模板-南京好学爱玩信息科技有限公司-SO-2024-02-0834-件数.xlsx\n"
     ]
    },
    {
     "name": "stderr",
     "output_type": "stream",
     "text": [
      "C:\\Users\\redda\\AppData\\Roaming\\Python\\Python311\\site-packages\\openpyxl\\worksheet\\_reader.py:329: UserWarning: Data Validation extension is not supported and will be removed\n",
      "  warn(msg)\n"
     ]
    },
    {
     "name": "stdout",
     "output_type": "stream",
     "text": [
      "F:\\repos\\fisha\\莱新销售订单0826-0925\\发票模板-按销售订单和存货编码-件数\\发票模板-阜阳俊武文体商贸有限公司-SO-2024-02-0835-件数.xlsx\n",
      "F:\\repos\\fisha\\莱新销售订单0826-0925\\发票模板-按销售订单和存货编码-件数\\发票模板-江西华兆昌商贸有限公司-SO-2024-02-0836-件数.xlsx\n"
     ]
    },
    {
     "name": "stderr",
     "output_type": "stream",
     "text": [
      "C:\\Users\\redda\\AppData\\Roaming\\Python\\Python311\\site-packages\\openpyxl\\worksheet\\_reader.py:329: UserWarning: Data Validation extension is not supported and will be removed\n",
      "  warn(msg)\n",
      "C:\\Users\\redda\\AppData\\Roaming\\Python\\Python311\\site-packages\\openpyxl\\worksheet\\_reader.py:329: UserWarning: Data Validation extension is not supported and will be removed\n",
      "  warn(msg)\n"
     ]
    },
    {
     "name": "stdout",
     "output_type": "stream",
     "text": [
      "F:\\repos\\fisha\\莱新销售订单0826-0925\\发票模板-按销售订单和存货编码-件数\\发票模板-南宁市小木屋文化用品有限公司-SO-2024-02-0837-件数.xlsx\n",
      "F:\\repos\\fisha\\莱新销售订单0826-0925\\发票模板-按销售订单和存货编码-件数\\发票模板-陕西富明文体用品有限公司-SO-2024-02-0838-件数.xlsx\n"
     ]
    },
    {
     "name": "stderr",
     "output_type": "stream",
     "text": [
      "C:\\Users\\redda\\AppData\\Roaming\\Python\\Python311\\site-packages\\openpyxl\\worksheet\\_reader.py:329: UserWarning: Data Validation extension is not supported and will be removed\n",
      "  warn(msg)\n",
      "C:\\Users\\redda\\AppData\\Roaming\\Python\\Python311\\site-packages\\openpyxl\\worksheet\\_reader.py:329: UserWarning: Data Validation extension is not supported and will be removed\n",
      "  warn(msg)\n"
     ]
    },
    {
     "name": "stdout",
     "output_type": "stream",
     "text": [
      "F:\\repos\\fisha\\莱新销售订单0826-0925\\发票模板-按销售订单和存货编码-件数\\发票模板-宁夏昕墨文化用品有限公司-SO-2024-02-0839-件数.xlsx\n"
     ]
    },
    {
     "name": "stderr",
     "output_type": "stream",
     "text": [
      "C:\\Users\\redda\\AppData\\Roaming\\Python\\Python311\\site-packages\\openpyxl\\worksheet\\_reader.py:329: UserWarning: Data Validation extension is not supported and will be removed\n",
      "  warn(msg)\n",
      "C:\\Users\\redda\\AppData\\Roaming\\Python\\Python311\\site-packages\\openpyxl\\worksheet\\_reader.py:329: UserWarning: Data Validation extension is not supported and will be removed\n",
      "  warn(msg)\n"
     ]
    },
    {
     "name": "stdout",
     "output_type": "stream",
     "text": [
      "F:\\repos\\fisha\\莱新销售订单0826-0925\\发票模板-按销售订单和存货编码-件数\\发票模板-河南梓亦桐商贸有限公司-SO-2024-02-0840-件数.xlsx\n",
      "F:\\repos\\fisha\\莱新销售订单0826-0925\\发票模板-按销售订单和存货编码-件数\\发票模板-徐州市永联贸易有限公司-SO-2024-02-0841-件数.xlsx\n"
     ]
    },
    {
     "name": "stderr",
     "output_type": "stream",
     "text": [
      "C:\\Users\\redda\\AppData\\Roaming\\Python\\Python311\\site-packages\\openpyxl\\worksheet\\_reader.py:329: UserWarning: Data Validation extension is not supported and will be removed\n",
      "  warn(msg)\n"
     ]
    },
    {
     "name": "stdout",
     "output_type": "stream",
     "text": [
      "F:\\repos\\fisha\\莱新销售订单0826-0925\\发票模板-按销售订单和存货编码-件数\\发票模板-金坛区西城永德百货经营部-SO-2024-02-0842-件数.xlsx\n",
      "F:\\repos\\fisha\\莱新销售订单0826-0925\\发票模板-按销售订单和存货编码-件数\\发票模板-长沙市东麦文化有限公司-SO-2024-02-0843-件数.xlsx\n"
     ]
    },
    {
     "name": "stderr",
     "output_type": "stream",
     "text": [
      "C:\\Users\\redda\\AppData\\Roaming\\Python\\Python311\\site-packages\\openpyxl\\worksheet\\_reader.py:329: UserWarning: Data Validation extension is not supported and will be removed\n",
      "  warn(msg)\n",
      "C:\\Users\\redda\\AppData\\Roaming\\Python\\Python311\\site-packages\\openpyxl\\worksheet\\_reader.py:329: UserWarning: Data Validation extension is not supported and will be removed\n",
      "  warn(msg)\n",
      "C:\\Users\\redda\\AppData\\Roaming\\Python\\Python311\\site-packages\\openpyxl\\worksheet\\_reader.py:329: UserWarning: Data Validation extension is not supported and will be removed\n",
      "  warn(msg)\n"
     ]
    },
    {
     "name": "stdout",
     "output_type": "stream",
     "text": [
      "F:\\repos\\fisha\\莱新销售订单0826-0925\\发票模板-按销售订单和存货编码-件数\\发票模板-武汉米圣贸易有限公司-SO-2024-02-0844-件数.xlsx\n",
      "F:\\repos\\fisha\\莱新销售订单0826-0925\\发票模板-按销售订单和存货编码-件数\\发票模板-石家庄本米文具用品销售有限公司-SO-2024-02-0845-件数.xlsx\n"
     ]
    },
    {
     "name": "stderr",
     "output_type": "stream",
     "text": [
      "C:\\Users\\redda\\AppData\\Roaming\\Python\\Python311\\site-packages\\openpyxl\\worksheet\\_reader.py:329: UserWarning: Data Validation extension is not supported and will be removed\n",
      "  warn(msg)\n",
      "C:\\Users\\redda\\AppData\\Roaming\\Python\\Python311\\site-packages\\openpyxl\\worksheet\\_reader.py:329: UserWarning: Data Validation extension is not supported and will be removed\n",
      "  warn(msg)\n"
     ]
    },
    {
     "name": "stdout",
     "output_type": "stream",
     "text": [
      "F:\\repos\\fisha\\莱新销售订单0826-0925\\发票模板-按销售订单和存货编码-件数\\发票模板-武汉开先文化用品有限责任公司-SO-2024-02-0846-件数.xlsx\n",
      "F:\\repos\\fisha\\莱新销售订单0826-0925\\发票模板-按销售订单和存货编码-件数\\发票模板-武汉今日成纸业有限公司-SO-2024-02-0847-件数.xlsx\n"
     ]
    },
    {
     "name": "stderr",
     "output_type": "stream",
     "text": [
      "C:\\Users\\redda\\AppData\\Roaming\\Python\\Python311\\site-packages\\openpyxl\\worksheet\\_reader.py:329: UserWarning: Data Validation extension is not supported and will be removed\n",
      "  warn(msg)\n",
      "C:\\Users\\redda\\AppData\\Roaming\\Python\\Python311\\site-packages\\openpyxl\\worksheet\\_reader.py:329: UserWarning: Data Validation extension is not supported and will be removed\n",
      "  warn(msg)\n"
     ]
    },
    {
     "name": "stdout",
     "output_type": "stream",
     "text": [
      "F:\\repos\\fisha\\莱新销售订单0826-0925\\发票模板-按销售订单和存货编码-件数\\发票模板-武汉金宸翰办公用品有限公司1-SO-2024-02-0848-件数.xlsx\n",
      "F:\\repos\\fisha\\莱新销售订单0826-0925\\发票模板-按销售订单和存货编码-件数\\发票模板-武汉市齐达利商贸有限公司-SO-2024-02-0849-件数.xlsx\n"
     ]
    },
    {
     "name": "stderr",
     "output_type": "stream",
     "text": [
      "C:\\Users\\redda\\AppData\\Roaming\\Python\\Python311\\site-packages\\openpyxl\\worksheet\\_reader.py:329: UserWarning: Data Validation extension is not supported and will be removed\n",
      "  warn(msg)\n",
      "C:\\Users\\redda\\AppData\\Roaming\\Python\\Python311\\site-packages\\openpyxl\\worksheet\\_reader.py:329: UserWarning: Data Validation extension is not supported and will be removed\n",
      "  warn(msg)\n"
     ]
    },
    {
     "name": "stdout",
     "output_type": "stream",
     "text": [
      "F:\\repos\\fisha\\莱新销售订单0826-0925\\发票模板-按销售订单和存货编码-件数\\发票模板-遵义王强-SO-2024-02-0850-件数.xlsx\n",
      "F:\\repos\\fisha\\莱新销售订单0826-0925\\发票模板-按销售订单和存货编码-件数\\发票模板-兴义市鸿图锐意办公商贸有限公司-SO-2024-02-0851-件数.xlsx\n"
     ]
    },
    {
     "name": "stderr",
     "output_type": "stream",
     "text": [
      "C:\\Users\\redda\\AppData\\Roaming\\Python\\Python311\\site-packages\\openpyxl\\worksheet\\_reader.py:329: UserWarning: Data Validation extension is not supported and will be removed\n",
      "  warn(msg)\n"
     ]
    },
    {
     "name": "stdout",
     "output_type": "stream",
     "text": [
      "F:\\repos\\fisha\\莱新销售订单0826-0925\\发票模板-按销售订单和存货编码-件数\\发票模板-武汉金宸翰办公用品有限公司-SO-2024-02-0852-件数.xlsx\n",
      "F:\\repos\\fisha\\莱新销售订单0826-0925\\发票模板-按销售订单和存货编码-件数\\发票模板-义乌市携诚文体用品有限公司-SO-2024-02-0853-件数.xlsx\n"
     ]
    },
    {
     "name": "stderr",
     "output_type": "stream",
     "text": [
      "C:\\Users\\redda\\AppData\\Roaming\\Python\\Python311\\site-packages\\openpyxl\\worksheet\\_reader.py:329: UserWarning: Data Validation extension is not supported and will be removed\n",
      "  warn(msg)\n",
      "C:\\Users\\redda\\AppData\\Roaming\\Python\\Python311\\site-packages\\openpyxl\\worksheet\\_reader.py:329: UserWarning: Data Validation extension is not supported and will be removed\n",
      "  warn(msg)\n"
     ]
    },
    {
     "name": "stdout",
     "output_type": "stream",
     "text": [
      "F:\\repos\\fisha\\莱新销售订单0826-0925\\发票模板-按销售订单和存货编码-件数\\发票模板-湖北昇耀商贸有限公司-SO-2024-02-0854-件数.xlsx\n",
      "F:\\repos\\fisha\\莱新销售订单0826-0925\\发票模板-按销售订单和存货编码-件数\\发票模板-武汉金胜辉商贸有限公司-SO-2024-02-0855-件数.xlsx\n"
     ]
    },
    {
     "name": "stderr",
     "output_type": "stream",
     "text": [
      "C:\\Users\\redda\\AppData\\Roaming\\Python\\Python311\\site-packages\\openpyxl\\worksheet\\_reader.py:329: UserWarning: Data Validation extension is not supported and will be removed\n",
      "  warn(msg)\n",
      "C:\\Users\\redda\\AppData\\Roaming\\Python\\Python311\\site-packages\\openpyxl\\worksheet\\_reader.py:329: UserWarning: Data Validation extension is not supported and will be removed\n",
      "  warn(msg)\n"
     ]
    },
    {
     "name": "stdout",
     "output_type": "stream",
     "text": [
      "F:\\repos\\fisha\\莱新销售订单0826-0925\\发票模板-按销售订单和存货编码-件数\\发票模板-河南抬头喜办公用品有限公司S-SO-2024-02-0856-件数.xlsx\n"
     ]
    },
    {
     "name": "stderr",
     "output_type": "stream",
     "text": [
      "C:\\Users\\redda\\AppData\\Roaming\\Python\\Python311\\site-packages\\openpyxl\\worksheet\\_reader.py:329: UserWarning: Data Validation extension is not supported and will be removed\n",
      "  warn(msg)\n",
      "C:\\Users\\redda\\AppData\\Roaming\\Python\\Python311\\site-packages\\openpyxl\\worksheet\\_reader.py:329: UserWarning: Data Validation extension is not supported and will be removed\n",
      "  warn(msg)\n"
     ]
    },
    {
     "name": "stdout",
     "output_type": "stream",
     "text": [
      "F:\\repos\\fisha\\莱新销售订单0826-0925\\发票模板-按销售订单和存货编码-件数\\发票模板-河南抬头喜办公用品有限公司S-SO-2024-02-0857-件数.xlsx\n",
      "F:\\repos\\fisha\\莱新销售订单0826-0925\\发票模板-按销售订单和存货编码-件数\\发票模板-武汉优聚优品贸易有限公司-SO-2024-02-0858-件数.xlsx\n"
     ]
    },
    {
     "name": "stderr",
     "output_type": "stream",
     "text": [
      "C:\\Users\\redda\\AppData\\Roaming\\Python\\Python311\\site-packages\\openpyxl\\worksheet\\_reader.py:329: UserWarning: Data Validation extension is not supported and will be removed\n",
      "  warn(msg)\n",
      "C:\\Users\\redda\\AppData\\Roaming\\Python\\Python311\\site-packages\\openpyxl\\worksheet\\_reader.py:329: UserWarning: Data Validation extension is not supported and will be removed\n",
      "  warn(msg)\n"
     ]
    },
    {
     "name": "stdout",
     "output_type": "stream",
     "text": [
      "F:\\repos\\fisha\\莱新销售订单0826-0925\\发票模板-按销售订单和存货编码-件数\\发票模板-武汉市热脉文体用品有限公司-SO-2024-02-0859-件数.xlsx\n",
      "F:\\repos\\fisha\\莱新销售订单0826-0925\\发票模板-按销售订单和存货编码-件数\\发票模板-武汉金胜辉商贸有限公司-SO-2024-02-0860-件数.xlsx\n"
     ]
    },
    {
     "name": "stderr",
     "output_type": "stream",
     "text": [
      "C:\\Users\\redda\\AppData\\Roaming\\Python\\Python311\\site-packages\\openpyxl\\worksheet\\_reader.py:329: UserWarning: Data Validation extension is not supported and will be removed\n",
      "  warn(msg)\n",
      "C:\\Users\\redda\\AppData\\Roaming\\Python\\Python311\\site-packages\\openpyxl\\worksheet\\_reader.py:329: UserWarning: Data Validation extension is not supported and will be removed\n",
      "  warn(msg)\n"
     ]
    },
    {
     "name": "stdout",
     "output_type": "stream",
     "text": [
      "F:\\repos\\fisha\\莱新销售订单0826-0925\\发票模板-按销售订单和存货编码-件数\\发票模板-河南抬头喜办公用品有限公司S-SO-2024-02-0861-件数.xlsx\n",
      "F:\\repos\\fisha\\莱新销售订单0826-0925\\发票模板-按销售订单和存货编码-件数\\发票模板-河南抬头喜办公用品有限公司S-SO-2024-02-0862-件数.xlsx\n"
     ]
    },
    {
     "name": "stderr",
     "output_type": "stream",
     "text": [
      "C:\\Users\\redda\\AppData\\Roaming\\Python\\Python311\\site-packages\\openpyxl\\worksheet\\_reader.py:329: UserWarning: Data Validation extension is not supported and will be removed\n",
      "  warn(msg)\n",
      "C:\\Users\\redda\\AppData\\Roaming\\Python\\Python311\\site-packages\\openpyxl\\worksheet\\_reader.py:329: UserWarning: Data Validation extension is not supported and will be removed\n",
      "  warn(msg)\n"
     ]
    },
    {
     "name": "stdout",
     "output_type": "stream",
     "text": [
      "F:\\repos\\fisha\\莱新销售订单0826-0925\\发票模板-按销售订单和存货编码-件数\\发票模板-武汉市晶艺文化用品有限公司-SO-2024-02-0863-件数.xlsx\n",
      "F:\\repos\\fisha\\莱新销售订单0826-0925\\发票模板-按销售订单和存货编码-件数\\发票模板-武汉嘉迪亚商贸有限公司-SO-2024-02-0864-件数.xlsx\n"
     ]
    },
    {
     "name": "stderr",
     "output_type": "stream",
     "text": [
      "C:\\Users\\redda\\AppData\\Roaming\\Python\\Python311\\site-packages\\openpyxl\\worksheet\\_reader.py:329: UserWarning: Data Validation extension is not supported and will be removed\n",
      "  warn(msg)\n"
     ]
    },
    {
     "name": "stdout",
     "output_type": "stream",
     "text": [
      "F:\\repos\\fisha\\莱新销售订单0826-0925\\发票模板-按销售订单和存货编码-件数\\发票模板-武汉今日成纸业有限公司-SO-2024-02-0865-件数.xlsx\n",
      "F:\\repos\\fisha\\莱新销售订单0826-0925\\发票模板-按销售订单和存货编码-件数\\发票模板-武汉米圣贸易有限公司-SO-2024-02-0866-件数.xlsx\n"
     ]
    },
    {
     "name": "stderr",
     "output_type": "stream",
     "text": [
      "C:\\Users\\redda\\AppData\\Roaming\\Python\\Python311\\site-packages\\openpyxl\\worksheet\\_reader.py:329: UserWarning: Data Validation extension is not supported and will be removed\n",
      "  warn(msg)\n",
      "C:\\Users\\redda\\AppData\\Roaming\\Python\\Python311\\site-packages\\openpyxl\\worksheet\\_reader.py:329: UserWarning: Data Validation extension is not supported and will be removed\n",
      "  warn(msg)\n"
     ]
    },
    {
     "name": "stdout",
     "output_type": "stream",
     "text": [
      "F:\\repos\\fisha\\莱新销售订单0826-0925\\发票模板-按销售订单和存货编码-件数\\发票模板-沈阳世联办公用品有限公司-SO-2024-02-0867-件数.xlsx\n",
      "F:\\repos\\fisha\\莱新销售订单0826-0925\\发票模板-按销售订单和存货编码-件数\\发票模板-兰州艾迪商贸有限公司-SO-2024-02-0868-件数.xlsx\n"
     ]
    },
    {
     "name": "stderr",
     "output_type": "stream",
     "text": [
      "C:\\Users\\redda\\AppData\\Roaming\\Python\\Python311\\site-packages\\openpyxl\\worksheet\\_reader.py:329: UserWarning: Data Validation extension is not supported and will be removed\n",
      "  warn(msg)\n",
      "C:\\Users\\redda\\AppData\\Roaming\\Python\\Python311\\site-packages\\openpyxl\\worksheet\\_reader.py:329: UserWarning: Data Validation extension is not supported and will be removed\n",
      "  warn(msg)\n"
     ]
    },
    {
     "name": "stdout",
     "output_type": "stream",
     "text": [
      "F:\\repos\\fisha\\莱新销售订单0826-0925\\发票模板-按销售订单和存货编码-件数\\发票模板-宁夏好时光商贸有限公司-SO-2024-02-0869-件数.xlsx\n"
     ]
    },
    {
     "name": "stderr",
     "output_type": "stream",
     "text": [
      "C:\\Users\\redda\\AppData\\Roaming\\Python\\Python311\\site-packages\\openpyxl\\worksheet\\_reader.py:329: UserWarning: Data Validation extension is not supported and will be removed\n",
      "  warn(msg)\n",
      "C:\\Users\\redda\\AppData\\Roaming\\Python\\Python311\\site-packages\\openpyxl\\worksheet\\_reader.py:329: UserWarning: Data Validation extension is not supported and will be removed\n",
      "  warn(msg)\n"
     ]
    },
    {
     "name": "stdout",
     "output_type": "stream",
     "text": [
      "F:\\repos\\fisha\\莱新销售订单0826-0925\\发票模板-按销售订单和存货编码-件数\\发票模板-武汉金宸翰办公用品有限公司-SO-2024-02-0870-件数.xlsx\n",
      "F:\\repos\\fisha\\莱新销售订单0826-0925\\发票模板-按销售订单和存货编码-件数\\发票模板-石河子市满天红财会文体用品店-SO-2024-02-0871-件数.xlsx\n"
     ]
    },
    {
     "name": "stderr",
     "output_type": "stream",
     "text": [
      "C:\\Users\\redda\\AppData\\Roaming\\Python\\Python311\\site-packages\\openpyxl\\worksheet\\_reader.py:329: UserWarning: Data Validation extension is not supported and will be removed\n",
      "  warn(msg)\n"
     ]
    },
    {
     "name": "stdout",
     "output_type": "stream",
     "text": [
      "F:\\repos\\fisha\\莱新销售订单0826-0925\\发票模板-按销售订单和存货编码-件数\\发票模板-涵江徐东明-SO-2024-02-0872-件数.xlsx\n",
      "F:\\repos\\fisha\\莱新销售订单0826-0925\\发票模板-按销售订单和存货编码-件数\\发票模板-厦门掌握贸易有限公司-SO-2024-02-0873-件数.xlsx\n"
     ]
    },
    {
     "name": "stderr",
     "output_type": "stream",
     "text": [
      "C:\\Users\\redda\\AppData\\Roaming\\Python\\Python311\\site-packages\\openpyxl\\worksheet\\_reader.py:329: UserWarning: Data Validation extension is not supported and will be removed\n",
      "  warn(msg)\n",
      "C:\\Users\\redda\\AppData\\Roaming\\Python\\Python311\\site-packages\\openpyxl\\worksheet\\_reader.py:329: UserWarning: Data Validation extension is not supported and will be removed\n",
      "  warn(msg)\n",
      "C:\\Users\\redda\\AppData\\Roaming\\Python\\Python311\\site-packages\\openpyxl\\worksheet\\_reader.py:329: UserWarning: Data Validation extension is not supported and will be removed\n",
      "  warn(msg)\n"
     ]
    },
    {
     "name": "stdout",
     "output_type": "stream",
     "text": [
      "F:\\repos\\fisha\\莱新销售订单0826-0925\\发票模板-按销售订单和存货编码-件数\\发票模板-宁波市书童文体用品有限公司-SO-2024-02-0874-件数.xlsx\n",
      "F:\\repos\\fisha\\莱新销售订单0826-0925\\发票模板-按销售订单和存货编码-件数\\发票模板-武汉优聚优品贸易有限公司-SO-2024-02-0875-件数.xlsx\n",
      "F:\\repos\\fisha\\莱新销售订单0826-0925\\发票模板-按销售订单和存货编码-件数\\发票模板-芜湖市建斌商贸有限公司-SO-2024-02-0876-件数.xlsx\n"
     ]
    },
    {
     "name": "stderr",
     "output_type": "stream",
     "text": [
      "C:\\Users\\redda\\AppData\\Roaming\\Python\\Python311\\site-packages\\openpyxl\\worksheet\\_reader.py:329: UserWarning: Data Validation extension is not supported and will be removed\n",
      "  warn(msg)\n",
      "C:\\Users\\redda\\AppData\\Roaming\\Python\\Python311\\site-packages\\openpyxl\\worksheet\\_reader.py:329: UserWarning: Data Validation extension is not supported and will be removed\n",
      "  warn(msg)\n"
     ]
    },
    {
     "name": "stdout",
     "output_type": "stream",
     "text": [
      "F:\\repos\\fisha\\莱新销售订单0826-0925\\发票模板-按销售订单和存货编码-件数\\发票模板-河南一叶一页文化用品有限公司-SO-2024-02-0877-件数.xlsx\n"
     ]
    },
    {
     "name": "stderr",
     "output_type": "stream",
     "text": [
      "C:\\Users\\redda\\AppData\\Roaming\\Python\\Python311\\site-packages\\openpyxl\\worksheet\\_reader.py:329: UserWarning: Data Validation extension is not supported and will be removed\n",
      "  warn(msg)\n",
      "C:\\Users\\redda\\AppData\\Roaming\\Python\\Python311\\site-packages\\openpyxl\\worksheet\\_reader.py:329: UserWarning: Data Validation extension is not supported and will be removed\n",
      "  warn(msg)\n"
     ]
    },
    {
     "name": "stdout",
     "output_type": "stream",
     "text": [
      "F:\\repos\\fisha\\莱新销售订单0826-0925\\发票模板-按销售订单和存货编码-件数\\发票模板-武汉优聚优品贸易有限公司-SO-2024-02-0878-件数.xlsx\n",
      "F:\\repos\\fisha\\莱新销售订单0826-0925\\发票模板-按销售订单和存货编码-件数\\发票模板-江西立信办公商贸有限公司-SO-2024-02-0879-件数.xlsx\n"
     ]
    },
    {
     "name": "stderr",
     "output_type": "stream",
     "text": [
      "C:\\Users\\redda\\AppData\\Roaming\\Python\\Python311\\site-packages\\openpyxl\\worksheet\\_reader.py:329: UserWarning: Data Validation extension is not supported and will be removed\n",
      "  warn(msg)\n",
      "C:\\Users\\redda\\AppData\\Roaming\\Python\\Python311\\site-packages\\openpyxl\\worksheet\\_reader.py:329: UserWarning: Data Validation extension is not supported and will be removed\n",
      "  warn(msg)\n"
     ]
    },
    {
     "name": "stdout",
     "output_type": "stream",
     "text": [
      "F:\\repos\\fisha\\莱新销售订单0826-0925\\发票模板-按销售订单和存货编码-件数\\发票模板-阜阳俊武文体商贸有限公司-SO-2024-02-0880-件数.xlsx\n",
      "F:\\repos\\fisha\\莱新销售订单0826-0925\\发票模板-按销售订单和存货编码-件数\\发票模板-阜阳俊武文体商贸有限公司-SO-2024-02-0881-件数.xlsx\n"
     ]
    },
    {
     "name": "stderr",
     "output_type": "stream",
     "text": [
      "C:\\Users\\redda\\AppData\\Roaming\\Python\\Python311\\site-packages\\openpyxl\\worksheet\\_reader.py:329: UserWarning: Data Validation extension is not supported and will be removed\n",
      "  warn(msg)\n"
     ]
    },
    {
     "name": "stdout",
     "output_type": "stream",
     "text": [
      "F:\\repos\\fisha\\莱新销售订单0826-0925\\发票模板-按销售订单和存货编码-件数\\发票模板-太原达富强商贸有限公司-SO-2024-02-0882-件数.xlsx\n",
      "F:\\repos\\fisha\\莱新销售订单0826-0925\\发票模板-按销售订单和存货编码-件数\\发票模板-长沙市雨花区文丰文具商行-SO-2024-02-0883-件数.xlsx\n"
     ]
    },
    {
     "name": "stderr",
     "output_type": "stream",
     "text": [
      "C:\\Users\\redda\\AppData\\Roaming\\Python\\Python311\\site-packages\\openpyxl\\worksheet\\_reader.py:329: UserWarning: Data Validation extension is not supported and will be removed\n",
      "  warn(msg)\n",
      "C:\\Users\\redda\\AppData\\Roaming\\Python\\Python311\\site-packages\\openpyxl\\worksheet\\_reader.py:329: UserWarning: Data Validation extension is not supported and will be removed\n",
      "  warn(msg)\n"
     ]
    },
    {
     "name": "stdout",
     "output_type": "stream",
     "text": [
      "F:\\repos\\fisha\\莱新销售订单0826-0925\\发票模板-按销售订单和存货编码-件数\\发票模板-义乌市博迅文体用品有限公司-SO-2024-02-0884-件数.xlsx\n",
      "F:\\repos\\fisha\\莱新销售订单0826-0925\\发票模板-按销售订单和存货编码-件数\\发票模板-深圳市一晨科技有限公司-SO-2024-02-0885-件数.xlsx\n"
     ]
    },
    {
     "name": "stderr",
     "output_type": "stream",
     "text": [
      "C:\\Users\\redda\\AppData\\Roaming\\Python\\Python311\\site-packages\\openpyxl\\worksheet\\_reader.py:329: UserWarning: Data Validation extension is not supported and will be removed\n",
      "  warn(msg)\n",
      "C:\\Users\\redda\\AppData\\Roaming\\Python\\Python311\\site-packages\\openpyxl\\worksheet\\_reader.py:329: UserWarning: Data Validation extension is not supported and will be removed\n",
      "  warn(msg)\n"
     ]
    },
    {
     "name": "stdout",
     "output_type": "stream",
     "text": [
      "F:\\repos\\fisha\\莱新销售订单0826-0925\\发票模板-按销售订单和存货编码-件数\\发票模板-河南抬头喜办公用品有限公司-SO-2024-02-0886-件数.xlsx\n"
     ]
    },
    {
     "name": "stderr",
     "output_type": "stream",
     "text": [
      "C:\\Users\\redda\\AppData\\Roaming\\Python\\Python311\\site-packages\\openpyxl\\worksheet\\_reader.py:329: UserWarning: Data Validation extension is not supported and will be removed\n",
      "  warn(msg)\n",
      "C:\\Users\\redda\\AppData\\Roaming\\Python\\Python311\\site-packages\\openpyxl\\worksheet\\_reader.py:329: UserWarning: Data Validation extension is not supported and will be removed\n",
      "  warn(msg)\n"
     ]
    },
    {
     "name": "stdout",
     "output_type": "stream",
     "text": [
      "F:\\repos\\fisha\\莱新销售订单0826-0925\\发票模板-按销售订单和存货编码-件数\\发票模板-武汉开先文化用品有限责任公司-SO-2024-02-0887-件数.xlsx\n",
      "F:\\repos\\fisha\\莱新销售订单0826-0925\\发票模板-按销售订单和存货编码-件数\\发票模板-武汉金胜辉商贸有限公司-SO-2024-02-0888-件数.xlsx\n",
      "F:\\repos\\fisha\\莱新销售订单0826-0925\\发票模板-按销售订单和存货编码-件数\\发票模板-武汉中威百联商贸有限公司-SO-2024-02-0889-件数.xlsx\n"
     ]
    },
    {
     "name": "stderr",
     "output_type": "stream",
     "text": [
      "C:\\Users\\redda\\AppData\\Roaming\\Python\\Python311\\site-packages\\openpyxl\\worksheet\\_reader.py:329: UserWarning: Data Validation extension is not supported and will be removed\n",
      "  warn(msg)\n",
      "C:\\Users\\redda\\AppData\\Roaming\\Python\\Python311\\site-packages\\openpyxl\\worksheet\\_reader.py:329: UserWarning: Data Validation extension is not supported and will be removed\n",
      "  warn(msg)\n"
     ]
    },
    {
     "name": "stdout",
     "output_type": "stream",
     "text": [
      "F:\\repos\\fisha\\莱新销售订单0826-0925\\发票模板-按销售订单和存货编码-件数\\发票模板-武汉米圣贸易有限公司-SO-2024-02-0890-件数.xlsx\n"
     ]
    },
    {
     "name": "stderr",
     "output_type": "stream",
     "text": [
      "C:\\Users\\redda\\AppData\\Roaming\\Python\\Python311\\site-packages\\openpyxl\\worksheet\\_reader.py:329: UserWarning: Data Validation extension is not supported and will be removed\n",
      "  warn(msg)\n",
      "C:\\Users\\redda\\AppData\\Roaming\\Python\\Python311\\site-packages\\openpyxl\\worksheet\\_reader.py:329: UserWarning: Data Validation extension is not supported and will be removed\n",
      "  warn(msg)\n"
     ]
    },
    {
     "name": "stdout",
     "output_type": "stream",
     "text": [
      "F:\\repos\\fisha\\莱新销售订单0826-0925\\发票模板-按销售订单和存货编码-件数\\发票模板-武汉金胜辉商贸有限公司-SO-2024-02-0891-件数.xlsx\n",
      "F:\\repos\\fisha\\莱新销售订单0826-0925\\发票模板-按销售订单和存货编码-件数\\发票模板-武汉今日成纸业有限公司-SO-2024-02-0892-件数.xlsx\n"
     ]
    },
    {
     "name": "stderr",
     "output_type": "stream",
     "text": [
      "C:\\Users\\redda\\AppData\\Roaming\\Python\\Python311\\site-packages\\openpyxl\\worksheet\\_reader.py:329: UserWarning: Data Validation extension is not supported and will be removed\n",
      "  warn(msg)\n",
      "C:\\Users\\redda\\AppData\\Roaming\\Python\\Python311\\site-packages\\openpyxl\\worksheet\\_reader.py:329: UserWarning: Data Validation extension is not supported and will be removed\n",
      "  warn(msg)\n"
     ]
    },
    {
     "name": "stdout",
     "output_type": "stream",
     "text": [
      "F:\\repos\\fisha\\莱新销售订单0826-0925\\发票模板-按销售订单和存货编码-件数\\发票模板-武汉静静舒文体用品有限公司-SO-2024-02-0893-件数.xlsx\n",
      "F:\\repos\\fisha\\莱新销售订单0826-0925\\发票模板-按销售订单和存货编码-件数\\发票模板-广东盛泰档案用品有限公司-SO-2024-02-0894-件数.xlsx\n"
     ]
    },
    {
     "name": "stderr",
     "output_type": "stream",
     "text": [
      "C:\\Users\\redda\\AppData\\Roaming\\Python\\Python311\\site-packages\\openpyxl\\worksheet\\_reader.py:329: UserWarning: Data Validation extension is not supported and will be removed\n",
      "  warn(msg)\n",
      "C:\\Users\\redda\\AppData\\Roaming\\Python\\Python311\\site-packages\\openpyxl\\worksheet\\_reader.py:329: UserWarning: Data Validation extension is not supported and will be removed\n",
      "  warn(msg)\n"
     ]
    },
    {
     "name": "stdout",
     "output_type": "stream",
     "text": [
      "F:\\repos\\fisha\\莱新销售订单0826-0925\\发票模板-按销售订单和存货编码-件数\\发票模板-武汉金宸翰办公用品有限公司-SO-2024-02-0895-件数.xlsx\n",
      "F:\\repos\\fisha\\莱新销售订单0826-0925\\发票模板-按销售订单和存货编码-件数\\发票模板-武汉市热脉文体用品有限公司-SO-2024-02-0896-件数.xlsx\n"
     ]
    },
    {
     "name": "stderr",
     "output_type": "stream",
     "text": [
      "C:\\Users\\redda\\AppData\\Roaming\\Python\\Python311\\site-packages\\openpyxl\\worksheet\\_reader.py:329: UserWarning: Data Validation extension is not supported and will be removed\n",
      "  warn(msg)\n",
      "C:\\Users\\redda\\AppData\\Roaming\\Python\\Python311\\site-packages\\openpyxl\\worksheet\\_reader.py:329: UserWarning: Data Validation extension is not supported and will be removed\n",
      "  warn(msg)\n"
     ]
    },
    {
     "name": "stdout",
     "output_type": "stream",
     "text": [
      "F:\\repos\\fisha\\莱新销售订单0826-0925\\发票模板-按销售订单和存货编码-件数\\发票模板-湖北昇耀商贸有限公司-SO-2024-02-0897-件数.xlsx\n",
      "F:\\repos\\fisha\\莱新销售订单0826-0925\\发票模板-按销售订单和存货编码-件数\\发票模板-武汉今日成纸业有限公司-SO-2024-02-0898-件数.xlsx\n"
     ]
    },
    {
     "name": "stderr",
     "output_type": "stream",
     "text": [
      "C:\\Users\\redda\\AppData\\Roaming\\Python\\Python311\\site-packages\\openpyxl\\worksheet\\_reader.py:329: UserWarning: Data Validation extension is not supported and will be removed\n",
      "  warn(msg)\n"
     ]
    },
    {
     "name": "stdout",
     "output_type": "stream",
     "text": [
      "F:\\repos\\fisha\\莱新销售订单0826-0925\\发票模板-按销售订单和存货编码-件数\\发票模板-武汉米圣贸易有限公司-SO-2024-02-0899-件数.xlsx\n",
      "F:\\repos\\fisha\\莱新销售订单0826-0925\\发票模板-按销售订单和存货编码-件数\\发票模板-武汉市齐达利商贸有限公司-SO-2024-02-0900-件数.xlsx\n"
     ]
    },
    {
     "name": "stderr",
     "output_type": "stream",
     "text": [
      "C:\\Users\\redda\\AppData\\Roaming\\Python\\Python311\\site-packages\\openpyxl\\worksheet\\_reader.py:329: UserWarning: Data Validation extension is not supported and will be removed\n",
      "  warn(msg)\n",
      "C:\\Users\\redda\\AppData\\Roaming\\Python\\Python311\\site-packages\\openpyxl\\worksheet\\_reader.py:329: UserWarning: Data Validation extension is not supported and will be removed\n",
      "  warn(msg)\n"
     ]
    },
    {
     "name": "stdout",
     "output_type": "stream",
     "text": [
      "F:\\repos\\fisha\\莱新销售订单0826-0925\\发票模板-按销售订单和存货编码-件数\\发票模板-武汉市热脉文体用品有限公司-SO-2024-02-0901-件数.xlsx\n",
      "F:\\repos\\fisha\\莱新销售订单0826-0925\\发票模板-按销售订单和存货编码-件数\\发票模板-河南抬头喜办公用品有限公司S-SO-2024-02-0902-件数.xlsx\n"
     ]
    },
    {
     "name": "stderr",
     "output_type": "stream",
     "text": [
      "C:\\Users\\redda\\AppData\\Roaming\\Python\\Python311\\site-packages\\openpyxl\\worksheet\\_reader.py:329: UserWarning: Data Validation extension is not supported and will be removed\n",
      "  warn(msg)\n",
      "C:\\Users\\redda\\AppData\\Roaming\\Python\\Python311\\site-packages\\openpyxl\\worksheet\\_reader.py:329: UserWarning: Data Validation extension is not supported and will be removed\n",
      "  warn(msg)\n"
     ]
    },
    {
     "name": "stdout",
     "output_type": "stream",
     "text": [
      "F:\\repos\\fisha\\莱新销售订单0826-0925\\发票模板-按销售订单和存货编码-件数\\发票模板-武汉金胜辉商贸有限公司-SO-2024-02-0903-件数.xlsx\n"
     ]
    },
    {
     "name": "stderr",
     "output_type": "stream",
     "text": [
      "C:\\Users\\redda\\AppData\\Roaming\\Python\\Python311\\site-packages\\openpyxl\\worksheet\\_reader.py:329: UserWarning: Data Validation extension is not supported and will be removed\n",
      "  warn(msg)\n"
     ]
    },
    {
     "name": "stdout",
     "output_type": "stream",
     "text": [
      "F:\\repos\\fisha\\莱新销售订单0826-0925\\发票模板-按销售订单和存货编码-件数\\发票模板-武汉金宸翰办公用品有限公司-SO-2024-02-0904-件数.xlsx\n",
      "F:\\repos\\fisha\\莱新销售订单0826-0925\\发票模板-按销售订单和存货编码-件数\\发票模板-义乌市博迅文体用品有限公司-SO-2024-02-0905-件数.xlsx\n"
     ]
    },
    {
     "name": "stderr",
     "output_type": "stream",
     "text": [
      "C:\\Users\\redda\\AppData\\Roaming\\Python\\Python311\\site-packages\\openpyxl\\worksheet\\_reader.py:329: UserWarning: Data Validation extension is not supported and will be removed\n",
      "  warn(msg)\n",
      "C:\\Users\\redda\\AppData\\Roaming\\Python\\Python311\\site-packages\\openpyxl\\worksheet\\_reader.py:329: UserWarning: Data Validation extension is not supported and will be removed\n",
      "  warn(msg)\n"
     ]
    },
    {
     "name": "stdout",
     "output_type": "stream",
     "text": [
      "F:\\repos\\fisha\\莱新销售订单0826-0925\\发票模板-按销售订单和存货编码-件数\\发票模板-南宁市小木屋文化用品有限公司-SO-2024-02-0906-件数.xlsx\n",
      "F:\\repos\\fisha\\莱新销售订单0826-0925\\发票模板-按销售订单和存货编码-件数\\发票模板-西安华坤集采供应链管理有限公司-SO-2024-02-0907-件数.xlsx\n"
     ]
    },
    {
     "name": "stderr",
     "output_type": "stream",
     "text": [
      "C:\\Users\\redda\\AppData\\Roaming\\Python\\Python311\\site-packages\\openpyxl\\worksheet\\_reader.py:329: UserWarning: Data Validation extension is not supported and will be removed\n",
      "  warn(msg)\n",
      "C:\\Users\\redda\\AppData\\Roaming\\Python\\Python311\\site-packages\\openpyxl\\worksheet\\_reader.py:329: UserWarning: Data Validation extension is not supported and will be removed\n",
      "  warn(msg)\n",
      "C:\\Users\\redda\\AppData\\Roaming\\Python\\Python311\\site-packages\\openpyxl\\worksheet\\_reader.py:329: UserWarning: Data Validation extension is not supported and will be removed\n",
      "  warn(msg)\n"
     ]
    },
    {
     "name": "stdout",
     "output_type": "stream",
     "text": [
      "F:\\repos\\fisha\\莱新销售订单0826-0925\\发票模板-按销售订单和存货编码-件数\\发票模板-昆明八龙商贸有限公司-SO-2024-02-0908-件数.xlsx\n",
      "F:\\repos\\fisha\\莱新销售订单0826-0925\\发票模板-按销售订单和存货编码-件数\\发票模板-西藏文领商贸有限公司-SO-2024-02-0909-件数.xlsx\n"
     ]
    },
    {
     "name": "stderr",
     "output_type": "stream",
     "text": [
      "C:\\Users\\redda\\AppData\\Roaming\\Python\\Python311\\site-packages\\openpyxl\\worksheet\\_reader.py:329: UserWarning: Data Validation extension is not supported and will be removed\n",
      "  warn(msg)\n",
      "C:\\Users\\redda\\AppData\\Roaming\\Python\\Python311\\site-packages\\openpyxl\\worksheet\\_reader.py:329: UserWarning: Data Validation extension is not supported and will be removed\n",
      "  warn(msg)\n"
     ]
    },
    {
     "name": "stdout",
     "output_type": "stream",
     "text": [
      "F:\\repos\\fisha\\莱新销售订单0826-0925\\发票模板-按销售订单和存货编码-件数\\发票模板-河南抬头喜办公用品有限公司S-SO-2024-02-0910-件数.xlsx\n",
      "F:\\repos\\fisha\\莱新销售订单0826-0925\\发票模板-按销售订单和存货编码-件数\\发票模板-吉林耐斯商贸有限公司-SO-2024-02-0911-件数.xlsx\n"
     ]
    },
    {
     "name": "stderr",
     "output_type": "stream",
     "text": [
      "C:\\Users\\redda\\AppData\\Roaming\\Python\\Python311\\site-packages\\openpyxl\\worksheet\\_reader.py:329: UserWarning: Data Validation extension is not supported and will be removed\n",
      "  warn(msg)\n",
      "C:\\Users\\redda\\AppData\\Roaming\\Python\\Python311\\site-packages\\openpyxl\\worksheet\\_reader.py:329: UserWarning: Data Validation extension is not supported and will be removed\n",
      "  warn(msg)\n"
     ]
    },
    {
     "name": "stdout",
     "output_type": "stream",
     "text": [
      "F:\\repos\\fisha\\莱新销售订单0826-0925\\发票模板-按销售订单和存货编码-件数\\发票模板-遵义王强-SO-2024-02-0912-件数.xlsx\n",
      "F:\\repos\\fisha\\莱新销售订单0826-0925\\发票模板-按销售订单和存货编码-件数\\发票模板-无锡金可益商贸有限公司-SO-2024-02-0913-件数.xlsx\n"
     ]
    },
    {
     "name": "stderr",
     "output_type": "stream",
     "text": [
      "C:\\Users\\redda\\AppData\\Roaming\\Python\\Python311\\site-packages\\openpyxl\\worksheet\\_reader.py:329: UserWarning: Data Validation extension is not supported and will be removed\n",
      "  warn(msg)\n",
      "C:\\Users\\redda\\AppData\\Roaming\\Python\\Python311\\site-packages\\openpyxl\\worksheet\\_reader.py:329: UserWarning: Data Validation extension is not supported and will be removed\n",
      "  warn(msg)\n"
     ]
    },
    {
     "name": "stdout",
     "output_type": "stream",
     "text": [
      "F:\\repos\\fisha\\莱新销售订单0826-0925\\发票模板-按销售订单和存货编码-件数\\发票模板-义乌范光洪-SO-2024-02-0914-件数.xlsx\n",
      "F:\\repos\\fisha\\莱新销售订单0826-0925\\发票模板-按销售订单和存货编码-件数\\发票模板-柳州市笔创贸易有限公司-SO-2024-02-0915-件数.xlsx\n"
     ]
    },
    {
     "name": "stderr",
     "output_type": "stream",
     "text": [
      "C:\\Users\\redda\\AppData\\Roaming\\Python\\Python311\\site-packages\\openpyxl\\worksheet\\_reader.py:329: UserWarning: Data Validation extension is not supported and will be removed\n",
      "  warn(msg)\n"
     ]
    },
    {
     "name": "stdout",
     "output_type": "stream",
     "text": [
      "F:\\repos\\fisha\\莱新销售订单0826-0925\\发票模板-按销售订单和存货编码-件数\\发票模板-武汉米圣贸易有限公司-SO-2024-02-0916-件数.xlsx\n",
      "F:\\repos\\fisha\\莱新销售订单0826-0925\\发票模板-按销售订单和存货编码-件数\\发票模板-武汉金胜辉商贸有限公司-SO-2024-02-0917-件数.xlsx\n"
     ]
    },
    {
     "name": "stderr",
     "output_type": "stream",
     "text": [
      "C:\\Users\\redda\\AppData\\Roaming\\Python\\Python311\\site-packages\\openpyxl\\worksheet\\_reader.py:329: UserWarning: Data Validation extension is not supported and will be removed\n",
      "  warn(msg)\n",
      "C:\\Users\\redda\\AppData\\Roaming\\Python\\Python311\\site-packages\\openpyxl\\worksheet\\_reader.py:329: UserWarning: Data Validation extension is not supported and will be removed\n",
      "  warn(msg)\n"
     ]
    },
    {
     "name": "stdout",
     "output_type": "stream",
     "text": [
      "F:\\repos\\fisha\\莱新销售订单0826-0925\\发票模板-按销售订单和存货编码-件数\\发票模板-武汉金宸翰办公用品有限公司1-SO-2024-02-0918-件数.xlsx\n",
      "F:\\repos\\fisha\\莱新销售订单0826-0925\\发票模板-按销售订单和存货编码-件数\\发票模板-武汉开先文化用品有限责任公司-SO-2024-02-0919-件数.xlsx\n"
     ]
    },
    {
     "name": "stderr",
     "output_type": "stream",
     "text": [
      "C:\\Users\\redda\\AppData\\Roaming\\Python\\Python311\\site-packages\\openpyxl\\worksheet\\_reader.py:329: UserWarning: Data Validation extension is not supported and will be removed\n",
      "  warn(msg)\n",
      "C:\\Users\\redda\\AppData\\Roaming\\Python\\Python311\\site-packages\\openpyxl\\worksheet\\_reader.py:329: UserWarning: Data Validation extension is not supported and will be removed\n",
      "  warn(msg)\n"
     ]
    },
    {
     "name": "stdout",
     "output_type": "stream",
     "text": [
      "F:\\repos\\fisha\\莱新销售订单0826-0925\\发票模板-按销售订单和存货编码-件数\\发票模板-武汉市齐达利商贸有限公司-SO-2024-02-0920-件数.xlsx\n"
     ]
    },
    {
     "name": "stderr",
     "output_type": "stream",
     "text": [
      "C:\\Users\\redda\\AppData\\Roaming\\Python\\Python311\\site-packages\\openpyxl\\worksheet\\_reader.py:329: UserWarning: Data Validation extension is not supported and will be removed\n",
      "  warn(msg)\n"
     ]
    },
    {
     "name": "stdout",
     "output_type": "stream",
     "text": [
      "F:\\repos\\fisha\\莱新销售订单0826-0925\\发票模板-按销售订单和存货编码-件数\\发票模板-武汉今日成纸业有限公司-SO-2024-02-0921-件数.xlsx\n",
      "F:\\repos\\fisha\\莱新销售订单0826-0925\\发票模板-按销售订单和存货编码-件数\\发票模板-武汉中威百联商贸有限公司-SO-2024-02-0922-件数.xlsx\n"
     ]
    },
    {
     "name": "stderr",
     "output_type": "stream",
     "text": [
      "C:\\Users\\redda\\AppData\\Roaming\\Python\\Python311\\site-packages\\openpyxl\\worksheet\\_reader.py:329: UserWarning: Data Validation extension is not supported and will be removed\n",
      "  warn(msg)\n",
      "C:\\Users\\redda\\AppData\\Roaming\\Python\\Python311\\site-packages\\openpyxl\\worksheet\\_reader.py:329: UserWarning: Data Validation extension is not supported and will be removed\n",
      "  warn(msg)\n"
     ]
    },
    {
     "name": "stdout",
     "output_type": "stream",
     "text": [
      "F:\\repos\\fisha\\莱新销售订单0826-0925\\发票模板-按销售订单和存货编码-件数\\发票模板-武汉开先文化用品有限责任公司-SO-2024-02-0923-件数.xlsx\n",
      "F:\\repos\\fisha\\莱新销售订单0826-0925\\发票模板-按销售订单和存货编码-件数\\发票模板-武汉市热脉文体用品有限公司-SO-2024-02-0924-件数.xlsx\n"
     ]
    },
    {
     "name": "stderr",
     "output_type": "stream",
     "text": [
      "C:\\Users\\redda\\AppData\\Roaming\\Python\\Python311\\site-packages\\openpyxl\\worksheet\\_reader.py:329: UserWarning: Data Validation extension is not supported and will be removed\n",
      "  warn(msg)\n",
      "C:\\Users\\redda\\AppData\\Roaming\\Python\\Python311\\site-packages\\openpyxl\\worksheet\\_reader.py:329: UserWarning: Data Validation extension is not supported and will be removed\n",
      "  warn(msg)\n",
      "C:\\Users\\redda\\AppData\\Roaming\\Python\\Python311\\site-packages\\openpyxl\\worksheet\\_reader.py:329: UserWarning: Data Validation extension is not supported and will be removed\n",
      "  warn(msg)\n"
     ]
    },
    {
     "name": "stdout",
     "output_type": "stream",
     "text": [
      "F:\\repos\\fisha\\莱新销售订单0826-0925\\发票模板-按销售订单和存货编码-件数\\发票模板-武汉金宸翰办公用品有限公司1-SO-2024-02-0925-件数.xlsx\n",
      "F:\\repos\\fisha\\莱新销售订单0826-0925\\发票模板-按销售订单和存货编码-件数\\发票模板-武汉金胜辉商贸有限公司-SO-2024-02-0926-件数.xlsx\n",
      "F:\\repos\\fisha\\莱新销售订单0826-0925\\发票模板-按销售订单和存货编码-件数\\发票模板-武汉市晶艺文化用品有限公司-SO-2024-02-0927-件数.xlsx\n"
     ]
    },
    {
     "name": "stderr",
     "output_type": "stream",
     "text": [
      "C:\\Users\\redda\\AppData\\Roaming\\Python\\Python311\\site-packages\\openpyxl\\worksheet\\_reader.py:329: UserWarning: Data Validation extension is not supported and will be removed\n",
      "  warn(msg)\n",
      "C:\\Users\\redda\\AppData\\Roaming\\Python\\Python311\\site-packages\\openpyxl\\worksheet\\_reader.py:329: UserWarning: Data Validation extension is not supported and will be removed\n",
      "  warn(msg)\n",
      "C:\\Users\\redda\\AppData\\Roaming\\Python\\Python311\\site-packages\\openpyxl\\worksheet\\_reader.py:329: UserWarning: Data Validation extension is not supported and will be removed\n",
      "  warn(msg)\n"
     ]
    },
    {
     "name": "stdout",
     "output_type": "stream",
     "text": [
      "F:\\repos\\fisha\\莱新销售订单0826-0925\\发票模板-按销售订单和存货编码-件数\\发票模板-河南抬头喜办公用品有限公司S-SO-2024-02-0928-件数.xlsx\n",
      "F:\\repos\\fisha\\莱新销售订单0826-0925\\发票模板-按销售订单和存货编码-件数\\发票模板-武汉今日成纸业有限公司-SO-2024-02-0929-件数.xlsx\n",
      "F:\\repos\\fisha\\莱新销售订单0826-0925\\发票模板-按销售订单和存货编码-件数\\发票模板-河南梓亦桐商贸有限公司-SO-2024-02-0930-件数.xlsx\n"
     ]
    },
    {
     "name": "stderr",
     "output_type": "stream",
     "text": [
      "C:\\Users\\redda\\AppData\\Roaming\\Python\\Python311\\site-packages\\openpyxl\\worksheet\\_reader.py:329: UserWarning: Data Validation extension is not supported and will be removed\n",
      "  warn(msg)\n",
      "C:\\Users\\redda\\AppData\\Roaming\\Python\\Python311\\site-packages\\openpyxl\\worksheet\\_reader.py:329: UserWarning: Data Validation extension is not supported and will be removed\n",
      "  warn(msg)\n"
     ]
    },
    {
     "name": "stdout",
     "output_type": "stream",
     "text": [
      "F:\\repos\\fisha\\莱新销售订单0826-0925\\发票模板-按销售订单和存货编码-件数\\发票模板-长沙市雨花区文丰文具商行-SO-2024-02-0931-件数.xlsx\n",
      "F:\\repos\\fisha\\莱新销售订单0826-0925\\发票模板-按销售订单和存货编码-件数\\发票模板-桂林竞升文化用品有限公司-SO-2024-02-0932-件数.xlsx\n"
     ]
    },
    {
     "name": "stderr",
     "output_type": "stream",
     "text": [
      "C:\\Users\\redda\\AppData\\Roaming\\Python\\Python311\\site-packages\\openpyxl\\worksheet\\_reader.py:329: UserWarning: Data Validation extension is not supported and will be removed\n",
      "  warn(msg)\n",
      "C:\\Users\\redda\\AppData\\Roaming\\Python\\Python311\\site-packages\\openpyxl\\worksheet\\_reader.py:329: UserWarning: Data Validation extension is not supported and will be removed\n",
      "  warn(msg)\n"
     ]
    },
    {
     "name": "stdout",
     "output_type": "stream",
     "text": [
      "F:\\repos\\fisha\\莱新销售订单0826-0925\\发票模板-按销售订单和存货编码-件数\\发票模板-西安华坤集采供应链管理有限公司-SO-2024-02-0933-件数.xlsx\n"
     ]
    },
    {
     "name": "stderr",
     "output_type": "stream",
     "text": [
      "C:\\Users\\redda\\AppData\\Roaming\\Python\\Python311\\site-packages\\openpyxl\\worksheet\\_reader.py:329: UserWarning: Data Validation extension is not supported and will be removed\n",
      "  warn(msg)\n",
      "C:\\Users\\redda\\AppData\\Roaming\\Python\\Python311\\site-packages\\openpyxl\\worksheet\\_reader.py:329: UserWarning: Data Validation extension is not supported and will be removed\n",
      "  warn(msg)\n"
     ]
    },
    {
     "name": "stdout",
     "output_type": "stream",
     "text": [
      "F:\\repos\\fisha\\莱新销售订单0826-0925\\发票模板-按销售订单和存货编码-件数\\发票模板-西安垄裕商贸有限公司-SO-2024-02-0934-件数.xlsx\n",
      "F:\\repos\\fisha\\莱新销售订单0826-0925\\发票模板-按销售订单和存货编码-件数\\发票模板-武汉市热脉文体用品有限公司-SO-2024-02-0935-件数.xlsx\n"
     ]
    },
    {
     "name": "stderr",
     "output_type": "stream",
     "text": [
      "C:\\Users\\redda\\AppData\\Roaming\\Python\\Python311\\site-packages\\openpyxl\\worksheet\\_reader.py:329: UserWarning: Data Validation extension is not supported and will be removed\n",
      "  warn(msg)\n",
      "C:\\Users\\redda\\AppData\\Roaming\\Python\\Python311\\site-packages\\openpyxl\\worksheet\\_reader.py:329: UserWarning: Data Validation extension is not supported and will be removed\n",
      "  warn(msg)\n"
     ]
    },
    {
     "name": "stdout",
     "output_type": "stream",
     "text": [
      "F:\\repos\\fisha\\莱新销售订单0826-0925\\发票模板-按销售订单和存货编码-件数\\发票模板-四川渝泰企业管理咨询有限公司-SO-2024-02-0936-件数.xlsx\n",
      "F:\\repos\\fisha\\莱新销售订单0826-0925\\发票模板-按销售订单和存货编码-件数\\发票模板-南京好学爱玩信息科技有限公司-SO-2024-02-0937-件数.xlsx\n"
     ]
    },
    {
     "name": "stderr",
     "output_type": "stream",
     "text": [
      "C:\\Users\\redda\\AppData\\Roaming\\Python\\Python311\\site-packages\\openpyxl\\worksheet\\_reader.py:329: UserWarning: Data Validation extension is not supported and will be removed\n",
      "  warn(msg)\n",
      "C:\\Users\\redda\\AppData\\Roaming\\Python\\Python311\\site-packages\\openpyxl\\worksheet\\_reader.py:329: UserWarning: Data Validation extension is not supported and will be removed\n",
      "  warn(msg)\n"
     ]
    },
    {
     "name": "stdout",
     "output_type": "stream",
     "text": [
      "F:\\repos\\fisha\\莱新销售订单0826-0925\\发票模板-按销售订单和存货编码-件数\\发票模板-柳州市笔创贸易有限公司-SO-2024-02-0938-件数.xlsx\n",
      "F:\\repos\\fisha\\莱新销售订单0826-0925\\发票模板-按销售订单和存货编码-件数\\发票模板-西安继坤工贸有限公司-SO-2024-02-0939-件数.xlsx\n"
     ]
    },
    {
     "name": "stderr",
     "output_type": "stream",
     "text": [
      "C:\\Users\\redda\\AppData\\Roaming\\Python\\Python311\\site-packages\\openpyxl\\worksheet\\_reader.py:329: UserWarning: Data Validation extension is not supported and will be removed\n",
      "  warn(msg)\n",
      "C:\\Users\\redda\\AppData\\Roaming\\Python\\Python311\\site-packages\\openpyxl\\worksheet\\_reader.py:329: UserWarning: Data Validation extension is not supported and will be removed\n",
      "  warn(msg)\n"
     ]
    },
    {
     "name": "stdout",
     "output_type": "stream",
     "text": [
      "F:\\repos\\fisha\\莱新销售订单0826-0925\\发票模板-按销售订单和存货编码-件数\\发票模板-江西华兆昌商贸有限公司-SO-2024-02-0940-件数.xlsx\n",
      "F:\\repos\\fisha\\莱新销售订单0826-0925\\发票模板-按销售订单和存货编码-件数\\发票模板-长沙市东麦文化有限公司-SO-2024-02-0941-件数.xlsx\n"
     ]
    },
    {
     "name": "stderr",
     "output_type": "stream",
     "text": [
      "C:\\Users\\redda\\AppData\\Roaming\\Python\\Python311\\site-packages\\openpyxl\\worksheet\\_reader.py:329: UserWarning: Data Validation extension is not supported and will be removed\n",
      "  warn(msg)\n",
      "C:\\Users\\redda\\AppData\\Roaming\\Python\\Python311\\site-packages\\openpyxl\\worksheet\\_reader.py:329: UserWarning: Data Validation extension is not supported and will be removed\n",
      "  warn(msg)\n"
     ]
    },
    {
     "name": "stdout",
     "output_type": "stream",
     "text": [
      "F:\\repos\\fisha\\莱新销售订单0826-0925\\发票模板-按销售订单和存货编码-件数\\发票模板-龙岩连卫中-SO-2024-02-0942-件数.xlsx\n",
      "F:\\repos\\fisha\\莱新销售订单0826-0925\\发票模板-按销售订单和存货编码-件数\\发票模板-涵江徐东明-SO-2024-02-0943-件数.xlsx\n"
     ]
    },
    {
     "name": "stderr",
     "output_type": "stream",
     "text": [
      "C:\\Users\\redda\\AppData\\Roaming\\Python\\Python311\\site-packages\\openpyxl\\worksheet\\_reader.py:329: UserWarning: Data Validation extension is not supported and will be removed\n",
      "  warn(msg)\n",
      "C:\\Users\\redda\\AppData\\Roaming\\Python\\Python311\\site-packages\\openpyxl\\worksheet\\_reader.py:329: UserWarning: Data Validation extension is not supported and will be removed\n",
      "  warn(msg)\n"
     ]
    },
    {
     "name": "stdout",
     "output_type": "stream",
     "text": [
      "F:\\repos\\fisha\\莱新销售订单0826-0925\\发票模板-按销售订单和存货编码-件数\\发票模板-湖北腾顺商贸有限公司-SO-2024-02-0944-件数.xlsx\n",
      "F:\\repos\\fisha\\莱新销售订单0826-0925\\发票模板-按销售订单和存货编码-件数\\发票模板-江西立信办公商贸有限公司-SO-2024-02-0945-件数.xlsx\n"
     ]
    },
    {
     "name": "stderr",
     "output_type": "stream",
     "text": [
      "C:\\Users\\redda\\AppData\\Roaming\\Python\\Python311\\site-packages\\openpyxl\\worksheet\\_reader.py:329: UserWarning: Data Validation extension is not supported and will be removed\n",
      "  warn(msg)\n"
     ]
    },
    {
     "name": "stdout",
     "output_type": "stream",
     "text": [
      "F:\\repos\\fisha\\莱新销售订单0826-0925\\发票模板-按销售订单和存货编码-件数\\发票模板-武汉金胜辉商贸有限公司-SO-2024-02-0946-件数.xlsx\n"
     ]
    },
    {
     "name": "stderr",
     "output_type": "stream",
     "text": [
      "C:\\Users\\redda\\AppData\\Roaming\\Python\\Python311\\site-packages\\openpyxl\\worksheet\\_reader.py:329: UserWarning: Data Validation extension is not supported and will be removed\n",
      "  warn(msg)\n",
      "C:\\Users\\redda\\AppData\\Roaming\\Python\\Python311\\site-packages\\openpyxl\\worksheet\\_reader.py:329: UserWarning: Data Validation extension is not supported and will be removed\n",
      "  warn(msg)\n"
     ]
    },
    {
     "name": "stdout",
     "output_type": "stream",
     "text": [
      "F:\\repos\\fisha\\莱新销售订单0826-0925\\发票模板-按销售订单和存货编码-件数\\发票模板-武汉开先文化用品有限责任公司-SO-2024-02-0947-件数.xlsx\n",
      "F:\\repos\\fisha\\莱新销售订单0826-0925\\发票模板-按销售订单和存货编码-件数\\发票模板-河南抬头喜办公用品有限公司S-SO-2024-02-0948-件数.xlsx\n"
     ]
    },
    {
     "name": "stderr",
     "output_type": "stream",
     "text": [
      "C:\\Users\\redda\\AppData\\Roaming\\Python\\Python311\\site-packages\\openpyxl\\worksheet\\_reader.py:329: UserWarning: Data Validation extension is not supported and will be removed\n",
      "  warn(msg)\n",
      "C:\\Users\\redda\\AppData\\Roaming\\Python\\Python311\\site-packages\\openpyxl\\worksheet\\_reader.py:329: UserWarning: Data Validation extension is not supported and will be removed\n",
      "  warn(msg)\n"
     ]
    },
    {
     "name": "stdout",
     "output_type": "stream",
     "text": [
      "F:\\repos\\fisha\\莱新销售订单0826-0925\\发票模板-按销售订单和存货编码-件数\\发票模板-湖北昇耀商贸有限公司-SO-2024-02-0949-件数.xlsx\n",
      "F:\\repos\\fisha\\莱新销售订单0826-0925\\发票模板-按销售订单和存货编码-件数\\发票模板-昆明市官渡区林林林文体用品经营部-SO-2024-02-0950-件数.xlsx\n"
     ]
    },
    {
     "name": "stderr",
     "output_type": "stream",
     "text": [
      "C:\\Users\\redda\\AppData\\Roaming\\Python\\Python311\\site-packages\\openpyxl\\worksheet\\_reader.py:329: UserWarning: Data Validation extension is not supported and will be removed\n",
      "  warn(msg)\n"
     ]
    },
    {
     "name": "stdout",
     "output_type": "stream",
     "text": [
      "F:\\repos\\fisha\\莱新销售订单0826-0925\\发票模板-按销售订单和存货编码-件数\\发票模板-武汉金胜辉商贸有限公司-SO-2024-02-0951-件数.xlsx\n",
      "F:\\repos\\fisha\\莱新销售订单0826-0925\\发票模板-按销售订单和存货编码-件数\\发票模板-武汉市热脉文体用品有限公司-SO-2024-02-0952-件数.xlsx\n"
     ]
    },
    {
     "name": "stderr",
     "output_type": "stream",
     "text": [
      "C:\\Users\\redda\\AppData\\Roaming\\Python\\Python311\\site-packages\\openpyxl\\worksheet\\_reader.py:329: UserWarning: Data Validation extension is not supported and will be removed\n",
      "  warn(msg)\n",
      "C:\\Users\\redda\\AppData\\Roaming\\Python\\Python311\\site-packages\\openpyxl\\worksheet\\_reader.py:329: UserWarning: Data Validation extension is not supported and will be removed\n",
      "  warn(msg)\n"
     ]
    },
    {
     "name": "stdout",
     "output_type": "stream",
     "text": [
      "F:\\repos\\fisha\\莱新销售订单0826-0925\\发票模板-按销售订单和存货编码-件数\\发票模板-河南抬头喜办公用品有限公司S-SO-2024-02-0953-件数.xlsx\n",
      "F:\\repos\\fisha\\莱新销售订单0826-0925\\发票模板-按销售订单和存货编码-件数\\发票模板-安庆新联文化科技有限公司-SO-2024-02-0954-件数.xlsx\n"
     ]
    },
    {
     "name": "stderr",
     "output_type": "stream",
     "text": [
      "C:\\Users\\redda\\AppData\\Roaming\\Python\\Python311\\site-packages\\openpyxl\\worksheet\\_reader.py:329: UserWarning: Data Validation extension is not supported and will be removed\n",
      "  warn(msg)\n",
      "C:\\Users\\redda\\AppData\\Roaming\\Python\\Python311\\site-packages\\openpyxl\\worksheet\\_reader.py:329: UserWarning: Data Validation extension is not supported and will be removed\n",
      "  warn(msg)\n",
      "C:\\Users\\redda\\AppData\\Roaming\\Python\\Python311\\site-packages\\openpyxl\\worksheet\\_reader.py:329: UserWarning: Data Validation extension is not supported and will be removed\n",
      "  warn(msg)\n"
     ]
    },
    {
     "name": "stdout",
     "output_type": "stream",
     "text": [
      "F:\\repos\\fisha\\莱新销售订单0826-0925\\发票模板-按销售订单和存货编码-件数\\发票模板-河南抬头喜办公用品有限公司S-SO-2024-02-0955-件数.xlsx\n",
      "F:\\repos\\fisha\\莱新销售订单0826-0925\\发票模板-按销售订单和存货编码-件数\\发票模板-长沙市雨花区文丰文具商行-SO-2024-02-0956-件数.xlsx\n"
     ]
    },
    {
     "name": "stderr",
     "output_type": "stream",
     "text": [
      "C:\\Users\\redda\\AppData\\Roaming\\Python\\Python311\\site-packages\\openpyxl\\worksheet\\_reader.py:329: UserWarning: Data Validation extension is not supported and will be removed\n",
      "  warn(msg)\n",
      "C:\\Users\\redda\\AppData\\Roaming\\Python\\Python311\\site-packages\\openpyxl\\worksheet\\_reader.py:329: UserWarning: Data Validation extension is not supported and will be removed\n",
      "  warn(msg)\n"
     ]
    },
    {
     "name": "stdout",
     "output_type": "stream",
     "text": [
      "F:\\repos\\fisha\\莱新销售订单0826-0925\\发票模板-按销售订单和存货编码-件数\\发票模板-石家庄本米文具用品销售有限公司-SO-2024-02-0957-件数.xlsx\n",
      "F:\\repos\\fisha\\莱新销售订单0826-0925\\发票模板-按销售订单和存货编码-件数\\发票模板-江西华兆昌商贸有限公司-SO-2024-02-0958-件数.xlsx\n"
     ]
    },
    {
     "name": "stderr",
     "output_type": "stream",
     "text": [
      "C:\\Users\\redda\\AppData\\Roaming\\Python\\Python311\\site-packages\\openpyxl\\worksheet\\_reader.py:329: UserWarning: Data Validation extension is not supported and will be removed\n",
      "  warn(msg)\n",
      "C:\\Users\\redda\\AppData\\Roaming\\Python\\Python311\\site-packages\\openpyxl\\worksheet\\_reader.py:329: UserWarning: Data Validation extension is not supported and will be removed\n",
      "  warn(msg)\n"
     ]
    },
    {
     "name": "stdout",
     "output_type": "stream",
     "text": [
      "F:\\repos\\fisha\\莱新销售订单0826-0925\\发票模板-按销售订单和存货编码-件数\\发票模板-江西华兆昌商贸有限公司-SO-2024-02-0959-件数.xlsx\n",
      "F:\\repos\\fisha\\莱新销售订单0826-0925\\发票模板-按销售订单和存货编码-件数\\发票模板-武汉金宸翰办公用品有限公司1-SO-2024-02-0960-件数.xlsx\n"
     ]
    },
    {
     "name": "stderr",
     "output_type": "stream",
     "text": [
      "C:\\Users\\redda\\AppData\\Roaming\\Python\\Python311\\site-packages\\openpyxl\\worksheet\\_reader.py:329: UserWarning: Data Validation extension is not supported and will be removed\n",
      "  warn(msg)\n"
     ]
    },
    {
     "name": "stdout",
     "output_type": "stream",
     "text": [
      "F:\\repos\\fisha\\莱新销售订单0826-0925\\发票模板-按销售订单和存货编码-件数\\发票模板-武汉米圣贸易有限公司-SO-2024-02-0961-件数.xlsx\n",
      "F:\\repos\\fisha\\莱新销售订单0826-0925\\发票模板-按销售订单和存货编码-件数\\发票模板-武汉市热脉文体用品有限公司-SO-2024-02-0962-件数.xlsx\n"
     ]
    },
    {
     "name": "stderr",
     "output_type": "stream",
     "text": [
      "C:\\Users\\redda\\AppData\\Roaming\\Python\\Python311\\site-packages\\openpyxl\\worksheet\\_reader.py:329: UserWarning: Data Validation extension is not supported and will be removed\n",
      "  warn(msg)\n",
      "C:\\Users\\redda\\AppData\\Roaming\\Python\\Python311\\site-packages\\openpyxl\\worksheet\\_reader.py:329: UserWarning: Data Validation extension is not supported and will be removed\n",
      "  warn(msg)\n"
     ]
    },
    {
     "name": "stdout",
     "output_type": "stream",
     "text": [
      "F:\\repos\\fisha\\莱新销售订单0826-0925\\发票模板-按销售订单和存货编码-件数\\发票模板-武汉金胜辉商贸有限公司-SO-2024-02-0963-件数.xlsx\n",
      "F:\\repos\\fisha\\莱新销售订单0826-0925\\发票模板-按销售订单和存货编码-件数\\发票模板-武汉开先文化用品有限责任公司-SO-2024-02-0964-件数.xlsx\n"
     ]
    },
    {
     "name": "stderr",
     "output_type": "stream",
     "text": [
      "C:\\Users\\redda\\AppData\\Roaming\\Python\\Python311\\site-packages\\openpyxl\\worksheet\\_reader.py:329: UserWarning: Data Validation extension is not supported and will be removed\n",
      "  warn(msg)\n",
      "C:\\Users\\redda\\AppData\\Roaming\\Python\\Python311\\site-packages\\openpyxl\\worksheet\\_reader.py:329: UserWarning: Data Validation extension is not supported and will be removed\n",
      "  warn(msg)\n",
      "C:\\Users\\redda\\AppData\\Roaming\\Python\\Python311\\site-packages\\openpyxl\\worksheet\\_reader.py:329: UserWarning: Data Validation extension is not supported and will be removed\n",
      "  warn(msg)\n"
     ]
    },
    {
     "name": "stdout",
     "output_type": "stream",
     "text": [
      "F:\\repos\\fisha\\莱新销售订单0826-0925\\发票模板-按销售订单和存货编码-件数\\发票模板-武汉嘉迪亚商贸有限公司-SO-2024-02-0965-件数.xlsx\n",
      "F:\\repos\\fisha\\莱新销售订单0826-0925\\发票模板-按销售订单和存货编码-件数\\发票模板-湖北昇耀商贸有限公司-SO-2024-02-0966-件数.xlsx\n"
     ]
    },
    {
     "name": "stderr",
     "output_type": "stream",
     "text": [
      "C:\\Users\\redda\\AppData\\Roaming\\Python\\Python311\\site-packages\\openpyxl\\worksheet\\_reader.py:329: UserWarning: Data Validation extension is not supported and will be removed\n",
      "  warn(msg)\n"
     ]
    },
    {
     "name": "stdout",
     "output_type": "stream",
     "text": [
      "F:\\repos\\fisha\\莱新销售订单0826-0925\\发票模板-按销售订单和存货编码-件数\\发票模板-武汉金胜辉商贸有限公司-SO-2024-02-0967-件数.xlsx\n"
     ]
    },
    {
     "name": "stderr",
     "output_type": "stream",
     "text": [
      "C:\\Users\\redda\\AppData\\Roaming\\Python\\Python311\\site-packages\\openpyxl\\worksheet\\_reader.py:329: UserWarning: Data Validation extension is not supported and will be removed\n",
      "  warn(msg)\n",
      "C:\\Users\\redda\\AppData\\Roaming\\Python\\Python311\\site-packages\\openpyxl\\worksheet\\_reader.py:329: UserWarning: Data Validation extension is not supported and will be removed\n",
      "  warn(msg)\n"
     ]
    },
    {
     "name": "stdout",
     "output_type": "stream",
     "text": [
      "F:\\repos\\fisha\\莱新销售订单0826-0925\\发票模板-按销售订单和存货编码-件数\\发票模板-湖北昇耀商贸有限公司-SO-2024-02-0968-件数.xlsx\n",
      "F:\\repos\\fisha\\莱新销售订单0826-0925\\发票模板-按销售订单和存货编码-件数\\发票模板-武汉米圣贸易有限公司-SO-2024-02-0969-件数.xlsx\n"
     ]
    },
    {
     "name": "stderr",
     "output_type": "stream",
     "text": [
      "C:\\Users\\redda\\AppData\\Roaming\\Python\\Python311\\site-packages\\openpyxl\\worksheet\\_reader.py:329: UserWarning: Data Validation extension is not supported and will be removed\n",
      "  warn(msg)\n",
      "C:\\Users\\redda\\AppData\\Roaming\\Python\\Python311\\site-packages\\openpyxl\\worksheet\\_reader.py:329: UserWarning: Data Validation extension is not supported and will be removed\n",
      "  warn(msg)\n"
     ]
    },
    {
     "name": "stdout",
     "output_type": "stream",
     "text": [
      "F:\\repos\\fisha\\莱新销售订单0826-0925\\发票模板-按销售订单和存货编码-件数\\发票模板-河南抬头喜办公用品有限公司S-SO-2024-02-0970-件数.xlsx\n",
      "F:\\repos\\fisha\\莱新销售订单0826-0925\\发票模板-按销售订单和存货编码-件数\\发票模板-河南抬头喜办公用品有限公司S-SO-2024-02-0971-件数.xlsx\n"
     ]
    },
    {
     "name": "stderr",
     "output_type": "stream",
     "text": [
      "C:\\Users\\redda\\AppData\\Roaming\\Python\\Python311\\site-packages\\openpyxl\\worksheet\\_reader.py:329: UserWarning: Data Validation extension is not supported and will be removed\n",
      "  warn(msg)\n",
      "C:\\Users\\redda\\AppData\\Roaming\\Python\\Python311\\site-packages\\openpyxl\\worksheet\\_reader.py:329: UserWarning: Data Validation extension is not supported and will be removed\n",
      "  warn(msg)\n"
     ]
    },
    {
     "name": "stdout",
     "output_type": "stream",
     "text": [
      "F:\\repos\\fisha\\莱新销售订单0826-0925\\发票模板-按销售订单和存货编码-件数\\发票模板-天津市友旺商贸有限公司-SO-2024-02-0972-件数.xlsx\n",
      "F:\\repos\\fisha\\莱新销售订单0826-0925\\发票模板-按销售订单和存货编码-件数\\发票模板-保定市恒超文化用品有限公司-SO-2024-02-0973-件数.xlsx\n"
     ]
    },
    {
     "name": "stderr",
     "output_type": "stream",
     "text": [
      "C:\\Users\\redda\\AppData\\Roaming\\Python\\Python311\\site-packages\\openpyxl\\worksheet\\_reader.py:329: UserWarning: Data Validation extension is not supported and will be removed\n",
      "  warn(msg)\n",
      "C:\\Users\\redda\\AppData\\Roaming\\Python\\Python311\\site-packages\\openpyxl\\worksheet\\_reader.py:329: UserWarning: Data Validation extension is not supported and will be removed\n",
      "  warn(msg)\n"
     ]
    },
    {
     "name": "stdout",
     "output_type": "stream",
     "text": [
      "F:\\repos\\fisha\\莱新销售订单0826-0925\\发票模板-按销售订单和存货编码-件数\\发票模板-太原达富强商贸有限公司-SO-2024-02-0974-件数.xlsx\n",
      "F:\\repos\\fisha\\莱新销售订单0826-0925\\发票模板-按销售订单和存货编码-件数\\发票模板-泸州佳之彩商贸有限公司-SO-2024-02-0975-件数.xlsx\n"
     ]
    },
    {
     "name": "stderr",
     "output_type": "stream",
     "text": [
      "C:\\Users\\redda\\AppData\\Roaming\\Python\\Python311\\site-packages\\openpyxl\\worksheet\\_reader.py:329: UserWarning: Data Validation extension is not supported and will be removed\n",
      "  warn(msg)\n"
     ]
    },
    {
     "name": "stdout",
     "output_type": "stream",
     "text": [
      "F:\\repos\\fisha\\莱新销售订单0826-0925\\发票模板-按销售订单和存货编码-件数\\发票模板-成都杨万平-SO-2024-02-0976-件数.xlsx\n",
      "F:\\repos\\fisha\\莱新销售订单0826-0925\\发票模板-按销售订单和存货编码-件数\\发票模板-安康市申达文化用品有限公司L-SO-2024-02-0977-件数.xlsx\n"
     ]
    },
    {
     "name": "stderr",
     "output_type": "stream",
     "text": [
      "C:\\Users\\redda\\AppData\\Roaming\\Python\\Python311\\site-packages\\openpyxl\\worksheet\\_reader.py:329: UserWarning: Data Validation extension is not supported and will be removed\n",
      "  warn(msg)\n",
      "C:\\Users\\redda\\AppData\\Roaming\\Python\\Python311\\site-packages\\openpyxl\\worksheet\\_reader.py:329: UserWarning: Data Validation extension is not supported and will be removed\n",
      "  warn(msg)\n"
     ]
    },
    {
     "name": "stdout",
     "output_type": "stream",
     "text": [
      "F:\\repos\\fisha\\莱新销售订单0826-0925\\发票模板-按销售订单和存货编码-件数\\发票模板-昆明舍礼麦商贸有限公司S-SO-2024-02-0978-件数.xlsx\n",
      "F:\\repos\\fisha\\莱新销售订单0826-0925\\发票模板-按销售订单和存货编码-件数\\发票模板-哈尔滨市新天地文化用品有限公司-SO-2024-02-0979-件数.xlsx\n"
     ]
    },
    {
     "name": "stderr",
     "output_type": "stream",
     "text": [
      "C:\\Users\\redda\\AppData\\Roaming\\Python\\Python311\\site-packages\\openpyxl\\worksheet\\_reader.py:329: UserWarning: Data Validation extension is not supported and will be removed\n",
      "  warn(msg)\n",
      "C:\\Users\\redda\\AppData\\Roaming\\Python\\Python311\\site-packages\\openpyxl\\worksheet\\_reader.py:329: UserWarning: Data Validation extension is not supported and will be removed\n",
      "  warn(msg)\n"
     ]
    },
    {
     "name": "stdout",
     "output_type": "stream",
     "text": [
      "F:\\repos\\fisha\\莱新销售订单0826-0925\\发票模板-按销售订单和存货编码-件数\\发票模板-河南抬头喜办公用品有限公司S-SO-2024-02-0980-件数.xlsx\n"
     ]
    },
    {
     "name": "stderr",
     "output_type": "stream",
     "text": [
      "C:\\Users\\redda\\AppData\\Roaming\\Python\\Python311\\site-packages\\openpyxl\\worksheet\\_reader.py:329: UserWarning: Data Validation extension is not supported and will be removed\n",
      "  warn(msg)\n",
      "C:\\Users\\redda\\AppData\\Roaming\\Python\\Python311\\site-packages\\openpyxl\\worksheet\\_reader.py:329: UserWarning: Data Validation extension is not supported and will be removed\n",
      "  warn(msg)\n"
     ]
    },
    {
     "name": "stdout",
     "output_type": "stream",
     "text": [
      "F:\\repos\\fisha\\莱新销售订单0826-0925\\发票模板-按销售订单和存货编码-件数\\发票模板-云南非常文化用品有限公司-SO-2024-02-0981-件数.xlsx\n",
      "F:\\repos\\fisha\\莱新销售订单0826-0925\\发票模板-按销售订单和存货编码-件数\\发票模板-遵义王强-SO-2024-02-0982-件数.xlsx\n"
     ]
    },
    {
     "name": "stderr",
     "output_type": "stream",
     "text": [
      "C:\\Users\\redda\\AppData\\Roaming\\Python\\Python311\\site-packages\\openpyxl\\worksheet\\_reader.py:329: UserWarning: Data Validation extension is not supported and will be removed\n",
      "  warn(msg)\n",
      "C:\\Users\\redda\\AppData\\Roaming\\Python\\Python311\\site-packages\\openpyxl\\worksheet\\_reader.py:329: UserWarning: Data Validation extension is not supported and will be removed\n",
      "  warn(msg)\n"
     ]
    },
    {
     "name": "stdout",
     "output_type": "stream",
     "text": [
      "F:\\repos\\fisha\\莱新销售订单0826-0925\\发票模板-按销售订单和存货编码-件数\\发票模板-龙岩连卫中-SO-2024-02-0983-件数.xlsx\n",
      "F:\\repos\\fisha\\莱新销售订单0826-0925\\发票模板-按销售订单和存货编码-件数\\发票模板-涵江徐东明-SO-2024-02-0984-件数.xlsx\n"
     ]
    },
    {
     "name": "stderr",
     "output_type": "stream",
     "text": [
      "C:\\Users\\redda\\AppData\\Roaming\\Python\\Python311\\site-packages\\openpyxl\\worksheet\\_reader.py:329: UserWarning: Data Validation extension is not supported and will be removed\n",
      "  warn(msg)\n",
      "C:\\Users\\redda\\AppData\\Roaming\\Python\\Python311\\site-packages\\openpyxl\\worksheet\\_reader.py:329: UserWarning: Data Validation extension is not supported and will be removed\n",
      "  warn(msg)\n"
     ]
    },
    {
     "name": "stdout",
     "output_type": "stream",
     "text": [
      "F:\\repos\\fisha\\莱新销售订单0826-0925\\发票模板-按销售订单和存货编码-件数\\发票模板-江西立信办公商贸有限公司-SO-2024-02-0985-件数.xlsx\n",
      "F:\\repos\\fisha\\莱新销售订单0826-0925\\发票模板-按销售订单和存货编码-件数\\发票模板-广西桂林利华电子科技有限公司-SO-2024-02-0986-件数.xlsx\n"
     ]
    },
    {
     "name": "stderr",
     "output_type": "stream",
     "text": [
      "C:\\Users\\redda\\AppData\\Roaming\\Python\\Python311\\site-packages\\openpyxl\\worksheet\\_reader.py:329: UserWarning: Data Validation extension is not supported and will be removed\n",
      "  warn(msg)\n",
      "C:\\Users\\redda\\AppData\\Roaming\\Python\\Python311\\site-packages\\openpyxl\\worksheet\\_reader.py:329: UserWarning: Data Validation extension is not supported and will be removed\n",
      "  warn(msg)\n"
     ]
    },
    {
     "name": "stdout",
     "output_type": "stream",
     "text": [
      "F:\\repos\\fisha\\莱新销售订单0826-0925\\发票模板-按销售订单和存货编码-件数\\发票模板-广西首平文具有限公司-SO-2024-02-0987-件数.xlsx\n",
      "F:\\repos\\fisha\\莱新销售订单0826-0925\\发票模板-按销售订单和存货编码-件数\\发票模板-梧州余加杰-SO-2024-02-0988-件数.xlsx\n"
     ]
    },
    {
     "name": "stderr",
     "output_type": "stream",
     "text": [
      "C:\\Users\\redda\\AppData\\Roaming\\Python\\Python311\\site-packages\\openpyxl\\worksheet\\_reader.py:329: UserWarning: Data Validation extension is not supported and will be removed\n",
      "  warn(msg)\n",
      "C:\\Users\\redda\\AppData\\Roaming\\Python\\Python311\\site-packages\\openpyxl\\worksheet\\_reader.py:329: UserWarning: Data Validation extension is not supported and will be removed\n",
      "  warn(msg)\n"
     ]
    },
    {
     "name": "stdout",
     "output_type": "stream",
     "text": [
      "F:\\repos\\fisha\\莱新销售订单0826-0925\\发票模板-按销售订单和存货编码-件数\\发票模板-遵义王强-SO-2024-02-0989-件数.xlsx\n",
      "F:\\repos\\fisha\\莱新销售订单0826-0925\\发票模板-按销售订单和存货编码-件数\\发票模板-义乌市博迅文体用品有限公司-SO-2024-02-0990-件数.xlsx\n"
     ]
    },
    {
     "name": "stderr",
     "output_type": "stream",
     "text": [
      "C:\\Users\\redda\\AppData\\Roaming\\Python\\Python311\\site-packages\\openpyxl\\worksheet\\_reader.py:329: UserWarning: Data Validation extension is not supported and will be removed\n",
      "  warn(msg)\n",
      "C:\\Users\\redda\\AppData\\Roaming\\Python\\Python311\\site-packages\\openpyxl\\worksheet\\_reader.py:329: UserWarning: Data Validation extension is not supported and will be removed\n",
      "  warn(msg)\n"
     ]
    },
    {
     "name": "stdout",
     "output_type": "stream",
     "text": [
      "F:\\repos\\fisha\\莱新销售订单0826-0925\\发票模板-按销售订单和存货编码-件数\\发票模板-无锡金可益商贸有限公司-SO-2024-02-0991-件数.xlsx\n",
      "F:\\repos\\fisha\\莱新销售订单0826-0925\\发票模板-按销售订单和存货编码-件数\\发票模板-武汉市齐达利商贸有限公司-SO-2024-02-0992-件数.xlsx\n"
     ]
    },
    {
     "name": "stderr",
     "output_type": "stream",
     "text": [
      "C:\\Users\\redda\\AppData\\Roaming\\Python\\Python311\\site-packages\\openpyxl\\worksheet\\_reader.py:329: UserWarning: Data Validation extension is not supported and will be removed\n",
      "  warn(msg)\n"
     ]
    },
    {
     "name": "stdout",
     "output_type": "stream",
     "text": [
      "F:\\repos\\fisha\\莱新销售订单0826-0925\\发票模板-按销售订单和存货编码-件数\\发票模板-武汉今日成纸业有限公司-SO-2024-02-0993-件数.xlsx\n",
      "F:\\repos\\fisha\\莱新销售订单0826-0925\\发票模板-按销售订单和存货编码-件数\\发票模板-武汉米圣贸易有限公司-SO-2024-02-0994-件数.xlsx\n"
     ]
    },
    {
     "name": "stderr",
     "output_type": "stream",
     "text": [
      "C:\\Users\\redda\\AppData\\Roaming\\Python\\Python311\\site-packages\\openpyxl\\worksheet\\_reader.py:329: UserWarning: Data Validation extension is not supported and will be removed\n",
      "  warn(msg)\n",
      "C:\\Users\\redda\\AppData\\Roaming\\Python\\Python311\\site-packages\\openpyxl\\worksheet\\_reader.py:329: UserWarning: Data Validation extension is not supported and will be removed\n",
      "  warn(msg)\n"
     ]
    },
    {
     "name": "stdout",
     "output_type": "stream",
     "text": [
      "F:\\repos\\fisha\\莱新销售订单0826-0925\\发票模板-按销售订单和存货编码-件数\\发票模板-武汉中威百联商贸有限公司-SO-2024-02-0995-件数.xlsx\n",
      "F:\\repos\\fisha\\莱新销售订单0826-0925\\发票模板-按销售订单和存货编码-件数\\发票模板-武汉邦度办公文具有限公司-SO-2024-02-0996-件数.xlsx\n"
     ]
    },
    {
     "name": "stderr",
     "output_type": "stream",
     "text": [
      "C:\\Users\\redda\\AppData\\Roaming\\Python\\Python311\\site-packages\\openpyxl\\worksheet\\_reader.py:329: UserWarning: Data Validation extension is not supported and will be removed\n",
      "  warn(msg)\n",
      "C:\\Users\\redda\\AppData\\Roaming\\Python\\Python311\\site-packages\\openpyxl\\worksheet\\_reader.py:329: UserWarning: Data Validation extension is not supported and will be removed\n",
      "  warn(msg)\n"
     ]
    },
    {
     "name": "stdout",
     "output_type": "stream",
     "text": [
      "F:\\repos\\fisha\\莱新销售订单0826-0925\\发票模板-按销售订单和存货编码-件数\\发票模板-武汉开先文化用品有限责任公司-SO-2024-02-0997-件数.xlsx\n"
     ]
    },
    {
     "name": "stderr",
     "output_type": "stream",
     "text": [
      "C:\\Users\\redda\\AppData\\Roaming\\Python\\Python311\\site-packages\\openpyxl\\worksheet\\_reader.py:329: UserWarning: Data Validation extension is not supported and will be removed\n",
      "  warn(msg)\n",
      "C:\\Users\\redda\\AppData\\Roaming\\Python\\Python311\\site-packages\\openpyxl\\worksheet\\_reader.py:329: UserWarning: Data Validation extension is not supported and will be removed\n",
      "  warn(msg)\n"
     ]
    },
    {
     "name": "stdout",
     "output_type": "stream",
     "text": [
      "F:\\repos\\fisha\\莱新销售订单0826-0925\\发票模板-按销售订单和存货编码-件数\\发票模板-武汉嘉迪亚商贸有限公司-SO-2024-02-0998-件数.xlsx\n",
      "F:\\repos\\fisha\\莱新销售订单0826-0925\\发票模板-按销售订单和存货编码-件数\\发票模板-武汉开先文化用品有限责任公司-SO-2024-02-0999-件数.xlsx\n"
     ]
    },
    {
     "name": "stderr",
     "output_type": "stream",
     "text": [
      "C:\\Users\\redda\\AppData\\Roaming\\Python\\Python311\\site-packages\\openpyxl\\worksheet\\_reader.py:329: UserWarning: Data Validation extension is not supported and will be removed\n",
      "  warn(msg)\n",
      "C:\\Users\\redda\\AppData\\Roaming\\Python\\Python311\\site-packages\\openpyxl\\worksheet\\_reader.py:329: UserWarning: Data Validation extension is not supported and will be removed\n",
      "  warn(msg)\n"
     ]
    },
    {
     "name": "stdout",
     "output_type": "stream",
     "text": [
      "F:\\repos\\fisha\\莱新销售订单0826-0925\\发票模板-按销售订单和存货编码-件数\\发票模板-河南抬头喜办公用品有限公司S-SO-2024-02-1000-件数.xlsx\n",
      "F:\\repos\\fisha\\莱新销售订单0826-0925\\发票模板-按销售订单和存货编码-件数\\发票模板-深圳市一晨科技有限公司-SO-2024-02-1001-件数.xlsx\n"
     ]
    },
    {
     "name": "stderr",
     "output_type": "stream",
     "text": [
      "C:\\Users\\redda\\AppData\\Roaming\\Python\\Python311\\site-packages\\openpyxl\\worksheet\\_reader.py:329: UserWarning: Data Validation extension is not supported and will be removed\n",
      "  warn(msg)\n",
      "C:\\Users\\redda\\AppData\\Roaming\\Python\\Python311\\site-packages\\openpyxl\\worksheet\\_reader.py:329: UserWarning: Data Validation extension is not supported and will be removed\n",
      "  warn(msg)\n"
     ]
    },
    {
     "name": "stdout",
     "output_type": "stream",
     "text": [
      "F:\\repos\\fisha\\莱新销售订单0826-0925\\发票模板-按销售订单和存货编码-件数\\发票模板-广东盛泰档案用品有限公司-SO-2024-02-1002-件数.xlsx\n",
      "F:\\repos\\fisha\\莱新销售订单0826-0925\\发票模板-按销售订单和存货编码-件数\\发票模板-福州繁隆贸易有限公司-SO-2024-02-1003-件数.xlsx\n",
      "F:\\repos\\fisha\\莱新销售订单0826-0925\\发票模板-按销售订单和存货编码-件数\\发票模板-成都迪欣杨商贸有限公司-SO-2024-02-1004-件数.xlsx\n"
     ]
    },
    {
     "name": "stderr",
     "output_type": "stream",
     "text": [
      "C:\\Users\\redda\\AppData\\Roaming\\Python\\Python311\\site-packages\\openpyxl\\worksheet\\_reader.py:329: UserWarning: Data Validation extension is not supported and will be removed\n",
      "  warn(msg)\n",
      "C:\\Users\\redda\\AppData\\Roaming\\Python\\Python311\\site-packages\\openpyxl\\worksheet\\_reader.py:329: UserWarning: Data Validation extension is not supported and will be removed\n",
      "  warn(msg)\n"
     ]
    },
    {
     "name": "stdout",
     "output_type": "stream",
     "text": [
      "F:\\repos\\fisha\\莱新销售订单0826-0925\\发票模板-按销售订单和存货编码-件数\\发票模板-泸州佳之彩商贸有限公司-SO-2024-02-1005-件数.xlsx\n"
     ]
    },
    {
     "name": "stderr",
     "output_type": "stream",
     "text": [
      "C:\\Users\\redda\\AppData\\Roaming\\Python\\Python311\\site-packages\\openpyxl\\worksheet\\_reader.py:329: UserWarning: Data Validation extension is not supported and will be removed\n",
      "  warn(msg)\n",
      "C:\\Users\\redda\\AppData\\Roaming\\Python\\Python311\\site-packages\\openpyxl\\worksheet\\_reader.py:329: UserWarning: Data Validation extension is not supported and will be removed\n",
      "  warn(msg)\n"
     ]
    },
    {
     "name": "stdout",
     "output_type": "stream",
     "text": [
      "F:\\repos\\fisha\\莱新销售订单0826-0925\\发票模板-按销售订单和存货编码-件数\\发票模板-长沙市雨花区文丰文具商行-SO-2024-02-1006-件数.xlsx\n",
      "F:\\repos\\fisha\\莱新销售订单0826-0925\\发票模板-按销售订单和存货编码-件数\\发票模板-吉林耐斯商贸有限公司-SO-2024-02-1007-件数.xlsx\n"
     ]
    },
    {
     "name": "stderr",
     "output_type": "stream",
     "text": [
      "C:\\Users\\redda\\AppData\\Roaming\\Python\\Python311\\site-packages\\openpyxl\\worksheet\\_reader.py:329: UserWarning: Data Validation extension is not supported and will be removed\n",
      "  warn(msg)\n",
      "C:\\Users\\redda\\AppData\\Roaming\\Python\\Python311\\site-packages\\openpyxl\\worksheet\\_reader.py:329: UserWarning: Data Validation extension is not supported and will be removed\n",
      "  warn(msg)\n"
     ]
    },
    {
     "name": "stdout",
     "output_type": "stream",
     "text": [
      "F:\\repos\\fisha\\莱新销售订单0826-0925\\发票模板-按销售订单和存货编码-件数\\发票模板-河南抬头喜办公用品有限公司S-SO-2024-02-1008-件数.xlsx\n",
      "F:\\repos\\fisha\\莱新销售订单0826-0925\\发票模板-按销售订单和存货编码-件数\\发票模板-长沙市东麦文化有限公司-SO-2024-02-1009-件数.xlsx\n"
     ]
    },
    {
     "name": "stderr",
     "output_type": "stream",
     "text": [
      "C:\\Users\\redda\\AppData\\Roaming\\Python\\Python311\\site-packages\\openpyxl\\worksheet\\_reader.py:329: UserWarning: Data Validation extension is not supported and will be removed\n",
      "  warn(msg)\n"
     ]
    },
    {
     "name": "stdout",
     "output_type": "stream",
     "text": [
      "F:\\repos\\fisha\\莱新销售订单0826-0925\\发票模板-按销售订单和存货编码-件数\\发票模板-桂林竞升文化用品有限公司-SO-2024-02-1010-件数.xlsx\n",
      "F:\\repos\\fisha\\莱新销售订单0826-0925\\发票模板-按销售订单和存货编码-件数\\发票模板-广西桂林利华电子科技有限公司-SO-2024-02-1011-件数.xlsx\n"
     ]
    },
    {
     "name": "stderr",
     "output_type": "stream",
     "text": [
      "C:\\Users\\redda\\AppData\\Roaming\\Python\\Python311\\site-packages\\openpyxl\\worksheet\\_reader.py:329: UserWarning: Data Validation extension is not supported and will be removed\n",
      "  warn(msg)\n",
      "C:\\Users\\redda\\AppData\\Roaming\\Python\\Python311\\site-packages\\openpyxl\\worksheet\\_reader.py:329: UserWarning: Data Validation extension is not supported and will be removed\n",
      "  warn(msg)\n"
     ]
    },
    {
     "name": "stdout",
     "output_type": "stream",
     "text": [
      "F:\\repos\\fisha\\莱新销售订单0826-0925\\发票模板-按销售订单和存货编码-件数\\发票模板-武汉静静舒文体用品有限公司-SO-2024-02-1012-件数.xlsx\n",
      "F:\\repos\\fisha\\莱新销售订单0826-0925\\发票模板-按销售订单和存货编码-件数\\发票模板-武汉市热脉文体用品有限公司-SO-2024-02-1013-件数.xlsx\n"
     ]
    },
    {
     "name": "stderr",
     "output_type": "stream",
     "text": [
      "C:\\Users\\redda\\AppData\\Roaming\\Python\\Python311\\site-packages\\openpyxl\\worksheet\\_reader.py:329: UserWarning: Data Validation extension is not supported and will be removed\n",
      "  warn(msg)\n",
      "C:\\Users\\redda\\AppData\\Roaming\\Python\\Python311\\site-packages\\openpyxl\\worksheet\\_reader.py:329: UserWarning: Data Validation extension is not supported and will be removed\n",
      "  warn(msg)\n"
     ]
    },
    {
     "name": "stdout",
     "output_type": "stream",
     "text": [
      "F:\\repos\\fisha\\莱新销售订单0826-0925\\发票模板-按销售订单和存货编码-件数\\发票模板-沈阳贾术申-SO-2024-02-1014-件数.xlsx\n"
     ]
    },
    {
     "name": "stderr",
     "output_type": "stream",
     "text": [
      "C:\\Users\\redda\\AppData\\Roaming\\Python\\Python311\\site-packages\\openpyxl\\worksheet\\_reader.py:329: UserWarning: Data Validation extension is not supported and will be removed\n",
      "  warn(msg)\n",
      "C:\\Users\\redda\\AppData\\Roaming\\Python\\Python311\\site-packages\\openpyxl\\worksheet\\_reader.py:329: UserWarning: Data Validation extension is not supported and will be removed\n",
      "  warn(msg)\n"
     ]
    },
    {
     "name": "stdout",
     "output_type": "stream",
     "text": [
      "F:\\repos\\fisha\\莱新销售订单0826-0925\\发票模板-按销售订单和存货编码-件数\\发票模板-常州亚龙办公用品有限公司-SO-2024-02-1015-件数.xlsx\n",
      "F:\\repos\\fisha\\莱新销售订单0826-0925\\发票模板-按销售订单和存货编码-件数\\发票模板-遵义王强-SO-2024-02-1016-件数.xlsx\n"
     ]
    },
    {
     "name": "stderr",
     "output_type": "stream",
     "text": [
      "C:\\Users\\redda\\AppData\\Roaming\\Python\\Python311\\site-packages\\openpyxl\\worksheet\\_reader.py:329: UserWarning: Data Validation extension is not supported and will be removed\n",
      "  warn(msg)\n",
      "C:\\Users\\redda\\AppData\\Roaming\\Python\\Python311\\site-packages\\openpyxl\\worksheet\\_reader.py:329: UserWarning: Data Validation extension is not supported and will be removed\n",
      "  warn(msg)\n"
     ]
    },
    {
     "name": "stdout",
     "output_type": "stream",
     "text": [
      "F:\\repos\\fisha\\莱新销售订单0826-0925\\发票模板-按销售订单和存货编码-件数\\发票模板-湖北盛辉物流有限公司-SO-2024-02-1017-件数.xlsx\n",
      "F:\\repos\\fisha\\莱新销售订单0826-0925\\发票模板-按销售订单和存货编码-件数\\发票模板-湖北昇耀商贸有限公司-SO-2024-02-1018-件数.xlsx\n"
     ]
    },
    {
     "name": "stderr",
     "output_type": "stream",
     "text": [
      "C:\\Users\\redda\\AppData\\Roaming\\Python\\Python311\\site-packages\\openpyxl\\worksheet\\_reader.py:329: UserWarning: Data Validation extension is not supported and will be removed\n",
      "  warn(msg)\n"
     ]
    },
    {
     "name": "stdout",
     "output_type": "stream",
     "text": [
      "F:\\repos\\fisha\\莱新销售订单0826-0925\\发票模板-按销售订单和存货编码-件数\\发票模板-武汉乐得电子商务有限公司L-SO-2024-02-1019-件数.xlsx\n",
      "F:\\repos\\fisha\\莱新销售订单0826-0925\\发票模板-按销售订单和存货编码-件数\\发票模板-河南梓亦桐商贸有限公司-SO-2024-02-1020-件数.xlsx\n"
     ]
    },
    {
     "name": "stderr",
     "output_type": "stream",
     "text": [
      "C:\\Users\\redda\\AppData\\Roaming\\Python\\Python311\\site-packages\\openpyxl\\worksheet\\_reader.py:329: UserWarning: Data Validation extension is not supported and will be removed\n",
      "  warn(msg)\n",
      "C:\\Users\\redda\\AppData\\Roaming\\Python\\Python311\\site-packages\\openpyxl\\worksheet\\_reader.py:329: UserWarning: Data Validation extension is not supported and will be removed\n",
      "  warn(msg)\n"
     ]
    },
    {
     "name": "stdout",
     "output_type": "stream",
     "text": [
      "F:\\repos\\fisha\\莱新销售订单0826-0925\\发票模板-按销售订单和存货编码-件数\\发票模板-四川渝泰企业管理咨询有限公司-SO-2024-02-1021-件数.xlsx\n",
      "F:\\repos\\fisha\\莱新销售订单0826-0925\\发票模板-按销售订单和存货编码-件数\\发票模板-河南抬头喜办公用品有限公司S-SO-2024-02-1022-件数.xlsx\n"
     ]
    },
    {
     "name": "stderr",
     "output_type": "stream",
     "text": [
      "C:\\Users\\redda\\AppData\\Roaming\\Python\\Python311\\site-packages\\openpyxl\\worksheet\\_reader.py:329: UserWarning: Data Validation extension is not supported and will be removed\n",
      "  warn(msg)\n",
      "C:\\Users\\redda\\AppData\\Roaming\\Python\\Python311\\site-packages\\openpyxl\\worksheet\\_reader.py:329: UserWarning: Data Validation extension is not supported and will be removed\n",
      "  warn(msg)\n",
      "C:\\Users\\redda\\AppData\\Roaming\\Python\\Python311\\site-packages\\openpyxl\\worksheet\\_reader.py:329: UserWarning: Data Validation extension is not supported and will be removed\n",
      "  warn(msg)\n"
     ]
    },
    {
     "name": "stdout",
     "output_type": "stream",
     "text": [
      "F:\\repos\\fisha\\莱新销售订单0826-0925\\发票模板-按销售订单和存货编码-件数\\发票模板-成都乐尚怡智商贸有限公司-SO-2024-02-1023-件数.xlsx\n",
      "F:\\repos\\fisha\\莱新销售订单0826-0925\\发票模板-按销售订单和存货编码-件数\\发票模板-昆明八龙商贸有限公司-SO-2024-02-1024-件数.xlsx\n",
      "F:\\repos\\fisha\\莱新销售订单0826-0925\\发票模板-按销售订单和存货编码-件数\\发票模板-重庆文优文化用品有限公司-SO-2024-02-1025-件数.xlsx\n"
     ]
    },
    {
     "name": "stderr",
     "output_type": "stream",
     "text": [
      "C:\\Users\\redda\\AppData\\Roaming\\Python\\Python311\\site-packages\\openpyxl\\worksheet\\_reader.py:329: UserWarning: Data Validation extension is not supported and will be removed\n",
      "  warn(msg)\n",
      "C:\\Users\\redda\\AppData\\Roaming\\Python\\Python311\\site-packages\\openpyxl\\worksheet\\_reader.py:329: UserWarning: Data Validation extension is not supported and will be removed\n",
      "  warn(msg)\n"
     ]
    },
    {
     "name": "stdout",
     "output_type": "stream",
     "text": [
      "F:\\repos\\fisha\\莱新销售订单0826-0925\\发票模板-按销售订单和存货编码-件数\\发票模板-武汉优聚优品贸易有限公司-SO-2024-02-1026-件数.xlsx\n"
     ]
    },
    {
     "name": "stderr",
     "output_type": "stream",
     "text": [
      "C:\\Users\\redda\\AppData\\Roaming\\Python\\Python311\\site-packages\\openpyxl\\worksheet\\_reader.py:329: UserWarning: Data Validation extension is not supported and will be removed\n",
      "  warn(msg)\n"
     ]
    },
    {
     "name": "stdout",
     "output_type": "stream",
     "text": [
      "F:\\repos\\fisha\\莱新销售订单0826-0925\\发票模板-按销售订单和存货编码-件数\\发票模板-品壹佰河北商贸有限公司-SO-2024-02-1027-件数.xlsx\n"
     ]
    },
    {
     "name": "stderr",
     "output_type": "stream",
     "text": [
      "C:\\Users\\redda\\AppData\\Roaming\\Python\\Python311\\site-packages\\openpyxl\\worksheet\\_reader.py:329: UserWarning: Data Validation extension is not supported and will be removed\n",
      "  warn(msg)\n",
      "C:\\Users\\redda\\AppData\\Roaming\\Python\\Python311\\site-packages\\openpyxl\\worksheet\\_reader.py:329: UserWarning: Data Validation extension is not supported and will be removed\n",
      "  warn(msg)\n"
     ]
    },
    {
     "name": "stdout",
     "output_type": "stream",
     "text": [
      "F:\\repos\\fisha\\莱新销售订单0826-0925\\发票模板-按销售订单和存货编码-件数\\发票模板-南宁市小木屋文化用品有限公司-SO-2024-02-1028-件数.xlsx\n",
      "F:\\repos\\fisha\\莱新销售订单0826-0925\\发票模板-按销售订单和存货编码-件数\\发票模板-武汉金宸翰办公用品有限公司-SO-2024-02-1029-件数.xlsx\n"
     ]
    },
    {
     "name": "stderr",
     "output_type": "stream",
     "text": [
      "C:\\Users\\redda\\AppData\\Roaming\\Python\\Python311\\site-packages\\openpyxl\\worksheet\\_reader.py:329: UserWarning: Data Validation extension is not supported and will be removed\n",
      "  warn(msg)\n",
      "C:\\Users\\redda\\AppData\\Roaming\\Python\\Python311\\site-packages\\openpyxl\\worksheet\\_reader.py:329: UserWarning: Data Validation extension is not supported and will be removed\n",
      "  warn(msg)\n"
     ]
    },
    {
     "name": "stdout",
     "output_type": "stream",
     "text": [
      "F:\\repos\\fisha\\莱新销售订单0826-0925\\发票模板-按销售订单和存货编码-件数\\发票模板-唐山市文一商贸有限公司-SO-2024-02-1030-件数.xlsx\n",
      "F:\\repos\\fisha\\莱新销售订单0826-0925\\发票模板-按销售订单和存货编码-件数\\发票模板-河南抬头喜办公用品有限公司S-SO-2024-02-1031-件数.xlsx\n"
     ]
    },
    {
     "name": "stderr",
     "output_type": "stream",
     "text": [
      "C:\\Users\\redda\\AppData\\Roaming\\Python\\Python311\\site-packages\\openpyxl\\worksheet\\_reader.py:329: UserWarning: Data Validation extension is not supported and will be removed\n",
      "  warn(msg)\n",
      "C:\\Users\\redda\\AppData\\Roaming\\Python\\Python311\\site-packages\\openpyxl\\worksheet\\_reader.py:329: UserWarning: Data Validation extension is not supported and will be removed\n",
      "  warn(msg)\n"
     ]
    },
    {
     "name": "stdout",
     "output_type": "stream",
     "text": [
      "F:\\repos\\fisha\\莱新销售订单0826-0925\\发票模板-按销售订单和存货编码-件数\\发票模板-西安百花工贸有限公司-SO-2024-02-1032-件数.xlsx\n",
      "F:\\repos\\fisha\\莱新销售订单0826-0925\\发票模板-按销售订单和存货编码-件数\\发票模板-武汉嘉迪亚商贸有限公司-SO-2024-02-1033-件数.xlsx\n",
      "F:\\repos\\fisha\\莱新销售订单0826-0925\\发票模板-按销售订单和存货编码-件数\\发票模板-西安百花工贸有限公司-SO-2024-02-1034-件数.xlsx\n"
     ]
    },
    {
     "name": "stderr",
     "output_type": "stream",
     "text": [
      "C:\\Users\\redda\\AppData\\Roaming\\Python\\Python311\\site-packages\\openpyxl\\worksheet\\_reader.py:329: UserWarning: Data Validation extension is not supported and will be removed\n",
      "  warn(msg)\n",
      "C:\\Users\\redda\\AppData\\Roaming\\Python\\Python311\\site-packages\\openpyxl\\worksheet\\_reader.py:329: UserWarning: Data Validation extension is not supported and will be removed\n",
      "  warn(msg)\n"
     ]
    },
    {
     "name": "stdout",
     "output_type": "stream",
     "text": [
      "F:\\repos\\fisha\\莱新销售订单0826-0925\\发票模板-按销售订单和存货编码-件数\\发票模板-河南抬头喜办公用品有限公司S-SO-2024-02-1035-件数.xlsx\n"
     ]
    },
    {
     "name": "stderr",
     "output_type": "stream",
     "text": [
      "C:\\Users\\redda\\AppData\\Roaming\\Python\\Python311\\site-packages\\openpyxl\\worksheet\\_reader.py:329: UserWarning: Data Validation extension is not supported and will be removed\n",
      "  warn(msg)\n"
     ]
    },
    {
     "name": "stdout",
     "output_type": "stream",
     "text": [
      "F:\\repos\\fisha\\莱新销售订单0826-0925\\发票模板-按销售订单和存货编码-件数\\发票模板-株洲文邦贸易有限公司-SO-2024-02-1036-件数.xlsx\n",
      "F:\\repos\\fisha\\莱新销售订单0826-0925\\发票模板-按销售订单和存货编码-件数\\发票模板-长沙市东麦文化有限公司-SO-2024-02-1037-件数.xlsx\n"
     ]
    },
    {
     "name": "stderr",
     "output_type": "stream",
     "text": [
      "C:\\Users\\redda\\AppData\\Roaming\\Python\\Python311\\site-packages\\openpyxl\\worksheet\\_reader.py:329: UserWarning: Data Validation extension is not supported and will be removed\n",
      "  warn(msg)\n",
      "C:\\Users\\redda\\AppData\\Roaming\\Python\\Python311\\site-packages\\openpyxl\\worksheet\\_reader.py:329: UserWarning: Data Validation extension is not supported and will be removed\n",
      "  warn(msg)\n"
     ]
    },
    {
     "name": "stdout",
     "output_type": "stream",
     "text": [
      "F:\\repos\\fisha\\莱新销售订单0826-0925\\发票模板-按销售订单和存货编码-件数\\发票模板-南京好学爱玩信息科技有限公司-SO-2024-02-1038-件数.xlsx\n",
      "F:\\repos\\fisha\\莱新销售订单0826-0925\\发票模板-按销售订单和存货编码-件数\\发票模板-义乌范光洪-SO-2024-02-1039-件数.xlsx\n"
     ]
    },
    {
     "name": "stderr",
     "output_type": "stream",
     "text": [
      "C:\\Users\\redda\\AppData\\Roaming\\Python\\Python311\\site-packages\\openpyxl\\worksheet\\_reader.py:329: UserWarning: Data Validation extension is not supported and will be removed\n",
      "  warn(msg)\n",
      "C:\\Users\\redda\\AppData\\Roaming\\Python\\Python311\\site-packages\\openpyxl\\worksheet\\_reader.py:329: UserWarning: Data Validation extension is not supported and will be removed\n",
      "  warn(msg)\n",
      "C:\\Users\\redda\\AppData\\Roaming\\Python\\Python311\\site-packages\\openpyxl\\worksheet\\_reader.py:329: UserWarning: Data Validation extension is not supported and will be removed\n",
      "  warn(msg)\n"
     ]
    },
    {
     "name": "stdout",
     "output_type": "stream",
     "text": [
      "F:\\repos\\fisha\\莱新销售订单0826-0925\\发票模板-按销售订单和存货编码-件数\\发票模板-龙岩市欧飞贸易有限公司-SO-2024-02-1040-件数.xlsx\n",
      "F:\\repos\\fisha\\莱新销售订单0826-0925\\发票模板-按销售订单和存货编码-件数\\发票模板-石家庄本米文具用品销售有限公司-SO-2024-02-1041-件数.xlsx\n"
     ]
    },
    {
     "name": "stderr",
     "output_type": "stream",
     "text": [
      "C:\\Users\\redda\\AppData\\Roaming\\Python\\Python311\\site-packages\\openpyxl\\worksheet\\_reader.py:329: UserWarning: Data Validation extension is not supported and will be removed\n",
      "  warn(msg)\n",
      "C:\\Users\\redda\\AppData\\Roaming\\Python\\Python311\\site-packages\\openpyxl\\worksheet\\_reader.py:329: UserWarning: Data Validation extension is not supported and will be removed\n",
      "  warn(msg)\n"
     ]
    },
    {
     "name": "stdout",
     "output_type": "stream",
     "text": [
      "F:\\repos\\fisha\\莱新销售订单0826-0925\\发票模板-按销售订单和存货编码-件数\\发票模板-龙岩连卫中-SO-2024-02-1042-件数.xlsx\n",
      "F:\\repos\\fisha\\莱新销售订单0826-0925\\发票模板-按销售订单和存货编码-件数\\发票模板-武汉市热脉文体用品有限公司-SO-2024-02-1043-件数.xlsx\n"
     ]
    },
    {
     "name": "stderr",
     "output_type": "stream",
     "text": [
      "C:\\Users\\redda\\AppData\\Roaming\\Python\\Python311\\site-packages\\openpyxl\\worksheet\\_reader.py:329: UserWarning: Data Validation extension is not supported and will be removed\n",
      "  warn(msg)\n"
     ]
    },
    {
     "name": "stdout",
     "output_type": "stream",
     "text": [
      "F:\\repos\\fisha\\莱新销售订单0826-0925\\发票模板-按销售订单和存货编码-件数\\发票模板-青海一诺商贸有限公司-SO-2024-02-1044-件数.xlsx\n",
      "F:\\repos\\fisha\\莱新销售订单0826-0925\\发票模板-按销售订单和存货编码-件数\\发票模板-湖北昇耀商贸有限公司-SO-2024-02-1045-件数.xlsx\n"
     ]
    },
    {
     "name": "stderr",
     "output_type": "stream",
     "text": [
      "C:\\Users\\redda\\AppData\\Roaming\\Python\\Python311\\site-packages\\openpyxl\\worksheet\\_reader.py:329: UserWarning: Data Validation extension is not supported and will be removed\n",
      "  warn(msg)\n",
      "C:\\Users\\redda\\AppData\\Roaming\\Python\\Python311\\site-packages\\openpyxl\\worksheet\\_reader.py:329: UserWarning: Data Validation extension is not supported and will be removed\n",
      "  warn(msg)\n"
     ]
    },
    {
     "name": "stdout",
     "output_type": "stream",
     "text": [
      "F:\\repos\\fisha\\莱新销售订单0826-0925\\发票模板-按销售订单和存货编码-件数\\发票模板-兰州艾迪商贸有限公司-SO-2024-02-1046-件数.xlsx\n",
      "F:\\repos\\fisha\\莱新销售订单0826-0925\\发票模板-按销售订单和存货编码-件数\\发票模板-汉中圣博商贸有限责任公司-SO-2024-02-1047-件数.xlsx\n"
     ]
    },
    {
     "name": "stderr",
     "output_type": "stream",
     "text": [
      "C:\\Users\\redda\\AppData\\Roaming\\Python\\Python311\\site-packages\\openpyxl\\worksheet\\_reader.py:329: UserWarning: Data Validation extension is not supported and will be removed\n",
      "  warn(msg)\n",
      "C:\\Users\\redda\\AppData\\Roaming\\Python\\Python311\\site-packages\\openpyxl\\worksheet\\_reader.py:329: UserWarning: Data Validation extension is not supported and will be removed\n",
      "  warn(msg)\n"
     ]
    },
    {
     "name": "stdout",
     "output_type": "stream",
     "text": [
      "F:\\repos\\fisha\\莱新销售订单0826-0925\\发票模板-按销售订单和存货编码-件数\\发票模板-江西立信办公商贸有限公司-SO-2024-02-1048-件数.xlsx\n"
     ]
    },
    {
     "name": "stderr",
     "output_type": "stream",
     "text": [
      "C:\\Users\\redda\\AppData\\Roaming\\Python\\Python311\\site-packages\\openpyxl\\worksheet\\_reader.py:329: UserWarning: Data Validation extension is not supported and will be removed\n",
      "  warn(msg)\n",
      "C:\\Users\\redda\\AppData\\Roaming\\Python\\Python311\\site-packages\\openpyxl\\worksheet\\_reader.py:329: UserWarning: Data Validation extension is not supported and will be removed\n",
      "  warn(msg)\n"
     ]
    },
    {
     "name": "stdout",
     "output_type": "stream",
     "text": [
      "F:\\repos\\fisha\\莱新销售订单0826-0925\\发票模板-按销售订单和存货编码-件数\\发票模板-石家庄本米文具用品销售有限公司-SO-2024-02-1049-件数.xlsx\n",
      "F:\\repos\\fisha\\莱新销售订单0826-0925\\发票模板-按销售订单和存货编码-件数\\发票模板-武汉市热脉文体用品有限公司-SO-2024-02-1050-件数.xlsx\n"
     ]
    },
    {
     "name": "stderr",
     "output_type": "stream",
     "text": [
      "C:\\Users\\redda\\AppData\\Roaming\\Python\\Python311\\site-packages\\openpyxl\\worksheet\\_reader.py:329: UserWarning: Data Validation extension is not supported and will be removed\n",
      "  warn(msg)\n",
      "C:\\Users\\redda\\AppData\\Roaming\\Python\\Python311\\site-packages\\openpyxl\\worksheet\\_reader.py:329: UserWarning: Data Validation extension is not supported and will be removed\n",
      "  warn(msg)\n"
     ]
    },
    {
     "name": "stdout",
     "output_type": "stream",
     "text": [
      "F:\\repos\\fisha\\莱新销售订单0826-0925\\发票模板-按销售订单和存货编码-件数\\发票模板-武汉开先文化用品有限责任公司-SO-2024-02-1051-件数.xlsx\n",
      "F:\\repos\\fisha\\莱新销售订单0826-0925\\发票模板-按销售订单和存货编码-件数\\发票模板-武汉今日成纸业有限公司-SO-2024-02-1052-件数.xlsx\n"
     ]
    },
    {
     "name": "stderr",
     "output_type": "stream",
     "text": [
      "C:\\Users\\redda\\AppData\\Roaming\\Python\\Python311\\site-packages\\openpyxl\\worksheet\\_reader.py:329: UserWarning: Data Validation extension is not supported and will be removed\n",
      "  warn(msg)\n",
      "C:\\Users\\redda\\AppData\\Roaming\\Python\\Python311\\site-packages\\openpyxl\\worksheet\\_reader.py:329: UserWarning: Data Validation extension is not supported and will be removed\n",
      "  warn(msg)\n"
     ]
    },
    {
     "name": "stdout",
     "output_type": "stream",
     "text": [
      "F:\\repos\\fisha\\莱新销售订单0826-0925\\发票模板-按销售订单和存货编码-件数\\发票模板-太木贸易（武汉）有限公司L-SO-2024-02-1053-件数.xlsx\n",
      "F:\\repos\\fisha\\莱新销售订单0826-0925\\发票模板-按销售订单和存货编码-件数\\发票模板-武汉乐得电子商务有限公司-SO-2024-02-1054-件数.xlsx\n",
      "F:\\repos\\fisha\\莱新销售订单0826-0925\\发票模板-按销售订单和存货编码-件数\\发票模板-重庆文优文化用品有限公司-SO-2024-02-1055-件数.xlsx\n"
     ]
    },
    {
     "name": "stderr",
     "output_type": "stream",
     "text": [
      "C:\\Users\\redda\\AppData\\Roaming\\Python\\Python311\\site-packages\\openpyxl\\worksheet\\_reader.py:329: UserWarning: Data Validation extension is not supported and will be removed\n",
      "  warn(msg)\n",
      "C:\\Users\\redda\\AppData\\Roaming\\Python\\Python311\\site-packages\\openpyxl\\worksheet\\_reader.py:329: UserWarning: Data Validation extension is not supported and will be removed\n",
      "  warn(msg)\n",
      "C:\\Users\\redda\\AppData\\Roaming\\Python\\Python311\\site-packages\\openpyxl\\worksheet\\_reader.py:329: UserWarning: Data Validation extension is not supported and will be removed\n",
      "  warn(msg)\n"
     ]
    },
    {
     "name": "stdout",
     "output_type": "stream",
     "text": [
      "F:\\repos\\fisha\\莱新销售订单0826-0925\\发票模板-按销售订单和存货编码-件数\\发票模板-铜仁市新辉创商贸有限公司-SO-2024-02-1056-件数.xlsx\n",
      "F:\\repos\\fisha\\莱新销售订单0826-0925\\发票模板-按销售订单和存货编码-件数\\发票模板-成都迪欣杨商贸有限公司-SO-2024-02-1057-件数.xlsx\n",
      "F:\\repos\\fisha\\莱新销售订单0826-0925\\发票模板-按销售订单和存货编码-件数\\发票模板-武汉开先文化用品有限责任公司-SO-2024-02-1058-件数.xlsx\n"
     ]
    },
    {
     "name": "stderr",
     "output_type": "stream",
     "text": [
      "C:\\Users\\redda\\AppData\\Roaming\\Python\\Python311\\site-packages\\openpyxl\\worksheet\\_reader.py:329: UserWarning: Data Validation extension is not supported and will be removed\n",
      "  warn(msg)\n",
      "C:\\Users\\redda\\AppData\\Roaming\\Python\\Python311\\site-packages\\openpyxl\\worksheet\\_reader.py:329: UserWarning: Data Validation extension is not supported and will be removed\n",
      "  warn(msg)\n"
     ]
    },
    {
     "name": "stdout",
     "output_type": "stream",
     "text": [
      "F:\\repos\\fisha\\莱新销售订单0826-0925\\发票模板-按销售订单和存货编码-件数\\发票模板-武汉市热脉文体用品有限公司-SO-2024-02-1059-件数.xlsx\n",
      "F:\\repos\\fisha\\莱新销售订单0826-0925\\发票模板-按销售订单和存货编码-件数\\发票模板-武汉金胜辉商贸有限公司-SO-2024-02-1060-件数.xlsx\n"
     ]
    },
    {
     "name": "stderr",
     "output_type": "stream",
     "text": [
      "C:\\Users\\redda\\AppData\\Roaming\\Python\\Python311\\site-packages\\openpyxl\\worksheet\\_reader.py:329: UserWarning: Data Validation extension is not supported and will be removed\n",
      "  warn(msg)\n",
      "C:\\Users\\redda\\AppData\\Roaming\\Python\\Python311\\site-packages\\openpyxl\\worksheet\\_reader.py:329: UserWarning: Data Validation extension is not supported and will be removed\n",
      "  warn(msg)\n",
      "C:\\Users\\redda\\AppData\\Roaming\\Python\\Python311\\site-packages\\openpyxl\\worksheet\\_reader.py:329: UserWarning: Data Validation extension is not supported and will be removed\n",
      "  warn(msg)\n"
     ]
    },
    {
     "name": "stdout",
     "output_type": "stream",
     "text": [
      "F:\\repos\\fisha\\莱新销售订单0826-0925\\发票模板-按销售订单和存货编码-件数\\发票模板-武汉金胜辉商贸有限公司-SO-2024-02-1061-件数.xlsx\n",
      "F:\\repos\\fisha\\莱新销售订单0826-0925\\发票模板-按销售订单和存货编码-件数\\发票模板-保定白沟彩顺商贸有限公司-SO-2024-02-1062-件数.xlsx\n",
      "F:\\repos\\fisha\\莱新销售订单0826-0925\\发票模板-按销售订单和存货编码-件数\\发票模板-西安垄裕商贸有限公司-SO-2024-02-1063-件数.xlsx\n"
     ]
    },
    {
     "name": "stderr",
     "output_type": "stream",
     "text": [
      "C:\\Users\\redda\\AppData\\Roaming\\Python\\Python311\\site-packages\\openpyxl\\worksheet\\_reader.py:329: UserWarning: Data Validation extension is not supported and will be removed\n",
      "  warn(msg)\n",
      "C:\\Users\\redda\\AppData\\Roaming\\Python\\Python311\\site-packages\\openpyxl\\worksheet\\_reader.py:329: UserWarning: Data Validation extension is not supported and will be removed\n",
      "  warn(msg)\n"
     ]
    },
    {
     "name": "stdout",
     "output_type": "stream",
     "text": [
      "F:\\repos\\fisha\\莱新销售订单0826-0925\\发票模板-按销售订单和存货编码-件数\\发票模板-西安博为文教用品有限公司-SO-2024-02-1064-件数.xlsx\n",
      "F:\\repos\\fisha\\莱新销售订单0826-0925\\发票模板-按销售订单和存货编码-件数\\发票模板-太木贸易（武汉）有限公司L-SO-2024-02-1065-件数.xlsx\n"
     ]
    },
    {
     "name": "stderr",
     "output_type": "stream",
     "text": [
      "C:\\Users\\redda\\AppData\\Roaming\\Python\\Python311\\site-packages\\openpyxl\\worksheet\\_reader.py:329: UserWarning: Data Validation extension is not supported and will be removed\n",
      "  warn(msg)\n",
      "C:\\Users\\redda\\AppData\\Roaming\\Python\\Python311\\site-packages\\openpyxl\\worksheet\\_reader.py:329: UserWarning: Data Validation extension is not supported and will be removed\n",
      "  warn(msg)\n"
     ]
    },
    {
     "name": "stdout",
     "output_type": "stream",
     "text": [
      "F:\\repos\\fisha\\莱新销售订单0826-0925\\发票模板-按销售订单和存货编码-件数\\发票模板-湖北昇耀商贸有限公司-SO-2024-02-1066-件数.xlsx\n",
      "F:\\repos\\fisha\\莱新销售订单0826-0925\\发票模板-按销售订单和存货编码-件数\\发票模板-鹤岗市超东选商贸有限公司-SO-2024-02-1067-件数.xlsx\n"
     ]
    },
    {
     "name": "stderr",
     "output_type": "stream",
     "text": [
      "C:\\Users\\redda\\AppData\\Roaming\\Python\\Python311\\site-packages\\openpyxl\\worksheet\\_reader.py:329: UserWarning: Data Validation extension is not supported and will be removed\n",
      "  warn(msg)\n",
      "C:\\Users\\redda\\AppData\\Roaming\\Python\\Python311\\site-packages\\openpyxl\\worksheet\\_reader.py:329: UserWarning: Data Validation extension is not supported and will be removed\n",
      "  warn(msg)\n"
     ]
    },
    {
     "name": "stdout",
     "output_type": "stream",
     "text": [
      "F:\\repos\\fisha\\莱新销售订单0826-0925\\发票模板-按销售订单和存货编码-件数\\发票模板-宁夏好时光商贸有限公司-SO-2024-02-1068-件数.xlsx\n",
      "F:\\repos\\fisha\\莱新销售订单0826-0925\\发票模板-按销售订单和存货编码-件数\\发票模板-安康市申达文化用品有限公司L-SO-2024-02-1069-件数.xlsx\n"
     ]
    },
    {
     "name": "stderr",
     "output_type": "stream",
     "text": [
      "C:\\Users\\redda\\AppData\\Roaming\\Python\\Python311\\site-packages\\openpyxl\\worksheet\\_reader.py:329: UserWarning: Data Validation extension is not supported and will be removed\n",
      "  warn(msg)\n",
      "C:\\Users\\redda\\AppData\\Roaming\\Python\\Python311\\site-packages\\openpyxl\\worksheet\\_reader.py:329: UserWarning: Data Validation extension is not supported and will be removed\n",
      "  warn(msg)\n",
      "C:\\Users\\redda\\AppData\\Roaming\\Python\\Python311\\site-packages\\openpyxl\\worksheet\\_reader.py:329: UserWarning: Data Validation extension is not supported and will be removed\n",
      "  warn(msg)\n"
     ]
    },
    {
     "name": "stdout",
     "output_type": "stream",
     "text": [
      "F:\\repos\\fisha\\莱新销售订单0826-0925\\发票模板-按销售订单和存货编码-件数\\发票模板-河南抬头喜办公用品有限公司S-SO-2024-02-1070-件数.xlsx\n",
      "F:\\repos\\fisha\\莱新销售订单0826-0925\\发票模板-按销售订单和存货编码-件数\\发票模板-成都皓天科技有限公司-SO-2024-02-1071-件数.xlsx\n"
     ]
    },
    {
     "name": "stderr",
     "output_type": "stream",
     "text": [
      "C:\\Users\\redda\\AppData\\Roaming\\Python\\Python311\\site-packages\\openpyxl\\worksheet\\_reader.py:329: UserWarning: Data Validation extension is not supported and will be removed\n",
      "  warn(msg)\n",
      "C:\\Users\\redda\\AppData\\Roaming\\Python\\Python311\\site-packages\\openpyxl\\worksheet\\_reader.py:329: UserWarning: Data Validation extension is not supported and will be removed\n",
      "  warn(msg)\n"
     ]
    },
    {
     "name": "stdout",
     "output_type": "stream",
     "text": [
      "F:\\repos\\fisha\\莱新销售订单0826-0925\\发票模板-按销售订单和存货编码-件数\\发票模板-南京好学爱玩信息科技有限公司-SO-2024-02-1072-件数.xlsx\n",
      "F:\\repos\\fisha\\莱新销售订单0826-0925\\发票模板-按销售订单和存货编码-件数\\发票模板-武汉市齐达利商贸有限公司-SO-2024-02-1073-件数.xlsx\n"
     ]
    },
    {
     "name": "stderr",
     "output_type": "stream",
     "text": [
      "C:\\Users\\redda\\AppData\\Roaming\\Python\\Python311\\site-packages\\openpyxl\\worksheet\\_reader.py:329: UserWarning: Data Validation extension is not supported and will be removed\n",
      "  warn(msg)\n"
     ]
    },
    {
     "name": "stdout",
     "output_type": "stream",
     "text": [
      "F:\\repos\\fisha\\莱新销售订单0826-0925\\发票模板-按销售订单和存货编码-件数\\发票模板-长沙市东麦文化有限公司-SO-2024-02-1074-件数.xlsx\n",
      "F:\\repos\\fisha\\莱新销售订单0826-0925\\发票模板-按销售订单和存货编码-件数\\发票模板-武汉金宸翰办公用品有限公司-SO-2024-02-1075-件数.xlsx\n"
     ]
    },
    {
     "name": "stderr",
     "output_type": "stream",
     "text": [
      "C:\\Users\\redda\\AppData\\Roaming\\Python\\Python311\\site-packages\\openpyxl\\worksheet\\_reader.py:329: UserWarning: Data Validation extension is not supported and will be removed\n",
      "  warn(msg)\n",
      "C:\\Users\\redda\\AppData\\Roaming\\Python\\Python311\\site-packages\\openpyxl\\worksheet\\_reader.py:329: UserWarning: Data Validation extension is not supported and will be removed\n",
      "  warn(msg)\n"
     ]
    },
    {
     "name": "stdout",
     "output_type": "stream",
     "text": [
      "F:\\repos\\fisha\\莱新销售订单0826-0925\\发票模板-按销售订单和存货编码-件数\\发票模板-武汉中威百联商贸有限公司-SO-2024-02-1076-件数.xlsx\n"
     ]
    },
    {
     "name": "stderr",
     "output_type": "stream",
     "text": [
      "C:\\Users\\redda\\AppData\\Roaming\\Python\\Python311\\site-packages\\openpyxl\\worksheet\\_reader.py:329: UserWarning: Data Validation extension is not supported and will be removed\n",
      "  warn(msg)\n",
      "C:\\Users\\redda\\AppData\\Roaming\\Python\\Python311\\site-packages\\openpyxl\\worksheet\\_reader.py:329: UserWarning: Data Validation extension is not supported and will be removed\n",
      "  warn(msg)\n"
     ]
    },
    {
     "name": "stdout",
     "output_type": "stream",
     "text": [
      "F:\\repos\\fisha\\莱新销售订单0826-0925\\发票模板-按销售订单和存货编码-件数\\发票模板-武汉静静舒文体用品有限公司-SO-2024-02-1077-件数.xlsx\n",
      "F:\\repos\\fisha\\莱新销售订单0826-0925\\发票模板-按销售订单和存货编码-件数\\发票模板-武汉市热脉文体用品有限公司-SO-2024-02-1078-件数.xlsx\n"
     ]
    },
    {
     "name": "stderr",
     "output_type": "stream",
     "text": [
      "C:\\Users\\redda\\AppData\\Roaming\\Python\\Python311\\site-packages\\openpyxl\\worksheet\\_reader.py:329: UserWarning: Data Validation extension is not supported and will be removed\n",
      "  warn(msg)\n",
      "C:\\Users\\redda\\AppData\\Roaming\\Python\\Python311\\site-packages\\openpyxl\\worksheet\\_reader.py:329: UserWarning: Data Validation extension is not supported and will be removed\n",
      "  warn(msg)\n"
     ]
    },
    {
     "name": "stdout",
     "output_type": "stream",
     "text": [
      "F:\\repos\\fisha\\莱新销售订单0826-0925\\发票模板-按销售订单和存货编码-件数\\发票模板-重庆文优文化用品有限公司-SO-2024-02-1079-件数.xlsx\n",
      "F:\\repos\\fisha\\莱新销售订单0826-0925\\发票模板-按销售订单和存货编码-件数\\发票模板-安康市申达文化用品有限公司L-SO-2024-02-1080-件数.xlsx\n"
     ]
    },
    {
     "name": "stderr",
     "output_type": "stream",
     "text": [
      "C:\\Users\\redda\\AppData\\Roaming\\Python\\Python311\\site-packages\\openpyxl\\worksheet\\_reader.py:329: UserWarning: Data Validation extension is not supported and will be removed\n",
      "  warn(msg)\n",
      "C:\\Users\\redda\\AppData\\Roaming\\Python\\Python311\\site-packages\\openpyxl\\worksheet\\_reader.py:329: UserWarning: Data Validation extension is not supported and will be removed\n",
      "  warn(msg)\n"
     ]
    },
    {
     "name": "stdout",
     "output_type": "stream",
     "text": [
      "F:\\repos\\fisha\\莱新销售订单0826-0925\\发票模板-按销售订单和存货编码-件数\\发票模板-安康市申达文化用品有限公司L-SO-2024-02-1081-件数.xlsx\n",
      "F:\\repos\\fisha\\莱新销售订单0826-0925\\发票模板-按销售订单和存货编码-件数\\发票模板-重庆文优文化用品有限公司-SO-2024-02-1082-件数.xlsx\n"
     ]
    },
    {
     "name": "stderr",
     "output_type": "stream",
     "text": [
      "C:\\Users\\redda\\AppData\\Roaming\\Python\\Python311\\site-packages\\openpyxl\\worksheet\\_reader.py:329: UserWarning: Data Validation extension is not supported and will be removed\n",
      "  warn(msg)\n",
      "C:\\Users\\redda\\AppData\\Roaming\\Python\\Python311\\site-packages\\openpyxl\\worksheet\\_reader.py:329: UserWarning: Data Validation extension is not supported and will be removed\n",
      "  warn(msg)\n"
     ]
    },
    {
     "name": "stdout",
     "output_type": "stream",
     "text": [
      "F:\\repos\\fisha\\莱新销售订单0826-0925\\发票模板-按销售订单和存货编码-件数\\发票模板-重庆文优文化用品有限公司-SO-2024-02-1083-件数.xlsx\n",
      "F:\\repos\\fisha\\莱新销售订单0826-0925\\发票模板-按销售订单和存货编码-件数\\发票模板-西安百花工贸有限公司-SO-2024-02-1084-件数.xlsx\n"
     ]
    },
    {
     "name": "stderr",
     "output_type": "stream",
     "text": [
      "C:\\Users\\redda\\AppData\\Roaming\\Python\\Python311\\site-packages\\openpyxl\\worksheet\\_reader.py:329: UserWarning: Data Validation extension is not supported and will be removed\n",
      "  warn(msg)\n",
      "C:\\Users\\redda\\AppData\\Roaming\\Python\\Python311\\site-packages\\openpyxl\\worksheet\\_reader.py:329: UserWarning: Data Validation extension is not supported and will be removed\n",
      "  warn(msg)\n"
     ]
    },
    {
     "name": "stdout",
     "output_type": "stream",
     "text": [
      "F:\\repos\\fisha\\莱新销售订单0826-0925\\发票模板-按销售订单和存货编码-件数\\发票模板-白玉县诚信办公用品销售有限公司-SO-2024-02-1085-件数.xlsx\n",
      "F:\\repos\\fisha\\莱新销售订单0826-0925\\发票模板-按销售订单和存货编码-件数\\发票模板-河南抬头喜办公用品有限公司S-SO-2024-02-1086-件数.xlsx\n"
     ]
    },
    {
     "name": "stderr",
     "output_type": "stream",
     "text": [
      "C:\\Users\\redda\\AppData\\Roaming\\Python\\Python311\\site-packages\\openpyxl\\worksheet\\_reader.py:329: UserWarning: Data Validation extension is not supported and will be removed\n",
      "  warn(msg)\n"
     ]
    },
    {
     "name": "stdout",
     "output_type": "stream",
     "text": [
      "F:\\repos\\fisha\\莱新销售订单0826-0925\\发票模板-按销售订单和存货编码-件数\\发票模板-长沙屈贾文化用品有限公司-SO-2024-02-1087-件数.xlsx\n",
      "F:\\repos\\fisha\\莱新销售订单0826-0925\\发票模板-按销售订单和存货编码-件数\\发票模板-湖北昇耀商贸有限公司-SO-2024-02-1088-件数.xlsx\n"
     ]
    },
    {
     "name": "stderr",
     "output_type": "stream",
     "text": [
      "C:\\Users\\redda\\AppData\\Roaming\\Python\\Python311\\site-packages\\openpyxl\\worksheet\\_reader.py:329: UserWarning: Data Validation extension is not supported and will be removed\n",
      "  warn(msg)\n",
      "C:\\Users\\redda\\AppData\\Roaming\\Python\\Python311\\site-packages\\openpyxl\\worksheet\\_reader.py:329: UserWarning: Data Validation extension is not supported and will be removed\n",
      "  warn(msg)\n"
     ]
    },
    {
     "name": "stdout",
     "output_type": "stream",
     "text": [
      "F:\\repos\\fisha\\莱新销售订单0826-0925\\发票模板-按销售订单和存货编码-件数\\发票模板-湖北昇耀商贸有限公司-SO-2024-02-1089-件数.xlsx\n",
      "F:\\repos\\fisha\\莱新销售订单0826-0925\\发票模板-按销售订单和存货编码-件数\\发票模板-衡阳市新五一文现代办公用品有限公司-SO-2024-02-1090-件数.xlsx\n"
     ]
    },
    {
     "name": "stderr",
     "output_type": "stream",
     "text": [
      "C:\\Users\\redda\\AppData\\Roaming\\Python\\Python311\\site-packages\\openpyxl\\worksheet\\_reader.py:329: UserWarning: Data Validation extension is not supported and will be removed\n",
      "  warn(msg)\n",
      "C:\\Users\\redda\\AppData\\Roaming\\Python\\Python311\\site-packages\\openpyxl\\worksheet\\_reader.py:329: UserWarning: Data Validation extension is not supported and will be removed\n",
      "  warn(msg)\n"
     ]
    },
    {
     "name": "stdout",
     "output_type": "stream",
     "text": [
      "F:\\repos\\fisha\\莱新销售订单0826-0925\\发票模板-按销售订单和存货编码-件数\\发票模板-南京好学爱玩信息科技有限公司-SO-2024-02-1091-件数.xlsx\n",
      "F:\\repos\\fisha\\莱新销售订单0826-0925\\发票模板-按销售订单和存货编码-件数\\发票模板-义乌市携诚文体用品有限公司-SO-2024-02-1092-件数.xlsx\n"
     ]
    },
    {
     "name": "stderr",
     "output_type": "stream",
     "text": [
      "C:\\Users\\redda\\AppData\\Roaming\\Python\\Python311\\site-packages\\openpyxl\\worksheet\\_reader.py:329: UserWarning: Data Validation extension is not supported and will be removed\n",
      "  warn(msg)\n",
      "C:\\Users\\redda\\AppData\\Roaming\\Python\\Python311\\site-packages\\openpyxl\\worksheet\\_reader.py:329: UserWarning: Data Validation extension is not supported and will be removed\n",
      "  warn(msg)\n"
     ]
    },
    {
     "name": "stdout",
     "output_type": "stream",
     "text": [
      "F:\\repos\\fisha\\莱新销售订单0826-0925\\发票模板-按销售订单和存货编码-件数\\发票模板-武汉今日成纸业有限公司-SO-2024-02-1093-件数.xlsx\n",
      "F:\\repos\\fisha\\莱新销售订单0826-0925\\发票模板-按销售订单和存货编码-件数\\发票模板-厦门同心成商贸有限公司-SO-2024-02-1094-件数.xlsx\n"
     ]
    },
    {
     "name": "stderr",
     "output_type": "stream",
     "text": [
      "C:\\Users\\redda\\AppData\\Roaming\\Python\\Python311\\site-packages\\openpyxl\\worksheet\\_reader.py:329: UserWarning: Data Validation extension is not supported and will be removed\n",
      "  warn(msg)\n",
      "C:\\Users\\redda\\AppData\\Roaming\\Python\\Python311\\site-packages\\openpyxl\\worksheet\\_reader.py:329: UserWarning: Data Validation extension is not supported and will be removed\n",
      "  warn(msg)\n"
     ]
    },
    {
     "name": "stdout",
     "output_type": "stream",
     "text": [
      "F:\\repos\\fisha\\莱新销售订单0826-0925\\发票模板-按销售订单和存货编码-件数\\发票模板-武汉嘉迪亚商贸有限公司-SO-2024-02-1095-件数.xlsx\n"
     ]
    },
    {
     "name": "stderr",
     "output_type": "stream",
     "text": [
      "C:\\Users\\redda\\AppData\\Roaming\\Python\\Python311\\site-packages\\openpyxl\\worksheet\\_reader.py:329: UserWarning: Data Validation extension is not supported and will be removed\n",
      "  warn(msg)\n",
      "C:\\Users\\redda\\AppData\\Roaming\\Python\\Python311\\site-packages\\openpyxl\\worksheet\\_reader.py:329: UserWarning: Data Validation extension is not supported and will be removed\n",
      "  warn(msg)\n"
     ]
    },
    {
     "name": "stdout",
     "output_type": "stream",
     "text": [
      "F:\\repos\\fisha\\莱新销售订单0826-0925\\发票模板-按销售订单和存货编码-件数\\发票模板-成都乐尚怡智商贸有限公司-SO-2024-02-1096-件数.xlsx\n",
      "F:\\repos\\fisha\\莱新销售订单0826-0925\\发票模板-按销售订单和存货编码-件数\\发票模板-义乌市博迅文体用品有限公司-SO-2024-02-1097-件数.xlsx\n"
     ]
    },
    {
     "name": "stderr",
     "output_type": "stream",
     "text": [
      "C:\\Users\\redda\\AppData\\Roaming\\Python\\Python311\\site-packages\\openpyxl\\worksheet\\_reader.py:329: UserWarning: Data Validation extension is not supported and will be removed\n",
      "  warn(msg)\n",
      "C:\\Users\\redda\\AppData\\Roaming\\Python\\Python311\\site-packages\\openpyxl\\worksheet\\_reader.py:329: UserWarning: Data Validation extension is not supported and will be removed\n",
      "  warn(msg)\n"
     ]
    },
    {
     "name": "stdout",
     "output_type": "stream",
     "text": [
      "F:\\repos\\fisha\\莱新销售订单0826-0925\\发票模板-按销售订单和存货编码-件数\\发票模板-吉林耐斯商贸有限公司-SO-2024-02-1098-件数.xlsx\n",
      "F:\\repos\\fisha\\莱新销售订单0826-0925\\发票模板-按销售订单和存货编码-件数\\发票模板-泸州佳之彩商贸有限公司-SO-2024-02-1099-件数.xlsx\n"
     ]
    },
    {
     "name": "stderr",
     "output_type": "stream",
     "text": [
      "C:\\Users\\redda\\AppData\\Roaming\\Python\\Python311\\site-packages\\openpyxl\\worksheet\\_reader.py:329: UserWarning: Data Validation extension is not supported and will be removed\n",
      "  warn(msg)\n"
     ]
    },
    {
     "name": "stdout",
     "output_type": "stream",
     "text": [
      "F:\\repos\\fisha\\莱新销售订单0826-0925\\发票模板-按销售订单和存货编码-件数\\发票模板-河南抬头喜办公用品有限公司S-SO-2024-02-1100-件数.xlsx\n"
     ]
    },
    {
     "name": "stderr",
     "output_type": "stream",
     "text": [
      "C:\\Users\\redda\\AppData\\Roaming\\Python\\Python311\\site-packages\\openpyxl\\worksheet\\_reader.py:329: UserWarning: Data Validation extension is not supported and will be removed\n",
      "  warn(msg)\n"
     ]
    },
    {
     "name": "stdout",
     "output_type": "stream",
     "text": [
      "F:\\repos\\fisha\\莱新销售订单0826-0925\\发票模板-按销售订单和存货编码-件数\\发票模板-武汉今日成纸业有限公司-SO-2024-02-1101-件数.xlsx\n"
     ]
    },
    {
     "name": "stderr",
     "output_type": "stream",
     "text": [
      "C:\\Users\\redda\\AppData\\Roaming\\Python\\Python311\\site-packages\\openpyxl\\worksheet\\_reader.py:329: UserWarning: Data Validation extension is not supported and will be removed\n",
      "  warn(msg)\n"
     ]
    },
    {
     "name": "stdout",
     "output_type": "stream",
     "text": [
      "F:\\repos\\fisha\\莱新销售订单0826-0925\\发票模板-按销售订单和存货编码-件数\\发票模板-太木贸易（武汉）有限公司L-SO-2024-02-1102-件数.xlsx\n"
     ]
    },
    {
     "name": "stderr",
     "output_type": "stream",
     "text": [
      "C:\\Users\\redda\\AppData\\Roaming\\Python\\Python311\\site-packages\\openpyxl\\worksheet\\_reader.py:329: UserWarning: Data Validation extension is not supported and will be removed\n",
      "  warn(msg)\n"
     ]
    },
    {
     "name": "stdout",
     "output_type": "stream",
     "text": [
      "F:\\repos\\fisha\\莱新销售订单0826-0925\\发票模板-按销售订单和存货编码-件数\\发票模板-武汉开先文化用品有限责任公司-SO-2024-02-1103-件数.xlsx\n"
     ]
    },
    {
     "name": "stderr",
     "output_type": "stream",
     "text": [
      "C:\\Users\\redda\\AppData\\Roaming\\Python\\Python311\\site-packages\\openpyxl\\worksheet\\_reader.py:329: UserWarning: Data Validation extension is not supported and will be removed\n",
      "  warn(msg)\n"
     ]
    },
    {
     "name": "stdout",
     "output_type": "stream",
     "text": [
      "F:\\repos\\fisha\\莱新销售订单0826-0925\\发票模板-按销售订单和存货编码-件数\\发票模板-武汉金胜辉商贸有限公司-SO-2024-02-1105-件数.xlsx\n",
      "F:\\repos\\fisha\\莱新销售订单0826-0925\\发票模板-按销售订单和存货编码-件数\\发票模板-武汉金宸翰办公用品有限公司1-SO-2024-02-1106-件数.xlsx\n"
     ]
    },
    {
     "name": "stderr",
     "output_type": "stream",
     "text": [
      "C:\\Users\\redda\\AppData\\Roaming\\Python\\Python311\\site-packages\\openpyxl\\worksheet\\_reader.py:329: UserWarning: Data Validation extension is not supported and will be removed\n",
      "  warn(msg)\n",
      "C:\\Users\\redda\\AppData\\Roaming\\Python\\Python311\\site-packages\\openpyxl\\worksheet\\_reader.py:329: UserWarning: Data Validation extension is not supported and will be removed\n",
      "  warn(msg)\n"
     ]
    },
    {
     "name": "stdout",
     "output_type": "stream",
     "text": [
      "F:\\repos\\fisha\\莱新销售订单0826-0925\\发票模板-按销售订单和存货编码-件数\\发票模板-武汉市热脉文体用品有限公司-SO-2024-02-1107-件数.xlsx\n",
      "F:\\repos\\fisha\\莱新销售订单0826-0925\\发票模板-按销售订单和存货编码-件数\\发票模板-武汉优聚优品贸易有限公司-SO-2024-02-1108-件数.xlsx\n"
     ]
    },
    {
     "name": "stderr",
     "output_type": "stream",
     "text": [
      "C:\\Users\\redda\\AppData\\Roaming\\Python\\Python311\\site-packages\\openpyxl\\worksheet\\_reader.py:329: UserWarning: Data Validation extension is not supported and will be removed\n",
      "  warn(msg)\n",
      "C:\\Users\\redda\\AppData\\Roaming\\Python\\Python311\\site-packages\\openpyxl\\worksheet\\_reader.py:329: UserWarning: Data Validation extension is not supported and will be removed\n",
      "  warn(msg)\n"
     ]
    },
    {
     "name": "stdout",
     "output_type": "stream",
     "text": [
      "F:\\repos\\fisha\\莱新销售订单0826-0925\\发票模板-按销售订单和存货编码-件数\\发票模板-武汉今日成纸业有限公司-SO-2024-02-1109-件数.xlsx\n"
     ]
    },
    {
     "name": "stderr",
     "output_type": "stream",
     "text": [
      "C:\\Users\\redda\\AppData\\Roaming\\Python\\Python311\\site-packages\\openpyxl\\worksheet\\_reader.py:329: UserWarning: Data Validation extension is not supported and will be removed\n",
      "  warn(msg)\n",
      "C:\\Users\\redda\\AppData\\Roaming\\Python\\Python311\\site-packages\\openpyxl\\worksheet\\_reader.py:329: UserWarning: Data Validation extension is not supported and will be removed\n",
      "  warn(msg)\n"
     ]
    },
    {
     "name": "stdout",
     "output_type": "stream",
     "text": [
      "F:\\repos\\fisha\\莱新销售订单0826-0925\\发票模板-按销售订单和存货编码-件数\\发票模板-武汉邦度办公文具有限公司-SO-2024-02-1110-件数.xlsx\n",
      "F:\\repos\\fisha\\莱新销售订单0826-0925\\发票模板-按销售订单和存货编码-件数\\发票模板-武汉金宸翰办公用品有限公司1-SO-2024-02-1111-件数.xlsx\n"
     ]
    },
    {
     "name": "stderr",
     "output_type": "stream",
     "text": [
      "C:\\Users\\redda\\AppData\\Roaming\\Python\\Python311\\site-packages\\openpyxl\\worksheet\\_reader.py:329: UserWarning: Data Validation extension is not supported and will be removed\n",
      "  warn(msg)\n",
      "C:\\Users\\redda\\AppData\\Roaming\\Python\\Python311\\site-packages\\openpyxl\\worksheet\\_reader.py:329: UserWarning: Data Validation extension is not supported and will be removed\n",
      "  warn(msg)\n"
     ]
    },
    {
     "name": "stdout",
     "output_type": "stream",
     "text": [
      "F:\\repos\\fisha\\莱新销售订单0826-0925\\发票模板-按销售订单和存货编码-件数\\发票模板-湖北昇耀商贸有限公司-SO-2024-02-1112-件数.xlsx\n",
      "F:\\repos\\fisha\\莱新销售订单0826-0925\\发票模板-按销售订单和存货编码-件数\\发票模板-武汉米圣贸易有限公司-SO-2024-02-1113-件数.xlsx\n"
     ]
    },
    {
     "name": "stderr",
     "output_type": "stream",
     "text": [
      "C:\\Users\\redda\\AppData\\Roaming\\Python\\Python311\\site-packages\\openpyxl\\worksheet\\_reader.py:329: UserWarning: Data Validation extension is not supported and will be removed\n",
      "  warn(msg)\n",
      "C:\\Users\\redda\\AppData\\Roaming\\Python\\Python311\\site-packages\\openpyxl\\worksheet\\_reader.py:329: UserWarning: Data Validation extension is not supported and will be removed\n",
      "  warn(msg)\n"
     ]
    },
    {
     "name": "stdout",
     "output_type": "stream",
     "text": [
      "F:\\repos\\fisha\\莱新销售订单0826-0925\\发票模板-按销售订单和存货编码-件数\\发票模板-南宁市小木屋文化用品有限公司-SO-2024-02-1114-件数.xlsx\n",
      "F:\\repos\\fisha\\莱新销售订单0826-0925\\发票模板-按销售订单和存货编码-件数\\发票模板-桂林竞升文化用品有限公司-SO-2024-02-1115-件数.xlsx\n"
     ]
    },
    {
     "name": "stderr",
     "output_type": "stream",
     "text": [
      "C:\\Users\\redda\\AppData\\Roaming\\Python\\Python311\\site-packages\\openpyxl\\worksheet\\_reader.py:329: UserWarning: Data Validation extension is not supported and will be removed\n",
      "  warn(msg)\n",
      "C:\\Users\\redda\\AppData\\Roaming\\Python\\Python311\\site-packages\\openpyxl\\worksheet\\_reader.py:329: UserWarning: Data Validation extension is not supported and will be removed\n",
      "  warn(msg)\n"
     ]
    },
    {
     "name": "stdout",
     "output_type": "stream",
     "text": [
      "F:\\repos\\fisha\\莱新销售订单0826-0925\\发票模板-按销售订单和存货编码-件数\\发票模板-长沙市东麦文化有限公司-SO-2024-02-1116-件数.xlsx\n",
      "F:\\repos\\fisha\\莱新销售订单0826-0925\\发票模板-按销售订单和存货编码-件数\\发票模板-西安华坤集采供应链管理有限公司-SO-2024-02-1117-件数.xlsx\n"
     ]
    },
    {
     "name": "stderr",
     "output_type": "stream",
     "text": [
      "C:\\Users\\redda\\AppData\\Roaming\\Python\\Python311\\site-packages\\openpyxl\\worksheet\\_reader.py:329: UserWarning: Data Validation extension is not supported and will be removed\n",
      "  warn(msg)\n",
      "C:\\Users\\redda\\AppData\\Roaming\\Python\\Python311\\site-packages\\openpyxl\\worksheet\\_reader.py:329: UserWarning: Data Validation extension is not supported and will be removed\n",
      "  warn(msg)\n"
     ]
    },
    {
     "name": "stdout",
     "output_type": "stream",
     "text": [
      "F:\\repos\\fisha\\莱新销售订单0826-0925\\发票模板-按销售订单和存货编码-件数\\发票模板-河南抬头喜办公用品有限公司S-SO-2024-02-1118-件数.xlsx\n",
      "F:\\repos\\fisha\\莱新销售订单0826-0925\\发票模板-按销售订单和存货编码-件数\\发票模板-南宁市小木屋文化用品有限公司-SO-2024-02-1119-件数.xlsx\n"
     ]
    },
    {
     "name": "stderr",
     "output_type": "stream",
     "text": [
      "C:\\Users\\redda\\AppData\\Roaming\\Python\\Python311\\site-packages\\openpyxl\\worksheet\\_reader.py:329: UserWarning: Data Validation extension is not supported and will be removed\n",
      "  warn(msg)\n"
     ]
    },
    {
     "name": "stdout",
     "output_type": "stream",
     "text": [
      "F:\\repos\\fisha\\莱新销售订单0826-0925\\发票模板-按销售订单和存货编码-件数\\发票模板-白玉县诚信办公用品销售有限公司-SO-2024-02-1120-件数.xlsx\n",
      "F:\\repos\\fisha\\莱新销售订单0826-0925\\发票模板-按销售订单和存货编码-件数\\发票模板-湖北昇耀商贸有限公司-SO-2024-02-1121-件数.xlsx\n"
     ]
    },
    {
     "name": "stderr",
     "output_type": "stream",
     "text": [
      "C:\\Users\\redda\\AppData\\Roaming\\Python\\Python311\\site-packages\\openpyxl\\worksheet\\_reader.py:329: UserWarning: Data Validation extension is not supported and will be removed\n",
      "  warn(msg)\n",
      "C:\\Users\\redda\\AppData\\Roaming\\Python\\Python311\\site-packages\\openpyxl\\worksheet\\_reader.py:329: UserWarning: Data Validation extension is not supported and will be removed\n",
      "  warn(msg)\n"
     ]
    },
    {
     "name": "stdout",
     "output_type": "stream",
     "text": [
      "F:\\repos\\fisha\\莱新销售订单0826-0925\\发票模板-按销售订单和存货编码-件数\\发票模板-武汉市齐达利商贸有限公司-SO-2024-02-1122-件数.xlsx\n",
      "F:\\repos\\fisha\\莱新销售订单0826-0925\\发票模板-按销售订单和存货编码-件数\\发票模板-武汉中威百联商贸有限公司-SO-2024-02-1123-件数.xlsx\n"
     ]
    },
    {
     "name": "stderr",
     "output_type": "stream",
     "text": [
      "C:\\Users\\redda\\AppData\\Roaming\\Python\\Python311\\site-packages\\openpyxl\\worksheet\\_reader.py:329: UserWarning: Data Validation extension is not supported and will be removed\n",
      "  warn(msg)\n",
      "C:\\Users\\redda\\AppData\\Roaming\\Python\\Python311\\site-packages\\openpyxl\\worksheet\\_reader.py:329: UserWarning: Data Validation extension is not supported and will be removed\n",
      "  warn(msg)\n"
     ]
    },
    {
     "name": "stdout",
     "output_type": "stream",
     "text": [
      "F:\\repos\\fisha\\莱新销售订单0826-0925\\发票模板-按销售订单和存货编码-件数\\发票模板-武汉开先文化用品有限责任公司-SO-2024-02-1124-件数.xlsx\n",
      "F:\\repos\\fisha\\莱新销售订单0826-0925\\发票模板-按销售订单和存货编码-件数\\发票模板-武汉优聚优品贸易有限公司-SO-2024-02-1125-件数.xlsx\n"
     ]
    },
    {
     "name": "stderr",
     "output_type": "stream",
     "text": [
      "C:\\Users\\redda\\AppData\\Roaming\\Python\\Python311\\site-packages\\openpyxl\\worksheet\\_reader.py:329: UserWarning: Data Validation extension is not supported and will be removed\n",
      "  warn(msg)\n",
      "C:\\Users\\redda\\AppData\\Roaming\\Python\\Python311\\site-packages\\openpyxl\\worksheet\\_reader.py:329: UserWarning: Data Validation extension is not supported and will be removed\n",
      "  warn(msg)\n"
     ]
    },
    {
     "name": "stdout",
     "output_type": "stream",
     "text": [
      "F:\\repos\\fisha\\莱新销售订单0826-0925\\发票模板-按销售订单和存货编码-件数\\发票模板-白玉县诚信办公用品销售有限公司-SO-2024-02-1126-件数.xlsx\n"
     ]
    },
    {
     "name": "stderr",
     "output_type": "stream",
     "text": [
      "C:\\Users\\redda\\AppData\\Roaming\\Python\\Python311\\site-packages\\openpyxl\\worksheet\\_reader.py:329: UserWarning: Data Validation extension is not supported and will be removed\n",
      "  warn(msg)\n",
      "C:\\Users\\redda\\AppData\\Roaming\\Python\\Python311\\site-packages\\openpyxl\\worksheet\\_reader.py:329: UserWarning: Data Validation extension is not supported and will be removed\n",
      "  warn(msg)\n"
     ]
    },
    {
     "name": "stdout",
     "output_type": "stream",
     "text": [
      "F:\\repos\\fisha\\莱新销售订单0826-0925\\发票模板-按销售订单和存货编码-件数\\发票模板-江西立信办公商贸有限公司-SO-2024-02-1127-件数.xlsx\n",
      "F:\\repos\\fisha\\莱新销售订单0826-0925\\发票模板-按销售订单和存货编码-件数\\发票模板-成都杨万平-SO-2024-02-1128-件数.xlsx\n"
     ]
    },
    {
     "name": "stderr",
     "output_type": "stream",
     "text": [
      "C:\\Users\\redda\\AppData\\Roaming\\Python\\Python311\\site-packages\\openpyxl\\worksheet\\_reader.py:329: UserWarning: Data Validation extension is not supported and will be removed\n",
      "  warn(msg)\n",
      "C:\\Users\\redda\\AppData\\Roaming\\Python\\Python311\\site-packages\\openpyxl\\worksheet\\_reader.py:329: UserWarning: Data Validation extension is not supported and will be removed\n",
      "  warn(msg)\n"
     ]
    },
    {
     "name": "stdout",
     "output_type": "stream",
     "text": [
      "F:\\repos\\fisha\\莱新销售订单0826-0925\\发票模板-按销售订单和存货编码-件数\\发票模板-金牛区昌宏优品商贸部-SO-2024-02-1129-件数.xlsx\n",
      "F:\\repos\\fisha\\莱新销售订单0826-0925\\发票模板-按销售订单和存货编码-件数\\发票模板-芜湖市建斌商贸有限公司-SO-2024-02-1130-件数.xlsx\n"
     ]
    },
    {
     "name": "stderr",
     "output_type": "stream",
     "text": [
      "C:\\Users\\redda\\AppData\\Roaming\\Python\\Python311\\site-packages\\openpyxl\\worksheet\\_reader.py:329: UserWarning: Data Validation extension is not supported and will be removed\n",
      "  warn(msg)\n"
     ]
    },
    {
     "name": "stdout",
     "output_type": "stream",
     "text": [
      "F:\\repos\\fisha\\莱新销售订单0826-0925\\发票模板-按销售订单和存货编码-件数\\发票模板-贵州三鑫文化用品有限公司-SO-2024-02-1131-件数.xlsx\n"
     ]
    },
    {
     "name": "stderr",
     "output_type": "stream",
     "text": [
      "C:\\Users\\redda\\AppData\\Roaming\\Python\\Python311\\site-packages\\openpyxl\\worksheet\\_reader.py:329: UserWarning: Data Validation extension is not supported and will be removed\n",
      "  warn(msg)\n",
      "C:\\Users\\redda\\AppData\\Roaming\\Python\\Python311\\site-packages\\openpyxl\\worksheet\\_reader.py:329: UserWarning: Data Validation extension is not supported and will be removed\n",
      "  warn(msg)\n"
     ]
    },
    {
     "name": "stdout",
     "output_type": "stream",
     "text": [
      "F:\\repos\\fisha\\莱新销售订单0826-0925\\发票模板-按销售订单和存货编码-件数\\发票模板-太木贸易（武汉）有限公司L-SO-2024-02-1132-件数.xlsx\n",
      "F:\\repos\\fisha\\莱新销售订单0826-0925\\发票模板-按销售订单和存货编码-件数\\发票模板-成都迪欣杨商贸有限公司-SO-2024-02-1133-件数.xlsx\n",
      "F:\\repos\\fisha\\莱新销售订单0826-0925\\发票模板-按销售订单和存货编码-件数\\发票模板-武汉嘉迪亚商贸有限公司-SO-2024-02-1134-件数.xlsx\n"
     ]
    },
    {
     "name": "stderr",
     "output_type": "stream",
     "text": [
      "C:\\Users\\redda\\AppData\\Roaming\\Python\\Python311\\site-packages\\openpyxl\\worksheet\\_reader.py:329: UserWarning: Data Validation extension is not supported and will be removed\n",
      "  warn(msg)\n",
      "C:\\Users\\redda\\AppData\\Roaming\\Python\\Python311\\site-packages\\openpyxl\\worksheet\\_reader.py:329: UserWarning: Data Validation extension is not supported and will be removed\n",
      "  warn(msg)\n",
      "C:\\Users\\redda\\AppData\\Roaming\\Python\\Python311\\site-packages\\openpyxl\\worksheet\\_reader.py:329: UserWarning: Data Validation extension is not supported and will be removed\n",
      "  warn(msg)\n"
     ]
    },
    {
     "name": "stdout",
     "output_type": "stream",
     "text": [
      "F:\\repos\\fisha\\莱新销售订单0826-0925\\发票模板-按销售订单和存货编码-件数\\发票模板-成都集创萧商贸有限公司-SO-2024-02-1135-件数.xlsx\n",
      "F:\\repos\\fisha\\莱新销售订单0826-0925\\发票模板-按销售订单和存货编码-件数\\发票模板-湖北昇耀商贸有限公司-SO-2024-02-1136-件数.xlsx\n",
      "F:\\repos\\fisha\\莱新销售订单0826-0925\\发票模板-按销售订单和存货编码-件数\\发票模板-遵义龚碧清-SO-2024-02-1137-件数.xlsx\n"
     ]
    },
    {
     "name": "stderr",
     "output_type": "stream",
     "text": [
      "C:\\Users\\redda\\AppData\\Roaming\\Python\\Python311\\site-packages\\openpyxl\\worksheet\\_reader.py:329: UserWarning: Data Validation extension is not supported and will be removed\n",
      "  warn(msg)\n",
      "C:\\Users\\redda\\AppData\\Roaming\\Python\\Python311\\site-packages\\openpyxl\\worksheet\\_reader.py:329: UserWarning: Data Validation extension is not supported and will be removed\n",
      "  warn(msg)\n"
     ]
    },
    {
     "name": "stdout",
     "output_type": "stream",
     "text": [
      "F:\\repos\\fisha\\莱新销售订单0826-0925\\发票模板-按销售订单和存货编码-件数\\发票模板-义乌范光洪-SO-2024-02-1138-件数.xlsx\n"
     ]
    },
    {
     "name": "stderr",
     "output_type": "stream",
     "text": [
      "C:\\Users\\redda\\AppData\\Roaming\\Python\\Python311\\site-packages\\openpyxl\\worksheet\\_reader.py:329: UserWarning: Data Validation extension is not supported and will be removed\n",
      "  warn(msg)\n"
     ]
    },
    {
     "name": "stdout",
     "output_type": "stream",
     "text": [
      "F:\\repos\\fisha\\莱新销售订单0826-0925\\发票模板-按销售订单和存货编码-件数\\发票模板-芜湖迈斯广告传媒有限公司-SO-2024-02-1139-件数.xlsx\n",
      "F:\\repos\\fisha\\莱新销售订单0826-0925\\发票模板-按销售订单和存货编码-件数\\发票模板-成都杨万平-SO-2024-02-1140-件数.xlsx\n"
     ]
    },
    {
     "name": "stderr",
     "output_type": "stream",
     "text": [
      "C:\\Users\\redda\\AppData\\Roaming\\Python\\Python311\\site-packages\\openpyxl\\worksheet\\_reader.py:329: UserWarning: Data Validation extension is not supported and will be removed\n",
      "  warn(msg)\n",
      "C:\\Users\\redda\\AppData\\Roaming\\Python\\Python311\\site-packages\\openpyxl\\worksheet\\_reader.py:329: UserWarning: Data Validation extension is not supported and will be removed\n",
      "  warn(msg)\n",
      "C:\\Users\\redda\\AppData\\Roaming\\Python\\Python311\\site-packages\\openpyxl\\worksheet\\_reader.py:329: UserWarning: Data Validation extension is not supported and will be removed\n",
      "  warn(msg)\n"
     ]
    },
    {
     "name": "stdout",
     "output_type": "stream",
     "text": [
      "F:\\repos\\fisha\\莱新销售订单0826-0925\\发票模板-按销售订单和存货编码-件数\\发票模板-渝中区齐佳文具经营部-SO-2024-02-1141-件数.xlsx\n",
      "F:\\repos\\fisha\\莱新销售订单0826-0925\\发票模板-按销售订单和存货编码-件数\\发票模板-沈阳贾术申-SO-2024-02-1142-件数.xlsx\n"
     ]
    },
    {
     "name": "stderr",
     "output_type": "stream",
     "text": [
      "C:\\Users\\redda\\AppData\\Roaming\\Python\\Python311\\site-packages\\openpyxl\\worksheet\\_reader.py:329: UserWarning: Data Validation extension is not supported and will be removed\n",
      "  warn(msg)\n"
     ]
    },
    {
     "name": "stdout",
     "output_type": "stream",
     "text": [
      "F:\\repos\\fisha\\莱新销售订单0826-0925\\发票模板-按销售订单和存货编码-件数\\发票模板-柳州市笔创贸易有限公司-SO-2024-02-1143-件数.xlsx\n",
      "F:\\repos\\fisha\\莱新销售订单0826-0925\\发票模板-按销售订单和存货编码-件数\\发票模板-河南抬头喜办公用品有限公司S-SO-2024-02-1144-件数.xlsx\n"
     ]
    },
    {
     "name": "stderr",
     "output_type": "stream",
     "text": [
      "C:\\Users\\redda\\AppData\\Roaming\\Python\\Python311\\site-packages\\openpyxl\\worksheet\\_reader.py:329: UserWarning: Data Validation extension is not supported and will be removed\n",
      "  warn(msg)\n",
      "C:\\Users\\redda\\AppData\\Roaming\\Python\\Python311\\site-packages\\openpyxl\\worksheet\\_reader.py:329: UserWarning: Data Validation extension is not supported and will be removed\n",
      "  warn(msg)\n",
      "C:\\Users\\redda\\AppData\\Roaming\\Python\\Python311\\site-packages\\openpyxl\\worksheet\\_reader.py:329: UserWarning: Data Validation extension is not supported and will be removed\n",
      "  warn(msg)\n"
     ]
    },
    {
     "name": "stdout",
     "output_type": "stream",
     "text": [
      "F:\\repos\\fisha\\莱新销售订单0826-0925\\发票模板-按销售订单和存货编码-件数\\发票模板-南宁市佑顺商贸有限责任公司-SO-2024-02-1145-件数.xlsx\n",
      "F:\\repos\\fisha\\莱新销售订单0826-0925\\发票模板-按销售订单和存货编码-件数\\发票模板-武汉市金宇文化用品有限责任公司-SO-2024-02-1146-件数.xlsx\n"
     ]
    },
    {
     "name": "stderr",
     "output_type": "stream",
     "text": [
      "C:\\Users\\redda\\AppData\\Roaming\\Python\\Python311\\site-packages\\openpyxl\\worksheet\\_reader.py:329: UserWarning: Data Validation extension is not supported and will be removed\n",
      "  warn(msg)\n"
     ]
    },
    {
     "name": "stdout",
     "output_type": "stream",
     "text": [
      "F:\\repos\\fisha\\莱新销售订单0826-0925\\发票模板-按销售订单和存货编码-件数\\发票模板-桂林竞升文化用品有限公司-SO-2024-02-1147-件数.xlsx\n"
     ]
    },
    {
     "name": "stderr",
     "output_type": "stream",
     "text": [
      "C:\\Users\\redda\\AppData\\Roaming\\Python\\Python311\\site-packages\\openpyxl\\worksheet\\_reader.py:329: UserWarning: Data Validation extension is not supported and will be removed\n",
      "  warn(msg)\n",
      "C:\\Users\\redda\\AppData\\Roaming\\Python\\Python311\\site-packages\\openpyxl\\worksheet\\_reader.py:329: UserWarning: Data Validation extension is not supported and will be removed\n",
      "  warn(msg)\n"
     ]
    },
    {
     "name": "stdout",
     "output_type": "stream",
     "text": [
      "F:\\repos\\fisha\\莱新销售订单0826-0925\\发票模板-按销售订单和存货编码-件数\\发票模板-武汉金宸翰办公用品有限公司-SO-2024-02-1148-件数.xlsx\n",
      "F:\\repos\\fisha\\莱新销售订单0826-0925\\发票模板-按销售订单和存货编码-件数\\发票模板-武汉开先文化用品有限责任公司-SO-2024-02-1149-件数.xlsx\n"
     ]
    },
    {
     "name": "stderr",
     "output_type": "stream",
     "text": [
      "C:\\Users\\redda\\AppData\\Roaming\\Python\\Python311\\site-packages\\openpyxl\\worksheet\\_reader.py:329: UserWarning: Data Validation extension is not supported and will be removed\n",
      "  warn(msg)\n",
      "C:\\Users\\redda\\AppData\\Roaming\\Python\\Python311\\site-packages\\openpyxl\\worksheet\\_reader.py:329: UserWarning: Data Validation extension is not supported and will be removed\n",
      "  warn(msg)\n"
     ]
    },
    {
     "name": "stdout",
     "output_type": "stream",
     "text": [
      "F:\\repos\\fisha\\莱新销售订单0826-0925\\发票模板-按销售订单和存货编码-件数\\发票模板-武汉中威百联商贸有限公司-SO-2024-02-1150-件数.xlsx\n",
      "F:\\repos\\fisha\\莱新销售订单0826-0925\\发票模板-按销售订单和存货编码-件数\\发票模板-武汉静静舒文体用品有限公司-SO-2024-02-1151-件数.xlsx\n"
     ]
    },
    {
     "name": "stderr",
     "output_type": "stream",
     "text": [
      "C:\\Users\\redda\\AppData\\Roaming\\Python\\Python311\\site-packages\\openpyxl\\worksheet\\_reader.py:329: UserWarning: Data Validation extension is not supported and will be removed\n",
      "  warn(msg)\n"
     ]
    },
    {
     "name": "stdout",
     "output_type": "stream",
     "text": [
      "F:\\repos\\fisha\\莱新销售订单0826-0925\\发票模板-按销售订单和存货编码-件数\\发票模板-武汉今日成纸业有限公司-SO-2024-02-1152-件数.xlsx\n",
      "F:\\repos\\fisha\\莱新销售订单0826-0925\\发票模板-按销售订单和存货编码-件数\\发票模板-武汉金胜辉商贸有限公司-SO-2024-02-1153-件数.xlsx\n"
     ]
    },
    {
     "name": "stderr",
     "output_type": "stream",
     "text": [
      "C:\\Users\\redda\\AppData\\Roaming\\Python\\Python311\\site-packages\\openpyxl\\worksheet\\_reader.py:329: UserWarning: Data Validation extension is not supported and will be removed\n",
      "  warn(msg)\n",
      "C:\\Users\\redda\\AppData\\Roaming\\Python\\Python311\\site-packages\\openpyxl\\worksheet\\_reader.py:329: UserWarning: Data Validation extension is not supported and will be removed\n",
      "  warn(msg)\n",
      "C:\\Users\\redda\\AppData\\Roaming\\Python\\Python311\\site-packages\\openpyxl\\worksheet\\_reader.py:329: UserWarning: Data Validation extension is not supported and will be removed\n",
      "  warn(msg)\n"
     ]
    },
    {
     "name": "stdout",
     "output_type": "stream",
     "text": [
      "F:\\repos\\fisha\\莱新销售订单0826-0925\\发票模板-按销售订单和存货编码-件数\\发票模板-湖北昇耀商贸有限公司-SO-2024-02-1154-件数.xlsx\n",
      "F:\\repos\\fisha\\莱新销售订单0826-0925\\发票模板-按销售订单和存货编码-件数\\发票模板-武汉嘉迪亚商贸有限公司-SO-2024-02-1155-件数.xlsx\n"
     ]
    },
    {
     "name": "stderr",
     "output_type": "stream",
     "text": [
      "C:\\Users\\redda\\AppData\\Roaming\\Python\\Python311\\site-packages\\openpyxl\\worksheet\\_reader.py:329: UserWarning: Data Validation extension is not supported and will be removed\n",
      "  warn(msg)\n"
     ]
    },
    {
     "name": "stdout",
     "output_type": "stream",
     "text": [
      "F:\\repos\\fisha\\莱新销售订单0826-0925\\发票模板-按销售订单和存货编码-件数\\发票模板-河南抬头喜办公用品有限公司S-SO-2024-02-1156-件数.xlsx\n"
     ]
    },
    {
     "name": "stderr",
     "output_type": "stream",
     "text": [
      "C:\\Users\\redda\\AppData\\Roaming\\Python\\Python311\\site-packages\\openpyxl\\worksheet\\_reader.py:329: UserWarning: Data Validation extension is not supported and will be removed\n",
      "  warn(msg)\n",
      "C:\\Users\\redda\\AppData\\Roaming\\Python\\Python311\\site-packages\\openpyxl\\worksheet\\_reader.py:329: UserWarning: Data Validation extension is not supported and will be removed\n",
      "  warn(msg)\n"
     ]
    },
    {
     "name": "stdout",
     "output_type": "stream",
     "text": [
      "F:\\repos\\fisha\\莱新销售订单0826-0925\\发票模板-按销售订单和存货编码-件数\\发票模板-成都乐尚怡智商贸有限公司-SO-2024-02-1157-件数.xlsx\n",
      "F:\\repos\\fisha\\莱新销售订单0826-0925\\发票模板-按销售订单和存货编码-件数\\发票模板-涵江徐东明-SO-2024-02-1158-件数.xlsx\n",
      "F:\\repos\\fisha\\莱新销售订单0826-0925\\发票模板-按销售订单和存货编码-件数\\发票模板-义乌范光洪-SO-2024-02-1159-件数.xlsx\n"
     ]
    },
    {
     "name": "stderr",
     "output_type": "stream",
     "text": [
      "C:\\Users\\redda\\AppData\\Roaming\\Python\\Python311\\site-packages\\openpyxl\\worksheet\\_reader.py:329: UserWarning: Data Validation extension is not supported and will be removed\n",
      "  warn(msg)\n",
      "C:\\Users\\redda\\AppData\\Roaming\\Python\\Python311\\site-packages\\openpyxl\\worksheet\\_reader.py:329: UserWarning: Data Validation extension is not supported and will be removed\n",
      "  warn(msg)\n"
     ]
    },
    {
     "name": "stdout",
     "output_type": "stream",
     "text": [
      "F:\\repos\\fisha\\莱新销售订单0826-0925\\发票模板-按销售订单和存货编码-件数\\发票模板-吉林耐斯商贸有限公司-SO-2024-02-1160-件数.xlsx\n"
     ]
    },
    {
     "name": "stderr",
     "output_type": "stream",
     "text": [
      "C:\\Users\\redda\\AppData\\Roaming\\Python\\Python311\\site-packages\\openpyxl\\worksheet\\_reader.py:329: UserWarning: Data Validation extension is not supported and will be removed\n",
      "  warn(msg)\n"
     ]
    },
    {
     "name": "stdout",
     "output_type": "stream",
     "text": [
      "F:\\repos\\fisha\\莱新销售订单0826-0925\\发票模板-按销售订单和存货编码-件数\\发票模板-云南非常文化用品有限公司-SO-2024-02-1161-件数.xlsx\n"
     ]
    },
    {
     "name": "stderr",
     "output_type": "stream",
     "text": [
      "C:\\Users\\redda\\AppData\\Roaming\\Python\\Python311\\site-packages\\openpyxl\\worksheet\\_reader.py:329: UserWarning: Data Validation extension is not supported and will be removed\n",
      "  warn(msg)\n",
      "C:\\Users\\redda\\AppData\\Roaming\\Python\\Python311\\site-packages\\openpyxl\\worksheet\\_reader.py:329: UserWarning: Data Validation extension is not supported and will be removed\n",
      "  warn(msg)\n"
     ]
    },
    {
     "name": "stdout",
     "output_type": "stream",
     "text": [
      "F:\\repos\\fisha\\莱新销售订单0826-0925\\发票模板-按销售订单和存货编码-件数\\发票模板-贵州雅天琪商贸有限公司-SO-2024-02-1162-件数.xlsx\n",
      "F:\\repos\\fisha\\莱新销售订单0826-0925\\发票模板-按销售订单和存货编码-件数\\发票模板-河南抬头喜办公用品有限公司S-SO-2024-02-1163-件数.xlsx\n"
     ]
    },
    {
     "name": "stderr",
     "output_type": "stream",
     "text": [
      "C:\\Users\\redda\\AppData\\Roaming\\Python\\Python311\\site-packages\\openpyxl\\worksheet\\_reader.py:329: UserWarning: Data Validation extension is not supported and will be removed\n",
      "  warn(msg)\n"
     ]
    },
    {
     "name": "stdout",
     "output_type": "stream",
     "text": [
      "F:\\repos\\fisha\\莱新销售订单0826-0925\\发票模板-按销售订单和存货编码-件数\\发票模板-武汉中威百联商贸有限公司-SO-2024-02-1164-件数.xlsx\n"
     ]
    },
    {
     "name": "stderr",
     "output_type": "stream",
     "text": [
      "C:\\Users\\redda\\AppData\\Roaming\\Python\\Python311\\site-packages\\openpyxl\\worksheet\\_reader.py:329: UserWarning: Data Validation extension is not supported and will be removed\n",
      "  warn(msg)\n",
      "C:\\Users\\redda\\AppData\\Roaming\\Python\\Python311\\site-packages\\openpyxl\\worksheet\\_reader.py:329: UserWarning: Data Validation extension is not supported and will be removed\n",
      "  warn(msg)\n"
     ]
    },
    {
     "name": "stdout",
     "output_type": "stream",
     "text": [
      "F:\\repos\\fisha\\莱新销售订单0826-0925\\发票模板-按销售订单和存货编码-件数\\发票模板-武汉开先文化用品有限责任公司-SO-2024-02-1165-件数.xlsx\n",
      "F:\\repos\\fisha\\莱新销售订单0826-0925\\发票模板-按销售订单和存货编码-件数\\发票模板-武汉市齐达利商贸有限公司-SO-2024-02-1166-件数.xlsx\n"
     ]
    },
    {
     "name": "stderr",
     "output_type": "stream",
     "text": [
      "C:\\Users\\redda\\AppData\\Roaming\\Python\\Python311\\site-packages\\openpyxl\\worksheet\\_reader.py:329: UserWarning: Data Validation extension is not supported and will be removed\n",
      "  warn(msg)\n",
      "C:\\Users\\redda\\AppData\\Roaming\\Python\\Python311\\site-packages\\openpyxl\\worksheet\\_reader.py:329: UserWarning: Data Validation extension is not supported and will be removed\n",
      "  warn(msg)\n"
     ]
    },
    {
     "name": "stdout",
     "output_type": "stream",
     "text": [
      "F:\\repos\\fisha\\莱新销售订单0826-0925\\发票模板-按销售订单和存货编码-件数\\发票模板-湖北昇耀商贸有限公司-SO-2024-02-1167-件数.xlsx\n",
      "F:\\repos\\fisha\\莱新销售订单0826-0925\\发票模板-按销售订单和存货编码-件数\\发票模板-金牛区昌宏优品商贸部-SO-2024-02-1168-件数.xlsx\n"
     ]
    },
    {
     "name": "stderr",
     "output_type": "stream",
     "text": [
      "C:\\Users\\redda\\AppData\\Roaming\\Python\\Python311\\site-packages\\openpyxl\\worksheet\\_reader.py:329: UserWarning: Data Validation extension is not supported and will be removed\n",
      "  warn(msg)\n"
     ]
    },
    {
     "name": "stdout",
     "output_type": "stream",
     "text": [
      "F:\\repos\\fisha\\莱新销售订单0826-0925\\发票模板-按销售订单和存货编码-件数\\发票模板-河南益尔商贸有限公司-SO-2024-02-1169-件数.xlsx\n",
      "F:\\repos\\fisha\\莱新销售订单0826-0925\\发票模板-按销售订单和存货编码-件数\\发票模板-武汉中威百联商贸有限公司-SO-2024-02-1170-件数.xlsx\n"
     ]
    },
    {
     "name": "stderr",
     "output_type": "stream",
     "text": [
      "C:\\Users\\redda\\AppData\\Roaming\\Python\\Python311\\site-packages\\openpyxl\\worksheet\\_reader.py:329: UserWarning: Data Validation extension is not supported and will be removed\n",
      "  warn(msg)\n",
      "C:\\Users\\redda\\AppData\\Roaming\\Python\\Python311\\site-packages\\openpyxl\\worksheet\\_reader.py:329: UserWarning: Data Validation extension is not supported and will be removed\n",
      "  warn(msg)\n"
     ]
    },
    {
     "name": "stdout",
     "output_type": "stream",
     "text": [
      "F:\\repos\\fisha\\莱新销售订单0826-0925\\发票模板-按销售订单和存货编码-件数\\发票模板-武汉金宸翰办公用品有限公司1-SO-2024-02-1171-件数.xlsx\n",
      "F:\\repos\\fisha\\莱新销售订单0826-0925\\发票模板-按销售订单和存货编码-件数\\发票模板-武汉市热脉文体用品有限公司-SO-2024-02-1172-件数.xlsx\n"
     ]
    },
    {
     "name": "stderr",
     "output_type": "stream",
     "text": [
      "C:\\Users\\redda\\AppData\\Roaming\\Python\\Python311\\site-packages\\openpyxl\\worksheet\\_reader.py:329: UserWarning: Data Validation extension is not supported and will be removed\n",
      "  warn(msg)\n",
      "C:\\Users\\redda\\AppData\\Roaming\\Python\\Python311\\site-packages\\openpyxl\\worksheet\\_reader.py:329: UserWarning: Data Validation extension is not supported and will be removed\n",
      "  warn(msg)\n"
     ]
    },
    {
     "name": "stdout",
     "output_type": "stream",
     "text": [
      "F:\\repos\\fisha\\莱新销售订单0826-0925\\发票模板-按销售订单和存货编码-件数\\发票模板-南京好学爱玩信息科技有限公司-SO-2024-02-1173-件数.xlsx\n"
     ]
    },
    {
     "name": "stderr",
     "output_type": "stream",
     "text": [
      "C:\\Users\\redda\\AppData\\Roaming\\Python\\Python311\\site-packages\\openpyxl\\worksheet\\_reader.py:329: UserWarning: Data Validation extension is not supported and will be removed\n",
      "  warn(msg)\n",
      "C:\\Users\\redda\\AppData\\Roaming\\Python\\Python311\\site-packages\\openpyxl\\worksheet\\_reader.py:329: UserWarning: Data Validation extension is not supported and will be removed\n",
      "  warn(msg)\n"
     ]
    },
    {
     "name": "stdout",
     "output_type": "stream",
     "text": [
      "F:\\repos\\fisha\\莱新销售订单0826-0925\\发票模板-按销售订单和存货编码-件数\\发票模板-河南梓亦桐商贸有限公司-SO-2024-02-1174-件数.xlsx\n",
      "F:\\repos\\fisha\\莱新销售订单0826-0925\\发票模板-按销售订单和存货编码-件数\\发票模板-大庆市智胜文具办公设备有限公司-SO-2024-02-1175-件数.xlsx\n"
     ]
    },
    {
     "name": "stderr",
     "output_type": "stream",
     "text": [
      "C:\\Users\\redda\\AppData\\Roaming\\Python\\Python311\\site-packages\\openpyxl\\worksheet\\_reader.py:329: UserWarning: Data Validation extension is not supported and will be removed\n",
      "  warn(msg)\n",
      "C:\\Users\\redda\\AppData\\Roaming\\Python\\Python311\\site-packages\\openpyxl\\worksheet\\_reader.py:329: UserWarning: Data Validation extension is not supported and will be removed\n",
      "  warn(msg)\n"
     ]
    },
    {
     "name": "stdout",
     "output_type": "stream",
     "text": [
      "F:\\repos\\fisha\\莱新销售订单0826-0925\\发票模板-按销售订单和存货编码-件数\\发票模板-西安博为文教用品有限公司-SO-2024-02-1176-件数.xlsx\n",
      "F:\\repos\\fisha\\莱新销售订单0826-0925\\发票模板-按销售订单和存货编码-件数\\发票模板-兰州艾迪商贸有限公司-SO-2024-02-1177-件数.xlsx\n"
     ]
    },
    {
     "name": "stderr",
     "output_type": "stream",
     "text": [
      "C:\\Users\\redda\\AppData\\Roaming\\Python\\Python311\\site-packages\\openpyxl\\worksheet\\_reader.py:329: UserWarning: Data Validation extension is not supported and will be removed\n",
      "  warn(msg)\n",
      "C:\\Users\\redda\\AppData\\Roaming\\Python\\Python311\\site-packages\\openpyxl\\worksheet\\_reader.py:329: UserWarning: Data Validation extension is not supported and will be removed\n",
      "  warn(msg)\n"
     ]
    },
    {
     "name": "stdout",
     "output_type": "stream",
     "text": [
      "F:\\repos\\fisha\\莱新销售订单0826-0925\\发票模板-按销售订单和存货编码-件数\\发票模板-徐州天天用文具用品有限公司-SO-2024-02-1178-件数.xlsx\n",
      "F:\\repos\\fisha\\莱新销售订单0826-0925\\发票模板-按销售订单和存货编码-件数\\发票模板-湖北盛辉物流有限公司-SO-2024-02-1179-件数.xlsx\n",
      "F:\\repos\\fisha\\莱新销售订单0826-0925\\发票模板-按销售订单和存货编码-件数\\发票模板-南京好学爱玩信息科技有限公司-SO-2024-02-1180-件数.xlsx\n"
     ]
    },
    {
     "name": "stderr",
     "output_type": "stream",
     "text": [
      "C:\\Users\\redda\\AppData\\Roaming\\Python\\Python311\\site-packages\\openpyxl\\worksheet\\_reader.py:329: UserWarning: Data Validation extension is not supported and will be removed\n",
      "  warn(msg)\n",
      "C:\\Users\\redda\\AppData\\Roaming\\Python\\Python311\\site-packages\\openpyxl\\worksheet\\_reader.py:329: UserWarning: Data Validation extension is not supported and will be removed\n",
      "  warn(msg)\n"
     ]
    },
    {
     "name": "stdout",
     "output_type": "stream",
     "text": [
      "F:\\repos\\fisha\\莱新销售订单0826-0925\\发票模板-按销售订单和存货编码-件数\\发票模板-山东金灵羊电子商务有限公司-SO-2024-02-1181-件数.xlsx\n"
     ]
    },
    {
     "name": "stderr",
     "output_type": "stream",
     "text": [
      "C:\\Users\\redda\\AppData\\Roaming\\Python\\Python311\\site-packages\\openpyxl\\worksheet\\_reader.py:329: UserWarning: Data Validation extension is not supported and will be removed\n",
      "  warn(msg)\n"
     ]
    },
    {
     "name": "stdout",
     "output_type": "stream",
     "text": [
      "F:\\repos\\fisha\\莱新销售订单0826-0925\\发票模板-按销售订单和存货编码-件数\\发票模板-西安百花工贸有限公司-SO-2024-02-1183-件数.xlsx\n"
     ]
    },
    {
     "name": "stderr",
     "output_type": "stream",
     "text": [
      "C:\\Users\\redda\\AppData\\Roaming\\Python\\Python311\\site-packages\\openpyxl\\worksheet\\_reader.py:329: UserWarning: Data Validation extension is not supported and will be removed\n",
      "  warn(msg)\n"
     ]
    },
    {
     "name": "stdout",
     "output_type": "stream",
     "text": [
      "F:\\repos\\fisha\\莱新销售订单0826-0925\\发票模板-按销售订单和存货编码-件数\\发票模板-芜湖迈斯广告传媒有限公司-SO-2024-02-1196-件数.xlsx\n"
     ]
    },
    {
     "name": "stderr",
     "output_type": "stream",
     "text": [
      "C:\\Users\\redda\\AppData\\Roaming\\Python\\Python311\\site-packages\\openpyxl\\worksheet\\_reader.py:329: UserWarning: Data Validation extension is not supported and will be removed\n",
      "  warn(msg)\n"
     ]
    },
    {
     "name": "stdout",
     "output_type": "stream",
     "text": [
      "F:\\repos\\fisha\\莱新销售订单0826-0925\\发票模板-按销售订单和存货编码-件数\\发票模板-芜湖迈斯广告传媒有限公司-SO-2024-02-1197-件数.xlsx\n"
     ]
    },
    {
     "name": "stderr",
     "output_type": "stream",
     "text": [
      "C:\\Users\\redda\\AppData\\Roaming\\Python\\Python311\\site-packages\\openpyxl\\worksheet\\_reader.py:329: UserWarning: Data Validation extension is not supported and will be removed\n",
      "  warn(msg)\n"
     ]
    },
    {
     "name": "stdout",
     "output_type": "stream",
     "text": [
      "F:\\repos\\fisha\\莱新销售订单0826-0925\\发票模板-按销售订单和存货编码-件数\\发票模板-兴义市鸿图锐意办公商贸有限公司-SO-2024-02-1198-件数.xlsx\n"
     ]
    },
    {
     "name": "stderr",
     "output_type": "stream",
     "text": [
      "C:\\Users\\redda\\AppData\\Roaming\\Python\\Python311\\site-packages\\openpyxl\\worksheet\\_reader.py:329: UserWarning: Data Validation extension is not supported and will be removed\n",
      "  warn(msg)\n"
     ]
    },
    {
     "name": "stdout",
     "output_type": "stream",
     "text": [
      "F:\\repos\\fisha\\莱新销售订单0826-0925\\发票模板-按销售订单和存货编码-件数\\发票模板-遵义王强-SO-2024-02-1220-件数.xlsx\n"
     ]
    },
    {
     "name": "stderr",
     "output_type": "stream",
     "text": [
      "C:\\Users\\redda\\AppData\\Roaming\\Python\\Python311\\site-packages\\openpyxl\\worksheet\\_reader.py:329: UserWarning: Data Validation extension is not supported and will be removed\n",
      "  warn(msg)\n",
      "C:\\Users\\redda\\AppData\\Roaming\\Python\\Python311\\site-packages\\openpyxl\\worksheet\\_reader.py:329: UserWarning: Data Validation extension is not supported and will be removed\n",
      "  warn(msg)\n",
      "C:\\Users\\redda\\AppData\\Roaming\\Python\\Python311\\site-packages\\openpyxl\\worksheet\\_reader.py:329: UserWarning: Data Validation extension is not supported and will be removed\n",
      "  warn(msg)\n",
      "C:\\Users\\redda\\AppData\\Roaming\\Python\\Python311\\site-packages\\openpyxl\\worksheet\\_reader.py:329: UserWarning: Data Validation extension is not supported and will be removed\n",
      "  warn(msg)\n",
      "C:\\Users\\redda\\AppData\\Roaming\\Python\\Python311\\site-packages\\openpyxl\\worksheet\\_reader.py:329: UserWarning: Data Validation extension is not supported and will be removed\n",
      "  warn(msg)\n",
      "C:\\Users\\redda\\AppData\\Roaming\\Python\\Python311\\site-packages\\openpyxl\\worksheet\\_reader.py:329: UserWarning: Data Validation extension is not supported and will be removed\n",
      "  warn(msg)\n",
      "C:\\Users\\redda\\AppData\\Roaming\\Python\\Python311\\site-packages\\openpyxl\\worksheet\\_reader.py:329: UserWarning: Data Validation extension is not supported and will be removed\n",
      "  warn(msg)\n",
      "C:\\Users\\redda\\AppData\\Roaming\\Python\\Python311\\site-packages\\openpyxl\\worksheet\\_reader.py:329: UserWarning: Data Validation extension is not supported and will be removed\n",
      "  warn(msg)\n",
      "C:\\Users\\redda\\AppData\\Roaming\\Python\\Python311\\site-packages\\openpyxl\\worksheet\\_reader.py:329: UserWarning: Data Validation extension is not supported and will be removed\n",
      "  warn(msg)\n",
      "C:\\Users\\redda\\AppData\\Roaming\\Python\\Python311\\site-packages\\openpyxl\\worksheet\\_reader.py:329: UserWarning: Data Validation extension is not supported and will be removed\n",
      "  warn(msg)\n",
      "C:\\Users\\redda\\AppData\\Roaming\\Python\\Python311\\site-packages\\openpyxl\\worksheet\\_reader.py:329: UserWarning: Data Validation extension is not supported and will be removed\n",
      "  warn(msg)\n",
      "C:\\Users\\redda\\AppData\\Roaming\\Python\\Python311\\site-packages\\openpyxl\\worksheet\\_reader.py:329: UserWarning: Data Validation extension is not supported and will be removed\n",
      "  warn(msg)\n",
      "C:\\Users\\redda\\AppData\\Roaming\\Python\\Python311\\site-packages\\openpyxl\\worksheet\\_reader.py:329: UserWarning: Data Validation extension is not supported and will be removed\n",
      "  warn(msg)\n",
      "C:\\Users\\redda\\AppData\\Roaming\\Python\\Python311\\site-packages\\openpyxl\\worksheet\\_reader.py:329: UserWarning: Data Validation extension is not supported and will be removed\n",
      "  warn(msg)\n",
      "C:\\Users\\redda\\AppData\\Roaming\\Python\\Python311\\site-packages\\openpyxl\\worksheet\\_reader.py:329: UserWarning: Data Validation extension is not supported and will be removed\n",
      "  warn(msg)\n",
      "C:\\Users\\redda\\AppData\\Roaming\\Python\\Python311\\site-packages\\openpyxl\\worksheet\\_reader.py:329: UserWarning: Data Validation extension is not supported and will be removed\n",
      "  warn(msg)\n",
      "C:\\Users\\redda\\AppData\\Roaming\\Python\\Python311\\site-packages\\openpyxl\\worksheet\\_reader.py:329: UserWarning: Data Validation extension is not supported and will be removed\n",
      "  warn(msg)\n",
      "C:\\Users\\redda\\AppData\\Roaming\\Python\\Python311\\site-packages\\openpyxl\\worksheet\\_reader.py:329: UserWarning: Data Validation extension is not supported and will be removed\n",
      "  warn(msg)\n",
      "C:\\Users\\redda\\AppData\\Roaming\\Python\\Python311\\site-packages\\openpyxl\\worksheet\\_reader.py:329: UserWarning: Data Validation extension is not supported and will be removed\n",
      "  warn(msg)\n",
      "C:\\Users\\redda\\AppData\\Roaming\\Python\\Python311\\site-packages\\openpyxl\\worksheet\\_reader.py:329: UserWarning: Data Validation extension is not supported and will be removed\n",
      "  warn(msg)\n",
      "C:\\Users\\redda\\AppData\\Roaming\\Python\\Python311\\site-packages\\openpyxl\\worksheet\\_reader.py:329: UserWarning: Data Validation extension is not supported and will be removed\n",
      "  warn(msg)\n",
      "C:\\Users\\redda\\AppData\\Roaming\\Python\\Python311\\site-packages\\openpyxl\\worksheet\\_reader.py:329: UserWarning: Data Validation extension is not supported and will be removed\n",
      "  warn(msg)\n",
      "C:\\Users\\redda\\AppData\\Roaming\\Python\\Python311\\site-packages\\openpyxl\\worksheet\\_reader.py:329: UserWarning: Data Validation extension is not supported and will be removed\n",
      "  warn(msg)\n",
      "C:\\Users\\redda\\AppData\\Roaming\\Python\\Python311\\site-packages\\openpyxl\\worksheet\\_reader.py:329: UserWarning: Data Validation extension is not supported and will be removed\n",
      "  warn(msg)\n",
      "C:\\Users\\redda\\AppData\\Roaming\\Python\\Python311\\site-packages\\openpyxl\\worksheet\\_reader.py:329: UserWarning: Data Validation extension is not supported and will be removed\n",
      "  warn(msg)\n",
      "C:\\Users\\redda\\AppData\\Roaming\\Python\\Python311\\site-packages\\openpyxl\\worksheet\\_reader.py:329: UserWarning: Data Validation extension is not supported and will be removed\n",
      "  warn(msg)\n",
      "C:\\Users\\redda\\AppData\\Roaming\\Python\\Python311\\site-packages\\openpyxl\\worksheet\\_reader.py:329: UserWarning: Data Validation extension is not supported and will be removed\n",
      "  warn(msg)\n",
      "C:\\Users\\redda\\AppData\\Roaming\\Python\\Python311\\site-packages\\openpyxl\\worksheet\\_reader.py:329: UserWarning: Data Validation extension is not supported and will be removed\n",
      "  warn(msg)\n",
      "C:\\Users\\redda\\AppData\\Roaming\\Python\\Python311\\site-packages\\openpyxl\\worksheet\\_reader.py:329: UserWarning: Data Validation extension is not supported and will be removed\n",
      "  warn(msg)\n",
      "C:\\Users\\redda\\AppData\\Roaming\\Python\\Python311\\site-packages\\openpyxl\\worksheet\\_reader.py:329: UserWarning: Data Validation extension is not supported and will be removed\n",
      "  warn(msg)\n",
      "C:\\Users\\redda\\AppData\\Roaming\\Python\\Python311\\site-packages\\openpyxl\\worksheet\\_reader.py:329: UserWarning: Data Validation extension is not supported and will be removed\n",
      "  warn(msg)\n",
      "C:\\Users\\redda\\AppData\\Roaming\\Python\\Python311\\site-packages\\openpyxl\\worksheet\\_reader.py:329: UserWarning: Data Validation extension is not supported and will be removed\n",
      "  warn(msg)\n",
      "C:\\Users\\redda\\AppData\\Roaming\\Python\\Python311\\site-packages\\openpyxl\\worksheet\\_reader.py:329: UserWarning: Data Validation extension is not supported and will be removed\n",
      "  warn(msg)\n",
      "C:\\Users\\redda\\AppData\\Roaming\\Python\\Python311\\site-packages\\openpyxl\\worksheet\\_reader.py:329: UserWarning: Data Validation extension is not supported and will be removed\n",
      "  warn(msg)\n",
      "C:\\Users\\redda\\AppData\\Roaming\\Python\\Python311\\site-packages\\openpyxl\\worksheet\\_reader.py:329: UserWarning: Data Validation extension is not supported and will be removed\n",
      "  warn(msg)\n",
      "C:\\Users\\redda\\AppData\\Roaming\\Python\\Python311\\site-packages\\openpyxl\\worksheet\\_reader.py:329: UserWarning: Data Validation extension is not supported and will be removed\n",
      "  warn(msg)\n",
      "C:\\Users\\redda\\AppData\\Roaming\\Python\\Python311\\site-packages\\openpyxl\\worksheet\\_reader.py:329: UserWarning: Data Validation extension is not supported and will be removed\n",
      "  warn(msg)\n",
      "C:\\Users\\redda\\AppData\\Roaming\\Python\\Python311\\site-packages\\openpyxl\\worksheet\\_reader.py:329: UserWarning: Data Validation extension is not supported and will be removed\n",
      "  warn(msg)\n",
      "C:\\Users\\redda\\AppData\\Roaming\\Python\\Python311\\site-packages\\openpyxl\\worksheet\\_reader.py:329: UserWarning: Data Validation extension is not supported and will be removed\n",
      "  warn(msg)\n",
      "C:\\Users\\redda\\AppData\\Roaming\\Python\\Python311\\site-packages\\openpyxl\\worksheet\\_reader.py:329: UserWarning: Data Validation extension is not supported and will be removed\n",
      "  warn(msg)\n",
      "C:\\Users\\redda\\AppData\\Roaming\\Python\\Python311\\site-packages\\openpyxl\\worksheet\\_reader.py:329: UserWarning: Data Validation extension is not supported and will be removed\n",
      "  warn(msg)\n",
      "C:\\Users\\redda\\AppData\\Roaming\\Python\\Python311\\site-packages\\openpyxl\\worksheet\\_reader.py:329: UserWarning: Data Validation extension is not supported and will be removed\n",
      "  warn(msg)\n",
      "C:\\Users\\redda\\AppData\\Roaming\\Python\\Python311\\site-packages\\openpyxl\\worksheet\\_reader.py:329: UserWarning: Data Validation extension is not supported and will be removed\n",
      "  warn(msg)\n",
      "C:\\Users\\redda\\AppData\\Roaming\\Python\\Python311\\site-packages\\openpyxl\\worksheet\\_reader.py:329: UserWarning: Data Validation extension is not supported and will be removed\n",
      "  warn(msg)\n",
      "C:\\Users\\redda\\AppData\\Roaming\\Python\\Python311\\site-packages\\openpyxl\\worksheet\\_reader.py:329: UserWarning: Data Validation extension is not supported and will be removed\n",
      "  warn(msg)\n",
      "C:\\Users\\redda\\AppData\\Roaming\\Python\\Python311\\site-packages\\openpyxl\\worksheet\\_reader.py:329: UserWarning: Data Validation extension is not supported and will be removed\n",
      "  warn(msg)\n",
      "C:\\Users\\redda\\AppData\\Roaming\\Python\\Python311\\site-packages\\openpyxl\\worksheet\\_reader.py:329: UserWarning: Data Validation extension is not supported and will be removed\n",
      "  warn(msg)\n",
      "C:\\Users\\redda\\AppData\\Roaming\\Python\\Python311\\site-packages\\openpyxl\\worksheet\\_reader.py:329: UserWarning: Data Validation extension is not supported and will be removed\n",
      "  warn(msg)\n",
      "C:\\Users\\redda\\AppData\\Roaming\\Python\\Python311\\site-packages\\openpyxl\\worksheet\\_reader.py:329: UserWarning: Data Validation extension is not supported and will be removed\n",
      "  warn(msg)\n",
      "C:\\Users\\redda\\AppData\\Roaming\\Python\\Python311\\site-packages\\openpyxl\\worksheet\\_reader.py:329: UserWarning: Data Validation extension is not supported and will be removed\n",
      "  warn(msg)\n",
      "C:\\Users\\redda\\AppData\\Roaming\\Python\\Python311\\site-packages\\openpyxl\\worksheet\\_reader.py:329: UserWarning: Data Validation extension is not supported and will be removed\n",
      "  warn(msg)\n",
      "C:\\Users\\redda\\AppData\\Roaming\\Python\\Python311\\site-packages\\openpyxl\\worksheet\\_reader.py:329: UserWarning: Data Validation extension is not supported and will be removed\n",
      "  warn(msg)\n",
      "C:\\Users\\redda\\AppData\\Roaming\\Python\\Python311\\site-packages\\openpyxl\\worksheet\\_reader.py:329: UserWarning: Data Validation extension is not supported and will be removed\n",
      "  warn(msg)\n",
      "C:\\Users\\redda\\AppData\\Roaming\\Python\\Python311\\site-packages\\openpyxl\\worksheet\\_reader.py:329: UserWarning: Data Validation extension is not supported and will be removed\n",
      "  warn(msg)\n",
      "C:\\Users\\redda\\AppData\\Roaming\\Python\\Python311\\site-packages\\openpyxl\\worksheet\\_reader.py:329: UserWarning: Data Validation extension is not supported and will be removed\n",
      "  warn(msg)\n",
      "C:\\Users\\redda\\AppData\\Roaming\\Python\\Python311\\site-packages\\openpyxl\\worksheet\\_reader.py:329: UserWarning: Data Validation extension is not supported and will be removed\n",
      "  warn(msg)\n",
      "C:\\Users\\redda\\AppData\\Roaming\\Python\\Python311\\site-packages\\openpyxl\\worksheet\\_reader.py:329: UserWarning: Data Validation extension is not supported and will be removed\n",
      "  warn(msg)\n",
      "C:\\Users\\redda\\AppData\\Roaming\\Python\\Python311\\site-packages\\openpyxl\\worksheet\\_reader.py:329: UserWarning: Data Validation extension is not supported and will be removed\n",
      "  warn(msg)\n",
      "C:\\Users\\redda\\AppData\\Roaming\\Python\\Python311\\site-packages\\openpyxl\\worksheet\\_reader.py:329: UserWarning: Data Validation extension is not supported and will be removed\n",
      "  warn(msg)\n",
      "C:\\Users\\redda\\AppData\\Roaming\\Python\\Python311\\site-packages\\openpyxl\\worksheet\\_reader.py:329: UserWarning: Data Validation extension is not supported and will be removed\n",
      "  warn(msg)\n",
      "C:\\Users\\redda\\AppData\\Roaming\\Python\\Python311\\site-packages\\openpyxl\\worksheet\\_reader.py:329: UserWarning: Data Validation extension is not supported and will be removed\n",
      "  warn(msg)\n",
      "C:\\Users\\redda\\AppData\\Roaming\\Python\\Python311\\site-packages\\openpyxl\\worksheet\\_reader.py:329: UserWarning: Data Validation extension is not supported and will be removed\n",
      "  warn(msg)\n",
      "C:\\Users\\redda\\AppData\\Roaming\\Python\\Python311\\site-packages\\openpyxl\\worksheet\\_reader.py:329: UserWarning: Data Validation extension is not supported and will be removed\n",
      "  warn(msg)\n",
      "C:\\Users\\redda\\AppData\\Roaming\\Python\\Python311\\site-packages\\openpyxl\\worksheet\\_reader.py:329: UserWarning: Data Validation extension is not supported and will be removed\n",
      "  warn(msg)\n",
      "C:\\Users\\redda\\AppData\\Roaming\\Python\\Python311\\site-packages\\openpyxl\\worksheet\\_reader.py:329: UserWarning: Data Validation extension is not supported and will be removed\n",
      "  warn(msg)\n",
      "C:\\Users\\redda\\AppData\\Roaming\\Python\\Python311\\site-packages\\openpyxl\\worksheet\\_reader.py:329: UserWarning: Data Validation extension is not supported and will be removed\n",
      "  warn(msg)\n",
      "C:\\Users\\redda\\AppData\\Roaming\\Python\\Python311\\site-packages\\openpyxl\\worksheet\\_reader.py:329: UserWarning: Data Validation extension is not supported and will be removed\n",
      "  warn(msg)\n",
      "C:\\Users\\redda\\AppData\\Roaming\\Python\\Python311\\site-packages\\openpyxl\\worksheet\\_reader.py:329: UserWarning: Data Validation extension is not supported and will be removed\n",
      "  warn(msg)\n",
      "C:\\Users\\redda\\AppData\\Roaming\\Python\\Python311\\site-packages\\openpyxl\\worksheet\\_reader.py:329: UserWarning: Data Validation extension is not supported and will be removed\n",
      "  warn(msg)\n",
      "C:\\Users\\redda\\AppData\\Roaming\\Python\\Python311\\site-packages\\openpyxl\\worksheet\\_reader.py:329: UserWarning: Data Validation extension is not supported and will be removed\n",
      "  warn(msg)\n",
      "C:\\Users\\redda\\AppData\\Roaming\\Python\\Python311\\site-packages\\openpyxl\\worksheet\\_reader.py:329: UserWarning: Data Validation extension is not supported and will be removed\n",
      "  warn(msg)\n",
      "C:\\Users\\redda\\AppData\\Roaming\\Python\\Python311\\site-packages\\openpyxl\\worksheet\\_reader.py:329: UserWarning: Data Validation extension is not supported and will be removed\n",
      "  warn(msg)\n",
      "C:\\Users\\redda\\AppData\\Roaming\\Python\\Python311\\site-packages\\openpyxl\\worksheet\\_reader.py:329: UserWarning: Data Validation extension is not supported and will be removed\n",
      "  warn(msg)\n",
      "C:\\Users\\redda\\AppData\\Roaming\\Python\\Python311\\site-packages\\openpyxl\\worksheet\\_reader.py:329: UserWarning: Data Validation extension is not supported and will be removed\n",
      "  warn(msg)\n",
      "C:\\Users\\redda\\AppData\\Roaming\\Python\\Python311\\site-packages\\openpyxl\\worksheet\\_reader.py:329: UserWarning: Data Validation extension is not supported and will be removed\n",
      "  warn(msg)\n",
      "C:\\Users\\redda\\AppData\\Roaming\\Python\\Python311\\site-packages\\openpyxl\\worksheet\\_reader.py:329: UserWarning: Data Validation extension is not supported and will be removed\n",
      "  warn(msg)\n",
      "C:\\Users\\redda\\AppData\\Roaming\\Python\\Python311\\site-packages\\openpyxl\\worksheet\\_reader.py:329: UserWarning: Data Validation extension is not supported and will be removed\n",
      "  warn(msg)\n",
      "C:\\Users\\redda\\AppData\\Roaming\\Python\\Python311\\site-packages\\openpyxl\\worksheet\\_reader.py:329: UserWarning: Data Validation extension is not supported and will be removed\n",
      "  warn(msg)\n",
      "C:\\Users\\redda\\AppData\\Roaming\\Python\\Python311\\site-packages\\openpyxl\\worksheet\\_reader.py:329: UserWarning: Data Validation extension is not supported and will be removed\n",
      "  warn(msg)\n",
      "C:\\Users\\redda\\AppData\\Roaming\\Python\\Python311\\site-packages\\openpyxl\\worksheet\\_reader.py:329: UserWarning: Data Validation extension is not supported and will be removed\n",
      "  warn(msg)\n",
      "C:\\Users\\redda\\AppData\\Roaming\\Python\\Python311\\site-packages\\openpyxl\\worksheet\\_reader.py:329: UserWarning: Data Validation extension is not supported and will be removed\n",
      "  warn(msg)\n",
      "C:\\Users\\redda\\AppData\\Roaming\\Python\\Python311\\site-packages\\openpyxl\\worksheet\\_reader.py:329: UserWarning: Data Validation extension is not supported and will be removed\n",
      "  warn(msg)\n",
      "C:\\Users\\redda\\AppData\\Roaming\\Python\\Python311\\site-packages\\openpyxl\\worksheet\\_reader.py:329: UserWarning: Data Validation extension is not supported and will be removed\n",
      "  warn(msg)\n",
      "C:\\Users\\redda\\AppData\\Roaming\\Python\\Python311\\site-packages\\openpyxl\\worksheet\\_reader.py:329: UserWarning: Data Validation extension is not supported and will be removed\n",
      "  warn(msg)\n",
      "C:\\Users\\redda\\AppData\\Roaming\\Python\\Python311\\site-packages\\openpyxl\\worksheet\\_reader.py:329: UserWarning: Data Validation extension is not supported and will be removed\n",
      "  warn(msg)\n",
      "C:\\Users\\redda\\AppData\\Roaming\\Python\\Python311\\site-packages\\openpyxl\\worksheet\\_reader.py:329: UserWarning: Data Validation extension is not supported and will be removed\n",
      "  warn(msg)\n",
      "C:\\Users\\redda\\AppData\\Roaming\\Python\\Python311\\site-packages\\openpyxl\\worksheet\\_reader.py:329: UserWarning: Data Validation extension is not supported and will be removed\n",
      "  warn(msg)\n",
      "C:\\Users\\redda\\AppData\\Roaming\\Python\\Python311\\site-packages\\openpyxl\\worksheet\\_reader.py:329: UserWarning: Data Validation extension is not supported and will be removed\n",
      "  warn(msg)\n",
      "C:\\Users\\redda\\AppData\\Roaming\\Python\\Python311\\site-packages\\openpyxl\\worksheet\\_reader.py:329: UserWarning: Data Validation extension is not supported and will be removed\n",
      "  warn(msg)\n",
      "C:\\Users\\redda\\AppData\\Roaming\\Python\\Python311\\site-packages\\openpyxl\\worksheet\\_reader.py:329: UserWarning: Data Validation extension is not supported and will be removed\n",
      "  warn(msg)\n",
      "C:\\Users\\redda\\AppData\\Roaming\\Python\\Python311\\site-packages\\openpyxl\\worksheet\\_reader.py:329: UserWarning: Data Validation extension is not supported and will be removed\n",
      "  warn(msg)\n",
      "C:\\Users\\redda\\AppData\\Roaming\\Python\\Python311\\site-packages\\openpyxl\\worksheet\\_reader.py:329: UserWarning: Data Validation extension is not supported and will be removed\n",
      "  warn(msg)\n",
      "C:\\Users\\redda\\AppData\\Roaming\\Python\\Python311\\site-packages\\openpyxl\\worksheet\\_reader.py:329: UserWarning: Data Validation extension is not supported and will be removed\n",
      "  warn(msg)\n",
      "C:\\Users\\redda\\AppData\\Roaming\\Python\\Python311\\site-packages\\openpyxl\\worksheet\\_reader.py:329: UserWarning: Data Validation extension is not supported and will be removed\n",
      "  warn(msg)\n",
      "C:\\Users\\redda\\AppData\\Roaming\\Python\\Python311\\site-packages\\openpyxl\\worksheet\\_reader.py:329: UserWarning: Data Validation extension is not supported and will be removed\n",
      "  warn(msg)\n",
      "C:\\Users\\redda\\AppData\\Roaming\\Python\\Python311\\site-packages\\openpyxl\\worksheet\\_reader.py:329: UserWarning: Data Validation extension is not supported and will be removed\n",
      "  warn(msg)\n",
      "C:\\Users\\redda\\AppData\\Roaming\\Python\\Python311\\site-packages\\openpyxl\\worksheet\\_reader.py:329: UserWarning: Data Validation extension is not supported and will be removed\n",
      "  warn(msg)\n",
      "C:\\Users\\redda\\AppData\\Roaming\\Python\\Python311\\site-packages\\openpyxl\\worksheet\\_reader.py:329: UserWarning: Data Validation extension is not supported and will be removed\n",
      "  warn(msg)\n",
      "C:\\Users\\redda\\AppData\\Roaming\\Python\\Python311\\site-packages\\openpyxl\\worksheet\\_reader.py:329: UserWarning: Data Validation extension is not supported and will be removed\n",
      "  warn(msg)\n",
      "C:\\Users\\redda\\AppData\\Roaming\\Python\\Python311\\site-packages\\openpyxl\\worksheet\\_reader.py:329: UserWarning: Data Validation extension is not supported and will be removed\n",
      "  warn(msg)\n",
      "C:\\Users\\redda\\AppData\\Roaming\\Python\\Python311\\site-packages\\openpyxl\\worksheet\\_reader.py:329: UserWarning: Data Validation extension is not supported and will be removed\n",
      "  warn(msg)\n",
      "C:\\Users\\redda\\AppData\\Roaming\\Python\\Python311\\site-packages\\openpyxl\\worksheet\\_reader.py:329: UserWarning: Data Validation extension is not supported and will be removed\n",
      "  warn(msg)\n",
      "C:\\Users\\redda\\AppData\\Roaming\\Python\\Python311\\site-packages\\openpyxl\\worksheet\\_reader.py:329: UserWarning: Data Validation extension is not supported and will be removed\n",
      "  warn(msg)\n",
      "C:\\Users\\redda\\AppData\\Roaming\\Python\\Python311\\site-packages\\openpyxl\\worksheet\\_reader.py:329: UserWarning: Data Validation extension is not supported and will be removed\n",
      "  warn(msg)\n",
      "C:\\Users\\redda\\AppData\\Roaming\\Python\\Python311\\site-packages\\openpyxl\\worksheet\\_reader.py:329: UserWarning: Data Validation extension is not supported and will be removed\n",
      "  warn(msg)\n",
      "C:\\Users\\redda\\AppData\\Roaming\\Python\\Python311\\site-packages\\openpyxl\\worksheet\\_reader.py:329: UserWarning: Data Validation extension is not supported and will be removed\n",
      "  warn(msg)\n",
      "C:\\Users\\redda\\AppData\\Roaming\\Python\\Python311\\site-packages\\openpyxl\\worksheet\\_reader.py:329: UserWarning: Data Validation extension is not supported and will be removed\n",
      "  warn(msg)\n",
      "C:\\Users\\redda\\AppData\\Roaming\\Python\\Python311\\site-packages\\openpyxl\\worksheet\\_reader.py:329: UserWarning: Data Validation extension is not supported and will be removed\n",
      "  warn(msg)\n",
      "C:\\Users\\redda\\AppData\\Roaming\\Python\\Python311\\site-packages\\openpyxl\\worksheet\\_reader.py:329: UserWarning: Data Validation extension is not supported and will be removed\n",
      "  warn(msg)\n",
      "C:\\Users\\redda\\AppData\\Roaming\\Python\\Python311\\site-packages\\openpyxl\\worksheet\\_reader.py:329: UserWarning: Data Validation extension is not supported and will be removed\n",
      "  warn(msg)\n",
      "C:\\Users\\redda\\AppData\\Roaming\\Python\\Python311\\site-packages\\openpyxl\\worksheet\\_reader.py:329: UserWarning: Data Validation extension is not supported and will be removed\n",
      "  warn(msg)\n",
      "C:\\Users\\redda\\AppData\\Roaming\\Python\\Python311\\site-packages\\openpyxl\\worksheet\\_reader.py:329: UserWarning: Data Validation extension is not supported and will be removed\n",
      "  warn(msg)\n",
      "C:\\Users\\redda\\AppData\\Roaming\\Python\\Python311\\site-packages\\openpyxl\\worksheet\\_reader.py:329: UserWarning: Data Validation extension is not supported and will be removed\n",
      "  warn(msg)\n",
      "C:\\Users\\redda\\AppData\\Roaming\\Python\\Python311\\site-packages\\openpyxl\\worksheet\\_reader.py:329: UserWarning: Data Validation extension is not supported and will be removed\n",
      "  warn(msg)\n",
      "C:\\Users\\redda\\AppData\\Roaming\\Python\\Python311\\site-packages\\openpyxl\\worksheet\\_reader.py:329: UserWarning: Data Validation extension is not supported and will be removed\n",
      "  warn(msg)\n",
      "C:\\Users\\redda\\AppData\\Roaming\\Python\\Python311\\site-packages\\openpyxl\\worksheet\\_reader.py:329: UserWarning: Data Validation extension is not supported and will be removed\n",
      "  warn(msg)\n",
      "C:\\Users\\redda\\AppData\\Roaming\\Python\\Python311\\site-packages\\openpyxl\\worksheet\\_reader.py:329: UserWarning: Data Validation extension is not supported and will be removed\n",
      "  warn(msg)\n",
      "C:\\Users\\redda\\AppData\\Roaming\\Python\\Python311\\site-packages\\openpyxl\\worksheet\\_reader.py:329: UserWarning: Data Validation extension is not supported and will be removed\n",
      "  warn(msg)\n",
      "C:\\Users\\redda\\AppData\\Roaming\\Python\\Python311\\site-packages\\openpyxl\\worksheet\\_reader.py:329: UserWarning: Data Validation extension is not supported and will be removed\n",
      "  warn(msg)\n",
      "C:\\Users\\redda\\AppData\\Roaming\\Python\\Python311\\site-packages\\openpyxl\\worksheet\\_reader.py:329: UserWarning: Data Validation extension is not supported and will be removed\n",
      "  warn(msg)\n",
      "C:\\Users\\redda\\AppData\\Roaming\\Python\\Python311\\site-packages\\openpyxl\\worksheet\\_reader.py:329: UserWarning: Data Validation extension is not supported and will be removed\n",
      "  warn(msg)\n",
      "C:\\Users\\redda\\AppData\\Roaming\\Python\\Python311\\site-packages\\openpyxl\\worksheet\\_reader.py:329: UserWarning: Data Validation extension is not supported and will be removed\n",
      "  warn(msg)\n",
      "C:\\Users\\redda\\AppData\\Roaming\\Python\\Python311\\site-packages\\openpyxl\\worksheet\\_reader.py:329: UserWarning: Data Validation extension is not supported and will be removed\n",
      "  warn(msg)\n",
      "C:\\Users\\redda\\AppData\\Roaming\\Python\\Python311\\site-packages\\openpyxl\\worksheet\\_reader.py:329: UserWarning: Data Validation extension is not supported and will be removed\n",
      "  warn(msg)\n",
      "C:\\Users\\redda\\AppData\\Roaming\\Python\\Python311\\site-packages\\openpyxl\\worksheet\\_reader.py:329: UserWarning: Data Validation extension is not supported and will be removed\n",
      "  warn(msg)\n",
      "C:\\Users\\redda\\AppData\\Roaming\\Python\\Python311\\site-packages\\openpyxl\\worksheet\\_reader.py:329: UserWarning: Data Validation extension is not supported and will be removed\n",
      "  warn(msg)\n",
      "C:\\Users\\redda\\AppData\\Roaming\\Python\\Python311\\site-packages\\openpyxl\\worksheet\\_reader.py:329: UserWarning: Data Validation extension is not supported and will be removed\n",
      "  warn(msg)\n"
     ]
    }
   ],
   "source": [
    "#按照发票开具方式，及数量选择方式，生成对应的文件夹\n",
    "path1 = f'发票模板-按客户和存货编码-{shuliang_fangsi}'\n",
    "path1 = os.path.join(path,path1)\n",
    "if not os.path.exists(path1):\n",
    "    try:\n",
    "        os.mkdir(path1)\n",
    "    except:\n",
    "        pass\n",
    "\n",
    "gp = df_xiaoshou3.groupby('客户')\n",
    "for k,v  in gp:\n",
    "    gongsi = k\n",
    "    newname = getFapiaoMoban(gongsi,shuliang_fangsi)\n",
    "    pivot = getPivot(v)\n",
    "    # pivot1 = chuliMingchen(pivot)\n",
    "    fapiao = getFapiaoBen(pivot,shuilu,shuliang_fangsi)\n",
    "    with pd.ExcelWriter(newname, engine='openpyxl',mode='a', if_sheet_exists='overlay')  as writer:\n",
    "        fapiao.to_excel(writer, sheet_name = '1-明细模板',startrow=3, header = False,index = False)\n",
    "\n",
    "#按照发票开具方式，及数量选择方式，生成对应的文件夹\n",
    "path1 = f'发票模板-按销售订单和存货编码-{shuliang_fangsi}'\n",
    "path1 = os.path.join(path,path1)\n",
    "if not os.path.exists(path1):\n",
    "    try:\n",
    "        os.mkdir(path1)\n",
    "    except:\n",
    "        pass\n",
    "\n",
    "gp = df_xiaoshou3.groupby('单据编号')\n",
    "for k,v  in gp:\n",
    "    dingdanhao = k\n",
    "    gongsi = v['客户'].to_list()[0]\n",
    "    newname = getFapiaoMobanDingdanhao(gongsi,dingdanhao,shuliang_fangsi)\n",
    "    print(newname)\n",
    "    pivot = getPivot(v)\n",
    "    # pivot1 = chuliMingchen(pivot)\n",
    "    fapiao = getFapiaoBen(pivot,shuilu,shuliang_fangsi)\n",
    "    with pd.ExcelWriter(newname, engine='openpyxl',mode='a', if_sheet_exists='overlay')  as writer:\n",
    "        fapiao.to_excel(writer, sheet_name = '1-明细模板',startrow=3, header = False,index = False)\n",
    "\n",
    "#按照发票开具方式，及数量选择方式，生成对应的文件夹\n",
    "path1 = f'发票模板-按客户汇总-{shuliang_fangsi}'\n",
    "path1 = os.path.join(path,path1)\n",
    "if not os.path.exists(path1):\n",
    "    try:\n",
    "        os.mkdir(path1)\n",
    "    except:\n",
    "        pass\n",
    "     \n",
    "gp = df_xiaoshou3.groupby('客户')\n",
    "for k,v  in gp:\n",
    "    gongsi = k\n",
    "    newname = getFapiaoMoban(gongsi,shuliang_fangsi)\n",
    "    v1 = v.sum().T.to_frame().T\n",
    "    v1.loc[0,'存货名称'] = '*印刷品*本册'\n",
    "    v1.loc[0,'存货分类'] = '*印刷品*本册'\n",
    "    v1.loc[0,'存货编码'] = '*印刷品*本册'\n",
    "    v1.loc[0,'存货代码'] = '*印刷品*本册'\n",
    "    pivot = getPivot(v1)\n",
    "    # pivot1 = chuliMingchen(pivot)\n",
    "    fapiao = getFapiaoBen(pivot,shuilu,shuliang_fangsi)\n",
    "    with pd.ExcelWriter(newname, engine='openpyxl',mode='a', if_sheet_exists='overlay')  as writer:\n",
    "        fapiao.to_excel(writer, sheet_name = '1-明细模板',startrow=3, header = False,index = False)\n",
    "\n",
    "\n",
    "    \n"
   ]
  },
  {
   "cell_type": "code",
   "execution_count": null,
   "id": "9a9e08d5-3a19-4335-8569-4df471e747ca",
   "metadata": {
    "scrolled": true
   },
   "outputs": [],
   "source": [
    "\n",
    "    \n",
    "    \n",
    "    \n",
    "    \n",
    "    \n",
    "    \n",
    "    \n",
    "    \n",
    "    \n",
    "    \n",
    "    \n"
   ]
  }
 ],
 "metadata": {
  "kernelspec": {
   "display_name": "Python 3 (ipykernel)",
   "language": "python",
   "name": "python3"
  },
  "language_info": {
   "codemirror_mode": {
    "name": "ipython",
    "version": 3
   },
   "file_extension": ".py",
   "mimetype": "text/x-python",
   "name": "python",
   "nbconvert_exporter": "python",
   "pygments_lexer": "ipython3",
   "version": "3.11.8"
  }
 },
 "nbformat": 4,
 "nbformat_minor": 5
}
