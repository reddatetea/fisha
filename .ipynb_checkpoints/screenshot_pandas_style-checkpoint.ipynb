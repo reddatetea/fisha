{
 "cells": [
  {
   "cell_type": "code",
   "execution_count": 1,
   "id": "c90a67b6",
   "metadata": {},
   "outputs": [],
   "source": [
    "# 截图 pandas 的表格样式\n",
    "from pathlib import Path\n",
    "import pandas as pd\n",
    "from playwright.sync_api import sync_playwright\n",
    "\n",
    "df = pd.read_csv('https://www.gairuo.com/file/data/team.csv')\n",
    "\n",
    "style = (df.head(10)\n",
    "         .assign(avg=df.mean(axis=1, numeric_only=True))  # 增加平均值\n",
    "         .assign(diff=lambda x: x.avg.diff())  # 和前位同学差值\n",
    "         .style\n",
    "         .bar(color='yellow', subset=['Q1'])\n",
    "         .bar(subset=['avg'], width=90, vmin=60, vmax=100, color='#5cadad')\n",
    "         .bar(subset=['diff'], color=['#ffe4e4', '#bbf9ce'], vmin=0, vmax=30, align='zero')\n",
    "         )\n",
    "\n",
    "html_string = '''\n",
    "<html>\n",
    "  <head><title>我的图表</title></head>\n",
    "  <link rel=\"stylesheet\" type=\"text/css\" href=\"style.css\"/>\n",
    "  <body>\n",
    "    {table}\n",
    "  </body>\n",
    "</html>\n",
    "'''\n",
    "\n",
    "html = html_string.format(table=style.to_html())  # 生成 html 内容\n",
    "\n",
    "# 生成 html 文件\n",
    "with open('data.html', 'w') as f:\n",
    "    f.write(html)\n",
    "\n",
    "# 打开文件、截图\n",
    "with sync_playwright() as p:\n",
    "    browser = p.chromium.launch(headless=False)\n",
    "    page = browser.new_page()\n",
    "    page.set_viewport_size({\"width\": 720, \"height\": 350})\n",
    "    page.wait_for_timeout(10000)\n",
    "    page.goto(Path('data.html').absolute().as_uri())\n",
    "    page.screenshot(path='data.jpg', type='jpeg', full_page=True, quality=100, scale='css')\n",
    "    browser.close()\n",
    "    print('生成图片完成!')"
   ]
  }
 ],
 "metadata": {
  "kernelspec": {
   "display_name": "Python 3 (ipykernel)",
   "language": "python",
   "name": "python3"
  },
  "language_info": {
   "codemirror_mode": {
    "name": "ipython",
    "version": 3
   },
   "file_extension": ".py",
   "mimetype": "text/x-python",
   "name": "python",
   "nbconvert_exporter": "python",
   "pygments_lexer": "ipython3",
   "version": "3.8.3"
  }
 },
 "nbformat": 4,
 "nbformat_minor": 5
}
