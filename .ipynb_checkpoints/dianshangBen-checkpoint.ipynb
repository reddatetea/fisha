{
 "cells": [
  {
   "cell_type": "code",
   "execution_count": 1,
   "id": "bddd99a8-c52b-4876-8786-72cd70701511",
   "metadata": {},
   "outputs": [],
   "source": [
    "import re\n",
    "import pandas as pd\n",
    "import numpy as np"
   ]
  },
  {
   "cell_type": "code",
   "execution_count": 114,
   "id": "81d274c0-34a4-4018-bea7-8720c684a344",
   "metadata": {},
   "outputs": [],
   "source": [
    "# string = r'NO0781本子'\n",
    "string = r'（15本）NO0781本子'"
   ]
  },
  {
   "cell_type": "code",
   "execution_count": 115,
   "id": "f7882fa1-613c-489c-a13f-56344bd2f23a",
   "metadata": {},
   "outputs": [],
   "source": [
    "regex = re.compile(r'[(（](?P<ben>(\\d{1,3})|\\S)本[）)]')  \n",
    "mat = re.search(regex,string)\n"
   ]
  },
  {
   "cell_type": "code",
   "execution_count": 116,
   "id": "c30ed1f4-7e9b-4a5a-b1b7-280abe7f7258",
   "metadata": {},
   "outputs": [
    {
     "data": {
      "text/plain": [
       "15"
      ]
     },
     "execution_count": 116,
     "metadata": {},
     "output_type": "execute_result"
    }
   ],
   "source": [
    "if mat:\n",
    "    ben = mat.group('ben')\n",
    "    if isinstance(ben,str):\n",
    "        if ben == '伍':\n",
    "            ben = 5\n",
    "        elif ben == '拾':\n",
    "            ben = 10\n",
    "        else :\n",
    "            if isinstance(int(ben),int):\n",
    "                ben = int(ben)\n",
    "else :\n",
    "     ben = 1\n",
    "        \n",
    "ben"
   ]
  }
 ],
 "metadata": {
  "kernelspec": {
   "display_name": "Python 3 (ipykernel)",
   "language": "python",
   "name": "python3"
  },
  "language_info": {
   "codemirror_mode": {
    "name": "ipython",
    "version": 3
   },
   "file_extension": ".py",
   "mimetype": "text/x-python",
   "name": "python",
   "nbconvert_exporter": "python",
   "pygments_lexer": "ipython3",
   "version": "3.11.5"
  }
 },
 "nbformat": 4,
 "nbformat_minor": 5
}
