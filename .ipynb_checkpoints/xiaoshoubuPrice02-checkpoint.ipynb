{
 "cells": [
  {
   "cell_type": "code",
   "execution_count": 1,
   "id": "fc9e2b2a-bd4a-4fc3-b94f-b18d751b1689",
   "metadata": {},
   "outputs": [],
   "source": [
    "import numpy as np\n",
    "import pandas as pd\n",
    "import os\n",
    "import time\n",
    "import re\n",
    "import openpyxl\n"
   ]
  },
  {
   "cell_type": "code",
   "execution_count": 14,
   "id": "25399bbf-2b4c-4414-8873-c4f3082aef62",
   "metadata": {},
   "outputs": [
    {
     "name": "stderr",
     "output_type": "stream",
     "text": [
      "C:\\Users\\redda\\AppData\\Local\\Temp\\ipykernel_28564\\2290098929.py:11: UserWarning: Pandas requires version '3.0.5' or newer of 'xlsxwriter' (version '3.0.3' currently installed).\n",
      "  df_price.to_excel(fname_price)\n"
     ]
    }
   ],
   "source": [
    "fname = r\"F:\\a00nutstore\\008\\zw08\\销售部价格\\内部调拨价格表2024.10.19.xlsx\"\n",
    "path,hou= os.path.splitext(fname)\n",
    "newPath = path + '_汇总'\n",
    "fname_price = newPath + hou\n",
    "dfs = pd.read_excel(fname,sheet_name = None)\n",
    "data = []\n",
    "for k,v in dfs.items():\n",
    "    v.insert(0,'类别',k)\n",
    "    data.append(v)\n",
    "df_price = pd.concat(data)\n",
    "df_price.to_excel(fname_price)\n",
    "\n"
   ]
  },
  {
   "cell_type": "code",
   "execution_count": 10,
   "id": "25229c86-5433-4ce8-9ff5-27f1f0d94c1d",
   "metadata": {},
   "outputs": [
    {
     "data": {
      "text/plain": [
       "'F:\\\\a00nutstore\\\\008\\\\zw08\\\\销售部价格\\\\内部调拨价格表2024.10.19_汇总.xlsx'"
      ]
     },
     "execution_count": 10,
     "metadata": {},
     "output_type": "execute_result"
    }
   ],
   "source": [
    "fname = r\"F:\\a00nutstore\\008\\zw08\\销售部价格\\内部调拨价格表2024.10.19.xlsx\"\n",
    "path,hou= os.path.splitext(fname)\n",
    "newPath = path + '_汇总'\n",
    "fname_price = newPath + hou\n",
    "fname_price"
   ]
  },
  {
   "cell_type": "code",
   "execution_count": 12,
   "id": "1bc1444c-080d-44e9-8ec6-02ec4911fd85",
   "metadata": {},
   "outputs": [
    {
     "data": {
      "text/html": [
       "<div>\n",
       "<style scoped>\n",
       "    .dataframe tbody tr th:only-of-type {\n",
       "        vertical-align: middle;\n",
       "    }\n",
       "\n",
       "    .dataframe tbody tr th {\n",
       "        vertical-align: top;\n",
       "    }\n",
       "\n",
       "    .dataframe thead th {\n",
       "        text-align: right;\n",
       "    }\n",
       "</style>\n",
       "<table border=\"1\" class=\"dataframe\">\n",
       "  <thead>\n",
       "    <tr style=\"text-align: right;\">\n",
       "      <th></th>\n",
       "      <th>存货编码</th>\n",
       "      <th>存货名称</th>\n",
       "      <th>规格型号</th>\n",
       "    </tr>\n",
       "  </thead>\n",
       "  <tbody>\n",
       "    <tr>\n",
       "      <th>0</th>\n",
       "      <td>GDX1660</td>\n",
       "      <td>16K单行文稿纸</td>\n",
       "      <td>C11锐意文稿纸</td>\n",
       "    </tr>\n",
       "    <tr>\n",
       "      <th>1</th>\n",
       "      <td>GFG1660</td>\n",
       "      <td>16K方格文稿纸</td>\n",
       "      <td>C11锐意文稿纸</td>\n",
       "    </tr>\n",
       "    <tr>\n",
       "      <th>2</th>\n",
       "      <td>GMZ1660</td>\n",
       "      <td>16K米字文稿纸</td>\n",
       "      <td>C11锐意文稿纸</td>\n",
       "    </tr>\n",
       "  </tbody>\n",
       "</table>\n",
       "</div>"
      ],
      "text/plain": [
       "      存货编码      存货名称      规格型号\n",
       "0  GDX1660  16K单行文稿纸  C11锐意文稿纸\n",
       "1  GFG1660  16K方格文稿纸  C11锐意文稿纸\n",
       "2  GMZ1660  16K米字文稿纸  C11锐意文稿纸"
      ]
     },
     "execution_count": 12,
     "metadata": {},
     "output_type": "execute_result"
    }
   ],
   "source": [
    "df0 = pd.read_clipboard()\n",
    "df0\n"
   ]
  },
  {
   "cell_type": "code",
   "execution_count": 13,
   "id": "412769bd-27e5-4f9a-a02f-f95bcbff8341",
   "metadata": {},
   "outputs": [
    {
     "data": {
      "text/html": [
       "<div>\n",
       "<style scoped>\n",
       "    .dataframe tbody tr th:only-of-type {\n",
       "        vertical-align: middle;\n",
       "    }\n",
       "\n",
       "    .dataframe tbody tr th {\n",
       "        vertical-align: top;\n",
       "    }\n",
       "\n",
       "    .dataframe thead th {\n",
       "        text-align: right;\n",
       "    }\n",
       "</style>\n",
       "<table border=\"1\" class=\"dataframe\">\n",
       "  <thead>\n",
       "    <tr style=\"text-align: right;\">\n",
       "      <th></th>\n",
       "      <th>aaa</th>\n",
       "      <th>存货编码</th>\n",
       "      <th>存货名称</th>\n",
       "      <th>规格型号</th>\n",
       "    </tr>\n",
       "  </thead>\n",
       "  <tbody>\n",
       "    <tr>\n",
       "      <th>0</th>\n",
       "      <td>aaa</td>\n",
       "      <td>GDX1660</td>\n",
       "      <td>16K单行文稿纸</td>\n",
       "      <td>C11锐意文稿纸</td>\n",
       "    </tr>\n",
       "    <tr>\n",
       "      <th>1</th>\n",
       "      <td>aaa</td>\n",
       "      <td>GFG1660</td>\n",
       "      <td>16K方格文稿纸</td>\n",
       "      <td>C11锐意文稿纸</td>\n",
       "    </tr>\n",
       "    <tr>\n",
       "      <th>2</th>\n",
       "      <td>aaa</td>\n",
       "      <td>GMZ1660</td>\n",
       "      <td>16K米字文稿纸</td>\n",
       "      <td>C11锐意文稿纸</td>\n",
       "    </tr>\n",
       "  </tbody>\n",
       "</table>\n",
       "</div>"
      ],
      "text/plain": [
       "   aaa     存货编码      存货名称      规格型号\n",
       "0  aaa  GDX1660  16K单行文稿纸  C11锐意文稿纸\n",
       "1  aaa  GFG1660  16K方格文稿纸  C11锐意文稿纸\n",
       "2  aaa  GMZ1660  16K米字文稿纸  C11锐意文稿纸"
      ]
     },
     "execution_count": 13,
     "metadata": {},
     "output_type": "execute_result"
    }
   ],
   "source": [
    "df0.insert(0,'aaa','aaa')\n",
    "df0"
   ]
  },
  {
   "cell_type": "code",
   "execution_count": null,
   "id": "b74daa96-337b-4e58-81fc-2f224b716cb7",
   "metadata": {},
   "outputs": [],
   "source": []
  }
 ],
 "metadata": {
  "kernelspec": {
   "display_name": "Python 3 (ipykernel)",
   "language": "python",
   "name": "python3"
  },
  "language_info": {
   "codemirror_mode": {
    "name": "ipython",
    "version": 3
   },
   "file_extension": ".py",
   "mimetype": "text/x-python",
   "name": "python",
   "nbconvert_exporter": "python",
   "pygments_lexer": "ipython3",
   "version": "3.11.8"
  }
 },
 "nbformat": 4,
 "nbformat_minor": 5
}
