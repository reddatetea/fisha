{
 "cells": [
  {
   "cell_type": "code",
   "execution_count": 3,
   "id": "53e3d584",
   "metadata": {},
   "outputs": [
    {
     "name": "stdout",
     "output_type": "stream",
     "text": [
      "putong 16.0 80.0 371.0 257.0\n"
     ]
    }
   ],
   "source": [
    "'''\n",
    "柔板的匹配，提取厚度、长度、宽度，计算合同单价\n",
    "'''\n",
    "'''\n",
    "柔板的匹配，提取厚度、长度、宽度，计算合同单价\n",
    "'''\n",
    "import re\n",
    "import pandas as pd\n",
    "\n",
    "def jiaotaochicun(temp):\n",
    "    string = temp.strip()\n",
    "    pattern1 = r'(?P<leibie>XR|夏天|冬天|EVA|EJL|EVA\\s+|EJL\\s|勤问|EVA\\s+DJL)(?P<kaibie>16|32|48|64|80|100)K(?P<yeshu>\\d{2,3})胶套'\n",
    "    pattern2 = r'胶套\\w*(?P<chang>\\d{3,4})\\*(?P<kuan>\\d{3,4})'\n",
    "    regexp1 = re.compile(pattern1)\n",
    "    pipei1 = regexp1.search(string)\n",
    "    regexp2 = re.compile(pattern2)\n",
    "    pipei2 = regexp2.search(string)\n",
    "    if pipei1 == None:\n",
    "        # print('没有匹配')\n",
    "        leibie = 'putong'\n",
    "        kaibie = 0\n",
    "        yeshu = 0\n",
    "    else:\n",
    "        leibie = pipei1.group('leibie')\n",
    "        kaibie = float(pipei1.group('kaibie'))\n",
    "        yeshu = float(pipei1.group('yeshu'))\n",
    "        if 'EVA' in leibie or '勤问' in leibie or 'EJL' in leibie:\n",
    "            leibie = 'gaoji'\n",
    "        else :\n",
    "            leibie = 'putong'\n",
    "\n",
    "    if pipei2 == None:\n",
    "        # print('没有匹配')\n",
    "        chang = 0\n",
    "        kuan = 0\n",
    "    else:\n",
    "        chang = float(pipei2.group('chang'))\n",
    "        kuan = float(pipei2.group('kuan'))\n",
    "    return leibie,kaibie,yeshu,chang,kuan\n",
    "\n",
    "\n",
    "def main():\n",
    "    temp = 'XR16K80胶套夏371*257'\n",
    "    leibie,kaibie,yeshu,chang,kuan = jiaotaochicun(temp)\n",
    "    print(leibie,kaibie,yeshu,chang,kuan)\n",
    "\n",
    "if __name__ == '__main__':\n",
    "    main()\n",
    "\n",
    "\n",
    "\n",
    "\n",
    "\n",
    "\n",
    "\n",
    "\n",
    "\n",
    "\n"
   ]
  },
  {
   "cell_type": "code",
   "execution_count": null,
   "id": "92961462",
   "metadata": {},
   "outputs": [],
   "source": []
  }
 ],
 "metadata": {
  "kernelspec": {
   "display_name": "Python 3 (ipykernel)",
   "language": "python",
   "name": "python3"
  },
  "language_info": {
   "codemirror_mode": {
    "name": "ipython",
    "version": 3
   },
   "file_extension": ".py",
   "mimetype": "text/x-python",
   "name": "python",
   "nbconvert_exporter": "python",
   "pygments_lexer": "ipython3",
   "version": "3.11.5"
  }
 },
 "nbformat": 4,
 "nbformat_minor": 5
}
