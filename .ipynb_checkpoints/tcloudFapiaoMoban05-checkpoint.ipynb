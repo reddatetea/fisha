{
 "cells": [
  {
   "cell_type": "code",
   "execution_count": null,
   "id": "a6ffe7e6-36a1-4d08-a31b-d19d34ff3e0c",
   "metadata": {},
   "outputs": [],
   "source": [
    "'''\n",
    "tcloud中用销售订单生成税局发票模板,选择单个销售订单，单独生成相应的发票模板\n",
    "\n",
    "'''\n",
    "import os\n",
    "import re\n",
    "import easygui\n",
    "import openpyxl\n",
    "import numpy as np\n",
    "import pandas as pd\n",
    "import shutil"
   ]
  },
  {
   "cell_type": "code",
   "execution_count": null,
   "id": "df0bcd1c-144f-49b0-9f78-275c734be3d4",
   "metadata": {},
   "outputs": [],
   "source": [
    "#读取发票模板\n",
    "fname_fapiao = r\"F:\\repos\\fish\\发票模板.xlsx\"\n",
    "df_fapiao = pd.read_excel(fname_fapiao,header = 2,dtype = {'商品和服务税收分类编码':'str'})\n",
    "df_fapiao"
   ]
  },
  {
   "cell_type": "code",
   "execution_count": null,
   "id": "2d7deff6-da50-4dc9-a55e-99ef17b2f58f",
   "metadata": {},
   "outputs": [],
   "source": [
    "\n",
    "path = r\"F:\\repos\\fisha\\莱新销售订单0826-0925\"\n",
    "os.chdir(path)\n",
    "\n",
    "#以选择的销售订单所在文件夹作为工作目录，并在此目录下建“发票模板”文件夹\n",
    "path1 = '发票模板'\n",
    "if not os.path.exists(path1):\n",
    "    try:\n",
    "        os.mkdir(path1)\n",
    "    except:\n",
    "        pass\n",
    "\n",
    "    \n"
   ]
  },
  {
   "cell_type": "code",
   "execution_count": null,
   "id": "96af3d9b-6856-4d42-8165-c0d4e081161a",
   "metadata": {},
   "outputs": [],
   "source": [
    "def getPivot(df):\n",
    "    bianba_fenlei = dict(zip(df['存货编码'],df['存货分类']))\n",
    "    bianba_mingchen = dict(zip(df['存货编码'],df['存货名称']))\n",
    "    bianba_daima = dict(zip(df['存货编码'],df['存货代码']))\n",
    "    bianba_hanlian = dict(zip(df['存货编码'],df['件含量']))\n",
    "    pivot = df.pivot_table(index = '存货编码',values = ['数量','数量（件）','含税金额'] ,aggfunc = 'sum')\n",
    "    pivot = pivot.reset_index()\n",
    "    pivot = pivot.assign(fenlei = pivot['存货编码'].map(bianba_fenlei))\n",
    "    pivot = pivot.assign(mingchen = pivot['存货编码'].map(bianba_mingchen))\n",
    "    pivot = pivot.assign(daima = pivot['存货编码'].map(bianba_daima))\n",
    "    pivot = pivot.assign(hanliang = pivot['存货编码'].map(bianba_hanlian))\n",
    "    dic = dict(zip(['fenlei','mingchen','daima','hanliang'],['存货分类','存货名称','存货代码','件含量']))\n",
    "\n",
    "    \n",
    "    pivot = pivot.rename(columns =  dic)\n",
    "    print(pivot)\n",
    "    guige_qian = []\n",
    "    guige_hou = []\n",
    "    for i in pivot['存货名称'].to_list():\n",
    "        qian0,hou0 = guige(i)\n",
    "        guige_qian.append(qian0)\n",
    "        guige_hou.append(hou0)\n",
    "    pivot = pivot.assign(qian = guige_qian)\n",
    "    pivot = pivot.assign(hou = guige_hou)\n",
    "    \n",
    "             \n",
    "    \n",
    "    return pivot\n",
    "\n",
    "def getFapiaoBen(d):\n",
    "    d['项目名称'] = d['存货编码'] +  d['hou']\n",
    "    d['项目名称'] = d['项目名称'].str.replace('运费-','运费')\n",
    "    # d['项目名称'] = d['项目名称'].str.split('-').str[0]\n",
    "    d['商品和服务税收分类编码'] = '1060202010000000000'\n",
    "    d['规格型号'] = d['qian']\n",
    "    d['单位'] = '本'\n",
    "    d['商品数量'] = d['数量']\n",
    "    d['商品单价'] = ''\n",
    "    d['金额'] = d['含税金额']\n",
    "    d['税率'] = 0.13\n",
    "    d['折扣金额'] = ''\n",
    "    d['优惠政策类型'] = ''\n",
    "    d = d[['项目名称',\n",
    "     '商品和服务税收分类编码',\n",
    "     '规格型号',\n",
    "     '单位',\n",
    "     '商品数量',\n",
    "     '商品单价',\n",
    "     '金额',\n",
    "     '税率',\n",
    "     '折扣金额',\n",
    "     '优惠政策类型',\n",
    "                           ]]\n",
    "    return d\n",
    "\n",
    "# gongsi = '热脉'       #获取简称\n",
    "def getFapiaoMoban(gongsi):\n",
    "    filename=''.join(['发票模板-',gongsi,'.xlsx'])\n",
    "    newname = os.path.join(path1,filename)\n",
    "    shutil.copyfile(fname_fapiao, newname)\n",
    "    return newname\n",
    "\n",
    "def fengefu(string):\n",
    "    num = len(string.split('-'))\n",
    "    if num  == 3 :\n",
    "        string = '-'.join([string.split('-')[0],string.split('-')[1]])\n",
    "        \n",
    "    elif num == 2 :\n",
    "        if len(string.split('-')[0]) <= 4:\n",
    "            string = string\n",
    "        else :\n",
    "            string = string.split('-')[0]\n",
    "    else :\n",
    "        string = string\n",
    "    return string\n",
    "def guige(string):\n",
    "    if ('型' in string) and ('页' in string):\n",
    "        qian0 = string.split('型')[0] + '型'\n",
    "        hou0 =  string.split('型')[1] \n",
    "    elif ('型' in string) or ('页' in string):\n",
    "        if '型' in string :\n",
    "            qian0 = string.split('型')[0] + '型'\n",
    "            hou0 =  string.split('型')[1] \n",
    "        else :\n",
    "            qian0 = string.split('页')[0] + '页'\n",
    "            hou0 =  string.split('页')[1] \n",
    "    else :\n",
    "        qian0 = ''\n",
    "        hou0 = ''\n",
    "                \n",
    "  \n",
    "    \n",
    "    return qian0,hou0\n",
    "    \n",
    "            \n",
    "    \n",
    "    "
   ]
  },
  {
   "cell_type": "code",
   "execution_count": null,
   "id": "e7a4be55-bd89-420d-a7b3-ec18cb4190fd",
   "metadata": {},
   "outputs": [],
   "source": [
    "#莱新销售订单超5000条，不能一次导出，分三次导出，并分别存于同一文件下，先将它们合并\n",
    "data = []\n",
    "for i in os.listdir(path):\n",
    "    if  os.path.isfile(i):\n",
    "        i = os.path.join(path,i)\n",
    "        df = pd.read_excel(i)\n",
    "        data.append(df)\n",
    "    else :\n",
    "        continue\n",
    "   \n",
    "  \n",
    "    \n",
    "df_xiaoshou0 = pd.concat(data)\n",
    "df_xiaoshou1 = df_xiaoshou0.loc[df_xiaoshou0['单据执行状态'] != '合计']\n",
    "lst1 = ['单据编号',\n",
    "  '单据日期',\n",
    " '含税总金额',\n",
    " '存货名称',\n",
    " '存货分类',\n",
    " '存货编码',\n",
    "  '存货代码',\n",
    "  '数量',\n",
    "  '件含量',\n",
    " '数量（件）',\n",
    "  '含税单价',\n",
    " '含税金额',\n",
    "        '客户'\n",
    "]\n",
    "df_xiaoshou2 = df_xiaoshou1[lst1]\n",
    "df_xiaoshou3 = df_xiaoshou2.copy()\n",
    "s = []\n",
    "for i in df_xiaoshou2['存货编码'].to_list():\n",
    "    j = fengefu(i)\n",
    "    s.append(j)\n",
    "df_xiaoshou3['存货编码'] = s"
   ]
  },
  {
   "cell_type": "code",
   "execution_count": null,
   "id": "9a9e08d5-3a19-4335-8569-4df471e747ca",
   "metadata": {
    "scrolled": true
   },
   "outputs": [],
   "source": [
    "#先调试一个 '武汉市热脉文体用品有限公司'\n",
    "# df0 = df_xiaoshou2[df_xiaoshou2['客户'] == '武汉市热脉文体用品有限公司'] \n",
    "\n",
    "gp = df_xiaoshou3.groupby('客户')\n",
    "for k,v  in gp:\n",
    "    gongsi = k\n",
    "    newname = getFapiaoMoban(gongsi)\n",
    "    pivot = getPivot(v)\n",
    "    # pivot1 = chuliMingchen(pivot)\n",
    "    fapiao = getFapiaoBen(pivot)\n",
    "    with pd.ExcelWriter(newname, engine='openpyxl',mode='a', if_sheet_exists='overlay')  as writer:\n",
    "        fapiao.to_excel(writer, sheet_name = '1-明细模板',startrow=3, header = False,index = False)\n",
    "    \n",
    "    \n",
    "    \n",
    "    \n",
    "    \n",
    "    \n",
    "    \n",
    "    \n",
    "    \n",
    "    \n"
   ]
  },
  {
   "cell_type": "code",
   "execution_count": null,
   "id": "c988b2a4-835d-41b9-9b85-b9a2f3297617",
   "metadata": {},
   "outputs": [],
   "source": [
    "import pandas as pd\n",
    " \n",
    "# 示例数据\n",
    "df = pd.DataFrame({\n",
    "    'A': ['foo', 'foo', 'foo', 'bar', 'bar', 'bar'],\n",
    "    'B': ['one', 'one', 'two', 'two', 'one', 'one'],\n",
    "    'C': ['small', 'large', 'large', 'small', 'small', 'large'],\n",
    "     'F': ['small1', 'large1', 'large1', 'small1', 'small1', 'large1'],\n",
    "    'D': [1, 2, 2, 3, 3, 4],\n",
    "    'E': [2, 4, 5, 5, 6, 6]\n",
    "})\n",
    " \n",
    "df"
   ]
  },
  {
   "cell_type": "code",
   "execution_count": null,
   "id": "a49c2d85-5957-41c4-b742-92e75b3e7663",
   "metadata": {},
   "outputs": [],
   "source": [
    "import pandas as pd\n",
    " \n",
    "# 示例数据\n",
    "df = pd.DataFrame({\n",
    "    'A': ['foo', 'foo', 'foo', 'bar', 'bar', 'bar'],\n",
    "    'B': ['one', 'one', 'two', 'two', 'one', 'one'],\n",
    "    'C': ['small', 'large', 'large', 'small', 'small', 'large'],\n",
    "    'D': [1, 2, 2, 3, 3, 4],\n",
    "    'E': [2, 4, 5, 5, 6, 6]\n",
    "})\n",
    " \n",
    "# 创建透视表，并使用margins参数汇总\n",
    "pivot_table = df.pivot_table(values='D', index=['A', 'B'], columns=['C'], aggfunc='sum', margins=True)\n",
    " \n",
    "# 将多层索引转换为常规列，并将不是汇总的字段展开\n",
    "melted = pivot_table.reset_index().melt(id_vars=['A', 'B'], value_vars=pivot_table.columns.levels[1].unique(), var_name='C')\n",
    " \n",
    "# 将汇总行转换为常规列\n",
    "melted['C'] = melted['C'].str.split('(').str[0]\n",
    " \n",
    "# 重置索引\n",
    "melted = melted.dropna(subset=['C']).reset_index(drop=True)\n",
    " \n",
    "print(melted)"
   ]
  },
  {
   "cell_type": "code",
   "execution_count": null,
   "id": "4556b74e-5077-4b88-a5c1-a8757c901b48",
   "metadata": {},
   "outputs": [],
   "source": [
    "import pandas as pd\n",
    "\n",
    "# 创建示例数据集\n",
    "data = {\n",
    "    'A': ['foo', 'foo', 'foo', 'bar', 'bar', 'bar'],\n",
    "    'B': ['one', 'one', 'two', 'two', 'one', 'one'],\n",
    "    'C': [1, 2, 3, 4, 5, 6],\n",
    "    'D': [7, 8, 9, 10, 11, 12]\n",
    "}\n",
    "\n",
    "df = pd.DataFrame(data)\n",
    "\n",
    "# 创建透视表\n",
    "pivot_table = pd.pivot_table(df, values='C', index='A', columns='B', aggfunc='sum', fill_value=0)\n",
    "print(pivot_table)\n"
   ]
  },
  {
   "cell_type": "code",
   "execution_count": null,
   "id": "1c630051-9dfe-4dcd-9917-0cfa51a87941",
   "metadata": {},
   "outputs": [],
   "source": [
    "df = pd.read_clipboard()\n",
    "df"
   ]
  },
  {
   "cell_type": "code",
   "execution_count": null,
   "id": "0d47b124-e080-4ebf-86d5-94fe4b034157",
   "metadata": {},
   "outputs": [],
   "source": [
    "df['fengeshu'] = df['存货编码'].str.split('-').str.len()"
   ]
  },
  {
   "cell_type": "code",
   "execution_count": null,
   "id": "12f83100-4f70-4bf0-8e0b-8d4e59528832",
   "metadata": {},
   "outputs": [],
   "source": [
    "df['fengeshu'] "
   ]
  },
  {
   "cell_type": "code",
   "execution_count": null,
   "id": "64e8acb8-54b4-40a5-beb8-022b80a02be9",
   "metadata": {},
   "outputs": [],
   "source": [
    "df.to_excel('fenge.xlsx',index = False)"
   ]
  },
  {
   "cell_type": "code",
   "execution_count": null,
   "id": "d2206ab6-8ecd-4ee8-9e1e-74470f890965",
   "metadata": {},
   "outputs": [],
   "source": [
    "\n",
    "    \n",
    "    \n",
    "    \n",
    "    # df['fengeshu'] = df['存货编码'].str.split('-').str.len()\n",
    "    # df['bianma1'] = df['存货编码']\n",
    "    # df = df.assign(bianma1  = np.where(df['fenggeshu'] == 1, df['存货编码'],np.where(df['fenggeshu'] == 2,)))\n",
    "    \n",
    "    "
   ]
  },
  {
   "cell_type": "code",
   "execution_count": null,
   "id": "2eaec1d1-05e9-4247-8d8b-19be013e9737",
   "metadata": {},
   "outputs": [],
   "source": [
    "s = []\n",
    "for i in df['存货编码'].to_list():\n",
    "    print(i)\n",
    "    \n",
    "    j = fengefu(i)\n",
    "    print('j',j)\n",
    "    s.append(j)\n",
    "s\n"
   ]
  },
  {
   "cell_type": "code",
   "execution_count": null,
   "id": "89706f64-ed8b-4638-ad9b-191ccc0816be",
   "metadata": {},
   "outputs": [],
   "source": [
    "s"
   ]
  },
  {
   "cell_type": "code",
   "execution_count": null,
   "id": "ce1939a1-4fb7-41fe-8c3c-e646f20797c1",
   "metadata": {},
   "outputs": [],
   "source": [
    "len(s)"
   ]
  },
  {
   "cell_type": "code",
   "execution_count": null,
   "id": "96034210-3577-4e91-9992-b33b6a3881aa",
   "metadata": {},
   "outputs": [],
   "source": [
    "len(df['存货编码'])"
   ]
  },
  {
   "cell_type": "code",
   "execution_count": null,
   "id": "a54057f9-a4b1-435f-a9dc-d74f0850904e",
   "metadata": {},
   "outputs": [],
   "source": [
    "df"
   ]
  },
  {
   "cell_type": "code",
   "execution_count": null,
   "id": "957213fe-1259-4dd8-a659-2913adc793fc",
   "metadata": {},
   "outputs": [],
   "source": [
    "df['存货编码1'] = s"
   ]
  },
  {
   "cell_type": "code",
   "execution_count": null,
   "id": "b276f817-5659-4994-9a67-666a0c3c22ba",
   "metadata": {},
   "outputs": [],
   "source": [
    "df.to_excel('fengehou.xlsx',index = False)"
   ]
  },
  {
   "cell_type": "code",
   "execution_count": null,
   "id": "b7871a77-55dd-4be9-a5aa-7fdbc31b4715",
   "metadata": {},
   "outputs": [],
   "source": [
    "df_xiaoshou3"
   ]
  },
  {
   "cell_type": "code",
   "execution_count": null,
   "id": "2e05ba21-d656-4efe-90e1-624b153ae219",
   "metadata": {},
   "outputs": [],
   "source": [
    "pivot"
   ]
  },
  {
   "cell_type": "code",
   "execution_count": null,
   "id": "7a7f6623-0f67-40e9-8d18-ecb5b9c74d6a",
   "metadata": {},
   "outputs": [],
   "source": [
    "df1 = pd.read_clipboard()\n",
    "df1\n"
   ]
  },
  {
   "cell_type": "code",
   "execution_count": null,
   "id": "fb24d71c-e55f-48fa-8ab8-eb1f65dcee57",
   "metadata": {},
   "outputs": [],
   "source": [
    "# guiges_qian = []\n",
    "# guiges_hou = []\n",
    "def guige(string):\n",
    "    if ('型' in string) and ('页' in string):\n",
    "        qian = string.split('型')[0] + '型'\n",
    "        hou =  string.split('型')[1] \n",
    "    elif ('型' in string) or ('页' in string):\n",
    "        if '型' in string :\n",
    "            qian = string.split('型')[0] + '型'\n",
    "            hou =  string.split('型')[1] \n",
    "        else :\n",
    "            qian = string.split('页')[0] + '页'\n",
    "            hou =  string.split('页')[1] \n",
    "    else :\n",
    "        qian = ''\n",
    "        hou = ''\n",
    "                \n",
    "  \n",
    "    \n",
    "    return qian,hou\n",
    "    \n",
    "        \n",
    "    \n",
    "        \n",
    "    "
   ]
  },
  {
   "cell_type": "code",
   "execution_count": null,
   "id": "f4c0dc32-d1da-4f83-a2cc-d45470f99454",
   "metadata": {},
   "outputs": [],
   "source": [
    "qian,hou = guige('aa型aa')\n",
    "qian\n",
    "hou"
   ]
  },
  {
   "cell_type": "code",
   "execution_count": null,
   "id": "5d5f7a91-4dff-48db-8858-82087be3cc8d",
   "metadata": {},
   "outputs": [],
   "source": [
    "\"型\" in 'aa型aa型'"
   ]
  },
  {
   "cell_type": "code",
   "execution_count": null,
   "id": "e913999a-7f21-4f46-aa04-10b15dc4966d",
   "metadata": {},
   "outputs": [],
   "source": [
    "'aa型aa'.startswith('型') != True"
   ]
  },
  {
   "cell_type": "code",
   "execution_count": null,
   "id": "0c92e12a-f5ef-4763-8d7b-af50e5353bb1",
   "metadata": {},
   "outputs": [],
   "source": [
    "'型aa型aa型'.count('型')"
   ]
  },
  {
   "cell_type": "code",
   "execution_count": null,
   "id": "d5cca868-138b-4664-97e5-9ff431c999d5",
   "metadata": {},
   "outputs": [],
   "source": []
  },
  {
   "cell_type": "code",
   "execution_count": null,
   "id": "729685ef-8357-46e6-b087-1d82acdb0662",
   "metadata": {},
   "outputs": [],
   "source": [
    "guiges_qian = []\n",
    "guiges_hou = []\n",
    "for i in df1['规格型号'].to_list():\n",
    "    qian,hou = guige(i)\n",
    "    print(qian,hou)\n",
    "    guiges_qian.append(qian)\n",
    "    guiges_hou.append(hou)\n"
   ]
  },
  {
   "cell_type": "code",
   "execution_count": null,
   "id": "5c1ef990-9e84-49cb-90fa-2753775d0caa",
   "metadata": {},
   "outputs": [],
   "source": [
    "guiges_qian"
   ]
  },
  {
   "cell_type": "code",
   "execution_count": null,
   "id": "0c28f895-9d9b-4c8c-b884-9dff107d067c",
   "metadata": {},
   "outputs": [],
   "source": [
    "guiges_hou"
   ]
  },
  {
   "cell_type": "code",
   "execution_count": null,
   "id": "c80a2ee5-3486-4d87-8750-ebc257befe0e",
   "metadata": {},
   "outputs": [],
   "source": [
    "len(guiges_hou)"
   ]
  },
  {
   "cell_type": "code",
   "execution_count": null,
   "id": "48ee6071-163a-4ec9-b708-f8734a9ff8cd",
   "metadata": {},
   "outputs": [],
   "source": [
    "pivot"
   ]
  },
  {
   "cell_type": "code",
   "execution_count": null,
   "id": "137cc734-4a4b-4149-8da0-c2672d7a08e5",
   "metadata": {},
   "outputs": [],
   "source": [
    "qian,hou = guige('16K80精品道林页卡面语文本B2301')"
   ]
  },
  {
   "cell_type": "code",
   "execution_count": null,
   "id": "952dd815-0f8b-4cc4-a09b-a8492c2ad9c6",
   "metadata": {},
   "outputs": [],
   "source": [
    "qian"
   ]
  },
  {
   "cell_type": "code",
   "execution_count": null,
   "id": "095d7b2e-7d42-414a-bdc8-5db49adb2e91",
   "metadata": {},
   "outputs": [],
   "source": [
    "hou"
   ]
  },
  {
   "cell_type": "code",
   "execution_count": null,
   "id": "1f74ca74-9f52-4d84-a784-31ea27a26785",
   "metadata": {},
   "outputs": [],
   "source": [
    "guige_qian = []\n",
    "guige_hou = []\n",
    "for i in pivot['存货名称'].to_list():\n",
    "    qian0,hou0 = guige(pivot)\n",
    "    guige_qian.append(qian0)\n",
    "    guige_hou.append(hou0)\n",
    "pivot = pivot.assign(qian = guige_qian)\n",
    "pivot = pivot.assign(hou = guige_hou)\n",
    "pivot"
   ]
  },
  {
   "cell_type": "code",
   "execution_count": null,
   "id": "328752dd-6718-4344-ab14-81c0552b2677",
   "metadata": {},
   "outputs": [],
   "source": [
    "guige_qian = []\n",
    "guige_hou = []\n",
    "for i in pivot['存货名称'].to_list():\n",
    "    print('i',i)\n",
    "    qian0,hou0 = guige(pivot)\n",
    "    print('qian',qian0)\n",
    "    print('hou',hou0)\n",
    "    guige_qian.append(qian0)\n",
    "    guige_hou.append(hou0)\n",
    "pivot = pivot.assign(qian = guige_qian)\n",
    "pivot = pivot.assign(hou = guige_hou)\n",
    "pivot\n",
    "    "
   ]
  },
  {
   "cell_type": "code",
   "execution_count": null,
   "id": "c1ddb496-fd4a-4004-951c-f78bdfb50001",
   "metadata": {},
   "outputs": [],
   "source": []
  }
 ],
 "metadata": {
  "kernelspec": {
   "display_name": "Python 3 (ipykernel)",
   "language": "python",
   "name": "python3"
  },
  "language_info": {
   "codemirror_mode": {
    "name": "ipython",
    "version": 3
   },
   "file_extension": ".py",
   "mimetype": "text/x-python",
   "name": "python",
   "nbconvert_exporter": "python",
   "pygments_lexer": "ipython3",
   "version": "3.11.5"
  }
 },
 "nbformat": 4,
 "nbformat_minor": 5
}
