{
 "cells": [
  {
   "cell_type": "code",
   "execution_count": 2,
   "id": "bdc6765e-8e58-4dd1-9e12-687c5ce7399e",
   "metadata": {},
   "outputs": [],
   "source": [
    "import re\n",
    "import pandas as pd\n",
    "import os\n",
    "import openpyxl\n",
    "path0 = r'J:'\n",
    "lst = os.listdir(path0)\n",
    "lst1 = [i  for i in lst if i.startswith('hellorbsq') ]   #  and i.startswith('hellorbsq')\n",
    "data = []\n",
    "# data = [['path','file']]\n",
    "for i in lst1:\n",
    "    path1 = os.path.join(path0,i)\n",
    "    lst2 = os.listdir(path1)\n",
    "    for j in lst2:\n",
    "        path2 = os.path.join(path1,j)\n",
    "        data.append([i,j])\n",
    "df = pd.DataFrame(data,columns = ['path','file'])\n",
    "fname = r\"F:\\a00nutstore\\z中国书法\\网友书法\\hellorbsqmingxi.xlsx\"\n",
    "wb = openpyxl.load_workbook(fname)\n",
    "ws = wb.active\n",
    "max_row = ws.max_row\n",
    "with pd.ExcelWriter(fname, engine='openpyxl',mode='a', if_sheet_exists='overlay')  as writer:\n",
    "    df.to_excel(writer, sheet_name = ws.title,startrow = max_row,index = False,header = None)\n",
    "os.startfile(fname)\n",
    "\n"
   ]
  },
  {
   "cell_type": "code",
   "execution_count": null,
   "id": "81d8d908-76bf-4ca4-bee2-86863a0471df",
   "metadata": {},
   "outputs": [],
   "source": []
  }
 ],
 "metadata": {
  "kernelspec": {
   "display_name": "Python 3 (ipykernel)",
   "language": "python",
   "name": "python3"
  },
  "language_info": {
   "codemirror_mode": {
    "name": "ipython",
    "version": 3
   },
   "file_extension": ".py",
   "mimetype": "text/x-python",
   "name": "python",
   "nbconvert_exporter": "python",
   "pygments_lexer": "ipython3",
   "version": "3.13.0"
  }
 },
 "nbformat": 4,
 "nbformat_minor": 5
}
