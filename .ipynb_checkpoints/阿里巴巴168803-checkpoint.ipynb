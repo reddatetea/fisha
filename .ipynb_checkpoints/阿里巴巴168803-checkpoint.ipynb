{
 "cells": [
  {
   "cell_type": "code",
   "execution_count": null,
   "id": "232826b8-212f-4bd2-af26-a9039ea47225",
   "metadata": {},
   "outputs": [],
   "source": [
    "import numpy as np\n",
    "import pandas as pd\n",
    "import os\n",
    "import easygui\n",
    "import openpyxl"
   ]
  },
  {
   "cell_type": "code",
   "execution_count": null,
   "id": "60f351d2-14a0-4192-82b7-adc8414da093",
   "metadata": {
    "scrolled": true
   },
   "outputs": [],
   "source": [
    "def alibabaXiaoshouMingxi(fname):\n",
    "    \n",
    "    df = pd.read_excel(fname,dtype = {'订单号':'str','Offer_ID':'str', 'SKU_ID':'str'})\n",
    "    col1s = ['订单号','卖家公司名称', '卖家会员名','订单状态', '订单创建时间', '订单付款时间', '收货人姓名', '收货地址', '邮编',\n",
    "       '联系手机',  '货运公司', '运单号']\n",
    "    col2s = ['货品总价', '运费（元）', '商家改价（元）',\n",
    "           '实付款（元）']\n",
    "    for col in col1s:\n",
    "        df[col] =  df[col].ffill()\n",
    "    for col in col2s :\n",
    "        df[col] = df[col].fillna(0)\n",
    "    return df\n",
    "\n",
    "fname = r\"F:\\a00nutstore\\008\\zw08\\电商\\阿里巴巴1688\\阿里巴巴202240726-20241025正.xlsx\"\n",
    "\n",
    "df = alibabaXiaoshouMingxi(fname)\n",
    "df\n",
    "    \n",
    "\n"
   ]
  },
  {
   "cell_type": "code",
   "execution_count": null,
   "id": "bcf63b33-8b4e-434c-80ff-5fd3ff2f1869",
   "metadata": {},
   "outputs": [],
   "source": [
    "\n",
    "df.columns"
   ]
  },
  {
   "cell_type": "code",
   "execution_count": null,
   "id": "5778b47b-997e-4ff2-8b56-6ab766c4af2d",
   "metadata": {},
   "outputs": [],
   "source": [
    "df.to_excel('阿里巴巴销售明细已加工0726-1025-01.xlsx')"
   ]
  },
  {
   "cell_type": "code",
   "execution_count": null,
   "id": "929c749c-e6a8-4875-8f8b-fad588427044",
   "metadata": {},
   "outputs": [],
   "source": [
    "pivot = df.pivot_table(index = '单品货号',values = ['数量','货品总价','运费（元）','商家改价（元）','实付款（元）'] ,aggfunc = 'sum')\n",
    "pivot = pivot.reset_index()\n",
    "total = pivot.sum().to_frame().T\n",
    "result = pd.concat([pivot,total])\n",
    "result.iloc[-1,0] = '小计'\n",
    "result =  result[['单品货号','数量','货品总价','运费（元）','商家改价（元）','实付款（元）']]\n",
    "\n"
   ]
  },
  {
   "cell_type": "code",
   "execution_count": null,
   "id": "67553865-13f5-4c93-937d-8d13d5ba91c5",
   "metadata": {},
   "outputs": [],
   "source": [
    "result.to_excel('阿里巴巴销售明细表按品名汇总0726-1025.xlsx',index = False)"
   ]
  }
 ],
 "metadata": {
  "kernelspec": {
   "display_name": "Python 3 (ipykernel)",
   "language": "python",
   "name": "python3"
  },
  "language_info": {
   "codemirror_mode": {
    "name": "ipython",
    "version": 3
   },
   "file_extension": ".py",
   "mimetype": "text/x-python",
   "name": "python",
   "nbconvert_exporter": "python",
   "pygments_lexer": "ipython3",
   "version": "3.11.5"
  }
 },
 "nbformat": 4,
 "nbformat_minor": 5
}
