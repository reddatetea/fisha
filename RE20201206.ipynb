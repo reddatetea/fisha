{
 "cells": [
  {
   "cell_type": "code",
   "execution_count": 38,
   "metadata": {},
   "outputs": [
    {
     "name": "stdout",
     "output_type": "stream",
     "text": [
      "<re.Match object; span=(0, 10), match='2020-12-20'>\n",
      "2020-12-20starts at 0and ends at 10\n",
      "2020starts at 0and ends at 4\n",
      "12starts at 5and ends at 7\n",
      "20starts at 8and ends at 10\n",
      "year: 2020 month: 12 day: 20\n"
     ]
    }
   ],
   "source": [
    "import re\n",
    "obj= re.search(r'(\\d{4})-(\\d{2})-(\\d{2})','2020-12-20')\n",
    "print(obj)\n",
    "a= '{}starts at {}and ends at {}'.format(obj.group(), obj. pos, obj.endpos)\n",
    "print(a)\n",
    "\n",
    "for i in range(1,obj.lastindex +1 ):\n",
    "    b= '{}starts at {}and ends at {}'.format(obj.group(i), obj.start(i), obj.end(i))\n",
    "    print(b)\n",
    "print(obj.expand (r\"year: \\1 month: \\2 day: \\3\"))\n",
    "# 2010-12-20 starts at 0 and ends at 10\n",
    "# 2010 starts at and ends at 4\n",
    "# 12 starts at 5 and ends at 7\n",
    "# 20 starts at 8 and ends at 10\n",
    "\n"
   ]
  },
  {
   "cell_type": "code",
   "execution_count": 40,
   "metadata": {},
   "outputs": [
    {
     "name": "stdout",
     "output_type": "stream",
     "text": [
      "One Two Three\n"
     ]
    }
   ],
   "source": [
    "import re\n",
    "def captalize(match):\n",
    "    return match.group(1).upper()+match.group(2).lower()\n",
    "print(re.sub(r'(?i)\\b([a-z])([a-z]+)\\b',captalize,'one TWO tHREE'))"
   ]
  },
  {
   "cell_type": "code",
   "execution_count": null,
   "metadata": {},
   "outputs": [],
   "source": []
  }
 ],
 "metadata": {
  "kernelspec": {
   "display_name": "Python 3",
   "language": "python",
   "name": "python3"
  },
  "language_info": {
   "codemirror_mode": {
    "name": "ipython",
    "version": 3
   },
   "file_extension": ".py",
   "mimetype": "text/x-python",
   "name": "python",
   "nbconvert_exporter": "python",
   "pygments_lexer": "ipython3",
   "version": "3.7.1"
  }
 },
 "nbformat": 4,
 "nbformat_minor": 2
}
