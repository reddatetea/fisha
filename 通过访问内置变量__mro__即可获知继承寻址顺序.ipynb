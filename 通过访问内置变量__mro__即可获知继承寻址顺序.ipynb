{
 "cells": [
  {
   "cell_type": "code",
   "execution_count": 9,
   "id": "24fb6061",
   "metadata": {},
   "outputs": [
    {
     "name": "stdout",
     "output_type": "stream",
     "text": [
      "(<class '__main__.E'>, <class '__main__.D'>, <class '__main__.C'>, <class '__main__.A'>, <class '__main__.B'>, <class 'object'>)\n",
      "I am in D\n",
      "You are calling A\n",
      "[<class '__main__.F'>, <class '__main__.D'>, <class '__main__.C'>, <class '__main__.B'>, <class '__main__.A'>, <class 'object'>]\n",
      "I am in D\n",
      "You are calling B\n"
     ]
    }
   ],
   "source": [
    "'''\n",
    "  类继承中多态性方法的调用顺序演示\n",
    "  沈红卫\n",
    "  2018年4月23日\n",
    " '''\n",
    "class A(object):\n",
    "    def hello(self):\n",
    "        print(\"I am in A\")\n",
    "    def tell(self):\n",
    "        print(\"You are calling A\")\n",
    "\n",
    "class B(object):\n",
    "    def hello(self):\n",
    "        print(\"I am in B\")\n",
    "    def tell(self):\n",
    "        print(\"You are calling B\")\n",
    "\n",
    "class C(A):\n",
    "    def hello(self):\n",
    "        print(\"I am in C\")\n",
    "\n",
    "class D(B):\n",
    "    def hello(self):\n",
    "        print(\"I am in D\")\n",
    "\n",
    "class E(D, C, A, B):\n",
    "    pass\n",
    "\n",
    "class F(D, C, B, A):\n",
    "    pass\n",
    "\n",
    "if __name__== '__main__':\n",
    "    print(E.__mro__)    #属性__mro__，显示E类的继承寻址顺序\n",
    "    e=E()\n",
    "    e.hello()\n",
    "    e.tell()\n",
    "\n",
    "    print(F.mro())       #方法mro()，显示F类的继承寻址顺序\n",
    "    e=F()\n",
    "    e.hello()\n",
    "    e.tell()"
   ]
  },
  {
   "cell_type": "code",
   "execution_count": 11,
   "id": "e985f59b",
   "metadata": {},
   "outputs": [
    {
     "data": {
      "text/plain": [
       "True"
      ]
     },
     "execution_count": 11,
     "metadata": {},
     "output_type": "execute_result"
    }
   ],
   "source": [
    "issubclass(C,A)"
   ]
  },
  {
   "cell_type": "code",
   "execution_count": 14,
   "id": "f5b00d1d",
   "metadata": {},
   "outputs": [
    {
     "data": {
      "text/plain": [
       "False"
      ]
     },
     "execution_count": 14,
     "metadata": {},
     "output_type": "execute_result"
    }
   ],
   "source": [
    "isinstance(e,E)"
   ]
  },
  {
   "cell_type": "code",
   "execution_count": 15,
   "id": "03e02798",
   "metadata": {},
   "outputs": [],
   "source": [
    "e=E()"
   ]
  },
  {
   "cell_type": "code",
   "execution_count": 16,
   "id": "7c97bff8",
   "metadata": {},
   "outputs": [
    {
     "data": {
      "text/plain": [
       "True"
      ]
     },
     "execution_count": 16,
     "metadata": {},
     "output_type": "execute_result"
    }
   ],
   "source": [
    "isinstance(e,E)"
   ]
  },
  {
   "cell_type": "code",
   "execution_count": null,
   "id": "b73b631d",
   "metadata": {},
   "outputs": [],
   "source": []
  }
 ],
 "metadata": {
  "kernelspec": {
   "display_name": "Python 3 (ipykernel)",
   "language": "python",
   "name": "python3"
  },
  "language_info": {
   "codemirror_mode": {
    "name": "ipython",
    "version": 3
   },
   "file_extension": ".py",
   "mimetype": "text/x-python",
   "name": "python",
   "nbconvert_exporter": "python",
   "pygments_lexer": "ipython3",
   "version": "3.9.13"
  }
 },
 "nbformat": 4,
 "nbformat_minor": 5
}
