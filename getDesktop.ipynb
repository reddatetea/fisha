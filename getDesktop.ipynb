{
 "cells": [
  {
   "cell_type": "code",
   "execution_count": 1,
   "metadata": {},
   "outputs": [
    {
     "name": "stdout",
     "output_type": "stream",
     "text": [
      "['0515暂估.lnk', '2001 US Open- 劉國正 (Liu Guozheng) VS 黃文冠 (Johnny Huang).mp4', '2020入库.xlsx', '2020白云入库.xlsx', '4610b912c8fcc3ce2bb6c8a713dffb84d53f2052.webp', 'Blue-Topaz_Obsidian-css-master', 'desktop.ini', 'duizhang.lnk', 'Fast Orange - 1 .appref-ms', 'fayoujian.lnk', 'google.lnk', 'Internet Download Manager.lnk', 'meitian.lnk', 'mmexport1679632681579.png', 'My Kindle Content.lnk', 'Obsidian.lnk', 'pyecharts Y轴配置01.JPG', 'pyecharts Y轴配置02.JPG', 'pyecharts Y轴配置03.JPG', 'python-data-2022008ppt.pdf', 'Python数据分析与案例教程-于晓梅 - 快捷方式.lnk', 'RegClean.exe - 快捷方式.lnk', 'ribaobiao - 快捷方式.lnk', 'Sourcetree.lnk', 'SQL Server 2017从零开始学-李小威 - 快捷方式.lnk', 'UF2KAct.Lst', 'UFDATA.BA_', '上海保喆20230424对账单.xls', '双佳-0.3万-冠天-05.11(1) (1).pdf', '堂堂-水二中七8班2023-04-26春游-大巴车上.mp4', '小白羊云盘.lnk', '小盐悠莱.webp', '微信图片_20230211132018.jpg', '微信图片_20230511144502.png', '微信图片_20230515151856.jpg', '微信文件夹.lnk', '打包命令.txt', '晴川资产负债表.pdf', '暂估0414.xls', '暂估0416.xls', '暂估0517.xls', '湖北双佳.pdf', '白云2023年第1季度1-湖北双佳.xls', '计算机词汇.lnk', '财务部220室维修单2023-5-11.jpg', '迅捷剪辑软件', '迅捷视频转换器', '迅雷.lnk', '阿里云盘.lnk']\n"
     ]
    }
   ],
   "source": [
    "import winreg\n",
    "import os\n",
    "def get_desktop():  \n",
    "    key = winreg.OpenKey(winreg.HKEY_CURRENT_USER,r'Software\\Microsoft\\Windows\\CurrentVersion\\Explorer\\Shell Folders')  \n",
    "    return winreg.QueryValueEx(key, \"Desktop\")[0]\n",
    "path = get_desktop()\n",
    "files = os.listdir(path)\n",
    "print(files)"
   ]
  },
  {
   "cell_type": "code",
   "execution_count": null,
   "metadata": {},
   "outputs": [],
   "source": []
  }
 ],
 "metadata": {
  "kernelspec": {
   "display_name": "Python 3 (ipykernel)",
   "language": "python",
   "name": "python3"
  },
  "language_info": {
   "codemirror_mode": {
    "name": "ipython",
    "version": 3
   },
   "file_extension": ".py",
   "mimetype": "text/x-python",
   "name": "python",
   "nbconvert_exporter": "python",
   "pygments_lexer": "ipython3",
   "version": "3.8.3"
  }
 },
 "nbformat": 4,
 "nbformat_minor": 2
}
