{
 "cells": [
  {
   "cell_type": "code",
   "execution_count": 18,
   "id": "b748146d",
   "metadata": {},
   "outputs": [],
   "source": [
    "import os\n",
    "import time\n",
    "import easygui\n",
    "import shutil"
   ]
  },
  {
   "cell_type": "code",
   "execution_count": 2,
   "id": "2f733ae1",
   "metadata": {},
   "outputs": [],
   "source": [
    "fname = r'C:\\Users\\ASUS\\AppData\\Local\\Packages\\Microsoft.Windows.ContentDeliveryManager_cw5n1h2txyewy\\LocalState\\Assets'\n"
   ]
  },
  {
   "cell_type": "code",
   "execution_count": null,
   "id": "72a0f440",
   "metadata": {},
   "outputs": [],
   "source": [
    "import os\n",
    "import time\n",
    "#前缀1   名字\n",
    "name = '堂堂'\n",
    "\n",
    "#前缀2    地点\n",
    "place = ''\n",
    "\n",
    "#前缀3    方式\n",
    "#文伟手机\n",
    "way = 'wwsj'\n",
    "\n",
    "#序列号\n",
    "xlh = ''\n",
    "\n",
    "#list1 =[]\n",
    "#filePath = 'C:\\\\Users\\\\asus\\\\2015年06月'\n",
    "filePath= input('请输入想要批量更名的完整路径:').strip()  #由用户指定文件路径，去除输入字符串前后空格\n",
    "def totalRename(filePath):\n",
    "    sortFile(filePath)\n",
    "    renameFile(filePath)\n",
    "    zcpl(filePath)\n",
    "\n",
    "def sortFile(filePath):\n",
    "    dir_list = os.listdir(filePath)\n",
    "    fileList = sorted(dir_list, key=lambda x: os.path.getmtime(os.path.join(filePath, x)))\n",
    "    return fileList\n",
    "\n",
    "def renameFile(filePath):\n",
    "    fileList = sortFile(filePath)\n",
    "    print(fileList)\n",
    "    #print(fileList)\n",
    "    for filename in fileList:\n",
    "        for i in range(len(fileList)):\n",
    "            xlh = '%03d'%(i+1)\n",
    "            print(xlh)\n",
    "            filename = fileList[i]\n",
    "            print(filename)\n",
    "            oldname = os.path.join(filePath,fileList[i])\n",
    "\n",
    "            #statinfo=os.stat(os.path.join(filePath,filename))\n",
    "            statinfo=os.stat(os.path.join(filePath,fileList[i]))\n",
    "\n",
    "\n",
    "            createTimeStrimng = time.strftime('%Y%m%d%H%M%S',time.localtime(statinfo.st_mtime))\n",
    "\n",
    "            abc = name+createTimeStrimng+place+way+xlh+ os.path.splitext(filename)[-1]\n",
    "            #print(abc)\n",
    "            newname = os.path.join(filePath,abc)\n",
    "            os.chdir(filePath)\n",
    "            os.rename(oldname,newname)\n",
    "\n",
    "#文件夹更名后再次遍历，这次只针对文件夹\n",
    "def zcpl(filePath):\n",
    "    time.sleep(5)\n",
    "    #nonlocal fileList\n",
    "    fileList = sortFile(filePath)\n",
    "    #print(fileList)\n",
    "    for filename in fileList:\n",
    "        #print(filename)\n",
    "        pathTmp = os.path.join(filePath, filename)  # 获取path与filename组合后的路径\n",
    "        #print(pathTmp)\n",
    "        if os.path.isdir(pathTmp):  # 判断是否为目录\n",
    "            totalRename(pathTmp)  # 是目录就继续递归查找\n",
    "            #sortFile(pathTmp)\n",
    "        elif os.path.isfile(pathTmp):\n",
    "            pass\n",
    "\n",
    "    return\n",
    "\n",
    "\n",
    "\n",
    "\n",
    "#renameFile(filePath)\n",
    "totalRename(filePath)"
   ]
  },
  {
   "cell_type": "code",
   "execution_count": 3,
   "id": "73f1b907",
   "metadata": {},
   "outputs": [],
   "source": [
    "a = os.path.getmtime(r'C:\\Users\\ASUS\\AppData\\Local\\Packages\\Microsoft.Windows.ContentDeliveryManager_cw5n1h2txyewy\\LocalState\\Assets\\1cd17b533a7393d9b243ada4ab3da8dfc658d22c89d72d9efc66a236a00209cc')"
   ]
  },
  {
   "cell_type": "code",
   "execution_count": 5,
   "id": "ac13856e",
   "metadata": {},
   "outputs": [],
   "source": [
    "filename = r'C:\\Users\\ASUS\\AppData\\Local\\Packages\\Microsoft.Windows.ContentDeliveryManager_cw5n1h2txyewy\\LocalState\\Assets\\1cd17b533a7393d9b243ada4ab3da8dfc658d22c89d72d9efc66a236a00209cc'"
   ]
  },
  {
   "cell_type": "code",
   "execution_count": 6,
   "id": "3ffc607e",
   "metadata": {},
   "outputs": [],
   "source": [
    "statinfo=os.stat(filename)"
   ]
  },
  {
   "cell_type": "code",
   "execution_count": 9,
   "id": "f3111c8f",
   "metadata": {},
   "outputs": [
    {
     "data": {
      "text/plain": [
       "'20230414183003'"
      ]
     },
     "execution_count": 9,
     "metadata": {},
     "output_type": "execute_result"
    }
   ],
   "source": [
    "createTimeStrimng = time.strftime('%Y%m%d%H%M%S',time.localtime(statinfo.st_mtime))\n",
    "createTimeStrimng"
   ]
  },
  {
   "cell_type": "code",
   "execution_count": 92,
   "id": "05361026",
   "metadata": {},
   "outputs": [],
   "source": [
    "a = time.localtime(statinfo.st_mtime)"
   ]
  },
  {
   "cell_type": "code",
   "execution_count": 93,
   "id": "422412c2",
   "metadata": {},
   "outputs": [
    {
     "data": {
      "text/plain": [
       "time.struct_time(tm_year=2023, tm_mon=4, tm_mday=14, tm_hour=18, tm_min=30, tm_sec=3, tm_wday=4, tm_yday=104, tm_isdst=0)"
      ]
     },
     "execution_count": 93,
     "metadata": {},
     "output_type": "execute_result"
    }
   ],
   "source": [
    "a"
   ]
  },
  {
   "cell_type": "code",
   "execution_count": null,
   "id": "cc6d7049",
   "metadata": {},
   "outputs": [],
   "source": []
  },
  {
   "cell_type": "code",
   "execution_count": 33,
   "id": "7cae082d",
   "metadata": {},
   "outputs": [
    {
     "ename": "TypeError",
     "evalue": "an integer is required (got type str)",
     "output_type": "error",
     "traceback": [
      "\u001b[1;31m---------------------------------------------------------------------------\u001b[0m",
      "\u001b[1;31mTypeError\u001b[0m                                 Traceback (most recent call last)",
      "\u001b[1;32m~\\AppData\\Local\\Temp\\ipykernel_9536\\4242018260.py\u001b[0m in \u001b[0;36m<module>\u001b[1;34m\u001b[0m\n\u001b[1;32m----> 1\u001b[1;33m \u001b[0mdatetime\u001b[0m\u001b[1;33m(\u001b[0m\u001b[1;34m'2023-04-14'\u001b[0m\u001b[1;33m)\u001b[0m\u001b[1;33m\u001b[0m\u001b[1;33m\u001b[0m\u001b[0m\n\u001b[0m",
      "\u001b[1;31mTypeError\u001b[0m: an integer is required (got type str)"
     ]
    }
   ],
   "source": [
    "datetime('2023-04-14')"
   ]
  },
  {
   "cell_type": "code",
   "execution_count": 41,
   "id": "a2ee8080",
   "metadata": {},
   "outputs": [],
   "source": [
    "a = datetime.strptime('2023-04-14','%Y-%m-%d')"
   ]
  },
  {
   "cell_type": "code",
   "execution_count": 13,
   "id": "d59a94f4",
   "metadata": {},
   "outputs": [],
   "source": [
    "qian,hou = os.path.split(filename)"
   ]
  },
  {
   "cell_type": "code",
   "execution_count": 14,
   "id": "4fa3ca40",
   "metadata": {},
   "outputs": [
    {
     "data": {
      "text/plain": [
       "'1cd17b533a7393d9b243ada4ab3da8dfc658d22c89d72d9efc66a236a00209cc'"
      ]
     },
     "execution_count": 14,
     "metadata": {},
     "output_type": "execute_result"
    }
   ],
   "source": [
    "hou"
   ]
  },
  {
   "cell_type": "code",
   "execution_count": 15,
   "id": "6b0ebb6b",
   "metadata": {},
   "outputs": [
    {
     "data": {
      "text/plain": [
       "'C:\\\\Users\\\\ASUS\\\\AppData\\\\Local\\\\Packages\\\\Microsoft.Windows.ContentDeliveryManager_cw5n1h2txyewy\\\\LocalState\\\\Assets'"
      ]
     },
     "execution_count": 15,
     "metadata": {},
     "output_type": "execute_result"
    }
   ],
   "source": [
    "qian"
   ]
  },
  {
   "cell_type": "code",
   "execution_count": 19,
   "id": "209c8690",
   "metadata": {},
   "outputs": [
    {
     "data": {
      "text/plain": [
       "'F:\\\\a00nutstore\\\\fishc\\\\win10wallpaper\\\\123.jpg'"
      ]
     },
     "execution_count": 19,
     "metadata": {},
     "output_type": "execute_result"
    }
   ],
   "source": [
    "shutil.copy(filename,r'F:\\a00nutstore\\fishc\\win10wallpaper\\123.jpg')"
   ]
  },
  {
   "cell_type": "code",
   "execution_count": 20,
   "id": "144efdb0",
   "metadata": {},
   "outputs": [
    {
     "data": {
      "text/plain": [
       "'src,target'"
      ]
     },
     "execution_count": 20,
     "metadata": {},
     "output_type": "execute_result"
    }
   ],
   "source": [
    "'src,target'"
   ]
  },
  {
   "cell_type": "code",
   "execution_count": null,
   "id": "7c38e769",
   "metadata": {},
   "outputs": [],
   "source": [
    "target_path = r'F:\\a00nutstore\\fishc\\win10wallpaper'"
   ]
  },
  {
   "cell_type": "code",
   "execution_count": 24,
   "id": "d3c0481c",
   "metadata": {},
   "outputs": [],
   "source": [
    "from datetime import  datetime"
   ]
  },
  {
   "cell_type": "code",
   "execution_count": 31,
   "id": "7a40beef",
   "metadata": {},
   "outputs": [
    {
     "ename": "AttributeError",
     "evalue": "type object 'datetime.datetime' has no attribute 'datetime'",
     "output_type": "error",
     "traceback": [
      "\u001b[1;31m---------------------------------------------------------------------------\u001b[0m",
      "\u001b[1;31mAttributeError\u001b[0m                            Traceback (most recent call last)",
      "\u001b[1;32m~\\AppData\\Local\\Temp\\ipykernel_9536\\3677472532.py\u001b[0m in \u001b[0;36m<module>\u001b[1;34m\u001b[0m\n\u001b[1;32m----> 1\u001b[1;33m \u001b[0mb\u001b[0m \u001b[1;33m=\u001b[0m \u001b[0mdatetime\u001b[0m\u001b[1;33m.\u001b[0m\u001b[0mdatetime\u001b[0m\u001b[1;33m(\u001b[0m\u001b[0ma\u001b[0m\u001b[1;33m)\u001b[0m\u001b[1;33m\u001b[0m\u001b[1;33m\u001b[0m\u001b[0m\n\u001b[0m\u001b[0;32m      2\u001b[0m \u001b[0mb\u001b[0m\u001b[1;33m\u001b[0m\u001b[1;33m\u001b[0m\u001b[0m\n",
      "\u001b[1;31mAttributeError\u001b[0m: type object 'datetime.datetime' has no attribute 'datetime'"
     ]
    }
   ],
   "source": [
    "b = datetime(a)\n",
    "b"
   ]
  },
  {
   "cell_type": "code",
   "execution_count": 90,
   "id": "9b5c05b4",
   "metadata": {},
   "outputs": [],
   "source": [
    "start_period = datetime.strptime('2000-01-01','%Y-%m-%d')"
   ]
  },
  {
   "cell_type": "code",
   "execution_count": 91,
   "id": "d90c5b0a",
   "metadata": {},
   "outputs": [
    {
     "data": {
      "text/plain": [
       "datetime.datetime(2000, 1, 1, 0, 0)"
      ]
     },
     "execution_count": 91,
     "metadata": {},
     "output_type": "execute_result"
    }
   ],
   "source": [
    "start_period"
   ]
  },
  {
   "cell_type": "code",
   "execution_count": 42,
   "id": "41e173e7",
   "metadata": {},
   "outputs": [
    {
     "data": {
      "text/plain": [
       "False"
      ]
     },
     "execution_count": 42,
     "metadata": {},
     "output_type": "execute_result"
    }
   ],
   "source": [
    "start_period > a"
   ]
  },
  {
   "cell_type": "code",
   "execution_count": 69,
   "id": "7565e68d",
   "metadata": {},
   "outputs": [],
   "source": [
    "def getStrftime(file):\n",
    "    statinfo = os.stat(file)\n",
    "    file_size = statinfo.st_size\n",
    "    file_time = time.localtime(statinfo.st_mtime)\n",
    "    file_Strftime = time.strftime('%Y%m%d%H%M%S', file_time)\n",
    "    return file_time,file_Strftime,file_size"
   ]
  },
  {
   "cell_type": "code",
   "execution_count": 84,
   "id": "5051bbca",
   "metadata": {},
   "outputs": [],
   "source": [
    "target_path = r'F:\\a00nutstore\\win10wallpaper'\n",
    "os.chdir(target_path)\n",
    "files = os.listdir(target_path)\n",
    "periods = []\n",
    "if len(files) == 0:\n",
    "    start_period = datetime(2000,1,1)\n",
    "else :\n",
    "    for file in files:\n",
    "        file_Strftime,size = getStrftime(file)\n",
    "        print('file_time',file_time)\n",
    "        periods.append(file_time)\n",
    "    periods.sort()\n",
    "    start_period = periods[-1]"
   ]
  },
  {
   "cell_type": "code",
   "execution_count": 89,
   "id": "d236bdb1",
   "metadata": {},
   "outputs": [
    {
     "ename": "TypeError",
     "evalue": "structseq() takes at most 2 keyword arguments (9 given)",
     "output_type": "error",
     "traceback": [
      "\u001b[1;31m---------------------------------------------------------------------------\u001b[0m",
      "\u001b[1;31mTypeError\u001b[0m                                 Traceback (most recent call last)",
      "\u001b[1;32m~\\AppData\\Local\\Temp\\ipykernel_9536\\1223261986.py\u001b[0m in \u001b[0;36m<module>\u001b[1;34m\u001b[0m\n\u001b[1;32m----> 1\u001b[1;33m \u001b[0mstart_period1\u001b[0m \u001b[1;33m=\u001b[0m \u001b[0mtime\u001b[0m\u001b[1;33m.\u001b[0m\u001b[0mstruct_time\u001b[0m\u001b[1;33m(\u001b[0m\u001b[0mtm_year\u001b[0m\u001b[1;33m=\u001b[0m\u001b[1;36m2000\u001b[0m\u001b[1;33m,\u001b[0m \u001b[0mtm_mon\u001b[0m\u001b[1;33m=\u001b[0m\u001b[1;36m1\u001b[0m\u001b[1;33m,\u001b[0m \u001b[0mtm_mday\u001b[0m\u001b[1;33m=\u001b[0m\u001b[1;36m1\u001b[0m\u001b[1;33m,\u001b[0m \u001b[0mtm_hour\u001b[0m\u001b[1;33m=\u001b[0m\u001b[1;36m13\u001b[0m\u001b[1;33m,\u001b[0m \u001b[0mtm_min\u001b[0m\u001b[1;33m=\u001b[0m\u001b[1;36m43\u001b[0m\u001b[1;33m,\u001b[0m \u001b[0mtm_sec\u001b[0m\u001b[1;33m=\u001b[0m\u001b[1;36m9\u001b[0m\u001b[1;33m,\u001b[0m \u001b[0mtm_wday\u001b[0m\u001b[1;33m=\u001b[0m\u001b[1;36m6\u001b[0m\u001b[1;33m,\u001b[0m \u001b[0mtm_yday\u001b[0m\u001b[1;33m=\u001b[0m\u001b[1;36m29\u001b[0m\u001b[1;33m,\u001b[0m \u001b[0mtm_isdst\u001b[0m\u001b[1;33m=\u001b[0m\u001b[1;36m0\u001b[0m\u001b[1;33m)\u001b[0m\u001b[1;33m\u001b[0m\u001b[1;33m\u001b[0m\u001b[0m\n\u001b[0m",
      "\u001b[1;31mTypeError\u001b[0m: structseq() takes at most 2 keyword arguments (9 given)"
     ]
    }
   ],
   "source": [
    "start_period1 = time.struct_time(tm_year=2000, tm_mon=1, tm_mday=1, tm_hour=13, tm_min=43, tm_sec=9, tm_wday=6, tm_yday=29, tm_isdst=0)"
   ]
  },
  {
   "cell_type": "code",
   "execution_count": 96,
   "id": "9f5a90c4",
   "metadata": {},
   "outputs": [
    {
     "name": "stdout",
     "output_type": "stream",
     "text": [
      "file_time time.struct_time(tm_year=2023, tm_mon=1, tm_mday=29, tm_hour=13, tm_min=43, tm_sec=9, tm_wday=6, tm_yday=29, tm_isdst=0)\n",
      "file_time time.struct_time(tm_year=2023, tm_mon=4, tm_mday=14, tm_hour=18, tm_min=30, tm_sec=3, tm_wday=4, tm_yday=104, tm_isdst=0)\n",
      "file_time time.struct_time(tm_year=2023, tm_mon=4, tm_mday=18, tm_hour=18, tm_min=25, tm_sec=25, tm_wday=1, tm_yday=108, tm_isdst=0)\n",
      "file_time time.struct_time(tm_year=2023, tm_mon=1, tm_mday=30, tm_hour=18, tm_min=23, tm_sec=1, tm_wday=0, tm_yday=30, tm_isdst=0)\n",
      "file_time time.struct_time(tm_year=2023, tm_mon=4, tm_mday=18, tm_hour=18, tm_min=25, tm_sec=25, tm_wday=1, tm_yday=108, tm_isdst=0)\n",
      "file_time time.struct_time(tm_year=2023, tm_mon=4, tm_mday=14, tm_hour=18, tm_min=29, tm_sec=49, tm_wday=4, tm_yday=104, tm_isdst=0)\n",
      "file_time time.struct_time(tm_year=2023, tm_mon=4, tm_mday=14, tm_hour=18, tm_min=29, tm_sec=49, tm_wday=4, tm_yday=104, tm_isdst=0)\n",
      "file_time time.struct_time(tm_year=2023, tm_mon=4, tm_mday=18, tm_hour=18, tm_min=25, tm_sec=25, tm_wday=1, tm_yday=108, tm_isdst=0)\n",
      "file_time time.struct_time(tm_year=2023, tm_mon=4, tm_mday=18, tm_hour=18, tm_min=25, tm_sec=25, tm_wday=1, tm_yday=108, tm_isdst=0)\n",
      "file_time time.struct_time(tm_year=2023, tm_mon=4, tm_mday=14, tm_hour=18, tm_min=29, tm_sec=49, tm_wday=4, tm_yday=104, tm_isdst=0)\n",
      "file_time time.struct_time(tm_year=2023, tm_mon=4, tm_mday=18, tm_hour=18, tm_min=25, tm_sec=25, tm_wday=1, tm_yday=108, tm_isdst=0)\n",
      "file_time time.struct_time(tm_year=2023, tm_mon=4, tm_mday=14, tm_hour=18, tm_min=29, tm_sec=49, tm_wday=4, tm_yday=104, tm_isdst=0)\n",
      "file_time time.struct_time(tm_year=2023, tm_mon=4, tm_mday=14, tm_hour=18, tm_min=29, tm_sec=49, tm_wday=4, tm_yday=104, tm_isdst=0)\n",
      "file_time time.struct_time(tm_year=2023, tm_mon=1, tm_mday=30, tm_hour=18, tm_min=23, tm_sec=18, tm_wday=0, tm_yday=30, tm_isdst=0)\n",
      "file_time time.struct_time(tm_year=2023, tm_mon=1, tm_mday=29, tm_hour=13, tm_min=43, tm_sec=9, tm_wday=6, tm_yday=29, tm_isdst=0)\n",
      "file_time time.struct_time(tm_year=2023, tm_mon=4, tm_mday=18, tm_hour=18, tm_min=25, tm_sec=25, tm_wday=1, tm_yday=108, tm_isdst=0)\n",
      "file_time time.struct_time(tm_year=2023, tm_mon=4, tm_mday=18, tm_hour=18, tm_min=25, tm_sec=25, tm_wday=1, tm_yday=108, tm_isdst=0)\n"
     ]
    }
   ],
   "source": [
    "src_path = r'C:\\Users\\ASUS\\AppData\\Local\\Packages\\Microsoft.Windows.ContentDeliveryManager_cw5n1h2txyewy\\LocalState\\Assets'\n",
    "os.chdir(src_path)\n",
    "src_files =  os.listdir(src_path)\n",
    "src_pics = []\n",
    "for file in src_files:\n",
    "    file_Strftime,size = getStrftime(file)\n",
    "    start_time = datetime.strptime(file_Strftime, '%Y%m%d%H%M%S')\n",
    "    if start_time > start_period :\n",
    "        src_pics.append([os.path.join(src_path,file),file_Strftime])"
   ]
  },
  {
   "cell_type": "code",
   "execution_count": 97,
   "id": "dedefea1",
   "metadata": {},
   "outputs": [
    {
     "data": {
      "text/plain": [
       "[['C:\\\\Users\\\\ASUS\\\\AppData\\\\Local\\\\Packages\\\\Microsoft.Windows.ContentDeliveryManager_cw5n1h2txyewy\\\\LocalState\\\\Assets\\\\11519f87fb198c84436558899abdc6f3f8e444d9b9abdd016d1e601bfbb337a9',\n",
       "  '20230129134309'],\n",
       " ['C:\\\\Users\\\\ASUS\\\\AppData\\\\Local\\\\Packages\\\\Microsoft.Windows.ContentDeliveryManager_cw5n1h2txyewy\\\\LocalState\\\\Assets\\\\1cd17b533a7393d9b243ada4ab3da8dfc658d22c89d72d9efc66a236a00209cc',\n",
       "  '20230414183003'],\n",
       " ['C:\\\\Users\\\\ASUS\\\\AppData\\\\Local\\\\Packages\\\\Microsoft.Windows.ContentDeliveryManager_cw5n1h2txyewy\\\\LocalState\\\\Assets\\\\28742d8e1d5f15b91895f4b382c7cd316f10feef74c723fd0c506feac1b7e666',\n",
       "  '20230418182525'],\n",
       " ['C:\\\\Users\\\\ASUS\\\\AppData\\\\Local\\\\Packages\\\\Microsoft.Windows.ContentDeliveryManager_cw5n1h2txyewy\\\\LocalState\\\\Assets\\\\30e19fb31d65ae8ccd2a19598ca74b3145985a51a820698ce6ec6633f522ca08',\n",
       "  '20230130182301'],\n",
       " ['C:\\\\Users\\\\ASUS\\\\AppData\\\\Local\\\\Packages\\\\Microsoft.Windows.ContentDeliveryManager_cw5n1h2txyewy\\\\LocalState\\\\Assets\\\\35006db219e48a5b0c8b04b62d34b3af394231cb5286c024fa061f6b7266b466',\n",
       "  '20230418182525'],\n",
       " ['C:\\\\Users\\\\ASUS\\\\AppData\\\\Local\\\\Packages\\\\Microsoft.Windows.ContentDeliveryManager_cw5n1h2txyewy\\\\LocalState\\\\Assets\\\\364d29af63d0c50aacb8c96e071577290e177f17652f853cca1be15a743002c8',\n",
       "  '20230414182949'],\n",
       " ['C:\\\\Users\\\\ASUS\\\\AppData\\\\Local\\\\Packages\\\\Microsoft.Windows.ContentDeliveryManager_cw5n1h2txyewy\\\\LocalState\\\\Assets\\\\53ee80e81f0d0e3b7479c6e902993dd847d0cca35b59a6202460bc30df8f4c19',\n",
       "  '20230414182949'],\n",
       " ['C:\\\\Users\\\\ASUS\\\\AppData\\\\Local\\\\Packages\\\\Microsoft.Windows.ContentDeliveryManager_cw5n1h2txyewy\\\\LocalState\\\\Assets\\\\55d1ed51acb02a4a5ec44fce4f9cee8176073cf097051986b4c477700758f58f',\n",
       "  '20230418182525'],\n",
       " ['C:\\\\Users\\\\ASUS\\\\AppData\\\\Local\\\\Packages\\\\Microsoft.Windows.ContentDeliveryManager_cw5n1h2txyewy\\\\LocalState\\\\Assets\\\\59912213ab0ea7a2ded7c24670bd018ee25793f6866b3a8ed279789be1e6328c',\n",
       "  '20230418182525'],\n",
       " ['C:\\\\Users\\\\ASUS\\\\AppData\\\\Local\\\\Packages\\\\Microsoft.Windows.ContentDeliveryManager_cw5n1h2txyewy\\\\LocalState\\\\Assets\\\\7594b081a47ebbae060205f6132c9ad087d5d3d17b35579f54fe7f04fb628fe3',\n",
       "  '20230414182949'],\n",
       " ['C:\\\\Users\\\\ASUS\\\\AppData\\\\Local\\\\Packages\\\\Microsoft.Windows.ContentDeliveryManager_cw5n1h2txyewy\\\\LocalState\\\\Assets\\\\8266bb1b823a41c1cc427f55e9fbe6cffa785aba93401a857b8777b29b455cc3',\n",
       "  '20230418182525'],\n",
       " ['C:\\\\Users\\\\ASUS\\\\AppData\\\\Local\\\\Packages\\\\Microsoft.Windows.ContentDeliveryManager_cw5n1h2txyewy\\\\LocalState\\\\Assets\\\\8a4baa169dce5bc65c1e552186bfccb717959118bdc30615733c8131b90253d7',\n",
       "  '20230414182949'],\n",
       " ['C:\\\\Users\\\\ASUS\\\\AppData\\\\Local\\\\Packages\\\\Microsoft.Windows.ContentDeliveryManager_cw5n1h2txyewy\\\\LocalState\\\\Assets\\\\a3347b4e25c96b049366174512b24f09ade167033d8658b6132f5930c156bb2c',\n",
       "  '20230414182949'],\n",
       " ['C:\\\\Users\\\\ASUS\\\\AppData\\\\Local\\\\Packages\\\\Microsoft.Windows.ContentDeliveryManager_cw5n1h2txyewy\\\\LocalState\\\\Assets\\\\a79454475d3ab80099045e2b6673dd7dfe50ce999943875b81782987c38df4b7',\n",
       "  '20230130182318'],\n",
       " ['C:\\\\Users\\\\ASUS\\\\AppData\\\\Local\\\\Packages\\\\Microsoft.Windows.ContentDeliveryManager_cw5n1h2txyewy\\\\LocalState\\\\Assets\\\\a98485822ed263c028221ff2ae13dc431f7ef3d5bbcabf317e12afdd7c4b6446',\n",
       "  '20230129134309'],\n",
       " ['C:\\\\Users\\\\ASUS\\\\AppData\\\\Local\\\\Packages\\\\Microsoft.Windows.ContentDeliveryManager_cw5n1h2txyewy\\\\LocalState\\\\Assets\\\\cd224beb96ecc174fb685a82a13972fde629a3239c8eae013bdbafbe01c63766',\n",
       "  '20230418182525'],\n",
       " ['C:\\\\Users\\\\ASUS\\\\AppData\\\\Local\\\\Packages\\\\Microsoft.Windows.ContentDeliveryManager_cw5n1h2txyewy\\\\LocalState\\\\Assets\\\\fdced5a39a7f299f5910ecf7417df823ca627efd0188f9d1f1e464029a4d6031',\n",
       "  '20230418182525']]"
      ]
     },
     "execution_count": 97,
     "metadata": {},
     "output_type": "execute_result"
    }
   ],
   "source": [
    "src_pics"
   ]
  },
  {
   "cell_type": "code",
   "execution_count": 54,
   "id": "7ebe5e5e",
   "metadata": {},
   "outputs": [],
   "source": [
    "\n",
    "def getName(path,file_Strftime):\n",
    "    qian,hou = os.path.split(path)\n",
    "    new_name = 'wallpaper-' + file_Strftime + '-'\n",
    "    return new_name"
   ]
  },
  {
   "cell_type": "code",
   "execution_count": 62,
   "id": "606e2663",
   "metadata": {},
   "outputs": [
    {
     "name": "stdout",
     "output_type": "stream",
     "text": [
      "C:\\Users\\ASUS\\AppData\\Local\\Packages\\Microsoft.Windows.ContentDeliveryManager_cw5n1h2txyewy\\LocalState\\Assets\\28742d8e1d5f15b91895f4b382c7cd316f10feef74c723fd0c506feac1b7e666 20230418182525\n",
      "new_name wallpaper-20230418182525-\n",
      "wallpaper-20230418182525-001.jpg wallpaper-20230418182525-001.jpg\n",
      "C:\\Users\\ASUS\\AppData\\Local\\Packages\\Microsoft.Windows.ContentDeliveryManager_cw5n1h2txyewy\\LocalState\\Assets\\2c93681d60fcf2773de0038d224d9737e31688d7523681fbf62fc9f82cfabf38 20230417210004\n",
      "new_name wallpaper-20230417210004-\n",
      "wallpaper-20230417210004-002.jpg wallpaper-20230417210004-002.jpg\n",
      "C:\\Users\\ASUS\\AppData\\Local\\Packages\\Microsoft.Windows.ContentDeliveryManager_cw5n1h2txyewy\\LocalState\\Assets\\35006db219e48a5b0c8b04b62d34b3af394231cb5286c024fa061f6b7266b466 20230418182525\n",
      "new_name wallpaper-20230418182525-\n",
      "wallpaper-20230418182525-003.jpg wallpaper-20230418182525-003.jpg\n",
      "C:\\Users\\ASUS\\AppData\\Local\\Packages\\Microsoft.Windows.ContentDeliveryManager_cw5n1h2txyewy\\LocalState\\Assets\\55d1ed51acb02a4a5ec44fce4f9cee8176073cf097051986b4c477700758f58f 20230418182525\n",
      "new_name wallpaper-20230418182525-\n",
      "wallpaper-20230418182525-004.jpg wallpaper-20230418182525-004.jpg\n",
      "C:\\Users\\ASUS\\AppData\\Local\\Packages\\Microsoft.Windows.ContentDeliveryManager_cw5n1h2txyewy\\LocalState\\Assets\\59912213ab0ea7a2ded7c24670bd018ee25793f6866b3a8ed279789be1e6328c 20230418182525\n",
      "new_name wallpaper-20230418182525-\n",
      "wallpaper-20230418182525-005.jpg wallpaper-20230418182525-005.jpg\n",
      "C:\\Users\\ASUS\\AppData\\Local\\Packages\\Microsoft.Windows.ContentDeliveryManager_cw5n1h2txyewy\\LocalState\\Assets\\8266bb1b823a41c1cc427f55e9fbe6cffa785aba93401a857b8777b29b455cc3 20230418182525\n",
      "new_name wallpaper-20230418182525-\n",
      "wallpaper-20230418182525-006.jpg wallpaper-20230418182525-006.jpg\n",
      "C:\\Users\\ASUS\\AppData\\Local\\Packages\\Microsoft.Windows.ContentDeliveryManager_cw5n1h2txyewy\\LocalState\\Assets\\cd224beb96ecc174fb685a82a13972fde629a3239c8eae013bdbafbe01c63766 20230418182525\n",
      "new_name wallpaper-20230418182525-\n",
      "wallpaper-20230418182525-007.jpg wallpaper-20230418182525-007.jpg\n",
      "C:\\Users\\ASUS\\AppData\\Local\\Packages\\Microsoft.Windows.ContentDeliveryManager_cw5n1h2txyewy\\LocalState\\Assets\\fdced5a39a7f299f5910ecf7417df823ca627efd0188f9d1f1e464029a4d6031 20230418182525\n",
      "new_name wallpaper-20230418182525-\n",
      "wallpaper-20230418182525-008.jpg wallpaper-20230418182525-008.jpg\n"
     ]
    }
   ],
   "source": [
    "xh = ''\n",
    "for i in range(len(src_pics)):\n",
    "    path = src_pics[i][0]\n",
    "    file_Strftime = src_pics[i][1]\n",
    "    print(path,file_Strftime)\n",
    "    new_name = getName(path,file_Strftime)\n",
    "    print('new_name',new_name)\n",
    "    xh = '%03d'%(i+1)\n",
    "    new_name_file = new_name + xh + '.jpg'\n",
    "    print(new_name_file,new_name_file)\n",
    "    shutil.copy(path, os.path.join(target_path,new_name_file))"
   ]
  },
  {
   "cell_type": "code",
   "execution_count": 61,
   "id": "e9121665",
   "metadata": {},
   "outputs": [
    {
     "data": {
      "text/plain": [
       "'C:\\\\Users\\\\ASUS\\\\AppData\\\\Local\\\\Packages\\\\Microsoft.Windows.ContentDeliveryManager_cw5n1h2txyewy\\\\LocalState\\\\Assets'"
      ]
     },
     "execution_count": 61,
     "metadata": {},
     "output_type": "execute_result"
    }
   ],
   "source": [
    "src_path"
   ]
  },
  {
   "cell_type": "code",
   "execution_count": 81,
   "id": "2507764f",
   "metadata": {},
   "outputs": [
    {
     "data": {
      "text/plain": [
       "True"
      ]
     },
     "execution_count": 81,
     "metadata": {},
     "output_type": "execute_result"
    }
   ],
   "source": [
    "datetime.now() > start_period"
   ]
  },
  {
   "cell_type": "code",
   "execution_count": 100,
   "id": "a069538b",
   "metadata": {},
   "outputs": [],
   "source": [
    "def getStrftime(file):\n",
    "    statinfo = os.stat(file)\n",
    "    file_size = statinfo.st_size\n",
    "    file_time = time.localtime(statinfo.st_mtime)\n",
    "    file_Strftime = time.strftime('%Y%m%d%H%M%S', file_time)\n",
    "    return file_Strftime,file_size\n",
    "\n",
    "def getName(path,file_Strftime):\n",
    "    qian,hou = os.path.split(path)\n",
    "    new_name = 'wallpaper-' + file_Strftime + '-'\n",
    "    return new_name"
   ]
  },
  {
   "cell_type": "code",
   "execution_count": 105,
   "id": "c88a0a81",
   "metadata": {},
   "outputs": [],
   "source": [
    "\n",
    "target_path = r'F:\\a00nutstore\\win10wallpaper'\n",
    "os.chdir(target_path)\n",
    "files = os.listdir(target_path)\n",
    "periods = []\n",
    "if len(files) == 0:\n",
    "    period = datetime(2000,1,1)\n",
    "    periods.append(start_period)\n",
    "else :\n",
    "    for file in files:\n",
    "        file_Strftime,file_size = getStrftime(file)\n",
    "        period = datetime.strptime(file_Strftime, '%Y%m%d%H%M%S')\n",
    "        periods.append(period)\n",
    "periods.sort()\n",
    "start_period = periods[-1]"
   ]
  },
  {
   "cell_type": "code",
   "execution_count": 106,
   "id": "ca7fe473",
   "metadata": {},
   "outputs": [
    {
     "data": {
      "text/plain": [
       "datetime.datetime(2000, 1, 1, 0, 0)"
      ]
     },
     "execution_count": 106,
     "metadata": {},
     "output_type": "execute_result"
    }
   ],
   "source": [
    "start_period"
   ]
  },
  {
   "cell_type": "code",
   "execution_count": 107,
   "id": "afb4a0cf",
   "metadata": {},
   "outputs": [],
   "source": [
    "src_path = r'C:\\Users\\ASUS\\AppData\\Local\\Packages\\Microsoft.Windows.ContentDeliveryManager_cw5n1h2txyewy\\LocalState\\Assets'\n",
    "os.chdir(src_path)\n",
    "src_files =  os.listdir(src_path)\n",
    "src_pics = []\n",
    "for file in src_files:\n",
    "    file_Strftime, size = getStrftime(file)\n",
    "    start_time = datetime.strptime(file_Strftime, '%Y%m%d%H%M%S')\n",
    "    if (start_time > start_period) and (file_size > 100000):\n",
    "        src_pics.append([os.path.join(src_path, file), file_Strftime])\n",
    "xh = ''\n",
    "for i in range(len(src_pics)):\n",
    "    path,file_Strftime = src_pics[i]\n",
    "    new_name = getName(path,file_Strftime)\n",
    "    xh = '%03d'%(i+1)\n",
    "    new_name_file = new_name + xh\n",
    "    shutil.copy(path, os.path.join(target_path,new_name_file))"
   ]
  },
  {
   "cell_type": "code",
   "execution_count": null,
   "id": "d8df8779",
   "metadata": {},
   "outputs": [],
   "source": []
  }
 ],
 "metadata": {
  "kernelspec": {
   "display_name": "Python 3 (ipykernel)",
   "language": "python",
   "name": "python3"
  },
  "language_info": {
   "codemirror_mode": {
    "name": "ipython",
    "version": 3
   },
   "file_extension": ".py",
   "mimetype": "text/x-python",
   "name": "python",
   "nbconvert_exporter": "python",
   "pygments_lexer": "ipython3",
   "version": "3.9.13"
  }
 },
 "nbformat": 4,
 "nbformat_minor": 5
}
