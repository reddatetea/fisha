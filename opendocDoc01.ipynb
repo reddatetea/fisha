{
 "cells": [
  {
   "cell_type": "code",
   "execution_count": 4,
   "metadata": {},
   "outputs": [
    {
     "name": "stdout",
     "output_type": "stream",
     "text": [
      "武汉莱特\n",
      "\n",
      "\n",
      "\n",
      "\n",
      "\n",
      "张三\n",
      "\n",
      "\n",
      "\n",
      "\n",
      "\n",
      "李四\n",
      "\n",
      "\n",
      "\n",
      "\n",
      "\n",
      "王五\n",
      "\n"
     ]
    }
   ],
   "source": [
    "import docx\n",
    "\n",
    "filename = r'D:\\a00nutstore\\fishc\\jupyter\\注销南京分公司的决议 - 副本.docx'\n",
    "document = docx.Document(filename)\n",
    "tables = document.tables\n",
    "for i in range(len(tables)):\n",
    "    tb=tables[i]\n",
    "    #获取表格的行\n",
    "    tb_rows=tb.rows\n",
    "    #读取每一行内容\n",
    "    for i in range(len(tb_rows)):\n",
    "        row_data=[]\n",
    "        row_cells=tb_rows[i].cells\n",
    "        #读取每一行单元格内容\n",
    "        for cell in row_cells:\n",
    "            #单元格内容\n",
    "            print(cell.text)\n"
   ]
  },
  {
   "cell_type": "code",
   "execution_count": null,
   "metadata": {},
   "outputs": [],
   "source": []
  }
 ],
 "metadata": {
  "kernelspec": {
   "display_name": "Python 3",
   "language": "python",
   "name": "python3"
  },
  "language_info": {
   "codemirror_mode": {
    "name": "ipython",
    "version": 3
   },
   "file_extension": ".py",
   "mimetype": "text/x-python",
   "name": "python",
   "nbconvert_exporter": "python",
   "pygments_lexer": "ipython3",
   "version": "3.7.1"
  }
 },
 "nbformat": 4,
 "nbformat_minor": 2
}
