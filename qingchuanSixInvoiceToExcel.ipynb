{
 "cells": [
  {
   "cell_type": "code",
   "execution_count": null,
   "id": "5c0e85ff",
   "metadata": {},
   "outputs": [],
   "source": [
    "# -*-coding = utf-8 -*-\n",
    "import pdfplumber\n",
    "import re\n",
    "import openpyxl\n",
    "import easygui\n",
    "import os\n",
    "from itertools import groupby\n",
    "\n",
    "def writeDangtian(fname):\n",
    "    pdf = pdfplumber.open(fname)\n",
    "    # print('开始读取数据')\n",
    "    filename = '晴川发票RECEIPT pdf.txt'\n",
    "    with open(filename, 'w') as f:\n",
    "        f.write('')\n",
    "    with open(filename, 'a') as f:\n",
    "        for page in pdf.pages:\n",
    "            content = page.extract_text()\n",
    "            f.write(content)\n",
    "    pdf.close()\n",
    "    return filename\n",
    "\n",
    "def chuliData(data0):\n",
    "    kehuhao_rows = []\n",
    "    for j in range(len(data0)):\n",
    "        if data0[j].startswith('客户号：'):\n",
    "            kehuhao_rows.append(j)\n",
    "    data1 = data0.copy()\n",
    "    for j in kehuhao_rows:\n",
    "        data1[j] = 'kehuhao'\n",
    "    df0 = [['kehuhao']+ list(g) for k, g in groupby(data1, lambda x: x == 'kehuhao') if not k]\n",
    "    df0 = df0[1:]\n",
    "    df = df0.copy()\n",
    "    for j in range(len(df)):\n",
    "        kehuhao = data0[kehuhao_rows[j]]\n",
    "        df[j][0] = kehuhao\n",
    "    return df\n",
    "\n",
    "def txtToData(filename):\n",
    "    data0 = []\n",
    "    with open(filename) as f:\n",
    "       for readline in f.readlines():\n",
    "            data0.append(readline.strip())\n",
    "    return data0\n",
    "\n",
    "def matchNumber(df8):\n",
    "    regex_riqi = re.compile(r'日期：(?P<year>\\d{4})年(?P<month>\\d{2})月(?P<day>\\d{2})日')\n",
    "    regex_jiner = re.compile(r'金额：CNY(\\d{1,3}(,\\d{3})*\\.\\d{1,2})')\n",
    "    regex_liushuihao = re.compile(r'交易流水号：(\\d{6,10}-\\d{1,4})')\n",
    "    regex_name = re.compile(r'(?P<fee_name>.*\\s*.*手续费)\\s*\\d{1,3}(,\\d{3})*\\.\\d{2}')\n",
    "    # regex_name = re.compile(r'费用名称：(\\w+手续费)')\n",
    "    riqi = '2010 年1月12日'\n",
    "    jiner = 0\n",
    "    name = '对公跨行柜台转账汇款手续费'\n",
    "    liushuihao = '88888888-888'\n",
    "    result = []\n",
    "    for hang in df8:\n",
    "        tmp_hang = []\n",
    "        for j in hang:\n",
    "            mat_riqi = regex_riqi.search(j)\n",
    "            mat_jiner = regex_jiner.search(j)\n",
    "            mat_liushuihao = regex_liushuihao.search(j)\n",
    "            mat_name = regex_name.search(j)\n",
    "            if mat_riqi:\n",
    "                year = mat_riqi.group('year')\n",
    "                month = mat_riqi.group('month')\n",
    "                day = mat_riqi.group('day')\n",
    "                riqi = year + '/' + str(int(month)) + '/' + str(int(day))\n",
    "            elif mat_jiner:\n",
    "                jiner = mat_jiner.group(1)\n",
    "                jiner = jiner.replace(',','')\n",
    "                jiner = float(jiner)\n",
    "            elif mat_name:\n",
    "                name = mat_name.group('fee_name')\n",
    "            elif mat_liushuihao:\n",
    "                liushuihao = mat_liushuihao.group(1)\n",
    "            else:\n",
    "                continue\n",
    "        year_month = year + month\n",
    "        for j in [riqi,jiner,name,liushuihao]:\n",
    "            tmp_hang.append(j)\n",
    "        result.append(tmp_hang)\n",
    "    return result,year_month\n",
    "\n",
    "def mAres(ws):    #获取合并单元格地址\n",
    "    m_list = ws.merged_cells\n",
    "    cr = []\n",
    "    for m_area in m_list:\n",
    "        # print(m_area.min_row, m_area.max_row, m_area.min_col, m_area.max_col)\n",
    "        # 合并单元格的起始行坐标、终止行坐标。。。。，\n",
    "        r1, r2, c1, c2 = m_area.min_row, m_area.max_row, m_area.min_col, m_area.max_col\n",
    "        # 纵向合并单元格的位置信息提取出\n",
    "        if c2 - c1 > 0:\n",
    "            cr.append((r1, r2, c1, c2))\n",
    "        else:\n",
    "            continue\n",
    "\n",
    "    cr.sort()\n",
    "    return cr\n",
    "\n",
    "def unmergeAres(nws,area):\n",
    "    nws.unmerge_cells(start_row=area[0],start_column=area[2],end_row=area[1],end_column=area[3])\n",
    "\n",
    "def mergeAres(nws,area):\n",
    "    nws.merge_cells(start_row=area[0],start_column=area[2],end_row=area[1],end_column=area[3])\n",
    "\n",
    "def painter(ws,cell):\n",
    "    j = cell\n",
    "    #字休\n",
    "    font_name = j.font.name\n",
    "    font_size = j.font.size\n",
    "    font_italic = j.font.italic\n",
    "    font_bold = j.font.bold\n",
    "    font_color = j.font.color\n",
    "    font = openpyxl.styles.Font(name=font_name, size=font_size , bold=font_bold, italic=font_italic, color=font_color)\n",
    "    #边框\n",
    "    border_left = j.border.left\n",
    "    border = openpyxl.styles.Border(left=border_left, right=border_left , top=border_left, bottom=border_left)\n",
    "    #填充\n",
    "    fill_type = j.fill.fill_type\n",
    "    fgColor = j.fill.fgColor\n",
    "    pattern_fill = openpyxl.styles.PatternFill(fill_type=fill_type, fgColor=fgColor)\n",
    "    #倾斜\n",
    "    horizontal = j.alignment.horizontal\n",
    "    vertical = j.alignment.vertical\n",
    "    text_rotation = j.alignment.text_rotation\n",
    "    wrap_text = j.alignment.wrap_text\n",
    "    alignment = openpyxl.styles.Alignment(horizontal=horizontal, vertical=vertical, text_rotation=text_rotation, wrap_text=wrap_text)\n",
    "    #数字格式\n",
    "    number_format = j.number_format\n",
    "    #protection\n",
    "    locked = j.protection.locked\n",
    "    hidden = j.protection.locked\n",
    "    protection =  openpyxl.styles.protection.Protection(locked=locked,hidden=hidden)\n",
    "    #行高\n",
    "    height = ws.row_dimensions[j.row].height\n",
    "    return font,border,pattern_fill,alignment,number_format,protection,height\n",
    "\n",
    "def writeToExcel(ws,nws,result,kehuming,shibihao,kemuhao,fapiao,fenshu,suilu,row_start=5):\n",
    "    for j in range(len(result)):\n",
    "        riqi = result[j][0]\n",
    "        jiner = float(result[j][1])\n",
    "        name = result[j][2]\n",
    "        liushuihao = result[j][3]\n",
    "        row = j + row_start\n",
    "        nws.cell(row, 1).value = j + 1\n",
    "        nws.cell(row, 2).value = kehuming\n",
    "        nws.cell(row, 3).value = shibihao\n",
    "        nws.cell(row, 4).value = kemuhao\n",
    "        nws.cell(row, 5).value = riqi\n",
    "        nws.cell(row, 6).value = liushuihao\n",
    "        nws.cell(row, 7).value = name\n",
    "        nws.cell(row, 8).value = fapiao\n",
    "        nws.cell(row, 9).value = fenshu\n",
    "        nws.cell(row, 10).value = jiner\n",
    "        nws.cell(row, 11).value = round(jiner / 1.06, 2)\n",
    "        nws.cell(row, 12).value = suilu\n",
    "        nws.cell(row, 13).value = jiner - round(jiner / 1.06, 2)\n",
    "\n",
    "def getStyles(ws,area0):\n",
    "    styles = []\n",
    "    for j in area0:\n",
    "        font,border,pattern_fill,alignment,number_format,protection,height = painter(ws,j)\n",
    "        style = [font,border,pattern_fill,alignment,number_format,protection,height]\n",
    "        styles.append(style)\n",
    "    return styles\n",
    "\n",
    "def writeStyles(nws,styles,result,max_column,row_start=5):\n",
    "    len_result = len(result)\n",
    "    for i in range(row_start,len_result+row_start):\n",
    "        for j in range(1,max_column+1):\n",
    "            nws.cell(i,j).font  = styles[j-1][0]\n",
    "            nws.cell(i,j).border  = styles[j-1][1]\n",
    "            nws.cell(i,j).fill  = styles[j-1][2]\n",
    "            nws.cell(i,j).alignment  = styles[j-1][3]\n",
    "            nws.cell(i,j).number_format  = styles[j-1][4]\n",
    "            nws.cell(i,j).protection  = styles[j-1][5]\n",
    "            height  = styles[j-1][6]\n",
    "        nws.row_dimensions[i].height = height\n",
    "    return nws\n",
    "\n",
    "def toEexcel(result,year_month):\n",
    "    row_start = 5\n",
    "    msg = '请点选\"增值税发票开具申请表.xlsx\"'\n",
    "    fname = easygui.fileopenbox(msg)\n",
    "    wb = openpyxl.load_workbook(fname)\n",
    "    ws = wb.active\n",
    "    ws_name = ws.title\n",
    "    max_column = ws.max_column\n",
    "    max_row = ws.max_row\n",
    "    tail_row_start = max_row - 7\n",
    "    tail_areas0 = list(ws)[tail_row_start-1:]\n",
    "    nws = wb.copy_worksheet(ws)\n",
    "    nws.title = year_month\n",
    "    kehuming = nws.cell(row_start,2).value\n",
    "    shibihao = nws.cell(row_start,3).value\n",
    "    kemuhao = nws.cell(row_start, 4).value\n",
    "    fapiao = nws.cell(row_start, 8).value\n",
    "    fenshu = nws.cell(row_start, 9).value\n",
    "    suilu = nws.cell(row_start, 12).value\n",
    "    xuhao_col = [j.value for j in nws['A']]\n",
    "    total_row = max_row - 7\n",
    "    len_old = total_row  - 5\n",
    "    m_area = mAres(ws)                  #获取合并单元格地址\n",
    "    merge_area = [j for j in m_area if j[0] >= total_row]\n",
    "    for area in merge_area:\n",
    "        unmergeAres(nws,area)\n",
    "    if len(result) > len_old:\n",
    "        nws.insert_rows(total_row, len(result) - len_old)\n",
    "    elif  len(result) < len_old:\n",
    "        for j in range(total_row-1,total_row-1-(len_old-len(result)),-1):\n",
    "            nws.delete_rows(j)\n",
    "    else :\n",
    "        pass\n",
    "    wb.save(fname)\n",
    "    wb = openpyxl.load_workbook(fname)\n",
    "    ws = wb[ws_name]\n",
    "    nws = wb[year_month]\n",
    "    writeToExcel(ws,nws, result, kehuming, shibihao, kemuhao, fapiao, fenshu, suilu, row_start)\n",
    "    nws.cell(len(result)+row_start,10).value = '=sum(j5:j{})'.format(len(result)+row_start-1)\n",
    "    chayi = len(result) - len_old\n",
    "    new_merge_arer = [(j[0]+chayi,j[1]+chayi,j[2],j[3]) for j in merge_area]\n",
    "    area0 = ws[row_start]\n",
    "    styles = getStyles(ws,area0)\n",
    "    nws = writeStyles(nws,styles,result,max_column,row_start)\n",
    "    for j in new_merge_arer:\n",
    "        mergeAres(nws,j)\n",
    "    nws = wb[year_month]\n",
    "    wb.save(fname)\n",
    "    os.startfile(fname)\n",
    "\n",
    "def main():\n",
    "    row_start = 5\n",
    "    msg = '请点选银行RECEIPT.pdf文件'\n",
    "    fname = easygui.fileopenbox(msg)\n",
    "    # fname = r'd:\\a00nutstore\\fishc\\qingchuan\\晴川发票RECEIPT-20210701-20211228-91871730.pdf'\n",
    "    path, file = os.path.split(fname)\n",
    "    os.chdir(path)\n",
    "    filename = writeDangtian(fname)\n",
    "    data0 = txtToData(filename)\n",
    "    df = chuliData(data0)\n",
    "    df8 = [j for j in df for i in j if ('手续费' in i) and (i.startswith('附言')==False)]\n",
    "    df9 = df8.copy()\n",
    "    nums = set()\n",
    "    for j in range(len(df9)):\n",
    "        for i in df9[j]:\n",
    "            if ('支票手续费' in i) or ('退货手续费' in i) or ('退还手续费' in i) :\n",
    "                nums.add(j)\n",
    "            else:\n",
    "                continue\n",
    "    ys = [df9[num] for num in list(nums)]\n",
    "    for j in list(ys):\n",
    "        df9.remove(j)\n",
    "    result, year_month = matchNumber(df9)\n",
    "    toEexcel(result, year_month)\n",
    "\n",
    "\n",
    "if __name__ == '__main__':\n",
    "    main()\n",
    "\n",
    "\n"
   ]
  },
  {
   "cell_type": "code",
   "execution_count": 12,
   "id": "647252ed",
   "metadata": {},
   "outputs": [],
   "source": [
    "import pdfplumber\n",
    "import re\n",
    "import openpyxl\n",
    "import easygui\n",
    "import os\n",
    "from itertools import groupby"
   ]
  },
  {
   "cell_type": "code",
   "execution_count": 13,
   "id": "4103f557",
   "metadata": {},
   "outputs": [],
   "source": [
    "def writeDangtian(fname):\n",
    "    pdf = pdfplumber.open(fname)\n",
    "    # print('开始读取数据')\n",
    "    filename = 'qingchuanInvoice.txt'\n",
    "    with open(filename, 'w') as f:\n",
    "        f.write('')\n",
    "    with open(filename, 'a') as f:\n",
    "        for page in pdf.pages:\n",
    "            content = page.extract_text()\n",
    "            f.write(content)\n",
    "    pdf.close()\n",
    "    return filename"
   ]
  },
  {
   "cell_type": "code",
   "execution_count": 15,
   "id": "aae93017",
   "metadata": {},
   "outputs": [],
   "source": [
    "# fname = easygui.fileopenbox(msg)\n",
    "fname = r'F:\\a00nutstore\\qingchuan\\pdfToExcel\\925282-leadshare.pdf'\n",
    "path, file = os.path.split(fname)\n",
    "os.chdir(path)\n",
    "filename = writeDangtian(fname)\n",
    "os.startfile(filename)"
   ]
  },
  {
   "cell_type": "code",
   "execution_count": 14,
   "id": "4e2a9099",
   "metadata": {},
   "outputs": [],
   "source": [
    "def txtToInvoice(filename):\n",
    "    invoice = []\n",
    "    with open(filename) as f:\n",
    "       for readline in f.readlines():\n",
    "            invoice.append(readline.strip())\n",
    "    return invoice\n"
   ]
  },
  {
   "cell_type": "code",
   "execution_count": 13,
   "id": "ac1e7005",
   "metadata": {},
   "outputs": [
    {
     "data": {
      "text/plain": [
       "['C R E D I T',\n",
       " 'Page 1 of 2',\n",
       " 'I N V O I C E',\n",
       " 'Invoice To: Invoice From: Remit To:',\n",
       " 'HOLIDAY INN IHG (SHANGHAI) LIMITED INTER CONTINENTAL',\n",
       " 'WUHAN RIVERSIDE 22/F, CITIGROUP TOWER HOTELS GROUP',\n",
       " 'NO. 33, HUAYUANSHIQIAO ROAD INTER CONTINENTAL',\n",
       " 'NO.3 QINGCHUAN AVENUE, HANYANG',\n",
       " 'PILOT FREE TRADE ZONE HOTELS GROUP',\n",
       " 'DISTRICT SHANGHAI 200120 (SHANGHAI) LTD',\n",
       " 'WUHAN CHINA HSBC SHANGHAI',\n",
       " 'WUHAN 430050 BRANCH/ALIPAYCNY',\n",
       " 'A/C NO: 088-058482-',\n",
       " 'CHINA',\n",
       " '001 HSBCCNSH',\n",
       " 'HSBC TOWER 101 YIN',\n",
       " 'CHENG EAST ROAD',\n",
       " 'PUDONG SHANGHAI',\n",
       " 'CHINA',\n",
       " 'Customer #: 0684100 Tax Invoice #: P000925282 Total Rooms: 0',\n",
       " 'Holidex #: WUHQC Tax Invoice Date: 27-Apr-2023 Rooms Sold: 0',\n",
       " 'Buyer Tax Reg ID: CN999999999 Due Date: 15-May-2023 Rooms Available: 0',\n",
       " 'Seller Tax Reg Id: 913100007653255 Declaration Point: Invoice Gross Room 0.00',\n",
       " '44Y Revenue:',\n",
       " 'Date of tax Point: 27-Apr-2023',\n",
       " 'Exchange Rate: 1.00000000 Currency:',\n",
       " 'Tax Treatment: DSS - Domestic Service Sale',\n",
       " 'Net Gross Gross Base',\n",
       " 'Transaction Transaction Tax Tax Transaction Currency Base',\n",
       " 'Description Currency Amount Percent Amount Amount Amount Currency',\n",
       " 'LEADSHARE CNY (2,434.97) 0.0000% 0.00 (2,434.97) (2,434.97) CNY',\n",
       " 'IRIS MA LEADSHARE REWARD',\n",
       " 'PO Ref: AIC0007406',\n",
       " 'SBRP CNY 584.52 0.0000% 0.00 584.52 584.52 CNY',\n",
       " 'SBRP MONTHLY FEE APRIL 2023',\n",
       " 'PO Ref: AIC0007420',\n",
       " 'PRICE OPTIMIZATION CNY 206.30 0.0000% 0.00 206.30 206.30 CNY',\n",
       " 'IHG PRICE OPTIMIZATION FEE APRIL 2023',\n",
       " 'PO Ref: AIC0007420',\n",
       " 'LEADSHARE CNY 137.81 0.0000% 0.00 137.81 137.81 CNY',\n",
       " 'VAT 5 POINT 6604 PERCENT IRIS MA LEADSHARE REWARD',\n",
       " 'PO Ref: AIC0007406',\n",
       " 'SBRP CNY (33.08) 0.0000% 0.00 (33.08) (33.08) CNY',\n",
       " 'VAT 5 POINT 6604 PERCENT SBRP MONTHLY FEE APRIL 2023',\n",
       " 'PO Ref: AIC0007420',\n",
       " 'PRICE OPTIMIZATION CNY (11.69) 0.0000% 0.00 (11.69) (11.69) CNY',\n",
       " 'VAT 5 POINT 6604 PERCENT IHG PRICE OPTIMIZATION FEE APRIL 2023',\n",
       " 'PO Ref: AIC0007420',\n",
       " 'LEADSHARE CNY (137.81) 0.0000% 0.00 (137.81) (137.81) CNY',\n",
       " 'VAT 5 POINT 6604 PERCENT IRIS MA LEADSHARE REWARD',\n",
       " 'PO Ref: AIC0007406',\n",
       " 'SBRP CNY 33.08 0.0000% 0.00 33.08 33.08 CNY',\n",
       " 'VAT 5 POINT 6604 PERCENT SBRP MONTHLY FEE APRIL 2023',\n",
       " 'PO Ref: AIC0007420C R E D I T',\n",
       " 'Page 2 of 2',\n",
       " 'I N V O I C E',\n",
       " 'Invoice To: Invoice From: Remit To:',\n",
       " 'HOLIDAY INN IHG (SHANGHAI) LIMITED INTER CONTINENTAL',\n",
       " 'WUHAN RIVERSIDE 22/F, CITIGROUP TOWER HOTELS GROUP',\n",
       " 'NO. 33, HUAYUANSHIQIAO ROAD INTER CONTINENTAL',\n",
       " 'NO.3 QINGCHUAN AVENUE, HANYANG',\n",
       " 'PILOT FREE TRADE ZONE HOTELS GROUP',\n",
       " 'DISTRICT SHANGHAI 200120 (SHANGHAI) LTD',\n",
       " 'WUHAN CHINA HSBC SHANGHAI',\n",
       " 'WUHAN 430050 BRANCH/ALIPAYCNY',\n",
       " 'A/C NO: 088-058482-',\n",
       " 'CHINA',\n",
       " '001 HSBCCNSH',\n",
       " 'HSBC TOWER 101 YIN',\n",
       " 'CHENG EAST ROAD',\n",
       " 'PUDONG SHANGHAI',\n",
       " 'CHINA',\n",
       " 'Customer #: 0684100 Tax Invoice #: P000925282 Total Rooms: 0',\n",
       " 'Holidex #: WUHQC Tax Invoice Date: 27-Apr-2023 Rooms Sold: 0',\n",
       " 'Buyer Tax Reg ID: CN999999999 Due Date: 15-May-2023 Rooms Available: 0',\n",
       " 'Seller Tax Reg Id: 913100007653255 Declaration Point: Invoice Gross Room 0.00',\n",
       " '44Y Revenue:',\n",
       " 'Date of tax Point: 27-Apr-2023',\n",
       " 'Exchange Rate: 1.00000000 Currency:',\n",
       " 'Tax Treatment: DSS - Domestic Service Sale',\n",
       " 'Net Gross Gross Base',\n",
       " 'Transaction Transaction Tax Tax Transaction Currency Base',\n",
       " 'Description Currency Amount Percent Amount Amount Amount Currency',\n",
       " 'PRICE OPTIMIZATION CNY 11.69 0.0000% 0.00 11.69 11.69 CNY',\n",
       " 'VAT 5 POINT 6604 PERCENT IHG PRICE OPTIMIZATION FEE APRIL 2023',\n",
       " 'PO Ref: AIC0007420',\n",
       " 'Amount Due CNY (1,644.15) 0.00 (1,644.15) (1,644.15) CNY',\n",
       " 'Please remit your payment to the above bank account in the base currency of the invoice.',\n",
       " 'Either send your remittance advice to P O Box 223 St Leonards Australia 2065 or fax to +612 9437 6755 or email the electronic format to asia.',\n",
       " 'remit@ichotelsgroup.com',\n",
       " 'Should you have any queries please contact the Sydney Accounts Receivable Team on +612 9935 8300 or email them at asia.',\n",
       " 'remit@ichotelsgroup.com']"
      ]
     },
     "execution_count": 13,
     "metadata": {},
     "output_type": "execute_result"
    }
   ],
   "source": [
    "invoice = txtToInvoice(filename)\n",
    "invoice"
   ]
  },
  {
   "cell_type": "code",
   "execution_count": 19,
   "id": "5dae46f8",
   "metadata": {},
   "outputs": [
    {
     "data": {
      "text/plain": [
       "['Customer #: 0684100 Tax Invoice #: P000925282 Total Rooms: 0',\n",
       " 'Holidex #: WUHQC Tax Invoice Date: 27-Apr-2023 Rooms Sold: 0',\n",
       " 'LEADSHARE CNY (2,434.97) 0.0000% 0.00 (2,434.97) (2,434.97) CNY',\n",
       " 'SBRP CNY 584.52 0.0000% 0.00 584.52 584.52 CNY',\n",
       " 'PRICE OPTIMIZATION CNY 206.30 0.0000% 0.00 206.30 206.30 CNY',\n",
       " 'LEADSHARE CNY 137.81 0.0000% 0.00 137.81 137.81 CNY',\n",
       " 'SBRP CNY (33.08) 0.0000% 0.00 (33.08) (33.08) CNY',\n",
       " 'PRICE OPTIMIZATION CNY (11.69) 0.0000% 0.00 (11.69) (11.69) CNY',\n",
       " 'LEADSHARE CNY (137.81) 0.0000% 0.00 (137.81) (137.81) CNY',\n",
       " 'SBRP CNY 33.08 0.0000% 0.00 33.08 33.08 CNY',\n",
       " 'Customer #: 0684100 Tax Invoice #: P000925282 Total Rooms: 0',\n",
       " 'Holidex #: WUHQC Tax Invoice Date: 27-Apr-2023 Rooms Sold: 0',\n",
       " 'PRICE OPTIMIZATION CNY 11.69 0.0000% 0.00 11.69 11.69 CNY']"
      ]
     },
     "execution_count": 19,
     "metadata": {},
     "output_type": "execute_result"
    }
   ],
   "source": [
    "invoice1 = []\n",
    "for line in invoice:\n",
    "    if line.startswith('Customer'):\n",
    "        invoice1.append(line)\n",
    "    elif line.startswith('Holidex'):\n",
    "        invoice1.append(line)\n",
    "    elif line.endswith('CNY'):\n",
    "        if not line.startswith('Amount Due'):\n",
    "            if line.split(' ')[-1] == 'CNY':\n",
    "                invoice1.append(line)\n",
    "    else :\n",
    "        continue\n",
    "invoice1\n",
    "     \n",
    "    \n",
    "    "
   ]
  },
  {
   "cell_type": "code",
   "execution_count": 21,
   "id": "331945dc",
   "metadata": {},
   "outputs": [
    {
     "data": {
      "text/plain": [
       "<re.Match object; span=(20, 45), match='Tax Invoice #: P000925282'>"
      ]
     },
     "execution_count": 21,
     "metadata": {},
     "output_type": "execute_result"
    }
   ],
   "source": [
    "regex_invoice_number = re.compile(r'Tax Invoice #: P\\d{9}')\n",
    "string = 'Customer #: 0684100 Tax Invoice #: P000925282 Total Rooms: 0'\n",
    "mat = regex_invoice_number.search(string)\n",
    "mat"
   ]
  },
  {
   "cell_type": "code",
   "execution_count": 88,
   "id": "79ccfa11",
   "metadata": {},
   "outputs": [
    {
     "data": {
      "text/plain": [
       "<re.Match object; span=(20, 45), match='Tax Invoice #: P000925282'>"
      ]
     },
     "execution_count": 88,
     "metadata": {},
     "output_type": "execute_result"
    }
   ],
   "source": [
    "regex_invoice_number = re.compile(r'Tax Invoice #: (?P<invoice_number>P\\d{9})')\n",
    "string = 'Customer #: 0684100 Tax Invoice #: P000925282 Total Rooms: 0'\n",
    "mat = regex_invoice_number.search(string)\n",
    "mat"
   ]
  },
  {
   "cell_type": "code",
   "execution_count": 89,
   "id": "a47a5c2c",
   "metadata": {},
   "outputs": [],
   "source": [
    "invoice_number = mat.group('invoice_number')"
   ]
  },
  {
   "cell_type": "code",
   "execution_count": 21,
   "id": "d22efe06",
   "metadata": {},
   "outputs": [
    {
     "data": {
      "text/plain": [
       "<re.Match object; span=(17, 46), match='Tax Invoice Date: 27-Apr-2023'>"
      ]
     },
     "execution_count": 21,
     "metadata": {},
     "output_type": "execute_result"
    }
   ],
   "source": [
    "regex_invoice_date = re.compile(r'Tax Invoice Date: (?P<invoice_date>\\d{2}-\\w+-\\d{4})')\n",
    "string = 'Holidex #: WUHQC Tax Invoice Date: 27-Apr-2023 Rooms Sold: 0'\n",
    "mat = regex_invoice_date.search(string)\n",
    "mat"
   ]
  },
  {
   "cell_type": "code",
   "execution_count": 22,
   "id": "c0fd0c89",
   "metadata": {},
   "outputs": [],
   "source": [
    "invoice_date = mat.group('invoice_date')"
   ]
  },
  {
   "cell_type": "code",
   "execution_count": 23,
   "id": "727af1fc",
   "metadata": {},
   "outputs": [
    {
     "data": {
      "text/plain": [
       "\"Apr'27\""
      ]
     },
     "execution_count": 23,
     "metadata": {},
     "output_type": "execute_result"
    }
   ],
   "source": [
    "invoice_date = \"'\".join(invoice_date.split('-')[::-1][1:])\n",
    "invoice_date"
   ]
  },
  {
   "cell_type": "code",
   "execution_count": 59,
   "id": "a81c2a8c",
   "metadata": {},
   "outputs": [
    {
     "data": {
      "text/plain": [
       "['PRICE',\n",
       " 'OPTIMIZATION',\n",
       " 'CNY',\n",
       " '(11.69)',\n",
       " '0.0000%',\n",
       " '0.00',\n",
       " '(1,111.69)',\n",
       " '(1,111.69)',\n",
       " 'CNY']"
      ]
     },
     "execution_count": 59,
     "metadata": {},
     "output_type": "execute_result"
    }
   ],
   "source": [
    "string = 'PRICE OPTIMIZATION CNY (11.69) 0.0000% 0.00 (1,111.69) (1,111.69) CNY'\n",
    "amounts = string.split(' ')\n",
    "amounts"
   ]
  },
  {
   "cell_type": "code",
   "execution_count": null,
   "id": "d98ec5d4",
   "metadata": {},
   "outputs": [],
   "source": [
    "amounts = string.split(' ')\n",
    "amount = float(amounts[-2].replace('(','-').replace(')','').replace(',',''))\n",
    "CNY_index = amounts.index('CNY')\n",
    "fee_type = ' '.join(amounts[:2])\n",
    "fee_type"
   ]
  },
  {
   "cell_type": "code",
   "execution_count": 64,
   "id": "f6b129b5",
   "metadata": {},
   "outputs": [
    {
     "data": {
      "text/plain": [
       "-1111.69"
      ]
     },
     "execution_count": 64,
     "metadata": {},
     "output_type": "execute_result"
    }
   ],
   "source": [
    "amount = float(amounts[-2].replace('(','-').replace(')','').replace(',',''))\n",
    "amount"
   ]
  },
  {
   "cell_type": "code",
   "execution_count": 63,
   "id": "2ed98c3b",
   "metadata": {},
   "outputs": [
    {
     "data": {
      "text/plain": [
       "-1111.69"
      ]
     },
     "execution_count": 63,
     "metadata": {},
     "output_type": "execute_result"
    }
   ],
   "source": [
    "amount = float(amount)\n",
    "a"
   ]
  },
  {
   "cell_type": "code",
   "execution_count": 67,
   "id": "4b207bce",
   "metadata": {},
   "outputs": [
    {
     "data": {
      "text/plain": [
       "'PRICE OPTIMIZATION'"
      ]
     },
     "execution_count": 67,
     "metadata": {},
     "output_type": "execute_result"
    }
   ],
   "source": [
    "CNY_index = amounts.index('CNY')\n",
    "fee_type = ' '.join(amounts[:2])\n",
    "fee_type"
   ]
  },
  {
   "cell_type": "code",
   "execution_count": 28,
   "id": "3dfcfb3f",
   "metadata": {},
   "outputs": [
    {
     "data": {
      "text/plain": [
       "<re.Match object; span=(0, 57), match='PRICE OPTIMIZATION CNY 11.69 0.0000% 0.00 11.69 1>"
      ]
     },
     "execution_count": 28,
     "metadata": {},
     "output_type": "execute_result"
    }
   ],
   "source": [
    "regex_free_type = re.compile(r'(?P<free_type>.*) CNY .* CNY')\n",
    "string = 'PRICE OPTIMIZATION CNY 11.69 0.0000% 0.00 11.69 11.69 CNY'\n",
    "mat = regex_free_type.search(string)\n",
    "mat"
   ]
  },
  {
   "cell_type": "code",
   "execution_count": 29,
   "id": "d2aeb3b3",
   "metadata": {},
   "outputs": [
    {
     "data": {
      "text/plain": [
       "'PRICE OPTIMIZATION'"
      ]
     },
     "execution_count": 29,
     "metadata": {},
     "output_type": "execute_result"
    }
   ],
   "source": [
    "mat.group('free_type')"
   ]
  },
  {
   "cell_type": "code",
   "execution_count": null,
   "id": "9c9edb4f",
   "metadata": {},
   "outputs": [],
   "source": [
    "'Customer Number'"
   ]
  },
  {
   "cell_type": "code",
   "execution_count": 73,
   "id": "eb88700f",
   "metadata": {},
   "outputs": [],
   "source": [
    "fname1 = r'F:\\a00nutstore\\qingchuan\\pdfToExcel\\Remittance 202308.25.xlsx'\n",
    "wb = openpyxl.load_workbook(fname1)\n",
    "ws = wb.active\n",
    "first_rows = [i.value for i in ws['A']]\n",
    "print(first_rows)\n",
    "wb.close()"
   ]
  },
  {
   "cell_type": "code",
   "execution_count": 74,
   "id": "3e084403",
   "metadata": {},
   "outputs": [
    {
     "name": "stdout",
     "output_type": "stream",
     "text": [
      "[None, 'Fee Payment Remittance Advice ', None, 'Holidex #  &  Customer #', None, 'Date of Payment', None, '酒店代码', 'Customer Number', 684100, 684100, 684100, 684100, 684100, 684100, 684100, 684100, 684100, 684100, 684100, 684100, 684100, 684100, 684100, 684100, 684100, 684100, 684100, 684100, 684100, 684100, 684100, 684100, 684100, 684100, None]\n"
     ]
    }
   ],
   "source": [
    "print(first_rows)"
   ]
  },
  {
   "cell_type": "code",
   "execution_count": 10,
   "id": "16f7253f",
   "metadata": {},
   "outputs": [],
   "source": [
    "#先删除原始表的内容，只留表头\n",
    "fname = r'F:\\a00nutstore\\qingchuan\\pdfToExcel\\Remittance 202308.25.xlsx'\n",
    "path, file = os.path.split(fname)\n",
    "os.chdir(path)\n",
    "wb = openpyxl.load_workbook(fname)\n",
    "ws = wb.active\n",
    "start_row = [i.value for i in ws['A']].index('Customer Number') + 1\n",
    "max_row = ws.max_row\n",
    "for i in range(max_row + 1,start_row,-1):\n",
    "    ws.delete_rows(idx=i)\n",
    "wb.save(fname1)"
   ]
  },
  {
   "cell_type": "code",
   "execution_count": null,
   "id": "28b5d9a0",
   "metadata": {},
   "outputs": [],
   "source": [
    "i = 1"
   ]
  },
  {
   "cell_type": "code",
   "execution_count": 91,
   "id": "75850e75",
   "metadata": {},
   "outputs": [],
   "source": [
    "CustomerNumber = '684100'\n",
    "InvoicingEntiry = 'P6066'\n",
    "InvoiceNumber = invoice_number\n",
    "ItemLine = str(i)\n",
    "InvoiceDate = invoice_date\n",
    "FeeType = fee_type\n",
    "ItemBalance = amount\n",
    "ItemBalanceCurrency = 'CNY'\n",
    "BaseAmount = amount\n",
    "BaseCurrency = 'CNY'\n",
    "GrossInvoiceAmount = amount\n",
    "GrossPaymentCurrency = 'CNY'\n",
    "NetAmountTransferred = amount\n",
    "\n",
    "\n",
    "\n",
    "\n"
   ]
  },
  {
   "cell_type": "code",
   "execution_count": 16,
   "id": "3fbdb440",
   "metadata": {},
   "outputs": [
    {
     "name": "stdout",
     "output_type": "stream",
     "text": [
      "['Customer Number', 'Invoicing Entiry', 'Invoice Number', 'Item Line', 'Invoice Date', 'Fee Type', 'Item Balance', 'Item Balance Currency', 'Base Amount', 'Base Currency', '*Gross Invoice Amount', '*Gross Payment Currency', 'Withholding Rate %', 'Withholding Amount', 'VAT Rate %', 'VAT Amount', 'Surcharge Tax %', 'Surcharge Tax Amount', 'Deduction Amount', 'Net Amount', \"Today's Exchange Rate\", '*Exchange Rate', 'Net Amount Transferred', '*Short Pay comments']\n"
     ]
    }
   ],
   "source": [
    "#打开只留有表头的表，添加数据\n",
    "fname1 = r'F:\\a00nutstore\\qingchuan\\pdfToExcel\\Remittance 202308.25.xlsx'\n",
    "\n",
    "wb = openpyxl.load_workbook(fname1)\n",
    "ws = wb.active\n",
    "columns = [i.value for i in ws[9]]\n",
    "print(columns)\n",
    "wb.close()"
   ]
  },
  {
   "cell_type": "code",
   "execution_count": 97,
   "id": "1a6e0a07",
   "metadata": {},
   "outputs": [],
   "source": [
    "fname1 = r'F:\\a00nutstore\\qingchuan\\pdfToExcel\\Remittance 202308.25.xlsx'\n",
    "wb = openpyxl.load_workbook(fname1)\n",
    "ws = wb.active\n",
    "row = [CustomerNumber, InvoicingEntiry, InvoiceNumber, ItemLine, InvoiceDate, FeeType, ItemBalance, ItemBalanceCurrency, BaseAmount, BaseCurrency, GrossInvoiceAmount, GrossPaymentCurrency, '', '', 0, 0, '', '', '', '', \"\", '', NetAmountTransferred, '']\n",
    "ws.append(row)\n",
    "wb.save(fname1)"
   ]
  },
  {
   "cell_type": "code",
   "execution_count": 98,
   "id": "4650da02",
   "metadata": {},
   "outputs": [
    {
     "data": {
      "text/plain": [
       "'F:\\\\a00nutstore\\\\qingchuan\\\\pdfToExcel'"
      ]
     },
     "execution_count": 98,
     "metadata": {},
     "output_type": "execute_result"
    }
   ],
   "source": [
    "path"
   ]
  },
  {
   "cell_type": "code",
   "execution_count": 107,
   "id": "d24518fb",
   "metadata": {},
   "outputs": [
    {
     "data": {
      "text/plain": [
       "['924166-IHGBE.pdf',\n",
       " '925215-SBRP.pdf',\n",
       " '925282-leadshare.pdf',\n",
       " '926369-Business Reward.pdf',\n",
       " '926884-Reward Night Credit.pdf',\n",
       " '928006-IHG IGNITE.pdf',\n",
       " '928556-TACP.pdf',\n",
       " '942253-SYSTEM.pdf',\n",
       " '942254-SYSTEM-1.pdf',\n",
       " '942255-SYSTEM.pdf']"
      ]
     },
     "execution_count": 107,
     "metadata": {},
     "output_type": "execute_result"
    }
   ],
   "source": [
    "pdf_files = [i for i in os.listdir(path) if i[-3:] == 'pdf']\n",
    "pdf_files"
   ]
  },
  {
   "cell_type": "code",
   "execution_count": 30,
   "id": "e6bf65af",
   "metadata": {},
   "outputs": [],
   "source": [
    "regex_invoice_number = re.compile(r'Tax Invoice #: P\\d{9}')\n",
    "regex_invoice_number = re.compile(r'Tax Invoice #: (?P<invoice_number>P\\d{9})')\n",
    "regex_invoice_date = re.compile(r'Tax Invoice Date: (?P<invoice_date>\\d{2}-\\w+-\\d{4})')\n",
    "regex_free_type = re.compile(r'(?P<free_type>.*) CNY .* CNY')"
   ]
  },
  {
   "cell_type": "code",
   "execution_count": 32,
   "id": "3aab5fcc",
   "metadata": {},
   "outputs": [
    {
     "ename": "NameError",
     "evalue": "name 'free_type' is not defined",
     "output_type": "error",
     "traceback": [
      "\u001b[1;31m---------------------------------------------------------------------------\u001b[0m",
      "\u001b[1;31mNameError\u001b[0m                                 Traceback (most recent call last)",
      "\u001b[1;32m~\\AppData\\Local\\Temp\\ipykernel_16072\\2634204698.py\u001b[0m in \u001b[0;36m<module>\u001b[1;34m\u001b[0m\n\u001b[0;32m     33\u001b[0m         \u001b[1;32melse\u001b[0m \u001b[1;33m:\u001b[0m\u001b[1;33m\u001b[0m\u001b[1;33m\u001b[0m\u001b[0m\n\u001b[0;32m     34\u001b[0m             \u001b[1;32mcontinue\u001b[0m\u001b[1;33m\u001b[0m\u001b[1;33m\u001b[0m\u001b[0m\n\u001b[1;32m---> 35\u001b[1;33m         \u001b[0mrow\u001b[0m \u001b[1;33m=\u001b[0m \u001b[1;33m[\u001b[0m\u001b[1;34m'684100'\u001b[0m\u001b[1;33m,\u001b[0m \u001b[1;34m'P6066'\u001b[0m\u001b[1;33m,\u001b[0m \u001b[0minvoice_number\u001b[0m\u001b[1;33m,\u001b[0m \u001b[0mstr\u001b[0m\u001b[1;33m(\u001b[0m\u001b[0mitem_line\u001b[0m\u001b[1;33m)\u001b[0m\u001b[1;33m,\u001b[0m \u001b[0minvoice_date\u001b[0m\u001b[1;33m,\u001b[0m \u001b[0mfree_type\u001b[0m\u001b[1;33m,\u001b[0m \u001b[0mamount\u001b[0m\u001b[1;33m,\u001b[0m \u001b[1;34m'CNY'\u001b[0m\u001b[1;33m,\u001b[0m \u001b[0mamount\u001b[0m\u001b[1;33m,\u001b[0m  \u001b[1;34m'CNY'\u001b[0m\u001b[1;33m,\u001b[0m \u001b[0mamount\u001b[0m\u001b[1;33m,\u001b[0m  \u001b[1;34m'CNY'\u001b[0m\u001b[1;33m,\u001b[0m \u001b[1;34m''\u001b[0m\u001b[1;33m,\u001b[0m \u001b[1;34m''\u001b[0m\u001b[1;33m,\u001b[0m \u001b[1;36m0\u001b[0m\u001b[1;33m,\u001b[0m \u001b[1;36m0\u001b[0m\u001b[1;33m,\u001b[0m \u001b[1;34m''\u001b[0m\u001b[1;33m,\u001b[0m \u001b[1;34m''\u001b[0m\u001b[1;33m,\u001b[0m \u001b[1;34m''\u001b[0m\u001b[1;33m,\u001b[0m \u001b[1;34m''\u001b[0m\u001b[1;33m,\u001b[0m \u001b[1;34m\"\"\u001b[0m\u001b[1;33m,\u001b[0m \u001b[1;34m''\u001b[0m\u001b[1;33m,\u001b[0m\u001b[0mamount\u001b[0m\u001b[1;33m,\u001b[0m \u001b[1;34m''\u001b[0m\u001b[1;33m]\u001b[0m\u001b[1;33m\u001b[0m\u001b[1;33m\u001b[0m\u001b[0m\n\u001b[0m\u001b[0;32m     36\u001b[0m \u001b[1;33m\u001b[0m\u001b[0m\n\u001b[0;32m     37\u001b[0m         \u001b[0mws\u001b[0m\u001b[1;33m.\u001b[0m\u001b[0mappend\u001b[0m\u001b[1;33m(\u001b[0m\u001b[0mrow\u001b[0m\u001b[1;33m)\u001b[0m\u001b[1;33m\u001b[0m\u001b[1;33m\u001b[0m\u001b[0m\n",
      "\u001b[1;31mNameError\u001b[0m: name 'free_type' is not defined"
     ]
    }
   ],
   "source": [
    "pdf_files = [i for i in os.listdir(path) if i[-3:] == 'pdf']\n",
    "fname1 = r'F:\\a00nutstore\\qingchuan\\pdfToExcel\\Remittance 202308.25.xlsx'\n",
    "wb = openpyxl.load_workbook(fname1)\n",
    "ws = wb.active\n",
    "\n",
    "for file in pdf_files:\n",
    "    filename = writeDangtian(file)\n",
    "    invoice = txtToInvoice(filename)\n",
    "    item_line = 1\n",
    "    for line in invoice:\n",
    "        if line.startswith('Customer'):\n",
    "            mat = regex_invoice_number.search(line)\n",
    "            invoice_number = mat.group('invoice_number')\n",
    "            if line.startswith('Holidex'):\n",
    "                mat = regex_invoice_date.search(line)\n",
    "                invoice_date = mat.group('invoice_date')\n",
    "                invoice_date = \"'\".join(invoice_date.split('-')[::-1][1:])\n",
    "                if line.endswith('CNY'):\n",
    "                    if not line.startswith('Amount Due'):\n",
    "                        if line.split(' ')[-1] == 'CNY':\n",
    "                            amounts = line.split(' ')\n",
    "                            amount = float(amounts[-2].replace('(','-').replace(')','').replace(',',''))\n",
    "                            print('free_type line',line)\n",
    "                            mat = regex_free_type.search(line)\n",
    "                            free_type = mat.group('free_type')\n",
    "           \n",
    "                  \n",
    "                            \n",
    "        else :\n",
    "            continue\n",
    "        row = ['684100', 'P6066', invoice_number, str(item_line), invoice_date, free_type, amount, 'CNY', amount,  'CNY', amount,  'CNY', '', '', 0, 0, '', '', '', '', \"\", '',amount, '']\n",
    "        \n",
    "        ws.append(row)\n",
    "        item_line += 1\n",
    "     \n",
    "wb.save(fname1)\n",
    "# wb.close()\n",
    "        \n",
    "\n",
    "    \n",
    "    "
   ]
  },
  {
   "cell_type": "code",
   "execution_count": 118,
   "id": "116769dc",
   "metadata": {},
   "outputs": [],
   "source": [
    "string = 'IHGBE - MARCH 2023 CNY 202.11 6.0000% 12.13 214.24 214.24 CNY'\n",
    "mat = regex_free_type.search(line)\n",
    "mat"
   ]
  },
  {
   "cell_type": "code",
   "execution_count": 138,
   "id": "ade2ff60",
   "metadata": {},
   "outputs": [
    {
     "data": {
      "text/plain": [
       "<re.Match object; span=(0, 69), match='TECHNOLOGY FEE CNY 21,329.30 6.0000% 1,279.76 22,>"
      ]
     },
     "execution_count": 138,
     "metadata": {},
     "output_type": "execute_result"
    }
   ],
   "source": [
    "regex_free_type = re.compile(r'(?P<free_type>.*) CNY .* CNY')\n",
    "string = 'TECHNOLOGY FEE CNY 21,329.30 6.0000% 1,279.76 22,609.06 22,609.06 CNY'\n",
    "mat = regex_free_type.search(string)\n",
    "mat"
   ]
  },
  {
   "cell_type": "code",
   "execution_count": 139,
   "id": "a287b81a",
   "metadata": {},
   "outputs": [
    {
     "data": {
      "text/plain": [
       "'TECHNOLOGY FEE'"
      ]
     },
     "execution_count": 139,
     "metadata": {},
     "output_type": "execute_result"
    }
   ],
   "source": [
    "mat.group('free_type')\n"
   ]
  },
  {
   "cell_type": "code",
   "execution_count": null,
   "id": "576a6e53",
   "metadata": {},
   "outputs": [],
   "source": []
  }
 ],
 "metadata": {
  "kernelspec": {
   "display_name": "Python 3 (ipykernel)",
   "language": "python",
   "name": "python3"
  },
  "language_info": {
   "codemirror_mode": {
    "name": "ipython",
    "version": 3
   },
   "file_extension": ".py",
   "mimetype": "text/x-python",
   "name": "python",
   "nbconvert_exporter": "python",
   "pygments_lexer": "ipython3",
   "version": "3.9.13"
  }
 },
 "nbformat": 4,
 "nbformat_minor": 5
}
