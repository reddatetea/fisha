{
 "cells": [
  {
   "cell_type": "code",
   "execution_count": 1,
   "id": "95f2bd8e",
   "metadata": {},
   "outputs": [],
   "source": [
    "def hi(name = \"yasoob\"):\n",
    "    return \"hi \" + name\n"
   ]
  },
  {
   "cell_type": "code",
   "execution_count": 2,
   "id": "7ae112c1",
   "metadata": {},
   "outputs": [
    {
     "name": "stdout",
     "output_type": "stream",
     "text": [
      "hi yasoob\n"
     ]
    }
   ],
   "source": [
    "print(hi())"
   ]
  },
  {
   "cell_type": "code",
   "execution_count": 3,
   "id": "89f24e84",
   "metadata": {},
   "outputs": [],
   "source": [
    "greet = hi"
   ]
  },
  {
   "cell_type": "code",
   "execution_count": 4,
   "id": "a3c8c876",
   "metadata": {},
   "outputs": [
    {
     "name": "stdout",
     "output_type": "stream",
     "text": [
      "hi yasoob\n"
     ]
    }
   ],
   "source": [
    "print(greet())"
   ]
  },
  {
   "cell_type": "code",
   "execution_count": 5,
   "id": "f4ba44ff",
   "metadata": {},
   "outputs": [
    {
     "ename": "NameError",
     "evalue": "name 'hi' is not defined",
     "output_type": "error",
     "traceback": [
      "\u001b[1;31m---------------------------------------------------------------------------\u001b[0m",
      "\u001b[1;31mNameError\u001b[0m                                 Traceback (most recent call last)",
      "\u001b[1;32m~\\AppData\\Local\\Temp\\ipykernel_3200\\139497606.py\u001b[0m in \u001b[0;36m<module>\u001b[1;34m\u001b[0m\n\u001b[0;32m      1\u001b[0m \u001b[1;32mdel\u001b[0m \u001b[0mhi\u001b[0m\u001b[1;33m\u001b[0m\u001b[1;33m\u001b[0m\u001b[0m\n\u001b[1;32m----> 2\u001b[1;33m \u001b[0mprint\u001b[0m\u001b[1;33m(\u001b[0m\u001b[0mhi\u001b[0m\u001b[1;33m(\u001b[0m\u001b[1;33m)\u001b[0m\u001b[1;33m)\u001b[0m\u001b[1;33m\u001b[0m\u001b[1;33m\u001b[0m\u001b[0m\n\u001b[0m",
      "\u001b[1;31mNameError\u001b[0m: name 'hi' is not defined"
     ]
    }
   ],
   "source": [
    "del hi\n",
    "print(hi())"
   ]
  },
  {
   "cell_type": "code",
   "execution_count": 6,
   "id": "6c42b557",
   "metadata": {},
   "outputs": [
    {
     "name": "stdout",
     "output_type": "stream",
     "text": [
      "hi yasoob\n"
     ]
    }
   ],
   "source": [
    "print(greet())"
   ]
  },
  {
   "cell_type": "code",
   "execution_count": 10,
   "id": "58e610d0",
   "metadata": {},
   "outputs": [
    {
     "name": "stdout",
     "output_type": "stream",
     "text": [
      "now you are inside the hi() function\n",
      "now you are inside the greet() function\n",
      "now you are inside the welcome() funcfiton\n",
      "now you are back in the hi() function\n"
     ]
    }
   ],
   "source": [
    "#在函数中定义函数\n",
    "def hi(name = 'yasoob'):\n",
    "    print(\"now you are inside the hi() function\")\n",
    "    def greet():\n",
    "        return \"now you are inside the greet() function\"\n",
    "    def welcome():\n",
    "        return \"now you are inside the welcome() funcfiton\"\n",
    "    print(greet())\n",
    "    print(welcome())\n",
    "    print(\"now you are back in the hi() function\")\n",
    "hi()"
   ]
  },
  {
   "cell_type": "code",
   "execution_count": 11,
   "id": "fb9d3d98",
   "metadata": {},
   "outputs": [
    {
     "name": "stdout",
     "output_type": "stream",
     "text": [
      "now you are inside the hi() function\n",
      "<function hi.<locals>.greet at 0x00000241C0C6D940>\n"
     ]
    }
   ],
   "source": [
    "#从函数中返回函数\n",
    "def hi(name = 'yasoob'):\n",
    "    print(\"now you are inside the hi() function\")\n",
    "    def greet():\n",
    "        return \"now you are inside the greet() function\"\n",
    "    def welcome():\n",
    "        return \"now you are inside the welcome() funcfiton\"\n",
    "    if name == \"yasoob\":\n",
    "        return greet\n",
    "    else :\n",
    "        return welcome\n",
    "\n",
    "a = hi()\n",
    "print(a)\n"
   ]
  },
  {
   "cell_type": "code",
   "execution_count": 12,
   "id": "bcfd69a3",
   "metadata": {},
   "outputs": [
    {
     "name": "stdout",
     "output_type": "stream",
     "text": [
      "now you are inside the greet() function\n"
     ]
    }
   ],
   "source": [
    "print(a())"
   ]
  },
  {
   "cell_type": "code",
   "execution_count": 14,
   "id": "ed357c38",
   "metadata": {},
   "outputs": [
    {
     "name": "stdout",
     "output_type": "stream",
     "text": [
      "I am doing some boring_work before executing hi()\n",
      "hi yasoob\n"
     ]
    }
   ],
   "source": [
    "#将函数作为参数传给另一个函数\n",
    "def hi():\n",
    "    return \"hi yasoob\"\n",
    "def dosomethingBeforeHi(func):   #no ()\n",
    "    print('I am doing some boring_work before executing hi()')\n",
    "    print(func())                #have ()      \n",
    "dosomethingBeforeHi(hi)\n",
    "    "
   ]
  },
  {
   "cell_type": "code",
   "execution_count": 15,
   "id": "fef26fc3",
   "metadata": {},
   "outputs": [],
   "source": [
    "# my firrt decorator\n",
    "def a_new_decorator(a_func):\n",
    "    def wrapTheFunction():\n",
    "        print('I am doing some boring work before executing a_func()')\n",
    "        a_func()\n",
    "        print('I am doing some boring work after executing a_func()')\n",
    "    return wrapTheFunction\n",
    "\n",
    "def a_function_requiring_decoration():\n",
    "    print('I am the function which needs some decoration to remove my foul smell')"
   ]
  },
  {
   "cell_type": "code",
   "execution_count": 16,
   "id": "cfb62692",
   "metadata": {},
   "outputs": [
    {
     "name": "stdout",
     "output_type": "stream",
     "text": [
      "I am the function which needs some decoration to remove my foul smell\n"
     ]
    }
   ],
   "source": [
    "a_function_requiring_decoration()"
   ]
  },
  {
   "cell_type": "code",
   "execution_count": 17,
   "id": "09204d01",
   "metadata": {},
   "outputs": [
    {
     "name": "stdout",
     "output_type": "stream",
     "text": [
      "I am doing some boring work before executing a_func()\n",
      "I am the function which needs some decoration to remove my foul smell\n",
      "I am doing some boring work after executing a_func()\n"
     ]
    }
   ],
   "source": [
    "a_function_requiring_decoration = a_new_decorator(a_function_requiring_decoration)\n",
    "a_function_requiring_decoration()"
   ]
  },
  {
   "cell_type": "code",
   "execution_count": 18,
   "id": "d85494c4",
   "metadata": {},
   "outputs": [
    {
     "name": "stdout",
     "output_type": "stream",
     "text": [
      "wrapTheFunction\n"
     ]
    }
   ],
   "source": [
    "def a_new_decorator(a_func):\n",
    "    def wrapTheFunction():\n",
    "        print('I am doing some boring work before executing a_func()')\n",
    "        a_func()\n",
    "        print('I am doing some boring work after executing a_func()')\n",
    "    return wrapTheFunction\n",
    "\n",
    "@a_new_decorator\n",
    "def a_function_requiring_decoration():\n",
    "    '''Hey you!Decorator me!'''\n",
    "    print('I am the function which needs some decoration to remove my foul smell')\n",
    "\n",
    "a_function_requiring_decoration = a_new_decorator(a_function_requiring_decoration)\n",
    "print(a_function_requiring_decoration.__name__)"
   ]
  },
  {
   "cell_type": "code",
   "execution_count": 19,
   "id": "2abd2cca",
   "metadata": {},
   "outputs": [
    {
     "name": "stdout",
     "output_type": "stream",
     "text": [
      "a_function_requiring_decoration\n"
     ]
    }
   ],
   "source": [
    "from functools import wraps\n",
    "\n",
    "def a_new_decorator(a_func):\n",
    "    @wraps(a_func)\n",
    "    def wrapTheFunction():\n",
    "        print('I am doing some boring work before executing a_func()')\n",
    "        a_func()\n",
    "        print('I am doing some boring work after executing a_func()')\n",
    "    return wrapTheFunction\n",
    "\n",
    "@a_new_decorator\n",
    "def a_function_requiring_decoration():\n",
    "    '''Hey you!Decorator me!'''\n",
    "    print('I am the function which needs some decoration to remove my foul smell')\n",
    "\n",
    "a_function_requiring_decoration = a_new_decorator(a_function_requiring_decoration)\n",
    "print(a_function_requiring_decoration.__name__)"
   ]
  },
  {
   "cell_type": "code",
   "execution_count": 1,
   "id": "103d7d45",
   "metadata": {},
   "outputs": [],
   "source": [
    "#蓝本规范\n",
    "from functools import wraps\n",
    "def decorator_name(f):\n",
    "    @wraps(f)\n",
    "    def decorated(*args,**kwargs):\n",
    "        if not can_run:\n",
    "            return \"Function will not run\"\n",
    "        else :\n",
    "            return f(*args,**kwargs)\n",
    "    return decorated\n",
    "\n",
    "@decorator_name\n",
    "def func():\n",
    "    return('Function is running')\n"
   ]
  },
  {
   "cell_type": "code",
   "execution_count": 2,
   "id": "8de23d7d",
   "metadata": {},
   "outputs": [
    {
     "name": "stdout",
     "output_type": "stream",
     "text": [
      "Function is running\n"
     ]
    }
   ],
   "source": [
    "can_run = True\n",
    "print(func())"
   ]
  },
  {
   "cell_type": "code",
   "execution_count": 3,
   "id": "f9bdb2c2",
   "metadata": {},
   "outputs": [
    {
     "name": "stdout",
     "output_type": "stream",
     "text": [
      "Function will not run\n"
     ]
    }
   ],
   "source": [
    "can_run = False\n",
    "print(func())"
   ]
  },
  {
   "cell_type": "code",
   "execution_count": null,
   "id": "21403816",
   "metadata": {},
   "outputs": [],
   "source": []
  }
 ],
 "metadata": {
  "kernelspec": {
   "display_name": "Python 3 (ipykernel)",
   "language": "python",
   "name": "python3"
  },
  "language_info": {
   "codemirror_mode": {
    "name": "ipython",
    "version": 3
   },
   "file_extension": ".py",
   "mimetype": "text/x-python",
   "name": "python",
   "nbconvert_exporter": "python",
   "pygments_lexer": "ipython3",
   "version": "3.9.13"
  }
 },
 "nbformat": 4,
 "nbformat_minor": 5
}
