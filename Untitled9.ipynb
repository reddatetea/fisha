{
 "cells": [
  {
   "cell_type": "code",
   "execution_count": 1,
   "id": "35547d40-4cf7-4125-8c82-a549b6211029",
   "metadata": {},
   "outputs": [
    {
     "name": "stdout",
     "output_type": "stream",
     "text": [
      "16\n"
     ]
    }
   ],
   "source": [
    "import re\n",
    "\n",
    "def safe_eval(expression):\n",
    "    # 只允许数字、加减乘除、括号和空格\n",
    "    if not re.match(r'^[\\d+\\-*/\\s().]+$', expression):\n",
    "        raise ValueError(\"输入包含非法字符\")\n",
    "    \n",
    "    try:\n",
    "        return eval(expression, {\"__builtins__\": None}, {})\n",
    "    except Exception as e:\n",
    "        raise ValueError(f\"计算错误: {e}\")\n",
    "\n",
    "# 安全使用eval\n",
    "try:\n",
    "    result = safe_eval(\"(3+5)*2\")\n",
    "    print(result)\n",
    "except ValueError as ve:\n",
    "    print(ve)"
   ]
  },
  {
   "cell_type": "code",
   "execution_count": 19,
   "id": "65824e15-4852-4ebe-8409-6c9219c68ee5",
   "metadata": {},
   "outputs": [
    {
     "data": {
      "text/plain": [
       "<re.Match object; span=(0, 7), match='(3-5)/5'>"
      ]
     },
     "execution_count": 19,
     "metadata": {},
     "output_type": "execute_result"
    }
   ],
   "source": [
    "re.match(r'^[\\d+\\+\\-\\*/\\s()]+$',expression)"
   ]
  },
  {
   "cell_type": "code",
   "execution_count": 29,
   "id": "4ecaa4e4-e67a-457d-8929-77b3a7169469",
   "metadata": {},
   "outputs": [
    {
     "name": "stdout",
     "output_type": "stream",
     "text": [
      "150.0\n"
     ]
    }
   ],
   "source": [
    "import re\n",
    "\n",
    "def safe_eval(expression):\n",
    "    # 只允许数字、加减乘除、括号和空格\n",
    "    if not re.match(r'^[\\d+\\+\\-\\*/\\s()]+$', '(3-5)/5'):\n",
    "        raise ValueError(\"输入包含非法字符\")\n",
    "    \n",
    "    try:\n",
    "        return eval(expression, {\"__builtins__\": None}, {})\n",
    "    except Exception as e:\n",
    "        raise ValueError(f\"计算错误: {e}\")\n",
    "\n",
    "# 安全使用eval\n",
    "try:\n",
    "    result = safe_eval(\"(3-+6)/(1-5)*200\")\n",
    "    print(result)\n",
    "except ValueError as ve:\n",
    "    print(ve)"
   ]
  },
  {
   "cell_type": "code",
   "execution_count": 25,
   "id": "d8c48162-c087-47c6-a57b-c2b64cbe3422",
   "metadata": {},
   "outputs": [
    {
     "data": {
      "text/plain": [
       "9.0"
      ]
     },
     "execution_count": 25,
     "metadata": {},
     "output_type": "execute_result"
    }
   ],
   "source": [
    "array = [121, 49, 15]\n",
    "gen = (x for x in array if array.count(x) > 0)\n",
    "array = [0, 49, 88]\n",
    "print(list(gen))"
   ]
  },
  {
   "cell_type": "code",
   "execution_count": 30,
   "id": "198e5e1e-a787-41f8-a64c-8a46ace32d7e",
   "metadata": {},
   "outputs": [
    {
     "ename": "NameError",
     "evalue": "name 'count' is not defined",
     "output_type": "error",
     "traceback": [
      "\u001b[1;31m---------------------------------------------------------------------------\u001b[0m",
      "\u001b[1;31mNameError\u001b[0m                                 Traceback (most recent call last)",
      "Cell \u001b[1;32mIn[30], line 1\u001b[0m\n\u001b[1;32m----> 1\u001b[0m \u001b[43mcount\u001b[49m(\u001b[38;5;241m121\u001b[39m)\n",
      "\u001b[1;31mNameError\u001b[0m: name 'count' is not defined"
     ]
    }
   ],
   "source": [
    "count(121)\n"
   ]
  },
  {
   "cell_type": "code",
   "execution_count": null,
   "id": "d23f69d6-0c30-4936-b8b3-00363d1234cc",
   "metadata": {},
   "outputs": [],
   "source": []
  }
 ],
 "metadata": {
  "kernelspec": {
   "display_name": "Python 3 (ipykernel)",
   "language": "python",
   "name": "python3"
  },
  "language_info": {
   "codemirror_mode": {
    "name": "ipython",
    "version": 3
   },
   "file_extension": ".py",
   "mimetype": "text/x-python",
   "name": "python",
   "nbconvert_exporter": "python",
   "pygments_lexer": "ipython3",
   "version": "3.11.5"
  }
 },
 "nbformat": 4,
 "nbformat_minor": 5
}
