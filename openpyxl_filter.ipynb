{
 "cells": [
  {
   "cell_type": "code",
   "execution_count": 1,
   "id": "fa56742b",
   "metadata": {},
   "outputs": [],
   "source": [
    "import os\n",
    "import pandas as pd\n",
    "import openpyxl"
   ]
  },
  {
   "cell_type": "code",
   "execution_count": 26,
   "id": "adc9e247",
   "metadata": {},
   "outputs": [
    {
     "name": "stdout",
     "output_type": "stream",
     "text": [
      "120\n",
      "114\n",
      "116\n"
     ]
    }
   ],
   "source": [
    "fname = r'F:\\repos\\fish\\Chapter-12-6-1.xlsx'\n",
    "wb = openpyxl.load_workbook(fname)\n",
    "ws0 = wb['业绩表']\n",
    "if \"最高业绩表\" not in wb.sheetnames:\n",
    "    wb.create_sheet(\"最高业绩表\")\n",
    "else :\n",
    "    ws1 = wb[ \"最高业绩表\"]\n",
    "    ws1.delete_rows(1,ws1.max_row)\n",
    "ws1.append(['部门','姓名','月份','业绩'])\n",
    "for col in ws0.iter_cols(min_row =2,min_col = 3):\n",
    "    max_value = max([i.value for i in col])\n",
    "    cells = []\n",
    "    for i in col:\n",
    "        if i.value == max_value :\n",
    "            cells.append(i)\n",
    "        else :\n",
    "            continue\n",
    "    for cell in cells:\n",
    "        tup= ws0[cell.row][:2] + (ws0.cell(1,cell.column),cell)\n",
    "        ws1.append([i.value for i in tup])\n",
    "wb.save(fname)\n",
    "os.startfile(fname)\n",
    "        \n",
    "    \n",
    "    \n",
    "    \n",
    "    \n",
    "\n",
    "            \n"
   ]
  },
  {
   "cell_type": "code",
   "execution_count": 27,
   "id": "c40f577f",
   "metadata": {},
   "outputs": [],
   "source": [
    "fname = r'F:\\repos\\fish\\Chapter-12-6-1.xlsx'\n",
    "wb = openpyxl.load_workbook(fname)\n",
    "ws0 = wb['业绩表']\n",
    "if \"最高业绩表\" not in wb.sheetnames:\n",
    "    wb.create_sheet(\"最高业绩表\")\n",
    "else :\n",
    "    ws1 = wb[ \"最高业绩表\"]\n",
    "    ws1.delete_rows(1,ws1.max_row)\n",
    "ws1.append(['部门','姓名','月份','业绩'])\n",
    "for col in ws0.iter_cols(min_row =2,min_col = 3):\n",
    "    max_value = max([i.value for i in col])\n",
    "    for cell in filter(lambda x:x.value==max_value,col):\n",
    "        tup= ws0[cell.row][:2] + (ws0.cell(1,cell.column),cell)\n",
    "        ws1.append([i.value for i in tup])\n",
    "wb.save(fname)\n",
    "os.startfile(fname)\n",
    "       \n",
    "\n",
    "    \n",
    "    \n",
    "    \n",
    "    \n",
    "        \n",
    "\n"
   ]
  }
 ],
 "metadata": {
  "kernelspec": {
   "display_name": "Python 3 (ipykernel)",
   "language": "python",
   "name": "python3"
  },
  "language_info": {
   "codemirror_mode": {
    "name": "ipython",
    "version": 3
   },
   "file_extension": ".py",
   "mimetype": "text/x-python",
   "name": "python",
   "nbconvert_exporter": "python",
   "pygments_lexer": "ipython3",
   "version": "3.9.13"
  }
 },
 "nbformat": 4,
 "nbformat_minor": 5
}
