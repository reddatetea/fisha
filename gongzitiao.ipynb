{
 "cells": [
  {
   "cell_type": "code",
   "execution_count": 1,
   "id": "a7a597d8-150f-4264-b473-ea3b682741ac",
   "metadata": {},
   "outputs": [],
   "source": [
    "import os\n",
    "import pandas as pd\n",
    "import easygui\n",
    "\n"
   ]
  },
  {
   "cell_type": "code",
   "execution_count": 17,
   "id": "684c190d-7288-4891-864b-572a3d9fd03d",
   "metadata": {},
   "outputs": [],
   "source": [
    "fname =r\"F:\\a00nutstore\\008\\zw08\\gongzi\\行管工资.xlsx\"\n",
    "os.chdir(r'F:\\a00nutstore\\008\\zw08\\gongzi')\n",
    "filter = easygui.enterbox('请输入员工姓名')\n",
    "df = pd.read_excel(fname,sheet_name = '工资')\n",
    "df = df.loc[df['姓名']==filter]\n",
    "df = df.dropna(axis = 1)   #删除空格或完全没有数据的列\n",
    "df = df.drop(df.columns[df.isin([0]).any()], axis=1)\n",
    "df = df.loc[:,'姓名':\"实发数\"]\n",
    "df.to_excel('工资条.xlsx',sheet_name = '工资',index = False)\n",
    "os.startfile('工资条.xlsx')\n",
    "\n"
   ]
  },
  {
   "cell_type": "code",
   "execution_count": null,
   "id": "5a4deb73-76ed-430a-a0ec-192f06ca90a1",
   "metadata": {},
   "outputs": [],
   "source": [
    "names = ['车间',\n",
    "             '卡号',\n",
    "             '姓名',\n",
    "             '工资',\n",
    "             '考评',\n",
    "             '补贴',\n",
    "             '生活补贴',\n",
    "             '保底补贴',\n",
    "             '工龄',\n",
    "             '奖励',\n",
    "             '节约',\n",
    "             '水电费',\n",
    "             '罚款',\n",
    "             '物耗',\n",
    "             '代扣社保',\n",
    "             '扣税',\n",
    "             '补扣税'\n",
    "             '实发数',\n",
    "             '领款人签名',\n",
    "             '保底人员金额'\n",
    "             ]\n",
    "\n",
    "usecols = 'A:Q,R,S,U'\n",
    "df = pd.read_excel(fname, sheet_name=sheet_name, names=names, usecols=usecols, skiprows=3)\n",
    "df = df.insert(16,'其他',0)\n",
    "df = chuliName(df, chejian)\n",
    "index = df.columns.to_list().index('实发数')\n",
    "df1 = df.iloc[:, :16]\n",
    "df1['借支'] = 0\n",
    "df2 = df.iloc[:, 16:]\n",
    "df = pd.concat([df1, df2], axis=1)"
   ]
  }
 ],
 "metadata": {
  "kernelspec": {
   "display_name": "Python 3 (ipykernel)",
   "language": "python",
   "name": "python3"
  },
  "language_info": {
   "codemirror_mode": {
    "name": "ipython",
    "version": 3
   },
   "file_extension": ".py",
   "mimetype": "text/x-python",
   "name": "python",
   "nbconvert_exporter": "python",
   "pygments_lexer": "ipython3",
   "version": "3.11.8"
  }
 },
 "nbformat": 4,
 "nbformat_minor": 5
}
