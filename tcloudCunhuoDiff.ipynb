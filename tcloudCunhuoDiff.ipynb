{
 "cells": [
  {
   "cell_type": "code",
   "execution_count": 51,
   "id": "c9b4be4c-a50d-4f8a-96af-8aec2eca1b1a",
   "metadata": {},
   "outputs": [],
   "source": [
    "import pandas as pd\n",
    "import numpy as np\n",
    "import re\n",
    "import easygui\n",
    "import os\n",
    "import openpyxl"
   ]
  },
  {
   "cell_type": "code",
   "execution_count": 52,
   "id": "ac5c9fa6-ebb6-4397-a17d-3dd2e591f5c5",
   "metadata": {},
   "outputs": [],
   "source": [
    "def addBen(string):\n",
    "    pattern = r'(?P<num>\\d+)本/件'\n",
    "    regexp1 = re.compile(pattern)\n",
    "    mat = regexp1.search(string)\n",
    "    if mat:\n",
    "        content = int(mat.group('num'))\n",
    "    else :\n",
    "        content  = 0\n",
    "    return content"
   ]
  },
  {
   "cell_type": "code",
   "execution_count": 53,
   "id": "e0573e88-c252-4ca6-9951-e3060b0bf070",
   "metadata": {},
   "outputs": [],
   "source": [
    "def getContentCodeContenDic(fname):\n",
    "    df_content = pd.read_excel(fname,dtype = {'存货编码' :str})\n",
    "    df_content['content'] = df_content['计量单位'].map(addBen)\n",
    "    codes = df_content['存货编码']\n",
    "    contens = df_content['content']\n",
    "    caigous = df_content['采购价']\n",
    "    pifa01s = df_content['一级批发价']\n",
    "    pifa02s = df_content['二级批发价']\n",
    "    pifa03s = df_content['三级批发价']\n",
    "    content_price = zip(contens,caigous,pifa01s,pifa02s,pifa03s)\n",
    "    code_content = dict(zip(codes, content_price))\n",
    "    return df_content,code_content\n",
    "    \n",
    "\n"
   ]
  },
  {
   "cell_type": "code",
   "execution_count": 54,
   "id": "b8a15d06-b53d-4bdd-9b9c-3ad05a37a38e",
   "metadata": {},
   "outputs": [],
   "source": [
    "fname_gongchang = r\"F:\\a00nutstore\\008\\zw08\\用友报价\\产成品库存\\存货档案20240818\\存货-工厂.xlsx\"\n",
    "df_gongchang,code_contentPrice_gongchang = getContentCodeContenDic(fname_gongchang)\n"
   ]
  },
  {
   "cell_type": "code",
   "execution_count": 55,
   "id": "0f122087-9f04-47ae-9343-178584063eed",
   "metadata": {},
   "outputs": [],
   "source": [
    "fname_xiaoshou = r\"F:\\a00nutstore\\008\\zw08\\用友报价\\产成品库存\\存货档案20240818\\存货-销售公司.xlsx\"\n",
    "df_xiaoshou,code_contentPrice_xiaoshou = getContentCodeContenDic(fname_xiaoshou)\n"
   ]
  },
  {
   "cell_type": "code",
   "execution_count": 56,
   "id": "368b3c08-63d6-453a-bbb6-b7326b1c556a",
   "metadata": {},
   "outputs": [],
   "source": [
    "fname_laixin = r\"F:\\a00nutstore\\008\\zw08\\用友报价\\产成品库存\\存货档案20240818\\存货-莱新.xlsx\"\n",
    "df_laixin,code_contentPrice_laixin = getContentCodeContenDic(fname_laixin)\n"
   ]
  },
  {
   "cell_type": "code",
   "execution_count": 57,
   "id": "2a4feff2-2939-4462-9f8c-dc8260e50072",
   "metadata": {},
   "outputs": [],
   "source": [
    "fname_jiaguang = r\"F:\\a00nutstore\\008\\zw08\\用友报价\\产成品库存\\存货档案20240818\\存货-佳广.xlsx\"\n",
    "df_jiaguang,code_contentPrice_jiaguang = getContentCodeContenDic(fname_jiaguang)\n"
   ]
  },
  {
   "cell_type": "code",
   "execution_count": 58,
   "id": "1316e2d3-9006-4dd5-8600-72947c0c9038",
   "metadata": {},
   "outputs": [],
   "source": [
    "fname_rongjia = r\"F:\\a00nutstore\\008\\zw08\\用友报价\\产成品库存\\存货档案20240818\\存货-荣佳.xlsx\"\n",
    "df_rongjia,code_contentPrice_rongjia = getContentCodeContenDic(fname_rongjia)\n"
   ]
  },
  {
   "cell_type": "code",
   "execution_count": 59,
   "id": "2a6c68de-3e83-49de-bccd-573f8b9d02b0",
   "metadata": {},
   "outputs": [],
   "source": [
    "diff_gongchang_jiaguang = pd.merge(df_gongchang,df_jiaguang,on = '存货编码',how = 'outer')\n"
   ]
  },
  {
   "cell_type": "code",
   "execution_count": 60,
   "id": "fa4bcd6b-926d-4c98-ae58-13e448afa671",
   "metadata": {},
   "outputs": [
    {
     "name": "stderr",
     "output_type": "stream",
     "text": [
      "C:\\Users\\redda\\AppData\\Local\\Temp\\ipykernel_12796\\546948749.py:1: UserWarning: Pandas requires version '3.0.5' or newer of 'xlsxwriter' (version '3.0.3' currently installed).\n",
      "  diff_gongchang_jiaguang.to_excel('存货差异-工厂-佳广.xlsx',index = False)\n"
     ]
    }
   ],
   "source": [
    "diff_gongchang_jiaguang.to_excel('存货差异-工厂-佳广.xlsx',index = False)"
   ]
  },
  {
   "cell_type": "code",
   "execution_count": 61,
   "id": "b073da08-f31f-4c79-aed0-04535cfdbafe",
   "metadata": {},
   "outputs": [
    {
     "name": "stderr",
     "output_type": "stream",
     "text": [
      "C:\\Users\\redda\\AppData\\Local\\Temp\\ipykernel_12796\\267883821.py:2: UserWarning: Pandas requires version '3.0.5' or newer of 'xlsxwriter' (version '3.0.3' currently installed).\n",
      "  diff_gongchang_rongjia.to_excel('存货差异-工厂-荣佳.xlsx',index = False)\n"
     ]
    }
   ],
   "source": [
    "diff_gongchang_rongjia = pd.merge(df_gongchang,df_rongjia,on = '存货编码',how = 'outer')\n",
    "diff_gongchang_rongjia.to_excel('存货差异-工厂-荣佳.xlsx',index = False)"
   ]
  },
  {
   "cell_type": "code",
   "execution_count": 62,
   "id": "75c4ae7c-cfa0-4963-b22c-3dbdc035731c",
   "metadata": {},
   "outputs": [
    {
     "name": "stderr",
     "output_type": "stream",
     "text": [
      "C:\\Users\\redda\\AppData\\Local\\Temp\\ipykernel_12796\\1117694123.py:2: UserWarning: Pandas requires version '3.0.5' or newer of 'xlsxwriter' (version '3.0.3' currently installed).\n",
      "  diff_gongchang_laixin.to_excel('存货差异-工厂-莱新.xlsx',index = False)\n"
     ]
    }
   ],
   "source": [
    "diff_gongchang_laixin = pd.merge(df_gongchang,df_laixin,on = '存货编码',how = 'outer')\n",
    "diff_gongchang_laixin.to_excel('存货差异-工厂-莱新.xlsx',index = False)"
   ]
  },
  {
   "cell_type": "code",
   "execution_count": 63,
   "id": "a9e07ce4-9767-42aa-adfc-71ad1f4cb8ba",
   "metadata": {},
   "outputs": [
    {
     "name": "stderr",
     "output_type": "stream",
     "text": [
      "C:\\Users\\redda\\AppData\\Local\\Temp\\ipykernel_12796\\1662075669.py:2: UserWarning: Pandas requires version '3.0.5' or newer of 'xlsxwriter' (version '3.0.3' currently installed).\n",
      "  diff_gongchang_xiaoshou.to_excel('存货差异-工厂-销售公司.xlsx',index = False)\n"
     ]
    }
   ],
   "source": [
    "diff_gongchang_xiaoshou = pd.merge(df_gongchang,df_xiaoshou,on = '存货编码',how = 'outer')\n",
    "diff_gongchang_xiaoshou.to_excel('存货差异-工厂-销售公司.xlsx',index = False)"
   ]
  },
  {
   "cell_type": "code",
   "execution_count": null,
   "id": "2790b54a-bccf-4d23-b94d-ceec47a48ebe",
   "metadata": {},
   "outputs": [],
   "source": []
  }
 ],
 "metadata": {
  "kernelspec": {
   "display_name": "Python 3 (ipykernel)",
   "language": "python",
   "name": "python3"
  },
  "language_info": {
   "codemirror_mode": {
    "name": "ipython",
    "version": 3
   },
   "file_extension": ".py",
   "mimetype": "text/x-python",
   "name": "python",
   "nbconvert_exporter": "python",
   "pygments_lexer": "ipython3",
   "version": "3.11.5"
  }
 },
 "nbformat": 4,
 "nbformat_minor": 5
}
