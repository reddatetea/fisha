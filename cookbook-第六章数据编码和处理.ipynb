{
 "cells": [
  {
   "cell_type": "code",
   "execution_count": 3,
   "metadata": {},
   "outputs": [
    {
     "name": "stdout",
     "output_type": "stream",
     "text": [
      "['Symbol', 'Price', 'Date', 'Time', 'Change', 'Volume']\n",
      "['AA', '39.48', '6/11/2007', '9:36am', '-0.18', '181800']\n",
      "['AIG', '71.38', '6/11/2007', '9:36am', '-0.15', '195500']\n",
      "['AXP', '62.58', '6/11/2007', '9:36am', '-0.46', '935000']\n",
      "['BA', '98.31', '6/11/2007', '9:36am', '+0.12', '104800']\n",
      "['C', '53.08', '6/11/2007', '9:36am', '-0.25', '360900']\n",
      "['CAT', '78.29', '6/11/2007', '9:36am', '-0.23', '225400']\n"
     ]
    }
   ],
   "source": [
    "import csv \n",
    "fname = r'D:\\a00nutstore\\fishc\\jupyter\\python-cookbook-master\\src\\6\\reading_and_writing_csv_data\\stocks.csv'\n",
    "with open(fname) as f:\n",
    "    f_csv = csv.reader(f)\n",
    "    headers = next(f_csv)      \n",
    "    print(headers)\n",
    "    for row in f_csv :\n",
    "        print(row)"
   ]
  },
  {
   "cell_type": "code",
   "execution_count": 7,
   "metadata": {},
   "outputs": [
    {
     "name": "stdout",
     "output_type": "stream",
     "text": [
      "Row(Symbol='AA', Price='39.48', Date='6/11/2007', Time='9:36am', Change='-0.18', Volume='181800')\n",
      "AA\n",
      "Row(Symbol='AIG', Price='71.38', Date='6/11/2007', Time='9:36am', Change='-0.15', Volume='195500')\n",
      "AIG\n",
      "Row(Symbol='AXP', Price='62.58', Date='6/11/2007', Time='9:36am', Change='-0.46', Volume='935000')\n",
      "AXP\n",
      "Row(Symbol='BA', Price='98.31', Date='6/11/2007', Time='9:36am', Change='+0.12', Volume='104800')\n",
      "BA\n",
      "Row(Symbol='C', Price='53.08', Date='6/11/2007', Time='9:36am', Change='-0.25', Volume='360900')\n",
      "C\n",
      "Row(Symbol='CAT', Price='78.29', Date='6/11/2007', Time='9:36am', Change='-0.23', Volume='225400')\n",
      "CAT\n"
     ]
    }
   ],
   "source": [
    "from collections import namedtuple\n",
    "with open(fname) as f:\n",
    "    f_csv = csv.reader(f)\n",
    "    headers = next(f_csv)\n",
    "    Row = namedtuple('Row',headers)\n",
    "    for r in f_csv:\n",
    "        row = Row(*r)\n",
    "        print(row)\n",
    "        print(row.Symbol)"
   ]
  },
  {
   "cell_type": "code",
   "execution_count": 8,
   "metadata": {},
   "outputs": [
    {
     "name": "stdout",
     "output_type": "stream",
     "text": [
      "xinming(zhang='张堂堂', jia='西西', he='洪湖水')\n",
      "张堂堂\n"
     ]
    }
   ],
   "source": [
    "name = ('zhang','jia','he')\n",
    "a = namedtuple('xinming',name)     #命名一个名为'xinming'的元组,元组里的元素由name定义\n",
    "b = ('张堂堂','西西','洪湖水')\n",
    "row = a(*b)                        \n",
    "print(row)\n",
    "print(row.zhang)"
   ]
  },
  {
   "cell_type": "code",
   "execution_count": 9,
   "metadata": {},
   "outputs": [
    {
     "name": "stdout",
     "output_type": "stream",
     "text": [
      "xinming(zhang='张堂堂', jia='西西', he='洪湖水')\n",
      "张堂堂\n"
     ]
    }
   ],
   "source": [
    "name = ('zhang','jia','he')\n",
    "a = namedtuple('xinming',name)     #命名一个名为'xinming'的元组,元组里的元素由name定义\n",
    "b = ['张堂堂','西西','洪湖水']\n",
    "row = a(*b)                        \n",
    "print(row)\n",
    "print(row.zhang)"
   ]
  },
  {
   "cell_type": "code",
   "execution_count": 9,
   "metadata": {},
   "outputs": [
    {
     "name": "stdout",
     "output_type": "stream",
     "text": [
      "xinming(zhang='张堂堂', jia='西西', he='洪湖水')\n",
      "张堂堂\n"
     ]
    }
   ],
   "source": [
    "name = ('zhang','jia','he')\n",
    "a = namedtuple('xinming',name)     #命名一个名为'xinming'的元组,元组里的元素由name定义\n",
    "b = ['张堂堂','西西','洪湖水']\n",
    "row = a(*b)                        \n",
    "print(row)\n",
    "print(row.zhang)"
   ]
  },
  {
   "cell_type": "code",
   "execution_count": 12,
   "metadata": {},
   "outputs": [
    {
     "name": "stdout",
     "output_type": "stream",
     "text": [
      "OrderedDict([('Symbol', 'AA'), ('Price', '39.48'), ('Date', '6/11/2007'), ('Time', '9:36am'), ('Change', '-0.18'), ('Volume', '181800')])\n",
      "AIG\n",
      "AXP\n",
      "BA\n",
      "C\n",
      "CAT\n"
     ]
    }
   ],
   "source": [
    "import csv \n",
    "fname = r'D:\\a00nutstore\\fishc\\jupyter\\python-cookbook-master\\src\\6\\reading_and_writing_csv_data\\stocks.csv'\n",
    "with open(fname) as f:\n",
    "    f_csv = csv.DictReader(f)\n",
    "    headers = next(f_csv)      \n",
    "    print(headers)\n",
    "    for row in f_csv :\n",
    "        print(row['Symbol'])"
   ]
  },
  {
   "cell_type": "code",
   "execution_count": null,
   "metadata": {},
   "outputs": [],
   "source": []
  }
 ],
 "metadata": {
  "kernelspec": {
   "display_name": "Python 3",
   "language": "python",
   "name": "python3"
  },
  "language_info": {
   "codemirror_mode": {
    "name": "ipython",
    "version": 3
   },
   "file_extension": ".py",
   "mimetype": "text/x-python",
   "name": "python",
   "nbconvert_exporter": "python",
   "pygments_lexer": "ipython3",
   "version": "3.7.1"
  }
 },
 "nbformat": 4,
 "nbformat_minor": 2
}
