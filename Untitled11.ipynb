{
<<<<<<< HEAD
 "cells": [],
 "metadata": {},
=======
 "cells": [
  {
   "cell_type": "code",
   "execution_count": 1,
   "id": "5288c27e-12b5-4827-aaa9-bcac7b3d9a53",
   "metadata": {},
   "outputs": [],
   "source": [
    "import re\n",
    "import openpyxl\n",
    "import pandas as pd"
   ]
  },
  {
   "cell_type": "code",
   "execution_count": null,
   "id": "e0a97ba3-474f-4fd6-b4e7-1c2666577558",
   "metadata": {},
   "outputs": [],
   "source": []
  }
 ],
 "metadata": {
  "kernelspec": {
   "display_name": "Python 3 (ipykernel)",
   "language": "python",
   "name": "python3"
  },
  "language_info": {
   "codemirror_mode": {
    "name": "ipython",
    "version": 3
   },
   "file_extension": ".py",
   "mimetype": "text/x-python",
   "name": "python",
   "nbconvert_exporter": "python",
   "pygments_lexer": "ipython3",
   "version": "3.11.5"
  }
 },
>>>>>>> f8e5a2329836e1e0b3d10d3d98e7ecc8dc4e71f3
 "nbformat": 4,
 "nbformat_minor": 5
}
