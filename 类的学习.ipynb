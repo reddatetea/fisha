{
 "cells": [
  {
   "cell_type": "code",
   "execution_count": 85,
   "id": "52628f0a",
   "metadata": {},
   "outputs": [],
   "source": [
    "class Zhixiang():\n",
    "    '''\n",
    "    纸箱类\n",
    "    '''\n",
    "    __slots__ = ('length','width','height','single_area')  #通过__slot__限定属性\n",
    "#     length = 0\n",
    "#     width = 0\n",
    "#     height = 0\n",
    "#     single_area = 0\n",
    "        \n",
    "    def __init__(self,length,width,height):\n",
    "        self.length = length    #长\n",
    "        self.width = width      #宽\n",
    "        self.height = height    #高\n",
    "        self.single_area = 0\n",
    "    def get_area(self):\n",
    "        length = self.length\n",
    "        width = self.width\n",
    "        height = self.height\n",
    "        single_area = (length + width + 80)/1000 * (width + height + 50)/1000 * 2\n",
    "        return single_area\n",
    "    def show(self):\n",
    "        print(self.length)\n",
    "        print(self.width)\n",
    "        print(self.height)\n",
    "    \n",
    "    @staticmethod     #静态方法\n",
    "    def show_help():   #不需要类变量和实例的方法\n",
    "        print('这是一个计算猜数的小游戏')\n",
    "        \n",
    "    @classmethod     #类方法  \n",
    "    def show_length_width_height(cls):\n",
    "        print('该纸箱的长是:',cls.length)\n",
    "        print('该纸箱的宽是:',cls.width)\n",
    "        print('该纸箱的高是:',cls.height)\n",
    "        print('该纸箱的面积是:',cls.single_area)\n",
    "        return cls.length,cls.width,cls.height,cls.single_area\n",
    "            \n",
    "     \n",
    "N0826 = Zhixiang(425,230,175)\n",
    "        "
   ]
  },
  {
   "cell_type": "code",
   "execution_count": 86,
   "id": "34955353",
   "metadata": {},
   "outputs": [
    {
     "name": "stdout",
     "output_type": "stream",
     "text": [
      "425\n",
      "230\n",
      "175\n"
     ]
    }
   ],
   "source": [
    "N0826.show()"
   ]
  },
  {
   "cell_type": "code",
   "execution_count": 87,
   "id": "94679f52",
   "metadata": {},
   "outputs": [
    {
     "data": {
      "text/plain": [
       "0.6688500000000001"
      ]
     },
     "execution_count": 87,
     "metadata": {},
     "output_type": "execute_result"
    }
   ],
   "source": [
    "N0826.get_area()"
   ]
  },
  {
   "cell_type": "code",
   "execution_count": 88,
   "id": "01cbb501",
   "metadata": {},
   "outputs": [
    {
     "name": "stdout",
     "output_type": "stream",
     "text": [
      "该纸箱的长是: <member 'length' of 'Zhixiang' objects>\n",
      "该纸箱的宽是: <member 'width' of 'Zhixiang' objects>\n",
      "该纸箱的高是: <member 'height' of 'Zhixiang' objects>\n",
      "该纸箱的面积是: <member 'single_area' of 'Zhixiang' objects>\n"
     ]
    },
    {
     "data": {
      "text/plain": [
       "(<member 'length' of 'Zhixiang' objects>,\n",
       " <member 'width' of 'Zhixiang' objects>,\n",
       " <member 'height' of 'Zhixiang' objects>,\n",
       " <member 'single_area' of 'Zhixiang' objects>)"
      ]
     },
     "execution_count": 88,
     "metadata": {},
     "output_type": "execute_result"
    }
   ],
   "source": [
    "Zhixiang.show_length_width_height()"
   ]
  },
  {
   "cell_type": "code",
   "execution_count": 78,
   "id": "2b097f9d",
   "metadata": {},
   "outputs": [
    {
     "name": "stdout",
     "output_type": "stream",
     "text": [
      "这是一个计算猜数的小游戏\n"
     ]
    }
   ],
   "source": [
    "Zhixiang.show_help()"
   ]
  },
  {
   "cell_type": "code",
   "execution_count": 64,
   "id": "bbcaa0f5",
   "metadata": {},
   "outputs": [
    {
     "name": "stdout",
     "output_type": "stream",
     "text": [
      "\n",
      "    纸箱类\n",
      "    \n"
     ]
    }
   ],
   "source": [
    "print(Zhixiang.__doc__)"
   ]
  },
  {
   "cell_type": "code",
   "execution_count": 66,
   "id": "e321822c",
   "metadata": {},
   "outputs": [
    {
     "name": "stdout",
     "output_type": "stream",
     "text": [
      "{'__module__': '__main__', '__doc__': '\\n    纸箱类\\n    ', 'length': 0, 'width': 0, 'height': 0, 'single_area': 0, '__init__': <function Zhixiang.__init__ at 0x00000000096C4670>, 'get_area': <function Zhixiang.get_area at 0x00000000096C4A60>, 'show': <function Zhixiang.show at 0x00000000096C48B0>, 'show_help': <staticmethod object at 0x000000000969E970>, 'show_length_width_height': <classmethod object at 0x000000000969EC10>, '__dict__': <attribute '__dict__' of 'Zhixiang' objects>, '__weakref__': <attribute '__weakref__' of 'Zhixiang' objects>}\n"
     ]
    }
   ],
   "source": [
    "print(Zhixiang.__dict__)"
   ]
  },
  {
   "cell_type": "code",
   "execution_count": 67,
   "id": "5ec2f1a0",
   "metadata": {},
   "outputs": [
    {
     "name": "stdout",
     "output_type": "stream",
     "text": [
      "__main__\n"
     ]
    }
   ],
   "source": [
    "print(Zhixiang.__module__)"
   ]
  },
  {
   "cell_type": "code",
   "execution_count": 68,
   "id": "0dfc22cd",
   "metadata": {},
   "outputs": [
    {
     "name": "stdout",
     "output_type": "stream",
     "text": [
      "0\n"
     ]
    }
   ],
   "source": [
    "print(Zhixiang.length)"
   ]
  },
  {
   "cell_type": "code",
   "execution_count": 79,
   "id": "0eef1092",
   "metadata": {},
   "outputs": [
    {
     "name": "stdout",
     "output_type": "stream",
     "text": [
      "0\n"
     ]
    }
   ],
   "source": [
    "print(Zhixiang.single_area)"
   ]
  },
  {
   "cell_type": "code",
   "execution_count": 80,
   "id": "5f349ec4",
   "metadata": {},
   "outputs": [],
   "source": [
    "N0826.hello = 5"
   ]
  },
  {
   "cell_type": "code",
   "execution_count": 1,
   "id": "c4c1e7cb",
   "metadata": {},
   "outputs": [
    {
     "name": "stdout",
     "output_type": "stream",
     "text": [
      "25502500\n"
     ]
    }
   ],
   "source": [
    "def addlist(alist):\n",
    "    for i in alist:\n",
    "        yield i**3\n",
    "tol = 0\n",
    "for x in addlist(range(1,101)):\n",
    "    tol += x\n",
    "print(tol)"
   ]
  },
  {
   "cell_type": "code",
   "execution_count": 2,
   "id": "11226e85",
   "metadata": {},
   "outputs": [
    {
     "ename": "TypeError",
     "evalue": "'int' object is not iterable",
     "output_type": "error",
     "traceback": [
      "\u001b[1;31m---------------------------------------------------------------------------\u001b[0m",
      "\u001b[1;31mTypeError\u001b[0m                                 Traceback (most recent call last)",
      "Input \u001b[1;32mIn [2]\u001b[0m, in \u001b[0;36m<cell line: 5>\u001b[1;34m()\u001b[0m\n\u001b[0;32m      3\u001b[0m         \u001b[38;5;28;01mreturn\u001b[39;00m i\u001b[38;5;241m*\u001b[39m\u001b[38;5;241m*\u001b[39m\u001b[38;5;241m3\u001b[39m\n\u001b[0;32m      4\u001b[0m tol \u001b[38;5;241m=\u001b[39m \u001b[38;5;241m0\u001b[39m\n\u001b[1;32m----> 5\u001b[0m \u001b[38;5;28;01mfor\u001b[39;00m x \u001b[38;5;129;01min\u001b[39;00m addlist(\u001b[38;5;28mrange\u001b[39m(\u001b[38;5;241m1\u001b[39m,\u001b[38;5;241m101\u001b[39m)):\n\u001b[0;32m      6\u001b[0m     tol \u001b[38;5;241m+\u001b[39m\u001b[38;5;241m=\u001b[39m x\n\u001b[0;32m      7\u001b[0m \u001b[38;5;28mprint\u001b[39m(tol)\n",
      "\u001b[1;31mTypeError\u001b[0m: 'int' object is not iterable"
     ]
    }
   ],
   "source": [
    "def addlist(alist):\n",
    "    for i in alist:\n",
    "        yield i**3\n",
    "tol = 0\n",
    "for x in addlist(range(1,101)):\n",
    "    tol += x\n",
    "print(tol)"
   ]
  },
  {
   "cell_type": "code",
   "execution_count": 6,
   "id": "e7afc4d5",
   "metadata": {},
   "outputs": [
    {
     "name": "stdout",
     "output_type": "stream",
     "text": [
      "0 ,\n",
      "i= 0\n",
      "1 ,\n",
      "i= 1\n",
      "do something\n",
      "end\n"
     ]
    }
   ],
   "source": [
    "def yield_test(n):\n",
    "    for i in range(n):\n",
    "        yield call(i)\n",
    "        print('i=',i)\n",
    "    print('do something')\n",
    "    print('end')\n",
    "def call(i):\n",
    "              return i**2\n",
    "for i in yield_test(5):\n",
    "              print(i,',')"
   ]
  },
  {
   "cell_type": "code",
   "execution_count": 11,
   "id": "114c8b59",
   "metadata": {},
   "outputs": [
    {
     "name": "stdout",
     "output_type": "stream",
     "text": [
      "0 ,,,\n",
      "*********\n",
      "i= 0\n",
      "2 ,,,\n",
      "*********\n",
      "i= 1\n",
      "4 ,,,\n",
      "*********\n",
      "i= 2\n",
      "6 ,,,\n",
      "*********\n",
      "i= 3\n",
      "8 ,,,\n",
      "*********\n",
      "i= 4\n",
      "do something\n",
      "end\n"
     ]
    }
   ],
   "source": [
    "def yield_test(n):\n",
    "    for i in range(n):\n",
    "        yield call(i)\n",
    "        print('i=',i)\n",
    "    print('do something')\n",
    "    print('end')\n",
    "def call(i):\n",
    "              return i*2\n",
    "for i in yield_test(5):\n",
    "    print(i,',,,')\n",
    "    print('*********')\n"
   ]
  },
  {
   "cell_type": "code",
   "execution_count": 12,
   "id": "0f89113e",
   "metadata": {},
   "outputs": [
    {
     "name": "stdout",
     "output_type": "stream",
     "text": [
      "0 ,,,\n",
      "*********\n",
      "2 ,,,\n",
      "*********\n",
      "4 ,,,\n",
      "*********\n",
      "6 ,,,\n",
      "*********\n",
      "8 ,,,\n",
      "*********\n",
      "do something\n",
      "end\n"
     ]
    }
   ],
   "source": [
    "def yield_test(n):\n",
    "    for i in range(n):\n",
    "        yield call(i)\n",
    "        \n",
    "    print('do something')\n",
    "    print('end')\n",
    "def call(i):\n",
    "              return i*2\n",
    "for i in yield_test(5):\n",
    "    print(i,',,,')\n",
    "    print('*********')"
   ]
  },
  {
   "cell_type": "code",
   "execution_count": 15,
   "id": "44747031",
   "metadata": {},
   "outputs": [],
   "source": [
    "import os\n",
    "dir_fd = os.open('mmm.txt',os.O_RDONLY)\n"
   ]
  },
  {
   "cell_type": "code",
   "execution_count": 16,
   "id": "a28a2a61",
   "metadata": {},
   "outputs": [
    {
     "data": {
      "text/plain": [
       "4"
      ]
     },
     "execution_count": 16,
     "metadata": {},
     "output_type": "execute_result"
    }
   ],
   "source": [
    "dir_fd"
   ]
  },
  {
   "cell_type": "code",
   "execution_count": null,
   "id": "1633f0b5",
   "metadata": {},
   "outputs": [],
   "source": []
  }
 ],
 "metadata": {
  "kernelspec": {
   "display_name": "Python 3 (ipykernel)",
   "language": "python",
   "name": "python3"
  },
  "language_info": {
   "codemirror_mode": {
    "name": "ipython",
    "version": 3
   },
   "file_extension": ".py",
   "mimetype": "text/x-python",
   "name": "python",
   "nbconvert_exporter": "python",
   "pygments_lexer": "ipython3",
   "version": "3.8.3"
  }
 },
 "nbformat": 4,
 "nbformat_minor": 5
}
