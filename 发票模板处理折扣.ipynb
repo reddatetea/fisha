{
 "cells": [
  {
   "cell_type": "code",
   "execution_count": 1,
   "id": "a85fb12a-215c-40c5-a1e0-3d253d26f96c",
   "metadata": {},
   "outputs": [],
   "source": [
    "import pandas as pd"
   ]
  },
  {
   "cell_type": "code",
   "execution_count": 2,
   "id": "91401a2b-14b6-4800-b17f-588593a41387",
   "metadata": {},
   "outputs": [
    {
     "data": {
      "text/html": [
       "<div>\n",
       "<style scoped>\n",
       "    .dataframe tbody tr th:only-of-type {\n",
       "        vertical-align: middle;\n",
       "    }\n",
       "\n",
       "    .dataframe tbody tr th {\n",
       "        vertical-align: top;\n",
       "    }\n",
       "\n",
       "    .dataframe thead th {\n",
       "        text-align: right;\n",
       "    }\n",
       "</style>\n",
       "<table border=\"1\" class=\"dataframe\">\n",
       "  <thead>\n",
       "    <tr style=\"text-align: right;\">\n",
       "      <th></th>\n",
       "      <th>存货分类</th>\n",
       "      <th>存货编码</th>\n",
       "    </tr>\n",
       "  </thead>\n",
       "  <tbody>\n",
       "    <tr>\n",
       "      <th>0</th>\n",
       "      <td>单联单据</td>\n",
       "      <td>3002</td>\n",
       "    </tr>\n",
       "    <tr>\n",
       "      <th>1</th>\n",
       "      <td>汉办版小学生本</td>\n",
       "      <td>8888</td>\n",
       "    </tr>\n",
       "    <tr>\n",
       "      <th>2</th>\n",
       "      <td>汉办版小学生本</td>\n",
       "      <td>7777</td>\n",
       "    </tr>\n",
       "    <tr>\n",
       "      <th>3</th>\n",
       "      <td>无碳复写单据</td>\n",
       "      <td>6666</td>\n",
       "    </tr>\n",
       "    <tr>\n",
       "      <th>4</th>\n",
       "      <td>无碳复写单据</td>\n",
       "      <td>999</td>\n",
       "    </tr>\n",
       "    <tr>\n",
       "      <th>5</th>\n",
       "      <td>莱特牛皮缝线本</td>\n",
       "      <td>运费</td>\n",
       "    </tr>\n",
       "    <tr>\n",
       "      <th>6</th>\n",
       "      <td>莱特牛皮缝线本</td>\n",
       "      <td>88888</td>\n",
       "    </tr>\n",
       "    <tr>\n",
       "      <th>7</th>\n",
       "      <td>16K牛卡缝线本</td>\n",
       "      <td>EFTZ1660N</td>\n",
       "    </tr>\n",
       "    <tr>\n",
       "      <th>8</th>\n",
       "      <td>锐意专利缝线本-黄内芯</td>\n",
       "      <td>NFC1660NH（方格）-1</td>\n",
       "    </tr>\n",
       "    <tr>\n",
       "      <th>9</th>\n",
       "      <td>锐意专利缝线本-黄内芯</td>\n",
       "      <td>NFY1660NH（双色）-1</td>\n",
       "    </tr>\n",
       "    <tr>\n",
       "      <th>10</th>\n",
       "      <td>锐意专利缝线本-黄内芯</td>\n",
       "      <td>NFZW1660NH（400格）-1</td>\n",
       "    </tr>\n",
       "  </tbody>\n",
       "</table>\n",
       "</div>"
      ],
      "text/plain": [
       "           存货分类                存货编码\n",
       "0          单联单据                3002\n",
       "1       汉办版小学生本                8888\n",
       "2       汉办版小学生本                7777\n",
       "3        无碳复写单据                6666\n",
       "4        无碳复写单据                 999\n",
       "5       莱特牛皮缝线本                  运费\n",
       "6       莱特牛皮缝线本               88888\n",
       "7      16K牛卡缝线本           EFTZ1660N\n",
       "8   锐意专利缝线本-黄内芯     NFC1660NH（方格）-1\n",
       "9   锐意专利缝线本-黄内芯     NFY1660NH（双色）-1\n",
       "10  锐意专利缝线本-黄内芯  NFZW1660NH（400格）-1"
      ]
     },
     "execution_count": 2,
     "metadata": {},
     "output_type": "execute_result"
    }
   ],
   "source": [
    "df = pd.read_clipboard()\n",
    "df"
   ]
  },
  {
   "cell_type": "code",
   "execution_count": 4,
   "id": "a572aae8-f9d0-494e-94b1-3e99cb67e3c7",
   "metadata": {},
   "outputs": [
    {
     "data": {
      "text/html": [
       "<div>\n",
       "<style scoped>\n",
       "    .dataframe tbody tr th:only-of-type {\n",
       "        vertical-align: middle;\n",
       "    }\n",
       "\n",
       "    .dataframe tbody tr th {\n",
       "        vertical-align: top;\n",
       "    }\n",
       "\n",
       "    .dataframe thead th {\n",
       "        text-align: right;\n",
       "    }\n",
       "</style>\n",
       "<table border=\"1\" class=\"dataframe\">\n",
       "  <thead>\n",
       "    <tr style=\"text-align: right;\">\n",
       "      <th></th>\n",
       "      <th>存货分类</th>\n",
       "      <th>存货编码</th>\n",
       "    </tr>\n",
       "  </thead>\n",
       "  <tbody>\n",
       "    <tr>\n",
       "      <th>0</th>\n",
       "      <td>单联单据</td>\n",
       "      <td>3002</td>\n",
       "    </tr>\n",
       "    <tr>\n",
       "      <th>1</th>\n",
       "      <td>汉办版小学生本</td>\n",
       "      <td>8888</td>\n",
       "    </tr>\n",
       "    <tr>\n",
       "      <th>2</th>\n",
       "      <td>汉办版小学生本</td>\n",
       "      <td>7777</td>\n",
       "    </tr>\n",
       "    <tr>\n",
       "      <th>3</th>\n",
       "      <td>无碳复写单据</td>\n",
       "      <td>6666</td>\n",
       "    </tr>\n",
       "    <tr>\n",
       "      <th>4</th>\n",
       "      <td>无碳复写单据</td>\n",
       "      <td>999</td>\n",
       "    </tr>\n",
       "    <tr>\n",
       "      <th>5</th>\n",
       "      <td>莱特牛皮缝线本</td>\n",
       "      <td>运费</td>\n",
       "    </tr>\n",
       "    <tr>\n",
       "      <th>6</th>\n",
       "      <td>莱特牛皮缝线本</td>\n",
       "      <td>88888</td>\n",
       "    </tr>\n",
       "    <tr>\n",
       "      <th>7</th>\n",
       "      <td>16K牛卡缝线本</td>\n",
       "      <td>EFTZ1660N</td>\n",
       "    </tr>\n",
       "    <tr>\n",
       "      <th>8</th>\n",
       "      <td>锐意专利缝线本-黄内芯</td>\n",
       "      <td>NFC1660NH（方格）-1</td>\n",
       "    </tr>\n",
       "    <tr>\n",
       "      <th>9</th>\n",
       "      <td>锐意专利缝线本-黄内芯</td>\n",
       "      <td>NFY1660NH（双色）-1</td>\n",
       "    </tr>\n",
       "    <tr>\n",
       "      <th>10</th>\n",
       "      <td>锐意专利缝线本-黄内芯</td>\n",
       "      <td>NFZW1660NH（400格）-1</td>\n",
       "    </tr>\n",
       "  </tbody>\n",
       "</table>\n",
       "</div>"
      ],
      "text/plain": [
       "           存货分类                存货编码\n",
       "0          单联单据                3002\n",
       "1       汉办版小学生本                8888\n",
       "2       汉办版小学生本                7777\n",
       "3        无碳复写单据                6666\n",
       "4        无碳复写单据                 999\n",
       "5       莱特牛皮缝线本                  运费\n",
       "6       莱特牛皮缝线本               88888\n",
       "7      16K牛卡缝线本           EFTZ1660N\n",
       "8   锐意专利缝线本-黄内芯     NFC1660NH（方格）-1\n",
       "9   锐意专利缝线本-黄内芯     NFY1660NH（双色）-1\n",
       "10  锐意专利缝线本-黄内芯  NFZW1660NH（400格）-1"
      ]
     },
     "execution_count": 4,
     "metadata": {},
     "output_type": "execute_result"
    }
   ],
   "source": [
    "df = df.astype({'存货编码':str})\n",
    "df"
   ]
  },
  {
   "cell_type": "code",
   "execution_count": 5,
   "id": "62011080-4f7b-4a06-bcb1-28c2c817848c",
   "metadata": {},
   "outputs": [
    {
     "data": {
      "text/plain": [
       "存货分类    object\n",
       "存货编码    object\n",
       "dtype: object"
      ]
     },
     "execution_count": 5,
     "metadata": {},
     "output_type": "execute_result"
    }
   ],
   "source": [
    "df.dtypes"
   ]
  },
  {
   "cell_type": "code",
   "execution_count": 47,
   "id": "b3f7f699-a335-4922-913d-656876ee102e",
   "metadata": {},
   "outputs": [],
   "source": [
    "def chuliZekou(string):\n",
    "    if string == \"运费\" :\n",
    "        string = '折扣'\n",
    "        return string\n",
    "    else :\n",
    "        for i in string:\n",
    "             if i.isdigit():\n",
    "                 continue\n",
    "             else :\n",
    "                return string\n",
    "        \n",
    "        if len(set(list([*string]))) == 1 :\n",
    "            string = '折扣'\n",
    "        else :\n",
    "            string = string\n",
    "           \n",
    "    \n",
    "    \n",
    "    return string"
   ]
  },
  {
   "cell_type": "code",
   "execution_count": 48,
   "id": "51c300da-77ec-4b6c-8c4e-d5e38cf2df6e",
   "metadata": {},
   "outputs": [
    {
     "data": {
      "text/plain": [
       "'折扣'"
      ]
     },
     "execution_count": 48,
     "metadata": {},
     "output_type": "execute_result"
    }
   ],
   "source": [
    "chuliZekou('8888')\n"
   ]
  },
  {
   "cell_type": "code",
   "execution_count": 49,
   "id": "5beef4eb-4d12-4c09-a1c2-225a8c59a1db",
   "metadata": {},
   "outputs": [
    {
     "data": {
      "text/plain": [
       "0                   3002\n",
       "1                     折扣\n",
       "2                     折扣\n",
       "3                     折扣\n",
       "4                     折扣\n",
       "5                     折扣\n",
       "6                     折扣\n",
       "7              EFTZ1660N\n",
       "8        NFC1660NH（方格）-1\n",
       "9        NFY1660NH（双色）-1\n",
       "10    NFZW1660NH（400格）-1\n",
       "Name: 存货编码, dtype: object"
      ]
     },
     "execution_count": 49,
     "metadata": {},
     "output_type": "execute_result"
    }
   ],
   "source": [
    "(\n",
    "    df['存货编码'].apply(lambda x:chuliZekou(x))\n",
    ")"
   ]
  },
  {
   "cell_type": "code",
   "execution_count": 50,
   "id": "fc0ab665-35fa-4608-981b-d0a655d922c8",
   "metadata": {},
   "outputs": [
    {
     "name": "stderr",
     "output_type": "stream",
     "text": [
      "C:\\Users\\redda\\AppData\\Local\\Temp\\ipykernel_4056\\3029976759.py:2: FutureWarning: using <function <lambda> at 0x0000014DFF7105E0> in Series.agg cannot aggregate and has been deprecated. Use Series.transform to keep behavior unchanged.\n",
      "  df['存货编码'].agg(lambda x:chuliZekou(x))\n"
     ]
    },
    {
     "data": {
      "text/plain": [
       "0                   3002\n",
       "1                     折扣\n",
       "2                     折扣\n",
       "3                     折扣\n",
       "4                     折扣\n",
       "5                     折扣\n",
       "6                     折扣\n",
       "7              EFTZ1660N\n",
       "8        NFC1660NH（方格）-1\n",
       "9        NFY1660NH（双色）-1\n",
       "10    NFZW1660NH（400格）-1\n",
       "Name: 存货编码, dtype: object"
      ]
     },
     "execution_count": 50,
     "metadata": {},
     "output_type": "execute_result"
    }
   ],
   "source": [
    "(\n",
    "    df['存货编码'].agg(lambda x:chuliZekou(x))\n",
    ")"
   ]
  }
 ],
 "metadata": {
  "kernelspec": {
   "display_name": "Python 3 (ipykernel)",
   "language": "python",
   "name": "python3"
  },
  "language_info": {
   "codemirror_mode": {
    "name": "ipython",
    "version": 3
   },
   "file_extension": ".py",
   "mimetype": "text/x-python",
   "name": "python",
   "nbconvert_exporter": "python",
   "pygments_lexer": "ipython3",
   "version": "3.11.8"
  }
 },
 "nbformat": 4,
 "nbformat_minor": 5
}
