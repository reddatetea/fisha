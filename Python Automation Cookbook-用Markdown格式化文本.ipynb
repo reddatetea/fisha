{
 "cells": [
  {
   "cell_type": "code",
   "execution_count": 1,
   "id": "740c005d",
   "metadata": {},
   "outputs": [],
   "source": [
    "import mistune\n",
    "import datetime"
   ]
  },
  {
   "cell_type": "code",
   "execution_count": 2,
   "id": "d5b71e40",
   "metadata": {},
   "outputs": [],
   "source": [
    "with open (r'F:\\repos\\pythonEtc\\Python Automation Cookbook\\第五章r05\\markdown_template.md') as file:\n",
    "    template = file.read()\n",
    "    "
   ]
  },
  {
   "cell_type": "code",
   "execution_count": 3,
   "id": "6c0baab7",
   "metadata": {},
   "outputs": [
    {
     "data": {
      "text/plain": [
       "'Movies Report\\n=======\\n\\nDate: {date}\\n\\nMovies seen in the last 30 days: {num_movies}\\n\\n{movies}\\n\\nTotal minutes: {total_minutes}\\n'"
      ]
     },
     "execution_count": 3,
     "metadata": {},
     "output_type": "execute_result"
    }
   ],
   "source": [
    "template"
   ]
  },
  {
   "cell_type": "code",
   "execution_count": 33,
   "id": "bc267727",
   "metadata": {},
   "outputs": [],
   "source": [
    "context = {\n",
    "    \"date\":datetime.datetime.now(),\n",
    "    \"pmovies\":['Casablanca','The Sound of Music','Vertigo'],\n",
    "    \"total_minutes\":404,\n",
    "    }\n"
   ]
  },
  {
   "cell_type": "code",
   "execution_count": 34,
   "id": "90cdbefb",
   "metadata": {},
   "outputs": [
    {
     "data": {
      "text/plain": [
       "{'date': datetime.datetime(2023, 8, 28, 14, 40, 12, 245000),\n",
       " 'pmovies': ['Casablanca', 'The Sound of Music', 'Vertigo'],\n",
       " 'total_minutes': 404}"
      ]
     },
     "execution_count": 34,
     "metadata": {},
     "output_type": "execute_result"
    }
   ],
   "source": [
    "context"
   ]
  },
  {
   "cell_type": "code",
   "execution_count": 35,
   "id": "9f9cca51",
   "metadata": {},
   "outputs": [
    {
     "data": {
      "text/plain": [
       "['Casablanca', 'The Sound of Music', 'Vertigo']"
      ]
     },
     "execution_count": 35,
     "metadata": {},
     "output_type": "execute_result"
    }
   ],
   "source": [
    "context['num_movies'] = len(context['pmovies'])\n",
    "context['movies'] = '\\n'.join('* {}'.format(movie) for movie in context['pmovies'])\n",
    "context['pmovies']"
   ]
  },
  {
   "cell_type": "code",
   "execution_count": 36,
   "id": "68611834",
   "metadata": {},
   "outputs": [
    {
     "data": {
      "text/plain": [
       "'* Casablanca\\n* The Sound of Music\\n* Vertigo'"
      ]
     },
     "execution_count": 36,
     "metadata": {},
     "output_type": "execute_result"
    }
   ],
   "source": [
    "context['movies']"
   ]
  },
  {
   "cell_type": "code",
   "execution_count": 37,
   "id": "7e2336fc",
   "metadata": {},
   "outputs": [],
   "source": [
    "md_report = template.format(**context)\n",
    "report = mistune.markdown(md_report)"
   ]
  },
  {
   "cell_type": "code",
   "execution_count": 38,
   "id": "2c467545",
   "metadata": {},
   "outputs": [],
   "source": [
    "with open('report.html','w') as file:\n",
    "    file.write(report)\n",
    "    "
   ]
  }
 ],
 "metadata": {
  "kernelspec": {
   "display_name": "Python 3 (ipykernel)",
   "language": "python",
   "name": "python3"
  },
  "language_info": {
   "codemirror_mode": {
    "name": "ipython",
    "version": 3
   },
   "file_extension": ".py",
   "mimetype": "text/x-python",
   "name": "python",
   "nbconvert_exporter": "python",
   "pygments_lexer": "ipython3",
   "version": "3.8.3"
  }
 },
 "nbformat": 4,
 "nbformat_minor": 5
}
