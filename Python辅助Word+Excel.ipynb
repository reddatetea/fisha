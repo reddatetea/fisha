{
 "cells": [
  {
   "cell_type": "code",
   "execution_count": 1,
   "id": "9b5853ec",
   "metadata": {},
   "outputs": [],
   "source": [
    "import openpyxl\n",
    "myBook=openpyxl.load_workbook('收入表.xlsx')\n",
    "mySheet=myBook.active\n",
    "#自定义渐变色填充样式(myGradientFill)\n",
    "myGradientFill=openpyxl.styles.GradientFill(stop=('FF0000','00FF00'))\n",
    "#循环收入表(mySheet)的['A5:D8']范围的行(myRow)\n",
    "for myRow in mySheet['A5:D8']:\n",
    "    #循环行(myRow)的单元格(myCell)\n",
    "    for myCell in myRow:\n",
    "        #使用渐变色填充样式(myGradientFill)设置单元格(myCell)的fill属性\n",
    "        myCell.fill=myGradientFill\n",
    "myBook.save('结果表-收入表.xlsx')"
   ]
  },
  {
   "cell_type": "code",
   "execution_count": 2,
   "id": "1cfd014a",
   "metadata": {},
   "outputs": [],
   "source": [
    "import openpyxl\n",
    "myBook=openpyxl.load_workbook('收入表.xlsx')\n",
    "mySheet=myBook.active\n",
    "#自定义绿色正网格线填充样式(myPatternFill)\n",
    "myPatternFill=openpyxl.styles.PatternFill(fill_type='lightGrid',\n",
    "                                                      fgColor='00FF00')\n",
    "#循环收入表(mySheet)A5~D8的行(myRow)\n",
    "for myRow in mySheet['A5:D8']:\n",
    "     #循环行(myRow)的单元格(myCell)\n",
    "     for myCell in myRow:\n",
    "          #使用自定义填充样式(myPatternFill)设置单元格(myCell)的fill属性\n",
    "          myCell.fill=myPatternFill\n",
    "myBook.save('结果表-收入表.xlsx')"
   ]
  },
  {
   "cell_type": "code",
   "execution_count": 5,
   "id": "4b6c5039",
   "metadata": {},
   "outputs": [],
   "source": [
    "import openpyxl\n",
    "myBook=openpyxl.load_workbook('收入表.xlsx')\n",
    "mySheet=myBook.active\n",
    "#自定义青色的水平细实线填充样式(myPatternFill)\n",
    "# Value must be one of {'darkTrellis', 'lightDown', 'darkDown', 'gray0625', 'darkGrid', 'mediumGray', 'lightUp', 'gray125', 'darkUp', 'darkGray', 'lightGray', 'lightHorizontal', 'lightTrellis', 'lightGrid', 'lightVertical', 'darkHorizontal', 'solid', 'darkVertical'}\n",
    "\n",
    "myPatternFill=openpyxl.styles.PatternFill(fill_type='lightHorizontal',fgColor='97ffff')\n",
    "#循环收入表(mySheet)A5~D8的行(myRow)\n",
    "for myRow in mySheet['A5:D8']:\n",
    "     #循环行(myRow)的单元格(myCell)\n",
    "     for myCell in myRow:\n",
    "          #使用自定义填充样式(myPatternFill)设置单元格(myCell)的fill属性\n",
    "          myCell.fill=myPatternFill\n",
    "myBook.save('结果表-收入表.xlsx')"
   ]
  },
  {
   "cell_type": "code",
   "execution_count": 6,
   "id": "c2d94ffe",
   "metadata": {},
   "outputs": [],
   "source": [
    "import openpyxl\n",
    "myBook=openpyxl.load_workbook('收入表.xlsx')\n",
    "mySheet=myBook.active\n",
    "#自定义青色的左细斜纹线填充样式(myPatternFill)\n",
    "myPatternFill=openpyxl.styles.PatternFill(fill_type='lightDown',\n",
    "                                                      fgColor='97ffff')\n",
    "#循环收入表(mySheet)A5~D8的行(myRow)\n",
    "for myRow in mySheet['A5:D8']:\n",
    "     #循环行(myRow)的单元格(myCell)\n",
    "     for myCell in myRow:\n",
    "          #使用自定义填充样式(myPatternFill)设置单元格(myCell)的fill属性\n",
    "          myCell.fill=myPatternFill\n",
    "myBook.save('结果表-收入表.xlsx')"
   ]
  },
  {
   "cell_type": "code",
   "execution_count": 8,
   "id": "eb1006e9",
   "metadata": {},
   "outputs": [],
   "source": [
    "import openpyxl\n",
    "myBook=openpyxl.load_workbook('收入表.xlsx')\n",
    "mySheet=myBook.active\n",
    "#设置自定义边框线(mySide)为红色的粗实线\n",
    "mySide=openpyxl.styles.Side(style='thin',color='97ffff')\n",
    "#在自定义边框(myBorder)的上、下、左、右四条边上应用自定义边框线\n",
    "myBorder=openpyxl.styles.Border(left=mySide,right=mySide)\n",
    "#循环收入表(mySheet)A5~D8的行(myRow)\n",
    "for myRow in mySheet['A5:D8']:\n",
    "     #循环行(myRow)的单元格(myCell)\n",
    "     for myCell in myRow:\n",
    "          #使用自定义边框(myBorder)设置单元格(myCell)的border属性\n",
    "          myCell.border=myBorder\n",
    "myBook.save('结果表-收入表.xlsx')"
   ]
  },
  {
   "cell_type": "code",
   "execution_count": null,
   "id": "7e9c5935",
   "metadata": {},
   "outputs": [],
   "source": [
    "import openpyxl\n",
    "myBook=openpyxl.load_workbook('收入表.xlsx')\n",
    "mySheet=myBook.active\n",
    "#设置自定义边框线(mySide)为红色的粗实线\n",
    "mySide=openpyxl.styles.Side(style='thick',color='FF0000')\n",
    "#在自定义边框(myBorder)的上、下、左、右四条边上应用自定义边框线\n",
    "myBorder=openpyxl.styles.Border(left=mySide,right=mySide,\n",
    "                                          top=mySide,bottom=mySide)\n",
    "#循环收入表(mySheet)A5~D8的行(myRow)\n",
    "for myRow in mySheet['A5:D8']:\n",
    "     #循环行(myRow)的单元格(myCell)\n",
    "     for myCell in myRow:\n",
    "          #使用自定义边框(myBorder)设置单元格(myCell)的border属性\n",
    "          myCell.border=myBorder\n",
    "myBook.save('结果表-收入表.xlsx')"
   ]
  },
  {
   "cell_type": "code",
   "execution_count": 10,
   "id": "21e4968f",
   "metadata": {},
   "outputs": [
    {
     "name": "stderr",
     "output_type": "stream",
     "text": [
      "D:\\anaconda\\lib\\site-packages\\openpyxl\\writer\\excel.py:200: UserWarning: File may not be readable: column headings must be strings.\n",
      "  writer.write()\n"
     ]
    }
   ],
   "source": [
    "import openpyxl\n",
    "myBook=openpyxl.load_workbook('员工表.xlsx')\n",
    "mySheet=myBook.active\n",
    "#根据指定的范围(A1~F12)创建(myTable)\n",
    "myTable=openpyxl.worksheet.table.Table(displayName='myTable',ref='A1:F12')\n",
    "#根据预置的样式(TableStyleMedium8)创建表格样式(myStyle)\n",
    "myStyle=openpyxl.worksheet.table.TableStyleInfo(name='TableStyleMedium8')\n",
    "#myStyle=openpyxl.worksheet.table.TableStyleInfo(name=＂TableStyle M edium13＂)\n",
    "#在表格(myTable)中应用新建的表格样式(myStyle)\n",
    "myTable.tableStyleInfo=myStyle\n",
    "#在工作表(mySheet)中应用自定义的表格(myTable)\n",
    "mySheet.add_table(myTable)\n",
    "myBook.save('结果表-员工表.xlsx')"
   ]
  },
  {
   "cell_type": "code",
   "execution_count": null,
   "id": "29f7e20d",
   "metadata": {},
   "outputs": [],
   "source": [
    "import openpyxl\n",
    "myBook=openpyxl.load_workbook('高校汇总表.xlsx')\n",
    "mySheet=myBook.active\n",
    "#从高校汇总表(mySheet)的第2行开始逐行循环(到最后一行)\n",
    "for myRow in list(mySheet.rows)[1:]:\n",
    "    #获取每行(myRow)的高校列的单元格数据(myOldValue)\n",
    "    myOldValue=str(myRow[1].value)\n",
    "    #在单元格数据(myOldValue)中使用回车符'\\r\\n'替换字符'、'\n",
    "    myRow[1].value=myOldValue.replace('、','\\r\\n')\n",
    "myBook.save('结果表-高校汇总表.xlsx')\n"
   ]
  },
  {
   "cell_type": "code",
   "execution_count": 11,
   "id": "f2a67648",
   "metadata": {},
   "outputs": [],
   "source": [
    "import openpyxl\n",
    "myBook=openpyxl.load_workbook('高校汇总表.xlsx')\n",
    "mySheet=myBook.active\n",
    "myAlignment=openpyxl.styles.Alignment(wrap_text=True)      #自动换行\n",
    "#从高校汇总表(mySheet)的第2行开始逐行循环(到最后一行)\n",
    "for myRow in list(mySheet.rows)[1:]:\n",
    "    #获取每行(myRow)的高校列的单元格数据(myOldValue)\n",
    "    myOldValue=str(myRow[1].value)\n",
    "    #在单元格数据(myOldValue)中使用回车符'\\r\\n'替换字符'、'\n",
    "    myRow[1].value=myOldValue.replace('、','\\r\\n')\n",
    "    myRow[1].alignment=myAlignment\n",
    "myBook.save('结果表-高校汇总表.xlsx')\n"
   ]
  },
  {
   "cell_type": "code",
   "execution_count": 13,
   "id": "3e5d73f5",
   "metadata": {},
   "outputs": [],
   "source": [
    "import openpyxl\n",
    "myBook=openpyxl.load_workbook('收入表 -merge.xlsx')\n",
    "mySheet=myBook.active\n",
    "myList=[]\n",
    "for myCells in mySheet.merged_cells:\n",
    "    myList.append(str(myCells))\n",
    "for myCells in myList:\n",
    "    mySheet.unmerge_cells(myCells)\n",
    "myBook.save('结果表-收入表-merge.xlsx')"
   ]
  },
  {
   "cell_type": "code",
   "execution_count": 15,
   "id": "d41c6192",
   "metadata": {},
   "outputs": [],
   "source": [
    "import openpyxl\n",
    "myBook=openpyxl.load_workbook('员工表 - filter.xlsx')\n",
    "mySheet=myBook.active\n",
    "#在员工表(mySheet)中设置过滤范围(A1:D12)\n",
    "mySheet.auto_filter.ref=\"A1:D12\"\n",
    "#表示在员工表(mySheet)的第4列中默认过滤“博士”\n",
    "mySheet.auto_filter.add_filter_column(3,[\"博士\"])\n",
    "myBook.save('结果表-员工表-filter.xlsx')\n"
   ]
  },
  {
   "cell_type": "code",
   "execution_count": 1,
   "id": "b2b08391",
   "metadata": {},
   "outputs": [],
   "source": [
    "import openpyxl\n",
    "myBook=openpyxl.load_workbook('收入表-dic.xlsx',data_only=True)\n",
    "mySheet=myBook.active\n",
    "myNewBook=openpyxl.Workbook()\n",
    "myNewSheet=myNewBook.active\n",
    "myNewSheet.title='收入表'\n",
    "myNewSheet.append(['月份','公司名称','合计金额'])\n",
    "#按行获取收入表(mySheet)的单元格数据(第1行除外)\n",
    "myRows=list(mySheet.values)[1:]\n",
    "myDict={}\n",
    "for myRow in myRows:\n",
    "    #如果在字典(myDict)中存在某公司，则直接在某公司中累加金额\n",
    "    if myRow[1] in myDict.keys():\n",
    "       myDict[myRow[1]]+=myRow[2]\n",
    "    #否则创建新公司\n",
    "    else:\n",
    "       myDict[myRow[1]]=myRow[2]\n",
    "#循环字典(myDict)的成员(公司)\n",
    "for myName,myAmount in myDict.items():\n",
    "    myNewSheet.append(['12月份',myName,myAmount])\n",
    "myNewBook.save('结果表-收入表-dic.xlsx')\n"
   ]
  },
  {
   "cell_type": "code",
   "execution_count": 2,
   "id": "543b4938",
   "metadata": {},
   "outputs": [],
   "source": [
    "import openpyxl\n",
    "myBook=openpyxl.load_workbook('销量排行表.xlsx',data_only=True)\n",
    "mySheet=myBook.active\n",
    "#按行获取销量排行表(mySheet)的单元格数据(第1行除外)\n",
    "myRows=list(mySheet.values)[1:]\n",
    "myDict={}\n",
    "#在销量排行表(mySheet)中删除所有的行(第1行除外)\n",
    "while mySheet.max_row>1:\n",
    "      mySheet.delete_rows(2)\n",
    "for myRow in myRows:\n",
    "    #如果在字典(myDict)中存在某出版社(myRow[3])，则直接在某出版社中添加[myRow]\n",
    "    if myRow[3] in myDict.keys():\n",
    "       myDict[myRow[3]]+=[myRow]\n",
    "    #否则创建新出版社\n",
    "    else:\n",
    "       myDict[myRow[3]]=[myRow]\n",
    "#循环字典(myDict)的出版社(myPress)\n",
    "for myPress in myDict.keys():\n",
    "    #根据售价(x[2])对出版社(myPress)的图书进行升序排序\n",
    "    myRows=sorted(myDict[myPress],key=lambda x: x[2])\n",
    "    #获取售价最高的图书(即排序之后的最后一本图书)\n",
    "    mySheet.append(myRows[-1])\n",
    "myBook.save('结果表-销量排行表.xlsx')\n"
   ]
  },
  {
   "cell_type": "code",
   "execution_count": null,
   "id": "819f63ca",
   "metadata": {},
   "outputs": [],
   "source": []
  }
 ],
 "metadata": {
  "kernelspec": {
   "display_name": "Python 3 (ipykernel)",
   "language": "python",
   "name": "python3"
  },
  "language_info": {
   "codemirror_mode": {
    "name": "ipython",
    "version": 3
   },
   "file_extension": ".py",
   "mimetype": "text/x-python",
   "name": "python",
   "nbconvert_exporter": "python",
   "pygments_lexer": "ipython3",
   "version": "3.11.5"
  }
 },
 "nbformat": 4,
 "nbformat_minor": 5
}
