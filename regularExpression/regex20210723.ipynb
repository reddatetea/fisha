{
 "cells": [
  {
   "cell_type": "code",
   "execution_count": 56,
   "metadata": {},
   "outputs": [
    {
     "data": {
      "text/plain": [
       "<re.Match object; span=(0, 1), match='F'>"
      ]
     },
     "execution_count": 56,
     "metadata": {},
     "output_type": "execute_result"
    }
   ],
   "source": [
    "#肯定顺序环视，向右看\n",
    "import re\n",
    "string = r'F12345'\n",
    "pattern = r'F(?=\\d{3})'     \n",
    "re.search(pattern,string)"
   ]
  },
  {
   "cell_type": "code",
   "execution_count": 59,
   "metadata": {},
   "outputs": [
    {
     "data": {
      "text/plain": [
       "<re.Match object; span=(3, 4), match='F'>"
      ]
     },
     "execution_count": 59,
     "metadata": {},
     "output_type": "execute_result"
    }
   ],
   "source": [
    "#肯定逆序环视，向左看\n",
    "import re\n",
    "string = r'123F41235'\n",
    "pattern = r'(?<=\\d{3})F'\n",
    "re.search(pattern,string)"
   ]
  },
  {
   "cell_type": "code",
   "execution_count": 55,
   "metadata": {},
   "outputs": [
    {
     "data": {
      "text/plain": [
       "<re.Match object; span=(2, 3), match='F'>"
      ]
     },
     "execution_count": 55,
     "metadata": {},
     "output_type": "execute_result"
    }
   ],
   "source": [
    "#否定顺序环视，向右看\n",
    "import re\n",
    "string = r'34F12'\n",
    "pattern = r'F(?!\\d{3})'\n",
    "re.search(pattern,string)"
   ]
  },
  {
   "cell_type": "code",
   "execution_count": 61,
   "metadata": {},
   "outputs": [
    {
     "data": {
      "text/plain": [
       "<re.Match object; span=(2, 3), match='F'>"
      ]
     },
     "execution_count": 61,
     "metadata": {},
     "output_type": "execute_result"
    }
   ],
   "source": [
    "#否定逆序环视，向左看\n",
    "import re\n",
    "string = r'35F12'\n",
    "pattern = r'(?<!\\d{3})F'\n",
    "re.search(pattern,string)"
   ]
  },
  {
   "cell_type": "code",
   "execution_count": 71,
   "metadata": {},
   "outputs": [
    {
     "data": {
      "text/plain": [
       "<re.Match object; span=(0, 0), match=''>"
      ]
     },
     "execution_count": 71,
     "metadata": {},
     "output_type": "execute_result"
    }
   ],
   "source": [
    "#肯定顺序环视，向右看\n",
    "import re\n",
    "string = r'12345'\n",
    "pattern = r'(?=\\d{3})'     \n",
    "re.search(pattern,string)"
   ]
  },
  {
   "cell_type": "code",
   "execution_count": 64,
   "metadata": {},
   "outputs": [
    {
     "data": {
      "text/plain": [
       "<re.Match object; span=(3, 3), match=''>"
      ]
     },
     "execution_count": 64,
     "metadata": {},
     "output_type": "execute_result"
    }
   ],
   "source": [
    "#肯定逆序环视，向左看\n",
    "import re\n",
    "string = r'12345'\n",
    "pattern = r'(?<=\\d{3})'\n",
    "re.search(pattern,string)"
   ]
  },
  {
   "cell_type": "code",
   "execution_count": 67,
   "metadata": {},
   "outputs": [
    {
     "data": {
      "text/plain": [
       "<re.Match object; span=(3, 3), match=''>"
      ]
     },
     "execution_count": 67,
     "metadata": {},
     "output_type": "execute_result"
    }
   ],
   "source": [
    "#否定顺序环视，向右看\n",
    "import re\n",
    "string = r'12345'\n",
    "pattern = r'(?!\\d{3})'\n",
    "re.search(pattern,string)"
   ]
  },
  {
   "cell_type": "code",
   "execution_count": 68,
   "metadata": {},
   "outputs": [
    {
     "data": {
      "text/plain": [
       "<re.Match object; span=(0, 0), match=''>"
      ]
     },
     "execution_count": 68,
     "metadata": {},
     "output_type": "execute_result"
    }
   ],
   "source": [
    "#否定逆序环视，向左看\n",
    "import re\n",
    "string = r'12345'\n",
    "pattern = r'(?<!\\d{3})'\n",
    "re.search(pattern,string)"
   ]
  },
  {
   "cell_type": "code",
   "execution_count": 22,
   "metadata": {},
   "outputs": [
    {
     "name": "stdout",
     "output_type": "stream",
     "text": [
      "1234567\n",
      "1,234,567\n"
     ]
    }
   ],
   "source": [
    "#千分符\n",
    "import re\n",
    "pattern = r'(?<=\\d)(?=(\\d{3})+(?!\\d))'\n",
    "string = '1234567'\n",
    "a = re.sub(pattern,r',',string)\n",
    "print(string)\n",
    "print(a)\n"
   ]
  },
  {
   "cell_type": "code",
   "execution_count": 26,
   "metadata": {},
   "outputs": [
    {
     "name": "stdout",
     "output_type": "stream",
     "text": [
      "中  英文混  排 some  English    word  \n",
      "中英文混排 some  English  word \n"
     ]
    }
   ],
   "source": [
    "import re \n",
    "string = r'中  英文混  排 some  English    word  '\n",
    "pattern = r'(?<![a-zA-Z])\\s+(?![a-zA-Z])'\n",
    "a = re.sub(pattern,'',string)\n",
    "print(string)\n",
    "print(a)"
   ]
  },
  {
   "cell_type": "code",
   "execution_count": 2,
   "metadata": {},
   "outputs": [
    {
     "name": "stdout",
     "output_type": "stream",
     "text": [
      "torrow I will wear in brown standing in <span class=\\\"h1\\\">row</span> 10 next to the rowdy guy\n"
     ]
    }
   ],
   "source": [
    "import re\n",
    "string = 'torrow I will wear in brown standing in row 10 next to the rowdy guy'\n",
    "rowWordRegex = r'\\brow\\b'\n",
    "a = re.sub(rowWordRegex,r'<span class=\\\"h1\\\">\\g<0></span>',string)\n",
    "print(a)"
   ]
  },
  {
   "cell_type": "code",
   "execution_count": 11,
   "metadata": {},
   "outputs": [
    {
     "name": "stdout",
     "output_type": "stream",
     "text": [
      "[]\n"
     ]
    }
   ],
   "source": [
    "import re\n",
    "string = r'first line\\nsecond line\\r\\nlast line'\n",
    "Regex = r'(?m)A\\w+'\n",
    "a = re.findall(Regex,string)\n",
    "print(a)"
   ]
  },
  {
   "cell_type": "code",
   "execution_count": 15,
   "metadata": {},
   "outputs": [
    {
     "name": "stdout",
     "output_type": "stream",
     "text": [
      "['n']\n"
     ]
    }
   ],
   "source": [
    "import re\n",
    "string = r'some sample text\\n'\n",
    "Regex = r'\\w+$'\n",
    "a = re.findall(Regex,string)\n",
    "print(a)"
   ]
  },
  {
   "cell_type": "code",
   "execution_count": 20,
   "metadata": {},
   "outputs": [
    {
     "ename": "error",
     "evalue": "bad escape \\z at position 3",
     "output_type": "error",
     "traceback": [
      "\u001b[1;31m---------------------------------------------------------------------------\u001b[0m",
      "\u001b[1;31merror\u001b[0m                                     Traceback (most recent call last)",
      "\u001b[1;32m<ipython-input-20-0d6e2821dd89>\u001b[0m in \u001b[0;36m<module>\u001b[1;34m\u001b[0m\n\u001b[0;32m      2\u001b[0m \u001b[0mstring\u001b[0m \u001b[1;33m=\u001b[0m\u001b[1;34mr'first line\\nsecond line\\r\\nlast line\\n'\u001b[0m\u001b[1;33m\u001b[0m\u001b[1;33m\u001b[0m\u001b[0m\n\u001b[0;32m      3\u001b[0m \u001b[0mRegex\u001b[0m \u001b[1;33m=\u001b[0m \u001b[1;34mr'\\w+\\z'\u001b[0m\u001b[1;33m\u001b[0m\u001b[1;33m\u001b[0m\u001b[0m\n\u001b[1;32m----> 4\u001b[1;33m \u001b[0ma\u001b[0m \u001b[1;33m=\u001b[0m \u001b[0mre\u001b[0m\u001b[1;33m.\u001b[0m\u001b[0mfindall\u001b[0m\u001b[1;33m(\u001b[0m\u001b[0mRegex\u001b[0m\u001b[1;33m,\u001b[0m\u001b[0mstring\u001b[0m\u001b[1;33m)\u001b[0m\u001b[1;33m\u001b[0m\u001b[1;33m\u001b[0m\u001b[0m\n\u001b[0m\u001b[0;32m      5\u001b[0m \u001b[0mprint\u001b[0m\u001b[1;33m(\u001b[0m\u001b[0ma\u001b[0m\u001b[1;33m)\u001b[0m\u001b[1;33m\u001b[0m\u001b[1;33m\u001b[0m\u001b[0m\n",
      "\u001b[1;32mD:\\swz\\lib\\re.py\u001b[0m in \u001b[0;36mfindall\u001b[1;34m(pattern, string, flags)\u001b[0m\n\u001b[0;32m    239\u001b[0m \u001b[1;33m\u001b[0m\u001b[0m\n\u001b[0;32m    240\u001b[0m     Empty matches are included in the result.\"\"\"\n\u001b[1;32m--> 241\u001b[1;33m     \u001b[1;32mreturn\u001b[0m \u001b[0m_compile\u001b[0m\u001b[1;33m(\u001b[0m\u001b[0mpattern\u001b[0m\u001b[1;33m,\u001b[0m \u001b[0mflags\u001b[0m\u001b[1;33m)\u001b[0m\u001b[1;33m.\u001b[0m\u001b[0mfindall\u001b[0m\u001b[1;33m(\u001b[0m\u001b[0mstring\u001b[0m\u001b[1;33m)\u001b[0m\u001b[1;33m\u001b[0m\u001b[1;33m\u001b[0m\u001b[0m\n\u001b[0m\u001b[0;32m    242\u001b[0m \u001b[1;33m\u001b[0m\u001b[0m\n\u001b[0;32m    243\u001b[0m \u001b[1;32mdef\u001b[0m \u001b[0mfinditer\u001b[0m\u001b[1;33m(\u001b[0m\u001b[0mpattern\u001b[0m\u001b[1;33m,\u001b[0m \u001b[0mstring\u001b[0m\u001b[1;33m,\u001b[0m \u001b[0mflags\u001b[0m\u001b[1;33m=\u001b[0m\u001b[1;36m0\u001b[0m\u001b[1;33m)\u001b[0m\u001b[1;33m:\u001b[0m\u001b[1;33m\u001b[0m\u001b[1;33m\u001b[0m\u001b[0m\n",
      "\u001b[1;32mD:\\swz\\lib\\re.py\u001b[0m in \u001b[0;36m_compile\u001b[1;34m(pattern, flags)\u001b[0m\n\u001b[0;32m    302\u001b[0m     \u001b[1;32mif\u001b[0m \u001b[1;32mnot\u001b[0m \u001b[0msre_compile\u001b[0m\u001b[1;33m.\u001b[0m\u001b[0misstring\u001b[0m\u001b[1;33m(\u001b[0m\u001b[0mpattern\u001b[0m\u001b[1;33m)\u001b[0m\u001b[1;33m:\u001b[0m\u001b[1;33m\u001b[0m\u001b[1;33m\u001b[0m\u001b[0m\n\u001b[0;32m    303\u001b[0m         \u001b[1;32mraise\u001b[0m \u001b[0mTypeError\u001b[0m\u001b[1;33m(\u001b[0m\u001b[1;34m\"first argument must be string or compiled pattern\"\u001b[0m\u001b[1;33m)\u001b[0m\u001b[1;33m\u001b[0m\u001b[1;33m\u001b[0m\u001b[0m\n\u001b[1;32m--> 304\u001b[1;33m     \u001b[0mp\u001b[0m \u001b[1;33m=\u001b[0m \u001b[0msre_compile\u001b[0m\u001b[1;33m.\u001b[0m\u001b[0mcompile\u001b[0m\u001b[1;33m(\u001b[0m\u001b[0mpattern\u001b[0m\u001b[1;33m,\u001b[0m \u001b[0mflags\u001b[0m\u001b[1;33m)\u001b[0m\u001b[1;33m\u001b[0m\u001b[1;33m\u001b[0m\u001b[0m\n\u001b[0m\u001b[0;32m    305\u001b[0m     \u001b[1;32mif\u001b[0m \u001b[1;32mnot\u001b[0m \u001b[1;33m(\u001b[0m\u001b[0mflags\u001b[0m \u001b[1;33m&\u001b[0m \u001b[0mDEBUG\u001b[0m\u001b[1;33m)\u001b[0m\u001b[1;33m:\u001b[0m\u001b[1;33m\u001b[0m\u001b[1;33m\u001b[0m\u001b[0m\n\u001b[0;32m    306\u001b[0m         \u001b[1;32mif\u001b[0m \u001b[0mlen\u001b[0m\u001b[1;33m(\u001b[0m\u001b[0m_cache\u001b[0m\u001b[1;33m)\u001b[0m \u001b[1;33m>=\u001b[0m \u001b[0m_MAXCACHE\u001b[0m\u001b[1;33m:\u001b[0m\u001b[1;33m\u001b[0m\u001b[1;33m\u001b[0m\u001b[0m\n",
      "\u001b[1;32mD:\\swz\\lib\\sre_compile.py\u001b[0m in \u001b[0;36mcompile\u001b[1;34m(p, flags)\u001b[0m\n\u001b[0;32m    762\u001b[0m     \u001b[1;32mif\u001b[0m \u001b[0misstring\u001b[0m\u001b[1;33m(\u001b[0m\u001b[0mp\u001b[0m\u001b[1;33m)\u001b[0m\u001b[1;33m:\u001b[0m\u001b[1;33m\u001b[0m\u001b[1;33m\u001b[0m\u001b[0m\n\u001b[0;32m    763\u001b[0m         \u001b[0mpattern\u001b[0m \u001b[1;33m=\u001b[0m \u001b[0mp\u001b[0m\u001b[1;33m\u001b[0m\u001b[1;33m\u001b[0m\u001b[0m\n\u001b[1;32m--> 764\u001b[1;33m         \u001b[0mp\u001b[0m \u001b[1;33m=\u001b[0m \u001b[0msre_parse\u001b[0m\u001b[1;33m.\u001b[0m\u001b[0mparse\u001b[0m\u001b[1;33m(\u001b[0m\u001b[0mp\u001b[0m\u001b[1;33m,\u001b[0m \u001b[0mflags\u001b[0m\u001b[1;33m)\u001b[0m\u001b[1;33m\u001b[0m\u001b[1;33m\u001b[0m\u001b[0m\n\u001b[0m\u001b[0;32m    765\u001b[0m     \u001b[1;32melse\u001b[0m\u001b[1;33m:\u001b[0m\u001b[1;33m\u001b[0m\u001b[1;33m\u001b[0m\u001b[0m\n\u001b[0;32m    766\u001b[0m         \u001b[0mpattern\u001b[0m \u001b[1;33m=\u001b[0m \u001b[1;32mNone\u001b[0m\u001b[1;33m\u001b[0m\u001b[1;33m\u001b[0m\u001b[0m\n",
      "\u001b[1;32mD:\\swz\\lib\\sre_parse.py\u001b[0m in \u001b[0;36mparse\u001b[1;34m(str, flags, state)\u001b[0m\n\u001b[0;32m    946\u001b[0m \u001b[1;33m\u001b[0m\u001b[0m\n\u001b[0;32m    947\u001b[0m     \u001b[1;32mtry\u001b[0m\u001b[1;33m:\u001b[0m\u001b[1;33m\u001b[0m\u001b[1;33m\u001b[0m\u001b[0m\n\u001b[1;32m--> 948\u001b[1;33m         \u001b[0mp\u001b[0m \u001b[1;33m=\u001b[0m \u001b[0m_parse_sub\u001b[0m\u001b[1;33m(\u001b[0m\u001b[0msource\u001b[0m\u001b[1;33m,\u001b[0m \u001b[0mstate\u001b[0m\u001b[1;33m,\u001b[0m \u001b[0mflags\u001b[0m \u001b[1;33m&\u001b[0m \u001b[0mSRE_FLAG_VERBOSE\u001b[0m\u001b[1;33m,\u001b[0m \u001b[1;36m0\u001b[0m\u001b[1;33m)\u001b[0m\u001b[1;33m\u001b[0m\u001b[1;33m\u001b[0m\u001b[0m\n\u001b[0m\u001b[0;32m    949\u001b[0m     \u001b[1;32mexcept\u001b[0m \u001b[0mVerbose\u001b[0m\u001b[1;33m:\u001b[0m\u001b[1;33m\u001b[0m\u001b[1;33m\u001b[0m\u001b[0m\n\u001b[0;32m    950\u001b[0m         \u001b[1;31m# the VERBOSE flag was switched on inside the pattern.  to be\u001b[0m\u001b[1;33m\u001b[0m\u001b[1;33m\u001b[0m\u001b[1;33m\u001b[0m\u001b[0m\n",
      "\u001b[1;32mD:\\swz\\lib\\sre_parse.py\u001b[0m in \u001b[0;36m_parse_sub\u001b[1;34m(source, state, verbose, nested)\u001b[0m\n\u001b[0;32m    441\u001b[0m     \u001b[0mstart\u001b[0m \u001b[1;33m=\u001b[0m \u001b[0msource\u001b[0m\u001b[1;33m.\u001b[0m\u001b[0mtell\u001b[0m\u001b[1;33m(\u001b[0m\u001b[1;33m)\u001b[0m\u001b[1;33m\u001b[0m\u001b[1;33m\u001b[0m\u001b[0m\n\u001b[0;32m    442\u001b[0m     \u001b[1;32mwhile\u001b[0m \u001b[1;32mTrue\u001b[0m\u001b[1;33m:\u001b[0m\u001b[1;33m\u001b[0m\u001b[1;33m\u001b[0m\u001b[0m\n\u001b[1;32m--> 443\u001b[1;33m         itemsappend(_parse(source, state, verbose, nested + 1,\n\u001b[0m\u001b[0;32m    444\u001b[0m                            not nested and not items))\n\u001b[0;32m    445\u001b[0m         \u001b[1;32mif\u001b[0m \u001b[1;32mnot\u001b[0m \u001b[0msourcematch\u001b[0m\u001b[1;33m(\u001b[0m\u001b[1;34m\"|\"\u001b[0m\u001b[1;33m)\u001b[0m\u001b[1;33m:\u001b[0m\u001b[1;33m\u001b[0m\u001b[1;33m\u001b[0m\u001b[0m\n",
      "\u001b[1;32mD:\\swz\\lib\\sre_parse.py\u001b[0m in \u001b[0;36m_parse\u001b[1;34m(source, state, verbose, nested, first)\u001b[0m\n\u001b[0;32m    523\u001b[0m \u001b[1;33m\u001b[0m\u001b[0m\n\u001b[0;32m    524\u001b[0m         \u001b[1;32mif\u001b[0m \u001b[0mthis\u001b[0m\u001b[1;33m[\u001b[0m\u001b[1;36m0\u001b[0m\u001b[1;33m]\u001b[0m \u001b[1;33m==\u001b[0m \u001b[1;34m\"\\\\\"\u001b[0m\u001b[1;33m:\u001b[0m\u001b[1;33m\u001b[0m\u001b[1;33m\u001b[0m\u001b[0m\n\u001b[1;32m--> 525\u001b[1;33m             \u001b[0mcode\u001b[0m \u001b[1;33m=\u001b[0m \u001b[0m_escape\u001b[0m\u001b[1;33m(\u001b[0m\u001b[0msource\u001b[0m\u001b[1;33m,\u001b[0m \u001b[0mthis\u001b[0m\u001b[1;33m,\u001b[0m \u001b[0mstate\u001b[0m\u001b[1;33m)\u001b[0m\u001b[1;33m\u001b[0m\u001b[1;33m\u001b[0m\u001b[0m\n\u001b[0m\u001b[0;32m    526\u001b[0m             \u001b[0msubpatternappend\u001b[0m\u001b[1;33m(\u001b[0m\u001b[0mcode\u001b[0m\u001b[1;33m)\u001b[0m\u001b[1;33m\u001b[0m\u001b[1;33m\u001b[0m\u001b[0m\n\u001b[0;32m    527\u001b[0m \u001b[1;33m\u001b[0m\u001b[0m\n",
      "\u001b[1;32mD:\\swz\\lib\\sre_parse.py\u001b[0m in \u001b[0;36m_escape\u001b[1;34m(source, escape, state)\u001b[0m\n\u001b[0;32m    424\u001b[0m         \u001b[1;32mif\u001b[0m \u001b[0mlen\u001b[0m\u001b[1;33m(\u001b[0m\u001b[0mescape\u001b[0m\u001b[1;33m)\u001b[0m \u001b[1;33m==\u001b[0m \u001b[1;36m2\u001b[0m\u001b[1;33m:\u001b[0m\u001b[1;33m\u001b[0m\u001b[1;33m\u001b[0m\u001b[0m\n\u001b[0;32m    425\u001b[0m             \u001b[1;32mif\u001b[0m \u001b[0mc\u001b[0m \u001b[1;32min\u001b[0m \u001b[0mASCIILETTERS\u001b[0m\u001b[1;33m:\u001b[0m\u001b[1;33m\u001b[0m\u001b[1;33m\u001b[0m\u001b[0m\n\u001b[1;32m--> 426\u001b[1;33m                 \u001b[1;32mraise\u001b[0m \u001b[0msource\u001b[0m\u001b[1;33m.\u001b[0m\u001b[0merror\u001b[0m\u001b[1;33m(\u001b[0m\u001b[1;34m\"bad escape %s\"\u001b[0m \u001b[1;33m%\u001b[0m \u001b[0mescape\u001b[0m\u001b[1;33m,\u001b[0m \u001b[0mlen\u001b[0m\u001b[1;33m(\u001b[0m\u001b[0mescape\u001b[0m\u001b[1;33m)\u001b[0m\u001b[1;33m)\u001b[0m\u001b[1;33m\u001b[0m\u001b[1;33m\u001b[0m\u001b[0m\n\u001b[0m\u001b[0;32m    427\u001b[0m             \u001b[1;32mreturn\u001b[0m \u001b[0mLITERAL\u001b[0m\u001b[1;33m,\u001b[0m \u001b[0mord\u001b[0m\u001b[1;33m(\u001b[0m\u001b[0mescape\u001b[0m\u001b[1;33m[\u001b[0m\u001b[1;36m1\u001b[0m\u001b[1;33m]\u001b[0m\u001b[1;33m)\u001b[0m\u001b[1;33m\u001b[0m\u001b[1;33m\u001b[0m\u001b[0m\n\u001b[0;32m    428\u001b[0m     \u001b[1;32mexcept\u001b[0m \u001b[0mValueError\u001b[0m\u001b[1;33m:\u001b[0m\u001b[1;33m\u001b[0m\u001b[1;33m\u001b[0m\u001b[0m\n",
      "\u001b[1;31merror\u001b[0m: bad escape \\z at position 3"
     ]
    }
   ],
   "source": [
    "import re\n",
    "string =r'first line\\nsecond line\\r\\nlast line\\n'\n",
    "Regex = r'\\w+\\z'\n",
    "a = re.findall(Regex,string)\n",
    "print(a)"
   ]
  },
  {
   "cell_type": "code",
   "execution_count": 4,
   "metadata": {},
   "outputs": [
    {
     "name": "stdout",
     "output_type": "stream",
     "text": [
      "bolddddddddsfgdjifjdsijfgdklsjgoidsigh\n"
     ]
    }
   ],
   "source": [
    "import re\n",
    "Regex = r'<([^>]+)>'\n",
    "a = '<bolddddddddsfgdjifjdsijfgdklsjgoidsigh>'\n",
    "b = re.search(Regex,a)\n",
    "print(b.group(1))"
   ]
  },
  {
   "cell_type": "code",
   "execution_count": 2,
   "metadata": {},
   "outputs": [
    {
     "name": "stdout",
     "output_type": "stream",
     "text": [
      "<bolddddddddsfgdjifjdsijfgdklsjgoidsigh>\n"
     ]
    }
   ],
   "source": [
    "import re\n",
    "Regex = r'<[^>]+>'   #匹配除>外的所有字符，+表示至少一个以上\n",
    "a = '<bolddddddddsfgdjifjdsijfgdklsjgoidsigh>'\n",
    "b = re.search(Regex,a)\n",
    "print(b.group(0))"
   ]
  },
  {
   "cell_type": "code",
   "execution_count": 4,
   "metadata": {},
   "outputs": [
    {
     "name": "stdout",
     "output_type": "stream",
     "text": [
      "['大风向野', '不为彼岸只为海', '不为彼岸只为海', '东京一年', '海风电影院', '带着数字和玫瑰旅行', '带着数字和玫瑰旅行', '书旅人', '书旅人', '我不允许你独自旅行', '大风向野', '不为彼岸只为海', '东京一年', '打开天窗', '人民文学', '审判童年', '新周刊', '15岁离开家乡的歌', '海风电影院', '桥声', '有声默片', '单声列车', '等路人', '失落在记忆里的人', '失落在记忆里的人', '带着数字和玫瑰旅行', '美好的午餐', '日内瓦湖', '轻轻掐了她几下', '从A数到Z，我心仪的城市', '美国，天上飞机在飞', '里约的诱惑——回忆拉丁美洲', '从看见到发现', '我的大学', '现代诗110**', '漫游之诗', '冥想之诗', '西湖', '南宋', '朗读者', '数学传奇', '数学简史', '书旅人', '像艳遇一样忧伤', '没有过去的男人', '在各种悲喜交集处', '短歌集', '像艳遇一样忧伤', '欲爱歌', '疯狂的果实', '被追捕的旅客', '我不允许你独自旅行']\n"
     ]
    }
   ],
   "source": [
    "import re\n",
    "string=r'''《大风向野》内容简介：练明乔从北京出发了。 接下来的169天，她独自一人驾驶一辆摩托车，向陆地的尽头前行。她将会遇见三个人——与她有着约定的年轻男孩，年过半百的庞磊森，以及，那个被留在大河山岭的小丽娇。 169天，3万公里，她孤身一人，抵达了目的地伊斯坦布尔。身边没有任何人。 这是场孤独的远行，越身处空旷的原野，就越要直面内心：有关孤单的童年回忆，亲人的爱与伤害，无法选择的出身，不由分说的爱情和避无可避的命运。 到达伊斯坦布尔的那天，恰逢一场马拉松赛事，练明乔远远地看着人们欢呼、奔跑，突然就想回家了。来时169天的路程，坐飞机返回只需要13个小时，她将满身风雨地降落，然后勇敢地面对生活。\n",
    "《不为彼岸只为海》内容简介：《不为彼岸只为海》记录了完成帆船环球航海的中国女性——宋坤的真实经历。 爱情的渐行渐远、亲情的突然离别……跌至人生低谷的平凡女孩宋坤，开始了一场追问意义的历险。\n",
    "《东京一年》内容简介：2016年，我独自一人在东京生活了一年，东京也拯救了我。” 受日本基金会之邀，蒋方舟在东京独居了数月，她越来越喜欢写漫长的日记，觉得孤独地生活一辈子也不是坏事。 日记共有46篇，收录了她新的短篇小说、演讲和时评，驳杂不失纯粹。蒋方舟特别的是用阅读、洞察、明见作为时代意义的表述，而非历史的记录……从政治、艺术到当今中日两国世间百态，都有独特又不失严肃的描摹与思考。\n",
    "《海风电影院》内容简介：关于冷门目的地 关于生活中不知如何是好的时刻 闪光灯闪烁了一下，我也在他人的记忆中定格 和陌生人聊天会有一种谨慎与放松并存的奇怪心境，似乎什么都能说，又感觉**好什么都别说。 每多了解一个人，都会多添一份心理负担。我一直不爱多交朋友，也是因为这个，我怕和一个人不熟，也怕太熟。 我挺喜欢自己现在的状态，不轻易慌张，不随意发脾气，也不长久亢奋，大多数时候都能静下心来去做需要耐心的事。 人确实善于遗忘，特别是对不好的事情，无论当下如何痛苦或难过，只要境遇好转，稍感舒适，对于那些曾经不好的事情便通通能够淡忘，甚至会怀疑它们是否真的发生过。\n",
    "《带着数字和玫瑰旅行》内容简介：《带着数字和玫瑰旅行》作者蔡天新既是数学家、诗人，还是旅行者、摄影师。多年以来，他游走于诗性的浪漫和数学的理性之间。而旅行则是连接感性与理性的桥梁，他的足迹遍及五大洲100多个国家和地区。数字、玫瑰和旅行在他的生命中不可或缺。\n",
    "《书旅人》内容简介：《书旅人》是作家歌手钟立风几年来阅读、旅行的际遇和感受。近百篇轻快随性的短文，充满灵感的跳动和平淡中的趣见。小钟迷走在自己的精神世界里，诚恳的思索，热烈的感受，音乐、文学、旅行、电影都是他“生命的需要”。读者与小钟之间，就像是偶然相遇的旅人，两人对饮一杯清酒，听他分享一个故事。在钟立风朴素而流丽的书写中，你找到了自己，我们认出了彼此。我们在读我们生活的故事，仿佛我们置身其中。\n",
    "《我不允许你独自旅行》内容简介：一个神经大条的酷女孩，吃住不挑，不做攻略，用实习和工作收入走过七大洲100多国，一路走来惊魂未定，却又荡漾着温暖。\n",
    "作者简介：\n",
    "《大风向野》作者简介：练明乔 摄影师、作家、导演。 曾独自驾驶摩托车从中国去往土耳其，是迄今为止，**一位独自驾驶摩托车穿越欧亚大陆的女性。漫长旅途之后，她在一个叫作“野马泉”的地方留了下来，没有再与公路为伍。\n",
    "《不为彼岸只为海》作者简介： 宋坤，是知名帆船比赛解说人、主持人。2006年，她从山东财政学院（现山东财经大学）日语系毕业后，因推广帆船运动，从此爱上了帆船航海。2012年，宋坤参加了克利伯环球帆船赛跨越大西洋段（美国纽约—英国）的比赛， 并于2013—2014年完成了克利伯环球帆船赛全部8个航段的比赛，历经315天，航程4万多海里，成为中国完成帆船环球航行的女性。\n",
    "《东京一年》作者简介：蒋方舟，7岁开始写作，9岁写成散文集《打开天窗》。2008年被清华大学破格录取，次年在《人民文学》发表作品《审判童年》，获得第 一届朱自清散文奖。2012年大学毕业后任《新周刊》副主编。 执导的《15岁离开家乡的歌》（冲绳少女离开故乡的故事）等纪录片陆续在日本上映。\n",
    "《海风电影院》作者简介：作者：吴忠全 青年作家，第二届“THE NEXT·文学之新”全国亚军。已出版小说《桥声》《有声默片》《单声列车》《等路人》《失落在记忆里的人》等，获著名导演宁浩、作家郭敬明、制片人叶如芬赞誉，称其文风有大小说家气象。长篇小说《失落在记忆里的人》即将搬上大银幕。\n",
    "《带着数字和玫瑰旅行》内容简介：蔡天新，浙江台州人，近作有诗集《美好的午餐》《日内瓦湖》，随笔集《轻轻掐了她几下》《从A数到Z，我心仪的城市》，旅行记《美国，天上飞机在飞》《里约的诱惑——回忆拉丁美洲》，摄影集《从看见到发现》，回忆录《我的大学》，主编《现代诗110**》（蓝、红、黄卷）、《漫游之诗》和《冥想之诗》。他的作品被译成20多种语言，并有英语、法语、西班牙语等外版著作10余种。 近年来，他应邀在海内外大中小学、图书馆、书店和机关部队做了300多场公众讲座，先后在纪录片《西湖》《南宋》里出镜解说，并受邀参加博鳌论坛和**《朗读者》节目。纽约、巴黎、剑桥、洛杉矶、法兰克福、墨西哥城、内罗毕等城市举办过他的诗歌朗诵会，他的摄影展先后在深圳、杭州、南京、郑州、合肥、上海、天津、休斯敦等城市举办。 他在上大学的路上**次见到火车，如今足迹已遍及中国每个省份和包括埃及、巴比伦、印度、腓尼基、迦太基、玛雅、印加和希腊在内的古代文明。2015年，他入选“**届杭州十大创新人物”。 2018年他的著作《数学传奇》获得国家科学技术进步奖，《数学简史》获得吴大猷科学普及著作奖创作类佳作奖。\n",
    "《书旅人》内容简介：钟立风：作家歌手，博尔赫斯乐队主唱。祖籍浙江，现居北京。民谣圈里的读书客，文艺青年的阅读榜样。他的音乐具有很强的文学性和画面感，他的文字则充满想象和流动的音律。他说：如果音乐是我的白天，那么文字则是我的夜晚，是音乐和文字完成了我的呼吸--字吸，歌呼。 已出版文字集：《像艳遇一样忧伤》《没有过去的男人》《在各种悲喜交集处》《短歌集》；音乐专辑：《像艳遇一样忧伤》《欲爱歌》《疯狂的果实》《被追捕的旅客》等。\n",
    "《我不允许你独自旅行》内容简介：马嘉骊 英文名Carrie，27岁，新闻系毕业，曾任新闻节目制片人，现居悉尼，从事政府公关。 大学时开始用媒体实习收入一个人旅行，在坐绿皮火车游完北方数省后，开始独自前往北非、中东等地区。23岁时独自旅行过七大洲，迄今已走了100多国。 独旅途中结交无数朋友，她突发奇想开始在旅途中收集梦想，即“有梦”计划；她的另一个项目，是收集100多国人眼中的中国印象，即“百眼看中国”计划。 网易人间签约作者，豆瓣阅读签约作者。 微博：@神经大条的马嘉嘉'''\n",
    "regax = r'(?<=《)(.*?)(?=》)'\n",
    "pattern = re.compile(regax)\n",
    "books = re.findall(pattern,string)\n",
    "print(books)\n"
   ]
  },
  {
   "cell_type": "code",
   "execution_count": 29,
   "metadata": {},
   "outputs": [
    {
     "name": "stdout",
     "output_type": "stream",
     "text": [
      "['大风向野', '不为彼岸只为海', '东京一年', '海风电影院', '带着数字和玫瑰旅行', '书旅人', '我不允许你独自旅行']\n"
     ]
    }
   ],
   "source": [
    "import re\n",
    "string=r'''《大风向野》内容简介：练明乔从北京出发了。 接下来的169天，她独自一人驾驶一辆摩托车，向陆地的尽头前行。她将会遇见三个人——与她有着约定的年轻男孩，年过半百的庞磊森，以及，那个被留在大河山岭的小丽娇。 169天，3万公里，她孤身一人，抵达了目的地伊斯坦布尔。身边没有任何人。 这是场孤独的远行，越身处空旷的原野，就越要直面内心：有关孤单的童年回忆，亲人的爱与伤害，无法选择的出身，不由分说的爱情和避无可避的命运。 到达伊斯坦布尔的那天，恰逢一场马拉松赛事，练明乔远远地看着人们欢呼、奔跑，突然就想回家了。来时169天的路程，坐飞机返回只需要13个小时，她将满身风雨地降落，然后勇敢地面对生活。\n",
    "《不为彼岸只为海》内容简介：《不为彼岸只为海》记录了完成帆船环球航海的中国女性——宋坤的真实经历。 爱情的渐行渐远、亲情的突然离别……跌至人生低谷的平凡女孩宋坤，开始了一场追问意义的历险。\n",
    "《东京一年》内容简介：2016年，我独自一人在东京生活了一年，东京也拯救了我。” 受日本基金会之邀，蒋方舟在东京独居了数月，她越来越喜欢写漫长的日记，觉得孤独地生活一辈子也不是坏事。 日记共有46篇，收录了她新的短篇小说、演讲和时评，驳杂不失纯粹。蒋方舟特别的是用阅读、洞察、明见作为时代意义的表述，而非历史的记录……从政治、艺术到当今中日两国世间百态，都有独特又不失严肃的描摹与思考。\n",
    "《海风电影院》内容简介：关于冷门目的地 关于生活中不知如何是好的时刻 闪光灯闪烁了一下，我也在他人的记忆中定格 和陌生人聊天会有一种谨慎与放松并存的奇怪心境，似乎什么都能说，又感觉**好什么都别说。 每多了解一个人，都会多添一份心理负担。我一直不爱多交朋友，也是因为这个，我怕和一个人不熟，也怕太熟。 我挺喜欢自己现在的状态，不轻易慌张，不随意发脾气，也不长久亢奋，大多数时候都能静下心来去做需要耐心的事。 人确实善于遗忘，特别是对不好的事情，无论当下如何痛苦或难过，只要境遇好转，稍感舒适，对于那些曾经不好的事情便通通能够淡忘，甚至会怀疑它们是否真的发生过。\n",
    "《带着数字和玫瑰旅行》内容简介：《带着数字和玫瑰旅行》作者蔡天新既是数学家、诗人，还是旅行者、摄影师。多年以来，他游走于诗性的浪漫和数学的理性之间。而旅行则是连接感性与理性的桥梁，他的足迹遍及五大洲100多个国家和地区。数字、玫瑰和旅行在他的生命中不可或缺。\n",
    "《书旅人》内容简介：《书旅人》是作家歌手钟立风几年来阅读、旅行的际遇和感受。近百篇轻快随性的短文，充满灵感的跳动和平淡中的趣见。小钟迷走在自己的精神世界里，诚恳的思索，热烈的感受，音乐、文学、旅行、电影都是他“生命的需要”。读者与小钟之间，就像是偶然相遇的旅人，两人对饮一杯清酒，听他分享一个故事。在钟立风朴素而流丽的书写中，你找到了自己，我们认出了彼此。我们在读我们生活的故事，仿佛我们置身其中。\n",
    "《我不允许你独自旅行》内容简介：一个神经大条的酷女孩，吃住不挑，不做攻略，用实习和工作收入走过七大洲100多国，一路走来惊魂未定，却又荡漾着温暖。\n",
    "'''\n",
    "regax = r'(?m)^《[^《]+(?=》)'\n",
    "pattern = re.compile(regax)\n",
    "books = re.findall(pattern,string)\n",
    "book1s = [j.replace('《','') for j in books]\n",
    "print(book1s)"
   ]
  },
  {
   "cell_type": "code",
   "execution_count": 28,
   "metadata": {},
   "outputs": [
    {
     "name": "stdout",
     "output_type": "stream",
     "text": [
      "['大风向野', '不为彼岸只为海', '不为彼岸只为海', '东京一年', '海风电影院', '带着数字和玫瑰旅行', '带着数字和玫瑰旅行', '书旅人', '书旅人', '我不允许你独自旅行']\n"
     ]
    },
    {
     "name": "stderr",
     "output_type": "stream",
     "text": [
      "<ipython-input-28-844594e2d7c4>:11: DeprecationWarning: Flags not at the start of the expression '((?m)(?<=《)[^《]+(?=》' (truncated)\n",
      "  pattern = re.compile(regax)\n"
     ]
    }
   ],
   "source": [
    "import re\n",
    "string=r'''《大风向野》内容简介：练明乔从北京出发了。 接下来的169天，她独自一人驾驶一辆摩托车，向陆地的尽头前行。她将会遇见三个人——与她有着约定的年轻男孩，年过半百的庞磊森，以及，那个被留在大河山岭的小丽娇。 169天，3万公里，她孤身一人，抵达了目的地伊斯坦布尔。身边没有任何人。 这是场孤独的远行，越身处空旷的原野，就越要直面内心：有关孤单的童年回忆，亲人的爱与伤害，无法选择的出身，不由分说的爱情和避无可避的命运。 到达伊斯坦布尔的那天，恰逢一场马拉松赛事，练明乔远远地看着人们欢呼、奔跑，突然就想回家了。来时169天的路程，坐飞机返回只需要13个小时，她将满身风雨地降落，然后勇敢地面对生活。\n",
    "《不为彼岸只为海》内容简介：《不为彼岸只为海》记录了完成帆船环球航海的中国女性——宋坤的真实经历。 爱情的渐行渐远、亲情的突然离别……跌至人生低谷的平凡女孩宋坤，开始了一场追问意义的历险。\n",
    "《东京一年》内容简介：2016年，我独自一人在东京生活了一年，东京也拯救了我。” 受日本基金会之邀，蒋方舟在东京独居了数月，她越来越喜欢写漫长的日记，觉得孤独地生活一辈子也不是坏事。 日记共有46篇，收录了她新的短篇小说、演讲和时评，驳杂不失纯粹。蒋方舟特别的是用阅读、洞察、明见作为时代意义的表述，而非历史的记录……从政治、艺术到当今中日两国世间百态，都有独特又不失严肃的描摹与思考。\n",
    "《海风电影院》内容简介：关于冷门目的地 关于生活中不知如何是好的时刻 闪光灯闪烁了一下，我也在他人的记忆中定格 和陌生人聊天会有一种谨慎与放松并存的奇怪心境，似乎什么都能说，又感觉**好什么都别说。 每多了解一个人，都会多添一份心理负担。我一直不爱多交朋友，也是因为这个，我怕和一个人不熟，也怕太熟。 我挺喜欢自己现在的状态，不轻易慌张，不随意发脾气，也不长久亢奋，大多数时候都能静下心来去做需要耐心的事。 人确实善于遗忘，特别是对不好的事情，无论当下如何痛苦或难过，只要境遇好转，稍感舒适，对于那些曾经不好的事情便通通能够淡忘，甚至会怀疑它们是否真的发生过。\n",
    "《带着数字和玫瑰旅行》内容简介：《带着数字和玫瑰旅行》作者蔡天新既是数学家、诗人，还是旅行者、摄影师。多年以来，他游走于诗性的浪漫和数学的理性之间。而旅行则是连接感性与理性的桥梁，他的足迹遍及五大洲100多个国家和地区。数字、玫瑰和旅行在他的生命中不可或缺。\n",
    "《书旅人》内容简介：《书旅人》是作家歌手钟立风几年来阅读、旅行的际遇和感受。近百篇轻快随性的短文，充满灵感的跳动和平淡中的趣见。小钟迷走在自己的精神世界里，诚恳的思索，热烈的感受，音乐、文学、旅行、电影都是他“生命的需要”。读者与小钟之间，就像是偶然相遇的旅人，两人对饮一杯清酒，听他分享一个故事。在钟立风朴素而流丽的书写中，你找到了自己，我们认出了彼此。我们在读我们生活的故事，仿佛我们置身其中。\n",
    "《我不允许你独自旅行》内容简介：一个神经大条的酷女孩，吃住不挑，不做攻略，用实习和工作收入走过七大洲100多国，一路走来惊魂未定，却又荡漾着温暖。\n",
    "'''\n",
    "regax = r'((?m)(?<=《)[^《]+(?=》))'\n",
    "pattern = re.compile(regax)\n",
    "books = re.findall(pattern,string)\n",
    "# book1s = [j.replace('《','') for j in books]\n",
    "print(books)"
   ]
  },
  {
   "cell_type": "code",
   "execution_count": null,
   "metadata": {},
   "outputs": [],
   "source": []
  }
 ],
 "metadata": {
  "kernelspec": {
   "display_name": "Python 3",
   "language": "python",
   "name": "python3"
  },
  "language_info": {
   "codemirror_mode": {
    "name": "ipython",
    "version": 3
   },
   "file_extension": ".py",
   "mimetype": "text/x-python",
   "name": "python",
   "nbconvert_exporter": "python",
   "pygments_lexer": "ipython3",
   "version": "3.8.5"
  }
 },
 "nbformat": 4,
 "nbformat_minor": 4
}
