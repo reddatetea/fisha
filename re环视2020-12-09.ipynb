{
 "cells": [
  {
   "cell_type": "code",
   "execution_count": 1,
   "metadata": {},
   "outputs": [
    {
     "name": "stdout",
     "output_type": "stream",
     "text": [
      ",1,2,345\n"
     ]
    }
   ],
   "source": [
    "import re\n",
    "string = r'12345'\n",
    "replacement =','\n",
    "regex = r'(?=(\\d{3})+)'\n",
    "print(re.sub(regex,replacement,string))"
   ]
  },
  {
   "cell_type": "code",
   "execution_count": 5,
   "metadata": {},
   "outputs": [
    {
     "name": "stdout",
     "output_type": "stream",
     "text": [
      "12,345\n"
     ]
    }
   ],
   "source": [
    "import re\n",
    "string = r'12345'\n",
    "replacement =','\n",
    "regex = r'(?=(\\d{3})+(?!\\d))'\n",
    "print(re.sub(regex,replacement,string))"
   ]
  },
  {
   "cell_type": "code",
   "execution_count": 6,
   "metadata": {},
   "outputs": [
    {
     "name": "stdout",
     "output_type": "stream",
     "text": [
      ",123,456\n"
     ]
    }
   ],
   "source": [
    "import re\n",
    "string = r'123456'\n",
    "replacement =','\n",
    "regex = r'(?=(\\d{3})+(?!\\d))'\n",
    "print(re.sub(regex,replacement,string))"
   ]
  },
  {
   "cell_type": "code",
   "execution_count": 29,
   "metadata": {},
   "outputs": [
    {
     "name": "stdout",
     "output_type": "stream",
     "text": [
      "123,456\n"
     ]
    }
   ],
   "source": [
    "import re\n",
    "string = r'123456'\n",
    "replacement =','\n",
    "regex = r'(?<=\\d)(?=(\\d{3})+(?!\\d))'\n",
    "print(re.sub(regex,replacement,string))"
   ]
  },
  {
   "cell_type": "code",
   "execution_count": 13,
   "metadata": {},
   "outputs": [
    {
     "name": "stdout",
     "output_type": "stream",
     "text": [
      "中英文混排, some  English  word,有多余的空白字符\n"
     ]
    }
   ],
   "source": [
    "#去掉中英文混排文本中不必要的空白字符\n",
    "import re\n",
    "string = r'中 英文混排, some       English     word, 有多余的空 白字符'\n",
    "replacement =''\n",
    "regex = r'(?<![a-zA-Z])\\s+(?![a-zA-Z])'\n",
    "print(re.sub(regex,replacement,string))"
   ]
  },
  {
   "cell_type": "code",
   "execution_count": 26,
   "metadata": {},
   "outputs": [
    {
     "name": "stdout",
     "output_type": "stream",
     "text": [
      "<re.Match object; span=(0, 4), match='<sp>'>\n"
     ]
    }
   ],
   "source": [
    "#open tag <之后不能有\\ >之前不能有\\\n",
    "import re\n",
    "string = r'<span>'\n",
    "replacement =''\n",
    "regex =r'<(?!/)[^>]+(?<!/)>'\n",
    "print(re.search(regex,string))"
   ]
  },
  {
   "cell_type": "code",
   "execution_count": 9,
   "metadata": {},
   "outputs": [
    {
     "name": "stdout",
     "output_type": "stream",
     "text": [
      "<re.Match object; span=(0, 2), match='12'>\n"
     ]
    }
   ],
   "source": [
    "import re\n",
    "string = r'12345'\n",
    "replacement =','\n",
    "regex = r'.*(?=\\d{3})'\n",
    "print(re.search(regex,string))"
   ]
  },
  {
   "cell_type": "code",
   "execution_count": 11,
   "metadata": {},
   "outputs": [
    {
     "name": "stdout",
     "output_type": "stream",
     "text": [
      "<re.Match object; span=(0, 3), match='123'>\n"
     ]
    }
   ],
   "source": [
    "import re\n",
    "string = r'12345'\n",
    "replacement =','\n",
    "regex = r'.*?(?!\\d{3})'\n",
    "print(re.search(regex,string))"
   ]
  },
  {
   "cell_type": "code",
   "execution_count": 19,
   "metadata": {},
   "outputs": [
    {
     "name": "stdout",
     "output_type": "stream",
     "text": [
      "<re.Match object; span=(3, 5), match='45'>\n"
     ]
    }
   ],
   "source": [
    "import re\n",
    "string = r'12345'\n",
    "replacement =','\n",
    "regex = r'(?<=\\d{3}).*'\n",
    "print(re.search(regex,string))"
   ]
  },
  {
   "cell_type": "code",
   "execution_count": 36,
   "metadata": {},
   "outputs": [
    {
     "name": "stdout",
     "output_type": "stream",
     "text": [
      "<re.Match object; span=(0, 0), match=''>\n"
     ]
    }
   ],
   "source": [
    "import re\n",
    "string = r'12345'\n",
    "replacement =','\n",
    "regex = r'(?<!\\d{3}).*?'\n",
    "print(re.search(regex,string))"
   ]
  },
  {
   "cell_type": "code",
   "execution_count": null,
   "metadata": {},
   "outputs": [],
   "source": []
  }
 ],
 "metadata": {
  "kernelspec": {
   "display_name": "Python 3 (ipykernel)",
   "language": "python",
   "name": "python3"
  },
  "language_info": {
   "codemirror_mode": {
    "name": "ipython",
    "version": 3
   },
   "file_extension": ".py",
   "mimetype": "text/x-python",
   "name": "python",
   "nbconvert_exporter": "python",
   "pygments_lexer": "ipython3",
   "version": "3.11.5"
  }
 },
 "nbformat": 4,
 "nbformat_minor": 4
}
