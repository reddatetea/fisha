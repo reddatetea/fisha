{
 "cells": [
  {
   "cell_type": "code",
   "execution_count": 4,
   "id": "e8a439c6-322b-4020-ac51-9e997ff98a21",
   "metadata": {},
   "outputs": [
    {
     "data": {
      "text/plain": [
       "'OK'"
      ]
     },
     "execution_count": 4,
     "metadata": {},
     "output_type": "execute_result"
    }
   ],
   "source": [
    "'''\n",
    "家里和公司电脑通用，通过点选将要打包的程序、图标，生成完整的打包命令，自动粘贴到剪贴板上2024-5-13\n",
    "'''\n",
    "\n",
    "import os\n",
    "import shutil\n",
    "import pyperclip\n",
    "import easygui\n",
    "\n",
    "py_lst = ['bs4', 'docx','easygui', 'matplotlib', 'numpy', 'openpyxl', 'pandas', 'pdfplumber', 'pyperclip',\n",
    "                  'xlwings', 'xpinyin', 'yagmail']\n",
    "\n",
    "choice1 = easygui.buttonbox(msg='请选择打包的环境',choices=['34','38','311','312'])\n",
    "if choice1 == '34':\n",
    "    dabao_python = r'D:\\python34\\python32.exe'\n",
    "    dabao_pyinstall = r'D:\\python34\\Scripts\\pyinstaller-3.5\\pyinstaller.py'\n",
    "    upx_way = ''\n",
    "\n",
    "else :\n",
    "    dabao_python = f'D:\\python{choice1}\\Scripts\\pyinstaller.exe'\n",
    "    dabao_pyinstall = r''\n",
    "   \n",
    "\n",
    "ico = easygui.fileopenbox(msg='请点选ico图标文件')\n",
    "path,file=os.path.split(ico)\n",
    "os.chdir(path)\n",
    "pyfile = easygui.fileopenbox(msg='请点选要打包的py文件')\n",
    "file_way = r'-F -w -i'\n",
    "tmpdir_way = r'--runtime-tmpdir=..'\n",
    "#复制upx文件夹至要打包脚本所在文件夹\n",
    "source_path = r'F:\\a00nutstore\\yingyongchengxu\\upx-3.96-win64'\n",
    "target_path = os.path.join(path,os.path.split(source_path)[-1])\n",
    "if not os.path.exists(target_path):\n",
    "    # 如果目标路径不存在原文件夹的话就创建\n",
    "    os.makedirs(target_path)\n",
    "if os.path.exists(source_path):\n",
    "    # 如果目标路径存在原文件夹的话就先删除\n",
    "    shutil.rmtree(target_path,)\n",
    "shutil.copytree(source_path, target_path)\n",
    "upx_way = ''.join(['--upx-dir=',target_path])  #不能有空格''\n",
    "\n",
    "dll_exclus = ['vcruntime140.dll','ucrtbase.dll']\n",
    "upx_exclus = ' '.join(['--upx-exclude=' + j for j in dll_exclus])\n",
    "\n",
    "choice = easygui.boolbox(msg='是否要排除一些库', choices=['是Yes', '否No'])\n",
    "if choice == True:\n",
    "    py_used = easygui.multchoicebox(msg='请选择要打包脚本中使用的库', title='可多选', choices=py_lst)  # 3.10版本必须有title\n",
    "    paichus = list(set(py_lst) - set(py_used))\n",
    "    paichu = ' '.join(['--exclude-module=' + j for j in paichus])  # 排除的库\n",
    "else:\n",
    "    paichu = ''\n",
    "\n",
    "daobao_lst = [dabao_python,dabao_pyinstall,upx_way,upx_exclus,paichu,file_way,ico,tmpdir_way,pyfile]\n",
    "daobao_commond = ' '.join(daobao_lst)\n",
    "pyperclip.copy(daobao_commond)\n",
    "easygui.msgbox(msg='程序结束，请cmd到命令行模式，并cd进入到要打包脚本所在目录 粘贴后 运行')\n",
    "\n",
    "\n"
   ]
  },
  {
   "cell_type": "code",
   "execution_count": 5,
   "id": "134d5c76-f6e2-494f-be35-0e43200d163b",
   "metadata": {},
   "outputs": [],
   "source": [
    "source_path = r'F:\\a00nutsrore\\yingyongchengxu\\upx-3.96-win64'\n",
    "target_path = os.path.join(path,os.path.split(source_path)[-1])"
   ]
  },
  {
   "cell_type": "code",
   "execution_count": 6,
   "id": "61a7bfe5-846e-4f20-9ba4-d1f15a51f61d",
   "metadata": {},
   "outputs": [
    {
     "data": {
      "text/plain": [
       "'D:\\\\python38\\\\Scripts\\\\fayoujianqq\\\\upx-3.96-win64'"
      ]
     },
     "execution_count": 6,
     "metadata": {},
     "output_type": "execute_result"
    }
   ],
   "source": [
    "target_path "
   ]
  },
  {
   "cell_type": "code",
   "execution_count": 7,
   "id": "209fcd48-7730-48eb-86d3-0cbbe907a2f0",
   "metadata": {},
   "outputs": [
    {
     "data": {
      "text/plain": [
       "'D:\\\\python38\\\\Scripts\\\\fayoujianqq'"
      ]
     },
     "execution_count": 7,
     "metadata": {},
     "output_type": "execute_result"
    }
   ],
   "source": [
    "path"
   ]
  },
  {
   "cell_type": "code",
   "execution_count": null,
   "id": "4b131cc7-c56b-4956-9963-dab60357a6ce",
   "metadata": {},
   "outputs": [],
   "source": []
  }
 ],
 "metadata": {
  "kernelspec": {
   "display_name": "Python 3 (ipykernel)",
   "language": "python",
   "name": "python3"
  },
  "language_info": {
   "codemirror_mode": {
    "name": "ipython",
    "version": 3
   },
   "file_extension": ".py",
   "mimetype": "text/x-python",
   "name": "python",
   "nbconvert_exporter": "python",
   "pygments_lexer": "ipython3",
   "version": "3.11.5"
  }
 },
 "nbformat": 4,
 "nbformat_minor": 5
}
