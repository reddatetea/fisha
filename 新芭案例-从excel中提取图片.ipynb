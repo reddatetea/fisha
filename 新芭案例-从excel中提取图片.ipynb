{
 "cells": [
  {
   "cell_type": "code",
   "execution_count": 2,
   "id": "5c18cf19-8c92-454c-bd39-a9e739b1ea09",
   "metadata": {},
   "outputs": [],
   "source": [
    "import openpyxl as ope"
   ]
  },
  {
   "cell_type": "code",
   "execution_count": 3,
   "id": "a8ef71a3-7f49-4e32-9cab-00898434a8ee",
   "metadata": {},
   "outputs": [],
   "source": [
    "wb = ope.load_workbook('从excel中提取图片.xlsx')\n",
    "ws = wb.active"
   ]
  },
  {
   "cell_type": "code",
   "execution_count": 4,
   "id": "41a22b63",
   "metadata": {},
   "outputs": [
    {
     "data": {
      "text/plain": [
       "<openpyxl.drawing.image.Image at 0xa6107f0>"
      ]
     },
     "execution_count": 4,
     "metadata": {},
     "output_type": "execute_result"
    }
   ],
   "source": [
    "ws._images[0]"
   ]
  },
  {
   "cell_type": "code",
   "execution_count": 5,
   "id": "64e0603a",
   "metadata": {},
   "outputs": [],
   "source": [
    "data = ws._images[0]._data()"
   ]
  },
  {
   "cell_type": "code",
   "execution_count": 7,
   "id": "b0564769",
   "metadata": {},
   "outputs": [],
   "source": [
    "with open('从excel中提取的图片.png', 'wb') as img:\n",
    "    img.write(data)"
   ]
  },
  {
   "cell_type": "code",
   "execution_count": null,
   "id": "ca4bd2e4",
   "metadata": {},
   "outputs": [],
   "source": []
  }
 ],
 "metadata": {
  "celltoolbar": "无",
  "kernelspec": {
   "display_name": "Python 3 (ipykernel)",
   "language": "python",
   "name": "python3"
  },
  "language_info": {
   "codemirror_mode": {
    "name": "ipython",
    "version": 3
   },
   "file_extension": ".py",
   "mimetype": "text/x-python",
   "name": "python",
   "nbconvert_exporter": "python",
   "pygments_lexer": "ipython3",
   "version": "3.8.3"
  }
 },
 "nbformat": 4,
 "nbformat_minor": 5
}
