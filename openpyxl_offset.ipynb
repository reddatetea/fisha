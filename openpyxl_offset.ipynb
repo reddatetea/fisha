{
 "cells": [
  {
   "cell_type": "code",
   "execution_count": 1,
   "id": "50e90576",
   "metadata": {},
   "outputs": [],
   "source": [
    "import os\n",
    "import pandas as pd\n",
    "import openpyxl"
   ]
  },
  {
   "cell_type": "code",
   "execution_count": 8,
   "id": "1ee3f756",
   "metadata": {},
   "outputs": [],
   "source": [
    "fname = r'F:\\repos\\fish\\Chapter-12-5-1.xlsx'\n",
    "wb = openpyxl.load_workbook(fname)\n",
    "ws0 = wb['提成表']\n",
    "ws1 = wb['业绩表']"
   ]
  },
  {
   "cell_type": "code",
   "execution_count": 9,
   "id": "53e598c3",
   "metadata": {},
   "outputs": [],
   "source": [
    "lst = list(ws0.values)[1:]\n",
    "def query(num,iterable):\n",
    "    for item in iterable:\n",
    "        if num > item[0] and num <= item[1]:\n",
    "            return num*item[2]\n",
    "        \n",
    "        "
   ]
  },
  {
   "cell_type": "code",
   "execution_count": 14,
   "id": "a4215468",
   "metadata": {},
   "outputs": [],
   "source": [
    "for i in ws1['B'][1:]:\n",
    "    i.offset(0,1).value = query(i.value,lst)\n",
    "wb.save(fname)\n",
    "os.startfile(fname)"
   ]
  },
  {
   "cell_type": "code",
   "execution_count": null,
   "id": "c61b3cfd",
   "metadata": {},
   "outputs": [],
   "source": []
  }
 ],
 "metadata": {
  "kernelspec": {
   "display_name": "Python 3 (ipykernel)",
   "language": "python",
   "name": "python3"
  },
  "language_info": {
   "codemirror_mode": {
    "name": "ipython",
    "version": 3
   },
   "file_extension": ".py",
   "mimetype": "text/x-python",
   "name": "python",
   "nbconvert_exporter": "python",
   "pygments_lexer": "ipython3",
   "version": "3.8.3"
  }
 },
 "nbformat": 4,
 "nbformat_minor": 5
}
