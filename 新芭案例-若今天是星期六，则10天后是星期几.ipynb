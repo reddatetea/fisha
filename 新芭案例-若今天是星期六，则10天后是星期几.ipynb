{
 "cells": [
  {
   "cell_type": "code",
   "execution_count": 8,
   "id": "e7868d97-1278-424e-ac1d-13c2e911f26f",
   "metadata": {},
   "outputs": [
    {
     "data": {
      "text/plain": [
       "['星期一',\n",
       " '星期二',\n",
       " '星期三',\n",
       " '星期四',\n",
       " '星期五',\n",
       " '星期六',\n",
       " '星期日',\n",
       " '星期一',\n",
       " '星期二',\n",
       " '星期三',\n",
       " '星期四',\n",
       " '星期五',\n",
       " '星期六',\n",
       " '星期日',\n",
       " '星期一',\n",
       " '星期二',\n",
       " '星期三',\n",
       " '星期四',\n",
       " '星期五',\n",
       " '星期六',\n",
       " '星期日']"
      ]
     },
     "execution_count": 8,
     "metadata": {},
     "output_type": "execute_result"
    }
   ],
   "source": [
    "week_lst = [f'星期{i}' for i in '一二三四五六日']*3\n",
    "week_lst          \n",
    "          "
   ]
  },
  {
   "cell_type": "code",
   "execution_count": 9,
   "id": "ec4bf99e-e3df-4e12-84ce-9e5fac068005",
   "metadata": {},
   "outputs": [
    {
     "data": {
      "text/plain": [
       "15"
      ]
     },
     "execution_count": 9,
     "metadata": {},
     "output_type": "execute_result"
    }
   ],
   "source": [
    "ldx = week_lst.index('星期六') + 10\n",
    "ldx"
   ]
  },
  {
   "cell_type": "code",
   "execution_count": 10,
   "id": "cab41975-0b09-4d70-af19-fdc17263556e",
   "metadata": {},
   "outputs": [
    {
     "data": {
      "text/plain": [
       "'星期二'"
      ]
     },
     "execution_count": 10,
     "metadata": {},
     "output_type": "execute_result"
    }
   ],
   "source": [
    "week_lst[ldx]"
   ]
  },
  {
   "cell_type": "code",
   "execution_count": null,
   "id": "6e7258e8-b221-401d-9a70-13bc7127e7fe",
   "metadata": {},
   "outputs": [],
   "source": []
  }
 ],
 "metadata": {
  "kernelspec": {
   "display_name": "Python 3 (ipykernel)",
   "language": "python",
   "name": "python3"
  },
  "language_info": {
   "codemirror_mode": {
    "name": "ipython",
    "version": 3
   },
   "file_extension": ".py",
   "mimetype": "text/x-python",
   "name": "python",
   "nbconvert_exporter": "python",
   "pygments_lexer": "ipython3",
   "version": "3.9.13"
  }
 },
 "nbformat": 4,
 "nbformat_minor": 5
}
