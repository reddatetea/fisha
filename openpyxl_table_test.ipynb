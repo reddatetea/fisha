{
 "cells": [
  {
   "cell_type": "code",
   "execution_count": 1,
   "id": "9d199bd4",
   "metadata": {},
   "outputs": [],
   "source": [
    "import os\n",
    "import openpyxl"
   ]
  },
  {
   "cell_type": "code",
   "execution_count": 49,
   "id": "26d2f583",
   "metadata": {},
   "outputs": [],
   "source": [
    "fname = r'F:\\a00nutstore\\excelFiles\\sale - 副本.xlsx'\n",
    "path,_ = os.path.split(fname)\n",
    "os.chdir(path)\n",
    "sheetname = 'Sheet1'\n",
    "wb = openpyxl.load_workbook(fname)\n",
    "ws = wb[sheetname]\n",
    "myRange = 'A1:C11'"
   ]
  },
  {
   "cell_type": "code",
   "execution_count": 46,
   "id": "75dc65e1",
   "metadata": {},
   "outputs": [],
   "source": [
    "myTable21=openpyxl.worksheet.table.Table(displayName='myTable21',ref = myRange)\n",
    "# myStyle8=openpyxl.worksheet.table.TableStyleInfo(name='TableStyleMedium2',showRowStripes=True)\n",
    "\n",
    "myStyle21 =  openpyxl.worksheet.table.TableStyleInfo(name=\"TableStyleMedium21\", showFirstColumn=True,showLastColumn=True, showRowStripes=True, showColumnStripes=True)\n",
    "myTable.tableStyleInfo=myStyle21\n",
    "ws.add_table(myTable21)"
   ]
  },
  {
   "cell_type": "code",
   "execution_count": 47,
   "id": "5f8e49e7",
   "metadata": {},
   "outputs": [],
   "source": [
    "wb.save(fname)\n",
    "os.startfile(fname)"
   ]
  },
  {
   "cell_type": "code",
   "execution_count": 64,
   "id": "c6b33092",
   "metadata": {},
   "outputs": [],
   "source": [
    "from openpyxl import Workbook\n",
    "from openpyxl.worksheet.table import Table, TableStyleInfo\n",
    "\n",
    "wb = Workbook()\n",
    "ws = wb.active\n",
    "\n",
    "data = [\n",
    "    ['Apples', 10000, 5000, 8000, 6000],\n",
    "    ['Pears',   2000, 3000, 4000, 5000],\n",
    "    ['Bananas', 6000, 6000, 6500, 6000],\n",
    "    ['Oranges',  500,  300,  200,  700],\n",
    "]\n",
    "\n",
    "# add column headings. NB. these must be strings\n",
    "ws.append([\"Fruit\", \"2011\", \"2012\", \"2013\", \"2014\"])\n",
    "for row in data:\n",
    "    ws.append(row)\n",
    "\n",
    "tab = Table(displayName=\"Table1\", ref=\"A1:E5\")\n",
    "\n",
    "# Add a default style with striped rows and banded columns\n",
    "style = TableStyleInfo(name=\"TableStyleMedium9\", showFirstColumn=False,\n",
    "                       showLastColumn=False, showRowStripes=True, showColumnStripes=True)\n",
    "tab.tableStyleInfo = style\n",
    "\n",
    "'''\n",
    "Table must be added using ws.add_table() method to avoid duplicate names.\n",
    "Using this method ensures table name is unque through out defined names and all other table name. \n",
    "'''\n",
    "ws.add_table(tab)\n",
    "wb.save(\"table.xlsx\")"
   ]
  },
  {
   "cell_type": "code",
   "execution_count": 57,
   "id": "421cc2b6",
   "metadata": {},
   "outputs": [],
   "source": [
    "openpyxl.worksheet.table.TableStyleInfo*?"
   ]
  },
  {
   "cell_type": "code",
   "execution_count": null,
   "id": "06d53f81",
   "metadata": {},
   "outputs": [],
   "source": []
  }
 ],
 "metadata": {
  "kernelspec": {
   "display_name": "Python 3 (ipykernel)",
   "language": "python",
   "name": "python3"
  },
  "language_info": {
   "codemirror_mode": {
    "name": "ipython",
    "version": 3
   },
   "file_extension": ".py",
   "mimetype": "text/x-python",
   "name": "python",
   "nbconvert_exporter": "python",
   "pygments_lexer": "ipython3",
   "version": "3.8.3"
  }
 },
 "nbformat": 4,
 "nbformat_minor": 5
}
