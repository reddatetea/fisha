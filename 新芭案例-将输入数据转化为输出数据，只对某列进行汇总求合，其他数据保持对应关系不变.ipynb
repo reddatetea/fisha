{
 "cells": [
  {
   "cell_type": "code",
   "execution_count": 1,
   "id": "8544d1b7",
   "metadata": {},
   "outputs": [],
   "source": [
    "import pandas as pd"
   ]
  },
  {
   "cell_type": "code",
   "execution_count": 5,
   "id": "3a35e551",
   "metadata": {},
   "outputs": [
    {
     "data": {
      "text/html": [
       "<div>\n",
       "<style scoped>\n",
       "    .dataframe tbody tr th:only-of-type {\n",
       "        vertical-align: middle;\n",
       "    }\n",
       "\n",
       "    .dataframe tbody tr th {\n",
       "        vertical-align: top;\n",
       "    }\n",
       "\n",
       "    .dataframe thead th {\n",
       "        text-align: right;\n",
       "    }\n",
       "</style>\n",
       "<table border=\"1\" class=\"dataframe\">\n",
       "  <thead>\n",
       "    <tr style=\"text-align: right;\">\n",
       "      <th></th>\n",
       "      <th>编号</th>\n",
       "      <th>名称</th>\n",
       "      <th>名称2</th>\n",
       "      <th>在库数量</th>\n",
       "      <th>总数量</th>\n",
       "    </tr>\n",
       "  </thead>\n",
       "  <tbody>\n",
       "    <tr>\n",
       "      <th>0</th>\n",
       "      <td>A.001</td>\n",
       "      <td>xyz1</td>\n",
       "      <td>mnq1</td>\n",
       "      <td>100</td>\n",
       "      <td>1000</td>\n",
       "    </tr>\n",
       "    <tr>\n",
       "      <th>1</th>\n",
       "      <td>A.002</td>\n",
       "      <td>xyz2</td>\n",
       "      <td>mnq2</td>\n",
       "      <td>200</td>\n",
       "      <td>2000</td>\n",
       "    </tr>\n",
       "    <tr>\n",
       "      <th>2</th>\n",
       "      <td>A.003</td>\n",
       "      <td>xyz3</td>\n",
       "      <td>mnq3</td>\n",
       "      <td>300</td>\n",
       "      <td>3000</td>\n",
       "    </tr>\n",
       "    <tr>\n",
       "      <th>3</th>\n",
       "      <td>A.004</td>\n",
       "      <td>xyz4</td>\n",
       "      <td>mnq4</td>\n",
       "      <td>400</td>\n",
       "      <td>4000</td>\n",
       "    </tr>\n",
       "    <tr>\n",
       "      <th>4</th>\n",
       "      <td>A.005</td>\n",
       "      <td>xyz5</td>\n",
       "      <td>mnq5</td>\n",
       "      <td>500</td>\n",
       "      <td>5000</td>\n",
       "    </tr>\n",
       "    <tr>\n",
       "      <th>5</th>\n",
       "      <td>A.001</td>\n",
       "      <td>xyz1</td>\n",
       "      <td>mnq1</td>\n",
       "      <td>10</td>\n",
       "      <td>100</td>\n",
       "    </tr>\n",
       "    <tr>\n",
       "      <th>6</th>\n",
       "      <td>A.002</td>\n",
       "      <td>xyz2</td>\n",
       "      <td>mnq2</td>\n",
       "      <td>20</td>\n",
       "      <td>200</td>\n",
       "    </tr>\n",
       "    <tr>\n",
       "      <th>7</th>\n",
       "      <td>A.003</td>\n",
       "      <td>xyz3</td>\n",
       "      <td>mnq3</td>\n",
       "      <td>30</td>\n",
       "      <td>300</td>\n",
       "    </tr>\n",
       "  </tbody>\n",
       "</table>\n",
       "</div>"
      ],
      "text/plain": [
       "      编号    名称   名称2  在库数量   总数量\n",
       "0  A.001  xyz1  mnq1   100  1000\n",
       "1  A.002  xyz2  mnq2   200  2000\n",
       "2  A.003  xyz3  mnq3   300  3000\n",
       "3  A.004  xyz4  mnq4   400  4000\n",
       "4  A.005  xyz5  mnq5   500  5000\n",
       "5  A.001  xyz1  mnq1    10   100\n",
       "6  A.002  xyz2  mnq2    20   200\n",
       "7  A.003  xyz3  mnq3    30   300"
      ]
     },
     "execution_count": 5,
     "metadata": {},
     "output_type": "execute_result"
    }
   ],
   "source": [
    "df = pd.read_clipboard()\n",
    "df"
   ]
  },
  {
   "cell_type": "code",
   "execution_count": 6,
   "id": "a7d9a386",
   "metadata": {},
   "outputs": [
    {
     "data": {
      "text/html": [
       "<div>\n",
       "<style scoped>\n",
       "    .dataframe tbody tr th:only-of-type {\n",
       "        vertical-align: middle;\n",
       "    }\n",
       "\n",
       "    .dataframe tbody tr th {\n",
       "        vertical-align: top;\n",
       "    }\n",
       "\n",
       "    .dataframe thead th {\n",
       "        text-align: right;\n",
       "    }\n",
       "</style>\n",
       "<table border=\"1\" class=\"dataframe\">\n",
       "  <thead>\n",
       "    <tr style=\"text-align: right;\">\n",
       "      <th></th>\n",
       "      <th>编号</th>\n",
       "      <th>名称</th>\n",
       "      <th>名称2</th>\n",
       "      <th>在库数量</th>\n",
       "      <th>总数量</th>\n",
       "    </tr>\n",
       "  </thead>\n",
       "  <tbody>\n",
       "    <tr>\n",
       "      <th>0</th>\n",
       "      <td>A.001</td>\n",
       "      <td>xyz1</td>\n",
       "      <td>mnq1</td>\n",
       "      <td>110</td>\n",
       "      <td>1100</td>\n",
       "    </tr>\n",
       "    <tr>\n",
       "      <th>1</th>\n",
       "      <td>A.002</td>\n",
       "      <td>xyz2</td>\n",
       "      <td>mnq2</td>\n",
       "      <td>220</td>\n",
       "      <td>2200</td>\n",
       "    </tr>\n",
       "    <tr>\n",
       "      <th>2</th>\n",
       "      <td>A.003</td>\n",
       "      <td>xyz3</td>\n",
       "      <td>mnq3</td>\n",
       "      <td>330</td>\n",
       "      <td>3300</td>\n",
       "    </tr>\n",
       "    <tr>\n",
       "      <th>3</th>\n",
       "      <td>A.004</td>\n",
       "      <td>xyz4</td>\n",
       "      <td>mnq4</td>\n",
       "      <td>400</td>\n",
       "      <td>4000</td>\n",
       "    </tr>\n",
       "    <tr>\n",
       "      <th>4</th>\n",
       "      <td>A.005</td>\n",
       "      <td>xyz5</td>\n",
       "      <td>mnq5</td>\n",
       "      <td>500</td>\n",
       "      <td>5000</td>\n",
       "    </tr>\n",
       "  </tbody>\n",
       "</table>\n",
       "</div>"
      ],
      "text/plain": [
       "      编号    名称   名称2  在库数量   总数量\n",
       "0  A.001  xyz1  mnq1   110  1100\n",
       "1  A.002  xyz2  mnq2   220  2200\n",
       "2  A.003  xyz3  mnq3   330  3300\n",
       "3  A.004  xyz4  mnq4   400  4000\n",
       "4  A.005  xyz5  mnq5   500  5000"
      ]
     },
     "execution_count": 6,
     "metadata": {},
     "output_type": "execute_result"
    }
   ],
   "source": [
    "df.groupby(df.columns[:3].to_list(),as_index = False).sum()"
   ]
  },
  {
   "cell_type": "code",
   "execution_count": 4,
   "id": "45351e62",
   "metadata": {},
   "outputs": [
    {
     "data": {
      "text/plain": [
       "['编号', '名称', '名称2']"
      ]
     },
     "execution_count": 4,
     "metadata": {},
     "output_type": "execute_result"
    }
   ],
   "source": [
    "df.columns[:3].to_list()"
   ]
  },
  {
   "cell_type": "code",
   "execution_count": null,
   "id": "7c8bb8c9",
   "metadata": {},
   "outputs": [],
   "source": []
  }
 ],
 "metadata": {
  "kernelspec": {
   "display_name": "Python 3 (ipykernel)",
   "language": "python",
   "name": "python3"
  },
  "language_info": {
   "codemirror_mode": {
    "name": "ipython",
    "version": 3
   },
   "file_extension": ".py",
   "mimetype": "text/x-python",
   "name": "python",
   "nbconvert_exporter": "python",
   "pygments_lexer": "ipython3",
   "version": "3.9.13"
  }
 },
 "nbformat": 4,
 "nbformat_minor": 5
}
