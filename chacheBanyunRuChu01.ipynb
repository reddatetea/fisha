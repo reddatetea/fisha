{
 "cells": [
  {
   "cell_type": "code",
   "execution_count": null,
   "id": "9080ac1b-8a95-4dbc-89f6-198cd7e264cd",
   "metadata": {},
   "outputs": [],
   "source": [
    "'''\n",
    "对叉车的搬运的工时进行统计\n",
    "'''\n",
    "import re\n",
    "import os\n",
    "import easygui\n",
    "import numpy as np\n",
    "import pandas as pd\n",
    "import openpyxl\n",
    "\n",
    "YUANGONGS =  ['刘革红', '黄康', '吴长江', '李城', '胡国华', '代朝威']\n",
    "dic_columns = {'fapei':'项目','date': '日期',\n",
    " 'chejian': '车间',\n",
    " 'jian': '件数1',\n",
    " 'gongzhong': '工种',\n",
    " 'gongzhong1': '工种1',\n",
    " 'people': '人员',\n",
    " 'jian2': '件数2'}"
   ]
  },
  {
   "cell_type": "code",
   "execution_count": null,
   "id": "d2390f49-94c7-489d-82e6-a1eb81b9911d",
   "metadata": {},
   "outputs": [],
   "source": [
    "def chuliRuChu(ruchu,fname):\n",
    "    # fname = r\"F:\\a00nutstore\\006\\zw\\产成品出入库工作记录\\仓库日常入库工作记录.xlsx\"\n",
    "    df = pd.read_excel(fname,header = 1)\n",
    "    df = df.rename(columns = {'货物数量（件）':'jian','货物件数':'jian','日期':'date','车间':'address','单位名称':'address'})\n",
    "    df = df[[i  for i  in  df.columns.to_list() if (i != '货物数量(托)') and  (i != '序号') and ('Unnamed' not in i)]]\n",
    "    #删除空行\n",
    "    df = df[df['jian'].notna()]\n",
    "    df = df.set_index(['date','address','jian'])\n",
    "    df = df.stack()\n",
    "    df = df.reset_index()\n",
    "    df.columns = ['date','chejian','jian','gongzhong','people']\n",
    "    df = df[df.people.isin(YUANGONGS)]\n",
    "    df.gongzhong = df.gongzhong.str.replace('\\d+','',regex = True)\n",
    "    data = []\n",
    "    gp = df.groupby(['date','chejian','jian','gongzhong'])\n",
    "    for k,v in gp:\n",
    "        v = v.assign(jian2 = v.jian/len(v))\n",
    "        data.append(v)\n",
    "    yuanbiao = pd.concat(data)\n",
    "    #原表\n",
    "    # df5.to_excel(f'叉车搬运工时加工后{ruku}原表01.xlsx',index = False)\n",
    "    df6 = yuanbiao.assign(fapei = yuanbiao.gongzhong.str[:2],gongzhong1 = yuanbiao.gongzhong.str[2:])\n",
    "    df6 = df6[[ 'fapei',\n",
    "       'gongzhong1','people', 'jian2']]\n",
    "    pivot = pd.pivot_table(df6,index = ['fapei','gongzhong1','people'],aggfunc = sum)\n",
    "    pivot1 = pd.pivot_table(df6,index = 'people',columns = ['fapei','gongzhong1'],aggfunc = sum)\n",
    "    return yuanbiao,df6,pivot1\n",
    "      \n"
   ]
  },
  {
   "cell_type": "code",
   "execution_count": null,
   "id": "5baba943-c8fc-4c73-86ab-377ce846ea87",
   "metadata": {},
   "outputs": [],
   "source": [
    "path = r\"F:\\a00nutstore\\006\\zw\\产成品出入库工作记录\"\n",
    "os.chdir(path)\n",
    "lst = os.listdir(path)\n",
    "def chuliColumnName(df,dic_columns):\n",
    "    df = df.rename(columns = dic_columns)\n",
    "    return df\n",
    "\n",
    "for file in lst:\n",
    "    if file == '仓库日常入库工作记录.xlsx':\n",
    "        ruchu = '入库'\n",
    "        fname = os.path.join(path,file)\n",
    "        yuanbiao_ruku,df_ruku,pivot_ruku = chuliRuChu(ruchu,fname)\n",
    "        yuanbiao_ruku = chuliColumnName(yuanbiao_ruku,dic_columns)\n",
    "        df_ruku = chuliColumnName(df_ruku,dic_columns)\n",
    "        pivot_ruku1 = pd.pivot_table(df_ruku,index = '人员',columns = ['项目','工种1'],aggfunc = sum,margins = True,margins_name = '小计')\n",
    "        \n",
    "    elif file == '仓库日常出库工作记录.xlsx':\n",
    "        ruchu = '出库'\n",
    "        fname = os.path.join(path,file)\n",
    "        yuanbiao_chuku,df_chuku,pivot_chuku = chuliRuChu(ruchu,fname)\n",
    "        yuanbiao_chuku = chuliColumnName(yuanbiao_chuku,dic_columns)\n",
    "        yuanbiao_chuku = yuanbiao_chuku.rename(columns = {'车间':'客户'})\n",
    "        df_chuku = chuliColumnName(df_chuku,dic_columns)\n",
    "        df_chuku = df_chuku.rename(columns = {'车间':'客户'})\n",
    "        pivot_chuku1 = pd.pivot_table(df_chuku,index = '人员',columns = ['项目','工种1'],aggfunc = sum,margins = True,margins_name = '小计')\n",
    "    else :\n",
    "        continue\n",
    "        "
   ]
  },
  {
   "cell_type": "code",
   "execution_count": null,
   "id": "c4e2ad99-01f1-4864-83fb-580960ec05aa",
   "metadata": {},
   "outputs": [],
   "source": [
    "total = pd.concat([df_ruku,df_chuku])\n",
    "total = total.rename(columns = {'fapei':'项目','gongzhong1':'工种','people':'人员','jian2':'件数'})\n",
    "total = total.astype({'件数2':'int'})\n",
    "pivot= pd.pivot_table(total,index = '人员',columns = ['项目','工种1'],aggfunc = sum,margins = True,margins_name = '小计')\n",
    "pivot"
   ]
  },
  {
   "cell_type": "code",
   "execution_count": null,
   "id": "c7d73ea9-a641-4cb1-a834-4eb51e3c8a50",
   "metadata": {},
   "outputs": [],
   "source": [
    "fname_result = os.path.join(path,'叉车搬运工时统计表.xlsx')\n",
    "wb = openpyxl.Workbook()\n",
    "wb.save(fname_result)\n",
    "with pd.ExcelWriter(fname_result, engine='openpyxl',mode='a', if_sheet_exists='overlay')  as writer:\n",
    "    yuanbiao_ruku.to_excel(writer, sheet_name = '入库原表1',index = False)\n",
    "    df_ruku.to_excel(writer, sheet_name = '入库原表2',index = False)\n",
    "    pivot_ruku1.to_excel(writer,sheet_name = '入库汇总')\n",
    "    yuanbiao_chuku.to_excel(writer, sheet_name = '出库原表1',index = False)\n",
    "    df_chuku.to_excel(writer, sheet_name = '出库原表2',index = False)\n",
    "    pivot_chuku1.to_excel(writer,sheet_name = '出库汇总')\n",
    "    pivot.to_excel(writer,sheet_name = '汇总')\n",
    "    \n",
    "os.startfile(fname_result)"
   ]
  },
  {
   "cell_type": "code",
   "execution_count": null,
   "id": "5b1bc6b1-2dbc-429d-a566-007d28b0ca21",
   "metadata": {},
   "outputs": [],
   "source": []
  },
  {
   "cell_type": "code",
   "execution_count": null,
   "id": "f8d3df8c-9415-4c6a-b51d-9244b4242932",
   "metadata": {},
   "outputs": [],
   "source": []
  }
 ],
 "metadata": {
  "kernelspec": {
   "display_name": "Python 3 (ipykernel)",
   "language": "python",
   "name": "python3"
  },
  "language_info": {
   "codemirror_mode": {
    "name": "ipython",
    "version": 3
   },
   "file_extension": ".py",
   "mimetype": "text/x-python",
   "name": "python",
   "nbconvert_exporter": "python",
   "pygments_lexer": "ipython3",
   "version": "3.11.5"
  }
 },
 "nbformat": 4,
 "nbformat_minor": 5
}
