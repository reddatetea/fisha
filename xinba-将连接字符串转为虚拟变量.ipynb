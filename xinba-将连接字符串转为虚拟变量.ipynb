{
 "cells": [
  {
   "cell_type": "code",
   "execution_count": 1,
   "id": "77a39d2b",
   "metadata": {},
   "outputs": [],
   "source": [
    "from io import StringIO\n",
    "import pandas as pd"
   ]
  },
  {
   "cell_type": "code",
   "execution_count": 2,
   "id": "65a4f3d0",
   "metadata": {},
   "outputs": [
    {
     "data": {
      "text/html": [
       "<div>\n",
       "<style scoped>\n",
       "    .dataframe tbody tr th:only-of-type {\n",
       "        vertical-align: middle;\n",
       "    }\n",
       "\n",
       "    .dataframe tbody tr th {\n",
       "        vertical-align: top;\n",
       "    }\n",
       "\n",
       "    .dataframe thead th {\n",
       "        text-align: right;\n",
       "    }\n",
       "</style>\n",
       "<table border=\"1\" class=\"dataframe\">\n",
       "  <thead>\n",
       "    <tr style=\"text-align: right;\">\n",
       "      <th></th>\n",
       "      <th>投票区</th>\n",
       "      <th>vote_code</th>\n",
       "    </tr>\n",
       "  </thead>\n",
       "  <tbody>\n",
       "    <tr>\n",
       "      <th>0</th>\n",
       "      <td>A选区</td>\n",
       "      <td>S5.S17.S6</td>\n",
       "    </tr>\n",
       "    <tr>\n",
       "      <th>1</th>\n",
       "      <td>B选区</td>\n",
       "      <td>S6.S9</td>\n",
       "    </tr>\n",
       "    <tr>\n",
       "      <th>2</th>\n",
       "      <td>C选区</td>\n",
       "      <td>S21.S5.S17</td>\n",
       "    </tr>\n",
       "  </tbody>\n",
       "</table>\n",
       "</div>"
      ],
      "text/plain": [
       "   投票区   vote_code\n",
       "0  A选区   S5.S17.S6\n",
       "1  B选区       S6.S9\n",
       "2  C选区  S21.S5.S17"
      ]
     },
     "execution_count": 2,
     "metadata": {},
     "output_type": "execute_result"
    }
   ],
   "source": [
    "data = '''\n",
    "投票区  vote_code\n",
    "A选区   S5.S17.S6\n",
    "B选区       S6.S9\n",
    "C选区  S21.S5.S17\n",
    "'''\n",
    "\n",
    "df = pd.read_csv(StringIO(data), delim_whitespace=True)\n",
    "df"
   ]
  },
  {
   "cell_type": "code",
   "execution_count": 3,
   "id": "c82187c5",
   "metadata": {},
   "outputs": [
    {
     "data": {
      "text/plain": [
       "0     [S5, S17, S6]\n",
       "1          [S6, S9]\n",
       "2    [S21, S5, S17]\n",
       "Name: vote_code, dtype: object"
      ]
     },
     "execution_count": 3,
     "metadata": {},
     "output_type": "execute_result"
    }
   ],
   "source": [
    "(\n",
    "    df.vote_code\n",
    "    .str.split('.')\n",
    ")"
   ]
  },
  {
   "cell_type": "code",
   "execution_count": 4,
   "id": "a389776c",
   "metadata": {},
   "outputs": [
    {
     "data": {
      "text/plain": [
       "0     S5\n",
       "0    S17\n",
       "0     S6\n",
       "1     S6\n",
       "1     S9\n",
       "2    S21\n",
       "2     S5\n",
       "2    S17\n",
       "Name: vote_code, dtype: object"
      ]
     },
     "execution_count": 4,
     "metadata": {},
     "output_type": "execute_result"
    }
   ],
   "source": [
    "(\n",
    "    df.vote_code\n",
    "    .str.split('.')\n",
    "    .explode()\n",
    ")"
   ]
  },
  {
   "cell_type": "code",
   "execution_count": 5,
   "id": "72a921f3",
   "metadata": {},
   "outputs": [
    {
     "data": {
      "text/plain": [
       "'\\n   S17  S21  S5  S6  S9\\n0    0    0   1   0   0\\n0    1    0   0   0   0\\n0    0    0   0   1   0\\n1    0    0   0   1   0\\n1    0    0   0   0   1\\n2    0    1   0   0   0\\n2    0    0   1   0   0\\n2    1    0   0   0   0\\n'"
      ]
     },
     "execution_count": 5,
     "metadata": {},
     "output_type": "execute_result"
    }
   ],
   "source": [
    "(\n",
    "    df.vote_code\n",
    "    .str.split('.')\n",
    "    .explode()\n",
    "    .pipe(pd.get_dummies)\n",
    ")\n",
    "'''\n",
    "   S17  S21  S5  S6  S9\n",
    "0    0    0   1   0   0\n",
    "0    1    0   0   0   0\n",
    "0    0    0   0   1   0\n",
    "1    0    0   0   1   0\n",
    "1    0    0   0   0   1\n",
    "2    0    1   0   0   0\n",
    "2    0    0   1   0   0\n",
    "2    1    0   0   0   0\n",
    "'''"
   ]
  },
  {
   "cell_type": "code",
   "execution_count": 6,
   "id": "89f8b02e",
   "metadata": {},
   "outputs": [
    {
     "data": {
      "text/html": [
       "<div>\n",
       "<style scoped>\n",
       "    .dataframe tbody tr th:only-of-type {\n",
       "        vertical-align: middle;\n",
       "    }\n",
       "\n",
       "    .dataframe tbody tr th {\n",
       "        vertical-align: top;\n",
       "    }\n",
       "\n",
       "    .dataframe thead th {\n",
       "        text-align: right;\n",
       "    }\n",
       "</style>\n",
       "<table border=\"1\" class=\"dataframe\">\n",
       "  <thead>\n",
       "    <tr style=\"text-align: right;\">\n",
       "      <th></th>\n",
       "      <th>S17</th>\n",
       "      <th>S21</th>\n",
       "      <th>S5</th>\n",
       "      <th>S6</th>\n",
       "      <th>S9</th>\n",
       "    </tr>\n",
       "  </thead>\n",
       "  <tbody>\n",
       "    <tr>\n",
       "      <th>0</th>\n",
       "      <td>1</td>\n",
       "      <td>0</td>\n",
       "      <td>1</td>\n",
       "      <td>1</td>\n",
       "      <td>0</td>\n",
       "    </tr>\n",
       "    <tr>\n",
       "      <th>1</th>\n",
       "      <td>0</td>\n",
       "      <td>0</td>\n",
       "      <td>0</td>\n",
       "      <td>1</td>\n",
       "      <td>1</td>\n",
       "    </tr>\n",
       "    <tr>\n",
       "      <th>2</th>\n",
       "      <td>1</td>\n",
       "      <td>1</td>\n",
       "      <td>1</td>\n",
       "      <td>0</td>\n",
       "      <td>0</td>\n",
       "    </tr>\n",
       "  </tbody>\n",
       "</table>\n",
       "</div>"
      ],
      "text/plain": [
       "   S17  S21  S5  S6  S9\n",
       "0    1    0   1   1   0\n",
       "1    0    0   0   1   1\n",
       "2    1    1   1   0   0"
      ]
     },
     "execution_count": 6,
     "metadata": {},
     "output_type": "execute_result"
    }
   ],
   "source": [
    "(\n",
    "    df.vote_code\n",
    "    .str.split('.')\n",
    "    .explode()\n",
    "    .pipe(pd.get_dummies)\n",
    "    .groupby(level=0).sum()\n",
    ")"
   ]
  },
  {
   "cell_type": "code",
   "execution_count": 7,
   "id": "ef42947c",
   "metadata": {},
   "outputs": [
    {
     "data": {
      "text/html": [
       "<div>\n",
       "<style scoped>\n",
       "    .dataframe tbody tr th:only-of-type {\n",
       "        vertical-align: middle;\n",
       "    }\n",
       "\n",
       "    .dataframe tbody tr th {\n",
       "        vertical-align: top;\n",
       "    }\n",
       "\n",
       "    .dataframe thead th {\n",
       "        text-align: right;\n",
       "    }\n",
       "</style>\n",
       "<table border=\"1\" class=\"dataframe\">\n",
       "  <thead>\n",
       "    <tr style=\"text-align: right;\">\n",
       "      <th></th>\n",
       "      <th>投票区</th>\n",
       "      <th>vote_code</th>\n",
       "      <th>S17</th>\n",
       "      <th>S21</th>\n",
       "      <th>S5</th>\n",
       "      <th>S6</th>\n",
       "      <th>S9</th>\n",
       "    </tr>\n",
       "  </thead>\n",
       "  <tbody>\n",
       "    <tr>\n",
       "      <th>0</th>\n",
       "      <td>A选区</td>\n",
       "      <td>S5.S17.S6</td>\n",
       "      <td>1</td>\n",
       "      <td>0</td>\n",
       "      <td>1</td>\n",
       "      <td>1</td>\n",
       "      <td>0</td>\n",
       "    </tr>\n",
       "    <tr>\n",
       "      <th>1</th>\n",
       "      <td>B选区</td>\n",
       "      <td>S6.S9</td>\n",
       "      <td>0</td>\n",
       "      <td>0</td>\n",
       "      <td>0</td>\n",
       "      <td>1</td>\n",
       "      <td>1</td>\n",
       "    </tr>\n",
       "    <tr>\n",
       "      <th>2</th>\n",
       "      <td>C选区</td>\n",
       "      <td>S21.S5.S17</td>\n",
       "      <td>1</td>\n",
       "      <td>1</td>\n",
       "      <td>1</td>\n",
       "      <td>0</td>\n",
       "      <td>0</td>\n",
       "    </tr>\n",
       "  </tbody>\n",
       "</table>\n",
       "</div>"
      ],
      "text/plain": [
       "   投票区   vote_code  S17  S21  S5  S6  S9\n",
       "0  A选区   S5.S17.S6    1    0   1   1   0\n",
       "1  B选区       S6.S9    0    0   0   1   1\n",
       "2  C选区  S21.S5.S17    1    1   1   0   0"
      ]
     },
     "execution_count": 7,
     "metadata": {},
     "output_type": "execute_result"
    }
   ],
   "source": [
    "(\n",
    "    df.vote_code\n",
    "    .str.split('.')\n",
    "    .explode()\n",
    "    .pipe(pd.get_dummies)\n",
    "    .groupby(level=0).sum()\n",
    "    .pipe(df.join)\n",
    ")"
   ]
  },
  {
   "cell_type": "code",
   "execution_count": null,
   "id": "5aed95e3",
   "metadata": {},
   "outputs": [],
   "source": []
  }
 ],
 "metadata": {
  "kernelspec": {
   "display_name": "Python 3 (ipykernel)",
   "language": "python",
   "name": "python3"
  },
  "language_info": {
   "codemirror_mode": {
    "name": "ipython",
    "version": 3
   },
   "file_extension": ".py",
   "mimetype": "text/x-python",
   "name": "python",
   "nbconvert_exporter": "python",
   "pygments_lexer": "ipython3",
   "version": "3.9.13"
  }
 },
 "nbformat": 4,
 "nbformat_minor": 5
}
