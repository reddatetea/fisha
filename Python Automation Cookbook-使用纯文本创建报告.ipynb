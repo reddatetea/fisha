{
 "cells": [
  {
   "cell_type": "code",
   "execution_count": 4,
   "id": "719d9aba",
   "metadata": {},
   "outputs": [],
   "source": [
    "from datetime import datetime"
   ]
  },
  {
   "cell_type": "code",
   "execution_count": 5,
   "id": "b72d18ce",
   "metadata": {},
   "outputs": [],
   "source": [
    "TEMPLATE  = '''\n",
    "Movies report\n",
    "-------------\n",
    "\n",
    "Date:{date}\n",
    "Movies seen in the last 30 days:{num_movies}\n",
    "Total minutes:{total_minutes}\n",
    "'''\n",
    "\n",
    "data = {\n",
    "    'date':datetime.utcnow(),\n",
    "    'num_movies':3,\n",
    "    'total_minutes':376\n",
    "}\n"
   ]
  },
  {
   "cell_type": "code",
   "execution_count": 6,
   "id": "446428fa",
   "metadata": {},
   "outputs": [],
   "source": [
    "report = TEMPLATE.format(**data)"
   ]
  },
  {
   "cell_type": "code",
   "execution_count": 7,
   "id": "7825fb6e",
   "metadata": {},
   "outputs": [
    {
     "data": {
      "text/plain": [
       "'\\nMovies report\\n-------------\\n\\nDate:2023-08-29 07:35:30.161000\\nMovies seen in the last 30 days:3\\nTotal minutes:376\\n'"
      ]
     },
     "execution_count": 7,
     "metadata": {},
     "output_type": "execute_result"
    }
   ],
   "source": [
    "report"
   ]
  },
  {
   "cell_type": "code",
   "execution_count": 8,
   "id": "0ddecaba",
   "metadata": {},
   "outputs": [
    {
     "data": {
      "text/plain": [
       "'2023-08-29_report.txt'"
      ]
     },
     "execution_count": 8,
     "metadata": {},
     "output_type": "execute_result"
    }
   ],
   "source": [
    "FILENAME_TMPL = '{date}_report.txt'\n",
    "filename = FILENAME_TMPL.format(date = data['date'].strftime('%Y-%m-%d'))\n",
    "filename"
   ]
  },
  {
   "cell_type": "code",
   "execution_count": 9,
   "id": "52482fbe",
   "metadata": {},
   "outputs": [],
   "source": [
    "with open(filename,'w') as file:\n",
    "    file.write(report)"
   ]
  },
  {
   "cell_type": "code",
   "execution_count": 10,
   "id": "0b5c82b4",
   "metadata": {},
   "outputs": [
    {
     "ename": "SyntaxError",
     "evalue": "invalid syntax (2475038601.py, line 1)",
     "output_type": "error",
     "traceback": [
      "\u001b[1;36m  Input \u001b[1;32mIn [10]\u001b[1;36m\u001b[0m\n\u001b[1;33m    cat 2023-08-29_report.txt\u001b[0m\n\u001b[1;37m        ^\u001b[0m\n\u001b[1;31mSyntaxError\u001b[0m\u001b[1;31m:\u001b[0m invalid syntax\n"
     ]
    }
   ],
   "source": [
    "cat 2023-08-29_report.txt\n"
   ]
  },
  {
   "cell_type": "code",
   "execution_count": null,
   "id": "8a278e7a",
   "metadata": {},
   "outputs": [],
   "source": []
  }
 ],
 "metadata": {
  "kernelspec": {
   "display_name": "Python 3 (ipykernel)",
   "language": "python",
   "name": "python3"
  },
  "language_info": {
   "codemirror_mode": {
    "name": "ipython",
    "version": 3
   },
   "file_extension": ".py",
   "mimetype": "text/x-python",
   "name": "python",
   "nbconvert_exporter": "python",
   "pygments_lexer": "ipython3",
   "version": "3.8.3"
  }
 },
 "nbformat": 4,
 "nbformat_minor": 5
}
