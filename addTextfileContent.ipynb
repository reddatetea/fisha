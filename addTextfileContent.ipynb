{
 "cells": [
  {
   "cell_type": "code",
   "execution_count": null,
   "id": "2914bf86-d684-4174-9fc6-da4d8a0c297a",
   "metadata": {},
   "outputs": [],
   "source": [
    "def append_file_content(source_file_path, target_file_path):\n",
    "    # 使用 with 语句打开源文件，以只读方式读取内容\n",
    "    with open(source_file_path, 'r') as source_file:\n",
    "        # 读取源文件的内容\n",
    "        content_to_append = source_file.read()\n",
    "\n",
    "    # 使用 with 语句打开目标文件，以追加方式打开\n",
    "    with open(target_file_path, 'a') as target_file:\n",
    "        # 将源文件的内容追加到目标文件中\n",
    "        target_file.write(content_to_append)\n",
    "\n",
    "\n",
    "# 调用函数进行文件内容追加\n",
    "append_file_content('source.txt', 'target.txt')"
   ]
  }
 ],
 "metadata": {
  "kernelspec": {
   "display_name": "Python 3 (ipykernel)",
   "language": "python",
   "name": "python3"
  },
  "language_info": {
   "codemirror_mode": {
    "name": "ipython",
    "version": 3
   },
   "file_extension": ".py",
   "mimetype": "text/x-python",
   "name": "python",
   "nbconvert_exporter": "python",
   "pygments_lexer": "ipython3",
   "version": "3.11.5"
  }
 },
 "nbformat": 4,
 "nbformat_minor": 5
}
