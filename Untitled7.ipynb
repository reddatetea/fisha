{
 "cells": [
  {
   "cell_type": "code",
   "execution_count": 1,
   "id": "9f3664c8-cf05-44e0-9405-056dae8ee6d2",
   "metadata": {},
   "outputs": [
    {
     "ename": "AttributeError",
     "evalue": "'DataFrame' object has no attribute 'map'",
     "output_type": "error",
     "traceback": [
      "\u001b[1;31m---------------------------------------------------------------------------\u001b[0m",
      "\u001b[1;31mAttributeError\u001b[0m                            Traceback (most recent call last)",
      "Cell \u001b[1;32mIn[1], line 26\u001b[0m\n\u001b[0;32m     23\u001b[0m     cell\u001b[38;5;241m.\u001b[39mfill \u001b[38;5;241m=\u001b[39m yellow_fill\n\u001b[0;32m     25\u001b[0m \u001b[38;5;66;03m# 应用修改样式\u001b[39;00m\n\u001b[1;32m---> 26\u001b[0m \u001b[43mdf\u001b[49m\u001b[38;5;241;43m.\u001b[39;49m\u001b[43mmap\u001b[49m(modify_style)\n\u001b[0;32m     28\u001b[0m \u001b[38;5;66;03m# 保存修改后的 Excel 文件\u001b[39;00m\n\u001b[0;32m     29\u001b[0m workbook\u001b[38;5;241m.\u001b[39msave(\u001b[38;5;124m'\u001b[39m\u001b[38;5;124mteam_formatted.xlsx\u001b[39m\u001b[38;5;124m'\u001b[39m)\n",
      "File \u001b[1;32m~\\.conda\\envs\\py311\\Lib\\site-packages\\pandas\\core\\generic.py:5902\u001b[0m, in \u001b[0;36mNDFrame.__getattr__\u001b[1;34m(self, name)\u001b[0m\n\u001b[0;32m   5895\u001b[0m \u001b[38;5;28;01mif\u001b[39;00m (\n\u001b[0;32m   5896\u001b[0m     name \u001b[38;5;129;01mnot\u001b[39;00m \u001b[38;5;129;01min\u001b[39;00m \u001b[38;5;28mself\u001b[39m\u001b[38;5;241m.\u001b[39m_internal_names_set\n\u001b[0;32m   5897\u001b[0m     \u001b[38;5;129;01mand\u001b[39;00m name \u001b[38;5;129;01mnot\u001b[39;00m \u001b[38;5;129;01min\u001b[39;00m \u001b[38;5;28mself\u001b[39m\u001b[38;5;241m.\u001b[39m_metadata\n\u001b[0;32m   5898\u001b[0m     \u001b[38;5;129;01mand\u001b[39;00m name \u001b[38;5;129;01mnot\u001b[39;00m \u001b[38;5;129;01min\u001b[39;00m \u001b[38;5;28mself\u001b[39m\u001b[38;5;241m.\u001b[39m_accessors\n\u001b[0;32m   5899\u001b[0m     \u001b[38;5;129;01mand\u001b[39;00m \u001b[38;5;28mself\u001b[39m\u001b[38;5;241m.\u001b[39m_info_axis\u001b[38;5;241m.\u001b[39m_can_hold_identifiers_and_holds_name(name)\n\u001b[0;32m   5900\u001b[0m ):\n\u001b[0;32m   5901\u001b[0m     \u001b[38;5;28;01mreturn\u001b[39;00m \u001b[38;5;28mself\u001b[39m[name]\n\u001b[1;32m-> 5902\u001b[0m \u001b[38;5;28;01mreturn\u001b[39;00m \u001b[38;5;28;43mobject\u001b[39;49m\u001b[38;5;241;43m.\u001b[39;49m\u001b[38;5;21;43m__getattribute__\u001b[39;49m\u001b[43m(\u001b[49m\u001b[38;5;28;43mself\u001b[39;49m\u001b[43m,\u001b[49m\u001b[43m \u001b[49m\u001b[43mname\u001b[49m\u001b[43m)\u001b[49m\n",
      "\u001b[1;31mAttributeError\u001b[0m: 'DataFrame' object has no attribute 'map'"
     ]
    }
   ],
   "source": [
    "from openpyxl import load_workbook\n",
    "from openpyxl.styles import Font, PatternFill, colors\n",
    "import pandas as pd\n",
    "\n",
    "# 加载 Excel 文件\n",
    "# 文件下载 https://gairuo.com/file/data/team.xlsx\n",
    "workbook = load_workbook('team.xlsx')\n",
    "\n",
    "# 选择工作表\n",
    "sheet = workbook.active\n",
    "\n",
    "# 选取单元格范围\n",
    "df = pd.DataFrame(sheet['B5':'E10'])\n",
    "\n",
    "def modify_style(cell):\n",
    "    # 设置样式\n",
    "    bold_font = Font(size=14, bold=True, color='FF0000')\n",
    "    yellow_fill = PatternFill(start_color='00FF00',\n",
    "                          end_color='00FF00',\n",
    "                          fill_type='solid')\n",
    "    # 修改样式\n",
    "    cell.font = bold_font\n",
    "    cell.fill = yellow_fill\n",
    "\n",
    "# 应用修改样式\n",
    "df.map(modify_style)\n",
    "\n",
    "# 保存修改后的 Excel 文件\n",
    "workbook.save('team_formatted.xlsx')\n",
    "\n",
    "# 关闭 Excel 文件\n",
    "workbook.close()"
   ]
  },
  {
   "cell_type": "code",
   "execution_count": 2,
   "id": "f0c013b9-0223-4bc2-9153-a7dd0e59ace1",
   "metadata": {},
   "outputs": [],
   "source": [
    "from openpyxl import load_workbook\n",
    "from openpyxl.styles import Font, PatternFill, colors\n",
    "import pandas as pd"
   ]
  },
  {
   "cell_type": "code",
   "execution_count": 3,
   "id": "24b3f16a-e38e-41ef-973e-b51b64af4fac",
   "metadata": {},
   "outputs": [
    {
     "data": {
      "text/html": [
       "<div>\n",
       "<style scoped>\n",
       "    .dataframe tbody tr th:only-of-type {\n",
       "        vertical-align: middle;\n",
       "    }\n",
       "\n",
       "    .dataframe tbody tr th {\n",
       "        vertical-align: top;\n",
       "    }\n",
       "\n",
       "    .dataframe thead th {\n",
       "        text-align: right;\n",
       "    }\n",
       "</style>\n",
       "<table border=\"1\" class=\"dataframe\">\n",
       "  <thead>\n",
       "    <tr style=\"text-align: right;\">\n",
       "      <th></th>\n",
       "      <th>0</th>\n",
       "      <th>1</th>\n",
       "      <th>2</th>\n",
       "      <th>3</th>\n",
       "    </tr>\n",
       "  </thead>\n",
       "  <tbody>\n",
       "    <tr>\n",
       "      <th>0</th>\n",
       "      <td>&lt;Cell 'Sheet1'.B5&gt;</td>\n",
       "      <td>&lt;Cell 'Sheet1'.C5&gt;</td>\n",
       "      <td>&lt;Cell 'Sheet1'.D5&gt;</td>\n",
       "      <td>&lt;Cell 'Sheet1'.E5&gt;</td>\n",
       "    </tr>\n",
       "    <tr>\n",
       "      <th>1</th>\n",
       "      <td>&lt;Cell 'Sheet1'.B6&gt;</td>\n",
       "      <td>&lt;Cell 'Sheet1'.C6&gt;</td>\n",
       "      <td>&lt;Cell 'Sheet1'.D6&gt;</td>\n",
       "      <td>&lt;Cell 'Sheet1'.E6&gt;</td>\n",
       "    </tr>\n",
       "    <tr>\n",
       "      <th>2</th>\n",
       "      <td>&lt;Cell 'Sheet1'.B7&gt;</td>\n",
       "      <td>&lt;Cell 'Sheet1'.C7&gt;</td>\n",
       "      <td>&lt;Cell 'Sheet1'.D7&gt;</td>\n",
       "      <td>&lt;Cell 'Sheet1'.E7&gt;</td>\n",
       "    </tr>\n",
       "    <tr>\n",
       "      <th>3</th>\n",
       "      <td>&lt;Cell 'Sheet1'.B8&gt;</td>\n",
       "      <td>&lt;Cell 'Sheet1'.C8&gt;</td>\n",
       "      <td>&lt;Cell 'Sheet1'.D8&gt;</td>\n",
       "      <td>&lt;Cell 'Sheet1'.E8&gt;</td>\n",
       "    </tr>\n",
       "    <tr>\n",
       "      <th>4</th>\n",
       "      <td>&lt;Cell 'Sheet1'.B9&gt;</td>\n",
       "      <td>&lt;Cell 'Sheet1'.C9&gt;</td>\n",
       "      <td>&lt;Cell 'Sheet1'.D9&gt;</td>\n",
       "      <td>&lt;Cell 'Sheet1'.E9&gt;</td>\n",
       "    </tr>\n",
       "    <tr>\n",
       "      <th>5</th>\n",
       "      <td>&lt;Cell 'Sheet1'.B10&gt;</td>\n",
       "      <td>&lt;Cell 'Sheet1'.C10&gt;</td>\n",
       "      <td>&lt;Cell 'Sheet1'.D10&gt;</td>\n",
       "      <td>&lt;Cell 'Sheet1'.E10&gt;</td>\n",
       "    </tr>\n",
       "  </tbody>\n",
       "</table>\n",
       "</div>"
      ],
      "text/plain": [
       "                     0                    1                    2  \\\n",
       "0   <Cell 'Sheet1'.B5>   <Cell 'Sheet1'.C5>   <Cell 'Sheet1'.D5>   \n",
       "1   <Cell 'Sheet1'.B6>   <Cell 'Sheet1'.C6>   <Cell 'Sheet1'.D6>   \n",
       "2   <Cell 'Sheet1'.B7>   <Cell 'Sheet1'.C7>   <Cell 'Sheet1'.D7>   \n",
       "3   <Cell 'Sheet1'.B8>   <Cell 'Sheet1'.C8>   <Cell 'Sheet1'.D8>   \n",
       "4   <Cell 'Sheet1'.B9>   <Cell 'Sheet1'.C9>   <Cell 'Sheet1'.D9>   \n",
       "5  <Cell 'Sheet1'.B10>  <Cell 'Sheet1'.C10>  <Cell 'Sheet1'.D10>   \n",
       "\n",
       "                     3  \n",
       "0   <Cell 'Sheet1'.E5>  \n",
       "1   <Cell 'Sheet1'.E6>  \n",
       "2   <Cell 'Sheet1'.E7>  \n",
       "3   <Cell 'Sheet1'.E8>  \n",
       "4   <Cell 'Sheet1'.E9>  \n",
       "5  <Cell 'Sheet1'.E10>  "
      ]
     },
     "execution_count": 3,
     "metadata": {},
     "output_type": "execute_result"
    }
   ],
   "source": [
    "# 加载 Excel 文件\n",
    "# 文件下载 https://gairuo.com/file/data/team.xlsx\n",
    "workbook = load_workbook('team.xlsx')\n",
    "\n",
    "# 选择工作表\n",
    "sheet = workbook.active\n",
    "\n",
    "# 选取单元格范围\n",
    "df = pd.DataFrame(sheet['B5':'E10'])\n",
    "df"
   ]
  },
  {
   "cell_type": "code",
   "execution_count": null,
   "id": "a695f35d-ec5c-4f23-9a58-272eacd3839d",
   "metadata": {},
   "outputs": [],
   "source": []
  }
 ],
 "metadata": {
  "kernelspec": {
   "display_name": "Python 3 (ipykernel)",
   "language": "python",
   "name": "python3"
  },
  "language_info": {
   "codemirror_mode": {
    "name": "ipython",
    "version": 3
   },
   "file_extension": ".py",
   "mimetype": "text/x-python",
   "name": "python",
   "nbconvert_exporter": "python",
   "pygments_lexer": "ipython3",
   "version": "3.11.5"
  }
 },
 "nbformat": 4,
 "nbformat_minor": 5
}
