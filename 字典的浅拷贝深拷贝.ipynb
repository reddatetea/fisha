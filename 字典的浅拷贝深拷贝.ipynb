{
 "cells": [
  {
   "cell_type": "code",
   "execution_count": 1,
   "id": "912f607c",
   "metadata": {},
   "outputs": [
    {
     "name": "stdout",
     "output_type": "stream",
     "text": [
      "persons1 {'Name': 'Bill', 'age': 30, 'fullName': ['Bill', 'Gates']}\n",
      "persons2 {'Name': 'Bill', 'age': 30, 'fullName': ['Bill', 'Gates']}\n",
      "-------浅层复制---------\n",
      "-------修改第一层元素---------\n",
      "persons1 {'Name': 'Bill', 'age': 30, 'fullName': ['Bill', 'Gates']}\n",
      "persons2 {'Name': 'Bill', 'age': 54, 'fullName': ['Bill', 'Gates']}\n",
      "-------修改第二层元素---------\n",
      "persons1 {'Name': 'Bill', 'age': 30, 'fullName': ['Bill', 'Clinton']}\n",
      "persons2 {'Name': 'Bill', 'age': 54, 'fullName': ['Bill', 'Clinton']}\n",
      "-------深层复制---------\n",
      "persons1 {'Name': 'Bill', 'age': 30, 'fullName': ['Bill', 'Clinton']}\n",
      "persons2 {'Name': 'Bill', 'age': 30, 'fullName': ['Bill', 'Clinton']}\n",
      "persons3 {'Name': 'Bill', 'age': 30, 'fullName': ['Bill', 'Gates']}\n"
     ]
    }
   ],
   "source": [
    "'''\n",
    "copy方法复制的字典只是浅层复制，也就是说只复制第1层的字典数据。\n",
    "至于第2层及以下的所有层，原字典和新字典都指向同一个值，\n",
    "也就是说，不管是修改原字典中的这些元素，还是新字典中的这些元素，\n",
    "原字典和新字典中对应的元素都会同时改变\n",
    "'''\n",
    "persons1= {\"Name\":\"Bill\", \"age\":30, \"fullName\":[\"Bill\", \"Gates\"]}\n",
    "persons2 = persons1.copy()\n",
    "\n",
    "print(\"persons1\",persons1)\n",
    "print(\"persons2\",persons2)\n",
    "print(\"-------浅层复制---------\")\n",
    "print(\"-------修改第一层元素---------\")\n",
    "persons2['age'] = 54\n",
    "print(\"persons1\",persons1)\n",
    "print(\"persons2\",persons2)\n",
    "print(\"-------修改第二层元素---------\")\n",
    "persons2[\"fullName\"][1] = \"Clinton\"\n",
    "print(\"persons1\",persons1)\n",
    "print(\"persons2\",persons2)\n",
    "print(\"-------深层复制---------\")\n",
    "from copy import deepcopy\n",
    "persons1= {\"Name\":\"Bill\", \"age\":30, \"fullName\":[\"Bill\", \"Gates\"]}\n",
    "persons2 = persons1.copy()\n",
    "persons3 = deepcopy(persons1)\n",
    "\n",
    "persons1[\"fullName\"][1] = \"Clinton\"\n",
    "print(\"persons1\", persons1)\n",
    "print(\"persons2\", persons2)\n",
    "print(\"persons3\", persons3)\n"
   ]
  },
  {
   "cell_type": "code",
   "execution_count": null,
   "id": "d1e8a055",
   "metadata": {},
   "outputs": [],
   "source": []
  }
 ],
 "metadata": {
  "kernelspec": {
   "display_name": "Python 3 (ipykernel)",
   "language": "python",
   "name": "python3"
  },
  "language_info": {
   "codemirror_mode": {
    "name": "ipython",
    "version": 3
   },
   "file_extension": ".py",
   "mimetype": "text/x-python",
   "name": "python",
   "nbconvert_exporter": "python",
   "pygments_lexer": "ipython3",
   "version": "3.8.3"
  }
 },
 "nbformat": 4,
 "nbformat_minor": 5
}
