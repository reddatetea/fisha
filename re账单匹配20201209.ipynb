{
 "cells": [
  {
   "cell_type": "code",
   "execution_count": 8,
   "metadata": {},
   "outputs": [
    {
     "name": "stdout",
     "output_type": "stream",
     "text": [
      "<re.Match object; span=(0, 9), match='中百便利22.53'>\n",
      "中百便利\n",
      "22.53\n"
     ]
    }
   ],
   "source": [
    "import re\n",
    "string = r'中百便利22.53'\n",
    "regax = r'(?P<xiangmu>.*?)(?P<jiner>([1-9]\\d*\\.\\d*$)|([1-9]\\d*$))'\n",
    "pattern = re.compile(regax)\n",
    "mat = pattern.search(string)\n",
    "print(mat)\n",
    "xiangmu = mat.group('xiangmu')\n",
    "print(xiangmu)\n",
    "jiner = mat.group('jiner')\n",
    "print(jiner)"
   ]
  },
  {
   "cell_type": "code",
   "execution_count": 13,
   "metadata": {},
   "outputs": [
    {
     "ename": "SyntaxError",
     "evalue": "unmatched ']' (<ipython-input-13-63e1b3bd05fb>, line 3)",
     "output_type": "error",
     "traceback": [
      "\u001b[1;36m  File \u001b[1;32m\"<ipython-input-13-63e1b3bd05fb>\"\u001b[1;36m, line \u001b[1;32m3\u001b[0m\n\u001b[1;33m    regax = r'<a(?=\\s)[^>]*(?<=\\s)href\\s*=\\s*[\\\"']?([^\\\"'\\s]+)[\\\"']?[^>]*>([\\s\\S]+?)</a>'\u001b[0m\n\u001b[1;37m                                                 ^\u001b[0m\n\u001b[1;31mSyntaxError\u001b[0m\u001b[1;31m:\u001b[0m unmatched ']'\n"
     ]
    }
   ],
   "source": [
    "import re\n",
    "string = r'<a href=\"someurl\"data=\"somedata\">'\n",
    "regax = r'<a(?=\\s)[^>]*(?<=\\s)href\\s*=\\s*[\\\"']?([^\\\"'\\s]+)[\\\"']?[^>]*>([\\s\\S]+?)</a>'\n",
    "pattern = re.compile(regax)\n",
    "mat = pattern.search(string)\n",
    "print(mat)"
   ]
  },
  {
   "cell_type": "code",
   "execution_count": null,
   "metadata": {},
   "outputs": [],
   "source": []
  }
 ],
 "metadata": {
  "kernelspec": {
   "display_name": "Python 3",
   "language": "python",
   "name": "python3"
  },
  "language_info": {
   "codemirror_mode": {
    "name": "ipython",
    "version": 3
   },
   "file_extension": ".py",
   "mimetype": "text/x-python",
   "name": "python",
   "nbconvert_exporter": "python",
   "pygments_lexer": "ipython3",
   "version": "3.8.3"
  }
 },
 "nbformat": 4,
 "nbformat_minor": 4
}
