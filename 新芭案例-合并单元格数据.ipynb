{
 "cells": [
  {
   "cell_type": "code",
   "execution_count": 1,
   "id": "1d6f8fa3-dfb6-4e75-bc37-bf9778349d07",
   "metadata": {},
   "outputs": [],
   "source": [
    "import pandas as pd"
   ]
  },
  {
   "cell_type": "code",
   "execution_count": 2,
   "id": "69e3795e-c82e-4255-bdd9-08ce45b28638",
   "metadata": {
    "tags": []
   },
   "outputs": [],
   "source": [
    "df = pd.read_excel('合并单元格数据.xlsx')"
   ]
  },
  {
   "cell_type": "code",
   "execution_count": 3,
   "id": "e4c26ab1-77a9-4f01-b488-921e7704ef4c",
   "metadata": {
    "tags": []
   },
   "outputs": [
    {
     "data": {
      "text/html": [
       "<div>\n",
       "<style scoped>\n",
       "    .dataframe tbody tr th:only-of-type {\n",
       "        vertical-align: middle;\n",
       "    }\n",
       "\n",
       "    .dataframe tbody tr th {\n",
       "        vertical-align: top;\n",
       "    }\n",
       "\n",
       "    .dataframe thead th {\n",
       "        text-align: right;\n",
       "    }\n",
       "</style>\n",
       "<table border=\"1\" class=\"dataframe\">\n",
       "  <thead>\n",
       "    <tr style=\"text-align: right;\">\n",
       "      <th></th>\n",
       "      <th>Unnamed: 0</th>\n",
       "      <th>列标题</th>\n",
       "      <th>Unnamed: 2</th>\n",
       "      <th>Unnamed: 3</th>\n",
       "    </tr>\n",
       "  </thead>\n",
       "  <tbody>\n",
       "    <tr>\n",
       "      <th>0</th>\n",
       "      <td>行标题一</td>\n",
       "      <td>数值</td>\n",
       "      <td>数值</td>\n",
       "      <td>数值</td>\n",
       "    </tr>\n",
       "    <tr>\n",
       "      <th>1</th>\n",
       "      <td>NaN</td>\n",
       "      <td>数值</td>\n",
       "      <td>数值</td>\n",
       "      <td>数值</td>\n",
       "    </tr>\n",
       "    <tr>\n",
       "      <th>2</th>\n",
       "      <td>行标题二</td>\n",
       "      <td>数值</td>\n",
       "      <td>数值</td>\n",
       "      <td>数值</td>\n",
       "    </tr>\n",
       "    <tr>\n",
       "      <th>3</th>\n",
       "      <td>NaN</td>\n",
       "      <td>数值</td>\n",
       "      <td>数值</td>\n",
       "      <td>数值</td>\n",
       "    </tr>\n",
       "  </tbody>\n",
       "</table>\n",
       "</div>"
      ],
      "text/plain": [
       "  Unnamed: 0 列标题 Unnamed: 2 Unnamed: 3\n",
       "0       行标题一  数值         数值         数值\n",
       "1        NaN  数值         数值         数值\n",
       "2       行标题二  数值         数值         数值\n",
       "3        NaN  数值         数值         数值"
      ]
     },
     "execution_count": 3,
     "metadata": {},
     "output_type": "execute_result"
    }
   ],
   "source": [
    "df"
   ]
  },
  {
   "cell_type": "code",
   "execution_count": 4,
   "id": "ab39b925-b9da-4a0f-abae-853f585a409d",
   "metadata": {
    "tags": []
   },
   "outputs": [
    {
     "data": {
      "text/html": [
       "<div>\n",
       "<style scoped>\n",
       "    .dataframe tbody tr th:only-of-type {\n",
       "        vertical-align: middle;\n",
       "    }\n",
       "\n",
       "    .dataframe tbody tr th {\n",
       "        vertical-align: top;\n",
       "    }\n",
       "\n",
       "    .dataframe thead th {\n",
       "        text-align: right;\n",
       "    }\n",
       "</style>\n",
       "<table border=\"1\" class=\"dataframe\">\n",
       "  <thead>\n",
       "    <tr style=\"text-align: right;\">\n",
       "      <th></th>\n",
       "      <th>Unnamed: 0</th>\n",
       "      <th>列标题</th>\n",
       "      <th>Unnamed: 2</th>\n",
       "      <th>Unnamed: 3</th>\n",
       "    </tr>\n",
       "  </thead>\n",
       "  <tbody>\n",
       "    <tr>\n",
       "      <th>0</th>\n",
       "      <td>行标题一</td>\n",
       "      <td>数值</td>\n",
       "      <td>数值</td>\n",
       "      <td>数值</td>\n",
       "    </tr>\n",
       "    <tr>\n",
       "      <th>1</th>\n",
       "      <td>行标题一</td>\n",
       "      <td>数值</td>\n",
       "      <td>数值</td>\n",
       "      <td>数值</td>\n",
       "    </tr>\n",
       "    <tr>\n",
       "      <th>2</th>\n",
       "      <td>行标题二</td>\n",
       "      <td>数值</td>\n",
       "      <td>数值</td>\n",
       "      <td>数值</td>\n",
       "    </tr>\n",
       "    <tr>\n",
       "      <th>3</th>\n",
       "      <td>行标题二</td>\n",
       "      <td>数值</td>\n",
       "      <td>数值</td>\n",
       "      <td>数值</td>\n",
       "    </tr>\n",
       "  </tbody>\n",
       "</table>\n",
       "</div>"
      ],
      "text/plain": [
       "  Unnamed: 0 列标题 Unnamed: 2 Unnamed: 3\n",
       "0       行标题一  数值         数值         数值\n",
       "1       行标题一  数值         数值         数值\n",
       "2       行标题二  数值         数值         数值\n",
       "3       行标题二  数值         数值         数值"
      ]
     },
     "execution_count": 4,
     "metadata": {},
     "output_type": "execute_result"
    }
   ],
   "source": [
    "df.iloc[:, 0] = df.iloc[:, 0].ffill()\n",
    "df"
   ]
  },
  {
   "cell_type": "code",
   "execution_count": 5,
   "id": "8881ae7d-b2cb-47ca-aae9-32cb32179ce7",
   "metadata": {
    "tags": []
   },
   "outputs": [
    {
     "data": {
      "text/plain": [
       "0    列标题\n",
       "1    列标题\n",
       "2    列标题\n",
       "3    列标题\n",
       "dtype: object"
      ]
     },
     "execution_count": 5,
     "metadata": {},
     "output_type": "execute_result"
    }
   ],
   "source": [
    "cols = (\n",
    "    pd.Series(df.columns)\n",
    "    .map(lambda x: pd.NA if 'Unnamed' in x else x)\n",
    "    .ffill()\n",
    "    .bfill()\n",
    ")\n",
    "cols"
   ]
  },
  {
   "cell_type": "code",
   "execution_count": 6,
   "id": "06656a25-dce6-4737-a195-154d0f19148b",
   "metadata": {
    "tags": []
   },
   "outputs": [],
   "source": [
    "df.columns = cols"
   ]
  },
  {
   "cell_type": "code",
   "execution_count": 7,
   "id": "bba80aa4-b57d-495e-a2b2-1274205cbcf2",
   "metadata": {
    "tags": []
   },
   "outputs": [
    {
     "data": {
      "text/html": [
       "<div>\n",
       "<style scoped>\n",
       "    .dataframe tbody tr th:only-of-type {\n",
       "        vertical-align: middle;\n",
       "    }\n",
       "\n",
       "    .dataframe tbody tr th {\n",
       "        vertical-align: top;\n",
       "    }\n",
       "\n",
       "    .dataframe thead th {\n",
       "        text-align: right;\n",
       "    }\n",
       "</style>\n",
       "<table border=\"1\" class=\"dataframe\">\n",
       "  <thead>\n",
       "    <tr style=\"text-align: right;\">\n",
       "      <th></th>\n",
       "      <th>列标题</th>\n",
       "      <th>列标题</th>\n",
       "      <th>列标题</th>\n",
       "      <th>列标题</th>\n",
       "    </tr>\n",
       "  </thead>\n",
       "  <tbody>\n",
       "    <tr>\n",
       "      <th>0</th>\n",
       "      <td>行标题一</td>\n",
       "      <td>数值</td>\n",
       "      <td>数值</td>\n",
       "      <td>数值</td>\n",
       "    </tr>\n",
       "    <tr>\n",
       "      <th>1</th>\n",
       "      <td>行标题一</td>\n",
       "      <td>数值</td>\n",
       "      <td>数值</td>\n",
       "      <td>数值</td>\n",
       "    </tr>\n",
       "    <tr>\n",
       "      <th>2</th>\n",
       "      <td>行标题二</td>\n",
       "      <td>数值</td>\n",
       "      <td>数值</td>\n",
       "      <td>数值</td>\n",
       "    </tr>\n",
       "    <tr>\n",
       "      <th>3</th>\n",
       "      <td>行标题二</td>\n",
       "      <td>数值</td>\n",
       "      <td>数值</td>\n",
       "      <td>数值</td>\n",
       "    </tr>\n",
       "  </tbody>\n",
       "</table>\n",
       "</div>"
      ],
      "text/plain": [
       "    列标题 列标题 列标题 列标题\n",
       "0  行标题一  数值  数值  数值\n",
       "1  行标题一  数值  数值  数值\n",
       "2  行标题二  数值  数值  数值\n",
       "3  行标题二  数值  数值  数值"
      ]
     },
     "execution_count": 7,
     "metadata": {},
     "output_type": "execute_result"
    }
   ],
   "source": [
    "df"
   ]
  },
  {
   "cell_type": "code",
   "execution_count": null,
   "id": "ec0b7d7d-3134-45b4-bcc5-f28aa2877028",
   "metadata": {},
   "outputs": [],
   "source": []
  }
 ],
 "metadata": {
  "kernelspec": {
   "display_name": "Python 3 (ipykernel)",
   "language": "python",
   "name": "python3"
  },
  "language_info": {
   "codemirror_mode": {
    "name": "ipython",
    "version": 3
   },
   "file_extension": ".py",
   "mimetype": "text/x-python",
   "name": "python",
   "nbconvert_exporter": "python",
   "pygments_lexer": "ipython3",
   "version": "3.8.3"
  }
 },
 "nbformat": 4,
 "nbformat_minor": 5
}
