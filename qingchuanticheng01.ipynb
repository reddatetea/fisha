{
 "cells": [
  {
   "cell_type": "code",
   "execution_count": 5,
   "metadata": {},
   "outputs": [
    {
     "name": "stdout",
     "output_type": "stream",
     "text": [
      "{'1<=x<1': [30, 20, 10, 5], '0.95<=x<1': [30, 20, 10, 5], '0.9<=x<0.95': [30, 20, 10, 5], '0.85<=x<0.9': [30, 20, 10, 5]}\n",
      "[30, 20, 10, 5]\n"
     ]
    }
   ],
   "source": [
    "dic1 = {298: {'1<=x<1': [30, 20, 10, 5], '0.95<=x<1': [30, 20, 10, 5], '0.9<=x<0.95': [30, 20, 10, 5], '0.85<=x<0.9': [30, 20, 10, 5]}}\n",
    "print(dic1[298])\n",
    "print(dic1[298]['1<=x<1'])"
   ]
  },
  {
   "cell_type": "code",
   "execution_count": 6,
   "metadata": {},
   "outputs": [
    {
     "name": "stdout",
     "output_type": "stream",
     "text": [
      "[0.95, 1.0]\n"
     ]
    }
   ],
   "source": [
    "a=[0.95, 1.0]\n",
    "b=str(a)\n",
    "print(b)"
   ]
  },
  {
   "cell_type": "code",
   "execution_count": 1,
   "metadata": {},
   "outputs": [
    {
     "name": "stdout",
     "output_type": "stream",
     "text": [
      "{'1': 10, '0.95<=x<1': 5, '0.9<=x<0.95': 3, '0.85<=x<0.9': 2, '0.80<=x<0.85': 1}\n"
     ]
    }
   ],
   "source": [
    "a = {298: {'1': 10, '0.95<=x<1': 5, '0.9<=x<0.95': 3, '0.85<=x<0.9': 2, '0.80<=x<0.85': 1}, 468: {'1': 20, '0.95<=x<1': 15, '0.9<=x<0.95': 10, '0.85<=x<0.9': 5, '0.80<=x<0.85': 1}, 698: {'1': 30, '0.95<=x<1': 20, '0.9<=x<0.95': 10, '0.85<=x<0.9': 5, '0.80<=x<0.85': 2}, 398: {'1': 60, '0.95<=x<1': 50, '0.9<=x<0.95': 30, '0.85<=x<0.9': 5, '0.80<=x<0.85': 3}}\n",
    "b = a.get(298,0)\n",
    "print(b)"
   ]
  },
  {
   "cell_type": "code",
   "execution_count": 4,
   "metadata": {},
   "outputs": [
    {
     "name": "stdout",
     "output_type": "stream",
     "text": [
      "0\n"
     ]
    }
   ],
   "source": [
    "a = {298: {'1': 10, '0.95<=x<1': 5, '0.9<=x<0.95': 3, '0.85<=x<0.9': 2, '0.80<=x<0.85': 1}, 468: {'1': 20, '0.95<=x<1': 15, '0.9<=x<0.95': 10, '0.85<=x<0.9': 5, '0.80<=x<0.85': 1}, 698: {'1': 30, '0.95<=x<1': 20, '0.9<=x<0.95': 10, '0.85<=x<0.9': 5, '0.80<=x<0.85': 2}, 398: {'1': 60, '0.95<=x<1': 50, '0.9<=x<0.95': 30, '0.85<=x<0.9': 5, '0.80<=x<0.85': 3}}\n",
    "b = a.get(298,0).get('10',0)\n",
    "print(b)"
   ]
  },
  {
   "cell_type": "code",
   "execution_count": 7,
   "metadata": {},
   "outputs": [
    {
     "name": "stdout",
     "output_type": "stream",
     "text": [
      "[1, 2, 3, 4, 5]\n"
     ]
    }
   ],
   "source": [
    "a=[1,2,3]\n",
    "b=[4,5]\n",
    "a.extend(b)\n",
    "print(a)"
   ]
  },
  {
   "cell_type": "code",
   "execution_count": 8,
   "metadata": {},
   "outputs": [
    {
     "name": "stdout",
     "output_type": "stream",
     "text": [
      "['1']\n"
     ]
    }
   ],
   "source": [
    "a = '1'\n",
    "b = a.split('<=x<')\n",
    "print(b)"
   ]
  },
  {
   "cell_type": "code",
   "execution_count": 9,
   "metadata": {},
   "outputs": [
    {
     "name": "stdout",
     "output_type": "stream",
     "text": [
      "['0.95', '1']\n"
     ]
    }
   ],
   "source": [
    "a = '0.95<=x<1'\n",
    "b = a.split('<=x<')\n",
    "print(b)"
   ]
  },
  {
   "cell_type": "code",
   "execution_count": null,
   "metadata": {},
   "outputs": [],
   "source": []
  }
 ],
 "metadata": {
  "kernelspec": {
   "display_name": "Python 3",
   "language": "python",
   "name": "python3"
  },
  "language_info": {
   "codemirror_mode": {
    "name": "ipython",
    "version": 3
   },
   "file_extension": ".py",
   "mimetype": "text/x-python",
   "name": "python",
   "nbconvert_exporter": "python",
   "pygments_lexer": "ipython3",
   "version": "3.8.5"
  }
 },
 "nbformat": 4,
 "nbformat_minor": 4
}
