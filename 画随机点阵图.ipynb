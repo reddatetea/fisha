{
 "cells": [
  {
   "cell_type": "code",
   "execution_count": 7,
   "metadata": {},
   "outputs": [
    {
     "name": "stdout",
     "output_type": "stream",
     "text": [
      "2.54 µs ± 173 ns per loop (mean ± std. dev. of 7 runs, 100000 loops each)\n"
     ]
    },
    {
     "data": {
      "text/plain": [
       "<matplotlib.collections.PathCollection at 0x97992b0>"
      ]
     },
     "execution_count": 7,
     "metadata": {},
     "output_type": "execute_result"
    }
   ],
   "source": [
    "import numpy as np\n",
    "import matplotlib.pyplot as plt\n",
    "np.random.seed(1)\n",
    "x=np.random.rand(10)\n",
    "y=np.random.rand(10)\n",
    "colors=np.random.rand(10)\n",
    "%timeit area=(40*np.random.rand(20))*2\n",
    "#%matplotlib inline \n",
    "%matplotlib qt\n",
    "plt.scatter(x,y,s=area,c=colors,alpha=0.4)\n",
    "#plt.show()"
   ]
  },
  {
   "cell_type": "code",
   "execution_count": null,
   "metadata": {},
   "outputs": [],
   "source": []
  },
  {
   "cell_type": "markdown",
   "metadata": {},
   "source": [
    "# 这是我的第一个Jupyter程序\n",
    "## (1)写文档，我更好看\n",
    "第二行写入Numpy包，用于计算\n",
    "第四行写入matplotlib包，用于绘图\n",
    "## (2)输出漂亮的公式(LaTeX)，我更酷\n",
    "$x^3-4x$\n",
    "## (3)测试程序的运行时间，我更方便\n",
    "第士四行测试整个代码块的运行时间"
   ]
  },
  {
   "cell_type": "code",
   "execution_count": null,
   "metadata": {},
   "outputs": [],
   "source": []
  }
 ],
 "metadata": {
  "kernelspec": {
   "display_name": "Python 3",
   "language": "python",
   "name": "python3"
  },
  "language_info": {
   "codemirror_mode": {
    "name": "ipython",
    "version": 3
   },
   "file_extension": ".py",
   "mimetype": "text/x-python",
   "name": "python",
   "nbconvert_exporter": "python",
   "pygments_lexer": "ipython3",
   "version": "3.7.3"
  }
 },
 "nbformat": 4,
 "nbformat_minor": 2
}
