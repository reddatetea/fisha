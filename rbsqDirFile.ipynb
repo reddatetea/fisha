{
 "cells": [
  {
   "cell_type": "code",
   "execution_count": null,
   "id": "bdc6765e-8e58-4dd1-9e12-687c5ce7399e",
   "metadata": {},
   "outputs": [],
   "source": [
    "import re\n",
    "import pandas as pd\n",
    "import os\n",
    "\n"
   ]
  },
  {
   "cell_type": "code",
   "execution_count": null,
   "id": "8a13a857-6be1-4027-a5b1-87fba9112345",
   "metadata": {},
   "outputs": [],
   "source": [
    "\n",
    "path0 = r'i:'\n",
    "lst = os.listdir(path0)\n",
    "lst1 = [i  for i in lst if i.startswith('hellorbsq') ]   #  and i.startswith('hellorbsq')\n",
    "data = []\n",
    "# data = [['path','file']]\n",
    "for i in lst1:\n",
    "    path1 = os.path.join(path0,i)\n",
    "    lst2 = os.listdir(path1)\n",
    "    for j in lst2:\n",
    "        path2 = os.path.join(path1,j)\n",
    "        print(path2)\n",
    "        data.append([i,j])\n",
    "data\n",
    "    \n",
    "    \n",
    "        \n",
    "                      \n",
    "                      \n",
    "                      \n",
    "                      \n",
    "                      "
   ]
  },
  {
   "cell_type": "code",
   "execution_count": null,
   "id": "55db5fb1-916f-4879-90b9-c146be2e1d90",
   "metadata": {},
   "outputs": [],
   "source": [
    "df = pd.DataFrame(data,columns = ['path','file'])\n",
    "df"
   ]
  },
  {
   "cell_type": "code",
   "execution_count": null,
   "id": "2b92e5f0-dc18-4e84-9407-731c1d05c64d",
   "metadata": {},
   "outputs": [],
   "source": [
    "df.to_excel('hellorbsqmingxi.xlsx',index = False)"
   ]
  },
  {
   "cell_type": "code",
   "execution_count": null,
   "id": "5e73a3c8-0b60-4d63-b94d-cadfe9849e96",
   "metadata": {},
   "outputs": [],
   "source": []
  }
 ],
 "metadata": {
  "kernelspec": {
   "display_name": "Python 3 (ipykernel)",
   "language": "python",
   "name": "python3"
  },
  "language_info": {
   "codemirror_mode": {
    "name": "ipython",
    "version": 3
   },
   "file_extension": ".py",
   "mimetype": "text/x-python",
   "name": "python",
   "nbconvert_exporter": "python",
   "pygments_lexer": "ipython3",
   "version": "3.11.8"
  }
 },
 "nbformat": 4,
 "nbformat_minor": 5
}
