{
 "cells": [
  {
   "cell_type": "code",
   "execution_count": null,
   "id": "fd7895c8-d2d3-4a2a-a7b0-45dcdb1d8169",
   "metadata": {},
   "outputs": [],
   "source": [
    "import pandas as pd\n",
    "\n",
    "fname_content = r\"F:\\programs\\存货.xlsx\"\n",
    "df_content = pd.read_excel(fname_content)\n",
    "df_content['content'] = df_content['计量单位'].map(addBen)\n",
    "content_dic = dict(zip(df_content['存货编码'].to_list(), df_content['content'].to_list()))\n",
    "\n",
    "content_dic"
   ]
  }
 ],
 "metadata": {
  "kernelspec": {
   "display_name": "Python 3 (ipykernel)",
   "language": "python",
   "name": "python3"
  },
  "language_info": {
   "codemirror_mode": {
    "name": "ipython",
    "version": 3
   },
   "file_extension": ".py",
   "mimetype": "text/x-python",
   "name": "python",
   "nbconvert_exporter": "python",
   "pygments_lexer": "ipython3",
   "version": "3.11.5"
  }
 },
 "nbformat": 4,
 "nbformat_minor": 5
}
