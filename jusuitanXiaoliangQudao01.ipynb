{
 "cells": [
  {
   "cell_type": "code",
   "execution_count": 1,
   "id": "4e606fc0-47e8-4ede-b499-e6a86d5ab0ef",
   "metadata": {},
   "outputs": [
    {
     "data": {
      "text/plain": [
       "'\\n聚水潭中各平台销售-按上月26号至本月25日\\n2025-3-1新增按渠道汇总，\\n'"
      ]
     },
     "execution_count": 1,
     "metadata": {},
     "output_type": "execute_result"
    }
   ],
   "source": [
    "'''\n",
    "聚水潭中各平台销售-按上月26号至本月25日\n",
    "2025-3-1新增按渠道汇总，\n",
    "'''"
   ]
  },
  {
   "cell_type": "code",
   "execution_count": 2,
   "id": "76afa4bd-e5a4-404e-908d-a75460e393a8",
   "metadata": {},
   "outputs": [
    {
     "name": "stderr",
     "output_type": "stream",
     "text": [
      "C:\\Users\\redda\\.conda\\envs\\py313\\Lib\\site-packages\\openpyxl\\styles\\stylesheet.py:237: UserWarning: Workbook contains no default style, apply openpyxl's default\n",
      "  warn(\"Workbook contains no default style, apply openpyxl's default\")\n"
     ]
    }
   ],
   "source": [
    "import pandas as pd\n",
    "import numpy as np\n",
    "import easygui\n",
    "import openpyxl\n",
    "import os\n",
    "import re\n",
    "lst = ['图片',\n",
    " '商品编码',\n",
    " '款式编码',\n",
    " '商品标签',\n",
    " '供应商',\n",
    " '供应商款号',\n",
    " '供应商商品编码',\n",
    " '颜色规格',\n",
    " '商品简称',\n",
    " '商品名称',\n",
    " '商品品牌',\n",
    " '产品分类',\n",
    " '虚拟分类',\n",
    " '成本价',\n",
    " '销售数量',\n",
    " '价格为零的商品数量',\n",
    " '实发数量',\n",
    " '实发金额',\n",
    " '销售金额',\n",
    " '销售成本',\n",
    " '实发成本',\n",
    " '销售毛利',\n",
    " '销售毛利率',\n",
    " '销售均价',\n",
    " '退货数量',\n",
    " '实退数量',\n",
    " '退货金额',\n",
    " '退货成本',\n",
    " '实退成本',\n",
    " '实退金额',\n",
    " '退货毛利',\n",
    " '净销量',\n",
    " '净销售额',\n",
    " '净销售成本',\n",
    " '净销售毛利',\n",
    " '基本金额',\n",
    " '已付金额',\n",
    " '优惠金额',\n",
    " '运费收入',\n",
    " '运费支出',\n",
    " '净毛利率',\n",
    " '其它价格1',\n",
    " '其它价格2',\n",
    " '其它价格3',\n",
    " '其它价格4',\n",
    " '其它价格5',\n",
    " '其它属性1',\n",
    " '其它属性2',\n",
    " '其它属性3',\n",
    " '其它属性4',\n",
    " '其它属性5',\n",
    " '基本售价']\n",
    "fname0 = easygui.fileopenbox('请点选本月\"销售主题分析按渠道\"文件')\n",
    "# def getXiaoshou(file):\n",
    "df0 = pd.read_excel(fname0) \n",
    "df0 = df0[~df0['类型'].isnull()]\n",
    "df1 = df0.copy()\n",
    "df1.insert(0,'平台','')\n",
    "df1 = df1.assign(平台 = np.where(df1['类型'] == '自有店铺',df1['渠道'],df1['类型']))\n",
    "#请输入期间\n",
    "qijian = easygui.enterbox('请输入期间，\"2024-01\"')\n",
    "df1.insert(0,'期间',qijian)\n",
    "df1['收入'] = round(df1['净销售额']/1.13,2)\n",
    "df1['成本'] = round(df1['净销售成本']/1.13,2)\n",
    "\n",
    "#是否附加到原始数据中\n",
    "fname = r\"F:\\a00nutstore\\008\\zww08\\电商\\聚水潭\\聚水潭按渠道汇总\\聚水潭按渠道汇总.xlsx\"\n",
    "isno = easygui.boolbox('是否将本期销售数据添加到原始数据中去')\n",
    "if isno:\n",
    "    \n",
    "    df_0 = pd.read_excel(fname,sheet_name = '原始数据')\n",
    "    max_row = df_0.shape[0]\n",
    "    with pd.ExcelWriter(fname, engine='openpyxl', mode='a', if_sheet_exists='overlay') as writer:\n",
    "        df1.to_excel(writer, sheet_name='原始数据', startrow=max_row + 1, header=False, index=False)\n",
    "\n",
    "else :\n",
    "    df1.to_excel(f'销售主题分析_渠道汇总-{qijian}.xlsx',index = False)\n",
    "os.startfile(fname)"
   ]
  },
  {
   "cell_type": "code",
   "execution_count": 11,
   "id": "22e9cc65-dbad-4aa8-bb8a-f3bd7b5d5463",
   "metadata": {},
   "outputs": [],
   "source": [
    "os.chdir(r'F:\\a00nutstore\\008\\zww08\\电商\\聚水潭\\聚水潭按渠道汇总')"
   ]
  },
  {
   "cell_type": "code",
   "execution_count": null,
   "id": "6e1859b3-19b0-47b7-ae76-c43c05552a3a",
   "metadata": {},
   "outputs": [],
   "source": []
  }
 ],
 "metadata": {
  "kernelspec": {
   "display_name": "Python 3 (ipykernel)",
   "language": "python",
   "name": "python3"
  },
  "language_info": {
   "codemirror_mode": {
    "name": "ipython",
    "version": 3
   },
   "file_extension": ".py",
   "mimetype": "text/x-python",
   "name": "python",
   "nbconvert_exporter": "python",
   "pygments_lexer": "ipython3",
   "version": "3.13.1"
  }
 },
 "nbformat": 4,
 "nbformat_minor": 5
}
