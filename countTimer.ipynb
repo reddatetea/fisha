{
 "cells": [
  {
   "cell_type": "code",
   "execution_count": 1,
   "id": "d962adba-a750-4d70-ada6-ae34eaf5a7c8",
   "metadata": {},
   "outputs": [
    {
     "name": "stdout",
     "output_type": "stream",
     "text": [
      "Total execution time: 0.023829 seconds\n"
     ]
    }
   ],
   "source": [
    "import time\n",
    "\n",
    "class Timer:\n",
    "    def __enter__(self):\n",
    "        # 记录开始时间\n",
    "        self.start_time = time.time()\n",
    "        return self\n",
    "\n",
    "    def __exit__(self, exc_type, exc_value, traceback):\n",
    "        # 记录结束时间\n",
    "        self.end_time = time.time()\n",
    "\n",
    "        # 计算总运行时间并输出\n",
    "        total_time = self.end_time - self.start_time\n",
    "        print(f'Total execution time: {total_time:.6f} seconds')\n",
    "\n",
    "# 示例用法\n",
    "with Timer():\n",
    "    # 在这个代码块中可以放入你想要计时的任何代码\n",
    "    # 例如，这里放入一个简单的循环作为示例\n",
    "    for _ in range(1000000):\n",
    "        pass"
   ]
  },
  {
   "cell_type": "code",
   "execution_count": 5,
   "id": "fda82bc7-4a70-48be-84bc-167de394523c",
   "metadata": {},
   "outputs": [
    {
     "name": "stdout",
     "output_type": "stream",
     "text": [
      "zhang-wen-wei\n",
      "Total execution time: 0.007759 seconds\n"
     ]
    }
   ],
   "source": [
    "with Timer():\n",
    "    from xpinyin import Pinyin\n",
    "    p = Pinyin()\n",
    "    name = '张文伟'\n",
    "    name_pinyin = p.get_pinyin(name)\n",
    "    print(name_pinyin)"
   ]
  },
  {
   "cell_type": "code",
   "execution_count": 6,
   "id": "0832d697-281a-4f6d-a6ff-6619f61e0c1b",
   "metadata": {},
   "outputs": [
    {
     "name": "stdout",
     "output_type": "stream",
     "text": [
      "Total execution time: 0.022300 seconds\n",
      "zhang-wen-wei\n",
      "Total execution time: 0.018838 seconds\n"
     ]
    }
   ],
   "source": [
    "from xpinyin import Pinyin\n",
    "import countTimer\n",
    "\n",
    "with countTimer.Timer():\n",
    "    p = Pinyin()\n",
    "    name = \"张文伟\"\n",
    "    name_pinyin = p.get_pinyin(name)\n",
    "    print(name_pinyin)"
   ]
  },
  {
   "cell_type": "code",
   "execution_count": null,
   "id": "f9ff0e4a-3d06-44ca-b632-3e6237180082",
   "metadata": {},
   "outputs": [],
   "source": []
  }
 ],
 "metadata": {
  "kernelspec": {
   "display_name": "Python 3 (ipykernel)",
   "language": "python",
   "name": "python3"
  },
  "language_info": {
   "codemirror_mode": {
    "name": "ipython",
    "version": 3
   },
   "file_extension": ".py",
   "mimetype": "text/x-python",
   "name": "python",
   "nbconvert_exporter": "python",
   "pygments_lexer": "ipython3",
   "version": "3.11.5"
  }
 },
 "nbformat": 4,
 "nbformat_minor": 5
}
