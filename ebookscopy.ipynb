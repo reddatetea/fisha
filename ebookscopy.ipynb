{
 "cells": [
  {
   "cell_type": "code",
   "execution_count": 1,
   "id": "7a6222ca",
   "metadata": {},
   "outputs": [],
   "source": [
    "import os\n",
    "import easygui\n",
    "import re"
   ]
  },
  {
   "cell_type": "code",
   "execution_count": 2,
   "id": "6a024bab",
   "metadata": {},
   "outputs": [],
   "source": [
    "src_path = easygui.diropenbox('请点选源路径')"
   ]
  },
  {
   "cell_type": "code",
   "execution_count": 3,
   "id": "254188f2",
   "metadata": {},
   "outputs": [
    {
     "data": {
      "text/plain": [
       "'E:\\\\电子书转换后'"
      ]
     },
     "execution_count": 3,
     "metadata": {},
     "output_type": "execute_result"
    }
   ],
   "source": [
    "src_path"
   ]
  },
  {
   "cell_type": "code",
   "execution_count": 10,
   "id": "b302d425",
   "metadata": {},
   "outputs": [],
   "source": [
    "ebooks = set()"
   ]
  },
  {
   "cell_type": "code",
   "execution_count": 12,
   "id": "b8578996",
   "metadata": {},
   "outputs": [],
   "source": [
    "ebooks.add('ha')"
   ]
  },
  {
   "cell_type": "code",
   "execution_count": 13,
   "id": "124d7e9c",
   "metadata": {},
   "outputs": [
    {
     "data": {
      "text/plain": [
       "{'ha'}"
      ]
     },
     "execution_count": 13,
     "metadata": {},
     "output_type": "execute_result"
    }
   ],
   "source": [
    "ebooks"
   ]
  },
  {
   "cell_type": "code",
   "execution_count": 14,
   "id": "d6bec34e",
   "metadata": {},
   "outputs": [
    {
     "data": {
      "text/plain": [
       "False"
      ]
     },
     "execution_count": 14,
     "metadata": {},
     "output_type": "execute_result"
    }
   ],
   "source": [
    "'.xls' == '.XLS'"
   ]
  },
  {
   "cell_type": "code",
   "execution_count": 15,
   "id": "3029907a",
   "metadata": {},
   "outputs": [
    {
     "data": {
      "text/plain": [
       "'.xls'"
      ]
     },
     "execution_count": 15,
     "metadata": {},
     "output_type": "execute_result"
    }
   ],
   "source": [
    "'.XLS'.lower()"
   ]
  },
  {
   "cell_type": "code",
   "execution_count": 19,
   "id": "1dad29c1",
   "metadata": {},
   "outputs": [],
   "source": [
    "import os\n",
    "import shutil\n",
    "target_dir = r'L:\\电子书转换后'\n",
    "os.chdir(target_dir)\n",
    "for each_file in os.listdir(os.curdir):\n",
    "    shutil.rmtree(each_file)"
   ]
  },
  {
   "cell_type": "code",
   "execution_count": null,
   "id": "62b118c9",
   "metadata": {},
   "outputs": [],
   "source": []
  }
 ],
 "metadata": {
  "kernelspec": {
   "display_name": "Python 3 (ipykernel)",
   "language": "python",
   "name": "python3"
  },
  "language_info": {
   "codemirror_mode": {
    "name": "ipython",
    "version": 3
   },
   "file_extension": ".py",
   "mimetype": "text/x-python",
   "name": "python",
   "nbconvert_exporter": "python",
   "pygments_lexer": "ipython3",
   "version": "3.8.3"
  }
 },
 "nbformat": 4,
 "nbformat_minor": 5
}
