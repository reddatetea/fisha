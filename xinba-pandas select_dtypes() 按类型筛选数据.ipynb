{
 "cells": [
  {
   "cell_type": "code",
   "execution_count": 1,
   "id": "ea076c83-28b6-4969-a382-cad261d4c03b",
   "metadata": {},
   "outputs": [
    {
     "name": "stdout",
     "output_type": "stream",
     "text": [
      "原始数据:\n",
      "   A    B  C      D          E\n",
      "0  1  0.1  a   True 2023-01-01\n",
      "1  2  0.2  b  False 2023-01-02\n",
      "2  3  0.3  c   True 2023-01-03\n",
      "3  4  0.4  d  False 2023-01-04\n"
     ]
    }
   ],
   "source": [
    "import pandas as pd\n",
    "\n",
    "# 创建示例 DataFrame\n",
    "data = {\n",
    "    'A': [1, 2, 3, 4],\n",
    "    'B': [0.1, 0.2, 0.3, 0.4],\n",
    "    'C': ['a', 'b', 'c', 'd'],\n",
    "    'D': [True, False, True, False],\n",
    "    'E': pd.date_range('20230101', periods=4)\n",
    "}\n",
    "df = pd.DataFrame(data)\n",
    "print(\"原始数据:\")\n",
    "print(df)"
   ]
  },
  {
   "cell_type": "code",
   "execution_count": 2,
   "id": "849bca33-a6e0-44f5-b6d6-469af10ed11e",
   "metadata": {},
   "outputs": [
    {
     "name": "stdout",
     "output_type": "stream",
     "text": [
      "数值型列:\n",
      "   A    B\n",
      "0  1  0.1\n",
      "1  2  0.2\n",
      "2  3  0.3\n",
      "3  4  0.4\n"
     ]
    }
   ],
   "source": [
    "df_num = df.select_dtypes(include=['number'])\n",
    "print(\"数值型列:\")\n",
    "print(df_num)\n"
   ]
  },
  {
   "cell_type": "code",
   "execution_count": 3,
   "id": "8ea2d448-7fc1-4a48-8724-198b2def7bcb",
   "metadata": {},
   "outputs": [
    {
     "name": "stdout",
     "output_type": "stream",
     "text": [
      "布尔型列:\n",
      "       D\n",
      "0   True\n",
      "1  False\n",
      "2   True\n",
      "3  False\n"
     ]
    }
   ],
   "source": [
    "df_bool = df.select_dtypes(include=['bool'])\n",
    "print(\"布尔型列:\")\n",
    "print(df_bool)"
   ]
  },
  {
   "cell_type": "code",
   "execution_count": 4,
   "id": "cc18918b-2332-46a8-aa0d-b1a3765901d0",
   "metadata": {},
   "outputs": [
    {
     "name": "stdout",
     "output_type": "stream",
     "text": [
      "排除字符串型列:\n",
      "   A    B      D          E\n",
      "0  1  0.1   True 2023-01-01\n",
      "1  2  0.2  False 2023-01-02\n",
      "2  3  0.3   True 2023-01-03\n",
      "3  4  0.4  False 2023-01-04\n"
     ]
    }
   ],
   "source": [
    "df_no_str = df.select_dtypes(exclude=['object'])\n",
    "print(\"排除字符串型列:\")\n",
    "print(df_no_str)"
   ]
  },
  {
   "cell_type": "code",
   "execution_count": 5,
   "id": "d88577bd-3333-462b-af08-fa278700889a",
   "metadata": {},
   "outputs": [
    {
     "name": "stdout",
     "output_type": "stream",
     "text": [
      "包含数值型和布尔型，但排除 int64 型的列:\n",
      "     B      D\n",
      "0  0.1   True\n",
      "1  0.2  False\n",
      "2  0.3   True\n",
      "3  0.4  False\n"
     ]
    }
   ],
   "source": [
    "df_include_exclude = df.select_dtypes(include=['number', 'bool'],\n",
    "                                      exclude=['int64'])\n",
    "print(\"包含数值型和布尔型，但排除 int64 型的列:\")\n",
    "print(df_include_exclude)"
   ]
  },
  {
   "cell_type": "code",
   "execution_count": null,
   "id": "de69f6fe-e04c-4f5e-bdc1-e65dc7813604",
   "metadata": {},
   "outputs": [],
   "source": []
  }
 ],
 "metadata": {
  "kernelspec": {
   "display_name": "Python 3 (ipykernel)",
   "language": "python",
   "name": "python3"
  },
  "language_info": {
   "codemirror_mode": {
    "name": "ipython",
    "version": 3
   },
   "file_extension": ".py",
   "mimetype": "text/x-python",
   "name": "python",
   "nbconvert_exporter": "python",
   "pygments_lexer": "ipython3",
   "version": "3.11.5"
  }
 },
 "nbformat": 4,
 "nbformat_minor": 5
}
