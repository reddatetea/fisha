'''
对叉车的搬运的工时进行统计
'''
import re
import os
import easygui
import numpy as np
import pandas as pd

YUANGONGS =  ['刘革红', '黄康', '吴长江', '李城', '胡国华', '代朝威']


def chuliRuChu(fname):
    # fname = r"F:\a00nutstore\006\zw\产成品出入库工作记录\仓库日常入库工作记录.xlsx"
    df = pd.read_excel(fname,header = 1)
    df = df.rename(columns = {'货物数量（件）':'jian','货物件数':'jian','日期':'date','车间':'address','单位名称':'address'})
    df = df[[i  for i  in  df.columns.to_list() if (i != '货物数量(托)') and  (i != '序号') and ('Unnamed' not in i)]]
    #删除空行
    df = df[df['jian'].notna()]
    df = df.set_index(['date','address','jian'])
    df = df.stack()
    df = df.reset_index()
    df.columns = ['date','chejian','jian','gongzhong','people']
    df = df[df.people.isin(YUANGONGS)]
    df.gongzhong = df.gongzhong.str.replace('\d+','',regex = True)
    data = []
    gp = df.groupby(['date','chejian','jian','gongzhong'])
    for k,v in gp:
        v = v.assign(jian2 = v.jian/len(v))
        data.append(v)
    df5 = pd.concat(data)
    #原表
    df5.to_excel('叉车搬运工时加工后原表01.xlsx',index = False)
    df6 = df5.assign(fapei = df5.gongzhong.str[:2],gongzhong1 = df5.gongzhong.str[2:])
    df6 = df6[[ 'fapei',
       'gongzhong1','people', 'jian2']]
    pivot = pd.pivot_table(df6,index = ['fapei','gongzhong1','people'],aggfunc = sum)
    pivot1 = pd.pivot_table(df6,index = 'people',columns = ['fapei','gongzhong1'],aggfunc = sum)
    return df6,pivot1
        



#入库
fname = r"F:\a00nutstore\006\zw\产成品出入库工作记录\仓库日常入库工作记录.xlsx"
df_ruku,pivot_ruku = chuliRuChu(fname)
pivot_ruku


#出库
fname = r"F:\a00nutstore\006\zw\产成品出入库工作记录\仓库日常出库工作记录.xlsx"
df_chuku,pivot_chuku = chuliRuChu(fname)
pivot_chuku


df_ruku


df_chuku


total = pd.concat([df_ruku,df_chuku])
total = total.rename(columns = {'fapei':'项目','gongzhong1':'工种','people':'人员','jian2':'件数'})
total = total.astype({'件数':'int'})
total 


pivot= pd.pivot_table(total,index = '人员',columns = ['项目','工种'],aggfunc = sum,margins = True,margins_name = '小计')
pivot


pivot1 = pivot.astype('int')





pivot.to_excel('叉车搬运工时汇总2.xlsx')



