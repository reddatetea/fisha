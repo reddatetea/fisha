import numpy as np
import pandas as pd
import os
import easygui
import openpyxl


def readexcel(fname):
    df = pd.read_excel(fname,dtype = {'订单号':'str','Offer_ID':'str', 'SKU_ID':'str'})
    return df

def alibabaXiaoshouMingxi(fname):
    df = pd.read_excel(fname,dtype = {'订单号':'str','Offer_ID':'str', 'SKU_ID':'str'})
    col1s = ['订单号','卖家公司名称', '卖家会员名','订单状态', '订单创建时间', '订单付款时间', '收货人姓名', '收货地址', '邮编',
       '联系手机',  '货运公司', '运单号']
    col2s = ['货品总价', '运费（元）', '商家改价（元）',
           '实付款（元）']
    for col in col1s:
        df[col] =  df[col].ffill()
    for col in col2s :
        df[col] = df[col].fillna(0)
    return df

def gethuohao(df0,df1):
    df1 = df1[~df1['订单号'].isin(df0['订单号'].to_list())]
    df = pd.concat([df0,df1])
    return df
    
def getZhuangtai(df):
    df = df[(df['订单状态'] == '已收货') | (df['订单状态'] == '交易成功')]
    return df

fname0 = r"F:\a00nutstore\008\zw08\电商\阿里巴巴1688\阿里巴巴订单中没有品名(1).xlsx"
fname = r"F:\a00nutstore\008\zw08\电商\阿里巴巴1688\阿里巴巴202240726-20241031.xlsx"
df0 = readexcel(fname0)
df1 = alibabaXiaoshouMingxi(fname)
df = gethuohao(df0,df1)
df = getZhuangtai(df)
df




pivot = df.pivot_table(index = '单品货号',values = ['数量','货品总价','运费（元）','商家改价（元）','实付款（元）'] ,aggfunc = 'sum')
pivot = pivot.reset_index()
total = pivot.sum().to_frame().T
result = pd.concat([pivot,total])
result.iloc[-1,0] = '小计'
result =  result[['单品货号','数量','货品总价','运费（元）','商家改价（元）','实付款（元）']]




result.to_excel('阿里巴巴销售明细表按品名汇总0726-1031.xlsx',index = False)



