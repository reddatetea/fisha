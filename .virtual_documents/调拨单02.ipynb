'''
Tcloud调拨单
'''
import os
import datetime
import easygui
import numpy as np
import pandas as pd
import openpyxl
from openpyxl.styles import Font, Border, Side, Fill, Alignment
import formatPainter
import re



def getDiaobo(fname_diaobo):
    df_diaobo = pd.read_excel(fname_diaobo)
    df_diaobo = df_diaobo.iloc[:-1]
    df_diaobo  = df_diaobo[['存货名称','规格型号','调出仓库','调入仓库','数量（本）','数量2（件）']]
    dic_diaobo = dict(zip(['存货名称', '规格型号', '调出仓库', '调入仓库', '数量（本）', '数量2（件）'],['code', 'stock', '调出仓库', '调入仓库', 'ben', 'jian']))
    df_diaobo = df_diaobo.rename(columns = dic_diaobo)
    #调拨入库
    df_diaobo_ruku = df_diaobo.loc[df_diaobo['调入仓库'] == '发货仓库']
    df_diaobo_ruku = df_diaobo_ruku[['code', 'stock',  'ben', 'jian']]
    df_diaobo_ruku.columns = ['code', 'stock',  'diaobo_ruku_ben', 'diaobo_ruku_jian']
    #调拨出库
    df_diaobo_chuku = df_diaobo.loc[df_diaobo['调出仓库'] == '发货仓库']
    df_diaobo_chuku = df_diaobo_chuku[['code', 'stock',  'ben', 'jian']]
    df_diaobo_chuku.columns = ['code', 'stock',  'diaobo_chku_ben', 'diaobo_chuku_jian']
    df_diaobo_chuku
    return df_diaobo_ruku,df_diaobo_chuku



fname_diaobo = r"F:\a00nutstore\006\zw\产成品日报表\2024年\2024年9月\9月5日\产成品库存调整\调拨单.xlsx"
df_diaobo_ruku,df_diaobo_chuku = getDiaobo(fname_diaobo)
