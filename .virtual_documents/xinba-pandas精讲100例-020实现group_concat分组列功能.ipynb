import pandas as pd


df = pd.DataFrame({'x':list("ABACB"),
                   'y':[1,2,1,2,3]})
df


(
  df.astype(str)
    .groupby('x')  
    .apply(lambda g:  ','.join(g.y),include_groups = False)
    .to_frame('y')
    .reset_index()
)


(
  df.astype(str)
    .groupby('x')  
    .agg(lambda s:  ','.join(s))
    .reset_index()

)


#获取每组数据数
(
  df.groupby('x')  
    .agg(len)
    .y
    .to_dict()

)



