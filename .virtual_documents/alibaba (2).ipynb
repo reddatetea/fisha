import numpy as np
import pandas as pd
import os
import easygui
import openpyxl


def alibabaXiaoshouMingxi(fname):
    
    df = pd.read_excel(fname,dtype = {'订单号':'str','Offer_ID':'str', 'SKU_ID':'str'})
    col1s = ['订单号','卖家公司名称', '卖家会员名','订单状态', '订单创建时间', '订单付款时间', '收货人姓名', '收货地址', '邮编',
       '联系手机',  '货运公司', '运单号']
    col2s = ['货品总价', '运费（元）', '商家改价（元）',
           '实付款（元）']
    for col in col1s:
        df[col] =  df[col].ffill()
    for col in col2s :
        df[col] = df[col].fillna(0)
    return df

fname = r"F:\a00nutstore\008\zw08\电商\阿里巴巴1688\近三月阿里巴巴销售明细2024-9-23.xlsx"

df = alibabaXiaoshouMingxi(fname)
df
    





df.columns






df


df.to_excel('1111.xlsx')



