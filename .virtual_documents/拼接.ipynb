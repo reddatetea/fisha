name = 'tangtang'
age = '12'
info = [name,age]
a = ''.join(info)
print(a)
print(type(a))



name = 'tangtang'
age = '12'
info = name,age
b = ''.join(info)
print(type(b))




