import pandas as pd
import io

data = '''
工资月份    入职日期
2024-10-31  2022-12-09   
2024-10-31  2016-10-17   
2024-10-31  2022-06-01   
2024-10-31  2024-04-15   
2024-10-31  2022-03-14   
2024-10-31  2018-10-08   
2024-10-31  2023-02-01   
2024-10-31  2020-03-23 
'''

df = pd.read_csv(io.StringIO(data), sep=r'\s+')
df


#py311运行不了，估计需要升级到PY312
(
    df.astype({'工资月份':'datetime64[ns]'
               ,'入职日期':'datetime64[ns]'})
    .eval('工资月份-入职日期')
    
)


(
    df.astype({'工资月份': 'datetime64[ns]',
               '入职日期': 'datetime64[ns]'})
    # .eval('工资月份 - 入职日期')
    # 365.25 是平均的一年天数，考虑了平年和闰年
    # .div(pd.Timedelta(days=365.25))
    # .round(2)
)


df =  df.astype({'工资月份': 'datetime64[ns]',
               '入职日期': 'datetime64[ns]'})
df


df['工资月份'] - df['入职日期']


(df['工资月份'] - df['入职日期']).div(pd.Timedelta(days=365.25)).round(2)


df1 = df.assign(工龄 = (df['工资月份'] - df['入职日期']).div(pd.Timedelta(days=365.25)).round(2) )
df1



#错误示例
(df['工资月份'] - df['入职日期']).div(365)




