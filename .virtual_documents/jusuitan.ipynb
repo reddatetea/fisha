'''
聚水潭仓库盘存表，与产成品仓库盘存表对比
'''
import os
import datetime
import easygui
import numpy as np
import pandas as pd
import openpyxl
import re


col_lst = ['单据日期','业务类型','单据编号','单据类型','仓库','存货分类编码','存货分类','存货编码','存货','规格型号','入库数量',
 '入库数量2',
 '入库计量单位组合',
 '入库金额',
 '出库数量',
 '出库数量2']

fname = r"F:\a00nutstore\008\zw08\电商\聚水潭\聚水潭11月19日起截止11月21日盘存表(1).xlsx"
# msg = '请点选出入库流水'
# fname = easygui.fileopenbox(msg)
path,_ = os.path.split(fname)
os.chdir(path)
df = pd.read_excel(fname, skiprows = 1) #,dtype= {'Unnamed: 6':str}
df
# df = df.iloc[:, 1:]
# df.columns = col_lst
# df = df[~df['存货编码'].isnull()]
# df1 = df[['存货分类编码','存货编码','存货','规格型号','入库数量2']]





df1 = df[['商品编码','实际库存数']]
df1.columns = ['code','dianshang']
df1 = df1[df1.dianshang != 0]
df1


lst = ['仓库编码',
       '仓库',
       '存货分类 (1级)',
       '存货分类 (2级)',
       '存货分类 (3级)',
       '存货分类 (4级)',
       '存货分类 (5级)',
       '存货编码',
       '存货',
       '存货代码',
       '数量(主单位)',
       '平均单价',
       '金额',
       '数量(辅单位)',
       '计量单位组合',
       '数量(主单位).1',
       '平均单价.1',
       '金额.1',
       '数量(辅单位).1',
       '计量单位组合.1',
       '数量(主单位).2',
       '平均单价.2',
       '金额.2',
       '数量(辅单位).2',
       '计量单位组合.2',
       '数量(主单位).3',
       '平均单价.3',
       '金额.3',
       '辅数量',
       '计量单位组合.3']

lst2 = [
    'store',
    'num',
    'class01',
    'class02',
    'class03',
    'class04',
    'class05',
    'code',
    'stock',
    'content',
    'begin_ben',
    '平均单价',
    '金额',
    'begin_jian',
    '计量单位组合',
    'ruku_ben',
    '平均单价.1',
    '金额.1',
    'ruku_jian',
    '计量单位组合.1',
    'chuku_ben',
    '平均单价.2',
    '金额.2',
    'chuku_jian',
    '计量单位组合.2',
    'end_ben',
    '平均单价.3',
    '金额.3',
    'end_jian',
    '计量单位组合.3']

lst3 = [
    'class02',
    'class05',
    'code',
    'stock',
    'content',
    'begin_ben',
    'ruku_ben',
    'chuku_ben',
    'end_ben',
]

lst01_yesterday = [
    'class02',
    'class05',
    'code',
    'stock',
    'begin_jian',
    'ruku_jian',
    'chuku_jian',
]
lst02_yesterday = [
    'class02',
    'class05',
    'code',
    'stock',
    'yesterday_jian',
    'yesterday_ruku',
    'yesterday_chuku',

]
lst_merge = ['class02', 'class05', 'code', 'stock',
             'content',
             'begin_jian', 'yesterday_jian',
             'yesterday_ruku', 'ruku_jian',
             'yesterday_chuku', 'chuku_jian',
             'end_jian']

lst_result0 = ['class05', 'code', 'stock',
               'content',
               'begin_jian', 'yesterday_jian',
               'yesterday_ruku', 'ruku_jian',
               'yesterday_chuku', 'chuku_jian',
               'end_jian']

lst_result = ['类别', '货号', '品名',
              '含量',
              '月初', '上日',
              '本日入库', '入库累计',
              '本日出库', '出库累计',
              '结余']


def chuli(fname):
    df = pd.read_excel(fname, skiprows=7)
    df = df.iloc[:, 1:]
    df.columns = lst
    df.columns = lst2
    df = df.loc[(df.store == '002') | (df.store == '003')]

    df['content'] = df['end_ben'] / df['end_jian']
    df = df[df['store'] != '制表人:']
    df = df[df['store'] != '合计：']
    df = df[df['store'].notnull()]
    df = df.iloc[:, 2:]
    df = df[lst3]
    return df
fname_daku = r"F:\a00nutstore\008\zw08\电商\聚水潭\收发存汇总表-电商20241125.xlsx"
df_daku = chuli(fname_daku)
df_daku


df_daku = df_daku[['code','stock','end_ben']]
df_daku = df_daku[~df_daku.end_ben.isnull()]
df_daku = df_daku[df_daku.end_ben != 0]
df_daku


df_diff = pd.merge(df1,df_daku,how='outer')
df_diff['dianshang'] = df_diff['dianshang'].fillna(0)
df_diff['end_ben'] = df_diff['end_ben'].fillna(0)
df_diff['diff'] = df_diff.end_ben - df_diff.dianshang
df_diff


df_diff = df_diff[['code','stock','dianshang','end_ben','diff']]
df_diff.loc['合计','code'] =  ''
df_diff.loc['合计','stock'] =  ''
df_diff.loc['合计','dianshang'] =  df_diff['dianshang'].sum()
df_diff.loc['合计','end_ben'] =  df_diff['end_ben'].sum()
df_diff.loc['合计','diff'] =  df_diff['diff'].sum()
df_diff





df_diff.columns  =  ['存货编码','存货名称','聚水潭','大库','差异']
df_diff.to_excel('1111.xlsx')



