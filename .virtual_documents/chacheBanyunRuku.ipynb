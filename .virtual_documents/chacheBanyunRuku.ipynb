'''
对叉车的搬运的工时进行统计
'''
import re
import os
import easygui
import numpy as np
import pandas as pd




fname = r"F:\a00nutstore\006\zw\产成品出入库工作记录\仓库日常入库工作记录.xlsx"
df = pd.read_excel(fname,header = 1)
df = df[[i  for i  in  df.columns.to_list() if (i != '货物数量(托)') and  (i != '序号') and ('Unnamed' not in i)]]
df


#删除空行
df = df[df['货物件数'].notna()]
df


df1 = df.set_index(['日期','车间','货物件数'])
df1


df2 = df1.stack()
df2


df2.to_excel('banyunStack.xlsx')


df2 = df2.reset_index()
df2.columns = ['date','chejian','jian','gongzhong','people']
(
    
    df2.reset_index()
)
df2


df3 = df2.copy()
df3.gongzhong = df3.gongzhong.str.replace('\d+','',regex = True)
df3.gongzhong


df4 = df3.copy()
df4


data = []
gp = df4.groupby(['date','chejian','jian','gongzhong'])
for k,v in gp:
    v = v.assign(jian2 = v.jian/len(v))
    data.append(v)
df5 = pd.concat(data)
df5


df5.to_excel('叉车搬运工时加工后原表2.xlsx',index = False)


df6 = df5.assign(fapei = df5.gongzhong.str[:2],gongzhong1 = df5.gongzhong.str[2:])
df6


df7 = df6[[ 'fapei',
       'gongzhong1','people', 'jian2']]
df7


pivot = pd.pivot_table(df7,index = ['fapei','gongzhong1','people'],aggfunc = sum)
pivot


pivot1 = pd.pivot_table(df7,index = 'people',columns = ['fapei','gongzhong1'],aggfunc = sum)
pivot1



