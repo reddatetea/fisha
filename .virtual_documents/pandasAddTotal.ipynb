import pandas as pd


df = pd.read_clipboard()
df


df1 = df.copy()
total = df1.sum()
total.快递公司 = '合计'
total.快递单号 = ''
total


#方法一
df_total1 = pd.concat([df1,pd.DataFrame(total).T])
df_total1


#方法二
df_total2 = pd.concat([df1,total.to_frame().T])
df_total2


#方法三
df_total5 = pd.concat([df1,df1.sum().rename('合计').to_frame().T])
df_total5


#方法四
dic = dict(total)
dic.update({'快递公司':'小计'})
df_total3 = pd.concat([df1,pd.DataFrame.from_dict(dic,orient = 'index').T])
df_total3


df1.dtypes


dic = dict(df1.dtypes)
dic


for column in df1:
    print(type(df1[column]))


dic['用户实付金额(元)']


df_type = pd.DataFrame.from_dict(dic,orient = 'index').T
df_type 



#方法五
df2 = df1.copy()
df2.loc['合计'] = df2.sum()
df2.loc['合计','快递公司'] = ''
df2.loc['合计','快递单号'] = ''
df2




import numpy as np
np.random.seed(999)
df = pd.DataFrame(np.random)


pd.options.display.precision


get_ipython().run_line_magic('pinfo',  'pd.options')


help(str.isdecimal)



