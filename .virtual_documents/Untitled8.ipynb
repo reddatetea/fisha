import pandas as pd
df = pd.read_csv('https://gairuo.com/file/data/team.csv')
df


df.select_dtypes('number')


df.sum(axis = 1,numeric_only = True)


def func(ser:pd.Series) -> float:
    return (ser.sum() - ser.max() - ser.min())/2


df.assign(foo = df.select_dtypes('number').apply(func,axis = 1))


(
    df.select_dtypes('number')
      .apply(lambda x: x.sort_values()[1:-1].mean(),axis =1)
)


df1 = df.assign(foo = (
    df.select_dtypes('number')
      .apply(lambda x: x.sort_values()[1:-1].mean(),axis =1)
))
df1



