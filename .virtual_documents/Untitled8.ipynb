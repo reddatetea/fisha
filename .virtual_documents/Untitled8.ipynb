import pandas as pd
import numpy as np

df = pd.DataFrame({
    ('A', '1'): [1, 2, 3],
    ('A', '2'): [4, 5, 6],
    ('B', '1'): [7, 8, 9],
    ('B', '2'): [10, 11, 12]
})

df



