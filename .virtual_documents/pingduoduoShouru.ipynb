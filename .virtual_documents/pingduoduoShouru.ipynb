'''
1. 将拼多多收入与订单合并
2. 对收入分别按订单汇总、按存货编码汇总
'''

import easygui
import os
import pandas as pd
import re
import numpy as np




#所有订单
fname_dingdan = r"F:\a00nutstore\008\zw08\电商\拼多多\100306881orders_export2024-09-30-16-58-49.csv"
df_dingdan0 = pd.read_csv(fname_dingdan)
df_dingdan0


df_dingdan1 = df_dingdan0[['订单号','发货时间','商家编码-规格维度','商家实收金额(元)','商品数量(件)']]
df_dingdan1



df_dingdan1.columns = ['dingdanhao','riqi','code','jiner','shuliang']
df_dingdan1[df_dingdan1['dingdanhao'].isnull()]
df_dingdan2 = df_dingdan1.set_index('dingdanhao')


#所有收入
fname_shouru = r"F:\a00nutstore\008\zw08\电商\拼多多\pdd-mall-bill-detail(100306881)_2024-09-30-07-09-49_3.csv"
df_shouru0 = pd.read_csv(fname_shouru,encoding = 'gb18030')
df_shouru0


df_shouru1 = df_shouru0.dropna(thresh = 3)
df_shouru1


string = '2024-09-28售后补偿现金券扣款（订单240923-652476454442206）'
regax = r'（订单(?P<dingdanhao>\d{6}-\d{15})）'
pattern = re.compile(regax)
mat = pattern.search(string)
if mat :
    dingdanhao = mat.group('dingdanhao')
else :
    pass


def getDingdanhao(s):
    mat = pattern.search(string)
    if mat :
        s = mat.group('dingdanhao')
    else :
        s = ''
    return s

    
    


df_shouru1['商户订单号']= df_shouru1['商户订单号'].mask(df_shouru1['商户订单号'].isnull(),df_shouru1['备注'].map(getDingdanhao))
df_shouru1



df_shouru1.columns = ['dingdanhao', 'riqi', 'ru', 'chu', 'leixing', 'beizhu', 'miaoshu']


df_shouru2 = df_shouru1.loc[df_shouru1.leixing != '提现']
df_shouru2


df_shouru2 = df_shouru2.assign(shouru = df_shouru2['ru'] - df_shouru2['chu'])



shouru_pivot =df_shouru2.pivot_table(index = 'dingdanhao',values =['ru','chu','shouru'],aggfunc = np.sum)
shouru_pivot


df_dingdan2


result0 =pd.merge(shouru_pivot,df_dingdan2,left_index = True,right_index = True,how = 'outer')
result0


result0.to_excel('分配前outer-2.xlsx')


df_dingdan2.to_excel('订单号.xlsx')


left = pd.read_clipboard()
left


right = pd.read_clipboard()
right 


test_result = pd.merge(left = left,right = right,how = 'outer')
test_result 


test_result = pd.merge(right = right,left = left,how = 'outer')
test_result 


len(result0.index.unique())


df_dingdan2.to_excel('订单号2.xlsx')



