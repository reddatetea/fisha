'''
1. 将拼多多收入与订单合并
2. 对收入分别按订单汇总、按存货编码汇总
'''

import easygui
import os
import pandas as pd
import re
import numpy as np




#所有订单
fname_dingdan = r"F:\a00nutstore\008\zw08\电商\拼多多\100306881orders_export2024-09-30-16-58-49.csv"
df_dingdan0 = pd.read_csv(fname_dingdan)
df_dingdan0.head()


df_dingdan0.columns.to_list()


dic = {'五': 5,
       '六': 6,
       '七': 7,
       '八': 8,
       '九': 9,
       '十': 10,
       '四': 4,
       '三': 3,
       '二': 2,
       '一': 1}


def addBen(string):
    # string = r'(81本)'
    pattern1 = r'(?P<ben>\d+)本'
    pattern2 = r'(?P<ben>[十九八七六五四三二一])本'
    regexp1 = re.compile(pattern1)
    mat1 = regexp1.search(string)
    regexp2 = re.compile(pattern2)
    mat2 = regexp2.search(string)
    if mat1:
        ben = int(mat1.group('ben'))
    else:
        if mat2:
            ben = dic.get(mat2.group('ben'))
        else:
            ben = 1
    return ben


# df1 = df1[lst]
# df1['含量'] = df1['规格名称'].map(addBen)
# df1 = df1.assign(本数=df1['数量'] * df1['含量'])


df_dingdan1 = df_dingdan0[['订单号','发货时间','商家编码-规格维度','商家实收金额(元)','商品数量(件)','商品规格']]
df_dingdan1.columns = ['dingdanhao','riqi','code','jiner','shuliang','guige']
df_dingdan1[df_dingdan1['dingdanhao'].isnull()]
df_dingdan1['hanliang'] = df_dingdan1['guige'].map(addBen)
df_dingdan1 = df_dingdan1.assign(shuliang=df_dingdan1['shuliang'] * df_dingdan1['hanliang'])
df_dingdan1.head()


df_dingdan2 = df_dingdan1.iloc[:,:5]
df_dingdan2 = df_dingdan2.set_index('dingdanhao')
df_dingdan2.head()


#所有收入
fname_shouru = r"F:\a00nutstore\008\zw08\电商\拼多多\pdd-mall-bill-detail(100306881)_2024-09-30-07-09-49_3.csv"
df_shouru0 = pd.read_csv(fname_shouru,encoding = 'gb18030')
df_shouru0


df_shouru1 = df_shouru0[['商户订单号','发生时间','收入金额（+元）','支出金额（-元）','账务类型','备注','业务描述']]
df_shouru1 = df_shouru1.dropna(thresh = 3)   #至少有三个缺失值 
# df_shouru1['商户订单号'] = df_shouru1['商户订单号'].fillna('888888-888888888888888')



regax = r'（订单(?P<dingdanhao>\d{6}-\d{15})）'
pattern = re.compile(regax)
# mat = pattern.search(string)
def getDingdanhao(s):
    mat = pattern.search(s)
    if mat :
        s = mat.group('dingdanhao')
    else :
        s = ''
    return s


# string = '2024-09-28售后补偿现金券扣款（订单240923-652476454442206）'


# pattern = re.compile(regax)
# mat = pattern.search(string)
# if mat :
#     dingdanhao = mat.group('dingdanhao')
# else :
#     pass
# dingdanhao


df_shouru1['商户订单号'].to_excel('商户订单号.xlsx',index = False)


df_shouru1['商户订单号']= df_shouru1['商户订单号'].mask(df_shouru1['商户订单号'].isnull(),df_shouru1['备注'].map(getDingdanhao))




df_shouru1['商户订单号'] = df_shouru1['商户订单号'].replace('','888888-888888888888888')

df_shouru1[df_shouru1['商户订单号'] =='888888-888888888888888']


df_shouru1.columns = ['dingdanhao', 'riqi', 'ru', 'chu', 'leixing', 'beizhu', 'miaoshu']
df_shouru2 = df_shouru1.loc[df_shouru1.leixing != '提现']
df_shouru2 = df_shouru2.assign(shouru = df_shouru2['ru'] - df_shouru2['chu'])
# df_shouru2['dingdanhao'] = df_shouru2['dingdanhao'].fillna('888888-888888888888888')
shouru_pivot =df_shouru2.pivot_table(index = 'dingdanhao',values =['ru','chu','shouru'],aggfunc = np.sum)
shouru_pivot


result0 =pd.merge(shouru_pivot,df_dingdan2,left_index = True,right_index = True,how = 'outer')
result0


#空值填充为0
for i in ['chu','ru','shouru','jiner','shuliang']:
    result0[i] = result0[i].fillna(0)
#code填充
result0['code'] = result0['code'].fillna('8888')

#日期填充
result0['riqi'] = result0['riqi'].replace('\t',None)
result0['riqi'] = result0['riqi'].ffill()
result0['riqi'] = result0['riqi'].bfill()
result0


result0.to_excel('分配前outer-2-6.xlsx')


df_dingdan2.to_excel('订单号-6.xlsx')


# left = pd.read_clipboard()
# right = pd.read_clipboard()
# test_result = pd.merge(left = left,right = right,how = 'outer')
# test_result = pd.merge(right = right,left = left,how = 'outer')
# test_result 


gp = result0.groupby('dingdanhao')
gp


#将订单总金额按各产品的明细销售额进行分配
data = []
for k,v in gp:
    # print(k,v)
    mean = v.shouru.mean()
    total = v['jiner'].sum()
    # print('mean',mean)
    # print('total',total)
    v['result_jiner'] = mean/total*(v.jiner)
    data.append(v)
result1 = pd.concat(data)
result1 
    


result1 = result1.rename({'':'888888-888888888888888'})
result1





result1.to_excel('分配后6.xlsx')



