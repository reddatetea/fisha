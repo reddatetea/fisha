import pandas as pd

df = pd.DataFrame({
    'a': ['a1', 'a2', 'a3'],
    'b': [11, 22, 33],
    'c': [44, 55, 66]
})
df



