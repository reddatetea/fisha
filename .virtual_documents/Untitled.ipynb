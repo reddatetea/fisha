import pandas as pd
import numpy as np

df = pd.DataFrame({'A': [10, 20, 50, 40, 80,],
                   'B': [2, 8, 10, 6, 4, ],
                  })

df


df.index.repeat(3)


df.loc[df.index.repeat(3)]


(
    df.loc[df.index.repeat(3)]
    .iloc[:-3+1] # 删除最后三个（可为变量），再保留1个，方便以后封装
)


def func(d: pd.DataFrame):
    d.iloc[1:, :] = None
    return d

(
    df.loc[df.index.repeat(3)]
    .iloc[:-3+1]
    .groupby(level=0)
    .apply(func)
)


(
    df.loc[df.index.repeat(3)]
    .iloc[:-3+1]
    .groupby(level=0)
    .apply(func)
    .interpolate()
)


get_ipython().run_line_magic('pinfo',  'pd.Timestamp')



