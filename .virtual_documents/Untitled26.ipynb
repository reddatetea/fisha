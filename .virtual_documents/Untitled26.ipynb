import pandas as pd


fname0 =  r"F:\a00nutstore\006\zw\产成品日报表\2024年\报表20240825\工厂日报表2024-08-24-25原表.xlsx"
df0 = pd.read_excel(fname0,dtype ={'货号':"str"})
df0


fname_ruku = r
df_ruku = 
