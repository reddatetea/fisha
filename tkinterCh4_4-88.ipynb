{
 "cells": [
  {
   "cell_type": "code",
   "execution_count": null,
   "id": "b5602071",
   "metadata": {},
   "outputs": [],
   "source": [
    "from tkinter import *\n",
    "\n",
    "counter = 0\n",
    "def run_counter(digit):\n",
    "    def counting():\n",
    "        global counter\n",
    "        counter +=1\n",
    "        digit.config(text=str(counter))\n",
    "        digit.after(1000,counting)\n",
    "    counting()\n",
    "root = Tk()\n",
    "root.title('ch4_4')\n",
    "digit = Label(root,bg='yellow',fg='blue',\\\n",
    "             height  = 3,width =10,\\\n",
    "             font = 'Helvetic 20 bold')\n",
    "digit.pack()\n",
    "run_counter(digit)\n",
    "Button(root,text = '结束',width = 15,command = root.destroy).pack(pady  = 10)\n",
    "root.mainloop()"
   ]
  },
  {
   "cell_type": "code",
   "execution_count": null,
   "id": "4384ac2e",
   "metadata": {},
   "outputs": [],
   "source": []
  }
 ],
 "metadata": {
  "kernelspec": {
   "display_name": "Python 3 (ipykernel)",
   "language": "python",
   "name": "python3"
  },
  "language_info": {
   "codemirror_mode": {
    "name": "ipython",
    "version": 3
   },
   "file_extension": ".py",
   "mimetype": "text/x-python",
   "name": "python",
   "nbconvert_exporter": "python",
   "pygments_lexer": "ipython3",
   "version": "3.11.4"
  }
 },
 "nbformat": 4,
 "nbformat_minor": 5
}
